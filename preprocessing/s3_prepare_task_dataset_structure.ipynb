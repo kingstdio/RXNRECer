{
 "cells": [
  {
   "attachments": {},
   "cell_type": "markdown",
   "id": "2287d9df-a1b8-4fc7-8373-01ab1721225d",
   "metadata": {},
   "source": [
    "# Prepare Datasets for Protein Reaction Benchmarking Tasks\n",
    "\n",
    "> author: Shizhenkun   \n",
    "> email: zhenkun.shi@tib.cas.cn   \n",
    "> date: 2024-12-14  \n",
    "\n"
   ]
  },
  {
   "attachments": {},
   "cell_type": "markdown",
   "id": "6c6db9dd-5c89-423e-8131-b2e5b4c01618",
   "metadata": {},
   "source": [
    "## 1. Import packages"
   ]
  },
  {
   "cell_type": "code",
   "execution_count": 1,
   "id": "8fd276ba-aec4-4edf-a2d1-682a15233476",
   "metadata": {
    "tags": []
   },
   "outputs": [
    {
     "name": "stdout",
     "output_type": "stream",
     "text": [
      "INFO: Pandarallel will run on 128 workers.\n",
      "INFO: Pandarallel will use Memory file system to transfer data between the main process and workers.\n"
     ]
    }
   ],
   "source": [
    "import sys,os\n",
    "sys.path.insert(0, os.path.dirname(os.path.realpath('__file__')))\n",
    "sys.path.insert(1,'../')\n",
    "from config import conf as cfg\n",
    "from tools import filetool as ftool\n",
    "from tools import bioFunctionLib as bfl\n",
    "from tools import uniprottool as uptool\n",
    "from tools import rheatool as rheatool\n",
    "from tools import ectool as etool\n",
    "from tqdm import tqdm\n",
    "from IPython.display import display_markdown\n",
    "from pandarallel import pandarallel # 导入pandaralle\n",
    "pandarallel.initialize(progress_bar=False)\n",
    "from tkinter import _flatten\n",
    "import json\n",
    "import shutil\n",
    "import subprocess\n",
    "import swifter\n",
    "import pandas as pd\n",
    "import numpy as np\n",
    "\n",
    "FIRST_TIME_RUN = False # For the initial run, please set this flag to True. This will allow the program to download data from UniProt and RHEA, which may take longer depending on your internet speed.\n",
    "\n",
    "%load_ext autoreload\n",
    "%autoreload 2"
   ]
  },
  {
   "cell_type": "markdown",
   "id": "4019aa2e",
   "metadata": {},
   "source": [
    "## 2. 定义处理函数"
   ]
  },
  {
   "cell_type": "code",
   "execution_count": 74,
   "id": "ca1a9820",
   "metadata": {},
   "outputs": [],
   "source": [
    "\n",
    "def cp_pdb(src, dst):\n",
    "    \"\"\"\n",
    "    Copy a PDB file from source to destination, ensuring the destination directory exists.\n",
    "    Returns:\n",
    "        1: if the copy is successful.\n",
    "        0: if the copy fails or the source file does not exist.\n",
    "    \"\"\"\n",
    "\n",
    "    # if not os.path.exists(os.path.dirname(dst)):\n",
    "    #     print(os.path.dirname(dst))\n",
    "    #     os.makedirs(os.path.dirname(dst), exist_ok=True)\n",
    "    \n",
    "    # 复制文件\n",
    "    if os.path.exists(src):\n",
    "        \n",
    "        if not os.path.exists(os.path.dirname(dst)):\n",
    "            os.makedirs(os.path.dirname(dst), exist_ok=True)\n",
    "        \n",
    "        shutil.copy(src, dst)\n",
    "        return True\n",
    "    else:\n",
    "        return False\n",
    "\n",
    "\n",
    "\n",
    "def prep_pdb(uniprot_id):\n",
    "    src = f'/hpcfs/fpublic/database/alphafold/predicted_pdbs/AF-{uniprot_id}-F1-model_v4.pdb.gz'\n",
    "    dst = f'{cfg.DATA_ROOT}structure/pdb/{str(uniprot_id[0:2])}/AF-{uniprot_id}-F1-model_v4.pdb.gz'\n",
    "    res = cp_pdb(src, dst)\n",
    "    # print(res)\n",
    "    \n",
    "    return dst, res\n",
    "\n",
    "def get_pdb_files(directory):\n",
    "    \"\"\"\n",
    "    Get a list of all .pdb files in the specified directory and its subdirectories.\n",
    "\n",
    "    Parameters:\n",
    "    directory (str): The root directory to search for .pdb files.\n",
    "\n",
    "    Returns:\n",
    "    list: A list of paths to .pdb files.\n",
    "    \"\"\"\n",
    "    pdb_files = []\n",
    "    for root, dirs, files in os.walk(directory):  # 遍历目录及子目录\n",
    "        for file in files:\n",
    "            if file.endswith(\".pdb\"):  # 筛选 .pdb 文件\n",
    "                pdb_files.append(os.path.join(root, file))\n",
    "    return pdb_files\n",
    "\n",
    "\n",
    "def download_with_wget(url, dst):\n",
    "    \"\"\"\n",
    "    Download a file using wget and handle errors.\n",
    "\n",
    "    Parameters:\n",
    "    url (str): The URL of the file to download.\n",
    "    dst (str): The destination path to save the file.\n",
    "\n",
    "    Returns:\n",
    "    bool: True if download is successful, False if not.\n",
    "    \"\"\"\n",
    "    try:\n",
    "        # 调用 wget 命令并捕获输出\n",
    "        result = subprocess.run(\n",
    "            [\"wget\", \"-O\", dst, url],\n",
    "            stdout=subprocess.PIPE,  # 捕获标准输出\n",
    "            stderr=subprocess.PIPE,  # 捕获错误输出\n",
    "            text=True  # 输出为文本而非字节\n",
    "        )\n",
    "        \n",
    "        # 检查返回码和输出内容\n",
    "        if result.returncode == 0:\n",
    "            print(f\"File downloaded successfully to {dst}\")\n",
    "            return True\n",
    "        else:\n",
    "            return False\n",
    "    except Exception as e:\n",
    "        print(f\"An unexpected error occurred: {e}\")\n",
    "        return False\n",
    "\n",
    "\n",
    "def get_pdb_file_from_afdb_web(uniprot_id):\n",
    "    src = f'https://alphafold.ebi.ac.uk/files/AF-{uniprot_id}-F1-model_v4.pdb'\n",
    "    dst = f'/hpcfs/fhome/shizhenkun/codebase/RXNRECer/temp/pdb/AF-{uniprot_id}-F1-model_v4.pdb'\n",
    "\n",
    "    download_with_wget(src, dst)\n",
    "\n",
    "\n",
    "def is_file_empty(file_path):\n",
    "    \"\"\"检查文件是否为空\"\"\"\n",
    "    if os.path.isfile(file_path):\n",
    "        size = os.path.getsize(file_path)\n",
    "        if size == 0:\n",
    "            return True\n",
    "        else:\n",
    "            return False\n",
    "    else:\n",
    "        raise FileNotFoundError(f\"文件不存在: {file_path}\")\n",
    "\n",
    "def sup_esm_pdb(uniprot_id):\n",
    "    \"\"\" 将ESM计算的PDB 补充到数据库\"\"\"\n",
    "    ESM_OUTPUT_DIR=f\"{cfg.RESULTS_DIR}intermediate/esmfold/output/\"\n",
    "    res = False\n",
    "    src = f'{ESM_OUTPUT_DIR}{uniprot_id}.pdb'\n",
    "    dst = f'{cfg.DATA_ROOT}structure/pdb/{str(uniprot_id[0:2])}/ESM-{uniprot_id}.pdb'\n",
    "    \n",
    "    if os.path.exists(f'{ESM_OUTPUT_DIR}{uniprot_id}.pdb'):\n",
    "        res = cp_pdb(src, dst)\n",
    "    if res:\n",
    "        return dst\n",
    "    else:\n",
    "        return None"
   ]
  },
  {
   "attachments": {},
   "cell_type": "markdown",
   "id": "901557a4-c496-4608-84e2-3306f6a322e3",
   "metadata": {},
   "source": [
    "## 3. 获取需要计算PDB的所有uniprot_id"
   ]
  },
  {
   "cell_type": "code",
   "execution_count": 3,
   "id": "8fe2ccc2",
   "metadata": {},
   "outputs": [
    {
     "data": {
      "text/html": [
       "<div>\n",
       "<style scoped>\n",
       "    .dataframe tbody tr th:only-of-type {\n",
       "        vertical-align: middle;\n",
       "    }\n",
       "\n",
       "    .dataframe tbody tr th {\n",
       "        vertical-align: top;\n",
       "    }\n",
       "\n",
       "    .dataframe thead th {\n",
       "        text-align: right;\n",
       "    }\n",
       "</style>\n",
       "<table border=\"1\" class=\"dataframe\">\n",
       "  <thead>\n",
       "    <tr style=\"text-align: right;\">\n",
       "      <th></th>\n",
       "      <th>uniprot_id</th>\n",
       "      <th>seq</th>\n",
       "    </tr>\n",
       "  </thead>\n",
       "  <tbody>\n",
       "    <tr>\n",
       "      <th>0</th>\n",
       "      <td>Q6GZX4</td>\n",
       "      <td>MAFSAEDVLKEYDRRRRMEALLLSLYYPNDRKLLDYKEWSPPRVQV...</td>\n",
       "    </tr>\n",
       "    <tr>\n",
       "      <th>1</th>\n",
       "      <td>Q6GZX3</td>\n",
       "      <td>MSIIGATRLQNDKSDTYSAGPCYAGGCSAFTPRGTCGKDWDLGEQT...</td>\n",
       "    </tr>\n",
       "  </tbody>\n",
       "</table>\n",
       "</div>"
      ],
      "text/plain": [
       "  uniprot_id                                                seq\n",
       "0     Q6GZX4  MAFSAEDVLKEYDRRRRMEALLLSLYYPNDRKLLDYKEWSPPRVQV...\n",
       "1     Q6GZX3  MSIIGATRLQNDKSDTYSAGPCYAGGCSAFTPRGTCGKDWDLGEQT..."
      ]
     },
     "execution_count": 3,
     "metadata": {},
     "output_type": "execute_result"
    }
   ],
   "source": [
    "ds_train = pd.read_feather(cfg.FILE_DS_TRAIN)\n",
    "ds_test = pd.read_feather(cfg.FILE_DS_TEST)\n",
    "data_pdb = pd.concat([ds_train, ds_test], axis=0).reset_index(drop=True)[['uniprot_id', 'seq']]\n",
    "data_pdb.head(2)"
   ]
  },
  {
   "cell_type": "markdown",
   "id": "1f9a53c8",
   "metadata": {},
   "source": [
    "## 4. 从已知库里（AF2-DB-V4）匹配绝大多数"
   ]
  },
  {
   "cell_type": "code",
   "execution_count": 8,
   "id": "905ac67e",
   "metadata": {},
   "outputs": [],
   "source": [
    "if FIRST_TIME_RUN:\n",
    "    if not  os.path.exists(cfg.FILE_DS_PDB_LIST):\n",
    "        data_pdb[['path_pdb', 'pdb_exist']] = data_pdb.uniprot_id.swifter.apply(lambda x: pd.Series(prep_pdb(x)))\n",
    "        data_pdb.to_feather(cfg.FILE_DS_PDB_LIST)\n",
    "    else:\n",
    "        data_pdb = pd.read_feather(cfg.FILE_DS_PDB_LIST)\n",
    "else:\n",
    "    data_pdb = pd.read_feather(cfg.FILE_DS_PDB_LIST)"
   ]
  },
  {
   "cell_type": "markdown",
   "id": "fcd21dba",
   "metadata": {},
   "source": [
    "## 5. 从网络用API补充没有pDB的数据，AF2-DB-ONLINE"
   ]
  },
  {
   "cell_type": "code",
   "execution_count": 5,
   "id": "ad1e08cd",
   "metadata": {},
   "outputs": [],
   "source": [
    "if FIRST_TIME_RUN:\n",
    "    # 指定目录\n",
    "    directory = \"/hpcfs/fhome/shizhenkun/codebase/RXNRECer/temp/pdb/\"\n",
    "    pdb_file_list = get_pdb_files(directory)\n",
    "\n",
    "    # 输出文件列表\n",
    "    print(f\"Found {len(pdb_file_list)} .pdb files:\")\n",
    "\n",
    "    #  添加已有数据\n",
    "    for item in tqdm(pdb_file_list): \n",
    "        uniprot_id = item.split('/')[-1].split('-')[1]\n",
    "        \n",
    "        try:\n",
    "            if data_pdb[data_pdb['uniprot_id'] == uniprot_id].pdb_exist.values[0] == False:\n",
    "                dst = f'{cfg.DATA_ROOT}structure/pdb/{str(uniprot_id[0:2])}/AF-{uniprot_id}-F1-model_v4.pdb'\n",
    "                res = cp_pdb(item, dst)\n",
    "                data_pdb.loc[data_pdb['uniprot_id'] == uniprot_id, 'pdb_exist'] = True\n",
    "                data_pdb.loc[data_pdb['uniprot_id'] == uniprot_id, 'path_pdb'] = dst\n",
    "        except Exception as e:\n",
    "            print(f'{uniprot_id}:{e}')\n",
    "\n",
    "    # 回写文件\n",
    "    data_pdb.to_feather(cfg.FILE_DS_PDB_LIST)"
   ]
  },
  {
   "cell_type": "markdown",
   "id": "a2dc6183",
   "metadata": {},
   "source": [
    "## 6. 用ESMFOLD 预测没有的结构"
   ]
  },
  {
   "cell_type": "code",
   "execution_count": null,
   "id": "4487aa46",
   "metadata": {},
   "outputs": [],
   "source": [
    "if FIRST_TIME_RUN:\n",
    "    # 计算需要从官网拿pdb的uniprot_id\n",
    "    need_wget = data_pdb[data_pdb.pdb_exist==False].reset_index(drop=True)\n",
    "\n",
    "    # 从 af2 v4 官网下载pdb结构\n",
    "    tqdm.pandas()\n",
    "    need_wget.uniprot_id.progress_apply(lambda x: get_pdb_file_from_afdb_web(x))\n",
    "\n",
    "\n",
    "    # 检查文件是否完整\n",
    "    data_pdb['pdb_check_ok'] = data_pdb.path_pdb.parallel_apply(lambda x: not is_file_empty(x))\n",
    "    need_esm_fold =data_pdb[data_pdb.pdb_check_ok == False].reset_index(drop=True)\n",
    "\n",
    "    # 制作需要解析PDB的序列文件\n",
    "    NUM_GPU=32\n",
    "    chunks = np.array_split(need_esm_fold, NUM_GPU)\n",
    "\n",
    "    for item in range(len(chunks)):\n",
    "        bfl.table2fasta(table=chunks[item][['uniprot_id', 'seq']].reset_index(drop=True), file_out=f'{cfg.RESULTS_DIR}intermediate/esmfold/input/chunk{item}.fasta')\n",
    "\n",
    "    # seq to pdb\n",
    "    # !sbatch get_esmfold_pdb.sh\n",
    "    \n",
    "    \n",
    "    # 检查文件是否完整\n",
    "    data_pdb['pdb_check_ok'] = data_pdb.path_pdb.parallel_apply(lambda x: not is_file_empty(x))\n",
    "    uniprot_ids_esm_pdb = data_pdb[data_pdb.pdb_check_ok==False].uniprot_id.to_list()\n",
    "\n",
    "    # 添加已经计算好的PDB\n",
    "    for uid in tqdm(uniprot_ids_esm_pdb):\n",
    "        res = sup_esm_pdb(uniprot_id=uid)\n",
    "        if res!=None:\n",
    "            data_pdb.loc[data_pdb['uniprot_id'] == uid, 'path_pdb'] = res\n",
    "\n",
    "    # 回写文件\n",
    "    data_pdb.to_feather(cfg.FILE_DS_PDB_LIST)"
   ]
  },
  {
   "cell_type": "code",
   "execution_count": 76,
   "id": "a32c927a",
   "metadata": {},
   "outputs": [],
   "source": [
    "# 检查文件是否完整\n",
    "data_pdb['pdb_check_ok'] = data_pdb.path_pdb.parallel_apply(lambda x: not is_file_empty(x))\n",
    "need_esm_fold =data_pdb[data_pdb.pdb_check_ok == False].reset_index(drop=True)"
   ]
  },
  {
   "cell_type": "code",
   "execution_count": null,
   "id": "7d99be80",
   "metadata": {},
   "outputs": [],
   "source": [
    "item = 34\n",
    "bfl.table2fasta(table=need_esm_fold[['uniprot_id', 'seq']].reset_index(drop=True), file_out=f'{cfg.RESULTS_DIR}intermediate/esmfold/input/chunk{item}.fasta')\n",
    "! CUDA_VISIBLE_DEVICES=7 singularity exec --nv /hpcfs/fpublic/container/singularity/app/esmfold/esmfold.sif bash /esmfold.sh -i /hpcfs/fhome/shizhenkun/codebase/RXNRECer/results/intermediate/esmfold/input/chunk34.fasta -o /hpcfs/fhome/shizhenkun/codebase/RXNRECer/results/intermediate/esmfold/output/"
   ]
  },
  {
   "cell_type": "code",
   "execution_count": null,
   "id": "e9a7efd5",
   "metadata": {},
   "outputs": [
    {
     "name": "stderr",
     "output_type": "stream",
     "text": [
      "  0%|          | 0/22633 [00:00<?, ?it/s]"
     ]
    },
    {
     "name": "stderr",
     "output_type": "stream",
     "text": [
      "100%|██████████| 22633/22633 [11:52<00:00, 31.77it/s] \n"
     ]
    }
   ],
   "source": []
  },
  {
   "cell_type": "code",
   "execution_count": null,
   "id": "8a2ed923",
   "metadata": {},
   "outputs": [],
   "source": []
  },
  {
   "cell_type": "code",
   "execution_count": 80,
   "id": "d3b51e01",
   "metadata": {},
   "outputs": [
    {
     "data": {
      "text/html": [
       "<div>\n",
       "<style scoped>\n",
       "    .dataframe tbody tr th:only-of-type {\n",
       "        vertical-align: middle;\n",
       "    }\n",
       "\n",
       "    .dataframe tbody tr th {\n",
       "        vertical-align: top;\n",
       "    }\n",
       "\n",
       "    .dataframe thead th {\n",
       "        text-align: right;\n",
       "    }\n",
       "</style>\n",
       "<table border=\"1\" class=\"dataframe\">\n",
       "  <thead>\n",
       "    <tr style=\"text-align: right;\">\n",
       "      <th></th>\n",
       "      <th>uniprot_id</th>\n",
       "      <th>seq</th>\n",
       "      <th>path_pdb</th>\n",
       "      <th>pdb_exist</th>\n",
       "      <th>pdb_check_ok</th>\n",
       "    </tr>\n",
       "  </thead>\n",
       "  <tbody>\n",
       "    <tr>\n",
       "      <th>0</th>\n",
       "      <td>Q197E9</td>\n",
       "      <td>MMESPKYKKSTCSVTNLGGTCILPQKGATAPKAKDVSPELLVNKMD...</td>\n",
       "      <td>/hpcfs/fhome/shizhenkun/codebase/RXNRECer/data...</td>\n",
       "      <td>True</td>\n",
       "      <td>False</td>\n",
       "    </tr>\n",
       "    <tr>\n",
       "      <th>1</th>\n",
       "      <td>Q6GZV6</td>\n",
       "      <td>MATNYCDEFERNPTRNPRTGRTIKRGGPVFRALERECSDGAARVFP...</td>\n",
       "      <td>/hpcfs/fhome/shizhenkun/codebase/RXNRECer/data...</td>\n",
       "      <td>True</td>\n",
       "      <td>False</td>\n",
       "    </tr>\n",
       "    <tr>\n",
       "      <th>2</th>\n",
       "      <td>Q6GZU9</td>\n",
       "      <td>MANFLQDVNCETVSEYDGPDASIPEGVWEGYVGHDHAALWRTWSYI...</td>\n",
       "      <td>/hpcfs/fhome/shizhenkun/codebase/RXNRECer/data...</td>\n",
       "      <td>True</td>\n",
       "      <td>False</td>\n",
       "    </tr>\n",
       "    <tr>\n",
       "      <th>3</th>\n",
       "      <td>Q6GZT5</td>\n",
       "      <td>MRVVVNAKALEVPVGMSFTEWTRTLSPGSSPRFLAWNPVRPRTFKD...</td>\n",
       "      <td>/hpcfs/fhome/shizhenkun/codebase/RXNRECer/data...</td>\n",
       "      <td>True</td>\n",
       "      <td>False</td>\n",
       "    </tr>\n",
       "    <tr>\n",
       "      <th>4</th>\n",
       "      <td>P05080</td>\n",
       "      <td>MANGNFKLSQLLNVDEMSAEQRSHFFDLMLTKPDCEIGQMMQRVVV...</td>\n",
       "      <td>/hpcfs/fhome/shizhenkun/codebase/RXNRECer/data...</td>\n",
       "      <td>True</td>\n",
       "      <td>False</td>\n",
       "    </tr>\n",
       "    <tr>\n",
       "      <th>...</th>\n",
       "      <td>...</td>\n",
       "      <td>...</td>\n",
       "      <td>...</td>\n",
       "      <td>...</td>\n",
       "      <td>...</td>\n",
       "    </tr>\n",
       "    <tr>\n",
       "      <th>2701</th>\n",
       "      <td>Q9FCY7</td>\n",
       "      <td>MRLNLHATEKKTTVQNVENPNNSTIPPLQQGSSSSAPQASGGTLAS...</td>\n",
       "      <td>/hpcfs/fhome/shizhenkun/codebase/RXNRECer/data...</td>\n",
       "      <td>True</td>\n",
       "      <td>False</td>\n",
       "    </tr>\n",
       "    <tr>\n",
       "      <th>2702</th>\n",
       "      <td>A0A7L9EYL1</td>\n",
       "      <td>MSGQDPVKESGQREPIAVVGSGFRFPGSSNNPSKLWDLLVKPRDLL...</td>\n",
       "      <td>/hpcfs/fhome/shizhenkun/codebase/RXNRECer/data...</td>\n",
       "      <td>True</td>\n",
       "      <td>False</td>\n",
       "    </tr>\n",
       "    <tr>\n",
       "      <th>2703</th>\n",
       "      <td>A0A9P5GG56</td>\n",
       "      <td>MPGGVRDLPALWEFLKEQKDVHREFDEPRFSAKGFSHPNPDRPGTA...</td>\n",
       "      <td>/hpcfs/fhome/shizhenkun/codebase/RXNRECer/data...</td>\n",
       "      <td>True</td>\n",
       "      <td>False</td>\n",
       "    </tr>\n",
       "    <tr>\n",
       "      <th>2704</th>\n",
       "      <td>B6H999</td>\n",
       "      <td>MTAPWPVKHDPIALVGIGCHMPGGVRDIPALWEFLRKQKDVHREFD...</td>\n",
       "      <td>/hpcfs/fhome/shizhenkun/codebase/RXNRECer/data...</td>\n",
       "      <td>True</td>\n",
       "      <td>False</td>\n",
       "    </tr>\n",
       "    <tr>\n",
       "      <th>2705</th>\n",
       "      <td>J9VQH1</td>\n",
       "      <td>MSPLLPTHWGASAPQNEPTLPSPSHSVSTRVGDEEKLRRSEGSDGE...</td>\n",
       "      <td>/hpcfs/fhome/shizhenkun/codebase/RXNRECer/data...</td>\n",
       "      <td>True</td>\n",
       "      <td>False</td>\n",
       "    </tr>\n",
       "  </tbody>\n",
       "</table>\n",
       "<p>2706 rows × 5 columns</p>\n",
       "</div>"
      ],
      "text/plain": [
       "      uniprot_id                                                seq  \\\n",
       "0         Q197E9  MMESPKYKKSTCSVTNLGGTCILPQKGATAPKAKDVSPELLVNKMD...   \n",
       "1         Q6GZV6  MATNYCDEFERNPTRNPRTGRTIKRGGPVFRALERECSDGAARVFP...   \n",
       "2         Q6GZU9  MANFLQDVNCETVSEYDGPDASIPEGVWEGYVGHDHAALWRTWSYI...   \n",
       "3         Q6GZT5  MRVVVNAKALEVPVGMSFTEWTRTLSPGSSPRFLAWNPVRPRTFKD...   \n",
       "4         P05080  MANGNFKLSQLLNVDEMSAEQRSHFFDLMLTKPDCEIGQMMQRVVV...   \n",
       "...          ...                                                ...   \n",
       "2701      Q9FCY7  MRLNLHATEKKTTVQNVENPNNSTIPPLQQGSSSSAPQASGGTLAS...   \n",
       "2702  A0A7L9EYL1  MSGQDPVKESGQREPIAVVGSGFRFPGSSNNPSKLWDLLVKPRDLL...   \n",
       "2703  A0A9P5GG56  MPGGVRDLPALWEFLKEQKDVHREFDEPRFSAKGFSHPNPDRPGTA...   \n",
       "2704      B6H999  MTAPWPVKHDPIALVGIGCHMPGGVRDIPALWEFLRKQKDVHREFD...   \n",
       "2705      J9VQH1  MSPLLPTHWGASAPQNEPTLPSPSHSVSTRVGDEEKLRRSEGSDGE...   \n",
       "\n",
       "                                               path_pdb  pdb_exist  \\\n",
       "0     /hpcfs/fhome/shizhenkun/codebase/RXNRECer/data...       True   \n",
       "1     /hpcfs/fhome/shizhenkun/codebase/RXNRECer/data...       True   \n",
       "2     /hpcfs/fhome/shizhenkun/codebase/RXNRECer/data...       True   \n",
       "3     /hpcfs/fhome/shizhenkun/codebase/RXNRECer/data...       True   \n",
       "4     /hpcfs/fhome/shizhenkun/codebase/RXNRECer/data...       True   \n",
       "...                                                 ...        ...   \n",
       "2701  /hpcfs/fhome/shizhenkun/codebase/RXNRECer/data...       True   \n",
       "2702  /hpcfs/fhome/shizhenkun/codebase/RXNRECer/data...       True   \n",
       "2703  /hpcfs/fhome/shizhenkun/codebase/RXNRECer/data...       True   \n",
       "2704  /hpcfs/fhome/shizhenkun/codebase/RXNRECer/data...       True   \n",
       "2705  /hpcfs/fhome/shizhenkun/codebase/RXNRECer/data...       True   \n",
       "\n",
       "      pdb_check_ok  \n",
       "0            False  \n",
       "1            False  \n",
       "2            False  \n",
       "3            False  \n",
       "4            False  \n",
       "...            ...  \n",
       "2701         False  \n",
       "2702         False  \n",
       "2703         False  \n",
       "2704         False  \n",
       "2705         False  \n",
       "\n",
       "[2706 rows x 5 columns]"
      ]
     },
     "execution_count": 80,
     "metadata": {},
     "output_type": "execute_result"
    }
   ],
   "source": [
    "need_esm_fold\n"
   ]
  },
  {
   "cell_type": "code",
   "execution_count": null,
   "id": "f4f16e4d",
   "metadata": {},
   "outputs": [],
   "source": []
  },
  {
   "cell_type": "code",
   "execution_count": 60,
   "id": "42c8c0da",
   "metadata": {},
   "outputs": [
    {
     "data": {
      "text/plain": [
       "'/hpcfs/fhome/shizhenkun/codebase/RXNRECer/data/structure/pdb/Q6/ESM-Q6GZX3.pdb'"
      ]
     },
     "execution_count": 60,
     "metadata": {},
     "output_type": "execute_result"
    }
   ],
   "source": [
    "sup_esm_pdb(uniprot_id=data_pdb[data_pdb.pdb_check_ok==False].uniprot_id[1])"
   ]
  },
  {
   "cell_type": "code",
   "execution_count": 50,
   "id": "d83b8b29",
   "metadata": {},
   "outputs": [
    {
     "name": "stdout",
     "output_type": "stream",
     "text": [
      "-rw-r--r-- 1 shizhenkun hpcadmin 192K Dec 16 13:33 /hpcfs/fhome/shizhenkun/codebase/RXNRECer/data/structure/pdb/Q6/ESM-Q6GZX3.pdb\n"
     ]
    }
   ],
   "source": [
    "! ls -lht /hpcfs/fhome/shizhenkun/codebase/RXNRECer/data/structure/pdb/Q6/ESM-Q6GZX3.pdb\n"
   ]
  },
  {
   "cell_type": "code",
   "execution_count": null,
   "id": "67cd7074",
   "metadata": {},
   "outputs": [],
   "source": []
  },
  {
   "cell_type": "code",
   "execution_count": null,
   "id": "29d29997",
   "metadata": {},
   "outputs": [],
   "source": []
  },
  {
   "cell_type": "code",
   "execution_count": null,
   "id": "17355daf",
   "metadata": {},
   "outputs": [],
   "source": []
  },
  {
   "cell_type": "code",
   "execution_count": null,
   "id": "e04d1fcc",
   "metadata": {},
   "outputs": [],
   "source": []
  },
  {
   "cell_type": "code",
   "execution_count": 28,
   "id": "9f004ab0",
   "metadata": {},
   "outputs": [
    {
     "data": {
      "text/plain": [
       "64.0"
      ]
     },
     "execution_count": 28,
     "metadata": {},
     "output_type": "execute_result"
    }
   ],
   "source": [
    "512/8"
   ]
  }
 ],
 "metadata": {
  "kernelspec": {
   "display_name": "rxnrecer",
   "language": "python",
   "name": "python3"
  },
  "language_info": {
   "codemirror_mode": {
    "name": "ipython",
    "version": 3
   },
   "file_extension": ".py",
   "mimetype": "text/x-python",
   "name": "python",
   "nbconvert_exporter": "python",
   "pygments_lexer": "ipython3",
   "version": "3.10.14"
  },
  "toc-autonumbering": false,
  "toc-showmarkdowntxt": false,
  "toc-showtags": false,
  "widgets": {
   "application/vnd.jupyter.widget-state+json": {
    "state": {},
    "version_major": 2,
    "version_minor": 0
   }
  }
 },
 "nbformat": 4,
 "nbformat_minor": 5
}
