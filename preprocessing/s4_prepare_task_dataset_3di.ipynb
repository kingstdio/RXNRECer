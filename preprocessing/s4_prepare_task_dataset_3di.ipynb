{
 "cells": [
  {
   "attachments": {},
   "cell_type": "markdown",
   "id": "2287d9df-a1b8-4fc7-8373-01ab1721225d",
   "metadata": {},
   "source": [
    "# Prepare 3Di for Protein Reaction Benchmarking Tasks\n",
    "\n",
    "> author: Shizhenkun   \n",
    "> email: zhenkun.shi@tib.cas.cn   \n",
    "> date: 2024-12-19  \n",
    "\n"
   ]
  },
  {
   "attachments": {},
   "cell_type": "markdown",
   "id": "6c6db9dd-5c89-423e-8131-b2e5b4c01618",
   "metadata": {},
   "source": [
    "## 1. Import packages"
   ]
  },
  {
   "cell_type": "code",
   "execution_count": 27,
   "id": "8fd276ba-aec4-4edf-a2d1-682a15233476",
   "metadata": {
    "tags": []
   },
   "outputs": [
    {
     "name": "stdout",
     "output_type": "stream",
     "text": [
      "INFO: Pandarallel will run on 128 workers.\n",
      "INFO: Pandarallel will use Memory file system to transfer data between the main process and workers.\n",
      "The autoreload extension is already loaded. To reload it, use:\n",
      "  %reload_ext autoreload\n"
     ]
    }
   ],
   "source": [
    "import sys,os\n",
    "sys.path.insert(0, os.path.dirname(os.path.realpath('__file__')))\n",
    "sys.path.insert(1,'../')\n",
    "from config import conf as cfg\n",
    "from tools import rheatool as rheatool\n",
    "from modules.structure.Tdi import Tdi\n",
    "from tools import  bioFunctionLib as bfl\n",
    "from pandarallel import pandarallel # 导入pandaralle\n",
    "pandarallel.initialize(progress_bar=False)\n",
    "from tkinter import _flatten\n",
    "import subprocess\n",
    "import h5py\n",
    "import pandas as pd\n",
    "import numpy as np\n",
    "import swifter\n",
    "\n",
    "FIRST_TIME_RUN = False # For the initial run, please set this flag to True. This will allow the program to download data from UniProt and RHEA, which may take longer depending on your internet speed.\n",
    "\n",
    "%load_ext autoreload\n",
    "%autoreload 2"
   ]
  },
  {
   "attachments": {},
   "cell_type": "markdown",
   "id": "901557a4-c496-4608-84e2-3306f6a322e3",
   "metadata": {},
   "source": [
    "## 2. 获取需要计算3DId的所有数据"
   ]
  },
  {
   "cell_type": "code",
   "execution_count": 7,
   "id": "8fe2ccc2",
   "metadata": {},
   "outputs": [
    {
     "name": "stdout",
     "output_type": "stream",
     "text": [
      "Total number of 3DI structures: 522102\n"
     ]
    },
    {
     "data": {
      "text/html": [
       "<div>\n",
       "<style scoped>\n",
       "    .dataframe tbody tr th:only-of-type {\n",
       "        vertical-align: middle;\n",
       "    }\n",
       "\n",
       "    .dataframe tbody tr th {\n",
       "        vertical-align: top;\n",
       "    }\n",
       "\n",
       "    .dataframe thead th {\n",
       "        text-align: right;\n",
       "    }\n",
       "</style>\n",
       "<table border=\"1\" class=\"dataframe\">\n",
       "  <thead>\n",
       "    <tr style=\"text-align: right;\">\n",
       "      <th></th>\n",
       "      <th>uniprot_id</th>\n",
       "      <th>seq</th>\n",
       "      <th>path_pdb</th>\n",
       "      <th>pdb_exist</th>\n",
       "      <th>pdb_check_ok</th>\n",
       "      <th>pdb_name</th>\n",
       "      <th>cacl_seq</th>\n",
       "      <th>token_3di</th>\n",
       "    </tr>\n",
       "  </thead>\n",
       "  <tbody>\n",
       "    <tr>\n",
       "      <th>0</th>\n",
       "      <td>Q6GZX4</td>\n",
       "      <td>MAFSAEDVLKEYDRRRRMEALLLSLYYPNDRKLLDYKEWSPPRVQV...</td>\n",
       "      <td>/hpcfs/fhome/shizhenkun/codebase/RXNRECer/data...</td>\n",
       "      <td>True</td>\n",
       "      <td>True</td>\n",
       "      <td>ESM-Q6GZX4.pdb</td>\n",
       "      <td>MAFSAEDVLKEYDRRRRMEALLLSLYYPNDRKLLDYKEWSPPRVQV...</td>\n",
       "      <td>DDDDPVNVVVVVVVVLVVVLVVVCVVVVPPCVSVVPPDDDPPPPPP...</td>\n",
       "    </tr>\n",
       "    <tr>\n",
       "      <th>1</th>\n",
       "      <td>Q6GZX3</td>\n",
       "      <td>MSIIGATRLQNDKSDTYSAGPCYAGGCSAFTPRGTCGKDWDLGEQT...</td>\n",
       "      <td>/hpcfs/fhome/shizhenkun/codebase/RXNRECer/data...</td>\n",
       "      <td>True</td>\n",
       "      <td>True</td>\n",
       "      <td>ESM-Q6GZX3.pdb</td>\n",
       "      <td>MSIIGATRLQNDKSDTYSAGPCYAGGCSAFTPRGTCGKDWDLGEQT...</td>\n",
       "      <td>DPPVPVVPPVPDPPPPPPDDVPPDDPPDDDDPDDDPPDDPDDDDPP...</td>\n",
       "    </tr>\n",
       "  </tbody>\n",
       "</table>\n",
       "</div>"
      ],
      "text/plain": [
       "  uniprot_id                                                seq  \\\n",
       "0     Q6GZX4  MAFSAEDVLKEYDRRRRMEALLLSLYYPNDRKLLDYKEWSPPRVQV...   \n",
       "1     Q6GZX3  MSIIGATRLQNDKSDTYSAGPCYAGGCSAFTPRGTCGKDWDLGEQT...   \n",
       "\n",
       "                                            path_pdb  pdb_exist  pdb_check_ok  \\\n",
       "0  /hpcfs/fhome/shizhenkun/codebase/RXNRECer/data...       True          True   \n",
       "1  /hpcfs/fhome/shizhenkun/codebase/RXNRECer/data...       True          True   \n",
       "\n",
       "         pdb_name                                           cacl_seq  \\\n",
       "0  ESM-Q6GZX4.pdb  MAFSAEDVLKEYDRRRRMEALLLSLYYPNDRKLLDYKEWSPPRVQV...   \n",
       "1  ESM-Q6GZX3.pdb  MSIIGATRLQNDKSDTYSAGPCYAGGCSAFTPRGTCGKDWDLGEQT...   \n",
       "\n",
       "                                           token_3di  \n",
       "0  DDDDPVNVVVVVVVVLVVVLVVVCVVVVPPCVSVVPPDDDPPPPPP...  \n",
       "1  DPPVPVVPPVPDPPPPPPDDVPPDDPPDDDDPDDDPPDDPDDDDPP...  "
      ]
     },
     "execution_count": 7,
     "metadata": {},
     "output_type": "execute_result"
    }
   ],
   "source": [
    "data = pd.read_feather(cfg.FILE_DS_3DI_LIST)\n",
    "print(f'Total number of 3DI structures: {len(data)}')\n",
    "data.head(2)"
   ]
  },
  {
   "cell_type": "code",
   "execution_count": 3,
   "id": "4eca69f9",
   "metadata": {},
   "outputs": [],
   "source": [
    "# 转化3Di 文件\n",
    "# !foldseek structureto3didescriptor prot.pdb res_prot.3di --threads 10 \n",
    "if FIRST_TIME_RUN:\n",
    "    data[['pdb_name', 'cacl_seq', 'token_3di', 'matrix_3di']] = data['path_pdb'].swifter.apply(\n",
    "        lambda x: pd.Series([\n",
    "            (result :=  bfl. get_fold_seek_3di(pdb_path=x)).name,   # pdb_name\n",
    "            result.seq,                                  # cacl_seq\n",
    "            result.token_3di,                            # token_3di\n",
    "            result.matrix_3di                            # matrix_3di\n",
    "        ])\n",
    "    )\n",
    "    \n",
    "    # 对特别断的序列填充ACD token\n",
    "    data.loc[data.token_3di=='', 'token_3di']='ACD'\n",
    "    data[data.token_3di=='']"
   ]
  },
  {
   "cell_type": "markdown",
   "id": "a2dc6183",
   "metadata": {},
   "source": [
    "## 3. 用ProstT5 获取结构3Di表示后的结构Embedding"
   ]
  },
  {
   "cell_type": "code",
   "execution_count": 18,
   "id": "2ddce009",
   "metadata": {},
   "outputs": [],
   "source": [
    "# This take very long time, Recommend to use modules/structure/embedProstT5_3di.py with backend process instead.\n",
    "NPICE = 32 \n",
    "if FIRST_TIME_RUN:\n",
    "    \n",
    "    # Split the data into NPICE parts\n",
    "    split_data = np.array_split(data, NPICE)\n",
    "\n",
    "    # Iterate over each split and save as a separate FASTA file\n",
    "    for i, part in enumerate(split_data):\n",
    "        # Create a path for the current fold's FASTA file\n",
    "        fold_fasta_path = os.path.join(cfg.RESULTS_DIR, f'intermediate/foldseek/3diembd/3difold{i+1}.fasta')\n",
    "        \n",
    "        # Save the part to a FASTA file using bfl.table2fasta\n",
    "        bfl.table2fasta(table=part.head(300)[['uniprot_id', 'token_3di']], file_out=fold_fasta_path)\n",
    "        print(f\"Saved part {i + 1} to {fold_fasta_path}\")\n",
    "        \n",
    "#    !sbatch get_t53di_embedding.slurm # 提交脚本"
   ]
  },
  {
   "cell_type": "code",
   "execution_count": 28,
   "id": "a72d55f7",
   "metadata": {},
   "outputs": [],
   "source": [
    "file_3di_embeddings = [f'{cfg.RESULTS_DIR}intermediate/foldseek/3diembd/3difold{i+1}.feather' for i in range(NPICE)]\n",
    "list_3di = [pd.read_feather(file_3di_embeddings[i]) for i in range(NPICE)]\n",
    "tdi_embedding = pd.concat(list_3di, axis=0).reset_index(drop=True)"
   ]
  },
  {
   "cell_type": "code",
   "execution_count": 36,
   "id": "ab8a9ebe",
   "metadata": {},
   "outputs": [],
   "source": [
    "tdi_embedding['tdit5']=tdi_embedding.parallel_apply(lambda x: x[1:].to_list(), axis=1)"
   ]
  },
  {
   "cell_type": "code",
   "execution_count": 38,
   "id": "b74d6635",
   "metadata": {},
   "outputs": [
    {
     "data": {
      "text/html": [
       "<div>\n",
       "<style scoped>\n",
       "    .dataframe tbody tr th:only-of-type {\n",
       "        vertical-align: middle;\n",
       "    }\n",
       "\n",
       "    .dataframe tbody tr th {\n",
       "        vertical-align: top;\n",
       "    }\n",
       "\n",
       "    .dataframe thead th {\n",
       "        text-align: right;\n",
       "    }\n",
       "</style>\n",
       "<table border=\"1\" class=\"dataframe\">\n",
       "  <thead>\n",
       "    <tr style=\"text-align: right;\">\n",
       "      <th></th>\n",
       "      <th>uniprot_id</th>\n",
       "      <th>tdit5</th>\n",
       "    </tr>\n",
       "  </thead>\n",
       "  <tbody>\n",
       "    <tr>\n",
       "      <th>0</th>\n",
       "      <td>Q6UB99</td>\n",
       "      <td>[0.08966064453125, 0.020233154296875, -0.05081...</td>\n",
       "    </tr>\n",
       "    <tr>\n",
       "      <th>1</th>\n",
       "      <td>E9Q4F7</td>\n",
       "      <td>[0.106689453125, 0.036285400390625, -0.0571899...</td>\n",
       "    </tr>\n",
       "    <tr>\n",
       "      <th>2</th>\n",
       "      <td>Q60J38</td>\n",
       "      <td>[0.0367431640625, 0.07501220703125, -0.0414733...</td>\n",
       "    </tr>\n",
       "    <tr>\n",
       "      <th>3</th>\n",
       "      <td>O70511</td>\n",
       "      <td>[0.0312347412109375, 0.037841796875, -0.024276...</td>\n",
       "    </tr>\n",
       "    <tr>\n",
       "      <th>4</th>\n",
       "      <td>Q21920</td>\n",
       "      <td>[0.046478271484375, 0.0693359375, -0.036651611...</td>\n",
       "    </tr>\n",
       "    <tr>\n",
       "      <th>...</th>\n",
       "      <td>...</td>\n",
       "      <td>...</td>\n",
       "    </tr>\n",
       "    <tr>\n",
       "      <th>522097</th>\n",
       "      <td>C0HM49</td>\n",
       "      <td>[0.068603515625, -0.0699462890625, -0.00984954...</td>\n",
       "    </tr>\n",
       "    <tr>\n",
       "      <th>522098</th>\n",
       "      <td>P0DUS0</td>\n",
       "      <td>[0.060516357421875, -0.111572265625, -0.236328...</td>\n",
       "    </tr>\n",
       "    <tr>\n",
       "      <th>522099</th>\n",
       "      <td>P0DPI4</td>\n",
       "      <td>[0.0654296875, -0.110595703125, -0.21801757812...</td>\n",
       "    </tr>\n",
       "    <tr>\n",
       "      <th>522100</th>\n",
       "      <td>C0HLZ5</td>\n",
       "      <td>[0.060516357421875, -0.111572265625, -0.236328...</td>\n",
       "    </tr>\n",
       "    <tr>\n",
       "      <th>522101</th>\n",
       "      <td>P0DPR3</td>\n",
       "      <td>[0.034881591796875, -0.2147216796875, 0.117797...</td>\n",
       "    </tr>\n",
       "  </tbody>\n",
       "</table>\n",
       "<p>522102 rows × 2 columns</p>\n",
       "</div>"
      ],
      "text/plain": [
       "       uniprot_id                                              tdit5\n",
       "0          Q6UB99  [0.08966064453125, 0.020233154296875, -0.05081...\n",
       "1          E9Q4F7  [0.106689453125, 0.036285400390625, -0.0571899...\n",
       "2          Q60J38  [0.0367431640625, 0.07501220703125, -0.0414733...\n",
       "3          O70511  [0.0312347412109375, 0.037841796875, -0.024276...\n",
       "4          Q21920  [0.046478271484375, 0.0693359375, -0.036651611...\n",
       "...           ...                                                ...\n",
       "522097     C0HM49  [0.068603515625, -0.0699462890625, -0.00984954...\n",
       "522098     P0DUS0  [0.060516357421875, -0.111572265625, -0.236328...\n",
       "522099     P0DPI4  [0.0654296875, -0.110595703125, -0.21801757812...\n",
       "522100     C0HLZ5  [0.060516357421875, -0.111572265625, -0.236328...\n",
       "522101     P0DPR3  [0.034881591796875, -0.2147216796875, 0.117797...\n",
       "\n",
       "[522102 rows x 2 columns]"
      ]
     },
     "execution_count": 38,
     "metadata": {},
     "output_type": "execute_result"
    }
   ],
   "source": [
    "tdi_embedding[['uniprot_id', 'tdit5']]"
   ]
  },
  {
   "cell_type": "code",
   "execution_count": 39,
   "id": "ebceccdc",
   "metadata": {},
   "outputs": [],
   "source": [
    "tdi_embedding[['uniprot_id', 'tdit5']].to_feather(cfg.FILE_EMBD_PROTEIN_TDIT5)"
   ]
  },
  {
   "cell_type": "code",
   "execution_count": 40,
   "id": "be823b99",
   "metadata": {},
   "outputs": [
    {
     "data": {
      "text/plain": [
       "42.38166666666667"
      ]
     },
     "execution_count": 40,
     "metadata": {},
     "output_type": "execute_result"
    }
   ],
   "source": [
    "3*50858/60/60"
   ]
  }
 ],
 "metadata": {
  "kernelspec": {
   "display_name": "Python 3",
   "language": "python",
   "name": "python3"
  },
  "language_info": {
   "codemirror_mode": {
    "name": "ipython",
    "version": 3
   },
   "file_extension": ".py",
   "mimetype": "text/x-python",
   "name": "python",
   "nbconvert_exporter": "python",
   "pygments_lexer": "ipython3",
   "version": "3.10.14"
  },
  "toc-autonumbering": false,
  "toc-showmarkdowntxt": false,
  "toc-showtags": false,
  "widgets": {
   "application/vnd.jupyter.widget-state+json": {
    "state": {},
    "version_major": 2,
    "version_minor": 0
   }
  }
 },
 "nbformat": 4,
 "nbformat_minor": 5
}
