{
 "cells": [
  {
   "cell_type": "code",
   "execution_count": 34,
   "id": "3a7707d2",
   "metadata": {},
   "outputs": [
    {
     "name": "stdout",
     "output_type": "stream",
     "text": [
      "The autoreload extension is already loaded. To reload it, use:\n",
      "  %reload_ext autoreload\n"
     ]
    }
   ],
   "source": [
    "import sys,os\n",
    "sys.path.insert(0, f\"{os.path.dirname(os.path.realpath('__file__'))}/../../\")\n",
    "from rxnrecer.config import config as cfg\n",
    "import pandas as pd\n",
    "import numpy as np\n",
    "from types import SimpleNamespace\n",
    "from Bio import SeqIO\n",
    "import torch\n",
    "from rxnrecer.utils import file_utils as futils\n",
    "from rxnrecer.utils import bio_utils as butils\n",
    "from rxnrecer.utils import format_utils as format_utils\n",
    "from rxnrecer.lib.llm import qa as llm_qa\n",
    "from rxnrecer.cli import predict as predictor\n",
    "import argparse\n",
    "import hashlib\n",
    "\n",
    "import json\n",
    "\n",
    "%load_ext autoreload\n",
    "%autoreload 2"
   ]
  },
  {
   "cell_type": "code",
   "execution_count": 46,
   "id": "1d72fc38",
   "metadata": {},
   "outputs": [
    {
     "name": "stdout",
     "output_type": "stream",
     "text": [
      "Detected input is a FASTA file: /hpcfs/fhome/shizhenkun/codebase/rxnrecer_production/data/sample/sample10.fasta\n",
      "Step 1: Preparing input data, loading 10 proteins\n",
      "Step 2: Loading predictive model\n",
      "Use device: cuda\n",
      "Step 3: Running prediction on 10 proteins\n"
     ]
    },
    {
     "name": "stderr",
     "output_type": "stream",
     "text": [
      "  0%|          | 0/1 [00:00<?, ?it/s]"
     ]
    },
    {
     "name": "stdout",
     "output_type": "stream",
     "text": [
      "Running RXNRECer-S1 ...\n"
     ]
    },
    {
     "name": "stderr",
     "output_type": "stream",
     "text": [
      "Predicting reactions: 100%|██████████| 5/5 [00:01<00:00,  3.93it/s]\n"
     ]
    },
    {
     "name": "stdout",
     "output_type": "stream",
     "text": [
      "INFO: Pandarallel will run on 192 workers.\n",
      "INFO: Pandarallel will use Memory file system to transfer data between the main process and workers.\n"
     ]
    },
    {
     "name": "stderr",
     "output_type": "stream",
     "text": [
      "100%|██████████| 1/1 [00:04<00:00,  4.28s/it]\n"
     ]
    },
    {
     "data": {
      "text/html": [
       "<div>\n",
       "<style scoped>\n",
       "    .dataframe tbody tr th:only-of-type {\n",
       "        vertical-align: middle;\n",
       "    }\n",
       "\n",
       "    .dataframe tbody tr th {\n",
       "        vertical-align: top;\n",
       "    }\n",
       "\n",
       "    .dataframe thead th {\n",
       "        text-align: right;\n",
       "    }\n",
       "</style>\n",
       "<table border=\"1\" class=\"dataframe\">\n",
       "  <thead>\n",
       "    <tr style=\"text-align: right;\">\n",
       "      <th></th>\n",
       "      <th>input_id</th>\n",
       "      <th>RXNRECer</th>\n",
       "      <th>RXNRECer_with_prob</th>\n",
       "      <th>rxn_details</th>\n",
       "    </tr>\n",
       "  </thead>\n",
       "  <tbody>\n",
       "    <tr>\n",
       "      <th>0</th>\n",
       "      <td>Q2R560</td>\n",
       "      <td>RHEA:17989;RHEA:46608</td>\n",
       "      <td>{'RHEA:17989': 0.999737, 'RHEA:46608': 0.999734}</td>\n",
       "      <td>[{'reaction_id': 'RHEA:17989', 'prediction_con...</td>\n",
       "    </tr>\n",
       "    <tr>\n",
       "      <th>1</th>\n",
       "      <td>B8NLZ3</td>\n",
       "      <td>RHEA:47004;RHEA:20629</td>\n",
       "      <td>{'RHEA:47004': 0.999973, 'RHEA:20629': 0.999965}</td>\n",
       "      <td>[{'reaction_id': 'RHEA:47004', 'prediction_con...</td>\n",
       "    </tr>\n",
       "    <tr>\n",
       "      <th>2</th>\n",
       "      <td>A0A7U2MSD6</td>\n",
       "      <td>RHEA:47004;RHEA:20629</td>\n",
       "      <td>{'RHEA:47004': 0.999987, 'RHEA:20629': 0.999985}</td>\n",
       "      <td>[{'reaction_id': 'RHEA:47004', 'prediction_con...</td>\n",
       "    </tr>\n",
       "    <tr>\n",
       "      <th>3</th>\n",
       "      <td>A0A179UL48</td>\n",
       "      <td>RHEA:24284</td>\n",
       "      <td>{'RHEA:24284': 0.959327}</td>\n",
       "      <td>[{'reaction_id': 'RHEA:24284', 'prediction_con...</td>\n",
       "    </tr>\n",
       "    <tr>\n",
       "      <th>4</th>\n",
       "      <td>Q88NV1</td>\n",
       "      <td>RHEA:13065</td>\n",
       "      <td>{'RHEA:13065': 0.999621}</td>\n",
       "      <td>[{'reaction_id': 'RHEA:13065', 'prediction_con...</td>\n",
       "    </tr>\n",
       "    <tr>\n",
       "      <th>5</th>\n",
       "      <td>A0QT91</td>\n",
       "      <td>RHEA:13065</td>\n",
       "      <td>{'RHEA:13065': 0.999855}</td>\n",
       "      <td>[{'reaction_id': 'RHEA:13065', 'prediction_con...</td>\n",
       "    </tr>\n",
       "    <tr>\n",
       "      <th>6</th>\n",
       "      <td>P0A6X9|Sample</td>\n",
       "      <td>-</td>\n",
       "      <td>{'-': 0.999994}</td>\n",
       "      <td>[{'reaction_id': '-', 'prediction_confidence':...</td>\n",
       "    </tr>\n",
       "    <tr>\n",
       "      <th>7</th>\n",
       "      <td>P0A6XA|Sample</td>\n",
       "      <td>-</td>\n",
       "      <td>{'-': 0.999994}</td>\n",
       "      <td>[{'reaction_id': '-', 'prediction_confidence':...</td>\n",
       "    </tr>\n",
       "    <tr>\n",
       "      <th>8</th>\n",
       "      <td>P0A6XB|Sample</td>\n",
       "      <td>-</td>\n",
       "      <td>{'-': 0.999994}</td>\n",
       "      <td>[{'reaction_id': '-', 'prediction_confidence':...</td>\n",
       "    </tr>\n",
       "    <tr>\n",
       "      <th>9</th>\n",
       "      <td>P0A6XC|Sample</td>\n",
       "      <td>-</td>\n",
       "      <td>{'-': 0.999994}</td>\n",
       "      <td>[{'reaction_id': '-', 'prediction_confidence':...</td>\n",
       "    </tr>\n",
       "  </tbody>\n",
       "</table>\n",
       "</div>"
      ],
      "text/plain": [
       "        input_id               RXNRECer  \\\n",
       "0         Q2R560  RHEA:17989;RHEA:46608   \n",
       "1         B8NLZ3  RHEA:47004;RHEA:20629   \n",
       "2     A0A7U2MSD6  RHEA:47004;RHEA:20629   \n",
       "3     A0A179UL48             RHEA:24284   \n",
       "4         Q88NV1             RHEA:13065   \n",
       "5         A0QT91             RHEA:13065   \n",
       "6  P0A6X9|Sample                      -   \n",
       "7  P0A6XA|Sample                      -   \n",
       "8  P0A6XB|Sample                      -   \n",
       "9  P0A6XC|Sample                      -   \n",
       "\n",
       "                                 RXNRECer_with_prob  \\\n",
       "0  {'RHEA:17989': 0.999737, 'RHEA:46608': 0.999734}   \n",
       "1  {'RHEA:47004': 0.999973, 'RHEA:20629': 0.999965}   \n",
       "2  {'RHEA:47004': 0.999987, 'RHEA:20629': 0.999985}   \n",
       "3                          {'RHEA:24284': 0.959327}   \n",
       "4                          {'RHEA:13065': 0.999621}   \n",
       "5                          {'RHEA:13065': 0.999855}   \n",
       "6                                   {'-': 0.999994}   \n",
       "7                                   {'-': 0.999994}   \n",
       "8                                   {'-': 0.999994}   \n",
       "9                                   {'-': 0.999994}   \n",
       "\n",
       "                                         rxn_details  \n",
       "0  [{'reaction_id': 'RHEA:17989', 'prediction_con...  \n",
       "1  [{'reaction_id': 'RHEA:47004', 'prediction_con...  \n",
       "2  [{'reaction_id': 'RHEA:47004', 'prediction_con...  \n",
       "3  [{'reaction_id': 'RHEA:24284', 'prediction_con...  \n",
       "4  [{'reaction_id': 'RHEA:13065', 'prediction_con...  \n",
       "5  [{'reaction_id': 'RHEA:13065', 'prediction_con...  \n",
       "6  [{'reaction_id': '-', 'prediction_confidence':...  \n",
       "7  [{'reaction_id': '-', 'prediction_confidence':...  \n",
       "8  [{'reaction_id': '-', 'prediction_confidence':...  \n",
       "9  [{'reaction_id': '-', 'prediction_confidence':...  "
      ]
     },
     "execution_count": 46,
     "metadata": {},
     "output_type": "execute_result"
    }
   ],
   "source": [
    "res_rxnrecer_s1 = predictor.step_by_step_prediction(\n",
    "    input_data=f'{cfg.SAMPLE_DIR}sample10.fasta', \n",
    "    mode='s1',\n",
    "    batch_size=100\n",
    ")\n",
    "res_rxnrecer_s1"
   ]
  },
  {
   "cell_type": "code",
   "execution_count": 31,
   "id": "f5ed9152",
   "metadata": {},
   "outputs": [
    {
     "name": "stdout",
     "output_type": "stream",
     "text": [
      "Detected input is a FASTA file: /hpcfs/fhome/shizhenkun/codebase/rxnrecer_production/data/sample/sample10.fasta\n",
      "Step 1: Preparing input data, loading 10 proteins\n",
      "Step 2: Loading predictive model\n",
      "Use device: cuda\n",
      "Step 3: Running prediction on 10 proteins\n"
     ]
    },
    {
     "name": "stderr",
     "output_type": "stream",
     "text": [
      "  0%|          | 0/1 [00:00<?, ?it/s]"
     ]
    },
    {
     "name": "stdout",
     "output_type": "stream",
     "text": [
      "Running RXNRECer-S1 ...\n"
     ]
    },
    {
     "name": "stderr",
     "output_type": "stream",
     "text": [
      "Predicting reactions: 100%|██████████| 5/5 [00:00<00:00,  5.89it/s]\n"
     ]
    },
    {
     "name": "stdout",
     "output_type": "stream",
     "text": [
      "Running RXNRECer-S2 ...\n",
      "Running MSA ...\n",
      "Running CatFam ...\n",
      "Running ECRECer ...\n",
      "Running T5 ...\n",
      "Transferred model to GPU\n"
     ]
    },
    {
     "name": "stderr",
     "output_type": "stream",
     "text": [
      "100%|██████████| 10/10 [00:00<00:00, 36.76it/s]\n",
      "Processing Sequences: 100%|██████████| 10/10 [00:00<00:00, 27.91it/s]\n"
     ]
    },
    {
     "name": "stdout",
     "output_type": "stream",
     "text": [
      "Processed 10 proteins in 0.36 seconds\n",
      "INFO: Pandarallel will run on 192 workers.\n",
      "INFO: Pandarallel will use Memory file system to transfer data between the main process and workers.\n"
     ]
    },
    {
     "name": "stderr",
     "output_type": "stream",
     "text": [
      "100%|██████████| 1/1 [01:08<00:00, 68.94s/it]\n"
     ]
    },
    {
     "data": {
      "text/html": [
       "<div>\n",
       "<style scoped>\n",
       "    .dataframe tbody tr th:only-of-type {\n",
       "        vertical-align: middle;\n",
       "    }\n",
       "\n",
       "    .dataframe tbody tr th {\n",
       "        vertical-align: top;\n",
       "    }\n",
       "\n",
       "    .dataframe thead th {\n",
       "        text-align: right;\n",
       "    }\n",
       "</style>\n",
       "<table border=\"1\" class=\"dataframe\">\n",
       "  <thead>\n",
       "    <tr style=\"text-align: right;\">\n",
       "      <th></th>\n",
       "      <th>input_id</th>\n",
       "      <th>RXNRECer</th>\n",
       "      <th>RXNRECer_with_prob</th>\n",
       "      <th>rxn_details</th>\n",
       "    </tr>\n",
       "  </thead>\n",
       "  <tbody>\n",
       "    <tr>\n",
       "      <th>0</th>\n",
       "      <td>Q2R560</td>\n",
       "      <td>RHEA:17989;RHEA:46608</td>\n",
       "      <td>{'RHEA:17989': 0.999737, 'RHEA:46608': 0.999734}</td>\n",
       "      <td>[{'reaction_id': 'RHEA:17989', 'prediction_con...</td>\n",
       "    </tr>\n",
       "    <tr>\n",
       "      <th>1</th>\n",
       "      <td>B8NLZ3</td>\n",
       "      <td>RHEA:47004;RHEA:20629;RHEA:17989;RHEA:46608;RH...</td>\n",
       "      <td>{'RHEA:47004': 0.999973, 'RHEA:20629': 0.99996...</td>\n",
       "      <td>[{'reaction_id': 'RHEA:47004', 'prediction_con...</td>\n",
       "    </tr>\n",
       "    <tr>\n",
       "      <th>2</th>\n",
       "      <td>P0A6X5|Sample</td>\n",
       "      <td>-</td>\n",
       "      <td>{'-': 0.999994}</td>\n",
       "      <td>[{'reaction_id': '-', 'prediction_confidence':...</td>\n",
       "    </tr>\n",
       "  </tbody>\n",
       "</table>\n",
       "</div>"
      ],
      "text/plain": [
       "        input_id                                           RXNRECer  \\\n",
       "0         Q2R560                              RHEA:17989;RHEA:46608   \n",
       "1         B8NLZ3  RHEA:47004;RHEA:20629;RHEA:17989;RHEA:46608;RH...   \n",
       "2  P0A6X5|Sample                                                  -   \n",
       "\n",
       "                                  RXNRECer_with_prob  \\\n",
       "0   {'RHEA:17989': 0.999737, 'RHEA:46608': 0.999734}   \n",
       "1  {'RHEA:47004': 0.999973, 'RHEA:20629': 0.99996...   \n",
       "2                                    {'-': 0.999994}   \n",
       "\n",
       "                                         rxn_details  \n",
       "0  [{'reaction_id': 'RHEA:17989', 'prediction_con...  \n",
       "1  [{'reaction_id': 'RHEA:47004', 'prediction_con...  \n",
       "2  [{'reaction_id': '-', 'prediction_confidence':...  "
      ]
     },
     "execution_count": 31,
     "metadata": {},
     "output_type": "execute_result"
    }
   ],
   "source": [
    "res_rxnrecer_s2 = predictor.step_by_step_prediction(\n",
    "    input_data=f'{cfg.SAMPLE_DIR}sample10.fasta', \n",
    "    mode='s2',\n",
    "    batch_size=100\n",
    ")\n",
    "res_rxnrecer_s2.head(3)"
   ]
  },
  {
   "cell_type": "code",
   "execution_count": 33,
   "id": "00f58218",
   "metadata": {},
   "outputs": [
    {
     "name": "stdout",
     "output_type": "stream",
     "text": [
      "Detected input is a FASTA file: /hpcfs/fhome/shizhenkun/codebase/rxnrecer_production/data/sample/sample10.fasta\n",
      "Step 1: Preparing input data, loading 10 proteins\n",
      "Step 2: Loading predictive model\n",
      "Use device: cuda\n",
      "Step 3: Running prediction on 10 proteins\n"
     ]
    },
    {
     "name": "stderr",
     "output_type": "stream",
     "text": [
      "  0%|          | 0/1 [00:00<?, ?it/s]"
     ]
    },
    {
     "name": "stdout",
     "output_type": "stream",
     "text": [
      "Running RXNRECer-S1 ...\n"
     ]
    },
    {
     "name": "stderr",
     "output_type": "stream",
     "text": [
      "Predicting reactions: 100%|██████████| 5/5 [00:00<00:00,  5.11it/s]\n"
     ]
    },
    {
     "name": "stdout",
     "output_type": "stream",
     "text": [
      "Running RXNRECer-S3 ...\n",
      "Running MSA ...\n",
      "Running CatFam ...\n",
      "Running ECRECer ...\n",
      "Running T5 ...\n",
      "Transferred model to GPU\n"
     ]
    },
    {
     "name": "stderr",
     "output_type": "stream",
     "text": [
      "100%|██████████| 10/10 [00:00<00:00, 36.73it/s]\n",
      "Processing Sequences: 100%|██████████| 10/10 [00:00<00:00, 27.83it/s]\n"
     ]
    },
    {
     "name": "stdout",
     "output_type": "stream",
     "text": [
      "Processed 10 proteins in 0.36 seconds\n",
      "INFO: Pandarallel will run on 192 workers.\n",
      "INFO: Pandarallel will use Memory file system to transfer data between the main process and workers.\n",
      "[ERROR] LLM query/parse failed: Error code: 403 - {'error': {'message': 'Provider returned error', 'code': 403, 'metadata': {'raw': '{\"error\":{\"code\":\"unsupported_country_region_territory\",\"message\":\"Country, region, or territory not supported\",\"param\":null,\"type\":\"request_forbidden\"}}', 'provider_name': 'OpenAI'}}, 'user_id': 'user_2gfYzHTIgPxZrpm58SWHnA9evP7'}\n",
      "[ERROR] LLM query/parse failed: Error code: 403 - {'error': {'message': 'Provider returned error', 'code': 403, 'metadata': {'raw': '{\"error\":{\"code\":\"unsupported_country_region_territory\",\"message\":\"Country, region, or territory not supported\",\"param\":null,\"type\":\"request_forbidden\"}}', 'provider_name': 'OpenAI'}}, 'user_id': 'user_2gfYzHTIgPxZrpm58SWHnA9evP7'}\n",
      "[ERROR] LLM query/parse failed: Error code: 403 - {'error': {'message': 'Provider returned error', 'code': 403, 'metadata': {'raw': '{\"error\":{\"code\":\"unsupported_country_region_territory\",\"message\":\"Country, region, or territory not supported\",\"param\":null,\"type\":\"request_forbidden\"}}', 'provider_name': 'OpenAI'}}, 'user_id': 'user_2gfYzHTIgPxZrpm58SWHnA9evP7'}\n",
      "[ERROR] LLM query/parse failed: Error code: 403 - {'error': {'message': 'Provider returned error', 'code': 403, 'metadata': {'raw': '{\"error\":{\"code\":\"unsupported_country_region_territory\",\"message\":\"Country, region, or territory not supported\",\"param\":null,\"type\":\"request_forbidden\"}}', 'provider_name': 'OpenAI'}}, 'user_id': 'user_2gfYzHTIgPxZrpm58SWHnA9evP7'}\n",
      "[ERROR] LLM query/parse failed: Error code: 403 - {'error': {'message': 'Provider returned error', 'code': 403, 'metadata': {'raw': '{\"error\":{\"code\":\"unsupported_country_region_territory\",\"message\":\"Country, region, or territory not supported\",\"param\":null,\"type\":\"request_forbidden\"}}', 'provider_name': 'OpenAI'}}, 'user_id': 'user_2gfYzHTIgPxZrpm58SWHnA9evP7'}\n",
      "[ERROR] LLM query/parse failed: Error code: 403 - {'error': {'message': 'Provider returned error', 'code': 403, 'metadata': {'raw': '{\"error\":{\"code\":\"unsupported_country_region_territory\",\"message\":\"Country, region, or territory not supported\",\"param\":null,\"type\":\"request_forbidden\"}}', 'provider_name': 'OpenAI'}}, 'user_id': 'user_2gfYzHTIgPxZrpm58SWHnA9evP7'}\n",
      "[ERROR] LLM query/parse failed: Error code: 403 - {'error': {'message': 'Provider returned error', 'code': 403, 'metadata': {'raw': '{\"error\":{\"code\":\"unsupported_country_region_territory\",\"message\":\"Country, region, or territory not supported\",\"param\":null,\"type\":\"request_forbidden\"}}', 'provider_name': 'OpenAI'}}, 'user_id': 'user_2gfYzHTIgPxZrpm58SWHnA9evP7'}\n",
      "[ERROR] LLM query/parse failed: Error code: 403 - {'error': {'message': 'Provider returned error', 'code': 403, 'metadata': {'raw': '{\"error\":{\"code\":\"unsupported_country_region_territory\",\"message\":\"Country, region, or territory not supported\",\"param\":null,\"type\":\"request_forbidden\"}}', 'provider_name': 'OpenAI'}}, 'user_id': 'user_2gfYzHTIgPxZrpm58SWHnA9evP7'}\n",
      "[ERROR] LLM query/parse failed: Error code: 403 - {'error': {'message': 'Provider returned error', 'code': 403, 'metadata': {'raw': '{\"error\":{\"code\":\"unsupported_country_region_territory\",\"message\":\"Country, region, or territory not supported\",\"param\":null,\"type\":\"request_forbidden\"}}', 'provider_name': 'OpenAI'}}, 'user_id': 'user_2gfYzHTIgPxZrpm58SWHnA9evP7'}\n"
     ]
    },
    {
     "name": "stderr",
     "output_type": "stream",
     "text": [
      "100%|██████████| 1/1 [01:28<00:00, 88.15s/it]"
     ]
    },
    {
     "name": "stdout",
     "output_type": "stream",
     "text": [
      "[ERROR] LLM query/parse failed: Error code: 403 - {'error': {'message': 'Provider returned error', 'code': 403, 'metadata': {'raw': '{\"error\":{\"code\":\"unsupported_country_region_territory\",\"message\":\"Country, region, or territory not supported\",\"param\":null,\"type\":\"request_forbidden\"}}', 'provider_name': 'OpenAI'}}, 'user_id': 'user_2gfYzHTIgPxZrpm58SWHnA9evP7'}\n"
     ]
    },
    {
     "name": "stderr",
     "output_type": "stream",
     "text": [
      "\n"
     ]
    },
    {
     "data": {
      "text/html": [
       "<div>\n",
       "<style scoped>\n",
       "    .dataframe tbody tr th:only-of-type {\n",
       "        vertical-align: middle;\n",
       "    }\n",
       "\n",
       "    .dataframe tbody tr th {\n",
       "        vertical-align: top;\n",
       "    }\n",
       "\n",
       "    .dataframe thead th {\n",
       "        text-align: right;\n",
       "    }\n",
       "</style>\n",
       "<table border=\"1\" class=\"dataframe\">\n",
       "  <thead>\n",
       "    <tr style=\"text-align: right;\">\n",
       "      <th></th>\n",
       "      <th>input_id</th>\n",
       "      <th>RXNRECer</th>\n",
       "      <th>RXNRECer_with_prob</th>\n",
       "      <th>rxn_details</th>\n",
       "    </tr>\n",
       "  </thead>\n",
       "  <tbody>\n",
       "    <tr>\n",
       "      <th>0</th>\n",
       "      <td>Q2R560</td>\n",
       "      <td>RHEA:17989;RHEA:46608</td>\n",
       "      <td>{'RHEA:17989': 0.999737, 'RHEA:46608': 0.999734}</td>\n",
       "      <td>[{'reaction_id': 'RHEA:17989', 'prediction_con...</td>\n",
       "    </tr>\n",
       "    <tr>\n",
       "      <th>1</th>\n",
       "      <td>B8NLZ3</td>\n",
       "      <td>RHEA:47004;RHEA:20629;RHEA:17989;RHEA:46608;RH...</td>\n",
       "      <td>{'RHEA:47004': 0.999973, 'RHEA:20629': 0.99996...</td>\n",
       "      <td>[{'reaction_id': 'RHEA:47004', 'prediction_con...</td>\n",
       "    </tr>\n",
       "    <tr>\n",
       "      <th>2</th>\n",
       "      <td>P0A6X5|Sample</td>\n",
       "      <td>-</td>\n",
       "      <td>{'-': 0.999994}</td>\n",
       "      <td>[{'reaction_id': '-', 'prediction_confidence':...</td>\n",
       "    </tr>\n",
       "  </tbody>\n",
       "</table>\n",
       "</div>"
      ],
      "text/plain": [
       "        input_id                                           RXNRECer  \\\n",
       "0         Q2R560                              RHEA:17989;RHEA:46608   \n",
       "1         B8NLZ3  RHEA:47004;RHEA:20629;RHEA:17989;RHEA:46608;RH...   \n",
       "2  P0A6X5|Sample                                                  -   \n",
       "\n",
       "                                  RXNRECer_with_prob  \\\n",
       "0   {'RHEA:17989': 0.999737, 'RHEA:46608': 0.999734}   \n",
       "1  {'RHEA:47004': 0.999973, 'RHEA:20629': 0.99996...   \n",
       "2                                    {'-': 0.999994}   \n",
       "\n",
       "                                         rxn_details  \n",
       "0  [{'reaction_id': 'RHEA:17989', 'prediction_con...  \n",
       "1  [{'reaction_id': 'RHEA:47004', 'prediction_con...  \n",
       "2  [{'reaction_id': '-', 'prediction_confidence':...  "
      ]
     },
     "execution_count": 33,
     "metadata": {},
     "output_type": "execute_result"
    }
   ],
   "source": [
    "res_rxnrecer_s3 = predictor.step_by_step_prediction(\n",
    "    input_data=f'{cfg.SAMPLE_DIR}sample10.fasta', \n",
    "    mode='s3',\n",
    "    batch_size=100\n",
    ")\n",
    "res_rxnrecer_s3.head(3)"
   ]
  },
  {
   "cell_type": "code",
   "execution_count": null,
   "id": "a3650e6b",
   "metadata": {},
   "outputs": [],
   "source": []
  }
 ],
 "metadata": {
  "kernelspec": {
   "display_name": "rxnrecer-release",
   "language": "python",
   "name": "python3"
  },
  "language_info": {
   "codemirror_mode": {
    "name": "ipython",
    "version": 3
   },
   "file_extension": ".py",
   "mimetype": "text/x-python",
   "name": "python",
   "nbconvert_exporter": "python",
   "pygments_lexer": "ipython3",
   "version": "3.10.18"
  },
  "widgets": {
   "application/vnd.jupyter.widget-state+json": {
    "state": {},
    "version_major": 2,
    "version_minor": 0
   }
  }
 },
 "nbformat": 4,
 "nbformat_minor": 5
}
