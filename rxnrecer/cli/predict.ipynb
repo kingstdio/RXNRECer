{
 "cells": [
  {
   "cell_type": "code",
   "execution_count": 40,
   "id": "3a7707d2",
   "metadata": {},
   "outputs": [
    {
     "name": "stdout",
     "output_type": "stream",
     "text": [
      "The autoreload extension is already loaded. To reload it, use:\n",
      "  %reload_ext autoreload\n"
     ]
    }
   ],
   "source": [
    "import sys,os\n",
    "sys.path.insert(0, f\"{os.path.dirname(os.path.realpath('__file__'))}/../../\")\n",
    "from rxnrecer.config import config as cfg\n",
    "import pandas as pd\n",
    "import numpy as np\n",
    "from types import SimpleNamespace\n",
    "from Bio import SeqIO\n",
    "import torch\n",
    "from rxnrecer.utils import file_utils as futils\n",
    "from rxnrecer.utils import bio_utils as butils\n",
    "from rxnrecer.utils import format_utils as format_utils\n",
    "from rxnrecer.lib.llm import qa as llm_qa\n",
    "from rxnrecer.cli import predict as predictor\n",
    "import argparse\n",
    "import hashlib\n",
    "\n",
    "import json\n",
    "\n",
    "%load_ext autoreload\n",
    "%autoreload 2"
   ]
  },
  {
   "cell_type": "code",
   "execution_count": 7,
   "id": "1d72fc38",
   "metadata": {},
   "outputs": [
    {
     "name": "stdout",
     "output_type": "stream",
     "text": [
      "Detected input is a FASTA file: /hpcfs/fhome/shizhenkun/codebase/rxnrecer_production/data/sample/sample10.fasta\n",
      "Step 1: Preparing input data, loading 10 proteins\n",
      "Step 2: Loading predictive model\n",
      "Use device: cuda\n",
      "Step 3: Running prediction on 10 proteins\n"
     ]
    },
    {
     "name": "stderr",
     "output_type": "stream",
     "text": [
      "  0%|          | 0/1 [00:00<?, ?it/s]"
     ]
    },
    {
     "name": "stdout",
     "output_type": "stream",
     "text": [
      "Running RXNRECer-S1 ...\n"
     ]
    },
    {
     "name": "stderr",
     "output_type": "stream",
     "text": [
      "Predicting reactions: 100%|██████████| 5/5 [00:00<00:00,  7.26it/s]\n"
     ]
    },
    {
     "name": "stdout",
     "output_type": "stream",
     "text": [
      "Running RXNRECer-S3 ...\n",
      "Transferred model to GPU\n"
     ]
    },
    {
     "name": "stderr",
     "output_type": "stream",
     "text": [
      "100%|██████████| 10/10 [00:00<00:00, 28.56it/s]\n",
      "Processing Sequences: 100%|██████████| 10/10 [00:00<00:00, 66.98it/s]\n"
     ]
    },
    {
     "name": "stdout",
     "output_type": "stream",
     "text": [
      "Processed 10 proteins in 0.15 seconds\n",
      "INFO: Pandarallel will run on 192 workers.\n",
      "INFO: Pandarallel will use Memory file system to transfer data between the main process and workers.\n"
     ]
    },
    {
     "name": "stderr",
     "output_type": "stream",
     "text": [
      "100%|██████████| 1/1 [02:13<00:00, 133.17s/it]\n"
     ]
    }
   ],
   "source": [
    "res_rxnrecer = predictor.step_by_step_prediction(\n",
    "    input_data=f'{cfg.SAMPLE_DIR}sample10.fasta', \n",
    "    output_file=None, \n",
    "    output_format='tsv', \n",
    "    getEquation=True, \n",
    "    mode='s3'\n",
    ")"
   ]
  },
  {
   "cell_type": "code",
   "execution_count": 8,
   "id": "f5ed9152",
   "metadata": {},
   "outputs": [
    {
     "data": {
      "text/html": [
       "<div>\n",
       "<style scoped>\n",
       "    .dataframe tbody tr th:only-of-type {\n",
       "        vertical-align: middle;\n",
       "    }\n",
       "\n",
       "    .dataframe tbody tr th {\n",
       "        vertical-align: top;\n",
       "    }\n",
       "\n",
       "    .dataframe thead th {\n",
       "        text-align: right;\n",
       "    }\n",
       "</style>\n",
       "<table border=\"1\" class=\"dataframe\">\n",
       "  <thead>\n",
       "    <tr style=\"text-align: right;\">\n",
       "      <th></th>\n",
       "      <th>input_id</th>\n",
       "      <th>RXNRECer-S1</th>\n",
       "      <th>RXNRECer-S2</th>\n",
       "      <th>RXNRECER-S3</th>\n",
       "      <th>RXNRECer_with_prob</th>\n",
       "      <th>RXN_details</th>\n",
       "    </tr>\n",
       "  </thead>\n",
       "  <tbody>\n",
       "    <tr>\n",
       "      <th>0</th>\n",
       "      <td>A0A7H0DNE2</td>\n",
       "      <td>RHEA:14709;RHEA:24076</td>\n",
       "      <td>RHEA:24076;RHEA:14709;RHEA:32187</td>\n",
       "      <td>[{'reaction_id': 'RHEA:24076', 'selected': 'ye...</td>\n",
       "      <td>{'RHEA:24076': 0.999931, 'RHEA:14709': 0.99993...</td>\n",
       "      <td>[&lt;rxnrecer.lib.rxn.Reaction.Reaction object at...</td>\n",
       "    </tr>\n",
       "    <tr>\n",
       "      <th>2</th>\n",
       "      <td>C0HK73</td>\n",
       "      <td>-</td>\n",
       "      <td>-</td>\n",
       "      <td>[{'reaction_id': '-', 'selected': 'yes', 'rank...</td>\n",
       "      <td>{'-': 0.999998}</td>\n",
       "      <td>[]</td>\n",
       "    </tr>\n",
       "    <tr>\n",
       "      <th>3</th>\n",
       "      <td>F2XF94</td>\n",
       "      <td>RHEA:32539</td>\n",
       "      <td>RHEA:32539</td>\n",
       "      <td>[{'reaction_id': 'RHEA:32539', 'selected': 'ye...</td>\n",
       "      <td>{'RHEA:32539': 0.999942}</td>\n",
       "      <td>[&lt;rxnrecer.lib.rxn.Reaction.Reaction object at...</td>\n",
       "    </tr>\n",
       "  </tbody>\n",
       "</table>\n",
       "</div>"
      ],
      "text/plain": [
       "     input_id            RXNRECer-S1                       RXNRECer-S2  \\\n",
       "0  A0A7H0DNE2  RHEA:14709;RHEA:24076  RHEA:24076;RHEA:14709;RHEA:32187   \n",
       "2      C0HK73                      -                                 -   \n",
       "3      F2XF94             RHEA:32539                        RHEA:32539   \n",
       "\n",
       "                                         RXNRECER-S3  \\\n",
       "0  [{'reaction_id': 'RHEA:24076', 'selected': 'ye...   \n",
       "2  [{'reaction_id': '-', 'selected': 'yes', 'rank...   \n",
       "3  [{'reaction_id': 'RHEA:32539', 'selected': 'ye...   \n",
       "\n",
       "                                  RXNRECer_with_prob  \\\n",
       "0  {'RHEA:24076': 0.999931, 'RHEA:14709': 0.99993...   \n",
       "2                                    {'-': 0.999998}   \n",
       "3                           {'RHEA:32539': 0.999942}   \n",
       "\n",
       "                                         RXN_details  \n",
       "0  [<rxnrecer.lib.rxn.Reaction.Reaction object at...  \n",
       "2                                                 []  \n",
       "3  [<rxnrecer.lib.rxn.Reaction.Reaction object at...  "
      ]
     },
     "execution_count": 8,
     "metadata": {},
     "output_type": "execute_result"
    }
   ],
   "source": [
    "res_rxnrecer.head(3)"
   ]
  },
  {
   "cell_type": "code",
   "execution_count": null,
   "id": "00f58218",
   "metadata": {},
   "outputs": [],
   "source": [
    "res_rxnrecer.apply(lambda x: format_utils.format_s3_output(x.RXNRECer_with_prob, x['RXNRECER-S3'], x.RXN_details), axis=1)"
   ]
  },
  {
   "cell_type": "code",
   "execution_count": null,
   "id": "0e06d577",
   "metadata": {},
   "outputs": [],
   "source": []
  },
  {
   "cell_type": "code",
   "execution_count": null,
   "id": "708c87ab",
   "metadata": {},
   "outputs": [
    {
     "data": {
      "text/plain": [
       "[{'reaction_id': 'RHEA:24076',\n",
       "  'prediction_confidence': 0.9999,\n",
       "  'reaction_details': {'reactants': [{'cpd_id': '',\n",
       "     'cpd_smiles': 'C12C(C3C(C(CC3)*)(C)CC1)CC=C4C2(CC[C@@H](C4)O)C',\n",
       "     'cpd_name': 'a 3beta-hydroxy-Delta(5)-steroid',\n",
       "     'cpd_ref_chebi': 'CHEBI:1722',\n",
       "     'cpd_link': 'https://www.ebi.ac.uk/chebi/searchId.do?chebiId=CHEBI:1722',\n",
       "     'mol_svg': 'data/cpd_svg/282edb2f820d693364aa28f38cbba53b.svg',\n",
       "     'cpd_num': 1},\n",
       "    {'cpd_id': '',\n",
       "     'cpd_smiles': 'NC(=O)c1ccc[n+](c1)[C@@H]1O[C@H](COP([O-])(=O)OP([O-])(=O)OC[C@H]2O[C@H]([C@H](O)[C@@H]2O)n2cnc3c(N)ncnc23)[C@@H](O)[C@H]1O',\n",
       "     'cpd_name': 'NAD(+)',\n",
       "     'cpd_ref_chebi': 'CHEBI:57540',\n",
       "     'cpd_link': 'https://www.ebi.ac.uk/chebi/searchId.do?chebiId=CHEBI:57540',\n",
       "     'mol_svg': 'data/cpd_svg/4764b7413a76a473fe7d46c2f3854173.svg',\n",
       "     'cpd_num': 1}],\n",
       "   'products': [{'cpd_id': '',\n",
       "     'cpd_smiles': 'C12C(C3C(C(CC3)*)(C)CC1)CC=C4C2(CCC(C4)=O)C',\n",
       "     'cpd_name': 'a 3-oxo-Delta(5)-steroid',\n",
       "     'cpd_ref_chebi': 'CHEBI:47907',\n",
       "     'cpd_link': 'https://www.ebi.ac.uk/chebi/searchId.do?chebiId=CHEBI:47907',\n",
       "     'mol_svg': 'data/cpd_svg/b253cc0ab66e7e78ed6472f9ca0d7c72.svg',\n",
       "     'cpd_num': 1},\n",
       "    {'cpd_id': '',\n",
       "     'cpd_smiles': '[H+]',\n",
       "     'cpd_name': 'H(+)',\n",
       "     'cpd_ref_chebi': 'CHEBI:15378',\n",
       "     'cpd_link': 'https://www.ebi.ac.uk/chebi/searchId.do?chebiId=CHEBI:15378',\n",
       "     'mol_svg': 'data/cpd_svg/07f2fa24e9379ec3ca89f3a18d48ebc4.svg',\n",
       "     'cpd_num': 1},\n",
       "    {'cpd_id': '',\n",
       "     'cpd_smiles': 'NC(=O)C1=CN(C=CC1)[C@@H]1O[C@H](COP([O-])(=O)OP([O-])(=O)OC[C@H]2O[C@H]([C@H](O)[C@@H]2O)n2cnc3c(N)ncnc23)[C@@H](O)[C@H]1O',\n",
       "     'cpd_name': 'NADH',\n",
       "     'cpd_ref_chebi': 'CHEBI:57945',\n",
       "     'cpd_link': 'https://www.ebi.ac.uk/chebi/searchId.do?chebiId=CHEBI:57945',\n",
       "     'mol_svg': 'data/cpd_svg/5807a033c79f04cf39b47adbbfcb0276.svg',\n",
       "     'cpd_num': 1}],\n",
       "   'reaction_ec': 'EC:1.1.1.145',\n",
       "   'reaction_equation': 'a 3beta-hydroxy-Delta(5)-steroid + NAD(+) = a 3-oxo-Delta(5)-steroid + H(+) + NADH',\n",
       "   'reaction_equation_ref_chebi': 'CHEBI:1722 + CHEBI:57540 = CHEBI:47907 + CHEBI:15378 + CHEBI:57945',\n",
       "   'reaction_smiles': 'C12C(C3C(C(CC3)*)(C)CC1)CC=C4C2(CC[C@@H](C4)O)C.NC(=O)c1ccc[n+](c1)[C@@H]1O[C@H](COP([O-])(=O)OP([O-])(=O)OC[C@H]2O[C@H]([C@H](O)[C@@H]2O)n2cnc3c(N)ncnc23)[C@@H](O)[C@H]1O>>C12C(C3C(C(CC3)*)(C)CC1)CC=C4C2(CCC(C4)=O)C.[H+].NC(=O)C1=CN(C=CC1)[C@@H]1O[C@H](COP([O-])(=O)OP([O-])(=O)OC[C@H]2O[C@H]([C@H](O)[C@@H]2O)n2cnc3c(N)ncnc23)[C@@H](O)[C@H]1O'},\n",
       "  'reaction_rxnrecer_s3': {'selected': 'yes',\n",
       "   'ranking': 1,\n",
       "   'confidence': 0.95,\n",
       "   'reasoning': \"The UniProt ID A0A7H0DNE2 corresponds to a protein annotated as 'Glycine dehydrogenase (decarboxylating)' (EC 1.4.4.2), which catalyzes the reaction represented by RHEA:24076 (glycine + H-protein-lipoyllysine + H2O = CO2 + NH3 + H-protein-aminomethyldihydrolipoyllysine). The sequence contains conserved motifs and domains characteristic of glycine cleavage system P-proteins, supporting this function.\"}},\n",
       " {'reaction_id': 'RHEA:14709',\n",
       "  'prediction_confidence': 0.9999,\n",
       "  'reaction_details': {'reactants': [{'cpd_id': '',\n",
       "     'cpd_smiles': 'C12C(C3C(C(CC3)*)(C)CC1)CC=C4C2(CCC(C4)=O)C',\n",
       "     'cpd_name': 'a 3-oxo-Delta(5)-steroid',\n",
       "     'cpd_ref_chebi': 'CHEBI:47907',\n",
       "     'cpd_link': 'https://www.ebi.ac.uk/chebi/searchId.do?chebiId=CHEBI:47907',\n",
       "     'mol_svg': 'data/cpd_svg/b253cc0ab66e7e78ed6472f9ca0d7c72.svg',\n",
       "     'cpd_num': 1}],\n",
       "   'products': [{'cpd_id': '',\n",
       "     'cpd_smiles': 'C12C(C3C(C(CC3)*)(C)CC1)CCC=4C2(CCC(C4)=O)C',\n",
       "     'cpd_name': 'a 3-oxo-Delta(4)-steroid',\n",
       "     'cpd_ref_chebi': 'CHEBI:47909',\n",
       "     'cpd_link': 'https://www.ebi.ac.uk/chebi/searchId.do?chebiId=CHEBI:47909',\n",
       "     'mol_svg': 'data/cpd_svg/ae78107006d2eda292427f939c8db493.svg',\n",
       "     'cpd_num': 1}],\n",
       "   'reaction_ec': 'EC:5.3.3.1',\n",
       "   'reaction_equation': 'a 3-oxo-Delta(5)-steroid = a 3-oxo-Delta(4)-steroid',\n",
       "   'reaction_equation_ref_chebi': 'CHEBI:47907 = CHEBI:47909',\n",
       "   'reaction_smiles': 'C12C(C3C(C(CC3)*)(C)CC1)CC=C4C2(CCC(C4)=O)C>>C12C(C3C(C(CC3)*)(C)CC1)CCC=4C2(CCC(C4)=O)C'},\n",
       "  'reaction_rxnrecer_s3': {'selected': 'no',\n",
       "   'ranking': 2,\n",
       "   'confidence': 0.1,\n",
       "   'reasoning': 'RHEA:14709 corresponds to a different reaction (e.g., D-amino acid dehydrogenase activity) not supported by the UniProt annotation or conserved sequence motifs. No evidence for this activity in the protein sequence.'}},\n",
       " {'reaction_id': 'RHEA:32187',\n",
       "  'prediction_confidence': 0.7777,\n",
       "  'reaction_details': {'reactants': [{'cpd_id': '',\n",
       "     'cpd_smiles': '[H][C@@]1(CC[C@@]2([H])[C@]3([H])CC=C4CC(=O)CC[C@]4(C)[C@@]3([H])CC[C@]12C)[C@H](C)CCCC(C)C',\n",
       "     'cpd_name': 'cholest-5-en-3-one',\n",
       "     'cpd_ref_chebi': 'CHEBI:63906',\n",
       "     'cpd_link': 'https://www.ebi.ac.uk/chebi/searchId.do?chebiId=CHEBI:63906',\n",
       "     'mol_svg': 'data/cpd_svg/69a9c9ee29ef9f8e708c09e7a7b152d4.svg',\n",
       "     'cpd_num': 1}],\n",
       "   'products': [{'cpd_id': '',\n",
       "     'cpd_smiles': '[H][C@@]1(CC[C@@]2([H])[C@]3([H])CCC4=CC(=O)CC[C@]4(C)[C@@]3([H])CC[C@]12C)[C@H](C)CCCC(C)C',\n",
       "     'cpd_name': 'cholest-4-en-3-one',\n",
       "     'cpd_ref_chebi': 'CHEBI:16175',\n",
       "     'cpd_link': 'https://www.ebi.ac.uk/chebi/searchId.do?chebiId=CHEBI:16175',\n",
       "     'mol_svg': 'data/cpd_svg/736210fee31225ab264359e3c365b704.svg',\n",
       "     'cpd_num': 1}],\n",
       "   'reaction_ec': 'EC:5.3.3.1',\n",
       "   'reaction_equation': 'cholest-5-en-3-one = cholest-4-en-3-one',\n",
       "   'reaction_equation_ref_chebi': 'CHEBI:63906 = CHEBI:16175',\n",
       "   'reaction_smiles': '[H][C@@]1(CC[C@@]2([H])[C@]3([H])CC=C4CC(=O)CC[C@]4(C)[C@@]3([H])CC[C@]12C)[C@H](C)CCCC(C)C>>[H][C@@]1(CC[C@@]2([H])[C@]3([H])CCC4=CC(=O)CC[C@]4(C)[C@@]3([H])CC[C@]12C)[C@H](C)CCCC(C)C'},\n",
       "  'reaction_rxnrecer_s3': {'selected': 'no',\n",
       "   'ranking': 3,\n",
       "   'confidence': 0.1,\n",
       "   'reasoning': 'RHEA:32187 represents a reaction not associated with glycine dehydrogenase or the glycine cleavage system. The sequence lacks motifs or domains supporting this function.'}}]"
      ]
     },
     "execution_count": 63,
     "metadata": {},
     "output_type": "execute_result"
    }
   ],
   "source": [
    "sindex = 0\n",
    "format_utils.format_s3_output(res_rxnrecer.iloc[sindex].RXNRECer_with_prob, res_rxnrecer.iloc[sindex]['RXNRECER-S3'], res_rxnrecer.iloc[sindex].RXN_details)"
   ]
  },
  {
   "cell_type": "code",
   "execution_count": 32,
   "id": "a00b5b1e",
   "metadata": {},
   "outputs": [
    {
     "data": {
      "text/plain": [
       "0.999998"
      ]
     },
     "execution_count": 32,
     "metadata": {},
     "output_type": "execute_result"
    }
   ],
   "source": [
    "res_rxnrecer.iloc[sindex].RXNRECer_with_prob['-']"
   ]
  },
  {
   "cell_type": "code",
   "execution_count": 26,
   "id": "8d7d5691",
   "metadata": {},
   "outputs": [
    {
     "data": {
      "text/plain": [
       "[]"
      ]
     },
     "execution_count": 26,
     "metadata": {},
     "output_type": "execute_result"
    }
   ],
   "source": [
    "res_rxnrecer.iloc[sindex].RXN_details"
   ]
  },
  {
   "cell_type": "code",
   "execution_count": 44,
   "id": "83ebe303",
   "metadata": {},
   "outputs": [],
   "source": [
    "rxn1 = rxnTool.Reaction(rxn_smiles=res_rxnrecer.reaction_details[0][0]['reaction equation in SMILES format'], \n",
    "                        rxn_equation=res_rxnrecer.reaction_details[0][0]['reaction equation'], \n",
    "                        rxn_equation_ref_chebi=res_rxnrecer.reaction_details[0][0]['reaction equation in ChEBI format'], \n",
    "                        rxn_id=res_rxnrecer.reaction_details[0][0]['reaction id'], \n",
    "                        rxn_ec=res_rxnrecer.reaction_details[0][0]['reaction associated Enzyme Commission Number'])\n"
   ]
  },
  {
   "cell_type": "code",
   "execution_count": 17,
   "id": "eecebfcb",
   "metadata": {},
   "outputs": [
    {
     "data": {
      "text/plain": [
       "'CHEBI:47907 = CHEBI:47909'"
      ]
     },
     "execution_count": 17,
     "metadata": {},
     "output_type": "execute_result"
    }
   ],
   "source": [
    "res_rxnrecer.reaction_details[0][0]['reaction equation in ChEBI format']"
   ]
  },
  {
   "cell_type": "code",
   "execution_count": 31,
   "id": "70bae8d2",
   "metadata": {},
   "outputs": [
    {
     "data": {
      "text/plain": [
       "{'reaction_id': 'RHEA:14709',\n",
       " 'reaction_smiles': 'C12C(C3C(C(CC3)*)(C)CC1)CC=C4C2(CCC(C4)=O)C>>C12C(C3C(C(CC3)*)(C)CC1)CCC=4C2(CCC(C4)=O)C',\n",
       " 'reaction_equation': 'a 3-oxo-Delta(5)-steroid = a 3-oxo-Delta(4)-steroid',\n",
       " 'reaction_equation_ref_chebi': 'CHEBI:47907 = CHEBI:47909',\n",
       " 'reaction_ec': 'EC:5.3.3.1',\n",
       " 'reactants': [{'cpd_id': '',\n",
       "   'cpd_smiles': 'C12C(C3C(C(CC3)*)(C)CC1)CC=C4C2(CCC(C4)=O)C',\n",
       "   'cpd_name': 'a 3-oxo-Delta(5)-steroid',\n",
       "   'cpd_ref_chebi': 'CHEBI:47907',\n",
       "   'cpd_link': 'https://www.ebi.ac.uk/chebi/searchId.do?chebiId=CHEBI:47907',\n",
       "   'mol_svg': 'data/cpd_svg/b253cc0ab66e7e78ed6472f9ca0d7c72.svg',\n",
       "   'cpd_num': 1}],\n",
       " 'products': [{'cpd_id': '',\n",
       "   'cpd_smiles': 'C12C(C3C(C(CC3)*)(C)CC1)CCC=4C2(CCC(C4)=O)C',\n",
       "   'cpd_name': 'a 3-oxo-Delta(4)-steroid',\n",
       "   'cpd_ref_chebi': 'CHEBI:47909',\n",
       "   'cpd_link': 'https://www.ebi.ac.uk/chebi/searchId.do?chebiId=CHEBI:47909',\n",
       "   'mol_svg': 'data/cpd_svg/ae78107006d2eda292427f939c8db493.svg',\n",
       "   'cpd_num': 1}]}"
      ]
     },
     "execution_count": 31,
     "metadata": {},
     "output_type": "execute_result"
    }
   ],
   "source": [
    "rxn1.to_dict()"
   ]
  },
  {
   "cell_type": "code",
   "execution_count": null,
   "id": "a3650e6b",
   "metadata": {},
   "outputs": [],
   "source": []
  },
  {
   "cell_type": "code",
   "execution_count": null,
   "id": "23cd91fb",
   "metadata": {},
   "outputs": [],
   "source": []
  },
  {
   "cell_type": "code",
   "execution_count": null,
   "id": "6624bec5",
   "metadata": {},
   "outputs": [],
   "source": []
  },
  {
   "cell_type": "code",
   "execution_count": null,
   "id": "6da20c15",
   "metadata": {},
   "outputs": [],
   "source": []
  },
  {
   "cell_type": "code",
   "execution_count": null,
   "id": "89ab5d2a",
   "metadata": {},
   "outputs": [],
   "source": []
  }
 ],
 "metadata": {
  "kernelspec": {
   "display_name": "rxnrecer-release",
   "language": "python",
   "name": "python3"
  },
  "language_info": {
   "codemirror_mode": {
    "name": "ipython",
    "version": 3
   },
   "file_extension": ".py",
   "mimetype": "text/x-python",
   "name": "python",
   "nbconvert_exporter": "python",
   "pygments_lexer": "ipython3",
   "version": "3.10.18"
  }
 },
 "nbformat": 4,
 "nbformat_minor": 5
}
