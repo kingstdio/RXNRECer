{
 "cells": [
  {
   "cell_type": "code",
   "execution_count": 1,
   "id": "3a7707d2",
   "metadata": {},
   "outputs": [],
   "source": [
    "import sys,os\n",
    "sys.path.insert(0, f\"{os.path.dirname(os.path.realpath('__file__'))}/../../\")\n",
    "from rxnrecer.config import config as cfg\n",
    "from rxnrecer.utils import file_utils as futils\n",
    "from rxnrecer.utils import bio_utils as butils\n",
    "from rxnrecer.utils import format_utils as format_utils\n",
    "from rxnrecer.lib.llm import qa as llm_qa\n",
    "from rxnrecer.cli import predict as predictor\n",
    "%load_ext autoreload\n",
    "%autoreload 2"
   ]
  },
  {
   "cell_type": "code",
   "execution_count": 2,
   "id": "1d72fc38",
   "metadata": {},
   "outputs": [
    {
     "name": "stdout",
     "output_type": "stream",
     "text": [
      "Detected input is a FASTA file: /hpcfs/fhome/shizhenkun/codebase/rxnrecer_production/data/sample/sample10.fasta\n",
      "Step 1: Preparing input data, loading 10 proteins\n",
      "Step 2: Loading predictive model\n",
      "Use device: cuda\n",
      "Step 3: Running prediction on 10 proteins\n"
     ]
    },
    {
     "name": "stderr",
     "output_type": "stream",
     "text": [
      "  0%|          | 0/1 [00:00<?, ?it/s]"
     ]
    },
    {
     "name": "stdout",
     "output_type": "stream",
     "text": [
      "Running RXNRECer-S1 ...\n"
     ]
    },
    {
     "name": "stderr",
     "output_type": "stream",
     "text": [
      "Predicting reactions: 100%|██████████| 5/5 [00:00<00:00,  5.77it/s]\n"
     ]
    },
    {
     "name": "stdout",
     "output_type": "stream",
     "text": [
      "INFO: Pandarallel will run on 192 workers.\n",
      "INFO: Pandarallel will use Memory file system to transfer data between the main process and workers.\n"
     ]
    },
    {
     "name": "stderr",
     "output_type": "stream",
     "text": [
      "100%|██████████| 1/1 [00:03<00:00,  3.24s/it]\n"
     ]
    },
    {
     "data": {
      "text/html": [
       "<div>\n",
       "<style scoped>\n",
       "    .dataframe tbody tr th:only-of-type {\n",
       "        vertical-align: middle;\n",
       "    }\n",
       "\n",
       "    .dataframe tbody tr th {\n",
       "        vertical-align: top;\n",
       "    }\n",
       "\n",
       "    .dataframe thead th {\n",
       "        text-align: right;\n",
       "    }\n",
       "</style>\n",
       "<table border=\"1\" class=\"dataframe\">\n",
       "  <thead>\n",
       "    <tr style=\"text-align: right;\">\n",
       "      <th></th>\n",
       "      <th>input_id</th>\n",
       "      <th>RXNRECer</th>\n",
       "      <th>RXNRECer_with_prob</th>\n",
       "      <th>rxn_details</th>\n",
       "    </tr>\n",
       "  </thead>\n",
       "  <tbody>\n",
       "    <tr>\n",
       "      <th>0</th>\n",
       "      <td>A0A7H0DNE2</td>\n",
       "      <td>RHEA:14709;RHEA:24076</td>\n",
       "      <td>{'RHEA:14709': 0.997943, 'RHEA:24076': 0.994297}</td>\n",
       "      <td>[{'reaction_id': 'RHEA:14709', 'prediction_con...</td>\n",
       "    </tr>\n",
       "    <tr>\n",
       "      <th>1</th>\n",
       "      <td>C0HK73</td>\n",
       "      <td>-</td>\n",
       "      <td>{'-': 0.999998}</td>\n",
       "      <td>[{'reaction_id': '-', 'prediction_confidence':...</td>\n",
       "    </tr>\n",
       "    <tr>\n",
       "      <th>2</th>\n",
       "      <td>F2XF94</td>\n",
       "      <td>RHEA:32539</td>\n",
       "      <td>{'RHEA:32539': 0.955101}</td>\n",
       "      <td>[{'reaction_id': 'RHEA:32539', 'prediction_con...</td>\n",
       "    </tr>\n",
       "  </tbody>\n",
       "</table>\n",
       "</div>"
      ],
      "text/plain": [
       "     input_id               RXNRECer  \\\n",
       "0  A0A7H0DNE2  RHEA:14709;RHEA:24076   \n",
       "1      C0HK73                      -   \n",
       "2      F2XF94             RHEA:32539   \n",
       "\n",
       "                                 RXNRECer_with_prob  \\\n",
       "0  {'RHEA:14709': 0.997943, 'RHEA:24076': 0.994297}   \n",
       "1                                   {'-': 0.999998}   \n",
       "2                          {'RHEA:32539': 0.955101}   \n",
       "\n",
       "                                         rxn_details  \n",
       "0  [{'reaction_id': 'RHEA:14709', 'prediction_con...  \n",
       "1  [{'reaction_id': '-', 'prediction_confidence':...  \n",
       "2  [{'reaction_id': 'RHEA:32539', 'prediction_con...  "
      ]
     },
     "execution_count": 2,
     "metadata": {},
     "output_type": "execute_result"
    }
   ],
   "source": [
    "res_rxnrecer_s1 = predictor.step_by_step_prediction(\n",
    "    input_data=f'{cfg.SAMPLE_DIR}sample10.fasta', \n",
    "    output_file=None, \n",
    "    output_format='tsv', \n",
    "    mode='s1',\n",
    "    batch_size=100\n",
    ")\n",
    "res_rxnrecer_s1.head(3)"
   ]
  },
  {
   "cell_type": "code",
   "execution_count": 3,
   "id": "f5ed9152",
   "metadata": {},
   "outputs": [
    {
     "name": "stdout",
     "output_type": "stream",
     "text": [
      "Detected input is a FASTA file: /hpcfs/fhome/shizhenkun/codebase/rxnrecer_production/data/sample/sample10.fasta\n",
      "Step 1: Preparing input data, loading 10 proteins\n",
      "Step 2: Loading predictive model\n",
      "Use device: cuda\n",
      "Step 3: Running prediction on 10 proteins\n"
     ]
    },
    {
     "name": "stderr",
     "output_type": "stream",
     "text": [
      "  0%|          | 0/1 [00:00<?, ?it/s]"
     ]
    },
    {
     "name": "stdout",
     "output_type": "stream",
     "text": [
      "Running RXNRECer-S1 ...\n"
     ]
    },
    {
     "name": "stderr",
     "output_type": "stream",
     "text": [
      "Predicting reactions: 100%|██████████| 5/5 [00:00<00:00,  8.57it/s]\n"
     ]
    },
    {
     "name": "stdout",
     "output_type": "stream",
     "text": [
      "Running RXNRECer-S2 ...\n",
      "Transferred model to GPU\n"
     ]
    },
    {
     "name": "stderr",
     "output_type": "stream",
     "text": [
      "100%|██████████| 10/10 [00:00<00:00, 27.75it/s]\n",
      "Processing Sequences: 100%|██████████| 10/10 [00:00<00:00, 48.96it/s]\n"
     ]
    },
    {
     "name": "stdout",
     "output_type": "stream",
     "text": [
      "Processed 10 proteins in 0.21 seconds\n",
      "INFO: Pandarallel will run on 192 workers.\n",
      "INFO: Pandarallel will use Memory file system to transfer data between the main process and workers.\n"
     ]
    },
    {
     "name": "stderr",
     "output_type": "stream",
     "text": [
      "100%|██████████| 1/1 [01:13<00:00, 73.58s/it]\n"
     ]
    },
    {
     "data": {
      "text/html": [
       "<div>\n",
       "<style scoped>\n",
       "    .dataframe tbody tr th:only-of-type {\n",
       "        vertical-align: middle;\n",
       "    }\n",
       "\n",
       "    .dataframe tbody tr th {\n",
       "        vertical-align: top;\n",
       "    }\n",
       "\n",
       "    .dataframe thead th {\n",
       "        text-align: right;\n",
       "    }\n",
       "</style>\n",
       "<table border=\"1\" class=\"dataframe\">\n",
       "  <thead>\n",
       "    <tr style=\"text-align: right;\">\n",
       "      <th></th>\n",
       "      <th>input_id</th>\n",
       "      <th>RXNRECer</th>\n",
       "      <th>RXNRECer_with_prob</th>\n",
       "      <th>rxn_details</th>\n",
       "    </tr>\n",
       "  </thead>\n",
       "  <tbody>\n",
       "    <tr>\n",
       "      <th>0</th>\n",
       "      <td>A0A7H0DNE2</td>\n",
       "      <td>RHEA:14709;RHEA:24076;RHEA:32187</td>\n",
       "      <td>{'RHEA:14709': 0.999931, 'RHEA:24076': 0.99993...</td>\n",
       "      <td>[{'reaction_id': 'RHEA:14709', 'prediction_con...</td>\n",
       "    </tr>\n",
       "    <tr>\n",
       "      <th>2</th>\n",
       "      <td>C0HK73</td>\n",
       "      <td>-</td>\n",
       "      <td>{'-': 0.999998}</td>\n",
       "      <td>[{'reaction_id': '-', 'prediction_confidence':...</td>\n",
       "    </tr>\n",
       "    <tr>\n",
       "      <th>3</th>\n",
       "      <td>F2XF94</td>\n",
       "      <td>RHEA:32539</td>\n",
       "      <td>{'RHEA:32539': 0.999942}</td>\n",
       "      <td>[{'reaction_id': 'RHEA:32539', 'prediction_con...</td>\n",
       "    </tr>\n",
       "  </tbody>\n",
       "</table>\n",
       "</div>"
      ],
      "text/plain": [
       "     input_id                          RXNRECer  \\\n",
       "0  A0A7H0DNE2  RHEA:14709;RHEA:24076;RHEA:32187   \n",
       "2      C0HK73                                 -   \n",
       "3      F2XF94                        RHEA:32539   \n",
       "\n",
       "                                  RXNRECer_with_prob  \\\n",
       "0  {'RHEA:14709': 0.999931, 'RHEA:24076': 0.99993...   \n",
       "2                                    {'-': 0.999998}   \n",
       "3                           {'RHEA:32539': 0.999942}   \n",
       "\n",
       "                                         rxn_details  \n",
       "0  [{'reaction_id': 'RHEA:14709', 'prediction_con...  \n",
       "2  [{'reaction_id': '-', 'prediction_confidence':...  \n",
       "3  [{'reaction_id': 'RHEA:32539', 'prediction_con...  "
      ]
     },
     "execution_count": 3,
     "metadata": {},
     "output_type": "execute_result"
    }
   ],
   "source": [
    "res_rxnrecer_s2 = predictor.step_by_step_prediction(\n",
    "    input_data=f'{cfg.SAMPLE_DIR}sample10.fasta', \n",
    "    output_file=None, \n",
    "    output_format='tsv', \n",
    "    mode='s2',\n",
    "    batch_size=100\n",
    ")\n",
    "res_rxnrecer_s2.head(3)"
   ]
  },
  {
   "cell_type": "code",
   "execution_count": 6,
   "id": "00f58218",
   "metadata": {},
   "outputs": [
    {
     "name": "stdout",
     "output_type": "stream",
     "text": [
      "Detected input is a FASTA file: /hpcfs/fhome/shizhenkun/codebase/rxnrecer_production/data/sample/sample10.fasta\n",
      "Step 1: Preparing input data, loading 10 proteins\n",
      "Step 2: Loading predictive model\n",
      "Use device: cuda\n",
      "Step 3: Running prediction on 10 proteins\n"
     ]
    },
    {
     "name": "stderr",
     "output_type": "stream",
     "text": [
      "  0%|          | 0/1 [00:00<?, ?it/s]"
     ]
    },
    {
     "name": "stdout",
     "output_type": "stream",
     "text": [
      "Running RXNRECer-S1 ...\n"
     ]
    },
    {
     "name": "stderr",
     "output_type": "stream",
     "text": [
      "Predicting reactions: 100%|██████████| 5/5 [00:00<00:00,  8.50it/s]\n"
     ]
    },
    {
     "name": "stdout",
     "output_type": "stream",
     "text": [
      "Running RXNRECer-S3 ...\n",
      "Transferred model to GPU\n"
     ]
    },
    {
     "name": "stderr",
     "output_type": "stream",
     "text": [
      "100%|██████████| 10/10 [00:00<00:00, 30.21it/s]\n",
      "Processing Sequences: 100%|██████████| 10/10 [00:00<00:00, 67.47it/s]\n"
     ]
    },
    {
     "name": "stdout",
     "output_type": "stream",
     "text": [
      "Processed 10 proteins in 0.15 seconds\n",
      "INFO: Pandarallel will run on 192 workers.\n",
      "INFO: Pandarallel will use Memory file system to transfer data between the main process and workers.\n"
     ]
    },
    {
     "name": "stderr",
     "output_type": "stream",
     "text": [
      "100%|██████████| 1/1 [02:04<00:00, 124.29s/it]\n"
     ]
    },
    {
     "data": {
      "text/html": [
       "<div>\n",
       "<style scoped>\n",
       "    .dataframe tbody tr th:only-of-type {\n",
       "        vertical-align: middle;\n",
       "    }\n",
       "\n",
       "    .dataframe tbody tr th {\n",
       "        vertical-align: top;\n",
       "    }\n",
       "\n",
       "    .dataframe thead th {\n",
       "        text-align: right;\n",
       "    }\n",
       "</style>\n",
       "<table border=\"1\" class=\"dataframe\">\n",
       "  <thead>\n",
       "    <tr style=\"text-align: right;\">\n",
       "      <th></th>\n",
       "      <th>input_id</th>\n",
       "      <th>RXNRECer</th>\n",
       "      <th>RXNRECer_with_prob</th>\n",
       "      <th>rxn_details</th>\n",
       "    </tr>\n",
       "  </thead>\n",
       "  <tbody>\n",
       "    <tr>\n",
       "      <th>0</th>\n",
       "      <td>A0A7H0DNE2</td>\n",
       "      <td>RHEA:14709;RHEA:24076;RHEA:32187</td>\n",
       "      <td>{'RHEA:14709': 0.999931, 'RHEA:24076': 0.99993...</td>\n",
       "      <td>[{'reaction_id': 'RHEA:14709', 'prediction_con...</td>\n",
       "    </tr>\n",
       "    <tr>\n",
       "      <th>2</th>\n",
       "      <td>C0HK73</td>\n",
       "      <td>-</td>\n",
       "      <td>{'-': 0.999998}</td>\n",
       "      <td>[{'reaction_id': '-', 'prediction_confidence':...</td>\n",
       "    </tr>\n",
       "    <tr>\n",
       "      <th>3</th>\n",
       "      <td>F2XF94</td>\n",
       "      <td>RHEA:32539</td>\n",
       "      <td>{'RHEA:32539': 0.999942}</td>\n",
       "      <td>[{'reaction_id': 'RHEA:32539', 'prediction_con...</td>\n",
       "    </tr>\n",
       "  </tbody>\n",
       "</table>\n",
       "</div>"
      ],
      "text/plain": [
       "     input_id                          RXNRECer  \\\n",
       "0  A0A7H0DNE2  RHEA:14709;RHEA:24076;RHEA:32187   \n",
       "2      C0HK73                                 -   \n",
       "3      F2XF94                        RHEA:32539   \n",
       "\n",
       "                                  RXNRECer_with_prob  \\\n",
       "0  {'RHEA:14709': 0.999931, 'RHEA:24076': 0.99993...   \n",
       "2                                    {'-': 0.999998}   \n",
       "3                           {'RHEA:32539': 0.999942}   \n",
       "\n",
       "                                         rxn_details  \n",
       "0  [{'reaction_id': 'RHEA:14709', 'prediction_con...  \n",
       "2  [{'reaction_id': '-', 'prediction_confidence':...  \n",
       "3  [{'reaction_id': 'RHEA:32539', 'prediction_con...  "
      ]
     },
     "execution_count": 6,
     "metadata": {},
     "output_type": "execute_result"
    }
   ],
   "source": [
    "cfg.LLM_API_KEY = 'your_api_key_here'\n",
    "cfg.LLM_API_URL = \"https://openrouter.ai/api/v1\"\n",
    "\n",
    "res_rxnrecer_s3 = predictor.step_by_step_prediction(\n",
    "    input_data=f'{cfg.SAMPLE_DIR}sample10.fasta', \n",
    "    output_file=None, \n",
    "    output_format='tsv', \n",
    "    mode='s3',\n",
    "    batch_size=100\n",
    ")\n",
    "res_rxnrecer_s3.head(3)"
   ]
  },
  {
   "cell_type": "code",
   "execution_count": 5,
   "id": "708c87ab",
   "metadata": {},
   "outputs": [],
   "source": [
    "# res_rxnrecer_s3.to_csv(f'{cfg.TEMP_DIR}/aa.tsv', index=False, sep='\\t', float_format=\"%.6f\")\n",
    "# predictor.save_data(res_rxnrecer_s3, f'{cfg.TEMP_DIR}/aa.json', output_format='json')"
   ]
  }
 ],
 "metadata": {
  "kernelspec": {
   "display_name": "rxnrecer-release",
   "language": "python",
   "name": "python3"
  },
  "language_info": {
   "codemirror_mode": {
    "name": "ipython",
    "version": 3
   },
   "file_extension": ".py",
   "mimetype": "text/x-python",
   "name": "python",
   "nbconvert_exporter": "python",
   "pygments_lexer": "ipython3",
   "version": "3.10.18"
  },
  "widgets": {
   "application/vnd.jupyter.widget-state+json": {
    "state": {},
    "version_major": 2,
    "version_minor": 0
   }
  }
 },
 "nbformat": 4,
 "nbformat_minor": 5
}
