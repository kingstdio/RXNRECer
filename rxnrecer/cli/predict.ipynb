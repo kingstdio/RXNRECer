{
 "cells": [
  {
   "cell_type": "code",
   "execution_count": 1,
   "id": "3a7707d2",
   "metadata": {},
   "outputs": [],
   "source": [
    "import sys,os\n",
    "sys.path.insert(0, f\"{os.path.dirname(os.path.realpath('__file__'))}/../../\")\n",
    "from rxnrecer.config import config as cfg\n",
    "import pandas as pd\n",
    "import numpy as np\n",
    "from types import SimpleNamespace\n",
    "from Bio import SeqIO\n",
    "import torch\n",
    "from rxnrecer.utils import file_utils as futils\n",
    "from rxnrecer.utils import bio_utils as butils\n",
    "from rxnrecer.utils import format_utils as format_utils\n",
    "from rxnrecer.lib.llm import qa as llm_qa\n",
    "from rxnrecer.cli import predict as predictor\n",
    "import argparse\n",
    "import hashlib\n",
    "\n",
    "import json\n",
    "\n",
    "%load_ext autoreload\n",
    "%autoreload 2"
   ]
  },
  {
   "cell_type": "code",
   "execution_count": 2,
   "id": "1d72fc38",
   "metadata": {},
   "outputs": [
    {
     "name": "stdout",
     "output_type": "stream",
     "text": [
      "Detected input is a FASTA file: /hpcfs/fhome/shizhenkun/codebase/rxnrecer_production/data/sample/sample10.fasta\n",
      "Step 1: Preparing input data, loading 10 proteins\n",
      "Step 2: Loading predictive model\n",
      "Use device: cuda\n",
      "Step 3: Running prediction on 10 proteins\n"
     ]
    },
    {
     "name": "stderr",
     "output_type": "stream",
     "text": [
      "  0%|          | 0/1 [00:00<?, ?it/s]"
     ]
    },
    {
     "name": "stdout",
     "output_type": "stream",
     "text": [
      "Running RXNRECer-S1 ...\n"
     ]
    },
    {
     "name": "stderr",
     "output_type": "stream",
     "text": [
      "Predicting reactions: 100%|██████████| 5/5 [00:00<00:00,  5.44it/s]\n"
     ]
    },
    {
     "name": "stdout",
     "output_type": "stream",
     "text": [
      "INFO: Pandarallel will run on 192 workers.\n",
      "INFO: Pandarallel will use Memory file system to transfer data between the main process and workers.\n"
     ]
    },
    {
     "name": "stderr",
     "output_type": "stream",
     "text": [
      "100%|██████████| 1/1 [00:03<00:00,  3.00s/it]\n"
     ]
    },
    {
     "data": {
      "text/html": [
       "<div>\n",
       "<style scoped>\n",
       "    .dataframe tbody tr th:only-of-type {\n",
       "        vertical-align: middle;\n",
       "    }\n",
       "\n",
       "    .dataframe tbody tr th {\n",
       "        vertical-align: top;\n",
       "    }\n",
       "\n",
       "    .dataframe thead th {\n",
       "        text-align: right;\n",
       "    }\n",
       "</style>\n",
       "<table border=\"1\" class=\"dataframe\">\n",
       "  <thead>\n",
       "    <tr style=\"text-align: right;\">\n",
       "      <th></th>\n",
       "      <th>input_id</th>\n",
       "      <th>RXNRECer</th>\n",
       "      <th>RXNRECer_with_prob</th>\n",
       "      <th>rxn_details</th>\n",
       "    </tr>\n",
       "  </thead>\n",
       "  <tbody>\n",
       "    <tr>\n",
       "      <th>0</th>\n",
       "      <td>Q2R560</td>\n",
       "      <td>RHEA:17989;RHEA:46608</td>\n",
       "      <td>{'RHEA:17989': 0.999737, 'RHEA:46608': 0.999734}</td>\n",
       "      <td>[{'reaction_id': 'RHEA:17989', 'prediction_con...</td>\n",
       "    </tr>\n",
       "    <tr>\n",
       "      <th>1</th>\n",
       "      <td>B8NLZ3</td>\n",
       "      <td>RHEA:47004;RHEA:20629</td>\n",
       "      <td>{'RHEA:47004': 0.999973, 'RHEA:20629': 0.999965}</td>\n",
       "      <td>[{'reaction_id': 'RHEA:47004', 'prediction_con...</td>\n",
       "    </tr>\n",
       "    <tr>\n",
       "      <th>2</th>\n",
       "      <td>P0A6X5|Sample</td>\n",
       "      <td>-</td>\n",
       "      <td>{'-': 0.999994}</td>\n",
       "      <td>[{'reaction_id': '-', 'prediction_confidence':...</td>\n",
       "    </tr>\n",
       "  </tbody>\n",
       "</table>\n",
       "</div>"
      ],
      "text/plain": [
       "        input_id               RXNRECer  \\\n",
       "0         Q2R560  RHEA:17989;RHEA:46608   \n",
       "1         B8NLZ3  RHEA:47004;RHEA:20629   \n",
       "2  P0A6X5|Sample                      -   \n",
       "\n",
       "                                 RXNRECer_with_prob  \\\n",
       "0  {'RHEA:17989': 0.999737, 'RHEA:46608': 0.999734}   \n",
       "1  {'RHEA:47004': 0.999973, 'RHEA:20629': 0.999965}   \n",
       "2                                   {'-': 0.999994}   \n",
       "\n",
       "                                         rxn_details  \n",
       "0  [{'reaction_id': 'RHEA:17989', 'prediction_con...  \n",
       "1  [{'reaction_id': 'RHEA:47004', 'prediction_con...  \n",
       "2  [{'reaction_id': '-', 'prediction_confidence':...  "
      ]
     },
     "execution_count": 2,
     "metadata": {},
     "output_type": "execute_result"
    }
   ],
   "source": [
    "res_rxnrecer_s1 = predictor.step_by_step_prediction(\n",
    "    input_data=f'{cfg.SAMPLE_DIR}sample10.fasta', \n",
    "    mode='s1',\n",
    "    batch_size=100\n",
    ")\n",
    "res_rxnrecer_s1.head(3)"
   ]
  },
  {
   "cell_type": "code",
   "execution_count": 21,
   "id": "0tcc519qc0x",
   "metadata": {},
   "outputs": [
    {
     "data": {
      "text/html": [
       "<div>\n",
       "<style scoped>\n",
       "    .dataframe tbody tr th:only-of-type {\n",
       "        vertical-align: middle;\n",
       "    }\n",
       "\n",
       "    .dataframe tbody tr th {\n",
       "        vertical-align: top;\n",
       "    }\n",
       "\n",
       "    .dataframe thead th {\n",
       "        text-align: right;\n",
       "    }\n",
       "</style>\n",
       "<table border=\"1\" class=\"dataframe\">\n",
       "  <thead>\n",
       "    <tr style=\"text-align: right;\">\n",
       "      <th></th>\n",
       "      <th>input_id</th>\n",
       "      <th>RXNRECer</th>\n",
       "      <th>RXNRECer_with_prob</th>\n",
       "      <th>rxn_details</th>\n",
       "      <th>reaction_ec</th>\n",
       "      <th>reaction_equation</th>\n",
       "      <th>reaction_equation_ref_chebi</th>\n",
       "    </tr>\n",
       "  </thead>\n",
       "  <tbody>\n",
       "    <tr>\n",
       "      <th>0</th>\n",
       "      <td>Q2R560</td>\n",
       "      <td>RHEA:17989;RHEA:46608</td>\n",
       "      <td>{'RHEA:17989': 0.999737, 'RHEA:46608': 0.999734}</td>\n",
       "      <td>[{'reaction_id': 'RHEA:17989', 'prediction_con...</td>\n",
       "      <td>[EC:2.7.11.1;EC:2.7.11.11;EC:2.7.11.12;EC:2.7....</td>\n",
       "      <td>[ATP + L-seryl-[protein] = ADP + H(+) + O-phos...</td>\n",
       "      <td>[CHEBI:30616 + CHEBI:29999 = CHEBI:456216 + CH...</td>\n",
       "    </tr>\n",
       "    <tr>\n",
       "      <th>1</th>\n",
       "      <td>B8NLZ3</td>\n",
       "      <td>RHEA:47004;RHEA:20629</td>\n",
       "      <td>{'RHEA:47004': 0.999973, 'RHEA:20629': 0.999965}</td>\n",
       "      <td>[{'reaction_id': 'RHEA:47004', 'prediction_con...</td>\n",
       "      <td>[EC:3.1.3.16, EC:3.1.3.16]</td>\n",
       "      <td>[H2O + O-phospho-L-threonyl-[protein] = L-thre...</td>\n",
       "      <td>[CHEBI:15377 + CHEBI:61977 = CHEBI:30013 + CHE...</td>\n",
       "    </tr>\n",
       "    <tr>\n",
       "      <th>2</th>\n",
       "      <td>P0A6X5|Sample</td>\n",
       "      <td>-</td>\n",
       "      <td>{'-': 0.999994}</td>\n",
       "      <td>[{'reaction_id': '-', 'prediction_confidence':...</td>\n",
       "      <td>[-]</td>\n",
       "      <td>[-]</td>\n",
       "      <td>[-]</td>\n",
       "    </tr>\n",
       "    <tr>\n",
       "      <th>3</th>\n",
       "      <td>P0A6X6|Sample</td>\n",
       "      <td>-</td>\n",
       "      <td>{'-': 0.999994}</td>\n",
       "      <td>[{'reaction_id': '-', 'prediction_confidence':...</td>\n",
       "      <td>[-]</td>\n",
       "      <td>[-]</td>\n",
       "      <td>[-]</td>\n",
       "    </tr>\n",
       "    <tr>\n",
       "      <th>4</th>\n",
       "      <td>P0A6X7|Sample</td>\n",
       "      <td>-</td>\n",
       "      <td>{'-': 0.999994}</td>\n",
       "      <td>[{'reaction_id': '-', 'prediction_confidence':...</td>\n",
       "      <td>[-]</td>\n",
       "      <td>[-]</td>\n",
       "      <td>[-]</td>\n",
       "    </tr>\n",
       "    <tr>\n",
       "      <th>5</th>\n",
       "      <td>P0A6X8|Sample</td>\n",
       "      <td>-</td>\n",
       "      <td>{'-': 0.999994}</td>\n",
       "      <td>[{'reaction_id': '-', 'prediction_confidence':...</td>\n",
       "      <td>[-]</td>\n",
       "      <td>[-]</td>\n",
       "      <td>[-]</td>\n",
       "    </tr>\n",
       "    <tr>\n",
       "      <th>6</th>\n",
       "      <td>P0A6X9|Sample</td>\n",
       "      <td>-</td>\n",
       "      <td>{'-': 0.999994}</td>\n",
       "      <td>[{'reaction_id': '-', 'prediction_confidence':...</td>\n",
       "      <td>[-]</td>\n",
       "      <td>[-]</td>\n",
       "      <td>[-]</td>\n",
       "    </tr>\n",
       "    <tr>\n",
       "      <th>7</th>\n",
       "      <td>P0A6XA|Sample</td>\n",
       "      <td>-</td>\n",
       "      <td>{'-': 0.999994}</td>\n",
       "      <td>[{'reaction_id': '-', 'prediction_confidence':...</td>\n",
       "      <td>[-]</td>\n",
       "      <td>[-]</td>\n",
       "      <td>[-]</td>\n",
       "    </tr>\n",
       "    <tr>\n",
       "      <th>8</th>\n",
       "      <td>P0A6XB|Sample</td>\n",
       "      <td>-</td>\n",
       "      <td>{'-': 0.999994}</td>\n",
       "      <td>[{'reaction_id': '-', 'prediction_confidence':...</td>\n",
       "      <td>[-]</td>\n",
       "      <td>[-]</td>\n",
       "      <td>[-]</td>\n",
       "    </tr>\n",
       "    <tr>\n",
       "      <th>9</th>\n",
       "      <td>P0A6XC|Sample</td>\n",
       "      <td>-</td>\n",
       "      <td>{'-': 0.999994}</td>\n",
       "      <td>[{'reaction_id': '-', 'prediction_confidence':...</td>\n",
       "      <td>[-]</td>\n",
       "      <td>[-]</td>\n",
       "      <td>[-]</td>\n",
       "    </tr>\n",
       "  </tbody>\n",
       "</table>\n",
       "</div>"
      ],
      "text/plain": [
       "        input_id               RXNRECer  \\\n",
       "0         Q2R560  RHEA:17989;RHEA:46608   \n",
       "1         B8NLZ3  RHEA:47004;RHEA:20629   \n",
       "2  P0A6X5|Sample                      -   \n",
       "3  P0A6X6|Sample                      -   \n",
       "4  P0A6X7|Sample                      -   \n",
       "5  P0A6X8|Sample                      -   \n",
       "6  P0A6X9|Sample                      -   \n",
       "7  P0A6XA|Sample                      -   \n",
       "8  P0A6XB|Sample                      -   \n",
       "9  P0A6XC|Sample                      -   \n",
       "\n",
       "                                 RXNRECer_with_prob  \\\n",
       "0  {'RHEA:17989': 0.999737, 'RHEA:46608': 0.999734}   \n",
       "1  {'RHEA:47004': 0.999973, 'RHEA:20629': 0.999965}   \n",
       "2                                   {'-': 0.999994}   \n",
       "3                                   {'-': 0.999994}   \n",
       "4                                   {'-': 0.999994}   \n",
       "5                                   {'-': 0.999994}   \n",
       "6                                   {'-': 0.999994}   \n",
       "7                                   {'-': 0.999994}   \n",
       "8                                   {'-': 0.999994}   \n",
       "9                                   {'-': 0.999994}   \n",
       "\n",
       "                                         rxn_details  \\\n",
       "0  [{'reaction_id': 'RHEA:17989', 'prediction_con...   \n",
       "1  [{'reaction_id': 'RHEA:47004', 'prediction_con...   \n",
       "2  [{'reaction_id': '-', 'prediction_confidence':...   \n",
       "3  [{'reaction_id': '-', 'prediction_confidence':...   \n",
       "4  [{'reaction_id': '-', 'prediction_confidence':...   \n",
       "5  [{'reaction_id': '-', 'prediction_confidence':...   \n",
       "6  [{'reaction_id': '-', 'prediction_confidence':...   \n",
       "7  [{'reaction_id': '-', 'prediction_confidence':...   \n",
       "8  [{'reaction_id': '-', 'prediction_confidence':...   \n",
       "9  [{'reaction_id': '-', 'prediction_confidence':...   \n",
       "\n",
       "                                         reaction_ec  \\\n",
       "0  [EC:2.7.11.1;EC:2.7.11.11;EC:2.7.11.12;EC:2.7....   \n",
       "1                         [EC:3.1.3.16, EC:3.1.3.16]   \n",
       "2                                                [-]   \n",
       "3                                                [-]   \n",
       "4                                                [-]   \n",
       "5                                                [-]   \n",
       "6                                                [-]   \n",
       "7                                                [-]   \n",
       "8                                                [-]   \n",
       "9                                                [-]   \n",
       "\n",
       "                                   reaction_equation  \\\n",
       "0  [ATP + L-seryl-[protein] = ADP + H(+) + O-phos...   \n",
       "1  [H2O + O-phospho-L-threonyl-[protein] = L-thre...   \n",
       "2                                                [-]   \n",
       "3                                                [-]   \n",
       "4                                                [-]   \n",
       "5                                                [-]   \n",
       "6                                                [-]   \n",
       "7                                                [-]   \n",
       "8                                                [-]   \n",
       "9                                                [-]   \n",
       "\n",
       "                         reaction_equation_ref_chebi  \n",
       "0  [CHEBI:30616 + CHEBI:29999 = CHEBI:456216 + CH...  \n",
       "1  [CHEBI:15377 + CHEBI:61977 = CHEBI:30013 + CHE...  \n",
       "2                                                [-]  \n",
       "3                                                [-]  \n",
       "4                                                [-]  \n",
       "5                                                [-]  \n",
       "6                                                [-]  \n",
       "7                                                [-]  \n",
       "8                                                [-]  \n",
       "9                                                [-]  "
      ]
     },
     "execution_count": 21,
     "metadata": {},
     "output_type": "execute_result"
    }
   ],
   "source": [
    "res_rxnrecer_s1"
   ]
  },
  {
   "cell_type": "code",
   "execution_count": 31,
   "id": "f5ed9152",
   "metadata": {},
   "outputs": [
    {
     "name": "stdout",
     "output_type": "stream",
     "text": [
      "Detected input is a FASTA file: /hpcfs/fhome/shizhenkun/codebase/rxnrecer_production/data/sample/sample10.fasta\n",
      "Step 1: Preparing input data, loading 10 proteins\n",
      "Step 2: Loading predictive model\n",
      "Use device: cuda\n",
      "Step 3: Running prediction on 10 proteins\n"
     ]
    },
    {
     "name": "stderr",
     "output_type": "stream",
     "text": [
      "  0%|          | 0/1 [00:00<?, ?it/s]"
     ]
    },
    {
     "name": "stdout",
     "output_type": "stream",
     "text": [
      "Running RXNRECer-S1 ...\n"
     ]
    },
    {
     "name": "stderr",
     "output_type": "stream",
     "text": [
      "Predicting reactions: 100%|██████████| 5/5 [00:00<00:00,  5.89it/s]\n"
     ]
    },
    {
     "name": "stdout",
     "output_type": "stream",
     "text": [
      "Running RXNRECer-S2 ...\n",
      "Running MSA ...\n",
      "Running CatFam ...\n",
      "Running ECRECer ...\n",
      "Running T5 ...\n",
      "Transferred model to GPU\n"
     ]
    },
    {
     "name": "stderr",
     "output_type": "stream",
     "text": [
      "100%|██████████| 10/10 [00:00<00:00, 36.76it/s]\n",
      "Processing Sequences: 100%|██████████| 10/10 [00:00<00:00, 27.91it/s]\n"
     ]
    },
    {
     "name": "stdout",
     "output_type": "stream",
     "text": [
      "Processed 10 proteins in 0.36 seconds\n",
      "INFO: Pandarallel will run on 192 workers.\n",
      "INFO: Pandarallel will use Memory file system to transfer data between the main process and workers.\n"
     ]
    },
    {
     "name": "stderr",
     "output_type": "stream",
     "text": [
      "100%|██████████| 1/1 [01:08<00:00, 68.94s/it]\n"
     ]
    },
    {
     "data": {
      "text/html": [
       "<div>\n",
       "<style scoped>\n",
       "    .dataframe tbody tr th:only-of-type {\n",
       "        vertical-align: middle;\n",
       "    }\n",
       "\n",
       "    .dataframe tbody tr th {\n",
       "        vertical-align: top;\n",
       "    }\n",
       "\n",
       "    .dataframe thead th {\n",
       "        text-align: right;\n",
       "    }\n",
       "</style>\n",
       "<table border=\"1\" class=\"dataframe\">\n",
       "  <thead>\n",
       "    <tr style=\"text-align: right;\">\n",
       "      <th></th>\n",
       "      <th>input_id</th>\n",
       "      <th>RXNRECer</th>\n",
       "      <th>RXNRECer_with_prob</th>\n",
       "      <th>rxn_details</th>\n",
       "    </tr>\n",
       "  </thead>\n",
       "  <tbody>\n",
       "    <tr>\n",
       "      <th>0</th>\n",
       "      <td>Q2R560</td>\n",
       "      <td>RHEA:17989;RHEA:46608</td>\n",
       "      <td>{'RHEA:17989': 0.999737, 'RHEA:46608': 0.999734}</td>\n",
       "      <td>[{'reaction_id': 'RHEA:17989', 'prediction_con...</td>\n",
       "    </tr>\n",
       "    <tr>\n",
       "      <th>1</th>\n",
       "      <td>B8NLZ3</td>\n",
       "      <td>RHEA:47004;RHEA:20629;RHEA:17989;RHEA:46608;RH...</td>\n",
       "      <td>{'RHEA:47004': 0.999973, 'RHEA:20629': 0.99996...</td>\n",
       "      <td>[{'reaction_id': 'RHEA:47004', 'prediction_con...</td>\n",
       "    </tr>\n",
       "    <tr>\n",
       "      <th>2</th>\n",
       "      <td>P0A6X5|Sample</td>\n",
       "      <td>-</td>\n",
       "      <td>{'-': 0.999994}</td>\n",
       "      <td>[{'reaction_id': '-', 'prediction_confidence':...</td>\n",
       "    </tr>\n",
       "  </tbody>\n",
       "</table>\n",
       "</div>"
      ],
      "text/plain": [
       "        input_id                                           RXNRECer  \\\n",
       "0         Q2R560                              RHEA:17989;RHEA:46608   \n",
       "1         B8NLZ3  RHEA:47004;RHEA:20629;RHEA:17989;RHEA:46608;RH...   \n",
       "2  P0A6X5|Sample                                                  -   \n",
       "\n",
       "                                  RXNRECer_with_prob  \\\n",
       "0   {'RHEA:17989': 0.999737, 'RHEA:46608': 0.999734}   \n",
       "1  {'RHEA:47004': 0.999973, 'RHEA:20629': 0.99996...   \n",
       "2                                    {'-': 0.999994}   \n",
       "\n",
       "                                         rxn_details  \n",
       "0  [{'reaction_id': 'RHEA:17989', 'prediction_con...  \n",
       "1  [{'reaction_id': 'RHEA:47004', 'prediction_con...  \n",
       "2  [{'reaction_id': '-', 'prediction_confidence':...  "
      ]
     },
     "execution_count": 31,
     "metadata": {},
     "output_type": "execute_result"
    }
   ],
   "source": [
    "res_rxnrecer_s2 = predictor.step_by_step_prediction(\n",
    "    input_data=f'{cfg.SAMPLE_DIR}sample10.fasta', \n",
    "    mode='s2',\n",
    "    batch_size=100\n",
    ")\n",
    "res_rxnrecer_s2.head(3)"
   ]
  },
  {
   "cell_type": "code",
   "execution_count": null,
   "id": "00f58218",
   "metadata": {},
   "outputs": [
    {
     "ename": "TypeError",
     "evalue": "step_by_step_prediction() got an unexpected keyword argument 'output_file'",
     "output_type": "error",
     "traceback": [
      "\u001b[0;31m---------------------------------------------------------------------------\u001b[0m",
      "\u001b[0;31mTypeError\u001b[0m                                 Traceback (most recent call last)",
      "Cell \u001b[0;32mIn[28], line 1\u001b[0m\n\u001b[0;32m----> 1\u001b[0m res_rxnrecer_s3 \u001b[38;5;241m=\u001b[39m \u001b[43mpredictor\u001b[49m\u001b[38;5;241;43m.\u001b[39;49m\u001b[43mstep_by_step_prediction\u001b[49m\u001b[43m(\u001b[49m\n\u001b[1;32m      2\u001b[0m \u001b[43m    \u001b[49m\u001b[43minput_data\u001b[49m\u001b[38;5;241;43m=\u001b[39;49m\u001b[38;5;124;43mf\u001b[39;49m\u001b[38;5;124;43m'\u001b[39;49m\u001b[38;5;132;43;01m{\u001b[39;49;00m\u001b[43mcfg\u001b[49m\u001b[38;5;241;43m.\u001b[39;49m\u001b[43mSAMPLE_DIR\u001b[49m\u001b[38;5;132;43;01m}\u001b[39;49;00m\u001b[38;5;124;43msample10.fasta\u001b[39;49m\u001b[38;5;124;43m'\u001b[39;49m\u001b[43m,\u001b[49m\u001b[43m \u001b[49m\n\u001b[1;32m      3\u001b[0m \u001b[43m    \u001b[49m\u001b[43moutput_file\u001b[49m\u001b[38;5;241;43m=\u001b[39;49m\u001b[38;5;28;43;01mNone\u001b[39;49;00m\u001b[43m,\u001b[49m\u001b[43m \u001b[49m\n\u001b[1;32m      4\u001b[0m \u001b[43m    \u001b[49m\u001b[43moutput_format\u001b[49m\u001b[38;5;241;43m=\u001b[39;49m\u001b[38;5;124;43m'\u001b[39;49m\u001b[38;5;124;43mtsv\u001b[39;49m\u001b[38;5;124;43m'\u001b[39;49m\u001b[43m,\u001b[49m\u001b[43m \u001b[49m\n\u001b[1;32m      5\u001b[0m \u001b[43m    \u001b[49m\u001b[43mmode\u001b[49m\u001b[38;5;241;43m=\u001b[39;49m\u001b[38;5;124;43m'\u001b[39;49m\u001b[38;5;124;43ms3\u001b[39;49m\u001b[38;5;124;43m'\u001b[39;49m\u001b[43m,\u001b[49m\n\u001b[1;32m      6\u001b[0m \u001b[43m    \u001b[49m\u001b[43mbatch_size\u001b[49m\u001b[38;5;241;43m=\u001b[39;49m\u001b[38;5;241;43m3\u001b[39;49m\n\u001b[1;32m      7\u001b[0m \u001b[43m)\u001b[49m\n\u001b[1;32m      8\u001b[0m res_rxnrecer_s3\u001b[38;5;241m.\u001b[39mhead(\u001b[38;5;241m3\u001b[39m)\n",
      "\u001b[0;31mTypeError\u001b[0m: step_by_step_prediction() got an unexpected keyword argument 'output_file'"
     ]
    }
   ],
   "source": [
    "res_rxnrecer_s3 = predictor.step_by_step_prediction(\n",
    "    input_data=f'{cfg.SAMPLE_DIR}sample10.fasta', \n",
    "    mode='s3',\n",
    "    batch_size=3\n",
    ")\n",
    "res_rxnrecer_s3.head(3)"
   ]
  },
  {
   "cell_type": "code",
   "execution_count": 9,
   "id": "708c87ab",
   "metadata": {},
   "outputs": [],
   "source": [
    "res_rxnrecer_s3.to_csv(f'{cfg.TEMP_DIR}/aa.tsv', index=False, sep='\\t', float_format=\"%.6f\")"
   ]
  },
  {
   "cell_type": "code",
   "execution_count": 11,
   "id": "a00b5b1e",
   "metadata": {},
   "outputs": [],
   "source": [
    "predictor.save_data(res_rxnrecer_s3, f'{cfg.TEMP_DIR}/aa.json', output_format='json')"
   ]
  },
  {
   "cell_type": "code",
   "execution_count": null,
   "id": "a3650e6b",
   "metadata": {},
   "outputs": [],
   "source": []
  },
  {
   "cell_type": "code",
   "execution_count": null,
   "id": "23cd91fb",
   "metadata": {},
   "outputs": [],
   "source": []
  },
  {
   "cell_type": "code",
   "execution_count": null,
   "id": "6624bec5",
   "metadata": {},
   "outputs": [],
   "source": []
  },
  {
   "cell_type": "code",
   "execution_count": null,
   "id": "6da20c15",
   "metadata": {},
   "outputs": [],
   "source": []
  },
  {
   "cell_type": "code",
   "execution_count": null,
   "id": "89ab5d2a",
   "metadata": {},
   "outputs": [],
   "source": []
  }
 ],
 "metadata": {
  "kernelspec": {
   "display_name": "rxnrecer-release",
   "language": "python",
   "name": "python3"
  },
  "language_info": {
   "codemirror_mode": {
    "name": "ipython",
    "version": 3
   },
   "file_extension": ".py",
   "mimetype": "text/x-python",
   "name": "python",
   "nbconvert_exporter": "python",
   "pygments_lexer": "ipython3",
   "version": "3.10.18"
  },
  "widgets": {
   "application/vnd.jupyter.widget-state+json": {
    "state": {},
    "version_major": 2,
    "version_minor": 0
   }
  }
 },
 "nbformat": 4,
 "nbformat_minor": 5
}
