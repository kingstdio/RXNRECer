{
 "cells": [
  {
   "cell_type": "code",
   "execution_count": 32,
   "id": "f0b76802",
   "metadata": {},
   "outputs": [
    {
     "name": "stdout",
     "output_type": "stream",
     "text": [
      "The autoreload extension is already loaded. To reload it, use:\n",
      "  %reload_ext autoreload\n"
     ]
    }
   ],
   "source": [
    "import sys,os\n",
    "sys.path.insert(0, f\"{os.path.dirname(os.path.realpath('__file__'))}/../../../\")\n",
    "from rxnrecer.config import config as cfg\n",
    "import pandas as pd\n",
    "import numpy as np\n",
    "from types import SimpleNamespace\n",
    "from Bio import SeqIO\n",
    "import torch\n",
    "import argparse\n",
    "import hashlib\n",
    "import Reaction as rxnTool\n",
    "import json\n",
    "from tqdm import tqdm\n",
    "tqdm.pandas()\n",
    "%load_ext autoreload\n",
    "%autoreload 2"
   ]
  },
  {
   "cell_type": "code",
   "execution_count": 33,
   "id": "27a321a7",
   "metadata": {},
   "outputs": [
    {
     "data": {
      "text/html": [
       "<div>\n",
       "<style scoped>\n",
       "    .dataframe tbody tr th:only-of-type {\n",
       "        vertical-align: middle;\n",
       "    }\n",
       "\n",
       "    .dataframe tbody tr th {\n",
       "        vertical-align: top;\n",
       "    }\n",
       "\n",
       "    .dataframe thead th {\n",
       "        text-align: right;\n",
       "    }\n",
       "</style>\n",
       "<table border=\"1\" class=\"dataframe\">\n",
       "  <thead>\n",
       "    <tr style=\"text-align: right;\">\n",
       "      <th></th>\n",
       "      <th>reaction_id</th>\n",
       "      <th>equation</th>\n",
       "      <th>chebi_id</th>\n",
       "      <th>ec_number</th>\n",
       "      <th>equation_chebi</th>\n",
       "      <th>equation_smiles</th>\n",
       "    </tr>\n",
       "  </thead>\n",
       "  <tbody>\n",
       "    <tr>\n",
       "      <th>0</th>\n",
       "      <td>RHEA:22636</td>\n",
       "      <td>dCTP + H2O = dCMP + diphosphate + H(+)</td>\n",
       "      <td>CHEBI:61481;CHEBI:15377;CHEBI:57566;CHEBI:3301...</td>\n",
       "      <td>EC:3.6.1.9;EC:3.6.1.12;EC:3.6.1.65</td>\n",
       "      <td>CHEBI:61481 + CHEBI:15377 = CHEBI:57566 + CHEB...</td>\n",
       "      <td>Nc1ccn([C@H]2C[C@H](O)[C@@H](COP([O-])(=O)OP([...</td>\n",
       "    </tr>\n",
       "    <tr>\n",
       "      <th>1</th>\n",
       "      <td>RHEA:22640</td>\n",
       "      <td>NADP(+) + sphinganine = 3-oxosphinganine + H(+...</td>\n",
       "      <td>CHEBI:58349;CHEBI:57817;CHEBI:58299;CHEBI:1537...</td>\n",
       "      <td>EC:1.1.1.102</td>\n",
       "      <td>CHEBI:58349 + CHEBI:57817 = CHEBI:58299 + CHEB...</td>\n",
       "      <td>NC(=O)c1ccc[n+](c1)[C@@H]1O[C@H](COP([O-])(=O)...</td>\n",
       "    </tr>\n",
       "  </tbody>\n",
       "</table>\n",
       "</div>"
      ],
      "text/plain": [
       "  reaction_id                                           equation  \\\n",
       "0  RHEA:22636             dCTP + H2O = dCMP + diphosphate + H(+)   \n",
       "1  RHEA:22640  NADP(+) + sphinganine = 3-oxosphinganine + H(+...   \n",
       "\n",
       "                                            chebi_id  \\\n",
       "0  CHEBI:61481;CHEBI:15377;CHEBI:57566;CHEBI:3301...   \n",
       "1  CHEBI:58349;CHEBI:57817;CHEBI:58299;CHEBI:1537...   \n",
       "\n",
       "                            ec_number  \\\n",
       "0  EC:3.6.1.9;EC:3.6.1.12;EC:3.6.1.65   \n",
       "1                        EC:1.1.1.102   \n",
       "\n",
       "                                      equation_chebi  \\\n",
       "0  CHEBI:61481 + CHEBI:15377 = CHEBI:57566 + CHEB...   \n",
       "1  CHEBI:58349 + CHEBI:57817 = CHEBI:58299 + CHEB...   \n",
       "\n",
       "                                     equation_smiles  \n",
       "0  Nc1ccn([C@H]2C[C@H](O)[C@@H](COP([O-])(=O)OP([...  \n",
       "1  NC(=O)c1ccc[n+](c1)[C@@H]1O[C@H](COP([O-])(=O)...  "
      ]
     },
     "execution_count": 33,
     "metadata": {},
     "output_type": "execute_result"
    }
   ],
   "source": [
    "rxns = pd.read_feather(cfg.FILE_RHEA_REACTION)\n",
    "rxns.head(2)"
   ]
  },
  {
   "cell_type": "code",
   "execution_count": 34,
   "id": "d1a2bf7d",
   "metadata": {},
   "outputs": [
    {
     "name": "stdout",
     "output_type": "stream",
     "text": [
      "测试单个反应...\n",
      "测试结果: 成功\n"
     ]
    }
   ],
   "source": [
    "def build_rxn_files(rxn_row):\n",
    "    \"\"\"构建反应JSON文件，添加错误处理\"\"\"\n",
    "    rxn_id = rxn_row['reaction_id']\n",
    "    rxn_smiles = rxn_row['equation_smiles']\n",
    "    rxn_equation = rxn_row['equation']\n",
    "    rxn_equation_ref_chebi = rxn_row['equation_chebi']\n",
    "    rxn_ec = rxn_row['ec_number']\n",
    "    \n",
    "    try:\n",
    "        reaction = rxnTool.Reaction(rxn_smiles, rxn_equation, rxn_equation_ref_chebi, rxn_id=rxn_id, rxn_ec=rxn_ec)\n",
    "        json_path = f'{cfg.DIR_RXN_JSON}{rxn_id.replace(\":\", \"_\")}.json'\n",
    "        reaction.save_json_file(json_path)\n",
    "        return True\n",
    "    except Exception as e:\n",
    "        print(f'处理失败 {rxn_id}: {e}')\n",
    "        return False\n",
    "\n",
    "# 测试单个反应\n",
    "print(\"测试单个反应...\")\n",
    "result = build_rxn_files(rxn_row=rxns.iloc[0])\n",
    "print(f\"测试结果: {'成功' if result else '失败'}\")"
   ]
  },
  {
   "cell_type": "code",
   "execution_count": 35,
   "id": "6cfa939c",
   "metadata": {},
   "outputs": [
    {
     "name": "stdout",
     "output_type": "stream",
     "text": [
      "开始处理所有反应...\n"
     ]
    },
    {
     "name": "stderr",
     "output_type": "stream",
     "text": [
      " 45%|████▌     | 7389/16410 [01:57<01:46, 84.40it/s] "
     ]
    },
    {
     "name": "stdout",
     "output_type": "stream",
     "text": [
      "警告: 无法创建产物分子 beta-hematin (SMILES: C1=2N3C(C=C4[N+]5=C(C=C6N7C8=CC9=[N+](C(=C1)C(=C9CCC([O-])=O)C)[Fe-2]573OC(CCC=\\%10C=\\%11C=C\\%12C(=C(C\\%13=CC\\%14=[N+]\\%15C(=CC=\\%16N\\%17C(=C(C\\%16C=C)C)C=C([N+]\\%11[Fe-2]\\%15\\%17(N\\%13\\%12)OC(CCC8=C6C)=O)C\\%10C)C(=C\\%14C=C)C)C)CCC([O-])=O)=O)C(=C4C)C=C)=C(C2C)C=C): 无法解析SMILES字符串: C1=2N3C(C=C4[N+]5=C(C=C6N7C8=CC9=[N+](C(=C1)C(=C9CCC([O-])=O)C)[Fe-2]573OC(CCC=\\%10C=\\%11C=C\\%12C(=C(C\\%13=CC\\%14=[N+]\\%15C(=CC=\\%16N\\%17C(=C(C\\%16C=C)C)C=C([N+]\\%11[Fe-2]\\%15\\%17(N\\%13\\%12)OC(CCC8=C6C)=O)C\\%10C)C(=C\\%14C=C)C)C)CCC([O-])=O)=O)C(=C4C)C=C)=C(C2C)C=C\n"
     ]
    },
    {
     "name": "stderr",
     "output_type": "stream",
     "text": [
      " 48%|████▊     | 7929/16410 [02:04<01:45, 80.05it/s]"
     ]
    },
    {
     "name": "stdout",
     "output_type": "stream",
     "text": [
      "解析反应失败 RHEA:55876: SMILES字符串为空\n",
      "解析反应失败 RHEA:55920: SMILES字符串为空\n"
     ]
    },
    {
     "name": "stderr",
     "output_type": "stream",
     "text": [
      " 49%|████▉     | 8028/16410 [02:07<03:31, 39.66it/s]"
     ]
    },
    {
     "name": "stdout",
     "output_type": "stream",
     "text": [
      "解析反应失败 RHEA:56300: SMILES字符串为空\n"
     ]
    },
    {
     "name": "stderr",
     "output_type": "stream",
     "text": [
      " 50%|████▉     | 8147/16410 [02:09<01:54, 72.45it/s]"
     ]
    },
    {
     "name": "stdout",
     "output_type": "stream",
     "text": [
      "解析反应失败 RHEA:56788: SMILES字符串为空\n",
      "解析反应失败 RHEA:56800: SMILES字符串为空\n"
     ]
    },
    {
     "name": "stderr",
     "output_type": "stream",
     "text": [
      " 51%|█████     | 8372/16410 [02:11<01:52, 71.17it/s] "
     ]
    },
    {
     "name": "stdout",
     "output_type": "stream",
     "text": [
      "解析反应失败 RHEA:57688: SMILES字符串为空\n"
     ]
    },
    {
     "name": "stderr",
     "output_type": "stream",
     "text": [
      " 51%|█████▏    | 8450/16410 [02:13<02:21, 56.12it/s]"
     ]
    },
    {
     "name": "stdout",
     "output_type": "stream",
     "text": [
      "警告: 无法创建反应物分子 cyclic tetraadenylate (SMILES: NC1=NC=NC2=C1N=CN2[C@@]3(O[C@@]4(COP(=O)([O-])O[C@@]5([C@](O[C@@](N6C=7N=CN=C(N)C7N=C6)([C@@H]5O)[H])(COP(=O)([O-])O[C@@]8([C@](O[C@@](N9C=\\%10N=CN=C(N)C\\%10N=C9)([C@@H]8O)[H])(COP(=O)([O-])O[C@@]\\%11([C@](O[C@@](N\\%12C=\\%13N=CN=C(N)C\\%13N=C\\%12)([C@@H]\\%11O)[H])(COP(=O)([O-])O[C@]4([C@H]3O)[H])[H])[H])[H])[H])[H])[H])[H])[H]): 无法解析SMILES字符串: NC1=NC=NC2=C1N=CN2[C@@]3(O[C@@]4(COP(=O)([O-])O[C@@]5([C@](O[C@@](N6C=7N=CN=C(N)C7N=C6)([C@@H]5O)[H])(COP(=O)([O-])O[C@@]8([C@](O[C@@](N9C=\\%10N=CN=C(N)C\\%10N=C9)([C@@H]8O)[H])(COP(=O)([O-])O[C@@]\\%11([C@](O[C@@](N\\%12C=\\%13N=CN=C(N)C\\%13N=C\\%12)([C@@H]\\%11O)[H])(COP(=O)([O-])O[C@]4([C@H]3O)[H])[H])[H])[H])[H])[H])[H])[H])[H]\n"
     ]
    },
    {
     "name": "stderr",
     "output_type": "stream",
     "text": [
      " 52%|█████▏    | 8516/16410 [02:14<01:42, 76.78it/s]"
     ]
    },
    {
     "name": "stdout",
     "output_type": "stream",
     "text": [
      "警告: 无法创建产物分子 cyclic hexaadenylate (SMILES: NC1=NC=NC2=C1N=CN2[C@@]3(O[C@@]4(COP(=O)([O-])O[C@@]5([C@](O[C@@](N6C=7N=CN=C(N)C7N=C6)([C@@H]5O)[H])(COP(=O)([O-])O[C@@]8([C@](O[C@@](N9C=\\%10N=CN=C(N)C\\%10N=C9)([C@@H]8O)[H])(COP(=O)([O-])O[C@@]\\%11([C@](O[C@@](N\\%12C=\\%13N=CN=C(N)C\\%13N=C\\%12)([C@@H]\\%11O)[H])(COP(=O)([O-])O[C@@]\\%14([C@](O[C@@](N\\%15C=\\%16N=CN=C(N)C\\%16N=C\\%15)([C@@H]\\%14O)[H])(COP(=O)([O-])O[C@@]\\%17([C@](O[C@@](N\\%18C=\\%19N=CN=C(N)C\\%19N=C\\%18)([C@@H]\\%17O)[H])(COP(=O)([O-])O[C@]4([C@H]3O)[H])[H])[H])[H])[H])[H])[H])[H])[H])[H])[H])[H])[H]): 无法解析SMILES字符串: NC1=NC=NC2=C1N=CN2[C@@]3(O[C@@]4(COP(=O)([O-])O[C@@]5([C@](O[C@@](N6C=7N=CN=C(N)C7N=C6)([C@@H]5O)[H])(COP(=O)([O-])O[C@@]8([C@](O[C@@](N9C=\\%10N=CN=C(N)C\\%10N=C9)([C@@H]8O)[H])(COP(=O)([O-])O[C@@]\\%11([C@](O[C@@](N\\%12C=\\%13N=CN=C(N)C\\%13N=C\\%12)([C@@H]\\%11O)[H])(COP(=O)([O-])O[C@@]\\%14([C@](O[C@@](N\\%15C=\\%16N=CN=C(N)C\\%16N=C\\%15)([C@@H]\\%14O)[H])(COP(=O)([O-])O[C@@]\\%17([C@](O[C@@](N\\%18C=\\%19N=CN=C(N)C\\%19N=C\\%18)([C@@H]\\%17O)[H])(COP(=O)([O-])O[C@]4([C@H]3O)[H])[H])[H])[H])[H])[H])[H])[H])[H])[H])[H])[H])[H]\n",
      "警告: 无法创建产物分子 cyclic tetraadenylate (SMILES: NC1=NC=NC2=C1N=CN2[C@@]3(O[C@@]4(COP(=O)([O-])O[C@@]5([C@](O[C@@](N6C=7N=CN=C(N)C7N=C6)([C@@H]5O)[H])(COP(=O)([O-])O[C@@]8([C@](O[C@@](N9C=\\%10N=CN=C(N)C\\%10N=C9)([C@@H]8O)[H])(COP(=O)([O-])O[C@@]\\%11([C@](O[C@@](N\\%12C=\\%13N=CN=C(N)C\\%13N=C\\%12)([C@@H]\\%11O)[H])(COP(=O)([O-])O[C@]4([C@H]3O)[H])[H])[H])[H])[H])[H])[H])[H])[H]): 无法解析SMILES字符串: NC1=NC=NC2=C1N=CN2[C@@]3(O[C@@]4(COP(=O)([O-])O[C@@]5([C@](O[C@@](N6C=7N=CN=C(N)C7N=C6)([C@@H]5O)[H])(COP(=O)([O-])O[C@@]8([C@](O[C@@](N9C=\\%10N=CN=C(N)C\\%10N=C9)([C@@H]8O)[H])(COP(=O)([O-])O[C@@]\\%11([C@](O[C@@](N\\%12C=\\%13N=CN=C(N)C\\%13N=C\\%12)([C@@H]\\%11O)[H])(COP(=O)([O-])O[C@]4([C@H]3O)[H])[H])[H])[H])[H])[H])[H])[H])[H]\n"
     ]
    },
    {
     "name": "stderr",
     "output_type": "stream",
     "text": [
      " 58%|█████▊    | 9581/16410 [02:28<01:20, 85.02it/s] "
     ]
    },
    {
     "name": "stdout",
     "output_type": "stream",
     "text": [
      "警告: 无法创建产物分子 2 cornusiin E (SMILES: [C@@H]12COC(=O)C=3C(=C(C(=C(C3)O)O)O)C4=C(C(O[C@H]1[C@H](OC(C=5C=C(C(=C(C5)O)O)O)=O)[C@H]([C@@H](O2)OC(=O)C6=CC(=C(C(=C6)O)O)O)OC(=O)C=7C=C(C(=C(C7)O)O)O)=O)C=C(C(=C4[O-])[O-])OC8=C(C(O[C@@H]9O[C@@H]\\%10COC(=O)C=\\%11C(=C(C(=C(C\\%11)O)O)O)C\\%12=C(C(O[C@H]\\%10[C@H](OC(C=\\%13C=C(C(=C(C\\%13)O)O)O)=O)[C@H]9OC(=O)C=\\%14C=C(C(=C(C\\%14)O)O)O)=O)C=C(C(=C\\%12[O-])O)O)=O)C=C(C(=C8O)[O-])O): 无法解析SMILES字符串: [C@@H]12COC(=O)C=3C(=C(C(=C(C3)O)O)O)C4=C(C(O[C@H]1[C@H](OC(C=5C=C(C(=C(C5)O)O)O)=O)[C@H]([C@@H](O2)OC(=O)C6=CC(=C(C(=C6)O)O)O)OC(=O)C=7C=C(C(=C(C7)O)O)O)=O)C=C(C(=C4[O-])[O-])OC8=C(C(O[C@@H]9O[C@@H]\\%10COC(=O)C=\\%11C(=C(C(=C(C\\%11)O)O)O)C\\%12=C(C(O[C@H]\\%10[C@H](OC(C=\\%13C=C(C(=C(C\\%13)O)O)O)=O)[C@H]9OC(=O)C=\\%14C=C(C(=C(C\\%14)O)O)O)=O)C=C(C(=C\\%12[O-])O)O)=O)C=C(C(=C8O)[O-])O\n"
     ]
    },
    {
     "name": "stderr",
     "output_type": "stream",
     "text": [
      " 62%|██████▏   | 10226/16410 [02:36<01:35, 64.64it/s]"
     ]
    },
    {
     "name": "stdout",
     "output_type": "stream",
     "text": [
      "警告: 无法创建反应物分子 a 5'-end (5'-triphosphoguanosine)-adenylyl-adenylyl-cytidylyl-adenosine in mRNA (SMILES: C1(=O)NC(=NC2=C1N=CN2[C@@H]3O[C@H](COP(OP(OP(=O)([O-])OC[C@H]4O[C@@H](N5C=6N=CN=C(N)C6N=C5)[C@@H]([C@@H]4OP(OC[C@H]7O[C@@H](N8C=9N=CN=C(N)C9N=C8)[C@@H]([C@@H]7OP(OC[C@H]\\%10O[C@@H](N\\%11C(NC(=O)C(=C\\%11)C)=O)[C@@H]([C@@H]\\%10OP(OC[C@H]\\%12O[C@@H](N\\%13C=\\%14N=CN=C(N)C\\%14N=C\\%13)[C@@H]([C@@H]\\%12*)O)(=O)[O-])O)(=O)[O-])O)(=O)[O-])O)(=O)[O-])(=O)[O-])[C@@H](O)[C@H]3O)N): 无法解析SMILES字符串: C1(=O)NC(=NC2=C1N=CN2[C@@H]3O[C@H](COP(OP(OP(=O)([O-])OC[C@H]4O[C@@H](N5C=6N=CN=C(N)C6N=C5)[C@@H]([C@@H]4OP(OC[C@H]7O[C@@H](N8C=9N=CN=C(N)C9N=C8)[C@@H]([C@@H]7OP(OC[C@H]\\%10O[C@@H](N\\%11C(NC(=O)C(=C\\%11)C)=O)[C@@H]([C@@H]\\%10OP(OC[C@H]\\%12O[C@@H](N\\%13C=\\%14N=CN=C(N)C\\%14N=C\\%13)[C@@H]([C@@H]\\%12*)O)(=O)[O-])O)(=O)[O-])O)(=O)[O-])O)(=O)[O-])(=O)[O-])[C@@H](O)[C@H]3O)N\n",
      "警告: 无法创建产物分子 a 5'-end (N(7)-methyl 5'-triphosphoguanosine)-(2'-O-methyladenylyl)-adenylyl-cytidylyl-adenosine in mRNA (SMILES: C1(=O)NC(=NC2=C1[N+](=CN2[C@@H]3O[C@H](COP(OP(OP(=O)([O-])OC[C@H]4O[C@@H](N5C=6N=CN=C(N)C6N=C5)[C@@H]([C@@H]4OP(OC[C@H]7O[C@@H](N8C=9N=CN=C(N)C9N=C8)[C@@H]([C@@H]7OP(OC[C@H]\\%10O[C@@H](N\\%11C(NC(=O)C(=C\\%11)C)=O)[C@@H]([C@@H]\\%10OP(OC[C@H]\\%12O[C@@H](N\\%13C=\\%14N=CN=C(N)C\\%14N=C\\%13)[C@@H]([C@@H]\\%12*)O)(=O)[O-])O)(=O)[O-])O)(=O)[O-])OC)(=O)[O-])(=O)[O-])[C@@H](O)[C@H]3O)C)N): 无法解析SMILES字符串: C1(=O)NC(=NC2=C1[N+](=CN2[C@@H]3O[C@H](COP(OP(OP(=O)([O-])OC[C@H]4O[C@@H](N5C=6N=CN=C(N)C6N=C5)[C@@H]([C@@H]4OP(OC[C@H]7O[C@@H](N8C=9N=CN=C(N)C9N=C8)[C@@H]([C@@H]7OP(OC[C@H]\\%10O[C@@H](N\\%11C(NC(=O)C(=C\\%11)C)=O)[C@@H]([C@@H]\\%10OP(OC[C@H]\\%12O[C@@H](N\\%13C=\\%14N=CN=C(N)C\\%14N=C\\%13)[C@@H]([C@@H]\\%12*)O)(=O)[O-])O)(=O)[O-])O)(=O)[O-])OC)(=O)[O-])(=O)[O-])[C@@H](O)[C@H]3O)C)N\n",
      "警告: 无法创建反应物分子 a 5'-end (5'-triphosphoguanosine)-adenylyl-adenylyl-cytidylyl-adenosine in mRNA (SMILES: C1(=O)NC(=NC2=C1N=CN2[C@@H]3O[C@H](COP(OP(OP(=O)([O-])OC[C@H]4O[C@@H](N5C=6N=CN=C(N)C6N=C5)[C@@H]([C@@H]4OP(OC[C@H]7O[C@@H](N8C=9N=CN=C(N)C9N=C8)[C@@H]([C@@H]7OP(OC[C@H]\\%10O[C@@H](N\\%11C(NC(=O)C(=C\\%11)C)=O)[C@@H]([C@@H]\\%10OP(OC[C@H]\\%12O[C@@H](N\\%13C=\\%14N=CN=C(N)C\\%14N=C\\%13)[C@@H]([C@@H]\\%12*)O)(=O)[O-])O)(=O)[O-])O)(=O)[O-])O)(=O)[O-])(=O)[O-])[C@@H](O)[C@H]3O)N): 无法解析SMILES字符串: C1(=O)NC(=NC2=C1N=CN2[C@@H]3O[C@H](COP(OP(OP(=O)([O-])OC[C@H]4O[C@@H](N5C=6N=CN=C(N)C6N=C5)[C@@H]([C@@H]4OP(OC[C@H]7O[C@@H](N8C=9N=CN=C(N)C9N=C8)[C@@H]([C@@H]7OP(OC[C@H]\\%10O[C@@H](N\\%11C(NC(=O)C(=C\\%11)C)=O)[C@@H]([C@@H]\\%10OP(OC[C@H]\\%12O[C@@H](N\\%13C=\\%14N=CN=C(N)C\\%14N=C\\%13)[C@@H]([C@@H]\\%12*)O)(=O)[O-])O)(=O)[O-])O)(=O)[O-])O)(=O)[O-])(=O)[O-])[C@@H](O)[C@H]3O)N\n",
      "警告: 无法创建产物分子 a 5'-end (5'-triphosphoguanosine)-(2'-O-methyladenylyl)-adenylyl-cytidylyl-adenosine in mRNA (SMILES: C1(=O)NC(=NC2=C1N=CN2[C@@H]3O[C@H](COP(OP(OP(=O)([O-])OC[C@H]4O[C@@H](N5C=6N=CN=C(N)C6N=C5)[C@@H]([C@@H]4OP(OC[C@H]7O[C@@H](N8C=9N=CN=C(N)C9N=C8)[C@@H]([C@@H]7OP(OC[C@H]\\%10O[C@@H](N\\%11C(NC(=O)C(=C\\%11)C)=O)[C@@H]([C@@H]\\%10OP(OC[C@H]\\%12O[C@@H](N\\%13C=\\%14N=CN=C(N)C\\%14N=C\\%13)[C@@H]([C@@H]\\%12*)O)(=O)[O-])O)(=O)[O-])O)(=O)[O-])OC)(=O)[O-])(=O)[O-])[C@@H](O)[C@H]3O)N): 无法解析SMILES字符串: C1(=O)NC(=NC2=C1N=CN2[C@@H]3O[C@H](COP(OP(OP(=O)([O-])OC[C@H]4O[C@@H](N5C=6N=CN=C(N)C6N=C5)[C@@H]([C@@H]4OP(OC[C@H]7O[C@@H](N8C=9N=CN=C(N)C9N=C8)[C@@H]([C@@H]7OP(OC[C@H]\\%10O[C@@H](N\\%11C(NC(=O)C(=C\\%11)C)=O)[C@@H]([C@@H]\\%10OP(OC[C@H]\\%12O[C@@H](N\\%13C=\\%14N=CN=C(N)C\\%14N=C\\%13)[C@@H]([C@@H]\\%12*)O)(=O)[O-])O)(=O)[O-])O)(=O)[O-])OC)(=O)[O-])(=O)[O-])[C@@H](O)[C@H]3O)N\n"
     ]
    },
    {
     "name": "stderr",
     "output_type": "stream",
     "text": [
      " 62%|██████▏   | 10242/16410 [02:36<01:30, 68.51it/s]"
     ]
    },
    {
     "name": "stdout",
     "output_type": "stream",
     "text": [
      "警告: 无法创建反应物分子 a 5'-end triphospho-adenylyl-adenylyl-cytidylyl-adenosine in mRNA (SMILES: [O-]P(OP(OP(=O)([O-])OC[C@H]1O[C@@H](N2C=3N=CN=C(N)C3N=C2)[C@@H]([C@@H]1OP(OC[C@H]4O[C@@H](N5C=6N=CN=C(N)C6N=C5)[C@@H]([C@@H]4OP(OC[C@H]7O[C@@H](N8C(NC(=O)C(=C8)C)=O)[C@@H]([C@@H]7OP(OC[C@H]9O[C@@H](N\\%10C=\\%11N=CN=C(N)C\\%11N=C\\%10)[C@@H]([C@@H]9*)O)(=O)[O-])O)(=O)[O-])O)(=O)[O-])O)(=O)[O-])(=O)[O-]): 无法解析SMILES字符串: [O-]P(OP(OP(=O)([O-])OC[C@H]1O[C@@H](N2C=3N=CN=C(N)C3N=C2)[C@@H]([C@@H]1OP(OC[C@H]4O[C@@H](N5C=6N=CN=C(N)C6N=C5)[C@@H]([C@@H]4OP(OC[C@H]7O[C@@H](N8C(NC(=O)C(=C8)C)=O)[C@@H]([C@@H]7OP(OC[C@H]9O[C@@H](N\\%10C=\\%11N=CN=C(N)C\\%11N=C\\%10)[C@@H]([C@@H]9*)O)(=O)[O-])O)(=O)[O-])O)(=O)[O-])O)(=O)[O-])(=O)[O-]\n",
      "警告: 无法创建产物分子 a 5'-end (5'-triphosphoguanosine)-adenylyl-adenylyl-cytidylyl-adenosine in mRNA (SMILES: C1(=O)NC(=NC2=C1N=CN2[C@@H]3O[C@H](COP(OP(OP(=O)([O-])OC[C@H]4O[C@@H](N5C=6N=CN=C(N)C6N=C5)[C@@H]([C@@H]4OP(OC[C@H]7O[C@@H](N8C=9N=CN=C(N)C9N=C8)[C@@H]([C@@H]7OP(OC[C@H]\\%10O[C@@H](N\\%11C(NC(=O)C(=C\\%11)C)=O)[C@@H]([C@@H]\\%10OP(OC[C@H]\\%12O[C@@H](N\\%13C=\\%14N=CN=C(N)C\\%14N=C\\%13)[C@@H]([C@@H]\\%12*)O)(=O)[O-])O)(=O)[O-])O)(=O)[O-])O)(=O)[O-])(=O)[O-])[C@@H](O)[C@H]3O)N): 无法解析SMILES字符串: C1(=O)NC(=NC2=C1N=CN2[C@@H]3O[C@H](COP(OP(OP(=O)([O-])OC[C@H]4O[C@@H](N5C=6N=CN=C(N)C6N=C5)[C@@H]([C@@H]4OP(OC[C@H]7O[C@@H](N8C=9N=CN=C(N)C9N=C8)[C@@H]([C@@H]7OP(OC[C@H]\\%10O[C@@H](N\\%11C(NC(=O)C(=C\\%11)C)=O)[C@@H]([C@@H]\\%10OP(OC[C@H]\\%12O[C@@H](N\\%13C=\\%14N=CN=C(N)C\\%14N=C\\%13)[C@@H]([C@@H]\\%12*)O)(=O)[O-])O)(=O)[O-])O)(=O)[O-])O)(=O)[O-])(=O)[O-])[C@@H](O)[C@H]3O)N\n",
      "警告: 无法创建反应物分子 a 5'-end (5'-triphosphoguanosine)-(2'-O-methyladenylyl)-adenylyl-cytidylyl-adenosine in mRNA (SMILES: C1(=O)NC(=NC2=C1N=CN2[C@@H]3O[C@H](COP(OP(OP(=O)([O-])OC[C@H]4O[C@@H](N5C=6N=CN=C(N)C6N=C5)[C@@H]([C@@H]4OP(OC[C@H]7O[C@@H](N8C=9N=CN=C(N)C9N=C8)[C@@H]([C@@H]7OP(OC[C@H]\\%10O[C@@H](N\\%11C(NC(=O)C(=C\\%11)C)=O)[C@@H]([C@@H]\\%10OP(OC[C@H]\\%12O[C@@H](N\\%13C=\\%14N=CN=C(N)C\\%14N=C\\%13)[C@@H]([C@@H]\\%12*)O)(=O)[O-])O)(=O)[O-])O)(=O)[O-])OC)(=O)[O-])(=O)[O-])[C@@H](O)[C@H]3O)N): 无法解析SMILES字符串: C1(=O)NC(=NC2=C1N=CN2[C@@H]3O[C@H](COP(OP(OP(=O)([O-])OC[C@H]4O[C@@H](N5C=6N=CN=C(N)C6N=C5)[C@@H]([C@@H]4OP(OC[C@H]7O[C@@H](N8C=9N=CN=C(N)C9N=C8)[C@@H]([C@@H]7OP(OC[C@H]\\%10O[C@@H](N\\%11C(NC(=O)C(=C\\%11)C)=O)[C@@H]([C@@H]\\%10OP(OC[C@H]\\%12O[C@@H](N\\%13C=\\%14N=CN=C(N)C\\%14N=C\\%13)[C@@H]([C@@H]\\%12*)O)(=O)[O-])O)(=O)[O-])O)(=O)[O-])OC)(=O)[O-])(=O)[O-])[C@@H](O)[C@H]3O)N\n",
      "警告: 无法创建产物分子 a 5'-end (N(7)-methyl 5'-triphosphoguanosine)-(2'-O-methyladenylyl)-adenylyl-cytidylyl-adenosine in mRNA (SMILES: C1(=O)NC(=NC2=C1[N+](=CN2[C@@H]3O[C@H](COP(OP(OP(=O)([O-])OC[C@H]4O[C@@H](N5C=6N=CN=C(N)C6N=C5)[C@@H]([C@@H]4OP(OC[C@H]7O[C@@H](N8C=9N=CN=C(N)C9N=C8)[C@@H]([C@@H]7OP(OC[C@H]\\%10O[C@@H](N\\%11C(NC(=O)C(=C\\%11)C)=O)[C@@H]([C@@H]\\%10OP(OC[C@H]\\%12O[C@@H](N\\%13C=\\%14N=CN=C(N)C\\%14N=C\\%13)[C@@H]([C@@H]\\%12*)O)(=O)[O-])O)(=O)[O-])O)(=O)[O-])OC)(=O)[O-])(=O)[O-])[C@@H](O)[C@H]3O)C)N): 无法解析SMILES字符串: C1(=O)NC(=NC2=C1[N+](=CN2[C@@H]3O[C@H](COP(OP(OP(=O)([O-])OC[C@H]4O[C@@H](N5C=6N=CN=C(N)C6N=C5)[C@@H]([C@@H]4OP(OC[C@H]7O[C@@H](N8C=9N=CN=C(N)C9N=C8)[C@@H]([C@@H]7OP(OC[C@H]\\%10O[C@@H](N\\%11C(NC(=O)C(=C\\%11)C)=O)[C@@H]([C@@H]\\%10OP(OC[C@H]\\%12O[C@@H](N\\%13C=\\%14N=CN=C(N)C\\%14N=C\\%13)[C@@H]([C@@H]\\%12*)O)(=O)[O-])O)(=O)[O-])O)(=O)[O-])OC)(=O)[O-])(=O)[O-])[C@@H](O)[C@H]3O)C)N\n"
     ]
    },
    {
     "name": "stderr",
     "output_type": "stream",
     "text": [
      " 64%|██████▍   | 10534/16410 [02:40<01:11, 82.30it/s] "
     ]
    },
    {
     "name": "stdout",
     "output_type": "stream",
     "text": [
      "警告: 无法创建反应物分子 (tRNA)-3'-end (ribonucleoside 5'-phosphate)-(guanosyl 5'-phosphate)-(cytosyl 5'-phosphate)-(cytosyl 5'-phosphate)-(adenosine 5'-phosphate) (SMILES: N1([C@@H]2O[C@H](COP(O[C@H]3[C@H]([C@H](*)O[C@@H]3COP(*)([O-])=O)O)([O-])=O)[C@H]([C@H]2O)OP(OC[C@H]4O[C@@H](N5C(N=C(N)C=C5)=O)[C@@H]([C@@H]4OP(OC[C@H]6O[C@@H](N7C(N=C(N)C=C7)=O)[C@@H]([C@@H]6OP(OC[C@H]8O[C@@H](N9C=\\%10N=CN=C(N)C\\%10N=C9)[C@@H]([C@@H]8O)O)([O-])=O)O)([O-])=O)O)([O-])=O)C=\\%11N=C(NC(=O)C\\%11N=C1)N): 无法解析SMILES字符串: N1([C@@H]2O[C@H](COP(O[C@H]3[C@H]([C@H](*)O[C@@H]3COP(*)([O-])=O)O)([O-])=O)[C@H]([C@H]2O)OP(OC[C@H]4O[C@@H](N5C(N=C(N)C=C5)=O)[C@@H]([C@@H]4OP(OC[C@H]6O[C@@H](N7C(N=C(N)C=C7)=O)[C@@H]([C@@H]6OP(OC[C@H]8O[C@@H](N9C=\\%10N=CN=C(N)C\\%10N=C9)[C@@H]([C@@H]8O)O)([O-])=O)O)([O-])=O)O)([O-])=O)C=\\%11N=C(NC(=O)C\\%11N=C1)N\n",
      "警告: 无法创建产物分子 GpCpCpA (SMILES: N1([C@@H]2O[C@H](CO)[C@H]([C@H]2O)OP(OC[C@H]3O[C@@H](N4C(N=C(N)C=C4)=O)[C@@H]([C@@H]3OP(OC[C@H]5O[C@@H](N6C(N=C(N)C=C6)=O)[C@@H]([C@@H]5OP(OC[C@H]7O[C@@H](N8C=9N=CN=C(N)C9N=C8)[C@@H]([C@@H]7O)O)([O-])=O)O)([O-])=O)O)([O-])=O)C=\\%10N=C(NC(=O)C\\%10N=C1)N): 无法解析SMILES字符串: N1([C@@H]2O[C@H](CO)[C@H]([C@H]2O)OP(OC[C@H]3O[C@@H](N4C(N=C(N)C=C4)=O)[C@@H]([C@@H]3OP(OC[C@H]5O[C@@H](N6C(N=C(N)C=C6)=O)[C@@H]([C@@H]5OP(OC[C@H]7O[C@@H](N8C=9N=CN=C(N)C9N=C8)[C@@H]([C@@H]7O)O)([O-])=O)O)([O-])=O)O)([O-])=O)C=\\%10N=C(NC(=O)C\\%10N=C1)N\n"
     ]
    },
    {
     "name": "stderr",
     "output_type": "stream",
     "text": [
      " 78%|███████▊  | 12846/16410 [03:08<00:36, 97.96it/s] "
     ]
    },
    {
     "name": "stdout",
     "output_type": "stream",
     "text": [
      "解析反应失败 RHEA:75967: SMILES字符串为空\n"
     ]
    },
    {
     "name": "stderr",
     "output_type": "stream",
     "text": [
      "100%|██████████| 16410/16410 [03:50<00:00, 71.08it/s] "
     ]
    },
    {
     "name": "stdout",
     "output_type": "stream",
     "text": [
      "\n",
      "处理完成!\n",
      "总数: 16410\n",
      "成功: 16410 (100.00%)\n",
      "失败: 0 (0.00%)\n"
     ]
    },
    {
     "name": "stderr",
     "output_type": "stream",
     "text": [
      "\n"
     ]
    },
    {
     "data": {
      "text/plain": [
       "0        True\n",
       "1        True\n",
       "2        True\n",
       "3        True\n",
       "4        True\n",
       "         ... \n",
       "16405    True\n",
       "16406    True\n",
       "16407    True\n",
       "16408    True\n",
       "16409    True\n",
       "Length: 16410, dtype: bool"
      ]
     },
     "execution_count": 35,
     "metadata": {},
     "output_type": "execute_result"
    }
   ],
   "source": [
    "# 处理所有反应并统计结果\n",
    "print(\"开始处理所有反应...\")\n",
    "results = rxns.progress_apply(build_rxn_files, axis=1)\n",
    "\n",
    "# 统计结果\n",
    "success_count = results.sum()\n",
    "total_count = len(results)\n",
    "failed_count = total_count - success_count\n",
    "\n",
    "print(f\"\\n处理完成!\")\n",
    "print(f\"总数: {total_count}\")\n",
    "print(f\"成功: {success_count} ({success_count/total_count*100:.2f}%)\")\n",
    "print(f\"失败: {failed_count} ({failed_count/total_count*100:.2f}%)\")\n",
    "\n",
    "# 保存失败的反应ID\n",
    "if failed_count > 0:\n",
    "    failed_indices = results[~results].index\n",
    "    failed_rxn_ids = rxns.loc[failed_indices, 'reaction_id'].tolist()\n",
    "    \n",
    "    with open('notebook_failed_reactions.txt', 'w') as f:\n",
    "        for rxn_id in failed_rxn_ids:\n",
    "            f.write(f'{rxn_id}\\n')\n",
    "    \n",
    "    print(f\"失败的反应ID已保存到: notebook_failed_reactions.txt\")\n",
    "    print(f\"前10个失败的反应ID: {failed_rxn_ids[:10]}\")\n",
    "\n",
    "results"
   ]
  }
 ],
 "metadata": {
  "kernelspec": {
   "display_name": "rxnrecer-release",
   "language": "python",
   "name": "python3"
  },
  "language_info": {
   "codemirror_mode": {
    "name": "ipython",
    "version": 3
   },
   "file_extension": ".py",
   "mimetype": "text/x-python",
   "name": "python",
   "nbconvert_exporter": "python",
   "pygments_lexer": "ipython3",
   "version": "3.10.18"
  }
 },
 "nbformat": 4,
 "nbformat_minor": 5
}
