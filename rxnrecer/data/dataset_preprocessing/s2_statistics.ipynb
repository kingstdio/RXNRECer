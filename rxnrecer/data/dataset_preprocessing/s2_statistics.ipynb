{
 "cells": [
  {
   "attachments": {},
   "cell_type": "markdown",
   "id": "2287d9df-a1b8-4fc7-8373-01ab1721225d",
   "metadata": {},
   "source": [
    "# Datasets analysis \n",
    "\n",
    "> author: Shizhenkun   \n",
    "> email: zhenkun.shi@tib.cas.cn   \n",
    "> date: 2025-01-04  \n",
    "\n"
   ]
  },
  {
   "attachments": {},
   "cell_type": "markdown",
   "id": "6c6db9dd-5c89-423e-8131-b2e5b4c01618",
   "metadata": {},
   "source": [
    "## 1. Import packages"
   ]
  },
  {
   "cell_type": "code",
   "execution_count": 8,
   "id": "8fd276ba-aec4-4edf-a2d1-682a15233476",
   "metadata": {
    "tags": []
   },
   "outputs": [
    {
     "name": "stdout",
     "output_type": "stream",
     "text": [
      "INFO: Pandarallel will run on 192 workers.\n",
      "INFO: Pandarallel will use Memory file system to transfer data between the main process and workers.\n",
      "The autoreload extension is already loaded. To reload it, use:\n",
      "  %reload_ext autoreload\n"
     ]
    }
   ],
   "source": [
    "import pandas as pd\n",
    "import sys,os\n",
    "sys.path.insert(0, os.path.dirname(os.path.realpath('__file__')))\n",
    "sys.path.insert(1,'../')\n",
    "from config import conf as cfg\n",
    "from tkinter import _flatten\n",
    "from tools import rheatool as rheatool\n",
    "import plotly.express as px\n",
    "from collections import OrderedDict\n",
    "import plotly.graph_objects as go\n",
    "from plotly.subplots import make_subplots\n",
    "from pandarallel import pandarallel # 导入pandaralle\n",
    "pandarallel.initialize(progress_bar=False)\n",
    "\n",
    "from IPython.display import  HTML\n",
    "%load_ext autoreload\n",
    "%autoreload 2"
   ]
  },
  {
   "attachments": {},
   "cell_type": "markdown",
   "id": "901557a4-c496-4608-84e2-3306f6a322e3",
   "metadata": {},
   "source": [
    "## 2. Load data"
   ]
  },
  {
   "cell_type": "code",
   "execution_count": 9,
   "id": "8fe2ccc2",
   "metadata": {},
   "outputs": [
    {
     "name": "stdout",
     "output_type": "stream",
     "text": [
      "loading success\n"
     ]
    }
   ],
   "source": [
    "ds_rcv = pd.read_feather(cfg.FILE_DS_TRAIN)\n",
    "ds_rcp = pd.read_feather(cfg.FILE_DS_TEST)\n",
    "rhea = pd.read_feather(cfg.FILE_DS_RHEA_REACTIONS)\n",
    "\n",
    "# 10-fold cross-validation dataset\n",
    "train_paths = [f'{cfg.DIR_DATASET}validation/fold{i}/train.feather' for i in range(1, 11)]\n",
    "test_paths = [f'{cfg.DIR_DATASET}validation/fold{i}/valid.feather' for i in range(1, 11)]\n",
    "\n",
    "dfs_train = [pd.read_feather(p) for p in train_paths]\n",
    "dfs_test = [pd.read_feather(p) for p in test_paths]\n",
    "\n",
    "\n",
    "print('loading success')"
   ]
  },
  {
   "attachments": {},
   "cell_type": "markdown",
   "id": "ebe87888",
   "metadata": {},
   "source": [
    "## 3. Statistics "
   ]
  },
  {
   "cell_type": "code",
   "execution_count": 11,
   "id": "5fe8b7d0",
   "metadata": {},
   "outputs": [],
   "source": [
    "\n",
    "def stat_ds(dsname, name='Dataset'):\n",
    "\n",
    "    # 1. 基础统计\n",
    "    num_proteins = len(set(dsname.uniprot_id))\n",
    "    none_enzyme_records = len(dsname[dsname.reaction_id == \"-\"])\n",
    "    enzyme_records = len(dsname[dsname.reaction_id != \"-\"])\n",
    "\n",
    "    # 2. Reaction 相关\n",
    "    reactions = set(_flatten([item.split(';') for item in set(dsname.reaction_id)]))\n",
    "    num_reactions = len(reactions - {'-'})\n",
    "    enzyme_rxn_relations = dsname[dsname.reaction_id != '-'].reaction_id.apply(lambda x: len(x.split(';'))).sum()\n",
    "\n",
    "    # 3. EC 相关\n",
    "    num_enzymes_have_ec = len(dsname[dsname.ec_number != '-'])\n",
    "    num_proteins_ec_l1 = len(dsname[dsname.ec_specific_level == 1])\n",
    "    num_proteins_ec_l2 = len(dsname[dsname.ec_specific_level == 2])\n",
    "    num_proteins_ec_l3 = len(dsname[dsname.ec_specific_level == 3])\n",
    "    num_proteins_ec_l4 = len(dsname[dsname.ec_specific_level == 4])\n",
    "\n",
    "    valid_ecs = dsname.loc[dsname.ec_number != '-', 'ec_number']\n",
    "    flattened_ecs = _flatten([s.split(',') for s in valid_ecs])\n",
    "    unique_ecs = sorted(set([e for e in flattened_ecs if e != '-']))\n",
    "\n",
    "    ecs_df = pd.DataFrame(unique_ecs, columns=['ec'])\n",
    "    ecs_df['ec_specific_level'] = ecs_df.ec.apply(lambda x: 4 - x.count('-'))\n",
    "\n",
    "    num_ec = len(ecs_df)\n",
    "    num_ec_l1 = len(ecs_df[ecs_df.ec_specific_level == 1])\n",
    "    num_ec_l2 = len(ecs_df[ecs_df.ec_specific_level == 2])\n",
    "    num_ec_l3 = len(ecs_df[ecs_df.ec_specific_level == 3])\n",
    "    num_ec_l4 = len(ecs_df[ecs_df.ec_specific_level == 4])\n",
    "\n",
    "    # 4. 结果组织为 DataFrame\n",
    "    result = OrderedDict({\n",
    "        'Dataset': name,\n",
    "        'Protein_records': num_proteins,\n",
    "        'None_enzyme_records': none_enzyme_records,\n",
    "        'Enzyme_records': enzyme_records,\n",
    "        'Reaction_records': num_reactions,\n",
    "        'Enzyme-Reaction_relations': enzyme_rxn_relations,\n",
    "        'Enzymes_with_ec': num_enzymes_have_ec,\n",
    "        'Proteins_with_l1_ec': num_proteins_ec_l1,\n",
    "        'Proteins_with_l2_ec': num_proteins_ec_l2,\n",
    "        'Proteins_with_l3_ec': num_proteins_ec_l3,\n",
    "        'Proteins_with_l4_ec': num_proteins_ec_l4,\n",
    "        'Proteins_without_ec': num_proteins - num_enzymes_have_ec,\n",
    "        'Distinct_ec': num_ec,\n",
    "        'Distinct_ec_l1': num_ec_l1,\n",
    "        'Distinct_ec_l2': num_ec_l2,\n",
    "        'Distinct_ec_l3': num_ec_l3,\n",
    "        'Distinct_ec_l4': num_ec_l4,\n",
    "    })\n",
    "\n",
    "    return pd.DataFrame([result])"
   ]
  },
  {
   "cell_type": "markdown",
   "id": "7de4f61a",
   "metadata": {},
   "source": [
    "#### 3.1 Reading data"
   ]
  },
  {
   "cell_type": "markdown",
   "id": "9ad80723",
   "metadata": {},
   "source": [
    "### 3.2 _ds_rcp_(24) "
   ]
  },
  {
   "cell_type": "code",
   "execution_count": 57,
   "id": "37f50c71",
   "metadata": {},
   "outputs": [
    {
     "data": {
      "text/html": [
       "<div>\n",
       "<style scoped>\n",
       "    .dataframe tbody tr th:only-of-type {\n",
       "        vertical-align: middle;\n",
       "    }\n",
       "\n",
       "    .dataframe tbody tr th {\n",
       "        vertical-align: top;\n",
       "    }\n",
       "\n",
       "    .dataframe thead th {\n",
       "        text-align: right;\n",
       "    }\n",
       "</style>\n",
       "<table border=\"1\" class=\"dataframe\">\n",
       "  <thead>\n",
       "    <tr style=\"text-align: right;\">\n",
       "      <th></th>\n",
       "      <th>Dataset</th>\n",
       "      <th>Protein_records</th>\n",
       "      <th>None_enzyme_records</th>\n",
       "      <th>Enzyme_records</th>\n",
       "      <th>Reaction_records</th>\n",
       "      <th>Enzyme-Reaction_relations</th>\n",
       "      <th>Enzymes_with_ec</th>\n",
       "      <th>Proteins_with_l1_ec</th>\n",
       "      <th>Proteins_with_l2_ec</th>\n",
       "      <th>Proteins_with_l3_ec</th>\n",
       "      <th>Proteins_with_l4_ec</th>\n",
       "      <th>Proteins_without_ec</th>\n",
       "      <th>Distinct_ec</th>\n",
       "      <th>Distinct_ec_l1</th>\n",
       "      <th>Distinct_ec_l2</th>\n",
       "      <th>Distinct_ec_l3</th>\n",
       "      <th>Distinct_ec_l4</th>\n",
       "    </tr>\n",
       "  </thead>\n",
       "  <tbody>\n",
       "    <tr>\n",
       "      <th>0</th>\n",
       "      <td>ds_rcv</td>\n",
       "      <td>508587</td>\n",
       "      <td>282920</td>\n",
       "      <td>225667</td>\n",
       "      <td>10478</td>\n",
       "      <td>304013</td>\n",
       "      <td>216525</td>\n",
       "      <td>335</td>\n",
       "      <td>883</td>\n",
       "      <td>11991</td>\n",
       "      <td>203316</td>\n",
       "      <td>292062</td>\n",
       "      <td>4741</td>\n",
       "      <td>16</td>\n",
       "      <td>63</td>\n",
       "      <td>207</td>\n",
       "      <td>4453</td>\n",
       "    </tr>\n",
       "    <tr>\n",
       "      <th>1</th>\n",
       "      <td>ds_rcp</td>\n",
       "      <td>13515</td>\n",
       "      <td>10310</td>\n",
       "      <td>3205</td>\n",
       "      <td>2185</td>\n",
       "      <td>5795</td>\n",
       "      <td>5579</td>\n",
       "      <td>629</td>\n",
       "      <td>225</td>\n",
       "      <td>1780</td>\n",
       "      <td>2945</td>\n",
       "      <td>7936</td>\n",
       "      <td>1335</td>\n",
       "      <td>11</td>\n",
       "      <td>45</td>\n",
       "      <td>131</td>\n",
       "      <td>1146</td>\n",
       "    </tr>\n",
       "  </tbody>\n",
       "</table>\n",
       "</div>"
      ],
      "text/plain": [
       "  Dataset  Protein_records  None_enzyme_records  Enzyme_records  \\\n",
       "0  ds_rcv           508587               282920          225667   \n",
       "1  ds_rcp            13515                10310            3205   \n",
       "\n",
       "   Reaction_records  Enzyme-Reaction_relations  Enzymes_with_ec  \\\n",
       "0             10478                     304013           216525   \n",
       "1              2185                       5795             5579   \n",
       "\n",
       "   Proteins_with_l1_ec  Proteins_with_l2_ec  Proteins_with_l3_ec  \\\n",
       "0                  335                  883                11991   \n",
       "1                  629                  225                 1780   \n",
       "\n",
       "   Proteins_with_l4_ec  Proteins_without_ec  Distinct_ec  Distinct_ec_l1  \\\n",
       "0               203316               292062         4741              16   \n",
       "1                 2945                 7936         1335              11   \n",
       "\n",
       "   Distinct_ec_l2  Distinct_ec_l3  Distinct_ec_l4  \n",
       "0              63             207            4453  \n",
       "1              45             131            1146  "
      ]
     },
     "execution_count": 57,
     "metadata": {},
     "output_type": "execute_result"
    }
   ],
   "source": [
    "stat_rcv = stat_ds(dsname=ds_rcv, name='ds_rcv')\n",
    "stat_rcp = stat_ds(dsname=ds_rcp, name='ds_rcp')\n",
    "\n",
    "pd.concat([stat_rcv, stat_rcp], ignore_index=True)"
   ]
  },
  {
   "cell_type": "code",
   "execution_count": 19,
   "id": "666dca3c",
   "metadata": {},
   "outputs": [
    {
     "data": {
      "text/html": [
       "<div>\n",
       "<style scoped>\n",
       "    .dataframe tbody tr th:only-of-type {\n",
       "        vertical-align: middle;\n",
       "    }\n",
       "\n",
       "    .dataframe tbody tr th {\n",
       "        vertical-align: top;\n",
       "    }\n",
       "\n",
       "    .dataframe thead th {\n",
       "        text-align: right;\n",
       "    }\n",
       "</style>\n",
       "<table border=\"1\" class=\"dataframe\">\n",
       "  <thead>\n",
       "    <tr style=\"text-align: right;\">\n",
       "      <th></th>\n",
       "      <th>Dataset</th>\n",
       "      <th>Protein_records</th>\n",
       "      <th>None_enzyme_records</th>\n",
       "      <th>Enzyme_records</th>\n",
       "      <th>Reaction_records</th>\n",
       "      <th>Enzyme-Reaction_relations</th>\n",
       "      <th>Enzymes_with_ec</th>\n",
       "      <th>Proteins_with_l1_ec</th>\n",
       "      <th>Proteins_with_l2_ec</th>\n",
       "      <th>Proteins_with_l3_ec</th>\n",
       "      <th>Proteins_with_l4_ec</th>\n",
       "      <th>Proteins_without_ec</th>\n",
       "      <th>Distinct_ec</th>\n",
       "      <th>Distinct_ec_l1</th>\n",
       "      <th>Distinct_ec_l2</th>\n",
       "      <th>Distinct_ec_l3</th>\n",
       "      <th>Distinct_ec_l4</th>\n",
       "    </tr>\n",
       "  </thead>\n",
       "  <tbody>\n",
       "    <tr>\n",
       "      <th>0</th>\n",
       "      <td>ds_rcv_fold1_train</td>\n",
       "      <td>457729</td>\n",
       "      <td>254621</td>\n",
       "      <td>203108</td>\n",
       "      <td>10208</td>\n",
       "      <td>273904</td>\n",
       "      <td>194882</td>\n",
       "      <td>300</td>\n",
       "      <td>817</td>\n",
       "      <td>10777</td>\n",
       "      <td>182988</td>\n",
       "      <td>262847</td>\n",
       "      <td>4591</td>\n",
       "      <td>16</td>\n",
       "      <td>63</td>\n",
       "      <td>201</td>\n",
       "      <td>4309</td>\n",
       "    </tr>\n",
       "    <tr>\n",
       "      <th>1</th>\n",
       "      <td>ds_rcv_fold1_test</td>\n",
       "      <td>50858</td>\n",
       "      <td>28299</td>\n",
       "      <td>22559</td>\n",
       "      <td>4398</td>\n",
       "      <td>30109</td>\n",
       "      <td>21643</td>\n",
       "      <td>35</td>\n",
       "      <td>66</td>\n",
       "      <td>1214</td>\n",
       "      <td>20328</td>\n",
       "      <td>29215</td>\n",
       "      <td>2124</td>\n",
       "      <td>9</td>\n",
       "      <td>27</td>\n",
       "      <td>115</td>\n",
       "      <td>1973</td>\n",
       "    </tr>\n",
       "    <tr>\n",
       "      <th>2</th>\n",
       "      <td>ds_rcv_fold2_train</td>\n",
       "      <td>457729</td>\n",
       "      <td>254584</td>\n",
       "      <td>203145</td>\n",
       "      <td>10186</td>\n",
       "      <td>273396</td>\n",
       "      <td>194903</td>\n",
       "      <td>301</td>\n",
       "      <td>781</td>\n",
       "      <td>10806</td>\n",
       "      <td>183015</td>\n",
       "      <td>262826</td>\n",
       "      <td>4603</td>\n",
       "      <td>16</td>\n",
       "      <td>64</td>\n",
       "      <td>200</td>\n",
       "      <td>4322</td>\n",
       "    </tr>\n",
       "    <tr>\n",
       "      <th>3</th>\n",
       "      <td>ds_rcv_fold2_test</td>\n",
       "      <td>50858</td>\n",
       "      <td>28336</td>\n",
       "      <td>22522</td>\n",
       "      <td>4690</td>\n",
       "      <td>30617</td>\n",
       "      <td>21622</td>\n",
       "      <td>34</td>\n",
       "      <td>102</td>\n",
       "      <td>1185</td>\n",
       "      <td>20301</td>\n",
       "      <td>29236</td>\n",
       "      <td>2168</td>\n",
       "      <td>6</td>\n",
       "      <td>28</td>\n",
       "      <td>108</td>\n",
       "      <td>2025</td>\n",
       "    </tr>\n",
       "    <tr>\n",
       "      <th>4</th>\n",
       "      <td>ds_rcv_fold3_train</td>\n",
       "      <td>457729</td>\n",
       "      <td>254843</td>\n",
       "      <td>202886</td>\n",
       "      <td>10205</td>\n",
       "      <td>273386</td>\n",
       "      <td>194640</td>\n",
       "      <td>291</td>\n",
       "      <td>803</td>\n",
       "      <td>10716</td>\n",
       "      <td>182830</td>\n",
       "      <td>263089</td>\n",
       "      <td>4595</td>\n",
       "      <td>15</td>\n",
       "      <td>64</td>\n",
       "      <td>199</td>\n",
       "      <td>4315</td>\n",
       "    </tr>\n",
       "    <tr>\n",
       "      <th>5</th>\n",
       "      <td>ds_rcv_fold3_test</td>\n",
       "      <td>50858</td>\n",
       "      <td>28077</td>\n",
       "      <td>22781</td>\n",
       "      <td>4544</td>\n",
       "      <td>30627</td>\n",
       "      <td>21885</td>\n",
       "      <td>44</td>\n",
       "      <td>80</td>\n",
       "      <td>1275</td>\n",
       "      <td>20486</td>\n",
       "      <td>28973</td>\n",
       "      <td>2190</td>\n",
       "      <td>10</td>\n",
       "      <td>26</td>\n",
       "      <td>118</td>\n",
       "      <td>2036</td>\n",
       "    </tr>\n",
       "    <tr>\n",
       "      <th>6</th>\n",
       "      <td>ds_rcv_fold4_train</td>\n",
       "      <td>457729</td>\n",
       "      <td>254616</td>\n",
       "      <td>203113</td>\n",
       "      <td>10200</td>\n",
       "      <td>273495</td>\n",
       "      <td>194868</td>\n",
       "      <td>302</td>\n",
       "      <td>809</td>\n",
       "      <td>10779</td>\n",
       "      <td>182978</td>\n",
       "      <td>262861</td>\n",
       "      <td>4603</td>\n",
       "      <td>16</td>\n",
       "      <td>63</td>\n",
       "      <td>202</td>\n",
       "      <td>4321</td>\n",
       "    </tr>\n",
       "    <tr>\n",
       "      <th>7</th>\n",
       "      <td>ds_rcv_fold4_test</td>\n",
       "      <td>50858</td>\n",
       "      <td>28304</td>\n",
       "      <td>22554</td>\n",
       "      <td>4559</td>\n",
       "      <td>30518</td>\n",
       "      <td>21657</td>\n",
       "      <td>33</td>\n",
       "      <td>74</td>\n",
       "      <td>1212</td>\n",
       "      <td>20338</td>\n",
       "      <td>29201</td>\n",
       "      <td>2126</td>\n",
       "      <td>10</td>\n",
       "      <td>26</td>\n",
       "      <td>106</td>\n",
       "      <td>1983</td>\n",
       "    </tr>\n",
       "    <tr>\n",
       "      <th>8</th>\n",
       "      <td>ds_rcv_fold5_train</td>\n",
       "      <td>457729</td>\n",
       "      <td>254703</td>\n",
       "      <td>203026</td>\n",
       "      <td>10233</td>\n",
       "      <td>273516</td>\n",
       "      <td>194788</td>\n",
       "      <td>307</td>\n",
       "      <td>787</td>\n",
       "      <td>10815</td>\n",
       "      <td>182879</td>\n",
       "      <td>262941</td>\n",
       "      <td>4592</td>\n",
       "      <td>16</td>\n",
       "      <td>63</td>\n",
       "      <td>202</td>\n",
       "      <td>4309</td>\n",
       "    </tr>\n",
       "    <tr>\n",
       "      <th>9</th>\n",
       "      <td>ds_rcv_fold5_test</td>\n",
       "      <td>50858</td>\n",
       "      <td>28217</td>\n",
       "      <td>22641</td>\n",
       "      <td>4560</td>\n",
       "      <td>30497</td>\n",
       "      <td>21737</td>\n",
       "      <td>28</td>\n",
       "      <td>96</td>\n",
       "      <td>1176</td>\n",
       "      <td>20437</td>\n",
       "      <td>29121</td>\n",
       "      <td>2138</td>\n",
       "      <td>6</td>\n",
       "      <td>25</td>\n",
       "      <td>118</td>\n",
       "      <td>1989</td>\n",
       "    </tr>\n",
       "    <tr>\n",
       "      <th>10</th>\n",
       "      <td>ds_rcv_fold6_train</td>\n",
       "      <td>457729</td>\n",
       "      <td>254610</td>\n",
       "      <td>203119</td>\n",
       "      <td>10205</td>\n",
       "      <td>273909</td>\n",
       "      <td>194874</td>\n",
       "      <td>298</td>\n",
       "      <td>788</td>\n",
       "      <td>10824</td>\n",
       "      <td>182964</td>\n",
       "      <td>262855</td>\n",
       "      <td>4581</td>\n",
       "      <td>16</td>\n",
       "      <td>62</td>\n",
       "      <td>202</td>\n",
       "      <td>4299</td>\n",
       "    </tr>\n",
       "    <tr>\n",
       "      <th>11</th>\n",
       "      <td>ds_rcv_fold6_test</td>\n",
       "      <td>50858</td>\n",
       "      <td>28310</td>\n",
       "      <td>22548</td>\n",
       "      <td>4448</td>\n",
       "      <td>30104</td>\n",
       "      <td>21651</td>\n",
       "      <td>37</td>\n",
       "      <td>95</td>\n",
       "      <td>1167</td>\n",
       "      <td>20352</td>\n",
       "      <td>29207</td>\n",
       "      <td>2164</td>\n",
       "      <td>10</td>\n",
       "      <td>30</td>\n",
       "      <td>114</td>\n",
       "      <td>2010</td>\n",
       "    </tr>\n",
       "    <tr>\n",
       "      <th>12</th>\n",
       "      <td>ds_rcv_fold7_train</td>\n",
       "      <td>457729</td>\n",
       "      <td>254484</td>\n",
       "      <td>203245</td>\n",
       "      <td>10191</td>\n",
       "      <td>273925</td>\n",
       "      <td>194991</td>\n",
       "      <td>295</td>\n",
       "      <td>799</td>\n",
       "      <td>10804</td>\n",
       "      <td>183093</td>\n",
       "      <td>262738</td>\n",
       "      <td>4579</td>\n",
       "      <td>16</td>\n",
       "      <td>63</td>\n",
       "      <td>203</td>\n",
       "      <td>4295</td>\n",
       "    </tr>\n",
       "    <tr>\n",
       "      <th>13</th>\n",
       "      <td>ds_rcv_fold7_test</td>\n",
       "      <td>50858</td>\n",
       "      <td>28436</td>\n",
       "      <td>22422</td>\n",
       "      <td>4537</td>\n",
       "      <td>30088</td>\n",
       "      <td>21534</td>\n",
       "      <td>40</td>\n",
       "      <td>84</td>\n",
       "      <td>1187</td>\n",
       "      <td>20223</td>\n",
       "      <td>29324</td>\n",
       "      <td>2122</td>\n",
       "      <td>10</td>\n",
       "      <td>23</td>\n",
       "      <td>102</td>\n",
       "      <td>1987</td>\n",
       "    </tr>\n",
       "    <tr>\n",
       "      <th>14</th>\n",
       "      <td>ds_rcv_fold8_train</td>\n",
       "      <td>457729</td>\n",
       "      <td>254516</td>\n",
       "      <td>203213</td>\n",
       "      <td>10210</td>\n",
       "      <td>273804</td>\n",
       "      <td>194896</td>\n",
       "      <td>298</td>\n",
       "      <td>786</td>\n",
       "      <td>10802</td>\n",
       "      <td>183010</td>\n",
       "      <td>262833</td>\n",
       "      <td>4604</td>\n",
       "      <td>16</td>\n",
       "      <td>62</td>\n",
       "      <td>204</td>\n",
       "      <td>4320</td>\n",
       "    </tr>\n",
       "    <tr>\n",
       "      <th>15</th>\n",
       "      <td>ds_rcv_fold8_test</td>\n",
       "      <td>50858</td>\n",
       "      <td>28404</td>\n",
       "      <td>22454</td>\n",
       "      <td>4514</td>\n",
       "      <td>30209</td>\n",
       "      <td>21629</td>\n",
       "      <td>37</td>\n",
       "      <td>97</td>\n",
       "      <td>1189</td>\n",
       "      <td>20306</td>\n",
       "      <td>29229</td>\n",
       "      <td>2130</td>\n",
       "      <td>9</td>\n",
       "      <td>27</td>\n",
       "      <td>108</td>\n",
       "      <td>1986</td>\n",
       "    </tr>\n",
       "    <tr>\n",
       "      <th>16</th>\n",
       "      <td>ds_rcv_fold9_train</td>\n",
       "      <td>457729</td>\n",
       "      <td>254618</td>\n",
       "      <td>203111</td>\n",
       "      <td>10236</td>\n",
       "      <td>273816</td>\n",
       "      <td>194873</td>\n",
       "      <td>305</td>\n",
       "      <td>788</td>\n",
       "      <td>10825</td>\n",
       "      <td>182955</td>\n",
       "      <td>262856</td>\n",
       "      <td>4605</td>\n",
       "      <td>16</td>\n",
       "      <td>62</td>\n",
       "      <td>203</td>\n",
       "      <td>4322</td>\n",
       "    </tr>\n",
       "    <tr>\n",
       "      <th>17</th>\n",
       "      <td>ds_rcv_fold9_test</td>\n",
       "      <td>50858</td>\n",
       "      <td>28302</td>\n",
       "      <td>22556</td>\n",
       "      <td>4398</td>\n",
       "      <td>30197</td>\n",
       "      <td>21652</td>\n",
       "      <td>30</td>\n",
       "      <td>95</td>\n",
       "      <td>1166</td>\n",
       "      <td>20361</td>\n",
       "      <td>29206</td>\n",
       "      <td>2142</td>\n",
       "      <td>6</td>\n",
       "      <td>26</td>\n",
       "      <td>110</td>\n",
       "      <td>2000</td>\n",
       "    </tr>\n",
       "    <tr>\n",
       "      <th>18</th>\n",
       "      <td>ds_rcv_fold10_train</td>\n",
       "      <td>457729</td>\n",
       "      <td>254507</td>\n",
       "      <td>203222</td>\n",
       "      <td>10200</td>\n",
       "      <td>273677</td>\n",
       "      <td>195011</td>\n",
       "      <td>305</td>\n",
       "      <td>798</td>\n",
       "      <td>10786</td>\n",
       "      <td>183122</td>\n",
       "      <td>262718</td>\n",
       "      <td>4603</td>\n",
       "      <td>16</td>\n",
       "      <td>60</td>\n",
       "      <td>205</td>\n",
       "      <td>4320</td>\n",
       "    </tr>\n",
       "    <tr>\n",
       "      <th>19</th>\n",
       "      <td>ds_rcv_fold10_test</td>\n",
       "      <td>50858</td>\n",
       "      <td>28413</td>\n",
       "      <td>22445</td>\n",
       "      <td>4581</td>\n",
       "      <td>30336</td>\n",
       "      <td>21514</td>\n",
       "      <td>30</td>\n",
       "      <td>85</td>\n",
       "      <td>1205</td>\n",
       "      <td>20194</td>\n",
       "      <td>29344</td>\n",
       "      <td>2169</td>\n",
       "      <td>8</td>\n",
       "      <td>29</td>\n",
       "      <td>109</td>\n",
       "      <td>2023</td>\n",
       "    </tr>\n",
       "    <tr>\n",
       "      <th>20</th>\n",
       "      <td>ds_rcp</td>\n",
       "      <td>13515</td>\n",
       "      <td>10310</td>\n",
       "      <td>3205</td>\n",
       "      <td>2185</td>\n",
       "      <td>5795</td>\n",
       "      <td>5579</td>\n",
       "      <td>629</td>\n",
       "      <td>225</td>\n",
       "      <td>1780</td>\n",
       "      <td>2945</td>\n",
       "      <td>7936</td>\n",
       "      <td>1335</td>\n",
       "      <td>11</td>\n",
       "      <td>45</td>\n",
       "      <td>131</td>\n",
       "      <td>1146</td>\n",
       "    </tr>\n",
       "  </tbody>\n",
       "</table>\n",
       "</div>"
      ],
      "text/plain": [
       "                Dataset  Protein_records  None_enzyme_records  Enzyme_records  \\\n",
       "0    ds_rcv_fold1_train           457729               254621          203108   \n",
       "1     ds_rcv_fold1_test            50858                28299           22559   \n",
       "2    ds_rcv_fold2_train           457729               254584          203145   \n",
       "3     ds_rcv_fold2_test            50858                28336           22522   \n",
       "4    ds_rcv_fold3_train           457729               254843          202886   \n",
       "5     ds_rcv_fold3_test            50858                28077           22781   \n",
       "6    ds_rcv_fold4_train           457729               254616          203113   \n",
       "7     ds_rcv_fold4_test            50858                28304           22554   \n",
       "8    ds_rcv_fold5_train           457729               254703          203026   \n",
       "9     ds_rcv_fold5_test            50858                28217           22641   \n",
       "10   ds_rcv_fold6_train           457729               254610          203119   \n",
       "11    ds_rcv_fold6_test            50858                28310           22548   \n",
       "12   ds_rcv_fold7_train           457729               254484          203245   \n",
       "13    ds_rcv_fold7_test            50858                28436           22422   \n",
       "14   ds_rcv_fold8_train           457729               254516          203213   \n",
       "15    ds_rcv_fold8_test            50858                28404           22454   \n",
       "16   ds_rcv_fold9_train           457729               254618          203111   \n",
       "17    ds_rcv_fold9_test            50858                28302           22556   \n",
       "18  ds_rcv_fold10_train           457729               254507          203222   \n",
       "19   ds_rcv_fold10_test            50858                28413           22445   \n",
       "20               ds_rcp            13515                10310            3205   \n",
       "\n",
       "    Reaction_records  Enzyme-Reaction_relations  Enzymes_with_ec  \\\n",
       "0              10208                     273904           194882   \n",
       "1               4398                      30109            21643   \n",
       "2              10186                     273396           194903   \n",
       "3               4690                      30617            21622   \n",
       "4              10205                     273386           194640   \n",
       "5               4544                      30627            21885   \n",
       "6              10200                     273495           194868   \n",
       "7               4559                      30518            21657   \n",
       "8              10233                     273516           194788   \n",
       "9               4560                      30497            21737   \n",
       "10             10205                     273909           194874   \n",
       "11              4448                      30104            21651   \n",
       "12             10191                     273925           194991   \n",
       "13              4537                      30088            21534   \n",
       "14             10210                     273804           194896   \n",
       "15              4514                      30209            21629   \n",
       "16             10236                     273816           194873   \n",
       "17              4398                      30197            21652   \n",
       "18             10200                     273677           195011   \n",
       "19              4581                      30336            21514   \n",
       "20              2185                       5795             5579   \n",
       "\n",
       "    Proteins_with_l1_ec  Proteins_with_l2_ec  Proteins_with_l3_ec  \\\n",
       "0                   300                  817                10777   \n",
       "1                    35                   66                 1214   \n",
       "2                   301                  781                10806   \n",
       "3                    34                  102                 1185   \n",
       "4                   291                  803                10716   \n",
       "5                    44                   80                 1275   \n",
       "6                   302                  809                10779   \n",
       "7                    33                   74                 1212   \n",
       "8                   307                  787                10815   \n",
       "9                    28                   96                 1176   \n",
       "10                  298                  788                10824   \n",
       "11                   37                   95                 1167   \n",
       "12                  295                  799                10804   \n",
       "13                   40                   84                 1187   \n",
       "14                  298                  786                10802   \n",
       "15                   37                   97                 1189   \n",
       "16                  305                  788                10825   \n",
       "17                   30                   95                 1166   \n",
       "18                  305                  798                10786   \n",
       "19                   30                   85                 1205   \n",
       "20                  629                  225                 1780   \n",
       "\n",
       "    Proteins_with_l4_ec  Proteins_without_ec  Distinct_ec  Distinct_ec_l1  \\\n",
       "0                182988               262847         4591              16   \n",
       "1                 20328                29215         2124               9   \n",
       "2                183015               262826         4603              16   \n",
       "3                 20301                29236         2168               6   \n",
       "4                182830               263089         4595              15   \n",
       "5                 20486                28973         2190              10   \n",
       "6                182978               262861         4603              16   \n",
       "7                 20338                29201         2126              10   \n",
       "8                182879               262941         4592              16   \n",
       "9                 20437                29121         2138               6   \n",
       "10               182964               262855         4581              16   \n",
       "11                20352                29207         2164              10   \n",
       "12               183093               262738         4579              16   \n",
       "13                20223                29324         2122              10   \n",
       "14               183010               262833         4604              16   \n",
       "15                20306                29229         2130               9   \n",
       "16               182955               262856         4605              16   \n",
       "17                20361                29206         2142               6   \n",
       "18               183122               262718         4603              16   \n",
       "19                20194                29344         2169               8   \n",
       "20                 2945                 7936         1335              11   \n",
       "\n",
       "    Distinct_ec_l2  Distinct_ec_l3  Distinct_ec_l4  \n",
       "0               63             201            4309  \n",
       "1               27             115            1973  \n",
       "2               64             200            4322  \n",
       "3               28             108            2025  \n",
       "4               64             199            4315  \n",
       "5               26             118            2036  \n",
       "6               63             202            4321  \n",
       "7               26             106            1983  \n",
       "8               63             202            4309  \n",
       "9               25             118            1989  \n",
       "10              62             202            4299  \n",
       "11              30             114            2010  \n",
       "12              63             203            4295  \n",
       "13              23             102            1987  \n",
       "14              62             204            4320  \n",
       "15              27             108            1986  \n",
       "16              62             203            4322  \n",
       "17              26             110            2000  \n",
       "18              60             205            4320  \n",
       "19              29             109            2023  \n",
       "20              45             131            1146  "
      ]
     },
     "execution_count": 19,
     "metadata": {},
     "output_type": "execute_result"
    }
   ],
   "source": [
    "# ===== 统计分析 =====\n",
    "stats = []\n",
    "\n",
    "# 原始数据\n",
    "# stats.append(stat_ds(ds_rcv, name=\"ds_rcv\"))\n",
    "\n",
    "\n",
    "# 各折训练/测试数据\n",
    "for i in range(10):\n",
    "    stats.append(stat_ds(dfs_train[i], name=f\"ds_rcv_fold{i+1}_train\"))\n",
    "    stats.append(stat_ds(dfs_test[i], name=f\"ds_rcv_fold{i+1}_test\"))\n",
    "# ds_rcp    \n",
    "stats.append(stat_ds(ds_rcp, name=\"ds_rcp\"))\n",
    "# 合并\n",
    "df_stats = pd.concat(stats, ignore_index=True)\n",
    "\n",
    "\n",
    "df_stats\n"
   ]
  },
  {
   "cell_type": "markdown",
   "id": "9f18dbdf",
   "metadata": {},
   "source": [
    "## 基于EC的反应分类\n",
    "\n",
    "| Class | Reaction Catalyzed | Typical Reaction | Enzyme Example(s) with Trivial Name |\n",
    "|-------|--------------------|------------------|-------------------------------------|\n",
    "| **EC 1** | Oxidoreductases | Oxidation/reduction reactions; transfer of H and O atoms or electrons from one substance to another | AH + B → A + BH (reduced) <br> A + O → AO (oxidized) | Dehydrogenase, oxidase |\n",
    "| **EC 2** | Transferases | Transfer of a functional group from one substance to another. The group may be methyl-, acyl-, amino-, or phosphate group | AB + C → A + BC | Transaminase, kinase |\n",
    "| **EC 3** | Hydrolases | Formation of two products from a substrate by hydrolysis | AB + H2O → AOH + BH | Lipase, amylase, peptidase, phosphatase |\n",
    "| **EC 4** | Lyases | Non-hydrolytic addition or removal of groups from substrates. C-C, C-N, C-O or C-S bonds may be cleaved | RCOCOOH → RCOH + CO2 <br> [X-A+B-Y] → [A=B + X-Y] | Decarboxylase |\n",
    "| **EC 5** | Isomerases | Intramolecule rearrangement, i.e., isomerization changes within a single molecule | ABC → BCA | Isomerase, mutase |\n",
    "| **EC 6** | Ligases | Join together two molecules by synthesis of new C-O, C-S, C-N or C-C bonds with simultaneous breakdown of ATP | X + Y + ATP → XY + ADP + Pi | Synthetase |\n",
    "| **EC 7** | Translocases | Catalyze the movement of ions or molecules across membranes or their separation within membranes | | Transporter |\n"
   ]
  },
  {
   "cell_type": "code",
   "execution_count": 20,
   "id": "2567a37b",
   "metadata": {},
   "outputs": [],
   "source": [
    "rxn_class_dict = {'1':'Oxidoreductases', '2':'Transferases', '3':'Hydrolases','4':'Lyases', '5':'Isomerases', '6':'Ligases', '7':'Translocases', '-':'None-Enzyme'}\n",
    "\n",
    "def get_rxn_class_distribution (ecdf):\n",
    "    ecdf = ecdf.assign(ec_number=ecdf['ec_number'].str.split(',')).explode('ec_number')\n",
    "    ecdf['rxn_class']=ecdf.ec_number.apply(lambda x: f'{rxn_class_dict.get(x.split(\".\")[0])}')\n",
    "    rxn_class_counts  = ecdf.rxn_class.value_counts().reset_index()\n",
    "    \n",
    "    return rxn_class_counts\n",
    "\n",
    "\n",
    "def get_rxn_distribution (ecdf):\n",
    "    \n",
    "    ecdf = ecdf.assign(reaction_id=ecdf['reaction_id'].str.split(';')).explode('reaction_id')\n",
    "    # ecdf['rxn_class']=ecdf.reaction_id.apply(lambda x: f'{x.split(\".\")[0]}')\n",
    "    rxn_class_counts  = ecdf.reaction_id.value_counts().reset_index()\n",
    "    \n",
    "    return rxn_class_counts\n"
   ]
  },
  {
   "cell_type": "code",
   "execution_count": 218,
   "id": "2b5445ce",
   "metadata": {},
   "outputs": [
    {
     "data": {
      "text/html": [
       "<div>\n",
       "<style scoped>\n",
       "    .dataframe tbody tr th:only-of-type {\n",
       "        vertical-align: middle;\n",
       "    }\n",
       "\n",
       "    .dataframe tbody tr th {\n",
       "        vertical-align: top;\n",
       "    }\n",
       "\n",
       "    .dataframe thead th {\n",
       "        text-align: right;\n",
       "    }\n",
       "</style>\n",
       "<table border=\"1\" class=\"dataframe\">\n",
       "  <thead>\n",
       "    <tr style=\"text-align: right;\">\n",
       "      <th></th>\n",
       "      <th>rxn_class</th>\n",
       "      <th>count</th>\n",
       "    </tr>\n",
       "  </thead>\n",
       "  <tbody>\n",
       "    <tr>\n",
       "      <th>1</th>\n",
       "      <td>Transferases</td>\n",
       "      <td>1939</td>\n",
       "    </tr>\n",
       "    <tr>\n",
       "      <th>2</th>\n",
       "      <td>Oxidoreductases</td>\n",
       "      <td>1707</td>\n",
       "    </tr>\n",
       "    <tr>\n",
       "      <th>3</th>\n",
       "      <td>Hydrolases</td>\n",
       "      <td>1496</td>\n",
       "    </tr>\n",
       "    <tr>\n",
       "      <th>4</th>\n",
       "      <td>Lyases</td>\n",
       "      <td>679</td>\n",
       "    </tr>\n",
       "    <tr>\n",
       "      <th>5</th>\n",
       "      <td>Ligases</td>\n",
       "      <td>247</td>\n",
       "    </tr>\n",
       "    <tr>\n",
       "      <th>6</th>\n",
       "      <td>Isomerases</td>\n",
       "      <td>204</td>\n",
       "    </tr>\n",
       "    <tr>\n",
       "      <th>7</th>\n",
       "      <td>Translocases</td>\n",
       "      <td>100</td>\n",
       "    </tr>\n",
       "  </tbody>\n",
       "</table>\n",
       "</div>"
      ],
      "text/plain": [
       "         rxn_class  count\n",
       "1     Transferases   1939\n",
       "2  Oxidoreductases   1707\n",
       "3       Hydrolases   1496\n",
       "4           Lyases    679\n",
       "5          Ligases    247\n",
       "6       Isomerases    204\n",
       "7     Translocases    100"
      ]
     },
     "execution_count": 218,
     "metadata": {},
     "output_type": "execute_result"
    }
   ],
   "source": [
    "train_enzyme_labels = ['None-enzyme', 'Enzyme']\n",
    "train_enzyme_values = [282920, 225667]\n",
    "\n",
    "test_enzyme_labels = ['None-enzyme', 'Enzyme']\n",
    "test_enzyme_values = [10310, 3205]\n",
    "\n",
    "rxn_class_counts_train = get_rxn_class_distribution(train[['uniprot_id', 'ec_number']])\n",
    "rxn_class_counts_test = get_rxn_class_distribution(test[['uniprot_id', 'ec_number']])\n",
    "\n",
    "rxn_class_counts_train = rxn_class_counts_train[rxn_class_counts_train.rxn_class!='None-Enzyme']\n",
    "rxn_class_counts_test = rxn_class_counts_test[rxn_class_counts_test.rxn_class!='None-Enzyme']\n",
    "\n",
    "\n",
    "# 创建饼图对象\n",
    "fig1_1_1 = go.Pie(labels=train_enzyme_labels, values=train_enzyme_values, textinfo='percent+label', textposition='inside', hoverinfo='label+percent+value')\n",
    "fig1_1_2 = go.Pie(labels=test_enzyme_labels, values=test_enzyme_values, textinfo='percent+label', textposition='inside', hoverinfo='label+percent+value')\n",
    "fig1_1_3 = go.Pie(labels=rxn_class_counts_train.rxn_class, values=rxn_class_counts_train['count'], textinfo='percent+label', textposition='inside', hoverinfo='label+percent+value')\n",
    "fig1_1_4 = go.Pie(labels=rxn_class_counts_test.rxn_class, values=rxn_class_counts_test['count'], textinfo='percent+label', textposition='inside', hoverinfo='label+percent+value')\n",
    "\n",
    "\n",
    "rxn_class_counts_test"
   ]
  },
  {
   "cell_type": "code",
   "execution_count": 219,
   "id": "762c7140",
   "metadata": {},
   "outputs": [
    {
     "data": {
      "application/vnd.plotly.v1+json": {
       "config": {
        "plotlyServerURL": "https://plot.ly"
       },
       "data": [
        {
         "domain": {
          "x": [
           0,
           0.2125
          ],
          "y": [
           0,
           1
          ]
         },
         "hoverinfo": "label+percent+value",
         "labels": [
          "None-enzyme",
          "Enzyme"
         ],
         "textinfo": "percent+label",
         "textposition": "inside",
         "type": "pie",
         "values": [
          282920,
          225667
         ]
        },
        {
         "domain": {
          "x": [
           0.2625,
           0.475
          ],
          "y": [
           0,
           1
          ]
         },
         "hoverinfo": "label+percent+value",
         "labels": [
          "None-enzyme",
          "Enzyme"
         ],
         "textinfo": "percent+label",
         "textposition": "inside",
         "type": "pie",
         "values": [
          10310,
          3205
         ]
        },
        {
         "domain": {
          "x": [
           0.525,
           0.7375
          ],
          "y": [
           0,
           1
          ]
         },
         "hoverinfo": "label+percent+value",
         "labels": [
          "Transferases",
          "Oxidoreductases",
          "Hydrolases",
          "Ligases",
          "Lyases",
          "Isomerases"
         ],
         "textinfo": "percent+label",
         "textposition": "inside",
         "type": "pie",
         "values": [
          91036,
          38312,
          36835,
          27927,
          24355,
          13865
         ]
        },
        {
         "domain": {
          "x": [
           0.7875,
           1
          ],
          "y": [
           0,
           1
          ]
         },
         "hoverinfo": "label+percent+value",
         "labels": [
          "Transferases",
          "Oxidoreductases",
          "Hydrolases",
          "Lyases",
          "Ligases",
          "Isomerases",
          "Translocases"
         ],
         "textinfo": "percent+label",
         "textposition": "inside",
         "type": "pie",
         "values": [
          1939,
          1707,
          1496,
          679,
          247,
          204,
          100
         ]
        }
       ],
       "layout": {
        "annotations": [
         {
          "font": {
           "size": 16
          },
          "showarrow": false,
          "text": "Enzyme and Non-enzyme Distribution - Train",
          "x": 0.10625,
          "xanchor": "center",
          "xref": "paper",
          "y": 1,
          "yanchor": "bottom",
          "yref": "paper"
         },
         {
          "font": {
           "size": 16
          },
          "showarrow": false,
          "text": "Enzyme and Non-enzyme Distribution - Test",
          "x": 0.36875,
          "xanchor": "center",
          "xref": "paper",
          "y": 1,
          "yanchor": "bottom",
          "yref": "paper"
         },
         {
          "font": {
           "size": 16
          },
          "showarrow": false,
          "text": "RXN Class Distribution - Train",
          "x": 0.6312500000000001,
          "xanchor": "center",
          "xref": "paper",
          "y": 1,
          "yanchor": "bottom",
          "yref": "paper"
         },
         {
          "font": {
           "size": 16
          },
          "showarrow": false,
          "text": "RXN Class Distribution - Test",
          "x": 0.89375,
          "xanchor": "center",
          "xref": "paper",
          "y": 1,
          "yanchor": "bottom",
          "yref": "paper"
         }
        ],
        "font": {
         "family": "Times New Roman",
         "size": 14
        },
        "height": 560,
        "margin": {
         "b": 10,
         "l": 0,
         "r": 40,
         "t": 20
        },
        "template": {
         "data": {
          "bar": [
           {
            "error_x": {
             "color": "#2a3f5f"
            },
            "error_y": {
             "color": "#2a3f5f"
            },
            "marker": {
             "line": {
              "color": "#E5ECF6",
              "width": 0.5
             },
             "pattern": {
              "fillmode": "overlay",
              "size": 10,
              "solidity": 0.2
             }
            },
            "type": "bar"
           }
          ],
          "barpolar": [
           {
            "marker": {
             "line": {
              "color": "#E5ECF6",
              "width": 0.5
             },
             "pattern": {
              "fillmode": "overlay",
              "size": 10,
              "solidity": 0.2
             }
            },
            "type": "barpolar"
           }
          ],
          "carpet": [
           {
            "aaxis": {
             "endlinecolor": "#2a3f5f",
             "gridcolor": "white",
             "linecolor": "white",
             "minorgridcolor": "white",
             "startlinecolor": "#2a3f5f"
            },
            "baxis": {
             "endlinecolor": "#2a3f5f",
             "gridcolor": "white",
             "linecolor": "white",
             "minorgridcolor": "white",
             "startlinecolor": "#2a3f5f"
            },
            "type": "carpet"
           }
          ],
          "choropleth": [
           {
            "colorbar": {
             "outlinewidth": 0,
             "ticks": ""
            },
            "type": "choropleth"
           }
          ],
          "contour": [
           {
            "colorbar": {
             "outlinewidth": 0,
             "ticks": ""
            },
            "colorscale": [
             [
              0,
              "#0d0887"
             ],
             [
              0.1111111111111111,
              "#46039f"
             ],
             [
              0.2222222222222222,
              "#7201a8"
             ],
             [
              0.3333333333333333,
              "#9c179e"
             ],
             [
              0.4444444444444444,
              "#bd3786"
             ],
             [
              0.5555555555555556,
              "#d8576b"
             ],
             [
              0.6666666666666666,
              "#ed7953"
             ],
             [
              0.7777777777777778,
              "#fb9f3a"
             ],
             [
              0.8888888888888888,
              "#fdca26"
             ],
             [
              1,
              "#f0f921"
             ]
            ],
            "type": "contour"
           }
          ],
          "contourcarpet": [
           {
            "colorbar": {
             "outlinewidth": 0,
             "ticks": ""
            },
            "type": "contourcarpet"
           }
          ],
          "heatmap": [
           {
            "colorbar": {
             "outlinewidth": 0,
             "ticks": ""
            },
            "colorscale": [
             [
              0,
              "#0d0887"
             ],
             [
              0.1111111111111111,
              "#46039f"
             ],
             [
              0.2222222222222222,
              "#7201a8"
             ],
             [
              0.3333333333333333,
              "#9c179e"
             ],
             [
              0.4444444444444444,
              "#bd3786"
             ],
             [
              0.5555555555555556,
              "#d8576b"
             ],
             [
              0.6666666666666666,
              "#ed7953"
             ],
             [
              0.7777777777777778,
              "#fb9f3a"
             ],
             [
              0.8888888888888888,
              "#fdca26"
             ],
             [
              1,
              "#f0f921"
             ]
            ],
            "type": "heatmap"
           }
          ],
          "heatmapgl": [
           {
            "colorbar": {
             "outlinewidth": 0,
             "ticks": ""
            },
            "colorscale": [
             [
              0,
              "#0d0887"
             ],
             [
              0.1111111111111111,
              "#46039f"
             ],
             [
              0.2222222222222222,
              "#7201a8"
             ],
             [
              0.3333333333333333,
              "#9c179e"
             ],
             [
              0.4444444444444444,
              "#bd3786"
             ],
             [
              0.5555555555555556,
              "#d8576b"
             ],
             [
              0.6666666666666666,
              "#ed7953"
             ],
             [
              0.7777777777777778,
              "#fb9f3a"
             ],
             [
              0.8888888888888888,
              "#fdca26"
             ],
             [
              1,
              "#f0f921"
             ]
            ],
            "type": "heatmapgl"
           }
          ],
          "histogram": [
           {
            "marker": {
             "pattern": {
              "fillmode": "overlay",
              "size": 10,
              "solidity": 0.2
             }
            },
            "type": "histogram"
           }
          ],
          "histogram2d": [
           {
            "colorbar": {
             "outlinewidth": 0,
             "ticks": ""
            },
            "colorscale": [
             [
              0,
              "#0d0887"
             ],
             [
              0.1111111111111111,
              "#46039f"
             ],
             [
              0.2222222222222222,
              "#7201a8"
             ],
             [
              0.3333333333333333,
              "#9c179e"
             ],
             [
              0.4444444444444444,
              "#bd3786"
             ],
             [
              0.5555555555555556,
              "#d8576b"
             ],
             [
              0.6666666666666666,
              "#ed7953"
             ],
             [
              0.7777777777777778,
              "#fb9f3a"
             ],
             [
              0.8888888888888888,
              "#fdca26"
             ],
             [
              1,
              "#f0f921"
             ]
            ],
            "type": "histogram2d"
           }
          ],
          "histogram2dcontour": [
           {
            "colorbar": {
             "outlinewidth": 0,
             "ticks": ""
            },
            "colorscale": [
             [
              0,
              "#0d0887"
             ],
             [
              0.1111111111111111,
              "#46039f"
             ],
             [
              0.2222222222222222,
              "#7201a8"
             ],
             [
              0.3333333333333333,
              "#9c179e"
             ],
             [
              0.4444444444444444,
              "#bd3786"
             ],
             [
              0.5555555555555556,
              "#d8576b"
             ],
             [
              0.6666666666666666,
              "#ed7953"
             ],
             [
              0.7777777777777778,
              "#fb9f3a"
             ],
             [
              0.8888888888888888,
              "#fdca26"
             ],
             [
              1,
              "#f0f921"
             ]
            ],
            "type": "histogram2dcontour"
           }
          ],
          "mesh3d": [
           {
            "colorbar": {
             "outlinewidth": 0,
             "ticks": ""
            },
            "type": "mesh3d"
           }
          ],
          "parcoords": [
           {
            "line": {
             "colorbar": {
              "outlinewidth": 0,
              "ticks": ""
             }
            },
            "type": "parcoords"
           }
          ],
          "pie": [
           {
            "automargin": true,
            "type": "pie"
           }
          ],
          "scatter": [
           {
            "fillpattern": {
             "fillmode": "overlay",
             "size": 10,
             "solidity": 0.2
            },
            "type": "scatter"
           }
          ],
          "scatter3d": [
           {
            "line": {
             "colorbar": {
              "outlinewidth": 0,
              "ticks": ""
             }
            },
            "marker": {
             "colorbar": {
              "outlinewidth": 0,
              "ticks": ""
             }
            },
            "type": "scatter3d"
           }
          ],
          "scattercarpet": [
           {
            "marker": {
             "colorbar": {
              "outlinewidth": 0,
              "ticks": ""
             }
            },
            "type": "scattercarpet"
           }
          ],
          "scattergeo": [
           {
            "marker": {
             "colorbar": {
              "outlinewidth": 0,
              "ticks": ""
             }
            },
            "type": "scattergeo"
           }
          ],
          "scattergl": [
           {
            "marker": {
             "colorbar": {
              "outlinewidth": 0,
              "ticks": ""
             }
            },
            "type": "scattergl"
           }
          ],
          "scattermapbox": [
           {
            "marker": {
             "colorbar": {
              "outlinewidth": 0,
              "ticks": ""
             }
            },
            "type": "scattermapbox"
           }
          ],
          "scatterpolar": [
           {
            "marker": {
             "colorbar": {
              "outlinewidth": 0,
              "ticks": ""
             }
            },
            "type": "scatterpolar"
           }
          ],
          "scatterpolargl": [
           {
            "marker": {
             "colorbar": {
              "outlinewidth": 0,
              "ticks": ""
             }
            },
            "type": "scatterpolargl"
           }
          ],
          "scatterternary": [
           {
            "marker": {
             "colorbar": {
              "outlinewidth": 0,
              "ticks": ""
             }
            },
            "type": "scatterternary"
           }
          ],
          "surface": [
           {
            "colorbar": {
             "outlinewidth": 0,
             "ticks": ""
            },
            "colorscale": [
             [
              0,
              "#0d0887"
             ],
             [
              0.1111111111111111,
              "#46039f"
             ],
             [
              0.2222222222222222,
              "#7201a8"
             ],
             [
              0.3333333333333333,
              "#9c179e"
             ],
             [
              0.4444444444444444,
              "#bd3786"
             ],
             [
              0.5555555555555556,
              "#d8576b"
             ],
             [
              0.6666666666666666,
              "#ed7953"
             ],
             [
              0.7777777777777778,
              "#fb9f3a"
             ],
             [
              0.8888888888888888,
              "#fdca26"
             ],
             [
              1,
              "#f0f921"
             ]
            ],
            "type": "surface"
           }
          ],
          "table": [
           {
            "cells": {
             "fill": {
              "color": "#EBF0F8"
             },
             "line": {
              "color": "white"
             }
            },
            "header": {
             "fill": {
              "color": "#C8D4E3"
             },
             "line": {
              "color": "white"
             }
            },
            "type": "table"
           }
          ]
         },
         "layout": {
          "annotationdefaults": {
           "arrowcolor": "#2a3f5f",
           "arrowhead": 0,
           "arrowwidth": 1
          },
          "autotypenumbers": "strict",
          "coloraxis": {
           "colorbar": {
            "outlinewidth": 0,
            "ticks": ""
           }
          },
          "colorscale": {
           "diverging": [
            [
             0,
             "#8e0152"
            ],
            [
             0.1,
             "#c51b7d"
            ],
            [
             0.2,
             "#de77ae"
            ],
            [
             0.3,
             "#f1b6da"
            ],
            [
             0.4,
             "#fde0ef"
            ],
            [
             0.5,
             "#f7f7f7"
            ],
            [
             0.6,
             "#e6f5d0"
            ],
            [
             0.7,
             "#b8e186"
            ],
            [
             0.8,
             "#7fbc41"
            ],
            [
             0.9,
             "#4d9221"
            ],
            [
             1,
             "#276419"
            ]
           ],
           "sequential": [
            [
             0,
             "#0d0887"
            ],
            [
             0.1111111111111111,
             "#46039f"
            ],
            [
             0.2222222222222222,
             "#7201a8"
            ],
            [
             0.3333333333333333,
             "#9c179e"
            ],
            [
             0.4444444444444444,
             "#bd3786"
            ],
            [
             0.5555555555555556,
             "#d8576b"
            ],
            [
             0.6666666666666666,
             "#ed7953"
            ],
            [
             0.7777777777777778,
             "#fb9f3a"
            ],
            [
             0.8888888888888888,
             "#fdca26"
            ],
            [
             1,
             "#f0f921"
            ]
           ],
           "sequentialminus": [
            [
             0,
             "#0d0887"
            ],
            [
             0.1111111111111111,
             "#46039f"
            ],
            [
             0.2222222222222222,
             "#7201a8"
            ],
            [
             0.3333333333333333,
             "#9c179e"
            ],
            [
             0.4444444444444444,
             "#bd3786"
            ],
            [
             0.5555555555555556,
             "#d8576b"
            ],
            [
             0.6666666666666666,
             "#ed7953"
            ],
            [
             0.7777777777777778,
             "#fb9f3a"
            ],
            [
             0.8888888888888888,
             "#fdca26"
            ],
            [
             1,
             "#f0f921"
            ]
           ]
          },
          "colorway": [
           "#636efa",
           "#EF553B",
           "#00cc96",
           "#ab63fa",
           "#FFA15A",
           "#19d3f3",
           "#FF6692",
           "#B6E880",
           "#FF97FF",
           "#FECB52"
          ],
          "font": {
           "color": "#2a3f5f"
          },
          "geo": {
           "bgcolor": "white",
           "lakecolor": "white",
           "landcolor": "#E5ECF6",
           "showlakes": true,
           "showland": true,
           "subunitcolor": "white"
          },
          "hoverlabel": {
           "align": "left"
          },
          "hovermode": "closest",
          "mapbox": {
           "style": "light"
          },
          "paper_bgcolor": "white",
          "plot_bgcolor": "#E5ECF6",
          "polar": {
           "angularaxis": {
            "gridcolor": "white",
            "linecolor": "white",
            "ticks": ""
           },
           "bgcolor": "#E5ECF6",
           "radialaxis": {
            "gridcolor": "white",
            "linecolor": "white",
            "ticks": ""
           }
          },
          "scene": {
           "xaxis": {
            "backgroundcolor": "#E5ECF6",
            "gridcolor": "white",
            "gridwidth": 2,
            "linecolor": "white",
            "showbackground": true,
            "ticks": "",
            "zerolinecolor": "white"
           },
           "yaxis": {
            "backgroundcolor": "#E5ECF6",
            "gridcolor": "white",
            "gridwidth": 2,
            "linecolor": "white",
            "showbackground": true,
            "ticks": "",
            "zerolinecolor": "white"
           },
           "zaxis": {
            "backgroundcolor": "#E5ECF6",
            "gridcolor": "white",
            "gridwidth": 2,
            "linecolor": "white",
            "showbackground": true,
            "ticks": "",
            "zerolinecolor": "white"
           }
          },
          "shapedefaults": {
           "line": {
            "color": "#2a3f5f"
           }
          },
          "ternary": {
           "aaxis": {
            "gridcolor": "white",
            "linecolor": "white",
            "ticks": ""
           },
           "baxis": {
            "gridcolor": "white",
            "linecolor": "white",
            "ticks": ""
           },
           "bgcolor": "#E5ECF6",
           "caxis": {
            "gridcolor": "white",
            "linecolor": "white",
            "ticks": ""
           }
          },
          "title": {
           "x": 0.05
          },
          "xaxis": {
           "automargin": true,
           "gridcolor": "white",
           "linecolor": "white",
           "ticks": "",
           "title": {
            "standoff": 15
           },
           "zerolinecolor": "white",
           "zerolinewidth": 2
          },
          "yaxis": {
           "automargin": true,
           "gridcolor": "white",
           "linecolor": "white",
           "ticks": "",
           "title": {
            "standoff": 15
           },
           "zerolinecolor": "white",
           "zerolinewidth": 2
          }
         }
        },
        "width": 1950
       }
      },
      "text/html": [
       "<div>                            <div id=\"68f36eef-ca03-4827-93ce-ac6c2b4d258c\" class=\"plotly-graph-div\" style=\"height:560px; width:1950px;\"></div>            <script type=\"text/javascript\">                require([\"plotly\"], function(Plotly) {                    window.PLOTLYENV=window.PLOTLYENV || {};                                    if (document.getElementById(\"68f36eef-ca03-4827-93ce-ac6c2b4d258c\")) {                    Plotly.newPlot(                        \"68f36eef-ca03-4827-93ce-ac6c2b4d258c\",                        [{\"hoverinfo\":\"label+percent+value\",\"labels\":[\"None-enzyme\",\"Enzyme\"],\"textinfo\":\"percent+label\",\"textposition\":\"inside\",\"values\":[282920,225667],\"type\":\"pie\",\"domain\":{\"x\":[0.0,0.2125],\"y\":[0.0,1.0]}},{\"hoverinfo\":\"label+percent+value\",\"labels\":[\"None-enzyme\",\"Enzyme\"],\"textinfo\":\"percent+label\",\"textposition\":\"inside\",\"values\":[10310,3205],\"type\":\"pie\",\"domain\":{\"x\":[0.2625,0.475],\"y\":[0.0,1.0]}},{\"hoverinfo\":\"label+percent+value\",\"labels\":[\"Transferases\",\"Oxidoreductases\",\"Hydrolases\",\"Ligases\",\"Lyases\",\"Isomerases\"],\"textinfo\":\"percent+label\",\"textposition\":\"inside\",\"values\":[91036,38312,36835,27927,24355,13865],\"type\":\"pie\",\"domain\":{\"x\":[0.525,0.7375],\"y\":[0.0,1.0]}},{\"hoverinfo\":\"label+percent+value\",\"labels\":[\"Transferases\",\"Oxidoreductases\",\"Hydrolases\",\"Lyases\",\"Ligases\",\"Isomerases\",\"Translocases\"],\"textinfo\":\"percent+label\",\"textposition\":\"inside\",\"values\":[1939,1707,1496,679,247,204,100],\"type\":\"pie\",\"domain\":{\"x\":[0.7875,1.0],\"y\":[0.0,1.0]}}],                        {\"template\":{\"data\":{\"histogram2dcontour\":[{\"type\":\"histogram2dcontour\",\"colorbar\":{\"outlinewidth\":0,\"ticks\":\"\"},\"colorscale\":[[0.0,\"#0d0887\"],[0.1111111111111111,\"#46039f\"],[0.2222222222222222,\"#7201a8\"],[0.3333333333333333,\"#9c179e\"],[0.4444444444444444,\"#bd3786\"],[0.5555555555555556,\"#d8576b\"],[0.6666666666666666,\"#ed7953\"],[0.7777777777777778,\"#fb9f3a\"],[0.8888888888888888,\"#fdca26\"],[1.0,\"#f0f921\"]]}],\"choropleth\":[{\"type\":\"choropleth\",\"colorbar\":{\"outlinewidth\":0,\"ticks\":\"\"}}],\"histogram2d\":[{\"type\":\"histogram2d\",\"colorbar\":{\"outlinewidth\":0,\"ticks\":\"\"},\"colorscale\":[[0.0,\"#0d0887\"],[0.1111111111111111,\"#46039f\"],[0.2222222222222222,\"#7201a8\"],[0.3333333333333333,\"#9c179e\"],[0.4444444444444444,\"#bd3786\"],[0.5555555555555556,\"#d8576b\"],[0.6666666666666666,\"#ed7953\"],[0.7777777777777778,\"#fb9f3a\"],[0.8888888888888888,\"#fdca26\"],[1.0,\"#f0f921\"]]}],\"heatmap\":[{\"type\":\"heatmap\",\"colorbar\":{\"outlinewidth\":0,\"ticks\":\"\"},\"colorscale\":[[0.0,\"#0d0887\"],[0.1111111111111111,\"#46039f\"],[0.2222222222222222,\"#7201a8\"],[0.3333333333333333,\"#9c179e\"],[0.4444444444444444,\"#bd3786\"],[0.5555555555555556,\"#d8576b\"],[0.6666666666666666,\"#ed7953\"],[0.7777777777777778,\"#fb9f3a\"],[0.8888888888888888,\"#fdca26\"],[1.0,\"#f0f921\"]]}],\"heatmapgl\":[{\"type\":\"heatmapgl\",\"colorbar\":{\"outlinewidth\":0,\"ticks\":\"\"},\"colorscale\":[[0.0,\"#0d0887\"],[0.1111111111111111,\"#46039f\"],[0.2222222222222222,\"#7201a8\"],[0.3333333333333333,\"#9c179e\"],[0.4444444444444444,\"#bd3786\"],[0.5555555555555556,\"#d8576b\"],[0.6666666666666666,\"#ed7953\"],[0.7777777777777778,\"#fb9f3a\"],[0.8888888888888888,\"#fdca26\"],[1.0,\"#f0f921\"]]}],\"contourcarpet\":[{\"type\":\"contourcarpet\",\"colorbar\":{\"outlinewidth\":0,\"ticks\":\"\"}}],\"contour\":[{\"type\":\"contour\",\"colorbar\":{\"outlinewidth\":0,\"ticks\":\"\"},\"colorscale\":[[0.0,\"#0d0887\"],[0.1111111111111111,\"#46039f\"],[0.2222222222222222,\"#7201a8\"],[0.3333333333333333,\"#9c179e\"],[0.4444444444444444,\"#bd3786\"],[0.5555555555555556,\"#d8576b\"],[0.6666666666666666,\"#ed7953\"],[0.7777777777777778,\"#fb9f3a\"],[0.8888888888888888,\"#fdca26\"],[1.0,\"#f0f921\"]]}],\"surface\":[{\"type\":\"surface\",\"colorbar\":{\"outlinewidth\":0,\"ticks\":\"\"},\"colorscale\":[[0.0,\"#0d0887\"],[0.1111111111111111,\"#46039f\"],[0.2222222222222222,\"#7201a8\"],[0.3333333333333333,\"#9c179e\"],[0.4444444444444444,\"#bd3786\"],[0.5555555555555556,\"#d8576b\"],[0.6666666666666666,\"#ed7953\"],[0.7777777777777778,\"#fb9f3a\"],[0.8888888888888888,\"#fdca26\"],[1.0,\"#f0f921\"]]}],\"mesh3d\":[{\"type\":\"mesh3d\",\"colorbar\":{\"outlinewidth\":0,\"ticks\":\"\"}}],\"scatter\":[{\"fillpattern\":{\"fillmode\":\"overlay\",\"size\":10,\"solidity\":0.2},\"type\":\"scatter\"}],\"parcoords\":[{\"type\":\"parcoords\",\"line\":{\"colorbar\":{\"outlinewidth\":0,\"ticks\":\"\"}}}],\"scatterpolargl\":[{\"type\":\"scatterpolargl\",\"marker\":{\"colorbar\":{\"outlinewidth\":0,\"ticks\":\"\"}}}],\"bar\":[{\"error_x\":{\"color\":\"#2a3f5f\"},\"error_y\":{\"color\":\"#2a3f5f\"},\"marker\":{\"line\":{\"color\":\"#E5ECF6\",\"width\":0.5},\"pattern\":{\"fillmode\":\"overlay\",\"size\":10,\"solidity\":0.2}},\"type\":\"bar\"}],\"scattergeo\":[{\"type\":\"scattergeo\",\"marker\":{\"colorbar\":{\"outlinewidth\":0,\"ticks\":\"\"}}}],\"scatterpolar\":[{\"type\":\"scatterpolar\",\"marker\":{\"colorbar\":{\"outlinewidth\":0,\"ticks\":\"\"}}}],\"histogram\":[{\"marker\":{\"pattern\":{\"fillmode\":\"overlay\",\"size\":10,\"solidity\":0.2}},\"type\":\"histogram\"}],\"scattergl\":[{\"type\":\"scattergl\",\"marker\":{\"colorbar\":{\"outlinewidth\":0,\"ticks\":\"\"}}}],\"scatter3d\":[{\"type\":\"scatter3d\",\"line\":{\"colorbar\":{\"outlinewidth\":0,\"ticks\":\"\"}},\"marker\":{\"colorbar\":{\"outlinewidth\":0,\"ticks\":\"\"}}}],\"scattermapbox\":[{\"type\":\"scattermapbox\",\"marker\":{\"colorbar\":{\"outlinewidth\":0,\"ticks\":\"\"}}}],\"scatterternary\":[{\"type\":\"scatterternary\",\"marker\":{\"colorbar\":{\"outlinewidth\":0,\"ticks\":\"\"}}}],\"scattercarpet\":[{\"type\":\"scattercarpet\",\"marker\":{\"colorbar\":{\"outlinewidth\":0,\"ticks\":\"\"}}}],\"carpet\":[{\"aaxis\":{\"endlinecolor\":\"#2a3f5f\",\"gridcolor\":\"white\",\"linecolor\":\"white\",\"minorgridcolor\":\"white\",\"startlinecolor\":\"#2a3f5f\"},\"baxis\":{\"endlinecolor\":\"#2a3f5f\",\"gridcolor\":\"white\",\"linecolor\":\"white\",\"minorgridcolor\":\"white\",\"startlinecolor\":\"#2a3f5f\"},\"type\":\"carpet\"}],\"table\":[{\"cells\":{\"fill\":{\"color\":\"#EBF0F8\"},\"line\":{\"color\":\"white\"}},\"header\":{\"fill\":{\"color\":\"#C8D4E3\"},\"line\":{\"color\":\"white\"}},\"type\":\"table\"}],\"barpolar\":[{\"marker\":{\"line\":{\"color\":\"#E5ECF6\",\"width\":0.5},\"pattern\":{\"fillmode\":\"overlay\",\"size\":10,\"solidity\":0.2}},\"type\":\"barpolar\"}],\"pie\":[{\"automargin\":true,\"type\":\"pie\"}]},\"layout\":{\"autotypenumbers\":\"strict\",\"colorway\":[\"#636efa\",\"#EF553B\",\"#00cc96\",\"#ab63fa\",\"#FFA15A\",\"#19d3f3\",\"#FF6692\",\"#B6E880\",\"#FF97FF\",\"#FECB52\"],\"font\":{\"color\":\"#2a3f5f\"},\"hovermode\":\"closest\",\"hoverlabel\":{\"align\":\"left\"},\"paper_bgcolor\":\"white\",\"plot_bgcolor\":\"#E5ECF6\",\"polar\":{\"bgcolor\":\"#E5ECF6\",\"angularaxis\":{\"gridcolor\":\"white\",\"linecolor\":\"white\",\"ticks\":\"\"},\"radialaxis\":{\"gridcolor\":\"white\",\"linecolor\":\"white\",\"ticks\":\"\"}},\"ternary\":{\"bgcolor\":\"#E5ECF6\",\"aaxis\":{\"gridcolor\":\"white\",\"linecolor\":\"white\",\"ticks\":\"\"},\"baxis\":{\"gridcolor\":\"white\",\"linecolor\":\"white\",\"ticks\":\"\"},\"caxis\":{\"gridcolor\":\"white\",\"linecolor\":\"white\",\"ticks\":\"\"}},\"coloraxis\":{\"colorbar\":{\"outlinewidth\":0,\"ticks\":\"\"}},\"colorscale\":{\"sequential\":[[0.0,\"#0d0887\"],[0.1111111111111111,\"#46039f\"],[0.2222222222222222,\"#7201a8\"],[0.3333333333333333,\"#9c179e\"],[0.4444444444444444,\"#bd3786\"],[0.5555555555555556,\"#d8576b\"],[0.6666666666666666,\"#ed7953\"],[0.7777777777777778,\"#fb9f3a\"],[0.8888888888888888,\"#fdca26\"],[1.0,\"#f0f921\"]],\"sequentialminus\":[[0.0,\"#0d0887\"],[0.1111111111111111,\"#46039f\"],[0.2222222222222222,\"#7201a8\"],[0.3333333333333333,\"#9c179e\"],[0.4444444444444444,\"#bd3786\"],[0.5555555555555556,\"#d8576b\"],[0.6666666666666666,\"#ed7953\"],[0.7777777777777778,\"#fb9f3a\"],[0.8888888888888888,\"#fdca26\"],[1.0,\"#f0f921\"]],\"diverging\":[[0,\"#8e0152\"],[0.1,\"#c51b7d\"],[0.2,\"#de77ae\"],[0.3,\"#f1b6da\"],[0.4,\"#fde0ef\"],[0.5,\"#f7f7f7\"],[0.6,\"#e6f5d0\"],[0.7,\"#b8e186\"],[0.8,\"#7fbc41\"],[0.9,\"#4d9221\"],[1,\"#276419\"]]},\"xaxis\":{\"gridcolor\":\"white\",\"linecolor\":\"white\",\"ticks\":\"\",\"title\":{\"standoff\":15},\"zerolinecolor\":\"white\",\"automargin\":true,\"zerolinewidth\":2},\"yaxis\":{\"gridcolor\":\"white\",\"linecolor\":\"white\",\"ticks\":\"\",\"title\":{\"standoff\":15},\"zerolinecolor\":\"white\",\"automargin\":true,\"zerolinewidth\":2},\"scene\":{\"xaxis\":{\"backgroundcolor\":\"#E5ECF6\",\"gridcolor\":\"white\",\"linecolor\":\"white\",\"showbackground\":true,\"ticks\":\"\",\"zerolinecolor\":\"white\",\"gridwidth\":2},\"yaxis\":{\"backgroundcolor\":\"#E5ECF6\",\"gridcolor\":\"white\",\"linecolor\":\"white\",\"showbackground\":true,\"ticks\":\"\",\"zerolinecolor\":\"white\",\"gridwidth\":2},\"zaxis\":{\"backgroundcolor\":\"#E5ECF6\",\"gridcolor\":\"white\",\"linecolor\":\"white\",\"showbackground\":true,\"ticks\":\"\",\"zerolinecolor\":\"white\",\"gridwidth\":2}},\"shapedefaults\":{\"line\":{\"color\":\"#2a3f5f\"}},\"annotationdefaults\":{\"arrowcolor\":\"#2a3f5f\",\"arrowhead\":0,\"arrowwidth\":1},\"geo\":{\"bgcolor\":\"white\",\"landcolor\":\"#E5ECF6\",\"subunitcolor\":\"white\",\"showland\":true,\"showlakes\":true,\"lakecolor\":\"white\"},\"title\":{\"x\":0.05},\"mapbox\":{\"style\":\"light\"}}},\"annotations\":[{\"font\":{\"size\":16},\"showarrow\":false,\"text\":\"Enzyme and Non-enzyme Distribution - Train\",\"x\":0.10625,\"xanchor\":\"center\",\"xref\":\"paper\",\"y\":1.0,\"yanchor\":\"bottom\",\"yref\":\"paper\"},{\"font\":{\"size\":16},\"showarrow\":false,\"text\":\"Enzyme and Non-enzyme Distribution - Test\",\"x\":0.36875,\"xanchor\":\"center\",\"xref\":\"paper\",\"y\":1.0,\"yanchor\":\"bottom\",\"yref\":\"paper\"},{\"font\":{\"size\":16},\"showarrow\":false,\"text\":\"RXN Class Distribution - Train\",\"x\":0.6312500000000001,\"xanchor\":\"center\",\"xref\":\"paper\",\"y\":1.0,\"yanchor\":\"bottom\",\"yref\":\"paper\"},{\"font\":{\"size\":16},\"showarrow\":false,\"text\":\"RXN Class Distribution - Test\",\"x\":0.89375,\"xanchor\":\"center\",\"xref\":\"paper\",\"y\":1.0,\"yanchor\":\"bottom\",\"yref\":\"paper\"}],\"margin\":{\"t\":20,\"b\":10,\"l\":0,\"r\":40},\"font\":{\"family\":\"Times New Roman\",\"size\":14},\"width\":1950,\"height\":560},                        {\"responsive\": true}                    ).then(function(){\n",
       "                            \n",
       "var gd = document.getElementById('68f36eef-ca03-4827-93ce-ac6c2b4d258c');\n",
       "var x = new MutationObserver(function (mutations, observer) {{\n",
       "        var display = window.getComputedStyle(gd).display;\n",
       "        if (!display || display === 'none') {{\n",
       "            console.log([gd, 'removed!']);\n",
       "            Plotly.purge(gd);\n",
       "            observer.disconnect();\n",
       "        }}\n",
       "}});\n",
       "\n",
       "// Listen for the removal of the full notebook cells\n",
       "var notebookContainer = gd.closest('#notebook-container');\n",
       "if (notebookContainer) {{\n",
       "    x.observe(notebookContainer, {childList: true});\n",
       "}}\n",
       "\n",
       "// Listen for the clearing of the current output cell\n",
       "var outputEl = gd.closest('.output');\n",
       "if (outputEl) {{\n",
       "    x.observe(outputEl, {childList: true});\n",
       "}}\n",
       "\n",
       "                        })                };                });            </script>        </div>"
      ]
     },
     "metadata": {},
     "output_type": "display_data"
    }
   ],
   "source": [
    "# 创建子图\n",
    "fig1 = make_subplots(\n",
    "    rows=1, cols=4, \n",
    "    specs=[[{'type': 'domain'}, {'type': 'domain'}, {'type': 'domain'}, {'type': 'domain'}]],\n",
    "    subplot_titles=['Enzyme and Non-enzyme Distribution - Train', 'Enzyme and Non-enzyme Distribution - Test', 'RXN Class Distribution - Train', 'RXN Class Distribution - Test']\n",
    ")\n",
    "\n",
    "\n",
    "# Add pie charts to each subplot\n",
    "fig1.add_trace(fig1_1_1, row=1, col=1)\n",
    "fig1.add_trace(fig1_1_2 , row=1, col=2)\n",
    "fig1.add_trace(fig1_1_3, row=1, col=3)\n",
    "fig1.add_trace(fig1_1_4, row=1, col=4)\n",
    "\n",
    "# Update layout to control the size\n",
    "fig1.update_layout(\n",
    "    width=1950,  # total width of the figure\n",
    "    height=560,  # total height of the figure\n",
    "    margin=dict(t=20, b=10, l=0, r=40),  # margins around the figure\n",
    "    font=dict(\n",
    "        family='Times New Roman',  # 设置字体为 Times New Roman\n",
    "        size=14  # 设置字体大小\n",
    "    )\n",
    ")\n",
    "\n",
    "# Show the figure\n",
    "fig1.show()\n",
    "\n"
   ]
  },
  {
   "cell_type": "code",
   "execution_count": 176,
   "id": "5be40ca6",
   "metadata": {},
   "outputs": [],
   "source": [
    "rxn_counts_train = get_rxn_distribution (train[['uniprot_id','reaction_id']])\n",
    "rxn_counts_test = get_rxn_distribution (test[['uniprot_id','reaction_id']])\n",
    "\n",
    "rxn_counts_train_show = rxn_counts_train[(rxn_counts_train['count']>500) &(rxn_counts_train.reaction_id!='-')]\n",
    "rxn_counts_test_show = rxn_counts_test[(rxn_counts_test['count']>10) &(rxn_counts_test.reaction_id!='-')]\n",
    "\n",
    "# 创建饼图对象\n",
    "\n",
    "fig2_1_1 = go.Pie(labels=rxn_counts_train_show.reaction_id, values=rxn_counts_train_show['count'], textinfo='percent+label', textposition='inside', hoverinfo='label+percent+value')\n",
    "fig2_1_2 = go.Pie(labels=rxn_counts_test_show.reaction_id, values=rxn_counts_test_show['count'], textinfo='percent+label', textposition='inside', hoverinfo='label+percent+value')"
   ]
  },
  {
   "cell_type": "code",
   "execution_count": 177,
   "id": "b467a455",
   "metadata": {},
   "outputs": [
    {
     "data": {
      "application/vnd.plotly.v1+json": {
       "config": {
        "plotlyServerURL": "https://plot.ly"
       },
       "data": [
        {
         "domain": {
          "x": [
           0,
           0.45
          ],
          "y": [
           0,
           1
          ]
         },
         "hoverinfo": "label+percent+value",
         "labels": [
          "RHEA:21248",
          "RHEA:13065",
          "RHEA:17989",
          "RHEA:46608",
          "RHEA:57888",
          "RHEA:57720",
          "RHEA:17521",
          "RHEA:19669",
          "RHEA:15889",
          "RHEA:42608",
          "RHEA:42612",
          "RHEA:16237",
          "RHEA:29091",
          "RHEA:22508",
          "RHEA:32287",
          "RHEA:14513",
          "RHEA:19413",
          "RHEA:10532",
          "RHEA:54728",
          "RHEA:10164",
          "RHEA:12973",
          "RHEA:24793",
          "RHEA:23540",
          "RHEA:16013",
          "RHEA:15901",
          "RHEA:42928",
          "RHEA:14305",
          "RHEA:15753",
          "RHEA:20557",
          "RHEA:23700",
          "RHEA:12292",
          "RHEA:22812",
          "RHEA:42580",
          "RHEA:15481",
          "RHEA:26482",
          "RHEA:21080",
          "RHEA:22096",
          "RHEA:54448",
          "RHEA:18113",
          "RHEA:44640",
          "RHEA:13097",
          "RHEA:37059",
          "RHEA:11688",
          "RHEA:11436",
          "RHEA:20301",
          "RHEA:17773",
          "RHEA:20629",
          "RHEA:14801",
          "RHEA:47032",
          "RHEA:47004",
          "RHEA:12540",
          "RHEA:20013",
          "RHEA:21020",
          "RHEA:10596",
          "RHEA:13017",
          "RHEA:36899",
          "RHEA:24624",
          "RHEA:17313",
          "RHEA:23124",
          "RHEA:36631",
          "RHEA:26426",
          "RHEA:24380",
          "RHEA:23424",
          "RHEA:19801",
          "RHEA:23372",
          "RHEA:14265",
          "RHEA:16597",
          "RHEA:11680",
          "RHEA:21256",
          "RHEA:22068",
          "RHEA:18585",
          "RHEA:28094",
          "RHEA:16585",
          "RHEA:11092",
          "RHEA:16609",
          "RHEA:13493",
          "RHEA:16373",
          "RHEA:11816",
          "RHEA:42916",
          "RHEA:15469",
          "RHEA:43332",
          "RHEA:28386",
          "RHEA:22376",
          "RHEA:19609",
          "RHEA:24020",
          "RHEA:42752",
          "RHEA:21096",
          "RHEA:26152",
          "RHEA:13509",
          "RHEA:37067",
          "RHEA:13517",
          "RHEA:66592",
          "RHEA:31227",
          "RHEA:10932",
          "RHEA:13725",
          "RHEA:13953",
          "RHEA:53744",
          "RHEA:21432",
          "RHEA:11096",
          "RHEA:22060",
          "RHEA:12068",
          "RHEA:11600",
          "RHEA:25094",
          "RHEA:21968",
          "RHEA:11224",
          "RHEA:17661",
          "RHEA:10248",
          "RHEA:12344",
          "RHEA:11060",
          "RHEA:24809",
          "RHEA:27694",
          "RHEA:11596",
          "RHEA:19541",
          "RHEA:18437",
          "RHEA:24400",
          "RHEA:11824",
          "RHEA:17737",
          "RHEA:11768",
          "RHEA:42292",
          "RHEA:14629",
          "RHEA:18681",
          "RHEA:35323",
          "RHEA:35331",
          "RHEA:10912",
          "RHEA:22120",
          "RHEA:12484",
          "RHEA:42708",
          "RHEA:11040",
          "RHEA:15801",
          "RHEA:17473",
          "RHEA:10220",
          "RHEA:11064",
          "RHEA:22628",
          "RHEA:18629",
          "RHEA:24304",
          "RHEA:28070",
          "RHEA:32155",
          "RHEA:56712",
          "RHEA:18473",
          "RHEA:42532",
          "RHEA:17129",
          "RHEA:23864",
          "RHEA:13121",
          "RHEA:76159",
          "RHEA:12605",
          "RHEA:27982",
          "RHEA:19865",
          "RHEA:20792",
          "RHEA:23744",
          "RHEA:54192",
          "RHEA:10684"
         ],
         "textinfo": "percent+label",
         "textposition": "inside",
         "type": "pie",
         "values": [
          4749,
          4222,
          3510,
          3495,
          2926,
          2146,
          1866,
          1846,
          1777,
          1703,
          1703,
          1494,
          1373,
          1345,
          1077,
          1045,
          1005,
          999,
          978,
          914,
          899,
          893,
          885,
          856,
          842,
          840,
          837,
          826,
          824,
          822,
          820,
          817,
          814,
          794,
          792,
          783,
          781,
          780,
          776,
          776,
          775,
          771,
          764,
          756,
          743,
          740,
          735,
          724,
          723,
          722,
          717,
          715,
          714,
          707,
          704,
          704,
          701,
          701,
          694,
          694,
          693,
          690,
          685,
          681,
          678,
          674,
          669,
          660,
          650,
          647,
          647,
          647,
          646,
          645,
          644,
          642,
          640,
          639,
          638,
          638,
          637,
          636,
          630,
          624,
          620,
          618,
          617,
          616,
          613,
          612,
          611,
          608,
          607,
          607,
          602,
          599,
          598,
          597,
          593,
          592,
          590,
          589,
          589,
          588,
          587,
          585,
          584,
          583,
          583,
          581,
          581,
          580,
          578,
          576,
          576,
          575,
          574,
          573,
          571,
          570,
          568,
          564,
          564,
          564,
          562,
          562,
          557,
          555,
          553,
          551,
          550,
          541,
          541,
          539,
          537,
          537,
          536,
          536,
          532,
          532,
          531,
          527,
          525,
          522,
          522,
          520,
          514,
          513,
          505,
          503,
          501
         ]
        },
        {
         "domain": {
          "x": [
           0.55,
           1
          ],
          "y": [
           0,
           1
          ]
         },
         "hoverinfo": "label+percent+value",
         "labels": [
          "RHEA:17989",
          "RHEA:46608",
          "RHEA:13065",
          "RHEA:21248",
          "RHEA:17653",
          "RHEA:16301",
          "RHEA:15801",
          "RHEA:22408",
          "RHEA:19361",
          "RHEA:19669",
          "RHEA:15245",
          "RHEA:32731",
          "RHEA:29667",
          "RHEA:36683",
          "RHEA:12044",
          "RHEA:47348",
          "RHEA:20629",
          "RHEA:16965",
          "RHEA:22508",
          "RHEA:24040",
          "RHEA:21440",
          "RHEA:45948",
          "RHEA:10684",
          "RHEA:47004",
          "RHEA:32299",
          "RHEA:32295",
          "RHEA:10596",
          "RHEA:17149",
          "RHEA:18689",
          "RHEA:24604",
          "RHEA:28294",
          "RHEA:12957",
          "RHEA:47356",
          "RHEA:32691",
          "RHEA:68640",
          "RHEA:21164",
          "RHEA:56556",
          "RHEA:21620",
          "RHEA:10868",
          "RHEA:10196",
          "RHEA:27425",
          "RHEA:19849",
          "RHEA:60364",
          "RHEA:55972",
          "RHEA:24898",
          "RHEA:25500",
          "RHEA:25694",
          "RHEA:10748",
          "RHEA:21384",
          "RHEA:19093",
          "RHEA:58148",
          "RHEA:29351",
          "RHEA:22896"
         ],
         "textinfo": "percent+label",
         "textposition": "inside",
         "type": "pie",
         "values": [
          138,
          137,
          78,
          69,
          48,
          43,
          43,
          33,
          33,
          32,
          32,
          32,
          29,
          28,
          25,
          25,
          23,
          23,
          21,
          20,
          19,
          18,
          17,
          17,
          17,
          17,
          16,
          16,
          15,
          15,
          15,
          15,
          15,
          14,
          14,
          13,
          13,
          13,
          13,
          13,
          12,
          12,
          12,
          12,
          12,
          12,
          12,
          12,
          12,
          12,
          11,
          11,
          11
         ]
        }
       ],
       "layout": {
        "annotations": [
         {
          "font": {
           "size": 16
          },
          "showarrow": false,
          "text": "RXN Distribution - Train",
          "x": 0.225,
          "xanchor": "center",
          "xref": "paper",
          "y": 1,
          "yanchor": "bottom",
          "yref": "paper"
         },
         {
          "font": {
           "size": 16
          },
          "showarrow": false,
          "text": "RXN Distribution - Test",
          "x": 0.775,
          "xanchor": "center",
          "xref": "paper",
          "y": 1,
          "yanchor": "bottom",
          "yref": "paper"
         }
        ],
        "font": {
         "family": "Times New Roman",
         "size": 14
        },
        "height": 800,
        "margin": {
         "b": 10,
         "l": 0,
         "r": 40,
         "t": 20
        },
        "template": {
         "data": {
          "bar": [
           {
            "error_x": {
             "color": "#2a3f5f"
            },
            "error_y": {
             "color": "#2a3f5f"
            },
            "marker": {
             "line": {
              "color": "#E5ECF6",
              "width": 0.5
             },
             "pattern": {
              "fillmode": "overlay",
              "size": 10,
              "solidity": 0.2
             }
            },
            "type": "bar"
           }
          ],
          "barpolar": [
           {
            "marker": {
             "line": {
              "color": "#E5ECF6",
              "width": 0.5
             },
             "pattern": {
              "fillmode": "overlay",
              "size": 10,
              "solidity": 0.2
             }
            },
            "type": "barpolar"
           }
          ],
          "carpet": [
           {
            "aaxis": {
             "endlinecolor": "#2a3f5f",
             "gridcolor": "white",
             "linecolor": "white",
             "minorgridcolor": "white",
             "startlinecolor": "#2a3f5f"
            },
            "baxis": {
             "endlinecolor": "#2a3f5f",
             "gridcolor": "white",
             "linecolor": "white",
             "minorgridcolor": "white",
             "startlinecolor": "#2a3f5f"
            },
            "type": "carpet"
           }
          ],
          "choropleth": [
           {
            "colorbar": {
             "outlinewidth": 0,
             "ticks": ""
            },
            "type": "choropleth"
           }
          ],
          "contour": [
           {
            "colorbar": {
             "outlinewidth": 0,
             "ticks": ""
            },
            "colorscale": [
             [
              0,
              "#0d0887"
             ],
             [
              0.1111111111111111,
              "#46039f"
             ],
             [
              0.2222222222222222,
              "#7201a8"
             ],
             [
              0.3333333333333333,
              "#9c179e"
             ],
             [
              0.4444444444444444,
              "#bd3786"
             ],
             [
              0.5555555555555556,
              "#d8576b"
             ],
             [
              0.6666666666666666,
              "#ed7953"
             ],
             [
              0.7777777777777778,
              "#fb9f3a"
             ],
             [
              0.8888888888888888,
              "#fdca26"
             ],
             [
              1,
              "#f0f921"
             ]
            ],
            "type": "contour"
           }
          ],
          "contourcarpet": [
           {
            "colorbar": {
             "outlinewidth": 0,
             "ticks": ""
            },
            "type": "contourcarpet"
           }
          ],
          "heatmap": [
           {
            "colorbar": {
             "outlinewidth": 0,
             "ticks": ""
            },
            "colorscale": [
             [
              0,
              "#0d0887"
             ],
             [
              0.1111111111111111,
              "#46039f"
             ],
             [
              0.2222222222222222,
              "#7201a8"
             ],
             [
              0.3333333333333333,
              "#9c179e"
             ],
             [
              0.4444444444444444,
              "#bd3786"
             ],
             [
              0.5555555555555556,
              "#d8576b"
             ],
             [
              0.6666666666666666,
              "#ed7953"
             ],
             [
              0.7777777777777778,
              "#fb9f3a"
             ],
             [
              0.8888888888888888,
              "#fdca26"
             ],
             [
              1,
              "#f0f921"
             ]
            ],
            "type": "heatmap"
           }
          ],
          "heatmapgl": [
           {
            "colorbar": {
             "outlinewidth": 0,
             "ticks": ""
            },
            "colorscale": [
             [
              0,
              "#0d0887"
             ],
             [
              0.1111111111111111,
              "#46039f"
             ],
             [
              0.2222222222222222,
              "#7201a8"
             ],
             [
              0.3333333333333333,
              "#9c179e"
             ],
             [
              0.4444444444444444,
              "#bd3786"
             ],
             [
              0.5555555555555556,
              "#d8576b"
             ],
             [
              0.6666666666666666,
              "#ed7953"
             ],
             [
              0.7777777777777778,
              "#fb9f3a"
             ],
             [
              0.8888888888888888,
              "#fdca26"
             ],
             [
              1,
              "#f0f921"
             ]
            ],
            "type": "heatmapgl"
           }
          ],
          "histogram": [
           {
            "marker": {
             "pattern": {
              "fillmode": "overlay",
              "size": 10,
              "solidity": 0.2
             }
            },
            "type": "histogram"
           }
          ],
          "histogram2d": [
           {
            "colorbar": {
             "outlinewidth": 0,
             "ticks": ""
            },
            "colorscale": [
             [
              0,
              "#0d0887"
             ],
             [
              0.1111111111111111,
              "#46039f"
             ],
             [
              0.2222222222222222,
              "#7201a8"
             ],
             [
              0.3333333333333333,
              "#9c179e"
             ],
             [
              0.4444444444444444,
              "#bd3786"
             ],
             [
              0.5555555555555556,
              "#d8576b"
             ],
             [
              0.6666666666666666,
              "#ed7953"
             ],
             [
              0.7777777777777778,
              "#fb9f3a"
             ],
             [
              0.8888888888888888,
              "#fdca26"
             ],
             [
              1,
              "#f0f921"
             ]
            ],
            "type": "histogram2d"
           }
          ],
          "histogram2dcontour": [
           {
            "colorbar": {
             "outlinewidth": 0,
             "ticks": ""
            },
            "colorscale": [
             [
              0,
              "#0d0887"
             ],
             [
              0.1111111111111111,
              "#46039f"
             ],
             [
              0.2222222222222222,
              "#7201a8"
             ],
             [
              0.3333333333333333,
              "#9c179e"
             ],
             [
              0.4444444444444444,
              "#bd3786"
             ],
             [
              0.5555555555555556,
              "#d8576b"
             ],
             [
              0.6666666666666666,
              "#ed7953"
             ],
             [
              0.7777777777777778,
              "#fb9f3a"
             ],
             [
              0.8888888888888888,
              "#fdca26"
             ],
             [
              1,
              "#f0f921"
             ]
            ],
            "type": "histogram2dcontour"
           }
          ],
          "mesh3d": [
           {
            "colorbar": {
             "outlinewidth": 0,
             "ticks": ""
            },
            "type": "mesh3d"
           }
          ],
          "parcoords": [
           {
            "line": {
             "colorbar": {
              "outlinewidth": 0,
              "ticks": ""
             }
            },
            "type": "parcoords"
           }
          ],
          "pie": [
           {
            "automargin": true,
            "type": "pie"
           }
          ],
          "scatter": [
           {
            "fillpattern": {
             "fillmode": "overlay",
             "size": 10,
             "solidity": 0.2
            },
            "type": "scatter"
           }
          ],
          "scatter3d": [
           {
            "line": {
             "colorbar": {
              "outlinewidth": 0,
              "ticks": ""
             }
            },
            "marker": {
             "colorbar": {
              "outlinewidth": 0,
              "ticks": ""
             }
            },
            "type": "scatter3d"
           }
          ],
          "scattercarpet": [
           {
            "marker": {
             "colorbar": {
              "outlinewidth": 0,
              "ticks": ""
             }
            },
            "type": "scattercarpet"
           }
          ],
          "scattergeo": [
           {
            "marker": {
             "colorbar": {
              "outlinewidth": 0,
              "ticks": ""
             }
            },
            "type": "scattergeo"
           }
          ],
          "scattergl": [
           {
            "marker": {
             "colorbar": {
              "outlinewidth": 0,
              "ticks": ""
             }
            },
            "type": "scattergl"
           }
          ],
          "scattermapbox": [
           {
            "marker": {
             "colorbar": {
              "outlinewidth": 0,
              "ticks": ""
             }
            },
            "type": "scattermapbox"
           }
          ],
          "scatterpolar": [
           {
            "marker": {
             "colorbar": {
              "outlinewidth": 0,
              "ticks": ""
             }
            },
            "type": "scatterpolar"
           }
          ],
          "scatterpolargl": [
           {
            "marker": {
             "colorbar": {
              "outlinewidth": 0,
              "ticks": ""
             }
            },
            "type": "scatterpolargl"
           }
          ],
          "scatterternary": [
           {
            "marker": {
             "colorbar": {
              "outlinewidth": 0,
              "ticks": ""
             }
            },
            "type": "scatterternary"
           }
          ],
          "surface": [
           {
            "colorbar": {
             "outlinewidth": 0,
             "ticks": ""
            },
            "colorscale": [
             [
              0,
              "#0d0887"
             ],
             [
              0.1111111111111111,
              "#46039f"
             ],
             [
              0.2222222222222222,
              "#7201a8"
             ],
             [
              0.3333333333333333,
              "#9c179e"
             ],
             [
              0.4444444444444444,
              "#bd3786"
             ],
             [
              0.5555555555555556,
              "#d8576b"
             ],
             [
              0.6666666666666666,
              "#ed7953"
             ],
             [
              0.7777777777777778,
              "#fb9f3a"
             ],
             [
              0.8888888888888888,
              "#fdca26"
             ],
             [
              1,
              "#f0f921"
             ]
            ],
            "type": "surface"
           }
          ],
          "table": [
           {
            "cells": {
             "fill": {
              "color": "#EBF0F8"
             },
             "line": {
              "color": "white"
             }
            },
            "header": {
             "fill": {
              "color": "#C8D4E3"
             },
             "line": {
              "color": "white"
             }
            },
            "type": "table"
           }
          ]
         },
         "layout": {
          "annotationdefaults": {
           "arrowcolor": "#2a3f5f",
           "arrowhead": 0,
           "arrowwidth": 1
          },
          "autotypenumbers": "strict",
          "coloraxis": {
           "colorbar": {
            "outlinewidth": 0,
            "ticks": ""
           }
          },
          "colorscale": {
           "diverging": [
            [
             0,
             "#8e0152"
            ],
            [
             0.1,
             "#c51b7d"
            ],
            [
             0.2,
             "#de77ae"
            ],
            [
             0.3,
             "#f1b6da"
            ],
            [
             0.4,
             "#fde0ef"
            ],
            [
             0.5,
             "#f7f7f7"
            ],
            [
             0.6,
             "#e6f5d0"
            ],
            [
             0.7,
             "#b8e186"
            ],
            [
             0.8,
             "#7fbc41"
            ],
            [
             0.9,
             "#4d9221"
            ],
            [
             1,
             "#276419"
            ]
           ],
           "sequential": [
            [
             0,
             "#0d0887"
            ],
            [
             0.1111111111111111,
             "#46039f"
            ],
            [
             0.2222222222222222,
             "#7201a8"
            ],
            [
             0.3333333333333333,
             "#9c179e"
            ],
            [
             0.4444444444444444,
             "#bd3786"
            ],
            [
             0.5555555555555556,
             "#d8576b"
            ],
            [
             0.6666666666666666,
             "#ed7953"
            ],
            [
             0.7777777777777778,
             "#fb9f3a"
            ],
            [
             0.8888888888888888,
             "#fdca26"
            ],
            [
             1,
             "#f0f921"
            ]
           ],
           "sequentialminus": [
            [
             0,
             "#0d0887"
            ],
            [
             0.1111111111111111,
             "#46039f"
            ],
            [
             0.2222222222222222,
             "#7201a8"
            ],
            [
             0.3333333333333333,
             "#9c179e"
            ],
            [
             0.4444444444444444,
             "#bd3786"
            ],
            [
             0.5555555555555556,
             "#d8576b"
            ],
            [
             0.6666666666666666,
             "#ed7953"
            ],
            [
             0.7777777777777778,
             "#fb9f3a"
            ],
            [
             0.8888888888888888,
             "#fdca26"
            ],
            [
             1,
             "#f0f921"
            ]
           ]
          },
          "colorway": [
           "#636efa",
           "#EF553B",
           "#00cc96",
           "#ab63fa",
           "#FFA15A",
           "#19d3f3",
           "#FF6692",
           "#B6E880",
           "#FF97FF",
           "#FECB52"
          ],
          "font": {
           "color": "#2a3f5f"
          },
          "geo": {
           "bgcolor": "white",
           "lakecolor": "white",
           "landcolor": "#E5ECF6",
           "showlakes": true,
           "showland": true,
           "subunitcolor": "white"
          },
          "hoverlabel": {
           "align": "left"
          },
          "hovermode": "closest",
          "mapbox": {
           "style": "light"
          },
          "paper_bgcolor": "white",
          "plot_bgcolor": "#E5ECF6",
          "polar": {
           "angularaxis": {
            "gridcolor": "white",
            "linecolor": "white",
            "ticks": ""
           },
           "bgcolor": "#E5ECF6",
           "radialaxis": {
            "gridcolor": "white",
            "linecolor": "white",
            "ticks": ""
           }
          },
          "scene": {
           "xaxis": {
            "backgroundcolor": "#E5ECF6",
            "gridcolor": "white",
            "gridwidth": 2,
            "linecolor": "white",
            "showbackground": true,
            "ticks": "",
            "zerolinecolor": "white"
           },
           "yaxis": {
            "backgroundcolor": "#E5ECF6",
            "gridcolor": "white",
            "gridwidth": 2,
            "linecolor": "white",
            "showbackground": true,
            "ticks": "",
            "zerolinecolor": "white"
           },
           "zaxis": {
            "backgroundcolor": "#E5ECF6",
            "gridcolor": "white",
            "gridwidth": 2,
            "linecolor": "white",
            "showbackground": true,
            "ticks": "",
            "zerolinecolor": "white"
           }
          },
          "shapedefaults": {
           "line": {
            "color": "#2a3f5f"
           }
          },
          "ternary": {
           "aaxis": {
            "gridcolor": "white",
            "linecolor": "white",
            "ticks": ""
           },
           "baxis": {
            "gridcolor": "white",
            "linecolor": "white",
            "ticks": ""
           },
           "bgcolor": "#E5ECF6",
           "caxis": {
            "gridcolor": "white",
            "linecolor": "white",
            "ticks": ""
           }
          },
          "title": {
           "x": 0.05
          },
          "xaxis": {
           "automargin": true,
           "gridcolor": "white",
           "linecolor": "white",
           "ticks": "",
           "title": {
            "standoff": 15
           },
           "zerolinecolor": "white",
           "zerolinewidth": 2
          },
          "yaxis": {
           "automargin": true,
           "gridcolor": "white",
           "linecolor": "white",
           "ticks": "",
           "title": {
            "standoff": 15
           },
           "zerolinecolor": "white",
           "zerolinewidth": 2
          }
         }
        },
        "width": 1950
       }
      },
      "text/html": [
       "<div>                            <div id=\"da4de99f-9eab-472c-a061-b0cbd383f174\" class=\"plotly-graph-div\" style=\"height:800px; width:1950px;\"></div>            <script type=\"text/javascript\">                require([\"plotly\"], function(Plotly) {                    window.PLOTLYENV=window.PLOTLYENV || {};                                    if (document.getElementById(\"da4de99f-9eab-472c-a061-b0cbd383f174\")) {                    Plotly.newPlot(                        \"da4de99f-9eab-472c-a061-b0cbd383f174\",                        [{\"hoverinfo\":\"label+percent+value\",\"labels\":[\"RHEA:21248\",\"RHEA:13065\",\"RHEA:17989\",\"RHEA:46608\",\"RHEA:57888\",\"RHEA:57720\",\"RHEA:17521\",\"RHEA:19669\",\"RHEA:15889\",\"RHEA:42608\",\"RHEA:42612\",\"RHEA:16237\",\"RHEA:29091\",\"RHEA:22508\",\"RHEA:32287\",\"RHEA:14513\",\"RHEA:19413\",\"RHEA:10532\",\"RHEA:54728\",\"RHEA:10164\",\"RHEA:12973\",\"RHEA:24793\",\"RHEA:23540\",\"RHEA:16013\",\"RHEA:15901\",\"RHEA:42928\",\"RHEA:14305\",\"RHEA:15753\",\"RHEA:20557\",\"RHEA:23700\",\"RHEA:12292\",\"RHEA:22812\",\"RHEA:42580\",\"RHEA:15481\",\"RHEA:26482\",\"RHEA:21080\",\"RHEA:22096\",\"RHEA:54448\",\"RHEA:18113\",\"RHEA:44640\",\"RHEA:13097\",\"RHEA:37059\",\"RHEA:11688\",\"RHEA:11436\",\"RHEA:20301\",\"RHEA:17773\",\"RHEA:20629\",\"RHEA:14801\",\"RHEA:47032\",\"RHEA:47004\",\"RHEA:12540\",\"RHEA:20013\",\"RHEA:21020\",\"RHEA:10596\",\"RHEA:13017\",\"RHEA:36899\",\"RHEA:24624\",\"RHEA:17313\",\"RHEA:23124\",\"RHEA:36631\",\"RHEA:26426\",\"RHEA:24380\",\"RHEA:23424\",\"RHEA:19801\",\"RHEA:23372\",\"RHEA:14265\",\"RHEA:16597\",\"RHEA:11680\",\"RHEA:21256\",\"RHEA:22068\",\"RHEA:18585\",\"RHEA:28094\",\"RHEA:16585\",\"RHEA:11092\",\"RHEA:16609\",\"RHEA:13493\",\"RHEA:16373\",\"RHEA:11816\",\"RHEA:42916\",\"RHEA:15469\",\"RHEA:43332\",\"RHEA:28386\",\"RHEA:22376\",\"RHEA:19609\",\"RHEA:24020\",\"RHEA:42752\",\"RHEA:21096\",\"RHEA:26152\",\"RHEA:13509\",\"RHEA:37067\",\"RHEA:13517\",\"RHEA:66592\",\"RHEA:31227\",\"RHEA:10932\",\"RHEA:13725\",\"RHEA:13953\",\"RHEA:53744\",\"RHEA:21432\",\"RHEA:11096\",\"RHEA:22060\",\"RHEA:12068\",\"RHEA:11600\",\"RHEA:25094\",\"RHEA:21968\",\"RHEA:11224\",\"RHEA:17661\",\"RHEA:10248\",\"RHEA:12344\",\"RHEA:11060\",\"RHEA:24809\",\"RHEA:27694\",\"RHEA:11596\",\"RHEA:19541\",\"RHEA:18437\",\"RHEA:24400\",\"RHEA:11824\",\"RHEA:17737\",\"RHEA:11768\",\"RHEA:42292\",\"RHEA:14629\",\"RHEA:18681\",\"RHEA:35323\",\"RHEA:35331\",\"RHEA:10912\",\"RHEA:22120\",\"RHEA:12484\",\"RHEA:42708\",\"RHEA:11040\",\"RHEA:15801\",\"RHEA:17473\",\"RHEA:10220\",\"RHEA:11064\",\"RHEA:22628\",\"RHEA:18629\",\"RHEA:24304\",\"RHEA:28070\",\"RHEA:32155\",\"RHEA:56712\",\"RHEA:18473\",\"RHEA:42532\",\"RHEA:17129\",\"RHEA:23864\",\"RHEA:13121\",\"RHEA:76159\",\"RHEA:12605\",\"RHEA:27982\",\"RHEA:19865\",\"RHEA:20792\",\"RHEA:23744\",\"RHEA:54192\",\"RHEA:10684\"],\"textinfo\":\"percent+label\",\"textposition\":\"inside\",\"values\":[4749,4222,3510,3495,2926,2146,1866,1846,1777,1703,1703,1494,1373,1345,1077,1045,1005,999,978,914,899,893,885,856,842,840,837,826,824,822,820,817,814,794,792,783,781,780,776,776,775,771,764,756,743,740,735,724,723,722,717,715,714,707,704,704,701,701,694,694,693,690,685,681,678,674,669,660,650,647,647,647,646,645,644,642,640,639,638,638,637,636,630,624,620,618,617,616,613,612,611,608,607,607,602,599,598,597,593,592,590,589,589,588,587,585,584,583,583,581,581,580,578,576,576,575,574,573,571,570,568,564,564,564,562,562,557,555,553,551,550,541,541,539,537,537,536,536,532,532,531,527,525,522,522,520,514,513,505,503,501],\"type\":\"pie\",\"domain\":{\"x\":[0.0,0.45],\"y\":[0.0,1.0]}},{\"hoverinfo\":\"label+percent+value\",\"labels\":[\"RHEA:17989\",\"RHEA:46608\",\"RHEA:13065\",\"RHEA:21248\",\"RHEA:17653\",\"RHEA:16301\",\"RHEA:15801\",\"RHEA:22408\",\"RHEA:19361\",\"RHEA:19669\",\"RHEA:15245\",\"RHEA:32731\",\"RHEA:29667\",\"RHEA:36683\",\"RHEA:12044\",\"RHEA:47348\",\"RHEA:20629\",\"RHEA:16965\",\"RHEA:22508\",\"RHEA:24040\",\"RHEA:21440\",\"RHEA:45948\",\"RHEA:10684\",\"RHEA:47004\",\"RHEA:32299\",\"RHEA:32295\",\"RHEA:10596\",\"RHEA:17149\",\"RHEA:18689\",\"RHEA:24604\",\"RHEA:28294\",\"RHEA:12957\",\"RHEA:47356\",\"RHEA:32691\",\"RHEA:68640\",\"RHEA:21164\",\"RHEA:56556\",\"RHEA:21620\",\"RHEA:10868\",\"RHEA:10196\",\"RHEA:27425\",\"RHEA:19849\",\"RHEA:60364\",\"RHEA:55972\",\"RHEA:24898\",\"RHEA:25500\",\"RHEA:25694\",\"RHEA:10748\",\"RHEA:21384\",\"RHEA:19093\",\"RHEA:58148\",\"RHEA:29351\",\"RHEA:22896\"],\"textinfo\":\"percent+label\",\"textposition\":\"inside\",\"values\":[138,137,78,69,48,43,43,33,33,32,32,32,29,28,25,25,23,23,21,20,19,18,17,17,17,17,16,16,15,15,15,15,15,14,14,13,13,13,13,13,12,12,12,12,12,12,12,12,12,12,11,11,11],\"type\":\"pie\",\"domain\":{\"x\":[0.55,1.0],\"y\":[0.0,1.0]}}],                        {\"template\":{\"data\":{\"histogram2dcontour\":[{\"type\":\"histogram2dcontour\",\"colorbar\":{\"outlinewidth\":0,\"ticks\":\"\"},\"colorscale\":[[0.0,\"#0d0887\"],[0.1111111111111111,\"#46039f\"],[0.2222222222222222,\"#7201a8\"],[0.3333333333333333,\"#9c179e\"],[0.4444444444444444,\"#bd3786\"],[0.5555555555555556,\"#d8576b\"],[0.6666666666666666,\"#ed7953\"],[0.7777777777777778,\"#fb9f3a\"],[0.8888888888888888,\"#fdca26\"],[1.0,\"#f0f921\"]]}],\"choropleth\":[{\"type\":\"choropleth\",\"colorbar\":{\"outlinewidth\":0,\"ticks\":\"\"}}],\"histogram2d\":[{\"type\":\"histogram2d\",\"colorbar\":{\"outlinewidth\":0,\"ticks\":\"\"},\"colorscale\":[[0.0,\"#0d0887\"],[0.1111111111111111,\"#46039f\"],[0.2222222222222222,\"#7201a8\"],[0.3333333333333333,\"#9c179e\"],[0.4444444444444444,\"#bd3786\"],[0.5555555555555556,\"#d8576b\"],[0.6666666666666666,\"#ed7953\"],[0.7777777777777778,\"#fb9f3a\"],[0.8888888888888888,\"#fdca26\"],[1.0,\"#f0f921\"]]}],\"heatmap\":[{\"type\":\"heatmap\",\"colorbar\":{\"outlinewidth\":0,\"ticks\":\"\"},\"colorscale\":[[0.0,\"#0d0887\"],[0.1111111111111111,\"#46039f\"],[0.2222222222222222,\"#7201a8\"],[0.3333333333333333,\"#9c179e\"],[0.4444444444444444,\"#bd3786\"],[0.5555555555555556,\"#d8576b\"],[0.6666666666666666,\"#ed7953\"],[0.7777777777777778,\"#fb9f3a\"],[0.8888888888888888,\"#fdca26\"],[1.0,\"#f0f921\"]]}],\"heatmapgl\":[{\"type\":\"heatmapgl\",\"colorbar\":{\"outlinewidth\":0,\"ticks\":\"\"},\"colorscale\":[[0.0,\"#0d0887\"],[0.1111111111111111,\"#46039f\"],[0.2222222222222222,\"#7201a8\"],[0.3333333333333333,\"#9c179e\"],[0.4444444444444444,\"#bd3786\"],[0.5555555555555556,\"#d8576b\"],[0.6666666666666666,\"#ed7953\"],[0.7777777777777778,\"#fb9f3a\"],[0.8888888888888888,\"#fdca26\"],[1.0,\"#f0f921\"]]}],\"contourcarpet\":[{\"type\":\"contourcarpet\",\"colorbar\":{\"outlinewidth\":0,\"ticks\":\"\"}}],\"contour\":[{\"type\":\"contour\",\"colorbar\":{\"outlinewidth\":0,\"ticks\":\"\"},\"colorscale\":[[0.0,\"#0d0887\"],[0.1111111111111111,\"#46039f\"],[0.2222222222222222,\"#7201a8\"],[0.3333333333333333,\"#9c179e\"],[0.4444444444444444,\"#bd3786\"],[0.5555555555555556,\"#d8576b\"],[0.6666666666666666,\"#ed7953\"],[0.7777777777777778,\"#fb9f3a\"],[0.8888888888888888,\"#fdca26\"],[1.0,\"#f0f921\"]]}],\"surface\":[{\"type\":\"surface\",\"colorbar\":{\"outlinewidth\":0,\"ticks\":\"\"},\"colorscale\":[[0.0,\"#0d0887\"],[0.1111111111111111,\"#46039f\"],[0.2222222222222222,\"#7201a8\"],[0.3333333333333333,\"#9c179e\"],[0.4444444444444444,\"#bd3786\"],[0.5555555555555556,\"#d8576b\"],[0.6666666666666666,\"#ed7953\"],[0.7777777777777778,\"#fb9f3a\"],[0.8888888888888888,\"#fdca26\"],[1.0,\"#f0f921\"]]}],\"mesh3d\":[{\"type\":\"mesh3d\",\"colorbar\":{\"outlinewidth\":0,\"ticks\":\"\"}}],\"scatter\":[{\"fillpattern\":{\"fillmode\":\"overlay\",\"size\":10,\"solidity\":0.2},\"type\":\"scatter\"}],\"parcoords\":[{\"type\":\"parcoords\",\"line\":{\"colorbar\":{\"outlinewidth\":0,\"ticks\":\"\"}}}],\"scatterpolargl\":[{\"type\":\"scatterpolargl\",\"marker\":{\"colorbar\":{\"outlinewidth\":0,\"ticks\":\"\"}}}],\"bar\":[{\"error_x\":{\"color\":\"#2a3f5f\"},\"error_y\":{\"color\":\"#2a3f5f\"},\"marker\":{\"line\":{\"color\":\"#E5ECF6\",\"width\":0.5},\"pattern\":{\"fillmode\":\"overlay\",\"size\":10,\"solidity\":0.2}},\"type\":\"bar\"}],\"scattergeo\":[{\"type\":\"scattergeo\",\"marker\":{\"colorbar\":{\"outlinewidth\":0,\"ticks\":\"\"}}}],\"scatterpolar\":[{\"type\":\"scatterpolar\",\"marker\":{\"colorbar\":{\"outlinewidth\":0,\"ticks\":\"\"}}}],\"histogram\":[{\"marker\":{\"pattern\":{\"fillmode\":\"overlay\",\"size\":10,\"solidity\":0.2}},\"type\":\"histogram\"}],\"scattergl\":[{\"type\":\"scattergl\",\"marker\":{\"colorbar\":{\"outlinewidth\":0,\"ticks\":\"\"}}}],\"scatter3d\":[{\"type\":\"scatter3d\",\"line\":{\"colorbar\":{\"outlinewidth\":0,\"ticks\":\"\"}},\"marker\":{\"colorbar\":{\"outlinewidth\":0,\"ticks\":\"\"}}}],\"scattermapbox\":[{\"type\":\"scattermapbox\",\"marker\":{\"colorbar\":{\"outlinewidth\":0,\"ticks\":\"\"}}}],\"scatterternary\":[{\"type\":\"scatterternary\",\"marker\":{\"colorbar\":{\"outlinewidth\":0,\"ticks\":\"\"}}}],\"scattercarpet\":[{\"type\":\"scattercarpet\",\"marker\":{\"colorbar\":{\"outlinewidth\":0,\"ticks\":\"\"}}}],\"carpet\":[{\"aaxis\":{\"endlinecolor\":\"#2a3f5f\",\"gridcolor\":\"white\",\"linecolor\":\"white\",\"minorgridcolor\":\"white\",\"startlinecolor\":\"#2a3f5f\"},\"baxis\":{\"endlinecolor\":\"#2a3f5f\",\"gridcolor\":\"white\",\"linecolor\":\"white\",\"minorgridcolor\":\"white\",\"startlinecolor\":\"#2a3f5f\"},\"type\":\"carpet\"}],\"table\":[{\"cells\":{\"fill\":{\"color\":\"#EBF0F8\"},\"line\":{\"color\":\"white\"}},\"header\":{\"fill\":{\"color\":\"#C8D4E3\"},\"line\":{\"color\":\"white\"}},\"type\":\"table\"}],\"barpolar\":[{\"marker\":{\"line\":{\"color\":\"#E5ECF6\",\"width\":0.5},\"pattern\":{\"fillmode\":\"overlay\",\"size\":10,\"solidity\":0.2}},\"type\":\"barpolar\"}],\"pie\":[{\"automargin\":true,\"type\":\"pie\"}]},\"layout\":{\"autotypenumbers\":\"strict\",\"colorway\":[\"#636efa\",\"#EF553B\",\"#00cc96\",\"#ab63fa\",\"#FFA15A\",\"#19d3f3\",\"#FF6692\",\"#B6E880\",\"#FF97FF\",\"#FECB52\"],\"font\":{\"color\":\"#2a3f5f\"},\"hovermode\":\"closest\",\"hoverlabel\":{\"align\":\"left\"},\"paper_bgcolor\":\"white\",\"plot_bgcolor\":\"#E5ECF6\",\"polar\":{\"bgcolor\":\"#E5ECF6\",\"angularaxis\":{\"gridcolor\":\"white\",\"linecolor\":\"white\",\"ticks\":\"\"},\"radialaxis\":{\"gridcolor\":\"white\",\"linecolor\":\"white\",\"ticks\":\"\"}},\"ternary\":{\"bgcolor\":\"#E5ECF6\",\"aaxis\":{\"gridcolor\":\"white\",\"linecolor\":\"white\",\"ticks\":\"\"},\"baxis\":{\"gridcolor\":\"white\",\"linecolor\":\"white\",\"ticks\":\"\"},\"caxis\":{\"gridcolor\":\"white\",\"linecolor\":\"white\",\"ticks\":\"\"}},\"coloraxis\":{\"colorbar\":{\"outlinewidth\":0,\"ticks\":\"\"}},\"colorscale\":{\"sequential\":[[0.0,\"#0d0887\"],[0.1111111111111111,\"#46039f\"],[0.2222222222222222,\"#7201a8\"],[0.3333333333333333,\"#9c179e\"],[0.4444444444444444,\"#bd3786\"],[0.5555555555555556,\"#d8576b\"],[0.6666666666666666,\"#ed7953\"],[0.7777777777777778,\"#fb9f3a\"],[0.8888888888888888,\"#fdca26\"],[1.0,\"#f0f921\"]],\"sequentialminus\":[[0.0,\"#0d0887\"],[0.1111111111111111,\"#46039f\"],[0.2222222222222222,\"#7201a8\"],[0.3333333333333333,\"#9c179e\"],[0.4444444444444444,\"#bd3786\"],[0.5555555555555556,\"#d8576b\"],[0.6666666666666666,\"#ed7953\"],[0.7777777777777778,\"#fb9f3a\"],[0.8888888888888888,\"#fdca26\"],[1.0,\"#f0f921\"]],\"diverging\":[[0,\"#8e0152\"],[0.1,\"#c51b7d\"],[0.2,\"#de77ae\"],[0.3,\"#f1b6da\"],[0.4,\"#fde0ef\"],[0.5,\"#f7f7f7\"],[0.6,\"#e6f5d0\"],[0.7,\"#b8e186\"],[0.8,\"#7fbc41\"],[0.9,\"#4d9221\"],[1,\"#276419\"]]},\"xaxis\":{\"gridcolor\":\"white\",\"linecolor\":\"white\",\"ticks\":\"\",\"title\":{\"standoff\":15},\"zerolinecolor\":\"white\",\"automargin\":true,\"zerolinewidth\":2},\"yaxis\":{\"gridcolor\":\"white\",\"linecolor\":\"white\",\"ticks\":\"\",\"title\":{\"standoff\":15},\"zerolinecolor\":\"white\",\"automargin\":true,\"zerolinewidth\":2},\"scene\":{\"xaxis\":{\"backgroundcolor\":\"#E5ECF6\",\"gridcolor\":\"white\",\"linecolor\":\"white\",\"showbackground\":true,\"ticks\":\"\",\"zerolinecolor\":\"white\",\"gridwidth\":2},\"yaxis\":{\"backgroundcolor\":\"#E5ECF6\",\"gridcolor\":\"white\",\"linecolor\":\"white\",\"showbackground\":true,\"ticks\":\"\",\"zerolinecolor\":\"white\",\"gridwidth\":2},\"zaxis\":{\"backgroundcolor\":\"#E5ECF6\",\"gridcolor\":\"white\",\"linecolor\":\"white\",\"showbackground\":true,\"ticks\":\"\",\"zerolinecolor\":\"white\",\"gridwidth\":2}},\"shapedefaults\":{\"line\":{\"color\":\"#2a3f5f\"}},\"annotationdefaults\":{\"arrowcolor\":\"#2a3f5f\",\"arrowhead\":0,\"arrowwidth\":1},\"geo\":{\"bgcolor\":\"white\",\"landcolor\":\"#E5ECF6\",\"subunitcolor\":\"white\",\"showland\":true,\"showlakes\":true,\"lakecolor\":\"white\"},\"title\":{\"x\":0.05},\"mapbox\":{\"style\":\"light\"}}},\"annotations\":[{\"font\":{\"size\":16},\"showarrow\":false,\"text\":\"RXN Distribution - Train\",\"x\":0.225,\"xanchor\":\"center\",\"xref\":\"paper\",\"y\":1.0,\"yanchor\":\"bottom\",\"yref\":\"paper\"},{\"font\":{\"size\":16},\"showarrow\":false,\"text\":\"RXN Distribution - Test\",\"x\":0.775,\"xanchor\":\"center\",\"xref\":\"paper\",\"y\":1.0,\"yanchor\":\"bottom\",\"yref\":\"paper\"}],\"margin\":{\"t\":20,\"b\":10,\"l\":0,\"r\":40},\"font\":{\"family\":\"Times New Roman\",\"size\":14},\"width\":1950,\"height\":800},                        {\"responsive\": true}                    ).then(function(){\n",
       "                            \n",
       "var gd = document.getElementById('da4de99f-9eab-472c-a061-b0cbd383f174');\n",
       "var x = new MutationObserver(function (mutations, observer) {{\n",
       "        var display = window.getComputedStyle(gd).display;\n",
       "        if (!display || display === 'none') {{\n",
       "            console.log([gd, 'removed!']);\n",
       "            Plotly.purge(gd);\n",
       "            observer.disconnect();\n",
       "        }}\n",
       "}});\n",
       "\n",
       "// Listen for the removal of the full notebook cells\n",
       "var notebookContainer = gd.closest('#notebook-container');\n",
       "if (notebookContainer) {{\n",
       "    x.observe(notebookContainer, {childList: true});\n",
       "}}\n",
       "\n",
       "// Listen for the clearing of the current output cell\n",
       "var outputEl = gd.closest('.output');\n",
       "if (outputEl) {{\n",
       "    x.observe(outputEl, {childList: true});\n",
       "}}\n",
       "\n",
       "                        })                };                });            </script>        </div>"
      ]
     },
     "metadata": {},
     "output_type": "display_data"
    }
   ],
   "source": [
    "# 创建子图\n",
    "fig2 = make_subplots(\n",
    "    rows=1, cols=2, \n",
    "    specs=[[{'type': 'domain'}, {'type': 'domain'}]],\n",
    "    subplot_titles=['RXN Distribution - Train', 'RXN Distribution - Test']\n",
    ")\n",
    "\n",
    "\n",
    "# Add pie charts to each subplot\n",
    "fig2.add_trace(fig2_1_1, row=1, col=1)\n",
    "fig2.add_trace(fig2_1_2 , row=1, col=2)\n",
    "\n",
    "\n",
    "# Update layout to control the size\n",
    "fig2.update_layout(\n",
    "    width=1950,  # total width of the figure\n",
    "    height=800,  # total height of the figure\n",
    "    margin=dict(t=20, b=10, l=0, r=40),  # margins around the figure\n",
    "    font=dict(\n",
    "        family='Times New Roman',  # 设置字体为 Times New Roman\n",
    "        size=14  # 设置字体大小\n",
    "    )\n",
    ")\n",
    "\n",
    "# Show the figure\n",
    "fig2.show()\n"
   ]
  },
  {
   "cell_type": "code",
   "execution_count": 180,
   "id": "9abb51eb",
   "metadata": {},
   "outputs": [
    {
     "data": {
      "text/html": [
       "<div>\n",
       "<style scoped>\n",
       "    .dataframe tbody tr th:only-of-type {\n",
       "        vertical-align: middle;\n",
       "    }\n",
       "\n",
       "    .dataframe tbody tr th {\n",
       "        vertical-align: top;\n",
       "    }\n",
       "\n",
       "    .dataframe thead th {\n",
       "        text-align: right;\n",
       "    }\n",
       "</style>\n",
       "<table border=\"1\" class=\"dataframe\">\n",
       "  <thead>\n",
       "    <tr style=\"text-align: right;\">\n",
       "      <th></th>\n",
       "      <th>reaction_id</th>\n",
       "      <th>count_test</th>\n",
       "    </tr>\n",
       "  </thead>\n",
       "  <tbody>\n",
       "    <tr>\n",
       "      <th>0</th>\n",
       "      <td>-</td>\n",
       "      <td>10310</td>\n",
       "    </tr>\n",
       "    <tr>\n",
       "      <th>1</th>\n",
       "      <td>RHEA:17989</td>\n",
       "      <td>138</td>\n",
       "    </tr>\n",
       "    <tr>\n",
       "      <th>2</th>\n",
       "      <td>RHEA:46608</td>\n",
       "      <td>137</td>\n",
       "    </tr>\n",
       "    <tr>\n",
       "      <th>3</th>\n",
       "      <td>RHEA:13065</td>\n",
       "      <td>78</td>\n",
       "    </tr>\n",
       "    <tr>\n",
       "      <th>4</th>\n",
       "      <td>RHEA:21248</td>\n",
       "      <td>69</td>\n",
       "    </tr>\n",
       "    <tr>\n",
       "      <th>...</th>\n",
       "      <td>...</td>\n",
       "      <td>...</td>\n",
       "    </tr>\n",
       "    <tr>\n",
       "      <th>2181</th>\n",
       "      <td>RHEA:69667</td>\n",
       "      <td>1</td>\n",
       "    </tr>\n",
       "    <tr>\n",
       "      <th>2182</th>\n",
       "      <td>RHEA:69663</td>\n",
       "      <td>1</td>\n",
       "    </tr>\n",
       "    <tr>\n",
       "      <th>2183</th>\n",
       "      <td>RHEA:69655</td>\n",
       "      <td>1</td>\n",
       "    </tr>\n",
       "    <tr>\n",
       "      <th>2184</th>\n",
       "      <td>RHEA:69707</td>\n",
       "      <td>1</td>\n",
       "    </tr>\n",
       "    <tr>\n",
       "      <th>2185</th>\n",
       "      <td>RHEA:71195</td>\n",
       "      <td>1</td>\n",
       "    </tr>\n",
       "  </tbody>\n",
       "</table>\n",
       "<p>2186 rows × 2 columns</p>\n",
       "</div>"
      ],
      "text/plain": [
       "     reaction_id  count_test\n",
       "0              -       10310\n",
       "1     RHEA:17989         138\n",
       "2     RHEA:46608         137\n",
       "3     RHEA:13065          78\n",
       "4     RHEA:21248          69\n",
       "...          ...         ...\n",
       "2181  RHEA:69667           1\n",
       "2182  RHEA:69663           1\n",
       "2183  RHEA:69655           1\n",
       "2184  RHEA:69707           1\n",
       "2185  RHEA:71195           1\n",
       "\n",
       "[2186 rows x 2 columns]"
      ]
     },
     "execution_count": 180,
     "metadata": {},
     "output_type": "execute_result"
    }
   ],
   "source": [
    "rxn_counts_test = rxn_counts_test.rename(columns={'count': 'count_test'})\n",
    "rxn_counts_test"
   ]
  },
  {
   "cell_type": "code",
   "execution_count": 184,
   "id": "5bab241b",
   "metadata": {},
   "outputs": [
    {
     "data": {
      "text/html": [
       "<div>\n",
       "<style scoped>\n",
       "    .dataframe tbody tr th:only-of-type {\n",
       "        vertical-align: middle;\n",
       "    }\n",
       "\n",
       "    .dataframe tbody tr th {\n",
       "        vertical-align: top;\n",
       "    }\n",
       "\n",
       "    .dataframe thead th {\n",
       "        text-align: right;\n",
       "    }\n",
       "</style>\n",
       "<table border=\"1\" class=\"dataframe\">\n",
       "  <thead>\n",
       "    <tr style=\"text-align: right;\">\n",
       "      <th></th>\n",
       "      <th>reaction_id</th>\n",
       "      <th>count_test</th>\n",
       "      <th>count_train</th>\n",
       "    </tr>\n",
       "  </thead>\n",
       "  <tbody>\n",
       "    <tr>\n",
       "      <th>0</th>\n",
       "      <td>-</td>\n",
       "      <td>10310</td>\n",
       "      <td>282920</td>\n",
       "    </tr>\n",
       "    <tr>\n",
       "      <th>1</th>\n",
       "      <td>RHEA:17989</td>\n",
       "      <td>138</td>\n",
       "      <td>3510</td>\n",
       "    </tr>\n",
       "    <tr>\n",
       "      <th>2</th>\n",
       "      <td>RHEA:46608</td>\n",
       "      <td>137</td>\n",
       "      <td>3495</td>\n",
       "    </tr>\n",
       "    <tr>\n",
       "      <th>3</th>\n",
       "      <td>RHEA:13065</td>\n",
       "      <td>78</td>\n",
       "      <td>4222</td>\n",
       "    </tr>\n",
       "    <tr>\n",
       "      <th>4</th>\n",
       "      <td>RHEA:21248</td>\n",
       "      <td>69</td>\n",
       "      <td>4749</td>\n",
       "    </tr>\n",
       "    <tr>\n",
       "      <th>...</th>\n",
       "      <td>...</td>\n",
       "      <td>...</td>\n",
       "      <td>...</td>\n",
       "    </tr>\n",
       "    <tr>\n",
       "      <th>2181</th>\n",
       "      <td>RHEA:69667</td>\n",
       "      <td>1</td>\n",
       "      <td>3</td>\n",
       "    </tr>\n",
       "    <tr>\n",
       "      <th>2182</th>\n",
       "      <td>RHEA:69663</td>\n",
       "      <td>1</td>\n",
       "      <td>3</td>\n",
       "    </tr>\n",
       "    <tr>\n",
       "      <th>2183</th>\n",
       "      <td>RHEA:69655</td>\n",
       "      <td>1</td>\n",
       "      <td>3</td>\n",
       "    </tr>\n",
       "    <tr>\n",
       "      <th>2184</th>\n",
       "      <td>RHEA:69707</td>\n",
       "      <td>1</td>\n",
       "      <td>3</td>\n",
       "    </tr>\n",
       "    <tr>\n",
       "      <th>2185</th>\n",
       "      <td>RHEA:71195</td>\n",
       "      <td>1</td>\n",
       "      <td>58</td>\n",
       "    </tr>\n",
       "  </tbody>\n",
       "</table>\n",
       "<p>2186 rows × 3 columns</p>\n",
       "</div>"
      ],
      "text/plain": [
       "     reaction_id  count_test  count_train\n",
       "0              -       10310       282920\n",
       "1     RHEA:17989         138         3510\n",
       "2     RHEA:46608         137         3495\n",
       "3     RHEA:13065          78         4222\n",
       "4     RHEA:21248          69         4749\n",
       "...          ...         ...          ...\n",
       "2181  RHEA:69667           1            3\n",
       "2182  RHEA:69663           1            3\n",
       "2183  RHEA:69655           1            3\n",
       "2184  RHEA:69707           1            3\n",
       "2185  RHEA:71195           1           58\n",
       "\n",
       "[2186 rows x 3 columns]"
      ]
     },
     "execution_count": 184,
     "metadata": {},
     "output_type": "execute_result"
    }
   ],
   "source": [
    "rxn_counts_test=rxn_counts_test.merge(rxn_counts_train, on='reaction_id', how='left').rename(columns={'count': 'count_train'})\n",
    "rxn_counts_test"
   ]
  },
  {
   "cell_type": "code",
   "execution_count": 224,
   "id": "08308881",
   "metadata": {},
   "outputs": [],
   "source": [
    "rxn_counts_test.to_feather('/hpcfs/fhome/shizhenkun/codebase/preaction/results240614/rxn_stats.feather')"
   ]
  },
  {
   "cell_type": "code",
   "execution_count": 220,
   "id": "fc75ee30",
   "metadata": {},
   "outputs": [
    {
     "data": {
      "text/html": [
       "<div>\n",
       "<style scoped>\n",
       "    .dataframe tbody tr th:only-of-type {\n",
       "        vertical-align: middle;\n",
       "    }\n",
       "\n",
       "    .dataframe tbody tr th {\n",
       "        vertical-align: top;\n",
       "    }\n",
       "\n",
       "    .dataframe thead th {\n",
       "        text-align: right;\n",
       "    }\n",
       "</style>\n",
       "<table border=\"1\" class=\"dataframe\">\n",
       "  <thead>\n",
       "    <tr style=\"text-align: right;\">\n",
       "      <th></th>\n",
       "      <th>reaction_id</th>\n",
       "      <th>count</th>\n",
       "    </tr>\n",
       "  </thead>\n",
       "  <tbody>\n",
       "    <tr>\n",
       "      <th>0</th>\n",
       "      <td>-</td>\n",
       "      <td>282920</td>\n",
       "    </tr>\n",
       "    <tr>\n",
       "      <th>1</th>\n",
       "      <td>RHEA:21248</td>\n",
       "      <td>4749</td>\n",
       "    </tr>\n",
       "    <tr>\n",
       "      <th>2</th>\n",
       "      <td>RHEA:13065</td>\n",
       "      <td>4222</td>\n",
       "    </tr>\n",
       "    <tr>\n",
       "      <th>3</th>\n",
       "      <td>RHEA:17989</td>\n",
       "      <td>3510</td>\n",
       "    </tr>\n",
       "    <tr>\n",
       "      <th>4</th>\n",
       "      <td>RHEA:46608</td>\n",
       "      <td>3495</td>\n",
       "    </tr>\n",
       "    <tr>\n",
       "      <th>...</th>\n",
       "      <td>...</td>\n",
       "      <td>...</td>\n",
       "    </tr>\n",
       "    <tr>\n",
       "      <th>10474</th>\n",
       "      <td>RHEA:26093</td>\n",
       "      <td>1</td>\n",
       "    </tr>\n",
       "    <tr>\n",
       "      <th>10475</th>\n",
       "      <td>RHEA:26097</td>\n",
       "      <td>1</td>\n",
       "    </tr>\n",
       "    <tr>\n",
       "      <th>10476</th>\n",
       "      <td>RHEA:25844</td>\n",
       "      <td>1</td>\n",
       "    </tr>\n",
       "    <tr>\n",
       "      <th>10477</th>\n",
       "      <td>RHEA:25848</td>\n",
       "      <td>1</td>\n",
       "    </tr>\n",
       "    <tr>\n",
       "      <th>10478</th>\n",
       "      <td>RHEA:14721</td>\n",
       "      <td>1</td>\n",
       "    </tr>\n",
       "  </tbody>\n",
       "</table>\n",
       "<p>10479 rows × 2 columns</p>\n",
       "</div>"
      ],
      "text/plain": [
       "      reaction_id   count\n",
       "0               -  282920\n",
       "1      RHEA:21248    4749\n",
       "2      RHEA:13065    4222\n",
       "3      RHEA:17989    3510\n",
       "4      RHEA:46608    3495\n",
       "...           ...     ...\n",
       "10474  RHEA:26093       1\n",
       "10475  RHEA:26097       1\n",
       "10476  RHEA:25844       1\n",
       "10477  RHEA:25848       1\n",
       "10478  RHEA:14721       1\n",
       "\n",
       "[10479 rows x 2 columns]"
      ]
     },
     "execution_count": 220,
     "metadata": {},
     "output_type": "execute_result"
    }
   ],
   "source": [
    "rxn_counts_train"
   ]
  },
  {
   "cell_type": "code",
   "execution_count": 3,
   "id": "bb6bb509",
   "metadata": {},
   "outputs": [
    {
     "name": "stdout",
     "output_type": "stream",
     "text": [
      "Loading 10-folds  data ...\n"
     ]
    }
   ],
   "source": [
    "def load_10folds_data(type='test'):\n",
    "    if type == 'test':\n",
    "        file_path = [f'{cfg.DIR_DATASET}validation/fold{fold_num+1}/valid.feather' for fold_num in range(10)]\n",
    "    if type =='train':\n",
    "        file_path = [f'{cfg.DIR_DATASET}validation/fold{fold_num+1}/train.feather' for fold_num in range(10)]\n",
    "    res = [pd.read_feather(path)[['uniprot_id','seq','reaction_id']].rename(columns={'reaction_id': 'rxn_groundtruth'}) for path in file_path]\n",
    "    return res\n",
    "\n",
    "\n",
    "print('Loading 10-folds  data ...' )\n",
    "data_trian = load_10folds_data(type='train')\n",
    "data_test = load_10folds_data(type='test')"
   ]
  },
  {
   "cell_type": "code",
   "execution_count": 11,
   "id": "cbe83c3d",
   "metadata": {},
   "outputs": [
    {
     "data": {
      "text/html": [
       "<div>\n",
       "<style scoped>\n",
       "    .dataframe tbody tr th:only-of-type {\n",
       "        vertical-align: middle;\n",
       "    }\n",
       "\n",
       "    .dataframe tbody tr th {\n",
       "        vertical-align: top;\n",
       "    }\n",
       "\n",
       "    .dataframe thead th {\n",
       "        text-align: right;\n",
       "    }\n",
       "</style>\n",
       "<table border=\"1\" class=\"dataframe\">\n",
       "  <thead>\n",
       "    <tr style=\"text-align: right;\">\n",
       "      <th></th>\n",
       "      <th>uniprot_id</th>\n",
       "      <th>seq</th>\n",
       "      <th>rxn_groundtruth</th>\n",
       "    </tr>\n",
       "  </thead>\n",
       "  <tbody>\n",
       "    <tr>\n",
       "      <th>105768</th>\n",
       "      <td>Q9UYB6</td>\n",
       "      <td>MLPDRVLEILNEMKAERIRGATWLARKGAEAFLALAEELDEALLED...</td>\n",
       "      <td>-</td>\n",
       "    </tr>\n",
       "    <tr>\n",
       "      <th>195319</th>\n",
       "      <td>C1AQW9</td>\n",
       "      <td>MRTPCSQHRRDRPSAIGSQLPDADTLDTRQPPLQEIPISSFADKTF...</td>\n",
       "      <td>RHEA:19669</td>\n",
       "    </tr>\n",
       "  </tbody>\n",
       "</table>\n",
       "</div>"
      ],
      "text/plain": [
       "       uniprot_id                                                seq  \\\n",
       "105768     Q9UYB6  MLPDRVLEILNEMKAERIRGATWLARKGAEAFLALAEELDEALLED...   \n",
       "195319     C1AQW9  MRTPCSQHRRDRPSAIGSQLPDADTLDTRQPPLQEIPISSFADKTF...   \n",
       "\n",
       "       rxn_groundtruth  \n",
       "105768               -  \n",
       "195319      RHEA:19669  "
      ]
     },
     "execution_count": 11,
     "metadata": {},
     "output_type": "execute_result"
    }
   ],
   "source": [
    "axp = data_test[0]\n",
    "axp.head(2)"
   ]
  },
  {
   "cell_type": "code",
   "execution_count": 12,
   "id": "0c0c1595",
   "metadata": {},
   "outputs": [
    {
     "data": {
      "text/html": [
       "<div>\n",
       "<style scoped>\n",
       "    .dataframe tbody tr th:only-of-type {\n",
       "        vertical-align: middle;\n",
       "    }\n",
       "\n",
       "    .dataframe tbody tr th {\n",
       "        vertical-align: top;\n",
       "    }\n",
       "\n",
       "    .dataframe thead th {\n",
       "        text-align: right;\n",
       "    }\n",
       "</style>\n",
       "<table border=\"1\" class=\"dataframe\">\n",
       "  <thead>\n",
       "    <tr style=\"text-align: right;\">\n",
       "      <th></th>\n",
       "      <th>uniprot_id</th>\n",
       "      <th>seq</th>\n",
       "      <th>rxn_groundtruth</th>\n",
       "    </tr>\n",
       "  </thead>\n",
       "  <tbody>\n",
       "    <tr>\n",
       "      <th>105768</th>\n",
       "      <td>Q9UYB6</td>\n",
       "      <td>MLPDRVLEILNEMKAERIRGATWLARKGAEAFLALAEELDEALLED...</td>\n",
       "      <td>-</td>\n",
       "    </tr>\n",
       "    <tr>\n",
       "      <th>135884</th>\n",
       "      <td>P64647</td>\n",
       "      <td>MALFSKILIFYVIGVNISFVIIWFISHEKTHIRLLSAFLVGITWPM...</td>\n",
       "      <td>-</td>\n",
       "    </tr>\n",
       "    <tr>\n",
       "      <th>53044</th>\n",
       "      <td>P53567</td>\n",
       "      <td>MSKISQQNSTPGVNGISVIHTQAHASGLQQVPQLVPAGPGGGGKAV...</td>\n",
       "      <td>-</td>\n",
       "    </tr>\n",
       "    <tr>\n",
       "      <th>403979</th>\n",
       "      <td>P53866</td>\n",
       "      <td>MAKRHSHYQGSRRRHARGSNSKKAGRGNAKGIQGRKIKKKPTPTNS...</td>\n",
       "      <td>-</td>\n",
       "    </tr>\n",
       "    <tr>\n",
       "      <th>169618</th>\n",
       "      <td>Q8Z495</td>\n",
       "      <td>MNMDIEARVKKVITSCIAVDVDSINGQTHLVEDLYADSLDLIDIVF...</td>\n",
       "      <td>-</td>\n",
       "    </tr>\n",
       "    <tr>\n",
       "      <th>...</th>\n",
       "      <td>...</td>\n",
       "      <td>...</td>\n",
       "      <td>...</td>\n",
       "    </tr>\n",
       "    <tr>\n",
       "      <th>401635</th>\n",
       "      <td>P40700</td>\n",
       "      <td>MGNDISLIALLAFSTLLPFIIASGTCFVKFSIVFVMVRNALGLQQI...</td>\n",
       "      <td>-</td>\n",
       "    </tr>\n",
       "    <tr>\n",
       "      <th>72895</th>\n",
       "      <td>B2A826</td>\n",
       "      <td>MLVLTRKQNESIMIGDDIEITVVGTEGDKVRLGIKAPKDVEIHRAE...</td>\n",
       "      <td>-</td>\n",
       "    </tr>\n",
       "    <tr>\n",
       "      <th>459889</th>\n",
       "      <td>Q9SCB9</td>\n",
       "      <td>MATRYWIAALPVADDNVAAGKTALWARLQEAISRHSFDTPLYRFTV...</td>\n",
       "      <td>-</td>\n",
       "    </tr>\n",
       "    <tr>\n",
       "      <th>146797</th>\n",
       "      <td>P38647</td>\n",
       "      <td>MISASRAAAARLVGTAASRSPAAARPQDGWNGLSHEAFRFVSRRDY...</td>\n",
       "      <td>-</td>\n",
       "    </tr>\n",
       "    <tr>\n",
       "      <th>244168</th>\n",
       "      <td>Q61Z75</td>\n",
       "      <td>MLGNKFVAQLALQQLKNRGLLTSAPRLTSVRHRFAWGSDAVGPNVP...</td>\n",
       "      <td>-</td>\n",
       "    </tr>\n",
       "  </tbody>\n",
       "</table>\n",
       "<p>28299 rows × 3 columns</p>\n",
       "</div>"
      ],
      "text/plain": [
       "       uniprot_id                                                seq  \\\n",
       "105768     Q9UYB6  MLPDRVLEILNEMKAERIRGATWLARKGAEAFLALAEELDEALLED...   \n",
       "135884     P64647  MALFSKILIFYVIGVNISFVIIWFISHEKTHIRLLSAFLVGITWPM...   \n",
       "53044      P53567  MSKISQQNSTPGVNGISVIHTQAHASGLQQVPQLVPAGPGGGGKAV...   \n",
       "403979     P53866  MAKRHSHYQGSRRRHARGSNSKKAGRGNAKGIQGRKIKKKPTPTNS...   \n",
       "169618     Q8Z495  MNMDIEARVKKVITSCIAVDVDSINGQTHLVEDLYADSLDLIDIVF...   \n",
       "...           ...                                                ...   \n",
       "401635     P40700  MGNDISLIALLAFSTLLPFIIASGTCFVKFSIVFVMVRNALGLQQI...   \n",
       "72895      B2A826  MLVLTRKQNESIMIGDDIEITVVGTEGDKVRLGIKAPKDVEIHRAE...   \n",
       "459889     Q9SCB9  MATRYWIAALPVADDNVAAGKTALWARLQEAISRHSFDTPLYRFTV...   \n",
       "146797     P38647  MISASRAAAARLVGTAASRSPAAARPQDGWNGLSHEAFRFVSRRDY...   \n",
       "244168     Q61Z75  MLGNKFVAQLALQQLKNRGLLTSAPRLTSVRHRFAWGSDAVGPNVP...   \n",
       "\n",
       "       rxn_groundtruth  \n",
       "105768               -  \n",
       "135884               -  \n",
       "53044                -  \n",
       "403979               -  \n",
       "169618               -  \n",
       "...                ...  \n",
       "401635               -  \n",
       "72895                -  \n",
       "459889               -  \n",
       "146797               -  \n",
       "244168               -  \n",
       "\n",
       "[28299 rows x 3 columns]"
      ]
     },
     "execution_count": 12,
     "metadata": {},
     "output_type": "execute_result"
    }
   ],
   "source": [
    "axp[axp.rxn_groundtruth=='-']"
   ]
  },
  {
   "cell_type": "code",
   "execution_count": 14,
   "id": "d47d4dfa",
   "metadata": {},
   "outputs": [
    {
     "data": {
      "text/plain": [
       "0.5564316331747218"
      ]
     },
     "execution_count": 14,
     "metadata": {},
     "output_type": "execute_result"
    }
   ],
   "source": [
    "28299 /50858"
   ]
  }
 ],
 "metadata": {
  "kernelspec": {
   "display_name": "rxnrecer",
   "language": "python",
   "name": "python3"
  },
  "language_info": {
   "codemirror_mode": {
    "name": "ipython",
    "version": 3
   },
   "file_extension": ".py",
   "mimetype": "text/x-python",
   "name": "python",
   "nbconvert_exporter": "python",
   "pygments_lexer": "ipython3",
   "version": "3.10.14"
  },
  "toc-autonumbering": false,
  "toc-showmarkdowntxt": false,
  "toc-showtags": false,
  "widgets": {
   "application/vnd.jupyter.widget-state+json": {
    "state": {},
    "version_major": 2,
    "version_minor": 0
   }
  }
 },
 "nbformat": 4,
 "nbformat_minor": 5
}
