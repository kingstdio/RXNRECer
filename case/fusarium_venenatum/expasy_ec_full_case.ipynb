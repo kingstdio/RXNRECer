{
 "cells": [
  {
   "cell_type": "markdown",
   "metadata": {},
   "source": [
    "##  使用Brenda EC Structure 对镰刀菌进行评价  \n",
    "\n",
    "> 2025-04-02  \n",
    "> zhenkun.shi@tib.cas.cn "
   ]
  },
  {
   "cell_type": "code",
   "execution_count": 1,
   "metadata": {},
   "outputs": [
    {
     "name": "stdout",
     "output_type": "stream",
     "text": [
      "INFO: Pandarallel will run on 192 workers.\n",
      "INFO: Pandarallel will use Memory file system to transfer data between the main process and workers.\n"
     ]
    }
   ],
   "source": [
    "\n",
    "import sys,os\n",
    "sys.path.insert(0, os.path.dirname(os.path.realpath('__file__')))\n",
    "sys.path.insert(1,'../../')\n",
    "from config import conf as cfg\n",
    "import pandas as pd\n",
    "import subprocess\n",
    "import shutil\n",
    "from tools import filetool \n",
    "from itertools import combinations\n",
    "from tqdm import tqdm\n",
    "import plotly.graph_objects as go\n",
    "import plotly.express as px\n",
    "\n",
    "from Bio.PDB import PDBList\n",
    "import requests\n",
    "from pandarallel import pandarallel \n",
    "pandarallel.initialize(progress_bar=False)\n",
    "%load_ext autoreload\n",
    "%autoreload 2"
   ]
  },
  {
   "cell_type": "code",
   "execution_count": 2,
   "metadata": {},
   "outputs": [],
   "source": [
    "def get_3digit_ec(ec_str):\n",
    "    if ec_str == '-':\n",
    "        return '-'\n",
    "    else:\n",
    "        ec_array = ec_str.split(cfg.SPLITER)\n",
    "        ec_array = [x.strip() for x in ec_array]\n",
    "        for idx in range(len(ec_array)):\n",
    "            if '.' in ec_array[idx]:\n",
    "                ec_array[idx] = '.'.join(ec_array[idx].split('.')[:-1])\n",
    "            else:\n",
    "                ec_array[idx] = ec_array[idx]\n",
    "        \n",
    "        res = cfg.SPLITER.join(set(ec_array))\n",
    "        return res\n",
    "\n",
    "def cp_pdb_files(src, target):\n",
    "    # 如果是完整目标路径（包含文件名）\n",
    "    if os.path.exists(src):\n",
    "        target_dir = os.path.dirname(target)\n",
    "        os.makedirs(target_dir, exist_ok=True)\n",
    "        shutil.copyfile(src, target)\n",
    "    else:\n",
    "        print(f\"文件不存在，跳过：{src}\")\n",
    "\n",
    "def run_tmalign(pdb1, pdb2):\n",
    "    \"\"\"调用 TM-align 进行结构比对并提取 TM-score（返回6位小数）\"\"\"\n",
    "    result = subprocess.run([\"TMalign\", pdb1, pdb2], \n",
    "                           stdout=subprocess.PIPE, \n",
    "                           stderr=subprocess.DEVNULL, \n",
    "                           text=True)\n",
    "    for line in result.stdout.splitlines():\n",
    "        if line.startswith(\"TM-score=\"):\n",
    "            score = float(line.split('=')[1].split()[0])\n",
    "            return round(score, 6)  # 返回6位小数\n",
    "    return None\n",
    "\n",
    "def run_rmsd(pdb1: str, pdb2: str) -> float:\n",
    "    \"\"\"通过 PyMOL 计算 RMSD（返回6位小数）\"\"\"\n",
    "    cmd = f\"\"\"\n",
    "    pymol -c -q -d '\n",
    "    load {pdb1}, obj1;\n",
    "    load {pdb2}, obj2;\n",
    "    align obj1 and name CA, obj2 and name CA;\n",
    "    quit'\n",
    "    \"\"\"\n",
    "    try:\n",
    "        result = subprocess.run(\n",
    "            cmd,\n",
    "            shell=True,\n",
    "            executable=\"/bin/bash\",\n",
    "            stdout=subprocess.PIPE,\n",
    "            stderr=subprocess.PIPE,\n",
    "            text=True,\n",
    "            timeout=30\n",
    "        )\n",
    "        for line in result.stdout.splitlines():\n",
    "            if \"RMSD =\" in line:\n",
    "                rmsd = float(line.split(\"=\")[1].strip().split()[0])\n",
    "                return round(rmsd, 6)  # 返回6位小数\n",
    "    except Exception as e:\n",
    "        print(f\"PyMOL error ({os.path.basename(pdb1)} vs {os.path.basename(pdb2)}): {str(e)}\")\n",
    "    return None\n",
    "\n",
    "def align_all_structures(pdb_dir, output_tsv=\"tmalign_results.tsv\"):\n",
    "    \"\"\"遍历并比对该目录下所有结构，输出 TM-score 表格\"\"\"\n",
    "    pdb_files = [f for f in os.listdir(pdb_dir) if f.endswith(\".pdb\")]\n",
    "    pdb_paths = [os.path.join(pdb_dir, f) for f in pdb_files]\n",
    "    \n",
    "    pdb_pairs = pd.DataFrame(combinations(pdb_paths, 2), columns=['pdb1', 'pdb2'])\n",
    "    pdb_pairs['tm_score'] = pdb_pairs.parallel_apply(lambda x: run_tmalign(x['pdb1'], x['pdb2']), axis=1)\n",
    "    pdb_pairs['rmsd'] = pdb_pairs.parallel_apply(lambda x: run_rmsd(x['pdb1'], x['pdb2']), axis=1)\n",
    "    pdb_pairs['pdb1'] = pdb_pairs.pdb1.apply(lambda x:x.split('/')[-1].replace('.pdb', '').replace('-F1-model_v4', ''))            \n",
    "    pdb_pairs['pdb2'] = pdb_pairs.pdb2.apply(lambda x:x.split('/')[-1].replace('.pdb', '').replace('-F1-model_v4', ''))   \n",
    "    pdb_pairs = pdb_pairs.dropna().sort_values([\"tm_score\", \"rmsd\"], ascending=[False, True]).reset_index(drop=True)\n",
    "         \n",
    "    print(f'save to:{output_tsv}')\n",
    "    return pdb_pairs\n",
    "                \n",
    "                \n",
    "def prep(case_ec, data_brenda, case_clean_wrong):\n",
    "    \n",
    "    level = len(case_ec.split(\".\"))\n",
    "    \n",
    "    source_base_dir ='/hpcfs/fpublic/database/alphafold/predicted_pdbs/'\n",
    "    target_base_dir =f'/hpcfs/fhome/shizhenkun/codebase/RXNRECer/case/fusarium_venenatum/middle/ec_{case_ec.replace(\".\", \"_\")}/'\n",
    "    esmpdb_dir = '/hpcfs/fhome/shizhenkun/codebase/RXNRECer/case/fusarium_venenatum/data/esmpdb/'\n",
    "    \n",
    "    if level ==4:\n",
    "        case_clean_wrong = case_clean_wrong[case_clean_wrong.clean==case_ec]\n",
    "        case_data = data_brenda[data_brenda.ec==case_ec].copy().reset_index(drop=True)\n",
    "    elif level == 3:\n",
    "        case_clean_wrong =case_clean_wrong[case_clean_wrong.clean_3digit==case_ec]\n",
    "        case_data = data_brenda[data_brenda.ec_3digit==case_ec].copy().reset_index(drop=True)\n",
    "    \n",
    "    # 复制brenda EC 对应蛋白的PDB\n",
    "    case_data.uniprot_id.apply(lambda x: filetool.cp_pdb_file(src=f'{source_base_dir}AF-{x}-F1-model_v4.pdb.gz', target=target_base_dir))\n",
    "    os.system(f\"gzip -d {target_base_dir}*.gz\")\n",
    "    \n",
    "    # 复制镰刀菌pdb\n",
    "    case_clean_wrong.input_id.apply(lambda x: filetool.cp_pdb_file(src=f'{esmpdb_dir}{x}.pdb', target=target_base_dir))\n",
    "    \n",
    "        \n",
    "    # 结构比对  \n",
    "    align_all_structures(pdb_dir=target_base_dir, output_tsv=f'ec_{case_ec.replace(\".\", \"_\")}_tmalign_results.tsv')"
   ]
  },
  {
   "cell_type": "markdown",
   "metadata": {},
   "source": [
    "## 下载EXPasy EC 参考文件"
   ]
  },
  {
   "cell_type": "code",
   "execution_count": 3,
   "metadata": {},
   "outputs": [
    {
     "data": {
      "text/html": [
       "<div>\n",
       "<style scoped>\n",
       "    .dataframe tbody tr th:only-of-type {\n",
       "        vertical-align: middle;\n",
       "    }\n",
       "\n",
       "    .dataframe tbody tr th {\n",
       "        vertical-align: top;\n",
       "    }\n",
       "\n",
       "    .dataframe thead th {\n",
       "        text-align: right;\n",
       "    }\n",
       "</style>\n",
       "<table border=\"1\" class=\"dataframe\">\n",
       "  <thead>\n",
       "    <tr style=\"text-align: right;\">\n",
       "      <th></th>\n",
       "      <th>ec</th>\n",
       "      <th>name</th>\n",
       "      <th>alternative_name</th>\n",
       "      <th>reaction</th>\n",
       "      <th>comments</th>\n",
       "      <th>ref_swissprot</th>\n",
       "    </tr>\n",
       "  </thead>\n",
       "  <tbody>\n",
       "    <tr>\n",
       "      <th>0</th>\n",
       "      <td>1.1.1.1</td>\n",
       "      <td>alcohol dehydrogenase.</td>\n",
       "      <td>aldehyde reductase.</td>\n",
       "      <td>(1) a primary alcohol + NAD(+) = an aldehyde +...</td>\n",
       "      <td>-!- Acts on primary or secondary alcohols or h...</td>\n",
       "      <td>[P07327, P28469, Q5RBP7, P25405, P25406, P0032...</td>\n",
       "    </tr>\n",
       "    <tr>\n",
       "      <th>1</th>\n",
       "      <td>1.1.1.2</td>\n",
       "      <td>alcohol dehydrogenase (NADP(+)).</td>\n",
       "      <td>aldehyde reductase (NADPH).</td>\n",
       "      <td>a primary alcohol + NADP(+) = an aldehyde + NA...</td>\n",
       "      <td>-!- Some members of this group oxidize only pr...</td>\n",
       "      <td>[Q6AZW2, Q568L5, Q24857, Q04894, P25377, O5738...</td>\n",
       "    </tr>\n",
       "    <tr>\n",
       "      <th>2</th>\n",
       "      <td>1.1.1.3</td>\n",
       "      <td>homoserine dehydrogenase.</td>\n",
       "      <td></td>\n",
       "      <td>(1) L-homoserine + NAD(+) = L-aspartate 4-semi...</td>\n",
       "      <td>-!- The enzyme from Saccharomyces cerevisiae a...</td>\n",
       "      <td>[P00561, P27725, P00562, Q9SA18, P49079, O8185...</td>\n",
       "    </tr>\n",
       "    <tr>\n",
       "      <th>3</th>\n",
       "      <td>1.1.1.4</td>\n",
       "      <td>(R,R)-butanediol dehydrogenase.</td>\n",
       "      <td>(R)-2,3-butanediol dehydrogenase.(R)-diacetyl ...</td>\n",
       "      <td>(R,R)-butane-2,3-diol + NAD(+) = (R)-acetoin +...</td>\n",
       "      <td>-!- Also converts diacetyl into acetoin with N...</td>\n",
       "      <td>[P14940, Q0KDL6, P39714, O34788, Q5FA46, Q0079...</td>\n",
       "    </tr>\n",
       "    <tr>\n",
       "      <th>4</th>\n",
       "      <td>1.1.1.6</td>\n",
       "      <td>glycerol dehydrogenase.</td>\n",
       "      <td>NAD-linked glycerol dehydrogenase.</td>\n",
       "      <td>glycerol + NAD(+) = dihydroxyacetone + NADH + ...</td>\n",
       "      <td>-!- Also acts on 1,2-propanediol.</td>\n",
       "      <td>[A4IP64, O13702, P45511, P0A9S6, P0A9S5, P3281...</td>\n",
       "    </tr>\n",
       "    <tr>\n",
       "      <th>...</th>\n",
       "      <td>...</td>\n",
       "      <td>...</td>\n",
       "      <td>...</td>\n",
       "      <td>...</td>\n",
       "      <td>...</td>\n",
       "      <td>...</td>\n",
       "    </tr>\n",
       "    <tr>\n",
       "      <th>5650</th>\n",
       "      <td>7.6.2.12</td>\n",
       "      <td>ABC-type capsular-polysaccharide transporter.</td>\n",
       "      <td>capsular-polysaccharide-transporting ATPase.</td>\n",
       "      <td>ATP + H2O + capsular polysaccharide-[capsular ...</td>\n",
       "      <td>-!- ATP-binding cassette (ABC) type transporte...</td>\n",
       "      <td>[P57013, P32016, ]</td>\n",
       "    </tr>\n",
       "    <tr>\n",
       "      <th>5651</th>\n",
       "      <td>7.6.2.13</td>\n",
       "      <td>ABC-type autoinducer-2 transporter.</td>\n",
       "      <td>autoinducer-2 ABC transporter.autoinducer-2 tr...</td>\n",
       "      <td>ATP + H2O + (2R,4S)-2-methyl-2,3,3,4-tetrahydr...</td>\n",
       "      <td>-!- ATP-binding cassette (ABC) type transporte...</td>\n",
       "      <td>[Q8XAY7, B1XEA1, A8A066, B1IRU7, P77257, B1LFA...</td>\n",
       "    </tr>\n",
       "    <tr>\n",
       "      <th>5652</th>\n",
       "      <td>7.6.2.14</td>\n",
       "      <td>ABC-type aliphatic sulfonate transporter.</td>\n",
       "      <td>aliphatic sulfonate ABC transporter.aliphatic ...</td>\n",
       "      <td>ATP + H2O + aliphatic sulfonate-[sulfonate-bin...</td>\n",
       "      <td>-!- ATP-binding cassette (ABC) type transporte...</td>\n",
       "      <td>[Q8U8D6, A0K739, Q39GW5, Q1BWL4, Q0RT43, Q5Z0P...</td>\n",
       "    </tr>\n",
       "    <tr>\n",
       "      <th>5653</th>\n",
       "      <td>7.6.2.15</td>\n",
       "      <td>ABC-type thiamine transporter.</td>\n",
       "      <td>thiamine ABC transporter.thiamine transporting...</td>\n",
       "      <td>thiamine(out) + ATP + H2O = thiamine(in) + ADP...</td>\n",
       "      <td>-!- ATP-binding cassette (ABC) type transporte...</td>\n",
       "      <td>[Q8UBY6, Q5E882, Q2YLW6, Q57BC2, Q8YJ04, Q8FYU...</td>\n",
       "    </tr>\n",
       "    <tr>\n",
       "      <th>5654</th>\n",
       "      <td>7.6.2.16</td>\n",
       "      <td>ABC-type putrescine transporter.</td>\n",
       "      <td>putrescine ABC transporter.putrescine transpor...</td>\n",
       "      <td>putrescine(out) + ATP + H2O = putrescine(in) +...</td>\n",
       "      <td>-!- ATP-binding cassette (ABC) type transporte...</td>\n",
       "      <td>[Q9H7F0, Q95JN5, Q5XF89, P31134, ]</td>\n",
       "    </tr>\n",
       "  </tbody>\n",
       "</table>\n",
       "<p>5655 rows × 6 columns</p>\n",
       "</div>"
      ],
      "text/plain": [
       "            ec                                           name  \\\n",
       "0      1.1.1.1                         alcohol dehydrogenase.   \n",
       "1      1.1.1.2               alcohol dehydrogenase (NADP(+)).   \n",
       "2      1.1.1.3                      homoserine dehydrogenase.   \n",
       "3      1.1.1.4                (R,R)-butanediol dehydrogenase.   \n",
       "4      1.1.1.6                        glycerol dehydrogenase.   \n",
       "...        ...                                            ...   \n",
       "5650  7.6.2.12  ABC-type capsular-polysaccharide transporter.   \n",
       "5651  7.6.2.13            ABC-type autoinducer-2 transporter.   \n",
       "5652  7.6.2.14      ABC-type aliphatic sulfonate transporter.   \n",
       "5653  7.6.2.15                 ABC-type thiamine transporter.   \n",
       "5654  7.6.2.16               ABC-type putrescine transporter.   \n",
       "\n",
       "                                       alternative_name  \\\n",
       "0                                   aldehyde reductase.   \n",
       "1                           aldehyde reductase (NADPH).   \n",
       "2                                                         \n",
       "3     (R)-2,3-butanediol dehydrogenase.(R)-diacetyl ...   \n",
       "4                    NAD-linked glycerol dehydrogenase.   \n",
       "...                                                 ...   \n",
       "5650       capsular-polysaccharide-transporting ATPase.   \n",
       "5651  autoinducer-2 ABC transporter.autoinducer-2 tr...   \n",
       "5652  aliphatic sulfonate ABC transporter.aliphatic ...   \n",
       "5653  thiamine ABC transporter.thiamine transporting...   \n",
       "5654  putrescine ABC transporter.putrescine transpor...   \n",
       "\n",
       "                                               reaction  \\\n",
       "0     (1) a primary alcohol + NAD(+) = an aldehyde +...   \n",
       "1     a primary alcohol + NADP(+) = an aldehyde + NA...   \n",
       "2     (1) L-homoserine + NAD(+) = L-aspartate 4-semi...   \n",
       "3     (R,R)-butane-2,3-diol + NAD(+) = (R)-acetoin +...   \n",
       "4     glycerol + NAD(+) = dihydroxyacetone + NADH + ...   \n",
       "...                                                 ...   \n",
       "5650  ATP + H2O + capsular polysaccharide-[capsular ...   \n",
       "5651  ATP + H2O + (2R,4S)-2-methyl-2,3,3,4-tetrahydr...   \n",
       "5652  ATP + H2O + aliphatic sulfonate-[sulfonate-bin...   \n",
       "5653  thiamine(out) + ATP + H2O = thiamine(in) + ADP...   \n",
       "5654  putrescine(out) + ATP + H2O = putrescine(in) +...   \n",
       "\n",
       "                                               comments  \\\n",
       "0     -!- Acts on primary or secondary alcohols or h...   \n",
       "1     -!- Some members of this group oxidize only pr...   \n",
       "2     -!- The enzyme from Saccharomyces cerevisiae a...   \n",
       "3     -!- Also converts diacetyl into acetoin with N...   \n",
       "4                     -!- Also acts on 1,2-propanediol.   \n",
       "...                                                 ...   \n",
       "5650  -!- ATP-binding cassette (ABC) type transporte...   \n",
       "5651  -!- ATP-binding cassette (ABC) type transporte...   \n",
       "5652  -!- ATP-binding cassette (ABC) type transporte...   \n",
       "5653  -!- ATP-binding cassette (ABC) type transporte...   \n",
       "5654  -!- ATP-binding cassette (ABC) type transporte...   \n",
       "\n",
       "                                          ref_swissprot  \n",
       "0     [P07327, P28469, Q5RBP7, P25405, P25406, P0032...  \n",
       "1     [Q6AZW2, Q568L5, Q24857, Q04894, P25377, O5738...  \n",
       "2     [P00561, P27725, P00562, Q9SA18, P49079, O8185...  \n",
       "3     [P14940, Q0KDL6, P39714, O34788, Q5FA46, Q0079...  \n",
       "4     [A4IP64, O13702, P45511, P0A9S6, P0A9S5, P3281...  \n",
       "...                                                 ...  \n",
       "5650                                 [P57013, P32016, ]  \n",
       "5651  [Q8XAY7, B1XEA1, A8A066, B1IRU7, P77257, B1LFA...  \n",
       "5652  [Q8U8D6, A0K739, Q39GW5, Q1BWL4, Q0RT43, Q5Z0P...  \n",
       "5653  [Q8UBY6, Q5E882, Q2YLW6, Q57BC2, Q8YJ04, Q8FYU...  \n",
       "5654                 [Q9H7F0, Q95JN5, Q5XF89, P31134, ]  \n",
       "\n",
       "[5655 rows x 6 columns]"
      ]
     },
     "execution_count": 3,
     "metadata": {},
     "output_type": "execute_result"
    }
   ],
   "source": [
    "data_expasy = pd.read_feather('/hpcfs/fhome/shizhenkun/codebase/enyrnx/data/expasy/ec_expasy.feather')\n",
    "data_expasy = data_expasy[data_expasy.ref_swissprot !=''].reset_index(drop=True)\n",
    "data_expasy['ref_swissprot'] = data_expasy.ref_swissprot.apply(lambda x: [item.split(',')[0].strip() for item in x.split(';')])\n",
    "data_expasy"
   ]
  },
  {
   "cell_type": "markdown",
   "metadata": {},
   "source": [
    "## 读取 fuasrium 预测结果"
   ]
  },
  {
   "cell_type": "code",
   "execution_count": 4,
   "metadata": {},
   "outputs": [
    {
     "data": {
      "text/html": [
       "<div>\n",
       "<style scoped>\n",
       "    .dataframe tbody tr th:only-of-type {\n",
       "        vertical-align: middle;\n",
       "    }\n",
       "\n",
       "    .dataframe tbody tr th {\n",
       "        vertical-align: top;\n",
       "    }\n",
       "\n",
       "    .dataframe thead th {\n",
       "        text-align: right;\n",
       "    }\n",
       "</style>\n",
       "<table border=\"1\" class=\"dataframe\">\n",
       "  <thead>\n",
       "    <tr style=\"text-align: right;\">\n",
       "      <th></th>\n",
       "      <th>input_id</th>\n",
       "      <th>RXNRECer</th>\n",
       "      <th>RXNRECer2EC</th>\n",
       "      <th>clean</th>\n",
       "      <th>ECRECer</th>\n",
       "      <th>MSA_RXN</th>\n",
       "      <th>MSA_EC</th>\n",
       "      <th>deepec</th>\n",
       "      <th>catfam</th>\n",
       "      <th>PRIAM</th>\n",
       "      <th>...</th>\n",
       "      <th>MSA_EC_3digit</th>\n",
       "      <th>deepec_3digit</th>\n",
       "      <th>catfam_3digit</th>\n",
       "      <th>priam_3digit</th>\n",
       "      <th>rxnrecer_clean_3digit</th>\n",
       "      <th>rxnrecer_ecrecer_3digit</th>\n",
       "      <th>rxnrecer_msa_3digit</th>\n",
       "      <th>rxnrecer_deepec_3digit</th>\n",
       "      <th>rxnrecer_catfam_3digit</th>\n",
       "      <th>rxnrecer_priam_3digit</th>\n",
       "    </tr>\n",
       "  </thead>\n",
       "  <tbody>\n",
       "    <tr>\n",
       "      <th>0</th>\n",
       "      <td>XP_025580784.2</td>\n",
       "      <td>-</td>\n",
       "      <td>-</td>\n",
       "      <td>2.7.7.n1</td>\n",
       "      <td>-</td>\n",
       "      <td>NO-PREDICTION</td>\n",
       "      <td>NO-PREDICTION</td>\n",
       "      <td>NO-PREDICTION</td>\n",
       "      <td>-</td>\n",
       "      <td>NO-PREDICTION</td>\n",
       "      <td>...</td>\n",
       "      <td>NO-PREDICTION</td>\n",
       "      <td>NO-PREDICTION</td>\n",
       "      <td>-</td>\n",
       "      <td>NO-PREDICTION</td>\n",
       "      <td>False</td>\n",
       "      <td>True</td>\n",
       "      <td>False</td>\n",
       "      <td>False</td>\n",
       "      <td>True</td>\n",
       "      <td>False</td>\n",
       "    </tr>\n",
       "    <tr>\n",
       "      <th>1</th>\n",
       "      <td>XP_025580785.1</td>\n",
       "      <td>RHEA:55688;RHEA:55696;RHEA:55700;RHEA:36295</td>\n",
       "      <td>REACTION-WITHOUT-EC;3.1.3.90</td>\n",
       "      <td>3.1.4.12</td>\n",
       "      <td>3.1.-.-</td>\n",
       "      <td>NO-PREDICTION</td>\n",
       "      <td>NO-PREDICTION</td>\n",
       "      <td>NO-PREDICTION</td>\n",
       "      <td>-</td>\n",
       "      <td>NO-PREDICTION</td>\n",
       "      <td>...</td>\n",
       "      <td>NO-PREDICTION</td>\n",
       "      <td>NO-PREDICTION</td>\n",
       "      <td>-</td>\n",
       "      <td>NO-PREDICTION</td>\n",
       "      <td>False</td>\n",
       "      <td>False</td>\n",
       "      <td>False</td>\n",
       "      <td>False</td>\n",
       "      <td>False</td>\n",
       "      <td>False</td>\n",
       "    </tr>\n",
       "  </tbody>\n",
       "</table>\n",
       "<p>2 rows × 29 columns</p>\n",
       "</div>"
      ],
      "text/plain": [
       "         input_id                                     RXNRECer  \\\n",
       "0  XP_025580784.2                                            -   \n",
       "1  XP_025580785.1  RHEA:55688;RHEA:55696;RHEA:55700;RHEA:36295   \n",
       "\n",
       "                    RXNRECer2EC     clean  ECRECer        MSA_RXN  \\\n",
       "0                             -  2.7.7.n1        -  NO-PREDICTION   \n",
       "1  REACTION-WITHOUT-EC;3.1.3.90  3.1.4.12  3.1.-.-  NO-PREDICTION   \n",
       "\n",
       "          MSA_EC         deepec catfam          PRIAM  ...  MSA_EC_3digit  \\\n",
       "0  NO-PREDICTION  NO-PREDICTION      -  NO-PREDICTION  ...  NO-PREDICTION   \n",
       "1  NO-PREDICTION  NO-PREDICTION      -  NO-PREDICTION  ...  NO-PREDICTION   \n",
       "\n",
       "   deepec_3digit  catfam_3digit   priam_3digit  rxnrecer_clean_3digit  \\\n",
       "0  NO-PREDICTION              -  NO-PREDICTION                  False   \n",
       "1  NO-PREDICTION              -  NO-PREDICTION                  False   \n",
       "\n",
       "   rxnrecer_ecrecer_3digit rxnrecer_msa_3digit rxnrecer_deepec_3digit  \\\n",
       "0                     True               False                  False   \n",
       "1                    False               False                  False   \n",
       "\n",
       "  rxnrecer_catfam_3digit rxnrecer_priam_3digit  \n",
       "0                   True                 False  \n",
       "1                  False                 False  \n",
       "\n",
       "[2 rows x 29 columns]"
      ]
     },
     "execution_count": 4,
     "metadata": {},
     "output_type": "execute_result"
    }
   ],
   "source": [
    "\n",
    "file_output_rxnrecer = f'{cfg.CASE_DIR}fusarium_venenatum/res/methds_3digit_0526.feather'\n",
    "res_fus_ven = pd.read_feather(file_output_rxnrecer)\n",
    "res_fus_ven.head(2)"
   ]
  },
  {
   "cell_type": "code",
   "execution_count": 4,
   "metadata": {},
   "outputs": [
    {
     "data": {
      "text/html": [
       "<div>\n",
       "<style scoped>\n",
       "    .dataframe tbody tr th:only-of-type {\n",
       "        vertical-align: middle;\n",
       "    }\n",
       "\n",
       "    .dataframe tbody tr th {\n",
       "        vertical-align: top;\n",
       "    }\n",
       "\n",
       "    .dataframe thead th {\n",
       "        text-align: right;\n",
       "    }\n",
       "</style>\n",
       "<table border=\"1\" class=\"dataframe\">\n",
       "  <thead>\n",
       "    <tr style=\"text-align: right;\">\n",
       "      <th></th>\n",
       "      <th>input_id</th>\n",
       "      <th>RXNRECer</th>\n",
       "      <th>RXNRECer2EC</th>\n",
       "      <th>clean</th>\n",
       "      <th>ECRECer</th>\n",
       "      <th>MSA_RXN</th>\n",
       "      <th>MSA_EC</th>\n",
       "      <th>deepec</th>\n",
       "      <th>catfam</th>\n",
       "      <th>PRIAM</th>\n",
       "      <th>...</th>\n",
       "      <th>MSA_EC_3digit</th>\n",
       "      <th>deepec_3digit</th>\n",
       "      <th>catfam_3digit</th>\n",
       "      <th>priam_3digit</th>\n",
       "      <th>rxnrecer_clean_3digit</th>\n",
       "      <th>rxnrecer_ecrecer_3digit</th>\n",
       "      <th>rxnrecer_msa_3digit</th>\n",
       "      <th>rxnrecer_deepec_3digit</th>\n",
       "      <th>rxnrecer_catfam_3digit</th>\n",
       "      <th>rxnrecer_priam_3digit</th>\n",
       "    </tr>\n",
       "  </thead>\n",
       "  <tbody>\n",
       "    <tr>\n",
       "      <th>1740</th>\n",
       "      <td>XP_025583253.1</td>\n",
       "      <td>RHEA:16237</td>\n",
       "      <td>5.2.1.8</td>\n",
       "      <td>2.7.3.4</td>\n",
       "      <td>5.2.1.8</td>\n",
       "      <td>RHEA:16237</td>\n",
       "      <td>5.2.1.8</td>\n",
       "      <td>NO-PREDICTION</td>\n",
       "      <td>5.2.1.8</td>\n",
       "      <td>5.2.1.8</td>\n",
       "      <td>...</td>\n",
       "      <td>5.2.1</td>\n",
       "      <td>NO-PREDICTION</td>\n",
       "      <td>5.2.1</td>\n",
       "      <td>5.2.1</td>\n",
       "      <td>False</td>\n",
       "      <td>True</td>\n",
       "      <td>True</td>\n",
       "      <td>False</td>\n",
       "      <td>True</td>\n",
       "      <td>True</td>\n",
       "    </tr>\n",
       "  </tbody>\n",
       "</table>\n",
       "<p>1 rows × 29 columns</p>\n",
       "</div>"
      ],
      "text/plain": [
       "            input_id    RXNRECer RXNRECer2EC    clean  ECRECer     MSA_RXN  \\\n",
       "1740  XP_025583253.1  RHEA:16237     5.2.1.8  2.7.3.4  5.2.1.8  RHEA:16237   \n",
       "\n",
       "       MSA_EC         deepec   catfam    PRIAM  ...  MSA_EC_3digit  \\\n",
       "1740  5.2.1.8  NO-PREDICTION  5.2.1.8  5.2.1.8  ...          5.2.1   \n",
       "\n",
       "      deepec_3digit  catfam_3digit  priam_3digit  rxnrecer_clean_3digit  \\\n",
       "1740  NO-PREDICTION          5.2.1         5.2.1                  False   \n",
       "\n",
       "      rxnrecer_ecrecer_3digit rxnrecer_msa_3digit rxnrecer_deepec_3digit  \\\n",
       "1740                     True                True                  False   \n",
       "\n",
       "     rxnrecer_catfam_3digit rxnrecer_priam_3digit  \n",
       "1740                   True                  True  \n",
       "\n",
       "[1 rows x 29 columns]"
      ]
     },
     "execution_count": 4,
     "metadata": {},
     "output_type": "execute_result"
    }
   ],
   "source": [
    "res_fus_ven[res_fus_ven.input_id=='XP_025583253.1']"
   ]
  },
  {
   "cell_type": "code",
   "execution_count": 6,
   "metadata": {},
   "outputs": [
    {
     "data": {
      "text/html": [
       "<div>\n",
       "<style scoped>\n",
       "    .dataframe tbody tr th:only-of-type {\n",
       "        vertical-align: middle;\n",
       "    }\n",
       "\n",
       "    .dataframe tbody tr th {\n",
       "        vertical-align: top;\n",
       "    }\n",
       "\n",
       "    .dataframe thead th {\n",
       "        text-align: right;\n",
       "    }\n",
       "</style>\n",
       "<table border=\"1\" class=\"dataframe\">\n",
       "  <thead>\n",
       "    <tr style=\"text-align: right;\">\n",
       "      <th></th>\n",
       "      <th>input_id</th>\n",
       "      <th>RXNRECer</th>\n",
       "      <th>RXNRECer2EC</th>\n",
       "      <th>clean</th>\n",
       "      <th>ECRECer</th>\n",
       "      <th>MSA_RXN</th>\n",
       "      <th>MSA_EC</th>\n",
       "      <th>deepec</th>\n",
       "      <th>catfam</th>\n",
       "      <th>PRIAM</th>\n",
       "      <th>...</th>\n",
       "      <th>MSA_EC_3digit</th>\n",
       "      <th>deepec_3digit</th>\n",
       "      <th>catfam_3digit</th>\n",
       "      <th>priam_3digit</th>\n",
       "      <th>rxnrecer_clean_3digit</th>\n",
       "      <th>rxnrecer_ecrecer_3digit</th>\n",
       "      <th>rxnrecer_msa_3digit</th>\n",
       "      <th>rxnrecer_deepec_3digit</th>\n",
       "      <th>rxnrecer_catfam_3digit</th>\n",
       "      <th>rxnrecer_priam_3digit</th>\n",
       "    </tr>\n",
       "  </thead>\n",
       "  <tbody>\n",
       "    <tr>\n",
       "      <th>5385</th>\n",
       "      <td>XP_025588571.1</td>\n",
       "      <td>RHEA:16237</td>\n",
       "      <td>5.2.1.8</td>\n",
       "      <td>3.4.19.12</td>\n",
       "      <td>5.2.1.8</td>\n",
       "      <td>RHEA:16237</td>\n",
       "      <td>5.2.1.8</td>\n",
       "      <td>5.2.1.8</td>\n",
       "      <td>5.2.1.8</td>\n",
       "      <td>5.2.1.8</td>\n",
       "      <td>...</td>\n",
       "      <td>5.2.1</td>\n",
       "      <td>5.2.1</td>\n",
       "      <td>5.2.1</td>\n",
       "      <td>5.2.1</td>\n",
       "      <td>False</td>\n",
       "      <td>True</td>\n",
       "      <td>True</td>\n",
       "      <td>True</td>\n",
       "      <td>True</td>\n",
       "      <td>True</td>\n",
       "    </tr>\n",
       "  </tbody>\n",
       "</table>\n",
       "<p>1 rows × 29 columns</p>\n",
       "</div>"
      ],
      "text/plain": [
       "            input_id    RXNRECer RXNRECer2EC      clean  ECRECer     MSA_RXN  \\\n",
       "5385  XP_025588571.1  RHEA:16237     5.2.1.8  3.4.19.12  5.2.1.8  RHEA:16237   \n",
       "\n",
       "       MSA_EC   deepec   catfam    PRIAM  ...  MSA_EC_3digit  deepec_3digit  \\\n",
       "5385  5.2.1.8  5.2.1.8  5.2.1.8  5.2.1.8  ...          5.2.1          5.2.1   \n",
       "\n",
       "      catfam_3digit  priam_3digit  rxnrecer_clean_3digit  \\\n",
       "5385          5.2.1         5.2.1                  False   \n",
       "\n",
       "      rxnrecer_ecrecer_3digit rxnrecer_msa_3digit rxnrecer_deepec_3digit  \\\n",
       "5385                     True                True                   True   \n",
       "\n",
       "     rxnrecer_catfam_3digit rxnrecer_priam_3digit  \n",
       "5385                   True                  True  \n",
       "\n",
       "[1 rows x 29 columns]"
      ]
     },
     "execution_count": 6,
     "metadata": {},
     "output_type": "execute_result"
    }
   ],
   "source": [
    "res_fus_ven[res_fus_ven.input_id=='XP_025588571.1']"
   ]
  },
  {
   "cell_type": "code",
   "execution_count": 5,
   "metadata": {},
   "outputs": [],
   "source": [
    "def statistic_all_methods_df(fus_res, methods):\n",
    "    records = []\n",
    "    total_records = len(fus_res)\n",
    "\n",
    "    for method in methods:\n",
    "        col = fus_res[method].astype(str)\n",
    "\n",
    "        num_enzyme = col[~col.isin(['-', 'NO-PREDICTION'])].count()\n",
    "        num_nonenzyme = (col == '-').sum()\n",
    "        num_no_prediction = (col == 'NO-PREDICTION').sum()\n",
    "        num_partial_ec = col.apply(lambda x: '-' in x and x not in ['-', 'NO-PREDICTION']).sum()\n",
    "        num_fully_annotated = num_enzyme - num_partial_ec\n",
    "\n",
    "        records.append({\n",
    "            'Method': method,\n",
    "            'Total': total_records,\n",
    "            'Enzyme': num_enzyme,\n",
    "            'Non-Enzyme': num_nonenzyme,\n",
    "            'No-Prediction': num_no_prediction,\n",
    "            'Partial-EC': num_partial_ec,\n",
    "            'Fully-Annotated': num_fully_annotated\n",
    "        })\n",
    "\n",
    "    return pd.DataFrame(records)"
   ]
  },
  {
   "cell_type": "code",
   "execution_count": 6,
   "metadata": {},
   "outputs": [
    {
     "data": {
      "text/html": [
       "<div>\n",
       "<style scoped>\n",
       "    .dataframe tbody tr th:only-of-type {\n",
       "        vertical-align: middle;\n",
       "    }\n",
       "\n",
       "    .dataframe tbody tr th {\n",
       "        vertical-align: top;\n",
       "    }\n",
       "\n",
       "    .dataframe thead th {\n",
       "        text-align: right;\n",
       "    }\n",
       "</style>\n",
       "<table border=\"1\" class=\"dataframe\">\n",
       "  <thead>\n",
       "    <tr style=\"text-align: right;\">\n",
       "      <th></th>\n",
       "      <th>Method</th>\n",
       "      <th>Total</th>\n",
       "      <th>Enzyme</th>\n",
       "      <th>Non-Enzyme</th>\n",
       "      <th>No-Prediction</th>\n",
       "      <th>Partial-EC</th>\n",
       "      <th>Fully-Annotated</th>\n",
       "    </tr>\n",
       "  </thead>\n",
       "  <tbody>\n",
       "    <tr>\n",
       "      <th>0</th>\n",
       "      <td>RXNRECer</td>\n",
       "      <td>12832</td>\n",
       "      <td>3297</td>\n",
       "      <td>9535</td>\n",
       "      <td>0</td>\n",
       "      <td>0</td>\n",
       "      <td>3297</td>\n",
       "    </tr>\n",
       "    <tr>\n",
       "      <th>1</th>\n",
       "      <td>RXNRECer2EC</td>\n",
       "      <td>12832</td>\n",
       "      <td>3297</td>\n",
       "      <td>9535</td>\n",
       "      <td>0</td>\n",
       "      <td>936</td>\n",
       "      <td>2361</td>\n",
       "    </tr>\n",
       "    <tr>\n",
       "      <th>2</th>\n",
       "      <td>ECRECer</td>\n",
       "      <td>12832</td>\n",
       "      <td>4536</td>\n",
       "      <td>8296</td>\n",
       "      <td>0</td>\n",
       "      <td>1262</td>\n",
       "      <td>3274</td>\n",
       "    </tr>\n",
       "    <tr>\n",
       "      <th>3</th>\n",
       "      <td>MSA_EC</td>\n",
       "      <td>12832</td>\n",
       "      <td>2638</td>\n",
       "      <td>3749</td>\n",
       "      <td>6445</td>\n",
       "      <td>403</td>\n",
       "      <td>2235</td>\n",
       "    </tr>\n",
       "    <tr>\n",
       "      <th>4</th>\n",
       "      <td>MSA_RXN</td>\n",
       "      <td>12832</td>\n",
       "      <td>2750</td>\n",
       "      <td>3637</td>\n",
       "      <td>6445</td>\n",
       "      <td>0</td>\n",
       "      <td>2750</td>\n",
       "    </tr>\n",
       "    <tr>\n",
       "      <th>5</th>\n",
       "      <td>deepec</td>\n",
       "      <td>12832</td>\n",
       "      <td>984</td>\n",
       "      <td>0</td>\n",
       "      <td>11848</td>\n",
       "      <td>0</td>\n",
       "      <td>984</td>\n",
       "    </tr>\n",
       "    <tr>\n",
       "      <th>6</th>\n",
       "      <td>catfam</td>\n",
       "      <td>12832</td>\n",
       "      <td>1100</td>\n",
       "      <td>11732</td>\n",
       "      <td>0</td>\n",
       "      <td>0</td>\n",
       "      <td>1100</td>\n",
       "    </tr>\n",
       "    <tr>\n",
       "      <th>7</th>\n",
       "      <td>clean</td>\n",
       "      <td>12832</td>\n",
       "      <td>12832</td>\n",
       "      <td>0</td>\n",
       "      <td>0</td>\n",
       "      <td>0</td>\n",
       "      <td>12832</td>\n",
       "    </tr>\n",
       "  </tbody>\n",
       "</table>\n",
       "</div>"
      ],
      "text/plain": [
       "        Method  Total  Enzyme  Non-Enzyme  No-Prediction  Partial-EC  \\\n",
       "0     RXNRECer  12832    3297        9535              0           0   \n",
       "1  RXNRECer2EC  12832    3297        9535              0         936   \n",
       "2      ECRECer  12832    4536        8296              0        1262   \n",
       "3       MSA_EC  12832    2638        3749           6445         403   \n",
       "4      MSA_RXN  12832    2750        3637           6445           0   \n",
       "5       deepec  12832     984           0          11848           0   \n",
       "6       catfam  12832    1100       11732              0           0   \n",
       "7        clean  12832   12832           0              0           0   \n",
       "\n",
       "   Fully-Annotated  \n",
       "0             3297  \n",
       "1             2361  \n",
       "2             3274  \n",
       "3             2235  \n",
       "4             2750  \n",
       "5              984  \n",
       "6             1100  \n",
       "7            12832  "
      ]
     },
     "metadata": {},
     "output_type": "display_data"
    }
   ],
   "source": [
    "methods =['RXNRECer','RXNRECer2EC', 'ECRECer', 'MSA_EC', 'MSA_RXN','deepec', 'catfam', 'clean']\n",
    "df_stat = statistic_all_methods_df(fus_res=res_fus_ven, methods=methods)\n",
    "display(df_stat)  # 或者 print(df_stat)"
   ]
  },
  {
   "cell_type": "code",
   "execution_count": 9,
   "metadata": {},
   "outputs": [
    {
     "data": {
      "application/vnd.plotly.v1+json": {
       "config": {
        "plotlyServerURL": "https://plot.ly"
       },
       "data": [
        {
         "coloraxis": "coloraxis",
         "hovertemplate": "x: %{x}<br>Method: %{y}<br>Proportion: %{z}<extra></extra>",
         "name": "0",
         "texttemplate": "%{z:.4f}",
         "type": "heatmap",
         "x": [
          "Enzyme",
          "Non-Enzyme",
          "No-Prediction",
          "Partial-EC",
          "Fully-Annotated"
         ],
         "xaxis": "x",
         "y": [
          "RXNRECer",
          "RXNRECer2EC",
          "ECRECer",
          "MSA_EC",
          "MSA_RXN",
          "deepec",
          "catfam",
          "clean"
         ],
         "yaxis": "y",
         "z": [
          [
           0.2569357855361596,
           0.7430642144638404,
           0,
           0,
           0.2569357855361596
          ],
          [
           0.2569357855361596,
           0.7430642144638404,
           0,
           0.07294264339152119,
           0.1839931421446384
          ],
          [
           0.35349127182044887,
           0.6465087281795511,
           0,
           0.09834788029925187,
           0.255143391521197
          ],
          [
           0.20557980049875313,
           0.2921602244389027,
           0.5022599750623441,
           0.03140586034912718,
           0.17417394014962592
          ],
          [
           0.2143079800498753,
           0.28343204488778057,
           0.5022599750623441,
           0,
           0.2143079800498753
          ],
          [
           0.07668329177057356,
           0,
           0.9233167082294265,
           0,
           0.07668329177057356
          ],
          [
           0.08572319201995013,
           0.9142768079800498,
           0,
           0,
           0.08572319201995013
          ],
          [
           1,
           0,
           0,
           0,
           1
          ]
         ]
        }
       ],
       "layout": {
        "coloraxis": {
         "colorbar": {
          "title": {
           "text": "Proportion"
          }
         },
         "colorscale": [
          [
           0,
           "rgb(247,251,255)"
          ],
          [
           0.125,
           "rgb(222,235,247)"
          ],
          [
           0.25,
           "rgb(198,219,239)"
          ],
          [
           0.375,
           "rgb(158,202,225)"
          ],
          [
           0.5,
           "rgb(107,174,214)"
          ],
          [
           0.625,
           "rgb(66,146,198)"
          ],
          [
           0.75,
           "rgb(33,113,181)"
          ],
          [
           0.875,
           "rgb(8,81,156)"
          ],
          [
           1,
           "rgb(8,48,107)"
          ]
         ]
        },
        "height": 400,
        "margin": {
         "t": 60
        },
        "template": {
         "data": {
          "bar": [
           {
            "error_x": {
             "color": "#2a3f5f"
            },
            "error_y": {
             "color": "#2a3f5f"
            },
            "marker": {
             "line": {
              "color": "#E5ECF6",
              "width": 0.5
             },
             "pattern": {
              "fillmode": "overlay",
              "size": 10,
              "solidity": 0.2
             }
            },
            "type": "bar"
           }
          ],
          "barpolar": [
           {
            "marker": {
             "line": {
              "color": "#E5ECF6",
              "width": 0.5
             },
             "pattern": {
              "fillmode": "overlay",
              "size": 10,
              "solidity": 0.2
             }
            },
            "type": "barpolar"
           }
          ],
          "carpet": [
           {
            "aaxis": {
             "endlinecolor": "#2a3f5f",
             "gridcolor": "white",
             "linecolor": "white",
             "minorgridcolor": "white",
             "startlinecolor": "#2a3f5f"
            },
            "baxis": {
             "endlinecolor": "#2a3f5f",
             "gridcolor": "white",
             "linecolor": "white",
             "minorgridcolor": "white",
             "startlinecolor": "#2a3f5f"
            },
            "type": "carpet"
           }
          ],
          "choropleth": [
           {
            "colorbar": {
             "outlinewidth": 0,
             "ticks": ""
            },
            "type": "choropleth"
           }
          ],
          "contour": [
           {
            "colorbar": {
             "outlinewidth": 0,
             "ticks": ""
            },
            "colorscale": [
             [
              0,
              "#0d0887"
             ],
             [
              0.1111111111111111,
              "#46039f"
             ],
             [
              0.2222222222222222,
              "#7201a8"
             ],
             [
              0.3333333333333333,
              "#9c179e"
             ],
             [
              0.4444444444444444,
              "#bd3786"
             ],
             [
              0.5555555555555556,
              "#d8576b"
             ],
             [
              0.6666666666666666,
              "#ed7953"
             ],
             [
              0.7777777777777778,
              "#fb9f3a"
             ],
             [
              0.8888888888888888,
              "#fdca26"
             ],
             [
              1,
              "#f0f921"
             ]
            ],
            "type": "contour"
           }
          ],
          "contourcarpet": [
           {
            "colorbar": {
             "outlinewidth": 0,
             "ticks": ""
            },
            "type": "contourcarpet"
           }
          ],
          "heatmap": [
           {
            "colorbar": {
             "outlinewidth": 0,
             "ticks": ""
            },
            "colorscale": [
             [
              0,
              "#0d0887"
             ],
             [
              0.1111111111111111,
              "#46039f"
             ],
             [
              0.2222222222222222,
              "#7201a8"
             ],
             [
              0.3333333333333333,
              "#9c179e"
             ],
             [
              0.4444444444444444,
              "#bd3786"
             ],
             [
              0.5555555555555556,
              "#d8576b"
             ],
             [
              0.6666666666666666,
              "#ed7953"
             ],
             [
              0.7777777777777778,
              "#fb9f3a"
             ],
             [
              0.8888888888888888,
              "#fdca26"
             ],
             [
              1,
              "#f0f921"
             ]
            ],
            "type": "heatmap"
           }
          ],
          "heatmapgl": [
           {
            "colorbar": {
             "outlinewidth": 0,
             "ticks": ""
            },
            "colorscale": [
             [
              0,
              "#0d0887"
             ],
             [
              0.1111111111111111,
              "#46039f"
             ],
             [
              0.2222222222222222,
              "#7201a8"
             ],
             [
              0.3333333333333333,
              "#9c179e"
             ],
             [
              0.4444444444444444,
              "#bd3786"
             ],
             [
              0.5555555555555556,
              "#d8576b"
             ],
             [
              0.6666666666666666,
              "#ed7953"
             ],
             [
              0.7777777777777778,
              "#fb9f3a"
             ],
             [
              0.8888888888888888,
              "#fdca26"
             ],
             [
              1,
              "#f0f921"
             ]
            ],
            "type": "heatmapgl"
           }
          ],
          "histogram": [
           {
            "marker": {
             "pattern": {
              "fillmode": "overlay",
              "size": 10,
              "solidity": 0.2
             }
            },
            "type": "histogram"
           }
          ],
          "histogram2d": [
           {
            "colorbar": {
             "outlinewidth": 0,
             "ticks": ""
            },
            "colorscale": [
             [
              0,
              "#0d0887"
             ],
             [
              0.1111111111111111,
              "#46039f"
             ],
             [
              0.2222222222222222,
              "#7201a8"
             ],
             [
              0.3333333333333333,
              "#9c179e"
             ],
             [
              0.4444444444444444,
              "#bd3786"
             ],
             [
              0.5555555555555556,
              "#d8576b"
             ],
             [
              0.6666666666666666,
              "#ed7953"
             ],
             [
              0.7777777777777778,
              "#fb9f3a"
             ],
             [
              0.8888888888888888,
              "#fdca26"
             ],
             [
              1,
              "#f0f921"
             ]
            ],
            "type": "histogram2d"
           }
          ],
          "histogram2dcontour": [
           {
            "colorbar": {
             "outlinewidth": 0,
             "ticks": ""
            },
            "colorscale": [
             [
              0,
              "#0d0887"
             ],
             [
              0.1111111111111111,
              "#46039f"
             ],
             [
              0.2222222222222222,
              "#7201a8"
             ],
             [
              0.3333333333333333,
              "#9c179e"
             ],
             [
              0.4444444444444444,
              "#bd3786"
             ],
             [
              0.5555555555555556,
              "#d8576b"
             ],
             [
              0.6666666666666666,
              "#ed7953"
             ],
             [
              0.7777777777777778,
              "#fb9f3a"
             ],
             [
              0.8888888888888888,
              "#fdca26"
             ],
             [
              1,
              "#f0f921"
             ]
            ],
            "type": "histogram2dcontour"
           }
          ],
          "mesh3d": [
           {
            "colorbar": {
             "outlinewidth": 0,
             "ticks": ""
            },
            "type": "mesh3d"
           }
          ],
          "parcoords": [
           {
            "line": {
             "colorbar": {
              "outlinewidth": 0,
              "ticks": ""
             }
            },
            "type": "parcoords"
           }
          ],
          "pie": [
           {
            "automargin": true,
            "type": "pie"
           }
          ],
          "scatter": [
           {
            "fillpattern": {
             "fillmode": "overlay",
             "size": 10,
             "solidity": 0.2
            },
            "type": "scatter"
           }
          ],
          "scatter3d": [
           {
            "line": {
             "colorbar": {
              "outlinewidth": 0,
              "ticks": ""
             }
            },
            "marker": {
             "colorbar": {
              "outlinewidth": 0,
              "ticks": ""
             }
            },
            "type": "scatter3d"
           }
          ],
          "scattercarpet": [
           {
            "marker": {
             "colorbar": {
              "outlinewidth": 0,
              "ticks": ""
             }
            },
            "type": "scattercarpet"
           }
          ],
          "scattergeo": [
           {
            "marker": {
             "colorbar": {
              "outlinewidth": 0,
              "ticks": ""
             }
            },
            "type": "scattergeo"
           }
          ],
          "scattergl": [
           {
            "marker": {
             "colorbar": {
              "outlinewidth": 0,
              "ticks": ""
             }
            },
            "type": "scattergl"
           }
          ],
          "scattermapbox": [
           {
            "marker": {
             "colorbar": {
              "outlinewidth": 0,
              "ticks": ""
             }
            },
            "type": "scattermapbox"
           }
          ],
          "scatterpolar": [
           {
            "marker": {
             "colorbar": {
              "outlinewidth": 0,
              "ticks": ""
             }
            },
            "type": "scatterpolar"
           }
          ],
          "scatterpolargl": [
           {
            "marker": {
             "colorbar": {
              "outlinewidth": 0,
              "ticks": ""
             }
            },
            "type": "scatterpolargl"
           }
          ],
          "scatterternary": [
           {
            "marker": {
             "colorbar": {
              "outlinewidth": 0,
              "ticks": ""
             }
            },
            "type": "scatterternary"
           }
          ],
          "surface": [
           {
            "colorbar": {
             "outlinewidth": 0,
             "ticks": ""
            },
            "colorscale": [
             [
              0,
              "#0d0887"
             ],
             [
              0.1111111111111111,
              "#46039f"
             ],
             [
              0.2222222222222222,
              "#7201a8"
             ],
             [
              0.3333333333333333,
              "#9c179e"
             ],
             [
              0.4444444444444444,
              "#bd3786"
             ],
             [
              0.5555555555555556,
              "#d8576b"
             ],
             [
              0.6666666666666666,
              "#ed7953"
             ],
             [
              0.7777777777777778,
              "#fb9f3a"
             ],
             [
              0.8888888888888888,
              "#fdca26"
             ],
             [
              1,
              "#f0f921"
             ]
            ],
            "type": "surface"
           }
          ],
          "table": [
           {
            "cells": {
             "fill": {
              "color": "#EBF0F8"
             },
             "line": {
              "color": "white"
             }
            },
            "header": {
             "fill": {
              "color": "#C8D4E3"
             },
             "line": {
              "color": "white"
             }
            },
            "type": "table"
           }
          ]
         },
         "layout": {
          "annotationdefaults": {
           "arrowcolor": "#2a3f5f",
           "arrowhead": 0,
           "arrowwidth": 1
          },
          "autotypenumbers": "strict",
          "coloraxis": {
           "colorbar": {
            "outlinewidth": 0,
            "ticks": ""
           }
          },
          "colorscale": {
           "diverging": [
            [
             0,
             "#8e0152"
            ],
            [
             0.1,
             "#c51b7d"
            ],
            [
             0.2,
             "#de77ae"
            ],
            [
             0.3,
             "#f1b6da"
            ],
            [
             0.4,
             "#fde0ef"
            ],
            [
             0.5,
             "#f7f7f7"
            ],
            [
             0.6,
             "#e6f5d0"
            ],
            [
             0.7,
             "#b8e186"
            ],
            [
             0.8,
             "#7fbc41"
            ],
            [
             0.9,
             "#4d9221"
            ],
            [
             1,
             "#276419"
            ]
           ],
           "sequential": [
            [
             0,
             "#0d0887"
            ],
            [
             0.1111111111111111,
             "#46039f"
            ],
            [
             0.2222222222222222,
             "#7201a8"
            ],
            [
             0.3333333333333333,
             "#9c179e"
            ],
            [
             0.4444444444444444,
             "#bd3786"
            ],
            [
             0.5555555555555556,
             "#d8576b"
            ],
            [
             0.6666666666666666,
             "#ed7953"
            ],
            [
             0.7777777777777778,
             "#fb9f3a"
            ],
            [
             0.8888888888888888,
             "#fdca26"
            ],
            [
             1,
             "#f0f921"
            ]
           ],
           "sequentialminus": [
            [
             0,
             "#0d0887"
            ],
            [
             0.1111111111111111,
             "#46039f"
            ],
            [
             0.2222222222222222,
             "#7201a8"
            ],
            [
             0.3333333333333333,
             "#9c179e"
            ],
            [
             0.4444444444444444,
             "#bd3786"
            ],
            [
             0.5555555555555556,
             "#d8576b"
            ],
            [
             0.6666666666666666,
             "#ed7953"
            ],
            [
             0.7777777777777778,
             "#fb9f3a"
            ],
            [
             0.8888888888888888,
             "#fdca26"
            ],
            [
             1,
             "#f0f921"
            ]
           ]
          },
          "colorway": [
           "#636efa",
           "#EF553B",
           "#00cc96",
           "#ab63fa",
           "#FFA15A",
           "#19d3f3",
           "#FF6692",
           "#B6E880",
           "#FF97FF",
           "#FECB52"
          ],
          "font": {
           "color": "#2a3f5f"
          },
          "geo": {
           "bgcolor": "white",
           "lakecolor": "white",
           "landcolor": "#E5ECF6",
           "showlakes": true,
           "showland": true,
           "subunitcolor": "white"
          },
          "hoverlabel": {
           "align": "left"
          },
          "hovermode": "closest",
          "mapbox": {
           "style": "light"
          },
          "paper_bgcolor": "white",
          "plot_bgcolor": "#E5ECF6",
          "polar": {
           "angularaxis": {
            "gridcolor": "white",
            "linecolor": "white",
            "ticks": ""
           },
           "bgcolor": "#E5ECF6",
           "radialaxis": {
            "gridcolor": "white",
            "linecolor": "white",
            "ticks": ""
           }
          },
          "scene": {
           "xaxis": {
            "backgroundcolor": "#E5ECF6",
            "gridcolor": "white",
            "gridwidth": 2,
            "linecolor": "white",
            "showbackground": true,
            "ticks": "",
            "zerolinecolor": "white"
           },
           "yaxis": {
            "backgroundcolor": "#E5ECF6",
            "gridcolor": "white",
            "gridwidth": 2,
            "linecolor": "white",
            "showbackground": true,
            "ticks": "",
            "zerolinecolor": "white"
           },
           "zaxis": {
            "backgroundcolor": "#E5ECF6",
            "gridcolor": "white",
            "gridwidth": 2,
            "linecolor": "white",
            "showbackground": true,
            "ticks": "",
            "zerolinecolor": "white"
           }
          },
          "shapedefaults": {
           "line": {
            "color": "#2a3f5f"
           }
          },
          "ternary": {
           "aaxis": {
            "gridcolor": "white",
            "linecolor": "white",
            "ticks": ""
           },
           "baxis": {
            "gridcolor": "white",
            "linecolor": "white",
            "ticks": ""
           },
           "bgcolor": "#E5ECF6",
           "caxis": {
            "gridcolor": "white",
            "linecolor": "white",
            "ticks": ""
           }
          },
          "title": {
           "x": 0.05
          },
          "xaxis": {
           "automargin": true,
           "gridcolor": "white",
           "linecolor": "white",
           "ticks": "",
           "title": {
            "standoff": 15
           },
           "zerolinecolor": "white",
           "zerolinewidth": 2
          },
          "yaxis": {
           "automargin": true,
           "gridcolor": "white",
           "linecolor": "white",
           "ticks": "",
           "title": {
            "standoff": 15
           },
           "zerolinecolor": "white",
           "zerolinewidth": 2
          }
         }
        },
        "title": {
         "text": "Method vs Metric Normalized Coverage (Heatmap)"
        },
        "width": 800,
        "xaxis": {
         "anchor": "y",
         "domain": [
          0,
          1
         ]
        },
        "yaxis": {
         "anchor": "x",
         "autorange": "reversed",
         "domain": [
          0,
          1
         ],
         "title": {
          "text": "Method"
         }
        }
       }
      },
      "text/html": [
       "<div>                            <div id=\"0578e8a7-8a06-457a-9ce4-cdc2fb3d9d15\" class=\"plotly-graph-div\" style=\"height:400px; width:800px;\"></div>            <script type=\"text/javascript\">                require([\"plotly\"], function(Plotly) {                    window.PLOTLYENV=window.PLOTLYENV || {};                                    if (document.getElementById(\"0578e8a7-8a06-457a-9ce4-cdc2fb3d9d15\")) {                    Plotly.newPlot(                        \"0578e8a7-8a06-457a-9ce4-cdc2fb3d9d15\",                        [{\"coloraxis\":\"coloraxis\",\"name\":\"0\",\"texttemplate\":\"%{z:.4f}\",\"x\":[\"Enzyme\",\"Non-Enzyme\",\"No-Prediction\",\"Partial-EC\",\"Fully-Annotated\"],\"y\":[\"RXNRECer\",\"RXNRECer2EC\",\"ECRECer\",\"MSA_EC\",\"MSA_RXN\",\"deepec\",\"catfam\",\"clean\"],\"z\":[[0.2569357855361596,0.7430642144638404,0.0,0.0,0.2569357855361596],[0.2569357855361596,0.7430642144638404,0.0,0.07294264339152119,0.1839931421446384],[0.35349127182044887,0.6465087281795511,0.0,0.09834788029925187,0.255143391521197],[0.20557980049875313,0.2921602244389027,0.5022599750623441,0.03140586034912718,0.17417394014962592],[0.2143079800498753,0.28343204488778057,0.5022599750623441,0.0,0.2143079800498753],[0.07668329177057356,0.0,0.9233167082294265,0.0,0.07668329177057356],[0.08572319201995013,0.9142768079800498,0.0,0.0,0.08572319201995013],[1.0,0.0,0.0,0.0,1.0]],\"type\":\"heatmap\",\"xaxis\":\"x\",\"yaxis\":\"y\",\"hovertemplate\":\"x: %{x}\\u003cbr\\u003eMethod: %{y}\\u003cbr\\u003eProportion: %{z}\\u003cextra\\u003e\\u003c\\u002fextra\\u003e\"}],                        {\"template\":{\"data\":{\"histogram2dcontour\":[{\"type\":\"histogram2dcontour\",\"colorbar\":{\"outlinewidth\":0,\"ticks\":\"\"},\"colorscale\":[[0.0,\"#0d0887\"],[0.1111111111111111,\"#46039f\"],[0.2222222222222222,\"#7201a8\"],[0.3333333333333333,\"#9c179e\"],[0.4444444444444444,\"#bd3786\"],[0.5555555555555556,\"#d8576b\"],[0.6666666666666666,\"#ed7953\"],[0.7777777777777778,\"#fb9f3a\"],[0.8888888888888888,\"#fdca26\"],[1.0,\"#f0f921\"]]}],\"choropleth\":[{\"type\":\"choropleth\",\"colorbar\":{\"outlinewidth\":0,\"ticks\":\"\"}}],\"histogram2d\":[{\"type\":\"histogram2d\",\"colorbar\":{\"outlinewidth\":0,\"ticks\":\"\"},\"colorscale\":[[0.0,\"#0d0887\"],[0.1111111111111111,\"#46039f\"],[0.2222222222222222,\"#7201a8\"],[0.3333333333333333,\"#9c179e\"],[0.4444444444444444,\"#bd3786\"],[0.5555555555555556,\"#d8576b\"],[0.6666666666666666,\"#ed7953\"],[0.7777777777777778,\"#fb9f3a\"],[0.8888888888888888,\"#fdca26\"],[1.0,\"#f0f921\"]]}],\"heatmap\":[{\"type\":\"heatmap\",\"colorbar\":{\"outlinewidth\":0,\"ticks\":\"\"},\"colorscale\":[[0.0,\"#0d0887\"],[0.1111111111111111,\"#46039f\"],[0.2222222222222222,\"#7201a8\"],[0.3333333333333333,\"#9c179e\"],[0.4444444444444444,\"#bd3786\"],[0.5555555555555556,\"#d8576b\"],[0.6666666666666666,\"#ed7953\"],[0.7777777777777778,\"#fb9f3a\"],[0.8888888888888888,\"#fdca26\"],[1.0,\"#f0f921\"]]}],\"heatmapgl\":[{\"type\":\"heatmapgl\",\"colorbar\":{\"outlinewidth\":0,\"ticks\":\"\"},\"colorscale\":[[0.0,\"#0d0887\"],[0.1111111111111111,\"#46039f\"],[0.2222222222222222,\"#7201a8\"],[0.3333333333333333,\"#9c179e\"],[0.4444444444444444,\"#bd3786\"],[0.5555555555555556,\"#d8576b\"],[0.6666666666666666,\"#ed7953\"],[0.7777777777777778,\"#fb9f3a\"],[0.8888888888888888,\"#fdca26\"],[1.0,\"#f0f921\"]]}],\"contourcarpet\":[{\"type\":\"contourcarpet\",\"colorbar\":{\"outlinewidth\":0,\"ticks\":\"\"}}],\"contour\":[{\"type\":\"contour\",\"colorbar\":{\"outlinewidth\":0,\"ticks\":\"\"},\"colorscale\":[[0.0,\"#0d0887\"],[0.1111111111111111,\"#46039f\"],[0.2222222222222222,\"#7201a8\"],[0.3333333333333333,\"#9c179e\"],[0.4444444444444444,\"#bd3786\"],[0.5555555555555556,\"#d8576b\"],[0.6666666666666666,\"#ed7953\"],[0.7777777777777778,\"#fb9f3a\"],[0.8888888888888888,\"#fdca26\"],[1.0,\"#f0f921\"]]}],\"surface\":[{\"type\":\"surface\",\"colorbar\":{\"outlinewidth\":0,\"ticks\":\"\"},\"colorscale\":[[0.0,\"#0d0887\"],[0.1111111111111111,\"#46039f\"],[0.2222222222222222,\"#7201a8\"],[0.3333333333333333,\"#9c179e\"],[0.4444444444444444,\"#bd3786\"],[0.5555555555555556,\"#d8576b\"],[0.6666666666666666,\"#ed7953\"],[0.7777777777777778,\"#fb9f3a\"],[0.8888888888888888,\"#fdca26\"],[1.0,\"#f0f921\"]]}],\"mesh3d\":[{\"type\":\"mesh3d\",\"colorbar\":{\"outlinewidth\":0,\"ticks\":\"\"}}],\"scatter\":[{\"fillpattern\":{\"fillmode\":\"overlay\",\"size\":10,\"solidity\":0.2},\"type\":\"scatter\"}],\"parcoords\":[{\"type\":\"parcoords\",\"line\":{\"colorbar\":{\"outlinewidth\":0,\"ticks\":\"\"}}}],\"scatterpolargl\":[{\"type\":\"scatterpolargl\",\"marker\":{\"colorbar\":{\"outlinewidth\":0,\"ticks\":\"\"}}}],\"bar\":[{\"error_x\":{\"color\":\"#2a3f5f\"},\"error_y\":{\"color\":\"#2a3f5f\"},\"marker\":{\"line\":{\"color\":\"#E5ECF6\",\"width\":0.5},\"pattern\":{\"fillmode\":\"overlay\",\"size\":10,\"solidity\":0.2}},\"type\":\"bar\"}],\"scattergeo\":[{\"type\":\"scattergeo\",\"marker\":{\"colorbar\":{\"outlinewidth\":0,\"ticks\":\"\"}}}],\"scatterpolar\":[{\"type\":\"scatterpolar\",\"marker\":{\"colorbar\":{\"outlinewidth\":0,\"ticks\":\"\"}}}],\"histogram\":[{\"marker\":{\"pattern\":{\"fillmode\":\"overlay\",\"size\":10,\"solidity\":0.2}},\"type\":\"histogram\"}],\"scattergl\":[{\"type\":\"scattergl\",\"marker\":{\"colorbar\":{\"outlinewidth\":0,\"ticks\":\"\"}}}],\"scatter3d\":[{\"type\":\"scatter3d\",\"line\":{\"colorbar\":{\"outlinewidth\":0,\"ticks\":\"\"}},\"marker\":{\"colorbar\":{\"outlinewidth\":0,\"ticks\":\"\"}}}],\"scattermapbox\":[{\"type\":\"scattermapbox\",\"marker\":{\"colorbar\":{\"outlinewidth\":0,\"ticks\":\"\"}}}],\"scatterternary\":[{\"type\":\"scatterternary\",\"marker\":{\"colorbar\":{\"outlinewidth\":0,\"ticks\":\"\"}}}],\"scattercarpet\":[{\"type\":\"scattercarpet\",\"marker\":{\"colorbar\":{\"outlinewidth\":0,\"ticks\":\"\"}}}],\"carpet\":[{\"aaxis\":{\"endlinecolor\":\"#2a3f5f\",\"gridcolor\":\"white\",\"linecolor\":\"white\",\"minorgridcolor\":\"white\",\"startlinecolor\":\"#2a3f5f\"},\"baxis\":{\"endlinecolor\":\"#2a3f5f\",\"gridcolor\":\"white\",\"linecolor\":\"white\",\"minorgridcolor\":\"white\",\"startlinecolor\":\"#2a3f5f\"},\"type\":\"carpet\"}],\"table\":[{\"cells\":{\"fill\":{\"color\":\"#EBF0F8\"},\"line\":{\"color\":\"white\"}},\"header\":{\"fill\":{\"color\":\"#C8D4E3\"},\"line\":{\"color\":\"white\"}},\"type\":\"table\"}],\"barpolar\":[{\"marker\":{\"line\":{\"color\":\"#E5ECF6\",\"width\":0.5},\"pattern\":{\"fillmode\":\"overlay\",\"size\":10,\"solidity\":0.2}},\"type\":\"barpolar\"}],\"pie\":[{\"automargin\":true,\"type\":\"pie\"}]},\"layout\":{\"autotypenumbers\":\"strict\",\"colorway\":[\"#636efa\",\"#EF553B\",\"#00cc96\",\"#ab63fa\",\"#FFA15A\",\"#19d3f3\",\"#FF6692\",\"#B6E880\",\"#FF97FF\",\"#FECB52\"],\"font\":{\"color\":\"#2a3f5f\"},\"hovermode\":\"closest\",\"hoverlabel\":{\"align\":\"left\"},\"paper_bgcolor\":\"white\",\"plot_bgcolor\":\"#E5ECF6\",\"polar\":{\"bgcolor\":\"#E5ECF6\",\"angularaxis\":{\"gridcolor\":\"white\",\"linecolor\":\"white\",\"ticks\":\"\"},\"radialaxis\":{\"gridcolor\":\"white\",\"linecolor\":\"white\",\"ticks\":\"\"}},\"ternary\":{\"bgcolor\":\"#E5ECF6\",\"aaxis\":{\"gridcolor\":\"white\",\"linecolor\":\"white\",\"ticks\":\"\"},\"baxis\":{\"gridcolor\":\"white\",\"linecolor\":\"white\",\"ticks\":\"\"},\"caxis\":{\"gridcolor\":\"white\",\"linecolor\":\"white\",\"ticks\":\"\"}},\"coloraxis\":{\"colorbar\":{\"outlinewidth\":0,\"ticks\":\"\"}},\"colorscale\":{\"sequential\":[[0.0,\"#0d0887\"],[0.1111111111111111,\"#46039f\"],[0.2222222222222222,\"#7201a8\"],[0.3333333333333333,\"#9c179e\"],[0.4444444444444444,\"#bd3786\"],[0.5555555555555556,\"#d8576b\"],[0.6666666666666666,\"#ed7953\"],[0.7777777777777778,\"#fb9f3a\"],[0.8888888888888888,\"#fdca26\"],[1.0,\"#f0f921\"]],\"sequentialminus\":[[0.0,\"#0d0887\"],[0.1111111111111111,\"#46039f\"],[0.2222222222222222,\"#7201a8\"],[0.3333333333333333,\"#9c179e\"],[0.4444444444444444,\"#bd3786\"],[0.5555555555555556,\"#d8576b\"],[0.6666666666666666,\"#ed7953\"],[0.7777777777777778,\"#fb9f3a\"],[0.8888888888888888,\"#fdca26\"],[1.0,\"#f0f921\"]],\"diverging\":[[0,\"#8e0152\"],[0.1,\"#c51b7d\"],[0.2,\"#de77ae\"],[0.3,\"#f1b6da\"],[0.4,\"#fde0ef\"],[0.5,\"#f7f7f7\"],[0.6,\"#e6f5d0\"],[0.7,\"#b8e186\"],[0.8,\"#7fbc41\"],[0.9,\"#4d9221\"],[1,\"#276419\"]]},\"xaxis\":{\"gridcolor\":\"white\",\"linecolor\":\"white\",\"ticks\":\"\",\"title\":{\"standoff\":15},\"zerolinecolor\":\"white\",\"automargin\":true,\"zerolinewidth\":2},\"yaxis\":{\"gridcolor\":\"white\",\"linecolor\":\"white\",\"ticks\":\"\",\"title\":{\"standoff\":15},\"zerolinecolor\":\"white\",\"automargin\":true,\"zerolinewidth\":2},\"scene\":{\"xaxis\":{\"backgroundcolor\":\"#E5ECF6\",\"gridcolor\":\"white\",\"linecolor\":\"white\",\"showbackground\":true,\"ticks\":\"\",\"zerolinecolor\":\"white\",\"gridwidth\":2},\"yaxis\":{\"backgroundcolor\":\"#E5ECF6\",\"gridcolor\":\"white\",\"linecolor\":\"white\",\"showbackground\":true,\"ticks\":\"\",\"zerolinecolor\":\"white\",\"gridwidth\":2},\"zaxis\":{\"backgroundcolor\":\"#E5ECF6\",\"gridcolor\":\"white\",\"linecolor\":\"white\",\"showbackground\":true,\"ticks\":\"\",\"zerolinecolor\":\"white\",\"gridwidth\":2}},\"shapedefaults\":{\"line\":{\"color\":\"#2a3f5f\"}},\"annotationdefaults\":{\"arrowcolor\":\"#2a3f5f\",\"arrowhead\":0,\"arrowwidth\":1},\"geo\":{\"bgcolor\":\"white\",\"landcolor\":\"#E5ECF6\",\"subunitcolor\":\"white\",\"showland\":true,\"showlakes\":true,\"lakecolor\":\"white\"},\"title\":{\"x\":0.05},\"mapbox\":{\"style\":\"light\"}}},\"xaxis\":{\"anchor\":\"y\",\"domain\":[0.0,1.0]},\"yaxis\":{\"anchor\":\"x\",\"domain\":[0.0,1.0],\"autorange\":\"reversed\",\"title\":{\"text\":\"Method\"}},\"coloraxis\":{\"colorbar\":{\"title\":{\"text\":\"Proportion\"}},\"colorscale\":[[0.0,\"rgb(247,251,255)\"],[0.125,\"rgb(222,235,247)\"],[0.25,\"rgb(198,219,239)\"],[0.375,\"rgb(158,202,225)\"],[0.5,\"rgb(107,174,214)\"],[0.625,\"rgb(66,146,198)\"],[0.75,\"rgb(33,113,181)\"],[0.875,\"rgb(8,81,156)\"],[1.0,\"rgb(8,48,107)\"]]},\"margin\":{\"t\":60},\"title\":{\"text\":\"Method vs Metric Normalized Coverage (Heatmap)\"},\"height\":400,\"width\":800},                        {\"responsive\": true}                    ).then(function(){\n",
       "                            \n",
       "var gd = document.getElementById('0578e8a7-8a06-457a-9ce4-cdc2fb3d9d15');\n",
       "var x = new MutationObserver(function (mutations, observer) {{\n",
       "        var display = window.getComputedStyle(gd).display;\n",
       "        if (!display || display === 'none') {{\n",
       "            console.log([gd, 'removed!']);\n",
       "            Plotly.purge(gd);\n",
       "            observer.disconnect();\n",
       "        }}\n",
       "}});\n",
       "\n",
       "// Listen for the removal of the full notebook cells\n",
       "var notebookContainer = gd.closest('#notebook-container');\n",
       "if (notebookContainer) {{\n",
       "    x.observe(notebookContainer, {childList: true});\n",
       "}}\n",
       "\n",
       "// Listen for the clearing of the current output cell\n",
       "var outputEl = gd.closest('.output');\n",
       "if (outputEl) {{\n",
       "    x.observe(outputEl, {childList: true});\n",
       "}}\n",
       "\n",
       "                        })                };                });            </script>        </div>"
      ]
     },
     "metadata": {},
     "output_type": "display_data"
    }
   ],
   "source": [
    "\n",
    "df = df_stat\n",
    "total = 12832\n",
    "metrics = ['Enzyme', 'Non-Enzyme', 'No-Prediction', 'Partial-EC', 'Fully-Annotated']\n",
    "df_norm = df.copy()\n",
    "df_norm[metrics] = df[metrics] / total\n",
    "\n",
    "heatmap_data = df_norm.set_index('Method')[metrics]\n",
    "fig = px.imshow(\n",
    "    heatmap_data,\n",
    "    text_auto='.4f',\n",
    "    color_continuous_scale='Blues',\n",
    "    aspect='auto',\n",
    "    labels=dict(color=\"Proportion\"),\n",
    ")\n",
    "fig.update_layout(title=\"Method vs Metric Normalized Coverage (Heatmap)\", height=400, width=800)\n",
    "fig.show()"
   ]
  },
  {
   "cell_type": "code",
   "execution_count": null,
   "metadata": {},
   "outputs": [],
   "source": []
  },
  {
   "cell_type": "code",
   "execution_count": 54,
   "metadata": {},
   "outputs": [
    {
     "data": {
      "application/vnd.plotly.v1+json": {
       "config": {
        "plotlyServerURL": "https://plot.ly"
       },
       "data": [
        {
         "name": "RXNRECer",
         "type": "bar",
         "x": [
          "Enzyme",
          "Non-Enzyme",
          "No-Prediction",
          "Partial-EC",
          "Fully-Annotated"
         ],
         "y": [
          0.2569357855361596,
          0.8127344016365496,
          0,
          0,
          0.2569357855361596
         ]
        },
        {
         "name": "RXNRECer2EC",
         "type": "bar",
         "x": [
          "Enzyme",
          "Non-Enzyme",
          "No-Prediction",
          "Partial-EC",
          "Fully-Annotated"
         ],
         "y": [
          0.2569357855361596,
          0.8127344016365496,
          0,
          0.7416798732171157,
          0.1839931421446384
         ]
        },
        {
         "name": "ECRECer",
         "type": "bar",
         "x": [
          "Enzyme",
          "Non-Enzyme",
          "No-Prediction",
          "Partial-EC",
          "Fully-Annotated"
         ],
         "y": [
          0.35349127182044887,
          0.7071258097511081,
          0,
          1,
          0.255143391521197
         ]
        },
        {
         "name": "MSA_EC",
         "type": "bar",
         "x": [
          "Enzyme",
          "Non-Enzyme",
          "No-Prediction",
          "Partial-EC",
          "Fully-Annotated"
         ],
         "y": [
          0.20557980049875313,
          0.31955335833617454,
          0.5439736664415935,
          0.3193343898573692,
          0.17417394014962592
         ]
        },
        {
         "name": "MSA_RXN",
         "type": "bar",
         "x": [
          "Enzyme",
          "Non-Enzyme",
          "No-Prediction",
          "Partial-EC",
          "Fully-Annotated"
         ],
         "y": [
          0.2143079800498753,
          0.3100068189566996,
          0.5439736664415935,
          0,
          0.2143079800498753
         ]
        },
        {
         "name": "deepec",
         "type": "bar",
         "x": [
          "Enzyme",
          "Non-Enzyme",
          "No-Prediction",
          "Partial-EC",
          "Fully-Annotated"
         ],
         "y": [
          0.07668329177057356,
          0,
          1,
          0,
          0.07668329177057356
         ]
        },
        {
         "name": "catfam",
         "type": "bar",
         "x": [
          "Enzyme",
          "Non-Enzyme",
          "No-Prediction",
          "Partial-EC",
          "Fully-Annotated"
         ],
         "y": [
          0.08572319201995013,
          1,
          0,
          0,
          0.08572319201995013
         ]
        },
        {
         "name": "clean",
         "type": "bar",
         "x": [
          "Enzyme",
          "Non-Enzyme",
          "No-Prediction",
          "Partial-EC",
          "Fully-Annotated"
         ],
         "y": [
          1,
          0,
          0,
          0,
          1
         ]
        }
       ],
       "layout": {
        "bargap": 0.15,
        "bargroupgap": 0.05,
        "barmode": "group",
        "font": {
         "size": 12
        },
        "legend": {
         "title": {
          "text": "Method"
         }
        },
        "margin": {
         "b": 40,
         "l": 40,
         "r": 40,
         "t": 40
        },
        "template": {
         "data": {
          "bar": [
           {
            "error_x": {
             "color": "#2a3f5f"
            },
            "error_y": {
             "color": "#2a3f5f"
            },
            "marker": {
             "line": {
              "color": "#E5ECF6",
              "width": 0.5
             },
             "pattern": {
              "fillmode": "overlay",
              "size": 10,
              "solidity": 0.2
             }
            },
            "type": "bar"
           }
          ],
          "barpolar": [
           {
            "marker": {
             "line": {
              "color": "#E5ECF6",
              "width": 0.5
             },
             "pattern": {
              "fillmode": "overlay",
              "size": 10,
              "solidity": 0.2
             }
            },
            "type": "barpolar"
           }
          ],
          "carpet": [
           {
            "aaxis": {
             "endlinecolor": "#2a3f5f",
             "gridcolor": "white",
             "linecolor": "white",
             "minorgridcolor": "white",
             "startlinecolor": "#2a3f5f"
            },
            "baxis": {
             "endlinecolor": "#2a3f5f",
             "gridcolor": "white",
             "linecolor": "white",
             "minorgridcolor": "white",
             "startlinecolor": "#2a3f5f"
            },
            "type": "carpet"
           }
          ],
          "choropleth": [
           {
            "colorbar": {
             "outlinewidth": 0,
             "ticks": ""
            },
            "type": "choropleth"
           }
          ],
          "contour": [
           {
            "colorbar": {
             "outlinewidth": 0,
             "ticks": ""
            },
            "colorscale": [
             [
              0,
              "#0d0887"
             ],
             [
              0.1111111111111111,
              "#46039f"
             ],
             [
              0.2222222222222222,
              "#7201a8"
             ],
             [
              0.3333333333333333,
              "#9c179e"
             ],
             [
              0.4444444444444444,
              "#bd3786"
             ],
             [
              0.5555555555555556,
              "#d8576b"
             ],
             [
              0.6666666666666666,
              "#ed7953"
             ],
             [
              0.7777777777777778,
              "#fb9f3a"
             ],
             [
              0.8888888888888888,
              "#fdca26"
             ],
             [
              1,
              "#f0f921"
             ]
            ],
            "type": "contour"
           }
          ],
          "contourcarpet": [
           {
            "colorbar": {
             "outlinewidth": 0,
             "ticks": ""
            },
            "type": "contourcarpet"
           }
          ],
          "heatmap": [
           {
            "colorbar": {
             "outlinewidth": 0,
             "ticks": ""
            },
            "colorscale": [
             [
              0,
              "#0d0887"
             ],
             [
              0.1111111111111111,
              "#46039f"
             ],
             [
              0.2222222222222222,
              "#7201a8"
             ],
             [
              0.3333333333333333,
              "#9c179e"
             ],
             [
              0.4444444444444444,
              "#bd3786"
             ],
             [
              0.5555555555555556,
              "#d8576b"
             ],
             [
              0.6666666666666666,
              "#ed7953"
             ],
             [
              0.7777777777777778,
              "#fb9f3a"
             ],
             [
              0.8888888888888888,
              "#fdca26"
             ],
             [
              1,
              "#f0f921"
             ]
            ],
            "type": "heatmap"
           }
          ],
          "heatmapgl": [
           {
            "colorbar": {
             "outlinewidth": 0,
             "ticks": ""
            },
            "colorscale": [
             [
              0,
              "#0d0887"
             ],
             [
              0.1111111111111111,
              "#46039f"
             ],
             [
              0.2222222222222222,
              "#7201a8"
             ],
             [
              0.3333333333333333,
              "#9c179e"
             ],
             [
              0.4444444444444444,
              "#bd3786"
             ],
             [
              0.5555555555555556,
              "#d8576b"
             ],
             [
              0.6666666666666666,
              "#ed7953"
             ],
             [
              0.7777777777777778,
              "#fb9f3a"
             ],
             [
              0.8888888888888888,
              "#fdca26"
             ],
             [
              1,
              "#f0f921"
             ]
            ],
            "type": "heatmapgl"
           }
          ],
          "histogram": [
           {
            "marker": {
             "pattern": {
              "fillmode": "overlay",
              "size": 10,
              "solidity": 0.2
             }
            },
            "type": "histogram"
           }
          ],
          "histogram2d": [
           {
            "colorbar": {
             "outlinewidth": 0,
             "ticks": ""
            },
            "colorscale": [
             [
              0,
              "#0d0887"
             ],
             [
              0.1111111111111111,
              "#46039f"
             ],
             [
              0.2222222222222222,
              "#7201a8"
             ],
             [
              0.3333333333333333,
              "#9c179e"
             ],
             [
              0.4444444444444444,
              "#bd3786"
             ],
             [
              0.5555555555555556,
              "#d8576b"
             ],
             [
              0.6666666666666666,
              "#ed7953"
             ],
             [
              0.7777777777777778,
              "#fb9f3a"
             ],
             [
              0.8888888888888888,
              "#fdca26"
             ],
             [
              1,
              "#f0f921"
             ]
            ],
            "type": "histogram2d"
           }
          ],
          "histogram2dcontour": [
           {
            "colorbar": {
             "outlinewidth": 0,
             "ticks": ""
            },
            "colorscale": [
             [
              0,
              "#0d0887"
             ],
             [
              0.1111111111111111,
              "#46039f"
             ],
             [
              0.2222222222222222,
              "#7201a8"
             ],
             [
              0.3333333333333333,
              "#9c179e"
             ],
             [
              0.4444444444444444,
              "#bd3786"
             ],
             [
              0.5555555555555556,
              "#d8576b"
             ],
             [
              0.6666666666666666,
              "#ed7953"
             ],
             [
              0.7777777777777778,
              "#fb9f3a"
             ],
             [
              0.8888888888888888,
              "#fdca26"
             ],
             [
              1,
              "#f0f921"
             ]
            ],
            "type": "histogram2dcontour"
           }
          ],
          "mesh3d": [
           {
            "colorbar": {
             "outlinewidth": 0,
             "ticks": ""
            },
            "type": "mesh3d"
           }
          ],
          "parcoords": [
           {
            "line": {
             "colorbar": {
              "outlinewidth": 0,
              "ticks": ""
             }
            },
            "type": "parcoords"
           }
          ],
          "pie": [
           {
            "automargin": true,
            "type": "pie"
           }
          ],
          "scatter": [
           {
            "fillpattern": {
             "fillmode": "overlay",
             "size": 10,
             "solidity": 0.2
            },
            "type": "scatter"
           }
          ],
          "scatter3d": [
           {
            "line": {
             "colorbar": {
              "outlinewidth": 0,
              "ticks": ""
             }
            },
            "marker": {
             "colorbar": {
              "outlinewidth": 0,
              "ticks": ""
             }
            },
            "type": "scatter3d"
           }
          ],
          "scattercarpet": [
           {
            "marker": {
             "colorbar": {
              "outlinewidth": 0,
              "ticks": ""
             }
            },
            "type": "scattercarpet"
           }
          ],
          "scattergeo": [
           {
            "marker": {
             "colorbar": {
              "outlinewidth": 0,
              "ticks": ""
             }
            },
            "type": "scattergeo"
           }
          ],
          "scattergl": [
           {
            "marker": {
             "colorbar": {
              "outlinewidth": 0,
              "ticks": ""
             }
            },
            "type": "scattergl"
           }
          ],
          "scattermapbox": [
           {
            "marker": {
             "colorbar": {
              "outlinewidth": 0,
              "ticks": ""
             }
            },
            "type": "scattermapbox"
           }
          ],
          "scatterpolar": [
           {
            "marker": {
             "colorbar": {
              "outlinewidth": 0,
              "ticks": ""
             }
            },
            "type": "scatterpolar"
           }
          ],
          "scatterpolargl": [
           {
            "marker": {
             "colorbar": {
              "outlinewidth": 0,
              "ticks": ""
             }
            },
            "type": "scatterpolargl"
           }
          ],
          "scatterternary": [
           {
            "marker": {
             "colorbar": {
              "outlinewidth": 0,
              "ticks": ""
             }
            },
            "type": "scatterternary"
           }
          ],
          "surface": [
           {
            "colorbar": {
             "outlinewidth": 0,
             "ticks": ""
            },
            "colorscale": [
             [
              0,
              "#0d0887"
             ],
             [
              0.1111111111111111,
              "#46039f"
             ],
             [
              0.2222222222222222,
              "#7201a8"
             ],
             [
              0.3333333333333333,
              "#9c179e"
             ],
             [
              0.4444444444444444,
              "#bd3786"
             ],
             [
              0.5555555555555556,
              "#d8576b"
             ],
             [
              0.6666666666666666,
              "#ed7953"
             ],
             [
              0.7777777777777778,
              "#fb9f3a"
             ],
             [
              0.8888888888888888,
              "#fdca26"
             ],
             [
              1,
              "#f0f921"
             ]
            ],
            "type": "surface"
           }
          ],
          "table": [
           {
            "cells": {
             "fill": {
              "color": "#EBF0F8"
             },
             "line": {
              "color": "white"
             }
            },
            "header": {
             "fill": {
              "color": "#C8D4E3"
             },
             "line": {
              "color": "white"
             }
            },
            "type": "table"
           }
          ]
         },
         "layout": {
          "annotationdefaults": {
           "arrowcolor": "#2a3f5f",
           "arrowhead": 0,
           "arrowwidth": 1
          },
          "autotypenumbers": "strict",
          "coloraxis": {
           "colorbar": {
            "outlinewidth": 0,
            "ticks": ""
           }
          },
          "colorscale": {
           "diverging": [
            [
             0,
             "#8e0152"
            ],
            [
             0.1,
             "#c51b7d"
            ],
            [
             0.2,
             "#de77ae"
            ],
            [
             0.3,
             "#f1b6da"
            ],
            [
             0.4,
             "#fde0ef"
            ],
            [
             0.5,
             "#f7f7f7"
            ],
            [
             0.6,
             "#e6f5d0"
            ],
            [
             0.7,
             "#b8e186"
            ],
            [
             0.8,
             "#7fbc41"
            ],
            [
             0.9,
             "#4d9221"
            ],
            [
             1,
             "#276419"
            ]
           ],
           "sequential": [
            [
             0,
             "#0d0887"
            ],
            [
             0.1111111111111111,
             "#46039f"
            ],
            [
             0.2222222222222222,
             "#7201a8"
            ],
            [
             0.3333333333333333,
             "#9c179e"
            ],
            [
             0.4444444444444444,
             "#bd3786"
            ],
            [
             0.5555555555555556,
             "#d8576b"
            ],
            [
             0.6666666666666666,
             "#ed7953"
            ],
            [
             0.7777777777777778,
             "#fb9f3a"
            ],
            [
             0.8888888888888888,
             "#fdca26"
            ],
            [
             1,
             "#f0f921"
            ]
           ],
           "sequentialminus": [
            [
             0,
             "#0d0887"
            ],
            [
             0.1111111111111111,
             "#46039f"
            ],
            [
             0.2222222222222222,
             "#7201a8"
            ],
            [
             0.3333333333333333,
             "#9c179e"
            ],
            [
             0.4444444444444444,
             "#bd3786"
            ],
            [
             0.5555555555555556,
             "#d8576b"
            ],
            [
             0.6666666666666666,
             "#ed7953"
            ],
            [
             0.7777777777777778,
             "#fb9f3a"
            ],
            [
             0.8888888888888888,
             "#fdca26"
            ],
            [
             1,
             "#f0f921"
            ]
           ]
          },
          "colorway": [
           "#636efa",
           "#EF553B",
           "#00cc96",
           "#ab63fa",
           "#FFA15A",
           "#19d3f3",
           "#FF6692",
           "#B6E880",
           "#FF97FF",
           "#FECB52"
          ],
          "font": {
           "color": "#2a3f5f"
          },
          "geo": {
           "bgcolor": "white",
           "lakecolor": "white",
           "landcolor": "#E5ECF6",
           "showlakes": true,
           "showland": true,
           "subunitcolor": "white"
          },
          "hoverlabel": {
           "align": "left"
          },
          "hovermode": "closest",
          "mapbox": {
           "style": "light"
          },
          "paper_bgcolor": "white",
          "plot_bgcolor": "#E5ECF6",
          "polar": {
           "angularaxis": {
            "gridcolor": "white",
            "linecolor": "white",
            "ticks": ""
           },
           "bgcolor": "#E5ECF6",
           "radialaxis": {
            "gridcolor": "white",
            "linecolor": "white",
            "ticks": ""
           }
          },
          "scene": {
           "xaxis": {
            "backgroundcolor": "#E5ECF6",
            "gridcolor": "white",
            "gridwidth": 2,
            "linecolor": "white",
            "showbackground": true,
            "ticks": "",
            "zerolinecolor": "white"
           },
           "yaxis": {
            "backgroundcolor": "#E5ECF6",
            "gridcolor": "white",
            "gridwidth": 2,
            "linecolor": "white",
            "showbackground": true,
            "ticks": "",
            "zerolinecolor": "white"
           },
           "zaxis": {
            "backgroundcolor": "#E5ECF6",
            "gridcolor": "white",
            "gridwidth": 2,
            "linecolor": "white",
            "showbackground": true,
            "ticks": "",
            "zerolinecolor": "white"
           }
          },
          "shapedefaults": {
           "line": {
            "color": "#2a3f5f"
           }
          },
          "ternary": {
           "aaxis": {
            "gridcolor": "white",
            "linecolor": "white",
            "ticks": ""
           },
           "baxis": {
            "gridcolor": "white",
            "linecolor": "white",
            "ticks": ""
           },
           "bgcolor": "#E5ECF6",
           "caxis": {
            "gridcolor": "white",
            "linecolor": "white",
            "ticks": ""
           }
          },
          "title": {
           "x": 0.05
          },
          "xaxis": {
           "automargin": true,
           "gridcolor": "white",
           "linecolor": "white",
           "ticks": "",
           "title": {
            "standoff": 15
           },
           "zerolinecolor": "white",
           "zerolinewidth": 2
          },
          "yaxis": {
           "automargin": true,
           "gridcolor": "white",
           "linecolor": "white",
           "ticks": "",
           "title": {
            "standoff": 15
           },
           "zerolinecolor": "white",
           "zerolinewidth": 2
          }
         }
        },
        "xaxis": {
         "title": {
          "text": "Metric"
         }
        },
        "yaxis": {
         "range": [
          0,
          1
         ],
         "title": {
          "text": "Normalized Value"
         }
        }
       }
      },
      "text/html": [
       "<div>                            <div id=\"6f97c51e-1a4a-42c3-8c7e-4ff47853966f\" class=\"plotly-graph-div\" style=\"height:525px; width:100%;\"></div>            <script type=\"text/javascript\">                require([\"plotly\"], function(Plotly) {                    window.PLOTLYENV=window.PLOTLYENV || {};                                    if (document.getElementById(\"6f97c51e-1a4a-42c3-8c7e-4ff47853966f\")) {                    Plotly.newPlot(                        \"6f97c51e-1a4a-42c3-8c7e-4ff47853966f\",                        [{\"name\":\"RXNRECer\",\"x\":[\"Enzyme\",\"Non-Enzyme\",\"No-Prediction\",\"Partial-EC\",\"Fully-Annotated\"],\"y\":[0.2569357855361596,0.8127344016365496,0.0,0.0,0.2569357855361596],\"type\":\"bar\"},{\"name\":\"RXNRECer2EC\",\"x\":[\"Enzyme\",\"Non-Enzyme\",\"No-Prediction\",\"Partial-EC\",\"Fully-Annotated\"],\"y\":[0.2569357855361596,0.8127344016365496,0.0,0.7416798732171157,0.1839931421446384],\"type\":\"bar\"},{\"name\":\"ECRECer\",\"x\":[\"Enzyme\",\"Non-Enzyme\",\"No-Prediction\",\"Partial-EC\",\"Fully-Annotated\"],\"y\":[0.35349127182044887,0.7071258097511081,0.0,1.0,0.255143391521197],\"type\":\"bar\"},{\"name\":\"MSA_EC\",\"x\":[\"Enzyme\",\"Non-Enzyme\",\"No-Prediction\",\"Partial-EC\",\"Fully-Annotated\"],\"y\":[0.20557980049875313,0.31955335833617454,0.5439736664415935,0.3193343898573692,0.17417394014962592],\"type\":\"bar\"},{\"name\":\"MSA_RXN\",\"x\":[\"Enzyme\",\"Non-Enzyme\",\"No-Prediction\",\"Partial-EC\",\"Fully-Annotated\"],\"y\":[0.2143079800498753,0.3100068189566996,0.5439736664415935,0.0,0.2143079800498753],\"type\":\"bar\"},{\"name\":\"deepec\",\"x\":[\"Enzyme\",\"Non-Enzyme\",\"No-Prediction\",\"Partial-EC\",\"Fully-Annotated\"],\"y\":[0.07668329177057356,0.0,1.0,0.0,0.07668329177057356],\"type\":\"bar\"},{\"name\":\"catfam\",\"x\":[\"Enzyme\",\"Non-Enzyme\",\"No-Prediction\",\"Partial-EC\",\"Fully-Annotated\"],\"y\":[0.08572319201995013,1.0,0.0,0.0,0.08572319201995013],\"type\":\"bar\"},{\"name\":\"clean\",\"x\":[\"Enzyme\",\"Non-Enzyme\",\"No-Prediction\",\"Partial-EC\",\"Fully-Annotated\"],\"y\":[1.0,0.0,0.0,0.0,1.0],\"type\":\"bar\"}],                        {\"template\":{\"data\":{\"histogram2dcontour\":[{\"type\":\"histogram2dcontour\",\"colorbar\":{\"outlinewidth\":0,\"ticks\":\"\"},\"colorscale\":[[0.0,\"#0d0887\"],[0.1111111111111111,\"#46039f\"],[0.2222222222222222,\"#7201a8\"],[0.3333333333333333,\"#9c179e\"],[0.4444444444444444,\"#bd3786\"],[0.5555555555555556,\"#d8576b\"],[0.6666666666666666,\"#ed7953\"],[0.7777777777777778,\"#fb9f3a\"],[0.8888888888888888,\"#fdca26\"],[1.0,\"#f0f921\"]]}],\"choropleth\":[{\"type\":\"choropleth\",\"colorbar\":{\"outlinewidth\":0,\"ticks\":\"\"}}],\"histogram2d\":[{\"type\":\"histogram2d\",\"colorbar\":{\"outlinewidth\":0,\"ticks\":\"\"},\"colorscale\":[[0.0,\"#0d0887\"],[0.1111111111111111,\"#46039f\"],[0.2222222222222222,\"#7201a8\"],[0.3333333333333333,\"#9c179e\"],[0.4444444444444444,\"#bd3786\"],[0.5555555555555556,\"#d8576b\"],[0.6666666666666666,\"#ed7953\"],[0.7777777777777778,\"#fb9f3a\"],[0.8888888888888888,\"#fdca26\"],[1.0,\"#f0f921\"]]}],\"heatmap\":[{\"type\":\"heatmap\",\"colorbar\":{\"outlinewidth\":0,\"ticks\":\"\"},\"colorscale\":[[0.0,\"#0d0887\"],[0.1111111111111111,\"#46039f\"],[0.2222222222222222,\"#7201a8\"],[0.3333333333333333,\"#9c179e\"],[0.4444444444444444,\"#bd3786\"],[0.5555555555555556,\"#d8576b\"],[0.6666666666666666,\"#ed7953\"],[0.7777777777777778,\"#fb9f3a\"],[0.8888888888888888,\"#fdca26\"],[1.0,\"#f0f921\"]]}],\"heatmapgl\":[{\"type\":\"heatmapgl\",\"colorbar\":{\"outlinewidth\":0,\"ticks\":\"\"},\"colorscale\":[[0.0,\"#0d0887\"],[0.1111111111111111,\"#46039f\"],[0.2222222222222222,\"#7201a8\"],[0.3333333333333333,\"#9c179e\"],[0.4444444444444444,\"#bd3786\"],[0.5555555555555556,\"#d8576b\"],[0.6666666666666666,\"#ed7953\"],[0.7777777777777778,\"#fb9f3a\"],[0.8888888888888888,\"#fdca26\"],[1.0,\"#f0f921\"]]}],\"contourcarpet\":[{\"type\":\"contourcarpet\",\"colorbar\":{\"outlinewidth\":0,\"ticks\":\"\"}}],\"contour\":[{\"type\":\"contour\",\"colorbar\":{\"outlinewidth\":0,\"ticks\":\"\"},\"colorscale\":[[0.0,\"#0d0887\"],[0.1111111111111111,\"#46039f\"],[0.2222222222222222,\"#7201a8\"],[0.3333333333333333,\"#9c179e\"],[0.4444444444444444,\"#bd3786\"],[0.5555555555555556,\"#d8576b\"],[0.6666666666666666,\"#ed7953\"],[0.7777777777777778,\"#fb9f3a\"],[0.8888888888888888,\"#fdca26\"],[1.0,\"#f0f921\"]]}],\"surface\":[{\"type\":\"surface\",\"colorbar\":{\"outlinewidth\":0,\"ticks\":\"\"},\"colorscale\":[[0.0,\"#0d0887\"],[0.1111111111111111,\"#46039f\"],[0.2222222222222222,\"#7201a8\"],[0.3333333333333333,\"#9c179e\"],[0.4444444444444444,\"#bd3786\"],[0.5555555555555556,\"#d8576b\"],[0.6666666666666666,\"#ed7953\"],[0.7777777777777778,\"#fb9f3a\"],[0.8888888888888888,\"#fdca26\"],[1.0,\"#f0f921\"]]}],\"mesh3d\":[{\"type\":\"mesh3d\",\"colorbar\":{\"outlinewidth\":0,\"ticks\":\"\"}}],\"scatter\":[{\"fillpattern\":{\"fillmode\":\"overlay\",\"size\":10,\"solidity\":0.2},\"type\":\"scatter\"}],\"parcoords\":[{\"type\":\"parcoords\",\"line\":{\"colorbar\":{\"outlinewidth\":0,\"ticks\":\"\"}}}],\"scatterpolargl\":[{\"type\":\"scatterpolargl\",\"marker\":{\"colorbar\":{\"outlinewidth\":0,\"ticks\":\"\"}}}],\"bar\":[{\"error_x\":{\"color\":\"#2a3f5f\"},\"error_y\":{\"color\":\"#2a3f5f\"},\"marker\":{\"line\":{\"color\":\"#E5ECF6\",\"width\":0.5},\"pattern\":{\"fillmode\":\"overlay\",\"size\":10,\"solidity\":0.2}},\"type\":\"bar\"}],\"scattergeo\":[{\"type\":\"scattergeo\",\"marker\":{\"colorbar\":{\"outlinewidth\":0,\"ticks\":\"\"}}}],\"scatterpolar\":[{\"type\":\"scatterpolar\",\"marker\":{\"colorbar\":{\"outlinewidth\":0,\"ticks\":\"\"}}}],\"histogram\":[{\"marker\":{\"pattern\":{\"fillmode\":\"overlay\",\"size\":10,\"solidity\":0.2}},\"type\":\"histogram\"}],\"scattergl\":[{\"type\":\"scattergl\",\"marker\":{\"colorbar\":{\"outlinewidth\":0,\"ticks\":\"\"}}}],\"scatter3d\":[{\"type\":\"scatter3d\",\"line\":{\"colorbar\":{\"outlinewidth\":0,\"ticks\":\"\"}},\"marker\":{\"colorbar\":{\"outlinewidth\":0,\"ticks\":\"\"}}}],\"scattermapbox\":[{\"type\":\"scattermapbox\",\"marker\":{\"colorbar\":{\"outlinewidth\":0,\"ticks\":\"\"}}}],\"scatterternary\":[{\"type\":\"scatterternary\",\"marker\":{\"colorbar\":{\"outlinewidth\":0,\"ticks\":\"\"}}}],\"scattercarpet\":[{\"type\":\"scattercarpet\",\"marker\":{\"colorbar\":{\"outlinewidth\":0,\"ticks\":\"\"}}}],\"carpet\":[{\"aaxis\":{\"endlinecolor\":\"#2a3f5f\",\"gridcolor\":\"white\",\"linecolor\":\"white\",\"minorgridcolor\":\"white\",\"startlinecolor\":\"#2a3f5f\"},\"baxis\":{\"endlinecolor\":\"#2a3f5f\",\"gridcolor\":\"white\",\"linecolor\":\"white\",\"minorgridcolor\":\"white\",\"startlinecolor\":\"#2a3f5f\"},\"type\":\"carpet\"}],\"table\":[{\"cells\":{\"fill\":{\"color\":\"#EBF0F8\"},\"line\":{\"color\":\"white\"}},\"header\":{\"fill\":{\"color\":\"#C8D4E3\"},\"line\":{\"color\":\"white\"}},\"type\":\"table\"}],\"barpolar\":[{\"marker\":{\"line\":{\"color\":\"#E5ECF6\",\"width\":0.5},\"pattern\":{\"fillmode\":\"overlay\",\"size\":10,\"solidity\":0.2}},\"type\":\"barpolar\"}],\"pie\":[{\"automargin\":true,\"type\":\"pie\"}]},\"layout\":{\"autotypenumbers\":\"strict\",\"colorway\":[\"#636efa\",\"#EF553B\",\"#00cc96\",\"#ab63fa\",\"#FFA15A\",\"#19d3f3\",\"#FF6692\",\"#B6E880\",\"#FF97FF\",\"#FECB52\"],\"font\":{\"color\":\"#2a3f5f\"},\"hovermode\":\"closest\",\"hoverlabel\":{\"align\":\"left\"},\"paper_bgcolor\":\"white\",\"plot_bgcolor\":\"#E5ECF6\",\"polar\":{\"bgcolor\":\"#E5ECF6\",\"angularaxis\":{\"gridcolor\":\"white\",\"linecolor\":\"white\",\"ticks\":\"\"},\"radialaxis\":{\"gridcolor\":\"white\",\"linecolor\":\"white\",\"ticks\":\"\"}},\"ternary\":{\"bgcolor\":\"#E5ECF6\",\"aaxis\":{\"gridcolor\":\"white\",\"linecolor\":\"white\",\"ticks\":\"\"},\"baxis\":{\"gridcolor\":\"white\",\"linecolor\":\"white\",\"ticks\":\"\"},\"caxis\":{\"gridcolor\":\"white\",\"linecolor\":\"white\",\"ticks\":\"\"}},\"coloraxis\":{\"colorbar\":{\"outlinewidth\":0,\"ticks\":\"\"}},\"colorscale\":{\"sequential\":[[0.0,\"#0d0887\"],[0.1111111111111111,\"#46039f\"],[0.2222222222222222,\"#7201a8\"],[0.3333333333333333,\"#9c179e\"],[0.4444444444444444,\"#bd3786\"],[0.5555555555555556,\"#d8576b\"],[0.6666666666666666,\"#ed7953\"],[0.7777777777777778,\"#fb9f3a\"],[0.8888888888888888,\"#fdca26\"],[1.0,\"#f0f921\"]],\"sequentialminus\":[[0.0,\"#0d0887\"],[0.1111111111111111,\"#46039f\"],[0.2222222222222222,\"#7201a8\"],[0.3333333333333333,\"#9c179e\"],[0.4444444444444444,\"#bd3786\"],[0.5555555555555556,\"#d8576b\"],[0.6666666666666666,\"#ed7953\"],[0.7777777777777778,\"#fb9f3a\"],[0.8888888888888888,\"#fdca26\"],[1.0,\"#f0f921\"]],\"diverging\":[[0,\"#8e0152\"],[0.1,\"#c51b7d\"],[0.2,\"#de77ae\"],[0.3,\"#f1b6da\"],[0.4,\"#fde0ef\"],[0.5,\"#f7f7f7\"],[0.6,\"#e6f5d0\"],[0.7,\"#b8e186\"],[0.8,\"#7fbc41\"],[0.9,\"#4d9221\"],[1,\"#276419\"]]},\"xaxis\":{\"gridcolor\":\"white\",\"linecolor\":\"white\",\"ticks\":\"\",\"title\":{\"standoff\":15},\"zerolinecolor\":\"white\",\"automargin\":true,\"zerolinewidth\":2},\"yaxis\":{\"gridcolor\":\"white\",\"linecolor\":\"white\",\"ticks\":\"\",\"title\":{\"standoff\":15},\"zerolinecolor\":\"white\",\"automargin\":true,\"zerolinewidth\":2},\"scene\":{\"xaxis\":{\"backgroundcolor\":\"#E5ECF6\",\"gridcolor\":\"white\",\"linecolor\":\"white\",\"showbackground\":true,\"ticks\":\"\",\"zerolinecolor\":\"white\",\"gridwidth\":2},\"yaxis\":{\"backgroundcolor\":\"#E5ECF6\",\"gridcolor\":\"white\",\"linecolor\":\"white\",\"showbackground\":true,\"ticks\":\"\",\"zerolinecolor\":\"white\",\"gridwidth\":2},\"zaxis\":{\"backgroundcolor\":\"#E5ECF6\",\"gridcolor\":\"white\",\"linecolor\":\"white\",\"showbackground\":true,\"ticks\":\"\",\"zerolinecolor\":\"white\",\"gridwidth\":2}},\"shapedefaults\":{\"line\":{\"color\":\"#2a3f5f\"}},\"annotationdefaults\":{\"arrowcolor\":\"#2a3f5f\",\"arrowhead\":0,\"arrowwidth\":1},\"geo\":{\"bgcolor\":\"white\",\"landcolor\":\"#E5ECF6\",\"subunitcolor\":\"white\",\"showland\":true,\"showlakes\":true,\"lakecolor\":\"white\"},\"title\":{\"x\":0.05},\"mapbox\":{\"style\":\"light\"}}},\"yaxis\":{\"title\":{\"text\":\"Normalized Value\"},\"range\":[0,1]},\"font\":{\"size\":12},\"margin\":{\"l\":40,\"r\":40,\"t\":40,\"b\":40},\"barmode\":\"group\",\"xaxis\":{\"title\":{\"text\":\"Metric\"}},\"legend\":{\"title\":{\"text\":\"Method\"}},\"bargap\":0.15,\"bargroupgap\":0.05},                        {\"responsive\": true}                    ).then(function(){\n",
       "                            \n",
       "var gd = document.getElementById('6f97c51e-1a4a-42c3-8c7e-4ff47853966f');\n",
       "var x = new MutationObserver(function (mutations, observer) {{\n",
       "        var display = window.getComputedStyle(gd).display;\n",
       "        if (!display || display === 'none') {{\n",
       "            console.log([gd, 'removed!']);\n",
       "            Plotly.purge(gd);\n",
       "            observer.disconnect();\n",
       "        }}\n",
       "}});\n",
       "\n",
       "// Listen for the removal of the full notebook cells\n",
       "var notebookContainer = gd.closest('#notebook-container');\n",
       "if (notebookContainer) {{\n",
       "    x.observe(notebookContainer, {childList: true});\n",
       "}}\n",
       "\n",
       "// Listen for the clearing of the current output cell\n",
       "var outputEl = gd.closest('.output');\n",
       "if (outputEl) {{\n",
       "    x.observe(outputEl, {childList: true});\n",
       "}}\n",
       "\n",
       "                        })                };                });            </script>        </div>"
      ]
     },
     "metadata": {},
     "output_type": "display_data"
    }
   ],
   "source": [
    "# 横轴为指标，按方法分组\n",
    "import plotly.graph_objects as go\n",
    "\n",
    "# 需要绘制的指标列\n",
    "metrics = ['Enzyme', 'Non-Enzyme', 'No-Prediction', 'Partial-EC', 'Fully-Annotated']\n",
    "\n",
    "# 复制并对每列归一化（列方向 max 归一）\n",
    "df_scaled = df_stat.copy()\n",
    "for col in metrics:\n",
    "    max_val = df_scaled[col].max()\n",
    "    df_scaled[col] = df_scaled[col] / max_val if max_val > 0 else 0\n",
    "\n",
    "# 分组柱状图绘制\n",
    "fig = go.Figure()\n",
    "for method in df_scaled['Method']:\n",
    "    fig.add_trace(go.Bar(\n",
    "        name=method,\n",
    "        x=metrics,\n",
    "        y=df_scaled[df_scaled['Method'] == method][metrics].values[0],\n",
    "    ))\n",
    "\n",
    "fig.update_layout(\n",
    "    barmode='group',\n",
    "    xaxis_title='Metric',\n",
    "    yaxis_title='Normalized Value',\n",
    "    yaxis=dict(range=[0, 1]),\n",
    "    legend_title='Method',\n",
    "    font=dict(size=12),\n",
    "    margin=dict(l=40, r=40, t=40, b=40),\n",
    "    bargap=0.15,\n",
    "    bargroupgap=0.05\n",
    ")\n",
    "\n",
    "fig.show()"
   ]
  },
  {
   "cell_type": "code",
   "execution_count": 57,
   "metadata": {},
   "outputs": [
    {
     "data": {
      "application/vnd.plotly.v1+json": {
       "config": {
        "plotlyServerURL": "https://plot.ly"
       },
       "data": [
        {
         "name": "Enzyme",
         "text": [
          "25.7%",
          "25.7%",
          "35.3%",
          "20.6%",
          "21.4%",
          "7.7%",
          "8.6%",
          "100.0%"
         ],
         "textposition": "inside",
         "type": "bar",
         "x": [
          "RXNRECer",
          "RXNRECer2EC",
          "ECRECer",
          "MSA_EC",
          "MSA_RXN",
          "deepec",
          "catfam",
          "clean"
         ],
         "y": [
          0.2569357855361596,
          0.2569357855361596,
          0.35349127182044887,
          0.20557980049875313,
          0.2143079800498753,
          0.07668329177057356,
          0.08572319201995013,
          1
         ]
        },
        {
         "name": "Non-Enzyme",
         "text": [
          "74.3%",
          "74.3%",
          "64.7%",
          "29.2%",
          "28.3%",
          "0.0%",
          "91.4%",
          "0.0%"
         ],
         "textposition": "inside",
         "type": "bar",
         "x": [
          "RXNRECer",
          "RXNRECer2EC",
          "ECRECer",
          "MSA_EC",
          "MSA_RXN",
          "deepec",
          "catfam",
          "clean"
         ],
         "y": [
          0.7430642144638404,
          0.7430642144638404,
          0.6465087281795511,
          0.2921602244389027,
          0.28343204488778057,
          0,
          0.9142768079800498,
          0
         ]
        },
        {
         "name": "No-Prediction",
         "text": [
          "0.0%",
          "0.0%",
          "0.0%",
          "50.2%",
          "50.2%",
          "92.3%",
          "0.0%",
          "0.0%"
         ],
         "textposition": "inside",
         "type": "bar",
         "x": [
          "RXNRECer",
          "RXNRECer2EC",
          "ECRECer",
          "MSA_EC",
          "MSA_RXN",
          "deepec",
          "catfam",
          "clean"
         ],
         "y": [
          0,
          0,
          0,
          0.5022599750623441,
          0.5022599750623441,
          0.9233167082294265,
          0,
          0
         ]
        },
        {
         "name": "Partial-EC",
         "text": [
          "0.0%",
          "7.3%",
          "9.8%",
          "3.1%",
          "0.0%",
          "0.0%",
          "0.0%",
          "0.0%"
         ],
         "textposition": "inside",
         "type": "bar",
         "x": [
          "RXNRECer",
          "RXNRECer2EC",
          "ECRECer",
          "MSA_EC",
          "MSA_RXN",
          "deepec",
          "catfam",
          "clean"
         ],
         "y": [
          0,
          0.07294264339152119,
          0.09834788029925187,
          0.03140586034912718,
          0,
          0,
          0,
          0
         ]
        },
        {
         "name": "Fully-Annotated",
         "text": [
          "25.7%",
          "18.4%",
          "25.5%",
          "17.4%",
          "21.4%",
          "7.7%",
          "8.6%",
          "100.0%"
         ],
         "textposition": "inside",
         "type": "bar",
         "x": [
          "RXNRECer",
          "RXNRECer2EC",
          "ECRECer",
          "MSA_EC",
          "MSA_RXN",
          "deepec",
          "catfam",
          "clean"
         ],
         "y": [
          0.2569357855361596,
          0.1839931421446384,
          0.255143391521197,
          0.17417394014962592,
          0.2143079800498753,
          0.07668329177057356,
          0.08572319201995013,
          1
         ]
        }
       ],
       "layout": {
        "barmode": "stack",
        "height": 500,
        "legend": {
         "title": {
          "text": "Metric"
         }
        },
        "template": {
         "data": {
          "bar": [
           {
            "error_x": {
             "color": "#2a3f5f"
            },
            "error_y": {
             "color": "#2a3f5f"
            },
            "marker": {
             "line": {
              "color": "#E5ECF6",
              "width": 0.5
             },
             "pattern": {
              "fillmode": "overlay",
              "size": 10,
              "solidity": 0.2
             }
            },
            "type": "bar"
           }
          ],
          "barpolar": [
           {
            "marker": {
             "line": {
              "color": "#E5ECF6",
              "width": 0.5
             },
             "pattern": {
              "fillmode": "overlay",
              "size": 10,
              "solidity": 0.2
             }
            },
            "type": "barpolar"
           }
          ],
          "carpet": [
           {
            "aaxis": {
             "endlinecolor": "#2a3f5f",
             "gridcolor": "white",
             "linecolor": "white",
             "minorgridcolor": "white",
             "startlinecolor": "#2a3f5f"
            },
            "baxis": {
             "endlinecolor": "#2a3f5f",
             "gridcolor": "white",
             "linecolor": "white",
             "minorgridcolor": "white",
             "startlinecolor": "#2a3f5f"
            },
            "type": "carpet"
           }
          ],
          "choropleth": [
           {
            "colorbar": {
             "outlinewidth": 0,
             "ticks": ""
            },
            "type": "choropleth"
           }
          ],
          "contour": [
           {
            "colorbar": {
             "outlinewidth": 0,
             "ticks": ""
            },
            "colorscale": [
             [
              0,
              "#0d0887"
             ],
             [
              0.1111111111111111,
              "#46039f"
             ],
             [
              0.2222222222222222,
              "#7201a8"
             ],
             [
              0.3333333333333333,
              "#9c179e"
             ],
             [
              0.4444444444444444,
              "#bd3786"
             ],
             [
              0.5555555555555556,
              "#d8576b"
             ],
             [
              0.6666666666666666,
              "#ed7953"
             ],
             [
              0.7777777777777778,
              "#fb9f3a"
             ],
             [
              0.8888888888888888,
              "#fdca26"
             ],
             [
              1,
              "#f0f921"
             ]
            ],
            "type": "contour"
           }
          ],
          "contourcarpet": [
           {
            "colorbar": {
             "outlinewidth": 0,
             "ticks": ""
            },
            "type": "contourcarpet"
           }
          ],
          "heatmap": [
           {
            "colorbar": {
             "outlinewidth": 0,
             "ticks": ""
            },
            "colorscale": [
             [
              0,
              "#0d0887"
             ],
             [
              0.1111111111111111,
              "#46039f"
             ],
             [
              0.2222222222222222,
              "#7201a8"
             ],
             [
              0.3333333333333333,
              "#9c179e"
             ],
             [
              0.4444444444444444,
              "#bd3786"
             ],
             [
              0.5555555555555556,
              "#d8576b"
             ],
             [
              0.6666666666666666,
              "#ed7953"
             ],
             [
              0.7777777777777778,
              "#fb9f3a"
             ],
             [
              0.8888888888888888,
              "#fdca26"
             ],
             [
              1,
              "#f0f921"
             ]
            ],
            "type": "heatmap"
           }
          ],
          "heatmapgl": [
           {
            "colorbar": {
             "outlinewidth": 0,
             "ticks": ""
            },
            "colorscale": [
             [
              0,
              "#0d0887"
             ],
             [
              0.1111111111111111,
              "#46039f"
             ],
             [
              0.2222222222222222,
              "#7201a8"
             ],
             [
              0.3333333333333333,
              "#9c179e"
             ],
             [
              0.4444444444444444,
              "#bd3786"
             ],
             [
              0.5555555555555556,
              "#d8576b"
             ],
             [
              0.6666666666666666,
              "#ed7953"
             ],
             [
              0.7777777777777778,
              "#fb9f3a"
             ],
             [
              0.8888888888888888,
              "#fdca26"
             ],
             [
              1,
              "#f0f921"
             ]
            ],
            "type": "heatmapgl"
           }
          ],
          "histogram": [
           {
            "marker": {
             "pattern": {
              "fillmode": "overlay",
              "size": 10,
              "solidity": 0.2
             }
            },
            "type": "histogram"
           }
          ],
          "histogram2d": [
           {
            "colorbar": {
             "outlinewidth": 0,
             "ticks": ""
            },
            "colorscale": [
             [
              0,
              "#0d0887"
             ],
             [
              0.1111111111111111,
              "#46039f"
             ],
             [
              0.2222222222222222,
              "#7201a8"
             ],
             [
              0.3333333333333333,
              "#9c179e"
             ],
             [
              0.4444444444444444,
              "#bd3786"
             ],
             [
              0.5555555555555556,
              "#d8576b"
             ],
             [
              0.6666666666666666,
              "#ed7953"
             ],
             [
              0.7777777777777778,
              "#fb9f3a"
             ],
             [
              0.8888888888888888,
              "#fdca26"
             ],
             [
              1,
              "#f0f921"
             ]
            ],
            "type": "histogram2d"
           }
          ],
          "histogram2dcontour": [
           {
            "colorbar": {
             "outlinewidth": 0,
             "ticks": ""
            },
            "colorscale": [
             [
              0,
              "#0d0887"
             ],
             [
              0.1111111111111111,
              "#46039f"
             ],
             [
              0.2222222222222222,
              "#7201a8"
             ],
             [
              0.3333333333333333,
              "#9c179e"
             ],
             [
              0.4444444444444444,
              "#bd3786"
             ],
             [
              0.5555555555555556,
              "#d8576b"
             ],
             [
              0.6666666666666666,
              "#ed7953"
             ],
             [
              0.7777777777777778,
              "#fb9f3a"
             ],
             [
              0.8888888888888888,
              "#fdca26"
             ],
             [
              1,
              "#f0f921"
             ]
            ],
            "type": "histogram2dcontour"
           }
          ],
          "mesh3d": [
           {
            "colorbar": {
             "outlinewidth": 0,
             "ticks": ""
            },
            "type": "mesh3d"
           }
          ],
          "parcoords": [
           {
            "line": {
             "colorbar": {
              "outlinewidth": 0,
              "ticks": ""
             }
            },
            "type": "parcoords"
           }
          ],
          "pie": [
           {
            "automargin": true,
            "type": "pie"
           }
          ],
          "scatter": [
           {
            "fillpattern": {
             "fillmode": "overlay",
             "size": 10,
             "solidity": 0.2
            },
            "type": "scatter"
           }
          ],
          "scatter3d": [
           {
            "line": {
             "colorbar": {
              "outlinewidth": 0,
              "ticks": ""
             }
            },
            "marker": {
             "colorbar": {
              "outlinewidth": 0,
              "ticks": ""
             }
            },
            "type": "scatter3d"
           }
          ],
          "scattercarpet": [
           {
            "marker": {
             "colorbar": {
              "outlinewidth": 0,
              "ticks": ""
             }
            },
            "type": "scattercarpet"
           }
          ],
          "scattergeo": [
           {
            "marker": {
             "colorbar": {
              "outlinewidth": 0,
              "ticks": ""
             }
            },
            "type": "scattergeo"
           }
          ],
          "scattergl": [
           {
            "marker": {
             "colorbar": {
              "outlinewidth": 0,
              "ticks": ""
             }
            },
            "type": "scattergl"
           }
          ],
          "scattermapbox": [
           {
            "marker": {
             "colorbar": {
              "outlinewidth": 0,
              "ticks": ""
             }
            },
            "type": "scattermapbox"
           }
          ],
          "scatterpolar": [
           {
            "marker": {
             "colorbar": {
              "outlinewidth": 0,
              "ticks": ""
             }
            },
            "type": "scatterpolar"
           }
          ],
          "scatterpolargl": [
           {
            "marker": {
             "colorbar": {
              "outlinewidth": 0,
              "ticks": ""
             }
            },
            "type": "scatterpolargl"
           }
          ],
          "scatterternary": [
           {
            "marker": {
             "colorbar": {
              "outlinewidth": 0,
              "ticks": ""
             }
            },
            "type": "scatterternary"
           }
          ],
          "surface": [
           {
            "colorbar": {
             "outlinewidth": 0,
             "ticks": ""
            },
            "colorscale": [
             [
              0,
              "#0d0887"
             ],
             [
              0.1111111111111111,
              "#46039f"
             ],
             [
              0.2222222222222222,
              "#7201a8"
             ],
             [
              0.3333333333333333,
              "#9c179e"
             ],
             [
              0.4444444444444444,
              "#bd3786"
             ],
             [
              0.5555555555555556,
              "#d8576b"
             ],
             [
              0.6666666666666666,
              "#ed7953"
             ],
             [
              0.7777777777777778,
              "#fb9f3a"
             ],
             [
              0.8888888888888888,
              "#fdca26"
             ],
             [
              1,
              "#f0f921"
             ]
            ],
            "type": "surface"
           }
          ],
          "table": [
           {
            "cells": {
             "fill": {
              "color": "#EBF0F8"
             },
             "line": {
              "color": "white"
             }
            },
            "header": {
             "fill": {
              "color": "#C8D4E3"
             },
             "line": {
              "color": "white"
             }
            },
            "type": "table"
           }
          ]
         },
         "layout": {
          "annotationdefaults": {
           "arrowcolor": "#2a3f5f",
           "arrowhead": 0,
           "arrowwidth": 1
          },
          "autotypenumbers": "strict",
          "coloraxis": {
           "colorbar": {
            "outlinewidth": 0,
            "ticks": ""
           }
          },
          "colorscale": {
           "diverging": [
            [
             0,
             "#8e0152"
            ],
            [
             0.1,
             "#c51b7d"
            ],
            [
             0.2,
             "#de77ae"
            ],
            [
             0.3,
             "#f1b6da"
            ],
            [
             0.4,
             "#fde0ef"
            ],
            [
             0.5,
             "#f7f7f7"
            ],
            [
             0.6,
             "#e6f5d0"
            ],
            [
             0.7,
             "#b8e186"
            ],
            [
             0.8,
             "#7fbc41"
            ],
            [
             0.9,
             "#4d9221"
            ],
            [
             1,
             "#276419"
            ]
           ],
           "sequential": [
            [
             0,
             "#0d0887"
            ],
            [
             0.1111111111111111,
             "#46039f"
            ],
            [
             0.2222222222222222,
             "#7201a8"
            ],
            [
             0.3333333333333333,
             "#9c179e"
            ],
            [
             0.4444444444444444,
             "#bd3786"
            ],
            [
             0.5555555555555556,
             "#d8576b"
            ],
            [
             0.6666666666666666,
             "#ed7953"
            ],
            [
             0.7777777777777778,
             "#fb9f3a"
            ],
            [
             0.8888888888888888,
             "#fdca26"
            ],
            [
             1,
             "#f0f921"
            ]
           ],
           "sequentialminus": [
            [
             0,
             "#0d0887"
            ],
            [
             0.1111111111111111,
             "#46039f"
            ],
            [
             0.2222222222222222,
             "#7201a8"
            ],
            [
             0.3333333333333333,
             "#9c179e"
            ],
            [
             0.4444444444444444,
             "#bd3786"
            ],
            [
             0.5555555555555556,
             "#d8576b"
            ],
            [
             0.6666666666666666,
             "#ed7953"
            ],
            [
             0.7777777777777778,
             "#fb9f3a"
            ],
            [
             0.8888888888888888,
             "#fdca26"
            ],
            [
             1,
             "#f0f921"
            ]
           ]
          },
          "colorway": [
           "#636efa",
           "#EF553B",
           "#00cc96",
           "#ab63fa",
           "#FFA15A",
           "#19d3f3",
           "#FF6692",
           "#B6E880",
           "#FF97FF",
           "#FECB52"
          ],
          "font": {
           "color": "#2a3f5f"
          },
          "geo": {
           "bgcolor": "white",
           "lakecolor": "white",
           "landcolor": "#E5ECF6",
           "showlakes": true,
           "showland": true,
           "subunitcolor": "white"
          },
          "hoverlabel": {
           "align": "left"
          },
          "hovermode": "closest",
          "mapbox": {
           "style": "light"
          },
          "paper_bgcolor": "white",
          "plot_bgcolor": "#E5ECF6",
          "polar": {
           "angularaxis": {
            "gridcolor": "white",
            "linecolor": "white",
            "ticks": ""
           },
           "bgcolor": "#E5ECF6",
           "radialaxis": {
            "gridcolor": "white",
            "linecolor": "white",
            "ticks": ""
           }
          },
          "scene": {
           "xaxis": {
            "backgroundcolor": "#E5ECF6",
            "gridcolor": "white",
            "gridwidth": 2,
            "linecolor": "white",
            "showbackground": true,
            "ticks": "",
            "zerolinecolor": "white"
           },
           "yaxis": {
            "backgroundcolor": "#E5ECF6",
            "gridcolor": "white",
            "gridwidth": 2,
            "linecolor": "white",
            "showbackground": true,
            "ticks": "",
            "zerolinecolor": "white"
           },
           "zaxis": {
            "backgroundcolor": "#E5ECF6",
            "gridcolor": "white",
            "gridwidth": 2,
            "linecolor": "white",
            "showbackground": true,
            "ticks": "",
            "zerolinecolor": "white"
           }
          },
          "shapedefaults": {
           "line": {
            "color": "#2a3f5f"
           }
          },
          "ternary": {
           "aaxis": {
            "gridcolor": "white",
            "linecolor": "white",
            "ticks": ""
           },
           "baxis": {
            "gridcolor": "white",
            "linecolor": "white",
            "ticks": ""
           },
           "bgcolor": "#E5ECF6",
           "caxis": {
            "gridcolor": "white",
            "linecolor": "white",
            "ticks": ""
           }
          },
          "title": {
           "x": 0.05
          },
          "xaxis": {
           "automargin": true,
           "gridcolor": "white",
           "linecolor": "white",
           "ticks": "",
           "title": {
            "standoff": 15
           },
           "zerolinecolor": "white",
           "zerolinewidth": 2
          },
          "yaxis": {
           "automargin": true,
           "gridcolor": "white",
           "linecolor": "white",
           "ticks": "",
           "title": {
            "standoff": 15
           },
           "zerolinecolor": "white",
           "zerolinewidth": 2
          }
         }
        },
        "title": {
         "text": "Normalized Coverage of Each Method (per Metric)"
        },
        "width": 800,
        "xaxis": {
         "title": {
          "text": "Method"
         }
        },
        "yaxis": {
         "range": [
          0,
          1
         ],
         "title": {
          "text": "Proportion (0-1)"
         }
        }
       }
      },
      "text/html": [
       "<div>                            <div id=\"3bd114f4-c312-4116-9490-bdef889990e4\" class=\"plotly-graph-div\" style=\"height:500px; width:800px;\"></div>            <script type=\"text/javascript\">                require([\"plotly\"], function(Plotly) {                    window.PLOTLYENV=window.PLOTLYENV || {};                                    if (document.getElementById(\"3bd114f4-c312-4116-9490-bdef889990e4\")) {                    Plotly.newPlot(                        \"3bd114f4-c312-4116-9490-bdef889990e4\",                        [{\"name\":\"Enzyme\",\"text\":[\"25.7%\",\"25.7%\",\"35.3%\",\"20.6%\",\"21.4%\",\"7.7%\",\"8.6%\",\"100.0%\"],\"textposition\":\"inside\",\"x\":[\"RXNRECer\",\"RXNRECer2EC\",\"ECRECer\",\"MSA_EC\",\"MSA_RXN\",\"deepec\",\"catfam\",\"clean\"],\"y\":[0.2569357855361596,0.2569357855361596,0.35349127182044887,0.20557980049875313,0.2143079800498753,0.07668329177057356,0.08572319201995013,1.0],\"type\":\"bar\"},{\"name\":\"Non-Enzyme\",\"text\":[\"74.3%\",\"74.3%\",\"64.7%\",\"29.2%\",\"28.3%\",\"0.0%\",\"91.4%\",\"0.0%\"],\"textposition\":\"inside\",\"x\":[\"RXNRECer\",\"RXNRECer2EC\",\"ECRECer\",\"MSA_EC\",\"MSA_RXN\",\"deepec\",\"catfam\",\"clean\"],\"y\":[0.7430642144638404,0.7430642144638404,0.6465087281795511,0.2921602244389027,0.28343204488778057,0.0,0.9142768079800498,0.0],\"type\":\"bar\"},{\"name\":\"No-Prediction\",\"text\":[\"0.0%\",\"0.0%\",\"0.0%\",\"50.2%\",\"50.2%\",\"92.3%\",\"0.0%\",\"0.0%\"],\"textposition\":\"inside\",\"x\":[\"RXNRECer\",\"RXNRECer2EC\",\"ECRECer\",\"MSA_EC\",\"MSA_RXN\",\"deepec\",\"catfam\",\"clean\"],\"y\":[0.0,0.0,0.0,0.5022599750623441,0.5022599750623441,0.9233167082294265,0.0,0.0],\"type\":\"bar\"},{\"name\":\"Partial-EC\",\"text\":[\"0.0%\",\"7.3%\",\"9.8%\",\"3.1%\",\"0.0%\",\"0.0%\",\"0.0%\",\"0.0%\"],\"textposition\":\"inside\",\"x\":[\"RXNRECer\",\"RXNRECer2EC\",\"ECRECer\",\"MSA_EC\",\"MSA_RXN\",\"deepec\",\"catfam\",\"clean\"],\"y\":[0.0,0.07294264339152119,0.09834788029925187,0.03140586034912718,0.0,0.0,0.0,0.0],\"type\":\"bar\"},{\"name\":\"Fully-Annotated\",\"text\":[\"25.7%\",\"18.4%\",\"25.5%\",\"17.4%\",\"21.4%\",\"7.7%\",\"8.6%\",\"100.0%\"],\"textposition\":\"inside\",\"x\":[\"RXNRECer\",\"RXNRECer2EC\",\"ECRECer\",\"MSA_EC\",\"MSA_RXN\",\"deepec\",\"catfam\",\"clean\"],\"y\":[0.2569357855361596,0.1839931421446384,0.255143391521197,0.17417394014962592,0.2143079800498753,0.07668329177057356,0.08572319201995013,1.0],\"type\":\"bar\"}],                        {\"template\":{\"data\":{\"histogram2dcontour\":[{\"type\":\"histogram2dcontour\",\"colorbar\":{\"outlinewidth\":0,\"ticks\":\"\"},\"colorscale\":[[0.0,\"#0d0887\"],[0.1111111111111111,\"#46039f\"],[0.2222222222222222,\"#7201a8\"],[0.3333333333333333,\"#9c179e\"],[0.4444444444444444,\"#bd3786\"],[0.5555555555555556,\"#d8576b\"],[0.6666666666666666,\"#ed7953\"],[0.7777777777777778,\"#fb9f3a\"],[0.8888888888888888,\"#fdca26\"],[1.0,\"#f0f921\"]]}],\"choropleth\":[{\"type\":\"choropleth\",\"colorbar\":{\"outlinewidth\":0,\"ticks\":\"\"}}],\"histogram2d\":[{\"type\":\"histogram2d\",\"colorbar\":{\"outlinewidth\":0,\"ticks\":\"\"},\"colorscale\":[[0.0,\"#0d0887\"],[0.1111111111111111,\"#46039f\"],[0.2222222222222222,\"#7201a8\"],[0.3333333333333333,\"#9c179e\"],[0.4444444444444444,\"#bd3786\"],[0.5555555555555556,\"#d8576b\"],[0.6666666666666666,\"#ed7953\"],[0.7777777777777778,\"#fb9f3a\"],[0.8888888888888888,\"#fdca26\"],[1.0,\"#f0f921\"]]}],\"heatmap\":[{\"type\":\"heatmap\",\"colorbar\":{\"outlinewidth\":0,\"ticks\":\"\"},\"colorscale\":[[0.0,\"#0d0887\"],[0.1111111111111111,\"#46039f\"],[0.2222222222222222,\"#7201a8\"],[0.3333333333333333,\"#9c179e\"],[0.4444444444444444,\"#bd3786\"],[0.5555555555555556,\"#d8576b\"],[0.6666666666666666,\"#ed7953\"],[0.7777777777777778,\"#fb9f3a\"],[0.8888888888888888,\"#fdca26\"],[1.0,\"#f0f921\"]]}],\"heatmapgl\":[{\"type\":\"heatmapgl\",\"colorbar\":{\"outlinewidth\":0,\"ticks\":\"\"},\"colorscale\":[[0.0,\"#0d0887\"],[0.1111111111111111,\"#46039f\"],[0.2222222222222222,\"#7201a8\"],[0.3333333333333333,\"#9c179e\"],[0.4444444444444444,\"#bd3786\"],[0.5555555555555556,\"#d8576b\"],[0.6666666666666666,\"#ed7953\"],[0.7777777777777778,\"#fb9f3a\"],[0.8888888888888888,\"#fdca26\"],[1.0,\"#f0f921\"]]}],\"contourcarpet\":[{\"type\":\"contourcarpet\",\"colorbar\":{\"outlinewidth\":0,\"ticks\":\"\"}}],\"contour\":[{\"type\":\"contour\",\"colorbar\":{\"outlinewidth\":0,\"ticks\":\"\"},\"colorscale\":[[0.0,\"#0d0887\"],[0.1111111111111111,\"#46039f\"],[0.2222222222222222,\"#7201a8\"],[0.3333333333333333,\"#9c179e\"],[0.4444444444444444,\"#bd3786\"],[0.5555555555555556,\"#d8576b\"],[0.6666666666666666,\"#ed7953\"],[0.7777777777777778,\"#fb9f3a\"],[0.8888888888888888,\"#fdca26\"],[1.0,\"#f0f921\"]]}],\"surface\":[{\"type\":\"surface\",\"colorbar\":{\"outlinewidth\":0,\"ticks\":\"\"},\"colorscale\":[[0.0,\"#0d0887\"],[0.1111111111111111,\"#46039f\"],[0.2222222222222222,\"#7201a8\"],[0.3333333333333333,\"#9c179e\"],[0.4444444444444444,\"#bd3786\"],[0.5555555555555556,\"#d8576b\"],[0.6666666666666666,\"#ed7953\"],[0.7777777777777778,\"#fb9f3a\"],[0.8888888888888888,\"#fdca26\"],[1.0,\"#f0f921\"]]}],\"mesh3d\":[{\"type\":\"mesh3d\",\"colorbar\":{\"outlinewidth\":0,\"ticks\":\"\"}}],\"scatter\":[{\"fillpattern\":{\"fillmode\":\"overlay\",\"size\":10,\"solidity\":0.2},\"type\":\"scatter\"}],\"parcoords\":[{\"type\":\"parcoords\",\"line\":{\"colorbar\":{\"outlinewidth\":0,\"ticks\":\"\"}}}],\"scatterpolargl\":[{\"type\":\"scatterpolargl\",\"marker\":{\"colorbar\":{\"outlinewidth\":0,\"ticks\":\"\"}}}],\"bar\":[{\"error_x\":{\"color\":\"#2a3f5f\"},\"error_y\":{\"color\":\"#2a3f5f\"},\"marker\":{\"line\":{\"color\":\"#E5ECF6\",\"width\":0.5},\"pattern\":{\"fillmode\":\"overlay\",\"size\":10,\"solidity\":0.2}},\"type\":\"bar\"}],\"scattergeo\":[{\"type\":\"scattergeo\",\"marker\":{\"colorbar\":{\"outlinewidth\":0,\"ticks\":\"\"}}}],\"scatterpolar\":[{\"type\":\"scatterpolar\",\"marker\":{\"colorbar\":{\"outlinewidth\":0,\"ticks\":\"\"}}}],\"histogram\":[{\"marker\":{\"pattern\":{\"fillmode\":\"overlay\",\"size\":10,\"solidity\":0.2}},\"type\":\"histogram\"}],\"scattergl\":[{\"type\":\"scattergl\",\"marker\":{\"colorbar\":{\"outlinewidth\":0,\"ticks\":\"\"}}}],\"scatter3d\":[{\"type\":\"scatter3d\",\"line\":{\"colorbar\":{\"outlinewidth\":0,\"ticks\":\"\"}},\"marker\":{\"colorbar\":{\"outlinewidth\":0,\"ticks\":\"\"}}}],\"scattermapbox\":[{\"type\":\"scattermapbox\",\"marker\":{\"colorbar\":{\"outlinewidth\":0,\"ticks\":\"\"}}}],\"scatterternary\":[{\"type\":\"scatterternary\",\"marker\":{\"colorbar\":{\"outlinewidth\":0,\"ticks\":\"\"}}}],\"scattercarpet\":[{\"type\":\"scattercarpet\",\"marker\":{\"colorbar\":{\"outlinewidth\":0,\"ticks\":\"\"}}}],\"carpet\":[{\"aaxis\":{\"endlinecolor\":\"#2a3f5f\",\"gridcolor\":\"white\",\"linecolor\":\"white\",\"minorgridcolor\":\"white\",\"startlinecolor\":\"#2a3f5f\"},\"baxis\":{\"endlinecolor\":\"#2a3f5f\",\"gridcolor\":\"white\",\"linecolor\":\"white\",\"minorgridcolor\":\"white\",\"startlinecolor\":\"#2a3f5f\"},\"type\":\"carpet\"}],\"table\":[{\"cells\":{\"fill\":{\"color\":\"#EBF0F8\"},\"line\":{\"color\":\"white\"}},\"header\":{\"fill\":{\"color\":\"#C8D4E3\"},\"line\":{\"color\":\"white\"}},\"type\":\"table\"}],\"barpolar\":[{\"marker\":{\"line\":{\"color\":\"#E5ECF6\",\"width\":0.5},\"pattern\":{\"fillmode\":\"overlay\",\"size\":10,\"solidity\":0.2}},\"type\":\"barpolar\"}],\"pie\":[{\"automargin\":true,\"type\":\"pie\"}]},\"layout\":{\"autotypenumbers\":\"strict\",\"colorway\":[\"#636efa\",\"#EF553B\",\"#00cc96\",\"#ab63fa\",\"#FFA15A\",\"#19d3f3\",\"#FF6692\",\"#B6E880\",\"#FF97FF\",\"#FECB52\"],\"font\":{\"color\":\"#2a3f5f\"},\"hovermode\":\"closest\",\"hoverlabel\":{\"align\":\"left\"},\"paper_bgcolor\":\"white\",\"plot_bgcolor\":\"#E5ECF6\",\"polar\":{\"bgcolor\":\"#E5ECF6\",\"angularaxis\":{\"gridcolor\":\"white\",\"linecolor\":\"white\",\"ticks\":\"\"},\"radialaxis\":{\"gridcolor\":\"white\",\"linecolor\":\"white\",\"ticks\":\"\"}},\"ternary\":{\"bgcolor\":\"#E5ECF6\",\"aaxis\":{\"gridcolor\":\"white\",\"linecolor\":\"white\",\"ticks\":\"\"},\"baxis\":{\"gridcolor\":\"white\",\"linecolor\":\"white\",\"ticks\":\"\"},\"caxis\":{\"gridcolor\":\"white\",\"linecolor\":\"white\",\"ticks\":\"\"}},\"coloraxis\":{\"colorbar\":{\"outlinewidth\":0,\"ticks\":\"\"}},\"colorscale\":{\"sequential\":[[0.0,\"#0d0887\"],[0.1111111111111111,\"#46039f\"],[0.2222222222222222,\"#7201a8\"],[0.3333333333333333,\"#9c179e\"],[0.4444444444444444,\"#bd3786\"],[0.5555555555555556,\"#d8576b\"],[0.6666666666666666,\"#ed7953\"],[0.7777777777777778,\"#fb9f3a\"],[0.8888888888888888,\"#fdca26\"],[1.0,\"#f0f921\"]],\"sequentialminus\":[[0.0,\"#0d0887\"],[0.1111111111111111,\"#46039f\"],[0.2222222222222222,\"#7201a8\"],[0.3333333333333333,\"#9c179e\"],[0.4444444444444444,\"#bd3786\"],[0.5555555555555556,\"#d8576b\"],[0.6666666666666666,\"#ed7953\"],[0.7777777777777778,\"#fb9f3a\"],[0.8888888888888888,\"#fdca26\"],[1.0,\"#f0f921\"]],\"diverging\":[[0,\"#8e0152\"],[0.1,\"#c51b7d\"],[0.2,\"#de77ae\"],[0.3,\"#f1b6da\"],[0.4,\"#fde0ef\"],[0.5,\"#f7f7f7\"],[0.6,\"#e6f5d0\"],[0.7,\"#b8e186\"],[0.8,\"#7fbc41\"],[0.9,\"#4d9221\"],[1,\"#276419\"]]},\"xaxis\":{\"gridcolor\":\"white\",\"linecolor\":\"white\",\"ticks\":\"\",\"title\":{\"standoff\":15},\"zerolinecolor\":\"white\",\"automargin\":true,\"zerolinewidth\":2},\"yaxis\":{\"gridcolor\":\"white\",\"linecolor\":\"white\",\"ticks\":\"\",\"title\":{\"standoff\":15},\"zerolinecolor\":\"white\",\"automargin\":true,\"zerolinewidth\":2},\"scene\":{\"xaxis\":{\"backgroundcolor\":\"#E5ECF6\",\"gridcolor\":\"white\",\"linecolor\":\"white\",\"showbackground\":true,\"ticks\":\"\",\"zerolinecolor\":\"white\",\"gridwidth\":2},\"yaxis\":{\"backgroundcolor\":\"#E5ECF6\",\"gridcolor\":\"white\",\"linecolor\":\"white\",\"showbackground\":true,\"ticks\":\"\",\"zerolinecolor\":\"white\",\"gridwidth\":2},\"zaxis\":{\"backgroundcolor\":\"#E5ECF6\",\"gridcolor\":\"white\",\"linecolor\":\"white\",\"showbackground\":true,\"ticks\":\"\",\"zerolinecolor\":\"white\",\"gridwidth\":2}},\"shapedefaults\":{\"line\":{\"color\":\"#2a3f5f\"}},\"annotationdefaults\":{\"arrowcolor\":\"#2a3f5f\",\"arrowhead\":0,\"arrowwidth\":1},\"geo\":{\"bgcolor\":\"white\",\"landcolor\":\"#E5ECF6\",\"subunitcolor\":\"white\",\"showland\":true,\"showlakes\":true,\"lakecolor\":\"white\"},\"title\":{\"x\":0.05},\"mapbox\":{\"style\":\"light\"}}},\"yaxis\":{\"title\":{\"text\":\"Proportion (0-1)\"},\"range\":[0,1]},\"barmode\":\"stack\",\"title\":{\"text\":\"Normalized Coverage of Each Method (per Metric)\"},\"xaxis\":{\"title\":{\"text\":\"Method\"}},\"legend\":{\"title\":{\"text\":\"Metric\"}},\"height\":500,\"width\":800},                        {\"responsive\": true}                    ).then(function(){\n",
       "                            \n",
       "var gd = document.getElementById('3bd114f4-c312-4116-9490-bdef889990e4');\n",
       "var x = new MutationObserver(function (mutations, observer) {{\n",
       "        var display = window.getComputedStyle(gd).display;\n",
       "        if (!display || display === 'none') {{\n",
       "            console.log([gd, 'removed!']);\n",
       "            Plotly.purge(gd);\n",
       "            observer.disconnect();\n",
       "        }}\n",
       "}});\n",
       "\n",
       "// Listen for the removal of the full notebook cells\n",
       "var notebookContainer = gd.closest('#notebook-container');\n",
       "if (notebookContainer) {{\n",
       "    x.observe(notebookContainer, {childList: true});\n",
       "}}\n",
       "\n",
       "// Listen for the clearing of the current output cell\n",
       "var outputEl = gd.closest('.output');\n",
       "if (outputEl) {{\n",
       "    x.observe(outputEl, {childList: true});\n",
       "}}\n",
       "\n",
       "                        })                };                });            </script>        </div>"
      ]
     },
     "metadata": {},
     "output_type": "display_data"
    }
   ],
   "source": [
    "import pandas as pd\n",
    "import plotly.graph_objects as go\n",
    "\n",
    "data = {\n",
    "    'Method': ['RXNRECer', 'RXNRECer2EC', 'ECRECer', 'MSA_EC', 'MSA_RXN', 'deepec', 'catfam', 'clean'],\n",
    "    'Enzyme': [3297, 3297, 4536, 2638, 2750, 984, 1100, 12832],\n",
    "    'Non-Enzyme': [9535, 9535, 8296, 3749, 3637, 0, 11732, 0],\n",
    "    'No-Prediction': [0, 0, 0, 6445, 6445, 11848, 0, 0],\n",
    "    'Partial-EC': [0, 936, 1262, 403, 0, 0, 0, 0],\n",
    "    'Fully-Annotated': [3297, 2361, 3274, 2235, 2750, 984, 1100, 12832]\n",
    "}\n",
    "\n",
    "df = pd.DataFrame(data)\n",
    "total = 12832\n",
    "metrics = ['Enzyme', 'Non-Enzyme', 'No-Prediction', 'Partial-EC', 'Fully-Annotated']\n",
    "df_norm = df.copy()\n",
    "df_norm[metrics] = df[metrics] / total\n",
    "\n",
    "fig = go.Figure()\n",
    "for metric in metrics:\n",
    "    fig.add_trace(go.Bar(\n",
    "        x=df['Method'],\n",
    "        y=df_norm[metric],\n",
    "        name=metric,\n",
    "        text=(df_norm[metric] * 100).round(1).astype(str) + '%',\n",
    "        textposition='inside',\n",
    "    ))\n",
    "\n",
    "fig.update_layout(\n",
    "    barmode='stack',\n",
    "    title='Normalized Coverage of Each Method (per Metric)',\n",
    "    yaxis=dict(title='Proportion (0-1)', range=[0, 1]),\n",
    "    xaxis=dict(title='Method'),\n",
    "    legend_title='Metric',\n",
    "    height=500,\n",
    "    width=800\n",
    ")\n",
    "\n",
    "fig.show()"
   ]
  },
  {
   "cell_type": "code",
   "execution_count": null,
   "metadata": {},
   "outputs": [],
   "source": []
  },
  {
   "cell_type": "code",
   "execution_count": null,
   "metadata": {},
   "outputs": [],
   "source": [
    "\n",
    "\n",
    "metrics = ['Enzyme', 'Non-Enzyme', 'No-Prediction', 'Partial-EC', 'Full-EC', 'EC-Orphan', 'Reaction']\n",
    "method_order = ['CLEAN', 'PRIAM', 'CatFam', 'DeepEC', 'MSA', 'ECRECer', 'RXNRECer']\n",
    "total = len(res_fus_ven)\n",
    "\n",
    "# 归一化 + melt\n",
    "df_melt = df_final.melt(id_vars='Method', value_vars=metrics, var_name='Metric', value_name='Count')\n",
    "df_melt['Proportion'] = df_melt['Count'] / total\n",
    "df_melt = df_melt[df_melt['Proportion'] > 0]\n",
    "\n",
    "# 配色方案（与论文一致）\n",
    "color_scale = [\n",
    "    [0.0,  \"#8ECFC9\"],   # 浅蓝绿\n",
    "    [0.2,  \"#A1D3B2\"],   # 浅绿色\n",
    "    [0.4,  \"#FFBE7A\"],   # 浅橙色\n",
    "    [0.6,  \"#FA7F6F\"],   # 浅红色\n",
    "    [0.8,  \"#E45756\"],   # 深红色\n",
    "    [1.0,  \"#9D81BA\"]    # 深紫色\n",
    "]\n",
    "\n",
    "# 画图\n",
    "fig = px.scatter(\n",
    "    df_melt,\n",
    "    x='Metric',\n",
    "    y='Method',\n",
    "    size='Proportion',\n",
    "    size_max=40,\n",
    "    color='Proportion',\n",
    "    color_continuous_scale=color_scale,\n",
    "    text=df_melt['Proportion'].apply(lambda x: f'{x:.1%}')\n",
    ")\n",
    "\n",
    "fig.update_traces(\n",
    "    marker=dict(line=dict(width=1, color='white')),\n",
    "    textposition='middle center'\n",
    ")\n",
    "\n",
    "fig.update_layout(\n",
    "    yaxis=dict(\n",
    "        title='Method',\n",
    "        categoryorder='array',\n",
    "        categoryarray=method_order\n",
    "    ),\n",
    "    xaxis=dict(\n",
    "        title='Metric',\n",
    "        tickangle=0,\n",
    "        categoryorder='array',\n",
    "        categoryarray=metrics\n",
    "    ),\n",
    "    coloraxis_colorbar=dict(\n",
    "        title='Proportion',\n",
    "        tickvals=[0.0, 0.2, 0.4, 0.6, 0.8, 1.0],\n",
    "        ticktext=[\"0%\", \"20%\", \"40%\", \"60%\", \"80%\", \"100%\"]\n",
    "    ),\n",
    "    font=dict(family='Times New Roman', size=12),\n",
    "    margin=dict(l=40, r=40, t=50, b=40),\n",
    "    height=500,\n",
    "    width=900,\n",
    "    title='Normalized Metric Proportion per Method (Bubble Chart)'\n",
    ")\n",
    "\n",
    "fig.show()"
   ]
  },
  {
   "cell_type": "code",
   "execution_count": null,
   "metadata": {},
   "outputs": [],
   "source": []
  },
  {
   "cell_type": "code",
   "execution_count": null,
   "metadata": {},
   "outputs": [],
   "source": []
  },
  {
   "cell_type": "code",
   "execution_count": null,
   "metadata": {},
   "outputs": [],
   "source": []
  },
  {
   "cell_type": "code",
   "execution_count": null,
   "metadata": {},
   "outputs": [],
   "source": []
  },
  {
   "cell_type": "code",
   "execution_count": null,
   "metadata": {},
   "outputs": [],
   "source": [
    "# 转换为DataFrame\n",
    "def json_to_dataframe(json_data):\n",
    "    # 提取UniProt ID\n",
    "    uniprot_id = list(json_data.keys())[0]\n",
    "    \n",
    "    # 为每个条目添加UniProt ID\n",
    "    for entry in json_data[uniprot_id]:\n",
    "        entry['uniprot_id'] = uniprot_id\n",
    "    \n",
    "    # 创建DataFrame\n",
    "    df = pd.DataFrame(json_data[uniprot_id])\n",
    "    \n",
    "    # 重新排列列顺序，将uniprot_id放在前面\n",
    "    cols = ['uniprot_id'] + [col for col in df.columns if col != 'uniprot_id']\n",
    "    df = df[cols]\n",
    "    \n",
    "    return df\n",
    "\n",
    "\n",
    "# 假设df是您提供的DataFrame\n",
    "def select_best_pdb(df):\n",
    "    # 规则1+2：先按分辨率升序，再按实验方法排序（X-ray优先）\n",
    "    df_sorted = df.sort_values(\n",
    "        by=['resolution', 'experimental_method'],\n",
    "        ascending=[True, False]  # resolution越小越好，method按字母倒序X-ray优先\n",
    "    )\n",
    "    \n",
    "    # 规则3：如果分辨率相同，选择链ID字母序靠前的（A链优先）\n",
    "    df_sorted = df_sorted.sort_values('chain_id', ascending=True)\n",
    "    \n",
    "    # 规则4（可选）：如果需要特定物种，可以添加筛选\n",
    "    # df_sorted = df_sorted[df_sorted['tax_id'] == 特定物种ID]\n",
    "    \n",
    "    # 返回第一个（最优）条目\n",
    "    best_row = df_sorted.iloc[0]\n",
    "    return best_row['pdb_id'], best_row['chain_id']\n",
    "\n",
    "\n",
    "def download_pdb(pdb_id, save_path=None):\n",
    "    \"\"\"下载PDB文件\"\"\"\n",
    "    url = f\"https://files.rcsb.org/download/{pdb_id}.pdb\"\n",
    "    try:\n",
    "        response = requests.get(url)\n",
    "        response.raise_for_status()\n",
    "        \n",
    "        if save_path:\n",
    "            with open(save_path, 'w') as f:\n",
    "                f.write(response.text)\n",
    "            print(f\"PDB文件已保存到: {save_path}\")\n",
    "        return response.text\n",
    "    except Exception as e:\n",
    "        print(f\"下载失败: {str(e)}\")\n",
    "        return None\n",
    "    \n",
    "\n",
    "def parse_pdb_info(pdb_json):\n",
    "    \"\"\"解析PDB JSON数据并提取关键信息\"\"\"\n",
    "    # 主要信息提取\n",
    "    main_info = {\n",
    "        \"pdb_id\": pdb_json.get(\"entry\", {}).get(\"id\", \"\"),\n",
    "        \"resolution\": pdb_json.get(\"rcsb_entry_info\", {}).get(\"resolution_combined\", [None])[0],\n",
    "        \"method\": pdb_json.get(\"exptl\", [{}])[0].get(\"method\", \"\").title(),\n",
    "        \"journal\": f\"{pdb_json.get('citation', [{}])[0].get('journal_abbrev', '')} \"\n",
    "                  f\"({pdb_json.get('citation', [{}])[0].get('year', '')})\",\n",
    "        \"ref_doi\": pdb_json.get(\"citation\", [{}])[0].get(\"pdbx_database_id_doi\", \"\")\n",
    "    }\n",
    "\n",
    "    # 配体信息提取\n",
    "    ligands = []\n",
    "    if \"rcsb_binding_affinity\" in pdb_json:\n",
    "        ligands = [{\n",
    "            \"chemical_id\": lig[\"chemical_id\"],\n",
    "            \"chemical_name\": lig.get(\"chemical_name\", \"\"),\n",
    "            \"formula\": lig.get(\"formula\", \"\")\n",
    "        } for lig in pdb_json[\"rcsb_binding_affinity\"]]\n",
    "\n",
    "    return main_info, ligands\n",
    "\n",
    "def get_best_pdb(uniprot_id: str):\n",
    "    \"\"\"\n",
    "    修正版：通过 UniProt ID 获取最优 PDB 结构\n",
    "    返回: {\n",
    "        \"pdb_id\": str,\n",
    "        \"resolution\": float,\n",
    "        \"method\": str,\n",
    "        \"ligands\": list\n",
    "    }\n",
    "    \"\"\"\n",
    "    # 步骤1：通过 PDBe API 获取映射数据\n",
    "    url = f\"https://www.ebi.ac.uk/pdbe/api/mappings/best_structures/{uniprot_id}\"\n",
    "    response = requests.get(url).json()\n",
    "\n",
    "    if not response:\n",
    "        raise ValueError(f\"No PDB found for UniProt ID: {uniprot_id}\")\n",
    "    \n",
    "    response = json_to_dataframe(response)\n",
    "    \n",
    "    # 执行筛选\n",
    "    best_pdb, best_chain = select_best_pdb(response)\n",
    "    print(f\"Best PDB ID: {best_pdb}\")\n",
    "    \n",
    "\n",
    "    # 步骤4：获取每个 PDB 的元数据\n",
    "\n",
    "    try:\n",
    "        pdb_api = f\"https://data.rcsb.org/rest/v1/core/entry/{best_pdb}\"\n",
    "        pdb_info = requests.get(pdb_api).json()\n",
    "        main_info, ligands = parse_pdb_info(pdb_info)\n",
    "        print(main_info, ligands)\n",
    "        \n",
    "    except Exception as e:\n",
    "        print(f\"Error processing PDB RCSB_{uniprot_id}_{best_pdb}: {str(e)}\")\n",
    "       \n",
    "    download_pdb(best_pdb, f\"RCSB_{uniprot_id}_{best_pdb}.pdb\")\n",
    "\n",
    "\n",
    "    \n",
    "    # return best_pdb"
   ]
  },
  {
   "cell_type": "code",
   "execution_count": 275,
   "metadata": {},
   "outputs": [
    {
     "name": "stdout",
     "output_type": "stream",
     "text": [
      "Best PDB ID: 7qtl\n",
      "{'pdb_id': '7QTL', 'resolution': 2.48, 'method': 'Electron Microscopy', 'journal': 'Cell Rep (2023)', 'ref_doi': '10.1016/j.celrep.2022.111901'} []\n",
      "PDB文件已保存到: RCSB_X5F427_7qtl.pdb\n"
     ]
    }
   ],
   "source": [
    "best_structure = get_best_pdb(\"X5F427\")  # 凝血酶原的 UniProt ID\n",
    "# print(f\"最优 PDB 结构: {best_structure}\")"
   ]
  },
  {
   "cell_type": "code",
   "execution_count": null,
   "metadata": {},
   "outputs": [],
   "source": []
  },
  {
   "cell_type": "code",
   "execution_count": 166,
   "metadata": {},
   "outputs": [
    {
     "name": "stdout",
     "output_type": "stream",
     "text": [
      "save to:tmalign_results.tsv\n"
     ]
    },
    {
     "data": {
      "text/html": [
       "<div>\n",
       "<style scoped>\n",
       "    .dataframe tbody tr th:only-of-type {\n",
       "        vertical-align: middle;\n",
       "    }\n",
       "\n",
       "    .dataframe tbody tr th {\n",
       "        vertical-align: top;\n",
       "    }\n",
       "\n",
       "    .dataframe thead th {\n",
       "        text-align: right;\n",
       "    }\n",
       "</style>\n",
       "<table border=\"1\" class=\"dataframe\">\n",
       "  <thead>\n",
       "    <tr style=\"text-align: right;\">\n",
       "      <th></th>\n",
       "      <th>pdb1</th>\n",
       "      <th>pdb2</th>\n",
       "      <th>tm_score</th>\n",
       "      <th>rmsd</th>\n",
       "    </tr>\n",
       "  </thead>\n",
       "  <tbody>\n",
       "    <tr>\n",
       "      <th>0</th>\n",
       "      <td>AF-P15144</td>\n",
       "      <td>AF-P15684</td>\n",
       "      <td>0.98496</td>\n",
       "      <td>0.249</td>\n",
       "    </tr>\n",
       "    <tr>\n",
       "      <th>1</th>\n",
       "      <td>AF-P04825</td>\n",
       "      <td>AF-P15144</td>\n",
       "      <td>0.83402</td>\n",
       "      <td>2.977</td>\n",
       "    </tr>\n",
       "    <tr>\n",
       "      <th>2</th>\n",
       "      <td>AF-P04825</td>\n",
       "      <td>AF-P15684</td>\n",
       "      <td>0.83226</td>\n",
       "      <td>8.905</td>\n",
       "    </tr>\n",
       "    <tr>\n",
       "      <th>3</th>\n",
       "      <td>XP_065465146.1</td>\n",
       "      <td>XP_025589480.1</td>\n",
       "      <td>0.42133</td>\n",
       "      <td>0.628</td>\n",
       "    </tr>\n",
       "    <tr>\n",
       "      <th>4</th>\n",
       "      <td>XP_065465146.1</td>\n",
       "      <td>AF-P04825</td>\n",
       "      <td>0.41582</td>\n",
       "      <td>7.267</td>\n",
       "    </tr>\n",
       "    <tr>\n",
       "      <th>5</th>\n",
       "      <td>XP_065465146.1</td>\n",
       "      <td>AF-P15144</td>\n",
       "      <td>0.41186</td>\n",
       "      <td>20.830</td>\n",
       "    </tr>\n",
       "    <tr>\n",
       "      <th>6</th>\n",
       "      <td>XP_065465146.1</td>\n",
       "      <td>AF-P15684</td>\n",
       "      <td>0.40600</td>\n",
       "      <td>18.757</td>\n",
       "    </tr>\n",
       "    <tr>\n",
       "      <th>7</th>\n",
       "      <td>XP_025592412.1</td>\n",
       "      <td>AF-P04825</td>\n",
       "      <td>0.34454</td>\n",
       "      <td>20.511</td>\n",
       "    </tr>\n",
       "    <tr>\n",
       "      <th>8</th>\n",
       "      <td>XP_025592412.1</td>\n",
       "      <td>AF-P15684</td>\n",
       "      <td>0.33226</td>\n",
       "      <td>19.741</td>\n",
       "    </tr>\n",
       "    <tr>\n",
       "      <th>9</th>\n",
       "      <td>XP_025592412.1</td>\n",
       "      <td>AF-P15144</td>\n",
       "      <td>0.33113</td>\n",
       "      <td>20.658</td>\n",
       "    </tr>\n",
       "    <tr>\n",
       "      <th>10</th>\n",
       "      <td>XP_025592412.1</td>\n",
       "      <td>XP_025589480.1</td>\n",
       "      <td>0.25256</td>\n",
       "      <td>23.415</td>\n",
       "    </tr>\n",
       "    <tr>\n",
       "      <th>11</th>\n",
       "      <td>AF-P04825</td>\n",
       "      <td>XP_025589480.1</td>\n",
       "      <td>0.21038</td>\n",
       "      <td>14.913</td>\n",
       "    </tr>\n",
       "    <tr>\n",
       "      <th>12</th>\n",
       "      <td>AF-P15684</td>\n",
       "      <td>XP_025589480.1</td>\n",
       "      <td>0.19575</td>\n",
       "      <td>31.102</td>\n",
       "    </tr>\n",
       "    <tr>\n",
       "      <th>13</th>\n",
       "      <td>AF-P15144</td>\n",
       "      <td>XP_025589480.1</td>\n",
       "      <td>0.17909</td>\n",
       "      <td>30.422</td>\n",
       "    </tr>\n",
       "    <tr>\n",
       "      <th>14</th>\n",
       "      <td>XP_025592412.1</td>\n",
       "      <td>XP_065465146.1</td>\n",
       "      <td>0.15571</td>\n",
       "      <td>19.490</td>\n",
       "    </tr>\n",
       "  </tbody>\n",
       "</table>\n",
       "</div>"
      ],
      "text/plain": [
       "              pdb1            pdb2  tm_score    rmsd\n",
       "0        AF-P15144       AF-P15684   0.98496   0.249\n",
       "1        AF-P04825       AF-P15144   0.83402   2.977\n",
       "2        AF-P04825       AF-P15684   0.83226   8.905\n",
       "3   XP_065465146.1  XP_025589480.1   0.42133   0.628\n",
       "4   XP_065465146.1       AF-P04825   0.41582   7.267\n",
       "5   XP_065465146.1       AF-P15144   0.41186  20.830\n",
       "6   XP_065465146.1       AF-P15684   0.40600  18.757\n",
       "7   XP_025592412.1       AF-P04825   0.34454  20.511\n",
       "8   XP_025592412.1       AF-P15684   0.33226  19.741\n",
       "9   XP_025592412.1       AF-P15144   0.33113  20.658\n",
       "10  XP_025592412.1  XP_025589480.1   0.25256  23.415\n",
       "11       AF-P04825  XP_025589480.1   0.21038  14.913\n",
       "12       AF-P15684  XP_025589480.1   0.19575  31.102\n",
       "13       AF-P15144  XP_025589480.1   0.17909  30.422\n",
       "14  XP_025592412.1  XP_065465146.1   0.15571  19.490"
      ]
     },
     "execution_count": 166,
     "metadata": {},
     "output_type": "execute_result"
    }
   ],
   "source": [
    "align_all_structures(pdb_dir=target_base_dir, output_tsv=\"tmalign_results.tsv\")"
   ]
  },
  {
   "cell_type": "code",
   "execution_count": 31,
   "metadata": {},
   "outputs": [
    {
     "data": {
      "text/html": [
       "<div>\n",
       "<style scoped>\n",
       "    .dataframe tbody tr th:only-of-type {\n",
       "        vertical-align: middle;\n",
       "    }\n",
       "\n",
       "    .dataframe tbody tr th {\n",
       "        vertical-align: top;\n",
       "    }\n",
       "\n",
       "    .dataframe thead th {\n",
       "        text-align: right;\n",
       "    }\n",
       "</style>\n",
       "<table border=\"1\" class=\"dataframe\">\n",
       "  <thead>\n",
       "    <tr style=\"text-align: right;\">\n",
       "      <th></th>\n",
       "      <th>uniprot_id</th>\n",
       "      <th>ec</th>\n",
       "      <th>seq</th>\n",
       "      <th>len</th>\n",
       "      <th>equation_string</th>\n",
       "      <th>ec_3digit</th>\n",
       "    </tr>\n",
       "  </thead>\n",
       "  <tbody>\n",
       "    <tr>\n",
       "      <th>0</th>\n",
       "      <td>Q7M529</td>\n",
       "      <td>3.1.1.1</td>\n",
       "      <td>PLDPTIKCLLESGFVIPIGK</td>\n",
       "      <td>20</td>\n",
       "      <td>4-nitrophenyl propanoate + H2O = 4-nitrophenol...</td>\n",
       "      <td>3.1.1</td>\n",
       "    </tr>\n",
       "    <tr>\n",
       "      <th>1</th>\n",
       "      <td>Q15166</td>\n",
       "      <td>3.1.1.2; 3.1.1.81; 3.1.8.1</td>\n",
       "      <td>MGKLVALVLLGVGLSLVGEMFLAFRERVNASREVEPVEPENCHLIE...</td>\n",
       "      <td>354</td>\n",
       "      <td>4-nitrophenyl propanoate + H2O = 4-nitrophenol...</td>\n",
       "      <td>3.1.8;3.1.1</td>\n",
       "    </tr>\n",
       "    <tr>\n",
       "      <th>2</th>\n",
       "      <td>G2QH51</td>\n",
       "      <td>3.1.1.74</td>\n",
       "      <td>MKFLSLLTAAGVAAALPTSPAEVSSAGEIEARQLASTRNELENGDS...</td>\n",
       "      <td>231</td>\n",
       "      <td>4-nitrophenyl propanoate + H2O = 4-nitrophenol...</td>\n",
       "      <td>3.1.1</td>\n",
       "    </tr>\n",
       "  </tbody>\n",
       "</table>\n",
       "</div>"
      ],
      "text/plain": [
       "  uniprot_id                          ec  \\\n",
       "0     Q7M529                     3.1.1.1   \n",
       "1     Q15166  3.1.1.2; 3.1.1.81; 3.1.8.1   \n",
       "2     G2QH51                    3.1.1.74   \n",
       "\n",
       "                                                 seq  len  \\\n",
       "0                               PLDPTIKCLLESGFVIPIGK   20   \n",
       "1  MGKLVALVLLGVGLSLVGEMFLAFRERVNASREVEPVEPENCHLIE...  354   \n",
       "2  MKFLSLLTAAGVAAALPTSPAEVSSAGEIEARQLASTRNELENGDS...  231   \n",
       "\n",
       "                                     equation_string    ec_3digit  \n",
       "0  4-nitrophenyl propanoate + H2O = 4-nitrophenol...        3.1.1  \n",
       "1  4-nitrophenyl propanoate + H2O = 4-nitrophenol...  3.1.8;3.1.1  \n",
       "2  4-nitrophenyl propanoate + H2O = 4-nitrophenol...        3.1.1  "
      ]
     },
     "execution_count": 31,
     "metadata": {},
     "output_type": "execute_result"
    }
   ],
   "source": [
    "data_brenda = pd.read_feather('/hpcfs/fhome/shizhenkun/codebase/enyrnx/data/brenda/brenda_reaction_uniprot_dataset.feather')[['uniprot_id', 'ec', 'seq', 'len', 'equation_string' ]]\n",
    "data_brenda= data_brenda[~data_brenda.ec.isnull()].reset_index(drop=True)\n",
    "data_brenda['ec_3digit']=data_brenda.ec.apply(lambda x: get_3digit_ec(x))\n",
    "data_brenda.head(3)"
   ]
  },
  {
   "cell_type": "code",
   "execution_count": 103,
   "metadata": {},
   "outputs": [
    {
     "data": {
      "text/html": [
       "<div>\n",
       "<style scoped>\n",
       "    .dataframe tbody tr th:only-of-type {\n",
       "        vertical-align: middle;\n",
       "    }\n",
       "\n",
       "    .dataframe tbody tr th {\n",
       "        vertical-align: top;\n",
       "    }\n",
       "\n",
       "    .dataframe thead th {\n",
       "        text-align: right;\n",
       "    }\n",
       "</style>\n",
       "<table border=\"1\" class=\"dataframe\">\n",
       "  <thead>\n",
       "    <tr style=\"text-align: right;\">\n",
       "      <th></th>\n",
       "      <th>input_id</th>\n",
       "      <th>RXNRECer</th>\n",
       "      <th>RXNRECer2EC</th>\n",
       "      <th>clean</th>\n",
       "      <th>ECRECer</th>\n",
       "      <th>MSA_RXN</th>\n",
       "      <th>MSA_EC</th>\n",
       "      <th>deepec</th>\n",
       "      <th>catfam</th>\n",
       "      <th>seq_len</th>\n",
       "      <th>...</th>\n",
       "      <th>clean_3digit</th>\n",
       "      <th>ECRECer_3digit</th>\n",
       "      <th>MSA_EC_3digit</th>\n",
       "      <th>deepec_3digit</th>\n",
       "      <th>catfam_3digit</th>\n",
       "      <th>rxnrecer_clean_3digit</th>\n",
       "      <th>rxnrecer_ecrecer_3digit</th>\n",
       "      <th>rxnrecer_msa_3digit</th>\n",
       "      <th>rxnrecer_deepec_3digit</th>\n",
       "      <th>rxnrecer_catfam_3digit</th>\n",
       "    </tr>\n",
       "  </thead>\n",
       "  <tbody>\n",
       "    <tr>\n",
       "      <th>0</th>\n",
       "      <td>XP_025580784.2</td>\n",
       "      <td>-</td>\n",
       "      <td>-</td>\n",
       "      <td>2.7.7.n1</td>\n",
       "      <td>-</td>\n",
       "      <td>NO-PREDICTION</td>\n",
       "      <td>NO-PREDICTION</td>\n",
       "      <td>NO-PREDICTION</td>\n",
       "      <td>-</td>\n",
       "      <td>254</td>\n",
       "      <td>...</td>\n",
       "      <td>2.7.7</td>\n",
       "      <td>-</td>\n",
       "      <td>NO-PREDICTION</td>\n",
       "      <td>NO-PREDICTION</td>\n",
       "      <td>-</td>\n",
       "      <td>False</td>\n",
       "      <td>True</td>\n",
       "      <td>False</td>\n",
       "      <td>False</td>\n",
       "      <td>True</td>\n",
       "    </tr>\n",
       "    <tr>\n",
       "      <th>1</th>\n",
       "      <td>XP_025580788.2</td>\n",
       "      <td>-</td>\n",
       "      <td>-</td>\n",
       "      <td>2.3.1.48</td>\n",
       "      <td>-</td>\n",
       "      <td>-</td>\n",
       "      <td>-</td>\n",
       "      <td>NO-PREDICTION</td>\n",
       "      <td>-</td>\n",
       "      <td>96</td>\n",
       "      <td>...</td>\n",
       "      <td>2.3.1</td>\n",
       "      <td>-</td>\n",
       "      <td>-</td>\n",
       "      <td>NO-PREDICTION</td>\n",
       "      <td>-</td>\n",
       "      <td>False</td>\n",
       "      <td>True</td>\n",
       "      <td>True</td>\n",
       "      <td>False</td>\n",
       "      <td>True</td>\n",
       "    </tr>\n",
       "    <tr>\n",
       "      <th>2</th>\n",
       "      <td>XP_025580789.2</td>\n",
       "      <td>-</td>\n",
       "      <td>-</td>\n",
       "      <td>3.1.1.42</td>\n",
       "      <td>-</td>\n",
       "      <td>-</td>\n",
       "      <td>-</td>\n",
       "      <td>NO-PREDICTION</td>\n",
       "      <td>-</td>\n",
       "      <td>460</td>\n",
       "      <td>...</td>\n",
       "      <td>3.1.1</td>\n",
       "      <td>-</td>\n",
       "      <td>-</td>\n",
       "      <td>NO-PREDICTION</td>\n",
       "      <td>-</td>\n",
       "      <td>False</td>\n",
       "      <td>True</td>\n",
       "      <td>True</td>\n",
       "      <td>False</td>\n",
       "      <td>True</td>\n",
       "    </tr>\n",
       "  </tbody>\n",
       "</table>\n",
       "<p>3 rows × 26 columns</p>\n",
       "</div>"
      ],
      "text/plain": [
       "         input_id RXNRECer RXNRECer2EC     clean ECRECer        MSA_RXN  \\\n",
       "0  XP_025580784.2        -           -  2.7.7.n1       -  NO-PREDICTION   \n",
       "1  XP_025580788.2        -           -  2.3.1.48       -              -   \n",
       "2  XP_025580789.2        -           -  3.1.1.42       -              -   \n",
       "\n",
       "          MSA_EC         deepec catfam  seq_len  ...  clean_3digit  \\\n",
       "0  NO-PREDICTION  NO-PREDICTION      -      254  ...         2.7.7   \n",
       "1              -  NO-PREDICTION      -       96  ...         2.3.1   \n",
       "2              -  NO-PREDICTION      -      460  ...         3.1.1   \n",
       "\n",
       "   ECRECer_3digit  MSA_EC_3digit  deepec_3digit  catfam_3digit  \\\n",
       "0               -  NO-PREDICTION  NO-PREDICTION              -   \n",
       "1               -              -  NO-PREDICTION              -   \n",
       "2               -              -  NO-PREDICTION              -   \n",
       "\n",
       "  rxnrecer_clean_3digit rxnrecer_ecrecer_3digit rxnrecer_msa_3digit  \\\n",
       "0                 False                    True               False   \n",
       "1                 False                    True                True   \n",
       "2                 False                    True                True   \n",
       "\n",
       "  rxnrecer_deepec_3digit rxnrecer_catfam_3digit  \n",
       "0                  False                   True  \n",
       "1                  False                   True  \n",
       "2                  False                   True  \n",
       "\n",
       "[3 rows x 26 columns]"
      ]
     },
     "execution_count": 103,
     "metadata": {},
     "output_type": "execute_result"
    }
   ],
   "source": [
    "case_clean_wrong= pd.read_feather('middle/case_clean_wrong.feather')\n",
    "case_clean_wrong.head(3)"
   ]
  },
  {
   "cell_type": "code",
   "execution_count": 107,
   "metadata": {},
   "outputs": [
    {
     "name": "stdout",
     "output_type": "stream",
     "text": [
      "警告: 源文件不存在，跳过: /hpcfs/fpublic/database/alphafold/predicted_pdbs//AF-A0R3B1-F1-model_v4.pdb.gz\n",
      "save to:ec_2_4_99_tmalign_results.tsv\n"
     ]
    },
    {
     "name": "stderr",
     "output_type": "stream",
     "text": [
      "0it [00:00, ?it/s]"
     ]
    },
    {
     "name": "stderr",
     "output_type": "stream",
     "text": [
      "120it [00:37,  3.24it/s]\n"
     ]
    }
   ],
   "source": [
    "ec_code_1 = \"2.4.99\"\n",
    "prep(case_ec=ec_code_1, data_brenda=data_brenda, case_clean_wrong=case_clean_wrong)"
   ]
  },
  {
   "cell_type": "code",
   "execution_count": 110,
   "metadata": {},
   "outputs": [
    {
     "name": "stdout",
     "output_type": "stream",
     "text": [
      "警告: 源文件不存在，跳过: /hpcfs/fpublic/database/alphafold/predicted_pdbs/AF-F0HXE4-F1-model_v4.pdb.gz\n",
      "警告: 源文件不存在，跳过: /hpcfs/fpublic/database/alphafold/predicted_pdbs/AF-Q96VT2-F1-model_v4.pdb.gz\n",
      "警告: 源文件不存在，跳过: /hpcfs/fpublic/database/alphafold/predicted_pdbs/AF-B2IQ22-F1-model_v4.pdb.gz\n",
      "警告: 源文件不存在，跳过: /hpcfs/fpublic/database/alphafold/predicted_pdbs/AF-F9W8I6-F1-model_v4.pdb.gz\n",
      "警告: 源文件不存在，跳过: /hpcfs/fpublic/database/alphafold/predicted_pdbs/AF-Q4A9M4-F1-model_v4.pdb.gz\n",
      "警告: 源文件不存在，跳过: /hpcfs/fpublic/database/alphafold/predicted_pdbs/AF-Q95V76-F1-model_v4.pdb.gz\n",
      "警告: 源文件不存在，跳过: /hpcfs/fpublic/database/alphafold/predicted_pdbs/AF-G0UZY5-F1-model_v4.pdb.gz\n",
      "警告: 源文件不存在，跳过: /hpcfs/fpublic/database/alphafold/predicted_pdbs/AF-Q7KF27-F1-model_v4.pdb.gz\n",
      "警告: 源文件不存在，跳过: /hpcfs/fpublic/database/alphafold/predicted_pdbs/AF-Q95V75-F1-model_v4.pdb.gz\n",
      "警告: 源文件不存在，跳过: /hpcfs/fpublic/database/alphafold/predicted_pdbs/AF-Q96VT2-F1-model_v4.pdb.gz\n",
      "警告: 源文件不存在，跳过: /hpcfs/fpublic/database/alphafold/predicted_pdbs/AF-Q8IEK1-F1-model_v4.pdb.gz\n",
      "警告: 源文件不存在，跳过: /hpcfs/fpublic/database/alphafold/predicted_pdbs/AF-C6KI04-F1-model_v4.pdb.gz\n",
      "警告: 源文件不存在，跳过: /hpcfs/fpublic/database/alphafold/predicted_pdbs/AF-Q8PC98-F1-model_v4.pdb.gz\n",
      "警告: 源文件不存在，跳过: /hpcfs/fpublic/database/alphafold/predicted_pdbs/AF-Q2QC92-F1-model_v4.pdb.gz\n",
      "警告: 源文件不存在，跳过: /hpcfs/fhome/shizhenkun/codebase/RXNRECer/case/fusarium_venenatum/data/esmpdb/XP_025581578.2.pdb\n",
      "警告: 源文件不存在，跳过: /hpcfs/fhome/shizhenkun/codebase/RXNRECer/case/fusarium_venenatum/data/esmpdb/XP_025582496.1.pdb\n",
      "警告: 源文件不存在，跳过: /hpcfs/fhome/shizhenkun/codebase/RXNRECer/case/fusarium_venenatum/data/esmpdb/XP_025582990.1.pdb\n",
      "警告: 源文件不存在，跳过: /hpcfs/fhome/shizhenkun/codebase/RXNRECer/case/fusarium_venenatum/data/esmpdb/XP_025593565.1.pdb\n",
      "警告: 源文件不存在，跳过: /hpcfs/fhome/shizhenkun/codebase/RXNRECer/case/fusarium_venenatum/data/esmpdb/XP_065464798.1.pdb\n",
      "save to:ec_3_4_11_tmalign_results.tsv\n"
     ]
    },
    {
     "name": "stderr",
     "output_type": "stream",
     "text": [
      "595it [06:04,  1.63it/s]\n"
     ]
    }
   ],
   "source": [
    "ec_code_2='3.4.11'\n",
    "prep(case_ec=ec_code_2, data_brenda=data_brenda, case_clean_wrong=case_clean_wrong)"
   ]
  },
  {
   "cell_type": "code",
   "execution_count": null,
   "metadata": {},
   "outputs": [
    {
     "name": "stdout",
     "output_type": "stream",
     "text": [
      "警告: 源文件不存在，跳过: /hpcfs/fpublic/database/alphafold/predicted_pdbs//AF-Q8IEK1-F1-model_v4.pdb.gz\n",
      "警告: 源文件不存在，跳过: /hpcfs/fhome/shizhenkun/codebase/RXNRECer/case/fusarium_venenatum/data/esmpdb/XP_025581578.2.pdb\n",
      "警告: 源文件不存在，跳过: /hpcfs/fhome/shizhenkun/codebase/RXNRECer/case/fusarium_venenatum/data/esmpdb/XP_025582496.1.pdb\n",
      "警告: 源文件不存在，跳过: /hpcfs/fhome/shizhenkun/codebase/RXNRECer/case/fusarium_venenatum/data/esmpdb/XP_025582990.1.pdb\n",
      "警告: 源文件不存在，跳过: /hpcfs/fhome/shizhenkun/codebase/RXNRECer/case/fusarium_venenatum/data/esmpdb/XP_025593565.1.pdb\n",
      "save to:ec_3_4_11_2_tmalign_results.tsv\n"
     ]
    },
    {
     "name": "stderr",
     "output_type": "stream",
     "text": [
      "0it [00:00, ?it/s]"
     ]
    },
    {
     "name": "stderr",
     "output_type": "stream",
     "text": [
      "15it [00:23,  1.56s/it]\n"
     ]
    }
   ],
   "source": [
    "case_ec_3='3.4.11.2'\n",
    "prep(case_ec=case_ec_3, data_brenda=data_brenda, case_clean_wrong=case_clean_wrong)"
   ]
  },
  {
   "cell_type": "code",
   "execution_count": 115,
   "metadata": {},
   "outputs": [
    {
     "name": "stdout",
     "output_type": "stream",
     "text": [
      "警告: 源文件不存在，跳过: /hpcfs/fpublic/database/alphafold/predicted_pdbs/AF-B2JYH9-F1-model_v4.pdb.gz\n",
      "警告: 源文件不存在，跳过: /hpcfs/fpublic/database/alphafold/predicted_pdbs/AF-A0A2K1JMA3-F1-model_v4.pdb.gz\n",
      "警告: 源文件不存在，跳过: /hpcfs/fpublic/database/alphafold/predicted_pdbs/AF-Q2SY64-F1-model_v4.pdb.gz\n",
      "警告: 源文件不存在，跳过: /hpcfs/fpublic/database/alphafold/predicted_pdbs/AF-A9S498-F1-model_v4.pdb.gz\n",
      "警告: 源文件不存在，跳过: /hpcfs/fpublic/database/alphafold/predicted_pdbs/AF-D8R1Y1-F1-model_v4.pdb.gz\n",
      "警告: 源文件不存在，跳过: /hpcfs/fpublic/database/alphafold/predicted_pdbs/AF-W1PFX5-F1-model_v4.pdb.gz\n",
      "警告: 源文件不存在，跳过: /hpcfs/fpublic/database/alphafold/predicted_pdbs/AF-U5D896-F1-model_v4.pdb.gz\n",
      "警告: 源文件不存在，跳过: /hpcfs/fhome/shizhenkun/codebase/RXNRECer/case/fusarium_venenatum/data/esmpdb/XP_025584056.1.pdb\n",
      "警告: 源文件不存在，跳过: /hpcfs/fhome/shizhenkun/codebase/RXNRECer/case/fusarium_venenatum/data/esmpdb/XP_025586352.2.pdb\n",
      "save to:ec_5_4_99_5_tmalign_results.tsv\n"
     ]
    },
    {
     "name": "stderr",
     "output_type": "stream",
     "text": [
      "1225it [01:21, 15.01it/s]\n"
     ]
    }
   ],
   "source": [
    "prep(case_ec='5.4.99.5', data_brenda=data_brenda, case_clean_wrong=case_clean_wrong)"
   ]
  },
  {
   "cell_type": "code",
   "execution_count": 114,
   "metadata": {},
   "outputs": [
    {
     "data": {
      "text/html": [
       "<div>\n",
       "<style scoped>\n",
       "    .dataframe tbody tr th:only-of-type {\n",
       "        vertical-align: middle;\n",
       "    }\n",
       "\n",
       "    .dataframe tbody tr th {\n",
       "        vertical-align: top;\n",
       "    }\n",
       "\n",
       "    .dataframe thead th {\n",
       "        text-align: right;\n",
       "    }\n",
       "</style>\n",
       "<table border=\"1\" class=\"dataframe\">\n",
       "  <thead>\n",
       "    <tr style=\"text-align: right;\">\n",
       "      <th></th>\n",
       "      <th>input_id</th>\n",
       "      <th>RXNRECer</th>\n",
       "      <th>RXNRECer2EC</th>\n",
       "      <th>clean</th>\n",
       "      <th>ECRECer</th>\n",
       "      <th>MSA_RXN</th>\n",
       "      <th>MSA_EC</th>\n",
       "      <th>deepec</th>\n",
       "      <th>catfam</th>\n",
       "      <th>seq_len</th>\n",
       "      <th>...</th>\n",
       "      <th>clean_3digit</th>\n",
       "      <th>ECRECer_3digit</th>\n",
       "      <th>MSA_EC_3digit</th>\n",
       "      <th>deepec_3digit</th>\n",
       "      <th>catfam_3digit</th>\n",
       "      <th>rxnrecer_clean_3digit</th>\n",
       "      <th>rxnrecer_ecrecer_3digit</th>\n",
       "      <th>rxnrecer_msa_3digit</th>\n",
       "      <th>rxnrecer_deepec_3digit</th>\n",
       "      <th>rxnrecer_catfam_3digit</th>\n",
       "    </tr>\n",
       "  </thead>\n",
       "  <tbody>\n",
       "    <tr>\n",
       "      <th>75</th>\n",
       "      <td>XP_025580970.2</td>\n",
       "      <td>-</td>\n",
       "      <td>-</td>\n",
       "      <td>5.4.99.5</td>\n",
       "      <td>-</td>\n",
       "      <td>NO-PREDICTION</td>\n",
       "      <td>NO-PREDICTION</td>\n",
       "      <td>NO-PREDICTION</td>\n",
       "      <td>-</td>\n",
       "      <td>167</td>\n",
       "      <td>...</td>\n",
       "      <td>5.4.99</td>\n",
       "      <td>-</td>\n",
       "      <td>NO-PREDICTION</td>\n",
       "      <td>NO-PREDICTION</td>\n",
       "      <td>-</td>\n",
       "      <td>False</td>\n",
       "      <td>True</td>\n",
       "      <td>False</td>\n",
       "      <td>False</td>\n",
       "      <td>True</td>\n",
       "    </tr>\n",
       "    <tr>\n",
       "      <th>151</th>\n",
       "      <td>XP_025581141.1</td>\n",
       "      <td>-</td>\n",
       "      <td>-</td>\n",
       "      <td>5.4.99.5</td>\n",
       "      <td>-</td>\n",
       "      <td>NO-PREDICTION</td>\n",
       "      <td>NO-PREDICTION</td>\n",
       "      <td>NO-PREDICTION</td>\n",
       "      <td>-</td>\n",
       "      <td>120</td>\n",
       "      <td>...</td>\n",
       "      <td>5.4.99</td>\n",
       "      <td>-</td>\n",
       "      <td>NO-PREDICTION</td>\n",
       "      <td>NO-PREDICTION</td>\n",
       "      <td>-</td>\n",
       "      <td>False</td>\n",
       "      <td>True</td>\n",
       "      <td>False</td>\n",
       "      <td>False</td>\n",
       "      <td>True</td>\n",
       "    </tr>\n",
       "    <tr>\n",
       "      <th>165</th>\n",
       "      <td>XP_025581176.1</td>\n",
       "      <td>-</td>\n",
       "      <td>-</td>\n",
       "      <td>5.4.99.5</td>\n",
       "      <td>-</td>\n",
       "      <td>NO-PREDICTION</td>\n",
       "      <td>NO-PREDICTION</td>\n",
       "      <td>NO-PREDICTION</td>\n",
       "      <td>-</td>\n",
       "      <td>489</td>\n",
       "      <td>...</td>\n",
       "      <td>5.4.99</td>\n",
       "      <td>-</td>\n",
       "      <td>NO-PREDICTION</td>\n",
       "      <td>NO-PREDICTION</td>\n",
       "      <td>-</td>\n",
       "      <td>False</td>\n",
       "      <td>True</td>\n",
       "      <td>False</td>\n",
       "      <td>False</td>\n",
       "      <td>True</td>\n",
       "    </tr>\n",
       "    <tr>\n",
       "      <th>534</th>\n",
       "      <td>XP_025582040.1</td>\n",
       "      <td>-</td>\n",
       "      <td>-</td>\n",
       "      <td>5.4.99.5</td>\n",
       "      <td>-</td>\n",
       "      <td>-</td>\n",
       "      <td>-</td>\n",
       "      <td>NO-PREDICTION</td>\n",
       "      <td>-</td>\n",
       "      <td>163</td>\n",
       "      <td>...</td>\n",
       "      <td>5.4.99</td>\n",
       "      <td>-</td>\n",
       "      <td>-</td>\n",
       "      <td>NO-PREDICTION</td>\n",
       "      <td>-</td>\n",
       "      <td>False</td>\n",
       "      <td>True</td>\n",
       "      <td>True</td>\n",
       "      <td>False</td>\n",
       "      <td>True</td>\n",
       "    </tr>\n",
       "    <tr>\n",
       "      <th>587</th>\n",
       "      <td>XP_025582179.1</td>\n",
       "      <td>-</td>\n",
       "      <td>-</td>\n",
       "      <td>5.4.99.5</td>\n",
       "      <td>-</td>\n",
       "      <td>NO-PREDICTION</td>\n",
       "      <td>NO-PREDICTION</td>\n",
       "      <td>NO-PREDICTION</td>\n",
       "      <td>-</td>\n",
       "      <td>192</td>\n",
       "      <td>...</td>\n",
       "      <td>5.4.99</td>\n",
       "      <td>-</td>\n",
       "      <td>NO-PREDICTION</td>\n",
       "      <td>NO-PREDICTION</td>\n",
       "      <td>-</td>\n",
       "      <td>False</td>\n",
       "      <td>True</td>\n",
       "      <td>False</td>\n",
       "      <td>False</td>\n",
       "      <td>True</td>\n",
       "    </tr>\n",
       "    <tr>\n",
       "      <th>614</th>\n",
       "      <td>XP_025582252.1</td>\n",
       "      <td>-</td>\n",
       "      <td>-</td>\n",
       "      <td>5.4.99.5</td>\n",
       "      <td>-</td>\n",
       "      <td>NO-PREDICTION</td>\n",
       "      <td>NO-PREDICTION</td>\n",
       "      <td>NO-PREDICTION</td>\n",
       "      <td>-</td>\n",
       "      <td>146</td>\n",
       "      <td>...</td>\n",
       "      <td>5.4.99</td>\n",
       "      <td>-</td>\n",
       "      <td>NO-PREDICTION</td>\n",
       "      <td>NO-PREDICTION</td>\n",
       "      <td>-</td>\n",
       "      <td>False</td>\n",
       "      <td>True</td>\n",
       "      <td>False</td>\n",
       "      <td>False</td>\n",
       "      <td>True</td>\n",
       "    </tr>\n",
       "    <tr>\n",
       "      <th>636</th>\n",
       "      <td>XP_025582311.1</td>\n",
       "      <td>-</td>\n",
       "      <td>-</td>\n",
       "      <td>5.4.99.5</td>\n",
       "      <td>-</td>\n",
       "      <td>NO-PREDICTION</td>\n",
       "      <td>NO-PREDICTION</td>\n",
       "      <td>NO-PREDICTION</td>\n",
       "      <td>-</td>\n",
       "      <td>116</td>\n",
       "      <td>...</td>\n",
       "      <td>5.4.99</td>\n",
       "      <td>-</td>\n",
       "      <td>NO-PREDICTION</td>\n",
       "      <td>NO-PREDICTION</td>\n",
       "      <td>-</td>\n",
       "      <td>False</td>\n",
       "      <td>True</td>\n",
       "      <td>False</td>\n",
       "      <td>False</td>\n",
       "      <td>True</td>\n",
       "    </tr>\n",
       "    <tr>\n",
       "      <th>644</th>\n",
       "      <td>XP_025582333.1</td>\n",
       "      <td>-</td>\n",
       "      <td>-</td>\n",
       "      <td>5.4.99.5</td>\n",
       "      <td>-</td>\n",
       "      <td>NO-PREDICTION</td>\n",
       "      <td>NO-PREDICTION</td>\n",
       "      <td>NO-PREDICTION</td>\n",
       "      <td>-</td>\n",
       "      <td>190</td>\n",
       "      <td>...</td>\n",
       "      <td>5.4.99</td>\n",
       "      <td>-</td>\n",
       "      <td>NO-PREDICTION</td>\n",
       "      <td>NO-PREDICTION</td>\n",
       "      <td>-</td>\n",
       "      <td>False</td>\n",
       "      <td>True</td>\n",
       "      <td>False</td>\n",
       "      <td>False</td>\n",
       "      <td>True</td>\n",
       "    </tr>\n",
       "    <tr>\n",
       "      <th>806</th>\n",
       "      <td>XP_025582733.1</td>\n",
       "      <td>-</td>\n",
       "      <td>-</td>\n",
       "      <td>5.4.99.5</td>\n",
       "      <td>-</td>\n",
       "      <td>NO-PREDICTION</td>\n",
       "      <td>NO-PREDICTION</td>\n",
       "      <td>NO-PREDICTION</td>\n",
       "      <td>-</td>\n",
       "      <td>151</td>\n",
       "      <td>...</td>\n",
       "      <td>5.4.99</td>\n",
       "      <td>-</td>\n",
       "      <td>NO-PREDICTION</td>\n",
       "      <td>NO-PREDICTION</td>\n",
       "      <td>-</td>\n",
       "      <td>False</td>\n",
       "      <td>True</td>\n",
       "      <td>False</td>\n",
       "      <td>False</td>\n",
       "      <td>True</td>\n",
       "    </tr>\n",
       "    <tr>\n",
       "      <th>907</th>\n",
       "      <td>XP_025582975.1</td>\n",
       "      <td>-</td>\n",
       "      <td>-</td>\n",
       "      <td>5.4.99.5</td>\n",
       "      <td>-</td>\n",
       "      <td>NO-PREDICTION</td>\n",
       "      <td>NO-PREDICTION</td>\n",
       "      <td>NO-PREDICTION</td>\n",
       "      <td>-</td>\n",
       "      <td>362</td>\n",
       "      <td>...</td>\n",
       "      <td>5.4.99</td>\n",
       "      <td>-</td>\n",
       "      <td>NO-PREDICTION</td>\n",
       "      <td>NO-PREDICTION</td>\n",
       "      <td>-</td>\n",
       "      <td>False</td>\n",
       "      <td>True</td>\n",
       "      <td>False</td>\n",
       "      <td>False</td>\n",
       "      <td>True</td>\n",
       "    </tr>\n",
       "    <tr>\n",
       "      <th>942</th>\n",
       "      <td>XP_025583062.1</td>\n",
       "      <td>-</td>\n",
       "      <td>-</td>\n",
       "      <td>5.4.99.5</td>\n",
       "      <td>-</td>\n",
       "      <td>NO-PREDICTION</td>\n",
       "      <td>NO-PREDICTION</td>\n",
       "      <td>NO-PREDICTION</td>\n",
       "      <td>-</td>\n",
       "      <td>179</td>\n",
       "      <td>...</td>\n",
       "      <td>5.4.99</td>\n",
       "      <td>-</td>\n",
       "      <td>NO-PREDICTION</td>\n",
       "      <td>NO-PREDICTION</td>\n",
       "      <td>-</td>\n",
       "      <td>False</td>\n",
       "      <td>True</td>\n",
       "      <td>False</td>\n",
       "      <td>False</td>\n",
       "      <td>True</td>\n",
       "    </tr>\n",
       "    <tr>\n",
       "      <th>1186</th>\n",
       "      <td>XP_025583730.1</td>\n",
       "      <td>-</td>\n",
       "      <td>-</td>\n",
       "      <td>5.4.99.5</td>\n",
       "      <td>-</td>\n",
       "      <td>NO-PREDICTION</td>\n",
       "      <td>NO-PREDICTION</td>\n",
       "      <td>NO-PREDICTION</td>\n",
       "      <td>-</td>\n",
       "      <td>268</td>\n",
       "      <td>...</td>\n",
       "      <td>5.4.99</td>\n",
       "      <td>-</td>\n",
       "      <td>NO-PREDICTION</td>\n",
       "      <td>NO-PREDICTION</td>\n",
       "      <td>-</td>\n",
       "      <td>False</td>\n",
       "      <td>True</td>\n",
       "      <td>False</td>\n",
       "      <td>False</td>\n",
       "      <td>True</td>\n",
       "    </tr>\n",
       "    <tr>\n",
       "      <th>1310</th>\n",
       "      <td>XP_025584056.1</td>\n",
       "      <td>-</td>\n",
       "      <td>-</td>\n",
       "      <td>5.4.99.5</td>\n",
       "      <td>-</td>\n",
       "      <td>NO-PREDICTION</td>\n",
       "      <td>NO-PREDICTION</td>\n",
       "      <td>NO-PREDICTION</td>\n",
       "      <td>-</td>\n",
       "      <td>726</td>\n",
       "      <td>...</td>\n",
       "      <td>5.4.99</td>\n",
       "      <td>-</td>\n",
       "      <td>NO-PREDICTION</td>\n",
       "      <td>NO-PREDICTION</td>\n",
       "      <td>-</td>\n",
       "      <td>False</td>\n",
       "      <td>True</td>\n",
       "      <td>False</td>\n",
       "      <td>False</td>\n",
       "      <td>True</td>\n",
       "    </tr>\n",
       "    <tr>\n",
       "      <th>1450</th>\n",
       "      <td>XP_025584393.1</td>\n",
       "      <td>-</td>\n",
       "      <td>-</td>\n",
       "      <td>5.4.99.5</td>\n",
       "      <td>-</td>\n",
       "      <td>-</td>\n",
       "      <td>-</td>\n",
       "      <td>NO-PREDICTION</td>\n",
       "      <td>-</td>\n",
       "      <td>283</td>\n",
       "      <td>...</td>\n",
       "      <td>5.4.99</td>\n",
       "      <td>-</td>\n",
       "      <td>-</td>\n",
       "      <td>NO-PREDICTION</td>\n",
       "      <td>-</td>\n",
       "      <td>False</td>\n",
       "      <td>True</td>\n",
       "      <td>True</td>\n",
       "      <td>False</td>\n",
       "      <td>True</td>\n",
       "    </tr>\n",
       "    <tr>\n",
       "      <th>1909</th>\n",
       "      <td>XP_025585643.1</td>\n",
       "      <td>-</td>\n",
       "      <td>-</td>\n",
       "      <td>5.4.99.5</td>\n",
       "      <td>-</td>\n",
       "      <td>NO-PREDICTION</td>\n",
       "      <td>NO-PREDICTION</td>\n",
       "      <td>NO-PREDICTION</td>\n",
       "      <td>-</td>\n",
       "      <td>113</td>\n",
       "      <td>...</td>\n",
       "      <td>5.4.99</td>\n",
       "      <td>-</td>\n",
       "      <td>NO-PREDICTION</td>\n",
       "      <td>NO-PREDICTION</td>\n",
       "      <td>-</td>\n",
       "      <td>False</td>\n",
       "      <td>True</td>\n",
       "      <td>False</td>\n",
       "      <td>False</td>\n",
       "      <td>True</td>\n",
       "    </tr>\n",
       "    <tr>\n",
       "      <th>2001</th>\n",
       "      <td>XP_025585914.1</td>\n",
       "      <td>-</td>\n",
       "      <td>-</td>\n",
       "      <td>5.4.99.5</td>\n",
       "      <td>-</td>\n",
       "      <td>NO-PREDICTION</td>\n",
       "      <td>NO-PREDICTION</td>\n",
       "      <td>NO-PREDICTION</td>\n",
       "      <td>-</td>\n",
       "      <td>264</td>\n",
       "      <td>...</td>\n",
       "      <td>5.4.99</td>\n",
       "      <td>-</td>\n",
       "      <td>NO-PREDICTION</td>\n",
       "      <td>NO-PREDICTION</td>\n",
       "      <td>-</td>\n",
       "      <td>False</td>\n",
       "      <td>True</td>\n",
       "      <td>False</td>\n",
       "      <td>False</td>\n",
       "      <td>True</td>\n",
       "    </tr>\n",
       "    <tr>\n",
       "      <th>2057</th>\n",
       "      <td>XP_025586064.1</td>\n",
       "      <td>-</td>\n",
       "      <td>-</td>\n",
       "      <td>5.4.99.5</td>\n",
       "      <td>-</td>\n",
       "      <td>NO-PREDICTION</td>\n",
       "      <td>NO-PREDICTION</td>\n",
       "      <td>NO-PREDICTION</td>\n",
       "      <td>-</td>\n",
       "      <td>200</td>\n",
       "      <td>...</td>\n",
       "      <td>5.4.99</td>\n",
       "      <td>-</td>\n",
       "      <td>NO-PREDICTION</td>\n",
       "      <td>NO-PREDICTION</td>\n",
       "      <td>-</td>\n",
       "      <td>False</td>\n",
       "      <td>True</td>\n",
       "      <td>False</td>\n",
       "      <td>False</td>\n",
       "      <td>True</td>\n",
       "    </tr>\n",
       "    <tr>\n",
       "      <th>2165</th>\n",
       "      <td>XP_025586352.2</td>\n",
       "      <td>-</td>\n",
       "      <td>-</td>\n",
       "      <td>5.4.99.5</td>\n",
       "      <td>-</td>\n",
       "      <td>-</td>\n",
       "      <td>-</td>\n",
       "      <td>NO-PREDICTION</td>\n",
       "      <td>-</td>\n",
       "      <td>2015</td>\n",
       "      <td>...</td>\n",
       "      <td>5.4.99</td>\n",
       "      <td>-</td>\n",
       "      <td>-</td>\n",
       "      <td>NO-PREDICTION</td>\n",
       "      <td>-</td>\n",
       "      <td>False</td>\n",
       "      <td>True</td>\n",
       "      <td>True</td>\n",
       "      <td>False</td>\n",
       "      <td>True</td>\n",
       "    </tr>\n",
       "    <tr>\n",
       "      <th>2411</th>\n",
       "      <td>XP_025586980.1</td>\n",
       "      <td>-</td>\n",
       "      <td>-</td>\n",
       "      <td>5.4.99.5</td>\n",
       "      <td>-</td>\n",
       "      <td>NO-PREDICTION</td>\n",
       "      <td>NO-PREDICTION</td>\n",
       "      <td>NO-PREDICTION</td>\n",
       "      <td>-</td>\n",
       "      <td>256</td>\n",
       "      <td>...</td>\n",
       "      <td>5.4.99</td>\n",
       "      <td>-</td>\n",
       "      <td>NO-PREDICTION</td>\n",
       "      <td>NO-PREDICTION</td>\n",
       "      <td>-</td>\n",
       "      <td>False</td>\n",
       "      <td>True</td>\n",
       "      <td>False</td>\n",
       "      <td>False</td>\n",
       "      <td>True</td>\n",
       "    </tr>\n",
       "    <tr>\n",
       "      <th>2798</th>\n",
       "      <td>XP_025588037.1</td>\n",
       "      <td>-</td>\n",
       "      <td>-</td>\n",
       "      <td>5.4.99.5</td>\n",
       "      <td>-</td>\n",
       "      <td>-</td>\n",
       "      <td>-</td>\n",
       "      <td>NO-PREDICTION</td>\n",
       "      <td>-</td>\n",
       "      <td>91</td>\n",
       "      <td>...</td>\n",
       "      <td>5.4.99</td>\n",
       "      <td>-</td>\n",
       "      <td>-</td>\n",
       "      <td>NO-PREDICTION</td>\n",
       "      <td>-</td>\n",
       "      <td>False</td>\n",
       "      <td>True</td>\n",
       "      <td>True</td>\n",
       "      <td>False</td>\n",
       "      <td>True</td>\n",
       "    </tr>\n",
       "    <tr>\n",
       "      <th>2970</th>\n",
       "      <td>XP_025588466.2</td>\n",
       "      <td>-</td>\n",
       "      <td>-</td>\n",
       "      <td>5.4.99.5</td>\n",
       "      <td>-</td>\n",
       "      <td>-</td>\n",
       "      <td>-</td>\n",
       "      <td>NO-PREDICTION</td>\n",
       "      <td>-</td>\n",
       "      <td>127</td>\n",
       "      <td>...</td>\n",
       "      <td>5.4.99</td>\n",
       "      <td>-</td>\n",
       "      <td>-</td>\n",
       "      <td>NO-PREDICTION</td>\n",
       "      <td>-</td>\n",
       "      <td>False</td>\n",
       "      <td>True</td>\n",
       "      <td>True</td>\n",
       "      <td>False</td>\n",
       "      <td>True</td>\n",
       "    </tr>\n",
       "    <tr>\n",
       "      <th>3095</th>\n",
       "      <td>XP_025588696.2</td>\n",
       "      <td>-</td>\n",
       "      <td>-</td>\n",
       "      <td>5.4.99.5</td>\n",
       "      <td>-</td>\n",
       "      <td>NO-PREDICTION</td>\n",
       "      <td>NO-PREDICTION</td>\n",
       "      <td>NO-PREDICTION</td>\n",
       "      <td>-</td>\n",
       "      <td>389</td>\n",
       "      <td>...</td>\n",
       "      <td>5.4.99</td>\n",
       "      <td>-</td>\n",
       "      <td>NO-PREDICTION</td>\n",
       "      <td>NO-PREDICTION</td>\n",
       "      <td>-</td>\n",
       "      <td>False</td>\n",
       "      <td>True</td>\n",
       "      <td>False</td>\n",
       "      <td>False</td>\n",
       "      <td>True</td>\n",
       "    </tr>\n",
       "    <tr>\n",
       "      <th>3292</th>\n",
       "      <td>XP_025589125.2</td>\n",
       "      <td>-</td>\n",
       "      <td>-</td>\n",
       "      <td>5.4.99.5</td>\n",
       "      <td>-</td>\n",
       "      <td>NO-PREDICTION</td>\n",
       "      <td>NO-PREDICTION</td>\n",
       "      <td>NO-PREDICTION</td>\n",
       "      <td>-</td>\n",
       "      <td>216</td>\n",
       "      <td>...</td>\n",
       "      <td>5.4.99</td>\n",
       "      <td>-</td>\n",
       "      <td>NO-PREDICTION</td>\n",
       "      <td>NO-PREDICTION</td>\n",
       "      <td>-</td>\n",
       "      <td>False</td>\n",
       "      <td>True</td>\n",
       "      <td>False</td>\n",
       "      <td>False</td>\n",
       "      <td>True</td>\n",
       "    </tr>\n",
       "    <tr>\n",
       "      <th>3718</th>\n",
       "      <td>XP_025590194.2</td>\n",
       "      <td>-</td>\n",
       "      <td>-</td>\n",
       "      <td>5.4.99.5</td>\n",
       "      <td>-</td>\n",
       "      <td>NO-PREDICTION</td>\n",
       "      <td>NO-PREDICTION</td>\n",
       "      <td>NO-PREDICTION</td>\n",
       "      <td>-</td>\n",
       "      <td>350</td>\n",
       "      <td>...</td>\n",
       "      <td>5.4.99</td>\n",
       "      <td>-</td>\n",
       "      <td>NO-PREDICTION</td>\n",
       "      <td>NO-PREDICTION</td>\n",
       "      <td>-</td>\n",
       "      <td>False</td>\n",
       "      <td>True</td>\n",
       "      <td>False</td>\n",
       "      <td>False</td>\n",
       "      <td>True</td>\n",
       "    </tr>\n",
       "    <tr>\n",
       "      <th>4031</th>\n",
       "      <td>XP_025590901.2</td>\n",
       "      <td>-</td>\n",
       "      <td>-</td>\n",
       "      <td>5.4.99.5</td>\n",
       "      <td>-</td>\n",
       "      <td>NO-PREDICTION</td>\n",
       "      <td>NO-PREDICTION</td>\n",
       "      <td>NO-PREDICTION</td>\n",
       "      <td>-</td>\n",
       "      <td>180</td>\n",
       "      <td>...</td>\n",
       "      <td>5.4.99</td>\n",
       "      <td>-</td>\n",
       "      <td>NO-PREDICTION</td>\n",
       "      <td>NO-PREDICTION</td>\n",
       "      <td>-</td>\n",
       "      <td>False</td>\n",
       "      <td>True</td>\n",
       "      <td>False</td>\n",
       "      <td>False</td>\n",
       "      <td>True</td>\n",
       "    </tr>\n",
       "    <tr>\n",
       "      <th>4200</th>\n",
       "      <td>XP_025591342.1</td>\n",
       "      <td>-</td>\n",
       "      <td>-</td>\n",
       "      <td>5.4.99.5</td>\n",
       "      <td>-</td>\n",
       "      <td>NO-PREDICTION</td>\n",
       "      <td>NO-PREDICTION</td>\n",
       "      <td>NO-PREDICTION</td>\n",
       "      <td>-</td>\n",
       "      <td>157</td>\n",
       "      <td>...</td>\n",
       "      <td>5.4.99</td>\n",
       "      <td>-</td>\n",
       "      <td>NO-PREDICTION</td>\n",
       "      <td>NO-PREDICTION</td>\n",
       "      <td>-</td>\n",
       "      <td>False</td>\n",
       "      <td>True</td>\n",
       "      <td>False</td>\n",
       "      <td>False</td>\n",
       "      <td>True</td>\n",
       "    </tr>\n",
       "    <tr>\n",
       "      <th>4302</th>\n",
       "      <td>XP_025591686.2</td>\n",
       "      <td>-</td>\n",
       "      <td>-</td>\n",
       "      <td>5.4.99.5</td>\n",
       "      <td>-</td>\n",
       "      <td>NO-PREDICTION</td>\n",
       "      <td>NO-PREDICTION</td>\n",
       "      <td>NO-PREDICTION</td>\n",
       "      <td>-</td>\n",
       "      <td>495</td>\n",
       "      <td>...</td>\n",
       "      <td>5.4.99</td>\n",
       "      <td>-</td>\n",
       "      <td>NO-PREDICTION</td>\n",
       "      <td>NO-PREDICTION</td>\n",
       "      <td>-</td>\n",
       "      <td>False</td>\n",
       "      <td>True</td>\n",
       "      <td>False</td>\n",
       "      <td>False</td>\n",
       "      <td>True</td>\n",
       "    </tr>\n",
       "    <tr>\n",
       "      <th>4727</th>\n",
       "      <td>XP_025592784.1</td>\n",
       "      <td>-</td>\n",
       "      <td>-</td>\n",
       "      <td>5.4.99.5</td>\n",
       "      <td>-</td>\n",
       "      <td>NO-PREDICTION</td>\n",
       "      <td>NO-PREDICTION</td>\n",
       "      <td>NO-PREDICTION</td>\n",
       "      <td>-</td>\n",
       "      <td>100</td>\n",
       "      <td>...</td>\n",
       "      <td>5.4.99</td>\n",
       "      <td>-</td>\n",
       "      <td>NO-PREDICTION</td>\n",
       "      <td>NO-PREDICTION</td>\n",
       "      <td>-</td>\n",
       "      <td>False</td>\n",
       "      <td>True</td>\n",
       "      <td>False</td>\n",
       "      <td>False</td>\n",
       "      <td>True</td>\n",
       "    </tr>\n",
       "    <tr>\n",
       "      <th>4783</th>\n",
       "      <td>XP_025592906.1</td>\n",
       "      <td>-</td>\n",
       "      <td>-</td>\n",
       "      <td>5.4.99.5</td>\n",
       "      <td>-</td>\n",
       "      <td>NO-PREDICTION</td>\n",
       "      <td>NO-PREDICTION</td>\n",
       "      <td>NO-PREDICTION</td>\n",
       "      <td>-</td>\n",
       "      <td>462</td>\n",
       "      <td>...</td>\n",
       "      <td>5.4.99</td>\n",
       "      <td>-</td>\n",
       "      <td>NO-PREDICTION</td>\n",
       "      <td>NO-PREDICTION</td>\n",
       "      <td>-</td>\n",
       "      <td>False</td>\n",
       "      <td>True</td>\n",
       "      <td>False</td>\n",
       "      <td>False</td>\n",
       "      <td>True</td>\n",
       "    </tr>\n",
       "    <tr>\n",
       "      <th>5285</th>\n",
       "      <td>XP_025593986.1</td>\n",
       "      <td>-</td>\n",
       "      <td>-</td>\n",
       "      <td>5.4.99.5</td>\n",
       "      <td>-</td>\n",
       "      <td>NO-PREDICTION</td>\n",
       "      <td>NO-PREDICTION</td>\n",
       "      <td>NO-PREDICTION</td>\n",
       "      <td>-</td>\n",
       "      <td>231</td>\n",
       "      <td>...</td>\n",
       "      <td>5.4.99</td>\n",
       "      <td>-</td>\n",
       "      <td>NO-PREDICTION</td>\n",
       "      <td>NO-PREDICTION</td>\n",
       "      <td>-</td>\n",
       "      <td>False</td>\n",
       "      <td>True</td>\n",
       "      <td>False</td>\n",
       "      <td>False</td>\n",
       "      <td>True</td>\n",
       "    </tr>\n",
       "    <tr>\n",
       "      <th>5439</th>\n",
       "      <td>XP_025594385.1</td>\n",
       "      <td>-</td>\n",
       "      <td>-</td>\n",
       "      <td>5.4.99.5</td>\n",
       "      <td>-</td>\n",
       "      <td>NO-PREDICTION</td>\n",
       "      <td>NO-PREDICTION</td>\n",
       "      <td>NO-PREDICTION</td>\n",
       "      <td>-</td>\n",
       "      <td>162</td>\n",
       "      <td>...</td>\n",
       "      <td>5.4.99</td>\n",
       "      <td>-</td>\n",
       "      <td>NO-PREDICTION</td>\n",
       "      <td>NO-PREDICTION</td>\n",
       "      <td>-</td>\n",
       "      <td>False</td>\n",
       "      <td>True</td>\n",
       "      <td>False</td>\n",
       "      <td>False</td>\n",
       "      <td>True</td>\n",
       "    </tr>\n",
       "    <tr>\n",
       "      <th>5467</th>\n",
       "      <td>XP_025594447.1</td>\n",
       "      <td>-</td>\n",
       "      <td>-</td>\n",
       "      <td>5.4.99.5</td>\n",
       "      <td>-</td>\n",
       "      <td>NO-PREDICTION</td>\n",
       "      <td>NO-PREDICTION</td>\n",
       "      <td>NO-PREDICTION</td>\n",
       "      <td>-</td>\n",
       "      <td>349</td>\n",
       "      <td>...</td>\n",
       "      <td>5.4.99</td>\n",
       "      <td>-</td>\n",
       "      <td>NO-PREDICTION</td>\n",
       "      <td>NO-PREDICTION</td>\n",
       "      <td>-</td>\n",
       "      <td>False</td>\n",
       "      <td>True</td>\n",
       "      <td>False</td>\n",
       "      <td>False</td>\n",
       "      <td>True</td>\n",
       "    </tr>\n",
       "    <tr>\n",
       "      <th>5907</th>\n",
       "      <td>XP_065463602.1</td>\n",
       "      <td>-</td>\n",
       "      <td>-</td>\n",
       "      <td>5.4.99.5</td>\n",
       "      <td>-</td>\n",
       "      <td>NO-PREDICTION</td>\n",
       "      <td>NO-PREDICTION</td>\n",
       "      <td>NO-PREDICTION</td>\n",
       "      <td>-</td>\n",
       "      <td>84</td>\n",
       "      <td>...</td>\n",
       "      <td>5.4.99</td>\n",
       "      <td>-</td>\n",
       "      <td>NO-PREDICTION</td>\n",
       "      <td>NO-PREDICTION</td>\n",
       "      <td>-</td>\n",
       "      <td>False</td>\n",
       "      <td>True</td>\n",
       "      <td>False</td>\n",
       "      <td>False</td>\n",
       "      <td>True</td>\n",
       "    </tr>\n",
       "    <tr>\n",
       "      <th>5972</th>\n",
       "      <td>XP_065463703.1</td>\n",
       "      <td>-</td>\n",
       "      <td>-</td>\n",
       "      <td>5.4.99.5</td>\n",
       "      <td>-</td>\n",
       "      <td>NO-PREDICTION</td>\n",
       "      <td>NO-PREDICTION</td>\n",
       "      <td>NO-PREDICTION</td>\n",
       "      <td>-</td>\n",
       "      <td>379</td>\n",
       "      <td>...</td>\n",
       "      <td>5.4.99</td>\n",
       "      <td>-</td>\n",
       "      <td>NO-PREDICTION</td>\n",
       "      <td>NO-PREDICTION</td>\n",
       "      <td>-</td>\n",
       "      <td>False</td>\n",
       "      <td>True</td>\n",
       "      <td>False</td>\n",
       "      <td>False</td>\n",
       "      <td>True</td>\n",
       "    </tr>\n",
       "    <tr>\n",
       "      <th>6771</th>\n",
       "      <td>XP_065464943.1</td>\n",
       "      <td>-</td>\n",
       "      <td>-</td>\n",
       "      <td>5.4.99.5</td>\n",
       "      <td>-</td>\n",
       "      <td>NO-PREDICTION</td>\n",
       "      <td>NO-PREDICTION</td>\n",
       "      <td>NO-PREDICTION</td>\n",
       "      <td>-</td>\n",
       "      <td>242</td>\n",
       "      <td>...</td>\n",
       "      <td>5.4.99</td>\n",
       "      <td>-</td>\n",
       "      <td>NO-PREDICTION</td>\n",
       "      <td>NO-PREDICTION</td>\n",
       "      <td>-</td>\n",
       "      <td>False</td>\n",
       "      <td>True</td>\n",
       "      <td>False</td>\n",
       "      <td>False</td>\n",
       "      <td>True</td>\n",
       "    </tr>\n",
       "    <tr>\n",
       "      <th>7375</th>\n",
       "      <td>XP_065465868.1</td>\n",
       "      <td>-</td>\n",
       "      <td>-</td>\n",
       "      <td>5.4.99.5</td>\n",
       "      <td>-</td>\n",
       "      <td>NO-PREDICTION</td>\n",
       "      <td>NO-PREDICTION</td>\n",
       "      <td>NO-PREDICTION</td>\n",
       "      <td>-</td>\n",
       "      <td>253</td>\n",
       "      <td>...</td>\n",
       "      <td>5.4.99</td>\n",
       "      <td>-</td>\n",
       "      <td>NO-PREDICTION</td>\n",
       "      <td>NO-PREDICTION</td>\n",
       "      <td>-</td>\n",
       "      <td>False</td>\n",
       "      <td>True</td>\n",
       "      <td>False</td>\n",
       "      <td>False</td>\n",
       "      <td>True</td>\n",
       "    </tr>\n",
       "    <tr>\n",
       "      <th>7461</th>\n",
       "      <td>XP_065465980.1</td>\n",
       "      <td>-</td>\n",
       "      <td>-</td>\n",
       "      <td>5.4.99.5</td>\n",
       "      <td>-</td>\n",
       "      <td>NO-PREDICTION</td>\n",
       "      <td>NO-PREDICTION</td>\n",
       "      <td>NO-PREDICTION</td>\n",
       "      <td>-</td>\n",
       "      <td>898</td>\n",
       "      <td>...</td>\n",
       "      <td>5.4.99</td>\n",
       "      <td>-</td>\n",
       "      <td>NO-PREDICTION</td>\n",
       "      <td>NO-PREDICTION</td>\n",
       "      <td>-</td>\n",
       "      <td>False</td>\n",
       "      <td>True</td>\n",
       "      <td>False</td>\n",
       "      <td>False</td>\n",
       "      <td>True</td>\n",
       "    </tr>\n",
       "    <tr>\n",
       "      <th>7500</th>\n",
       "      <td>XP_065466036.1</td>\n",
       "      <td>-</td>\n",
       "      <td>-</td>\n",
       "      <td>5.4.99.5</td>\n",
       "      <td>-</td>\n",
       "      <td>NO-PREDICTION</td>\n",
       "      <td>NO-PREDICTION</td>\n",
       "      <td>NO-PREDICTION</td>\n",
       "      <td>-</td>\n",
       "      <td>377</td>\n",
       "      <td>...</td>\n",
       "      <td>5.4.99</td>\n",
       "      <td>-</td>\n",
       "      <td>NO-PREDICTION</td>\n",
       "      <td>NO-PREDICTION</td>\n",
       "      <td>-</td>\n",
       "      <td>False</td>\n",
       "      <td>True</td>\n",
       "      <td>False</td>\n",
       "      <td>False</td>\n",
       "      <td>True</td>\n",
       "    </tr>\n",
       "    <tr>\n",
       "      <th>7555</th>\n",
       "      <td>XP_065466136.1</td>\n",
       "      <td>-</td>\n",
       "      <td>-</td>\n",
       "      <td>5.4.99.5</td>\n",
       "      <td>-</td>\n",
       "      <td>NO-PREDICTION</td>\n",
       "      <td>NO-PREDICTION</td>\n",
       "      <td>NO-PREDICTION</td>\n",
       "      <td>-</td>\n",
       "      <td>109</td>\n",
       "      <td>...</td>\n",
       "      <td>5.4.99</td>\n",
       "      <td>-</td>\n",
       "      <td>NO-PREDICTION</td>\n",
       "      <td>NO-PREDICTION</td>\n",
       "      <td>-</td>\n",
       "      <td>False</td>\n",
       "      <td>True</td>\n",
       "      <td>False</td>\n",
       "      <td>False</td>\n",
       "      <td>True</td>\n",
       "    </tr>\n",
       "  </tbody>\n",
       "</table>\n",
       "<p>39 rows × 26 columns</p>\n",
       "</div>"
      ],
      "text/plain": [
       "            input_id RXNRECer RXNRECer2EC     clean ECRECer        MSA_RXN  \\\n",
       "75    XP_025580970.2        -           -  5.4.99.5       -  NO-PREDICTION   \n",
       "151   XP_025581141.1        -           -  5.4.99.5       -  NO-PREDICTION   \n",
       "165   XP_025581176.1        -           -  5.4.99.5       -  NO-PREDICTION   \n",
       "534   XP_025582040.1        -           -  5.4.99.5       -              -   \n",
       "587   XP_025582179.1        -           -  5.4.99.5       -  NO-PREDICTION   \n",
       "614   XP_025582252.1        -           -  5.4.99.5       -  NO-PREDICTION   \n",
       "636   XP_025582311.1        -           -  5.4.99.5       -  NO-PREDICTION   \n",
       "644   XP_025582333.1        -           -  5.4.99.5       -  NO-PREDICTION   \n",
       "806   XP_025582733.1        -           -  5.4.99.5       -  NO-PREDICTION   \n",
       "907   XP_025582975.1        -           -  5.4.99.5       -  NO-PREDICTION   \n",
       "942   XP_025583062.1        -           -  5.4.99.5       -  NO-PREDICTION   \n",
       "1186  XP_025583730.1        -           -  5.4.99.5       -  NO-PREDICTION   \n",
       "1310  XP_025584056.1        -           -  5.4.99.5       -  NO-PREDICTION   \n",
       "1450  XP_025584393.1        -           -  5.4.99.5       -              -   \n",
       "1909  XP_025585643.1        -           -  5.4.99.5       -  NO-PREDICTION   \n",
       "2001  XP_025585914.1        -           -  5.4.99.5       -  NO-PREDICTION   \n",
       "2057  XP_025586064.1        -           -  5.4.99.5       -  NO-PREDICTION   \n",
       "2165  XP_025586352.2        -           -  5.4.99.5       -              -   \n",
       "2411  XP_025586980.1        -           -  5.4.99.5       -  NO-PREDICTION   \n",
       "2798  XP_025588037.1        -           -  5.4.99.5       -              -   \n",
       "2970  XP_025588466.2        -           -  5.4.99.5       -              -   \n",
       "3095  XP_025588696.2        -           -  5.4.99.5       -  NO-PREDICTION   \n",
       "3292  XP_025589125.2        -           -  5.4.99.5       -  NO-PREDICTION   \n",
       "3718  XP_025590194.2        -           -  5.4.99.5       -  NO-PREDICTION   \n",
       "4031  XP_025590901.2        -           -  5.4.99.5       -  NO-PREDICTION   \n",
       "4200  XP_025591342.1        -           -  5.4.99.5       -  NO-PREDICTION   \n",
       "4302  XP_025591686.2        -           -  5.4.99.5       -  NO-PREDICTION   \n",
       "4727  XP_025592784.1        -           -  5.4.99.5       -  NO-PREDICTION   \n",
       "4783  XP_025592906.1        -           -  5.4.99.5       -  NO-PREDICTION   \n",
       "5285  XP_025593986.1        -           -  5.4.99.5       -  NO-PREDICTION   \n",
       "5439  XP_025594385.1        -           -  5.4.99.5       -  NO-PREDICTION   \n",
       "5467  XP_025594447.1        -           -  5.4.99.5       -  NO-PREDICTION   \n",
       "5907  XP_065463602.1        -           -  5.4.99.5       -  NO-PREDICTION   \n",
       "5972  XP_065463703.1        -           -  5.4.99.5       -  NO-PREDICTION   \n",
       "6771  XP_065464943.1        -           -  5.4.99.5       -  NO-PREDICTION   \n",
       "7375  XP_065465868.1        -           -  5.4.99.5       -  NO-PREDICTION   \n",
       "7461  XP_065465980.1        -           -  5.4.99.5       -  NO-PREDICTION   \n",
       "7500  XP_065466036.1        -           -  5.4.99.5       -  NO-PREDICTION   \n",
       "7555  XP_065466136.1        -           -  5.4.99.5       -  NO-PREDICTION   \n",
       "\n",
       "             MSA_EC         deepec catfam  seq_len  ...  clean_3digit  \\\n",
       "75    NO-PREDICTION  NO-PREDICTION      -      167  ...        5.4.99   \n",
       "151   NO-PREDICTION  NO-PREDICTION      -      120  ...        5.4.99   \n",
       "165   NO-PREDICTION  NO-PREDICTION      -      489  ...        5.4.99   \n",
       "534               -  NO-PREDICTION      -      163  ...        5.4.99   \n",
       "587   NO-PREDICTION  NO-PREDICTION      -      192  ...        5.4.99   \n",
       "614   NO-PREDICTION  NO-PREDICTION      -      146  ...        5.4.99   \n",
       "636   NO-PREDICTION  NO-PREDICTION      -      116  ...        5.4.99   \n",
       "644   NO-PREDICTION  NO-PREDICTION      -      190  ...        5.4.99   \n",
       "806   NO-PREDICTION  NO-PREDICTION      -      151  ...        5.4.99   \n",
       "907   NO-PREDICTION  NO-PREDICTION      -      362  ...        5.4.99   \n",
       "942   NO-PREDICTION  NO-PREDICTION      -      179  ...        5.4.99   \n",
       "1186  NO-PREDICTION  NO-PREDICTION      -      268  ...        5.4.99   \n",
       "1310  NO-PREDICTION  NO-PREDICTION      -      726  ...        5.4.99   \n",
       "1450              -  NO-PREDICTION      -      283  ...        5.4.99   \n",
       "1909  NO-PREDICTION  NO-PREDICTION      -      113  ...        5.4.99   \n",
       "2001  NO-PREDICTION  NO-PREDICTION      -      264  ...        5.4.99   \n",
       "2057  NO-PREDICTION  NO-PREDICTION      -      200  ...        5.4.99   \n",
       "2165              -  NO-PREDICTION      -     2015  ...        5.4.99   \n",
       "2411  NO-PREDICTION  NO-PREDICTION      -      256  ...        5.4.99   \n",
       "2798              -  NO-PREDICTION      -       91  ...        5.4.99   \n",
       "2970              -  NO-PREDICTION      -      127  ...        5.4.99   \n",
       "3095  NO-PREDICTION  NO-PREDICTION      -      389  ...        5.4.99   \n",
       "3292  NO-PREDICTION  NO-PREDICTION      -      216  ...        5.4.99   \n",
       "3718  NO-PREDICTION  NO-PREDICTION      -      350  ...        5.4.99   \n",
       "4031  NO-PREDICTION  NO-PREDICTION      -      180  ...        5.4.99   \n",
       "4200  NO-PREDICTION  NO-PREDICTION      -      157  ...        5.4.99   \n",
       "4302  NO-PREDICTION  NO-PREDICTION      -      495  ...        5.4.99   \n",
       "4727  NO-PREDICTION  NO-PREDICTION      -      100  ...        5.4.99   \n",
       "4783  NO-PREDICTION  NO-PREDICTION      -      462  ...        5.4.99   \n",
       "5285  NO-PREDICTION  NO-PREDICTION      -      231  ...        5.4.99   \n",
       "5439  NO-PREDICTION  NO-PREDICTION      -      162  ...        5.4.99   \n",
       "5467  NO-PREDICTION  NO-PREDICTION      -      349  ...        5.4.99   \n",
       "5907  NO-PREDICTION  NO-PREDICTION      -       84  ...        5.4.99   \n",
       "5972  NO-PREDICTION  NO-PREDICTION      -      379  ...        5.4.99   \n",
       "6771  NO-PREDICTION  NO-PREDICTION      -      242  ...        5.4.99   \n",
       "7375  NO-PREDICTION  NO-PREDICTION      -      253  ...        5.4.99   \n",
       "7461  NO-PREDICTION  NO-PREDICTION      -      898  ...        5.4.99   \n",
       "7500  NO-PREDICTION  NO-PREDICTION      -      377  ...        5.4.99   \n",
       "7555  NO-PREDICTION  NO-PREDICTION      -      109  ...        5.4.99   \n",
       "\n",
       "      ECRECer_3digit  MSA_EC_3digit  deepec_3digit  catfam_3digit  \\\n",
       "75                 -  NO-PREDICTION  NO-PREDICTION              -   \n",
       "151                -  NO-PREDICTION  NO-PREDICTION              -   \n",
       "165                -  NO-PREDICTION  NO-PREDICTION              -   \n",
       "534                -              -  NO-PREDICTION              -   \n",
       "587                -  NO-PREDICTION  NO-PREDICTION              -   \n",
       "614                -  NO-PREDICTION  NO-PREDICTION              -   \n",
       "636                -  NO-PREDICTION  NO-PREDICTION              -   \n",
       "644                -  NO-PREDICTION  NO-PREDICTION              -   \n",
       "806                -  NO-PREDICTION  NO-PREDICTION              -   \n",
       "907                -  NO-PREDICTION  NO-PREDICTION              -   \n",
       "942                -  NO-PREDICTION  NO-PREDICTION              -   \n",
       "1186               -  NO-PREDICTION  NO-PREDICTION              -   \n",
       "1310               -  NO-PREDICTION  NO-PREDICTION              -   \n",
       "1450               -              -  NO-PREDICTION              -   \n",
       "1909               -  NO-PREDICTION  NO-PREDICTION              -   \n",
       "2001               -  NO-PREDICTION  NO-PREDICTION              -   \n",
       "2057               -  NO-PREDICTION  NO-PREDICTION              -   \n",
       "2165               -              -  NO-PREDICTION              -   \n",
       "2411               -  NO-PREDICTION  NO-PREDICTION              -   \n",
       "2798               -              -  NO-PREDICTION              -   \n",
       "2970               -              -  NO-PREDICTION              -   \n",
       "3095               -  NO-PREDICTION  NO-PREDICTION              -   \n",
       "3292               -  NO-PREDICTION  NO-PREDICTION              -   \n",
       "3718               -  NO-PREDICTION  NO-PREDICTION              -   \n",
       "4031               -  NO-PREDICTION  NO-PREDICTION              -   \n",
       "4200               -  NO-PREDICTION  NO-PREDICTION              -   \n",
       "4302               -  NO-PREDICTION  NO-PREDICTION              -   \n",
       "4727               -  NO-PREDICTION  NO-PREDICTION              -   \n",
       "4783               -  NO-PREDICTION  NO-PREDICTION              -   \n",
       "5285               -  NO-PREDICTION  NO-PREDICTION              -   \n",
       "5439               -  NO-PREDICTION  NO-PREDICTION              -   \n",
       "5467               -  NO-PREDICTION  NO-PREDICTION              -   \n",
       "5907               -  NO-PREDICTION  NO-PREDICTION              -   \n",
       "5972               -  NO-PREDICTION  NO-PREDICTION              -   \n",
       "6771               -  NO-PREDICTION  NO-PREDICTION              -   \n",
       "7375               -  NO-PREDICTION  NO-PREDICTION              -   \n",
       "7461               -  NO-PREDICTION  NO-PREDICTION              -   \n",
       "7500               -  NO-PREDICTION  NO-PREDICTION              -   \n",
       "7555               -  NO-PREDICTION  NO-PREDICTION              -   \n",
       "\n",
       "     rxnrecer_clean_3digit rxnrecer_ecrecer_3digit rxnrecer_msa_3digit  \\\n",
       "75                   False                    True               False   \n",
       "151                  False                    True               False   \n",
       "165                  False                    True               False   \n",
       "534                  False                    True                True   \n",
       "587                  False                    True               False   \n",
       "614                  False                    True               False   \n",
       "636                  False                    True               False   \n",
       "644                  False                    True               False   \n",
       "806                  False                    True               False   \n",
       "907                  False                    True               False   \n",
       "942                  False                    True               False   \n",
       "1186                 False                    True               False   \n",
       "1310                 False                    True               False   \n",
       "1450                 False                    True                True   \n",
       "1909                 False                    True               False   \n",
       "2001                 False                    True               False   \n",
       "2057                 False                    True               False   \n",
       "2165                 False                    True                True   \n",
       "2411                 False                    True               False   \n",
       "2798                 False                    True                True   \n",
       "2970                 False                    True                True   \n",
       "3095                 False                    True               False   \n",
       "3292                 False                    True               False   \n",
       "3718                 False                    True               False   \n",
       "4031                 False                    True               False   \n",
       "4200                 False                    True               False   \n",
       "4302                 False                    True               False   \n",
       "4727                 False                    True               False   \n",
       "4783                 False                    True               False   \n",
       "5285                 False                    True               False   \n",
       "5439                 False                    True               False   \n",
       "5467                 False                    True               False   \n",
       "5907                 False                    True               False   \n",
       "5972                 False                    True               False   \n",
       "6771                 False                    True               False   \n",
       "7375                 False                    True               False   \n",
       "7461                 False                    True               False   \n",
       "7500                 False                    True               False   \n",
       "7555                 False                    True               False   \n",
       "\n",
       "     rxnrecer_deepec_3digit rxnrecer_catfam_3digit  \n",
       "75                    False                   True  \n",
       "151                   False                   True  \n",
       "165                   False                   True  \n",
       "534                   False                   True  \n",
       "587                   False                   True  \n",
       "614                   False                   True  \n",
       "636                   False                   True  \n",
       "644                   False                   True  \n",
       "806                   False                   True  \n",
       "907                   False                   True  \n",
       "942                   False                   True  \n",
       "1186                  False                   True  \n",
       "1310                  False                   True  \n",
       "1450                  False                   True  \n",
       "1909                  False                   True  \n",
       "2001                  False                   True  \n",
       "2057                  False                   True  \n",
       "2165                  False                   True  \n",
       "2411                  False                   True  \n",
       "2798                  False                   True  \n",
       "2970                  False                   True  \n",
       "3095                  False                   True  \n",
       "3292                  False                   True  \n",
       "3718                  False                   True  \n",
       "4031                  False                   True  \n",
       "4200                  False                   True  \n",
       "4302                  False                   True  \n",
       "4727                  False                   True  \n",
       "4783                  False                   True  \n",
       "5285                  False                   True  \n",
       "5439                  False                   True  \n",
       "5467                  False                   True  \n",
       "5907                  False                   True  \n",
       "5972                  False                   True  \n",
       "6771                  False                   True  \n",
       "7375                  False                   True  \n",
       "7461                  False                   True  \n",
       "7500                  False                   True  \n",
       "7555                  False                   True  \n",
       "\n",
       "[39 rows x 26 columns]"
      ]
     },
     "execution_count": 114,
     "metadata": {},
     "output_type": "execute_result"
    }
   ],
   "source": [
    "case_clean_wrong[case_clean_wrong.clean=='5.4.99.5']"
   ]
  },
  {
   "cell_type": "code",
   "execution_count": null,
   "metadata": {},
   "outputs": [],
   "source": []
  },
  {
   "cell_type": "code",
   "execution_count": null,
   "metadata": {},
   "outputs": [],
   "source": []
  },
  {
   "cell_type": "code",
   "execution_count": null,
   "metadata": {},
   "outputs": [],
   "source": []
  },
  {
   "cell_type": "code",
   "execution_count": null,
   "metadata": {},
   "outputs": [],
   "source": []
  },
  {
   "cell_type": "code",
   "execution_count": null,
   "metadata": {},
   "outputs": [],
   "source": []
  },
  {
   "cell_type": "code",
   "execution_count": null,
   "metadata": {},
   "outputs": [],
   "source": []
  },
  {
   "cell_type": "code",
   "execution_count": null,
   "metadata": {},
   "outputs": [],
   "source": []
  },
  {
   "cell_type": "code",
   "execution_count": null,
   "metadata": {},
   "outputs": [],
   "source": []
  }
 ],
 "metadata": {
  "kernelspec": {
   "display_name": "rxnrecer",
   "language": "python",
   "name": "python3"
  },
  "language_info": {
   "codemirror_mode": {
    "name": "ipython",
    "version": 3
   },
   "file_extension": ".py",
   "mimetype": "text/x-python",
   "name": "python",
   "nbconvert_exporter": "python",
   "pygments_lexer": "ipython3",
   "version": "3.10.14"
  }
 },
 "nbformat": 4,
 "nbformat_minor": 2
}
