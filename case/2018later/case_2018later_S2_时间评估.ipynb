{
 "cells": [
  {
   "cell_type": "markdown",
   "metadata": {},
   "source": [
    "## S2 集成时间评估\n",
    "> 2024-09-03\n",
    "\n",
    "### 1. 导入必要的包"
   ]
  },
  {
   "cell_type": "code",
   "execution_count": 1,
   "metadata": {},
   "outputs": [
    {
     "name": "stderr",
     "output_type": "stream",
     "text": [
      "/hpcfs/fhome/shizhenkun/miniconda3/envs/jaxunirep/lib/python3.10/site-packages/jax_unirep/utils.py:13: UserWarning: pkg_resources is deprecated as an API. See https://setuptools.pypa.io/en/latest/pkg_resources.html. The pkg_resources package is slated for removal as early as 2025-11-30. Refrain from using this package or pin to Setuptools<81.\n",
      "  import pkg_resources\n"
     ]
    },
    {
     "name": "stdout",
     "output_type": "stream",
     "text": [
      "INFO: Pandarallel will run on 192 workers.\n",
      "INFO: Pandarallel will use Memory file system to transfer data between the main process and workers.\n"
     ]
    }
   ],
   "source": [
    "import sys,os\n",
    "sys.path.insert(0, os.path.dirname(os.path.realpath('__file__')))\n",
    "sys.path.insert(1,'../../')\n",
    "from config import conf as cfg\n",
    "import pandas as pd\n",
    "from tkinter import _flatten\n",
    "import numpy as np\n",
    "import json\n",
    "import time\n",
    "from sklearn.metrics import confusion_matrix\n",
    "import rxnrecer as production\n",
    "from modules import commonfunction as cmfunc\n",
    "from IPython.display import HTML\n",
    "import tools.bioFunctionLib as bfl\n",
    "import modules.predict.predRXN as predrxn\n",
    "import tools.btools as btools\n",
    "from pandarallel import pandarallel # 导入pandaralle\n",
    "pandarallel.initialize(progress_bar=False)\n",
    "%load_ext autoreload\n",
    "%autoreload 2"
   ]
  },
  {
   "cell_type": "markdown",
   "metadata": {},
   "source": [
    "### 2. 加载测试数据集"
   ]
  },
  {
   "cell_type": "code",
   "execution_count": 6,
   "metadata": {},
   "outputs": [
    {
     "name": "stdout",
     "output_type": "stream",
     "text": [
      "测试集数据量: 13515\n",
      "使用预测方法['ecblast', 'rxnblast', 'deepec', 'clean', 'ecrecer', 'ecpred', 'catfam', 'priam']\n"
     ]
    }
   ],
   "source": [
    "# load datasets\n",
    "ds_test = pd.read_feather(cfg.FILE_DS_TEST)\n",
    "print(f'测试集数据量: {len(ds_test)}')\n",
    "method = ['ecblast', 'rxnblast', 'deepec', 'clean', 'ecrecer', 'ecpred', 'catfam', 'priam']\n",
    "print(f'使用预测方法{method}')\n"
   ]
  },
  {
   "cell_type": "markdown",
   "metadata": {},
   "source": [
    "## 3. 方法时间测试\n",
    "### 3.1 ecblast"
   ]
  },
  {
   "cell_type": "code",
   "execution_count": 17,
   "metadata": {},
   "outputs": [
    {
     "name": "stdout",
     "output_type": "stream",
     "text": [
      "运行时间: 31.50 秒\n"
     ]
    },
    {
     "data": {
      "text/html": [
       "<div>\n",
       "<style scoped>\n",
       "    .dataframe tbody tr th:only-of-type {\n",
       "        vertical-align: middle;\n",
       "    }\n",
       "\n",
       "    .dataframe tbody tr th {\n",
       "        vertical-align: top;\n",
       "    }\n",
       "\n",
       "    .dataframe thead th {\n",
       "        text-align: right;\n",
       "    }\n",
       "</style>\n",
       "<table border=\"1\" class=\"dataframe\">\n",
       "  <thead>\n",
       "    <tr style=\"text-align: right;\">\n",
       "      <th></th>\n",
       "      <th>uniprot_id</th>\n",
       "      <th>reaction_groundtruth</th>\n",
       "      <th>ec_groundtruth</th>\n",
       "      <th>ec_ecblast</th>\n",
       "      <th>reaction_ecblast</th>\n",
       "    </tr>\n",
       "  </thead>\n",
       "  <tbody>\n",
       "    <tr>\n",
       "      <th>0</th>\n",
       "      <td>A9JLI2</td>\n",
       "      <td>-</td>\n",
       "      <td>-</td>\n",
       "      <td>-</td>\n",
       "      <td>-</td>\n",
       "    </tr>\n",
       "    <tr>\n",
       "      <th>1</th>\n",
       "      <td>A9JLI3</td>\n",
       "      <td>-</td>\n",
       "      <td>-</td>\n",
       "      <td>-</td>\n",
       "      <td>-</td>\n",
       "    </tr>\n",
       "    <tr>\n",
       "      <th>2</th>\n",
       "      <td>A9JLI5</td>\n",
       "      <td>-</td>\n",
       "      <td>-</td>\n",
       "      <td>-</td>\n",
       "      <td>-</td>\n",
       "    </tr>\n",
       "  </tbody>\n",
       "</table>\n",
       "</div>"
      ],
      "text/plain": [
       "  uniprot_id reaction_groundtruth ec_groundtruth ec_ecblast reaction_ecblast\n",
       "0     A9JLI2                    -              -          -                -\n",
       "1     A9JLI3                    -              -          -                -\n",
       "2     A9JLI5                    -              -          -                -"
      ]
     },
     "execution_count": 17,
     "metadata": {},
     "output_type": "execute_result"
    }
   ],
   "source": [
    "start = time.time()\n",
    "\n",
    "\n",
    "#add reaction data\n",
    "ds_rhea = pd.read_feather(cfg.FILE_DS_RHEA_REACTIONS)\n",
    "\n",
    "# caculate reaction_id ec_number map\n",
    "ec_reaction_map = ds_rhea[['reaction_id', 'ec_number']].copy()\n",
    "ec_reaction_map = ec_reaction_map.fillna('REACTION-WITHOUT-EC')\n",
    "ec_reaction_map = pd.concat([ec_reaction_map, pd.DataFrame({'reaction_id':['NO-PREDICTION', '-'],'ec_number':['NO-PREDICTION', '-']})], axis=0).reset_index(drop=True)\n",
    "ec_reaction_map.ec_number = ec_reaction_map.ec_number.apply(lambda x: x.replace('EC:',''))\n",
    "ec_reaction_map = ec_reaction_map.assign(ec_number=ec_reaction_map['ec_number'].str.split(';')).explode('ec_number').reset_index(drop=True).rename(columns={'ec_number': 'ec'})\n",
    "\n",
    "\n",
    "#trainning set\n",
    "ds_train = pd.read_feather(cfg.FILE_DS_TRAIN)\n",
    "\n",
    "#blsting test set\n",
    "blast_res_ec = bfl.getblast(train=ds_train[['uniprot_id', 'seq']], test=ds_test[['uniprot_id', 'seq']], k=1)    \n",
    "blast_res_ec= blast_res_ec[['id','sseqid']].merge(ds_train[['uniprot_id', 'ec_number']], left_on='sseqid', right_on='uniprot_id', how='left')[['id','ec_number']].rename(columns={'id':'uniprot_id', 'ec_number':'ec_ecblast'})\n",
    "#拼合test，加入无预测结果的数据\n",
    "blast_res_ec=ds_test[['uniprot_id', 'reaction_id','ec_number']].rename(columns={'reaction_id':'reaction_groundtruth', 'ec_number': 'ec_groundtruth'}).merge(blast_res_ec, on='uniprot_id', how='left').fillna('NO-PREDICTION')\n",
    "#add rxn info\n",
    "blast_res_ec['reaction_ecblast']=blast_res_ec.ec_ecblast.parallel_apply(lambda x: btools.retrival_reaction_from_ec(ec_pred=x, ec_reaction_map=ec_reaction_map))\n",
    "\n",
    "end = time.time()\n",
    "print(f\"运行时间: {end - start:.2f} 秒\")\n",
    "\n",
    "blast_res_ec.head(3)"
   ]
  },
  {
   "cell_type": "markdown",
   "metadata": {},
   "source": [
    "#### 3.2 rxnblast"
   ]
  },
  {
   "cell_type": "code",
   "execution_count": 23,
   "metadata": {},
   "outputs": [
    {
     "name": "stdout",
     "output_type": "stream",
     "text": [
      "运行时间: 13.77 秒\n"
     ]
    },
    {
     "data": {
      "text/html": [
       "<div>\n",
       "<style scoped>\n",
       "    .dataframe tbody tr th:only-of-type {\n",
       "        vertical-align: middle;\n",
       "    }\n",
       "\n",
       "    .dataframe tbody tr th {\n",
       "        vertical-align: top;\n",
       "    }\n",
       "\n",
       "    .dataframe thead th {\n",
       "        text-align: right;\n",
       "    }\n",
       "</style>\n",
       "<table border=\"1\" class=\"dataframe\">\n",
       "  <thead>\n",
       "    <tr style=\"text-align: right;\">\n",
       "      <th></th>\n",
       "      <th>uniprot_id</th>\n",
       "      <th>reaction_id</th>\n",
       "      <th>reaction_blast</th>\n",
       "    </tr>\n",
       "  </thead>\n",
       "  <tbody>\n",
       "    <tr>\n",
       "      <th>0</th>\n",
       "      <td>A9JLI2</td>\n",
       "      <td>-</td>\n",
       "      <td>-</td>\n",
       "    </tr>\n",
       "    <tr>\n",
       "      <th>1</th>\n",
       "      <td>A9JLI3</td>\n",
       "      <td>-</td>\n",
       "      <td>-</td>\n",
       "    </tr>\n",
       "    <tr>\n",
       "      <th>2</th>\n",
       "      <td>A9JLI5</td>\n",
       "      <td>-</td>\n",
       "      <td>-</td>\n",
       "    </tr>\n",
       "  </tbody>\n",
       "</table>\n",
       "</div>"
      ],
      "text/plain": [
       "  uniprot_id reaction_id reaction_blast\n",
       "0     A9JLI2           -              -\n",
       "1     A9JLI3           -              -\n",
       "2     A9JLI5           -              -"
      ]
     },
     "execution_count": 23,
     "metadata": {},
     "output_type": "execute_result"
    }
   ],
   "source": [
    "start = time.time()\n",
    "blast_res = bfl.getblast(train=ds_train[['uniprot_id', 'seq']], test=ds_test[['uniprot_id', 'seq']], k=1)         # 序列比对\n",
    "blast_res = blast_res.merge(ds_train, left_on='sseqid', right_on='uniprot_id', how='left')[['id', 'reaction_id']].rename(columns={'id':'uniprot_id', 'reaction_id':'reaction_blast'})\n",
    "blast_res = ds_test[['uniprot_id', 'reaction_id']].merge(blast_res, on='uniprot_id', how='left').fillna('NO-PREDICTION')\n",
    "end = time.time()\n",
    "print(f\"运行时间: {end - start:.2f} 秒\")\n",
    "blast_res.head(3)"
   ]
  },
  {
   "cell_type": "markdown",
   "metadata": {},
   "source": [
    "### 3.3 DeepEC"
   ]
  },
  {
   "cell_type": "code",
   "execution_count": 29,
   "metadata": {},
   "outputs": [
    {
     "name": "stdout",
     "output_type": "stream",
     "text": [
      "deepec cmd: \n",
      "time singularity exec /hpcfs/fpublic/container/singularity/app/deepec/deepec.sif python /opt/deepec/deepec.py -i /hpcfs/fhome/shizhenkun/codebase/RXNRECer/data/datasets/task240524/ds_test.fasta -o /tmp/deepec\n",
      "      \n"
     ]
    }
   ],
   "source": [
    "deepec_res_file = '/tmp/deepec'\n",
    "print(f'''deepec cmd: \n",
    "time singularity exec /hpcfs/fpublic/container/singularity/app/deepec/deepec.sif python /opt/deepec/deepec.py -i {cfg.FILE_DS_TEST_FASTA} -o {deepec_res_file}\n",
    "      ''')"
   ]
  },
  {
   "cell_type": "markdown",
   "metadata": {},
   "source": [
    "### 3.4 CLEAN"
   ]
  },
  {
   "cell_type": "code",
   "execution_count": 4,
   "metadata": {},
   "outputs": [
    {
     "name": "stdout",
     "output_type": "stream",
     "text": [
      "time singularity exec --nv /hpcfs/fpublic/container/singularity/app/clean/clean.sif python /app/inference.py -i /hpcfs/fhome/shizhenkun/codebase/RXNRECer/data/datasets/task240524/ds_test.fasta -o /tmp/clean -d ~/tmp/\n"
     ]
    }
   ],
   "source": [
    "cmd = f'time singularity exec --nv /hpcfs/fpublic/container/singularity/app/clean/clean.sif python /app/inference.py -i {cfg.FILE_DS_TEST_FASTA} -o /tmp/clean -d ~/tmp/'\n",
    "print(cmd)"
   ]
  },
  {
   "cell_type": "markdown",
   "metadata": {},
   "source": [
    "### 3.5 RXNRECer"
   ]
  },
  {
   "cell_type": "code",
   "execution_count": 37,
   "metadata": {},
   "outputs": [
    {
     "name": "stdout",
     "output_type": "stream",
     "text": [
      "Step 1: Preparing input data\n",
      "Step 2: Loading predictive model\n",
      "Use device: cuda\n",
      "Step 3: Running prediction on 13515 proteins\n"
     ]
    },
    {
     "name": "stderr",
     "output_type": "stream",
     "text": [
      "Predicting reactions: 100%|██████████| 300/300 [00:38<00:00,  7.89it/s]\n",
      "Predicting reactions: 100%|██████████| 300/300 [00:28<00:00, 10.36it/s]\n",
      "Predicting reactions: 100%|██████████| 300/300 [00:37<00:00,  7.90it/s]\n",
      "Predicting reactions: 100%|██████████| 300/300 [00:28<00:00, 10.52it/s]\n",
      "Predicting reactions: 100%|██████████| 300/300 [00:35<00:00,  8.43it/s]\n",
      "Predicting reactions: 100%|██████████| 300/300 [00:26<00:00, 11.50it/s]\n",
      "Predicting reactions: 100%|██████████| 300/300 [00:34<00:00,  8.59it/s]\n",
      "Predicting reactions: 100%|██████████| 300/300 [00:32<00:00,  9.26it/s]\n",
      "Predicting reactions: 100%|██████████| 300/300 [00:47<00:00,  6.27it/s]\n",
      "Predicting reactions: 100%|██████████| 300/300 [00:28<00:00, 10.48it/s]\n",
      "Predicting reactions: 100%|██████████| 300/300 [00:34<00:00,  8.76it/s]\n",
      "Predicting reactions: 100%|██████████| 300/300 [00:46<00:00,  6.39it/s]\n",
      "Predicting reactions: 100%|██████████| 300/300 [00:41<00:00,  7.32it/s]\n",
      "Predicting reactions: 100%|██████████| 300/300 [00:42<00:00,  7.07it/s]\n",
      "Predicting reactions: 100%|██████████| 300/300 [00:28<00:00, 10.63it/s]\n",
      "Predicting reactions: 100%|██████████| 300/300 [00:45<00:00,  6.62it/s]\n",
      "Predicting reactions: 100%|██████████| 300/300 [00:41<00:00,  7.25it/s]\n",
      "Predicting reactions: 100%|██████████| 300/300 [00:26<00:00, 11.41it/s]\n",
      "Predicting reactions: 100%|██████████| 300/300 [00:34<00:00,  8.77it/s]\n",
      "Predicting reactions: 100%|██████████| 300/300 [00:36<00:00,  8.25it/s]\n",
      "Predicting reactions: 100%|██████████| 300/300 [00:20<00:00, 14.77it/s]\n",
      "Predicting reactions: 100%|██████████| 300/300 [00:48<00:00,  6.21it/s]\n",
      "Predicting reactions: 100%|██████████| 158/158 [00:13<00:00, 11.49it/s]\n",
      "100%|██████████| 23/23 [13:30<00:00, 35.24s/it]"
     ]
    },
    {
     "name": "stdout",
     "output_type": "stream",
     "text": [
      "Time cost: 815.0774381160736s\n"
     ]
    },
    {
     "name": "stderr",
     "output_type": "stream",
     "text": [
      "\n"
     ]
    }
   ],
   "source": [
    "time_start = time.time()\n",
    "ds_test = pd.read_feather(cfg.FILE_DS_TEST)\n",
    "res_rxnrecer_s1 = production.step_by_step_prediction(input_data=ds_test[['uniprot_id', 'seq']], Ensemble=False, output_file=None,batch_size=600)\n",
    "time_end = time.time()\n",
    "print(f'Time cost: {time_end-time_start}s')"
   ]
  },
  {
   "cell_type": "markdown",
   "metadata": {},
   "source": [
    "### 3.6 PRIAM"
   ]
  },
  {
   "cell_type": "code",
   "execution_count": 3,
   "metadata": {},
   "outputs": [
    {
     "name": "stdout",
     "output_type": "stream",
     "text": [
      "priam cmd: \n",
      "time singularity exec /hpcfs/fpublic/container/singularity/app/priam/priam.sif /opt/jdk1.7.0_80/bin/java -Xmx128G -jar /opt/priam/PRIAM_search.jar -p /opt/priam/PRIAM_JAN18  -i /hpcfs/fhome/shizhenkun/codebase/RXNRECer/data/datasets/task240524/ds_test.fasta -o /tmp/priam/ --blast_path /opt/blast-2.2.26/bin -np 100\n",
      " \n"
     ]
    }
   ],
   "source": [
    "priam_res_file = '/tmp/priam/'\n",
    "print(f'''priam cmd: \n",
    "time singularity exec /hpcfs/fpublic/container/singularity/app/priam/priam.sif /opt/jdk1.7.0_80/bin/java -Xmx128G -jar /opt/priam/PRIAM_search.jar -p /opt/priam/PRIAM_JAN18  -i {cfg.FILE_DS_TEST_FASTA} -o {priam_res_file} --blast_path /opt/blast-2.2.26/bin -np 100\n",
    " ''')"
   ]
  },
  {
   "cell_type": "markdown",
   "metadata": {},
   "source": [
    "### 3.7 ECPred"
   ]
  },
  {
   "cell_type": "code",
   "execution_count": 6,
   "metadata": {},
   "outputs": [
    {
     "name": "stdout",
     "output_type": "stream",
     "text": [
      "ECpred cmd: \n",
      "time singularity exec /hpcfs/fpublic/container/singularity/app/ecpred/ecpred.sif java  -Xmx128G -jar /ECPred/ECPred.jar spmap  /hpcfs/fhome/shizhenkun/codebase/RXNRECer/data/datasets/task240524/ds_test.fasta /ECPred/ /tmp /tmp/ecpred/test.txt\n",
      "      \n"
     ]
    }
   ],
   "source": [
    "ECPred_res_file = '/tmp/ecpred/test.txt'\n",
    "singularity_ecpred = '/hpcfs/fpublic/container/singularity/app/ecpred/ecpred.sif'\n",
    "print(f'''ECpred cmd: \n",
    "time singularity exec {singularity_ecpred} java  -Xmx128G -jar /ECPred/ECPred.jar spmap  {cfg.FILE_DS_TEST_FASTA} /ECPred/ /tmp {ECPred_res_file}\n",
    "      ''')"
   ]
  },
  {
   "cell_type": "markdown",
   "metadata": {},
   "source": [
    "### 3.8 ESM simi"
   ]
  },
  {
   "cell_type": "code",
   "execution_count": 39,
   "metadata": {},
   "outputs": [
    {
     "name": "stdout",
     "output_type": "stream",
     "text": [
      "Transferred model to GPU\n"
     ]
    },
    {
     "name": "stderr",
     "output_type": "stream",
     "text": [
      "100%|██████████| 13515/13515 [10:18<00:00, 21.87it/s]\n"
     ]
    },
    {
     "name": "stdout",
     "output_type": "stream",
     "text": [
      "Time cost: 1327.035010099411\n"
     ]
    }
   ],
   "source": [
    "time_start = time.time()\n",
    "\n",
    "from modules.embedding import seqEmbedding as ebdseq\n",
    "featureBank = pd.read_feather(cfg.FILE_PRODUCTION_FEATURES)\n",
    "dict_featureBank = pd.Series( featureBank['uniprot_id'], featureBank.index.values).to_dict()\n",
    "\n",
    "# 从 JSON 文件加载字典数据\n",
    "with open(cfg.DICT_UNIPROT_RHEA, \"r\") as json_file:\n",
    "    dict_uniprot2rhea = json.load(json_file)\n",
    "\n",
    "# ESM embedding   \n",
    "embd_esm = ebdseq.getEsm(ds_test[['uniprot_id', 'seq']].rename(columns={'uniprot_id':'id'}))\n",
    "# ESM similarity\n",
    "esm_cos = predrxn.get_top_protein_simi(x_feature=np.vstack(featureBank.esm), \n",
    "                                y_feature=np.vstack(embd_esm.esm), \n",
    "                                y_uniprot_id=embd_esm.id, \n",
    "                                dict_featureBank=dict_featureBank, \n",
    "                                dict_uniprot2rhea = dict_uniprot2rhea,\n",
    "                                topk=5).rename(columns={'simi':'esm'})\n",
    "\n",
    "time_end = time.time()\n",
    "print('Time cost:', time_end - time_start)"
   ]
  },
  {
   "cell_type": "markdown",
   "metadata": {},
   "source": [
    "### 3.9 T5"
   ]
  },
  {
   "cell_type": "code",
   "execution_count": 40,
   "metadata": {},
   "outputs": [
    {
     "name": "stderr",
     "output_type": "stream",
     "text": [
      "Processing Sequences: 100%|██████████| 13515/13515 [04:56<00:00, 45.63it/s] \n"
     ]
    },
    {
     "name": "stdout",
     "output_type": "stream",
     "text": [
      "Processed 13515 proteins in 296.19 seconds\n",
      "Time cost: 1026.413476228714 s\n"
     ]
    }
   ],
   "source": [
    "time_start = time.time()\n",
    "from modules.embedding import t5Embedding as ebdt5\n",
    "\n",
    "featureBank = pd.read_feather(cfg.FILE_PRODUCTION_FEATURES)\n",
    "dict_featureBank = pd.Series( featureBank['uniprot_id'], featureBank.index.values).to_dict()\n",
    "\n",
    "# 从 JSON 文件加载字典数据\n",
    "with open(cfg.DICT_UNIPROT_RHEA, \"r\") as json_file:\n",
    "    dict_uniprot2rhea = json.load(json_file)\n",
    "\n",
    "# T5 Embedding    \n",
    "embd_t5 = ebdt5.get_embd_seq(seqdfwithid=ds_test[['uniprot_id', 'seq']].rename(columns={'uniprot_id':'id'}), batch_size=20)\n",
    "    \n",
    "# T5 similarity\n",
    "t5_cos =  predrxn.get_top_protein_simi(x_feature=np.vstack(featureBank.t5), \n",
    "                            y_feature=np.vstack(embd_t5.t5), \n",
    "                            y_uniprot_id=embd_t5.id, \n",
    "                            dict_featureBank=dict_featureBank, \n",
    "                            dict_uniprot2rhea = dict_uniprot2rhea,\n",
    "                            topk=10).rename(columns={'simi':'t5'})\n",
    "\n",
    "end_time = time.time()\n",
    "print(f\"Time cost: {end_time - time_start} s\")"
   ]
  },
  {
   "cell_type": "markdown",
   "metadata": {},
   "source": [
    "### 3.10 UniRep"
   ]
  },
  {
   "cell_type": "code",
   "execution_count": 5,
   "metadata": {},
   "outputs": [
    {
     "name": "stderr",
     "output_type": "stream",
     "text": [
      "100%|██████████| 34/34 [1:13:01<00:00, 128.86s/it]\n"
     ]
    },
    {
     "name": "stdout",
     "output_type": "stream",
     "text": [
      "Time cost: 4888.816755533218 s\n"
     ]
    }
   ],
   "source": [
    "time_start = time.time()\n",
    "\n",
    "from modules.embedding import seqEmbedding as ebdseq\n",
    "ds_test = pd.read_feather(cfg.FILE_DS_TEST)\n",
    "\n",
    "# 从 JSON 文件加载字典数据\n",
    "with open(cfg.DICT_UNIPROT_RHEA, \"r\") as json_file:\n",
    "    dict_uniprot2rhea = json.load(json_file)\n",
    "\n",
    "featureBank = pd.read_feather(cfg.FILE_PRODUCTION_FEATURES)\n",
    "dict_featureBank = pd.Series( featureBank['uniprot_id'], featureBank.index.values).to_dict()\n",
    "\n",
    "embd_unirep = ebdseq.getUnirep(ds_test[['uniprot_id', 'seq']].rename(columns={'uniprot_id':'id'}), batch_size=400)\n",
    "\n",
    "# UniRep similarity\n",
    "unirep_cos =  predrxn.get_top_protein_simi(x_feature=np.vstack(featureBank.unirep), \n",
    "                            y_feature=np.vstack(embd_unirep.unirep), \n",
    "                            y_uniprot_id=embd_unirep.id, \n",
    "                            dict_featureBank=dict_featureBank, \n",
    "                            dict_uniprot2rhea = dict_uniprot2rhea,\n",
    "                            topk=10).rename(columns={'simi':'unirep'})\n",
    "\n",
    "\n",
    "end_time = time.time()\n",
    "print(f\"Time cost: {end_time - time_start} s\")"
   ]
  }
 ],
 "metadata": {
  "kernelspec": {
   "display_name": "jaxunirep",
   "language": "python",
   "name": "python3"
  },
  "language_info": {
   "codemirror_mode": {
    "name": "ipython",
    "version": 3
   },
   "file_extension": ".py",
   "mimetype": "text/x-python",
   "name": "python",
   "nbconvert_exporter": "python",
   "pygments_lexer": "ipython3",
   "version": "3.10.18"
  },
  "widgets": {
   "application/vnd.jupyter.widget-state+json": {
    "state": {},
    "version_major": 2,
    "version_minor": 0
   }
  }
 },
 "nbformat": 4,
 "nbformat_minor": 4
}
