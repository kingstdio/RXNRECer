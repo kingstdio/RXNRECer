{
 "cells": [
  {
   "cell_type": "markdown",
   "metadata": {},
   "source": [
    "# Ecoli 案例，新发现P0A6C1\n",
    "> zhenkun.shi@tib.cas.cn   \n",
    "> 2024-12-17"
   ]
  },
  {
   "cell_type": "code",
   "execution_count": 1,
   "metadata": {},
   "outputs": [
    {
     "name": "stdout",
     "output_type": "stream",
     "text": [
      "INFO: Pandarallel will run on 128 workers.\n",
      "INFO: Pandarallel will use Memory file system to transfer data between the main process and workers.\n"
     ]
    }
   ],
   "source": [
    "import sys,os\n",
    "sys.path.insert(0, os.path.dirname(os.path.realpath('__file__')))\n",
    "sys.path.insert(1,'../../')\n",
    "sys.path.insert(1,'../../../')\n",
    "sys.path.insert(1,'../methods/active-learning/')\n",
    "from config import conf as cfg\n",
    "from tools import uniprottool as uptool\n",
    "from tools import  bioFunctionLib as bfl\n",
    "import rxnrecer as production\n",
    "from modules import commonfunction as cmfunc\n",
    "from tqdm import tqdm\n",
    "import re\n",
    "from pandarallel import pandarallel # 导入pandaralle\n",
    "pandarallel.initialize(progress_bar=False)\n",
    "from tkinter import _flatten\n",
    "import json\n",
    "from tools import btools\n",
    "from evaluation import evTools\n",
    "import pandas as pd\n",
    "import matplotlib.pyplot as plt\n",
    "from matplotlib_venn import venn2,venn3\n",
    "\n",
    "FIRST_TIME_RUN = False # For the initial run, please set this flag to True. This will allow the program to download data from UniProt and RHEA, which may take longer depending on your internet speed.\n",
    "\n",
    "%load_ext autoreload\n",
    "%autoreload 2"
   ]
  },
  {
   "cell_type": "markdown",
   "metadata": {},
   "source": []
  },
  {
   "cell_type": "markdown",
   "metadata": {},
   "source": [
    "# case_P0A6C1"
   ]
  },
  {
   "cell_type": "code",
   "execution_count": 42,
   "metadata": {},
   "outputs": [],
   "source": [
    "uniprot_ids = ['P0A6C1', 'A9CH28', 'Q98FW0', 'O50580', 'A0A172U6X0', 'B8I944', 'A8RG82', 'Q9WYP7', 'C1KKR1', 'A0A1L7NQ96']\n",
    "try2_uniprot_res=uptool.get_uniprot_records_by_ids(ids=uniprot_ids, batch_size=40)\n",
    "bfl.table2fasta(table=try2_uniprot_res[['uniprot_id', 'seq']], file_out='/hpcfs/fhome/shizhenkun/codebase/RXNRECer/case/ecoli/case_P0A6C1.fasta')"
   ]
  },
  {
   "cell_type": "markdown",
   "metadata": {},
   "source": [
    "## Case_P0CF87"
   ]
  },
  {
   "cell_type": "code",
   "execution_count": 44,
   "metadata": {},
   "outputs": [],
   "source": [
    "uniprot_ids = ['P0CF87','Q10SX6','Q8RUD6','Q6ZEM6','Q6YRW7']\n",
    "try2_uniprot_res=uptool.get_uniprot_records_by_ids(ids=uniprot_ids, batch_size=40)\n",
    "bfl.table2fasta(table=try2_uniprot_res[['uniprot_id', 'seq']], file_out='/hpcfs/fhome/shizhenkun/codebase/RXNRECer/case/ecoli/case_P0CF87.fasta')"
   ]
  },
  {
   "cell_type": "code",
   "execution_count": null,
   "metadata": {},
   "outputs": [],
   "source": []
  },
  {
   "cell_type": "code",
   "execution_count": 14,
   "metadata": {},
   "outputs": [],
   "source": []
  },
  {
   "cell_type": "code",
   "execution_count": null,
   "metadata": {},
   "outputs": [
    {
     "data": {
      "text/html": [
       "<div>\n",
       "<style scoped>\n",
       "    .dataframe tbody tr th:only-of-type {\n",
       "        vertical-align: middle;\n",
       "    }\n",
       "\n",
       "    .dataframe tbody tr th {\n",
       "        vertical-align: top;\n",
       "    }\n",
       "\n",
       "    .dataframe thead th {\n",
       "        text-align: right;\n",
       "    }\n",
       "</style>\n",
       "<table border=\"1\" class=\"dataframe\">\n",
       "  <thead>\n",
       "    <tr style=\"text-align: right;\">\n",
       "      <th></th>\n",
       "      <th>id</th>\n",
       "      <th>sseqid</th>\n",
       "      <th>pident</th>\n",
       "      <th>length</th>\n",
       "      <th>mismatch</th>\n",
       "      <th>gapopen</th>\n",
       "      <th>qstart</th>\n",
       "      <th>qend</th>\n",
       "      <th>sstart</th>\n",
       "      <th>send</th>\n",
       "      <th>evalue</th>\n",
       "      <th>bitscore</th>\n",
       "    </tr>\n",
       "  </thead>\n",
       "  <tbody>\n",
       "  </tbody>\n",
       "</table>\n",
       "</div>"
      ],
      "text/plain": [
       "Empty DataFrame\n",
       "Columns: [id, sseqid, pident, length, mismatch, gapopen, qstart, qend, sstart, send, evalue, bitscore]\n",
       "Index: []"
      ]
     },
     "execution_count": 9,
     "metadata": {},
     "output_type": "execute_result"
    }
   ],
   "source": [
    "bfl.getblast(train=try2_uniprot_res.iloc[1:][['uniprot_id', 'seq']], test=try2_uniprot_res.iloc[:1][['uniprot_id', 'seq']], k=100,)"
   ]
  }
 ],
 "metadata": {
  "kernelspec": {
   "display_name": "Python 3",
   "language": "python",
   "name": "python3"
  },
  "language_info": {
   "codemirror_mode": {
    "name": "ipython",
    "version": 3
   },
   "file_extension": ".py",
   "mimetype": "text/x-python",
   "name": "python",
   "nbconvert_exporter": "python",
   "pygments_lexer": "ipython3",
   "version": "3.10.14"
  }
 },
 "nbformat": 4,
 "nbformat_minor": 2
}
