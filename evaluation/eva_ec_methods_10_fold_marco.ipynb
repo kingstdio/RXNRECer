{
 "cells": [
  {
   "cell_type": "markdown",
   "metadata": {},
   "source": [
    "## 反应直接预测结果分析\n",
    "> 2024-11-20\n",
    "\n",
    "### 1. 导入必要的包"
   ]
  },
  {
   "cell_type": "code",
   "execution_count": 13,
   "metadata": {},
   "outputs": [
    {
     "name": "stdout",
     "output_type": "stream",
     "text": [
      "INFO: Pandarallel will run on 112 workers.\n",
      "INFO: Pandarallel will use Memory file system to transfer data between the main process and workers.\n",
      "The autoreload extension is already loaded. To reload it, use:\n",
      "  %reload_ext autoreload\n"
     ]
    }
   ],
   "source": [
    "import sys,os\n",
    "sys.path.insert(0, os.path.dirname(os.path.realpath('__file__')))\n",
    "sys.path.insert(1,'../')\n",
    "from config import conf as cfg\n",
    "import pandas as pd\n",
    "import json\n",
    "import plotly.graph_objects as go\n",
    "from tools import btools\n",
    "from IPython.display import HTML\n",
    "from pandarallel import pandarallel # 导入pandaralle\n",
    "import evTools\n",
    "\n",
    "\n",
    "pandarallel.initialize(progress_bar=False)\n",
    "%load_ext autoreload\n",
    "%autoreload 2"
   ]
  },
  {
   "cell_type": "markdown",
   "metadata": {},
   "source": [
    "### 2. 加载测试数据集"
   ]
  },
  {
   "cell_type": "code",
   "execution_count": 14,
   "metadata": {},
   "outputs": [
    {
     "name": "stdout",
     "output_type": "stream",
     "text": [
      "加载反应编码字典完成，共有 10479 个反应。\n",
      "使用预测方法['blast', 'deepec', 'clean', 'ecrecer', 'ecpred', 'catfam', 'priam']\n"
     ]
    }
   ],
   "source": [
    "# 从 JSON 文件加载反应编码字典\n",
    "with open(cfg.FILE_DS_DICT_RXN2ID, \"r\") as json_file:\n",
    "    dict_rxn2id = json.load(json_file)\n",
    "    print(f'加载反应编码字典完成，共有 {len(dict_rxn2id)} 个反应。')  # 打印加载的数据\n",
    "\n",
    "methods = ['blast', 'deepec', 'clean', 'ecrecer', 'ecpred', 'catfam', 'priam']\n",
    "\n",
    "print(f'使用预测方法{methods}')\n",
    "\n"
   ]
  },
  {
   "cell_type": "markdown",
   "metadata": {},
   "source": [
    "## 4. Load results from EC based method"
   ]
  },
  {
   "cell_type": "markdown",
   "metadata": {},
   "source": [
    "### 4.1 Blast"
   ]
  },
  {
   "cell_type": "code",
   "execution_count": 15,
   "metadata": {},
   "outputs": [
    {
     "name": "stdout",
     "output_type": "stream",
     "text": [
      "Getting evaluation results for blast ...\n",
      "Calculating mean and std ...\n",
      "Statistic ec no prediction and ec with no reaction ...\n"
     ]
    },
    {
     "data": {
      "text/html": [
       "\n",
       "         <div style=\"float:left; width:700px;\">\n",
       "              <h2 style='color:blue'>Blast Evaluation 10 Fold Details</h2>\n",
       "              <table border=\"1\" class=\"dataframe\">\n",
       "  <thead>\n",
       "    <tr style=\"text-align: right;\">\n",
       "      <th></th>\n",
       "      <th>baselineName</th>\n",
       "      <th>runFold</th>\n",
       "      <th>mAccuracy</th>\n",
       "      <th>mPrecision</th>\n",
       "      <th>mRecall</th>\n",
       "      <th>mF1</th>\n",
       "      <th>avgType</th>\n",
       "    </tr>\n",
       "  </thead>\n",
       "  <tbody>\n",
       "    <tr>\n",
       "      <th>0</th>\n",
       "      <td>blast</td>\n",
       "      <td>1</td>\n",
       "      <td>0.837732</td>\n",
       "      <td>0.816875</td>\n",
       "      <td>0.790192</td>\n",
       "      <td>0.784566</td>\n",
       "      <td>weighted</td>\n",
       "    </tr>\n",
       "    <tr>\n",
       "      <th>1</th>\n",
       "      <td>blast</td>\n",
       "      <td>1</td>\n",
       "      <td>0.837732</td>\n",
       "      <td>0.886831</td>\n",
       "      <td>0.790192</td>\n",
       "      <td>0.835727</td>\n",
       "      <td>micro</td>\n",
       "    </tr>\n",
       "    <tr>\n",
       "      <th>2</th>\n",
       "      <td>blast</td>\n",
       "      <td>1</td>\n",
       "      <td>0.837732</td>\n",
       "      <td>0.177491</td>\n",
       "      <td>0.708508</td>\n",
       "      <td>0.156693</td>\n",
       "      <td>macro</td>\n",
       "    </tr>\n",
       "    <tr>\n",
       "      <th>3</th>\n",
       "      <td>blast</td>\n",
       "      <td>1</td>\n",
       "      <td>0.837732</td>\n",
       "      <td>0.889851</td>\n",
       "      <td>0.863472</td>\n",
       "      <td>0.870549</td>\n",
       "      <td>samples</td>\n",
       "    </tr>\n",
       "    <tr>\n",
       "      <th>4</th>\n",
       "      <td>blast</td>\n",
       "      <td>2</td>\n",
       "      <td>0.835901</td>\n",
       "      <td>0.810685</td>\n",
       "      <td>0.783438</td>\n",
       "      <td>0.778173</td>\n",
       "      <td>weighted</td>\n",
       "    </tr>\n",
       "    <tr>\n",
       "      <th>5</th>\n",
       "      <td>blast</td>\n",
       "      <td>2</td>\n",
       "      <td>0.835901</td>\n",
       "      <td>0.886197</td>\n",
       "      <td>0.783438</td>\n",
       "      <td>0.831655</td>\n",
       "      <td>micro</td>\n",
       "    </tr>\n",
       "    <tr>\n",
       "      <th>6</th>\n",
       "      <td>blast</td>\n",
       "      <td>2</td>\n",
       "      <td>0.835901</td>\n",
       "      <td>0.183282</td>\n",
       "      <td>0.686853</td>\n",
       "      <td>0.160974</td>\n",
       "      <td>macro</td>\n",
       "    </tr>\n",
       "    <tr>\n",
       "      <th>7</th>\n",
       "      <td>blast</td>\n",
       "      <td>2</td>\n",
       "      <td>0.835901</td>\n",
       "      <td>0.889949</td>\n",
       "      <td>0.862510</td>\n",
       "      <td>0.869922</td>\n",
       "      <td>samples</td>\n",
       "    </tr>\n",
       "    <tr>\n",
       "      <th>8</th>\n",
       "      <td>blast</td>\n",
       "      <td>3</td>\n",
       "      <td>0.832341</td>\n",
       "      <td>0.807635</td>\n",
       "      <td>0.784490</td>\n",
       "      <td>0.779202</td>\n",
       "      <td>weighted</td>\n",
       "    </tr>\n",
       "    <tr>\n",
       "      <th>9</th>\n",
       "      <td>blast</td>\n",
       "      <td>3</td>\n",
       "      <td>0.832341</td>\n",
       "      <td>0.883179</td>\n",
       "      <td>0.784490</td>\n",
       "      <td>0.830915</td>\n",
       "      <td>micro</td>\n",
       "    </tr>\n",
       "    <tr>\n",
       "      <th>10</th>\n",
       "      <td>blast</td>\n",
       "      <td>3</td>\n",
       "      <td>0.832341</td>\n",
       "      <td>0.173138</td>\n",
       "      <td>0.700983</td>\n",
       "      <td>0.155750</td>\n",
       "      <td>macro</td>\n",
       "    </tr>\n",
       "    <tr>\n",
       "      <th>11</th>\n",
       "      <td>blast</td>\n",
       "      <td>3</td>\n",
       "      <td>0.832341</td>\n",
       "      <td>0.887033</td>\n",
       "      <td>0.859303</td>\n",
       "      <td>0.866864</td>\n",
       "      <td>samples</td>\n",
       "    </tr>\n",
       "    <tr>\n",
       "      <th>12</th>\n",
       "      <td>blast</td>\n",
       "      <td>4</td>\n",
       "      <td>0.837947</td>\n",
       "      <td>0.815369</td>\n",
       "      <td>0.788316</td>\n",
       "      <td>0.783062</td>\n",
       "      <td>weighted</td>\n",
       "    </tr>\n",
       "    <tr>\n",
       "      <th>13</th>\n",
       "      <td>blast</td>\n",
       "      <td>4</td>\n",
       "      <td>0.837947</td>\n",
       "      <td>0.887789</td>\n",
       "      <td>0.788316</td>\n",
       "      <td>0.835100</td>\n",
       "      <td>micro</td>\n",
       "    </tr>\n",
       "    <tr>\n",
       "      <th>14</th>\n",
       "      <td>blast</td>\n",
       "      <td>4</td>\n",
       "      <td>0.837947</td>\n",
       "      <td>0.177851</td>\n",
       "      <td>0.695542</td>\n",
       "      <td>0.159022</td>\n",
       "      <td>macro</td>\n",
       "    </tr>\n",
       "    <tr>\n",
       "      <th>15</th>\n",
       "      <td>blast</td>\n",
       "      <td>4</td>\n",
       "      <td>0.837947</td>\n",
       "      <td>0.891002</td>\n",
       "      <td>0.864008</td>\n",
       "      <td>0.871399</td>\n",
       "      <td>samples</td>\n",
       "    </tr>\n",
       "    <tr>\n",
       "      <th>16</th>\n",
       "      <td>blast</td>\n",
       "      <td>5</td>\n",
       "      <td>0.836510</td>\n",
       "      <td>0.804984</td>\n",
       "      <td>0.786241</td>\n",
       "      <td>0.781231</td>\n",
       "      <td>weighted</td>\n",
       "    </tr>\n",
       "    <tr>\n",
       "      <th>17</th>\n",
       "      <td>blast</td>\n",
       "      <td>5</td>\n",
       "      <td>0.836510</td>\n",
       "      <td>0.886874</td>\n",
       "      <td>0.786241</td>\n",
       "      <td>0.833531</td>\n",
       "      <td>micro</td>\n",
       "    </tr>\n",
       "    <tr>\n",
       "      <th>18</th>\n",
       "      <td>blast</td>\n",
       "      <td>5</td>\n",
       "      <td>0.836510</td>\n",
       "      <td>0.178130</td>\n",
       "      <td>0.696446</td>\n",
       "      <td>0.159111</td>\n",
       "      <td>macro</td>\n",
       "    </tr>\n",
       "    <tr>\n",
       "      <th>19</th>\n",
       "      <td>blast</td>\n",
       "      <td>5</td>\n",
       "      <td>0.836510</td>\n",
       "      <td>0.890146</td>\n",
       "      <td>0.862757</td>\n",
       "      <td>0.870128</td>\n",
       "      <td>samples</td>\n",
       "    </tr>\n",
       "    <tr>\n",
       "      <th>20</th>\n",
       "      <td>blast</td>\n",
       "      <td>6</td>\n",
       "      <td>0.838313</td>\n",
       "      <td>0.810398</td>\n",
       "      <td>0.790505</td>\n",
       "      <td>0.784928</td>\n",
       "      <td>weighted</td>\n",
       "    </tr>\n",
       "    <tr>\n",
       "      <th>21</th>\n",
       "      <td>blast</td>\n",
       "      <td>6</td>\n",
       "      <td>0.838313</td>\n",
       "      <td>0.886149</td>\n",
       "      <td>0.790505</td>\n",
       "      <td>0.835599</td>\n",
       "      <td>micro</td>\n",
       "    </tr>\n",
       "    <tr>\n",
       "      <th>22</th>\n",
       "      <td>blast</td>\n",
       "      <td>6</td>\n",
       "      <td>0.838313</td>\n",
       "      <td>0.178150</td>\n",
       "      <td>0.708775</td>\n",
       "      <td>0.161371</td>\n",
       "      <td>macro</td>\n",
       "    </tr>\n",
       "    <tr>\n",
       "      <th>23</th>\n",
       "      <td>blast</td>\n",
       "      <td>6</td>\n",
       "      <td>0.838313</td>\n",
       "      <td>0.889878</td>\n",
       "      <td>0.863560</td>\n",
       "      <td>0.870723</td>\n",
       "      <td>samples</td>\n",
       "    </tr>\n",
       "    <tr>\n",
       "      <th>24</th>\n",
       "      <td>blast</td>\n",
       "      <td>7</td>\n",
       "      <td>0.838474</td>\n",
       "      <td>0.811619</td>\n",
       "      <td>0.790804</td>\n",
       "      <td>0.785482</td>\n",
       "      <td>weighted</td>\n",
       "    </tr>\n",
       "    <tr>\n",
       "      <th>25</th>\n",
       "      <td>blast</td>\n",
       "      <td>7</td>\n",
       "      <td>0.838474</td>\n",
       "      <td>0.885907</td>\n",
       "      <td>0.790804</td>\n",
       "      <td>0.835658</td>\n",
       "      <td>micro</td>\n",
       "    </tr>\n",
       "    <tr>\n",
       "      <th>26</th>\n",
       "      <td>blast</td>\n",
       "      <td>7</td>\n",
       "      <td>0.838474</td>\n",
       "      <td>0.177510</td>\n",
       "      <td>0.699774</td>\n",
       "      <td>0.157473</td>\n",
       "      <td>macro</td>\n",
       "    </tr>\n",
       "    <tr>\n",
       "      <th>27</th>\n",
       "      <td>blast</td>\n",
       "      <td>7</td>\n",
       "      <td>0.838474</td>\n",
       "      <td>0.889997</td>\n",
       "      <td>0.864218</td>\n",
       "      <td>0.871258</td>\n",
       "      <td>samples</td>\n",
       "    </tr>\n",
       "    <tr>\n",
       "      <th>28</th>\n",
       "      <td>blast</td>\n",
       "      <td>8</td>\n",
       "      <td>0.834556</td>\n",
       "      <td>0.815372</td>\n",
       "      <td>0.788687</td>\n",
       "      <td>0.784632</td>\n",
       "      <td>weighted</td>\n",
       "    </tr>\n",
       "    <tr>\n",
       "      <th>29</th>\n",
       "      <td>blast</td>\n",
       "      <td>8</td>\n",
       "      <td>0.834556</td>\n",
       "      <td>0.885676</td>\n",
       "      <td>0.788687</td>\n",
       "      <td>0.834373</td>\n",
       "      <td>micro</td>\n",
       "    </tr>\n",
       "    <tr>\n",
       "      <th>30</th>\n",
       "      <td>blast</td>\n",
       "      <td>8</td>\n",
       "      <td>0.834556</td>\n",
       "      <td>0.177693</td>\n",
       "      <td>0.701650</td>\n",
       "      <td>0.156482</td>\n",
       "      <td>macro</td>\n",
       "    </tr>\n",
       "    <tr>\n",
       "      <th>31</th>\n",
       "      <td>blast</td>\n",
       "      <td>8</td>\n",
       "      <td>0.834556</td>\n",
       "      <td>0.889236</td>\n",
       "      <td>0.861545</td>\n",
       "      <td>0.869155</td>\n",
       "      <td>samples</td>\n",
       "    </tr>\n",
       "    <tr>\n",
       "      <th>32</th>\n",
       "      <td>blast</td>\n",
       "      <td>9</td>\n",
       "      <td>0.835730</td>\n",
       "      <td>0.803822</td>\n",
       "      <td>0.787896</td>\n",
       "      <td>0.782434</td>\n",
       "      <td>weighted</td>\n",
       "    </tr>\n",
       "    <tr>\n",
       "      <th>33</th>\n",
       "      <td>blast</td>\n",
       "      <td>9</td>\n",
       "      <td>0.835730</td>\n",
       "      <td>0.884899</td>\n",
       "      <td>0.787896</td>\n",
       "      <td>0.833585</td>\n",
       "      <td>micro</td>\n",
       "    </tr>\n",
       "    <tr>\n",
       "      <th>34</th>\n",
       "      <td>blast</td>\n",
       "      <td>9</td>\n",
       "      <td>0.835730</td>\n",
       "      <td>0.178262</td>\n",
       "      <td>0.714777</td>\n",
       "      <td>0.161238</td>\n",
       "      <td>macro</td>\n",
       "    </tr>\n",
       "    <tr>\n",
       "      <th>35</th>\n",
       "      <td>blast</td>\n",
       "      <td>9</td>\n",
       "      <td>0.835730</td>\n",
       "      <td>0.888884</td>\n",
       "      <td>0.861947</td>\n",
       "      <td>0.869200</td>\n",
       "      <td>samples</td>\n",
       "    </tr>\n",
       "    <tr>\n",
       "      <th>36</th>\n",
       "      <td>blast</td>\n",
       "      <td>10</td>\n",
       "      <td>0.836831</td>\n",
       "      <td>0.814652</td>\n",
       "      <td>0.787584</td>\n",
       "      <td>0.782202</td>\n",
       "      <td>weighted</td>\n",
       "    </tr>\n",
       "    <tr>\n",
       "      <th>37</th>\n",
       "      <td>blast</td>\n",
       "      <td>10</td>\n",
       "      <td>0.836831</td>\n",
       "      <td>0.885764</td>\n",
       "      <td>0.787584</td>\n",
       "      <td>0.833794</td>\n",
       "      <td>micro</td>\n",
       "    </tr>\n",
       "    <tr>\n",
       "      <th>38</th>\n",
       "      <td>blast</td>\n",
       "      <td>10</td>\n",
       "      <td>0.836831</td>\n",
       "      <td>0.186445</td>\n",
       "      <td>0.697141</td>\n",
       "      <td>0.165614</td>\n",
       "      <td>macro</td>\n",
       "    </tr>\n",
       "    <tr>\n",
       "      <th>39</th>\n",
       "      <td>blast</td>\n",
       "      <td>10</td>\n",
       "      <td>0.836831</td>\n",
       "      <td>0.889855</td>\n",
       "      <td>0.862960</td>\n",
       "      <td>0.870216</td>\n",
       "      <td>samples</td>\n",
       "    </tr>\n",
       "  </tbody>\n",
       "</table>\n",
       "         </div>\n",
       "         <div  style=\"float:left; width:600px;\" >\n",
       "              <h2 style='color:blue' >Blast Evaluation 10 Fold std and mean Overview</h2>\n",
       "                   <table border=\"1\" class=\"dataframe\">\n",
       "  <thead>\n",
       "    <tr style=\"text-align: right;\">\n",
       "      <th></th>\n",
       "      <th>baselineName</th>\n",
       "      <th>avgType</th>\n",
       "      <th>Metric</th>\n",
       "      <th>mean</th>\n",
       "      <th>std</th>\n",
       "    </tr>\n",
       "  </thead>\n",
       "  <tbody>\n",
       "    <tr>\n",
       "      <th>0</th>\n",
       "      <td>blast</td>\n",
       "      <td>macro</td>\n",
       "      <td>mAccuracy</td>\n",
       "      <td>0.836434</td>\n",
       "      <td>0.001912</td>\n",
       "    </tr>\n",
       "    <tr>\n",
       "      <th>1</th>\n",
       "      <td>blast</td>\n",
       "      <td>macro</td>\n",
       "      <td>mF1</td>\n",
       "      <td>0.159373</td>\n",
       "      <td>0.003008</td>\n",
       "    </tr>\n",
       "    <tr>\n",
       "      <th>2</th>\n",
       "      <td>blast</td>\n",
       "      <td>macro</td>\n",
       "      <td>mPrecision</td>\n",
       "      <td>0.178795</td>\n",
       "      <td>0.003609</td>\n",
       "    </tr>\n",
       "    <tr>\n",
       "      <th>3</th>\n",
       "      <td>blast</td>\n",
       "      <td>macro</td>\n",
       "      <td>mRecall</td>\n",
       "      <td>0.701045</td>\n",
       "      <td>0.007987</td>\n",
       "    </tr>\n",
       "    <tr>\n",
       "      <th>4</th>\n",
       "      <td>blast</td>\n",
       "      <td>micro</td>\n",
       "      <td>mAccuracy</td>\n",
       "      <td>0.836434</td>\n",
       "      <td>0.001912</td>\n",
       "    </tr>\n",
       "    <tr>\n",
       "      <th>5</th>\n",
       "      <td>blast</td>\n",
       "      <td>micro</td>\n",
       "      <td>mF1</td>\n",
       "      <td>0.833994</td>\n",
       "      <td>0.001670</td>\n",
       "    </tr>\n",
       "    <tr>\n",
       "      <th>6</th>\n",
       "      <td>blast</td>\n",
       "      <td>micro</td>\n",
       "      <td>mPrecision</td>\n",
       "      <td>0.885927</td>\n",
       "      <td>0.001247</td>\n",
       "    </tr>\n",
       "    <tr>\n",
       "      <th>7</th>\n",
       "      <td>blast</td>\n",
       "      <td>micro</td>\n",
       "      <td>mRecall</td>\n",
       "      <td>0.787815</td>\n",
       "      <td>0.002485</td>\n",
       "    </tr>\n",
       "    <tr>\n",
       "      <th>8</th>\n",
       "      <td>blast</td>\n",
       "      <td>samples</td>\n",
       "      <td>mAccuracy</td>\n",
       "      <td>0.836434</td>\n",
       "      <td>0.001912</td>\n",
       "    </tr>\n",
       "    <tr>\n",
       "      <th>9</th>\n",
       "      <td>blast</td>\n",
       "      <td>samples</td>\n",
       "      <td>mF1</td>\n",
       "      <td>0.869941</td>\n",
       "      <td>0.001316</td>\n",
       "    </tr>\n",
       "    <tr>\n",
       "      <th>10</th>\n",
       "      <td>blast</td>\n",
       "      <td>samples</td>\n",
       "      <td>mPrecision</td>\n",
       "      <td>0.889583</td>\n",
       "      <td>0.001053</td>\n",
       "    </tr>\n",
       "    <tr>\n",
       "      <th>11</th>\n",
       "      <td>blast</td>\n",
       "      <td>samples</td>\n",
       "      <td>mRecall</td>\n",
       "      <td>0.862628</td>\n",
       "      <td>0.001447</td>\n",
       "    </tr>\n",
       "    <tr>\n",
       "      <th>12</th>\n",
       "      <td>blast</td>\n",
       "      <td>weighted</td>\n",
       "      <td>mAccuracy</td>\n",
       "      <td>0.836434</td>\n",
       "      <td>0.001912</td>\n",
       "    </tr>\n",
       "    <tr>\n",
       "      <th>13</th>\n",
       "      <td>blast</td>\n",
       "      <td>weighted</td>\n",
       "      <td>mF1</td>\n",
       "      <td>0.782591</td>\n",
       "      <td>0.002475</td>\n",
       "    </tr>\n",
       "    <tr>\n",
       "      <th>14</th>\n",
       "      <td>blast</td>\n",
       "      <td>weighted</td>\n",
       "      <td>mPrecision</td>\n",
       "      <td>0.811141</td>\n",
       "      <td>0.004543</td>\n",
       "    </tr>\n",
       "    <tr>\n",
       "      <th>15</th>\n",
       "      <td>blast</td>\n",
       "      <td>weighted</td>\n",
       "      <td>mRecall</td>\n",
       "      <td>0.787815</td>\n",
       "      <td>0.002485</td>\n",
       "    </tr>\n",
       "  </tbody>\n",
       "</table>\n",
       "         </div>\n",
       "         \n",
       "         <div style=\"float:left; width:600px;\">\n",
       "         <h2 style='color:blue' >Blast Evaluation 10 Fold No Prediction Overview</h2>\n",
       "              <table border=\"1\" class=\"dataframe\">\n",
       "  <thead>\n",
       "    <tr style=\"text-align: right;\">\n",
       "      <th></th>\n",
       "      <th>run_fold</th>\n",
       "      <th>test_size</th>\n",
       "      <th>no_prediction_count</th>\n",
       "      <th>ec_without_reaction_count</th>\n",
       "    </tr>\n",
       "  </thead>\n",
       "  <tbody>\n",
       "    <tr>\n",
       "      <th>0</th>\n",
       "      <td>1</td>\n",
       "      <td>447532</td>\n",
       "      <td>2424</td>\n",
       "      <td>24984</td>\n",
       "    </tr>\n",
       "    <tr>\n",
       "      <th>1</th>\n",
       "      <td>2</td>\n",
       "      <td>447609</td>\n",
       "      <td>2386</td>\n",
       "      <td>25079</td>\n",
       "    </tr>\n",
       "    <tr>\n",
       "      <th>2</th>\n",
       "      <td>3</td>\n",
       "      <td>448166</td>\n",
       "      <td>2379</td>\n",
       "      <td>26637</td>\n",
       "    </tr>\n",
       "    <tr>\n",
       "      <th>3</th>\n",
       "      <td>4</td>\n",
       "      <td>448885</td>\n",
       "      <td>2301</td>\n",
       "      <td>25295</td>\n",
       "    </tr>\n",
       "    <tr>\n",
       "      <th>4</th>\n",
       "      <td>5</td>\n",
       "      <td>447594</td>\n",
       "      <td>2418</td>\n",
       "      <td>25070</td>\n",
       "    </tr>\n",
       "    <tr>\n",
       "      <th>5</th>\n",
       "      <td>6</td>\n",
       "      <td>447902</td>\n",
       "      <td>2391</td>\n",
       "      <td>25425</td>\n",
       "    </tr>\n",
       "    <tr>\n",
       "      <th>6</th>\n",
       "      <td>7</td>\n",
       "      <td>446999</td>\n",
       "      <td>2369</td>\n",
       "      <td>25404</td>\n",
       "    </tr>\n",
       "    <tr>\n",
       "      <th>7</th>\n",
       "      <td>8</td>\n",
       "      <td>446732</td>\n",
       "      <td>2381</td>\n",
       "      <td>25939</td>\n",
       "    </tr>\n",
       "    <tr>\n",
       "      <th>8</th>\n",
       "      <td>9</td>\n",
       "      <td>447445</td>\n",
       "      <td>2449</td>\n",
       "      <td>25324</td>\n",
       "    </tr>\n",
       "    <tr>\n",
       "      <th>9</th>\n",
       "      <td>10</td>\n",
       "      <td>447314</td>\n",
       "      <td>2431</td>\n",
       "      <td>24910</td>\n",
       "    </tr>\n",
       "  </tbody>\n",
       "</table>\n",
       "         </div>\n",
       "         "
      ],
      "text/plain": [
       "<IPython.core.display.HTML object>"
      ]
     },
     "execution_count": 15,
     "metadata": {},
     "output_type": "execute_result"
    }
   ],
   "source": [
    "std_blast, metrics_blast, ec_no_rxn_blat =evTools.get_eval_results(baselineName= 'blast', dict_rxn2id=dict_rxn2id, method_type='ec')\n",
    "evTools.display_html_results(metrics = metrics_blast, std_mean = std_blast, no_pred=ec_no_rxn_blat, eva_name ='Blast')"
   ]
  },
  {
   "cell_type": "markdown",
   "metadata": {},
   "source": [
    "### 4.2 DeepEC"
   ]
  },
  {
   "cell_type": "code",
   "execution_count": 16,
   "metadata": {},
   "outputs": [
    {
     "name": "stdout",
     "output_type": "stream",
     "text": [
      "Getting evaluation results for deepec ...\n",
      "Calculating mean and std ...\n",
      "Statistic ec no prediction and ec with no reaction ...\n"
     ]
    },
    {
     "data": {
      "text/html": [
       "\n",
       "         <div style=\"float:left; width:700px;\">\n",
       "              <h2 style='color:blue'>deepec Evaluation 10 Fold Details</h2>\n",
       "              <table border=\"1\" class=\"dataframe\">\n",
       "  <thead>\n",
       "    <tr style=\"text-align: right;\">\n",
       "      <th></th>\n",
       "      <th>baselineName</th>\n",
       "      <th>runFold</th>\n",
       "      <th>mAccuracy</th>\n",
       "      <th>mPrecision</th>\n",
       "      <th>mRecall</th>\n",
       "      <th>mF1</th>\n",
       "      <th>avgType</th>\n",
       "    </tr>\n",
       "  </thead>\n",
       "  <tbody>\n",
       "    <tr>\n",
       "      <th>0</th>\n",
       "      <td>deepec</td>\n",
       "      <td>1</td>\n",
       "      <td>0.26</td>\n",
       "      <td>1.000000</td>\n",
       "      <td>0.318966</td>\n",
       "      <td>0.324713</td>\n",
       "      <td>weighted</td>\n",
       "    </tr>\n",
       "    <tr>\n",
       "      <th>1</th>\n",
       "      <td>deepec</td>\n",
       "      <td>1</td>\n",
       "      <td>0.26</td>\n",
       "      <td>0.352381</td>\n",
       "      <td>0.318966</td>\n",
       "      <td>0.334842</td>\n",
       "      <td>micro</td>\n",
       "    </tr>\n",
       "    <tr>\n",
       "      <th>2</th>\n",
       "      <td>deepec</td>\n",
       "      <td>1</td>\n",
       "      <td>0.26</td>\n",
       "      <td>0.993511</td>\n",
       "      <td>0.998091</td>\n",
       "      <td>0.991634</td>\n",
       "      <td>macro</td>\n",
       "    </tr>\n",
       "    <tr>\n",
       "      <th>3</th>\n",
       "      <td>deepec</td>\n",
       "      <td>1</td>\n",
       "      <td>0.26</td>\n",
       "      <td>0.326667</td>\n",
       "      <td>0.294167</td>\n",
       "      <td>0.304000</td>\n",
       "      <td>samples</td>\n",
       "    </tr>\n",
       "    <tr>\n",
       "      <th>4</th>\n",
       "      <td>deepec</td>\n",
       "      <td>2</td>\n",
       "      <td>0.31</td>\n",
       "      <td>1.000000</td>\n",
       "      <td>0.330435</td>\n",
       "      <td>0.330435</td>\n",
       "      <td>weighted</td>\n",
       "    </tr>\n",
       "    <tr>\n",
       "      <th>5</th>\n",
       "      <td>deepec</td>\n",
       "      <td>2</td>\n",
       "      <td>0.31</td>\n",
       "      <td>0.376238</td>\n",
       "      <td>0.330435</td>\n",
       "      <td>0.351852</td>\n",
       "      <td>micro</td>\n",
       "    </tr>\n",
       "    <tr>\n",
       "      <th>6</th>\n",
       "      <td>deepec</td>\n",
       "      <td>2</td>\n",
       "      <td>0.31</td>\n",
       "      <td>0.993988</td>\n",
       "      <td>0.997519</td>\n",
       "      <td>0.991507</td>\n",
       "      <td>macro</td>\n",
       "    </tr>\n",
       "    <tr>\n",
       "      <th>7</th>\n",
       "      <td>deepec</td>\n",
       "      <td>2</td>\n",
       "      <td>0.31</td>\n",
       "      <td>0.370000</td>\n",
       "      <td>0.334500</td>\n",
       "      <td>0.344000</td>\n",
       "      <td>samples</td>\n",
       "    </tr>\n",
       "    <tr>\n",
       "      <th>8</th>\n",
       "      <td>deepec</td>\n",
       "      <td>3</td>\n",
       "      <td>0.27</td>\n",
       "      <td>1.000000</td>\n",
       "      <td>0.294643</td>\n",
       "      <td>0.294643</td>\n",
       "      <td>weighted</td>\n",
       "    </tr>\n",
       "    <tr>\n",
       "      <th>9</th>\n",
       "      <td>deepec</td>\n",
       "      <td>3</td>\n",
       "      <td>0.27</td>\n",
       "      <td>0.323529</td>\n",
       "      <td>0.294643</td>\n",
       "      <td>0.308411</td>\n",
       "      <td>micro</td>\n",
       "    </tr>\n",
       "    <tr>\n",
       "      <th>10</th>\n",
       "      <td>deepec</td>\n",
       "      <td>3</td>\n",
       "      <td>0.27</td>\n",
       "      <td>0.993606</td>\n",
       "      <td>0.997805</td>\n",
       "      <td>0.991411</td>\n",
       "      <td>macro</td>\n",
       "    </tr>\n",
       "    <tr>\n",
       "      <th>11</th>\n",
       "      <td>deepec</td>\n",
       "      <td>3</td>\n",
       "      <td>0.27</td>\n",
       "      <td>0.310000</td>\n",
       "      <td>0.290000</td>\n",
       "      <td>0.296667</td>\n",
       "      <td>samples</td>\n",
       "    </tr>\n",
       "    <tr>\n",
       "      <th>12</th>\n",
       "      <td>deepec</td>\n",
       "      <td>4</td>\n",
       "      <td>0.32</td>\n",
       "      <td>1.000000</td>\n",
       "      <td>0.341667</td>\n",
       "      <td>0.341667</td>\n",
       "      <td>weighted</td>\n",
       "    </tr>\n",
       "    <tr>\n",
       "      <th>13</th>\n",
       "      <td>deepec</td>\n",
       "      <td>4</td>\n",
       "      <td>0.32</td>\n",
       "      <td>0.398058</td>\n",
       "      <td>0.341667</td>\n",
       "      <td>0.367713</td>\n",
       "      <td>micro</td>\n",
       "    </tr>\n",
       "    <tr>\n",
       "      <th>14</th>\n",
       "      <td>deepec</td>\n",
       "      <td>4</td>\n",
       "      <td>0.32</td>\n",
       "      <td>0.994083</td>\n",
       "      <td>0.997233</td>\n",
       "      <td>0.991316</td>\n",
       "      <td>macro</td>\n",
       "    </tr>\n",
       "    <tr>\n",
       "      <th>15</th>\n",
       "      <td>deepec</td>\n",
       "      <td>4</td>\n",
       "      <td>0.32</td>\n",
       "      <td>0.380000</td>\n",
       "      <td>0.348333</td>\n",
       "      <td>0.358333</td>\n",
       "      <td>samples</td>\n",
       "    </tr>\n",
       "    <tr>\n",
       "      <th>16</th>\n",
       "      <td>deepec</td>\n",
       "      <td>5</td>\n",
       "      <td>0.29</td>\n",
       "      <td>1.000000</td>\n",
       "      <td>0.336000</td>\n",
       "      <td>0.336000</td>\n",
       "      <td>weighted</td>\n",
       "    </tr>\n",
       "    <tr>\n",
       "      <th>17</th>\n",
       "      <td>deepec</td>\n",
       "      <td>5</td>\n",
       "      <td>0.29</td>\n",
       "      <td>0.385321</td>\n",
       "      <td>0.336000</td>\n",
       "      <td>0.358974</td>\n",
       "      <td>micro</td>\n",
       "    </tr>\n",
       "    <tr>\n",
       "      <th>18</th>\n",
       "      <td>deepec</td>\n",
       "      <td>5</td>\n",
       "      <td>0.29</td>\n",
       "      <td>0.993606</td>\n",
       "      <td>0.997233</td>\n",
       "      <td>0.990839</td>\n",
       "      <td>macro</td>\n",
       "    </tr>\n",
       "    <tr>\n",
       "      <th>19</th>\n",
       "      <td>deepec</td>\n",
       "      <td>5</td>\n",
       "      <td>0.29</td>\n",
       "      <td>0.338571</td>\n",
       "      <td>0.315714</td>\n",
       "      <td>0.320564</td>\n",
       "      <td>samples</td>\n",
       "    </tr>\n",
       "    <tr>\n",
       "      <th>20</th>\n",
       "      <td>deepec</td>\n",
       "      <td>6</td>\n",
       "      <td>0.28</td>\n",
       "      <td>1.000000</td>\n",
       "      <td>0.300885</td>\n",
       "      <td>0.300885</td>\n",
       "      <td>weighted</td>\n",
       "    </tr>\n",
       "    <tr>\n",
       "      <th>21</th>\n",
       "      <td>deepec</td>\n",
       "      <td>6</td>\n",
       "      <td>0.28</td>\n",
       "      <td>0.340000</td>\n",
       "      <td>0.300885</td>\n",
       "      <td>0.319249</td>\n",
       "      <td>micro</td>\n",
       "    </tr>\n",
       "    <tr>\n",
       "      <th>22</th>\n",
       "      <td>deepec</td>\n",
       "      <td>6</td>\n",
       "      <td>0.28</td>\n",
       "      <td>0.993702</td>\n",
       "      <td>0.998091</td>\n",
       "      <td>0.991793</td>\n",
       "      <td>macro</td>\n",
       "    </tr>\n",
       "    <tr>\n",
       "      <th>23</th>\n",
       "      <td>deepec</td>\n",
       "      <td>6</td>\n",
       "      <td>0.28</td>\n",
       "      <td>0.340000</td>\n",
       "      <td>0.308333</td>\n",
       "      <td>0.318333</td>\n",
       "      <td>samples</td>\n",
       "    </tr>\n",
       "    <tr>\n",
       "      <th>24</th>\n",
       "      <td>deepec</td>\n",
       "      <td>7</td>\n",
       "      <td>0.28</td>\n",
       "      <td>1.000000</td>\n",
       "      <td>0.268908</td>\n",
       "      <td>0.271709</td>\n",
       "      <td>weighted</td>\n",
       "    </tr>\n",
       "    <tr>\n",
       "      <th>25</th>\n",
       "      <td>deepec</td>\n",
       "      <td>7</td>\n",
       "      <td>0.28</td>\n",
       "      <td>0.316832</td>\n",
       "      <td>0.268908</td>\n",
       "      <td>0.290909</td>\n",
       "      <td>micro</td>\n",
       "    </tr>\n",
       "    <tr>\n",
       "      <th>26</th>\n",
       "      <td>deepec</td>\n",
       "      <td>7</td>\n",
       "      <td>0.28</td>\n",
       "      <td>0.993415</td>\n",
       "      <td>0.997185</td>\n",
       "      <td>0.990616</td>\n",
       "      <td>macro</td>\n",
       "    </tr>\n",
       "    <tr>\n",
       "      <th>27</th>\n",
       "      <td>deepec</td>\n",
       "      <td>7</td>\n",
       "      <td>0.28</td>\n",
       "      <td>0.310000</td>\n",
       "      <td>0.293333</td>\n",
       "      <td>0.298333</td>\n",
       "      <td>samples</td>\n",
       "    </tr>\n",
       "    <tr>\n",
       "      <th>28</th>\n",
       "      <td>deepec</td>\n",
       "      <td>8</td>\n",
       "      <td>0.21</td>\n",
       "      <td>0.991379</td>\n",
       "      <td>0.232759</td>\n",
       "      <td>0.235632</td>\n",
       "      <td>weighted</td>\n",
       "    </tr>\n",
       "    <tr>\n",
       "      <th>29</th>\n",
       "      <td>deepec</td>\n",
       "      <td>8</td>\n",
       "      <td>0.21</td>\n",
       "      <td>0.270000</td>\n",
       "      <td>0.232759</td>\n",
       "      <td>0.250000</td>\n",
       "      <td>micro</td>\n",
       "    </tr>\n",
       "    <tr>\n",
       "      <th>30</th>\n",
       "      <td>deepec</td>\n",
       "      <td>8</td>\n",
       "      <td>0.21</td>\n",
       "      <td>0.993034</td>\n",
       "      <td>0.997567</td>\n",
       "      <td>0.990712</td>\n",
       "      <td>macro</td>\n",
       "    </tr>\n",
       "    <tr>\n",
       "      <th>31</th>\n",
       "      <td>deepec</td>\n",
       "      <td>8</td>\n",
       "      <td>0.21</td>\n",
       "      <td>0.270000</td>\n",
       "      <td>0.240000</td>\n",
       "      <td>0.250000</td>\n",
       "      <td>samples</td>\n",
       "    </tr>\n",
       "    <tr>\n",
       "      <th>32</th>\n",
       "      <td>deepec</td>\n",
       "      <td>9</td>\n",
       "      <td>0.35</td>\n",
       "      <td>0.995902</td>\n",
       "      <td>0.368852</td>\n",
       "      <td>0.371585</td>\n",
       "      <td>weighted</td>\n",
       "    </tr>\n",
       "    <tr>\n",
       "      <th>33</th>\n",
       "      <td>deepec</td>\n",
       "      <td>9</td>\n",
       "      <td>0.35</td>\n",
       "      <td>0.428571</td>\n",
       "      <td>0.368852</td>\n",
       "      <td>0.396476</td>\n",
       "      <td>micro</td>\n",
       "    </tr>\n",
       "    <tr>\n",
       "      <th>34</th>\n",
       "      <td>deepec</td>\n",
       "      <td>9</td>\n",
       "      <td>0.35</td>\n",
       "      <td>0.994322</td>\n",
       "      <td>0.997328</td>\n",
       "      <td>0.991698</td>\n",
       "      <td>macro</td>\n",
       "    </tr>\n",
       "    <tr>\n",
       "      <th>35</th>\n",
       "      <td>deepec</td>\n",
       "      <td>9</td>\n",
       "      <td>0.35</td>\n",
       "      <td>0.405000</td>\n",
       "      <td>0.375833</td>\n",
       "      <td>0.384000</td>\n",
       "      <td>samples</td>\n",
       "    </tr>\n",
       "    <tr>\n",
       "      <th>36</th>\n",
       "      <td>deepec</td>\n",
       "      <td>10</td>\n",
       "      <td>0.34</td>\n",
       "      <td>1.000000</td>\n",
       "      <td>0.327103</td>\n",
       "      <td>0.327103</td>\n",
       "      <td>weighted</td>\n",
       "    </tr>\n",
       "    <tr>\n",
       "      <th>37</th>\n",
       "      <td>deepec</td>\n",
       "      <td>10</td>\n",
       "      <td>0.34</td>\n",
       "      <td>0.353535</td>\n",
       "      <td>0.327103</td>\n",
       "      <td>0.339806</td>\n",
       "      <td>micro</td>\n",
       "    </tr>\n",
       "    <tr>\n",
       "      <th>38</th>\n",
       "      <td>deepec</td>\n",
       "      <td>10</td>\n",
       "      <td>0.34</td>\n",
       "      <td>0.993988</td>\n",
       "      <td>0.998378</td>\n",
       "      <td>0.992366</td>\n",
       "      <td>macro</td>\n",
       "    </tr>\n",
       "    <tr>\n",
       "      <th>39</th>\n",
       "      <td>deepec</td>\n",
       "      <td>10</td>\n",
       "      <td>0.34</td>\n",
       "      <td>0.360000</td>\n",
       "      <td>0.345000</td>\n",
       "      <td>0.346667</td>\n",
       "      <td>samples</td>\n",
       "    </tr>\n",
       "  </tbody>\n",
       "</table>\n",
       "         </div>\n",
       "         <div  style=\"float:left; width:600px;\" >\n",
       "              <h2 style='color:blue' >deepec Evaluation 10 Fold std and mean Overview</h2>\n",
       "                   <table border=\"1\" class=\"dataframe\">\n",
       "  <thead>\n",
       "    <tr style=\"text-align: right;\">\n",
       "      <th></th>\n",
       "      <th>baselineName</th>\n",
       "      <th>avgType</th>\n",
       "      <th>Metric</th>\n",
       "      <th>mean</th>\n",
       "      <th>std</th>\n",
       "    </tr>\n",
       "  </thead>\n",
       "  <tbody>\n",
       "    <tr>\n",
       "      <th>0</th>\n",
       "      <td>deepec</td>\n",
       "      <td>macro</td>\n",
       "      <td>mAccuracy</td>\n",
       "      <td>0.291000</td>\n",
       "      <td>0.041218</td>\n",
       "    </tr>\n",
       "    <tr>\n",
       "      <th>1</th>\n",
       "      <td>deepec</td>\n",
       "      <td>macro</td>\n",
       "      <td>mF1</td>\n",
       "      <td>0.991389</td>\n",
       "      <td>0.000543</td>\n",
       "    </tr>\n",
       "    <tr>\n",
       "      <th>2</th>\n",
       "      <td>deepec</td>\n",
       "      <td>macro</td>\n",
       "      <td>mPrecision</td>\n",
       "      <td>0.993726</td>\n",
       "      <td>0.000376</td>\n",
       "    </tr>\n",
       "    <tr>\n",
       "      <th>3</th>\n",
       "      <td>deepec</td>\n",
       "      <td>macro</td>\n",
       "      <td>mRecall</td>\n",
       "      <td>0.997643</td>\n",
       "      <td>0.000426</td>\n",
       "    </tr>\n",
       "    <tr>\n",
       "      <th>4</th>\n",
       "      <td>deepec</td>\n",
       "      <td>micro</td>\n",
       "      <td>mAccuracy</td>\n",
       "      <td>0.291000</td>\n",
       "      <td>0.041218</td>\n",
       "    </tr>\n",
       "    <tr>\n",
       "      <th>5</th>\n",
       "      <td>deepec</td>\n",
       "      <td>micro</td>\n",
       "      <td>mF1</td>\n",
       "      <td>0.331823</td>\n",
       "      <td>0.041839</td>\n",
       "    </tr>\n",
       "    <tr>\n",
       "      <th>6</th>\n",
       "      <td>deepec</td>\n",
       "      <td>micro</td>\n",
       "      <td>mPrecision</td>\n",
       "      <td>0.354447</td>\n",
       "      <td>0.045388</td>\n",
       "    </tr>\n",
       "    <tr>\n",
       "      <th>7</th>\n",
       "      <td>deepec</td>\n",
       "      <td>micro</td>\n",
       "      <td>mRecall</td>\n",
       "      <td>0.312022</td>\n",
       "      <td>0.039251</td>\n",
       "    </tr>\n",
       "    <tr>\n",
       "      <th>8</th>\n",
       "      <td>deepec</td>\n",
       "      <td>samples</td>\n",
       "      <td>mAccuracy</td>\n",
       "      <td>0.291000</td>\n",
       "      <td>0.041218</td>\n",
       "    </tr>\n",
       "    <tr>\n",
       "      <th>9</th>\n",
       "      <td>deepec</td>\n",
       "      <td>samples</td>\n",
       "      <td>mF1</td>\n",
       "      <td>0.322090</td>\n",
       "      <td>0.037979</td>\n",
       "    </tr>\n",
       "    <tr>\n",
       "      <th>10</th>\n",
       "      <td>deepec</td>\n",
       "      <td>samples</td>\n",
       "      <td>mPrecision</td>\n",
       "      <td>0.341024</td>\n",
       "      <td>0.039433</td>\n",
       "    </tr>\n",
       "    <tr>\n",
       "      <th>11</th>\n",
       "      <td>deepec</td>\n",
       "      <td>samples</td>\n",
       "      <td>mRecall</td>\n",
       "      <td>0.314521</td>\n",
       "      <td>0.038425</td>\n",
       "    </tr>\n",
       "    <tr>\n",
       "      <th>12</th>\n",
       "      <td>deepec</td>\n",
       "      <td>weighted</td>\n",
       "      <td>mAccuracy</td>\n",
       "      <td>0.291000</td>\n",
       "      <td>0.041218</td>\n",
       "    </tr>\n",
       "    <tr>\n",
       "      <th>13</th>\n",
       "      <td>deepec</td>\n",
       "      <td>weighted</td>\n",
       "      <td>mF1</td>\n",
       "      <td>0.313437</td>\n",
       "      <td>0.038867</td>\n",
       "    </tr>\n",
       "    <tr>\n",
       "      <th>14</th>\n",
       "      <td>deepec</td>\n",
       "      <td>weighted</td>\n",
       "      <td>mPrecision</td>\n",
       "      <td>0.998728</td>\n",
       "      <td>0.002886</td>\n",
       "    </tr>\n",
       "    <tr>\n",
       "      <th>15</th>\n",
       "      <td>deepec</td>\n",
       "      <td>weighted</td>\n",
       "      <td>mRecall</td>\n",
       "      <td>0.312022</td>\n",
       "      <td>0.039251</td>\n",
       "    </tr>\n",
       "  </tbody>\n",
       "</table>\n",
       "         </div>\n",
       "         \n",
       "         <div style=\"float:left; width:600px;\">\n",
       "         <h2 style='color:blue' >deepec Evaluation 10 Fold No Prediction Overview</h2>\n",
       "              <table border=\"1\" class=\"dataframe\">\n",
       "  <thead>\n",
       "    <tr style=\"text-align: right;\">\n",
       "      <th></th>\n",
       "      <th>run_fold</th>\n",
       "      <th>test_size</th>\n",
       "      <th>no_prediction_count</th>\n",
       "      <th>ec_without_reaction_count</th>\n",
       "    </tr>\n",
       "  </thead>\n",
       "  <tbody>\n",
       "    <tr>\n",
       "      <th>0</th>\n",
       "      <td>1</td>\n",
       "      <td>50858</td>\n",
       "      <td>30918</td>\n",
       "      <td>1572</td>\n",
       "    </tr>\n",
       "    <tr>\n",
       "      <th>1</th>\n",
       "      <td>2</td>\n",
       "      <td>50858</td>\n",
       "      <td>30958</td>\n",
       "      <td>1543</td>\n",
       "    </tr>\n",
       "    <tr>\n",
       "      <th>2</th>\n",
       "      <td>3</td>\n",
       "      <td>50858</td>\n",
       "      <td>30749</td>\n",
       "      <td>1673</td>\n",
       "    </tr>\n",
       "    <tr>\n",
       "      <th>3</th>\n",
       "      <td>4</td>\n",
       "      <td>50858</td>\n",
       "      <td>30916</td>\n",
       "      <td>1587</td>\n",
       "    </tr>\n",
       "    <tr>\n",
       "      <th>4</th>\n",
       "      <td>5</td>\n",
       "      <td>50858</td>\n",
       "      <td>30799</td>\n",
       "      <td>1580</td>\n",
       "    </tr>\n",
       "    <tr>\n",
       "      <th>5</th>\n",
       "      <td>6</td>\n",
       "      <td>50858</td>\n",
       "      <td>30908</td>\n",
       "      <td>1588</td>\n",
       "    </tr>\n",
       "    <tr>\n",
       "      <th>6</th>\n",
       "      <td>7</td>\n",
       "      <td>50858</td>\n",
       "      <td>30984</td>\n",
       "      <td>1600</td>\n",
       "    </tr>\n",
       "    <tr>\n",
       "      <th>7</th>\n",
       "      <td>8</td>\n",
       "      <td>50858</td>\n",
       "      <td>30991</td>\n",
       "      <td>1569</td>\n",
       "    </tr>\n",
       "    <tr>\n",
       "      <th>8</th>\n",
       "      <td>9</td>\n",
       "      <td>50858</td>\n",
       "      <td>30938</td>\n",
       "      <td>1594</td>\n",
       "    </tr>\n",
       "    <tr>\n",
       "      <th>9</th>\n",
       "      <td>10</td>\n",
       "      <td>50858</td>\n",
       "      <td>31044</td>\n",
       "      <td>1537</td>\n",
       "    </tr>\n",
       "  </tbody>\n",
       "</table>\n",
       "         </div>\n",
       "         "
      ],
      "text/plain": [
       "<IPython.core.display.HTML object>"
      ]
     },
     "execution_count": 16,
     "metadata": {},
     "output_type": "execute_result"
    }
   ],
   "source": [
    "std_deepec, metrics_deepec, ec_no_rxn_deepec =evTools.get_eval_results(baselineName= 'deepec', dict_rxn2id=dict_rxn2id, method_type='ec')\n",
    "evTools.display_html_results(metrics = metrics_deepec, std_mean = std_deepec, no_pred=ec_no_rxn_deepec, eva_name ='deepec')"
   ]
  },
  {
   "cell_type": "markdown",
   "metadata": {},
   "source": [
    "### 4.3 CLEAN"
   ]
  },
  {
   "cell_type": "code",
   "execution_count": 17,
   "metadata": {},
   "outputs": [
    {
     "name": "stdout",
     "output_type": "stream",
     "text": [
      "Getting evaluation results for clean ...\n",
      "Calculating mean and std ...\n",
      "Statistic ec no prediction and ec with no reaction ...\n"
     ]
    },
    {
     "data": {
      "text/html": [
       "\n",
       "         <div style=\"float:left; width:700px;\">\n",
       "              <h2 style='color:blue'>clean Evaluation 10 Fold Details</h2>\n",
       "              <table border=\"1\" class=\"dataframe\">\n",
       "  <thead>\n",
       "    <tr style=\"text-align: right;\">\n",
       "      <th></th>\n",
       "      <th>baselineName</th>\n",
       "      <th>runFold</th>\n",
       "      <th>mAccuracy</th>\n",
       "      <th>mPrecision</th>\n",
       "      <th>mRecall</th>\n",
       "      <th>mF1</th>\n",
       "      <th>avgType</th>\n",
       "    </tr>\n",
       "  </thead>\n",
       "  <tbody>\n",
       "    <tr>\n",
       "      <th>0</th>\n",
       "      <td>clean</td>\n",
       "      <td>1</td>\n",
       "      <td>0.26</td>\n",
       "      <td>0.964080</td>\n",
       "      <td>0.327586</td>\n",
       "      <td>0.314655</td>\n",
       "      <td>weighted</td>\n",
       "    </tr>\n",
       "    <tr>\n",
       "      <th>1</th>\n",
       "      <td>clean</td>\n",
       "      <td>1</td>\n",
       "      <td>0.26</td>\n",
       "      <td>0.342342</td>\n",
       "      <td>0.327586</td>\n",
       "      <td>0.334802</td>\n",
       "      <td>micro</td>\n",
       "    </tr>\n",
       "    <tr>\n",
       "      <th>2</th>\n",
       "      <td>clean</td>\n",
       "      <td>1</td>\n",
       "      <td>0.26</td>\n",
       "      <td>0.994616</td>\n",
       "      <td>0.998235</td>\n",
       "      <td>0.993050</td>\n",
       "      <td>macro</td>\n",
       "    </tr>\n",
       "    <tr>\n",
       "      <th>3</th>\n",
       "      <td>clean</td>\n",
       "      <td>1</td>\n",
       "      <td>0.26</td>\n",
       "      <td>0.341667</td>\n",
       "      <td>0.309167</td>\n",
       "      <td>0.317333</td>\n",
       "      <td>samples</td>\n",
       "    </tr>\n",
       "    <tr>\n",
       "      <th>4</th>\n",
       "      <td>clean</td>\n",
       "      <td>2</td>\n",
       "      <td>0.35</td>\n",
       "      <td>0.971739</td>\n",
       "      <td>0.408696</td>\n",
       "      <td>0.394493</td>\n",
       "      <td>weighted</td>\n",
       "    </tr>\n",
       "    <tr>\n",
       "      <th>5</th>\n",
       "      <td>clean</td>\n",
       "      <td>2</td>\n",
       "      <td>0.35</td>\n",
       "      <td>0.379032</td>\n",
       "      <td>0.408696</td>\n",
       "      <td>0.393305</td>\n",
       "      <td>micro</td>\n",
       "    </tr>\n",
       "    <tr>\n",
       "      <th>6</th>\n",
       "      <td>clean</td>\n",
       "      <td>2</td>\n",
       "      <td>0.35</td>\n",
       "      <td>0.993741</td>\n",
       "      <td>0.998425</td>\n",
       "      <td>0.992267</td>\n",
       "      <td>macro</td>\n",
       "    </tr>\n",
       "    <tr>\n",
       "      <th>7</th>\n",
       "      <td>clean</td>\n",
       "      <td>2</td>\n",
       "      <td>0.35</td>\n",
       "      <td>0.441667</td>\n",
       "      <td>0.394500</td>\n",
       "      <td>0.396571</td>\n",
       "      <td>samples</td>\n",
       "    </tr>\n",
       "    <tr>\n",
       "      <th>8</th>\n",
       "      <td>clean</td>\n",
       "      <td>3</td>\n",
       "      <td>0.35</td>\n",
       "      <td>0.986607</td>\n",
       "      <td>0.375000</td>\n",
       "      <td>0.367857</td>\n",
       "      <td>weighted</td>\n",
       "    </tr>\n",
       "    <tr>\n",
       "      <th>9</th>\n",
       "      <td>clean</td>\n",
       "      <td>3</td>\n",
       "      <td>0.35</td>\n",
       "      <td>0.368421</td>\n",
       "      <td>0.375000</td>\n",
       "      <td>0.371681</td>\n",
       "      <td>micro</td>\n",
       "    </tr>\n",
       "    <tr>\n",
       "      <th>10</th>\n",
       "      <td>clean</td>\n",
       "      <td>3</td>\n",
       "      <td>0.35</td>\n",
       "      <td>0.994895</td>\n",
       "      <td>0.998537</td>\n",
       "      <td>0.993473</td>\n",
       "      <td>macro</td>\n",
       "    </tr>\n",
       "    <tr>\n",
       "      <th>11</th>\n",
       "      <td>clean</td>\n",
       "      <td>3</td>\n",
       "      <td>0.35</td>\n",
       "      <td>0.390000</td>\n",
       "      <td>0.370000</td>\n",
       "      <td>0.376667</td>\n",
       "      <td>samples</td>\n",
       "    </tr>\n",
       "    <tr>\n",
       "      <th>12</th>\n",
       "      <td>clean</td>\n",
       "      <td>4</td>\n",
       "      <td>0.34</td>\n",
       "      <td>0.995833</td>\n",
       "      <td>0.375000</td>\n",
       "      <td>0.372222</td>\n",
       "      <td>weighted</td>\n",
       "    </tr>\n",
       "    <tr>\n",
       "      <th>13</th>\n",
       "      <td>clean</td>\n",
       "      <td>4</td>\n",
       "      <td>0.34</td>\n",
       "      <td>0.387931</td>\n",
       "      <td>0.375000</td>\n",
       "      <td>0.381356</td>\n",
       "      <td>micro</td>\n",
       "    </tr>\n",
       "    <tr>\n",
       "      <th>14</th>\n",
       "      <td>clean</td>\n",
       "      <td>4</td>\n",
       "      <td>0.34</td>\n",
       "      <td>0.994799</td>\n",
       "      <td>0.997614</td>\n",
       "      <td>0.992429</td>\n",
       "      <td>macro</td>\n",
       "    </tr>\n",
       "    <tr>\n",
       "      <th>15</th>\n",
       "      <td>clean</td>\n",
       "      <td>4</td>\n",
       "      <td>0.34</td>\n",
       "      <td>0.440000</td>\n",
       "      <td>0.379583</td>\n",
       "      <td>0.393889</td>\n",
       "      <td>samples</td>\n",
       "    </tr>\n",
       "    <tr>\n",
       "      <th>16</th>\n",
       "      <td>clean</td>\n",
       "      <td>5</td>\n",
       "      <td>0.34</td>\n",
       "      <td>0.982000</td>\n",
       "      <td>0.392000</td>\n",
       "      <td>0.384533</td>\n",
       "      <td>weighted</td>\n",
       "    </tr>\n",
       "    <tr>\n",
       "      <th>17</th>\n",
       "      <td>clean</td>\n",
       "      <td>5</td>\n",
       "      <td>0.34</td>\n",
       "      <td>0.415254</td>\n",
       "      <td>0.392000</td>\n",
       "      <td>0.403292</td>\n",
       "      <td>micro</td>\n",
       "    </tr>\n",
       "    <tr>\n",
       "      <th>18</th>\n",
       "      <td>clean</td>\n",
       "      <td>5</td>\n",
       "      <td>0.34</td>\n",
       "      <td>0.994537</td>\n",
       "      <td>0.997901</td>\n",
       "      <td>0.992563</td>\n",
       "      <td>macro</td>\n",
       "    </tr>\n",
       "    <tr>\n",
       "      <th>19</th>\n",
       "      <td>clean</td>\n",
       "      <td>5</td>\n",
       "      <td>0.34</td>\n",
       "      <td>0.410238</td>\n",
       "      <td>0.385714</td>\n",
       "      <td>0.385231</td>\n",
       "      <td>samples</td>\n",
       "    </tr>\n",
       "    <tr>\n",
       "      <th>20</th>\n",
       "      <td>clean</td>\n",
       "      <td>6</td>\n",
       "      <td>0.28</td>\n",
       "      <td>0.986726</td>\n",
       "      <td>0.318584</td>\n",
       "      <td>0.309735</td>\n",
       "      <td>weighted</td>\n",
       "    </tr>\n",
       "    <tr>\n",
       "      <th>21</th>\n",
       "      <td>clean</td>\n",
       "      <td>6</td>\n",
       "      <td>0.28</td>\n",
       "      <td>0.295082</td>\n",
       "      <td>0.318584</td>\n",
       "      <td>0.306383</td>\n",
       "      <td>micro</td>\n",
       "    </tr>\n",
       "    <tr>\n",
       "      <th>22</th>\n",
       "      <td>clean</td>\n",
       "      <td>6</td>\n",
       "      <td>0.28</td>\n",
       "      <td>0.993081</td>\n",
       "      <td>0.998282</td>\n",
       "      <td>0.991411</td>\n",
       "      <td>macro</td>\n",
       "    </tr>\n",
       "    <tr>\n",
       "      <th>23</th>\n",
       "      <td>clean</td>\n",
       "      <td>6</td>\n",
       "      <td>0.28</td>\n",
       "      <td>0.355000</td>\n",
       "      <td>0.320333</td>\n",
       "      <td>0.328333</td>\n",
       "      <td>samples</td>\n",
       "    </tr>\n",
       "    <tr>\n",
       "      <th>24</th>\n",
       "      <td>clean</td>\n",
       "      <td>7</td>\n",
       "      <td>0.30</td>\n",
       "      <td>0.959384</td>\n",
       "      <td>0.310924</td>\n",
       "      <td>0.299720</td>\n",
       "      <td>weighted</td>\n",
       "    </tr>\n",
       "    <tr>\n",
       "      <th>25</th>\n",
       "      <td>clean</td>\n",
       "      <td>7</td>\n",
       "      <td>0.30</td>\n",
       "      <td>0.318966</td>\n",
       "      <td>0.310924</td>\n",
       "      <td>0.314894</td>\n",
       "      <td>micro</td>\n",
       "    </tr>\n",
       "    <tr>\n",
       "      <th>26</th>\n",
       "      <td>clean</td>\n",
       "      <td>7</td>\n",
       "      <td>0.30</td>\n",
       "      <td>0.993972</td>\n",
       "      <td>0.997614</td>\n",
       "      <td>0.991904</td>\n",
       "      <td>macro</td>\n",
       "    </tr>\n",
       "    <tr>\n",
       "      <th>27</th>\n",
       "      <td>clean</td>\n",
       "      <td>7</td>\n",
       "      <td>0.30</td>\n",
       "      <td>0.352500</td>\n",
       "      <td>0.333333</td>\n",
       "      <td>0.335667</td>\n",
       "      <td>samples</td>\n",
       "    </tr>\n",
       "    <tr>\n",
       "      <th>28</th>\n",
       "      <td>clean</td>\n",
       "      <td>8</td>\n",
       "      <td>0.24</td>\n",
       "      <td>0.953065</td>\n",
       "      <td>0.267241</td>\n",
       "      <td>0.259580</td>\n",
       "      <td>weighted</td>\n",
       "    </tr>\n",
       "    <tr>\n",
       "      <th>29</th>\n",
       "      <td>clean</td>\n",
       "      <td>8</td>\n",
       "      <td>0.24</td>\n",
       "      <td>0.238462</td>\n",
       "      <td>0.267241</td>\n",
       "      <td>0.252033</td>\n",
       "      <td>micro</td>\n",
       "    </tr>\n",
       "    <tr>\n",
       "      <th>30</th>\n",
       "      <td>clean</td>\n",
       "      <td>8</td>\n",
       "      <td>0.24</td>\n",
       "      <td>0.992217</td>\n",
       "      <td>0.997901</td>\n",
       "      <td>0.990297</td>\n",
       "      <td>macro</td>\n",
       "    </tr>\n",
       "    <tr>\n",
       "      <th>31</th>\n",
       "      <td>clean</td>\n",
       "      <td>8</td>\n",
       "      <td>0.24</td>\n",
       "      <td>0.317500</td>\n",
       "      <td>0.280000</td>\n",
       "      <td>0.277333</td>\n",
       "      <td>samples</td>\n",
       "    </tr>\n",
       "    <tr>\n",
       "      <th>32</th>\n",
       "      <td>clean</td>\n",
       "      <td>9</td>\n",
       "      <td>0.39</td>\n",
       "      <td>0.956284</td>\n",
       "      <td>0.426230</td>\n",
       "      <td>0.419126</td>\n",
       "      <td>weighted</td>\n",
       "    </tr>\n",
       "    <tr>\n",
       "      <th>33</th>\n",
       "      <td>clean</td>\n",
       "      <td>9</td>\n",
       "      <td>0.39</td>\n",
       "      <td>0.419355</td>\n",
       "      <td>0.426230</td>\n",
       "      <td>0.422764</td>\n",
       "      <td>micro</td>\n",
       "    </tr>\n",
       "    <tr>\n",
       "      <th>34</th>\n",
       "      <td>clean</td>\n",
       "      <td>9</td>\n",
       "      <td>0.39</td>\n",
       "      <td>0.994163</td>\n",
       "      <td>0.997948</td>\n",
       "      <td>0.992467</td>\n",
       "      <td>macro</td>\n",
       "    </tr>\n",
       "    <tr>\n",
       "      <th>35</th>\n",
       "      <td>clean</td>\n",
       "      <td>9</td>\n",
       "      <td>0.39</td>\n",
       "      <td>0.461667</td>\n",
       "      <td>0.434444</td>\n",
       "      <td>0.437571</td>\n",
       "      <td>samples</td>\n",
       "    </tr>\n",
       "    <tr>\n",
       "      <th>36</th>\n",
       "      <td>clean</td>\n",
       "      <td>10</td>\n",
       "      <td>0.34</td>\n",
       "      <td>0.944793</td>\n",
       "      <td>0.336449</td>\n",
       "      <td>0.314486</td>\n",
       "      <td>weighted</td>\n",
       "    </tr>\n",
       "    <tr>\n",
       "      <th>37</th>\n",
       "      <td>clean</td>\n",
       "      <td>10</td>\n",
       "      <td>0.34</td>\n",
       "      <td>0.324324</td>\n",
       "      <td>0.336449</td>\n",
       "      <td>0.330275</td>\n",
       "      <td>micro</td>\n",
       "    </tr>\n",
       "    <tr>\n",
       "      <th>38</th>\n",
       "      <td>clean</td>\n",
       "      <td>10</td>\n",
       "      <td>0.34</td>\n",
       "      <td>0.994474</td>\n",
       "      <td>0.998473</td>\n",
       "      <td>0.993287</td>\n",
       "      <td>macro</td>\n",
       "    </tr>\n",
       "    <tr>\n",
       "      <th>39</th>\n",
       "      <td>clean</td>\n",
       "      <td>10</td>\n",
       "      <td>0.34</td>\n",
       "      <td>0.380000</td>\n",
       "      <td>0.347500</td>\n",
       "      <td>0.350667</td>\n",
       "      <td>samples</td>\n",
       "    </tr>\n",
       "  </tbody>\n",
       "</table>\n",
       "         </div>\n",
       "         <div  style=\"float:left; width:600px;\" >\n",
       "              <h2 style='color:blue' >clean Evaluation 10 Fold std and mean Overview</h2>\n",
       "                   <table border=\"1\" class=\"dataframe\">\n",
       "  <thead>\n",
       "    <tr style=\"text-align: right;\">\n",
       "      <th></th>\n",
       "      <th>baselineName</th>\n",
       "      <th>avgType</th>\n",
       "      <th>Metric</th>\n",
       "      <th>mean</th>\n",
       "      <th>std</th>\n",
       "    </tr>\n",
       "  </thead>\n",
       "  <tbody>\n",
       "    <tr>\n",
       "      <th>0</th>\n",
       "      <td>clean</td>\n",
       "      <td>macro</td>\n",
       "      <td>mAccuracy</td>\n",
       "      <td>0.319000</td>\n",
       "      <td>0.047011</td>\n",
       "    </tr>\n",
       "    <tr>\n",
       "      <th>1</th>\n",
       "      <td>clean</td>\n",
       "      <td>macro</td>\n",
       "      <td>mF1</td>\n",
       "      <td>0.992315</td>\n",
       "      <td>0.000942</td>\n",
       "    </tr>\n",
       "    <tr>\n",
       "      <th>2</th>\n",
       "      <td>clean</td>\n",
       "      <td>macro</td>\n",
       "      <td>mPrecision</td>\n",
       "      <td>0.994050</td>\n",
       "      <td>0.000845</td>\n",
       "    </tr>\n",
       "    <tr>\n",
       "      <th>3</th>\n",
       "      <td>clean</td>\n",
       "      <td>macro</td>\n",
       "      <td>mRecall</td>\n",
       "      <td>0.998093</td>\n",
       "      <td>0.000343</td>\n",
       "    </tr>\n",
       "    <tr>\n",
       "      <th>4</th>\n",
       "      <td>clean</td>\n",
       "      <td>micro</td>\n",
       "      <td>mAccuracy</td>\n",
       "      <td>0.319000</td>\n",
       "      <td>0.047011</td>\n",
       "    </tr>\n",
       "    <tr>\n",
       "      <th>5</th>\n",
       "      <td>clean</td>\n",
       "      <td>micro</td>\n",
       "      <td>mF1</td>\n",
       "      <td>0.351079</td>\n",
       "      <td>0.052498</td>\n",
       "    </tr>\n",
       "    <tr>\n",
       "      <th>6</th>\n",
       "      <td>clean</td>\n",
       "      <td>micro</td>\n",
       "      <td>mPrecision</td>\n",
       "      <td>0.348917</td>\n",
       "      <td>0.056584</td>\n",
       "    </tr>\n",
       "    <tr>\n",
       "      <th>7</th>\n",
       "      <td>clean</td>\n",
       "      <td>micro</td>\n",
       "      <td>mRecall</td>\n",
       "      <td>0.353771</td>\n",
       "      <td>0.049640</td>\n",
       "    </tr>\n",
       "    <tr>\n",
       "      <th>8</th>\n",
       "      <td>clean</td>\n",
       "      <td>samples</td>\n",
       "      <td>mAccuracy</td>\n",
       "      <td>0.319000</td>\n",
       "      <td>0.047011</td>\n",
       "    </tr>\n",
       "    <tr>\n",
       "      <th>9</th>\n",
       "      <td>clean</td>\n",
       "      <td>samples</td>\n",
       "      <td>mF1</td>\n",
       "      <td>0.359926</td>\n",
       "      <td>0.046849</td>\n",
       "    </tr>\n",
       "    <tr>\n",
       "      <th>10</th>\n",
       "      <td>clean</td>\n",
       "      <td>samples</td>\n",
       "      <td>mPrecision</td>\n",
       "      <td>0.389024</td>\n",
       "      <td>0.048338</td>\n",
       "    </tr>\n",
       "    <tr>\n",
       "      <th>11</th>\n",
       "      <td>clean</td>\n",
       "      <td>samples</td>\n",
       "      <td>mRecall</td>\n",
       "      <td>0.355458</td>\n",
       "      <td>0.046062</td>\n",
       "    </tr>\n",
       "    <tr>\n",
       "      <th>12</th>\n",
       "      <td>clean</td>\n",
       "      <td>weighted</td>\n",
       "      <td>mAccuracy</td>\n",
       "      <td>0.319000</td>\n",
       "      <td>0.047011</td>\n",
       "    </tr>\n",
       "    <tr>\n",
       "      <th>13</th>\n",
       "      <td>clean</td>\n",
       "      <td>weighted</td>\n",
       "      <td>mF1</td>\n",
       "      <td>0.343641</td>\n",
       "      <td>0.050766</td>\n",
       "    </tr>\n",
       "    <tr>\n",
       "      <th>14</th>\n",
       "      <td>clean</td>\n",
       "      <td>weighted</td>\n",
       "      <td>mPrecision</td>\n",
       "      <td>0.970051</td>\n",
       "      <td>0.017088</td>\n",
       "    </tr>\n",
       "    <tr>\n",
       "      <th>15</th>\n",
       "      <td>clean</td>\n",
       "      <td>weighted</td>\n",
       "      <td>mRecall</td>\n",
       "      <td>0.353771</td>\n",
       "      <td>0.049640</td>\n",
       "    </tr>\n",
       "  </tbody>\n",
       "</table>\n",
       "         </div>\n",
       "         \n",
       "         <div style=\"float:left; width:600px;\">\n",
       "         <h2 style='color:blue' >clean Evaluation 10 Fold No Prediction Overview</h2>\n",
       "              <table border=\"1\" class=\"dataframe\">\n",
       "  <thead>\n",
       "    <tr style=\"text-align: right;\">\n",
       "      <th></th>\n",
       "      <th>run_fold</th>\n",
       "      <th>test_size</th>\n",
       "      <th>no_prediction_count</th>\n",
       "      <th>ec_without_reaction_count</th>\n",
       "    </tr>\n",
       "  </thead>\n",
       "  <tbody>\n",
       "    <tr>\n",
       "      <th>0</th>\n",
       "      <td>1</td>\n",
       "      <td>50858</td>\n",
       "      <td>0</td>\n",
       "      <td>8422</td>\n",
       "    </tr>\n",
       "    <tr>\n",
       "      <th>1</th>\n",
       "      <td>2</td>\n",
       "      <td>50858</td>\n",
       "      <td>0</td>\n",
       "      <td>8454</td>\n",
       "    </tr>\n",
       "    <tr>\n",
       "      <th>2</th>\n",
       "      <td>3</td>\n",
       "      <td>50858</td>\n",
       "      <td>0</td>\n",
       "      <td>8445</td>\n",
       "    </tr>\n",
       "    <tr>\n",
       "      <th>3</th>\n",
       "      <td>4</td>\n",
       "      <td>50858</td>\n",
       "      <td>0</td>\n",
       "      <td>8359</td>\n",
       "    </tr>\n",
       "    <tr>\n",
       "      <th>4</th>\n",
       "      <td>5</td>\n",
       "      <td>50858</td>\n",
       "      <td>0</td>\n",
       "      <td>8505</td>\n",
       "    </tr>\n",
       "    <tr>\n",
       "      <th>5</th>\n",
       "      <td>6</td>\n",
       "      <td>50858</td>\n",
       "      <td>0</td>\n",
       "      <td>8526</td>\n",
       "    </tr>\n",
       "    <tr>\n",
       "      <th>6</th>\n",
       "      <td>7</td>\n",
       "      <td>50858</td>\n",
       "      <td>0</td>\n",
       "      <td>8498</td>\n",
       "    </tr>\n",
       "    <tr>\n",
       "      <th>7</th>\n",
       "      <td>8</td>\n",
       "      <td>50858</td>\n",
       "      <td>0</td>\n",
       "      <td>8381</td>\n",
       "    </tr>\n",
       "    <tr>\n",
       "      <th>8</th>\n",
       "      <td>9</td>\n",
       "      <td>50858</td>\n",
       "      <td>0</td>\n",
       "      <td>8542</td>\n",
       "    </tr>\n",
       "    <tr>\n",
       "      <th>9</th>\n",
       "      <td>10</td>\n",
       "      <td>50858</td>\n",
       "      <td>0</td>\n",
       "      <td>8550</td>\n",
       "    </tr>\n",
       "  </tbody>\n",
       "</table>\n",
       "         </div>\n",
       "         "
      ],
      "text/plain": [
       "<IPython.core.display.HTML object>"
      ]
     },
     "execution_count": 17,
     "metadata": {},
     "output_type": "execute_result"
    }
   ],
   "source": [
    "std_clean, metrics_clean, ec_no_rxn_clean =evTools.get_eval_results(baselineName= 'clean', dict_rxn2id=dict_rxn2id, method_type='ec')\n",
    "evTools.display_html_results(metrics = metrics_clean, std_mean = std_clean, no_pred=ec_no_rxn_clean, eva_name ='clean')"
   ]
  },
  {
   "cell_type": "markdown",
   "metadata": {},
   "source": [
    "### 4.4 ECRECer"
   ]
  },
  {
   "cell_type": "code",
   "execution_count": 18,
   "metadata": {},
   "outputs": [
    {
     "name": "stdout",
     "output_type": "stream",
     "text": [
      "Getting evaluation results for ecrecer ...\n",
      "Calculating mean and std ...\n",
      "Statistic ec no prediction and ec with no reaction ...\n"
     ]
    },
    {
     "data": {
      "text/html": [
       "\n",
       "         <div style=\"float:left; width:700px;\">\n",
       "              <h2 style='color:blue'>ECRECer Evaluation 10 Fold Details</h2>\n",
       "              <table border=\"1\" class=\"dataframe\">\n",
       "  <thead>\n",
       "    <tr style=\"text-align: right;\">\n",
       "      <th></th>\n",
       "      <th>baselineName</th>\n",
       "      <th>runFold</th>\n",
       "      <th>mAccuracy</th>\n",
       "      <th>mPrecision</th>\n",
       "      <th>mRecall</th>\n",
       "      <th>mF1</th>\n",
       "      <th>avgType</th>\n",
       "    </tr>\n",
       "  </thead>\n",
       "  <tbody>\n",
       "    <tr>\n",
       "      <th>0</th>\n",
       "      <td>ecrecer</td>\n",
       "      <td>1</td>\n",
       "      <td>0.84</td>\n",
       "      <td>0.991523</td>\n",
       "      <td>0.775862</td>\n",
       "      <td>0.771588</td>\n",
       "      <td>weighted</td>\n",
       "    </tr>\n",
       "    <tr>\n",
       "      <th>1</th>\n",
       "      <td>ecrecer</td>\n",
       "      <td>1</td>\n",
       "      <td>0.84</td>\n",
       "      <td>0.900000</td>\n",
       "      <td>0.775862</td>\n",
       "      <td>0.833333</td>\n",
       "      <td>micro</td>\n",
       "    </tr>\n",
       "    <tr>\n",
       "      <th>2</th>\n",
       "      <td>ecrecer</td>\n",
       "      <td>1</td>\n",
       "      <td>0.84</td>\n",
       "      <td>0.999140</td>\n",
       "      <td>0.997614</td>\n",
       "      <td>0.996755</td>\n",
       "      <td>macro</td>\n",
       "    </tr>\n",
       "    <tr>\n",
       "      <th>3</th>\n",
       "      <td>ecrecer</td>\n",
       "      <td>1</td>\n",
       "      <td>0.84</td>\n",
       "      <td>0.900000</td>\n",
       "      <td>0.867500</td>\n",
       "      <td>0.877333</td>\n",
       "      <td>samples</td>\n",
       "    </tr>\n",
       "    <tr>\n",
       "      <th>4</th>\n",
       "      <td>ecrecer</td>\n",
       "      <td>2</td>\n",
       "      <td>0.82</td>\n",
       "      <td>0.982950</td>\n",
       "      <td>0.756522</td>\n",
       "      <td>0.752303</td>\n",
       "      <td>weighted</td>\n",
       "    </tr>\n",
       "    <tr>\n",
       "      <th>5</th>\n",
       "      <td>ecrecer</td>\n",
       "      <td>2</td>\n",
       "      <td>0.82</td>\n",
       "      <td>0.870000</td>\n",
       "      <td>0.756522</td>\n",
       "      <td>0.809302</td>\n",
       "      <td>micro</td>\n",
       "    </tr>\n",
       "    <tr>\n",
       "      <th>6</th>\n",
       "      <td>ecrecer</td>\n",
       "      <td>2</td>\n",
       "      <td>0.82</td>\n",
       "      <td>0.998947</td>\n",
       "      <td>0.997612</td>\n",
       "      <td>0.996562</td>\n",
       "      <td>macro</td>\n",
       "    </tr>\n",
       "    <tr>\n",
       "      <th>7</th>\n",
       "      <td>ecrecer</td>\n",
       "      <td>2</td>\n",
       "      <td>0.82</td>\n",
       "      <td>0.870000</td>\n",
       "      <td>0.842000</td>\n",
       "      <td>0.850000</td>\n",
       "      <td>samples</td>\n",
       "    </tr>\n",
       "    <tr>\n",
       "      <th>8</th>\n",
       "      <td>ecrecer</td>\n",
       "      <td>3</td>\n",
       "      <td>0.88</td>\n",
       "      <td>0.991231</td>\n",
       "      <td>0.830357</td>\n",
       "      <td>0.829505</td>\n",
       "      <td>weighted</td>\n",
       "    </tr>\n",
       "    <tr>\n",
       "      <th>9</th>\n",
       "      <td>ecrecer</td>\n",
       "      <td>3</td>\n",
       "      <td>0.88</td>\n",
       "      <td>0.930000</td>\n",
       "      <td>0.830357</td>\n",
       "      <td>0.877358</td>\n",
       "      <td>micro</td>\n",
       "    </tr>\n",
       "    <tr>\n",
       "      <th>10</th>\n",
       "      <td>ecrecer</td>\n",
       "      <td>3</td>\n",
       "      <td>0.88</td>\n",
       "      <td>0.999426</td>\n",
       "      <td>0.998250</td>\n",
       "      <td>0.997690</td>\n",
       "      <td>macro</td>\n",
       "    </tr>\n",
       "    <tr>\n",
       "      <th>11</th>\n",
       "      <td>ecrecer</td>\n",
       "      <td>3</td>\n",
       "      <td>0.88</td>\n",
       "      <td>0.930000</td>\n",
       "      <td>0.902500</td>\n",
       "      <td>0.910667</td>\n",
       "      <td>samples</td>\n",
       "    </tr>\n",
       "    <tr>\n",
       "      <th>12</th>\n",
       "      <td>ecrecer</td>\n",
       "      <td>4</td>\n",
       "      <td>0.82</td>\n",
       "      <td>0.968519</td>\n",
       "      <td>0.750000</td>\n",
       "      <td>0.738095</td>\n",
       "      <td>weighted</td>\n",
       "    </tr>\n",
       "    <tr>\n",
       "      <th>13</th>\n",
       "      <td>ecrecer</td>\n",
       "      <td>4</td>\n",
       "      <td>0.82</td>\n",
       "      <td>0.900000</td>\n",
       "      <td>0.750000</td>\n",
       "      <td>0.818182</td>\n",
       "      <td>micro</td>\n",
       "    </tr>\n",
       "    <tr>\n",
       "      <th>14</th>\n",
       "      <td>ecrecer</td>\n",
       "      <td>4</td>\n",
       "      <td>0.82</td>\n",
       "      <td>0.999420</td>\n",
       "      <td>0.997231</td>\n",
       "      <td>0.996655</td>\n",
       "      <td>macro</td>\n",
       "    </tr>\n",
       "    <tr>\n",
       "      <th>15</th>\n",
       "      <td>ecrecer</td>\n",
       "      <td>4</td>\n",
       "      <td>0.82</td>\n",
       "      <td>0.900000</td>\n",
       "      <td>0.854583</td>\n",
       "      <td>0.867222</td>\n",
       "      <td>samples</td>\n",
       "    </tr>\n",
       "    <tr>\n",
       "      <th>16</th>\n",
       "      <td>ecrecer</td>\n",
       "      <td>5</td>\n",
       "      <td>0.89</td>\n",
       "      <td>0.992143</td>\n",
       "      <td>0.728000</td>\n",
       "      <td>0.724036</td>\n",
       "      <td>weighted</td>\n",
       "    </tr>\n",
       "    <tr>\n",
       "      <th>17</th>\n",
       "      <td>ecrecer</td>\n",
       "      <td>5</td>\n",
       "      <td>0.89</td>\n",
       "      <td>0.910000</td>\n",
       "      <td>0.728000</td>\n",
       "      <td>0.808889</td>\n",
       "      <td>micro</td>\n",
       "    </tr>\n",
       "    <tr>\n",
       "      <th>18</th>\n",
       "      <td>ecrecer</td>\n",
       "      <td>5</td>\n",
       "      <td>0.89</td>\n",
       "      <td>0.999235</td>\n",
       "      <td>0.996755</td>\n",
       "      <td>0.995991</td>\n",
       "      <td>macro</td>\n",
       "    </tr>\n",
       "    <tr>\n",
       "      <th>19</th>\n",
       "      <td>ecrecer</td>\n",
       "      <td>5</td>\n",
       "      <td>0.89</td>\n",
       "      <td>0.910000</td>\n",
       "      <td>0.900000</td>\n",
       "      <td>0.903333</td>\n",
       "      <td>samples</td>\n",
       "    </tr>\n",
       "    <tr>\n",
       "      <th>20</th>\n",
       "      <td>ecrecer</td>\n",
       "      <td>6</td>\n",
       "      <td>0.86</td>\n",
       "      <td>0.990998</td>\n",
       "      <td>0.805310</td>\n",
       "      <td>0.809621</td>\n",
       "      <td>weighted</td>\n",
       "    </tr>\n",
       "    <tr>\n",
       "      <th>21</th>\n",
       "      <td>ecrecer</td>\n",
       "      <td>6</td>\n",
       "      <td>0.86</td>\n",
       "      <td>0.910000</td>\n",
       "      <td>0.805310</td>\n",
       "      <td>0.854460</td>\n",
       "      <td>micro</td>\n",
       "    </tr>\n",
       "    <tr>\n",
       "      <th>22</th>\n",
       "      <td>ecrecer</td>\n",
       "      <td>6</td>\n",
       "      <td>0.86</td>\n",
       "      <td>0.999235</td>\n",
       "      <td>0.998184</td>\n",
       "      <td>0.997421</td>\n",
       "      <td>macro</td>\n",
       "    </tr>\n",
       "    <tr>\n",
       "      <th>23</th>\n",
       "      <td>ecrecer</td>\n",
       "      <td>6</td>\n",
       "      <td>0.86</td>\n",
       "      <td>0.910000</td>\n",
       "      <td>0.883333</td>\n",
       "      <td>0.891667</td>\n",
       "      <td>samples</td>\n",
       "    </tr>\n",
       "    <tr>\n",
       "      <th>24</th>\n",
       "      <td>ecrecer</td>\n",
       "      <td>7</td>\n",
       "      <td>0.88</td>\n",
       "      <td>0.991739</td>\n",
       "      <td>0.789916</td>\n",
       "      <td>0.785750</td>\n",
       "      <td>weighted</td>\n",
       "    </tr>\n",
       "    <tr>\n",
       "      <th>25</th>\n",
       "      <td>ecrecer</td>\n",
       "      <td>7</td>\n",
       "      <td>0.88</td>\n",
       "      <td>0.940000</td>\n",
       "      <td>0.789916</td>\n",
       "      <td>0.858447</td>\n",
       "      <td>micro</td>\n",
       "    </tr>\n",
       "    <tr>\n",
       "      <th>26</th>\n",
       "      <td>ecrecer</td>\n",
       "      <td>7</td>\n",
       "      <td>0.88</td>\n",
       "      <td>0.999521</td>\n",
       "      <td>0.997614</td>\n",
       "      <td>0.997136</td>\n",
       "      <td>macro</td>\n",
       "    </tr>\n",
       "    <tr>\n",
       "      <th>27</th>\n",
       "      <td>ecrecer</td>\n",
       "      <td>7</td>\n",
       "      <td>0.88</td>\n",
       "      <td>0.940000</td>\n",
       "      <td>0.904444</td>\n",
       "      <td>0.913667</td>\n",
       "      <td>samples</td>\n",
       "    </tr>\n",
       "    <tr>\n",
       "      <th>28</th>\n",
       "      <td>ecrecer</td>\n",
       "      <td>8</td>\n",
       "      <td>0.87</td>\n",
       "      <td>0.983315</td>\n",
       "      <td>0.793103</td>\n",
       "      <td>0.788072</td>\n",
       "      <td>weighted</td>\n",
       "    </tr>\n",
       "    <tr>\n",
       "      <th>29</th>\n",
       "      <td>ecrecer</td>\n",
       "      <td>8</td>\n",
       "      <td>0.87</td>\n",
       "      <td>0.920000</td>\n",
       "      <td>0.793103</td>\n",
       "      <td>0.851852</td>\n",
       "      <td>micro</td>\n",
       "    </tr>\n",
       "    <tr>\n",
       "      <th>30</th>\n",
       "      <td>ecrecer</td>\n",
       "      <td>8</td>\n",
       "      <td>0.87</td>\n",
       "      <td>0.999424</td>\n",
       "      <td>0.998060</td>\n",
       "      <td>0.997498</td>\n",
       "      <td>macro</td>\n",
       "    </tr>\n",
       "    <tr>\n",
       "      <th>31</th>\n",
       "      <td>ecrecer</td>\n",
       "      <td>8</td>\n",
       "      <td>0.87</td>\n",
       "      <td>0.920000</td>\n",
       "      <td>0.895000</td>\n",
       "      <td>0.903333</td>\n",
       "      <td>samples</td>\n",
       "    </tr>\n",
       "    <tr>\n",
       "      <th>32</th>\n",
       "      <td>ecrecer</td>\n",
       "      <td>9</td>\n",
       "      <td>0.89</td>\n",
       "      <td>0.991971</td>\n",
       "      <td>0.762295</td>\n",
       "      <td>0.760971</td>\n",
       "      <td>weighted</td>\n",
       "    </tr>\n",
       "    <tr>\n",
       "      <th>33</th>\n",
       "      <td>ecrecer</td>\n",
       "      <td>9</td>\n",
       "      <td>0.89</td>\n",
       "      <td>0.930000</td>\n",
       "      <td>0.762295</td>\n",
       "      <td>0.837838</td>\n",
       "      <td>micro</td>\n",
       "    </tr>\n",
       "    <tr>\n",
       "      <th>34</th>\n",
       "      <td>ecrecer</td>\n",
       "      <td>9</td>\n",
       "      <td>0.89</td>\n",
       "      <td>0.999425</td>\n",
       "      <td>0.997280</td>\n",
       "      <td>0.996723</td>\n",
       "      <td>macro</td>\n",
       "    </tr>\n",
       "    <tr>\n",
       "      <th>35</th>\n",
       "      <td>ecrecer</td>\n",
       "      <td>9</td>\n",
       "      <td>0.89</td>\n",
       "      <td>0.930000</td>\n",
       "      <td>0.908333</td>\n",
       "      <td>0.915000</td>\n",
       "      <td>samples</td>\n",
       "    </tr>\n",
       "    <tr>\n",
       "      <th>36</th>\n",
       "      <td>ecrecer</td>\n",
       "      <td>10</td>\n",
       "      <td>0.88</td>\n",
       "      <td>0.980969</td>\n",
       "      <td>0.850467</td>\n",
       "      <td>0.854930</td>\n",
       "      <td>weighted</td>\n",
       "    </tr>\n",
       "    <tr>\n",
       "      <th>37</th>\n",
       "      <td>ecrecer</td>\n",
       "      <td>10</td>\n",
       "      <td>0.88</td>\n",
       "      <td>0.919192</td>\n",
       "      <td>0.850467</td>\n",
       "      <td>0.883495</td>\n",
       "      <td>micro</td>\n",
       "    </tr>\n",
       "    <tr>\n",
       "      <th>38</th>\n",
       "      <td>ecrecer</td>\n",
       "      <td>10</td>\n",
       "      <td>0.88</td>\n",
       "      <td>0.999424</td>\n",
       "      <td>0.998754</td>\n",
       "      <td>0.998183</td>\n",
       "      <td>macro</td>\n",
       "    </tr>\n",
       "    <tr>\n",
       "      <th>39</th>\n",
       "      <td>ecrecer</td>\n",
       "      <td>10</td>\n",
       "      <td>0.88</td>\n",
       "      <td>0.920000</td>\n",
       "      <td>0.890833</td>\n",
       "      <td>0.895667</td>\n",
       "      <td>samples</td>\n",
       "    </tr>\n",
       "  </tbody>\n",
       "</table>\n",
       "         </div>\n",
       "         <div  style=\"float:left; width:600px;\" >\n",
       "              <h2 style='color:blue' >ECRECer Evaluation 10 Fold std and mean Overview</h2>\n",
       "                   <table border=\"1\" class=\"dataframe\">\n",
       "  <thead>\n",
       "    <tr style=\"text-align: right;\">\n",
       "      <th></th>\n",
       "      <th>baselineName</th>\n",
       "      <th>avgType</th>\n",
       "      <th>Metric</th>\n",
       "      <th>mean</th>\n",
       "      <th>std</th>\n",
       "    </tr>\n",
       "  </thead>\n",
       "  <tbody>\n",
       "    <tr>\n",
       "      <th>0</th>\n",
       "      <td>ecrecer</td>\n",
       "      <td>macro</td>\n",
       "      <td>mAccuracy</td>\n",
       "      <td>0.863000</td>\n",
       "      <td>0.027101</td>\n",
       "    </tr>\n",
       "    <tr>\n",
       "      <th>1</th>\n",
       "      <td>ecrecer</td>\n",
       "      <td>macro</td>\n",
       "      <td>mF1</td>\n",
       "      <td>0.997061</td>\n",
       "      <td>0.000645</td>\n",
       "    </tr>\n",
       "    <tr>\n",
       "      <th>2</th>\n",
       "      <td>ecrecer</td>\n",
       "      <td>macro</td>\n",
       "      <td>mPrecision</td>\n",
       "      <td>0.999320</td>\n",
       "      <td>0.000177</td>\n",
       "    </tr>\n",
       "    <tr>\n",
       "      <th>3</th>\n",
       "      <td>ecrecer</td>\n",
       "      <td>macro</td>\n",
       "      <td>mRecall</td>\n",
       "      <td>0.997736</td>\n",
       "      <td>0.000585</td>\n",
       "    </tr>\n",
       "    <tr>\n",
       "      <th>4</th>\n",
       "      <td>ecrecer</td>\n",
       "      <td>micro</td>\n",
       "      <td>mAccuracy</td>\n",
       "      <td>0.863000</td>\n",
       "      <td>0.027101</td>\n",
       "    </tr>\n",
       "    <tr>\n",
       "      <th>5</th>\n",
       "      <td>ecrecer</td>\n",
       "      <td>micro</td>\n",
       "      <td>mF1</td>\n",
       "      <td>0.843316</td>\n",
       "      <td>0.026463</td>\n",
       "    </tr>\n",
       "    <tr>\n",
       "      <th>6</th>\n",
       "      <td>ecrecer</td>\n",
       "      <td>micro</td>\n",
       "      <td>mPrecision</td>\n",
       "      <td>0.912919</td>\n",
       "      <td>0.019998</td>\n",
       "    </tr>\n",
       "    <tr>\n",
       "      <th>7</th>\n",
       "      <td>ecrecer</td>\n",
       "      <td>micro</td>\n",
       "      <td>mRecall</td>\n",
       "      <td>0.784183</td>\n",
       "      <td>0.037599</td>\n",
       "    </tr>\n",
       "    <tr>\n",
       "      <th>8</th>\n",
       "      <td>ecrecer</td>\n",
       "      <td>samples</td>\n",
       "      <td>mAccuracy</td>\n",
       "      <td>0.863000</td>\n",
       "      <td>0.027101</td>\n",
       "    </tr>\n",
       "    <tr>\n",
       "      <th>9</th>\n",
       "      <td>ecrecer</td>\n",
       "      <td>samples</td>\n",
       "      <td>mF1</td>\n",
       "      <td>0.892789</td>\n",
       "      <td>0.021613</td>\n",
       "    </tr>\n",
       "    <tr>\n",
       "      <th>10</th>\n",
       "      <td>ecrecer</td>\n",
       "      <td>samples</td>\n",
       "      <td>mPrecision</td>\n",
       "      <td>0.913000</td>\n",
       "      <td>0.020028</td>\n",
       "    </tr>\n",
       "    <tr>\n",
       "      <th>11</th>\n",
       "      <td>ecrecer</td>\n",
       "      <td>samples</td>\n",
       "      <td>mRecall</td>\n",
       "      <td>0.884853</td>\n",
       "      <td>0.022781</td>\n",
       "    </tr>\n",
       "    <tr>\n",
       "      <th>12</th>\n",
       "      <td>ecrecer</td>\n",
       "      <td>weighted</td>\n",
       "      <td>mAccuracy</td>\n",
       "      <td>0.863000</td>\n",
       "      <td>0.027101</td>\n",
       "    </tr>\n",
       "    <tr>\n",
       "      <th>13</th>\n",
       "      <td>ecrecer</td>\n",
       "      <td>weighted</td>\n",
       "      <td>mF1</td>\n",
       "      <td>0.781487</td>\n",
       "      <td>0.040970</td>\n",
       "    </tr>\n",
       "    <tr>\n",
       "      <th>14</th>\n",
       "      <td>ecrecer</td>\n",
       "      <td>weighted</td>\n",
       "      <td>mPrecision</td>\n",
       "      <td>0.986536</td>\n",
       "      <td>0.007701</td>\n",
       "    </tr>\n",
       "    <tr>\n",
       "      <th>15</th>\n",
       "      <td>ecrecer</td>\n",
       "      <td>weighted</td>\n",
       "      <td>mRecall</td>\n",
       "      <td>0.784183</td>\n",
       "      <td>0.037599</td>\n",
       "    </tr>\n",
       "  </tbody>\n",
       "</table>\n",
       "         </div>\n",
       "         \n",
       "         <div style=\"float:left; width:600px;\">\n",
       "         <h2 style='color:blue' >ECRECer Evaluation 10 Fold No Prediction Overview</h2>\n",
       "              <table border=\"1\" class=\"dataframe\">\n",
       "  <thead>\n",
       "    <tr style=\"text-align: right;\">\n",
       "      <th></th>\n",
       "      <th>run_fold</th>\n",
       "      <th>test_size</th>\n",
       "      <th>no_prediction_count</th>\n",
       "      <th>ec_without_reaction_count</th>\n",
       "    </tr>\n",
       "  </thead>\n",
       "  <tbody>\n",
       "    <tr>\n",
       "      <th>0</th>\n",
       "      <td>1</td>\n",
       "      <td>50858</td>\n",
       "      <td>0</td>\n",
       "      <td>2953</td>\n",
       "    </tr>\n",
       "    <tr>\n",
       "      <th>1</th>\n",
       "      <td>2</td>\n",
       "      <td>50858</td>\n",
       "      <td>0</td>\n",
       "      <td>2993</td>\n",
       "    </tr>\n",
       "    <tr>\n",
       "      <th>2</th>\n",
       "      <td>3</td>\n",
       "      <td>50858</td>\n",
       "      <td>0</td>\n",
       "      <td>3154</td>\n",
       "    </tr>\n",
       "    <tr>\n",
       "      <th>3</th>\n",
       "      <td>4</td>\n",
       "      <td>50858</td>\n",
       "      <td>0</td>\n",
       "      <td>3074</td>\n",
       "    </tr>\n",
       "    <tr>\n",
       "      <th>4</th>\n",
       "      <td>5</td>\n",
       "      <td>50858</td>\n",
       "      <td>0</td>\n",
       "      <td>3012</td>\n",
       "    </tr>\n",
       "    <tr>\n",
       "      <th>5</th>\n",
       "      <td>6</td>\n",
       "      <td>50858</td>\n",
       "      <td>0</td>\n",
       "      <td>3042</td>\n",
       "    </tr>\n",
       "    <tr>\n",
       "      <th>6</th>\n",
       "      <td>7</td>\n",
       "      <td>50858</td>\n",
       "      <td>0</td>\n",
       "      <td>2993</td>\n",
       "    </tr>\n",
       "    <tr>\n",
       "      <th>7</th>\n",
       "      <td>8</td>\n",
       "      <td>50858</td>\n",
       "      <td>0</td>\n",
       "      <td>3059</td>\n",
       "    </tr>\n",
       "    <tr>\n",
       "      <th>8</th>\n",
       "      <td>9</td>\n",
       "      <td>50858</td>\n",
       "      <td>0</td>\n",
       "      <td>3066</td>\n",
       "    </tr>\n",
       "    <tr>\n",
       "      <th>9</th>\n",
       "      <td>10</td>\n",
       "      <td>50858</td>\n",
       "      <td>0</td>\n",
       "      <td>3061</td>\n",
       "    </tr>\n",
       "  </tbody>\n",
       "</table>\n",
       "         </div>\n",
       "         "
      ],
      "text/plain": [
       "<IPython.core.display.HTML object>"
      ]
     },
     "execution_count": 18,
     "metadata": {},
     "output_type": "execute_result"
    }
   ],
   "source": [
    "std_ecrecer, metrics_ecrecer, ec_no_rxn_ecrecer =evTools.get_eval_results(baselineName= 'ecrecer', dict_rxn2id=dict_rxn2id, method_type='ec')\n",
    "evTools.display_html_results(metrics = metrics_ecrecer, std_mean = std_ecrecer, no_pred=ec_no_rxn_ecrecer, eva_name ='ECRECer')"
   ]
  },
  {
   "cell_type": "markdown",
   "metadata": {},
   "source": [
    "### 4.5 CATFAM"
   ]
  },
  {
   "cell_type": "code",
   "execution_count": 19,
   "metadata": {},
   "outputs": [
    {
     "name": "stdout",
     "output_type": "stream",
     "text": [
      "Getting evaluation results for catfam ...\n",
      "Calculating mean and std ...\n",
      "Statistic ec no prediction and ec with no reaction ...\n"
     ]
    },
    {
     "data": {
      "text/html": [
       "\n",
       "         <div style=\"float:left; width:700px;\">\n",
       "              <h2 style='color:blue'>CatFam Evaluation 10 Fold Details</h2>\n",
       "              <table border=\"1\" class=\"dataframe\">\n",
       "  <thead>\n",
       "    <tr style=\"text-align: right;\">\n",
       "      <th></th>\n",
       "      <th>baselineName</th>\n",
       "      <th>runFold</th>\n",
       "      <th>mAccuracy</th>\n",
       "      <th>mPrecision</th>\n",
       "      <th>mRecall</th>\n",
       "      <th>mF1</th>\n",
       "      <th>avgType</th>\n",
       "    </tr>\n",
       "  </thead>\n",
       "  <tbody>\n",
       "    <tr>\n",
       "      <th>0</th>\n",
       "      <td>catfam</td>\n",
       "      <td>1</td>\n",
       "      <td>0.76</td>\n",
       "      <td>0.921751</td>\n",
       "      <td>0.724138</td>\n",
       "      <td>0.701196</td>\n",
       "      <td>weighted</td>\n",
       "    </tr>\n",
       "    <tr>\n",
       "      <th>1</th>\n",
       "      <td>catfam</td>\n",
       "      <td>1</td>\n",
       "      <td>0.76</td>\n",
       "      <td>0.815534</td>\n",
       "      <td>0.724138</td>\n",
       "      <td>0.767123</td>\n",
       "      <td>micro</td>\n",
       "    </tr>\n",
       "    <tr>\n",
       "      <th>2</th>\n",
       "      <td>catfam</td>\n",
       "      <td>1</td>\n",
       "      <td>0.76</td>\n",
       "      <td>0.999126</td>\n",
       "      <td>0.997417</td>\n",
       "      <td>0.996554</td>\n",
       "      <td>macro</td>\n",
       "    </tr>\n",
       "    <tr>\n",
       "      <th>3</th>\n",
       "      <td>catfam</td>\n",
       "      <td>1</td>\n",
       "      <td>0.76</td>\n",
       "      <td>0.810000</td>\n",
       "      <td>0.783333</td>\n",
       "      <td>0.791667</td>\n",
       "      <td>samples</td>\n",
       "    </tr>\n",
       "    <tr>\n",
       "      <th>4</th>\n",
       "      <td>catfam</td>\n",
       "      <td>2</td>\n",
       "      <td>0.71</td>\n",
       "      <td>0.886957</td>\n",
       "      <td>0.660870</td>\n",
       "      <td>0.609611</td>\n",
       "      <td>weighted</td>\n",
       "    </tr>\n",
       "    <tr>\n",
       "      <th>5</th>\n",
       "      <td>catfam</td>\n",
       "      <td>2</td>\n",
       "      <td>0.71</td>\n",
       "      <td>0.760000</td>\n",
       "      <td>0.660870</td>\n",
       "      <td>0.706977</td>\n",
       "      <td>micro</td>\n",
       "    </tr>\n",
       "    <tr>\n",
       "      <th>6</th>\n",
       "      <td>catfam</td>\n",
       "      <td>2</td>\n",
       "      <td>0.71</td>\n",
       "      <td>0.999260</td>\n",
       "      <td>0.996704</td>\n",
       "      <td>0.996009</td>\n",
       "      <td>macro</td>\n",
       "    </tr>\n",
       "    <tr>\n",
       "      <th>7</th>\n",
       "      <td>catfam</td>\n",
       "      <td>2</td>\n",
       "      <td>0.71</td>\n",
       "      <td>0.760000</td>\n",
       "      <td>0.729500</td>\n",
       "      <td>0.737333</td>\n",
       "      <td>samples</td>\n",
       "    </tr>\n",
       "    <tr>\n",
       "      <th>8</th>\n",
       "      <td>catfam</td>\n",
       "      <td>3</td>\n",
       "      <td>0.74</td>\n",
       "      <td>0.886128</td>\n",
       "      <td>0.714286</td>\n",
       "      <td>0.660858</td>\n",
       "      <td>weighted</td>\n",
       "    </tr>\n",
       "    <tr>\n",
       "      <th>9</th>\n",
       "      <td>catfam</td>\n",
       "      <td>3</td>\n",
       "      <td>0.74</td>\n",
       "      <td>0.776699</td>\n",
       "      <td>0.714286</td>\n",
       "      <td>0.744186</td>\n",
       "      <td>micro</td>\n",
       "    </tr>\n",
       "    <tr>\n",
       "      <th>10</th>\n",
       "      <td>catfam</td>\n",
       "      <td>3</td>\n",
       "      <td>0.74</td>\n",
       "      <td>0.999310</td>\n",
       "      <td>0.997325</td>\n",
       "      <td>0.996646</td>\n",
       "      <td>macro</td>\n",
       "    </tr>\n",
       "    <tr>\n",
       "      <th>11</th>\n",
       "      <td>catfam</td>\n",
       "      <td>3</td>\n",
       "      <td>0.74</td>\n",
       "      <td>0.770000</td>\n",
       "      <td>0.755000</td>\n",
       "      <td>0.760000</td>\n",
       "      <td>samples</td>\n",
       "    </tr>\n",
       "    <tr>\n",
       "      <th>12</th>\n",
       "      <td>catfam</td>\n",
       "      <td>4</td>\n",
       "      <td>0.72</td>\n",
       "      <td>0.889130</td>\n",
       "      <td>0.633333</td>\n",
       "      <td>0.569583</td>\n",
       "      <td>weighted</td>\n",
       "    </tr>\n",
       "    <tr>\n",
       "      <th>13</th>\n",
       "      <td>catfam</td>\n",
       "      <td>4</td>\n",
       "      <td>0.72</td>\n",
       "      <td>0.745098</td>\n",
       "      <td>0.633333</td>\n",
       "      <td>0.684685</td>\n",
       "      <td>micro</td>\n",
       "    </tr>\n",
       "    <tr>\n",
       "      <th>14</th>\n",
       "      <td>catfam</td>\n",
       "      <td>4</td>\n",
       "      <td>0.72</td>\n",
       "      <td>0.999212</td>\n",
       "      <td>0.995801</td>\n",
       "      <td>0.995023</td>\n",
       "      <td>macro</td>\n",
       "    </tr>\n",
       "    <tr>\n",
       "      <th>15</th>\n",
       "      <td>catfam</td>\n",
       "      <td>4</td>\n",
       "      <td>0.72</td>\n",
       "      <td>0.740000</td>\n",
       "      <td>0.730000</td>\n",
       "      <td>0.733333</td>\n",
       "      <td>samples</td>\n",
       "    </tr>\n",
       "    <tr>\n",
       "      <th>16</th>\n",
       "      <td>catfam</td>\n",
       "      <td>5</td>\n",
       "      <td>0.73</td>\n",
       "      <td>0.918769</td>\n",
       "      <td>0.672000</td>\n",
       "      <td>0.636667</td>\n",
       "      <td>weighted</td>\n",
       "    </tr>\n",
       "    <tr>\n",
       "      <th>17</th>\n",
       "      <td>catfam</td>\n",
       "      <td>5</td>\n",
       "      <td>0.73</td>\n",
       "      <td>0.792453</td>\n",
       "      <td>0.672000</td>\n",
       "      <td>0.727273</td>\n",
       "      <td>micro</td>\n",
       "    </tr>\n",
       "    <tr>\n",
       "      <th>18</th>\n",
       "      <td>catfam</td>\n",
       "      <td>5</td>\n",
       "      <td>0.73</td>\n",
       "      <td>0.999028</td>\n",
       "      <td>0.996370</td>\n",
       "      <td>0.995408</td>\n",
       "      <td>macro</td>\n",
       "    </tr>\n",
       "    <tr>\n",
       "      <th>19</th>\n",
       "      <td>catfam</td>\n",
       "      <td>5</td>\n",
       "      <td>0.73</td>\n",
       "      <td>0.788571</td>\n",
       "      <td>0.760714</td>\n",
       "      <td>0.767231</td>\n",
       "      <td>samples</td>\n",
       "    </tr>\n",
       "    <tr>\n",
       "      <th>20</th>\n",
       "      <td>catfam</td>\n",
       "      <td>6</td>\n",
       "      <td>0.78</td>\n",
       "      <td>0.924330</td>\n",
       "      <td>0.761062</td>\n",
       "      <td>0.720271</td>\n",
       "      <td>weighted</td>\n",
       "    </tr>\n",
       "    <tr>\n",
       "      <th>21</th>\n",
       "      <td>catfam</td>\n",
       "      <td>6</td>\n",
       "      <td>0.78</td>\n",
       "      <td>0.834951</td>\n",
       "      <td>0.761062</td>\n",
       "      <td>0.796296</td>\n",
       "      <td>micro</td>\n",
       "    </tr>\n",
       "    <tr>\n",
       "      <th>22</th>\n",
       "      <td>catfam</td>\n",
       "      <td>6</td>\n",
       "      <td>0.78</td>\n",
       "      <td>0.999318</td>\n",
       "      <td>0.997519</td>\n",
       "      <td>0.996843</td>\n",
       "      <td>macro</td>\n",
       "    </tr>\n",
       "    <tr>\n",
       "      <th>23</th>\n",
       "      <td>catfam</td>\n",
       "      <td>6</td>\n",
       "      <td>0.78</td>\n",
       "      <td>0.837500</td>\n",
       "      <td>0.812000</td>\n",
       "      <td>0.818571</td>\n",
       "      <td>samples</td>\n",
       "    </tr>\n",
       "    <tr>\n",
       "      <th>24</th>\n",
       "      <td>catfam</td>\n",
       "      <td>7</td>\n",
       "      <td>0.75</td>\n",
       "      <td>0.894617</td>\n",
       "      <td>0.663866</td>\n",
       "      <td>0.604787</td>\n",
       "      <td>weighted</td>\n",
       "    </tr>\n",
       "    <tr>\n",
       "      <th>25</th>\n",
       "      <td>catfam</td>\n",
       "      <td>7</td>\n",
       "      <td>0.75</td>\n",
       "      <td>0.790000</td>\n",
       "      <td>0.663866</td>\n",
       "      <td>0.721461</td>\n",
       "      <td>micro</td>\n",
       "    </tr>\n",
       "    <tr>\n",
       "      <th>26</th>\n",
       "      <td>catfam</td>\n",
       "      <td>7</td>\n",
       "      <td>0.75</td>\n",
       "      <td>0.999502</td>\n",
       "      <td>0.996374</td>\n",
       "      <td>0.995885</td>\n",
       "      <td>macro</td>\n",
       "    </tr>\n",
       "    <tr>\n",
       "      <th>27</th>\n",
       "      <td>catfam</td>\n",
       "      <td>7</td>\n",
       "      <td>0.75</td>\n",
       "      <td>0.790000</td>\n",
       "      <td>0.764444</td>\n",
       "      <td>0.770333</td>\n",
       "      <td>samples</td>\n",
       "    </tr>\n",
       "    <tr>\n",
       "      <th>28</th>\n",
       "      <td>catfam</td>\n",
       "      <td>8</td>\n",
       "      <td>0.79</td>\n",
       "      <td>0.914117</td>\n",
       "      <td>0.724138</td>\n",
       "      <td>0.677257</td>\n",
       "      <td>weighted</td>\n",
       "    </tr>\n",
       "    <tr>\n",
       "      <th>29</th>\n",
       "      <td>catfam</td>\n",
       "      <td>8</td>\n",
       "      <td>0.79</td>\n",
       "      <td>0.823529</td>\n",
       "      <td>0.724138</td>\n",
       "      <td>0.770642</td>\n",
       "      <td>micro</td>\n",
       "    </tr>\n",
       "    <tr>\n",
       "      <th>30</th>\n",
       "      <td>catfam</td>\n",
       "      <td>8</td>\n",
       "      <td>0.79</td>\n",
       "      <td>0.999381</td>\n",
       "      <td>0.997233</td>\n",
       "      <td>0.996633</td>\n",
       "      <td>macro</td>\n",
       "    </tr>\n",
       "    <tr>\n",
       "      <th>31</th>\n",
       "      <td>catfam</td>\n",
       "      <td>8</td>\n",
       "      <td>0.79</td>\n",
       "      <td>0.840000</td>\n",
       "      <td>0.815000</td>\n",
       "      <td>0.823333</td>\n",
       "      <td>samples</td>\n",
       "    </tr>\n",
       "    <tr>\n",
       "      <th>32</th>\n",
       "      <td>catfam</td>\n",
       "      <td>9</td>\n",
       "      <td>0.74</td>\n",
       "      <td>0.903252</td>\n",
       "      <td>0.663934</td>\n",
       "      <td>0.618965</td>\n",
       "      <td>weighted</td>\n",
       "    </tr>\n",
       "    <tr>\n",
       "      <th>33</th>\n",
       "      <td>catfam</td>\n",
       "      <td>9</td>\n",
       "      <td>0.74</td>\n",
       "      <td>0.786408</td>\n",
       "      <td>0.663934</td>\n",
       "      <td>0.720000</td>\n",
       "      <td>micro</td>\n",
       "    </tr>\n",
       "    <tr>\n",
       "      <th>34</th>\n",
       "      <td>catfam</td>\n",
       "      <td>9</td>\n",
       "      <td>0.74</td>\n",
       "      <td>0.999309</td>\n",
       "      <td>0.996465</td>\n",
       "      <td>0.995786</td>\n",
       "      <td>macro</td>\n",
       "    </tr>\n",
       "    <tr>\n",
       "      <th>35</th>\n",
       "      <td>catfam</td>\n",
       "      <td>9</td>\n",
       "      <td>0.74</td>\n",
       "      <td>0.780000</td>\n",
       "      <td>0.755833</td>\n",
       "      <td>0.762333</td>\n",
       "      <td>samples</td>\n",
       "    </tr>\n",
       "    <tr>\n",
       "      <th>36</th>\n",
       "      <td>catfam</td>\n",
       "      <td>10</td>\n",
       "      <td>0.78</td>\n",
       "      <td>0.901395</td>\n",
       "      <td>0.738318</td>\n",
       "      <td>0.683888</td>\n",
       "      <td>weighted</td>\n",
       "    </tr>\n",
       "    <tr>\n",
       "      <th>37</th>\n",
       "      <td>catfam</td>\n",
       "      <td>10</td>\n",
       "      <td>0.78</td>\n",
       "      <td>0.797980</td>\n",
       "      <td>0.738318</td>\n",
       "      <td>0.766990</td>\n",
       "      <td>micro</td>\n",
       "    </tr>\n",
       "    <tr>\n",
       "      <th>38</th>\n",
       "      <td>catfam</td>\n",
       "      <td>10</td>\n",
       "      <td>0.78</td>\n",
       "      <td>0.999314</td>\n",
       "      <td>0.997328</td>\n",
       "      <td>0.996650</td>\n",
       "      <td>macro</td>\n",
       "    </tr>\n",
       "    <tr>\n",
       "      <th>39</th>\n",
       "      <td>catfam</td>\n",
       "      <td>10</td>\n",
       "      <td>0.78</td>\n",
       "      <td>0.800000</td>\n",
       "      <td>0.785000</td>\n",
       "      <td>0.786667</td>\n",
       "      <td>samples</td>\n",
       "    </tr>\n",
       "  </tbody>\n",
       "</table>\n",
       "         </div>\n",
       "         <div  style=\"float:left; width:600px;\" >\n",
       "              <h2 style='color:blue' >CatFam Evaluation 10 Fold std and mean Overview</h2>\n",
       "                   <table border=\"1\" class=\"dataframe\">\n",
       "  <thead>\n",
       "    <tr style=\"text-align: right;\">\n",
       "      <th></th>\n",
       "      <th>baselineName</th>\n",
       "      <th>avgType</th>\n",
       "      <th>Metric</th>\n",
       "      <th>mean</th>\n",
       "      <th>std</th>\n",
       "    </tr>\n",
       "  </thead>\n",
       "  <tbody>\n",
       "    <tr>\n",
       "      <th>0</th>\n",
       "      <td>catfam</td>\n",
       "      <td>macro</td>\n",
       "      <td>mAccuracy</td>\n",
       "      <td>0.750000</td>\n",
       "      <td>0.027080</td>\n",
       "    </tr>\n",
       "    <tr>\n",
       "      <th>1</th>\n",
       "      <td>catfam</td>\n",
       "      <td>macro</td>\n",
       "      <td>mF1</td>\n",
       "      <td>0.996144</td>\n",
       "      <td>0.000616</td>\n",
       "    </tr>\n",
       "    <tr>\n",
       "      <th>2</th>\n",
       "      <td>catfam</td>\n",
       "      <td>macro</td>\n",
       "      <td>mPrecision</td>\n",
       "      <td>0.999276</td>\n",
       "      <td>0.000132</td>\n",
       "    </tr>\n",
       "    <tr>\n",
       "      <th>3</th>\n",
       "      <td>catfam</td>\n",
       "      <td>macro</td>\n",
       "      <td>mRecall</td>\n",
       "      <td>0.996853</td>\n",
       "      <td>0.000586</td>\n",
       "    </tr>\n",
       "    <tr>\n",
       "      <th>4</th>\n",
       "      <td>catfam</td>\n",
       "      <td>micro</td>\n",
       "      <td>mAccuracy</td>\n",
       "      <td>0.750000</td>\n",
       "      <td>0.027080</td>\n",
       "    </tr>\n",
       "    <tr>\n",
       "      <th>5</th>\n",
       "      <td>catfam</td>\n",
       "      <td>micro</td>\n",
       "      <td>mF1</td>\n",
       "      <td>0.740563</td>\n",
       "      <td>0.034388</td>\n",
       "    </tr>\n",
       "    <tr>\n",
       "      <th>6</th>\n",
       "      <td>catfam</td>\n",
       "      <td>micro</td>\n",
       "      <td>mPrecision</td>\n",
       "      <td>0.792265</td>\n",
       "      <td>0.027731</td>\n",
       "    </tr>\n",
       "    <tr>\n",
       "      <th>7</th>\n",
       "      <td>catfam</td>\n",
       "      <td>micro</td>\n",
       "      <td>mRecall</td>\n",
       "      <td>0.695594</td>\n",
       "      <td>0.041817</td>\n",
       "    </tr>\n",
       "    <tr>\n",
       "      <th>8</th>\n",
       "      <td>catfam</td>\n",
       "      <td>samples</td>\n",
       "      <td>mAccuracy</td>\n",
       "      <td>0.750000</td>\n",
       "      <td>0.027080</td>\n",
       "    </tr>\n",
       "    <tr>\n",
       "      <th>9</th>\n",
       "      <td>catfam</td>\n",
       "      <td>samples</td>\n",
       "      <td>mF1</td>\n",
       "      <td>0.775080</td>\n",
       "      <td>0.030315</td>\n",
       "    </tr>\n",
       "    <tr>\n",
       "      <th>10</th>\n",
       "      <td>catfam</td>\n",
       "      <td>samples</td>\n",
       "      <td>mPrecision</td>\n",
       "      <td>0.791607</td>\n",
       "      <td>0.031855</td>\n",
       "    </tr>\n",
       "    <tr>\n",
       "      <th>11</th>\n",
       "      <td>catfam</td>\n",
       "      <td>samples</td>\n",
       "      <td>mRecall</td>\n",
       "      <td>0.769083</td>\n",
       "      <td>0.029752</td>\n",
       "    </tr>\n",
       "    <tr>\n",
       "      <th>12</th>\n",
       "      <td>catfam</td>\n",
       "      <td>weighted</td>\n",
       "      <td>mAccuracy</td>\n",
       "      <td>0.750000</td>\n",
       "      <td>0.027080</td>\n",
       "    </tr>\n",
       "    <tr>\n",
       "      <th>13</th>\n",
       "      <td>catfam</td>\n",
       "      <td>weighted</td>\n",
       "      <td>mF1</td>\n",
       "      <td>0.648308</td>\n",
       "      <td>0.048100</td>\n",
       "    </tr>\n",
       "    <tr>\n",
       "      <th>14</th>\n",
       "      <td>catfam</td>\n",
       "      <td>weighted</td>\n",
       "      <td>mPrecision</td>\n",
       "      <td>0.904045</td>\n",
       "      <td>0.014814</td>\n",
       "    </tr>\n",
       "    <tr>\n",
       "      <th>15</th>\n",
       "      <td>catfam</td>\n",
       "      <td>weighted</td>\n",
       "      <td>mRecall</td>\n",
       "      <td>0.695594</td>\n",
       "      <td>0.041817</td>\n",
       "    </tr>\n",
       "  </tbody>\n",
       "</table>\n",
       "         </div>\n",
       "         \n",
       "         <div style=\"float:left; width:600px;\">\n",
       "         <h2 style='color:blue' >CatFam Evaluation 10 Fold No Prediction Overview</h2>\n",
       "              <table border=\"1\" class=\"dataframe\">\n",
       "  <thead>\n",
       "    <tr style=\"text-align: right;\">\n",
       "      <th></th>\n",
       "      <th>run_fold</th>\n",
       "      <th>test_size</th>\n",
       "      <th>no_prediction_count</th>\n",
       "      <th>ec_without_reaction_count</th>\n",
       "    </tr>\n",
       "  </thead>\n",
       "  <tbody>\n",
       "    <tr>\n",
       "      <th>0</th>\n",
       "      <td>1</td>\n",
       "      <td>50858</td>\n",
       "      <td>0</td>\n",
       "      <td>2109</td>\n",
       "    </tr>\n",
       "    <tr>\n",
       "      <th>1</th>\n",
       "      <td>2</td>\n",
       "      <td>50858</td>\n",
       "      <td>0</td>\n",
       "      <td>2149</td>\n",
       "    </tr>\n",
       "    <tr>\n",
       "      <th>2</th>\n",
       "      <td>3</td>\n",
       "      <td>50858</td>\n",
       "      <td>0</td>\n",
       "      <td>2221</td>\n",
       "    </tr>\n",
       "    <tr>\n",
       "      <th>3</th>\n",
       "      <td>4</td>\n",
       "      <td>50858</td>\n",
       "      <td>0</td>\n",
       "      <td>2233</td>\n",
       "    </tr>\n",
       "    <tr>\n",
       "      <th>4</th>\n",
       "      <td>5</td>\n",
       "      <td>50858</td>\n",
       "      <td>0</td>\n",
       "      <td>2214</td>\n",
       "    </tr>\n",
       "    <tr>\n",
       "      <th>5</th>\n",
       "      <td>6</td>\n",
       "      <td>50858</td>\n",
       "      <td>0</td>\n",
       "      <td>2158</td>\n",
       "    </tr>\n",
       "    <tr>\n",
       "      <th>6</th>\n",
       "      <td>7</td>\n",
       "      <td>50858</td>\n",
       "      <td>0</td>\n",
       "      <td>2213</td>\n",
       "    </tr>\n",
       "    <tr>\n",
       "      <th>7</th>\n",
       "      <td>8</td>\n",
       "      <td>50858</td>\n",
       "      <td>0</td>\n",
       "      <td>2198</td>\n",
       "    </tr>\n",
       "    <tr>\n",
       "      <th>8</th>\n",
       "      <td>9</td>\n",
       "      <td>50858</td>\n",
       "      <td>0</td>\n",
       "      <td>2123</td>\n",
       "    </tr>\n",
       "    <tr>\n",
       "      <th>9</th>\n",
       "      <td>10</td>\n",
       "      <td>50858</td>\n",
       "      <td>0</td>\n",
       "      <td>2104</td>\n",
       "    </tr>\n",
       "  </tbody>\n",
       "</table>\n",
       "         </div>\n",
       "         "
      ],
      "text/plain": [
       "<IPython.core.display.HTML object>"
      ]
     },
     "execution_count": 19,
     "metadata": {},
     "output_type": "execute_result"
    }
   ],
   "source": [
    "std_catfam, metrics_catfam, ec_no_rxn_catfam =evTools.get_eval_results(baselineName= 'catfam', dict_rxn2id=dict_rxn2id, method_type='ec')\n",
    "evTools.display_html_results(metrics = metrics_catfam, std_mean = std_catfam, no_pred=ec_no_rxn_catfam, eva_name ='CatFam')"
   ]
  },
  {
   "cell_type": "markdown",
   "metadata": {},
   "source": [
    "### 4.6 PRIAM"
   ]
  },
  {
   "cell_type": "code",
   "execution_count": 20,
   "metadata": {},
   "outputs": [
    {
     "name": "stdout",
     "output_type": "stream",
     "text": [
      "Getting evaluation results for priam ...\n",
      "Calculating mean and std ...\n",
      "Statistic ec no prediction and ec with no reaction ...\n"
     ]
    },
    {
     "data": {
      "text/html": [
       "\n",
       "         <div style=\"float:left; width:700px;\">\n",
       "              <h2 style='color:blue'>PRIAM Evaluation 10 Fold Details</h2>\n",
       "              <table border=\"1\" class=\"dataframe\">\n",
       "  <thead>\n",
       "    <tr style=\"text-align: right;\">\n",
       "      <th></th>\n",
       "      <th>baselineName</th>\n",
       "      <th>runFold</th>\n",
       "      <th>mAccuracy</th>\n",
       "      <th>mPrecision</th>\n",
       "      <th>mRecall</th>\n",
       "      <th>mF1</th>\n",
       "      <th>avgType</th>\n",
       "    </tr>\n",
       "  </thead>\n",
       "  <tbody>\n",
       "    <tr>\n",
       "      <th>0</th>\n",
       "      <td>priam</td>\n",
       "      <td>1</td>\n",
       "      <td>0.06</td>\n",
       "      <td>0.969540</td>\n",
       "      <td>0.387931</td>\n",
       "      <td>0.369048</td>\n",
       "      <td>weighted</td>\n",
       "    </tr>\n",
       "    <tr>\n",
       "      <th>1</th>\n",
       "      <td>priam</td>\n",
       "      <td>1</td>\n",
       "      <td>0.06</td>\n",
       "      <td>0.147059</td>\n",
       "      <td>0.387931</td>\n",
       "      <td>0.213270</td>\n",
       "      <td>micro</td>\n",
       "    </tr>\n",
       "    <tr>\n",
       "      <th>2</th>\n",
       "      <td>priam</td>\n",
       "      <td>1</td>\n",
       "      <td>0.06</td>\n",
       "      <td>0.977581</td>\n",
       "      <td>0.998807</td>\n",
       "      <td>0.976484</td>\n",
       "      <td>macro</td>\n",
       "    </tr>\n",
       "    <tr>\n",
       "      <th>3</th>\n",
       "      <td>priam</td>\n",
       "      <td>1</td>\n",
       "      <td>0.06</td>\n",
       "      <td>0.151800</td>\n",
       "      <td>0.331667</td>\n",
       "      <td>0.188848</td>\n",
       "      <td>samples</td>\n",
       "    </tr>\n",
       "    <tr>\n",
       "      <th>4</th>\n",
       "      <td>priam</td>\n",
       "      <td>2</td>\n",
       "      <td>0.12</td>\n",
       "      <td>0.978261</td>\n",
       "      <td>0.478261</td>\n",
       "      <td>0.464058</td>\n",
       "      <td>weighted</td>\n",
       "    </tr>\n",
       "    <tr>\n",
       "      <th>5</th>\n",
       "      <td>priam</td>\n",
       "      <td>2</td>\n",
       "      <td>0.12</td>\n",
       "      <td>0.214008</td>\n",
       "      <td>0.478261</td>\n",
       "      <td>0.295699</td>\n",
       "      <td>micro</td>\n",
       "    </tr>\n",
       "    <tr>\n",
       "      <th>6</th>\n",
       "      <td>priam</td>\n",
       "      <td>2</td>\n",
       "      <td>0.12</td>\n",
       "      <td>0.982552</td>\n",
       "      <td>0.999046</td>\n",
       "      <td>0.981655</td>\n",
       "      <td>macro</td>\n",
       "    </tr>\n",
       "    <tr>\n",
       "      <th>7</th>\n",
       "      <td>priam</td>\n",
       "      <td>2</td>\n",
       "      <td>0.12</td>\n",
       "      <td>0.239532</td>\n",
       "      <td>0.428000</td>\n",
       "      <td>0.273140</td>\n",
       "      <td>samples</td>\n",
       "    </tr>\n",
       "    <tr>\n",
       "      <th>8</th>\n",
       "      <td>priam</td>\n",
       "      <td>3</td>\n",
       "      <td>0.04</td>\n",
       "      <td>0.965402</td>\n",
       "      <td>0.339286</td>\n",
       "      <td>0.314484</td>\n",
       "      <td>weighted</td>\n",
       "    </tr>\n",
       "    <tr>\n",
       "      <th>9</th>\n",
       "      <td>priam</td>\n",
       "      <td>3</td>\n",
       "      <td>0.04</td>\n",
       "      <td>0.141264</td>\n",
       "      <td>0.339286</td>\n",
       "      <td>0.199475</td>\n",
       "      <td>micro</td>\n",
       "    </tr>\n",
       "    <tr>\n",
       "      <th>10</th>\n",
       "      <td>priam</td>\n",
       "      <td>3</td>\n",
       "      <td>0.04</td>\n",
       "      <td>0.981212</td>\n",
       "      <td>0.998282</td>\n",
       "      <td>0.979599</td>\n",
       "      <td>macro</td>\n",
       "    </tr>\n",
       "    <tr>\n",
       "      <th>11</th>\n",
       "      <td>priam</td>\n",
       "      <td>3</td>\n",
       "      <td>0.04</td>\n",
       "      <td>0.131469</td>\n",
       "      <td>0.325000</td>\n",
       "      <td>0.166850</td>\n",
       "      <td>samples</td>\n",
       "    </tr>\n",
       "    <tr>\n",
       "      <th>12</th>\n",
       "      <td>priam</td>\n",
       "      <td>4</td>\n",
       "      <td>0.13</td>\n",
       "      <td>0.975000</td>\n",
       "      <td>0.391667</td>\n",
       "      <td>0.380556</td>\n",
       "      <td>weighted</td>\n",
       "    </tr>\n",
       "    <tr>\n",
       "      <th>13</th>\n",
       "      <td>priam</td>\n",
       "      <td>4</td>\n",
       "      <td>0.13</td>\n",
       "      <td>0.211712</td>\n",
       "      <td>0.391667</td>\n",
       "      <td>0.274854</td>\n",
       "      <td>micro</td>\n",
       "    </tr>\n",
       "    <tr>\n",
       "      <th>14</th>\n",
       "      <td>priam</td>\n",
       "      <td>4</td>\n",
       "      <td>0.13</td>\n",
       "      <td>0.985495</td>\n",
       "      <td>0.997805</td>\n",
       "      <td>0.983459</td>\n",
       "      <td>macro</td>\n",
       "    </tr>\n",
       "    <tr>\n",
       "      <th>15</th>\n",
       "      <td>priam</td>\n",
       "      <td>4</td>\n",
       "      <td>0.13</td>\n",
       "      <td>0.244675</td>\n",
       "      <td>0.381667</td>\n",
       "      <td>0.267028</td>\n",
       "      <td>samples</td>\n",
       "    </tr>\n",
       "    <tr>\n",
       "      <th>16</th>\n",
       "      <td>priam</td>\n",
       "      <td>5</td>\n",
       "      <td>0.09</td>\n",
       "      <td>0.976000</td>\n",
       "      <td>0.376000</td>\n",
       "      <td>0.365333</td>\n",
       "      <td>weighted</td>\n",
       "    </tr>\n",
       "    <tr>\n",
       "      <th>17</th>\n",
       "      <td>priam</td>\n",
       "      <td>5</td>\n",
       "      <td>0.09</td>\n",
       "      <td>0.222749</td>\n",
       "      <td>0.376000</td>\n",
       "      <td>0.279762</td>\n",
       "      <td>micro</td>\n",
       "    </tr>\n",
       "    <tr>\n",
       "      <th>18</th>\n",
       "      <td>priam</td>\n",
       "      <td>5</td>\n",
       "      <td>0.09</td>\n",
       "      <td>0.985590</td>\n",
       "      <td>0.997710</td>\n",
       "      <td>0.983459</td>\n",
       "      <td>macro</td>\n",
       "    </tr>\n",
       "    <tr>\n",
       "      <th>19</th>\n",
       "      <td>priam</td>\n",
       "      <td>5</td>\n",
       "      <td>0.09</td>\n",
       "      <td>0.219944</td>\n",
       "      <td>0.360714</td>\n",
       "      <td>0.233234</td>\n",
       "      <td>samples</td>\n",
       "    </tr>\n",
       "    <tr>\n",
       "      <th>20</th>\n",
       "      <td>priam</td>\n",
       "      <td>6</td>\n",
       "      <td>0.05</td>\n",
       "      <td>0.972714</td>\n",
       "      <td>0.353982</td>\n",
       "      <td>0.333923</td>\n",
       "      <td>weighted</td>\n",
       "    </tr>\n",
       "    <tr>\n",
       "      <th>21</th>\n",
       "      <td>priam</td>\n",
       "      <td>6</td>\n",
       "      <td>0.05</td>\n",
       "      <td>0.160643</td>\n",
       "      <td>0.353982</td>\n",
       "      <td>0.220994</td>\n",
       "      <td>micro</td>\n",
       "    </tr>\n",
       "    <tr>\n",
       "      <th>22</th>\n",
       "      <td>priam</td>\n",
       "      <td>6</td>\n",
       "      <td>0.05</td>\n",
       "      <td>0.982338</td>\n",
       "      <td>0.998664</td>\n",
       "      <td>0.981080</td>\n",
       "      <td>macro</td>\n",
       "    </tr>\n",
       "    <tr>\n",
       "      <th>23</th>\n",
       "      <td>priam</td>\n",
       "      <td>6</td>\n",
       "      <td>0.05</td>\n",
       "      <td>0.159707</td>\n",
       "      <td>0.345000</td>\n",
       "      <td>0.194564</td>\n",
       "      <td>samples</td>\n",
       "    </tr>\n",
       "    <tr>\n",
       "      <th>24</th>\n",
       "      <td>priam</td>\n",
       "      <td>7</td>\n",
       "      <td>0.08</td>\n",
       "      <td>0.940311</td>\n",
       "      <td>0.336134</td>\n",
       "      <td>0.293126</td>\n",
       "      <td>weighted</td>\n",
       "    </tr>\n",
       "    <tr>\n",
       "      <th>25</th>\n",
       "      <td>priam</td>\n",
       "      <td>7</td>\n",
       "      <td>0.08</td>\n",
       "      <td>0.145985</td>\n",
       "      <td>0.336134</td>\n",
       "      <td>0.203562</td>\n",
       "      <td>micro</td>\n",
       "    </tr>\n",
       "    <tr>\n",
       "      <th>26</th>\n",
       "      <td>priam</td>\n",
       "      <td>7</td>\n",
       "      <td>0.08</td>\n",
       "      <td>0.981491</td>\n",
       "      <td>0.997901</td>\n",
       "      <td>0.979557</td>\n",
       "      <td>macro</td>\n",
       "    </tr>\n",
       "    <tr>\n",
       "      <th>27</th>\n",
       "      <td>priam</td>\n",
       "      <td>7</td>\n",
       "      <td>0.08</td>\n",
       "      <td>0.170607</td>\n",
       "      <td>0.339444</td>\n",
       "      <td>0.196917</td>\n",
       "      <td>samples</td>\n",
       "    </tr>\n",
       "    <tr>\n",
       "      <th>28</th>\n",
       "      <td>priam</td>\n",
       "      <td>8</td>\n",
       "      <td>0.06</td>\n",
       "      <td>0.951411</td>\n",
       "      <td>0.318966</td>\n",
       "      <td>0.284041</td>\n",
       "      <td>weighted</td>\n",
       "    </tr>\n",
       "    <tr>\n",
       "      <th>29</th>\n",
       "      <td>priam</td>\n",
       "      <td>8</td>\n",
       "      <td>0.06</td>\n",
       "      <td>0.152263</td>\n",
       "      <td>0.318966</td>\n",
       "      <td>0.206128</td>\n",
       "      <td>micro</td>\n",
       "    </tr>\n",
       "    <tr>\n",
       "      <th>30</th>\n",
       "      <td>priam</td>\n",
       "      <td>8</td>\n",
       "      <td>0.06</td>\n",
       "      <td>0.983604</td>\n",
       "      <td>0.998187</td>\n",
       "      <td>0.981866</td>\n",
       "      <td>macro</td>\n",
       "    </tr>\n",
       "    <tr>\n",
       "      <th>31</th>\n",
       "      <td>priam</td>\n",
       "      <td>8</td>\n",
       "      <td>0.06</td>\n",
       "      <td>0.170038</td>\n",
       "      <td>0.315000</td>\n",
       "      <td>0.187396</td>\n",
       "      <td>samples</td>\n",
       "    </tr>\n",
       "    <tr>\n",
       "      <th>32</th>\n",
       "      <td>priam</td>\n",
       "      <td>9</td>\n",
       "      <td>0.08</td>\n",
       "      <td>0.913739</td>\n",
       "      <td>0.467213</td>\n",
       "      <td>0.408216</td>\n",
       "      <td>weighted</td>\n",
       "    </tr>\n",
       "    <tr>\n",
       "      <th>33</th>\n",
       "      <td>priam</td>\n",
       "      <td>9</td>\n",
       "      <td>0.08</td>\n",
       "      <td>0.170659</td>\n",
       "      <td>0.467213</td>\n",
       "      <td>0.250000</td>\n",
       "      <td>micro</td>\n",
       "    </tr>\n",
       "    <tr>\n",
       "      <th>34</th>\n",
       "      <td>priam</td>\n",
       "      <td>9</td>\n",
       "      <td>0.08</td>\n",
       "      <td>0.977906</td>\n",
       "      <td>0.998330</td>\n",
       "      <td>0.976467</td>\n",
       "      <td>macro</td>\n",
       "    </tr>\n",
       "    <tr>\n",
       "      <th>35</th>\n",
       "      <td>priam</td>\n",
       "      <td>9</td>\n",
       "      <td>0.08</td>\n",
       "      <td>0.206066</td>\n",
       "      <td>0.442778</td>\n",
       "      <td>0.244569</td>\n",
       "      <td>samples</td>\n",
       "    </tr>\n",
       "    <tr>\n",
       "      <th>36</th>\n",
       "      <td>priam</td>\n",
       "      <td>10</td>\n",
       "      <td>0.10</td>\n",
       "      <td>0.967290</td>\n",
       "      <td>0.345794</td>\n",
       "      <td>0.319982</td>\n",
       "      <td>weighted</td>\n",
       "    </tr>\n",
       "    <tr>\n",
       "      <th>37</th>\n",
       "      <td>priam</td>\n",
       "      <td>10</td>\n",
       "      <td>0.10</td>\n",
       "      <td>0.168950</td>\n",
       "      <td>0.345794</td>\n",
       "      <td>0.226994</td>\n",
       "      <td>micro</td>\n",
       "    </tr>\n",
       "    <tr>\n",
       "      <th>38</th>\n",
       "      <td>priam</td>\n",
       "      <td>10</td>\n",
       "      <td>0.10</td>\n",
       "      <td>0.984493</td>\n",
       "      <td>0.998569</td>\n",
       "      <td>0.983132</td>\n",
       "      <td>macro</td>\n",
       "    </tr>\n",
       "    <tr>\n",
       "      <th>39</th>\n",
       "      <td>priam</td>\n",
       "      <td>10</td>\n",
       "      <td>0.10</td>\n",
       "      <td>0.181410</td>\n",
       "      <td>0.360000</td>\n",
       "      <td>0.218976</td>\n",
       "      <td>samples</td>\n",
       "    </tr>\n",
       "  </tbody>\n",
       "</table>\n",
       "         </div>\n",
       "         <div  style=\"float:left; width:600px;\" >\n",
       "              <h2 style='color:blue' >PRIAM Evaluation 10 Fold std and mean Overview</h2>\n",
       "                   <table border=\"1\" class=\"dataframe\">\n",
       "  <thead>\n",
       "    <tr style=\"text-align: right;\">\n",
       "      <th></th>\n",
       "      <th>baselineName</th>\n",
       "      <th>avgType</th>\n",
       "      <th>Metric</th>\n",
       "      <th>mean</th>\n",
       "      <th>std</th>\n",
       "    </tr>\n",
       "  </thead>\n",
       "  <tbody>\n",
       "    <tr>\n",
       "      <th>0</th>\n",
       "      <td>priam</td>\n",
       "      <td>macro</td>\n",
       "      <td>mAccuracy</td>\n",
       "      <td>0.081000</td>\n",
       "      <td>0.029609</td>\n",
       "    </tr>\n",
       "    <tr>\n",
       "      <th>1</th>\n",
       "      <td>priam</td>\n",
       "      <td>macro</td>\n",
       "      <td>mF1</td>\n",
       "      <td>0.980676</td>\n",
       "      <td>0.002620</td>\n",
       "    </tr>\n",
       "    <tr>\n",
       "      <th>2</th>\n",
       "      <td>priam</td>\n",
       "      <td>macro</td>\n",
       "      <td>mPrecision</td>\n",
       "      <td>0.982226</td>\n",
       "      <td>0.002808</td>\n",
       "    </tr>\n",
       "    <tr>\n",
       "      <th>3</th>\n",
       "      <td>priam</td>\n",
       "      <td>macro</td>\n",
       "      <td>mRecall</td>\n",
       "      <td>0.998330</td>\n",
       "      <td>0.000444</td>\n",
       "    </tr>\n",
       "    <tr>\n",
       "      <th>4</th>\n",
       "      <td>priam</td>\n",
       "      <td>micro</td>\n",
       "      <td>mAccuracy</td>\n",
       "      <td>0.081000</td>\n",
       "      <td>0.029609</td>\n",
       "    </tr>\n",
       "    <tr>\n",
       "      <th>5</th>\n",
       "      <td>priam</td>\n",
       "      <td>micro</td>\n",
       "      <td>mF1</td>\n",
       "      <td>0.237074</td>\n",
       "      <td>0.035394</td>\n",
       "    </tr>\n",
       "    <tr>\n",
       "      <th>6</th>\n",
       "      <td>priam</td>\n",
       "      <td>micro</td>\n",
       "      <td>mPrecision</td>\n",
       "      <td>0.173529</td>\n",
       "      <td>0.031032</td>\n",
       "    </tr>\n",
       "    <tr>\n",
       "      <th>7</th>\n",
       "      <td>priam</td>\n",
       "      <td>micro</td>\n",
       "      <td>mRecall</td>\n",
       "      <td>0.379523</td>\n",
       "      <td>0.054394</td>\n",
       "    </tr>\n",
       "    <tr>\n",
       "      <th>8</th>\n",
       "      <td>priam</td>\n",
       "      <td>samples</td>\n",
       "      <td>mAccuracy</td>\n",
       "      <td>0.081000</td>\n",
       "      <td>0.029609</td>\n",
       "    </tr>\n",
       "    <tr>\n",
       "      <th>9</th>\n",
       "      <td>priam</td>\n",
       "      <td>samples</td>\n",
       "      <td>mF1</td>\n",
       "      <td>0.217152</td>\n",
       "      <td>0.036167</td>\n",
       "    </tr>\n",
       "    <tr>\n",
       "      <th>10</th>\n",
       "      <td>priam</td>\n",
       "      <td>samples</td>\n",
       "      <td>mPrecision</td>\n",
       "      <td>0.187525</td>\n",
       "      <td>0.038279</td>\n",
       "    </tr>\n",
       "    <tr>\n",
       "      <th>11</th>\n",
       "      <td>priam</td>\n",
       "      <td>samples</td>\n",
       "      <td>mRecall</td>\n",
       "      <td>0.362927</td>\n",
       "      <td>0.042896</td>\n",
       "    </tr>\n",
       "    <tr>\n",
       "      <th>12</th>\n",
       "      <td>priam</td>\n",
       "      <td>weighted</td>\n",
       "      <td>mAccuracy</td>\n",
       "      <td>0.081000</td>\n",
       "      <td>0.029609</td>\n",
       "    </tr>\n",
       "    <tr>\n",
       "      <th>13</th>\n",
       "      <td>priam</td>\n",
       "      <td>weighted</td>\n",
       "      <td>mF1</td>\n",
       "      <td>0.353277</td>\n",
       "      <td>0.055606</td>\n",
       "    </tr>\n",
       "    <tr>\n",
       "      <th>14</th>\n",
       "      <td>priam</td>\n",
       "      <td>weighted</td>\n",
       "      <td>mPrecision</td>\n",
       "      <td>0.960967</td>\n",
       "      <td>0.020390</td>\n",
       "    </tr>\n",
       "    <tr>\n",
       "      <th>15</th>\n",
       "      <td>priam</td>\n",
       "      <td>weighted</td>\n",
       "      <td>mRecall</td>\n",
       "      <td>0.379523</td>\n",
       "      <td>0.054394</td>\n",
       "    </tr>\n",
       "  </tbody>\n",
       "</table>\n",
       "         </div>\n",
       "         \n",
       "         <div style=\"float:left; width:600px;\">\n",
       "         <h2 style='color:blue' >PRIAM Evaluation 10 Fold No Prediction Overview</h2>\n",
       "              <table border=\"1\" class=\"dataframe\">\n",
       "  <thead>\n",
       "    <tr style=\"text-align: right;\">\n",
       "      <th></th>\n",
       "      <th>run_fold</th>\n",
       "      <th>test_size</th>\n",
       "      <th>no_prediction_count</th>\n",
       "      <th>ec_without_reaction_count</th>\n",
       "    </tr>\n",
       "  </thead>\n",
       "  <tbody>\n",
       "    <tr>\n",
       "      <th>0</th>\n",
       "      <td>1</td>\n",
       "      <td>50858</td>\n",
       "      <td>14343</td>\n",
       "      <td>2625</td>\n",
       "    </tr>\n",
       "    <tr>\n",
       "      <th>1</th>\n",
       "      <td>2</td>\n",
       "      <td>50858</td>\n",
       "      <td>14432</td>\n",
       "      <td>2725</td>\n",
       "    </tr>\n",
       "    <tr>\n",
       "      <th>2</th>\n",
       "      <td>3</td>\n",
       "      <td>50858</td>\n",
       "      <td>14313</td>\n",
       "      <td>2782</td>\n",
       "    </tr>\n",
       "    <tr>\n",
       "      <th>3</th>\n",
       "      <td>4</td>\n",
       "      <td>50858</td>\n",
       "      <td>14233</td>\n",
       "      <td>2876</td>\n",
       "    </tr>\n",
       "    <tr>\n",
       "      <th>4</th>\n",
       "      <td>5</td>\n",
       "      <td>50858</td>\n",
       "      <td>14307</td>\n",
       "      <td>2699</td>\n",
       "    </tr>\n",
       "    <tr>\n",
       "      <th>5</th>\n",
       "      <td>6</td>\n",
       "      <td>50858</td>\n",
       "      <td>14358</td>\n",
       "      <td>2746</td>\n",
       "    </tr>\n",
       "    <tr>\n",
       "      <th>6</th>\n",
       "      <td>7</td>\n",
       "      <td>50858</td>\n",
       "      <td>14319</td>\n",
       "      <td>2722</td>\n",
       "    </tr>\n",
       "    <tr>\n",
       "      <th>7</th>\n",
       "      <td>8</td>\n",
       "      <td>50858</td>\n",
       "      <td>14326</td>\n",
       "      <td>2794</td>\n",
       "    </tr>\n",
       "    <tr>\n",
       "      <th>8</th>\n",
       "      <td>9</td>\n",
       "      <td>50858</td>\n",
       "      <td>14409</td>\n",
       "      <td>2745</td>\n",
       "    </tr>\n",
       "    <tr>\n",
       "      <th>9</th>\n",
       "      <td>10</td>\n",
       "      <td>50858</td>\n",
       "      <td>14627</td>\n",
       "      <td>2658</td>\n",
       "    </tr>\n",
       "  </tbody>\n",
       "</table>\n",
       "         </div>\n",
       "         "
      ],
      "text/plain": [
       "<IPython.core.display.HTML object>"
      ]
     },
     "execution_count": 20,
     "metadata": {},
     "output_type": "execute_result"
    }
   ],
   "source": [
    "std_priam, metrics_priam, ec_no_rxn_priam =evTools.get_eval_results(baselineName= 'priam', dict_rxn2id=dict_rxn2id, method_type='ec')\n",
    "evTools.display_html_results(metrics = metrics_priam, std_mean = std_priam, no_pred=ec_no_rxn_priam, eva_name ='PRIAM')"
   ]
  },
  {
   "cell_type": "markdown",
   "metadata": {},
   "source": [
    "## 5.Evaluation Results"
   ]
  },
  {
   "cell_type": "code",
   "execution_count": 21,
   "metadata": {},
   "outputs": [
    {
     "data": {
      "text/html": [
       "<div>\n",
       "<style scoped>\n",
       "    .dataframe tbody tr th:only-of-type {\n",
       "        vertical-align: middle;\n",
       "    }\n",
       "\n",
       "    .dataframe tbody tr th {\n",
       "        vertical-align: top;\n",
       "    }\n",
       "\n",
       "    .dataframe thead th {\n",
       "        text-align: right;\n",
       "    }\n",
       "</style>\n",
       "<table border=\"1\" class=\"dataframe\">\n",
       "  <thead>\n",
       "    <tr style=\"text-align: right;\">\n",
       "      <th></th>\n",
       "      <th>baselineName</th>\n",
       "      <th>avgType</th>\n",
       "      <th>Metric</th>\n",
       "      <th>mean</th>\n",
       "      <th>std</th>\n",
       "    </tr>\n",
       "  </thead>\n",
       "  <tbody>\n",
       "    <tr>\n",
       "      <th>0</th>\n",
       "      <td>blast</td>\n",
       "      <td>macro</td>\n",
       "      <td>mAccuracy</td>\n",
       "      <td>0.836434</td>\n",
       "      <td>0.001912</td>\n",
       "    </tr>\n",
       "    <tr>\n",
       "      <th>1</th>\n",
       "      <td>blast</td>\n",
       "      <td>macro</td>\n",
       "      <td>mF1</td>\n",
       "      <td>0.159373</td>\n",
       "      <td>0.003008</td>\n",
       "    </tr>\n",
       "    <tr>\n",
       "      <th>2</th>\n",
       "      <td>blast</td>\n",
       "      <td>macro</td>\n",
       "      <td>mPrecision</td>\n",
       "      <td>0.178795</td>\n",
       "      <td>0.003609</td>\n",
       "    </tr>\n",
       "  </tbody>\n",
       "</table>\n",
       "</div>"
      ],
      "text/plain": [
       "  baselineName avgType      Metric      mean       std\n",
       "0        blast   macro   mAccuracy  0.836434  0.001912\n",
       "1        blast   macro         mF1  0.159373  0.003008\n",
       "2        blast   macro  mPrecision  0.178795  0.003609"
      ]
     },
     "execution_count": 21,
     "metadata": {},
     "output_type": "execute_result"
    }
   ],
   "source": [
    "res_std = pd.concat([std_blast, std_deepec, std_clean, std_ecrecer, std_catfam, std_priam], axis=0)\n",
    "res_std.head(3)"
   ]
  },
  {
   "cell_type": "code",
   "execution_count": 22,
   "metadata": {},
   "outputs": [
    {
     "data": {
      "application/vnd.plotly.v1+json": {
       "config": {
        "plotlyServerURL": "https://plot.ly"
       },
       "data": [
        {
         "error_y": {
          "array": [
           0.0019115819805278122,
           0.003609334738698813,
           0.007986658983807253,
           0.003008206376610151
          ],
          "type": "data",
          "visible": true
         },
         "marker": {
          "color": "#8ECFC9",
          "line": {
           "color": "black",
           "width": 0.5
          }
         },
         "name": "blast",
         "type": "bar",
         "width": 0.11,
         "x": [
          "mAccuracy",
          "mPrecision",
          "mRecall",
          "mF1"
         ],
         "y": [
          0.836433559674649,
          0.17879516823826255,
          0.7010449598936273,
          0.1593729685883401
         ]
        },
        {
         "error_y": {
          "array": [
           0.029608557321603272,
           0.002808089314878046,
           0.000444197602944592,
           0.0026195729354016235
          ],
          "type": "data",
          "visible": true
         },
         "marker": {
          "color": "#FFBE7A",
          "line": {
           "color": "black",
           "width": 0.5
          }
         },
         "name": "priam",
         "type": "bar",
         "width": 0.11,
         "x": [
          "mAccuracy",
          "mPrecision",
          "mRecall",
          "mF1"
         ],
         "y": [
          0.081,
          0.9822261808713282,
          0.9983299933199733,
          0.9806757913757627
         ]
        },
        {
         "error_y": {
          "array": [
           0.04121757985239901,
           0.00037587245278164017,
           0.0004262967984922436,
           0.0005427459404501076
          ],
          "type": "data",
          "visible": true
         },
         "marker": {
          "color": "#FA7F6F",
          "line": {
           "color": "black",
           "width": 0.5
          }
         },
         "name": "deepec",
         "type": "bar",
         "width": 0.11,
         "x": [
          "mAccuracy",
          "mPrecision",
          "mRecall",
          "mF1"
         ],
         "y": [
          0.29100000000000004,
          0.9937255463307567,
          0.9976429048573336,
          0.9913891274612718
         ]
        },
        {
         "error_y": {
          "array": [
           0.047010637094172636,
           0.0008447817754177008,
           0.00034337483261680636,
           0.0009417542560510248
          ],
          "type": "data",
          "visible": true
         },
         "marker": {
          "color": "#82B0D2",
          "line": {
           "color": "black",
           "width": 0.5
          }
         },
         "name": "clean",
         "type": "bar",
         "width": 0.11,
         "x": [
          "mAccuracy",
          "mPrecision",
          "mRecall",
          "mF1"
         ],
         "y": [
          0.319,
          0.9940495654953141,
          0.9980930114196648,
          0.9923148192901985
         ]
        },
        {
         "error_y": {
          "array": [
           0.02708012801545322,
           0.00013157003467776255,
           0.0005864483664750256,
           0.000615969876864902
          ],
          "type": "data",
          "visible": true
         },
         "marker": {
          "color": "#BEB8DC",
          "line": {
           "color": "black",
           "width": 0.5
          }
         },
         "name": "catfam",
         "type": "bar",
         "width": 0.11,
         "x": [
          "mAccuracy",
          "mPrecision",
          "mRecall",
          "mF1"
         ],
         "y": [
          0.75,
          0.9992760289220218,
          0.9968534956527382,
          0.9961437869789492
         ]
        },
        {
         "error_y": {
          "array": [
           0.027100635498903795,
           0.00017672558890101332,
           0.0005846372437865178,
           0.0006451846021029265
          ],
          "type": "data",
          "visible": true
         },
         "marker": {
          "color": "#E7DAD2",
          "line": {
           "color": "black",
           "width": 0.5
          }
         },
         "name": "ecrecer",
         "type": "bar",
         "width": 0.11,
         "x": [
          "mAccuracy",
          "mPrecision",
          "mRecall",
          "mF1"
         ],
         "y": [
          0.8629999999999999,
          0.9993196975750671,
          0.9977355306399136,
          0.9970613320686056
         ]
        }
       ],
       "layout": {
        "bargap": 0.29,
        "barmode": "group",
        "height": 600,
        "legend": {
         "borderwidth": 1,
         "orientation": "h",
         "tracegroupgap": 2,
         "x": 0.5,
         "xanchor": "center",
         "y": 0.99,
         "yanchor": "bottom"
        },
        "template": {
         "data": {
          "bar": [
           {
            "error_x": {
             "color": "#2a3f5f"
            },
            "error_y": {
             "color": "#2a3f5f"
            },
            "marker": {
             "line": {
              "color": "white",
              "width": 0.5
             },
             "pattern": {
              "fillmode": "overlay",
              "size": 10,
              "solidity": 0.2
             }
            },
            "type": "bar"
           }
          ],
          "barpolar": [
           {
            "marker": {
             "line": {
              "color": "white",
              "width": 0.5
             },
             "pattern": {
              "fillmode": "overlay",
              "size": 10,
              "solidity": 0.2
             }
            },
            "type": "barpolar"
           }
          ],
          "carpet": [
           {
            "aaxis": {
             "endlinecolor": "#2a3f5f",
             "gridcolor": "#C8D4E3",
             "linecolor": "#C8D4E3",
             "minorgridcolor": "#C8D4E3",
             "startlinecolor": "#2a3f5f"
            },
            "baxis": {
             "endlinecolor": "#2a3f5f",
             "gridcolor": "#C8D4E3",
             "linecolor": "#C8D4E3",
             "minorgridcolor": "#C8D4E3",
             "startlinecolor": "#2a3f5f"
            },
            "type": "carpet"
           }
          ],
          "choropleth": [
           {
            "colorbar": {
             "outlinewidth": 0,
             "ticks": ""
            },
            "type": "choropleth"
           }
          ],
          "contour": [
           {
            "colorbar": {
             "outlinewidth": 0,
             "ticks": ""
            },
            "colorscale": [
             [
              0,
              "#0d0887"
             ],
             [
              0.1111111111111111,
              "#46039f"
             ],
             [
              0.2222222222222222,
              "#7201a8"
             ],
             [
              0.3333333333333333,
              "#9c179e"
             ],
             [
              0.4444444444444444,
              "#bd3786"
             ],
             [
              0.5555555555555556,
              "#d8576b"
             ],
             [
              0.6666666666666666,
              "#ed7953"
             ],
             [
              0.7777777777777778,
              "#fb9f3a"
             ],
             [
              0.8888888888888888,
              "#fdca26"
             ],
             [
              1,
              "#f0f921"
             ]
            ],
            "type": "contour"
           }
          ],
          "contourcarpet": [
           {
            "colorbar": {
             "outlinewidth": 0,
             "ticks": ""
            },
            "type": "contourcarpet"
           }
          ],
          "heatmap": [
           {
            "colorbar": {
             "outlinewidth": 0,
             "ticks": ""
            },
            "colorscale": [
             [
              0,
              "#0d0887"
             ],
             [
              0.1111111111111111,
              "#46039f"
             ],
             [
              0.2222222222222222,
              "#7201a8"
             ],
             [
              0.3333333333333333,
              "#9c179e"
             ],
             [
              0.4444444444444444,
              "#bd3786"
             ],
             [
              0.5555555555555556,
              "#d8576b"
             ],
             [
              0.6666666666666666,
              "#ed7953"
             ],
             [
              0.7777777777777778,
              "#fb9f3a"
             ],
             [
              0.8888888888888888,
              "#fdca26"
             ],
             [
              1,
              "#f0f921"
             ]
            ],
            "type": "heatmap"
           }
          ],
          "heatmapgl": [
           {
            "colorbar": {
             "outlinewidth": 0,
             "ticks": ""
            },
            "colorscale": [
             [
              0,
              "#0d0887"
             ],
             [
              0.1111111111111111,
              "#46039f"
             ],
             [
              0.2222222222222222,
              "#7201a8"
             ],
             [
              0.3333333333333333,
              "#9c179e"
             ],
             [
              0.4444444444444444,
              "#bd3786"
             ],
             [
              0.5555555555555556,
              "#d8576b"
             ],
             [
              0.6666666666666666,
              "#ed7953"
             ],
             [
              0.7777777777777778,
              "#fb9f3a"
             ],
             [
              0.8888888888888888,
              "#fdca26"
             ],
             [
              1,
              "#f0f921"
             ]
            ],
            "type": "heatmapgl"
           }
          ],
          "histogram": [
           {
            "marker": {
             "pattern": {
              "fillmode": "overlay",
              "size": 10,
              "solidity": 0.2
             }
            },
            "type": "histogram"
           }
          ],
          "histogram2d": [
           {
            "colorbar": {
             "outlinewidth": 0,
             "ticks": ""
            },
            "colorscale": [
             [
              0,
              "#0d0887"
             ],
             [
              0.1111111111111111,
              "#46039f"
             ],
             [
              0.2222222222222222,
              "#7201a8"
             ],
             [
              0.3333333333333333,
              "#9c179e"
             ],
             [
              0.4444444444444444,
              "#bd3786"
             ],
             [
              0.5555555555555556,
              "#d8576b"
             ],
             [
              0.6666666666666666,
              "#ed7953"
             ],
             [
              0.7777777777777778,
              "#fb9f3a"
             ],
             [
              0.8888888888888888,
              "#fdca26"
             ],
             [
              1,
              "#f0f921"
             ]
            ],
            "type": "histogram2d"
           }
          ],
          "histogram2dcontour": [
           {
            "colorbar": {
             "outlinewidth": 0,
             "ticks": ""
            },
            "colorscale": [
             [
              0,
              "#0d0887"
             ],
             [
              0.1111111111111111,
              "#46039f"
             ],
             [
              0.2222222222222222,
              "#7201a8"
             ],
             [
              0.3333333333333333,
              "#9c179e"
             ],
             [
              0.4444444444444444,
              "#bd3786"
             ],
             [
              0.5555555555555556,
              "#d8576b"
             ],
             [
              0.6666666666666666,
              "#ed7953"
             ],
             [
              0.7777777777777778,
              "#fb9f3a"
             ],
             [
              0.8888888888888888,
              "#fdca26"
             ],
             [
              1,
              "#f0f921"
             ]
            ],
            "type": "histogram2dcontour"
           }
          ],
          "mesh3d": [
           {
            "colorbar": {
             "outlinewidth": 0,
             "ticks": ""
            },
            "type": "mesh3d"
           }
          ],
          "parcoords": [
           {
            "line": {
             "colorbar": {
              "outlinewidth": 0,
              "ticks": ""
             }
            },
            "type": "parcoords"
           }
          ],
          "pie": [
           {
            "automargin": true,
            "type": "pie"
           }
          ],
          "scatter": [
           {
            "fillpattern": {
             "fillmode": "overlay",
             "size": 10,
             "solidity": 0.2
            },
            "type": "scatter"
           }
          ],
          "scatter3d": [
           {
            "line": {
             "colorbar": {
              "outlinewidth": 0,
              "ticks": ""
             }
            },
            "marker": {
             "colorbar": {
              "outlinewidth": 0,
              "ticks": ""
             }
            },
            "type": "scatter3d"
           }
          ],
          "scattercarpet": [
           {
            "marker": {
             "colorbar": {
              "outlinewidth": 0,
              "ticks": ""
             }
            },
            "type": "scattercarpet"
           }
          ],
          "scattergeo": [
           {
            "marker": {
             "colorbar": {
              "outlinewidth": 0,
              "ticks": ""
             }
            },
            "type": "scattergeo"
           }
          ],
          "scattergl": [
           {
            "marker": {
             "colorbar": {
              "outlinewidth": 0,
              "ticks": ""
             }
            },
            "type": "scattergl"
           }
          ],
          "scattermapbox": [
           {
            "marker": {
             "colorbar": {
              "outlinewidth": 0,
              "ticks": ""
             }
            },
            "type": "scattermapbox"
           }
          ],
          "scatterpolar": [
           {
            "marker": {
             "colorbar": {
              "outlinewidth": 0,
              "ticks": ""
             }
            },
            "type": "scatterpolar"
           }
          ],
          "scatterpolargl": [
           {
            "marker": {
             "colorbar": {
              "outlinewidth": 0,
              "ticks": ""
             }
            },
            "type": "scatterpolargl"
           }
          ],
          "scatterternary": [
           {
            "marker": {
             "colorbar": {
              "outlinewidth": 0,
              "ticks": ""
             }
            },
            "type": "scatterternary"
           }
          ],
          "surface": [
           {
            "colorbar": {
             "outlinewidth": 0,
             "ticks": ""
            },
            "colorscale": [
             [
              0,
              "#0d0887"
             ],
             [
              0.1111111111111111,
              "#46039f"
             ],
             [
              0.2222222222222222,
              "#7201a8"
             ],
             [
              0.3333333333333333,
              "#9c179e"
             ],
             [
              0.4444444444444444,
              "#bd3786"
             ],
             [
              0.5555555555555556,
              "#d8576b"
             ],
             [
              0.6666666666666666,
              "#ed7953"
             ],
             [
              0.7777777777777778,
              "#fb9f3a"
             ],
             [
              0.8888888888888888,
              "#fdca26"
             ],
             [
              1,
              "#f0f921"
             ]
            ],
            "type": "surface"
           }
          ],
          "table": [
           {
            "cells": {
             "fill": {
              "color": "#EBF0F8"
             },
             "line": {
              "color": "white"
             }
            },
            "header": {
             "fill": {
              "color": "#C8D4E3"
             },
             "line": {
              "color": "white"
             }
            },
            "type": "table"
           }
          ]
         },
         "layout": {
          "annotationdefaults": {
           "arrowcolor": "#2a3f5f",
           "arrowhead": 0,
           "arrowwidth": 1
          },
          "autotypenumbers": "strict",
          "coloraxis": {
           "colorbar": {
            "outlinewidth": 0,
            "ticks": ""
           }
          },
          "colorscale": {
           "diverging": [
            [
             0,
             "#8e0152"
            ],
            [
             0.1,
             "#c51b7d"
            ],
            [
             0.2,
             "#de77ae"
            ],
            [
             0.3,
             "#f1b6da"
            ],
            [
             0.4,
             "#fde0ef"
            ],
            [
             0.5,
             "#f7f7f7"
            ],
            [
             0.6,
             "#e6f5d0"
            ],
            [
             0.7,
             "#b8e186"
            ],
            [
             0.8,
             "#7fbc41"
            ],
            [
             0.9,
             "#4d9221"
            ],
            [
             1,
             "#276419"
            ]
           ],
           "sequential": [
            [
             0,
             "#0d0887"
            ],
            [
             0.1111111111111111,
             "#46039f"
            ],
            [
             0.2222222222222222,
             "#7201a8"
            ],
            [
             0.3333333333333333,
             "#9c179e"
            ],
            [
             0.4444444444444444,
             "#bd3786"
            ],
            [
             0.5555555555555556,
             "#d8576b"
            ],
            [
             0.6666666666666666,
             "#ed7953"
            ],
            [
             0.7777777777777778,
             "#fb9f3a"
            ],
            [
             0.8888888888888888,
             "#fdca26"
            ],
            [
             1,
             "#f0f921"
            ]
           ],
           "sequentialminus": [
            [
             0,
             "#0d0887"
            ],
            [
             0.1111111111111111,
             "#46039f"
            ],
            [
             0.2222222222222222,
             "#7201a8"
            ],
            [
             0.3333333333333333,
             "#9c179e"
            ],
            [
             0.4444444444444444,
             "#bd3786"
            ],
            [
             0.5555555555555556,
             "#d8576b"
            ],
            [
             0.6666666666666666,
             "#ed7953"
            ],
            [
             0.7777777777777778,
             "#fb9f3a"
            ],
            [
             0.8888888888888888,
             "#fdca26"
            ],
            [
             1,
             "#f0f921"
            ]
           ]
          },
          "colorway": [
           "#636efa",
           "#EF553B",
           "#00cc96",
           "#ab63fa",
           "#FFA15A",
           "#19d3f3",
           "#FF6692",
           "#B6E880",
           "#FF97FF",
           "#FECB52"
          ],
          "font": {
           "color": "#2a3f5f"
          },
          "geo": {
           "bgcolor": "white",
           "lakecolor": "white",
           "landcolor": "white",
           "showlakes": true,
           "showland": true,
           "subunitcolor": "#C8D4E3"
          },
          "hoverlabel": {
           "align": "left"
          },
          "hovermode": "closest",
          "mapbox": {
           "style": "light"
          },
          "paper_bgcolor": "white",
          "plot_bgcolor": "white",
          "polar": {
           "angularaxis": {
            "gridcolor": "#EBF0F8",
            "linecolor": "#EBF0F8",
            "ticks": ""
           },
           "bgcolor": "white",
           "radialaxis": {
            "gridcolor": "#EBF0F8",
            "linecolor": "#EBF0F8",
            "ticks": ""
           }
          },
          "scene": {
           "xaxis": {
            "backgroundcolor": "white",
            "gridcolor": "#DFE8F3",
            "gridwidth": 2,
            "linecolor": "#EBF0F8",
            "showbackground": true,
            "ticks": "",
            "zerolinecolor": "#EBF0F8"
           },
           "yaxis": {
            "backgroundcolor": "white",
            "gridcolor": "#DFE8F3",
            "gridwidth": 2,
            "linecolor": "#EBF0F8",
            "showbackground": true,
            "ticks": "",
            "zerolinecolor": "#EBF0F8"
           },
           "zaxis": {
            "backgroundcolor": "white",
            "gridcolor": "#DFE8F3",
            "gridwidth": 2,
            "linecolor": "#EBF0F8",
            "showbackground": true,
            "ticks": "",
            "zerolinecolor": "#EBF0F8"
           }
          },
          "shapedefaults": {
           "line": {
            "color": "#2a3f5f"
           }
          },
          "ternary": {
           "aaxis": {
            "gridcolor": "#DFE8F3",
            "linecolor": "#A2B1C6",
            "ticks": ""
           },
           "baxis": {
            "gridcolor": "#DFE8F3",
            "linecolor": "#A2B1C6",
            "ticks": ""
           },
           "bgcolor": "white",
           "caxis": {
            "gridcolor": "#DFE8F3",
            "linecolor": "#A2B1C6",
            "ticks": ""
           }
          },
          "title": {
           "x": 0.05
          },
          "xaxis": {
           "automargin": true,
           "gridcolor": "#EBF0F8",
           "linecolor": "#EBF0F8",
           "ticks": "",
           "title": {
            "standoff": 15
           },
           "zerolinecolor": "#EBF0F8",
           "zerolinewidth": 2
          },
          "yaxis": {
           "automargin": true,
           "gridcolor": "#EBF0F8",
           "linecolor": "#EBF0F8",
           "ticks": "",
           "title": {
            "standoff": 15
           },
           "zerolinecolor": "#EBF0F8",
           "zerolinewidth": 2
          }
         }
        },
        "title": {
         "font": {
          "size": 20,
          "weight": 1000
         },
         "text": "Performance Comparison of EC-based Reaction Prediction Methods",
         "x": 0.5,
         "xanchor": "center",
         "y": 0.05
        },
        "width": 1600,
        "xaxis": {
         "linecolor": "#000000",
         "linewidth": 1,
         "showline": true
        },
        "yaxis": {
         "dtick": 0.1,
         "gridcolor": "gray",
         "gridwidth": 1,
         "linecolor": "black",
         "linewidth": 1,
         "minor": {
          "dtick": 0.05,
          "gridcolor": "gray",
          "griddash": "dash",
          "gridwidth": 0.5,
          "showgrid": true
         },
         "range": [
          0,
          1.2
         ],
         "showgrid": true,
         "showline": true,
         "title": {
          "text": "Mean Value"
         }
        }
       }
      },
      "text/html": [
       "<div>                            <div id=\"f7df32aa-748e-4c3b-80ab-0981de4ebdd7\" class=\"plotly-graph-div\" style=\"height:600px; width:1600px;\"></div>            <script type=\"text/javascript\">                require([\"plotly\"], function(Plotly) {                    window.PLOTLYENV=window.PLOTLYENV || {};                                    if (document.getElementById(\"f7df32aa-748e-4c3b-80ab-0981de4ebdd7\")) {                    Plotly.newPlot(                        \"f7df32aa-748e-4c3b-80ab-0981de4ebdd7\",                        [{\"error_y\":{\"array\":[0.0019115819805278122,0.003609334738698813,0.007986658983807253,0.003008206376610151],\"type\":\"data\",\"visible\":true},\"marker\":{\"color\":\"#8ECFC9\",\"line\":{\"color\":\"black\",\"width\":0.5}},\"name\":\"blast\",\"width\":0.11,\"x\":[\"mAccuracy\",\"mPrecision\",\"mRecall\",\"mF1\"],\"y\":[0.836433559674649,0.17879516823826255,0.7010449598936273,0.1593729685883401],\"type\":\"bar\"},{\"error_y\":{\"array\":[0.029608557321603272,0.002808089314878046,0.000444197602944592,0.0026195729354016235],\"type\":\"data\",\"visible\":true},\"marker\":{\"color\":\"#FFBE7A\",\"line\":{\"color\":\"black\",\"width\":0.5}},\"name\":\"priam\",\"width\":0.11,\"x\":[\"mAccuracy\",\"mPrecision\",\"mRecall\",\"mF1\"],\"y\":[0.081,0.9822261808713282,0.9983299933199733,0.9806757913757627],\"type\":\"bar\"},{\"error_y\":{\"array\":[0.04121757985239901,0.00037587245278164017,0.0004262967984922436,0.0005427459404501076],\"type\":\"data\",\"visible\":true},\"marker\":{\"color\":\"#FA7F6F\",\"line\":{\"color\":\"black\",\"width\":0.5}},\"name\":\"deepec\",\"width\":0.11,\"x\":[\"mAccuracy\",\"mPrecision\",\"mRecall\",\"mF1\"],\"y\":[0.29100000000000004,0.9937255463307567,0.9976429048573336,0.9913891274612718],\"type\":\"bar\"},{\"error_y\":{\"array\":[0.047010637094172636,0.0008447817754177008,0.00034337483261680636,0.0009417542560510248],\"type\":\"data\",\"visible\":true},\"marker\":{\"color\":\"#82B0D2\",\"line\":{\"color\":\"black\",\"width\":0.5}},\"name\":\"clean\",\"width\":0.11,\"x\":[\"mAccuracy\",\"mPrecision\",\"mRecall\",\"mF1\"],\"y\":[0.319,0.9940495654953141,0.9980930114196648,0.9923148192901985],\"type\":\"bar\"},{\"error_y\":{\"array\":[0.02708012801545322,0.00013157003467776255,0.0005864483664750256,0.000615969876864902],\"type\":\"data\",\"visible\":true},\"marker\":{\"color\":\"#BEB8DC\",\"line\":{\"color\":\"black\",\"width\":0.5}},\"name\":\"catfam\",\"width\":0.11,\"x\":[\"mAccuracy\",\"mPrecision\",\"mRecall\",\"mF1\"],\"y\":[0.75,0.9992760289220218,0.9968534956527382,0.9961437869789492],\"type\":\"bar\"},{\"error_y\":{\"array\":[0.027100635498903795,0.00017672558890101332,0.0005846372437865178,0.0006451846021029265],\"type\":\"data\",\"visible\":true},\"marker\":{\"color\":\"#E7DAD2\",\"line\":{\"color\":\"black\",\"width\":0.5}},\"name\":\"ecrecer\",\"width\":0.11,\"x\":[\"mAccuracy\",\"mPrecision\",\"mRecall\",\"mF1\"],\"y\":[0.8629999999999999,0.9993196975750671,0.9977355306399136,0.9970613320686056],\"type\":\"bar\"}],                        {\"template\":{\"data\":{\"barpolar\":[{\"marker\":{\"line\":{\"color\":\"white\",\"width\":0.5},\"pattern\":{\"fillmode\":\"overlay\",\"size\":10,\"solidity\":0.2}},\"type\":\"barpolar\"}],\"bar\":[{\"error_x\":{\"color\":\"#2a3f5f\"},\"error_y\":{\"color\":\"#2a3f5f\"},\"marker\":{\"line\":{\"color\":\"white\",\"width\":0.5},\"pattern\":{\"fillmode\":\"overlay\",\"size\":10,\"solidity\":0.2}},\"type\":\"bar\"}],\"carpet\":[{\"aaxis\":{\"endlinecolor\":\"#2a3f5f\",\"gridcolor\":\"#C8D4E3\",\"linecolor\":\"#C8D4E3\",\"minorgridcolor\":\"#C8D4E3\",\"startlinecolor\":\"#2a3f5f\"},\"baxis\":{\"endlinecolor\":\"#2a3f5f\",\"gridcolor\":\"#C8D4E3\",\"linecolor\":\"#C8D4E3\",\"minorgridcolor\":\"#C8D4E3\",\"startlinecolor\":\"#2a3f5f\"},\"type\":\"carpet\"}],\"choropleth\":[{\"colorbar\":{\"outlinewidth\":0,\"ticks\":\"\"},\"type\":\"choropleth\"}],\"contourcarpet\":[{\"colorbar\":{\"outlinewidth\":0,\"ticks\":\"\"},\"type\":\"contourcarpet\"}],\"contour\":[{\"colorbar\":{\"outlinewidth\":0,\"ticks\":\"\"},\"colorscale\":[[0.0,\"#0d0887\"],[0.1111111111111111,\"#46039f\"],[0.2222222222222222,\"#7201a8\"],[0.3333333333333333,\"#9c179e\"],[0.4444444444444444,\"#bd3786\"],[0.5555555555555556,\"#d8576b\"],[0.6666666666666666,\"#ed7953\"],[0.7777777777777778,\"#fb9f3a\"],[0.8888888888888888,\"#fdca26\"],[1.0,\"#f0f921\"]],\"type\":\"contour\"}],\"heatmapgl\":[{\"colorbar\":{\"outlinewidth\":0,\"ticks\":\"\"},\"colorscale\":[[0.0,\"#0d0887\"],[0.1111111111111111,\"#46039f\"],[0.2222222222222222,\"#7201a8\"],[0.3333333333333333,\"#9c179e\"],[0.4444444444444444,\"#bd3786\"],[0.5555555555555556,\"#d8576b\"],[0.6666666666666666,\"#ed7953\"],[0.7777777777777778,\"#fb9f3a\"],[0.8888888888888888,\"#fdca26\"],[1.0,\"#f0f921\"]],\"type\":\"heatmapgl\"}],\"heatmap\":[{\"colorbar\":{\"outlinewidth\":0,\"ticks\":\"\"},\"colorscale\":[[0.0,\"#0d0887\"],[0.1111111111111111,\"#46039f\"],[0.2222222222222222,\"#7201a8\"],[0.3333333333333333,\"#9c179e\"],[0.4444444444444444,\"#bd3786\"],[0.5555555555555556,\"#d8576b\"],[0.6666666666666666,\"#ed7953\"],[0.7777777777777778,\"#fb9f3a\"],[0.8888888888888888,\"#fdca26\"],[1.0,\"#f0f921\"]],\"type\":\"heatmap\"}],\"histogram2dcontour\":[{\"colorbar\":{\"outlinewidth\":0,\"ticks\":\"\"},\"colorscale\":[[0.0,\"#0d0887\"],[0.1111111111111111,\"#46039f\"],[0.2222222222222222,\"#7201a8\"],[0.3333333333333333,\"#9c179e\"],[0.4444444444444444,\"#bd3786\"],[0.5555555555555556,\"#d8576b\"],[0.6666666666666666,\"#ed7953\"],[0.7777777777777778,\"#fb9f3a\"],[0.8888888888888888,\"#fdca26\"],[1.0,\"#f0f921\"]],\"type\":\"histogram2dcontour\"}],\"histogram2d\":[{\"colorbar\":{\"outlinewidth\":0,\"ticks\":\"\"},\"colorscale\":[[0.0,\"#0d0887\"],[0.1111111111111111,\"#46039f\"],[0.2222222222222222,\"#7201a8\"],[0.3333333333333333,\"#9c179e\"],[0.4444444444444444,\"#bd3786\"],[0.5555555555555556,\"#d8576b\"],[0.6666666666666666,\"#ed7953\"],[0.7777777777777778,\"#fb9f3a\"],[0.8888888888888888,\"#fdca26\"],[1.0,\"#f0f921\"]],\"type\":\"histogram2d\"}],\"histogram\":[{\"marker\":{\"pattern\":{\"fillmode\":\"overlay\",\"size\":10,\"solidity\":0.2}},\"type\":\"histogram\"}],\"mesh3d\":[{\"colorbar\":{\"outlinewidth\":0,\"ticks\":\"\"},\"type\":\"mesh3d\"}],\"parcoords\":[{\"line\":{\"colorbar\":{\"outlinewidth\":0,\"ticks\":\"\"}},\"type\":\"parcoords\"}],\"pie\":[{\"automargin\":true,\"type\":\"pie\"}],\"scatter3d\":[{\"line\":{\"colorbar\":{\"outlinewidth\":0,\"ticks\":\"\"}},\"marker\":{\"colorbar\":{\"outlinewidth\":0,\"ticks\":\"\"}},\"type\":\"scatter3d\"}],\"scattercarpet\":[{\"marker\":{\"colorbar\":{\"outlinewidth\":0,\"ticks\":\"\"}},\"type\":\"scattercarpet\"}],\"scattergeo\":[{\"marker\":{\"colorbar\":{\"outlinewidth\":0,\"ticks\":\"\"}},\"type\":\"scattergeo\"}],\"scattergl\":[{\"marker\":{\"colorbar\":{\"outlinewidth\":0,\"ticks\":\"\"}},\"type\":\"scattergl\"}],\"scattermapbox\":[{\"marker\":{\"colorbar\":{\"outlinewidth\":0,\"ticks\":\"\"}},\"type\":\"scattermapbox\"}],\"scatterpolargl\":[{\"marker\":{\"colorbar\":{\"outlinewidth\":0,\"ticks\":\"\"}},\"type\":\"scatterpolargl\"}],\"scatterpolar\":[{\"marker\":{\"colorbar\":{\"outlinewidth\":0,\"ticks\":\"\"}},\"type\":\"scatterpolar\"}],\"scatter\":[{\"fillpattern\":{\"fillmode\":\"overlay\",\"size\":10,\"solidity\":0.2},\"type\":\"scatter\"}],\"scatterternary\":[{\"marker\":{\"colorbar\":{\"outlinewidth\":0,\"ticks\":\"\"}},\"type\":\"scatterternary\"}],\"surface\":[{\"colorbar\":{\"outlinewidth\":0,\"ticks\":\"\"},\"colorscale\":[[0.0,\"#0d0887\"],[0.1111111111111111,\"#46039f\"],[0.2222222222222222,\"#7201a8\"],[0.3333333333333333,\"#9c179e\"],[0.4444444444444444,\"#bd3786\"],[0.5555555555555556,\"#d8576b\"],[0.6666666666666666,\"#ed7953\"],[0.7777777777777778,\"#fb9f3a\"],[0.8888888888888888,\"#fdca26\"],[1.0,\"#f0f921\"]],\"type\":\"surface\"}],\"table\":[{\"cells\":{\"fill\":{\"color\":\"#EBF0F8\"},\"line\":{\"color\":\"white\"}},\"header\":{\"fill\":{\"color\":\"#C8D4E3\"},\"line\":{\"color\":\"white\"}},\"type\":\"table\"}]},\"layout\":{\"annotationdefaults\":{\"arrowcolor\":\"#2a3f5f\",\"arrowhead\":0,\"arrowwidth\":1},\"autotypenumbers\":\"strict\",\"coloraxis\":{\"colorbar\":{\"outlinewidth\":0,\"ticks\":\"\"}},\"colorscale\":{\"diverging\":[[0,\"#8e0152\"],[0.1,\"#c51b7d\"],[0.2,\"#de77ae\"],[0.3,\"#f1b6da\"],[0.4,\"#fde0ef\"],[0.5,\"#f7f7f7\"],[0.6,\"#e6f5d0\"],[0.7,\"#b8e186\"],[0.8,\"#7fbc41\"],[0.9,\"#4d9221\"],[1,\"#276419\"]],\"sequential\":[[0.0,\"#0d0887\"],[0.1111111111111111,\"#46039f\"],[0.2222222222222222,\"#7201a8\"],[0.3333333333333333,\"#9c179e\"],[0.4444444444444444,\"#bd3786\"],[0.5555555555555556,\"#d8576b\"],[0.6666666666666666,\"#ed7953\"],[0.7777777777777778,\"#fb9f3a\"],[0.8888888888888888,\"#fdca26\"],[1.0,\"#f0f921\"]],\"sequentialminus\":[[0.0,\"#0d0887\"],[0.1111111111111111,\"#46039f\"],[0.2222222222222222,\"#7201a8\"],[0.3333333333333333,\"#9c179e\"],[0.4444444444444444,\"#bd3786\"],[0.5555555555555556,\"#d8576b\"],[0.6666666666666666,\"#ed7953\"],[0.7777777777777778,\"#fb9f3a\"],[0.8888888888888888,\"#fdca26\"],[1.0,\"#f0f921\"]]},\"colorway\":[\"#636efa\",\"#EF553B\",\"#00cc96\",\"#ab63fa\",\"#FFA15A\",\"#19d3f3\",\"#FF6692\",\"#B6E880\",\"#FF97FF\",\"#FECB52\"],\"font\":{\"color\":\"#2a3f5f\"},\"geo\":{\"bgcolor\":\"white\",\"lakecolor\":\"white\",\"landcolor\":\"white\",\"showlakes\":true,\"showland\":true,\"subunitcolor\":\"#C8D4E3\"},\"hoverlabel\":{\"align\":\"left\"},\"hovermode\":\"closest\",\"mapbox\":{\"style\":\"light\"},\"paper_bgcolor\":\"white\",\"plot_bgcolor\":\"white\",\"polar\":{\"angularaxis\":{\"gridcolor\":\"#EBF0F8\",\"linecolor\":\"#EBF0F8\",\"ticks\":\"\"},\"bgcolor\":\"white\",\"radialaxis\":{\"gridcolor\":\"#EBF0F8\",\"linecolor\":\"#EBF0F8\",\"ticks\":\"\"}},\"scene\":{\"xaxis\":{\"backgroundcolor\":\"white\",\"gridcolor\":\"#DFE8F3\",\"gridwidth\":2,\"linecolor\":\"#EBF0F8\",\"showbackground\":true,\"ticks\":\"\",\"zerolinecolor\":\"#EBF0F8\"},\"yaxis\":{\"backgroundcolor\":\"white\",\"gridcolor\":\"#DFE8F3\",\"gridwidth\":2,\"linecolor\":\"#EBF0F8\",\"showbackground\":true,\"ticks\":\"\",\"zerolinecolor\":\"#EBF0F8\"},\"zaxis\":{\"backgroundcolor\":\"white\",\"gridcolor\":\"#DFE8F3\",\"gridwidth\":2,\"linecolor\":\"#EBF0F8\",\"showbackground\":true,\"ticks\":\"\",\"zerolinecolor\":\"#EBF0F8\"}},\"shapedefaults\":{\"line\":{\"color\":\"#2a3f5f\"}},\"ternary\":{\"aaxis\":{\"gridcolor\":\"#DFE8F3\",\"linecolor\":\"#A2B1C6\",\"ticks\":\"\"},\"baxis\":{\"gridcolor\":\"#DFE8F3\",\"linecolor\":\"#A2B1C6\",\"ticks\":\"\"},\"bgcolor\":\"white\",\"caxis\":{\"gridcolor\":\"#DFE8F3\",\"linecolor\":\"#A2B1C6\",\"ticks\":\"\"}},\"title\":{\"x\":0.05},\"xaxis\":{\"automargin\":true,\"gridcolor\":\"#EBF0F8\",\"linecolor\":\"#EBF0F8\",\"ticks\":\"\",\"title\":{\"standoff\":15},\"zerolinecolor\":\"#EBF0F8\",\"zerolinewidth\":2},\"yaxis\":{\"automargin\":true,\"gridcolor\":\"#EBF0F8\",\"linecolor\":\"#EBF0F8\",\"ticks\":\"\",\"title\":{\"standoff\":15},\"zerolinecolor\":\"#EBF0F8\",\"zerolinewidth\":2}}},\"yaxis\":{\"minor\":{\"showgrid\":true,\"griddash\":\"dash\",\"gridcolor\":\"gray\",\"gridwidth\":0.5,\"dtick\":0.05},\"showline\":true,\"linecolor\":\"black\",\"linewidth\":1,\"showgrid\":true,\"gridcolor\":\"gray\",\"gridwidth\":1,\"dtick\":0.1,\"range\":[0,1.2],\"title\":{\"text\":\"Mean Value\"}},\"xaxis\":{\"showline\":true,\"linecolor\":\"#000000\",\"linewidth\":1},\"title\":{\"font\":{\"size\":20,\"weight\":1000},\"text\":\"Performance Comparison of EC-based Reaction Prediction Methods\",\"x\":0.5,\"y\":0.05,\"xanchor\":\"center\"},\"legend\":{\"orientation\":\"h\",\"yanchor\":\"bottom\",\"y\":0.99,\"xanchor\":\"center\",\"x\":0.5,\"tracegroupgap\":2,\"borderwidth\":1},\"width\":1600,\"height\":600,\"barmode\":\"group\",\"bargap\":0.29},                        {\"responsive\": true}                    ).then(function(){\n",
       "                            \n",
       "var gd = document.getElementById('f7df32aa-748e-4c3b-80ab-0981de4ebdd7');\n",
       "var x = new MutationObserver(function (mutations, observer) {{\n",
       "        var display = window.getComputedStyle(gd).display;\n",
       "        if (!display || display === 'none') {{\n",
       "            console.log([gd, 'removed!']);\n",
       "            Plotly.purge(gd);\n",
       "            observer.disconnect();\n",
       "        }}\n",
       "}});\n",
       "\n",
       "// Listen for the removal of the full notebook cells\n",
       "var notebookContainer = gd.closest('#notebook-container');\n",
       "if (notebookContainer) {{\n",
       "    x.observe(notebookContainer, {childList: true});\n",
       "}}\n",
       "\n",
       "// Listen for the clearing of the current output cell\n",
       "var outputEl = gd.closest('.output');\n",
       "if (outputEl) {{\n",
       "    x.observe(outputEl, {childList: true});\n",
       "}}\n",
       "\n",
       "                        })                };                });            </script>        </div>"
      ]
     },
     "metadata": {},
     "output_type": "display_data"
    }
   ],
   "source": [
    "evTools.show_ec_methods_10_eva_fig(res_metrics_data=res_std[res_std.avgType =='macro'].reset_index(drop=True))"
   ]
  },
  {
   "cell_type": "code",
   "execution_count": 23,
   "metadata": {},
   "outputs": [
    {
     "data": {
      "application/vnd.plotly.v1+json": {
       "config": {
        "plotlyServerURL": "https://plot.ly"
       },
       "data": [
        {
         "error_y": {
          "array": [
           0.029608557321603272,
           0.031032045369262375,
           0.05439368674503516,
           0.0353940917095411
          ],
          "type": "data",
          "visible": true
         },
         "marker": {
          "color": "#8ECFC9",
          "line": {
           "color": "black",
           "width": 0.5
          }
         },
         "name": "priam",
         "type": "bar",
         "width": 0.11,
         "x": [
          "mAccuracy",
          "mPrecision",
          "mRecall",
          "mF1"
         ],
         "y": [
          0.081,
          0.17352908735794173,
          0.37952340641856674,
          0.23707386533000235
         ]
        },
        {
         "error_y": {
          "array": [
           0.04121757985239901,
           0.04538763198106681,
           0.03925094731937098,
           0.04183889052049527
          ],
          "type": "data",
          "visible": true
         },
         "marker": {
          "color": "#FFBE7A",
          "line": {
           "color": "black",
           "width": 0.5
          }
         },
         "name": "deepec",
         "type": "bar",
         "width": 0.11,
         "x": [
          "mAccuracy",
          "mPrecision",
          "mRecall",
          "mF1"
         ],
         "y": [
          0.29100000000000004,
          0.3544465806527749,
          0.31202162258813876,
          0.3318231572591062
         ]
        },
        {
         "error_y": {
          "array": [
           0.047010637094172636,
           0.05658355353465983,
           0.04963957663143487,
           0.05249791448029833
          ],
          "type": "data",
          "visible": true
         },
         "marker": {
          "color": "#FA7F6F",
          "line": {
           "color": "black",
           "width": 0.5
          }
         },
         "name": "clean",
         "type": "bar",
         "width": 0.11,
         "x": [
          "mAccuracy",
          "mPrecision",
          "mRecall",
          "mF1"
         ],
         "y": [
          0.319,
          0.3489169110759366,
          0.3537709785252731,
          0.35107853037175923
         ]
        },
        {
         "error_y": {
          "array": [
           0.02708012801545322,
           0.027731301840067085,
           0.041817249066098135,
           0.034387830600148286
          ],
          "type": "data",
          "visible": true
         },
         "marker": {
          "color": "#82B0D2",
          "line": {
           "color": "black",
           "width": 0.5
          }
         },
         "name": "catfam",
         "type": "bar",
         "width": 0.11,
         "x": [
          "mAccuracy",
          "mPrecision",
          "mRecall",
          "mF1"
         ],
         "y": [
          0.75,
          0.7922652312158578,
          0.6955944151265401,
          0.7405633466934225
         ]
        },
        {
         "error_y": {
          "array": [
           0.0019115819805278122,
           0.0012472173393315443,
           0.0024851122710648666,
           0.0016696640184084195
          ],
          "type": "data",
          "visible": true
         },
         "marker": {
          "color": "#BEB8DC",
          "line": {
           "color": "black",
           "width": 0.5
          }
         },
         "name": "blast",
         "type": "bar",
         "width": 0.11,
         "x": [
          "mAccuracy",
          "mPrecision",
          "mRecall",
          "mF1"
         ],
         "y": [
          0.836433559674649,
          0.8859265924659244,
          0.7878154288716464,
          0.8339938299447377
         ]
        },
        {
         "error_y": {
          "array": [
           0.027100635498903795,
           0.019997984797974076,
           0.0375986257488622,
           0.02646342437375663
          ],
          "type": "data",
          "visible": true
         },
         "marker": {
          "color": "#E7DAD2",
          "line": {
           "color": "black",
           "width": 0.5
          }
         },
         "name": "ecrecer",
         "type": "bar",
         "width": 0.11,
         "x": [
          "mAccuracy",
          "mPrecision",
          "mRecall",
          "mF1"
         ],
         "y": [
          0.8629999999999999,
          0.9129191919191919,
          0.7841832471815625,
          0.843315727435342
         ]
        }
       ],
       "layout": {
        "bargap": 0.29,
        "barmode": "group",
        "height": 600,
        "legend": {
         "borderwidth": 1,
         "orientation": "h",
         "tracegroupgap": 2,
         "x": 0.5,
         "xanchor": "center",
         "y": 0.99,
         "yanchor": "bottom"
        },
        "template": {
         "data": {
          "bar": [
           {
            "error_x": {
             "color": "#2a3f5f"
            },
            "error_y": {
             "color": "#2a3f5f"
            },
            "marker": {
             "line": {
              "color": "white",
              "width": 0.5
             },
             "pattern": {
              "fillmode": "overlay",
              "size": 10,
              "solidity": 0.2
             }
            },
            "type": "bar"
           }
          ],
          "barpolar": [
           {
            "marker": {
             "line": {
              "color": "white",
              "width": 0.5
             },
             "pattern": {
              "fillmode": "overlay",
              "size": 10,
              "solidity": 0.2
             }
            },
            "type": "barpolar"
           }
          ],
          "carpet": [
           {
            "aaxis": {
             "endlinecolor": "#2a3f5f",
             "gridcolor": "#C8D4E3",
             "linecolor": "#C8D4E3",
             "minorgridcolor": "#C8D4E3",
             "startlinecolor": "#2a3f5f"
            },
            "baxis": {
             "endlinecolor": "#2a3f5f",
             "gridcolor": "#C8D4E3",
             "linecolor": "#C8D4E3",
             "minorgridcolor": "#C8D4E3",
             "startlinecolor": "#2a3f5f"
            },
            "type": "carpet"
           }
          ],
          "choropleth": [
           {
            "colorbar": {
             "outlinewidth": 0,
             "ticks": ""
            },
            "type": "choropleth"
           }
          ],
          "contour": [
           {
            "colorbar": {
             "outlinewidth": 0,
             "ticks": ""
            },
            "colorscale": [
             [
              0,
              "#0d0887"
             ],
             [
              0.1111111111111111,
              "#46039f"
             ],
             [
              0.2222222222222222,
              "#7201a8"
             ],
             [
              0.3333333333333333,
              "#9c179e"
             ],
             [
              0.4444444444444444,
              "#bd3786"
             ],
             [
              0.5555555555555556,
              "#d8576b"
             ],
             [
              0.6666666666666666,
              "#ed7953"
             ],
             [
              0.7777777777777778,
              "#fb9f3a"
             ],
             [
              0.8888888888888888,
              "#fdca26"
             ],
             [
              1,
              "#f0f921"
             ]
            ],
            "type": "contour"
           }
          ],
          "contourcarpet": [
           {
            "colorbar": {
             "outlinewidth": 0,
             "ticks": ""
            },
            "type": "contourcarpet"
           }
          ],
          "heatmap": [
           {
            "colorbar": {
             "outlinewidth": 0,
             "ticks": ""
            },
            "colorscale": [
             [
              0,
              "#0d0887"
             ],
             [
              0.1111111111111111,
              "#46039f"
             ],
             [
              0.2222222222222222,
              "#7201a8"
             ],
             [
              0.3333333333333333,
              "#9c179e"
             ],
             [
              0.4444444444444444,
              "#bd3786"
             ],
             [
              0.5555555555555556,
              "#d8576b"
             ],
             [
              0.6666666666666666,
              "#ed7953"
             ],
             [
              0.7777777777777778,
              "#fb9f3a"
             ],
             [
              0.8888888888888888,
              "#fdca26"
             ],
             [
              1,
              "#f0f921"
             ]
            ],
            "type": "heatmap"
           }
          ],
          "heatmapgl": [
           {
            "colorbar": {
             "outlinewidth": 0,
             "ticks": ""
            },
            "colorscale": [
             [
              0,
              "#0d0887"
             ],
             [
              0.1111111111111111,
              "#46039f"
             ],
             [
              0.2222222222222222,
              "#7201a8"
             ],
             [
              0.3333333333333333,
              "#9c179e"
             ],
             [
              0.4444444444444444,
              "#bd3786"
             ],
             [
              0.5555555555555556,
              "#d8576b"
             ],
             [
              0.6666666666666666,
              "#ed7953"
             ],
             [
              0.7777777777777778,
              "#fb9f3a"
             ],
             [
              0.8888888888888888,
              "#fdca26"
             ],
             [
              1,
              "#f0f921"
             ]
            ],
            "type": "heatmapgl"
           }
          ],
          "histogram": [
           {
            "marker": {
             "pattern": {
              "fillmode": "overlay",
              "size": 10,
              "solidity": 0.2
             }
            },
            "type": "histogram"
           }
          ],
          "histogram2d": [
           {
            "colorbar": {
             "outlinewidth": 0,
             "ticks": ""
            },
            "colorscale": [
             [
              0,
              "#0d0887"
             ],
             [
              0.1111111111111111,
              "#46039f"
             ],
             [
              0.2222222222222222,
              "#7201a8"
             ],
             [
              0.3333333333333333,
              "#9c179e"
             ],
             [
              0.4444444444444444,
              "#bd3786"
             ],
             [
              0.5555555555555556,
              "#d8576b"
             ],
             [
              0.6666666666666666,
              "#ed7953"
             ],
             [
              0.7777777777777778,
              "#fb9f3a"
             ],
             [
              0.8888888888888888,
              "#fdca26"
             ],
             [
              1,
              "#f0f921"
             ]
            ],
            "type": "histogram2d"
           }
          ],
          "histogram2dcontour": [
           {
            "colorbar": {
             "outlinewidth": 0,
             "ticks": ""
            },
            "colorscale": [
             [
              0,
              "#0d0887"
             ],
             [
              0.1111111111111111,
              "#46039f"
             ],
             [
              0.2222222222222222,
              "#7201a8"
             ],
             [
              0.3333333333333333,
              "#9c179e"
             ],
             [
              0.4444444444444444,
              "#bd3786"
             ],
             [
              0.5555555555555556,
              "#d8576b"
             ],
             [
              0.6666666666666666,
              "#ed7953"
             ],
             [
              0.7777777777777778,
              "#fb9f3a"
             ],
             [
              0.8888888888888888,
              "#fdca26"
             ],
             [
              1,
              "#f0f921"
             ]
            ],
            "type": "histogram2dcontour"
           }
          ],
          "mesh3d": [
           {
            "colorbar": {
             "outlinewidth": 0,
             "ticks": ""
            },
            "type": "mesh3d"
           }
          ],
          "parcoords": [
           {
            "line": {
             "colorbar": {
              "outlinewidth": 0,
              "ticks": ""
             }
            },
            "type": "parcoords"
           }
          ],
          "pie": [
           {
            "automargin": true,
            "type": "pie"
           }
          ],
          "scatter": [
           {
            "fillpattern": {
             "fillmode": "overlay",
             "size": 10,
             "solidity": 0.2
            },
            "type": "scatter"
           }
          ],
          "scatter3d": [
           {
            "line": {
             "colorbar": {
              "outlinewidth": 0,
              "ticks": ""
             }
            },
            "marker": {
             "colorbar": {
              "outlinewidth": 0,
              "ticks": ""
             }
            },
            "type": "scatter3d"
           }
          ],
          "scattercarpet": [
           {
            "marker": {
             "colorbar": {
              "outlinewidth": 0,
              "ticks": ""
             }
            },
            "type": "scattercarpet"
           }
          ],
          "scattergeo": [
           {
            "marker": {
             "colorbar": {
              "outlinewidth": 0,
              "ticks": ""
             }
            },
            "type": "scattergeo"
           }
          ],
          "scattergl": [
           {
            "marker": {
             "colorbar": {
              "outlinewidth": 0,
              "ticks": ""
             }
            },
            "type": "scattergl"
           }
          ],
          "scattermapbox": [
           {
            "marker": {
             "colorbar": {
              "outlinewidth": 0,
              "ticks": ""
             }
            },
            "type": "scattermapbox"
           }
          ],
          "scatterpolar": [
           {
            "marker": {
             "colorbar": {
              "outlinewidth": 0,
              "ticks": ""
             }
            },
            "type": "scatterpolar"
           }
          ],
          "scatterpolargl": [
           {
            "marker": {
             "colorbar": {
              "outlinewidth": 0,
              "ticks": ""
             }
            },
            "type": "scatterpolargl"
           }
          ],
          "scatterternary": [
           {
            "marker": {
             "colorbar": {
              "outlinewidth": 0,
              "ticks": ""
             }
            },
            "type": "scatterternary"
           }
          ],
          "surface": [
           {
            "colorbar": {
             "outlinewidth": 0,
             "ticks": ""
            },
            "colorscale": [
             [
              0,
              "#0d0887"
             ],
             [
              0.1111111111111111,
              "#46039f"
             ],
             [
              0.2222222222222222,
              "#7201a8"
             ],
             [
              0.3333333333333333,
              "#9c179e"
             ],
             [
              0.4444444444444444,
              "#bd3786"
             ],
             [
              0.5555555555555556,
              "#d8576b"
             ],
             [
              0.6666666666666666,
              "#ed7953"
             ],
             [
              0.7777777777777778,
              "#fb9f3a"
             ],
             [
              0.8888888888888888,
              "#fdca26"
             ],
             [
              1,
              "#f0f921"
             ]
            ],
            "type": "surface"
           }
          ],
          "table": [
           {
            "cells": {
             "fill": {
              "color": "#EBF0F8"
             },
             "line": {
              "color": "white"
             }
            },
            "header": {
             "fill": {
              "color": "#C8D4E3"
             },
             "line": {
              "color": "white"
             }
            },
            "type": "table"
           }
          ]
         },
         "layout": {
          "annotationdefaults": {
           "arrowcolor": "#2a3f5f",
           "arrowhead": 0,
           "arrowwidth": 1
          },
          "autotypenumbers": "strict",
          "coloraxis": {
           "colorbar": {
            "outlinewidth": 0,
            "ticks": ""
           }
          },
          "colorscale": {
           "diverging": [
            [
             0,
             "#8e0152"
            ],
            [
             0.1,
             "#c51b7d"
            ],
            [
             0.2,
             "#de77ae"
            ],
            [
             0.3,
             "#f1b6da"
            ],
            [
             0.4,
             "#fde0ef"
            ],
            [
             0.5,
             "#f7f7f7"
            ],
            [
             0.6,
             "#e6f5d0"
            ],
            [
             0.7,
             "#b8e186"
            ],
            [
             0.8,
             "#7fbc41"
            ],
            [
             0.9,
             "#4d9221"
            ],
            [
             1,
             "#276419"
            ]
           ],
           "sequential": [
            [
             0,
             "#0d0887"
            ],
            [
             0.1111111111111111,
             "#46039f"
            ],
            [
             0.2222222222222222,
             "#7201a8"
            ],
            [
             0.3333333333333333,
             "#9c179e"
            ],
            [
             0.4444444444444444,
             "#bd3786"
            ],
            [
             0.5555555555555556,
             "#d8576b"
            ],
            [
             0.6666666666666666,
             "#ed7953"
            ],
            [
             0.7777777777777778,
             "#fb9f3a"
            ],
            [
             0.8888888888888888,
             "#fdca26"
            ],
            [
             1,
             "#f0f921"
            ]
           ],
           "sequentialminus": [
            [
             0,
             "#0d0887"
            ],
            [
             0.1111111111111111,
             "#46039f"
            ],
            [
             0.2222222222222222,
             "#7201a8"
            ],
            [
             0.3333333333333333,
             "#9c179e"
            ],
            [
             0.4444444444444444,
             "#bd3786"
            ],
            [
             0.5555555555555556,
             "#d8576b"
            ],
            [
             0.6666666666666666,
             "#ed7953"
            ],
            [
             0.7777777777777778,
             "#fb9f3a"
            ],
            [
             0.8888888888888888,
             "#fdca26"
            ],
            [
             1,
             "#f0f921"
            ]
           ]
          },
          "colorway": [
           "#636efa",
           "#EF553B",
           "#00cc96",
           "#ab63fa",
           "#FFA15A",
           "#19d3f3",
           "#FF6692",
           "#B6E880",
           "#FF97FF",
           "#FECB52"
          ],
          "font": {
           "color": "#2a3f5f"
          },
          "geo": {
           "bgcolor": "white",
           "lakecolor": "white",
           "landcolor": "white",
           "showlakes": true,
           "showland": true,
           "subunitcolor": "#C8D4E3"
          },
          "hoverlabel": {
           "align": "left"
          },
          "hovermode": "closest",
          "mapbox": {
           "style": "light"
          },
          "paper_bgcolor": "white",
          "plot_bgcolor": "white",
          "polar": {
           "angularaxis": {
            "gridcolor": "#EBF0F8",
            "linecolor": "#EBF0F8",
            "ticks": ""
           },
           "bgcolor": "white",
           "radialaxis": {
            "gridcolor": "#EBF0F8",
            "linecolor": "#EBF0F8",
            "ticks": ""
           }
          },
          "scene": {
           "xaxis": {
            "backgroundcolor": "white",
            "gridcolor": "#DFE8F3",
            "gridwidth": 2,
            "linecolor": "#EBF0F8",
            "showbackground": true,
            "ticks": "",
            "zerolinecolor": "#EBF0F8"
           },
           "yaxis": {
            "backgroundcolor": "white",
            "gridcolor": "#DFE8F3",
            "gridwidth": 2,
            "linecolor": "#EBF0F8",
            "showbackground": true,
            "ticks": "",
            "zerolinecolor": "#EBF0F8"
           },
           "zaxis": {
            "backgroundcolor": "white",
            "gridcolor": "#DFE8F3",
            "gridwidth": 2,
            "linecolor": "#EBF0F8",
            "showbackground": true,
            "ticks": "",
            "zerolinecolor": "#EBF0F8"
           }
          },
          "shapedefaults": {
           "line": {
            "color": "#2a3f5f"
           }
          },
          "ternary": {
           "aaxis": {
            "gridcolor": "#DFE8F3",
            "linecolor": "#A2B1C6",
            "ticks": ""
           },
           "baxis": {
            "gridcolor": "#DFE8F3",
            "linecolor": "#A2B1C6",
            "ticks": ""
           },
           "bgcolor": "white",
           "caxis": {
            "gridcolor": "#DFE8F3",
            "linecolor": "#A2B1C6",
            "ticks": ""
           }
          },
          "title": {
           "x": 0.05
          },
          "xaxis": {
           "automargin": true,
           "gridcolor": "#EBF0F8",
           "linecolor": "#EBF0F8",
           "ticks": "",
           "title": {
            "standoff": 15
           },
           "zerolinecolor": "#EBF0F8",
           "zerolinewidth": 2
          },
          "yaxis": {
           "automargin": true,
           "gridcolor": "#EBF0F8",
           "linecolor": "#EBF0F8",
           "ticks": "",
           "title": {
            "standoff": 15
           },
           "zerolinecolor": "#EBF0F8",
           "zerolinewidth": 2
          }
         }
        },
        "title": {
         "font": {
          "size": 20,
          "weight": 1000
         },
         "text": "Performance Comparison of EC-based Reaction Prediction Methods",
         "x": 0.5,
         "xanchor": "center",
         "y": 0.05
        },
        "width": 1600,
        "xaxis": {
         "linecolor": "#000000",
         "linewidth": 1,
         "showline": true
        },
        "yaxis": {
         "dtick": 0.1,
         "gridcolor": "gray",
         "gridwidth": 1,
         "linecolor": "black",
         "linewidth": 1,
         "minor": {
          "dtick": 0.05,
          "gridcolor": "gray",
          "griddash": "dash",
          "gridwidth": 0.5,
          "showgrid": true
         },
         "range": [
          0,
          1.2
         ],
         "showgrid": true,
         "showline": true,
         "title": {
          "text": "Mean Value"
         }
        }
       }
      },
      "text/html": [
       "<div>                            <div id=\"0abed72e-a9c1-463c-acf6-6436d2b066d4\" class=\"plotly-graph-div\" style=\"height:600px; width:1600px;\"></div>            <script type=\"text/javascript\">                require([\"plotly\"], function(Plotly) {                    window.PLOTLYENV=window.PLOTLYENV || {};                                    if (document.getElementById(\"0abed72e-a9c1-463c-acf6-6436d2b066d4\")) {                    Plotly.newPlot(                        \"0abed72e-a9c1-463c-acf6-6436d2b066d4\",                        [{\"error_y\":{\"array\":[0.029608557321603272,0.031032045369262375,0.05439368674503516,0.0353940917095411],\"type\":\"data\",\"visible\":true},\"marker\":{\"color\":\"#8ECFC9\",\"line\":{\"color\":\"black\",\"width\":0.5}},\"name\":\"priam\",\"width\":0.11,\"x\":[\"mAccuracy\",\"mPrecision\",\"mRecall\",\"mF1\"],\"y\":[0.081,0.17352908735794173,0.37952340641856674,0.23707386533000235],\"type\":\"bar\"},{\"error_y\":{\"array\":[0.04121757985239901,0.04538763198106681,0.03925094731937098,0.04183889052049527],\"type\":\"data\",\"visible\":true},\"marker\":{\"color\":\"#FFBE7A\",\"line\":{\"color\":\"black\",\"width\":0.5}},\"name\":\"deepec\",\"width\":0.11,\"x\":[\"mAccuracy\",\"mPrecision\",\"mRecall\",\"mF1\"],\"y\":[0.29100000000000004,0.3544465806527749,0.31202162258813876,0.3318231572591062],\"type\":\"bar\"},{\"error_y\":{\"array\":[0.047010637094172636,0.05658355353465983,0.04963957663143487,0.05249791448029833],\"type\":\"data\",\"visible\":true},\"marker\":{\"color\":\"#FA7F6F\",\"line\":{\"color\":\"black\",\"width\":0.5}},\"name\":\"clean\",\"width\":0.11,\"x\":[\"mAccuracy\",\"mPrecision\",\"mRecall\",\"mF1\"],\"y\":[0.319,0.3489169110759366,0.3537709785252731,0.35107853037175923],\"type\":\"bar\"},{\"error_y\":{\"array\":[0.02708012801545322,0.027731301840067085,0.041817249066098135,0.034387830600148286],\"type\":\"data\",\"visible\":true},\"marker\":{\"color\":\"#82B0D2\",\"line\":{\"color\":\"black\",\"width\":0.5}},\"name\":\"catfam\",\"width\":0.11,\"x\":[\"mAccuracy\",\"mPrecision\",\"mRecall\",\"mF1\"],\"y\":[0.75,0.7922652312158578,0.6955944151265401,0.7405633466934225],\"type\":\"bar\"},{\"error_y\":{\"array\":[0.0019115819805278122,0.0012472173393315443,0.0024851122710648666,0.0016696640184084195],\"type\":\"data\",\"visible\":true},\"marker\":{\"color\":\"#BEB8DC\",\"line\":{\"color\":\"black\",\"width\":0.5}},\"name\":\"blast\",\"width\":0.11,\"x\":[\"mAccuracy\",\"mPrecision\",\"mRecall\",\"mF1\"],\"y\":[0.836433559674649,0.8859265924659244,0.7878154288716464,0.8339938299447377],\"type\":\"bar\"},{\"error_y\":{\"array\":[0.027100635498903795,0.019997984797974076,0.0375986257488622,0.02646342437375663],\"type\":\"data\",\"visible\":true},\"marker\":{\"color\":\"#E7DAD2\",\"line\":{\"color\":\"black\",\"width\":0.5}},\"name\":\"ecrecer\",\"width\":0.11,\"x\":[\"mAccuracy\",\"mPrecision\",\"mRecall\",\"mF1\"],\"y\":[0.8629999999999999,0.9129191919191919,0.7841832471815625,0.843315727435342],\"type\":\"bar\"}],                        {\"template\":{\"data\":{\"barpolar\":[{\"marker\":{\"line\":{\"color\":\"white\",\"width\":0.5},\"pattern\":{\"fillmode\":\"overlay\",\"size\":10,\"solidity\":0.2}},\"type\":\"barpolar\"}],\"bar\":[{\"error_x\":{\"color\":\"#2a3f5f\"},\"error_y\":{\"color\":\"#2a3f5f\"},\"marker\":{\"line\":{\"color\":\"white\",\"width\":0.5},\"pattern\":{\"fillmode\":\"overlay\",\"size\":10,\"solidity\":0.2}},\"type\":\"bar\"}],\"carpet\":[{\"aaxis\":{\"endlinecolor\":\"#2a3f5f\",\"gridcolor\":\"#C8D4E3\",\"linecolor\":\"#C8D4E3\",\"minorgridcolor\":\"#C8D4E3\",\"startlinecolor\":\"#2a3f5f\"},\"baxis\":{\"endlinecolor\":\"#2a3f5f\",\"gridcolor\":\"#C8D4E3\",\"linecolor\":\"#C8D4E3\",\"minorgridcolor\":\"#C8D4E3\",\"startlinecolor\":\"#2a3f5f\"},\"type\":\"carpet\"}],\"choropleth\":[{\"colorbar\":{\"outlinewidth\":0,\"ticks\":\"\"},\"type\":\"choropleth\"}],\"contourcarpet\":[{\"colorbar\":{\"outlinewidth\":0,\"ticks\":\"\"},\"type\":\"contourcarpet\"}],\"contour\":[{\"colorbar\":{\"outlinewidth\":0,\"ticks\":\"\"},\"colorscale\":[[0.0,\"#0d0887\"],[0.1111111111111111,\"#46039f\"],[0.2222222222222222,\"#7201a8\"],[0.3333333333333333,\"#9c179e\"],[0.4444444444444444,\"#bd3786\"],[0.5555555555555556,\"#d8576b\"],[0.6666666666666666,\"#ed7953\"],[0.7777777777777778,\"#fb9f3a\"],[0.8888888888888888,\"#fdca26\"],[1.0,\"#f0f921\"]],\"type\":\"contour\"}],\"heatmapgl\":[{\"colorbar\":{\"outlinewidth\":0,\"ticks\":\"\"},\"colorscale\":[[0.0,\"#0d0887\"],[0.1111111111111111,\"#46039f\"],[0.2222222222222222,\"#7201a8\"],[0.3333333333333333,\"#9c179e\"],[0.4444444444444444,\"#bd3786\"],[0.5555555555555556,\"#d8576b\"],[0.6666666666666666,\"#ed7953\"],[0.7777777777777778,\"#fb9f3a\"],[0.8888888888888888,\"#fdca26\"],[1.0,\"#f0f921\"]],\"type\":\"heatmapgl\"}],\"heatmap\":[{\"colorbar\":{\"outlinewidth\":0,\"ticks\":\"\"},\"colorscale\":[[0.0,\"#0d0887\"],[0.1111111111111111,\"#46039f\"],[0.2222222222222222,\"#7201a8\"],[0.3333333333333333,\"#9c179e\"],[0.4444444444444444,\"#bd3786\"],[0.5555555555555556,\"#d8576b\"],[0.6666666666666666,\"#ed7953\"],[0.7777777777777778,\"#fb9f3a\"],[0.8888888888888888,\"#fdca26\"],[1.0,\"#f0f921\"]],\"type\":\"heatmap\"}],\"histogram2dcontour\":[{\"colorbar\":{\"outlinewidth\":0,\"ticks\":\"\"},\"colorscale\":[[0.0,\"#0d0887\"],[0.1111111111111111,\"#46039f\"],[0.2222222222222222,\"#7201a8\"],[0.3333333333333333,\"#9c179e\"],[0.4444444444444444,\"#bd3786\"],[0.5555555555555556,\"#d8576b\"],[0.6666666666666666,\"#ed7953\"],[0.7777777777777778,\"#fb9f3a\"],[0.8888888888888888,\"#fdca26\"],[1.0,\"#f0f921\"]],\"type\":\"histogram2dcontour\"}],\"histogram2d\":[{\"colorbar\":{\"outlinewidth\":0,\"ticks\":\"\"},\"colorscale\":[[0.0,\"#0d0887\"],[0.1111111111111111,\"#46039f\"],[0.2222222222222222,\"#7201a8\"],[0.3333333333333333,\"#9c179e\"],[0.4444444444444444,\"#bd3786\"],[0.5555555555555556,\"#d8576b\"],[0.6666666666666666,\"#ed7953\"],[0.7777777777777778,\"#fb9f3a\"],[0.8888888888888888,\"#fdca26\"],[1.0,\"#f0f921\"]],\"type\":\"histogram2d\"}],\"histogram\":[{\"marker\":{\"pattern\":{\"fillmode\":\"overlay\",\"size\":10,\"solidity\":0.2}},\"type\":\"histogram\"}],\"mesh3d\":[{\"colorbar\":{\"outlinewidth\":0,\"ticks\":\"\"},\"type\":\"mesh3d\"}],\"parcoords\":[{\"line\":{\"colorbar\":{\"outlinewidth\":0,\"ticks\":\"\"}},\"type\":\"parcoords\"}],\"pie\":[{\"automargin\":true,\"type\":\"pie\"}],\"scatter3d\":[{\"line\":{\"colorbar\":{\"outlinewidth\":0,\"ticks\":\"\"}},\"marker\":{\"colorbar\":{\"outlinewidth\":0,\"ticks\":\"\"}},\"type\":\"scatter3d\"}],\"scattercarpet\":[{\"marker\":{\"colorbar\":{\"outlinewidth\":0,\"ticks\":\"\"}},\"type\":\"scattercarpet\"}],\"scattergeo\":[{\"marker\":{\"colorbar\":{\"outlinewidth\":0,\"ticks\":\"\"}},\"type\":\"scattergeo\"}],\"scattergl\":[{\"marker\":{\"colorbar\":{\"outlinewidth\":0,\"ticks\":\"\"}},\"type\":\"scattergl\"}],\"scattermapbox\":[{\"marker\":{\"colorbar\":{\"outlinewidth\":0,\"ticks\":\"\"}},\"type\":\"scattermapbox\"}],\"scatterpolargl\":[{\"marker\":{\"colorbar\":{\"outlinewidth\":0,\"ticks\":\"\"}},\"type\":\"scatterpolargl\"}],\"scatterpolar\":[{\"marker\":{\"colorbar\":{\"outlinewidth\":0,\"ticks\":\"\"}},\"type\":\"scatterpolar\"}],\"scatter\":[{\"fillpattern\":{\"fillmode\":\"overlay\",\"size\":10,\"solidity\":0.2},\"type\":\"scatter\"}],\"scatterternary\":[{\"marker\":{\"colorbar\":{\"outlinewidth\":0,\"ticks\":\"\"}},\"type\":\"scatterternary\"}],\"surface\":[{\"colorbar\":{\"outlinewidth\":0,\"ticks\":\"\"},\"colorscale\":[[0.0,\"#0d0887\"],[0.1111111111111111,\"#46039f\"],[0.2222222222222222,\"#7201a8\"],[0.3333333333333333,\"#9c179e\"],[0.4444444444444444,\"#bd3786\"],[0.5555555555555556,\"#d8576b\"],[0.6666666666666666,\"#ed7953\"],[0.7777777777777778,\"#fb9f3a\"],[0.8888888888888888,\"#fdca26\"],[1.0,\"#f0f921\"]],\"type\":\"surface\"}],\"table\":[{\"cells\":{\"fill\":{\"color\":\"#EBF0F8\"},\"line\":{\"color\":\"white\"}},\"header\":{\"fill\":{\"color\":\"#C8D4E3\"},\"line\":{\"color\":\"white\"}},\"type\":\"table\"}]},\"layout\":{\"annotationdefaults\":{\"arrowcolor\":\"#2a3f5f\",\"arrowhead\":0,\"arrowwidth\":1},\"autotypenumbers\":\"strict\",\"coloraxis\":{\"colorbar\":{\"outlinewidth\":0,\"ticks\":\"\"}},\"colorscale\":{\"diverging\":[[0,\"#8e0152\"],[0.1,\"#c51b7d\"],[0.2,\"#de77ae\"],[0.3,\"#f1b6da\"],[0.4,\"#fde0ef\"],[0.5,\"#f7f7f7\"],[0.6,\"#e6f5d0\"],[0.7,\"#b8e186\"],[0.8,\"#7fbc41\"],[0.9,\"#4d9221\"],[1,\"#276419\"]],\"sequential\":[[0.0,\"#0d0887\"],[0.1111111111111111,\"#46039f\"],[0.2222222222222222,\"#7201a8\"],[0.3333333333333333,\"#9c179e\"],[0.4444444444444444,\"#bd3786\"],[0.5555555555555556,\"#d8576b\"],[0.6666666666666666,\"#ed7953\"],[0.7777777777777778,\"#fb9f3a\"],[0.8888888888888888,\"#fdca26\"],[1.0,\"#f0f921\"]],\"sequentialminus\":[[0.0,\"#0d0887\"],[0.1111111111111111,\"#46039f\"],[0.2222222222222222,\"#7201a8\"],[0.3333333333333333,\"#9c179e\"],[0.4444444444444444,\"#bd3786\"],[0.5555555555555556,\"#d8576b\"],[0.6666666666666666,\"#ed7953\"],[0.7777777777777778,\"#fb9f3a\"],[0.8888888888888888,\"#fdca26\"],[1.0,\"#f0f921\"]]},\"colorway\":[\"#636efa\",\"#EF553B\",\"#00cc96\",\"#ab63fa\",\"#FFA15A\",\"#19d3f3\",\"#FF6692\",\"#B6E880\",\"#FF97FF\",\"#FECB52\"],\"font\":{\"color\":\"#2a3f5f\"},\"geo\":{\"bgcolor\":\"white\",\"lakecolor\":\"white\",\"landcolor\":\"white\",\"showlakes\":true,\"showland\":true,\"subunitcolor\":\"#C8D4E3\"},\"hoverlabel\":{\"align\":\"left\"},\"hovermode\":\"closest\",\"mapbox\":{\"style\":\"light\"},\"paper_bgcolor\":\"white\",\"plot_bgcolor\":\"white\",\"polar\":{\"angularaxis\":{\"gridcolor\":\"#EBF0F8\",\"linecolor\":\"#EBF0F8\",\"ticks\":\"\"},\"bgcolor\":\"white\",\"radialaxis\":{\"gridcolor\":\"#EBF0F8\",\"linecolor\":\"#EBF0F8\",\"ticks\":\"\"}},\"scene\":{\"xaxis\":{\"backgroundcolor\":\"white\",\"gridcolor\":\"#DFE8F3\",\"gridwidth\":2,\"linecolor\":\"#EBF0F8\",\"showbackground\":true,\"ticks\":\"\",\"zerolinecolor\":\"#EBF0F8\"},\"yaxis\":{\"backgroundcolor\":\"white\",\"gridcolor\":\"#DFE8F3\",\"gridwidth\":2,\"linecolor\":\"#EBF0F8\",\"showbackground\":true,\"ticks\":\"\",\"zerolinecolor\":\"#EBF0F8\"},\"zaxis\":{\"backgroundcolor\":\"white\",\"gridcolor\":\"#DFE8F3\",\"gridwidth\":2,\"linecolor\":\"#EBF0F8\",\"showbackground\":true,\"ticks\":\"\",\"zerolinecolor\":\"#EBF0F8\"}},\"shapedefaults\":{\"line\":{\"color\":\"#2a3f5f\"}},\"ternary\":{\"aaxis\":{\"gridcolor\":\"#DFE8F3\",\"linecolor\":\"#A2B1C6\",\"ticks\":\"\"},\"baxis\":{\"gridcolor\":\"#DFE8F3\",\"linecolor\":\"#A2B1C6\",\"ticks\":\"\"},\"bgcolor\":\"white\",\"caxis\":{\"gridcolor\":\"#DFE8F3\",\"linecolor\":\"#A2B1C6\",\"ticks\":\"\"}},\"title\":{\"x\":0.05},\"xaxis\":{\"automargin\":true,\"gridcolor\":\"#EBF0F8\",\"linecolor\":\"#EBF0F8\",\"ticks\":\"\",\"title\":{\"standoff\":15},\"zerolinecolor\":\"#EBF0F8\",\"zerolinewidth\":2},\"yaxis\":{\"automargin\":true,\"gridcolor\":\"#EBF0F8\",\"linecolor\":\"#EBF0F8\",\"ticks\":\"\",\"title\":{\"standoff\":15},\"zerolinecolor\":\"#EBF0F8\",\"zerolinewidth\":2}}},\"yaxis\":{\"minor\":{\"showgrid\":true,\"griddash\":\"dash\",\"gridcolor\":\"gray\",\"gridwidth\":0.5,\"dtick\":0.05},\"showline\":true,\"linecolor\":\"black\",\"linewidth\":1,\"showgrid\":true,\"gridcolor\":\"gray\",\"gridwidth\":1,\"dtick\":0.1,\"range\":[0,1.2],\"title\":{\"text\":\"Mean Value\"}},\"xaxis\":{\"showline\":true,\"linecolor\":\"#000000\",\"linewidth\":1},\"title\":{\"font\":{\"size\":20,\"weight\":1000},\"text\":\"Performance Comparison of EC-based Reaction Prediction Methods\",\"x\":0.5,\"y\":0.05,\"xanchor\":\"center\"},\"legend\":{\"orientation\":\"h\",\"yanchor\":\"bottom\",\"y\":0.99,\"xanchor\":\"center\",\"x\":0.5,\"tracegroupgap\":2,\"borderwidth\":1},\"width\":1600,\"height\":600,\"barmode\":\"group\",\"bargap\":0.29},                        {\"responsive\": true}                    ).then(function(){\n",
       "                            \n",
       "var gd = document.getElementById('0abed72e-a9c1-463c-acf6-6436d2b066d4');\n",
       "var x = new MutationObserver(function (mutations, observer) {{\n",
       "        var display = window.getComputedStyle(gd).display;\n",
       "        if (!display || display === 'none') {{\n",
       "            console.log([gd, 'removed!']);\n",
       "            Plotly.purge(gd);\n",
       "            observer.disconnect();\n",
       "        }}\n",
       "}});\n",
       "\n",
       "// Listen for the removal of the full notebook cells\n",
       "var notebookContainer = gd.closest('#notebook-container');\n",
       "if (notebookContainer) {{\n",
       "    x.observe(notebookContainer, {childList: true});\n",
       "}}\n",
       "\n",
       "// Listen for the clearing of the current output cell\n",
       "var outputEl = gd.closest('.output');\n",
       "if (outputEl) {{\n",
       "    x.observe(outputEl, {childList: true});\n",
       "}}\n",
       "\n",
       "                        })                };                });            </script>        </div>"
      ]
     },
     "metadata": {},
     "output_type": "display_data"
    }
   ],
   "source": [
    "evTools.show_ec_methods_10_eva_fig(res_metrics_data=res_std[res_std.avgType =='micro'].reset_index(drop=True))"
   ]
  },
  {
   "cell_type": "code",
   "execution_count": 24,
   "metadata": {},
   "outputs": [
    {
     "data": {
      "application/vnd.plotly.v1+json": {
       "config": {
        "plotlyServerURL": "https://plot.ly"
       },
       "data": [
        {
         "error_y": {
          "array": [
           0.04121757985239901,
           0.0028855083533283273,
           0.03925094731937098,
           0.03886671294223735
          ],
          "type": "data",
          "visible": true
         },
         "marker": {
          "color": "#8ECFC9",
          "line": {
           "color": "black",
           "width": 0.5
          }
         },
         "name": "deepec",
         "type": "bar",
         "width": 0.11,
         "x": [
          "mAccuracy",
          "mPrecision",
          "mRecall",
          "mF1"
         ],
         "y": [
          0.29100000000000004,
          0.998728094968909,
          0.31202162258813876,
          0.3134370276421897
         ]
        },
        {
         "error_y": {
          "array": [
           0.047010637094172636,
           0.017087858758187278,
           0.04963957663143487,
           0.0507658279481191
          ],
          "type": "data",
          "visible": true
         },
         "marker": {
          "color": "#FFBE7A",
          "line": {
           "color": "black",
           "width": 0.5
          }
         },
         "name": "clean",
         "type": "bar",
         "width": 0.11,
         "x": [
          "mAccuracy",
          "mPrecision",
          "mRecall",
          "mF1"
         ],
         "y": [
          0.319,
          0.970051182812855,
          0.3537709785252731,
          0.34364064780757825
         ]
        },
        {
         "error_y": {
          "array": [
           0.029608557321603272,
           0.020389522876860824,
           0.05439368674503516,
           0.05560643537692463
          ],
          "type": "data",
          "visible": true
         },
         "marker": {
          "color": "#FA7F6F",
          "line": {
           "color": "black",
           "width": 0.5
          }
         },
         "name": "priam",
         "type": "bar",
         "width": 0.11,
         "x": [
          "mAccuracy",
          "mPrecision",
          "mRecall",
          "mF1"
         ],
         "y": [
          0.081,
          0.9609667063325441,
          0.37952340641856674,
          0.3532767498904887
         ]
        },
        {
         "error_y": {
          "array": [
           0.02708012801545322,
           0.014814448776326719,
           0.041817249066098135,
           0.048100447395100956
          ],
          "type": "data",
          "visible": true
         },
         "marker": {
          "color": "#82B0D2",
          "line": {
           "color": "black",
           "width": 0.5
          }
         },
         "name": "catfam",
         "type": "bar",
         "width": 0.11,
         "x": [
          "mAccuracy",
          "mPrecision",
          "mRecall",
          "mF1"
         ],
         "y": [
          0.75,
          0.9040446187747138,
          0.6955944151265401,
          0.6483083720527197
         ]
        },
        {
         "error_y": {
          "array": [
           0.027100635498903795,
           0.007700843694761075,
           0.0375986257488622,
           0.04096967298154308
          ],
          "type": "data",
          "visible": true
         },
         "marker": {
          "color": "#BEB8DC",
          "line": {
           "color": "black",
           "width": 0.5
          }
         },
         "name": "ecrecer",
         "type": "bar",
         "width": 0.11,
         "x": [
          "mAccuracy",
          "mPrecision",
          "mRecall",
          "mF1"
         ],
         "y": [
          0.8629999999999999,
          0.9865355782619727,
          0.7841832471815625,
          0.7814871301679579
         ]
        },
        {
         "error_y": {
          "array": [
           0.0019115819805278122,
           0.004542880311051568,
           0.0024851122710648666,
           0.0024752069457297386
          ],
          "type": "data",
          "visible": true
         },
         "marker": {
          "color": "#E7DAD2",
          "line": {
           "color": "black",
           "width": 0.5
          }
         },
         "name": "blast",
         "type": "bar",
         "width": 0.11,
         "x": [
          "mAccuracy",
          "mPrecision",
          "mRecall",
          "mF1"
         ],
         "y": [
          0.836433559674649,
          0.8111410687329365,
          0.7878154288716464,
          0.7825911699752724
         ]
        }
       ],
       "layout": {
        "bargap": 0.29,
        "barmode": "group",
        "height": 600,
        "legend": {
         "borderwidth": 1,
         "orientation": "h",
         "tracegroupgap": 2,
         "x": 0.5,
         "xanchor": "center",
         "y": 0.99,
         "yanchor": "bottom"
        },
        "template": {
         "data": {
          "bar": [
           {
            "error_x": {
             "color": "#2a3f5f"
            },
            "error_y": {
             "color": "#2a3f5f"
            },
            "marker": {
             "line": {
              "color": "white",
              "width": 0.5
             },
             "pattern": {
              "fillmode": "overlay",
              "size": 10,
              "solidity": 0.2
             }
            },
            "type": "bar"
           }
          ],
          "barpolar": [
           {
            "marker": {
             "line": {
              "color": "white",
              "width": 0.5
             },
             "pattern": {
              "fillmode": "overlay",
              "size": 10,
              "solidity": 0.2
             }
            },
            "type": "barpolar"
           }
          ],
          "carpet": [
           {
            "aaxis": {
             "endlinecolor": "#2a3f5f",
             "gridcolor": "#C8D4E3",
             "linecolor": "#C8D4E3",
             "minorgridcolor": "#C8D4E3",
             "startlinecolor": "#2a3f5f"
            },
            "baxis": {
             "endlinecolor": "#2a3f5f",
             "gridcolor": "#C8D4E3",
             "linecolor": "#C8D4E3",
             "minorgridcolor": "#C8D4E3",
             "startlinecolor": "#2a3f5f"
            },
            "type": "carpet"
           }
          ],
          "choropleth": [
           {
            "colorbar": {
             "outlinewidth": 0,
             "ticks": ""
            },
            "type": "choropleth"
           }
          ],
          "contour": [
           {
            "colorbar": {
             "outlinewidth": 0,
             "ticks": ""
            },
            "colorscale": [
             [
              0,
              "#0d0887"
             ],
             [
              0.1111111111111111,
              "#46039f"
             ],
             [
              0.2222222222222222,
              "#7201a8"
             ],
             [
              0.3333333333333333,
              "#9c179e"
             ],
             [
              0.4444444444444444,
              "#bd3786"
             ],
             [
              0.5555555555555556,
              "#d8576b"
             ],
             [
              0.6666666666666666,
              "#ed7953"
             ],
             [
              0.7777777777777778,
              "#fb9f3a"
             ],
             [
              0.8888888888888888,
              "#fdca26"
             ],
             [
              1,
              "#f0f921"
             ]
            ],
            "type": "contour"
           }
          ],
          "contourcarpet": [
           {
            "colorbar": {
             "outlinewidth": 0,
             "ticks": ""
            },
            "type": "contourcarpet"
           }
          ],
          "heatmap": [
           {
            "colorbar": {
             "outlinewidth": 0,
             "ticks": ""
            },
            "colorscale": [
             [
              0,
              "#0d0887"
             ],
             [
              0.1111111111111111,
              "#46039f"
             ],
             [
              0.2222222222222222,
              "#7201a8"
             ],
             [
              0.3333333333333333,
              "#9c179e"
             ],
             [
              0.4444444444444444,
              "#bd3786"
             ],
             [
              0.5555555555555556,
              "#d8576b"
             ],
             [
              0.6666666666666666,
              "#ed7953"
             ],
             [
              0.7777777777777778,
              "#fb9f3a"
             ],
             [
              0.8888888888888888,
              "#fdca26"
             ],
             [
              1,
              "#f0f921"
             ]
            ],
            "type": "heatmap"
           }
          ],
          "heatmapgl": [
           {
            "colorbar": {
             "outlinewidth": 0,
             "ticks": ""
            },
            "colorscale": [
             [
              0,
              "#0d0887"
             ],
             [
              0.1111111111111111,
              "#46039f"
             ],
             [
              0.2222222222222222,
              "#7201a8"
             ],
             [
              0.3333333333333333,
              "#9c179e"
             ],
             [
              0.4444444444444444,
              "#bd3786"
             ],
             [
              0.5555555555555556,
              "#d8576b"
             ],
             [
              0.6666666666666666,
              "#ed7953"
             ],
             [
              0.7777777777777778,
              "#fb9f3a"
             ],
             [
              0.8888888888888888,
              "#fdca26"
             ],
             [
              1,
              "#f0f921"
             ]
            ],
            "type": "heatmapgl"
           }
          ],
          "histogram": [
           {
            "marker": {
             "pattern": {
              "fillmode": "overlay",
              "size": 10,
              "solidity": 0.2
             }
            },
            "type": "histogram"
           }
          ],
          "histogram2d": [
           {
            "colorbar": {
             "outlinewidth": 0,
             "ticks": ""
            },
            "colorscale": [
             [
              0,
              "#0d0887"
             ],
             [
              0.1111111111111111,
              "#46039f"
             ],
             [
              0.2222222222222222,
              "#7201a8"
             ],
             [
              0.3333333333333333,
              "#9c179e"
             ],
             [
              0.4444444444444444,
              "#bd3786"
             ],
             [
              0.5555555555555556,
              "#d8576b"
             ],
             [
              0.6666666666666666,
              "#ed7953"
             ],
             [
              0.7777777777777778,
              "#fb9f3a"
             ],
             [
              0.8888888888888888,
              "#fdca26"
             ],
             [
              1,
              "#f0f921"
             ]
            ],
            "type": "histogram2d"
           }
          ],
          "histogram2dcontour": [
           {
            "colorbar": {
             "outlinewidth": 0,
             "ticks": ""
            },
            "colorscale": [
             [
              0,
              "#0d0887"
             ],
             [
              0.1111111111111111,
              "#46039f"
             ],
             [
              0.2222222222222222,
              "#7201a8"
             ],
             [
              0.3333333333333333,
              "#9c179e"
             ],
             [
              0.4444444444444444,
              "#bd3786"
             ],
             [
              0.5555555555555556,
              "#d8576b"
             ],
             [
              0.6666666666666666,
              "#ed7953"
             ],
             [
              0.7777777777777778,
              "#fb9f3a"
             ],
             [
              0.8888888888888888,
              "#fdca26"
             ],
             [
              1,
              "#f0f921"
             ]
            ],
            "type": "histogram2dcontour"
           }
          ],
          "mesh3d": [
           {
            "colorbar": {
             "outlinewidth": 0,
             "ticks": ""
            },
            "type": "mesh3d"
           }
          ],
          "parcoords": [
           {
            "line": {
             "colorbar": {
              "outlinewidth": 0,
              "ticks": ""
             }
            },
            "type": "parcoords"
           }
          ],
          "pie": [
           {
            "automargin": true,
            "type": "pie"
           }
          ],
          "scatter": [
           {
            "fillpattern": {
             "fillmode": "overlay",
             "size": 10,
             "solidity": 0.2
            },
            "type": "scatter"
           }
          ],
          "scatter3d": [
           {
            "line": {
             "colorbar": {
              "outlinewidth": 0,
              "ticks": ""
             }
            },
            "marker": {
             "colorbar": {
              "outlinewidth": 0,
              "ticks": ""
             }
            },
            "type": "scatter3d"
           }
          ],
          "scattercarpet": [
           {
            "marker": {
             "colorbar": {
              "outlinewidth": 0,
              "ticks": ""
             }
            },
            "type": "scattercarpet"
           }
          ],
          "scattergeo": [
           {
            "marker": {
             "colorbar": {
              "outlinewidth": 0,
              "ticks": ""
             }
            },
            "type": "scattergeo"
           }
          ],
          "scattergl": [
           {
            "marker": {
             "colorbar": {
              "outlinewidth": 0,
              "ticks": ""
             }
            },
            "type": "scattergl"
           }
          ],
          "scattermapbox": [
           {
            "marker": {
             "colorbar": {
              "outlinewidth": 0,
              "ticks": ""
             }
            },
            "type": "scattermapbox"
           }
          ],
          "scatterpolar": [
           {
            "marker": {
             "colorbar": {
              "outlinewidth": 0,
              "ticks": ""
             }
            },
            "type": "scatterpolar"
           }
          ],
          "scatterpolargl": [
           {
            "marker": {
             "colorbar": {
              "outlinewidth": 0,
              "ticks": ""
             }
            },
            "type": "scatterpolargl"
           }
          ],
          "scatterternary": [
           {
            "marker": {
             "colorbar": {
              "outlinewidth": 0,
              "ticks": ""
             }
            },
            "type": "scatterternary"
           }
          ],
          "surface": [
           {
            "colorbar": {
             "outlinewidth": 0,
             "ticks": ""
            },
            "colorscale": [
             [
              0,
              "#0d0887"
             ],
             [
              0.1111111111111111,
              "#46039f"
             ],
             [
              0.2222222222222222,
              "#7201a8"
             ],
             [
              0.3333333333333333,
              "#9c179e"
             ],
             [
              0.4444444444444444,
              "#bd3786"
             ],
             [
              0.5555555555555556,
              "#d8576b"
             ],
             [
              0.6666666666666666,
              "#ed7953"
             ],
             [
              0.7777777777777778,
              "#fb9f3a"
             ],
             [
              0.8888888888888888,
              "#fdca26"
             ],
             [
              1,
              "#f0f921"
             ]
            ],
            "type": "surface"
           }
          ],
          "table": [
           {
            "cells": {
             "fill": {
              "color": "#EBF0F8"
             },
             "line": {
              "color": "white"
             }
            },
            "header": {
             "fill": {
              "color": "#C8D4E3"
             },
             "line": {
              "color": "white"
             }
            },
            "type": "table"
           }
          ]
         },
         "layout": {
          "annotationdefaults": {
           "arrowcolor": "#2a3f5f",
           "arrowhead": 0,
           "arrowwidth": 1
          },
          "autotypenumbers": "strict",
          "coloraxis": {
           "colorbar": {
            "outlinewidth": 0,
            "ticks": ""
           }
          },
          "colorscale": {
           "diverging": [
            [
             0,
             "#8e0152"
            ],
            [
             0.1,
             "#c51b7d"
            ],
            [
             0.2,
             "#de77ae"
            ],
            [
             0.3,
             "#f1b6da"
            ],
            [
             0.4,
             "#fde0ef"
            ],
            [
             0.5,
             "#f7f7f7"
            ],
            [
             0.6,
             "#e6f5d0"
            ],
            [
             0.7,
             "#b8e186"
            ],
            [
             0.8,
             "#7fbc41"
            ],
            [
             0.9,
             "#4d9221"
            ],
            [
             1,
             "#276419"
            ]
           ],
           "sequential": [
            [
             0,
             "#0d0887"
            ],
            [
             0.1111111111111111,
             "#46039f"
            ],
            [
             0.2222222222222222,
             "#7201a8"
            ],
            [
             0.3333333333333333,
             "#9c179e"
            ],
            [
             0.4444444444444444,
             "#bd3786"
            ],
            [
             0.5555555555555556,
             "#d8576b"
            ],
            [
             0.6666666666666666,
             "#ed7953"
            ],
            [
             0.7777777777777778,
             "#fb9f3a"
            ],
            [
             0.8888888888888888,
             "#fdca26"
            ],
            [
             1,
             "#f0f921"
            ]
           ],
           "sequentialminus": [
            [
             0,
             "#0d0887"
            ],
            [
             0.1111111111111111,
             "#46039f"
            ],
            [
             0.2222222222222222,
             "#7201a8"
            ],
            [
             0.3333333333333333,
             "#9c179e"
            ],
            [
             0.4444444444444444,
             "#bd3786"
            ],
            [
             0.5555555555555556,
             "#d8576b"
            ],
            [
             0.6666666666666666,
             "#ed7953"
            ],
            [
             0.7777777777777778,
             "#fb9f3a"
            ],
            [
             0.8888888888888888,
             "#fdca26"
            ],
            [
             1,
             "#f0f921"
            ]
           ]
          },
          "colorway": [
           "#636efa",
           "#EF553B",
           "#00cc96",
           "#ab63fa",
           "#FFA15A",
           "#19d3f3",
           "#FF6692",
           "#B6E880",
           "#FF97FF",
           "#FECB52"
          ],
          "font": {
           "color": "#2a3f5f"
          },
          "geo": {
           "bgcolor": "white",
           "lakecolor": "white",
           "landcolor": "white",
           "showlakes": true,
           "showland": true,
           "subunitcolor": "#C8D4E3"
          },
          "hoverlabel": {
           "align": "left"
          },
          "hovermode": "closest",
          "mapbox": {
           "style": "light"
          },
          "paper_bgcolor": "white",
          "plot_bgcolor": "white",
          "polar": {
           "angularaxis": {
            "gridcolor": "#EBF0F8",
            "linecolor": "#EBF0F8",
            "ticks": ""
           },
           "bgcolor": "white",
           "radialaxis": {
            "gridcolor": "#EBF0F8",
            "linecolor": "#EBF0F8",
            "ticks": ""
           }
          },
          "scene": {
           "xaxis": {
            "backgroundcolor": "white",
            "gridcolor": "#DFE8F3",
            "gridwidth": 2,
            "linecolor": "#EBF0F8",
            "showbackground": true,
            "ticks": "",
            "zerolinecolor": "#EBF0F8"
           },
           "yaxis": {
            "backgroundcolor": "white",
            "gridcolor": "#DFE8F3",
            "gridwidth": 2,
            "linecolor": "#EBF0F8",
            "showbackground": true,
            "ticks": "",
            "zerolinecolor": "#EBF0F8"
           },
           "zaxis": {
            "backgroundcolor": "white",
            "gridcolor": "#DFE8F3",
            "gridwidth": 2,
            "linecolor": "#EBF0F8",
            "showbackground": true,
            "ticks": "",
            "zerolinecolor": "#EBF0F8"
           }
          },
          "shapedefaults": {
           "line": {
            "color": "#2a3f5f"
           }
          },
          "ternary": {
           "aaxis": {
            "gridcolor": "#DFE8F3",
            "linecolor": "#A2B1C6",
            "ticks": ""
           },
           "baxis": {
            "gridcolor": "#DFE8F3",
            "linecolor": "#A2B1C6",
            "ticks": ""
           },
           "bgcolor": "white",
           "caxis": {
            "gridcolor": "#DFE8F3",
            "linecolor": "#A2B1C6",
            "ticks": ""
           }
          },
          "title": {
           "x": 0.05
          },
          "xaxis": {
           "automargin": true,
           "gridcolor": "#EBF0F8",
           "linecolor": "#EBF0F8",
           "ticks": "",
           "title": {
            "standoff": 15
           },
           "zerolinecolor": "#EBF0F8",
           "zerolinewidth": 2
          },
          "yaxis": {
           "automargin": true,
           "gridcolor": "#EBF0F8",
           "linecolor": "#EBF0F8",
           "ticks": "",
           "title": {
            "standoff": 15
           },
           "zerolinecolor": "#EBF0F8",
           "zerolinewidth": 2
          }
         }
        },
        "title": {
         "font": {
          "size": 20,
          "weight": 1000
         },
         "text": "Performance Comparison of EC-based Reaction Prediction Methods",
         "x": 0.5,
         "xanchor": "center",
         "y": 0.05
        },
        "width": 1600,
        "xaxis": {
         "linecolor": "#000000",
         "linewidth": 1,
         "showline": true
        },
        "yaxis": {
         "dtick": 0.1,
         "gridcolor": "gray",
         "gridwidth": 1,
         "linecolor": "black",
         "linewidth": 1,
         "minor": {
          "dtick": 0.05,
          "gridcolor": "gray",
          "griddash": "dash",
          "gridwidth": 0.5,
          "showgrid": true
         },
         "range": [
          0,
          1.2
         ],
         "showgrid": true,
         "showline": true,
         "title": {
          "text": "Mean Value"
         }
        }
       }
      },
      "text/html": [
       "<div>                            <div id=\"f1ff089e-bd69-41d9-af96-b4cc8a2e1f2e\" class=\"plotly-graph-div\" style=\"height:600px; width:1600px;\"></div>            <script type=\"text/javascript\">                require([\"plotly\"], function(Plotly) {                    window.PLOTLYENV=window.PLOTLYENV || {};                                    if (document.getElementById(\"f1ff089e-bd69-41d9-af96-b4cc8a2e1f2e\")) {                    Plotly.newPlot(                        \"f1ff089e-bd69-41d9-af96-b4cc8a2e1f2e\",                        [{\"error_y\":{\"array\":[0.04121757985239901,0.0028855083533283273,0.03925094731937098,0.03886671294223735],\"type\":\"data\",\"visible\":true},\"marker\":{\"color\":\"#8ECFC9\",\"line\":{\"color\":\"black\",\"width\":0.5}},\"name\":\"deepec\",\"width\":0.11,\"x\":[\"mAccuracy\",\"mPrecision\",\"mRecall\",\"mF1\"],\"y\":[0.29100000000000004,0.998728094968909,0.31202162258813876,0.3134370276421897],\"type\":\"bar\"},{\"error_y\":{\"array\":[0.047010637094172636,0.017087858758187278,0.04963957663143487,0.0507658279481191],\"type\":\"data\",\"visible\":true},\"marker\":{\"color\":\"#FFBE7A\",\"line\":{\"color\":\"black\",\"width\":0.5}},\"name\":\"clean\",\"width\":0.11,\"x\":[\"mAccuracy\",\"mPrecision\",\"mRecall\",\"mF1\"],\"y\":[0.319,0.970051182812855,0.3537709785252731,0.34364064780757825],\"type\":\"bar\"},{\"error_y\":{\"array\":[0.029608557321603272,0.020389522876860824,0.05439368674503516,0.05560643537692463],\"type\":\"data\",\"visible\":true},\"marker\":{\"color\":\"#FA7F6F\",\"line\":{\"color\":\"black\",\"width\":0.5}},\"name\":\"priam\",\"width\":0.11,\"x\":[\"mAccuracy\",\"mPrecision\",\"mRecall\",\"mF1\"],\"y\":[0.081,0.9609667063325441,0.37952340641856674,0.3532767498904887],\"type\":\"bar\"},{\"error_y\":{\"array\":[0.02708012801545322,0.014814448776326719,0.041817249066098135,0.048100447395100956],\"type\":\"data\",\"visible\":true},\"marker\":{\"color\":\"#82B0D2\",\"line\":{\"color\":\"black\",\"width\":0.5}},\"name\":\"catfam\",\"width\":0.11,\"x\":[\"mAccuracy\",\"mPrecision\",\"mRecall\",\"mF1\"],\"y\":[0.75,0.9040446187747138,0.6955944151265401,0.6483083720527197],\"type\":\"bar\"},{\"error_y\":{\"array\":[0.027100635498903795,0.007700843694761075,0.0375986257488622,0.04096967298154308],\"type\":\"data\",\"visible\":true},\"marker\":{\"color\":\"#BEB8DC\",\"line\":{\"color\":\"black\",\"width\":0.5}},\"name\":\"ecrecer\",\"width\":0.11,\"x\":[\"mAccuracy\",\"mPrecision\",\"mRecall\",\"mF1\"],\"y\":[0.8629999999999999,0.9865355782619727,0.7841832471815625,0.7814871301679579],\"type\":\"bar\"},{\"error_y\":{\"array\":[0.0019115819805278122,0.004542880311051568,0.0024851122710648666,0.0024752069457297386],\"type\":\"data\",\"visible\":true},\"marker\":{\"color\":\"#E7DAD2\",\"line\":{\"color\":\"black\",\"width\":0.5}},\"name\":\"blast\",\"width\":0.11,\"x\":[\"mAccuracy\",\"mPrecision\",\"mRecall\",\"mF1\"],\"y\":[0.836433559674649,0.8111410687329365,0.7878154288716464,0.7825911699752724],\"type\":\"bar\"}],                        {\"template\":{\"data\":{\"barpolar\":[{\"marker\":{\"line\":{\"color\":\"white\",\"width\":0.5},\"pattern\":{\"fillmode\":\"overlay\",\"size\":10,\"solidity\":0.2}},\"type\":\"barpolar\"}],\"bar\":[{\"error_x\":{\"color\":\"#2a3f5f\"},\"error_y\":{\"color\":\"#2a3f5f\"},\"marker\":{\"line\":{\"color\":\"white\",\"width\":0.5},\"pattern\":{\"fillmode\":\"overlay\",\"size\":10,\"solidity\":0.2}},\"type\":\"bar\"}],\"carpet\":[{\"aaxis\":{\"endlinecolor\":\"#2a3f5f\",\"gridcolor\":\"#C8D4E3\",\"linecolor\":\"#C8D4E3\",\"minorgridcolor\":\"#C8D4E3\",\"startlinecolor\":\"#2a3f5f\"},\"baxis\":{\"endlinecolor\":\"#2a3f5f\",\"gridcolor\":\"#C8D4E3\",\"linecolor\":\"#C8D4E3\",\"minorgridcolor\":\"#C8D4E3\",\"startlinecolor\":\"#2a3f5f\"},\"type\":\"carpet\"}],\"choropleth\":[{\"colorbar\":{\"outlinewidth\":0,\"ticks\":\"\"},\"type\":\"choropleth\"}],\"contourcarpet\":[{\"colorbar\":{\"outlinewidth\":0,\"ticks\":\"\"},\"type\":\"contourcarpet\"}],\"contour\":[{\"colorbar\":{\"outlinewidth\":0,\"ticks\":\"\"},\"colorscale\":[[0.0,\"#0d0887\"],[0.1111111111111111,\"#46039f\"],[0.2222222222222222,\"#7201a8\"],[0.3333333333333333,\"#9c179e\"],[0.4444444444444444,\"#bd3786\"],[0.5555555555555556,\"#d8576b\"],[0.6666666666666666,\"#ed7953\"],[0.7777777777777778,\"#fb9f3a\"],[0.8888888888888888,\"#fdca26\"],[1.0,\"#f0f921\"]],\"type\":\"contour\"}],\"heatmapgl\":[{\"colorbar\":{\"outlinewidth\":0,\"ticks\":\"\"},\"colorscale\":[[0.0,\"#0d0887\"],[0.1111111111111111,\"#46039f\"],[0.2222222222222222,\"#7201a8\"],[0.3333333333333333,\"#9c179e\"],[0.4444444444444444,\"#bd3786\"],[0.5555555555555556,\"#d8576b\"],[0.6666666666666666,\"#ed7953\"],[0.7777777777777778,\"#fb9f3a\"],[0.8888888888888888,\"#fdca26\"],[1.0,\"#f0f921\"]],\"type\":\"heatmapgl\"}],\"heatmap\":[{\"colorbar\":{\"outlinewidth\":0,\"ticks\":\"\"},\"colorscale\":[[0.0,\"#0d0887\"],[0.1111111111111111,\"#46039f\"],[0.2222222222222222,\"#7201a8\"],[0.3333333333333333,\"#9c179e\"],[0.4444444444444444,\"#bd3786\"],[0.5555555555555556,\"#d8576b\"],[0.6666666666666666,\"#ed7953\"],[0.7777777777777778,\"#fb9f3a\"],[0.8888888888888888,\"#fdca26\"],[1.0,\"#f0f921\"]],\"type\":\"heatmap\"}],\"histogram2dcontour\":[{\"colorbar\":{\"outlinewidth\":0,\"ticks\":\"\"},\"colorscale\":[[0.0,\"#0d0887\"],[0.1111111111111111,\"#46039f\"],[0.2222222222222222,\"#7201a8\"],[0.3333333333333333,\"#9c179e\"],[0.4444444444444444,\"#bd3786\"],[0.5555555555555556,\"#d8576b\"],[0.6666666666666666,\"#ed7953\"],[0.7777777777777778,\"#fb9f3a\"],[0.8888888888888888,\"#fdca26\"],[1.0,\"#f0f921\"]],\"type\":\"histogram2dcontour\"}],\"histogram2d\":[{\"colorbar\":{\"outlinewidth\":0,\"ticks\":\"\"},\"colorscale\":[[0.0,\"#0d0887\"],[0.1111111111111111,\"#46039f\"],[0.2222222222222222,\"#7201a8\"],[0.3333333333333333,\"#9c179e\"],[0.4444444444444444,\"#bd3786\"],[0.5555555555555556,\"#d8576b\"],[0.6666666666666666,\"#ed7953\"],[0.7777777777777778,\"#fb9f3a\"],[0.8888888888888888,\"#fdca26\"],[1.0,\"#f0f921\"]],\"type\":\"histogram2d\"}],\"histogram\":[{\"marker\":{\"pattern\":{\"fillmode\":\"overlay\",\"size\":10,\"solidity\":0.2}},\"type\":\"histogram\"}],\"mesh3d\":[{\"colorbar\":{\"outlinewidth\":0,\"ticks\":\"\"},\"type\":\"mesh3d\"}],\"parcoords\":[{\"line\":{\"colorbar\":{\"outlinewidth\":0,\"ticks\":\"\"}},\"type\":\"parcoords\"}],\"pie\":[{\"automargin\":true,\"type\":\"pie\"}],\"scatter3d\":[{\"line\":{\"colorbar\":{\"outlinewidth\":0,\"ticks\":\"\"}},\"marker\":{\"colorbar\":{\"outlinewidth\":0,\"ticks\":\"\"}},\"type\":\"scatter3d\"}],\"scattercarpet\":[{\"marker\":{\"colorbar\":{\"outlinewidth\":0,\"ticks\":\"\"}},\"type\":\"scattercarpet\"}],\"scattergeo\":[{\"marker\":{\"colorbar\":{\"outlinewidth\":0,\"ticks\":\"\"}},\"type\":\"scattergeo\"}],\"scattergl\":[{\"marker\":{\"colorbar\":{\"outlinewidth\":0,\"ticks\":\"\"}},\"type\":\"scattergl\"}],\"scattermapbox\":[{\"marker\":{\"colorbar\":{\"outlinewidth\":0,\"ticks\":\"\"}},\"type\":\"scattermapbox\"}],\"scatterpolargl\":[{\"marker\":{\"colorbar\":{\"outlinewidth\":0,\"ticks\":\"\"}},\"type\":\"scatterpolargl\"}],\"scatterpolar\":[{\"marker\":{\"colorbar\":{\"outlinewidth\":0,\"ticks\":\"\"}},\"type\":\"scatterpolar\"}],\"scatter\":[{\"fillpattern\":{\"fillmode\":\"overlay\",\"size\":10,\"solidity\":0.2},\"type\":\"scatter\"}],\"scatterternary\":[{\"marker\":{\"colorbar\":{\"outlinewidth\":0,\"ticks\":\"\"}},\"type\":\"scatterternary\"}],\"surface\":[{\"colorbar\":{\"outlinewidth\":0,\"ticks\":\"\"},\"colorscale\":[[0.0,\"#0d0887\"],[0.1111111111111111,\"#46039f\"],[0.2222222222222222,\"#7201a8\"],[0.3333333333333333,\"#9c179e\"],[0.4444444444444444,\"#bd3786\"],[0.5555555555555556,\"#d8576b\"],[0.6666666666666666,\"#ed7953\"],[0.7777777777777778,\"#fb9f3a\"],[0.8888888888888888,\"#fdca26\"],[1.0,\"#f0f921\"]],\"type\":\"surface\"}],\"table\":[{\"cells\":{\"fill\":{\"color\":\"#EBF0F8\"},\"line\":{\"color\":\"white\"}},\"header\":{\"fill\":{\"color\":\"#C8D4E3\"},\"line\":{\"color\":\"white\"}},\"type\":\"table\"}]},\"layout\":{\"annotationdefaults\":{\"arrowcolor\":\"#2a3f5f\",\"arrowhead\":0,\"arrowwidth\":1},\"autotypenumbers\":\"strict\",\"coloraxis\":{\"colorbar\":{\"outlinewidth\":0,\"ticks\":\"\"}},\"colorscale\":{\"diverging\":[[0,\"#8e0152\"],[0.1,\"#c51b7d\"],[0.2,\"#de77ae\"],[0.3,\"#f1b6da\"],[0.4,\"#fde0ef\"],[0.5,\"#f7f7f7\"],[0.6,\"#e6f5d0\"],[0.7,\"#b8e186\"],[0.8,\"#7fbc41\"],[0.9,\"#4d9221\"],[1,\"#276419\"]],\"sequential\":[[0.0,\"#0d0887\"],[0.1111111111111111,\"#46039f\"],[0.2222222222222222,\"#7201a8\"],[0.3333333333333333,\"#9c179e\"],[0.4444444444444444,\"#bd3786\"],[0.5555555555555556,\"#d8576b\"],[0.6666666666666666,\"#ed7953\"],[0.7777777777777778,\"#fb9f3a\"],[0.8888888888888888,\"#fdca26\"],[1.0,\"#f0f921\"]],\"sequentialminus\":[[0.0,\"#0d0887\"],[0.1111111111111111,\"#46039f\"],[0.2222222222222222,\"#7201a8\"],[0.3333333333333333,\"#9c179e\"],[0.4444444444444444,\"#bd3786\"],[0.5555555555555556,\"#d8576b\"],[0.6666666666666666,\"#ed7953\"],[0.7777777777777778,\"#fb9f3a\"],[0.8888888888888888,\"#fdca26\"],[1.0,\"#f0f921\"]]},\"colorway\":[\"#636efa\",\"#EF553B\",\"#00cc96\",\"#ab63fa\",\"#FFA15A\",\"#19d3f3\",\"#FF6692\",\"#B6E880\",\"#FF97FF\",\"#FECB52\"],\"font\":{\"color\":\"#2a3f5f\"},\"geo\":{\"bgcolor\":\"white\",\"lakecolor\":\"white\",\"landcolor\":\"white\",\"showlakes\":true,\"showland\":true,\"subunitcolor\":\"#C8D4E3\"},\"hoverlabel\":{\"align\":\"left\"},\"hovermode\":\"closest\",\"mapbox\":{\"style\":\"light\"},\"paper_bgcolor\":\"white\",\"plot_bgcolor\":\"white\",\"polar\":{\"angularaxis\":{\"gridcolor\":\"#EBF0F8\",\"linecolor\":\"#EBF0F8\",\"ticks\":\"\"},\"bgcolor\":\"white\",\"radialaxis\":{\"gridcolor\":\"#EBF0F8\",\"linecolor\":\"#EBF0F8\",\"ticks\":\"\"}},\"scene\":{\"xaxis\":{\"backgroundcolor\":\"white\",\"gridcolor\":\"#DFE8F3\",\"gridwidth\":2,\"linecolor\":\"#EBF0F8\",\"showbackground\":true,\"ticks\":\"\",\"zerolinecolor\":\"#EBF0F8\"},\"yaxis\":{\"backgroundcolor\":\"white\",\"gridcolor\":\"#DFE8F3\",\"gridwidth\":2,\"linecolor\":\"#EBF0F8\",\"showbackground\":true,\"ticks\":\"\",\"zerolinecolor\":\"#EBF0F8\"},\"zaxis\":{\"backgroundcolor\":\"white\",\"gridcolor\":\"#DFE8F3\",\"gridwidth\":2,\"linecolor\":\"#EBF0F8\",\"showbackground\":true,\"ticks\":\"\",\"zerolinecolor\":\"#EBF0F8\"}},\"shapedefaults\":{\"line\":{\"color\":\"#2a3f5f\"}},\"ternary\":{\"aaxis\":{\"gridcolor\":\"#DFE8F3\",\"linecolor\":\"#A2B1C6\",\"ticks\":\"\"},\"baxis\":{\"gridcolor\":\"#DFE8F3\",\"linecolor\":\"#A2B1C6\",\"ticks\":\"\"},\"bgcolor\":\"white\",\"caxis\":{\"gridcolor\":\"#DFE8F3\",\"linecolor\":\"#A2B1C6\",\"ticks\":\"\"}},\"title\":{\"x\":0.05},\"xaxis\":{\"automargin\":true,\"gridcolor\":\"#EBF0F8\",\"linecolor\":\"#EBF0F8\",\"ticks\":\"\",\"title\":{\"standoff\":15},\"zerolinecolor\":\"#EBF0F8\",\"zerolinewidth\":2},\"yaxis\":{\"automargin\":true,\"gridcolor\":\"#EBF0F8\",\"linecolor\":\"#EBF0F8\",\"ticks\":\"\",\"title\":{\"standoff\":15},\"zerolinecolor\":\"#EBF0F8\",\"zerolinewidth\":2}}},\"yaxis\":{\"minor\":{\"showgrid\":true,\"griddash\":\"dash\",\"gridcolor\":\"gray\",\"gridwidth\":0.5,\"dtick\":0.05},\"showline\":true,\"linecolor\":\"black\",\"linewidth\":1,\"showgrid\":true,\"gridcolor\":\"gray\",\"gridwidth\":1,\"dtick\":0.1,\"range\":[0,1.2],\"title\":{\"text\":\"Mean Value\"}},\"xaxis\":{\"showline\":true,\"linecolor\":\"#000000\",\"linewidth\":1},\"title\":{\"font\":{\"size\":20,\"weight\":1000},\"text\":\"Performance Comparison of EC-based Reaction Prediction Methods\",\"x\":0.5,\"y\":0.05,\"xanchor\":\"center\"},\"legend\":{\"orientation\":\"h\",\"yanchor\":\"bottom\",\"y\":0.99,\"xanchor\":\"center\",\"x\":0.5,\"tracegroupgap\":2,\"borderwidth\":1},\"width\":1600,\"height\":600,\"barmode\":\"group\",\"bargap\":0.29},                        {\"responsive\": true}                    ).then(function(){\n",
       "                            \n",
       "var gd = document.getElementById('f1ff089e-bd69-41d9-af96-b4cc8a2e1f2e');\n",
       "var x = new MutationObserver(function (mutations, observer) {{\n",
       "        var display = window.getComputedStyle(gd).display;\n",
       "        if (!display || display === 'none') {{\n",
       "            console.log([gd, 'removed!']);\n",
       "            Plotly.purge(gd);\n",
       "            observer.disconnect();\n",
       "        }}\n",
       "}});\n",
       "\n",
       "// Listen for the removal of the full notebook cells\n",
       "var notebookContainer = gd.closest('#notebook-container');\n",
       "if (notebookContainer) {{\n",
       "    x.observe(notebookContainer, {childList: true});\n",
       "}}\n",
       "\n",
       "// Listen for the clearing of the current output cell\n",
       "var outputEl = gd.closest('.output');\n",
       "if (outputEl) {{\n",
       "    x.observe(outputEl, {childList: true});\n",
       "}}\n",
       "\n",
       "                        })                };                });            </script>        </div>"
      ]
     },
     "metadata": {},
     "output_type": "display_data"
    }
   ],
   "source": [
    "evTools.show_ec_methods_10_eva_fig(res_metrics_data=res_std[res_std.avgType =='weighted'].reset_index(drop=True))"
   ]
  },
  {
   "cell_type": "code",
   "execution_count": 25,
   "metadata": {},
   "outputs": [
    {
     "data": {
      "application/vnd.plotly.v1+json": {
       "config": {
        "plotlyServerURL": "https://plot.ly"
       },
       "data": [
        {
         "error_y": {
          "array": [
           0.029608557321603272,
           0.03827883802857886,
           0.04289619437087161,
           0.03616705006804196
          ],
          "type": "data",
          "visible": true
         },
         "marker": {
          "color": "#8ECFC9",
          "line": {
           "color": "black",
           "width": 0.5
          }
         },
         "name": "priam",
         "type": "bar",
         "width": 0.11,
         "x": [
          "mAccuracy",
          "mPrecision",
          "mRecall",
          "mF1"
         ],
         "y": [
          0.081,
          0.18752487034809015,
          0.3629269841269841,
          0.21715224944700867
         ]
        },
        {
         "error_y": {
          "array": [
           0.04121757985239901,
           0.03943255385915139,
           0.03842480697584917,
           0.037979336708291934
          ],
          "type": "data",
          "visible": true
         },
         "marker": {
          "color": "#FFBE7A",
          "line": {
           "color": "black",
           "width": 0.5
          }
         },
         "name": "deepec",
         "type": "bar",
         "width": 0.11,
         "x": [
          "mAccuracy",
          "mPrecision",
          "mRecall",
          "mF1"
         ],
         "y": [
          0.29100000000000004,
          0.3410238095238095,
          0.3145214285714285,
          0.32208974358974357
         ]
        },
        {
         "error_y": {
          "array": [
           0.047010637094172636,
           0.048338181006408555,
           0.04606209651577682,
           0.046849392307328014
          ],
          "type": "data",
          "visible": true
         },
         "marker": {
          "color": "#FA7F6F",
          "line": {
           "color": "black",
           "width": 0.5
          }
         },
         "name": "clean",
         "type": "bar",
         "width": 0.11,
         "x": [
          "mAccuracy",
          "mPrecision",
          "mRecall",
          "mF1"
         ],
         "y": [
          0.319,
          0.38902380952380955,
          0.3554575396825396,
          0.35992625152625146
         ]
        },
        {
         "error_y": {
          "array": [
           0.02708012801545322,
           0.03185463813201373,
           0.029751551920694178,
           0.030314787542056826
          ],
          "type": "data",
          "visible": true
         },
         "marker": {
          "color": "#82B0D2",
          "line": {
           "color": "black",
           "width": 0.5
          }
         },
         "name": "catfam",
         "type": "bar",
         "width": 0.11,
         "x": [
          "mAccuracy",
          "mPrecision",
          "mRecall",
          "mF1"
         ],
         "y": [
          0.75,
          0.7916071428571428,
          0.7690825396825397,
          0.7750802197802198
         ]
        },
        {
         "error_y": {
          "array": [
           0.03247221034122021,
           0.027610391363801477,
           0.02937195014714512,
           0.028609150338460114
          ],
          "type": "data",
          "visible": true
         },
         "marker": {
          "color": "#BEB8DC",
          "line": {
           "color": "black",
           "width": 0.5
          }
         },
         "name": "blast",
         "type": "bar",
         "width": 0.11,
         "x": [
          "mAccuracy",
          "mPrecision",
          "mRecall",
          "mF1"
         ],
         "y": [
          0.8210000000000001,
          0.8710238095238095,
          0.8448825396825397,
          0.852323076923077
         ]
        },
        {
         "error_y": {
          "array": [
           0.027100635498903795,
           0.020027758514399738,
           0.02278106740021204,
           0.021613162808445323
          ],
          "type": "data",
          "visible": true
         },
         "marker": {
          "color": "#E7DAD2",
          "line": {
           "color": "black",
           "width": 0.5
          }
         },
         "name": "ecrecer",
         "type": "bar",
         "width": 0.11,
         "x": [
          "mAccuracy",
          "mPrecision",
          "mRecall",
          "mF1"
         ],
         "y": [
          0.8629999999999999,
          0.913,
          0.8848527777777777,
          0.8927888888888889
         ]
        }
       ],
       "layout": {
        "bargap": 0.29,
        "barmode": "group",
        "height": 600,
        "legend": {
         "borderwidth": 1,
         "orientation": "h",
         "tracegroupgap": 2,
         "x": 0.5,
         "xanchor": "center",
         "y": 0.99,
         "yanchor": "bottom"
        },
        "template": {
         "data": {
          "bar": [
           {
            "error_x": {
             "color": "#2a3f5f"
            },
            "error_y": {
             "color": "#2a3f5f"
            },
            "marker": {
             "line": {
              "color": "white",
              "width": 0.5
             },
             "pattern": {
              "fillmode": "overlay",
              "size": 10,
              "solidity": 0.2
             }
            },
            "type": "bar"
           }
          ],
          "barpolar": [
           {
            "marker": {
             "line": {
              "color": "white",
              "width": 0.5
             },
             "pattern": {
              "fillmode": "overlay",
              "size": 10,
              "solidity": 0.2
             }
            },
            "type": "barpolar"
           }
          ],
          "carpet": [
           {
            "aaxis": {
             "endlinecolor": "#2a3f5f",
             "gridcolor": "#C8D4E3",
             "linecolor": "#C8D4E3",
             "minorgridcolor": "#C8D4E3",
             "startlinecolor": "#2a3f5f"
            },
            "baxis": {
             "endlinecolor": "#2a3f5f",
             "gridcolor": "#C8D4E3",
             "linecolor": "#C8D4E3",
             "minorgridcolor": "#C8D4E3",
             "startlinecolor": "#2a3f5f"
            },
            "type": "carpet"
           }
          ],
          "choropleth": [
           {
            "colorbar": {
             "outlinewidth": 0,
             "ticks": ""
            },
            "type": "choropleth"
           }
          ],
          "contour": [
           {
            "colorbar": {
             "outlinewidth": 0,
             "ticks": ""
            },
            "colorscale": [
             [
              0,
              "#0d0887"
             ],
             [
              0.1111111111111111,
              "#46039f"
             ],
             [
              0.2222222222222222,
              "#7201a8"
             ],
             [
              0.3333333333333333,
              "#9c179e"
             ],
             [
              0.4444444444444444,
              "#bd3786"
             ],
             [
              0.5555555555555556,
              "#d8576b"
             ],
             [
              0.6666666666666666,
              "#ed7953"
             ],
             [
              0.7777777777777778,
              "#fb9f3a"
             ],
             [
              0.8888888888888888,
              "#fdca26"
             ],
             [
              1,
              "#f0f921"
             ]
            ],
            "type": "contour"
           }
          ],
          "contourcarpet": [
           {
            "colorbar": {
             "outlinewidth": 0,
             "ticks": ""
            },
            "type": "contourcarpet"
           }
          ],
          "heatmap": [
           {
            "colorbar": {
             "outlinewidth": 0,
             "ticks": ""
            },
            "colorscale": [
             [
              0,
              "#0d0887"
             ],
             [
              0.1111111111111111,
              "#46039f"
             ],
             [
              0.2222222222222222,
              "#7201a8"
             ],
             [
              0.3333333333333333,
              "#9c179e"
             ],
             [
              0.4444444444444444,
              "#bd3786"
             ],
             [
              0.5555555555555556,
              "#d8576b"
             ],
             [
              0.6666666666666666,
              "#ed7953"
             ],
             [
              0.7777777777777778,
              "#fb9f3a"
             ],
             [
              0.8888888888888888,
              "#fdca26"
             ],
             [
              1,
              "#f0f921"
             ]
            ],
            "type": "heatmap"
           }
          ],
          "heatmapgl": [
           {
            "colorbar": {
             "outlinewidth": 0,
             "ticks": ""
            },
            "colorscale": [
             [
              0,
              "#0d0887"
             ],
             [
              0.1111111111111111,
              "#46039f"
             ],
             [
              0.2222222222222222,
              "#7201a8"
             ],
             [
              0.3333333333333333,
              "#9c179e"
             ],
             [
              0.4444444444444444,
              "#bd3786"
             ],
             [
              0.5555555555555556,
              "#d8576b"
             ],
             [
              0.6666666666666666,
              "#ed7953"
             ],
             [
              0.7777777777777778,
              "#fb9f3a"
             ],
             [
              0.8888888888888888,
              "#fdca26"
             ],
             [
              1,
              "#f0f921"
             ]
            ],
            "type": "heatmapgl"
           }
          ],
          "histogram": [
           {
            "marker": {
             "pattern": {
              "fillmode": "overlay",
              "size": 10,
              "solidity": 0.2
             }
            },
            "type": "histogram"
           }
          ],
          "histogram2d": [
           {
            "colorbar": {
             "outlinewidth": 0,
             "ticks": ""
            },
            "colorscale": [
             [
              0,
              "#0d0887"
             ],
             [
              0.1111111111111111,
              "#46039f"
             ],
             [
              0.2222222222222222,
              "#7201a8"
             ],
             [
              0.3333333333333333,
              "#9c179e"
             ],
             [
              0.4444444444444444,
              "#bd3786"
             ],
             [
              0.5555555555555556,
              "#d8576b"
             ],
             [
              0.6666666666666666,
              "#ed7953"
             ],
             [
              0.7777777777777778,
              "#fb9f3a"
             ],
             [
              0.8888888888888888,
              "#fdca26"
             ],
             [
              1,
              "#f0f921"
             ]
            ],
            "type": "histogram2d"
           }
          ],
          "histogram2dcontour": [
           {
            "colorbar": {
             "outlinewidth": 0,
             "ticks": ""
            },
            "colorscale": [
             [
              0,
              "#0d0887"
             ],
             [
              0.1111111111111111,
              "#46039f"
             ],
             [
              0.2222222222222222,
              "#7201a8"
             ],
             [
              0.3333333333333333,
              "#9c179e"
             ],
             [
              0.4444444444444444,
              "#bd3786"
             ],
             [
              0.5555555555555556,
              "#d8576b"
             ],
             [
              0.6666666666666666,
              "#ed7953"
             ],
             [
              0.7777777777777778,
              "#fb9f3a"
             ],
             [
              0.8888888888888888,
              "#fdca26"
             ],
             [
              1,
              "#f0f921"
             ]
            ],
            "type": "histogram2dcontour"
           }
          ],
          "mesh3d": [
           {
            "colorbar": {
             "outlinewidth": 0,
             "ticks": ""
            },
            "type": "mesh3d"
           }
          ],
          "parcoords": [
           {
            "line": {
             "colorbar": {
              "outlinewidth": 0,
              "ticks": ""
             }
            },
            "type": "parcoords"
           }
          ],
          "pie": [
           {
            "automargin": true,
            "type": "pie"
           }
          ],
          "scatter": [
           {
            "fillpattern": {
             "fillmode": "overlay",
             "size": 10,
             "solidity": 0.2
            },
            "type": "scatter"
           }
          ],
          "scatter3d": [
           {
            "line": {
             "colorbar": {
              "outlinewidth": 0,
              "ticks": ""
             }
            },
            "marker": {
             "colorbar": {
              "outlinewidth": 0,
              "ticks": ""
             }
            },
            "type": "scatter3d"
           }
          ],
          "scattercarpet": [
           {
            "marker": {
             "colorbar": {
              "outlinewidth": 0,
              "ticks": ""
             }
            },
            "type": "scattercarpet"
           }
          ],
          "scattergeo": [
           {
            "marker": {
             "colorbar": {
              "outlinewidth": 0,
              "ticks": ""
             }
            },
            "type": "scattergeo"
           }
          ],
          "scattergl": [
           {
            "marker": {
             "colorbar": {
              "outlinewidth": 0,
              "ticks": ""
             }
            },
            "type": "scattergl"
           }
          ],
          "scattermapbox": [
           {
            "marker": {
             "colorbar": {
              "outlinewidth": 0,
              "ticks": ""
             }
            },
            "type": "scattermapbox"
           }
          ],
          "scatterpolar": [
           {
            "marker": {
             "colorbar": {
              "outlinewidth": 0,
              "ticks": ""
             }
            },
            "type": "scatterpolar"
           }
          ],
          "scatterpolargl": [
           {
            "marker": {
             "colorbar": {
              "outlinewidth": 0,
              "ticks": ""
             }
            },
            "type": "scatterpolargl"
           }
          ],
          "scatterternary": [
           {
            "marker": {
             "colorbar": {
              "outlinewidth": 0,
              "ticks": ""
             }
            },
            "type": "scatterternary"
           }
          ],
          "surface": [
           {
            "colorbar": {
             "outlinewidth": 0,
             "ticks": ""
            },
            "colorscale": [
             [
              0,
              "#0d0887"
             ],
             [
              0.1111111111111111,
              "#46039f"
             ],
             [
              0.2222222222222222,
              "#7201a8"
             ],
             [
              0.3333333333333333,
              "#9c179e"
             ],
             [
              0.4444444444444444,
              "#bd3786"
             ],
             [
              0.5555555555555556,
              "#d8576b"
             ],
             [
              0.6666666666666666,
              "#ed7953"
             ],
             [
              0.7777777777777778,
              "#fb9f3a"
             ],
             [
              0.8888888888888888,
              "#fdca26"
             ],
             [
              1,
              "#f0f921"
             ]
            ],
            "type": "surface"
           }
          ],
          "table": [
           {
            "cells": {
             "fill": {
              "color": "#EBF0F8"
             },
             "line": {
              "color": "white"
             }
            },
            "header": {
             "fill": {
              "color": "#C8D4E3"
             },
             "line": {
              "color": "white"
             }
            },
            "type": "table"
           }
          ]
         },
         "layout": {
          "annotationdefaults": {
           "arrowcolor": "#2a3f5f",
           "arrowhead": 0,
           "arrowwidth": 1
          },
          "autotypenumbers": "strict",
          "coloraxis": {
           "colorbar": {
            "outlinewidth": 0,
            "ticks": ""
           }
          },
          "colorscale": {
           "diverging": [
            [
             0,
             "#8e0152"
            ],
            [
             0.1,
             "#c51b7d"
            ],
            [
             0.2,
             "#de77ae"
            ],
            [
             0.3,
             "#f1b6da"
            ],
            [
             0.4,
             "#fde0ef"
            ],
            [
             0.5,
             "#f7f7f7"
            ],
            [
             0.6,
             "#e6f5d0"
            ],
            [
             0.7,
             "#b8e186"
            ],
            [
             0.8,
             "#7fbc41"
            ],
            [
             0.9,
             "#4d9221"
            ],
            [
             1,
             "#276419"
            ]
           ],
           "sequential": [
            [
             0,
             "#0d0887"
            ],
            [
             0.1111111111111111,
             "#46039f"
            ],
            [
             0.2222222222222222,
             "#7201a8"
            ],
            [
             0.3333333333333333,
             "#9c179e"
            ],
            [
             0.4444444444444444,
             "#bd3786"
            ],
            [
             0.5555555555555556,
             "#d8576b"
            ],
            [
             0.6666666666666666,
             "#ed7953"
            ],
            [
             0.7777777777777778,
             "#fb9f3a"
            ],
            [
             0.8888888888888888,
             "#fdca26"
            ],
            [
             1,
             "#f0f921"
            ]
           ],
           "sequentialminus": [
            [
             0,
             "#0d0887"
            ],
            [
             0.1111111111111111,
             "#46039f"
            ],
            [
             0.2222222222222222,
             "#7201a8"
            ],
            [
             0.3333333333333333,
             "#9c179e"
            ],
            [
             0.4444444444444444,
             "#bd3786"
            ],
            [
             0.5555555555555556,
             "#d8576b"
            ],
            [
             0.6666666666666666,
             "#ed7953"
            ],
            [
             0.7777777777777778,
             "#fb9f3a"
            ],
            [
             0.8888888888888888,
             "#fdca26"
            ],
            [
             1,
             "#f0f921"
            ]
           ]
          },
          "colorway": [
           "#636efa",
           "#EF553B",
           "#00cc96",
           "#ab63fa",
           "#FFA15A",
           "#19d3f3",
           "#FF6692",
           "#B6E880",
           "#FF97FF",
           "#FECB52"
          ],
          "font": {
           "color": "#2a3f5f"
          },
          "geo": {
           "bgcolor": "white",
           "lakecolor": "white",
           "landcolor": "white",
           "showlakes": true,
           "showland": true,
           "subunitcolor": "#C8D4E3"
          },
          "hoverlabel": {
           "align": "left"
          },
          "hovermode": "closest",
          "mapbox": {
           "style": "light"
          },
          "paper_bgcolor": "white",
          "plot_bgcolor": "white",
          "polar": {
           "angularaxis": {
            "gridcolor": "#EBF0F8",
            "linecolor": "#EBF0F8",
            "ticks": ""
           },
           "bgcolor": "white",
           "radialaxis": {
            "gridcolor": "#EBF0F8",
            "linecolor": "#EBF0F8",
            "ticks": ""
           }
          },
          "scene": {
           "xaxis": {
            "backgroundcolor": "white",
            "gridcolor": "#DFE8F3",
            "gridwidth": 2,
            "linecolor": "#EBF0F8",
            "showbackground": true,
            "ticks": "",
            "zerolinecolor": "#EBF0F8"
           },
           "yaxis": {
            "backgroundcolor": "white",
            "gridcolor": "#DFE8F3",
            "gridwidth": 2,
            "linecolor": "#EBF0F8",
            "showbackground": true,
            "ticks": "",
            "zerolinecolor": "#EBF0F8"
           },
           "zaxis": {
            "backgroundcolor": "white",
            "gridcolor": "#DFE8F3",
            "gridwidth": 2,
            "linecolor": "#EBF0F8",
            "showbackground": true,
            "ticks": "",
            "zerolinecolor": "#EBF0F8"
           }
          },
          "shapedefaults": {
           "line": {
            "color": "#2a3f5f"
           }
          },
          "ternary": {
           "aaxis": {
            "gridcolor": "#DFE8F3",
            "linecolor": "#A2B1C6",
            "ticks": ""
           },
           "baxis": {
            "gridcolor": "#DFE8F3",
            "linecolor": "#A2B1C6",
            "ticks": ""
           },
           "bgcolor": "white",
           "caxis": {
            "gridcolor": "#DFE8F3",
            "linecolor": "#A2B1C6",
            "ticks": ""
           }
          },
          "title": {
           "x": 0.05
          },
          "xaxis": {
           "automargin": true,
           "gridcolor": "#EBF0F8",
           "linecolor": "#EBF0F8",
           "ticks": "",
           "title": {
            "standoff": 15
           },
           "zerolinecolor": "#EBF0F8",
           "zerolinewidth": 2
          },
          "yaxis": {
           "automargin": true,
           "gridcolor": "#EBF0F8",
           "linecolor": "#EBF0F8",
           "ticks": "",
           "title": {
            "standoff": 15
           },
           "zerolinecolor": "#EBF0F8",
           "zerolinewidth": 2
          }
         }
        },
        "title": {
         "font": {
          "size": 20,
          "weight": 1000
         },
         "text": "Performance Comparison of EC-based Reaction Prediction Methods",
         "x": 0.5,
         "xanchor": "center",
         "y": 0.05
        },
        "width": 1600,
        "xaxis": {
         "linecolor": "#000000",
         "linewidth": 1,
         "showline": true
        },
        "yaxis": {
         "dtick": 0.1,
         "gridcolor": "gray",
         "gridwidth": 1,
         "linecolor": "black",
         "linewidth": 1,
         "minor": {
          "dtick": 0.05,
          "gridcolor": "gray",
          "griddash": "dash",
          "gridwidth": 0.5,
          "showgrid": true
         },
         "range": [
          0,
          1.2
         ],
         "showgrid": true,
         "showline": true,
         "title": {
          "text": "Mean Value"
         }
        }
       }
      },
      "text/html": [
       "<div>                            <div id=\"59cec64f-acfb-40ff-ac38-a079838656f6\" class=\"plotly-graph-div\" style=\"height:600px; width:1600px;\"></div>            <script type=\"text/javascript\">                require([\"plotly\"], function(Plotly) {                    window.PLOTLYENV=window.PLOTLYENV || {};                                    if (document.getElementById(\"59cec64f-acfb-40ff-ac38-a079838656f6\")) {                    Plotly.newPlot(                        \"59cec64f-acfb-40ff-ac38-a079838656f6\",                        [{\"error_y\":{\"array\":[0.029608557321603272,0.03827883802857886,0.04289619437087161,0.03616705006804196],\"type\":\"data\",\"visible\":true},\"marker\":{\"color\":\"#8ECFC9\",\"line\":{\"color\":\"black\",\"width\":0.5}},\"name\":\"priam\",\"width\":0.11,\"x\":[\"mAccuracy\",\"mPrecision\",\"mRecall\",\"mF1\"],\"y\":[0.081,0.18752487034809015,0.3629269841269841,0.21715224944700867],\"type\":\"bar\"},{\"error_y\":{\"array\":[0.04121757985239901,0.03943255385915139,0.03842480697584917,0.037979336708291934],\"type\":\"data\",\"visible\":true},\"marker\":{\"color\":\"#FFBE7A\",\"line\":{\"color\":\"black\",\"width\":0.5}},\"name\":\"deepec\",\"width\":0.11,\"x\":[\"mAccuracy\",\"mPrecision\",\"mRecall\",\"mF1\"],\"y\":[0.29100000000000004,0.3410238095238095,0.3145214285714285,0.32208974358974357],\"type\":\"bar\"},{\"error_y\":{\"array\":[0.047010637094172636,0.048338181006408555,0.04606209651577682,0.046849392307328014],\"type\":\"data\",\"visible\":true},\"marker\":{\"color\":\"#FA7F6F\",\"line\":{\"color\":\"black\",\"width\":0.5}},\"name\":\"clean\",\"width\":0.11,\"x\":[\"mAccuracy\",\"mPrecision\",\"mRecall\",\"mF1\"],\"y\":[0.319,0.38902380952380955,0.3554575396825396,0.35992625152625146],\"type\":\"bar\"},{\"error_y\":{\"array\":[0.02708012801545322,0.03185463813201373,0.029751551920694178,0.030314787542056826],\"type\":\"data\",\"visible\":true},\"marker\":{\"color\":\"#82B0D2\",\"line\":{\"color\":\"black\",\"width\":0.5}},\"name\":\"catfam\",\"width\":0.11,\"x\":[\"mAccuracy\",\"mPrecision\",\"mRecall\",\"mF1\"],\"y\":[0.75,0.7916071428571428,0.7690825396825397,0.7750802197802198],\"type\":\"bar\"},{\"error_y\":{\"array\":[0.03247221034122021,0.027610391363801477,0.02937195014714512,0.028609150338460114],\"type\":\"data\",\"visible\":true},\"marker\":{\"color\":\"#BEB8DC\",\"line\":{\"color\":\"black\",\"width\":0.5}},\"name\":\"blast\",\"width\":0.11,\"x\":[\"mAccuracy\",\"mPrecision\",\"mRecall\",\"mF1\"],\"y\":[0.8210000000000001,0.8710238095238095,0.8448825396825397,0.852323076923077],\"type\":\"bar\"},{\"error_y\":{\"array\":[0.027100635498903795,0.020027758514399738,0.02278106740021204,0.021613162808445323],\"type\":\"data\",\"visible\":true},\"marker\":{\"color\":\"#E7DAD2\",\"line\":{\"color\":\"black\",\"width\":0.5}},\"name\":\"ecrecer\",\"width\":0.11,\"x\":[\"mAccuracy\",\"mPrecision\",\"mRecall\",\"mF1\"],\"y\":[0.8629999999999999,0.913,0.8848527777777777,0.8927888888888889],\"type\":\"bar\"}],                        {\"template\":{\"data\":{\"barpolar\":[{\"marker\":{\"line\":{\"color\":\"white\",\"width\":0.5},\"pattern\":{\"fillmode\":\"overlay\",\"size\":10,\"solidity\":0.2}},\"type\":\"barpolar\"}],\"bar\":[{\"error_x\":{\"color\":\"#2a3f5f\"},\"error_y\":{\"color\":\"#2a3f5f\"},\"marker\":{\"line\":{\"color\":\"white\",\"width\":0.5},\"pattern\":{\"fillmode\":\"overlay\",\"size\":10,\"solidity\":0.2}},\"type\":\"bar\"}],\"carpet\":[{\"aaxis\":{\"endlinecolor\":\"#2a3f5f\",\"gridcolor\":\"#C8D4E3\",\"linecolor\":\"#C8D4E3\",\"minorgridcolor\":\"#C8D4E3\",\"startlinecolor\":\"#2a3f5f\"},\"baxis\":{\"endlinecolor\":\"#2a3f5f\",\"gridcolor\":\"#C8D4E3\",\"linecolor\":\"#C8D4E3\",\"minorgridcolor\":\"#C8D4E3\",\"startlinecolor\":\"#2a3f5f\"},\"type\":\"carpet\"}],\"choropleth\":[{\"colorbar\":{\"outlinewidth\":0,\"ticks\":\"\"},\"type\":\"choropleth\"}],\"contourcarpet\":[{\"colorbar\":{\"outlinewidth\":0,\"ticks\":\"\"},\"type\":\"contourcarpet\"}],\"contour\":[{\"colorbar\":{\"outlinewidth\":0,\"ticks\":\"\"},\"colorscale\":[[0.0,\"#0d0887\"],[0.1111111111111111,\"#46039f\"],[0.2222222222222222,\"#7201a8\"],[0.3333333333333333,\"#9c179e\"],[0.4444444444444444,\"#bd3786\"],[0.5555555555555556,\"#d8576b\"],[0.6666666666666666,\"#ed7953\"],[0.7777777777777778,\"#fb9f3a\"],[0.8888888888888888,\"#fdca26\"],[1.0,\"#f0f921\"]],\"type\":\"contour\"}],\"heatmapgl\":[{\"colorbar\":{\"outlinewidth\":0,\"ticks\":\"\"},\"colorscale\":[[0.0,\"#0d0887\"],[0.1111111111111111,\"#46039f\"],[0.2222222222222222,\"#7201a8\"],[0.3333333333333333,\"#9c179e\"],[0.4444444444444444,\"#bd3786\"],[0.5555555555555556,\"#d8576b\"],[0.6666666666666666,\"#ed7953\"],[0.7777777777777778,\"#fb9f3a\"],[0.8888888888888888,\"#fdca26\"],[1.0,\"#f0f921\"]],\"type\":\"heatmapgl\"}],\"heatmap\":[{\"colorbar\":{\"outlinewidth\":0,\"ticks\":\"\"},\"colorscale\":[[0.0,\"#0d0887\"],[0.1111111111111111,\"#46039f\"],[0.2222222222222222,\"#7201a8\"],[0.3333333333333333,\"#9c179e\"],[0.4444444444444444,\"#bd3786\"],[0.5555555555555556,\"#d8576b\"],[0.6666666666666666,\"#ed7953\"],[0.7777777777777778,\"#fb9f3a\"],[0.8888888888888888,\"#fdca26\"],[1.0,\"#f0f921\"]],\"type\":\"heatmap\"}],\"histogram2dcontour\":[{\"colorbar\":{\"outlinewidth\":0,\"ticks\":\"\"},\"colorscale\":[[0.0,\"#0d0887\"],[0.1111111111111111,\"#46039f\"],[0.2222222222222222,\"#7201a8\"],[0.3333333333333333,\"#9c179e\"],[0.4444444444444444,\"#bd3786\"],[0.5555555555555556,\"#d8576b\"],[0.6666666666666666,\"#ed7953\"],[0.7777777777777778,\"#fb9f3a\"],[0.8888888888888888,\"#fdca26\"],[1.0,\"#f0f921\"]],\"type\":\"histogram2dcontour\"}],\"histogram2d\":[{\"colorbar\":{\"outlinewidth\":0,\"ticks\":\"\"},\"colorscale\":[[0.0,\"#0d0887\"],[0.1111111111111111,\"#46039f\"],[0.2222222222222222,\"#7201a8\"],[0.3333333333333333,\"#9c179e\"],[0.4444444444444444,\"#bd3786\"],[0.5555555555555556,\"#d8576b\"],[0.6666666666666666,\"#ed7953\"],[0.7777777777777778,\"#fb9f3a\"],[0.8888888888888888,\"#fdca26\"],[1.0,\"#f0f921\"]],\"type\":\"histogram2d\"}],\"histogram\":[{\"marker\":{\"pattern\":{\"fillmode\":\"overlay\",\"size\":10,\"solidity\":0.2}},\"type\":\"histogram\"}],\"mesh3d\":[{\"colorbar\":{\"outlinewidth\":0,\"ticks\":\"\"},\"type\":\"mesh3d\"}],\"parcoords\":[{\"line\":{\"colorbar\":{\"outlinewidth\":0,\"ticks\":\"\"}},\"type\":\"parcoords\"}],\"pie\":[{\"automargin\":true,\"type\":\"pie\"}],\"scatter3d\":[{\"line\":{\"colorbar\":{\"outlinewidth\":0,\"ticks\":\"\"}},\"marker\":{\"colorbar\":{\"outlinewidth\":0,\"ticks\":\"\"}},\"type\":\"scatter3d\"}],\"scattercarpet\":[{\"marker\":{\"colorbar\":{\"outlinewidth\":0,\"ticks\":\"\"}},\"type\":\"scattercarpet\"}],\"scattergeo\":[{\"marker\":{\"colorbar\":{\"outlinewidth\":0,\"ticks\":\"\"}},\"type\":\"scattergeo\"}],\"scattergl\":[{\"marker\":{\"colorbar\":{\"outlinewidth\":0,\"ticks\":\"\"}},\"type\":\"scattergl\"}],\"scattermapbox\":[{\"marker\":{\"colorbar\":{\"outlinewidth\":0,\"ticks\":\"\"}},\"type\":\"scattermapbox\"}],\"scatterpolargl\":[{\"marker\":{\"colorbar\":{\"outlinewidth\":0,\"ticks\":\"\"}},\"type\":\"scatterpolargl\"}],\"scatterpolar\":[{\"marker\":{\"colorbar\":{\"outlinewidth\":0,\"ticks\":\"\"}},\"type\":\"scatterpolar\"}],\"scatter\":[{\"fillpattern\":{\"fillmode\":\"overlay\",\"size\":10,\"solidity\":0.2},\"type\":\"scatter\"}],\"scatterternary\":[{\"marker\":{\"colorbar\":{\"outlinewidth\":0,\"ticks\":\"\"}},\"type\":\"scatterternary\"}],\"surface\":[{\"colorbar\":{\"outlinewidth\":0,\"ticks\":\"\"},\"colorscale\":[[0.0,\"#0d0887\"],[0.1111111111111111,\"#46039f\"],[0.2222222222222222,\"#7201a8\"],[0.3333333333333333,\"#9c179e\"],[0.4444444444444444,\"#bd3786\"],[0.5555555555555556,\"#d8576b\"],[0.6666666666666666,\"#ed7953\"],[0.7777777777777778,\"#fb9f3a\"],[0.8888888888888888,\"#fdca26\"],[1.0,\"#f0f921\"]],\"type\":\"surface\"}],\"table\":[{\"cells\":{\"fill\":{\"color\":\"#EBF0F8\"},\"line\":{\"color\":\"white\"}},\"header\":{\"fill\":{\"color\":\"#C8D4E3\"},\"line\":{\"color\":\"white\"}},\"type\":\"table\"}]},\"layout\":{\"annotationdefaults\":{\"arrowcolor\":\"#2a3f5f\",\"arrowhead\":0,\"arrowwidth\":1},\"autotypenumbers\":\"strict\",\"coloraxis\":{\"colorbar\":{\"outlinewidth\":0,\"ticks\":\"\"}},\"colorscale\":{\"diverging\":[[0,\"#8e0152\"],[0.1,\"#c51b7d\"],[0.2,\"#de77ae\"],[0.3,\"#f1b6da\"],[0.4,\"#fde0ef\"],[0.5,\"#f7f7f7\"],[0.6,\"#e6f5d0\"],[0.7,\"#b8e186\"],[0.8,\"#7fbc41\"],[0.9,\"#4d9221\"],[1,\"#276419\"]],\"sequential\":[[0.0,\"#0d0887\"],[0.1111111111111111,\"#46039f\"],[0.2222222222222222,\"#7201a8\"],[0.3333333333333333,\"#9c179e\"],[0.4444444444444444,\"#bd3786\"],[0.5555555555555556,\"#d8576b\"],[0.6666666666666666,\"#ed7953\"],[0.7777777777777778,\"#fb9f3a\"],[0.8888888888888888,\"#fdca26\"],[1.0,\"#f0f921\"]],\"sequentialminus\":[[0.0,\"#0d0887\"],[0.1111111111111111,\"#46039f\"],[0.2222222222222222,\"#7201a8\"],[0.3333333333333333,\"#9c179e\"],[0.4444444444444444,\"#bd3786\"],[0.5555555555555556,\"#d8576b\"],[0.6666666666666666,\"#ed7953\"],[0.7777777777777778,\"#fb9f3a\"],[0.8888888888888888,\"#fdca26\"],[1.0,\"#f0f921\"]]},\"colorway\":[\"#636efa\",\"#EF553B\",\"#00cc96\",\"#ab63fa\",\"#FFA15A\",\"#19d3f3\",\"#FF6692\",\"#B6E880\",\"#FF97FF\",\"#FECB52\"],\"font\":{\"color\":\"#2a3f5f\"},\"geo\":{\"bgcolor\":\"white\",\"lakecolor\":\"white\",\"landcolor\":\"white\",\"showlakes\":true,\"showland\":true,\"subunitcolor\":\"#C8D4E3\"},\"hoverlabel\":{\"align\":\"left\"},\"hovermode\":\"closest\",\"mapbox\":{\"style\":\"light\"},\"paper_bgcolor\":\"white\",\"plot_bgcolor\":\"white\",\"polar\":{\"angularaxis\":{\"gridcolor\":\"#EBF0F8\",\"linecolor\":\"#EBF0F8\",\"ticks\":\"\"},\"bgcolor\":\"white\",\"radialaxis\":{\"gridcolor\":\"#EBF0F8\",\"linecolor\":\"#EBF0F8\",\"ticks\":\"\"}},\"scene\":{\"xaxis\":{\"backgroundcolor\":\"white\",\"gridcolor\":\"#DFE8F3\",\"gridwidth\":2,\"linecolor\":\"#EBF0F8\",\"showbackground\":true,\"ticks\":\"\",\"zerolinecolor\":\"#EBF0F8\"},\"yaxis\":{\"backgroundcolor\":\"white\",\"gridcolor\":\"#DFE8F3\",\"gridwidth\":2,\"linecolor\":\"#EBF0F8\",\"showbackground\":true,\"ticks\":\"\",\"zerolinecolor\":\"#EBF0F8\"},\"zaxis\":{\"backgroundcolor\":\"white\",\"gridcolor\":\"#DFE8F3\",\"gridwidth\":2,\"linecolor\":\"#EBF0F8\",\"showbackground\":true,\"ticks\":\"\",\"zerolinecolor\":\"#EBF0F8\"}},\"shapedefaults\":{\"line\":{\"color\":\"#2a3f5f\"}},\"ternary\":{\"aaxis\":{\"gridcolor\":\"#DFE8F3\",\"linecolor\":\"#A2B1C6\",\"ticks\":\"\"},\"baxis\":{\"gridcolor\":\"#DFE8F3\",\"linecolor\":\"#A2B1C6\",\"ticks\":\"\"},\"bgcolor\":\"white\",\"caxis\":{\"gridcolor\":\"#DFE8F3\",\"linecolor\":\"#A2B1C6\",\"ticks\":\"\"}},\"title\":{\"x\":0.05},\"xaxis\":{\"automargin\":true,\"gridcolor\":\"#EBF0F8\",\"linecolor\":\"#EBF0F8\",\"ticks\":\"\",\"title\":{\"standoff\":15},\"zerolinecolor\":\"#EBF0F8\",\"zerolinewidth\":2},\"yaxis\":{\"automargin\":true,\"gridcolor\":\"#EBF0F8\",\"linecolor\":\"#EBF0F8\",\"ticks\":\"\",\"title\":{\"standoff\":15},\"zerolinecolor\":\"#EBF0F8\",\"zerolinewidth\":2}}},\"yaxis\":{\"minor\":{\"showgrid\":true,\"griddash\":\"dash\",\"gridcolor\":\"gray\",\"gridwidth\":0.5,\"dtick\":0.05},\"showline\":true,\"linecolor\":\"black\",\"linewidth\":1,\"showgrid\":true,\"gridcolor\":\"gray\",\"gridwidth\":1,\"dtick\":0.1,\"range\":[0,1.2],\"title\":{\"text\":\"Mean Value\"}},\"xaxis\":{\"showline\":true,\"linecolor\":\"#000000\",\"linewidth\":1},\"title\":{\"font\":{\"size\":20,\"weight\":1000},\"text\":\"Performance Comparison of EC-based Reaction Prediction Methods\",\"x\":0.5,\"y\":0.05,\"xanchor\":\"center\"},\"legend\":{\"orientation\":\"h\",\"yanchor\":\"bottom\",\"y\":0.99,\"xanchor\":\"center\",\"x\":0.5,\"tracegroupgap\":2,\"borderwidth\":1},\"width\":1600,\"height\":600,\"barmode\":\"group\",\"bargap\":0.29},                        {\"responsive\": true}                    ).then(function(){\n",
       "                            \n",
       "var gd = document.getElementById('59cec64f-acfb-40ff-ac38-a079838656f6');\n",
       "var x = new MutationObserver(function (mutations, observer) {{\n",
       "        var display = window.getComputedStyle(gd).display;\n",
       "        if (!display || display === 'none') {{\n",
       "            console.log([gd, 'removed!']);\n",
       "            Plotly.purge(gd);\n",
       "            observer.disconnect();\n",
       "        }}\n",
       "}});\n",
       "\n",
       "// Listen for the removal of the full notebook cells\n",
       "var notebookContainer = gd.closest('#notebook-container');\n",
       "if (notebookContainer) {{\n",
       "    x.observe(notebookContainer, {childList: true});\n",
       "}}\n",
       "\n",
       "// Listen for the clearing of the current output cell\n",
       "var outputEl = gd.closest('.output');\n",
       "if (outputEl) {{\n",
       "    x.observe(outputEl, {childList: true});\n",
       "}}\n",
       "\n",
       "                        })                };                });            </script>        </div>"
      ]
     },
     "metadata": {},
     "output_type": "display_data"
    }
   ],
   "source": [
    "evTools.show_ec_methods_10_eva_fig(res_metrics_data=res_std[res_std.avgType =='samples'].reset_index(drop=True))"
   ]
  },
  {
   "cell_type": "code",
   "execution_count": null,
   "metadata": {},
   "outputs": [],
   "source": []
  },
  {
   "cell_type": "markdown",
   "metadata": {},
   "source": [
    "### 5.1 isEnzyme prediction"
   ]
  },
  {
   "cell_type": "code",
   "execution_count": 16,
   "metadata": {},
   "outputs": [
    {
     "name": "stdout",
     "output_type": "stream",
     "text": [
      "isEnzyme Predcition Results - EC METHODs\n"
     ]
    },
    {
     "data": {
      "text/html": [
       "<div>\n",
       "<style scoped>\n",
       "    .dataframe tbody tr th:only-of-type {\n",
       "        vertical-align: middle;\n",
       "    }\n",
       "\n",
       "    .dataframe tbody tr th {\n",
       "        vertical-align: top;\n",
       "    }\n",
       "\n",
       "    .dataframe thead th {\n",
       "        text-align: right;\n",
       "    }\n",
       "</style>\n",
       "<table border=\"1\" class=\"dataframe\">\n",
       "  <thead>\n",
       "    <tr style=\"text-align: right;\">\n",
       "      <th></th>\n",
       "      <th>baselineName</th>\n",
       "      <th>Accuracy</th>\n",
       "      <th>Precision</th>\n",
       "      <th>Recall</th>\n",
       "      <th>PPV(Sensitivity)</th>\n",
       "      <th>NPV(Specificity)</th>\n",
       "      <th>F1</th>\n",
       "      <th>TP</th>\n",
       "      <th>FP</th>\n",
       "      <th>FN</th>\n",
       "      <th>TN</th>\n",
       "      <th>UP</th>\n",
       "      <th>UN</th>\n",
       "    </tr>\n",
       "  </thead>\n",
       "  <tbody>\n",
       "    <tr>\n",
       "      <th>0</th>\n",
       "      <td>ecrecer</td>\n",
       "      <td>0.789493</td>\n",
       "      <td>0.532835</td>\n",
       "      <td>0.911388</td>\n",
       "      <td>0.532835</td>\n",
       "      <td>0.964646</td>\n",
       "      <td>0.672499</td>\n",
       "      <td>2921</td>\n",
       "      <td>2561</td>\n",
       "      <td>284</td>\n",
       "      <td>7749</td>\n",
       "      <td>0</td>\n",
       "      <td>0</td>\n",
       "    </tr>\n",
       "    <tr>\n",
       "      <th>1</th>\n",
       "      <td>ecpred</td>\n",
       "      <td>0.597839</td>\n",
       "      <td>0.346035</td>\n",
       "      <td>0.631643</td>\n",
       "      <td>0.346035</td>\n",
       "      <td>0.703467</td>\n",
       "      <td>0.447122</td>\n",
       "      <td>2579</td>\n",
       "      <td>3930</td>\n",
       "      <td>560</td>\n",
       "      <td>5499</td>\n",
       "      <td>65</td>\n",
       "      <td>879</td>\n",
       "    </tr>\n",
       "    <tr>\n",
       "      <th>2</th>\n",
       "      <td>catfam</td>\n",
       "      <td>0.810285</td>\n",
       "      <td>0.749416</td>\n",
       "      <td>0.300468</td>\n",
       "      <td>0.749416</td>\n",
       "      <td>0.816680</td>\n",
       "      <td>0.428953</td>\n",
       "      <td>963</td>\n",
       "      <td>322</td>\n",
       "      <td>2242</td>\n",
       "      <td>9988</td>\n",
       "      <td>0</td>\n",
       "      <td>0</td>\n",
       "    </tr>\n",
       "    <tr>\n",
       "      <th>3</th>\n",
       "      <td>clean</td>\n",
       "      <td>0.237144</td>\n",
       "      <td>0.237144</td>\n",
       "      <td>1.000000</td>\n",
       "      <td>0.237144</td>\n",
       "      <td>0.000000</td>\n",
       "      <td>0.383373</td>\n",
       "      <td>3205</td>\n",
       "      <td>10310</td>\n",
       "      <td>0</td>\n",
       "      <td>0</td>\n",
       "      <td>0</td>\n",
       "      <td>0</td>\n",
       "    </tr>\n",
       "    <tr>\n",
       "      <th>4</th>\n",
       "      <td>ecblast</td>\n",
       "      <td>0.547244</td>\n",
       "      <td>0.302502</td>\n",
       "      <td>0.343502</td>\n",
       "      <td>0.302502</td>\n",
       "      <td>0.370370</td>\n",
       "      <td>0.321701</td>\n",
       "      <td>2466</td>\n",
       "      <td>1406</td>\n",
       "      <td>433</td>\n",
       "      <td>4930</td>\n",
       "      <td>306</td>\n",
       "      <td>3974</td>\n",
       "    </tr>\n",
       "    <tr>\n",
       "      <th>5</th>\n",
       "      <td>priam</td>\n",
       "      <td>0.218498</td>\n",
       "      <td>0.218498</td>\n",
       "      <td>0.397069</td>\n",
       "      <td>0.218498</td>\n",
       "      <td>0.000000</td>\n",
       "      <td>0.281882</td>\n",
       "      <td>2953</td>\n",
       "      <td>6078</td>\n",
       "      <td>0</td>\n",
       "      <td>0</td>\n",
       "      <td>252</td>\n",
       "      <td>4232</td>\n",
       "    </tr>\n",
       "    <tr>\n",
       "      <th>6</th>\n",
       "      <td>deepec</td>\n",
       "      <td>0.090196</td>\n",
       "      <td>0.090196</td>\n",
       "      <td>0.093446</td>\n",
       "      <td>0.090196</td>\n",
       "      <td>0.000000</td>\n",
       "      <td>0.091792</td>\n",
       "      <td>1219</td>\n",
       "      <td>470</td>\n",
       "      <td>0</td>\n",
       "      <td>0</td>\n",
       "      <td>1986</td>\n",
       "      <td>9840</td>\n",
       "    </tr>\n",
       "  </tbody>\n",
       "</table>\n",
       "</div>"
      ],
      "text/plain": [
       "  baselineName  Accuracy  Precision    Recall  PPV(Sensitivity)  \\\n",
       "0      ecrecer  0.789493   0.532835  0.911388          0.532835   \n",
       "1       ecpred  0.597839   0.346035  0.631643          0.346035   \n",
       "2       catfam  0.810285   0.749416  0.300468          0.749416   \n",
       "3        clean  0.237144   0.237144  1.000000          0.237144   \n",
       "4      ecblast  0.547244   0.302502  0.343502          0.302502   \n",
       "5        priam  0.218498   0.218498  0.397069          0.218498   \n",
       "6       deepec  0.090196   0.090196  0.093446          0.090196   \n",
       "\n",
       "   NPV(Specificity)        F1    TP     FP    FN    TN    UP    UN  \n",
       "0          0.964646  0.672499  2921   2561   284  7749     0     0  \n",
       "1          0.703467  0.447122  2579   3930   560  5499    65   879  \n",
       "2          0.816680  0.428953   963    322  2242  9988     0     0  \n",
       "3          0.000000  0.383373  3205  10310     0     0     0     0  \n",
       "4          0.370370  0.321701  2466   1406   433  4930   306  3974  \n",
       "5          0.000000  0.281882  2953   6078     0     0   252  4232  \n",
       "6          0.000000  0.091792  1219    470     0     0  1986  9840  "
      ]
     },
     "execution_count": 16,
     "metadata": {},
     "output_type": "execute_result"
    }
   ],
   "source": [
    "print('isEnzyme Predcition Results - EC METHODs')\n",
    "method = ['ecblast', 'deepec', 'clean', 'ecrecer', 'ecpred', 'catfam', 'priam']\n",
    "resl = []\n",
    "for m in method:\n",
    "    res_item = btools.eva_isenzyme(baselineName=m, res_df=res_method_ec, category='ec')\n",
    "    resl.append(res_item)\n",
    "    \n",
    "resl=pd.DataFrame(resl, columns=['baselineName', 'Accuracy', 'Precision', 'Recall', 'PPV(Sensitivity)', 'NPV(Specificity)', 'F1', 'TP', 'FP', 'FN', 'TN', 'UP', 'UN'])\n",
    "\n",
    "resl.sort_values(by=['F1'], ascending=False).reset_index(drop=True)"
   ]
  },
  {
   "cell_type": "code",
   "execution_count": 74,
   "metadata": {},
   "outputs": [
    {
     "data": {
      "application/vnd.plotly.v1+json": {
       "config": {
        "plotlyServerURL": "https://plot.ly"
       },
       "data": [
        {
         "name": "deepec",
         "text": [
          0.09019607843137255,
          0.09019607843137255,
          0.09344576466078958,
          0.09019607843137255,
          0,
          0.09179216867469879
         ],
         "textposition": "auto",
         "texttemplate": "%{text:.2f}",
         "type": "bar",
         "x": [
          "Accuracy",
          "Precision",
          "Recall",
          "PPV(Sensitivity)",
          "NPV(Specificity)",
          "F1"
         ],
         "y": [
          0.09019607843137255,
          0.09019607843137255,
          0.09344576466078958,
          0.09019607843137255,
          0,
          0.09179216867469879
         ]
        },
        {
         "name": "priam",
         "text": [
          0.2184979652238254,
          0.2184979652238254,
          0.3970687105015463,
          0.2184979652238254,
          0,
          0.28188239786177927
         ],
         "textposition": "auto",
         "texttemplate": "%{text:.2f}",
         "type": "bar",
         "x": [
          "Accuracy",
          "Precision",
          "Recall",
          "PPV(Sensitivity)",
          "NPV(Specificity)",
          "F1"
         ],
         "y": [
          0.2184979652238254,
          0.2184979652238254,
          0.3970687105015463,
          0.2184979652238254,
          0,
          0.28188239786177927
         ]
        },
        {
         "name": "ecblast",
         "text": [
          0.54724380318165,
          0.3025024533856722,
          0.34350188048474717,
          0.3025024533856722,
          0.37037037037037035,
          0.3217011284325876
         ],
         "textposition": "auto",
         "texttemplate": "%{text:.2f}",
         "type": "bar",
         "x": [
          "Accuracy",
          "Precision",
          "Recall",
          "PPV(Sensitivity)",
          "NPV(Specificity)",
          "F1"
         ],
         "y": [
          0.54724380318165,
          0.3025024533856722,
          0.34350188048474717,
          0.3025024533856722,
          0.37037037037037035,
          0.3217011284325876
         ]
        },
        {
         "name": "clean",
         "text": [
          0.23714391416944136,
          0.23714391416944136,
          1,
          0.23714391416944136,
          0,
          0.3833732057416268
         ],
         "textposition": "auto",
         "texttemplate": "%{text:.2f}",
         "type": "bar",
         "x": [
          "Accuracy",
          "Precision",
          "Recall",
          "PPV(Sensitivity)",
          "NPV(Specificity)",
          "F1"
         ],
         "y": [
          0.23714391416944136,
          0.23714391416944136,
          1,
          0.23714391416944136,
          0,
          0.3833732057416268
         ]
        },
        {
         "name": "catfam",
         "text": [
          0.8102848686644469,
          0.7494163424124514,
          0.30046801872074885,
          0.7494163424124514,
          0.8166802943581357,
          0.4289532293986637
         ],
         "textposition": "auto",
         "texttemplate": "%{text:.2f}",
         "type": "bar",
         "x": [
          "Accuracy",
          "Precision",
          "Recall",
          "PPV(Sensitivity)",
          "NPV(Specificity)",
          "F1"
         ],
         "y": [
          0.8102848686644469,
          0.7494163424124514,
          0.30046801872074885,
          0.7494163424124514,
          0.8166802943581357,
          0.4289532293986637
         ]
        },
        {
         "name": "ecpred",
         "text": [
          0.5978389579632919,
          0.34603515362941095,
          0.6316433994611805,
          0.34603515362941095,
          0.7034668031214021,
          0.44712205270457694
         ],
         "textposition": "auto",
         "texttemplate": "%{text:.2f}",
         "type": "bar",
         "x": [
          "Accuracy",
          "Precision",
          "Recall",
          "PPV(Sensitivity)",
          "NPV(Specificity)",
          "F1"
         ],
         "y": [
          0.5978389579632919,
          0.34603515362941095,
          0.6316433994611805,
          0.34603515362941095,
          0.7034668031214021,
          0.44712205270457694
         ]
        },
        {
         "name": "ecrecer",
         "text": [
          0.7894931557528672,
          0.5328347318496899,
          0.9113884555382216,
          0.5328347318496899,
          0.964645835926802,
          0.6724991366409578
         ],
         "textposition": "auto",
         "texttemplate": "%{text:.2f}",
         "type": "bar",
         "x": [
          "Accuracy",
          "Precision",
          "Recall",
          "PPV(Sensitivity)",
          "NPV(Specificity)",
          "F1"
         ],
         "y": [
          0.7894931557528672,
          0.5328347318496899,
          0.9113884555382216,
          0.5328347318496899,
          0.964645835926802,
          0.6724991366409578
         ]
        }
       ],
       "layout": {
        "barcornerradius": 10,
        "template": {
         "data": {
          "bar": [
           {
            "error_x": {
             "color": "#2a3f5f"
            },
            "error_y": {
             "color": "#2a3f5f"
            },
            "marker": {
             "line": {
              "color": "#E5ECF6",
              "width": 0.5
             },
             "pattern": {
              "fillmode": "overlay",
              "size": 10,
              "solidity": 0.2
             }
            },
            "type": "bar"
           }
          ],
          "barpolar": [
           {
            "marker": {
             "line": {
              "color": "#E5ECF6",
              "width": 0.5
             },
             "pattern": {
              "fillmode": "overlay",
              "size": 10,
              "solidity": 0.2
             }
            },
            "type": "barpolar"
           }
          ],
          "carpet": [
           {
            "aaxis": {
             "endlinecolor": "#2a3f5f",
             "gridcolor": "white",
             "linecolor": "white",
             "minorgridcolor": "white",
             "startlinecolor": "#2a3f5f"
            },
            "baxis": {
             "endlinecolor": "#2a3f5f",
             "gridcolor": "white",
             "linecolor": "white",
             "minorgridcolor": "white",
             "startlinecolor": "#2a3f5f"
            },
            "type": "carpet"
           }
          ],
          "choropleth": [
           {
            "colorbar": {
             "outlinewidth": 0,
             "ticks": ""
            },
            "type": "choropleth"
           }
          ],
          "contour": [
           {
            "colorbar": {
             "outlinewidth": 0,
             "ticks": ""
            },
            "colorscale": [
             [
              0,
              "#0d0887"
             ],
             [
              0.1111111111111111,
              "#46039f"
             ],
             [
              0.2222222222222222,
              "#7201a8"
             ],
             [
              0.3333333333333333,
              "#9c179e"
             ],
             [
              0.4444444444444444,
              "#bd3786"
             ],
             [
              0.5555555555555556,
              "#d8576b"
             ],
             [
              0.6666666666666666,
              "#ed7953"
             ],
             [
              0.7777777777777778,
              "#fb9f3a"
             ],
             [
              0.8888888888888888,
              "#fdca26"
             ],
             [
              1,
              "#f0f921"
             ]
            ],
            "type": "contour"
           }
          ],
          "contourcarpet": [
           {
            "colorbar": {
             "outlinewidth": 0,
             "ticks": ""
            },
            "type": "contourcarpet"
           }
          ],
          "heatmap": [
           {
            "colorbar": {
             "outlinewidth": 0,
             "ticks": ""
            },
            "colorscale": [
             [
              0,
              "#0d0887"
             ],
             [
              0.1111111111111111,
              "#46039f"
             ],
             [
              0.2222222222222222,
              "#7201a8"
             ],
             [
              0.3333333333333333,
              "#9c179e"
             ],
             [
              0.4444444444444444,
              "#bd3786"
             ],
             [
              0.5555555555555556,
              "#d8576b"
             ],
             [
              0.6666666666666666,
              "#ed7953"
             ],
             [
              0.7777777777777778,
              "#fb9f3a"
             ],
             [
              0.8888888888888888,
              "#fdca26"
             ],
             [
              1,
              "#f0f921"
             ]
            ],
            "type": "heatmap"
           }
          ],
          "heatmapgl": [
           {
            "colorbar": {
             "outlinewidth": 0,
             "ticks": ""
            },
            "colorscale": [
             [
              0,
              "#0d0887"
             ],
             [
              0.1111111111111111,
              "#46039f"
             ],
             [
              0.2222222222222222,
              "#7201a8"
             ],
             [
              0.3333333333333333,
              "#9c179e"
             ],
             [
              0.4444444444444444,
              "#bd3786"
             ],
             [
              0.5555555555555556,
              "#d8576b"
             ],
             [
              0.6666666666666666,
              "#ed7953"
             ],
             [
              0.7777777777777778,
              "#fb9f3a"
             ],
             [
              0.8888888888888888,
              "#fdca26"
             ],
             [
              1,
              "#f0f921"
             ]
            ],
            "type": "heatmapgl"
           }
          ],
          "histogram": [
           {
            "marker": {
             "pattern": {
              "fillmode": "overlay",
              "size": 10,
              "solidity": 0.2
             }
            },
            "type": "histogram"
           }
          ],
          "histogram2d": [
           {
            "colorbar": {
             "outlinewidth": 0,
             "ticks": ""
            },
            "colorscale": [
             [
              0,
              "#0d0887"
             ],
             [
              0.1111111111111111,
              "#46039f"
             ],
             [
              0.2222222222222222,
              "#7201a8"
             ],
             [
              0.3333333333333333,
              "#9c179e"
             ],
             [
              0.4444444444444444,
              "#bd3786"
             ],
             [
              0.5555555555555556,
              "#d8576b"
             ],
             [
              0.6666666666666666,
              "#ed7953"
             ],
             [
              0.7777777777777778,
              "#fb9f3a"
             ],
             [
              0.8888888888888888,
              "#fdca26"
             ],
             [
              1,
              "#f0f921"
             ]
            ],
            "type": "histogram2d"
           }
          ],
          "histogram2dcontour": [
           {
            "colorbar": {
             "outlinewidth": 0,
             "ticks": ""
            },
            "colorscale": [
             [
              0,
              "#0d0887"
             ],
             [
              0.1111111111111111,
              "#46039f"
             ],
             [
              0.2222222222222222,
              "#7201a8"
             ],
             [
              0.3333333333333333,
              "#9c179e"
             ],
             [
              0.4444444444444444,
              "#bd3786"
             ],
             [
              0.5555555555555556,
              "#d8576b"
             ],
             [
              0.6666666666666666,
              "#ed7953"
             ],
             [
              0.7777777777777778,
              "#fb9f3a"
             ],
             [
              0.8888888888888888,
              "#fdca26"
             ],
             [
              1,
              "#f0f921"
             ]
            ],
            "type": "histogram2dcontour"
           }
          ],
          "mesh3d": [
           {
            "colorbar": {
             "outlinewidth": 0,
             "ticks": ""
            },
            "type": "mesh3d"
           }
          ],
          "parcoords": [
           {
            "line": {
             "colorbar": {
              "outlinewidth": 0,
              "ticks": ""
             }
            },
            "type": "parcoords"
           }
          ],
          "pie": [
           {
            "automargin": true,
            "type": "pie"
           }
          ],
          "scatter": [
           {
            "fillpattern": {
             "fillmode": "overlay",
             "size": 10,
             "solidity": 0.2
            },
            "type": "scatter"
           }
          ],
          "scatter3d": [
           {
            "line": {
             "colorbar": {
              "outlinewidth": 0,
              "ticks": ""
             }
            },
            "marker": {
             "colorbar": {
              "outlinewidth": 0,
              "ticks": ""
             }
            },
            "type": "scatter3d"
           }
          ],
          "scattercarpet": [
           {
            "marker": {
             "colorbar": {
              "outlinewidth": 0,
              "ticks": ""
             }
            },
            "type": "scattercarpet"
           }
          ],
          "scattergeo": [
           {
            "marker": {
             "colorbar": {
              "outlinewidth": 0,
              "ticks": ""
             }
            },
            "type": "scattergeo"
           }
          ],
          "scattergl": [
           {
            "marker": {
             "colorbar": {
              "outlinewidth": 0,
              "ticks": ""
             }
            },
            "type": "scattergl"
           }
          ],
          "scattermapbox": [
           {
            "marker": {
             "colorbar": {
              "outlinewidth": 0,
              "ticks": ""
             }
            },
            "type": "scattermapbox"
           }
          ],
          "scatterpolar": [
           {
            "marker": {
             "colorbar": {
              "outlinewidth": 0,
              "ticks": ""
             }
            },
            "type": "scatterpolar"
           }
          ],
          "scatterpolargl": [
           {
            "marker": {
             "colorbar": {
              "outlinewidth": 0,
              "ticks": ""
             }
            },
            "type": "scatterpolargl"
           }
          ],
          "scatterternary": [
           {
            "marker": {
             "colorbar": {
              "outlinewidth": 0,
              "ticks": ""
             }
            },
            "type": "scatterternary"
           }
          ],
          "surface": [
           {
            "colorbar": {
             "outlinewidth": 0,
             "ticks": ""
            },
            "colorscale": [
             [
              0,
              "#0d0887"
             ],
             [
              0.1111111111111111,
              "#46039f"
             ],
             [
              0.2222222222222222,
              "#7201a8"
             ],
             [
              0.3333333333333333,
              "#9c179e"
             ],
             [
              0.4444444444444444,
              "#bd3786"
             ],
             [
              0.5555555555555556,
              "#d8576b"
             ],
             [
              0.6666666666666666,
              "#ed7953"
             ],
             [
              0.7777777777777778,
              "#fb9f3a"
             ],
             [
              0.8888888888888888,
              "#fdca26"
             ],
             [
              1,
              "#f0f921"
             ]
            ],
            "type": "surface"
           }
          ],
          "table": [
           {
            "cells": {
             "fill": {
              "color": "#EBF0F8"
             },
             "line": {
              "color": "white"
             }
            },
            "header": {
             "fill": {
              "color": "#C8D4E3"
             },
             "line": {
              "color": "white"
             }
            },
            "type": "table"
           }
          ]
         },
         "layout": {
          "annotationdefaults": {
           "arrowcolor": "#2a3f5f",
           "arrowhead": 0,
           "arrowwidth": 1
          },
          "autotypenumbers": "strict",
          "coloraxis": {
           "colorbar": {
            "outlinewidth": 0,
            "ticks": ""
           }
          },
          "colorscale": {
           "diverging": [
            [
             0,
             "#8e0152"
            ],
            [
             0.1,
             "#c51b7d"
            ],
            [
             0.2,
             "#de77ae"
            ],
            [
             0.3,
             "#f1b6da"
            ],
            [
             0.4,
             "#fde0ef"
            ],
            [
             0.5,
             "#f7f7f7"
            ],
            [
             0.6,
             "#e6f5d0"
            ],
            [
             0.7,
             "#b8e186"
            ],
            [
             0.8,
             "#7fbc41"
            ],
            [
             0.9,
             "#4d9221"
            ],
            [
             1,
             "#276419"
            ]
           ],
           "sequential": [
            [
             0,
             "#0d0887"
            ],
            [
             0.1111111111111111,
             "#46039f"
            ],
            [
             0.2222222222222222,
             "#7201a8"
            ],
            [
             0.3333333333333333,
             "#9c179e"
            ],
            [
             0.4444444444444444,
             "#bd3786"
            ],
            [
             0.5555555555555556,
             "#d8576b"
            ],
            [
             0.6666666666666666,
             "#ed7953"
            ],
            [
             0.7777777777777778,
             "#fb9f3a"
            ],
            [
             0.8888888888888888,
             "#fdca26"
            ],
            [
             1,
             "#f0f921"
            ]
           ],
           "sequentialminus": [
            [
             0,
             "#0d0887"
            ],
            [
             0.1111111111111111,
             "#46039f"
            ],
            [
             0.2222222222222222,
             "#7201a8"
            ],
            [
             0.3333333333333333,
             "#9c179e"
            ],
            [
             0.4444444444444444,
             "#bd3786"
            ],
            [
             0.5555555555555556,
             "#d8576b"
            ],
            [
             0.6666666666666666,
             "#ed7953"
            ],
            [
             0.7777777777777778,
             "#fb9f3a"
            ],
            [
             0.8888888888888888,
             "#fdca26"
            ],
            [
             1,
             "#f0f921"
            ]
           ]
          },
          "colorway": [
           "#636efa",
           "#EF553B",
           "#00cc96",
           "#ab63fa",
           "#FFA15A",
           "#19d3f3",
           "#FF6692",
           "#B6E880",
           "#FF97FF",
           "#FECB52"
          ],
          "font": {
           "color": "#2a3f5f"
          },
          "geo": {
           "bgcolor": "white",
           "lakecolor": "white",
           "landcolor": "#E5ECF6",
           "showlakes": true,
           "showland": true,
           "subunitcolor": "white"
          },
          "hoverlabel": {
           "align": "left"
          },
          "hovermode": "closest",
          "mapbox": {
           "style": "light"
          },
          "paper_bgcolor": "white",
          "plot_bgcolor": "#E5ECF6",
          "polar": {
           "angularaxis": {
            "gridcolor": "white",
            "linecolor": "white",
            "ticks": ""
           },
           "bgcolor": "#E5ECF6",
           "radialaxis": {
            "gridcolor": "white",
            "linecolor": "white",
            "ticks": ""
           }
          },
          "scene": {
           "xaxis": {
            "backgroundcolor": "#E5ECF6",
            "gridcolor": "white",
            "gridwidth": 2,
            "linecolor": "white",
            "showbackground": true,
            "ticks": "",
            "zerolinecolor": "white"
           },
           "yaxis": {
            "backgroundcolor": "#E5ECF6",
            "gridcolor": "white",
            "gridwidth": 2,
            "linecolor": "white",
            "showbackground": true,
            "ticks": "",
            "zerolinecolor": "white"
           },
           "zaxis": {
            "backgroundcolor": "#E5ECF6",
            "gridcolor": "white",
            "gridwidth": 2,
            "linecolor": "white",
            "showbackground": true,
            "ticks": "",
            "zerolinecolor": "white"
           }
          },
          "shapedefaults": {
           "line": {
            "color": "#2a3f5f"
           }
          },
          "ternary": {
           "aaxis": {
            "gridcolor": "white",
            "linecolor": "white",
            "ticks": ""
           },
           "baxis": {
            "gridcolor": "white",
            "linecolor": "white",
            "ticks": ""
           },
           "bgcolor": "#E5ECF6",
           "caxis": {
            "gridcolor": "white",
            "linecolor": "white",
            "ticks": ""
           }
          },
          "title": {
           "x": 0.05
          },
          "xaxis": {
           "automargin": true,
           "gridcolor": "white",
           "linecolor": "white",
           "ticks": "",
           "title": {
            "standoff": 15
           },
           "zerolinecolor": "white",
           "zerolinewidth": 2
          },
          "yaxis": {
           "automargin": true,
           "gridcolor": "white",
           "linecolor": "white",
           "ticks": "",
           "title": {
            "standoff": 15
           },
           "zerolinecolor": "white",
           "zerolinewidth": 2
          }
         }
        }
       }
      },
      "text/html": [
       "<div>                            <div id=\"0a437839-bd54-4665-bde8-1b8f995530c8\" class=\"plotly-graph-div\" style=\"height:525px; width:100%;\"></div>            <script type=\"text/javascript\">                require([\"plotly\"], function(Plotly) {                    window.PLOTLYENV=window.PLOTLYENV || {};                                    if (document.getElementById(\"0a437839-bd54-4665-bde8-1b8f995530c8\")) {                    Plotly.newPlot(                        \"0a437839-bd54-4665-bde8-1b8f995530c8\",                        [{\"name\":\"deepec\",\"text\":[0.09019607843137255,0.09019607843137255,0.09344576466078958,0.09019607843137255,0.0,0.09179216867469879],\"textposition\":\"auto\",\"texttemplate\":\"%{text:.2f}\",\"x\":[\"Accuracy\",\"Precision\",\"Recall\",\"PPV(Sensitivity)\",\"NPV(Specificity)\",\"F1\"],\"y\":[0.09019607843137255,0.09019607843137255,0.09344576466078958,0.09019607843137255,0.0,0.09179216867469879],\"type\":\"bar\"},{\"name\":\"priam\",\"text\":[0.2184979652238254,0.2184979652238254,0.3970687105015463,0.2184979652238254,0.0,0.28188239786177927],\"textposition\":\"auto\",\"texttemplate\":\"%{text:.2f}\",\"x\":[\"Accuracy\",\"Precision\",\"Recall\",\"PPV(Sensitivity)\",\"NPV(Specificity)\",\"F1\"],\"y\":[0.2184979652238254,0.2184979652238254,0.3970687105015463,0.2184979652238254,0.0,0.28188239786177927],\"type\":\"bar\"},{\"name\":\"ecblast\",\"text\":[0.54724380318165,0.3025024533856722,0.34350188048474717,0.3025024533856722,0.37037037037037035,0.3217011284325876],\"textposition\":\"auto\",\"texttemplate\":\"%{text:.2f}\",\"x\":[\"Accuracy\",\"Precision\",\"Recall\",\"PPV(Sensitivity)\",\"NPV(Specificity)\",\"F1\"],\"y\":[0.54724380318165,0.3025024533856722,0.34350188048474717,0.3025024533856722,0.37037037037037035,0.3217011284325876],\"type\":\"bar\"},{\"name\":\"clean\",\"text\":[0.23714391416944136,0.23714391416944136,1.0,0.23714391416944136,0.0,0.3833732057416268],\"textposition\":\"auto\",\"texttemplate\":\"%{text:.2f}\",\"x\":[\"Accuracy\",\"Precision\",\"Recall\",\"PPV(Sensitivity)\",\"NPV(Specificity)\",\"F1\"],\"y\":[0.23714391416944136,0.23714391416944136,1.0,0.23714391416944136,0.0,0.3833732057416268],\"type\":\"bar\"},{\"name\":\"catfam\",\"text\":[0.8102848686644469,0.7494163424124514,0.30046801872074885,0.7494163424124514,0.8166802943581357,0.4289532293986637],\"textposition\":\"auto\",\"texttemplate\":\"%{text:.2f}\",\"x\":[\"Accuracy\",\"Precision\",\"Recall\",\"PPV(Sensitivity)\",\"NPV(Specificity)\",\"F1\"],\"y\":[0.8102848686644469,0.7494163424124514,0.30046801872074885,0.7494163424124514,0.8166802943581357,0.4289532293986637],\"type\":\"bar\"},{\"name\":\"ecpred\",\"text\":[0.5978389579632919,0.34603515362941095,0.6316433994611805,0.34603515362941095,0.7034668031214021,0.44712205270457694],\"textposition\":\"auto\",\"texttemplate\":\"%{text:.2f}\",\"x\":[\"Accuracy\",\"Precision\",\"Recall\",\"PPV(Sensitivity)\",\"NPV(Specificity)\",\"F1\"],\"y\":[0.5978389579632919,0.34603515362941095,0.6316433994611805,0.34603515362941095,0.7034668031214021,0.44712205270457694],\"type\":\"bar\"},{\"name\":\"ecrecer\",\"text\":[0.7894931557528672,0.5328347318496899,0.9113884555382216,0.5328347318496899,0.964645835926802,0.6724991366409578],\"textposition\":\"auto\",\"texttemplate\":\"%{text:.2f}\",\"x\":[\"Accuracy\",\"Precision\",\"Recall\",\"PPV(Sensitivity)\",\"NPV(Specificity)\",\"F1\"],\"y\":[0.7894931557528672,0.5328347318496899,0.9113884555382216,0.5328347318496899,0.964645835926802,0.6724991366409578],\"type\":\"bar\"}],                        {\"barcornerradius\":10,\"template\":{\"data\":{\"histogram2dcontour\":[{\"type\":\"histogram2dcontour\",\"colorbar\":{\"outlinewidth\":0,\"ticks\":\"\"},\"colorscale\":[[0.0,\"#0d0887\"],[0.1111111111111111,\"#46039f\"],[0.2222222222222222,\"#7201a8\"],[0.3333333333333333,\"#9c179e\"],[0.4444444444444444,\"#bd3786\"],[0.5555555555555556,\"#d8576b\"],[0.6666666666666666,\"#ed7953\"],[0.7777777777777778,\"#fb9f3a\"],[0.8888888888888888,\"#fdca26\"],[1.0,\"#f0f921\"]]}],\"choropleth\":[{\"type\":\"choropleth\",\"colorbar\":{\"outlinewidth\":0,\"ticks\":\"\"}}],\"histogram2d\":[{\"type\":\"histogram2d\",\"colorbar\":{\"outlinewidth\":0,\"ticks\":\"\"},\"colorscale\":[[0.0,\"#0d0887\"],[0.1111111111111111,\"#46039f\"],[0.2222222222222222,\"#7201a8\"],[0.3333333333333333,\"#9c179e\"],[0.4444444444444444,\"#bd3786\"],[0.5555555555555556,\"#d8576b\"],[0.6666666666666666,\"#ed7953\"],[0.7777777777777778,\"#fb9f3a\"],[0.8888888888888888,\"#fdca26\"],[1.0,\"#f0f921\"]]}],\"heatmap\":[{\"type\":\"heatmap\",\"colorbar\":{\"outlinewidth\":0,\"ticks\":\"\"},\"colorscale\":[[0.0,\"#0d0887\"],[0.1111111111111111,\"#46039f\"],[0.2222222222222222,\"#7201a8\"],[0.3333333333333333,\"#9c179e\"],[0.4444444444444444,\"#bd3786\"],[0.5555555555555556,\"#d8576b\"],[0.6666666666666666,\"#ed7953\"],[0.7777777777777778,\"#fb9f3a\"],[0.8888888888888888,\"#fdca26\"],[1.0,\"#f0f921\"]]}],\"heatmapgl\":[{\"type\":\"heatmapgl\",\"colorbar\":{\"outlinewidth\":0,\"ticks\":\"\"},\"colorscale\":[[0.0,\"#0d0887\"],[0.1111111111111111,\"#46039f\"],[0.2222222222222222,\"#7201a8\"],[0.3333333333333333,\"#9c179e\"],[0.4444444444444444,\"#bd3786\"],[0.5555555555555556,\"#d8576b\"],[0.6666666666666666,\"#ed7953\"],[0.7777777777777778,\"#fb9f3a\"],[0.8888888888888888,\"#fdca26\"],[1.0,\"#f0f921\"]]}],\"contourcarpet\":[{\"type\":\"contourcarpet\",\"colorbar\":{\"outlinewidth\":0,\"ticks\":\"\"}}],\"contour\":[{\"type\":\"contour\",\"colorbar\":{\"outlinewidth\":0,\"ticks\":\"\"},\"colorscale\":[[0.0,\"#0d0887\"],[0.1111111111111111,\"#46039f\"],[0.2222222222222222,\"#7201a8\"],[0.3333333333333333,\"#9c179e\"],[0.4444444444444444,\"#bd3786\"],[0.5555555555555556,\"#d8576b\"],[0.6666666666666666,\"#ed7953\"],[0.7777777777777778,\"#fb9f3a\"],[0.8888888888888888,\"#fdca26\"],[1.0,\"#f0f921\"]]}],\"surface\":[{\"type\":\"surface\",\"colorbar\":{\"outlinewidth\":0,\"ticks\":\"\"},\"colorscale\":[[0.0,\"#0d0887\"],[0.1111111111111111,\"#46039f\"],[0.2222222222222222,\"#7201a8\"],[0.3333333333333333,\"#9c179e\"],[0.4444444444444444,\"#bd3786\"],[0.5555555555555556,\"#d8576b\"],[0.6666666666666666,\"#ed7953\"],[0.7777777777777778,\"#fb9f3a\"],[0.8888888888888888,\"#fdca26\"],[1.0,\"#f0f921\"]]}],\"mesh3d\":[{\"type\":\"mesh3d\",\"colorbar\":{\"outlinewidth\":0,\"ticks\":\"\"}}],\"scatter\":[{\"fillpattern\":{\"fillmode\":\"overlay\",\"size\":10,\"solidity\":0.2},\"type\":\"scatter\"}],\"parcoords\":[{\"type\":\"parcoords\",\"line\":{\"colorbar\":{\"outlinewidth\":0,\"ticks\":\"\"}}}],\"scatterpolargl\":[{\"type\":\"scatterpolargl\",\"marker\":{\"colorbar\":{\"outlinewidth\":0,\"ticks\":\"\"}}}],\"bar\":[{\"error_x\":{\"color\":\"#2a3f5f\"},\"error_y\":{\"color\":\"#2a3f5f\"},\"marker\":{\"line\":{\"color\":\"#E5ECF6\",\"width\":0.5},\"pattern\":{\"fillmode\":\"overlay\",\"size\":10,\"solidity\":0.2}},\"type\":\"bar\"}],\"scattergeo\":[{\"type\":\"scattergeo\",\"marker\":{\"colorbar\":{\"outlinewidth\":0,\"ticks\":\"\"}}}],\"scatterpolar\":[{\"type\":\"scatterpolar\",\"marker\":{\"colorbar\":{\"outlinewidth\":0,\"ticks\":\"\"}}}],\"histogram\":[{\"marker\":{\"pattern\":{\"fillmode\":\"overlay\",\"size\":10,\"solidity\":0.2}},\"type\":\"histogram\"}],\"scattergl\":[{\"type\":\"scattergl\",\"marker\":{\"colorbar\":{\"outlinewidth\":0,\"ticks\":\"\"}}}],\"scatter3d\":[{\"type\":\"scatter3d\",\"line\":{\"colorbar\":{\"outlinewidth\":0,\"ticks\":\"\"}},\"marker\":{\"colorbar\":{\"outlinewidth\":0,\"ticks\":\"\"}}}],\"scattermapbox\":[{\"type\":\"scattermapbox\",\"marker\":{\"colorbar\":{\"outlinewidth\":0,\"ticks\":\"\"}}}],\"scatterternary\":[{\"type\":\"scatterternary\",\"marker\":{\"colorbar\":{\"outlinewidth\":0,\"ticks\":\"\"}}}],\"scattercarpet\":[{\"type\":\"scattercarpet\",\"marker\":{\"colorbar\":{\"outlinewidth\":0,\"ticks\":\"\"}}}],\"carpet\":[{\"aaxis\":{\"endlinecolor\":\"#2a3f5f\",\"gridcolor\":\"white\",\"linecolor\":\"white\",\"minorgridcolor\":\"white\",\"startlinecolor\":\"#2a3f5f\"},\"baxis\":{\"endlinecolor\":\"#2a3f5f\",\"gridcolor\":\"white\",\"linecolor\":\"white\",\"minorgridcolor\":\"white\",\"startlinecolor\":\"#2a3f5f\"},\"type\":\"carpet\"}],\"table\":[{\"cells\":{\"fill\":{\"color\":\"#EBF0F8\"},\"line\":{\"color\":\"white\"}},\"header\":{\"fill\":{\"color\":\"#C8D4E3\"},\"line\":{\"color\":\"white\"}},\"type\":\"table\"}],\"barpolar\":[{\"marker\":{\"line\":{\"color\":\"#E5ECF6\",\"width\":0.5},\"pattern\":{\"fillmode\":\"overlay\",\"size\":10,\"solidity\":0.2}},\"type\":\"barpolar\"}],\"pie\":[{\"automargin\":true,\"type\":\"pie\"}]},\"layout\":{\"autotypenumbers\":\"strict\",\"colorway\":[\"#636efa\",\"#EF553B\",\"#00cc96\",\"#ab63fa\",\"#FFA15A\",\"#19d3f3\",\"#FF6692\",\"#B6E880\",\"#FF97FF\",\"#FECB52\"],\"font\":{\"color\":\"#2a3f5f\"},\"hovermode\":\"closest\",\"hoverlabel\":{\"align\":\"left\"},\"paper_bgcolor\":\"white\",\"plot_bgcolor\":\"#E5ECF6\",\"polar\":{\"bgcolor\":\"#E5ECF6\",\"angularaxis\":{\"gridcolor\":\"white\",\"linecolor\":\"white\",\"ticks\":\"\"},\"radialaxis\":{\"gridcolor\":\"white\",\"linecolor\":\"white\",\"ticks\":\"\"}},\"ternary\":{\"bgcolor\":\"#E5ECF6\",\"aaxis\":{\"gridcolor\":\"white\",\"linecolor\":\"white\",\"ticks\":\"\"},\"baxis\":{\"gridcolor\":\"white\",\"linecolor\":\"white\",\"ticks\":\"\"},\"caxis\":{\"gridcolor\":\"white\",\"linecolor\":\"white\",\"ticks\":\"\"}},\"coloraxis\":{\"colorbar\":{\"outlinewidth\":0,\"ticks\":\"\"}},\"colorscale\":{\"sequential\":[[0.0,\"#0d0887\"],[0.1111111111111111,\"#46039f\"],[0.2222222222222222,\"#7201a8\"],[0.3333333333333333,\"#9c179e\"],[0.4444444444444444,\"#bd3786\"],[0.5555555555555556,\"#d8576b\"],[0.6666666666666666,\"#ed7953\"],[0.7777777777777778,\"#fb9f3a\"],[0.8888888888888888,\"#fdca26\"],[1.0,\"#f0f921\"]],\"sequentialminus\":[[0.0,\"#0d0887\"],[0.1111111111111111,\"#46039f\"],[0.2222222222222222,\"#7201a8\"],[0.3333333333333333,\"#9c179e\"],[0.4444444444444444,\"#bd3786\"],[0.5555555555555556,\"#d8576b\"],[0.6666666666666666,\"#ed7953\"],[0.7777777777777778,\"#fb9f3a\"],[0.8888888888888888,\"#fdca26\"],[1.0,\"#f0f921\"]],\"diverging\":[[0,\"#8e0152\"],[0.1,\"#c51b7d\"],[0.2,\"#de77ae\"],[0.3,\"#f1b6da\"],[0.4,\"#fde0ef\"],[0.5,\"#f7f7f7\"],[0.6,\"#e6f5d0\"],[0.7,\"#b8e186\"],[0.8,\"#7fbc41\"],[0.9,\"#4d9221\"],[1,\"#276419\"]]},\"xaxis\":{\"gridcolor\":\"white\",\"linecolor\":\"white\",\"ticks\":\"\",\"title\":{\"standoff\":15},\"zerolinecolor\":\"white\",\"automargin\":true,\"zerolinewidth\":2},\"yaxis\":{\"gridcolor\":\"white\",\"linecolor\":\"white\",\"ticks\":\"\",\"title\":{\"standoff\":15},\"zerolinecolor\":\"white\",\"automargin\":true,\"zerolinewidth\":2},\"scene\":{\"xaxis\":{\"backgroundcolor\":\"#E5ECF6\",\"gridcolor\":\"white\",\"linecolor\":\"white\",\"showbackground\":true,\"ticks\":\"\",\"zerolinecolor\":\"white\",\"gridwidth\":2},\"yaxis\":{\"backgroundcolor\":\"#E5ECF6\",\"gridcolor\":\"white\",\"linecolor\":\"white\",\"showbackground\":true,\"ticks\":\"\",\"zerolinecolor\":\"white\",\"gridwidth\":2},\"zaxis\":{\"backgroundcolor\":\"#E5ECF6\",\"gridcolor\":\"white\",\"linecolor\":\"white\",\"showbackground\":true,\"ticks\":\"\",\"zerolinecolor\":\"white\",\"gridwidth\":2}},\"shapedefaults\":{\"line\":{\"color\":\"#2a3f5f\"}},\"annotationdefaults\":{\"arrowcolor\":\"#2a3f5f\",\"arrowhead\":0,\"arrowwidth\":1},\"geo\":{\"bgcolor\":\"white\",\"landcolor\":\"#E5ECF6\",\"subunitcolor\":\"white\",\"showland\":true,\"showlakes\":true,\"lakecolor\":\"white\"},\"title\":{\"x\":0.05},\"mapbox\":{\"style\":\"light\"}}}},                        {\"responsive\": true}                    ).then(function(){\n",
       "                            \n",
       "var gd = document.getElementById('0a437839-bd54-4665-bde8-1b8f995530c8');\n",
       "var x = new MutationObserver(function (mutations, observer) {{\n",
       "        var display = window.getComputedStyle(gd).display;\n",
       "        if (!display || display === 'none') {{\n",
       "            console.log([gd, 'removed!']);\n",
       "            Plotly.purge(gd);\n",
       "            observer.disconnect();\n",
       "        }}\n",
       "}});\n",
       "\n",
       "// Listen for the removal of the full notebook cells\n",
       "var notebookContainer = gd.closest('#notebook-container');\n",
       "if (notebookContainer) {{\n",
       "    x.observe(notebookContainer, {childList: true});\n",
       "}}\n",
       "\n",
       "// Listen for the clearing of the current output cell\n",
       "var outputEl = gd.closest('.output');\n",
       "if (outputEl) {{\n",
       "    x.observe(outputEl, {childList: true});\n",
       "}}\n",
       "\n",
       "                        })                };                });            </script>        </div>"
      ]
     },
     "metadata": {},
     "output_type": "display_data"
    }
   ],
   "source": [
    "fig_data = resl.sort_values(by=['F1']).set_index('baselineName').T.head(6)\n",
    "\n",
    "\n",
    "plotdata = []\n",
    "for method in fig_data.columns.values:\n",
    "    plotdata.append(go.Bar(\n",
    "        x=fig_data.index, \n",
    "        y=fig_data[f'{method}'], \n",
    "        name=f'{method}',\n",
    "        text=fig_data[f'{method}'],\n",
    "        textposition='auto',\n",
    "        texttemplate='%{text:.2f}',  # 格式化数值标签 (保留两位小数)\n",
    "        ))\n",
    "\n",
    "fig = go.Figure(\n",
    "    data=plotdata,\n",
    "    layout=dict(\n",
    "        barcornerradius=10,\n",
    "        \n",
    "    ),\n",
    ")\n",
    "\n",
    "fig.show()"
   ]
  },
  {
   "cell_type": "markdown",
   "metadata": {},
   "source": [
    "### 5.2 Reaction prediction"
   ]
  },
  {
   "cell_type": "code",
   "execution_count": 6,
   "metadata": {},
   "outputs": [
    {
     "name": "stdout",
     "output_type": "stream",
     "text": [
      "Evaluating: Reaction Predcition Results [FULL SET]\n",
      "Evaluating: Reaction Predcition Results [NONE ENZYME]\n",
      "Evaluating: Reaction Predcition Results [ENZYME]\n"
     ]
    }
   ],
   "source": [
    "# Make Label\n",
    "res_method_ec['lb_rxn_blast'] = res_method_ec.reaction_ecblast.apply(lambda x: btools.make_label(reaction_id=str(x), rxn_label_dict=dict_rxn2id))\n",
    "res_method_ec['lb_rxn_deepec'] = res_method_ec.reaction_deepec.apply(lambda x: btools.make_label(reaction_id=str(x), rxn_label_dict=dict_rxn2id))\n",
    "res_method_ec['lb_rxn_clean'] = res_method_ec.reaction_clean.apply(lambda x: btools.make_label(reaction_id=str(x), rxn_label_dict=dict_rxn2id))\n",
    "res_method_ec['lb_rxn_ecrecer'] = res_method_ec.reaction_ecrecer.apply(lambda x: btools.make_label(reaction_id=str(x), rxn_label_dict=dict_rxn2id))\n",
    "res_method_ec['lb_rxn_ecpred'] = res_method_ec.reaction_ecpred.apply(lambda x: btools.make_label(reaction_id=str(x), rxn_label_dict=dict_rxn2id))\n",
    "res_method_ec['lb_rxn_catfam'] = res_method_ec.reaction_catfam.apply(lambda x: btools.make_label(reaction_id=str(x), rxn_label_dict=dict_rxn2id))\n",
    "res_method_ec['lb_rxn_priam'] = res_method_ec.reaction_priam.apply(lambda x: btools.make_label(reaction_id=str(x), rxn_label_dict=dict_rxn2id))\n",
    "\n",
    "#full\n",
    "metrics_rxn_fullset = btools.rxn_eva_metric(eva_df=res_method_ec, eva_name='[FULL SET]', methods=methods)\n",
    "#noneenzyme\n",
    "res_noneenzyme = res_method_ec[res_method_ec.rxn_groundtruth=='-'].reset_index(drop=True)\n",
    "metrics_rxn_noneenzyme = btools.rxn_eva_metric(eva_df=res_noneenzyme, eva_name='[NONE ENZYME]', methods=methods)\n",
    "#enzyme\n",
    "res_enzyme = res_method_ec[res_method_ec.rxn_groundtruth!='-'].reset_index(drop=True)\n",
    "metrics_rxn_enzyme = btools.rxn_eva_metric(eva_df=res_enzyme, eva_name='[ENZYME]', methods=methods)"
   ]
  },
  {
   "cell_type": "code",
   "execution_count": 11,
   "metadata": {},
   "outputs": [
    {
     "data": {
      "text/html": [
       "\n",
       "     <div style=\"float:left; width: 25%;\"><h2>Reaction Predcition Results <span style=\"color:red\"> [FULL SET]</span></h2><table border=\"1\" class=\"dataframe\">\n",
       "  <thead>\n",
       "    <tr style=\"text-align: right;\">\n",
       "      <th></th>\n",
       "      <th>baselineName</th>\n",
       "      <th>mAccuracy</th>\n",
       "      <th>mPrecision</th>\n",
       "      <th>mRecall</th>\n",
       "      <th>mF1</th>\n",
       "    </tr>\n",
       "  </thead>\n",
       "  <tbody>\n",
       "    <tr>\n",
       "      <th>0</th>\n",
       "      <td>ecrecer</td>\n",
       "      <td>0.689900</td>\n",
       "      <td>0.967961</td>\n",
       "      <td>0.651723</td>\n",
       "      <td>0.714824</td>\n",
       "    </tr>\n",
       "    <tr>\n",
       "      <th>1</th>\n",
       "      <td>catfam</td>\n",
       "      <td>0.770477</td>\n",
       "      <td>0.870005</td>\n",
       "      <td>0.670351</td>\n",
       "      <td>0.620349</td>\n",
       "    </tr>\n",
       "    <tr>\n",
       "      <th>2</th>\n",
       "      <td>blast</td>\n",
       "      <td>0.433370</td>\n",
       "      <td>0.907868</td>\n",
       "      <td>0.409190</td>\n",
       "      <td>0.504355</td>\n",
       "    </tr>\n",
       "    <tr>\n",
       "      <th>3</th>\n",
       "      <td>ecpred</td>\n",
       "      <td>0.420792</td>\n",
       "      <td>0.926196</td>\n",
       "      <td>0.363490</td>\n",
       "      <td>0.455263</td>\n",
       "    </tr>\n",
       "    <tr>\n",
       "      <th>4</th>\n",
       "      <td>clean</td>\n",
       "      <td>0.078949</td>\n",
       "      <td>0.879031</td>\n",
       "      <td>0.145483</td>\n",
       "      <td>0.097747</td>\n",
       "    </tr>\n",
       "    <tr>\n",
       "      <th>5</th>\n",
       "      <td>priam</td>\n",
       "      <td>0.017832</td>\n",
       "      <td>0.853372</td>\n",
       "      <td>0.160137</td>\n",
       "      <td>0.075407</td>\n",
       "    </tr>\n",
       "    <tr>\n",
       "      <th>6</th>\n",
       "      <td>deepec</td>\n",
       "      <td>0.034850</td>\n",
       "      <td>0.978400</td>\n",
       "      <td>0.052406</td>\n",
       "      <td>0.059727</td>\n",
       "    </tr>\n",
       "  </tbody>\n",
       "</table> </div>\n",
       "     <div style=\"float:left; width: 25%;\"><h2>Reaction Predcition Results <span style=\"color:red\"> [NONE-ENZYME]</span></h2><table border=\"1\" class=\"dataframe\">\n",
       "  <thead>\n",
       "    <tr style=\"text-align: right;\">\n",
       "      <th></th>\n",
       "      <th>baselineName</th>\n",
       "      <th>mAccuracy</th>\n",
       "      <th>mPrecision</th>\n",
       "      <th>mRecall</th>\n",
       "      <th>mF1</th>\n",
       "    </tr>\n",
       "  </thead>\n",
       "  <tbody>\n",
       "    <tr>\n",
       "      <th>0</th>\n",
       "      <td>catfam</td>\n",
       "      <td>0.968768</td>\n",
       "      <td>1.0</td>\n",
       "      <td>0.968768</td>\n",
       "      <td>0.984136</td>\n",
       "    </tr>\n",
       "    <tr>\n",
       "      <th>1</th>\n",
       "      <td>ecrecer</td>\n",
       "      <td>0.751600</td>\n",
       "      <td>1.0</td>\n",
       "      <td>0.751600</td>\n",
       "      <td>0.858187</td>\n",
       "    </tr>\n",
       "    <tr>\n",
       "      <th>2</th>\n",
       "      <td>ecpred</td>\n",
       "      <td>0.533560</td>\n",
       "      <td>1.0</td>\n",
       "      <td>0.533560</td>\n",
       "      <td>0.695845</td>\n",
       "    </tr>\n",
       "    <tr>\n",
       "      <th>3</th>\n",
       "      <td>blast</td>\n",
       "      <td>0.478177</td>\n",
       "      <td>1.0</td>\n",
       "      <td>0.478177</td>\n",
       "      <td>0.646982</td>\n",
       "    </tr>\n",
       "    <tr>\n",
       "      <th>4</th>\n",
       "      <td>deepec</td>\n",
       "      <td>0.000000</td>\n",
       "      <td>1.0</td>\n",
       "      <td>0.000000</td>\n",
       "      <td>0.000000</td>\n",
       "    </tr>\n",
       "    <tr>\n",
       "      <th>5</th>\n",
       "      <td>clean</td>\n",
       "      <td>0.000000</td>\n",
       "      <td>1.0</td>\n",
       "      <td>0.000000</td>\n",
       "      <td>0.000000</td>\n",
       "    </tr>\n",
       "    <tr>\n",
       "      <th>6</th>\n",
       "      <td>priam</td>\n",
       "      <td>0.000000</td>\n",
       "      <td>1.0</td>\n",
       "      <td>0.000000</td>\n",
       "      <td>0.000000</td>\n",
       "    </tr>\n",
       "  </tbody>\n",
       "</table> </div>\n",
       "     <div style=\"float:left; width: 25%;\"><h2>Reaction Predcition Results <span style=\"color:red\"> [ENZYME]</span></h2><table border=\"1\" class=\"dataframe\">\n",
       "  <thead>\n",
       "    <tr style=\"text-align: right;\">\n",
       "      <th></th>\n",
       "      <th>baselineName</th>\n",
       "      <th>mAccuracy</th>\n",
       "      <th>mPrecision</th>\n",
       "      <th>mRecall</th>\n",
       "      <th>mF1</th>\n",
       "    </tr>\n",
       "  </thead>\n",
       "  <tbody>\n",
       "    <tr>\n",
       "      <th>0</th>\n",
       "      <td>ecrecer</td>\n",
       "      <td>0.491420</td>\n",
       "      <td>0.979519</td>\n",
       "      <td>0.474029</td>\n",
       "      <td>0.486309</td>\n",
       "    </tr>\n",
       "    <tr>\n",
       "      <th>1</th>\n",
       "      <td>clean</td>\n",
       "      <td>0.332917</td>\n",
       "      <td>0.861700</td>\n",
       "      <td>0.404314</td>\n",
       "      <td>0.389627</td>\n",
       "    </tr>\n",
       "    <tr>\n",
       "      <th>2</th>\n",
       "      <td>blast</td>\n",
       "      <td>0.289236</td>\n",
       "      <td>0.931659</td>\n",
       "      <td>0.286454</td>\n",
       "      <td>0.297081</td>\n",
       "    </tr>\n",
       "    <tr>\n",
       "      <th>3</th>\n",
       "      <td>priam</td>\n",
       "      <td>0.075195</td>\n",
       "      <td>0.692765</td>\n",
       "      <td>0.445039</td>\n",
       "      <td>0.289674</td>\n",
       "    </tr>\n",
       "    <tr>\n",
       "      <th>4</th>\n",
       "      <td>deepec</td>\n",
       "      <td>0.146958</td>\n",
       "      <td>0.964808</td>\n",
       "      <td>0.145643</td>\n",
       "      <td>0.171148</td>\n",
       "    </tr>\n",
       "    <tr>\n",
       "      <th>5</th>\n",
       "      <td>catfam</td>\n",
       "      <td>0.132605</td>\n",
       "      <td>0.978662</td>\n",
       "      <td>0.139431</td>\n",
       "      <td>0.152270</td>\n",
       "    </tr>\n",
       "    <tr>\n",
       "      <th>6</th>\n",
       "      <td>ecpred</td>\n",
       "      <td>0.058034</td>\n",
       "      <td>0.977168</td>\n",
       "      <td>0.060915</td>\n",
       "      <td>0.073204</td>\n",
       "    </tr>\n",
       "  </tbody>\n",
       "</table> </div>\n",
       "     "
      ],
      "text/plain": [
       "<IPython.core.display.HTML object>"
      ]
     },
     "execution_count": 11,
     "metadata": {},
     "output_type": "execute_result"
    }
   ],
   "source": [
    "#show results\n",
    "HTML(f'''\n",
    "     <div style=\"float:left; width: 25%;\"><h2>Reaction Predcition Results <span style=\"color:red\"> [FULL SET]</span></h2>{metrics_rxn_fullset.sort_values(by=['mF1'], ascending=False).reset_index(drop=True).to_html()} </div>\n",
    "     <div style=\"float:left; width: 25%;\"><h2>Reaction Predcition Results <span style=\"color:red\"> [NONE-ENZYME]</span></h2>{metrics_rxn_noneenzyme.sort_values(by=['mF1'], ascending=False).reset_index(drop=True).to_html()} </div>\n",
    "     <div style=\"float:left; width: 25%;\"><h2>Reaction Predcition Results <span style=\"color:red\"> [ENZYME]</span></h2>{metrics_rxn_enzyme.sort_values(by=['mF1'], ascending=False).reset_index(drop=True).to_html()} </div>\n",
    "     ''')"
   ]
  }
 ],
 "metadata": {
  "kernelspec": {
   "display_name": "Python 3",
   "language": "python",
   "name": "python3"
  },
  "language_info": {
   "codemirror_mode": {
    "name": "ipython",
    "version": 3
   },
   "file_extension": ".py",
   "mimetype": "text/x-python",
   "name": "python",
   "nbconvert_exporter": "python",
   "pygments_lexer": "ipython3",
   "version": "3.10.14"
  },
  "orig_nbformat": 4
 },
 "nbformat": 4,
 "nbformat_minor": 2
}
