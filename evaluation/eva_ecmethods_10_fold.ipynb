{
 "cells": [
  {
   "cell_type": "markdown",
   "metadata": {},
   "source": [
    "## 反应直接预测结果分析\n",
    "> 2024-11-04\n",
    "\n",
    "### 1. 导入必要的包"
   ]
  },
  {
   "cell_type": "code",
   "execution_count": 1,
   "metadata": {},
   "outputs": [
    {
     "name": "stdout",
     "output_type": "stream",
     "text": [
      "INFO: Pandarallel will run on 128 workers.\n",
      "INFO: Pandarallel will use Memory file system to transfer data between the main process and workers.\n"
     ]
    }
   ],
   "source": [
    "import sys,os\n",
    "sys.path.insert(0, os.path.dirname(os.path.realpath('__file__')))\n",
    "sys.path.insert(1,'../')\n",
    "from config import conf as cfg\n",
    "import pandas as pd\n",
    "from tqdm import tqdm\n",
    "from tkinter import _flatten\n",
    "import json\n",
    "from sklearn.metrics import confusion_matrix\n",
    "\n",
    "from concurrent.futures import ThreadPoolExecutor, as_completed\n",
    "import numpy as np\n",
    "import plotly.graph_objects as go\n",
    "\n",
    "from tools import btools\n",
    "from IPython.display import HTML\n",
    "\n",
    "from pandarallel import pandarallel # 导入pandaralle\n",
    "pandarallel.initialize(progress_bar=False)\n",
    "%load_ext autoreload\n",
    "%autoreload 2"
   ]
  },
  {
   "cell_type": "markdown",
   "metadata": {},
   "source": [
    "### 2. 加载测试数据集"
   ]
  },
  {
   "cell_type": "code",
   "execution_count": 4,
   "metadata": {},
   "outputs": [
    {
     "name": "stdout",
     "output_type": "stream",
     "text": [
      "加载反应编码字典完成，共有 10479 个反应。\n",
      "测试集数据量: 13515\n",
      "使用预测方法['blast', 'deepec', 'clean', 'ecrecer', 'ecpred', 'catfam', 'priam']\n"
     ]
    },
    {
     "data": {
      "text/html": [
       "<div>\n",
       "<style scoped>\n",
       "    .dataframe tbody tr th:only-of-type {\n",
       "        vertical-align: middle;\n",
       "    }\n",
       "\n",
       "    .dataframe tbody tr th {\n",
       "        vertical-align: top;\n",
       "    }\n",
       "\n",
       "    .dataframe thead th {\n",
       "        text-align: right;\n",
       "    }\n",
       "</style>\n",
       "<table border=\"1\" class=\"dataframe\">\n",
       "  <thead>\n",
       "    <tr style=\"text-align: right;\">\n",
       "      <th></th>\n",
       "      <th>uniprot_id</th>\n",
       "      <th>rxn_groundtruth</th>\n",
       "      <th>isenzyme_groundtruth</th>\n",
       "      <th>ec_groundtruth</th>\n",
       "      <th>ec_specific_level</th>\n",
       "      <th>lb_rxn_groundtruth</th>\n",
       "    </tr>\n",
       "  </thead>\n",
       "  <tbody>\n",
       "    <tr>\n",
       "      <th>0</th>\n",
       "      <td>A9JLI2</td>\n",
       "      <td>-</td>\n",
       "      <td>False</td>\n",
       "      <td>-</td>\n",
       "      <td>0</td>\n",
       "      <td>[0, 0, 0, 0, 0, 0, 0, 0, 0, 0, 0, 0, 0, 0, 0, ...</td>\n",
       "    </tr>\n",
       "    <tr>\n",
       "      <th>1</th>\n",
       "      <td>A9JLI3</td>\n",
       "      <td>-</td>\n",
       "      <td>False</td>\n",
       "      <td>-</td>\n",
       "      <td>0</td>\n",
       "      <td>[0, 0, 0, 0, 0, 0, 0, 0, 0, 0, 0, 0, 0, 0, 0, ...</td>\n",
       "    </tr>\n",
       "  </tbody>\n",
       "</table>\n",
       "</div>"
      ],
      "text/plain": [
       "  uniprot_id rxn_groundtruth  isenzyme_groundtruth ec_groundtruth  \\\n",
       "0     A9JLI2               -                 False              -   \n",
       "1     A9JLI3               -                 False              -   \n",
       "\n",
       "   ec_specific_level                                 lb_rxn_groundtruth  \n",
       "0                  0  [0, 0, 0, 0, 0, 0, 0, 0, 0, 0, 0, 0, 0, 0, 0, ...  \n",
       "1                  0  [0, 0, 0, 0, 0, 0, 0, 0, 0, 0, 0, 0, 0, 0, 0, ...  "
      ]
     },
     "execution_count": 4,
     "metadata": {},
     "output_type": "execute_result"
    }
   ],
   "source": [
    "# 从 JSON 文件加载反应编码字典\n",
    "with open(cfg.FILE_DS_DICT_RXN2ID, \"r\") as json_file:\n",
    "    dict_rxn2id = json.load(json_file)\n",
    "    print(f'加载反应编码字典完成，共有 {len(dict_rxn2id)} 个反应。')  # 打印加载的数据\n",
    "\n",
    "# load datasets\n",
    "ds_test = pd.read_feather(cfg.FILE_DS_TEST)[['uniprot_id', \n",
    "                                             'reaction_id', \n",
    "                                             'isenzyme',\n",
    "                                             'ec_number',\n",
    "                                             'ec_specific_level',\n",
    "                                             'label'\n",
    "                                             ]].rename(columns={'reaction_id':'rxn_groundtruth','isenzyme':'isenzyme_groundtruth','ec_number':'ec_groundtruth', 'label':'lb_rxn_groundtruth'})\n",
    "\n",
    "print(f'测试集数据量: {len(ds_test)}')\n",
    "\n",
    "methods = ['blast', 'deepec', 'clean', 'ecrecer', 'ecpred', 'catfam', 'priam']\n",
    "\n",
    "print(f'使用预测方法{methods}')\n",
    "\n",
    "ds_test.head(2)\n"
   ]
  },
  {
   "cell_type": "markdown",
   "metadata": {},
   "source": [
    "## 4. Load results from EC based method"
   ]
  },
  {
   "cell_type": "code",
   "execution_count": 9,
   "metadata": {},
   "outputs": [],
   "source": [
    "def get_ec_rxn_nores(pred_detail, eckey, rxnkey):\n",
    "    #没有预测结果的\n",
    "    no_predcition = len(pred_detail[(pred_detail[eckey].str.contains('NO-PREDICTION'))])\n",
    "    #有EC没反应的\n",
    "    ecwithout_reaction = len(pred_detail[(pred_detail[rxnkey].str.contains('EC-WITHOUT-REACTION'))])\n",
    "    return [len(pred_detail), no_predcition, ecwithout_reaction]\n",
    "\n",
    "# Make one-hot encoding label for each prediction\n",
    "def make_labels(resdf, src_col1, src_col2, lb1, lb2, rxn_label_dict):\n",
    "    resdf[[lb1, lb2]] = resdf.apply(\n",
    "        lambda row: pd.Series({\n",
    "            lb1: btools.make_label(reaction_id=str(row[src_col1]), rxn_label_dict=rxn_label_dict),\n",
    "            lb2: btools.make_label(reaction_id=str(row[src_col2]), rxn_label_dict=rxn_label_dict)\n",
    "        }), axis=1\n",
    "    )\n",
    "    \n",
    "    return resdf\n",
    "\n",
    "# Function to calculate metrics\n",
    "def calculate_metrics(res_df_list,item, method):\n",
    "    return btools.rxn_eva_metric(eva_df=res_df_list[item], eva_name=f'{method}_fold_{item+1}', methods=[method])\n",
    "\n",
    "\n",
    "# Function to display results as HTML\n",
    "def display_html_results(metrics, fold_std, eva_name):\n",
    "    return HTML(f\"\"\"\n",
    "         <div style=\"float:left; width:800px;\">\n",
    "              <h2 style='color:blue'>{eva_name} Evaluation 10 Fold Details</h2>\n",
    "              {metrics.to_html()}\n",
    "         </div>\n",
    "         <div  style=\"float:left; width:400px;\" >\n",
    "              <h2 style='color:blue' >{eva_name} Evaluation 10 Fold Overview</h2>\n",
    "                   {fold_std.to_html()}\n",
    "         </div>\n",
    "         \"\"\")"
   ]
  },
  {
   "cell_type": "code",
   "execution_count": 2,
   "metadata": {},
   "outputs": [],
   "source": [
    "# Read CSV files serially\n",
    "def read_csv_files(file_paths):\n",
    "    return [pd.read_csv(file, sep='\\t') for file in file_paths]\n",
    "\n",
    "# Function to get ec_rxn_nores\n",
    "def get_ec_rxn_nores(pred_detail, eckey, rxnkey):\n",
    "    no_prediction = len(pred_detail[(pred_detail[eckey].str.contains('NO-PREDICTION'))])\n",
    "    ecwithout_reaction = len(pred_detail[(pred_detail[rxnkey].str.contains('EC-WITHOUT-REACTION'))])\n",
    "    return [len(pred_detail), no_prediction, ecwithout_reaction]\n",
    "\n",
    "def process_no_res(res_list, eckey, rxnkey):\n",
    "    return pd.DataFrame([get_ec_rxn_nores(pred_detail=res_list[item], eckey=eckey, rxnkey=rxnkey) for item in range(10)], \n",
    "                        columns=['test_size', 'no_prediction', 'ec_without_rxn'])\n",
    "\n",
    "# Make one-hot encoding label for each prediction\n",
    "def make_labels(resdf, src_col1, src_col2, lb1, lb2, rxn_label_dict):\n",
    "    resdf[[lb1, lb2]] = resdf.apply(\n",
    "        lambda row: pd.Series({\n",
    "            lb1: btools.make_label(reaction_id=str(row[src_col1]), rxn_label_dict=rxn_label_dict),\n",
    "            lb2: btools.make_label(reaction_id=str(row[src_col2]), rxn_label_dict=rxn_label_dict)\n",
    "        }), axis=1\n",
    "    )\n",
    "    return resdf\n",
    "\n",
    "def apply_labels(res_list, src_col1, src_col2, lb1, lb2, rxn_label_dict):\n",
    "    for i in tqdm(range(10)):\n",
    "        res_list[i] = make_labels(resdf=res_list[i], src_col1=src_col1, src_col2=src_col2, lb1=lb1, lb2=lb2, rxn_label_dict=rxn_label_dict)\n",
    "    return res_list\n",
    "\n",
    "# Function to calculate metrics\n",
    "def calculate_metrics(res_df_list, item, method):\n",
    "    return btools.rxn_eva_metric(eva_df=res_df_list[item], eva_name=f'{method}_fold_{item+1}', methods=[method])\n",
    "\n",
    "def process_metrics(res_list, method, max_workers=10):\n",
    "    with ThreadPoolExecutor(max_workers=max_workers) as executor:\n",
    "        futures = [executor.submit(calculate_metrics, res_list, item, method) for item in range(10)]\n",
    "        metrics = [future.result() for future in as_completed(futures)]\n",
    "    metrics_df = pd.concat(metrics, axis=0).reset_index(drop=True)\n",
    "    metrics_df['baselineName'] = metrics_df.apply(lambda x: f'fold_{x.name+1}', axis=1)\n",
    "    return metrics_df\n",
    "\n",
    "# Function to display results as HTML\n",
    "def display_html_results(metrics, fold_std, eva_name):\n",
    "    return HTML(f\"\"\"\n",
    "         <div style=\"float:left; width:800px;\">\n",
    "              <h2 style='color:blue'>{eva_name} Evaluation 10 Fold Details</h2>\n",
    "              {metrics.to_html()}\n",
    "         </div>\n",
    "         <div  style=\"float:left; width:400px;\" >\n",
    "              <h2 style='color:blue' >{eva_name} Evaluation 10 Fold Overview</h2>\n",
    "                   {fold_std.to_html()}\n",
    "         </div>\n",
    "         \"\"\")"
   ]
  },
  {
   "cell_type": "markdown",
   "metadata": {},
   "source": [
    "### 4.1 Blast"
   ]
  },
  {
   "cell_type": "code",
   "execution_count": 5,
   "metadata": {},
   "outputs": [
    {
     "name": "stderr",
     "output_type": "stream",
     "text": [
      "100%|██████████| 10/10 [01:50<00:00, 11.04s/it]\n"
     ]
    },
    {
     "name": "stdout",
     "output_type": "stream",
     "text": [
      "Evaluating: Reaction Predcition Results blast_fold_1\n",
      "Evaluating: Reaction Predcition Results blast_fold_2\n",
      "Evaluating: Reaction Predcition Results blast_fold_3\n",
      "Evaluating: Reaction Predcition Results blast_fold_4\n",
      "Evaluating: Reaction Predcition Results blast_fold_5\n",
      "Evaluating: Reaction Predcition Results blast_fold_6\n",
      "Evaluating: Reaction Predcition Results blast_fold_7\n",
      "Evaluating: Reaction Predcition Results blast_fold_8\n",
      "Evaluating: Reaction Predcition Results blast_fold_9\n",
      "Evaluating: Reaction Predcition Results blast_fold_10\n"
     ]
    },
    {
     "data": {
      "text/html": [
       "\n",
       "         <div style=\"float:left; width:800px;\">\n",
       "              <h2 style='color:blue'>Blast Evaluation 10 Fold Details</h2>\n",
       "              <table border=\"1\" class=\"dataframe\">\n",
       "  <thead>\n",
       "    <tr style=\"text-align: right;\">\n",
       "      <th></th>\n",
       "      <th>baselineName</th>\n",
       "      <th>mAccuracy</th>\n",
       "      <th>mPrecision</th>\n",
       "      <th>mRecall</th>\n",
       "      <th>mF1</th>\n",
       "      <th>test_size</th>\n",
       "      <th>no_prediction</th>\n",
       "      <th>ec_without_rxn</th>\n",
       "    </tr>\n",
       "  </thead>\n",
       "  <tbody>\n",
       "    <tr>\n",
       "      <th>0</th>\n",
       "      <td>fold_1</td>\n",
       "      <td>0.812655</td>\n",
       "      <td>0.900039</td>\n",
       "      <td>0.770326</td>\n",
       "      <td>0.780296</td>\n",
       "      <td>50858</td>\n",
       "      <td>2424</td>\n",
       "      <td>2588</td>\n",
       "    </tr>\n",
       "    <tr>\n",
       "      <th>1</th>\n",
       "      <td>fold_2</td>\n",
       "      <td>0.816155</td>\n",
       "      <td>0.908173</td>\n",
       "      <td>0.772592</td>\n",
       "      <td>0.782565</td>\n",
       "      <td>50858</td>\n",
       "      <td>2386</td>\n",
       "      <td>2590</td>\n",
       "    </tr>\n",
       "    <tr>\n",
       "      <th>2</th>\n",
       "      <td>fold_3</td>\n",
       "      <td>0.814346</td>\n",
       "      <td>0.900316</td>\n",
       "      <td>0.773433</td>\n",
       "      <td>0.783523</td>\n",
       "      <td>50858</td>\n",
       "      <td>2379</td>\n",
       "      <td>2751</td>\n",
       "    </tr>\n",
       "    <tr>\n",
       "      <th>3</th>\n",
       "      <td>fold_4</td>\n",
       "      <td>0.815034</td>\n",
       "      <td>0.905346</td>\n",
       "      <td>0.767950</td>\n",
       "      <td>0.777297</td>\n",
       "      <td>50858</td>\n",
       "      <td>2301</td>\n",
       "      <td>2628</td>\n",
       "    </tr>\n",
       "    <tr>\n",
       "      <th>4</th>\n",
       "      <td>fold_5</td>\n",
       "      <td>0.818141</td>\n",
       "      <td>0.896578</td>\n",
       "      <td>0.773133</td>\n",
       "      <td>0.782244</td>\n",
       "      <td>50858</td>\n",
       "      <td>2418</td>\n",
       "      <td>2591</td>\n",
       "    </tr>\n",
       "    <tr>\n",
       "      <th>5</th>\n",
       "      <td>fold_6</td>\n",
       "      <td>0.818259</td>\n",
       "      <td>0.902929</td>\n",
       "      <td>0.774894</td>\n",
       "      <td>0.784619</td>\n",
       "      <td>50858</td>\n",
       "      <td>2391</td>\n",
       "      <td>2633</td>\n",
       "    </tr>\n",
       "    <tr>\n",
       "      <th>6</th>\n",
       "      <td>fold_7</td>\n",
       "      <td>0.817276</td>\n",
       "      <td>0.909542</td>\n",
       "      <td>0.775508</td>\n",
       "      <td>0.785564</td>\n",
       "      <td>50858</td>\n",
       "      <td>2369</td>\n",
       "      <td>2615</td>\n",
       "    </tr>\n",
       "    <tr>\n",
       "      <th>7</th>\n",
       "      <td>fold_8</td>\n",
       "      <td>0.816646</td>\n",
       "      <td>0.907582</td>\n",
       "      <td>0.775516</td>\n",
       "      <td>0.785456</td>\n",
       "      <td>50858</td>\n",
       "      <td>2381</td>\n",
       "      <td>2674</td>\n",
       "    </tr>\n",
       "    <tr>\n",
       "      <th>8</th>\n",
       "      <td>fold_9</td>\n",
       "      <td>0.815093</td>\n",
       "      <td>0.908947</td>\n",
       "      <td>0.774655</td>\n",
       "      <td>0.785816</td>\n",
       "      <td>50858</td>\n",
       "      <td>2449</td>\n",
       "      <td>2626</td>\n",
       "    </tr>\n",
       "    <tr>\n",
       "      <th>9</th>\n",
       "      <td>fold_10</td>\n",
       "      <td>0.815329</td>\n",
       "      <td>0.896387</td>\n",
       "      <td>0.770627</td>\n",
       "      <td>0.780760</td>\n",
       "      <td>50858</td>\n",
       "      <td>2431</td>\n",
       "      <td>2584</td>\n",
       "    </tr>\n",
       "  </tbody>\n",
       "</table>\n",
       "         </div>\n",
       "         <div  style=\"float:left; width:400px;\" >\n",
       "              <h2 style='color:blue' >Blast Evaluation 10 Fold Overview</h2>\n",
       "                   <table border=\"1\" class=\"dataframe\">\n",
       "  <thead>\n",
       "    <tr style=\"text-align: right;\">\n",
       "      <th></th>\n",
       "      <th>mAccuracy</th>\n",
       "      <th>mPrecision</th>\n",
       "      <th>mRecall</th>\n",
       "      <th>mF1</th>\n",
       "      <th>no_prediction</th>\n",
       "      <th>ec_without_rxn</th>\n",
       "    </tr>\n",
       "  </thead>\n",
       "  <tbody>\n",
       "    <tr>\n",
       "      <th>mean</th>\n",
       "      <td>0.815893</td>\n",
       "      <td>0.903584</td>\n",
       "      <td>0.772863</td>\n",
       "      <td>0.782814</td>\n",
       "      <td>2392.900000</td>\n",
       "      <td>2628.000000</td>\n",
       "    </tr>\n",
       "    <tr>\n",
       "      <th>std</th>\n",
       "      <td>0.001757</td>\n",
       "      <td>0.005044</td>\n",
       "      <td>0.002526</td>\n",
       "      <td>0.002763</td>\n",
       "      <td>41.631852</td>\n",
       "      <td>51.415519</td>\n",
       "    </tr>\n",
       "  </tbody>\n",
       "</table>\n",
       "         </div>\n",
       "         "
      ],
      "text/plain": [
       "<IPython.core.display.HTML object>"
      ]
     },
     "execution_count": 5,
     "metadata": {},
     "output_type": "execute_result"
    }
   ],
   "source": [
    "# Blast Results Processing\n",
    "vali_res_blast = [f'{cfg.DIR_PROJECT_ROOT}/baselines/results/ec_methods/blast/fold{item}.tsv' for item in range(1, 11)]\n",
    "res_blast = read_csv_files(vali_res_blast)\n",
    "df_blast_no_pred = process_no_res(res_blast, eckey='ec_blast', rxnkey='reaction_ecblast')\n",
    "res_blast = apply_labels(res_blast, 'reaction_groundtruth', 'reaction_ecblast', 'lb_rxn_groundtruth', 'lb_rxn_blast', dict_rxn2id)\n",
    "res_blast_metrics = process_metrics(res_blast, 'blast')\n",
    "res_blast_metrics = pd.concat([res_blast_metrics, df_blast_no_pred], axis=1)\n",
    "res_blast_fold_std = res_blast_metrics[['mAccuracy', 'mPrecision', 'mRecall', 'mF1', 'no_prediction', 'ec_without_rxn']].agg(['mean', 'std'])\n",
    "display_html_results(res_blast_metrics, res_blast_fold_std, 'Blast')"
   ]
  },
  {
   "cell_type": "markdown",
   "metadata": {},
   "source": [
    "### 4.2 DeepEC"
   ]
  },
  {
   "cell_type": "code",
   "execution_count": 6,
   "metadata": {},
   "outputs": [
    {
     "name": "stderr",
     "output_type": "stream",
     "text": [
      "100%|██████████| 10/10 [01:53<00:00, 11.36s/it]\n"
     ]
    },
    {
     "name": "stdout",
     "output_type": "stream",
     "text": [
      "Evaluating: Reaction Predcition Results deepec_fold_1\n",
      "Evaluating: Reaction Predcition Results deepec_fold_2\n",
      "Evaluating: Reaction Predcition Results deepec_fold_3\n",
      "Evaluating: Reaction Predcition Results deepec_fold_4\n",
      "Evaluating: Reaction Predcition Results deepec_fold_5\n",
      "Evaluating: Reaction Predcition Results deepec_fold_6\n",
      "Evaluating: Reaction Predcition Results deepec_fold_7\n",
      "Evaluating: Reaction Predcition Results deepec_fold_8\n",
      "Evaluating: Reaction Predcition Results deepec_fold_9\n",
      "Evaluating: Reaction Predcition Results deepec_fold_10\n"
     ]
    },
    {
     "data": {
      "text/html": [
       "\n",
       "         <div style=\"float:left; width:800px;\">\n",
       "              <h2 style='color:blue'>DeepEC Evaluation 10 Fold Details</h2>\n",
       "              <table border=\"1\" class=\"dataframe\">\n",
       "  <thead>\n",
       "    <tr style=\"text-align: right;\">\n",
       "      <th></th>\n",
       "      <th>baselineName</th>\n",
       "      <th>mAccuracy</th>\n",
       "      <th>mPrecision</th>\n",
       "      <th>mRecall</th>\n",
       "      <th>mF1</th>\n",
       "      <th>test_size</th>\n",
       "      <th>no_prediction</th>\n",
       "      <th>ec_without_rxn</th>\n",
       "    </tr>\n",
       "  </thead>\n",
       "  <tbody>\n",
       "    <tr>\n",
       "      <th>0</th>\n",
       "      <td>fold_1</td>\n",
       "      <td>0.295666</td>\n",
       "      <td>0.678831</td>\n",
       "      <td>0.314152</td>\n",
       "      <td>0.298580</td>\n",
       "      <td>50858</td>\n",
       "      <td>30918</td>\n",
       "      <td>1572</td>\n",
       "    </tr>\n",
       "    <tr>\n",
       "      <th>1</th>\n",
       "      <td>fold_2</td>\n",
       "      <td>0.295076</td>\n",
       "      <td>0.631594</td>\n",
       "      <td>0.312436</td>\n",
       "      <td>0.296666</td>\n",
       "      <td>50858</td>\n",
       "      <td>30958</td>\n",
       "      <td>1543</td>\n",
       "    </tr>\n",
       "    <tr>\n",
       "      <th>2</th>\n",
       "      <td>fold_3</td>\n",
       "      <td>0.292324</td>\n",
       "      <td>0.792598</td>\n",
       "      <td>0.311300</td>\n",
       "      <td>0.295358</td>\n",
       "      <td>50858</td>\n",
       "      <td>30749</td>\n",
       "      <td>1673</td>\n",
       "    </tr>\n",
       "    <tr>\n",
       "      <th>3</th>\n",
       "      <td>fold_4</td>\n",
       "      <td>0.293621</td>\n",
       "      <td>0.554215</td>\n",
       "      <td>0.312943</td>\n",
       "      <td>0.297203</td>\n",
       "      <td>50858</td>\n",
       "      <td>30916</td>\n",
       "      <td>1587</td>\n",
       "    </tr>\n",
       "    <tr>\n",
       "      <th>4</th>\n",
       "      <td>fold_5</td>\n",
       "      <td>0.294782</td>\n",
       "      <td>0.796569</td>\n",
       "      <td>0.314072</td>\n",
       "      <td>0.297998</td>\n",
       "      <td>50858</td>\n",
       "      <td>30799</td>\n",
       "      <td>1580</td>\n",
       "    </tr>\n",
       "    <tr>\n",
       "      <th>5</th>\n",
       "      <td>fold_6</td>\n",
       "      <td>0.296394</td>\n",
       "      <td>0.787736</td>\n",
       "      <td>0.314370</td>\n",
       "      <td>0.298089</td>\n",
       "      <td>50858</td>\n",
       "      <td>30908</td>\n",
       "      <td>1588</td>\n",
       "    </tr>\n",
       "    <tr>\n",
       "      <th>6</th>\n",
       "      <td>fold_7</td>\n",
       "      <td>0.292520</td>\n",
       "      <td>0.693832</td>\n",
       "      <td>0.310283</td>\n",
       "      <td>0.293920</td>\n",
       "      <td>50858</td>\n",
       "      <td>30984</td>\n",
       "      <td>1600</td>\n",
       "    </tr>\n",
       "    <tr>\n",
       "      <th>7</th>\n",
       "      <td>fold_8</td>\n",
       "      <td>0.293798</td>\n",
       "      <td>0.796867</td>\n",
       "      <td>0.313444</td>\n",
       "      <td>0.297703</td>\n",
       "      <td>50858</td>\n",
       "      <td>30991</td>\n",
       "      <td>1569</td>\n",
       "    </tr>\n",
       "    <tr>\n",
       "      <th>8</th>\n",
       "      <td>fold_9</td>\n",
       "      <td>0.291439</td>\n",
       "      <td>0.797269</td>\n",
       "      <td>0.312742</td>\n",
       "      <td>0.296435</td>\n",
       "      <td>50858</td>\n",
       "      <td>30938</td>\n",
       "      <td>1594</td>\n",
       "    </tr>\n",
       "    <tr>\n",
       "      <th>9</th>\n",
       "      <td>fold_10</td>\n",
       "      <td>0.294526</td>\n",
       "      <td>0.790948</td>\n",
       "      <td>0.314440</td>\n",
       "      <td>0.298719</td>\n",
       "      <td>50858</td>\n",
       "      <td>31044</td>\n",
       "      <td>1537</td>\n",
       "    </tr>\n",
       "  </tbody>\n",
       "</table>\n",
       "         </div>\n",
       "         <div  style=\"float:left; width:400px;\" >\n",
       "              <h2 style='color:blue' >DeepEC Evaluation 10 Fold Overview</h2>\n",
       "                   <table border=\"1\" class=\"dataframe\">\n",
       "  <thead>\n",
       "    <tr style=\"text-align: right;\">\n",
       "      <th></th>\n",
       "      <th>mAccuracy</th>\n",
       "      <th>mPrecision</th>\n",
       "      <th>mRecall</th>\n",
       "      <th>mF1</th>\n",
       "      <th>no_prediction</th>\n",
       "      <th>ec_without_rxn</th>\n",
       "    </tr>\n",
       "  </thead>\n",
       "  <tbody>\n",
       "    <tr>\n",
       "      <th>mean</th>\n",
       "      <td>0.294015</td>\n",
       "      <td>0.732046</td>\n",
       "      <td>0.313018</td>\n",
       "      <td>0.297067</td>\n",
       "      <td>30920.50000</td>\n",
       "      <td>1584.300000</td>\n",
       "    </tr>\n",
       "    <tr>\n",
       "      <th>std</th>\n",
       "      <td>0.001574</td>\n",
       "      <td>0.087473</td>\n",
       "      <td>0.001385</td>\n",
       "      <td>0.001518</td>\n",
       "      <td>88.39589</td>\n",
       "      <td>37.381071</td>\n",
       "    </tr>\n",
       "  </tbody>\n",
       "</table>\n",
       "         </div>\n",
       "         "
      ],
      "text/plain": [
       "<IPython.core.display.HTML object>"
      ]
     },
     "execution_count": 6,
     "metadata": {},
     "output_type": "execute_result"
    }
   ],
   "source": [
    "# DeepEC Results Processing\n",
    "vali_res_deepec_rxn = [f'{cfg.DIR_RES_BASELINE}results/ec_methods/deepec/fold_{item}.tsv' for item in range(1, 11)]\n",
    "res_ec_deepec = read_csv_files(vali_res_deepec_rxn)\n",
    "df_deepec_no_pred = process_no_res(res_ec_deepec, eckey='ec_deepec', rxnkey='reaction_deepec')\n",
    "res_ec_deepec = apply_labels(res_ec_deepec, 'reaction_groundtruth', 'reaction_deepec', 'lb_rxn_groundtruth', 'lb_rxn_deepec', dict_rxn2id)\n",
    "res_deepec_metrics = process_metrics(res_ec_deepec, 'deepec')\n",
    "res_deepec_metrics = pd.concat([res_deepec_metrics, df_deepec_no_pred], axis=1)\n",
    "res_deepec_fold_std = res_deepec_metrics[['mAccuracy', 'mPrecision', 'mRecall', 'mF1', 'no_prediction', 'ec_without_rxn']].agg(['mean', 'std'])\n",
    "display_html_results(res_deepec_metrics, res_deepec_fold_std, 'DeepEC')"
   ]
  },
  {
   "cell_type": "markdown",
   "metadata": {},
   "source": [
    "### 4.3 CLEAN"
   ]
  },
  {
   "cell_type": "code",
   "execution_count": 7,
   "metadata": {},
   "outputs": [
    {
     "name": "stderr",
     "output_type": "stream",
     "text": [
      "100%|██████████| 10/10 [01:50<00:00, 11.09s/it]\n"
     ]
    },
    {
     "name": "stdout",
     "output_type": "stream",
     "text": [
      "Evaluating: Reaction Predcition Results clean_fold_1\n",
      "Evaluating: Reaction Predcition Results clean_fold_2\n",
      "Evaluating: Reaction Predcition Results clean_fold_3\n",
      "Evaluating: Reaction Predcition Results clean_fold_4\n",
      "Evaluating: Reaction Predcition Results clean_fold_5\n",
      "Evaluating: Reaction Predcition Results clean_fold_6\n",
      "Evaluating: Reaction Predcition Results clean_fold_7\n",
      "Evaluating: Reaction Predcition Results clean_fold_8\n",
      "Evaluating: Reaction Predcition Results clean_fold_9\n",
      "Evaluating: Reaction Predcition Results clean_fold_10\n"
     ]
    },
    {
     "data": {
      "text/html": [
       "\n",
       "         <div style=\"float:left; width:800px;\">\n",
       "              <h2 style='color:blue'>Clean Evaluation 10 Fold Details</h2>\n",
       "              <table border=\"1\" class=\"dataframe\">\n",
       "  <thead>\n",
       "    <tr style=\"text-align: right;\">\n",
       "      <th></th>\n",
       "      <th>baselineName</th>\n",
       "      <th>mAccuracy</th>\n",
       "      <th>mPrecision</th>\n",
       "      <th>mRecall</th>\n",
       "      <th>mF1</th>\n",
       "      <th>test_size</th>\n",
       "      <th>no_prediction</th>\n",
       "      <th>ec_without_rxn</th>\n",
       "    </tr>\n",
       "  </thead>\n",
       "  <tbody>\n",
       "    <tr>\n",
       "      <th>0</th>\n",
       "      <td>fold_1</td>\n",
       "      <td>0.327303</td>\n",
       "      <td>0.811995</td>\n",
       "      <td>0.351246</td>\n",
       "      <td>0.299933</td>\n",
       "      <td>50858</td>\n",
       "      <td>0</td>\n",
       "      <td>8422</td>\n",
       "    </tr>\n",
       "    <tr>\n",
       "      <th>1</th>\n",
       "      <td>fold_2</td>\n",
       "      <td>0.326242</td>\n",
       "      <td>0.820704</td>\n",
       "      <td>0.351318</td>\n",
       "      <td>0.299370</td>\n",
       "      <td>50858</td>\n",
       "      <td>0</td>\n",
       "      <td>8454</td>\n",
       "    </tr>\n",
       "    <tr>\n",
       "      <th>2</th>\n",
       "      <td>fold_3</td>\n",
       "      <td>0.326930</td>\n",
       "      <td>0.815005</td>\n",
       "      <td>0.352811</td>\n",
       "      <td>0.300543</td>\n",
       "      <td>50858</td>\n",
       "      <td>0</td>\n",
       "      <td>8445</td>\n",
       "    </tr>\n",
       "    <tr>\n",
       "      <th>3</th>\n",
       "      <td>fold_4</td>\n",
       "      <td>0.328346</td>\n",
       "      <td>0.823550</td>\n",
       "      <td>0.352276</td>\n",
       "      <td>0.300670</td>\n",
       "      <td>50858</td>\n",
       "      <td>0</td>\n",
       "      <td>8359</td>\n",
       "    </tr>\n",
       "    <tr>\n",
       "      <th>4</th>\n",
       "      <td>fold_5</td>\n",
       "      <td>0.330607</td>\n",
       "      <td>0.821461</td>\n",
       "      <td>0.355162</td>\n",
       "      <td>0.303075</td>\n",
       "      <td>50858</td>\n",
       "      <td>0</td>\n",
       "      <td>8505</td>\n",
       "    </tr>\n",
       "    <tr>\n",
       "      <th>5</th>\n",
       "      <td>fold_6</td>\n",
       "      <td>0.324531</td>\n",
       "      <td>0.817712</td>\n",
       "      <td>0.350537</td>\n",
       "      <td>0.299149</td>\n",
       "      <td>50858</td>\n",
       "      <td>0</td>\n",
       "      <td>8526</td>\n",
       "    </tr>\n",
       "    <tr>\n",
       "      <th>6</th>\n",
       "      <td>fold_7</td>\n",
       "      <td>0.328444</td>\n",
       "      <td>0.816711</td>\n",
       "      <td>0.352898</td>\n",
       "      <td>0.300907</td>\n",
       "      <td>50858</td>\n",
       "      <td>0</td>\n",
       "      <td>8498</td>\n",
       "    </tr>\n",
       "    <tr>\n",
       "      <th>7</th>\n",
       "      <td>fold_8</td>\n",
       "      <td>0.329152</td>\n",
       "      <td>0.824149</td>\n",
       "      <td>0.354325</td>\n",
       "      <td>0.302759</td>\n",
       "      <td>50858</td>\n",
       "      <td>0</td>\n",
       "      <td>8381</td>\n",
       "    </tr>\n",
       "    <tr>\n",
       "      <th>8</th>\n",
       "      <td>fold_9</td>\n",
       "      <td>0.325219</td>\n",
       "      <td>0.657925</td>\n",
       "      <td>0.353400</td>\n",
       "      <td>0.302657</td>\n",
       "      <td>50858</td>\n",
       "      <td>0</td>\n",
       "      <td>8542</td>\n",
       "    </tr>\n",
       "    <tr>\n",
       "      <th>9</th>\n",
       "      <td>fold_10</td>\n",
       "      <td>0.330135</td>\n",
       "      <td>0.812376</td>\n",
       "      <td>0.354768</td>\n",
       "      <td>0.303487</td>\n",
       "      <td>50858</td>\n",
       "      <td>0</td>\n",
       "      <td>8550</td>\n",
       "    </tr>\n",
       "  </tbody>\n",
       "</table>\n",
       "         </div>\n",
       "         <div  style=\"float:left; width:400px;\" >\n",
       "              <h2 style='color:blue' >Clean Evaluation 10 Fold Overview</h2>\n",
       "                   <table border=\"1\" class=\"dataframe\">\n",
       "  <thead>\n",
       "    <tr style=\"text-align: right;\">\n",
       "      <th></th>\n",
       "      <th>mAccuracy</th>\n",
       "      <th>mPrecision</th>\n",
       "      <th>mRecall</th>\n",
       "      <th>mF1</th>\n",
       "      <th>no_prediction</th>\n",
       "      <th>ec_without_rxn</th>\n",
       "    </tr>\n",
       "  </thead>\n",
       "  <tbody>\n",
       "    <tr>\n",
       "      <th>mean</th>\n",
       "      <td>0.327691</td>\n",
       "      <td>0.802159</td>\n",
       "      <td>0.352874</td>\n",
       "      <td>0.301255</td>\n",
       "      <td>0.0</td>\n",
       "      <td>8468.200000</td>\n",
       "    </tr>\n",
       "    <tr>\n",
       "      <th>std</th>\n",
       "      <td>0.002015</td>\n",
       "      <td>0.050860</td>\n",
       "      <td>0.001567</td>\n",
       "      <td>0.001607</td>\n",
       "      <td>0.0</td>\n",
       "      <td>66.769587</td>\n",
       "    </tr>\n",
       "  </tbody>\n",
       "</table>\n",
       "         </div>\n",
       "         "
      ],
      "text/plain": [
       "<IPython.core.display.HTML object>"
      ]
     },
     "execution_count": 7,
     "metadata": {},
     "output_type": "execute_result"
    }
   ],
   "source": [
    "# Clean Results Processing\n",
    "vali_res_clean_rxn = [f'{cfg.DIR_RES_BASELINE}results/ec_methods/clean/fold_{item}.tsv' for item in range(1, 11)]\n",
    "res_clean = read_csv_files(vali_res_clean_rxn)\n",
    "df_clean_no_pred = process_no_res(res_clean, eckey='ec_clean', rxnkey='reaction_clean')\n",
    "res_clean = apply_labels(res_clean, 'reaction_groundtruth', 'reaction_clean', 'lb_rxn_groundtruth', 'lb_rxn_clean', dict_rxn2id)\n",
    "res_clean_metrics = process_metrics(res_clean, 'clean')\n",
    "res_clean_metrics = pd.concat([res_clean_metrics, df_clean_no_pred], axis=1)\n",
    "res_clean_fold_std = res_clean_metrics[['mAccuracy', 'mPrecision', 'mRecall', 'mF1', 'no_prediction', 'ec_without_rxn']].agg(['mean', 'std'])\n",
    "display_html_results(res_clean_metrics, res_clean_fold_std, 'Clean')"
   ]
  },
  {
   "cell_type": "markdown",
   "metadata": {},
   "source": [
    "### 4.4 ECRECer"
   ]
  },
  {
   "cell_type": "code",
   "execution_count": null,
   "metadata": {},
   "outputs": [
    {
     "name": "stderr",
     "output_type": "stream",
     "text": [
      " 10%|█         | 1/10 [00:11<01:39, 11.00s/it]"
     ]
    }
   ],
   "source": [
    "# ECRECer Results Processing\n",
    "vali_res_ecrecer_rxn = [f'{cfg.DIR_RES_BASELINE}results/ec_methods/ecrecer/fold_{item}.tsv' for item in range(1, 11)]\n",
    "res_ecrecer = read_csv_files(vali_res_ecrecer_rxn)\n",
    "df_ecrecer_no_pred = process_no_res(res_ecrecer, eckey='ec_ecrecer', rxnkey='rxn_ecrecer')\n",
    "res_ecrecer = apply_labels(res_ecrecer, 'reaction_groundtruth', 'rxn_ecrecer', 'lb_rxn_groundtruth', 'lb_rxn_ecrecer', dict_rxn2id)\n",
    "# res_ecrecer_metrics = process_metrics(res_ecrecer, 'ecrecer')\n",
    "# res_ecrecer_metrics = pd.concat([res_ecrecer_metrics, df_ecrecer_no_pred], axis=1)\n",
    "# res_ecrecer_fold_std = res_ecrecer_metrics[['mAccuracy', 'mPrecision', 'mRecall', 'mF1', 'no_prediction', 'ec_without_rxn']].agg(['mean', 'std'])\n",
    "# display_html_results(res_ecrecer_metrics, res_ecrecer_fold_std, 'ECRECer')"
   ]
  },
  {
   "cell_type": "code",
   "execution_count": 12,
   "metadata": {},
   "outputs": [
    {
     "data": {
      "text/html": [
       "<div>\n",
       "<style scoped>\n",
       "    .dataframe tbody tr th:only-of-type {\n",
       "        vertical-align: middle;\n",
       "    }\n",
       "\n",
       "    .dataframe tbody tr th {\n",
       "        vertical-align: top;\n",
       "    }\n",
       "\n",
       "    .dataframe thead th {\n",
       "        text-align: right;\n",
       "    }\n",
       "</style>\n",
       "<table border=\"1\" class=\"dataframe\">\n",
       "  <thead>\n",
       "    <tr style=\"text-align: right;\">\n",
       "      <th></th>\n",
       "      <th>uniprot_id</th>\n",
       "      <th>reaction_groundtruth</th>\n",
       "      <th>ec_groundtruth</th>\n",
       "      <th>ec_ecrecer</th>\n",
       "      <th>rxn_ecrecer</th>\n",
       "    </tr>\n",
       "  </thead>\n",
       "  <tbody>\n",
       "    <tr>\n",
       "      <th>0</th>\n",
       "      <td>Q9UYB6</td>\n",
       "      <td>-</td>\n",
       "      <td>-</td>\n",
       "      <td>-</td>\n",
       "      <td>-</td>\n",
       "    </tr>\n",
       "    <tr>\n",
       "      <th>1</th>\n",
       "      <td>C1AQW9</td>\n",
       "      <td>RHEA:19669</td>\n",
       "      <td>3.6.5.-</td>\n",
       "      <td>3.6.5.-</td>\n",
       "      <td>EC-WITHOUT-REACTION</td>\n",
       "    </tr>\n",
       "    <tr>\n",
       "      <th>2</th>\n",
       "      <td>P64647</td>\n",
       "      <td>-</td>\n",
       "      <td>-</td>\n",
       "      <td>-</td>\n",
       "      <td>-</td>\n",
       "    </tr>\n",
       "    <tr>\n",
       "      <th>3</th>\n",
       "      <td>Q9MTM3</td>\n",
       "      <td>RHEA:21248</td>\n",
       "      <td>2.7.7.6</td>\n",
       "      <td>2.7.7.6</td>\n",
       "      <td>RHEA:21248</td>\n",
       "    </tr>\n",
       "    <tr>\n",
       "      <th>4</th>\n",
       "      <td>P45894</td>\n",
       "      <td>RHEA:17989;RHEA:46608</td>\n",
       "      <td>2.7.11.1</td>\n",
       "      <td>2.7.11.1</td>\n",
       "      <td>RHEA:46608</td>\n",
       "    </tr>\n",
       "    <tr>\n",
       "      <th>...</th>\n",
       "      <td>...</td>\n",
       "      <td>...</td>\n",
       "      <td>...</td>\n",
       "      <td>...</td>\n",
       "      <td>...</td>\n",
       "    </tr>\n",
       "    <tr>\n",
       "      <th>50853</th>\n",
       "      <td>B2A826</td>\n",
       "      <td>-</td>\n",
       "      <td>-</td>\n",
       "      <td>-</td>\n",
       "      <td>-</td>\n",
       "    </tr>\n",
       "    <tr>\n",
       "      <th>50854</th>\n",
       "      <td>Q9SCB9</td>\n",
       "      <td>-</td>\n",
       "      <td>-</td>\n",
       "      <td>-</td>\n",
       "      <td>-</td>\n",
       "    </tr>\n",
       "    <tr>\n",
       "      <th>50855</th>\n",
       "      <td>P38647</td>\n",
       "      <td>-</td>\n",
       "      <td>-</td>\n",
       "      <td>-</td>\n",
       "      <td>-</td>\n",
       "    </tr>\n",
       "    <tr>\n",
       "      <th>50856</th>\n",
       "      <td>A3N2P1</td>\n",
       "      <td>RHEA:16585</td>\n",
       "      <td>2.8.1.8</td>\n",
       "      <td>2.8.1.8</td>\n",
       "      <td>RHEA:16585</td>\n",
       "    </tr>\n",
       "    <tr>\n",
       "      <th>50857</th>\n",
       "      <td>Q61Z75</td>\n",
       "      <td>-</td>\n",
       "      <td>-</td>\n",
       "      <td>-</td>\n",
       "      <td>-</td>\n",
       "    </tr>\n",
       "  </tbody>\n",
       "</table>\n",
       "<p>50858 rows × 5 columns</p>\n",
       "</div>"
      ],
      "text/plain": [
       "      uniprot_id   reaction_groundtruth ec_groundtruth ec_ecrecer  \\\n",
       "0         Q9UYB6                      -              -          -   \n",
       "1         C1AQW9             RHEA:19669        3.6.5.-    3.6.5.-   \n",
       "2         P64647                      -              -          -   \n",
       "3         Q9MTM3             RHEA:21248        2.7.7.6    2.7.7.6   \n",
       "4         P45894  RHEA:17989;RHEA:46608       2.7.11.1   2.7.11.1   \n",
       "...          ...                    ...            ...        ...   \n",
       "50853     B2A826                      -              -          -   \n",
       "50854     Q9SCB9                      -              -          -   \n",
       "50855     P38647                      -              -          -   \n",
       "50856     A3N2P1             RHEA:16585        2.8.1.8    2.8.1.8   \n",
       "50857     Q61Z75                      -              -          -   \n",
       "\n",
       "               rxn_ecrecer  \n",
       "0                        -  \n",
       "1      EC-WITHOUT-REACTION  \n",
       "2                        -  \n",
       "3               RHEA:21248  \n",
       "4               RHEA:46608  \n",
       "...                    ...  \n",
       "50853                    -  \n",
       "50854                    -  \n",
       "50855                    -  \n",
       "50856           RHEA:16585  \n",
       "50857                    -  \n",
       "\n",
       "[50858 rows x 5 columns]"
      ]
     },
     "execution_count": 12,
     "metadata": {},
     "output_type": "execute_result"
    }
   ],
   "source": [
    "res_ecrecer[0]"
   ]
  },
  {
   "cell_type": "code",
   "execution_count": 3,
   "metadata": {},
   "outputs": [
    {
     "data": {
      "text/html": [
       "<div>\n",
       "<style scoped>\n",
       "    .dataframe tbody tr th:only-of-type {\n",
       "        vertical-align: middle;\n",
       "    }\n",
       "\n",
       "    .dataframe tbody tr th {\n",
       "        vertical-align: top;\n",
       "    }\n",
       "\n",
       "    .dataframe thead th {\n",
       "        text-align: right;\n",
       "    }\n",
       "</style>\n",
       "<table border=\"1\" class=\"dataframe\">\n",
       "  <thead>\n",
       "    <tr style=\"text-align: right;\">\n",
       "      <th></th>\n",
       "      <th>uniprot_id</th>\n",
       "      <th>rxn_groundtruth</th>\n",
       "      <th>isenzyme_groundtruth</th>\n",
       "      <th>ec_groundtruth</th>\n",
       "      <th>ec_specific_level</th>\n",
       "      <th>lb_rxn_groundtruth</th>\n",
       "      <th>ec_ecblast</th>\n",
       "      <th>reaction_ecblast</th>\n",
       "      <th>ec_deepec</th>\n",
       "      <th>reaction_deepec</th>\n",
       "      <th>ec_clean</th>\n",
       "      <th>reaction_clean</th>\n",
       "      <th>ec_ecrecer</th>\n",
       "      <th>reaction_ecrecer</th>\n",
       "      <th>ec_ecpred</th>\n",
       "      <th>reaction_ecpred</th>\n",
       "      <th>ec_catfam</th>\n",
       "      <th>reaction_catfam</th>\n",
       "      <th>ec_priam</th>\n",
       "      <th>reaction_priam</th>\n",
       "    </tr>\n",
       "  </thead>\n",
       "  <tbody>\n",
       "    <tr>\n",
       "      <th>0</th>\n",
       "      <td>A9JLI2</td>\n",
       "      <td>-</td>\n",
       "      <td>False</td>\n",
       "      <td>-</td>\n",
       "      <td>0</td>\n",
       "      <td>[0, 0, 0, 0, 0, 0, 0, 0, 0, 0, 0, 0, 0, 0, 0, ...</td>\n",
       "      <td>-</td>\n",
       "      <td>-</td>\n",
       "      <td>NO-PREDICTION</td>\n",
       "      <td>NO-PREDICTION</td>\n",
       "      <td>3.2.2.6;1.4.3.2;4.2.3.81</td>\n",
       "      <td>RHEA:31427;RHEA:16301;RHEA:13781</td>\n",
       "      <td>-</td>\n",
       "      <td>-</td>\n",
       "      <td>-</td>\n",
       "      <td>-</td>\n",
       "      <td>-</td>\n",
       "      <td>-</td>\n",
       "      <td>NO-PREDICTION</td>\n",
       "      <td>NO-PREDICTION</td>\n",
       "    </tr>\n",
       "    <tr>\n",
       "      <th>1</th>\n",
       "      <td>A9JLI3</td>\n",
       "      <td>-</td>\n",
       "      <td>False</td>\n",
       "      <td>-</td>\n",
       "      <td>0</td>\n",
       "      <td>[0, 0, 0, 0, 0, 0, 0, 0, 0, 0, 0, 0, 0, 0, 0, ...</td>\n",
       "      <td>-</td>\n",
       "      <td>-</td>\n",
       "      <td>NO-PREDICTION</td>\n",
       "      <td>NO-PREDICTION</td>\n",
       "      <td>4.6.1.18</td>\n",
       "      <td>EC-WITHOUT-REACTION</td>\n",
       "      <td>-</td>\n",
       "      <td>-</td>\n",
       "      <td>-</td>\n",
       "      <td>-</td>\n",
       "      <td>-</td>\n",
       "      <td>-</td>\n",
       "      <td>1.14.11.51;2.3.2.27</td>\n",
       "      <td>RHEA:49524</td>\n",
       "    </tr>\n",
       "    <tr>\n",
       "      <th>2</th>\n",
       "      <td>A9JLI5</td>\n",
       "      <td>-</td>\n",
       "      <td>False</td>\n",
       "      <td>-</td>\n",
       "      <td>0</td>\n",
       "      <td>[0, 0, 0, 0, 0, 0, 0, 0, 0, 0, 0, 0, 0, 0, 0, ...</td>\n",
       "      <td>-</td>\n",
       "      <td>-</td>\n",
       "      <td>NO-PREDICTION</td>\n",
       "      <td>NO-PREDICTION</td>\n",
       "      <td>1.4.3.2</td>\n",
       "      <td>RHEA:13781</td>\n",
       "      <td>-</td>\n",
       "      <td>-</td>\n",
       "      <td>-</td>\n",
       "      <td>-</td>\n",
       "      <td>-</td>\n",
       "      <td>-</td>\n",
       "      <td>6.5.1.3</td>\n",
       "      <td>EC-WITHOUT-REACTION</td>\n",
       "    </tr>\n",
       "  </tbody>\n",
       "</table>\n",
       "</div>"
      ],
      "text/plain": [
       "  uniprot_id rxn_groundtruth  isenzyme_groundtruth ec_groundtruth  \\\n",
       "0     A9JLI2               -                 False              -   \n",
       "1     A9JLI3               -                 False              -   \n",
       "2     A9JLI5               -                 False              -   \n",
       "\n",
       "   ec_specific_level                                 lb_rxn_groundtruth  \\\n",
       "0                  0  [0, 0, 0, 0, 0, 0, 0, 0, 0, 0, 0, 0, 0, 0, 0, ...   \n",
       "1                  0  [0, 0, 0, 0, 0, 0, 0, 0, 0, 0, 0, 0, 0, 0, 0, ...   \n",
       "2                  0  [0, 0, 0, 0, 0, 0, 0, 0, 0, 0, 0, 0, 0, 0, 0, ...   \n",
       "\n",
       "  ec_ecblast reaction_ecblast      ec_deepec reaction_deepec  \\\n",
       "0          -                -  NO-PREDICTION   NO-PREDICTION   \n",
       "1          -                -  NO-PREDICTION   NO-PREDICTION   \n",
       "2          -                -  NO-PREDICTION   NO-PREDICTION   \n",
       "\n",
       "                   ec_clean                    reaction_clean ec_ecrecer  \\\n",
       "0  3.2.2.6;1.4.3.2;4.2.3.81  RHEA:31427;RHEA:16301;RHEA:13781          -   \n",
       "1                  4.6.1.18               EC-WITHOUT-REACTION          -   \n",
       "2                   1.4.3.2                        RHEA:13781          -   \n",
       "\n",
       "  reaction_ecrecer ec_ecpred reaction_ecpred ec_catfam reaction_catfam  \\\n",
       "0                -         -               -         -               -   \n",
       "1                -         -               -         -               -   \n",
       "2                -         -               -         -               -   \n",
       "\n",
       "              ec_priam       reaction_priam  \n",
       "0        NO-PREDICTION        NO-PREDICTION  \n",
       "1  1.14.11.51;2.3.2.27           RHEA:49524  \n",
       "2              6.5.1.3  EC-WITHOUT-REACTION  "
      ]
     },
     "execution_count": 3,
     "metadata": {},
     "output_type": "execute_result"
    }
   ],
   "source": [
    "method = ['ecblast', 'deepec', 'clean', 'ecrecer', 'ecpred', 'catfam', 'priam']\n",
    "res_ec_ecblast = pd.read_csv(cfg.FILE_RESULTS_BLAST_EC, sep='\\t')\n",
    "\n",
    "\n",
    "res_ec_deepec = pd.read_csv(cfg.FILE_RESULTS_DEEPEC, sep='\\t')\n",
    "res_ec_catfam = pd.read_csv(cfg.FILE_RESULTS_CATFAM, sep='\\t')\n",
    "res_ec_ecpred = pd.read_csv(cfg.FILE_RESULTS_ECPRED, sep='\\t')\n",
    "res_ec_priam = pd.read_csv(cfg.FILE_RESULTS_PRIAM, sep='\\t')\n",
    "res_ec_clean = pd.read_csv(cfg.FILE_RESULTS_CLEAN, sep='\\t')\n",
    "res_ec_ecrecer = pd.read_csv(cfg.FILE_RESULTS_ECRECER, sep='\\t')\n",
    "\n",
    "res_method_ec = ds_test\n",
    "\n",
    "for m in method:\n",
    "    res_method_ec = res_method_ec.merge(\n",
    "        globals()[f'res_ec_{m}'][['uniprot_id', f'ec_{m}', f'reaction_{m}']],\n",
    "        on='uniprot_id',\n",
    "        how='left'\n",
    "    )\n",
    "res_method_ec.head(3)"
   ]
  },
  {
   "cell_type": "code",
   "execution_count": 4,
   "metadata": {},
   "outputs": [
    {
     "name": "stdout",
     "output_type": "stream",
     "text": [
      "Test sample: 13515\n",
      "Blast NO-PREDICTION: 4280 (31.67%)\n",
      "Blast EC without Reaction: 1278 (9.46%), \n",
      "      Involves: 154 distinct ECs, Incomplete ECs: 75 (48.70%) e.g.['3.5.1.-', '5.5.1.-', '3.1.21.-', '2.4.2.-', '2.8.1.-', '2.8.3.-', '1.3.1.-', '1.1.1.-', '1.14.18.-', '2.3.1.-'], \n",
      "      Complete ECs: 79 (51.30%) e.g.['1.6.5.11', '1.14.13.28', '1.14.13.79', '1.6.99.3', '3.6.3.16', '1.14.11.19', '1.10.2.2', '1.14.13.174', '3.3.1.1', '1.14.13.123']\n"
     ]
    }
   ],
   "source": [
    "test_sample = len(ds_test)\n",
    "#没有预测结果的\n",
    "blast_no_predcition = len(res_method_ec[(res_method_ec.ec_ecblast.str.contains('NO-PREDICTION'))])\n",
    "#有EC没反应的\n",
    "blast_ec_without_reaction = len(res_method_ec[(res_method_ec.reaction_ecblast.str.contains('EC-WITHOUT-REACTION'))])\n",
    "\n",
    "# 有EC没有反应统计\n",
    "list_ec_no_rxn = list(set(res_method_ec[(res_method_ec.reaction_ecblast.str.contains('EC-WITHOUT-REACTION'))].ec_ecblast.values))\n",
    "list_ec_no_rxn = set(_flatten([item.split(cfg.SPLITER) for item in list_ec_no_rxn]))\n",
    "list_ec_no_rxn = pd.DataFrame(list(list_ec_no_rxn), columns=['ec_number'])\n",
    "\n",
    "num_ec_no_rxn = len(list_ec_no_rxn)\n",
    "\n",
    "ec_no_rxn_incomplete = set(list_ec_no_rxn[list_ec_no_rxn.ec_number.str.contains('-')].ec_number)\n",
    "ec_no_rxn_complete = set(list_ec_no_rxn[~list_ec_no_rxn.ec_number.str.contains('-')].ec_number)\n",
    "num_ec_no_rxn_incomplete =len(ec_no_rxn_incomplete)\n",
    "num_ec_no_rxn_complete =len(ec_no_rxn_complete)\n",
    "\n",
    "\n",
    "print(f\"Test sample: {test_sample}\")\n",
    "print(f\"Blast NO-PREDICTION: {blast_no_predcition} ({blast_no_predcition/test_sample:.2%})\")\n",
    "print(f'''Blast EC without Reaction: {blast_ec_without_reaction} ({blast_ec_without_reaction/test_sample:.2%}), \n",
    "      Involves: {num_ec_no_rxn} distinct ECs, Incomplete ECs: {num_ec_no_rxn_incomplete} ({num_ec_no_rxn_incomplete/num_ec_no_rxn:.2%}) e.g.{list(ec_no_rxn_incomplete)[:10]}, \n",
    "      Complete ECs: {num_ec_no_rxn_complete} ({num_ec_no_rxn_complete/num_ec_no_rxn:.2%}) e.g.{list(ec_no_rxn_complete)[:10]}''')\n"
   ]
  },
  {
   "cell_type": "markdown",
   "metadata": {},
   "source": [
    "## 5.Evaluation Results"
   ]
  },
  {
   "cell_type": "markdown",
   "metadata": {},
   "source": [
    "### 5.1 isEnzyme prediction"
   ]
  },
  {
   "cell_type": "code",
   "execution_count": 16,
   "metadata": {},
   "outputs": [
    {
     "name": "stdout",
     "output_type": "stream",
     "text": [
      "isEnzyme Predcition Results - EC METHODs\n"
     ]
    },
    {
     "data": {
      "text/html": [
       "<div>\n",
       "<style scoped>\n",
       "    .dataframe tbody tr th:only-of-type {\n",
       "        vertical-align: middle;\n",
       "    }\n",
       "\n",
       "    .dataframe tbody tr th {\n",
       "        vertical-align: top;\n",
       "    }\n",
       "\n",
       "    .dataframe thead th {\n",
       "        text-align: right;\n",
       "    }\n",
       "</style>\n",
       "<table border=\"1\" class=\"dataframe\">\n",
       "  <thead>\n",
       "    <tr style=\"text-align: right;\">\n",
       "      <th></th>\n",
       "      <th>baselineName</th>\n",
       "      <th>Accuracy</th>\n",
       "      <th>Precision</th>\n",
       "      <th>Recall</th>\n",
       "      <th>PPV(Sensitivity)</th>\n",
       "      <th>NPV(Specificity)</th>\n",
       "      <th>F1</th>\n",
       "      <th>TP</th>\n",
       "      <th>FP</th>\n",
       "      <th>FN</th>\n",
       "      <th>TN</th>\n",
       "      <th>UP</th>\n",
       "      <th>UN</th>\n",
       "    </tr>\n",
       "  </thead>\n",
       "  <tbody>\n",
       "    <tr>\n",
       "      <th>0</th>\n",
       "      <td>ecrecer</td>\n",
       "      <td>0.789493</td>\n",
       "      <td>0.532835</td>\n",
       "      <td>0.911388</td>\n",
       "      <td>0.532835</td>\n",
       "      <td>0.964646</td>\n",
       "      <td>0.672499</td>\n",
       "      <td>2921</td>\n",
       "      <td>2561</td>\n",
       "      <td>284</td>\n",
       "      <td>7749</td>\n",
       "      <td>0</td>\n",
       "      <td>0</td>\n",
       "    </tr>\n",
       "    <tr>\n",
       "      <th>1</th>\n",
       "      <td>ecpred</td>\n",
       "      <td>0.597839</td>\n",
       "      <td>0.346035</td>\n",
       "      <td>0.631643</td>\n",
       "      <td>0.346035</td>\n",
       "      <td>0.703467</td>\n",
       "      <td>0.447122</td>\n",
       "      <td>2579</td>\n",
       "      <td>3930</td>\n",
       "      <td>560</td>\n",
       "      <td>5499</td>\n",
       "      <td>65</td>\n",
       "      <td>879</td>\n",
       "    </tr>\n",
       "    <tr>\n",
       "      <th>2</th>\n",
       "      <td>catfam</td>\n",
       "      <td>0.810285</td>\n",
       "      <td>0.749416</td>\n",
       "      <td>0.300468</td>\n",
       "      <td>0.749416</td>\n",
       "      <td>0.816680</td>\n",
       "      <td>0.428953</td>\n",
       "      <td>963</td>\n",
       "      <td>322</td>\n",
       "      <td>2242</td>\n",
       "      <td>9988</td>\n",
       "      <td>0</td>\n",
       "      <td>0</td>\n",
       "    </tr>\n",
       "    <tr>\n",
       "      <th>3</th>\n",
       "      <td>clean</td>\n",
       "      <td>0.237144</td>\n",
       "      <td>0.237144</td>\n",
       "      <td>1.000000</td>\n",
       "      <td>0.237144</td>\n",
       "      <td>0.000000</td>\n",
       "      <td>0.383373</td>\n",
       "      <td>3205</td>\n",
       "      <td>10310</td>\n",
       "      <td>0</td>\n",
       "      <td>0</td>\n",
       "      <td>0</td>\n",
       "      <td>0</td>\n",
       "    </tr>\n",
       "    <tr>\n",
       "      <th>4</th>\n",
       "      <td>ecblast</td>\n",
       "      <td>0.547244</td>\n",
       "      <td>0.302502</td>\n",
       "      <td>0.343502</td>\n",
       "      <td>0.302502</td>\n",
       "      <td>0.370370</td>\n",
       "      <td>0.321701</td>\n",
       "      <td>2466</td>\n",
       "      <td>1406</td>\n",
       "      <td>433</td>\n",
       "      <td>4930</td>\n",
       "      <td>306</td>\n",
       "      <td>3974</td>\n",
       "    </tr>\n",
       "    <tr>\n",
       "      <th>5</th>\n",
       "      <td>priam</td>\n",
       "      <td>0.218498</td>\n",
       "      <td>0.218498</td>\n",
       "      <td>0.397069</td>\n",
       "      <td>0.218498</td>\n",
       "      <td>0.000000</td>\n",
       "      <td>0.281882</td>\n",
       "      <td>2953</td>\n",
       "      <td>6078</td>\n",
       "      <td>0</td>\n",
       "      <td>0</td>\n",
       "      <td>252</td>\n",
       "      <td>4232</td>\n",
       "    </tr>\n",
       "    <tr>\n",
       "      <th>6</th>\n",
       "      <td>deepec</td>\n",
       "      <td>0.090196</td>\n",
       "      <td>0.090196</td>\n",
       "      <td>0.093446</td>\n",
       "      <td>0.090196</td>\n",
       "      <td>0.000000</td>\n",
       "      <td>0.091792</td>\n",
       "      <td>1219</td>\n",
       "      <td>470</td>\n",
       "      <td>0</td>\n",
       "      <td>0</td>\n",
       "      <td>1986</td>\n",
       "      <td>9840</td>\n",
       "    </tr>\n",
       "  </tbody>\n",
       "</table>\n",
       "</div>"
      ],
      "text/plain": [
       "  baselineName  Accuracy  Precision    Recall  PPV(Sensitivity)  \\\n",
       "0      ecrecer  0.789493   0.532835  0.911388          0.532835   \n",
       "1       ecpred  0.597839   0.346035  0.631643          0.346035   \n",
       "2       catfam  0.810285   0.749416  0.300468          0.749416   \n",
       "3        clean  0.237144   0.237144  1.000000          0.237144   \n",
       "4      ecblast  0.547244   0.302502  0.343502          0.302502   \n",
       "5        priam  0.218498   0.218498  0.397069          0.218498   \n",
       "6       deepec  0.090196   0.090196  0.093446          0.090196   \n",
       "\n",
       "   NPV(Specificity)        F1    TP     FP    FN    TN    UP    UN  \n",
       "0          0.964646  0.672499  2921   2561   284  7749     0     0  \n",
       "1          0.703467  0.447122  2579   3930   560  5499    65   879  \n",
       "2          0.816680  0.428953   963    322  2242  9988     0     0  \n",
       "3          0.000000  0.383373  3205  10310     0     0     0     0  \n",
       "4          0.370370  0.321701  2466   1406   433  4930   306  3974  \n",
       "5          0.000000  0.281882  2953   6078     0     0   252  4232  \n",
       "6          0.000000  0.091792  1219    470     0     0  1986  9840  "
      ]
     },
     "execution_count": 16,
     "metadata": {},
     "output_type": "execute_result"
    }
   ],
   "source": [
    "print('isEnzyme Predcition Results - EC METHODs')\n",
    "method = ['ecblast', 'deepec', 'clean', 'ecrecer', 'ecpred', 'catfam', 'priam']\n",
    "resl = []\n",
    "for m in method:\n",
    "    res_item = btools.eva_isenzyme(baselineName=m, res_df=res_method_ec, category='ec')\n",
    "    resl.append(res_item)\n",
    "    \n",
    "resl=pd.DataFrame(resl, columns=['baselineName', 'Accuracy', 'Precision', 'Recall', 'PPV(Sensitivity)', 'NPV(Specificity)', 'F1', 'TP', 'FP', 'FN', 'TN', 'UP', 'UN'])\n",
    "\n",
    "resl.sort_values(by=['F1'], ascending=False).reset_index(drop=True)"
   ]
  },
  {
   "cell_type": "code",
   "execution_count": 74,
   "metadata": {},
   "outputs": [
    {
     "data": {
      "application/vnd.plotly.v1+json": {
       "config": {
        "plotlyServerURL": "https://plot.ly"
       },
       "data": [
        {
         "name": "deepec",
         "text": [
          0.09019607843137255,
          0.09019607843137255,
          0.09344576466078958,
          0.09019607843137255,
          0,
          0.09179216867469879
         ],
         "textposition": "auto",
         "texttemplate": "%{text:.2f}",
         "type": "bar",
         "x": [
          "Accuracy",
          "Precision",
          "Recall",
          "PPV(Sensitivity)",
          "NPV(Specificity)",
          "F1"
         ],
         "y": [
          0.09019607843137255,
          0.09019607843137255,
          0.09344576466078958,
          0.09019607843137255,
          0,
          0.09179216867469879
         ]
        },
        {
         "name": "priam",
         "text": [
          0.2184979652238254,
          0.2184979652238254,
          0.3970687105015463,
          0.2184979652238254,
          0,
          0.28188239786177927
         ],
         "textposition": "auto",
         "texttemplate": "%{text:.2f}",
         "type": "bar",
         "x": [
          "Accuracy",
          "Precision",
          "Recall",
          "PPV(Sensitivity)",
          "NPV(Specificity)",
          "F1"
         ],
         "y": [
          0.2184979652238254,
          0.2184979652238254,
          0.3970687105015463,
          0.2184979652238254,
          0,
          0.28188239786177927
         ]
        },
        {
         "name": "ecblast",
         "text": [
          0.54724380318165,
          0.3025024533856722,
          0.34350188048474717,
          0.3025024533856722,
          0.37037037037037035,
          0.3217011284325876
         ],
         "textposition": "auto",
         "texttemplate": "%{text:.2f}",
         "type": "bar",
         "x": [
          "Accuracy",
          "Precision",
          "Recall",
          "PPV(Sensitivity)",
          "NPV(Specificity)",
          "F1"
         ],
         "y": [
          0.54724380318165,
          0.3025024533856722,
          0.34350188048474717,
          0.3025024533856722,
          0.37037037037037035,
          0.3217011284325876
         ]
        },
        {
         "name": "clean",
         "text": [
          0.23714391416944136,
          0.23714391416944136,
          1,
          0.23714391416944136,
          0,
          0.3833732057416268
         ],
         "textposition": "auto",
         "texttemplate": "%{text:.2f}",
         "type": "bar",
         "x": [
          "Accuracy",
          "Precision",
          "Recall",
          "PPV(Sensitivity)",
          "NPV(Specificity)",
          "F1"
         ],
         "y": [
          0.23714391416944136,
          0.23714391416944136,
          1,
          0.23714391416944136,
          0,
          0.3833732057416268
         ]
        },
        {
         "name": "catfam",
         "text": [
          0.8102848686644469,
          0.7494163424124514,
          0.30046801872074885,
          0.7494163424124514,
          0.8166802943581357,
          0.4289532293986637
         ],
         "textposition": "auto",
         "texttemplate": "%{text:.2f}",
         "type": "bar",
         "x": [
          "Accuracy",
          "Precision",
          "Recall",
          "PPV(Sensitivity)",
          "NPV(Specificity)",
          "F1"
         ],
         "y": [
          0.8102848686644469,
          0.7494163424124514,
          0.30046801872074885,
          0.7494163424124514,
          0.8166802943581357,
          0.4289532293986637
         ]
        },
        {
         "name": "ecpred",
         "text": [
          0.5978389579632919,
          0.34603515362941095,
          0.6316433994611805,
          0.34603515362941095,
          0.7034668031214021,
          0.44712205270457694
         ],
         "textposition": "auto",
         "texttemplate": "%{text:.2f}",
         "type": "bar",
         "x": [
          "Accuracy",
          "Precision",
          "Recall",
          "PPV(Sensitivity)",
          "NPV(Specificity)",
          "F1"
         ],
         "y": [
          0.5978389579632919,
          0.34603515362941095,
          0.6316433994611805,
          0.34603515362941095,
          0.7034668031214021,
          0.44712205270457694
         ]
        },
        {
         "name": "ecrecer",
         "text": [
          0.7894931557528672,
          0.5328347318496899,
          0.9113884555382216,
          0.5328347318496899,
          0.964645835926802,
          0.6724991366409578
         ],
         "textposition": "auto",
         "texttemplate": "%{text:.2f}",
         "type": "bar",
         "x": [
          "Accuracy",
          "Precision",
          "Recall",
          "PPV(Sensitivity)",
          "NPV(Specificity)",
          "F1"
         ],
         "y": [
          0.7894931557528672,
          0.5328347318496899,
          0.9113884555382216,
          0.5328347318496899,
          0.964645835926802,
          0.6724991366409578
         ]
        }
       ],
       "layout": {
        "barcornerradius": 10,
        "template": {
         "data": {
          "bar": [
           {
            "error_x": {
             "color": "#2a3f5f"
            },
            "error_y": {
             "color": "#2a3f5f"
            },
            "marker": {
             "line": {
              "color": "#E5ECF6",
              "width": 0.5
             },
             "pattern": {
              "fillmode": "overlay",
              "size": 10,
              "solidity": 0.2
             }
            },
            "type": "bar"
           }
          ],
          "barpolar": [
           {
            "marker": {
             "line": {
              "color": "#E5ECF6",
              "width": 0.5
             },
             "pattern": {
              "fillmode": "overlay",
              "size": 10,
              "solidity": 0.2
             }
            },
            "type": "barpolar"
           }
          ],
          "carpet": [
           {
            "aaxis": {
             "endlinecolor": "#2a3f5f",
             "gridcolor": "white",
             "linecolor": "white",
             "minorgridcolor": "white",
             "startlinecolor": "#2a3f5f"
            },
            "baxis": {
             "endlinecolor": "#2a3f5f",
             "gridcolor": "white",
             "linecolor": "white",
             "minorgridcolor": "white",
             "startlinecolor": "#2a3f5f"
            },
            "type": "carpet"
           }
          ],
          "choropleth": [
           {
            "colorbar": {
             "outlinewidth": 0,
             "ticks": ""
            },
            "type": "choropleth"
           }
          ],
          "contour": [
           {
            "colorbar": {
             "outlinewidth": 0,
             "ticks": ""
            },
            "colorscale": [
             [
              0,
              "#0d0887"
             ],
             [
              0.1111111111111111,
              "#46039f"
             ],
             [
              0.2222222222222222,
              "#7201a8"
             ],
             [
              0.3333333333333333,
              "#9c179e"
             ],
             [
              0.4444444444444444,
              "#bd3786"
             ],
             [
              0.5555555555555556,
              "#d8576b"
             ],
             [
              0.6666666666666666,
              "#ed7953"
             ],
             [
              0.7777777777777778,
              "#fb9f3a"
             ],
             [
              0.8888888888888888,
              "#fdca26"
             ],
             [
              1,
              "#f0f921"
             ]
            ],
            "type": "contour"
           }
          ],
          "contourcarpet": [
           {
            "colorbar": {
             "outlinewidth": 0,
             "ticks": ""
            },
            "type": "contourcarpet"
           }
          ],
          "heatmap": [
           {
            "colorbar": {
             "outlinewidth": 0,
             "ticks": ""
            },
            "colorscale": [
             [
              0,
              "#0d0887"
             ],
             [
              0.1111111111111111,
              "#46039f"
             ],
             [
              0.2222222222222222,
              "#7201a8"
             ],
             [
              0.3333333333333333,
              "#9c179e"
             ],
             [
              0.4444444444444444,
              "#bd3786"
             ],
             [
              0.5555555555555556,
              "#d8576b"
             ],
             [
              0.6666666666666666,
              "#ed7953"
             ],
             [
              0.7777777777777778,
              "#fb9f3a"
             ],
             [
              0.8888888888888888,
              "#fdca26"
             ],
             [
              1,
              "#f0f921"
             ]
            ],
            "type": "heatmap"
           }
          ],
          "heatmapgl": [
           {
            "colorbar": {
             "outlinewidth": 0,
             "ticks": ""
            },
            "colorscale": [
             [
              0,
              "#0d0887"
             ],
             [
              0.1111111111111111,
              "#46039f"
             ],
             [
              0.2222222222222222,
              "#7201a8"
             ],
             [
              0.3333333333333333,
              "#9c179e"
             ],
             [
              0.4444444444444444,
              "#bd3786"
             ],
             [
              0.5555555555555556,
              "#d8576b"
             ],
             [
              0.6666666666666666,
              "#ed7953"
             ],
             [
              0.7777777777777778,
              "#fb9f3a"
             ],
             [
              0.8888888888888888,
              "#fdca26"
             ],
             [
              1,
              "#f0f921"
             ]
            ],
            "type": "heatmapgl"
           }
          ],
          "histogram": [
           {
            "marker": {
             "pattern": {
              "fillmode": "overlay",
              "size": 10,
              "solidity": 0.2
             }
            },
            "type": "histogram"
           }
          ],
          "histogram2d": [
           {
            "colorbar": {
             "outlinewidth": 0,
             "ticks": ""
            },
            "colorscale": [
             [
              0,
              "#0d0887"
             ],
             [
              0.1111111111111111,
              "#46039f"
             ],
             [
              0.2222222222222222,
              "#7201a8"
             ],
             [
              0.3333333333333333,
              "#9c179e"
             ],
             [
              0.4444444444444444,
              "#bd3786"
             ],
             [
              0.5555555555555556,
              "#d8576b"
             ],
             [
              0.6666666666666666,
              "#ed7953"
             ],
             [
              0.7777777777777778,
              "#fb9f3a"
             ],
             [
              0.8888888888888888,
              "#fdca26"
             ],
             [
              1,
              "#f0f921"
             ]
            ],
            "type": "histogram2d"
           }
          ],
          "histogram2dcontour": [
           {
            "colorbar": {
             "outlinewidth": 0,
             "ticks": ""
            },
            "colorscale": [
             [
              0,
              "#0d0887"
             ],
             [
              0.1111111111111111,
              "#46039f"
             ],
             [
              0.2222222222222222,
              "#7201a8"
             ],
             [
              0.3333333333333333,
              "#9c179e"
             ],
             [
              0.4444444444444444,
              "#bd3786"
             ],
             [
              0.5555555555555556,
              "#d8576b"
             ],
             [
              0.6666666666666666,
              "#ed7953"
             ],
             [
              0.7777777777777778,
              "#fb9f3a"
             ],
             [
              0.8888888888888888,
              "#fdca26"
             ],
             [
              1,
              "#f0f921"
             ]
            ],
            "type": "histogram2dcontour"
           }
          ],
          "mesh3d": [
           {
            "colorbar": {
             "outlinewidth": 0,
             "ticks": ""
            },
            "type": "mesh3d"
           }
          ],
          "parcoords": [
           {
            "line": {
             "colorbar": {
              "outlinewidth": 0,
              "ticks": ""
             }
            },
            "type": "parcoords"
           }
          ],
          "pie": [
           {
            "automargin": true,
            "type": "pie"
           }
          ],
          "scatter": [
           {
            "fillpattern": {
             "fillmode": "overlay",
             "size": 10,
             "solidity": 0.2
            },
            "type": "scatter"
           }
          ],
          "scatter3d": [
           {
            "line": {
             "colorbar": {
              "outlinewidth": 0,
              "ticks": ""
             }
            },
            "marker": {
             "colorbar": {
              "outlinewidth": 0,
              "ticks": ""
             }
            },
            "type": "scatter3d"
           }
          ],
          "scattercarpet": [
           {
            "marker": {
             "colorbar": {
              "outlinewidth": 0,
              "ticks": ""
             }
            },
            "type": "scattercarpet"
           }
          ],
          "scattergeo": [
           {
            "marker": {
             "colorbar": {
              "outlinewidth": 0,
              "ticks": ""
             }
            },
            "type": "scattergeo"
           }
          ],
          "scattergl": [
           {
            "marker": {
             "colorbar": {
              "outlinewidth": 0,
              "ticks": ""
             }
            },
            "type": "scattergl"
           }
          ],
          "scattermapbox": [
           {
            "marker": {
             "colorbar": {
              "outlinewidth": 0,
              "ticks": ""
             }
            },
            "type": "scattermapbox"
           }
          ],
          "scatterpolar": [
           {
            "marker": {
             "colorbar": {
              "outlinewidth": 0,
              "ticks": ""
             }
            },
            "type": "scatterpolar"
           }
          ],
          "scatterpolargl": [
           {
            "marker": {
             "colorbar": {
              "outlinewidth": 0,
              "ticks": ""
             }
            },
            "type": "scatterpolargl"
           }
          ],
          "scatterternary": [
           {
            "marker": {
             "colorbar": {
              "outlinewidth": 0,
              "ticks": ""
             }
            },
            "type": "scatterternary"
           }
          ],
          "surface": [
           {
            "colorbar": {
             "outlinewidth": 0,
             "ticks": ""
            },
            "colorscale": [
             [
              0,
              "#0d0887"
             ],
             [
              0.1111111111111111,
              "#46039f"
             ],
             [
              0.2222222222222222,
              "#7201a8"
             ],
             [
              0.3333333333333333,
              "#9c179e"
             ],
             [
              0.4444444444444444,
              "#bd3786"
             ],
             [
              0.5555555555555556,
              "#d8576b"
             ],
             [
              0.6666666666666666,
              "#ed7953"
             ],
             [
              0.7777777777777778,
              "#fb9f3a"
             ],
             [
              0.8888888888888888,
              "#fdca26"
             ],
             [
              1,
              "#f0f921"
             ]
            ],
            "type": "surface"
           }
          ],
          "table": [
           {
            "cells": {
             "fill": {
              "color": "#EBF0F8"
             },
             "line": {
              "color": "white"
             }
            },
            "header": {
             "fill": {
              "color": "#C8D4E3"
             },
             "line": {
              "color": "white"
             }
            },
            "type": "table"
           }
          ]
         },
         "layout": {
          "annotationdefaults": {
           "arrowcolor": "#2a3f5f",
           "arrowhead": 0,
           "arrowwidth": 1
          },
          "autotypenumbers": "strict",
          "coloraxis": {
           "colorbar": {
            "outlinewidth": 0,
            "ticks": ""
           }
          },
          "colorscale": {
           "diverging": [
            [
             0,
             "#8e0152"
            ],
            [
             0.1,
             "#c51b7d"
            ],
            [
             0.2,
             "#de77ae"
            ],
            [
             0.3,
             "#f1b6da"
            ],
            [
             0.4,
             "#fde0ef"
            ],
            [
             0.5,
             "#f7f7f7"
            ],
            [
             0.6,
             "#e6f5d0"
            ],
            [
             0.7,
             "#b8e186"
            ],
            [
             0.8,
             "#7fbc41"
            ],
            [
             0.9,
             "#4d9221"
            ],
            [
             1,
             "#276419"
            ]
           ],
           "sequential": [
            [
             0,
             "#0d0887"
            ],
            [
             0.1111111111111111,
             "#46039f"
            ],
            [
             0.2222222222222222,
             "#7201a8"
            ],
            [
             0.3333333333333333,
             "#9c179e"
            ],
            [
             0.4444444444444444,
             "#bd3786"
            ],
            [
             0.5555555555555556,
             "#d8576b"
            ],
            [
             0.6666666666666666,
             "#ed7953"
            ],
            [
             0.7777777777777778,
             "#fb9f3a"
            ],
            [
             0.8888888888888888,
             "#fdca26"
            ],
            [
             1,
             "#f0f921"
            ]
           ],
           "sequentialminus": [
            [
             0,
             "#0d0887"
            ],
            [
             0.1111111111111111,
             "#46039f"
            ],
            [
             0.2222222222222222,
             "#7201a8"
            ],
            [
             0.3333333333333333,
             "#9c179e"
            ],
            [
             0.4444444444444444,
             "#bd3786"
            ],
            [
             0.5555555555555556,
             "#d8576b"
            ],
            [
             0.6666666666666666,
             "#ed7953"
            ],
            [
             0.7777777777777778,
             "#fb9f3a"
            ],
            [
             0.8888888888888888,
             "#fdca26"
            ],
            [
             1,
             "#f0f921"
            ]
           ]
          },
          "colorway": [
           "#636efa",
           "#EF553B",
           "#00cc96",
           "#ab63fa",
           "#FFA15A",
           "#19d3f3",
           "#FF6692",
           "#B6E880",
           "#FF97FF",
           "#FECB52"
          ],
          "font": {
           "color": "#2a3f5f"
          },
          "geo": {
           "bgcolor": "white",
           "lakecolor": "white",
           "landcolor": "#E5ECF6",
           "showlakes": true,
           "showland": true,
           "subunitcolor": "white"
          },
          "hoverlabel": {
           "align": "left"
          },
          "hovermode": "closest",
          "mapbox": {
           "style": "light"
          },
          "paper_bgcolor": "white",
          "plot_bgcolor": "#E5ECF6",
          "polar": {
           "angularaxis": {
            "gridcolor": "white",
            "linecolor": "white",
            "ticks": ""
           },
           "bgcolor": "#E5ECF6",
           "radialaxis": {
            "gridcolor": "white",
            "linecolor": "white",
            "ticks": ""
           }
          },
          "scene": {
           "xaxis": {
            "backgroundcolor": "#E5ECF6",
            "gridcolor": "white",
            "gridwidth": 2,
            "linecolor": "white",
            "showbackground": true,
            "ticks": "",
            "zerolinecolor": "white"
           },
           "yaxis": {
            "backgroundcolor": "#E5ECF6",
            "gridcolor": "white",
            "gridwidth": 2,
            "linecolor": "white",
            "showbackground": true,
            "ticks": "",
            "zerolinecolor": "white"
           },
           "zaxis": {
            "backgroundcolor": "#E5ECF6",
            "gridcolor": "white",
            "gridwidth": 2,
            "linecolor": "white",
            "showbackground": true,
            "ticks": "",
            "zerolinecolor": "white"
           }
          },
          "shapedefaults": {
           "line": {
            "color": "#2a3f5f"
           }
          },
          "ternary": {
           "aaxis": {
            "gridcolor": "white",
            "linecolor": "white",
            "ticks": ""
           },
           "baxis": {
            "gridcolor": "white",
            "linecolor": "white",
            "ticks": ""
           },
           "bgcolor": "#E5ECF6",
           "caxis": {
            "gridcolor": "white",
            "linecolor": "white",
            "ticks": ""
           }
          },
          "title": {
           "x": 0.05
          },
          "xaxis": {
           "automargin": true,
           "gridcolor": "white",
           "linecolor": "white",
           "ticks": "",
           "title": {
            "standoff": 15
           },
           "zerolinecolor": "white",
           "zerolinewidth": 2
          },
          "yaxis": {
           "automargin": true,
           "gridcolor": "white",
           "linecolor": "white",
           "ticks": "",
           "title": {
            "standoff": 15
           },
           "zerolinecolor": "white",
           "zerolinewidth": 2
          }
         }
        }
       }
      },
      "text/html": [
       "<div>                            <div id=\"0a437839-bd54-4665-bde8-1b8f995530c8\" class=\"plotly-graph-div\" style=\"height:525px; width:100%;\"></div>            <script type=\"text/javascript\">                require([\"plotly\"], function(Plotly) {                    window.PLOTLYENV=window.PLOTLYENV || {};                                    if (document.getElementById(\"0a437839-bd54-4665-bde8-1b8f995530c8\")) {                    Plotly.newPlot(                        \"0a437839-bd54-4665-bde8-1b8f995530c8\",                        [{\"name\":\"deepec\",\"text\":[0.09019607843137255,0.09019607843137255,0.09344576466078958,0.09019607843137255,0.0,0.09179216867469879],\"textposition\":\"auto\",\"texttemplate\":\"%{text:.2f}\",\"x\":[\"Accuracy\",\"Precision\",\"Recall\",\"PPV(Sensitivity)\",\"NPV(Specificity)\",\"F1\"],\"y\":[0.09019607843137255,0.09019607843137255,0.09344576466078958,0.09019607843137255,0.0,0.09179216867469879],\"type\":\"bar\"},{\"name\":\"priam\",\"text\":[0.2184979652238254,0.2184979652238254,0.3970687105015463,0.2184979652238254,0.0,0.28188239786177927],\"textposition\":\"auto\",\"texttemplate\":\"%{text:.2f}\",\"x\":[\"Accuracy\",\"Precision\",\"Recall\",\"PPV(Sensitivity)\",\"NPV(Specificity)\",\"F1\"],\"y\":[0.2184979652238254,0.2184979652238254,0.3970687105015463,0.2184979652238254,0.0,0.28188239786177927],\"type\":\"bar\"},{\"name\":\"ecblast\",\"text\":[0.54724380318165,0.3025024533856722,0.34350188048474717,0.3025024533856722,0.37037037037037035,0.3217011284325876],\"textposition\":\"auto\",\"texttemplate\":\"%{text:.2f}\",\"x\":[\"Accuracy\",\"Precision\",\"Recall\",\"PPV(Sensitivity)\",\"NPV(Specificity)\",\"F1\"],\"y\":[0.54724380318165,0.3025024533856722,0.34350188048474717,0.3025024533856722,0.37037037037037035,0.3217011284325876],\"type\":\"bar\"},{\"name\":\"clean\",\"text\":[0.23714391416944136,0.23714391416944136,1.0,0.23714391416944136,0.0,0.3833732057416268],\"textposition\":\"auto\",\"texttemplate\":\"%{text:.2f}\",\"x\":[\"Accuracy\",\"Precision\",\"Recall\",\"PPV(Sensitivity)\",\"NPV(Specificity)\",\"F1\"],\"y\":[0.23714391416944136,0.23714391416944136,1.0,0.23714391416944136,0.0,0.3833732057416268],\"type\":\"bar\"},{\"name\":\"catfam\",\"text\":[0.8102848686644469,0.7494163424124514,0.30046801872074885,0.7494163424124514,0.8166802943581357,0.4289532293986637],\"textposition\":\"auto\",\"texttemplate\":\"%{text:.2f}\",\"x\":[\"Accuracy\",\"Precision\",\"Recall\",\"PPV(Sensitivity)\",\"NPV(Specificity)\",\"F1\"],\"y\":[0.8102848686644469,0.7494163424124514,0.30046801872074885,0.7494163424124514,0.8166802943581357,0.4289532293986637],\"type\":\"bar\"},{\"name\":\"ecpred\",\"text\":[0.5978389579632919,0.34603515362941095,0.6316433994611805,0.34603515362941095,0.7034668031214021,0.44712205270457694],\"textposition\":\"auto\",\"texttemplate\":\"%{text:.2f}\",\"x\":[\"Accuracy\",\"Precision\",\"Recall\",\"PPV(Sensitivity)\",\"NPV(Specificity)\",\"F1\"],\"y\":[0.5978389579632919,0.34603515362941095,0.6316433994611805,0.34603515362941095,0.7034668031214021,0.44712205270457694],\"type\":\"bar\"},{\"name\":\"ecrecer\",\"text\":[0.7894931557528672,0.5328347318496899,0.9113884555382216,0.5328347318496899,0.964645835926802,0.6724991366409578],\"textposition\":\"auto\",\"texttemplate\":\"%{text:.2f}\",\"x\":[\"Accuracy\",\"Precision\",\"Recall\",\"PPV(Sensitivity)\",\"NPV(Specificity)\",\"F1\"],\"y\":[0.7894931557528672,0.5328347318496899,0.9113884555382216,0.5328347318496899,0.964645835926802,0.6724991366409578],\"type\":\"bar\"}],                        {\"barcornerradius\":10,\"template\":{\"data\":{\"histogram2dcontour\":[{\"type\":\"histogram2dcontour\",\"colorbar\":{\"outlinewidth\":0,\"ticks\":\"\"},\"colorscale\":[[0.0,\"#0d0887\"],[0.1111111111111111,\"#46039f\"],[0.2222222222222222,\"#7201a8\"],[0.3333333333333333,\"#9c179e\"],[0.4444444444444444,\"#bd3786\"],[0.5555555555555556,\"#d8576b\"],[0.6666666666666666,\"#ed7953\"],[0.7777777777777778,\"#fb9f3a\"],[0.8888888888888888,\"#fdca26\"],[1.0,\"#f0f921\"]]}],\"choropleth\":[{\"type\":\"choropleth\",\"colorbar\":{\"outlinewidth\":0,\"ticks\":\"\"}}],\"histogram2d\":[{\"type\":\"histogram2d\",\"colorbar\":{\"outlinewidth\":0,\"ticks\":\"\"},\"colorscale\":[[0.0,\"#0d0887\"],[0.1111111111111111,\"#46039f\"],[0.2222222222222222,\"#7201a8\"],[0.3333333333333333,\"#9c179e\"],[0.4444444444444444,\"#bd3786\"],[0.5555555555555556,\"#d8576b\"],[0.6666666666666666,\"#ed7953\"],[0.7777777777777778,\"#fb9f3a\"],[0.8888888888888888,\"#fdca26\"],[1.0,\"#f0f921\"]]}],\"heatmap\":[{\"type\":\"heatmap\",\"colorbar\":{\"outlinewidth\":0,\"ticks\":\"\"},\"colorscale\":[[0.0,\"#0d0887\"],[0.1111111111111111,\"#46039f\"],[0.2222222222222222,\"#7201a8\"],[0.3333333333333333,\"#9c179e\"],[0.4444444444444444,\"#bd3786\"],[0.5555555555555556,\"#d8576b\"],[0.6666666666666666,\"#ed7953\"],[0.7777777777777778,\"#fb9f3a\"],[0.8888888888888888,\"#fdca26\"],[1.0,\"#f0f921\"]]}],\"heatmapgl\":[{\"type\":\"heatmapgl\",\"colorbar\":{\"outlinewidth\":0,\"ticks\":\"\"},\"colorscale\":[[0.0,\"#0d0887\"],[0.1111111111111111,\"#46039f\"],[0.2222222222222222,\"#7201a8\"],[0.3333333333333333,\"#9c179e\"],[0.4444444444444444,\"#bd3786\"],[0.5555555555555556,\"#d8576b\"],[0.6666666666666666,\"#ed7953\"],[0.7777777777777778,\"#fb9f3a\"],[0.8888888888888888,\"#fdca26\"],[1.0,\"#f0f921\"]]}],\"contourcarpet\":[{\"type\":\"contourcarpet\",\"colorbar\":{\"outlinewidth\":0,\"ticks\":\"\"}}],\"contour\":[{\"type\":\"contour\",\"colorbar\":{\"outlinewidth\":0,\"ticks\":\"\"},\"colorscale\":[[0.0,\"#0d0887\"],[0.1111111111111111,\"#46039f\"],[0.2222222222222222,\"#7201a8\"],[0.3333333333333333,\"#9c179e\"],[0.4444444444444444,\"#bd3786\"],[0.5555555555555556,\"#d8576b\"],[0.6666666666666666,\"#ed7953\"],[0.7777777777777778,\"#fb9f3a\"],[0.8888888888888888,\"#fdca26\"],[1.0,\"#f0f921\"]]}],\"surface\":[{\"type\":\"surface\",\"colorbar\":{\"outlinewidth\":0,\"ticks\":\"\"},\"colorscale\":[[0.0,\"#0d0887\"],[0.1111111111111111,\"#46039f\"],[0.2222222222222222,\"#7201a8\"],[0.3333333333333333,\"#9c179e\"],[0.4444444444444444,\"#bd3786\"],[0.5555555555555556,\"#d8576b\"],[0.6666666666666666,\"#ed7953\"],[0.7777777777777778,\"#fb9f3a\"],[0.8888888888888888,\"#fdca26\"],[1.0,\"#f0f921\"]]}],\"mesh3d\":[{\"type\":\"mesh3d\",\"colorbar\":{\"outlinewidth\":0,\"ticks\":\"\"}}],\"scatter\":[{\"fillpattern\":{\"fillmode\":\"overlay\",\"size\":10,\"solidity\":0.2},\"type\":\"scatter\"}],\"parcoords\":[{\"type\":\"parcoords\",\"line\":{\"colorbar\":{\"outlinewidth\":0,\"ticks\":\"\"}}}],\"scatterpolargl\":[{\"type\":\"scatterpolargl\",\"marker\":{\"colorbar\":{\"outlinewidth\":0,\"ticks\":\"\"}}}],\"bar\":[{\"error_x\":{\"color\":\"#2a3f5f\"},\"error_y\":{\"color\":\"#2a3f5f\"},\"marker\":{\"line\":{\"color\":\"#E5ECF6\",\"width\":0.5},\"pattern\":{\"fillmode\":\"overlay\",\"size\":10,\"solidity\":0.2}},\"type\":\"bar\"}],\"scattergeo\":[{\"type\":\"scattergeo\",\"marker\":{\"colorbar\":{\"outlinewidth\":0,\"ticks\":\"\"}}}],\"scatterpolar\":[{\"type\":\"scatterpolar\",\"marker\":{\"colorbar\":{\"outlinewidth\":0,\"ticks\":\"\"}}}],\"histogram\":[{\"marker\":{\"pattern\":{\"fillmode\":\"overlay\",\"size\":10,\"solidity\":0.2}},\"type\":\"histogram\"}],\"scattergl\":[{\"type\":\"scattergl\",\"marker\":{\"colorbar\":{\"outlinewidth\":0,\"ticks\":\"\"}}}],\"scatter3d\":[{\"type\":\"scatter3d\",\"line\":{\"colorbar\":{\"outlinewidth\":0,\"ticks\":\"\"}},\"marker\":{\"colorbar\":{\"outlinewidth\":0,\"ticks\":\"\"}}}],\"scattermapbox\":[{\"type\":\"scattermapbox\",\"marker\":{\"colorbar\":{\"outlinewidth\":0,\"ticks\":\"\"}}}],\"scatterternary\":[{\"type\":\"scatterternary\",\"marker\":{\"colorbar\":{\"outlinewidth\":0,\"ticks\":\"\"}}}],\"scattercarpet\":[{\"type\":\"scattercarpet\",\"marker\":{\"colorbar\":{\"outlinewidth\":0,\"ticks\":\"\"}}}],\"carpet\":[{\"aaxis\":{\"endlinecolor\":\"#2a3f5f\",\"gridcolor\":\"white\",\"linecolor\":\"white\",\"minorgridcolor\":\"white\",\"startlinecolor\":\"#2a3f5f\"},\"baxis\":{\"endlinecolor\":\"#2a3f5f\",\"gridcolor\":\"white\",\"linecolor\":\"white\",\"minorgridcolor\":\"white\",\"startlinecolor\":\"#2a3f5f\"},\"type\":\"carpet\"}],\"table\":[{\"cells\":{\"fill\":{\"color\":\"#EBF0F8\"},\"line\":{\"color\":\"white\"}},\"header\":{\"fill\":{\"color\":\"#C8D4E3\"},\"line\":{\"color\":\"white\"}},\"type\":\"table\"}],\"barpolar\":[{\"marker\":{\"line\":{\"color\":\"#E5ECF6\",\"width\":0.5},\"pattern\":{\"fillmode\":\"overlay\",\"size\":10,\"solidity\":0.2}},\"type\":\"barpolar\"}],\"pie\":[{\"automargin\":true,\"type\":\"pie\"}]},\"layout\":{\"autotypenumbers\":\"strict\",\"colorway\":[\"#636efa\",\"#EF553B\",\"#00cc96\",\"#ab63fa\",\"#FFA15A\",\"#19d3f3\",\"#FF6692\",\"#B6E880\",\"#FF97FF\",\"#FECB52\"],\"font\":{\"color\":\"#2a3f5f\"},\"hovermode\":\"closest\",\"hoverlabel\":{\"align\":\"left\"},\"paper_bgcolor\":\"white\",\"plot_bgcolor\":\"#E5ECF6\",\"polar\":{\"bgcolor\":\"#E5ECF6\",\"angularaxis\":{\"gridcolor\":\"white\",\"linecolor\":\"white\",\"ticks\":\"\"},\"radialaxis\":{\"gridcolor\":\"white\",\"linecolor\":\"white\",\"ticks\":\"\"}},\"ternary\":{\"bgcolor\":\"#E5ECF6\",\"aaxis\":{\"gridcolor\":\"white\",\"linecolor\":\"white\",\"ticks\":\"\"},\"baxis\":{\"gridcolor\":\"white\",\"linecolor\":\"white\",\"ticks\":\"\"},\"caxis\":{\"gridcolor\":\"white\",\"linecolor\":\"white\",\"ticks\":\"\"}},\"coloraxis\":{\"colorbar\":{\"outlinewidth\":0,\"ticks\":\"\"}},\"colorscale\":{\"sequential\":[[0.0,\"#0d0887\"],[0.1111111111111111,\"#46039f\"],[0.2222222222222222,\"#7201a8\"],[0.3333333333333333,\"#9c179e\"],[0.4444444444444444,\"#bd3786\"],[0.5555555555555556,\"#d8576b\"],[0.6666666666666666,\"#ed7953\"],[0.7777777777777778,\"#fb9f3a\"],[0.8888888888888888,\"#fdca26\"],[1.0,\"#f0f921\"]],\"sequentialminus\":[[0.0,\"#0d0887\"],[0.1111111111111111,\"#46039f\"],[0.2222222222222222,\"#7201a8\"],[0.3333333333333333,\"#9c179e\"],[0.4444444444444444,\"#bd3786\"],[0.5555555555555556,\"#d8576b\"],[0.6666666666666666,\"#ed7953\"],[0.7777777777777778,\"#fb9f3a\"],[0.8888888888888888,\"#fdca26\"],[1.0,\"#f0f921\"]],\"diverging\":[[0,\"#8e0152\"],[0.1,\"#c51b7d\"],[0.2,\"#de77ae\"],[0.3,\"#f1b6da\"],[0.4,\"#fde0ef\"],[0.5,\"#f7f7f7\"],[0.6,\"#e6f5d0\"],[0.7,\"#b8e186\"],[0.8,\"#7fbc41\"],[0.9,\"#4d9221\"],[1,\"#276419\"]]},\"xaxis\":{\"gridcolor\":\"white\",\"linecolor\":\"white\",\"ticks\":\"\",\"title\":{\"standoff\":15},\"zerolinecolor\":\"white\",\"automargin\":true,\"zerolinewidth\":2},\"yaxis\":{\"gridcolor\":\"white\",\"linecolor\":\"white\",\"ticks\":\"\",\"title\":{\"standoff\":15},\"zerolinecolor\":\"white\",\"automargin\":true,\"zerolinewidth\":2},\"scene\":{\"xaxis\":{\"backgroundcolor\":\"#E5ECF6\",\"gridcolor\":\"white\",\"linecolor\":\"white\",\"showbackground\":true,\"ticks\":\"\",\"zerolinecolor\":\"white\",\"gridwidth\":2},\"yaxis\":{\"backgroundcolor\":\"#E5ECF6\",\"gridcolor\":\"white\",\"linecolor\":\"white\",\"showbackground\":true,\"ticks\":\"\",\"zerolinecolor\":\"white\",\"gridwidth\":2},\"zaxis\":{\"backgroundcolor\":\"#E5ECF6\",\"gridcolor\":\"white\",\"linecolor\":\"white\",\"showbackground\":true,\"ticks\":\"\",\"zerolinecolor\":\"white\",\"gridwidth\":2}},\"shapedefaults\":{\"line\":{\"color\":\"#2a3f5f\"}},\"annotationdefaults\":{\"arrowcolor\":\"#2a3f5f\",\"arrowhead\":0,\"arrowwidth\":1},\"geo\":{\"bgcolor\":\"white\",\"landcolor\":\"#E5ECF6\",\"subunitcolor\":\"white\",\"showland\":true,\"showlakes\":true,\"lakecolor\":\"white\"},\"title\":{\"x\":0.05},\"mapbox\":{\"style\":\"light\"}}}},                        {\"responsive\": true}                    ).then(function(){\n",
       "                            \n",
       "var gd = document.getElementById('0a437839-bd54-4665-bde8-1b8f995530c8');\n",
       "var x = new MutationObserver(function (mutations, observer) {{\n",
       "        var display = window.getComputedStyle(gd).display;\n",
       "        if (!display || display === 'none') {{\n",
       "            console.log([gd, 'removed!']);\n",
       "            Plotly.purge(gd);\n",
       "            observer.disconnect();\n",
       "        }}\n",
       "}});\n",
       "\n",
       "// Listen for the removal of the full notebook cells\n",
       "var notebookContainer = gd.closest('#notebook-container');\n",
       "if (notebookContainer) {{\n",
       "    x.observe(notebookContainer, {childList: true});\n",
       "}}\n",
       "\n",
       "// Listen for the clearing of the current output cell\n",
       "var outputEl = gd.closest('.output');\n",
       "if (outputEl) {{\n",
       "    x.observe(outputEl, {childList: true});\n",
       "}}\n",
       "\n",
       "                        })                };                });            </script>        </div>"
      ]
     },
     "metadata": {},
     "output_type": "display_data"
    }
   ],
   "source": [
    "fig_data = resl.sort_values(by=['F1']).set_index('baselineName').T.head(6)\n",
    "\n",
    "\n",
    "plotdata = []\n",
    "for method in fig_data.columns.values:\n",
    "    plotdata.append(go.Bar(\n",
    "        x=fig_data.index, \n",
    "        y=fig_data[f'{method}'], \n",
    "        name=f'{method}',\n",
    "        text=fig_data[f'{method}'],\n",
    "        textposition='auto',\n",
    "        texttemplate='%{text:.2f}',  # 格式化数值标签 (保留两位小数)\n",
    "        ))\n",
    "\n",
    "fig = go.Figure(\n",
    "    data=plotdata,\n",
    "    layout=dict(\n",
    "        barcornerradius=10,\n",
    "        \n",
    "    ),\n",
    ")\n",
    "\n",
    "fig.show()"
   ]
  },
  {
   "cell_type": "markdown",
   "metadata": {},
   "source": [
    "### 5.2 Reaction prediction"
   ]
  },
  {
   "cell_type": "code",
   "execution_count": 6,
   "metadata": {},
   "outputs": [
    {
     "name": "stdout",
     "output_type": "stream",
     "text": [
      "Evaluating: Reaction Predcition Results [FULL SET]\n",
      "Evaluating: Reaction Predcition Results [NONE ENZYME]\n",
      "Evaluating: Reaction Predcition Results [ENZYME]\n"
     ]
    }
   ],
   "source": [
    "# Make Label\n",
    "res_method_ec['lb_rxn_blast'] = res_method_ec.reaction_ecblast.apply(lambda x: btools.make_label(reaction_id=str(x), rxn_label_dict=dict_rxn2id))\n",
    "res_method_ec['lb_rxn_deepec'] = res_method_ec.reaction_deepec.apply(lambda x: btools.make_label(reaction_id=str(x), rxn_label_dict=dict_rxn2id))\n",
    "res_method_ec['lb_rxn_clean'] = res_method_ec.reaction_clean.apply(lambda x: btools.make_label(reaction_id=str(x), rxn_label_dict=dict_rxn2id))\n",
    "res_method_ec['lb_rxn_ecrecer'] = res_method_ec.reaction_ecrecer.apply(lambda x: btools.make_label(reaction_id=str(x), rxn_label_dict=dict_rxn2id))\n",
    "res_method_ec['lb_rxn_ecpred'] = res_method_ec.reaction_ecpred.apply(lambda x: btools.make_label(reaction_id=str(x), rxn_label_dict=dict_rxn2id))\n",
    "res_method_ec['lb_rxn_catfam'] = res_method_ec.reaction_catfam.apply(lambda x: btools.make_label(reaction_id=str(x), rxn_label_dict=dict_rxn2id))\n",
    "res_method_ec['lb_rxn_priam'] = res_method_ec.reaction_priam.apply(lambda x: btools.make_label(reaction_id=str(x), rxn_label_dict=dict_rxn2id))\n",
    "\n",
    "#full\n",
    "metrics_rxn_fullset = btools.rxn_eva_metric(eva_df=res_method_ec, eva_name='[FULL SET]', methods=methods)\n",
    "#noneenzyme\n",
    "res_noneenzyme = res_method_ec[res_method_ec.rxn_groundtruth=='-'].reset_index(drop=True)\n",
    "metrics_rxn_noneenzyme = btools.rxn_eva_metric(eva_df=res_noneenzyme, eva_name='[NONE ENZYME]', methods=methods)\n",
    "#enzyme\n",
    "res_enzyme = res_method_ec[res_method_ec.rxn_groundtruth!='-'].reset_index(drop=True)\n",
    "metrics_rxn_enzyme = btools.rxn_eva_metric(eva_df=res_enzyme, eva_name='[ENZYME]', methods=methods)"
   ]
  },
  {
   "cell_type": "code",
   "execution_count": 11,
   "metadata": {},
   "outputs": [
    {
     "data": {
      "text/html": [
       "\n",
       "     <div style=\"float:left; width: 25%;\"><h2>Reaction Predcition Results <span style=\"color:red\"> [FULL SET]</span></h2><table border=\"1\" class=\"dataframe\">\n",
       "  <thead>\n",
       "    <tr style=\"text-align: right;\">\n",
       "      <th></th>\n",
       "      <th>baselineName</th>\n",
       "      <th>mAccuracy</th>\n",
       "      <th>mPrecision</th>\n",
       "      <th>mRecall</th>\n",
       "      <th>mF1</th>\n",
       "    </tr>\n",
       "  </thead>\n",
       "  <tbody>\n",
       "    <tr>\n",
       "      <th>0</th>\n",
       "      <td>ecrecer</td>\n",
       "      <td>0.689900</td>\n",
       "      <td>0.967961</td>\n",
       "      <td>0.651723</td>\n",
       "      <td>0.714824</td>\n",
       "    </tr>\n",
       "    <tr>\n",
       "      <th>1</th>\n",
       "      <td>catfam</td>\n",
       "      <td>0.770477</td>\n",
       "      <td>0.870005</td>\n",
       "      <td>0.670351</td>\n",
       "      <td>0.620349</td>\n",
       "    </tr>\n",
       "    <tr>\n",
       "      <th>2</th>\n",
       "      <td>blast</td>\n",
       "      <td>0.433370</td>\n",
       "      <td>0.907868</td>\n",
       "      <td>0.409190</td>\n",
       "      <td>0.504355</td>\n",
       "    </tr>\n",
       "    <tr>\n",
       "      <th>3</th>\n",
       "      <td>ecpred</td>\n",
       "      <td>0.420792</td>\n",
       "      <td>0.926196</td>\n",
       "      <td>0.363490</td>\n",
       "      <td>0.455263</td>\n",
       "    </tr>\n",
       "    <tr>\n",
       "      <th>4</th>\n",
       "      <td>clean</td>\n",
       "      <td>0.078949</td>\n",
       "      <td>0.879031</td>\n",
       "      <td>0.145483</td>\n",
       "      <td>0.097747</td>\n",
       "    </tr>\n",
       "    <tr>\n",
       "      <th>5</th>\n",
       "      <td>priam</td>\n",
       "      <td>0.017832</td>\n",
       "      <td>0.853372</td>\n",
       "      <td>0.160137</td>\n",
       "      <td>0.075407</td>\n",
       "    </tr>\n",
       "    <tr>\n",
       "      <th>6</th>\n",
       "      <td>deepec</td>\n",
       "      <td>0.034850</td>\n",
       "      <td>0.978400</td>\n",
       "      <td>0.052406</td>\n",
       "      <td>0.059727</td>\n",
       "    </tr>\n",
       "  </tbody>\n",
       "</table> </div>\n",
       "     <div style=\"float:left; width: 25%;\"><h2>Reaction Predcition Results <span style=\"color:red\"> [NONE-ENZYME]</span></h2><table border=\"1\" class=\"dataframe\">\n",
       "  <thead>\n",
       "    <tr style=\"text-align: right;\">\n",
       "      <th></th>\n",
       "      <th>baselineName</th>\n",
       "      <th>mAccuracy</th>\n",
       "      <th>mPrecision</th>\n",
       "      <th>mRecall</th>\n",
       "      <th>mF1</th>\n",
       "    </tr>\n",
       "  </thead>\n",
       "  <tbody>\n",
       "    <tr>\n",
       "      <th>0</th>\n",
       "      <td>catfam</td>\n",
       "      <td>0.968768</td>\n",
       "      <td>1.0</td>\n",
       "      <td>0.968768</td>\n",
       "      <td>0.984136</td>\n",
       "    </tr>\n",
       "    <tr>\n",
       "      <th>1</th>\n",
       "      <td>ecrecer</td>\n",
       "      <td>0.751600</td>\n",
       "      <td>1.0</td>\n",
       "      <td>0.751600</td>\n",
       "      <td>0.858187</td>\n",
       "    </tr>\n",
       "    <tr>\n",
       "      <th>2</th>\n",
       "      <td>ecpred</td>\n",
       "      <td>0.533560</td>\n",
       "      <td>1.0</td>\n",
       "      <td>0.533560</td>\n",
       "      <td>0.695845</td>\n",
       "    </tr>\n",
       "    <tr>\n",
       "      <th>3</th>\n",
       "      <td>blast</td>\n",
       "      <td>0.478177</td>\n",
       "      <td>1.0</td>\n",
       "      <td>0.478177</td>\n",
       "      <td>0.646982</td>\n",
       "    </tr>\n",
       "    <tr>\n",
       "      <th>4</th>\n",
       "      <td>deepec</td>\n",
       "      <td>0.000000</td>\n",
       "      <td>1.0</td>\n",
       "      <td>0.000000</td>\n",
       "      <td>0.000000</td>\n",
       "    </tr>\n",
       "    <tr>\n",
       "      <th>5</th>\n",
       "      <td>clean</td>\n",
       "      <td>0.000000</td>\n",
       "      <td>1.0</td>\n",
       "      <td>0.000000</td>\n",
       "      <td>0.000000</td>\n",
       "    </tr>\n",
       "    <tr>\n",
       "      <th>6</th>\n",
       "      <td>priam</td>\n",
       "      <td>0.000000</td>\n",
       "      <td>1.0</td>\n",
       "      <td>0.000000</td>\n",
       "      <td>0.000000</td>\n",
       "    </tr>\n",
       "  </tbody>\n",
       "</table> </div>\n",
       "     <div style=\"float:left; width: 25%;\"><h2>Reaction Predcition Results <span style=\"color:red\"> [ENZYME]</span></h2><table border=\"1\" class=\"dataframe\">\n",
       "  <thead>\n",
       "    <tr style=\"text-align: right;\">\n",
       "      <th></th>\n",
       "      <th>baselineName</th>\n",
       "      <th>mAccuracy</th>\n",
       "      <th>mPrecision</th>\n",
       "      <th>mRecall</th>\n",
       "      <th>mF1</th>\n",
       "    </tr>\n",
       "  </thead>\n",
       "  <tbody>\n",
       "    <tr>\n",
       "      <th>0</th>\n",
       "      <td>ecrecer</td>\n",
       "      <td>0.491420</td>\n",
       "      <td>0.979519</td>\n",
       "      <td>0.474029</td>\n",
       "      <td>0.486309</td>\n",
       "    </tr>\n",
       "    <tr>\n",
       "      <th>1</th>\n",
       "      <td>clean</td>\n",
       "      <td>0.332917</td>\n",
       "      <td>0.861700</td>\n",
       "      <td>0.404314</td>\n",
       "      <td>0.389627</td>\n",
       "    </tr>\n",
       "    <tr>\n",
       "      <th>2</th>\n",
       "      <td>blast</td>\n",
       "      <td>0.289236</td>\n",
       "      <td>0.931659</td>\n",
       "      <td>0.286454</td>\n",
       "      <td>0.297081</td>\n",
       "    </tr>\n",
       "    <tr>\n",
       "      <th>3</th>\n",
       "      <td>priam</td>\n",
       "      <td>0.075195</td>\n",
       "      <td>0.692765</td>\n",
       "      <td>0.445039</td>\n",
       "      <td>0.289674</td>\n",
       "    </tr>\n",
       "    <tr>\n",
       "      <th>4</th>\n",
       "      <td>deepec</td>\n",
       "      <td>0.146958</td>\n",
       "      <td>0.964808</td>\n",
       "      <td>0.145643</td>\n",
       "      <td>0.171148</td>\n",
       "    </tr>\n",
       "    <tr>\n",
       "      <th>5</th>\n",
       "      <td>catfam</td>\n",
       "      <td>0.132605</td>\n",
       "      <td>0.978662</td>\n",
       "      <td>0.139431</td>\n",
       "      <td>0.152270</td>\n",
       "    </tr>\n",
       "    <tr>\n",
       "      <th>6</th>\n",
       "      <td>ecpred</td>\n",
       "      <td>0.058034</td>\n",
       "      <td>0.977168</td>\n",
       "      <td>0.060915</td>\n",
       "      <td>0.073204</td>\n",
       "    </tr>\n",
       "  </tbody>\n",
       "</table> </div>\n",
       "     "
      ],
      "text/plain": [
       "<IPython.core.display.HTML object>"
      ]
     },
     "execution_count": 11,
     "metadata": {},
     "output_type": "execute_result"
    }
   ],
   "source": [
    "#show results\n",
    "HTML(f'''\n",
    "     <div style=\"float:left; width: 25%;\"><h2>Reaction Predcition Results <span style=\"color:red\"> [FULL SET]</span></h2>{metrics_rxn_fullset.sort_values(by=['mF1'], ascending=False).reset_index(drop=True).to_html()} </div>\n",
    "     <div style=\"float:left; width: 25%;\"><h2>Reaction Predcition Results <span style=\"color:red\"> [NONE-ENZYME]</span></h2>{metrics_rxn_noneenzyme.sort_values(by=['mF1'], ascending=False).reset_index(drop=True).to_html()} </div>\n",
    "     <div style=\"float:left; width: 25%;\"><h2>Reaction Predcition Results <span style=\"color:red\"> [ENZYME]</span></h2>{metrics_rxn_enzyme.sort_values(by=['mF1'], ascending=False).reset_index(drop=True).to_html()} </div>\n",
    "     ''')"
   ]
  }
 ],
 "metadata": {
  "kernelspec": {
   "display_name": "rxnrecer",
   "language": "python",
   "name": "rxnrecer"
  },
  "language_info": {
   "codemirror_mode": {
    "name": "ipython",
    "version": 3
   },
   "file_extension": ".py",
   "mimetype": "text/x-python",
   "name": "python",
   "nbconvert_exporter": "python",
   "pygments_lexer": "ipython3",
   "version": "3.10.14"
  },
  "orig_nbformat": 4
 },
 "nbformat": 4,
 "nbformat_minor": 2
}
