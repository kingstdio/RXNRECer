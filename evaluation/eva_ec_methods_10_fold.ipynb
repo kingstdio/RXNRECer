{
 "cells": [
  {
   "cell_type": "markdown",
   "metadata": {},
   "source": [
    "## 反应直接预测结果分析\n",
    "> 2024-11-04\n",
    "\n",
    "### 1. 导入必要的包"
   ]
  },
  {
   "cell_type": "code",
   "execution_count": 1,
   "metadata": {},
   "outputs": [
    {
     "name": "stdout",
     "output_type": "stream",
     "text": [
      "INFO: Pandarallel will run on 112 workers.\n",
      "INFO: Pandarallel will use Memory file system to transfer data between the main process and workers.\n"
     ]
    }
   ],
   "source": [
    "import sys,os\n",
    "sys.path.insert(0, os.path.dirname(os.path.realpath('__file__')))\n",
    "sys.path.insert(1,'../')\n",
    "from config import conf as cfg\n",
    "import pandas as pd\n",
    "from tqdm import tqdm\n",
    "import numpy as np\n",
    "from tkinter import _flatten\n",
    "import json\n",
    "from concurrent.futures import ThreadPoolExecutor, as_completed\n",
    "import plotly.graph_objects as go\n",
    "from tools import btools\n",
    "from IPython.display import HTML\n",
    "from pandarallel import pandarallel # 导入pandaralle\n",
    "\n",
    "pandarallel.initialize(progress_bar=False)\n",
    "%load_ext autoreload\n",
    "%autoreload 2"
   ]
  },
  {
   "cell_type": "markdown",
   "metadata": {},
   "source": [
    "### 2. 加载测试数据集"
   ]
  },
  {
   "cell_type": "code",
   "execution_count": 2,
   "metadata": {},
   "outputs": [
    {
     "name": "stdout",
     "output_type": "stream",
     "text": [
      "加载反应编码字典完成，共有 10479 个反应。\n",
      "测试集数据量: 13515\n",
      "使用预测方法['blast', 'deepec', 'clean', 'ecrecer', 'ecpred', 'catfam', 'priam']\n"
     ]
    },
    {
     "data": {
      "text/html": [
       "<div>\n",
       "<style scoped>\n",
       "    .dataframe tbody tr th:only-of-type {\n",
       "        vertical-align: middle;\n",
       "    }\n",
       "\n",
       "    .dataframe tbody tr th {\n",
       "        vertical-align: top;\n",
       "    }\n",
       "\n",
       "    .dataframe thead th {\n",
       "        text-align: right;\n",
       "    }\n",
       "</style>\n",
       "<table border=\"1\" class=\"dataframe\">\n",
       "  <thead>\n",
       "    <tr style=\"text-align: right;\">\n",
       "      <th></th>\n",
       "      <th>uniprot_id</th>\n",
       "      <th>rxn_groundtruth</th>\n",
       "      <th>isenzyme_groundtruth</th>\n",
       "      <th>ec_groundtruth</th>\n",
       "      <th>ec_specific_level</th>\n",
       "      <th>lb_rxn_groundtruth</th>\n",
       "    </tr>\n",
       "  </thead>\n",
       "  <tbody>\n",
       "    <tr>\n",
       "      <th>0</th>\n",
       "      <td>A9JLI2</td>\n",
       "      <td>-</td>\n",
       "      <td>False</td>\n",
       "      <td>-</td>\n",
       "      <td>0</td>\n",
       "      <td>[0, 0, 0, 0, 0, 0, 0, 0, 0, 0, 0, 0, 0, 0, 0, ...</td>\n",
       "    </tr>\n",
       "    <tr>\n",
       "      <th>1</th>\n",
       "      <td>A9JLI3</td>\n",
       "      <td>-</td>\n",
       "      <td>False</td>\n",
       "      <td>-</td>\n",
       "      <td>0</td>\n",
       "      <td>[0, 0, 0, 0, 0, 0, 0, 0, 0, 0, 0, 0, 0, 0, 0, ...</td>\n",
       "    </tr>\n",
       "  </tbody>\n",
       "</table>\n",
       "</div>"
      ],
      "text/plain": [
       "  uniprot_id rxn_groundtruth  isenzyme_groundtruth ec_groundtruth  \\\n",
       "0     A9JLI2               -                 False              -   \n",
       "1     A9JLI3               -                 False              -   \n",
       "\n",
       "   ec_specific_level                                 lb_rxn_groundtruth  \n",
       "0                  0  [0, 0, 0, 0, 0, 0, 0, 0, 0, 0, 0, 0, 0, 0, 0, ...  \n",
       "1                  0  [0, 0, 0, 0, 0, 0, 0, 0, 0, 0, 0, 0, 0, 0, 0, ...  "
      ]
     },
     "execution_count": 2,
     "metadata": {},
     "output_type": "execute_result"
    }
   ],
   "source": [
    "# 从 JSON 文件加载反应编码字典\n",
    "with open(cfg.FILE_DS_DICT_RXN2ID, \"r\") as json_file:\n",
    "    dict_rxn2id = json.load(json_file)\n",
    "    print(f'加载反应编码字典完成，共有 {len(dict_rxn2id)} 个反应。')  # 打印加载的数据\n",
    "\n",
    "# load datasets\n",
    "ds_test = pd.read_feather(cfg.FILE_DS_TEST)[['uniprot_id', \n",
    "                                             'reaction_id', \n",
    "                                             'isenzyme',\n",
    "                                             'ec_number',\n",
    "                                             'ec_specific_level',\n",
    "                                             'label'\n",
    "                                             ]].rename(columns={'reaction_id':'rxn_groundtruth','isenzyme':'isenzyme_groundtruth','ec_number':'ec_groundtruth', 'label':'lb_rxn_groundtruth'})\n",
    "\n",
    "print(f'测试集数据量: {len(ds_test)}')\n",
    "\n",
    "methods = ['blast', 'deepec', 'clean', 'ecrecer', 'ecpred', 'catfam', 'priam']\n",
    "\n",
    "print(f'使用预测方法{methods}')\n",
    "\n",
    "ds_test.head(2)\n"
   ]
  },
  {
   "cell_type": "markdown",
   "metadata": {},
   "source": [
    "## 4. Load results from EC based method"
   ]
  },
  {
   "cell_type": "code",
   "execution_count": 3,
   "metadata": {},
   "outputs": [],
   "source": [
    "# Read CSV files serially\n",
    "def read_csv_files(file_paths):\n",
    "    return [pd.read_csv(file, sep='\\t') for file in file_paths]\n",
    "\n",
    "# Function to get ec_rxn_nores\n",
    "def get_ec_rxn_nores(pred_detail, eckey, rxnkey):\n",
    "    no_prediction = len(pred_detail[(pred_detail[eckey].str.contains('NO-PREDICTION'))])\n",
    "    ecwithout_reaction = len(pred_detail[(pred_detail[rxnkey].str.contains('EC-WITHOUT-REACTION'))])\n",
    "    return [len(pred_detail), no_prediction, ecwithout_reaction]\n",
    "\n",
    "def process_no_res(res_list, eckey, rxnkey):\n",
    "    return pd.DataFrame([get_ec_rxn_nores(pred_detail=res_list[item], eckey=eckey, rxnkey=rxnkey) for item in range(10)], \n",
    "                        columns=['test_size', 'no_prediction', 'ec_without_rxn'])\n",
    "\n",
    "# Make one-hot encoding label for each prediction\n",
    "def make_labels(resdf, src_col1, src_col2, lb1, lb2, rxn_label_dict):\n",
    "    resdf[[lb1, lb2]] = resdf.apply(\n",
    "        lambda row: pd.Series({\n",
    "            lb1: btools.make_label(reaction_id=str(row[src_col1]), rxn_label_dict=rxn_label_dict),\n",
    "            lb2: btools.make_label(reaction_id=str(row[src_col2]), rxn_label_dict=rxn_label_dict)\n",
    "        }), axis=1\n",
    "    )\n",
    "    return resdf\n",
    "\n",
    "def apply_labels(res_list, src_col1, src_col2, lb1, lb2, rxn_label_dict):\n",
    "    for i in tqdm(range(10)):\n",
    "        res_list[i] = make_labels(resdf=res_list[i], src_col1=src_col1, src_col2=src_col2, lb1=lb1, lb2=lb2, rxn_label_dict=rxn_label_dict)\n",
    "    return res_list\n",
    "\n",
    "# Function to calculate metrics\n",
    "def calculate_metrics(res_df_list, item, method):\n",
    "    return btools.rxn_eva_metric(eva_df=res_df_list[item], eva_name=f'{method}_fold_{item+1}', methods=[method])\n",
    "\n",
    "def process_metrics(res_list, method, max_workers=10):\n",
    "    with ThreadPoolExecutor(max_workers=max_workers) as executor:\n",
    "        futures = [executor.submit(calculate_metrics, res_list, item, method) for item in range(10)]\n",
    "        metrics = [future.result() for future in as_completed(futures)]\n",
    "    metrics_df = pd.concat(metrics, axis=0).reset_index(drop=True)\n",
    "    metrics_df['baselineName'] = metrics_df.apply(lambda x: f'fold_{x.name+1}', axis=1)\n",
    "    return metrics_df\n",
    "\n",
    "# Function to display results as HTML\n",
    "def display_html_results(metrics, fold_std, eva_name):\n",
    "    return HTML(f\"\"\"\n",
    "         <div style=\"float:left; width:900px;\">\n",
    "              <h2 style='color:blue'>{eva_name} Evaluation 10 Fold Details</h2>\n",
    "              {metrics.to_html()}\n",
    "         </div>\n",
    "         <div  style=\"float:left; width:400px;\" >\n",
    "              <h2 style='color:blue' >{eva_name} Evaluation 10 Fold Overview</h2>\n",
    "                   {fold_std.to_html()}\n",
    "         </div>\n",
    "         \"\"\")"
   ]
  },
  {
   "cell_type": "markdown",
   "metadata": {},
   "source": [
    "### 4.1 Blast"
   ]
  },
  {
   "cell_type": "code",
   "execution_count": 5,
   "metadata": {},
   "outputs": [
    {
     "name": "stderr",
     "output_type": "stream",
     "text": [
      "100%|██████████| 10/10 [01:41<00:00, 10.18s/it]\n"
     ]
    },
    {
     "name": "stdout",
     "output_type": "stream",
     "text": [
      "Evaluating: Reaction Predcition Results blast_fold_1\n",
      "Evaluating: Reaction Predcition Results blast_fold_2\n",
      "Evaluating: Reaction Predcition Results blast_fold_3\n",
      "Evaluating: Reaction Predcition Results blast_fold_4\n",
      "Evaluating: Reaction Predcition Results blast_fold_5\n",
      "Evaluating: Reaction Predcition Results blast_fold_6\n",
      "Evaluating: Reaction Predcition Results blast_fold_7\n",
      "Evaluating: Reaction Predcition Results blast_fold_8\n",
      "Evaluating: Reaction Predcition Results blast_fold_9\n",
      "Evaluating: Reaction Predcition Results blast_fold_10\n"
     ]
    },
    {
     "data": {
      "text/html": [
       "\n",
       "         <div style=\"float:left; width:900px;\">\n",
       "              <h2 style='color:blue'>Blast Evaluation 10 Fold Details</h2>\n",
       "              <table border=\"1\" class=\"dataframe\">\n",
       "  <thead>\n",
       "    <tr style=\"text-align: right;\">\n",
       "      <th></th>\n",
       "      <th>baselineName</th>\n",
       "      <th>mAccuracy</th>\n",
       "      <th>mPrecision</th>\n",
       "      <th>mRecall</th>\n",
       "      <th>mF1</th>\n",
       "      <th>test_size</th>\n",
       "      <th>no_prediction</th>\n",
       "      <th>ec_without_rxn</th>\n",
       "      <th>runFold</th>\n",
       "    </tr>\n",
       "  </thead>\n",
       "  <tbody>\n",
       "    <tr>\n",
       "      <th>0</th>\n",
       "      <td>Blast_via_EC</td>\n",
       "      <td>0.818219</td>\n",
       "      <td>0.904869</td>\n",
       "      <td>0.774860</td>\n",
       "      <td>0.784454</td>\n",
       "      <td>50858</td>\n",
       "      <td>2424</td>\n",
       "      <td>2588</td>\n",
       "      <td>fold_1</td>\n",
       "    </tr>\n",
       "    <tr>\n",
       "      <th>1</th>\n",
       "      <td>Blast_via_EC</td>\n",
       "      <td>0.818141</td>\n",
       "      <td>0.894471</td>\n",
       "      <td>0.773167</td>\n",
       "      <td>0.782766</td>\n",
       "      <td>50858</td>\n",
       "      <td>2386</td>\n",
       "      <td>2590</td>\n",
       "      <td>fold_2</td>\n",
       "    </tr>\n",
       "    <tr>\n",
       "      <th>2</th>\n",
       "      <td>Blast_via_EC</td>\n",
       "      <td>0.814365</td>\n",
       "      <td>0.907530</td>\n",
       "      <td>0.773451</td>\n",
       "      <td>0.783372</td>\n",
       "      <td>50858</td>\n",
       "      <td>2379</td>\n",
       "      <td>2751</td>\n",
       "      <td>fold_3</td>\n",
       "    </tr>\n",
       "    <tr>\n",
       "      <th>3</th>\n",
       "      <td>Blast_via_EC</td>\n",
       "      <td>0.815309</td>\n",
       "      <td>0.909223</td>\n",
       "      <td>0.770627</td>\n",
       "      <td>0.780678</td>\n",
       "      <td>50858</td>\n",
       "      <td>2301</td>\n",
       "      <td>2628</td>\n",
       "      <td>fold_4</td>\n",
       "    </tr>\n",
       "    <tr>\n",
       "      <th>4</th>\n",
       "      <td>Blast_via_EC</td>\n",
       "      <td>0.816646</td>\n",
       "      <td>0.908945</td>\n",
       "      <td>0.775516</td>\n",
       "      <td>0.785399</td>\n",
       "      <td>50858</td>\n",
       "      <td>2418</td>\n",
       "      <td>2591</td>\n",
       "      <td>fold_5</td>\n",
       "    </tr>\n",
       "    <tr>\n",
       "      <th>5</th>\n",
       "      <td>Blast_via_EC</td>\n",
       "      <td>0.817236</td>\n",
       "      <td>0.907138</td>\n",
       "      <td>0.775457</td>\n",
       "      <td>0.785389</td>\n",
       "      <td>50858</td>\n",
       "      <td>2391</td>\n",
       "      <td>2633</td>\n",
       "      <td>fold_6</td>\n",
       "    </tr>\n",
       "    <tr>\n",
       "      <th>6</th>\n",
       "      <td>Blast_via_EC</td>\n",
       "      <td>0.815113</td>\n",
       "      <td>0.903960</td>\n",
       "      <td>0.774638</td>\n",
       "      <td>0.785443</td>\n",
       "      <td>50858</td>\n",
       "      <td>2369</td>\n",
       "      <td>2615</td>\n",
       "      <td>fold_7</td>\n",
       "    </tr>\n",
       "    <tr>\n",
       "      <th>7</th>\n",
       "      <td>Blast_via_EC</td>\n",
       "      <td>0.812655</td>\n",
       "      <td>0.909814</td>\n",
       "      <td>0.770326</td>\n",
       "      <td>0.780436</td>\n",
       "      <td>50858</td>\n",
       "      <td>2381</td>\n",
       "      <td>2674</td>\n",
       "      <td>fold_8</td>\n",
       "    </tr>\n",
       "    <tr>\n",
       "      <th>8</th>\n",
       "      <td>Blast_via_EC</td>\n",
       "      <td>0.815034</td>\n",
       "      <td>0.899002</td>\n",
       "      <td>0.767950</td>\n",
       "      <td>0.777427</td>\n",
       "      <td>50858</td>\n",
       "      <td>2449</td>\n",
       "      <td>2626</td>\n",
       "      <td>fold_9</td>\n",
       "    </tr>\n",
       "    <tr>\n",
       "      <th>9</th>\n",
       "      <td>Blast_via_EC</td>\n",
       "      <td>0.816155</td>\n",
       "      <td>0.918055</td>\n",
       "      <td>0.772610</td>\n",
       "      <td>0.782583</td>\n",
       "      <td>50858</td>\n",
       "      <td>2431</td>\n",
       "      <td>2584</td>\n",
       "      <td>fold_10</td>\n",
       "    </tr>\n",
       "  </tbody>\n",
       "</table>\n",
       "         </div>\n",
       "         <div  style=\"float:left; width:400px;\" >\n",
       "              <h2 style='color:blue' >Blast Evaluation 10 Fold Overview</h2>\n",
       "                   <table border=\"1\" class=\"dataframe\">\n",
       "  <thead>\n",
       "    <tr style=\"text-align: right;\">\n",
       "      <th></th>\n",
       "      <th>mAccuracy</th>\n",
       "      <th>mPrecision</th>\n",
       "      <th>mRecall</th>\n",
       "      <th>mF1</th>\n",
       "      <th>no_prediction</th>\n",
       "      <th>ec_without_rxn</th>\n",
       "    </tr>\n",
       "  </thead>\n",
       "  <tbody>\n",
       "    <tr>\n",
       "      <th>mean</th>\n",
       "      <td>0.815887</td>\n",
       "      <td>0.906301</td>\n",
       "      <td>0.772860</td>\n",
       "      <td>0.782795</td>\n",
       "      <td>2392.900000</td>\n",
       "      <td>2628.000000</td>\n",
       "    </tr>\n",
       "    <tr>\n",
       "      <th>std</th>\n",
       "      <td>0.001745</td>\n",
       "      <td>0.006403</td>\n",
       "      <td>0.002516</td>\n",
       "      <td>0.002636</td>\n",
       "      <td>41.631852</td>\n",
       "      <td>51.415519</td>\n",
       "    </tr>\n",
       "  </tbody>\n",
       "</table>\n",
       "         </div>\n",
       "         "
      ],
      "text/plain": [
       "<IPython.core.display.HTML object>"
      ]
     },
     "execution_count": 5,
     "metadata": {},
     "output_type": "execute_result"
    }
   ],
   "source": [
    "# Blast Results Processing\n",
    "vali_res_blast = [f'{cfg.DIR_PROJECT_ROOT}/baselines/results/ec_methods/blast/fold{item}.tsv' for item in range(1, 11)]\n",
    "res_blast = read_csv_files(vali_res_blast)\n",
    "df_blast_no_pred = process_no_res(res_blast, eckey='ec_blast', rxnkey='rxn_ecblast')\n",
    "res_blast = apply_labels(res_blast, 'reaction_groundtruth', 'rxn_ecblast', 'lb_rxn_groundtruth', 'lb_rxn_blast', dict_rxn2id)\n",
    "res_blast_metrics = process_metrics(res_blast, 'blast')\n",
    "res_blast_metrics = pd.concat([res_blast_metrics, df_blast_no_pred], axis=1)\n",
    "\n",
    "#补充方法名称\n",
    "res_blast_metrics['runFold'] = res_blast_metrics.baselineName\n",
    "res_blast_metrics.baselineName = 'Blast_via_EC'\n",
    "res_blast_metrics.to_feather('/hpcfs/fhome/shizhenkun/codebase/RXNRECer/evaluation/data/res_blast_metrics.feather')\n",
    "\n",
    "\n",
    "res_blast_fold_std = res_blast_metrics[['mAccuracy', 'mPrecision', 'mRecall', 'mF1', 'no_prediction', 'ec_without_rxn']].agg(['mean', 'std'])\n",
    "display_html_results(res_blast_metrics, res_blast_fold_std, 'Blast')"
   ]
  },
  {
   "cell_type": "markdown",
   "metadata": {},
   "source": [
    "### 4.2 DeepEC"
   ]
  },
  {
   "cell_type": "code",
   "execution_count": 11,
   "metadata": {},
   "outputs": [
    {
     "name": "stderr",
     "output_type": "stream",
     "text": [
      "100%|██████████| 10/10 [02:01<00:00, 12.14s/it]\n"
     ]
    },
    {
     "name": "stdout",
     "output_type": "stream",
     "text": [
      "Evaluating: Reaction Predcition Results deepec_fold_1Evaluating: Reaction Predcition Results deepec_fold_2\n",
      "\n",
      "Evaluating: Reaction Predcition Results deepec_fold_3\n",
      "Evaluating: Reaction Predcition Results deepec_fold_4\n",
      "Evaluating: Reaction Predcition Results deepec_fold_5\n",
      "Evaluating: Reaction Predcition Results deepec_fold_6\n",
      "Evaluating: Reaction Predcition Results deepec_fold_7\n",
      "Evaluating: Reaction Predcition Results deepec_fold_8\n",
      "Evaluating: Reaction Predcition Results deepec_fold_9\n",
      "Evaluating: Reaction Predcition Results deepec_fold_10\n"
     ]
    },
    {
     "data": {
      "text/html": [
       "\n",
       "         <div style=\"float:left; width:900px;\">\n",
       "              <h2 style='color:blue'>DeepEC Evaluation 10 Fold Details</h2>\n",
       "              <table border=\"1\" class=\"dataframe\">\n",
       "  <thead>\n",
       "    <tr style=\"text-align: right;\">\n",
       "      <th></th>\n",
       "      <th>baselineName</th>\n",
       "      <th>mAccuracy</th>\n",
       "      <th>mPrecision</th>\n",
       "      <th>mRecall</th>\n",
       "      <th>mF1</th>\n",
       "      <th>test_size</th>\n",
       "      <th>no_prediction</th>\n",
       "      <th>ec_without_rxn</th>\n",
       "      <th>runFold</th>\n",
       "    </tr>\n",
       "  </thead>\n",
       "  <tbody>\n",
       "    <tr>\n",
       "      <th>0</th>\n",
       "      <td>DeepEC</td>\n",
       "      <td>0.293798</td>\n",
       "      <td>0.794857</td>\n",
       "      <td>0.313444</td>\n",
       "      <td>0.296721</td>\n",
       "      <td>50858</td>\n",
       "      <td>30918</td>\n",
       "      <td>1572</td>\n",
       "      <td>fold_1</td>\n",
       "    </tr>\n",
       "    <tr>\n",
       "      <th>1</th>\n",
       "      <td>DeepEC</td>\n",
       "      <td>0.295057</td>\n",
       "      <td>0.468772</td>\n",
       "      <td>0.312436</td>\n",
       "      <td>0.296577</td>\n",
       "      <td>50858</td>\n",
       "      <td>30958</td>\n",
       "      <td>1543</td>\n",
       "      <td>fold_2</td>\n",
       "    </tr>\n",
       "    <tr>\n",
       "      <th>2</th>\n",
       "      <td>DeepEC</td>\n",
       "      <td>0.296394</td>\n",
       "      <td>0.787416</td>\n",
       "      <td>0.314352</td>\n",
       "      <td>0.298151</td>\n",
       "      <td>50858</td>\n",
       "      <td>30749</td>\n",
       "      <td>1673</td>\n",
       "      <td>fold_3</td>\n",
       "    </tr>\n",
       "    <tr>\n",
       "      <th>3</th>\n",
       "      <td>DeepEC</td>\n",
       "      <td>0.292324</td>\n",
       "      <td>0.596970</td>\n",
       "      <td>0.311300</td>\n",
       "      <td>0.294721</td>\n",
       "      <td>50858</td>\n",
       "      <td>30916</td>\n",
       "      <td>1587</td>\n",
       "      <td>fold_4</td>\n",
       "    </tr>\n",
       "    <tr>\n",
       "      <th>4</th>\n",
       "      <td>DeepEC</td>\n",
       "      <td>0.291478</td>\n",
       "      <td>0.698312</td>\n",
       "      <td>0.312777</td>\n",
       "      <td>0.297000</td>\n",
       "      <td>50858</td>\n",
       "      <td>30799</td>\n",
       "      <td>1580</td>\n",
       "      <td>fold_5</td>\n",
       "    </tr>\n",
       "    <tr>\n",
       "      <th>5</th>\n",
       "      <td>DeepEC</td>\n",
       "      <td>0.292501</td>\n",
       "      <td>0.670122</td>\n",
       "      <td>0.310283</td>\n",
       "      <td>0.293809</td>\n",
       "      <td>50858</td>\n",
       "      <td>30908</td>\n",
       "      <td>1588</td>\n",
       "      <td>fold_6</td>\n",
       "    </tr>\n",
       "    <tr>\n",
       "      <th>6</th>\n",
       "      <td>DeepEC</td>\n",
       "      <td>0.295666</td>\n",
       "      <td>0.796326</td>\n",
       "      <td>0.314134</td>\n",
       "      <td>0.297887</td>\n",
       "      <td>50858</td>\n",
       "      <td>30984</td>\n",
       "      <td>1600</td>\n",
       "      <td>fold_7</td>\n",
       "    </tr>\n",
       "    <tr>\n",
       "      <th>7</th>\n",
       "      <td>DeepEC</td>\n",
       "      <td>0.294565</td>\n",
       "      <td>0.789211</td>\n",
       "      <td>0.314474</td>\n",
       "      <td>0.298498</td>\n",
       "      <td>50858</td>\n",
       "      <td>30991</td>\n",
       "      <td>1569</td>\n",
       "      <td>fold_8</td>\n",
       "    </tr>\n",
       "    <tr>\n",
       "      <th>8</th>\n",
       "      <td>DeepEC</td>\n",
       "      <td>0.293602</td>\n",
       "      <td>0.468735</td>\n",
       "      <td>0.312926</td>\n",
       "      <td>0.296822</td>\n",
       "      <td>50858</td>\n",
       "      <td>30938</td>\n",
       "      <td>1594</td>\n",
       "      <td>fold_9</td>\n",
       "    </tr>\n",
       "    <tr>\n",
       "      <th>9</th>\n",
       "      <td>DeepEC</td>\n",
       "      <td>0.294801</td>\n",
       "      <td>0.793383</td>\n",
       "      <td>0.314107</td>\n",
       "      <td>0.298265</td>\n",
       "      <td>50858</td>\n",
       "      <td>31044</td>\n",
       "      <td>1537</td>\n",
       "      <td>fold_10</td>\n",
       "    </tr>\n",
       "  </tbody>\n",
       "</table>\n",
       "         </div>\n",
       "         <div  style=\"float:left; width:400px;\" >\n",
       "              <h2 style='color:blue' >DeepEC Evaluation 10 Fold Overview</h2>\n",
       "                   <table border=\"1\" class=\"dataframe\">\n",
       "  <thead>\n",
       "    <tr style=\"text-align: right;\">\n",
       "      <th></th>\n",
       "      <th>mAccuracy</th>\n",
       "      <th>mPrecision</th>\n",
       "      <th>mRecall</th>\n",
       "      <th>mF1</th>\n",
       "      <th>no_prediction</th>\n",
       "      <th>ec_without_rxn</th>\n",
       "    </tr>\n",
       "  </thead>\n",
       "  <tbody>\n",
       "    <tr>\n",
       "      <th>mean</th>\n",
       "      <td>0.294019</td>\n",
       "      <td>0.686411</td>\n",
       "      <td>0.313023</td>\n",
       "      <td>0.296845</td>\n",
       "      <td>30920.50000</td>\n",
       "      <td>1584.300000</td>\n",
       "    </tr>\n",
       "    <tr>\n",
       "      <th>std</th>\n",
       "      <td>0.001571</td>\n",
       "      <td>0.133004</td>\n",
       "      <td>0.001388</td>\n",
       "      <td>0.001541</td>\n",
       "      <td>88.39589</td>\n",
       "      <td>37.381071</td>\n",
       "    </tr>\n",
       "  </tbody>\n",
       "</table>\n",
       "         </div>\n",
       "         "
      ],
      "text/plain": [
       "<IPython.core.display.HTML object>"
      ]
     },
     "execution_count": 11,
     "metadata": {},
     "output_type": "execute_result"
    }
   ],
   "source": [
    "# DeepEC Results Processing\n",
    "vali_res_deepec_rxn = [f'{cfg.DIR_RES_BASELINE}results/ec_methods/deepec/fold_{item}.tsv' for item in range(1, 11)]\n",
    "res_ec_deepec = read_csv_files(vali_res_deepec_rxn)\n",
    "df_deepec_no_pred = process_no_res(res_ec_deepec, eckey='ec_deepec', rxnkey='reaction_deepec')\n",
    "res_ec_deepec = apply_labels(res_ec_deepec, 'reaction_groundtruth', 'reaction_deepec', 'lb_rxn_groundtruth', 'lb_rxn_deepec', dict_rxn2id)\n",
    "res_deepec_metrics = process_metrics(res_ec_deepec, 'deepec')\n",
    "res_deepec_metrics = pd.concat([res_deepec_metrics, df_deepec_no_pred], axis=1)\n",
    "\n",
    "#补充方法名称\n",
    "res_deepec_metrics['runFold'] = res_deepec_metrics.baselineName\n",
    "res_deepec_metrics.baselineName = 'DeepEC'\n",
    "res_deepec_metrics.to_feather('/hpcfs/fhome/shizhenkun/codebase/RXNRECer/evaluation/data/res_deepec_metrics.feather')\n",
    "\n",
    "res_deepec_fold_std = res_deepec_metrics[['mAccuracy', 'mPrecision', 'mRecall', 'mF1', 'no_prediction', 'ec_without_rxn']].agg(['mean', 'std'])\n",
    "display_html_results(res_deepec_metrics, res_deepec_fold_std, 'DeepEC')"
   ]
  },
  {
   "cell_type": "markdown",
   "metadata": {},
   "source": [
    "### 4.3 CLEAN"
   ]
  },
  {
   "cell_type": "code",
   "execution_count": 12,
   "metadata": {},
   "outputs": [
    {
     "name": "stderr",
     "output_type": "stream",
     "text": [
      "100%|██████████| 10/10 [01:54<00:00, 11.48s/it]\n"
     ]
    },
    {
     "name": "stdout",
     "output_type": "stream",
     "text": [
      "Evaluating: Reaction Predcition Results clean_fold_1\n",
      "Evaluating: Reaction Predcition Results clean_fold_2\n",
      "Evaluating: Reaction Predcition Results clean_fold_3\n",
      "Evaluating: Reaction Predcition Results clean_fold_4\n",
      "Evaluating: Reaction Predcition Results clean_fold_5\n",
      "Evaluating: Reaction Predcition Results clean_fold_6\n",
      "Evaluating: Reaction Predcition Results clean_fold_7\n",
      "Evaluating: Reaction Predcition Results clean_fold_8\n",
      "Evaluating: Reaction Predcition Results clean_fold_9\n",
      "Evaluating: Reaction Predcition Results clean_fold_10\n"
     ]
    },
    {
     "data": {
      "text/html": [
       "\n",
       "         <div style=\"float:left; width:900px;\">\n",
       "              <h2 style='color:blue'>Clean Evaluation 10 Fold Details</h2>\n",
       "              <table border=\"1\" class=\"dataframe\">\n",
       "  <thead>\n",
       "    <tr style=\"text-align: right;\">\n",
       "      <th></th>\n",
       "      <th>baselineName</th>\n",
       "      <th>mAccuracy</th>\n",
       "      <th>mPrecision</th>\n",
       "      <th>mRecall</th>\n",
       "      <th>mF1</th>\n",
       "      <th>test_size</th>\n",
       "      <th>no_prediction</th>\n",
       "      <th>ec_without_rxn</th>\n",
       "      <th>runFold</th>\n",
       "    </tr>\n",
       "  </thead>\n",
       "  <tbody>\n",
       "    <tr>\n",
       "      <th>0</th>\n",
       "      <td>CLEAN</td>\n",
       "      <td>0.329132</td>\n",
       "      <td>0.820416</td>\n",
       "      <td>0.354308</td>\n",
       "      <td>0.302624</td>\n",
       "      <td>50858</td>\n",
       "      <td>0</td>\n",
       "      <td>8422</td>\n",
       "      <td>fold_1</td>\n",
       "    </tr>\n",
       "    <tr>\n",
       "      <th>1</th>\n",
       "      <td>CLEAN</td>\n",
       "      <td>0.327284</td>\n",
       "      <td>0.817173</td>\n",
       "      <td>0.351229</td>\n",
       "      <td>0.299286</td>\n",
       "      <td>50858</td>\n",
       "      <td>0</td>\n",
       "      <td>8454</td>\n",
       "      <td>fold_2</td>\n",
       "    </tr>\n",
       "    <tr>\n",
       "      <th>2</th>\n",
       "      <td>CLEAN</td>\n",
       "      <td>0.326930</td>\n",
       "      <td>0.823910</td>\n",
       "      <td>0.352811</td>\n",
       "      <td>0.300442</td>\n",
       "      <td>50858</td>\n",
       "      <td>0</td>\n",
       "      <td>8445</td>\n",
       "      <td>fold_3</td>\n",
       "    </tr>\n",
       "    <tr>\n",
       "      <th>3</th>\n",
       "      <td>CLEAN</td>\n",
       "      <td>0.330096</td>\n",
       "      <td>0.815567</td>\n",
       "      <td>0.354734</td>\n",
       "      <td>0.303291</td>\n",
       "      <td>50858</td>\n",
       "      <td>0</td>\n",
       "      <td>8359</td>\n",
       "      <td>fold_4</td>\n",
       "    </tr>\n",
       "    <tr>\n",
       "      <th>4</th>\n",
       "      <td>CLEAN</td>\n",
       "      <td>0.324531</td>\n",
       "      <td>0.823268</td>\n",
       "      <td>0.350537</td>\n",
       "      <td>0.299188</td>\n",
       "      <td>50858</td>\n",
       "      <td>0</td>\n",
       "      <td>8505</td>\n",
       "      <td>fold_5</td>\n",
       "    </tr>\n",
       "    <tr>\n",
       "      <th>5</th>\n",
       "      <td>CLEAN</td>\n",
       "      <td>0.326242</td>\n",
       "      <td>0.817681</td>\n",
       "      <td>0.351318</td>\n",
       "      <td>0.299232</td>\n",
       "      <td>50858</td>\n",
       "      <td>0</td>\n",
       "      <td>8526</td>\n",
       "      <td>fold_6</td>\n",
       "    </tr>\n",
       "    <tr>\n",
       "      <th>6</th>\n",
       "      <td>CLEAN</td>\n",
       "      <td>0.325200</td>\n",
       "      <td>0.823811</td>\n",
       "      <td>0.353383</td>\n",
       "      <td>0.302272</td>\n",
       "      <td>50858</td>\n",
       "      <td>0</td>\n",
       "      <td>8498</td>\n",
       "      <td>fold_7</td>\n",
       "    </tr>\n",
       "    <tr>\n",
       "      <th>7</th>\n",
       "      <td>CLEAN</td>\n",
       "      <td>0.330607</td>\n",
       "      <td>0.814915</td>\n",
       "      <td>0.355162</td>\n",
       "      <td>0.303243</td>\n",
       "      <td>50858</td>\n",
       "      <td>0</td>\n",
       "      <td>8381</td>\n",
       "      <td>fold_8</td>\n",
       "    </tr>\n",
       "    <tr>\n",
       "      <th>8</th>\n",
       "      <td>CLEAN</td>\n",
       "      <td>0.328385</td>\n",
       "      <td>0.661943</td>\n",
       "      <td>0.352310</td>\n",
       "      <td>0.300568</td>\n",
       "      <td>50858</td>\n",
       "      <td>0</td>\n",
       "      <td>8542</td>\n",
       "      <td>fold_9</td>\n",
       "    </tr>\n",
       "    <tr>\n",
       "      <th>9</th>\n",
       "      <td>CLEAN</td>\n",
       "      <td>0.328444</td>\n",
       "      <td>0.815624</td>\n",
       "      <td>0.352898</td>\n",
       "      <td>0.301182</td>\n",
       "      <td>50858</td>\n",
       "      <td>0</td>\n",
       "      <td>8550</td>\n",
       "      <td>fold_10</td>\n",
       "    </tr>\n",
       "  </tbody>\n",
       "</table>\n",
       "         </div>\n",
       "         <div  style=\"float:left; width:400px;\" >\n",
       "              <h2 style='color:blue' >Clean Evaluation 10 Fold Overview</h2>\n",
       "                   <table border=\"1\" class=\"dataframe\">\n",
       "  <thead>\n",
       "    <tr style=\"text-align: right;\">\n",
       "      <th></th>\n",
       "      <th>mAccuracy</th>\n",
       "      <th>mPrecision</th>\n",
       "      <th>mRecall</th>\n",
       "      <th>mF1</th>\n",
       "      <th>no_prediction</th>\n",
       "      <th>ec_without_rxn</th>\n",
       "    </tr>\n",
       "  </thead>\n",
       "  <tbody>\n",
       "    <tr>\n",
       "      <th>mean</th>\n",
       "      <td>0.327685</td>\n",
       "      <td>0.803431</td>\n",
       "      <td>0.352869</td>\n",
       "      <td>0.301133</td>\n",
       "      <td>0.0</td>\n",
       "      <td>8468.200000</td>\n",
       "    </tr>\n",
       "    <tr>\n",
       "      <th>std</th>\n",
       "      <td>0.002012</td>\n",
       "      <td>0.049839</td>\n",
       "      <td>0.001561</td>\n",
       "      <td>0.001641</td>\n",
       "      <td>0.0</td>\n",
       "      <td>66.769587</td>\n",
       "    </tr>\n",
       "  </tbody>\n",
       "</table>\n",
       "         </div>\n",
       "         "
      ],
      "text/plain": [
       "<IPython.core.display.HTML object>"
      ]
     },
     "execution_count": 12,
     "metadata": {},
     "output_type": "execute_result"
    }
   ],
   "source": [
    "# Clean Results Processing\n",
    "vali_res_clean_rxn = [f'{cfg.DIR_RES_BASELINE}results/ec_methods/clean/fold_{item}.tsv' for item in range(1, 11)]\n",
    "res_clean = read_csv_files(vali_res_clean_rxn)\n",
    "df_clean_no_pred = process_no_res(res_clean, eckey='ec_clean', rxnkey='reaction_clean')\n",
    "res_clean = apply_labels(res_clean, 'reaction_groundtruth', 'reaction_clean', 'lb_rxn_groundtruth', 'lb_rxn_clean', dict_rxn2id)\n",
    "res_clean_metrics = process_metrics(res_clean, 'clean')\n",
    "res_clean_metrics = pd.concat([res_clean_metrics, df_clean_no_pred], axis=1)\n",
    "\n",
    "#补充方法名称\n",
    "res_clean_metrics['runFold'] = res_clean_metrics.baselineName\n",
    "res_clean_metrics.baselineName = 'CLEAN'\n",
    "res_clean_metrics.to_feather('/hpcfs/fhome/shizhenkun/codebase/RXNRECer/evaluation/data/res_clean_metrics.feather')\n",
    "\n",
    "\n",
    "res_clean_fold_std = res_clean_metrics[['mAccuracy', 'mPrecision', 'mRecall', 'mF1', 'no_prediction', 'ec_without_rxn']].agg(['mean', 'std'])\n",
    "display_html_results(res_clean_metrics, res_clean_fold_std, 'Clean')"
   ]
  },
  {
   "cell_type": "markdown",
   "metadata": {},
   "source": [
    "### 4.4 ECRECer"
   ]
  },
  {
   "cell_type": "code",
   "execution_count": 13,
   "metadata": {},
   "outputs": [
    {
     "name": "stderr",
     "output_type": "stream",
     "text": [
      "100%|██████████| 10/10 [01:51<00:00, 11.18s/it]\n"
     ]
    },
    {
     "name": "stdout",
     "output_type": "stream",
     "text": [
      "Evaluating: Reaction Predcition Results ecrecer_fold_1\n",
      "Evaluating: Reaction Predcition Results ecrecer_fold_2\n",
      "Evaluating: Reaction Predcition Results ecrecer_fold_3\n",
      "Evaluating: Reaction Predcition Results ecrecer_fold_4\n",
      "Evaluating: Reaction Predcition Results ecrecer_fold_5\n",
      "Evaluating: Reaction Predcition Results ecrecer_fold_6\n",
      "Evaluating: Reaction Predcition Results ecrecer_fold_7\n",
      "Evaluating: Reaction Predcition Results ecrecer_fold_8\n",
      "Evaluating: Reaction Predcition Results ecrecer_fold_9\n",
      "Evaluating: Reaction Predcition Results ecrecer_fold_10\n"
     ]
    },
    {
     "data": {
      "text/html": [
       "\n",
       "         <div style=\"float:left; width:900px;\">\n",
       "              <h2 style='color:blue'>ECRECer Evaluation 10 Fold Details</h2>\n",
       "              <table border=\"1\" class=\"dataframe\">\n",
       "  <thead>\n",
       "    <tr style=\"text-align: right;\">\n",
       "      <th></th>\n",
       "      <th>baselineName</th>\n",
       "      <th>mAccuracy</th>\n",
       "      <th>mPrecision</th>\n",
       "      <th>mRecall</th>\n",
       "      <th>mF1</th>\n",
       "      <th>test_size</th>\n",
       "      <th>no_prediction</th>\n",
       "      <th>ec_without_rxn</th>\n",
       "      <th>runFold</th>\n",
       "    </tr>\n",
       "  </thead>\n",
       "  <tbody>\n",
       "    <tr>\n",
       "      <th>0</th>\n",
       "      <td>ECRECer</td>\n",
       "      <td>0.875044</td>\n",
       "      <td>0.950653</td>\n",
       "      <td>0.802625</td>\n",
       "      <td>0.806791</td>\n",
       "      <td>50858</td>\n",
       "      <td>0</td>\n",
       "      <td>2953</td>\n",
       "      <td>fold_1</td>\n",
       "    </tr>\n",
       "    <tr>\n",
       "      <th>1</th>\n",
       "      <td>ECRECer</td>\n",
       "      <td>0.873314</td>\n",
       "      <td>0.935831</td>\n",
       "      <td>0.794605</td>\n",
       "      <td>0.798072</td>\n",
       "      <td>50858</td>\n",
       "      <td>0</td>\n",
       "      <td>2993</td>\n",
       "      <td>fold_2</td>\n",
       "    </tr>\n",
       "    <tr>\n",
       "      <th>2</th>\n",
       "      <td>ECRECer</td>\n",
       "      <td>0.873373</td>\n",
       "      <td>0.939369</td>\n",
       "      <td>0.799853</td>\n",
       "      <td>0.803454</td>\n",
       "      <td>50858</td>\n",
       "      <td>0</td>\n",
       "      <td>3154</td>\n",
       "      <td>fold_3</td>\n",
       "    </tr>\n",
       "    <tr>\n",
       "      <th>3</th>\n",
       "      <td>ECRECer</td>\n",
       "      <td>0.870384</td>\n",
       "      <td>0.944382</td>\n",
       "      <td>0.795887</td>\n",
       "      <td>0.799832</td>\n",
       "      <td>50858</td>\n",
       "      <td>0</td>\n",
       "      <td>3074</td>\n",
       "      <td>fold_4</td>\n",
       "    </tr>\n",
       "    <tr>\n",
       "      <th>4</th>\n",
       "      <td>ECRECer</td>\n",
       "      <td>0.873176</td>\n",
       "      <td>0.936793</td>\n",
       "      <td>0.796044</td>\n",
       "      <td>0.800144</td>\n",
       "      <td>50858</td>\n",
       "      <td>0</td>\n",
       "      <td>3012</td>\n",
       "      <td>fold_5</td>\n",
       "    </tr>\n",
       "    <tr>\n",
       "      <th>5</th>\n",
       "      <td>ECRECer</td>\n",
       "      <td>0.872567</td>\n",
       "      <td>0.939177</td>\n",
       "      <td>0.796762</td>\n",
       "      <td>0.800743</td>\n",
       "      <td>50858</td>\n",
       "      <td>0</td>\n",
       "      <td>3042</td>\n",
       "      <td>fold_6</td>\n",
       "    </tr>\n",
       "    <tr>\n",
       "      <th>6</th>\n",
       "      <td>ECRECer</td>\n",
       "      <td>0.876873</td>\n",
       "      <td>0.949961</td>\n",
       "      <td>0.801769</td>\n",
       "      <td>0.805219</td>\n",
       "      <td>50858</td>\n",
       "      <td>0</td>\n",
       "      <td>2993</td>\n",
       "      <td>fold_7</td>\n",
       "    </tr>\n",
       "    <tr>\n",
       "      <th>7</th>\n",
       "      <td>ECRECer</td>\n",
       "      <td>0.872960</td>\n",
       "      <td>0.941878</td>\n",
       "      <td>0.799392</td>\n",
       "      <td>0.803242</td>\n",
       "      <td>50858</td>\n",
       "      <td>0</td>\n",
       "      <td>3059</td>\n",
       "      <td>fold_8</td>\n",
       "    </tr>\n",
       "    <tr>\n",
       "      <th>8</th>\n",
       "      <td>ECRECer</td>\n",
       "      <td>0.874926</td>\n",
       "      <td>0.943126</td>\n",
       "      <td>0.801762</td>\n",
       "      <td>0.805310</td>\n",
       "      <td>50858</td>\n",
       "      <td>0</td>\n",
       "      <td>3066</td>\n",
       "      <td>fold_9</td>\n",
       "    </tr>\n",
       "    <tr>\n",
       "      <th>9</th>\n",
       "      <td>ECRECer</td>\n",
       "      <td>0.872606</td>\n",
       "      <td>0.946377</td>\n",
       "      <td>0.797657</td>\n",
       "      <td>0.801316</td>\n",
       "      <td>50858</td>\n",
       "      <td>0</td>\n",
       "      <td>3061</td>\n",
       "      <td>fold_10</td>\n",
       "    </tr>\n",
       "  </tbody>\n",
       "</table>\n",
       "         </div>\n",
       "         <div  style=\"float:left; width:400px;\" >\n",
       "              <h2 style='color:blue' >ECRECer Evaluation 10 Fold Overview</h2>\n",
       "                   <table border=\"1\" class=\"dataframe\">\n",
       "  <thead>\n",
       "    <tr style=\"text-align: right;\">\n",
       "      <th></th>\n",
       "      <th>mAccuracy</th>\n",
       "      <th>mPrecision</th>\n",
       "      <th>mRecall</th>\n",
       "      <th>mF1</th>\n",
       "      <th>no_prediction</th>\n",
       "      <th>ec_without_rxn</th>\n",
       "    </tr>\n",
       "  </thead>\n",
       "  <tbody>\n",
       "    <tr>\n",
       "      <th>mean</th>\n",
       "      <td>0.873522</td>\n",
       "      <td>0.942755</td>\n",
       "      <td>0.798635</td>\n",
       "      <td>0.802412</td>\n",
       "      <td>0.0</td>\n",
       "      <td>3040.700000</td>\n",
       "    </tr>\n",
       "    <tr>\n",
       "      <th>std</th>\n",
       "      <td>0.001752</td>\n",
       "      <td>0.005150</td>\n",
       "      <td>0.002839</td>\n",
       "      <td>0.002825</td>\n",
       "      <td>0.0</td>\n",
       "      <td>56.174431</td>\n",
       "    </tr>\n",
       "  </tbody>\n",
       "</table>\n",
       "         </div>\n",
       "         "
      ],
      "text/plain": [
       "<IPython.core.display.HTML object>"
      ]
     },
     "execution_count": 13,
     "metadata": {},
     "output_type": "execute_result"
    }
   ],
   "source": [
    "# ECRECer Results Processing\n",
    "vali_res_ecrecer_rxn = [f'{cfg.DIR_RES_BASELINE}results/ec_methods/ecrecer/fold_{item}.tsv' for item in range(1, 11)]\n",
    "res_ecrecer = read_csv_files(vali_res_ecrecer_rxn)\n",
    "df_ecrecer_no_pred = process_no_res(res_ecrecer, eckey='ec_ecrecer', rxnkey='rxn_ecrecer')\n",
    "res_ecrecer = apply_labels(res_ecrecer, 'reaction_groundtruth', 'rxn_ecrecer', 'lb_rxn_groundtruth', 'lb_rxn_ecrecer', dict_rxn2id)\n",
    "res_ecrecer_metrics = process_metrics(res_ecrecer, 'ecrecer')\n",
    "res_ecrecer_metrics = pd.concat([res_ecrecer_metrics, df_ecrecer_no_pred], axis=1)\n",
    "\n",
    "#补充方法名称\n",
    "res_ecrecer_metrics['runFold'] = res_ecrecer_metrics.baselineName\n",
    "res_ecrecer_metrics.baselineName = 'ECRECer'\n",
    "res_ecrecer_metrics.to_feather('/hpcfs/fhome/shizhenkun/codebase/RXNRECer/evaluation/data/res_ecrecer_metrics.feather')\n",
    "\n",
    "res_ecrecer_fold_std = res_ecrecer_metrics[['mAccuracy', 'mPrecision', 'mRecall', 'mF1', 'no_prediction', 'ec_without_rxn']].agg(['mean', 'std'])\n",
    "display_html_results(res_ecrecer_metrics, res_ecrecer_fold_std, 'ECRECer')"
   ]
  },
  {
   "cell_type": "markdown",
   "metadata": {},
   "source": [
    "### 4.5 CATFAM"
   ]
  },
  {
   "cell_type": "code",
   "execution_count": null,
   "metadata": {},
   "outputs": [
    {
     "data": {
      "text/html": [
       "\n",
       "         <div style=\"float:left; width:900px;\">\n",
       "              <h2 style='color:blue'>CATFAM Evaluation 10 Fold Details</h2>\n",
       "              <table border=\"1\" class=\"dataframe\">\n",
       "  <thead>\n",
       "    <tr style=\"text-align: right;\">\n",
       "      <th></th>\n",
       "      <th>baselineName</th>\n",
       "      <th>mAccuracy</th>\n",
       "      <th>mPrecision</th>\n",
       "      <th>mRecall</th>\n",
       "      <th>mF1</th>\n",
       "      <th>test_size</th>\n",
       "      <th>no_prediction</th>\n",
       "      <th>ec_without_rxn</th>\n",
       "      <th>runFold</th>\n",
       "    </tr>\n",
       "  </thead>\n",
       "  <tbody>\n",
       "    <tr>\n",
       "      <th>0</th>\n",
       "      <td>CatFam</td>\n",
       "      <td>0.770675</td>\n",
       "      <td>0.850983</td>\n",
       "      <td>0.712115</td>\n",
       "      <td>0.668797</td>\n",
       "      <td>50858</td>\n",
       "      <td>0</td>\n",
       "      <td>2109</td>\n",
       "      <td>fold_1</td>\n",
       "    </tr>\n",
       "    <tr>\n",
       "      <th>1</th>\n",
       "      <td>CatFam</td>\n",
       "      <td>0.770380</td>\n",
       "      <td>0.844415</td>\n",
       "      <td>0.714195</td>\n",
       "      <td>0.669735</td>\n",
       "      <td>50858</td>\n",
       "      <td>0</td>\n",
       "      <td>2149</td>\n",
       "      <td>fold_2</td>\n",
       "    </tr>\n",
       "    <tr>\n",
       "      <th>2</th>\n",
       "      <td>CatFam</td>\n",
       "      <td>0.772523</td>\n",
       "      <td>0.853241</td>\n",
       "      <td>0.715021</td>\n",
       "      <td>0.672002</td>\n",
       "      <td>50858</td>\n",
       "      <td>0</td>\n",
       "      <td>2221</td>\n",
       "      <td>fold_3</td>\n",
       "    </tr>\n",
       "    <tr>\n",
       "      <th>3</th>\n",
       "      <td>CatFam</td>\n",
       "      <td>0.771442</td>\n",
       "      <td>0.839872</td>\n",
       "      <td>0.715581</td>\n",
       "      <td>0.671479</td>\n",
       "      <td>50858</td>\n",
       "      <td>0</td>\n",
       "      <td>2233</td>\n",
       "      <td>fold_4</td>\n",
       "    </tr>\n",
       "    <tr>\n",
       "      <th>4</th>\n",
       "      <td>CatFam</td>\n",
       "      <td>0.769338</td>\n",
       "      <td>0.841067</td>\n",
       "      <td>0.709931</td>\n",
       "      <td>0.666423</td>\n",
       "      <td>50858</td>\n",
       "      <td>0</td>\n",
       "      <td>2214</td>\n",
       "      <td>fold_5</td>\n",
       "    </tr>\n",
       "    <tr>\n",
       "      <th>5</th>\n",
       "      <td>CatFam</td>\n",
       "      <td>0.771737</td>\n",
       "      <td>0.859790</td>\n",
       "      <td>0.713994</td>\n",
       "      <td>0.670974</td>\n",
       "      <td>50858</td>\n",
       "      <td>0</td>\n",
       "      <td>2158</td>\n",
       "      <td>fold_6</td>\n",
       "    </tr>\n",
       "    <tr>\n",
       "      <th>6</th>\n",
       "      <td>CatFam</td>\n",
       "      <td>0.769535</td>\n",
       "      <td>0.854616</td>\n",
       "      <td>0.708613</td>\n",
       "      <td>0.665166</td>\n",
       "      <td>50858</td>\n",
       "      <td>0</td>\n",
       "      <td>2213</td>\n",
       "      <td>fold_7</td>\n",
       "    </tr>\n",
       "    <tr>\n",
       "      <th>7</th>\n",
       "      <td>CatFam</td>\n",
       "      <td>0.772130</td>\n",
       "      <td>0.845439</td>\n",
       "      <td>0.715684</td>\n",
       "      <td>0.673031</td>\n",
       "      <td>50858</td>\n",
       "      <td>0</td>\n",
       "      <td>2198</td>\n",
       "      <td>fold_8</td>\n",
       "    </tr>\n",
       "    <tr>\n",
       "      <th>8</th>\n",
       "      <td>CatFam</td>\n",
       "      <td>0.772445</td>\n",
       "      <td>0.853308</td>\n",
       "      <td>0.718281</td>\n",
       "      <td>0.674618</td>\n",
       "      <td>50858</td>\n",
       "      <td>0</td>\n",
       "      <td>2123</td>\n",
       "      <td>fold_9</td>\n",
       "    </tr>\n",
       "    <tr>\n",
       "      <th>9</th>\n",
       "      <td>CatFam</td>\n",
       "      <td>0.766290</td>\n",
       "      <td>0.852771</td>\n",
       "      <td>0.709331</td>\n",
       "      <td>0.665500</td>\n",
       "      <td>50858</td>\n",
       "      <td>0</td>\n",
       "      <td>2104</td>\n",
       "      <td>fold_10</td>\n",
       "    </tr>\n",
       "  </tbody>\n",
       "</table>\n",
       "         </div>\n",
       "         <div  style=\"float:left; width:400px;\" >\n",
       "              <h2 style='color:blue' >CATFAM Evaluation 10 Fold Overview</h2>\n",
       "                   <table border=\"1\" class=\"dataframe\">\n",
       "  <thead>\n",
       "    <tr style=\"text-align: right;\">\n",
       "      <th></th>\n",
       "      <th>mAccuracy</th>\n",
       "      <th>mPrecision</th>\n",
       "      <th>mRecall</th>\n",
       "      <th>mF1</th>\n",
       "      <th>no_prediction</th>\n",
       "      <th>ec_without_rxn</th>\n",
       "    </tr>\n",
       "  </thead>\n",
       "  <tbody>\n",
       "    <tr>\n",
       "      <th>mean</th>\n",
       "      <td>0.770650</td>\n",
       "      <td>0.849550</td>\n",
       "      <td>0.713275</td>\n",
       "      <td>0.669772</td>\n",
       "      <td>0.0</td>\n",
       "      <td>2172.200000</td>\n",
       "    </tr>\n",
       "    <tr>\n",
       "      <th>std</th>\n",
       "      <td>0.001908</td>\n",
       "      <td>0.006494</td>\n",
       "      <td>0.003170</td>\n",
       "      <td>0.003250</td>\n",
       "      <td>0.0</td>\n",
       "      <td>49.398156</td>\n",
       "    </tr>\n",
       "  </tbody>\n",
       "</table>\n",
       "         </div>\n",
       "         "
      ],
      "text/plain": [
       "<IPython.core.display.HTML object>"
      ]
     },
     "execution_count": 13,
     "metadata": {},
     "output_type": "execute_result"
    }
   ],
   "source": [
    "# CATFAM Results Processing\n",
    "vali_res_catfam_rxn = [f'{cfg.DIR_RES_BASELINE}results/ec_methods/catfam/fold_{item}.tsv' for item in range(1, 11)]\n",
    "res_catfam = read_csv_files(vali_res_catfam_rxn)\n",
    "df_catfam_no_pred = process_no_res(res_catfam, eckey='ec_catfam', rxnkey='rxn_catfam')\n",
    "res_catfam = apply_labels(res_catfam, 'reaction_groundtruth', 'rxn_catfam', 'lb_rxn_groundtruth', 'lb_rxn_catfam', dict_rxn2id)\n",
    "res_catfam_metrics = process_metrics(res_catfam, 'catfam')\n",
    "res_catfam_metrics = pd.concat([res_catfam_metrics, df_catfam_no_pred], axis=1)\n",
    "\n",
    "#补充方法名称\n",
    "res_catfam_metrics['runFold'] = res_catfam_metrics.baselineName\n",
    "res_catfam_metrics.baselineName = 'CatFam'\n",
    "res_catfam_metrics.to_feather('/hpcfs/fhome/shizhenkun/codebase/RXNRECer/evaluation/data/res_catfam_metrics.feather')\n",
    "\n",
    "res_catfam_fold_std = res_catfam_metrics[['mAccuracy', 'mPrecision', 'mRecall', 'mF1', 'no_prediction', 'ec_without_rxn']].agg(['mean', 'std'])\n",
    "display_html_results(res_catfam_metrics, res_catfam_fold_std, 'CATFAM')\n",
    "display_html_results(res_catfam_metrics, res_catfam_fold_std, 'CATFAM')"
   ]
  },
  {
   "cell_type": "markdown",
   "metadata": {},
   "source": [
    "### 4.6 PRIAM"
   ]
  },
  {
   "cell_type": "code",
   "execution_count": 15,
   "metadata": {},
   "outputs": [
    {
     "name": "stderr",
     "output_type": "stream",
     "text": [
      "100%|██████████| 10/10 [01:55<00:00, 11.57s/it]\n"
     ]
    },
    {
     "name": "stdout",
     "output_type": "stream",
     "text": [
      "Evaluating: Reaction Predcition Results priam_fold_1Evaluating: Reaction Predcition Results priam_fold_2\n",
      "\n",
      "Evaluating: Reaction Predcition Results priam_fold_3\n",
      "Evaluating: Reaction Predcition Results priam_fold_4\n",
      "Evaluating: Reaction Predcition Results priam_fold_5\n",
      "Evaluating: Reaction Predcition Results priam_fold_6\n",
      "Evaluating: Reaction Predcition Results priam_fold_7\n",
      "Evaluating: Reaction Predcition Results priam_fold_8\n",
      "Evaluating: Reaction Predcition Results priam_fold_9\n",
      "Evaluating: Reaction Predcition Results priam_fold_10\n"
     ]
    },
    {
     "data": {
      "text/html": [
       "\n",
       "         <div style=\"float:left; width:900px;\">\n",
       "              <h2 style='color:blue'>PRIAM Evaluation 10 Fold Details</h2>\n",
       "              <table border=\"1\" class=\"dataframe\">\n",
       "  <thead>\n",
       "    <tr style=\"text-align: right;\">\n",
       "      <th></th>\n",
       "      <th>baselineName</th>\n",
       "      <th>mAccuracy</th>\n",
       "      <th>mPrecision</th>\n",
       "      <th>mRecall</th>\n",
       "      <th>mF1</th>\n",
       "      <th>test_size</th>\n",
       "      <th>no_prediction</th>\n",
       "      <th>ec_without_rxn</th>\n",
       "      <th>runFold</th>\n",
       "    </tr>\n",
       "  </thead>\n",
       "  <tbody>\n",
       "    <tr>\n",
       "      <th>0</th>\n",
       "      <td>PRIAM</td>\n",
       "      <td>0.085611</td>\n",
       "      <td>0.680622</td>\n",
       "      <td>0.379586</td>\n",
       "      <td>0.224087</td>\n",
       "      <td>50858</td>\n",
       "      <td>14343</td>\n",
       "      <td>2625</td>\n",
       "      <td>fold_1</td>\n",
       "    </tr>\n",
       "    <tr>\n",
       "      <th>1</th>\n",
       "      <td>PRIAM</td>\n",
       "      <td>0.085867</td>\n",
       "      <td>0.520728</td>\n",
       "      <td>0.384268</td>\n",
       "      <td>0.226977</td>\n",
       "      <td>50858</td>\n",
       "      <td>14432</td>\n",
       "      <td>2725</td>\n",
       "      <td>fold_2</td>\n",
       "    </tr>\n",
       "    <tr>\n",
       "      <th>2</th>\n",
       "      <td>PRIAM</td>\n",
       "      <td>0.086594</td>\n",
       "      <td>0.680500</td>\n",
       "      <td>0.379973</td>\n",
       "      <td>0.222292</td>\n",
       "      <td>50858</td>\n",
       "      <td>14313</td>\n",
       "      <td>2782</td>\n",
       "      <td>fold_3</td>\n",
       "    </tr>\n",
       "    <tr>\n",
       "      <th>3</th>\n",
       "      <td>PRIAM</td>\n",
       "      <td>0.087263</td>\n",
       "      <td>0.528602</td>\n",
       "      <td>0.383063</td>\n",
       "      <td>0.226419</td>\n",
       "      <td>50858</td>\n",
       "      <td>14233</td>\n",
       "      <td>2876</td>\n",
       "      <td>fold_4</td>\n",
       "    </tr>\n",
       "    <tr>\n",
       "      <th>4</th>\n",
       "      <td>PRIAM</td>\n",
       "      <td>0.085965</td>\n",
       "      <td>0.683731</td>\n",
       "      <td>0.382887</td>\n",
       "      <td>0.225909</td>\n",
       "      <td>50858</td>\n",
       "      <td>14307</td>\n",
       "      <td>2699</td>\n",
       "      <td>fold_5</td>\n",
       "    </tr>\n",
       "    <tr>\n",
       "      <th>5</th>\n",
       "      <td>PRIAM</td>\n",
       "      <td>0.085709</td>\n",
       "      <td>0.686245</td>\n",
       "      <td>0.378193</td>\n",
       "      <td>0.222428</td>\n",
       "      <td>50858</td>\n",
       "      <td>14358</td>\n",
       "      <td>2746</td>\n",
       "      <td>fold_6</td>\n",
       "    </tr>\n",
       "    <tr>\n",
       "      <th>6</th>\n",
       "      <td>PRIAM</td>\n",
       "      <td>0.087715</td>\n",
       "      <td>0.683375</td>\n",
       "      <td>0.382141</td>\n",
       "      <td>0.227754</td>\n",
       "      <td>50858</td>\n",
       "      <td>14319</td>\n",
       "      <td>2722</td>\n",
       "      <td>fold_7</td>\n",
       "    </tr>\n",
       "    <tr>\n",
       "      <th>7</th>\n",
       "      <td>PRIAM</td>\n",
       "      <td>0.085985</td>\n",
       "      <td>0.682326</td>\n",
       "      <td>0.381596</td>\n",
       "      <td>0.224561</td>\n",
       "      <td>50858</td>\n",
       "      <td>14326</td>\n",
       "      <td>2794</td>\n",
       "      <td>fold_8</td>\n",
       "    </tr>\n",
       "    <tr>\n",
       "      <th>8</th>\n",
       "      <td>PRIAM</td>\n",
       "      <td>0.086515</td>\n",
       "      <td>0.694737</td>\n",
       "      <td>0.382978</td>\n",
       "      <td>0.224811</td>\n",
       "      <td>50858</td>\n",
       "      <td>14409</td>\n",
       "      <td>2745</td>\n",
       "      <td>fold_9</td>\n",
       "    </tr>\n",
       "    <tr>\n",
       "      <th>9</th>\n",
       "      <td>PRIAM</td>\n",
       "      <td>0.087105</td>\n",
       "      <td>0.685258</td>\n",
       "      <td>0.382271</td>\n",
       "      <td>0.227135</td>\n",
       "      <td>50858</td>\n",
       "      <td>14627</td>\n",
       "      <td>2658</td>\n",
       "      <td>fold_10</td>\n",
       "    </tr>\n",
       "  </tbody>\n",
       "</table>\n",
       "         </div>\n",
       "         <div  style=\"float:left; width:400px;\" >\n",
       "              <h2 style='color:blue' >PRIAM Evaluation 10 Fold Overview</h2>\n",
       "                   <table border=\"1\" class=\"dataframe\">\n",
       "  <thead>\n",
       "    <tr style=\"text-align: right;\">\n",
       "      <th></th>\n",
       "      <th>mAccuracy</th>\n",
       "      <th>mPrecision</th>\n",
       "      <th>mRecall</th>\n",
       "      <th>mF1</th>\n",
       "      <th>no_prediction</th>\n",
       "      <th>ec_without_rxn</th>\n",
       "    </tr>\n",
       "  </thead>\n",
       "  <tbody>\n",
       "    <tr>\n",
       "      <th>mean</th>\n",
       "      <td>0.086433</td>\n",
       "      <td>0.652612</td>\n",
       "      <td>0.381695</td>\n",
       "      <td>0.225237</td>\n",
       "      <td>14366.700000</td>\n",
       "      <td>2737.200000</td>\n",
       "    </tr>\n",
       "    <tr>\n",
       "      <th>std</th>\n",
       "      <td>0.000727</td>\n",
       "      <td>0.067580</td>\n",
       "      <td>0.001879</td>\n",
       "      <td>0.001925</td>\n",
       "      <td>106.823895</td>\n",
       "      <td>70.975426</td>\n",
       "    </tr>\n",
       "  </tbody>\n",
       "</table>\n",
       "         </div>\n",
       "         "
      ],
      "text/plain": [
       "<IPython.core.display.HTML object>"
      ]
     },
     "execution_count": 15,
     "metadata": {},
     "output_type": "execute_result"
    }
   ],
   "source": [
    "# PRIAM Results Processing\n",
    "vali_res_priam_rxn = [f'{cfg.DIR_RES_BASELINE}results/ec_methods/priam/fold_{item}.tsv' for item in range(1, 11)]\n",
    "res_priam = read_csv_files(vali_res_priam_rxn)\n",
    "df_priam_no_pred = process_no_res(res_priam, eckey='ec_priam', rxnkey='rxn_priam')\n",
    "res_priam = apply_labels(res_priam, 'reaction_groundtruth', 'rxn_priam', 'lb_rxn_groundtruth', 'lb_rxn_priam', dict_rxn2id)\n",
    "res_priam_metrics = process_metrics(res_priam, 'priam')\n",
    "res_priam_metrics = pd.concat([res_priam_metrics, df_priam_no_pred], axis=1)\n",
    "\n",
    "#补充方法名称\n",
    "res_priam_metrics['runFold'] = res_priam_metrics.baselineName\n",
    "res_priam_metrics.baselineName = 'PRIAM'\n",
    "res_priam_metrics.to_feather('/hpcfs/fhome/shizhenkun/codebase/RXNRECer/evaluation/data/res_priam_metrics.feather')\n",
    "\n",
    "\n",
    "res_priam_fold_std = res_priam_metrics[['mAccuracy', 'mPrecision', 'mRecall', 'mF1', 'no_prediction', 'ec_without_rxn']].agg(['mean', 'std'])\n",
    "\n",
    "\n",
    "display_html_results(res_priam_metrics, res_priam_fold_std, 'PRIAM')"
   ]
  },
  {
   "cell_type": "markdown",
   "metadata": {},
   "source": [
    "## 5.Evaluation Results"
   ]
  },
  {
   "cell_type": "code",
   "execution_count": 263,
   "metadata": {},
   "outputs": [
    {
     "data": {
      "text/html": [
       "<div>\n",
       "<style scoped>\n",
       "    .dataframe tbody tr th:only-of-type {\n",
       "        vertical-align: middle;\n",
       "    }\n",
       "\n",
       "    .dataframe tbody tr th {\n",
       "        vertical-align: top;\n",
       "    }\n",
       "\n",
       "    .dataframe thead th {\n",
       "        text-align: right;\n",
       "    }\n",
       "</style>\n",
       "<table border=\"1\" class=\"dataframe\">\n",
       "  <thead>\n",
       "    <tr style=\"text-align: right;\">\n",
       "      <th></th>\n",
       "      <th>baselineName</th>\n",
       "      <th>mAccuracy</th>\n",
       "      <th>mPrecision</th>\n",
       "      <th>mRecall</th>\n",
       "      <th>mF1</th>\n",
       "      <th>test_size</th>\n",
       "      <th>no_prediction</th>\n",
       "      <th>ec_without_rxn</th>\n",
       "      <th>runFold</th>\n",
       "    </tr>\n",
       "  </thead>\n",
       "  <tbody>\n",
       "    <tr>\n",
       "      <th>0</th>\n",
       "      <td>Blast_via_EC</td>\n",
       "      <td>0.818219</td>\n",
       "      <td>0.904869</td>\n",
       "      <td>0.774860</td>\n",
       "      <td>0.784454</td>\n",
       "      <td>50858</td>\n",
       "      <td>2424</td>\n",
       "      <td>2588</td>\n",
       "      <td>fold_1</td>\n",
       "    </tr>\n",
       "    <tr>\n",
       "      <th>1</th>\n",
       "      <td>Blast_via_EC</td>\n",
       "      <td>0.818141</td>\n",
       "      <td>0.894471</td>\n",
       "      <td>0.773167</td>\n",
       "      <td>0.782766</td>\n",
       "      <td>50858</td>\n",
       "      <td>2386</td>\n",
       "      <td>2590</td>\n",
       "      <td>fold_2</td>\n",
       "    </tr>\n",
       "    <tr>\n",
       "      <th>2</th>\n",
       "      <td>Blast_via_EC</td>\n",
       "      <td>0.814365</td>\n",
       "      <td>0.907530</td>\n",
       "      <td>0.773451</td>\n",
       "      <td>0.783372</td>\n",
       "      <td>50858</td>\n",
       "      <td>2379</td>\n",
       "      <td>2751</td>\n",
       "      <td>fold_3</td>\n",
       "    </tr>\n",
       "  </tbody>\n",
       "</table>\n",
       "</div>"
      ],
      "text/plain": [
       "   baselineName  mAccuracy  mPrecision   mRecall       mF1  test_size  \\\n",
       "0  Blast_via_EC   0.818219    0.904869  0.774860  0.784454      50858   \n",
       "1  Blast_via_EC   0.818141    0.894471  0.773167  0.782766      50858   \n",
       "2  Blast_via_EC   0.814365    0.907530  0.773451  0.783372      50858   \n",
       "\n",
       "   no_prediction  ec_without_rxn runFold  \n",
       "0           2424            2588  fold_1  \n",
       "1           2386            2590  fold_2  \n",
       "2           2379            2751  fold_3  "
      ]
     },
     "execution_count": 263,
     "metadata": {},
     "output_type": "execute_result"
    }
   ],
   "source": [
    "res_blast_metrics = pd.read_feather('/hpcfs/fhome/shizhenkun/codebase/RXNRECer/evaluation/data/res_blast_metrics.feather')\n",
    "res_deepec_metrics = pd.read_feather('/hpcfs/fhome/shizhenkun/codebase/RXNRECer/evaluation/data/res_deepec_metrics.feather')\n",
    "res_clean_metrics = pd.read_feather('/hpcfs/fhome/shizhenkun/codebase/RXNRECer/evaluation/data/res_clean_metrics.feather')\n",
    "res_ecrecer_metrics = pd.read_feather('/hpcfs/fhome/shizhenkun/codebase/RXNRECer/evaluation/data/res_ecrecer_metrics.feather')\n",
    "res_catfam_metrics  = pd.read_feather('/hpcfs/fhome/shizhenkun/codebase/RXNRECer/evaluation/data/res_catfam_metrics.feather')\n",
    "res_priam_metrics = pd.read_feather('/hpcfs/fhome/shizhenkun/codebase/RXNRECer/evaluation/data/res_priam_metrics.feather')\n",
    "res_metrics = pd.concat([res_blast_metrics,res_deepec_metrics, res_clean_metrics, res_ecrecer_metrics, res_catfam_metrics, res_priam_metrics], axis=0).reset_index(drop=True)\n",
    "res_metrics.head(3)"
   ]
  },
  {
   "cell_type": "code",
   "execution_count": 361,
   "metadata": {},
   "outputs": [
    {
     "data": {
      "text/html": [
       "<div>\n",
       "<style scoped>\n",
       "    .dataframe tbody tr th:only-of-type {\n",
       "        vertical-align: middle;\n",
       "    }\n",
       "\n",
       "    .dataframe tbody tr th {\n",
       "        vertical-align: top;\n",
       "    }\n",
       "\n",
       "    .dataframe thead th {\n",
       "        text-align: right;\n",
       "    }\n",
       "</style>\n",
       "<table border=\"1\" class=\"dataframe\">\n",
       "  <thead>\n",
       "    <tr style=\"text-align: right;\">\n",
       "      <th></th>\n",
       "      <th>Method</th>\n",
       "      <th>Metric</th>\n",
       "      <th>Mean</th>\n",
       "      <th>Std</th>\n",
       "    </tr>\n",
       "  </thead>\n",
       "  <tbody>\n",
       "    <tr>\n",
       "      <th>0</th>\n",
       "      <td>Blast_via_EC</td>\n",
       "      <td>mAccuracy</td>\n",
       "      <td>0.815887</td>\n",
       "      <td>0.001745</td>\n",
       "    </tr>\n",
       "    <tr>\n",
       "      <th>1</th>\n",
       "      <td>Blast_via_EC</td>\n",
       "      <td>mF1</td>\n",
       "      <td>0.782795</td>\n",
       "      <td>0.002636</td>\n",
       "    </tr>\n",
       "    <tr>\n",
       "      <th>2</th>\n",
       "      <td>Blast_via_EC</td>\n",
       "      <td>mPrecision</td>\n",
       "      <td>0.906301</td>\n",
       "      <td>0.006403</td>\n",
       "    </tr>\n",
       "    <tr>\n",
       "      <th>3</th>\n",
       "      <td>Blast_via_EC</td>\n",
       "      <td>mRecall</td>\n",
       "      <td>0.772860</td>\n",
       "      <td>0.002516</td>\n",
       "    </tr>\n",
       "    <tr>\n",
       "      <th>4</th>\n",
       "      <td>CLEAN</td>\n",
       "      <td>mAccuracy</td>\n",
       "      <td>0.327685</td>\n",
       "      <td>0.002012</td>\n",
       "    </tr>\n",
       "    <tr>\n",
       "      <th>5</th>\n",
       "      <td>CLEAN</td>\n",
       "      <td>mF1</td>\n",
       "      <td>0.301133</td>\n",
       "      <td>0.001641</td>\n",
       "    </tr>\n",
       "    <tr>\n",
       "      <th>6</th>\n",
       "      <td>CLEAN</td>\n",
       "      <td>mPrecision</td>\n",
       "      <td>0.803431</td>\n",
       "      <td>0.049839</td>\n",
       "    </tr>\n",
       "    <tr>\n",
       "      <th>7</th>\n",
       "      <td>CLEAN</td>\n",
       "      <td>mRecall</td>\n",
       "      <td>0.352869</td>\n",
       "      <td>0.001561</td>\n",
       "    </tr>\n",
       "    <tr>\n",
       "      <th>8</th>\n",
       "      <td>CatFam</td>\n",
       "      <td>mAccuracy</td>\n",
       "      <td>0.770650</td>\n",
       "      <td>0.001908</td>\n",
       "    </tr>\n",
       "    <tr>\n",
       "      <th>9</th>\n",
       "      <td>CatFam</td>\n",
       "      <td>mF1</td>\n",
       "      <td>0.669772</td>\n",
       "      <td>0.003250</td>\n",
       "    </tr>\n",
       "    <tr>\n",
       "      <th>10</th>\n",
       "      <td>CatFam</td>\n",
       "      <td>mPrecision</td>\n",
       "      <td>0.849550</td>\n",
       "      <td>0.006494</td>\n",
       "    </tr>\n",
       "    <tr>\n",
       "      <th>11</th>\n",
       "      <td>CatFam</td>\n",
       "      <td>mRecall</td>\n",
       "      <td>0.713275</td>\n",
       "      <td>0.003170</td>\n",
       "    </tr>\n",
       "    <tr>\n",
       "      <th>12</th>\n",
       "      <td>DeepEC</td>\n",
       "      <td>mAccuracy</td>\n",
       "      <td>0.294019</td>\n",
       "      <td>0.001571</td>\n",
       "    </tr>\n",
       "    <tr>\n",
       "      <th>13</th>\n",
       "      <td>DeepEC</td>\n",
       "      <td>mF1</td>\n",
       "      <td>0.296845</td>\n",
       "      <td>0.001541</td>\n",
       "    </tr>\n",
       "    <tr>\n",
       "      <th>14</th>\n",
       "      <td>DeepEC</td>\n",
       "      <td>mPrecision</td>\n",
       "      <td>0.686411</td>\n",
       "      <td>0.133004</td>\n",
       "    </tr>\n",
       "    <tr>\n",
       "      <th>15</th>\n",
       "      <td>DeepEC</td>\n",
       "      <td>mRecall</td>\n",
       "      <td>0.313023</td>\n",
       "      <td>0.001388</td>\n",
       "    </tr>\n",
       "    <tr>\n",
       "      <th>16</th>\n",
       "      <td>ECRECer</td>\n",
       "      <td>mAccuracy</td>\n",
       "      <td>0.873522</td>\n",
       "      <td>0.001752</td>\n",
       "    </tr>\n",
       "    <tr>\n",
       "      <th>17</th>\n",
       "      <td>ECRECer</td>\n",
       "      <td>mF1</td>\n",
       "      <td>0.802412</td>\n",
       "      <td>0.002825</td>\n",
       "    </tr>\n",
       "    <tr>\n",
       "      <th>18</th>\n",
       "      <td>ECRECer</td>\n",
       "      <td>mPrecision</td>\n",
       "      <td>0.942755</td>\n",
       "      <td>0.005150</td>\n",
       "    </tr>\n",
       "    <tr>\n",
       "      <th>19</th>\n",
       "      <td>ECRECer</td>\n",
       "      <td>mRecall</td>\n",
       "      <td>0.798635</td>\n",
       "      <td>0.002839</td>\n",
       "    </tr>\n",
       "    <tr>\n",
       "      <th>20</th>\n",
       "      <td>PRIAM</td>\n",
       "      <td>mAccuracy</td>\n",
       "      <td>0.086433</td>\n",
       "      <td>0.000727</td>\n",
       "    </tr>\n",
       "    <tr>\n",
       "      <th>21</th>\n",
       "      <td>PRIAM</td>\n",
       "      <td>mF1</td>\n",
       "      <td>0.225237</td>\n",
       "      <td>0.001925</td>\n",
       "    </tr>\n",
       "    <tr>\n",
       "      <th>22</th>\n",
       "      <td>PRIAM</td>\n",
       "      <td>mPrecision</td>\n",
       "      <td>0.652612</td>\n",
       "      <td>0.067580</td>\n",
       "    </tr>\n",
       "    <tr>\n",
       "      <th>23</th>\n",
       "      <td>PRIAM</td>\n",
       "      <td>mRecall</td>\n",
       "      <td>0.381695</td>\n",
       "      <td>0.001879</td>\n",
       "    </tr>\n",
       "  </tbody>\n",
       "</table>\n",
       "</div>"
      ],
      "text/plain": [
       "          Method      Metric      Mean       Std\n",
       "0   Blast_via_EC   mAccuracy  0.815887  0.001745\n",
       "1   Blast_via_EC         mF1  0.782795  0.002636\n",
       "2   Blast_via_EC  mPrecision  0.906301  0.006403\n",
       "3   Blast_via_EC     mRecall  0.772860  0.002516\n",
       "4          CLEAN   mAccuracy  0.327685  0.002012\n",
       "5          CLEAN         mF1  0.301133  0.001641\n",
       "6          CLEAN  mPrecision  0.803431  0.049839\n",
       "7          CLEAN     mRecall  0.352869  0.001561\n",
       "8         CatFam   mAccuracy  0.770650  0.001908\n",
       "9         CatFam         mF1  0.669772  0.003250\n",
       "10        CatFam  mPrecision  0.849550  0.006494\n",
       "11        CatFam     mRecall  0.713275  0.003170\n",
       "12        DeepEC   mAccuracy  0.294019  0.001571\n",
       "13        DeepEC         mF1  0.296845  0.001541\n",
       "14        DeepEC  mPrecision  0.686411  0.133004\n",
       "15        DeepEC     mRecall  0.313023  0.001388\n",
       "16       ECRECer   mAccuracy  0.873522  0.001752\n",
       "17       ECRECer         mF1  0.802412  0.002825\n",
       "18       ECRECer  mPrecision  0.942755  0.005150\n",
       "19       ECRECer     mRecall  0.798635  0.002839\n",
       "20         PRIAM   mAccuracy  0.086433  0.000727\n",
       "21         PRIAM         mF1  0.225237  0.001925\n",
       "22         PRIAM  mPrecision  0.652612  0.067580\n",
       "23         PRIAM     mRecall  0.381695  0.001879"
      ]
     },
     "execution_count": 361,
     "metadata": {},
     "output_type": "execute_result"
    }
   ],
   "source": [
    "def get_fold_mean_std_metrics(input_df):\n",
    "    # 对数值列进行分组聚合\n",
    "    res_fold_std = input_df[['baselineName', 'mAccuracy', 'mPrecision', 'mRecall', 'mF1']]\n",
    "    # 对每个 baselineName 进行分组并计算均值和标准差\n",
    "    res_fold_std = res_fold_std.groupby('baselineName').agg(['mean', 'std'])\n",
    "    # 重置索引以简化处理\n",
    "    res_fold_std = res_fold_std.reset_index()\n",
    "    # 修改列名，将 MultiIndex 转换为单层列名\n",
    "    res_fold_std.columns = ['_'.join(filter(None, col)).strip() for col in res_fold_std.columns]\n",
    "    # 使用 melt 方法将列转换为行\n",
    "    res_fold_std_melted = res_fold_std.melt(id_vars=['baselineName'], var_name='Metric_Statistic', value_name='Value')\n",
    "    # 将 'Metric_Statistic' 列分割成 'Metric' 和 'Statistic'\n",
    "    res_fold_std_melted[['Metric', 'Statistic']] = res_fold_std_melted['Metric_Statistic'].str.rsplit('_', n=1, expand=True)\n",
    "    # 删除原来的 'Metric_Statistic' 列\n",
    "    res_fold_std_melted = res_fold_std_melted.drop(columns=['Metric_Statistic'])\n",
    "    # 使用 pivot 将数据转换为所需格式\n",
    "    res_fold_std_pivot = res_fold_std_melted.pivot_table(index=['baselineName', 'Metric'], columns='Statistic', values='Value').reset_index()\n",
    "    # 重命名列\n",
    "    res_fold_std_pivot.columns.name = None\n",
    "    res_fold_std_pivot.columns = ['Method', 'Metric', 'Mean', 'Std']\n",
    "    return res_fold_std_pivot\n",
    "\n",
    "res_fold_std = get_fold_mean_std_metrics(input_df=res_metrics)\n",
    "res_fold_std"
   ]
  },
  {
   "cell_type": "code",
   "execution_count": null,
   "metadata": {},
   "outputs": [],
   "source": []
  },
  {
   "cell_type": "code",
   "execution_count": 313,
   "metadata": {},
   "outputs": [
    {
     "data": {
      "text/plain": [
       "array(['Blast_via_EC', 'CLEAN', 'CatFam', 'DeepEC', 'ECRECer', 'PRIAM'],\n",
       "      dtype=object)"
      ]
     },
     "execution_count": 313,
     "metadata": {},
     "output_type": "execute_result"
    }
   ],
   "source": [
    "# 确保 res_fold_std 按照 F1 值排序，但保留所有度量以便绘图\n",
    "methods_order = res_fold_std[res_fold_std['Metric'] == 'F1'].sort_values(by='Mean')['Method'].unique()\n",
    "# methods = res_fold_std['Method'].unique()\n",
    "methods "
   ]
  },
  {
   "cell_type": "code",
   "execution_count": 323,
   "metadata": {},
   "outputs": [
    {
     "data": {
      "text/plain": [
       "['PRIAM', 'DeepEC', 'CLEAN', 'CatFam', 'Blast_via_EC', 'ECRECer']"
      ]
     },
     "execution_count": 323,
     "metadata": {},
     "output_type": "execute_result"
    }
   ],
   "source": [
    "res_fold_std[res_fold_std.Metric=='mF1'].sort_values(by=['Mean']).Method.tolist()"
   ]
  },
  {
   "cell_type": "code",
   "execution_count": 439,
   "metadata": {},
   "outputs": [
    {
     "data": {
      "application/vnd.plotly.v1+json": {
       "config": {
        "plotlyServerURL": "https://plot.ly"
       },
       "data": [
        {
         "error_y": {
          "array": [
           0.0007270019395842509,
           0.0019246396797475043,
           0.0675798636121284,
           0.0018790775100119062
          ],
          "type": "data",
          "visible": true
         },
         "marker": {
          "color": "#8ECFC9",
          "line": {
           "color": "black",
           "width": 0.5
          }
         },
         "name": "PRIAM",
         "type": "bar",
         "width": 0.11,
         "x": [
          "mAccuracy",
          "mF1",
          "mPrecision",
          "mRecall"
         ],
         "y": [
          0.08643281293011915,
          0.22523720281240628,
          0.6526124561608526,
          0.3816954162393302
         ]
        },
        {
         "error_y": {
          "array": [
           0.0015705146269312249,
           0.0015412668550488316,
           0.13300421922687275,
           0.0013882869037865522
          ],
          "type": "data",
          "visible": true
         },
         "marker": {
          "color": "#FFBE7A",
          "line": {
           "color": "black",
           "width": 0.5
          }
         },
         "name": "DeepEC",
         "type": "bar",
         "width": 0.11,
         "x": [
          "mAccuracy",
          "mF1",
          "mPrecision",
          "mRecall"
         ],
         "y": [
          0.2940186401352786,
          0.29684526262254096,
          0.6864105201436348,
          0.3130233440520734
         ]
        },
        {
         "error_y": {
          "array": [
           0.0020123667954040783,
           0.001640991780458453,
           0.049838945784457335,
           0.0015606377061108563
          ],
          "type": "data",
          "visible": true
         },
         "marker": {
          "color": "#FA7F6F",
          "line": {
           "color": "black",
           "width": 0.5
          }
         },
         "name": "CLEAN",
         "type": "bar",
         "width": 0.11,
         "x": [
          "mAccuracy",
          "mF1",
          "mPrecision",
          "mRecall"
         ],
         "y": [
          0.32768492665853943,
          0.301132558023537,
          0.8034307390834229,
          0.35286908021528546
         ]
        },
        {
         "error_y": {
          "array": [
           0.0019083193839876348,
           0.0032501379075074014,
           0.006494492706510862,
           0.0031695698363268065
          ],
          "type": "data",
          "visible": true
         },
         "marker": {
          "color": "#82B0D2",
          "line": {
           "color": "black",
           "width": 0.5
          }
         },
         "name": "CatFam",
         "type": "bar",
         "width": 0.11,
         "x": [
          "mAccuracy",
          "mF1",
          "mPrecision",
          "mRecall"
         ],
         "y": [
          0.7706496519721577,
          0.6697724654629811,
          0.8495501821416853,
          0.7132745047210395
         ]
        },
        {
         "error_y": {
          "array": [
           0.0017451697840646036,
           0.002635627649095732,
           0.006403117733263895,
           0.0025162969918881965
          ],
          "type": "data",
          "visible": true
         },
         "marker": {
          "color": "#BEB8DC",
          "line": {
           "color": "black",
           "width": 0.5
          }
         },
         "name": "Blast_via_EC",
         "type": "bar",
         "width": 0.11,
         "x": [
          "mAccuracy",
          "mF1",
          "mPrecision",
          "mRecall"
         ],
         "y": [
          0.81588737268473,
          0.7827947852628426,
          0.9063006339781217,
          0.7728599970614384
         ]
        },
        {
         "error_y": {
          "array": [
           0.0017516806349623128,
           0.0028254106968828314,
           0.0051502057503051675,
           0.002839219022486549
          ],
          "type": "data",
          "visible": true
         },
         "marker": {
          "color": "#E7DAD2",
          "line": {
           "color": "black",
           "width": 0.5
          }
         },
         "name": "ECRECer",
         "type": "bar",
         "width": 0.11,
         "x": [
          "mAccuracy",
          "mF1",
          "mPrecision",
          "mRecall"
         ],
         "y": [
          0.8735223563647804,
          0.8024122323880505,
          0.9427545463562076,
          0.7986354462919892
         ]
        }
       ],
       "layout": {
        "bargap": 0.29,
        "barmode": "group",
        "height": 600,
        "legend": {
         "borderwidth": 1,
         "orientation": "h",
         "tracegroupgap": 2,
         "x": 0.5,
         "xanchor": "center",
         "y": 0.99,
         "yanchor": "bottom"
        },
        "template": {
         "data": {
          "bar": [
           {
            "error_x": {
             "color": "#2a3f5f"
            },
            "error_y": {
             "color": "#2a3f5f"
            },
            "marker": {
             "line": {
              "color": "white",
              "width": 0.5
             },
             "pattern": {
              "fillmode": "overlay",
              "size": 10,
              "solidity": 0.2
             }
            },
            "type": "bar"
           }
          ],
          "barpolar": [
           {
            "marker": {
             "line": {
              "color": "white",
              "width": 0.5
             },
             "pattern": {
              "fillmode": "overlay",
              "size": 10,
              "solidity": 0.2
             }
            },
            "type": "barpolar"
           }
          ],
          "carpet": [
           {
            "aaxis": {
             "endlinecolor": "#2a3f5f",
             "gridcolor": "#C8D4E3",
             "linecolor": "#C8D4E3",
             "minorgridcolor": "#C8D4E3",
             "startlinecolor": "#2a3f5f"
            },
            "baxis": {
             "endlinecolor": "#2a3f5f",
             "gridcolor": "#C8D4E3",
             "linecolor": "#C8D4E3",
             "minorgridcolor": "#C8D4E3",
             "startlinecolor": "#2a3f5f"
            },
            "type": "carpet"
           }
          ],
          "choropleth": [
           {
            "colorbar": {
             "outlinewidth": 0,
             "ticks": ""
            },
            "type": "choropleth"
           }
          ],
          "contour": [
           {
            "colorbar": {
             "outlinewidth": 0,
             "ticks": ""
            },
            "colorscale": [
             [
              0,
              "#0d0887"
             ],
             [
              0.1111111111111111,
              "#46039f"
             ],
             [
              0.2222222222222222,
              "#7201a8"
             ],
             [
              0.3333333333333333,
              "#9c179e"
             ],
             [
              0.4444444444444444,
              "#bd3786"
             ],
             [
              0.5555555555555556,
              "#d8576b"
             ],
             [
              0.6666666666666666,
              "#ed7953"
             ],
             [
              0.7777777777777778,
              "#fb9f3a"
             ],
             [
              0.8888888888888888,
              "#fdca26"
             ],
             [
              1,
              "#f0f921"
             ]
            ],
            "type": "contour"
           }
          ],
          "contourcarpet": [
           {
            "colorbar": {
             "outlinewidth": 0,
             "ticks": ""
            },
            "type": "contourcarpet"
           }
          ],
          "heatmap": [
           {
            "colorbar": {
             "outlinewidth": 0,
             "ticks": ""
            },
            "colorscale": [
             [
              0,
              "#0d0887"
             ],
             [
              0.1111111111111111,
              "#46039f"
             ],
             [
              0.2222222222222222,
              "#7201a8"
             ],
             [
              0.3333333333333333,
              "#9c179e"
             ],
             [
              0.4444444444444444,
              "#bd3786"
             ],
             [
              0.5555555555555556,
              "#d8576b"
             ],
             [
              0.6666666666666666,
              "#ed7953"
             ],
             [
              0.7777777777777778,
              "#fb9f3a"
             ],
             [
              0.8888888888888888,
              "#fdca26"
             ],
             [
              1,
              "#f0f921"
             ]
            ],
            "type": "heatmap"
           }
          ],
          "heatmapgl": [
           {
            "colorbar": {
             "outlinewidth": 0,
             "ticks": ""
            },
            "colorscale": [
             [
              0,
              "#0d0887"
             ],
             [
              0.1111111111111111,
              "#46039f"
             ],
             [
              0.2222222222222222,
              "#7201a8"
             ],
             [
              0.3333333333333333,
              "#9c179e"
             ],
             [
              0.4444444444444444,
              "#bd3786"
             ],
             [
              0.5555555555555556,
              "#d8576b"
             ],
             [
              0.6666666666666666,
              "#ed7953"
             ],
             [
              0.7777777777777778,
              "#fb9f3a"
             ],
             [
              0.8888888888888888,
              "#fdca26"
             ],
             [
              1,
              "#f0f921"
             ]
            ],
            "type": "heatmapgl"
           }
          ],
          "histogram": [
           {
            "marker": {
             "pattern": {
              "fillmode": "overlay",
              "size": 10,
              "solidity": 0.2
             }
            },
            "type": "histogram"
           }
          ],
          "histogram2d": [
           {
            "colorbar": {
             "outlinewidth": 0,
             "ticks": ""
            },
            "colorscale": [
             [
              0,
              "#0d0887"
             ],
             [
              0.1111111111111111,
              "#46039f"
             ],
             [
              0.2222222222222222,
              "#7201a8"
             ],
             [
              0.3333333333333333,
              "#9c179e"
             ],
             [
              0.4444444444444444,
              "#bd3786"
             ],
             [
              0.5555555555555556,
              "#d8576b"
             ],
             [
              0.6666666666666666,
              "#ed7953"
             ],
             [
              0.7777777777777778,
              "#fb9f3a"
             ],
             [
              0.8888888888888888,
              "#fdca26"
             ],
             [
              1,
              "#f0f921"
             ]
            ],
            "type": "histogram2d"
           }
          ],
          "histogram2dcontour": [
           {
            "colorbar": {
             "outlinewidth": 0,
             "ticks": ""
            },
            "colorscale": [
             [
              0,
              "#0d0887"
             ],
             [
              0.1111111111111111,
              "#46039f"
             ],
             [
              0.2222222222222222,
              "#7201a8"
             ],
             [
              0.3333333333333333,
              "#9c179e"
             ],
             [
              0.4444444444444444,
              "#bd3786"
             ],
             [
              0.5555555555555556,
              "#d8576b"
             ],
             [
              0.6666666666666666,
              "#ed7953"
             ],
             [
              0.7777777777777778,
              "#fb9f3a"
             ],
             [
              0.8888888888888888,
              "#fdca26"
             ],
             [
              1,
              "#f0f921"
             ]
            ],
            "type": "histogram2dcontour"
           }
          ],
          "mesh3d": [
           {
            "colorbar": {
             "outlinewidth": 0,
             "ticks": ""
            },
            "type": "mesh3d"
           }
          ],
          "parcoords": [
           {
            "line": {
             "colorbar": {
              "outlinewidth": 0,
              "ticks": ""
             }
            },
            "type": "parcoords"
           }
          ],
          "pie": [
           {
            "automargin": true,
            "type": "pie"
           }
          ],
          "scatter": [
           {
            "fillpattern": {
             "fillmode": "overlay",
             "size": 10,
             "solidity": 0.2
            },
            "type": "scatter"
           }
          ],
          "scatter3d": [
           {
            "line": {
             "colorbar": {
              "outlinewidth": 0,
              "ticks": ""
             }
            },
            "marker": {
             "colorbar": {
              "outlinewidth": 0,
              "ticks": ""
             }
            },
            "type": "scatter3d"
           }
          ],
          "scattercarpet": [
           {
            "marker": {
             "colorbar": {
              "outlinewidth": 0,
              "ticks": ""
             }
            },
            "type": "scattercarpet"
           }
          ],
          "scattergeo": [
           {
            "marker": {
             "colorbar": {
              "outlinewidth": 0,
              "ticks": ""
             }
            },
            "type": "scattergeo"
           }
          ],
          "scattergl": [
           {
            "marker": {
             "colorbar": {
              "outlinewidth": 0,
              "ticks": ""
             }
            },
            "type": "scattergl"
           }
          ],
          "scattermapbox": [
           {
            "marker": {
             "colorbar": {
              "outlinewidth": 0,
              "ticks": ""
             }
            },
            "type": "scattermapbox"
           }
          ],
          "scatterpolar": [
           {
            "marker": {
             "colorbar": {
              "outlinewidth": 0,
              "ticks": ""
             }
            },
            "type": "scatterpolar"
           }
          ],
          "scatterpolargl": [
           {
            "marker": {
             "colorbar": {
              "outlinewidth": 0,
              "ticks": ""
             }
            },
            "type": "scatterpolargl"
           }
          ],
          "scatterternary": [
           {
            "marker": {
             "colorbar": {
              "outlinewidth": 0,
              "ticks": ""
             }
            },
            "type": "scatterternary"
           }
          ],
          "surface": [
           {
            "colorbar": {
             "outlinewidth": 0,
             "ticks": ""
            },
            "colorscale": [
             [
              0,
              "#0d0887"
             ],
             [
              0.1111111111111111,
              "#46039f"
             ],
             [
              0.2222222222222222,
              "#7201a8"
             ],
             [
              0.3333333333333333,
              "#9c179e"
             ],
             [
              0.4444444444444444,
              "#bd3786"
             ],
             [
              0.5555555555555556,
              "#d8576b"
             ],
             [
              0.6666666666666666,
              "#ed7953"
             ],
             [
              0.7777777777777778,
              "#fb9f3a"
             ],
             [
              0.8888888888888888,
              "#fdca26"
             ],
             [
              1,
              "#f0f921"
             ]
            ],
            "type": "surface"
           }
          ],
          "table": [
           {
            "cells": {
             "fill": {
              "color": "#EBF0F8"
             },
             "line": {
              "color": "white"
             }
            },
            "header": {
             "fill": {
              "color": "#C8D4E3"
             },
             "line": {
              "color": "white"
             }
            },
            "type": "table"
           }
          ]
         },
         "layout": {
          "annotationdefaults": {
           "arrowcolor": "#2a3f5f",
           "arrowhead": 0,
           "arrowwidth": 1
          },
          "autotypenumbers": "strict",
          "coloraxis": {
           "colorbar": {
            "outlinewidth": 0,
            "ticks": ""
           }
          },
          "colorscale": {
           "diverging": [
            [
             0,
             "#8e0152"
            ],
            [
             0.1,
             "#c51b7d"
            ],
            [
             0.2,
             "#de77ae"
            ],
            [
             0.3,
             "#f1b6da"
            ],
            [
             0.4,
             "#fde0ef"
            ],
            [
             0.5,
             "#f7f7f7"
            ],
            [
             0.6,
             "#e6f5d0"
            ],
            [
             0.7,
             "#b8e186"
            ],
            [
             0.8,
             "#7fbc41"
            ],
            [
             0.9,
             "#4d9221"
            ],
            [
             1,
             "#276419"
            ]
           ],
           "sequential": [
            [
             0,
             "#0d0887"
            ],
            [
             0.1111111111111111,
             "#46039f"
            ],
            [
             0.2222222222222222,
             "#7201a8"
            ],
            [
             0.3333333333333333,
             "#9c179e"
            ],
            [
             0.4444444444444444,
             "#bd3786"
            ],
            [
             0.5555555555555556,
             "#d8576b"
            ],
            [
             0.6666666666666666,
             "#ed7953"
            ],
            [
             0.7777777777777778,
             "#fb9f3a"
            ],
            [
             0.8888888888888888,
             "#fdca26"
            ],
            [
             1,
             "#f0f921"
            ]
           ],
           "sequentialminus": [
            [
             0,
             "#0d0887"
            ],
            [
             0.1111111111111111,
             "#46039f"
            ],
            [
             0.2222222222222222,
             "#7201a8"
            ],
            [
             0.3333333333333333,
             "#9c179e"
            ],
            [
             0.4444444444444444,
             "#bd3786"
            ],
            [
             0.5555555555555556,
             "#d8576b"
            ],
            [
             0.6666666666666666,
             "#ed7953"
            ],
            [
             0.7777777777777778,
             "#fb9f3a"
            ],
            [
             0.8888888888888888,
             "#fdca26"
            ],
            [
             1,
             "#f0f921"
            ]
           ]
          },
          "colorway": [
           "#636efa",
           "#EF553B",
           "#00cc96",
           "#ab63fa",
           "#FFA15A",
           "#19d3f3",
           "#FF6692",
           "#B6E880",
           "#FF97FF",
           "#FECB52"
          ],
          "font": {
           "color": "#2a3f5f"
          },
          "geo": {
           "bgcolor": "white",
           "lakecolor": "white",
           "landcolor": "white",
           "showlakes": true,
           "showland": true,
           "subunitcolor": "#C8D4E3"
          },
          "hoverlabel": {
           "align": "left"
          },
          "hovermode": "closest",
          "mapbox": {
           "style": "light"
          },
          "paper_bgcolor": "white",
          "plot_bgcolor": "white",
          "polar": {
           "angularaxis": {
            "gridcolor": "#EBF0F8",
            "linecolor": "#EBF0F8",
            "ticks": ""
           },
           "bgcolor": "white",
           "radialaxis": {
            "gridcolor": "#EBF0F8",
            "linecolor": "#EBF0F8",
            "ticks": ""
           }
          },
          "scene": {
           "xaxis": {
            "backgroundcolor": "white",
            "gridcolor": "#DFE8F3",
            "gridwidth": 2,
            "linecolor": "#EBF0F8",
            "showbackground": true,
            "ticks": "",
            "zerolinecolor": "#EBF0F8"
           },
           "yaxis": {
            "backgroundcolor": "white",
            "gridcolor": "#DFE8F3",
            "gridwidth": 2,
            "linecolor": "#EBF0F8",
            "showbackground": true,
            "ticks": "",
            "zerolinecolor": "#EBF0F8"
           },
           "zaxis": {
            "backgroundcolor": "white",
            "gridcolor": "#DFE8F3",
            "gridwidth": 2,
            "linecolor": "#EBF0F8",
            "showbackground": true,
            "ticks": "",
            "zerolinecolor": "#EBF0F8"
           }
          },
          "shapedefaults": {
           "line": {
            "color": "#2a3f5f"
           }
          },
          "ternary": {
           "aaxis": {
            "gridcolor": "#DFE8F3",
            "linecolor": "#A2B1C6",
            "ticks": ""
           },
           "baxis": {
            "gridcolor": "#DFE8F3",
            "linecolor": "#A2B1C6",
            "ticks": ""
           },
           "bgcolor": "white",
           "caxis": {
            "gridcolor": "#DFE8F3",
            "linecolor": "#A2B1C6",
            "ticks": ""
           }
          },
          "title": {
           "x": 0.05
          },
          "xaxis": {
           "automargin": true,
           "gridcolor": "#EBF0F8",
           "linecolor": "#EBF0F8",
           "ticks": "",
           "title": {
            "standoff": 15
           },
           "zerolinecolor": "#EBF0F8",
           "zerolinewidth": 2
          },
          "yaxis": {
           "automargin": true,
           "gridcolor": "#EBF0F8",
           "linecolor": "#EBF0F8",
           "ticks": "",
           "title": {
            "standoff": 15
           },
           "zerolinecolor": "#EBF0F8",
           "zerolinewidth": 2
          }
         }
        },
        "title": {
         "font": {
          "size": 20,
          "weight": 1000
         },
         "text": "Performance Comparison of EC-based Reaction Prediction Methods",
         "x": 0.5,
         "xanchor": "center",
         "y": 0.05
        },
        "width": 1600,
        "xaxis": {
         "linecolor": "#000000",
         "linewidth": 1,
         "showline": true
        },
        "yaxis": {
         "dtick": 0.1,
         "gridcolor": "gray",
         "gridwidth": 1,
         "linecolor": "black",
         "linewidth": 1,
         "minor": {
          "dtick": 0.05,
          "gridcolor": "gray",
          "griddash": "dash",
          "gridwidth": 0.5,
          "showgrid": true
         },
         "range": [
          0,
          1.1
         ],
         "showgrid": true,
         "showline": true,
         "title": {
          "text": "Mean Value"
         }
        }
       }
      },
      "text/html": [
       "<div>                            <div id=\"3009d2c0-0350-44f1-a353-cf15b6e30297\" class=\"plotly-graph-div\" style=\"height:600px; width:1600px;\"></div>            <script type=\"text/javascript\">                require([\"plotly\"], function(Plotly) {                    window.PLOTLYENV=window.PLOTLYENV || {};                                    if (document.getElementById(\"3009d2c0-0350-44f1-a353-cf15b6e30297\")) {                    Plotly.newPlot(                        \"3009d2c0-0350-44f1-a353-cf15b6e30297\",                        [{\"error_y\":{\"array\":[0.0007270019395842509,0.0019246396797475043,0.0675798636121284,0.0018790775100119062],\"type\":\"data\",\"visible\":true},\"marker\":{\"color\":\"#8ECFC9\",\"line\":{\"color\":\"black\",\"width\":0.5}},\"name\":\"PRIAM\",\"width\":0.11,\"x\":[\"mAccuracy\",\"mF1\",\"mPrecision\",\"mRecall\"],\"y\":[0.08643281293011915,0.22523720281240628,0.6526124561608526,0.3816954162393302],\"type\":\"bar\"},{\"error_y\":{\"array\":[0.0015705146269312249,0.0015412668550488316,0.13300421922687275,0.0013882869037865522],\"type\":\"data\",\"visible\":true},\"marker\":{\"color\":\"#FFBE7A\",\"line\":{\"color\":\"black\",\"width\":0.5}},\"name\":\"DeepEC\",\"width\":0.11,\"x\":[\"mAccuracy\",\"mF1\",\"mPrecision\",\"mRecall\"],\"y\":[0.2940186401352786,0.29684526262254096,0.6864105201436348,0.3130233440520734],\"type\":\"bar\"},{\"error_y\":{\"array\":[0.0020123667954040783,0.001640991780458453,0.049838945784457335,0.0015606377061108563],\"type\":\"data\",\"visible\":true},\"marker\":{\"color\":\"#FA7F6F\",\"line\":{\"color\":\"black\",\"width\":0.5}},\"name\":\"CLEAN\",\"width\":0.11,\"x\":[\"mAccuracy\",\"mF1\",\"mPrecision\",\"mRecall\"],\"y\":[0.32768492665853943,0.301132558023537,0.8034307390834229,0.35286908021528546],\"type\":\"bar\"},{\"error_y\":{\"array\":[0.0019083193839876348,0.0032501379075074014,0.006494492706510862,0.0031695698363268065],\"type\":\"data\",\"visible\":true},\"marker\":{\"color\":\"#82B0D2\",\"line\":{\"color\":\"black\",\"width\":0.5}},\"name\":\"CatFam\",\"width\":0.11,\"x\":[\"mAccuracy\",\"mF1\",\"mPrecision\",\"mRecall\"],\"y\":[0.7706496519721577,0.6697724654629811,0.8495501821416853,0.7132745047210395],\"type\":\"bar\"},{\"error_y\":{\"array\":[0.0017451697840646036,0.002635627649095732,0.006403117733263895,0.0025162969918881965],\"type\":\"data\",\"visible\":true},\"marker\":{\"color\":\"#BEB8DC\",\"line\":{\"color\":\"black\",\"width\":0.5}},\"name\":\"Blast_via_EC\",\"width\":0.11,\"x\":[\"mAccuracy\",\"mF1\",\"mPrecision\",\"mRecall\"],\"y\":[0.81588737268473,0.7827947852628426,0.9063006339781217,0.7728599970614384],\"type\":\"bar\"},{\"error_y\":{\"array\":[0.0017516806349623128,0.0028254106968828314,0.0051502057503051675,0.002839219022486549],\"type\":\"data\",\"visible\":true},\"marker\":{\"color\":\"#E7DAD2\",\"line\":{\"color\":\"black\",\"width\":0.5}},\"name\":\"ECRECer\",\"width\":0.11,\"x\":[\"mAccuracy\",\"mF1\",\"mPrecision\",\"mRecall\"],\"y\":[0.8735223563647804,0.8024122323880505,0.9427545463562076,0.7986354462919892],\"type\":\"bar\"}],                        {\"template\":{\"data\":{\"barpolar\":[{\"marker\":{\"line\":{\"color\":\"white\",\"width\":0.5},\"pattern\":{\"fillmode\":\"overlay\",\"size\":10,\"solidity\":0.2}},\"type\":\"barpolar\"}],\"bar\":[{\"error_x\":{\"color\":\"#2a3f5f\"},\"error_y\":{\"color\":\"#2a3f5f\"},\"marker\":{\"line\":{\"color\":\"white\",\"width\":0.5},\"pattern\":{\"fillmode\":\"overlay\",\"size\":10,\"solidity\":0.2}},\"type\":\"bar\"}],\"carpet\":[{\"aaxis\":{\"endlinecolor\":\"#2a3f5f\",\"gridcolor\":\"#C8D4E3\",\"linecolor\":\"#C8D4E3\",\"minorgridcolor\":\"#C8D4E3\",\"startlinecolor\":\"#2a3f5f\"},\"baxis\":{\"endlinecolor\":\"#2a3f5f\",\"gridcolor\":\"#C8D4E3\",\"linecolor\":\"#C8D4E3\",\"minorgridcolor\":\"#C8D4E3\",\"startlinecolor\":\"#2a3f5f\"},\"type\":\"carpet\"}],\"choropleth\":[{\"colorbar\":{\"outlinewidth\":0,\"ticks\":\"\"},\"type\":\"choropleth\"}],\"contourcarpet\":[{\"colorbar\":{\"outlinewidth\":0,\"ticks\":\"\"},\"type\":\"contourcarpet\"}],\"contour\":[{\"colorbar\":{\"outlinewidth\":0,\"ticks\":\"\"},\"colorscale\":[[0.0,\"#0d0887\"],[0.1111111111111111,\"#46039f\"],[0.2222222222222222,\"#7201a8\"],[0.3333333333333333,\"#9c179e\"],[0.4444444444444444,\"#bd3786\"],[0.5555555555555556,\"#d8576b\"],[0.6666666666666666,\"#ed7953\"],[0.7777777777777778,\"#fb9f3a\"],[0.8888888888888888,\"#fdca26\"],[1.0,\"#f0f921\"]],\"type\":\"contour\"}],\"heatmapgl\":[{\"colorbar\":{\"outlinewidth\":0,\"ticks\":\"\"},\"colorscale\":[[0.0,\"#0d0887\"],[0.1111111111111111,\"#46039f\"],[0.2222222222222222,\"#7201a8\"],[0.3333333333333333,\"#9c179e\"],[0.4444444444444444,\"#bd3786\"],[0.5555555555555556,\"#d8576b\"],[0.6666666666666666,\"#ed7953\"],[0.7777777777777778,\"#fb9f3a\"],[0.8888888888888888,\"#fdca26\"],[1.0,\"#f0f921\"]],\"type\":\"heatmapgl\"}],\"heatmap\":[{\"colorbar\":{\"outlinewidth\":0,\"ticks\":\"\"},\"colorscale\":[[0.0,\"#0d0887\"],[0.1111111111111111,\"#46039f\"],[0.2222222222222222,\"#7201a8\"],[0.3333333333333333,\"#9c179e\"],[0.4444444444444444,\"#bd3786\"],[0.5555555555555556,\"#d8576b\"],[0.6666666666666666,\"#ed7953\"],[0.7777777777777778,\"#fb9f3a\"],[0.8888888888888888,\"#fdca26\"],[1.0,\"#f0f921\"]],\"type\":\"heatmap\"}],\"histogram2dcontour\":[{\"colorbar\":{\"outlinewidth\":0,\"ticks\":\"\"},\"colorscale\":[[0.0,\"#0d0887\"],[0.1111111111111111,\"#46039f\"],[0.2222222222222222,\"#7201a8\"],[0.3333333333333333,\"#9c179e\"],[0.4444444444444444,\"#bd3786\"],[0.5555555555555556,\"#d8576b\"],[0.6666666666666666,\"#ed7953\"],[0.7777777777777778,\"#fb9f3a\"],[0.8888888888888888,\"#fdca26\"],[1.0,\"#f0f921\"]],\"type\":\"histogram2dcontour\"}],\"histogram2d\":[{\"colorbar\":{\"outlinewidth\":0,\"ticks\":\"\"},\"colorscale\":[[0.0,\"#0d0887\"],[0.1111111111111111,\"#46039f\"],[0.2222222222222222,\"#7201a8\"],[0.3333333333333333,\"#9c179e\"],[0.4444444444444444,\"#bd3786\"],[0.5555555555555556,\"#d8576b\"],[0.6666666666666666,\"#ed7953\"],[0.7777777777777778,\"#fb9f3a\"],[0.8888888888888888,\"#fdca26\"],[1.0,\"#f0f921\"]],\"type\":\"histogram2d\"}],\"histogram\":[{\"marker\":{\"pattern\":{\"fillmode\":\"overlay\",\"size\":10,\"solidity\":0.2}},\"type\":\"histogram\"}],\"mesh3d\":[{\"colorbar\":{\"outlinewidth\":0,\"ticks\":\"\"},\"type\":\"mesh3d\"}],\"parcoords\":[{\"line\":{\"colorbar\":{\"outlinewidth\":0,\"ticks\":\"\"}},\"type\":\"parcoords\"}],\"pie\":[{\"automargin\":true,\"type\":\"pie\"}],\"scatter3d\":[{\"line\":{\"colorbar\":{\"outlinewidth\":0,\"ticks\":\"\"}},\"marker\":{\"colorbar\":{\"outlinewidth\":0,\"ticks\":\"\"}},\"type\":\"scatter3d\"}],\"scattercarpet\":[{\"marker\":{\"colorbar\":{\"outlinewidth\":0,\"ticks\":\"\"}},\"type\":\"scattercarpet\"}],\"scattergeo\":[{\"marker\":{\"colorbar\":{\"outlinewidth\":0,\"ticks\":\"\"}},\"type\":\"scattergeo\"}],\"scattergl\":[{\"marker\":{\"colorbar\":{\"outlinewidth\":0,\"ticks\":\"\"}},\"type\":\"scattergl\"}],\"scattermapbox\":[{\"marker\":{\"colorbar\":{\"outlinewidth\":0,\"ticks\":\"\"}},\"type\":\"scattermapbox\"}],\"scatterpolargl\":[{\"marker\":{\"colorbar\":{\"outlinewidth\":0,\"ticks\":\"\"}},\"type\":\"scatterpolargl\"}],\"scatterpolar\":[{\"marker\":{\"colorbar\":{\"outlinewidth\":0,\"ticks\":\"\"}},\"type\":\"scatterpolar\"}],\"scatter\":[{\"fillpattern\":{\"fillmode\":\"overlay\",\"size\":10,\"solidity\":0.2},\"type\":\"scatter\"}],\"scatterternary\":[{\"marker\":{\"colorbar\":{\"outlinewidth\":0,\"ticks\":\"\"}},\"type\":\"scatterternary\"}],\"surface\":[{\"colorbar\":{\"outlinewidth\":0,\"ticks\":\"\"},\"colorscale\":[[0.0,\"#0d0887\"],[0.1111111111111111,\"#46039f\"],[0.2222222222222222,\"#7201a8\"],[0.3333333333333333,\"#9c179e\"],[0.4444444444444444,\"#bd3786\"],[0.5555555555555556,\"#d8576b\"],[0.6666666666666666,\"#ed7953\"],[0.7777777777777778,\"#fb9f3a\"],[0.8888888888888888,\"#fdca26\"],[1.0,\"#f0f921\"]],\"type\":\"surface\"}],\"table\":[{\"cells\":{\"fill\":{\"color\":\"#EBF0F8\"},\"line\":{\"color\":\"white\"}},\"header\":{\"fill\":{\"color\":\"#C8D4E3\"},\"line\":{\"color\":\"white\"}},\"type\":\"table\"}]},\"layout\":{\"annotationdefaults\":{\"arrowcolor\":\"#2a3f5f\",\"arrowhead\":0,\"arrowwidth\":1},\"autotypenumbers\":\"strict\",\"coloraxis\":{\"colorbar\":{\"outlinewidth\":0,\"ticks\":\"\"}},\"colorscale\":{\"diverging\":[[0,\"#8e0152\"],[0.1,\"#c51b7d\"],[0.2,\"#de77ae\"],[0.3,\"#f1b6da\"],[0.4,\"#fde0ef\"],[0.5,\"#f7f7f7\"],[0.6,\"#e6f5d0\"],[0.7,\"#b8e186\"],[0.8,\"#7fbc41\"],[0.9,\"#4d9221\"],[1,\"#276419\"]],\"sequential\":[[0.0,\"#0d0887\"],[0.1111111111111111,\"#46039f\"],[0.2222222222222222,\"#7201a8\"],[0.3333333333333333,\"#9c179e\"],[0.4444444444444444,\"#bd3786\"],[0.5555555555555556,\"#d8576b\"],[0.6666666666666666,\"#ed7953\"],[0.7777777777777778,\"#fb9f3a\"],[0.8888888888888888,\"#fdca26\"],[1.0,\"#f0f921\"]],\"sequentialminus\":[[0.0,\"#0d0887\"],[0.1111111111111111,\"#46039f\"],[0.2222222222222222,\"#7201a8\"],[0.3333333333333333,\"#9c179e\"],[0.4444444444444444,\"#bd3786\"],[0.5555555555555556,\"#d8576b\"],[0.6666666666666666,\"#ed7953\"],[0.7777777777777778,\"#fb9f3a\"],[0.8888888888888888,\"#fdca26\"],[1.0,\"#f0f921\"]]},\"colorway\":[\"#636efa\",\"#EF553B\",\"#00cc96\",\"#ab63fa\",\"#FFA15A\",\"#19d3f3\",\"#FF6692\",\"#B6E880\",\"#FF97FF\",\"#FECB52\"],\"font\":{\"color\":\"#2a3f5f\"},\"geo\":{\"bgcolor\":\"white\",\"lakecolor\":\"white\",\"landcolor\":\"white\",\"showlakes\":true,\"showland\":true,\"subunitcolor\":\"#C8D4E3\"},\"hoverlabel\":{\"align\":\"left\"},\"hovermode\":\"closest\",\"mapbox\":{\"style\":\"light\"},\"paper_bgcolor\":\"white\",\"plot_bgcolor\":\"white\",\"polar\":{\"angularaxis\":{\"gridcolor\":\"#EBF0F8\",\"linecolor\":\"#EBF0F8\",\"ticks\":\"\"},\"bgcolor\":\"white\",\"radialaxis\":{\"gridcolor\":\"#EBF0F8\",\"linecolor\":\"#EBF0F8\",\"ticks\":\"\"}},\"scene\":{\"xaxis\":{\"backgroundcolor\":\"white\",\"gridcolor\":\"#DFE8F3\",\"gridwidth\":2,\"linecolor\":\"#EBF0F8\",\"showbackground\":true,\"ticks\":\"\",\"zerolinecolor\":\"#EBF0F8\"},\"yaxis\":{\"backgroundcolor\":\"white\",\"gridcolor\":\"#DFE8F3\",\"gridwidth\":2,\"linecolor\":\"#EBF0F8\",\"showbackground\":true,\"ticks\":\"\",\"zerolinecolor\":\"#EBF0F8\"},\"zaxis\":{\"backgroundcolor\":\"white\",\"gridcolor\":\"#DFE8F3\",\"gridwidth\":2,\"linecolor\":\"#EBF0F8\",\"showbackground\":true,\"ticks\":\"\",\"zerolinecolor\":\"#EBF0F8\"}},\"shapedefaults\":{\"line\":{\"color\":\"#2a3f5f\"}},\"ternary\":{\"aaxis\":{\"gridcolor\":\"#DFE8F3\",\"linecolor\":\"#A2B1C6\",\"ticks\":\"\"},\"baxis\":{\"gridcolor\":\"#DFE8F3\",\"linecolor\":\"#A2B1C6\",\"ticks\":\"\"},\"bgcolor\":\"white\",\"caxis\":{\"gridcolor\":\"#DFE8F3\",\"linecolor\":\"#A2B1C6\",\"ticks\":\"\"}},\"title\":{\"x\":0.05},\"xaxis\":{\"automargin\":true,\"gridcolor\":\"#EBF0F8\",\"linecolor\":\"#EBF0F8\",\"ticks\":\"\",\"title\":{\"standoff\":15},\"zerolinecolor\":\"#EBF0F8\",\"zerolinewidth\":2},\"yaxis\":{\"automargin\":true,\"gridcolor\":\"#EBF0F8\",\"linecolor\":\"#EBF0F8\",\"ticks\":\"\",\"title\":{\"standoff\":15},\"zerolinecolor\":\"#EBF0F8\",\"zerolinewidth\":2}}},\"yaxis\":{\"minor\":{\"showgrid\":true,\"griddash\":\"dash\",\"gridcolor\":\"gray\",\"gridwidth\":0.5,\"dtick\":0.05},\"showline\":true,\"linecolor\":\"black\",\"linewidth\":1,\"showgrid\":true,\"gridcolor\":\"gray\",\"gridwidth\":1,\"dtick\":0.1,\"range\":[0,1.1],\"title\":{\"text\":\"Mean Value\"}},\"xaxis\":{\"showline\":true,\"linecolor\":\"#000000\",\"linewidth\":1},\"title\":{\"font\":{\"size\":20,\"weight\":1000},\"text\":\"Performance Comparison of EC-based Reaction Prediction Methods\",\"x\":0.5,\"y\":0.05,\"xanchor\":\"center\"},\"legend\":{\"orientation\":\"h\",\"yanchor\":\"bottom\",\"y\":0.99,\"xanchor\":\"center\",\"x\":0.5,\"tracegroupgap\":2,\"borderwidth\":1},\"width\":1600,\"height\":600,\"barmode\":\"group\",\"bargap\":0.29},                        {\"responsive\": true}                    ).then(function(){\n",
       "                            \n",
       "var gd = document.getElementById('3009d2c0-0350-44f1-a353-cf15b6e30297');\n",
       "var x = new MutationObserver(function (mutations, observer) {{\n",
       "        var display = window.getComputedStyle(gd).display;\n",
       "        if (!display || display === 'none') {{\n",
       "            console.log([gd, 'removed!']);\n",
       "            Plotly.purge(gd);\n",
       "            observer.disconnect();\n",
       "        }}\n",
       "}});\n",
       "\n",
       "// Listen for the removal of the full notebook cells\n",
       "var notebookContainer = gd.closest('#notebook-container');\n",
       "if (notebookContainer) {{\n",
       "    x.observe(notebookContainer, {childList: true});\n",
       "}}\n",
       "\n",
       "// Listen for the clearing of the current output cell\n",
       "var outputEl = gd.closest('.output');\n",
       "if (outputEl) {{\n",
       "    x.observe(outputEl, {childList: true});\n",
       "}}\n",
       "\n",
       "                        })                };                });            </script>        </div>"
      ]
     },
     "metadata": {},
     "output_type": "display_data"
    }
   ],
   "source": [
    "# 定义颜色\n",
    "colors = ['#8ECFC9', '#FFBE7A', '#FA7F6F', '#82B0D2', '#BEB8DC', '#E7DAD2', '#999999']\n",
    "\n",
    "# 确保 res_fold_std 按照 F1 值排序，但保留所有度量以便绘图\n",
    "# 获取唯一的方法名称\n",
    "methods = res_fold_std[res_fold_std.Metric == 'mF1'].sort_values(by=['Mean']).Method.tolist()\n",
    "\n",
    "# 创建一个绘图对象\n",
    "fig = go.Figure()\n",
    "\n",
    "# 为每个方法添加柱状图，并使用指定颜色\n",
    "for idx, method in enumerate(methods):\n",
    "    df_method = res_fold_std[res_fold_std['Method'] == method]\n",
    "    # 只在 df_method 非空的情况下添加 trace\n",
    "    if not df_method.empty:\n",
    "        fig.add_trace(\n",
    "            go.Bar(\n",
    "                name=method,\n",
    "                x=df_method['Metric'],\n",
    "                y=df_method['Mean'],\n",
    "                width=0.11,  # 调整柱状图的宽度\n",
    "                error_y=dict(\n",
    "                    type='data',\n",
    "                    array=df_method['Std'],\n",
    "                    visible=True\n",
    "                ),\n",
    "                marker_color=colors[idx % len(colors)],  # 使用指定的颜色循环\n",
    "                marker_line=dict(color='black', width=0.5)  # 添加黑色1px外边框\n",
    "            )\n",
    "        )\n",
    "\n",
    "# 更新布局\n",
    "fig.update_layout(\n",
    "    yaxis=dict(\n",
    "        showline=True, linecolor='black', linewidth=1,\n",
    "        showgrid=True, gridcolor='gray', gridwidth=1,\n",
    "        minor=dict(\n",
    "            showgrid=True,\n",
    "            griddash='dash',  # 设置网格线为虚线\n",
    "            gridcolor='gray',\n",
    "            gridwidth=0.5,\n",
    "            dtick=0.05\n",
    "        ),\n",
    "        dtick=0.1,  # 每隔 0.1 的主要网格线\n",
    "        range=[0, 1.1]  # y 轴的刻度最大值调整为 1.2\n",
    "    ),\n",
    "    xaxis=dict(showline=True,linecolor='#000000',linewidth=1),       \n",
    "    title=dict(\n",
    "    text='Performance Comparison of EC-based Reaction Prediction Methods',\n",
    "    x=0.5,\n",
    "    y=0.05,\n",
    "    xanchor='center',\n",
    "    font=dict(\n",
    "        size=20,\n",
    "        weight=1000\n",
    "    )\n",
    "    ),\n",
    "    # xaxis_title='Metric',\n",
    "    yaxis_title='Mean Value',\n",
    "    width=1600,\n",
    "    height=600,\n",
    "    barmode='group',\n",
    "    bargap=0.29,  # 设置柱状图之间的间距\n",
    "    template='plotly_white',\n",
    "    legend=dict(\n",
    "        orientation=\"h\",  # 水平放置图例\n",
    "        yanchor=\"bottom\",\n",
    "        y=0.99,  # 将图例放置在下方\n",
    "        xanchor=\"center\",\n",
    "        x=0.5,\n",
    "        tracegroupgap=2,  # 图例列数\n",
    "        borderwidth=1,  # 添加黑色1px外边框\n",
    "    ),\n",
    "\n",
    ")\n",
    "\n",
    "# 显示图形\n",
    "fig.show()\n"
   ]
  },
  {
   "cell_type": "code",
   "execution_count": 364,
   "metadata": {},
   "outputs": [
    {
     "data": {
      "image/png": "[encoded data removed]",
      "text/plain": [
       "<Figure size 1600x600 with 1 Axes>"
      ]
     },
     "metadata": {},
     "output_type": "display_data"
    }
   ],
   "source": [
    "import matplotlib.pyplot as plt\n",
    "\n",
    "# Calculate mean and standard deviation for each baselineName and metric\n",
    "metrics = ['mAccuracy', 'mPrecision', 'mRecall', 'mF1']\n",
    "res_summary = res_metrics.groupby('baselineName')[metrics].agg(['mean', 'std']).reset_index()\n",
    "res_summary.columns = ['baselineName'] + [f'{metric}_{stat}' for metric in metrics for stat in ['mean', 'std']]\n",
    "\n",
    "# Sort baselineNames by mF1 mean value in ascending order\n",
    "res_summary = res_summary.sort_values(by='mF1_mean')\n",
    "baseline_names = res_summary['baselineName'].unique()\n",
    "\n",
    "# Define colors for each baselineName\n",
    "colors = ['#8ECFC9', '#FFBE7A', '#FA7F6F', '#82B0D2', '#BEB8DC', '#E7DAD2', '#999999']  # Updated color set to match the scientific publication style\n",
    "color_map = {name: colors[i % len(colors)] for i, name in enumerate(baseline_names)}\n",
    "\n",
    "# Set up the figure and axes\n",
    "fig, ax = plt.subplots(figsize=(16, 6))\n",
    "x = np.arange(len(metrics))  # The label locations\n",
    "width = 0.1  # Width of the bars\n",
    "\n",
    "# Loop through each baselineName and plot bars for each metric\n",
    "for i, baseline_name in enumerate(baseline_names):\n",
    "    means = [res_summary.loc[res_summary['baselineName'] == baseline_name, f'{metric}_mean'].values[0] for metric in metrics]\n",
    "    stds = [res_summary.loc[res_summary['baselineName'] == baseline_name, f'{metric}_std'].values[0] for metric in metrics]\n",
    "    ax.bar(x + i * width, means, width, yerr=stds, label=baseline_name, color=color_map[baseline_name], capsize=5, edgecolor='black')\n",
    "\n",
    "# Customize the plot\n",
    "ax.set_title('Performance Comparison of EC-based Reaction Prediction Methods', pad=40)\n",
    "ax.set_xlabel('Metric')\n",
    "ax.set_ylabel('Mean Value')\n",
    "ax.set_xticks(x + width * (len(baseline_names) / 2 - 0.5))\n",
    "ax.set_xticklabels(metrics)\n",
    "ax.legend(title='', loc='upper center', bbox_to_anchor=(0.5, 1.05), ncol=6, frameon=False, handlelength=3)  # Move legend below the plot\n",
    "\n",
    "# Add primary and secondary horizontal grid lines\n",
    "ax.set_yticks(np.arange(0, ax.get_ylim()[1], 0.1))\n",
    "ax.grid(axis='y', which='both', linestyle='--', alpha=0.7)\n",
    "ax.yaxis.set_major_locator(plt.MultipleLocator(0.2))\n",
    "ax.yaxis.set_minor_locator(plt.MultipleLocator(0.1))\n",
    "ax.yaxis.grid(True, which='major', linestyle='-', linewidth=1.0)\n",
    "ax.yaxis.grid(True, which='minor', linestyle='--', linewidth=0.5)\n",
    "\n",
    "# Remove top and right borders\n",
    "ax.spines['top'].set_visible(False)\n",
    "ax.spines['right'].set_visible(False)\n",
    "\n",
    "# Increase space between groups by adjusting width and offsets\n",
    "plt.subplots_adjust(left=0.1, right=0.9, top=0.5, bottom=0.2, wspace=1.5)\n",
    "\n",
    "# Show the figure\n",
    "plt.tight_layout()\n",
    "plt.show()\n",
    "\n",
    "\n"
   ]
  },
  {
   "cell_type": "markdown",
   "metadata": {},
   "source": [
    "### 5.1 isEnzyme prediction"
   ]
  },
  {
   "cell_type": "code",
   "execution_count": 16,
   "metadata": {},
   "outputs": [
    {
     "name": "stdout",
     "output_type": "stream",
     "text": [
      "isEnzyme Predcition Results - EC METHODs\n"
     ]
    },
    {
     "data": {
      "text/html": [
       "<div>\n",
       "<style scoped>\n",
       "    .dataframe tbody tr th:only-of-type {\n",
       "        vertical-align: middle;\n",
       "    }\n",
       "\n",
       "    .dataframe tbody tr th {\n",
       "        vertical-align: top;\n",
       "    }\n",
       "\n",
       "    .dataframe thead th {\n",
       "        text-align: right;\n",
       "    }\n",
       "</style>\n",
       "<table border=\"1\" class=\"dataframe\">\n",
       "  <thead>\n",
       "    <tr style=\"text-align: right;\">\n",
       "      <th></th>\n",
       "      <th>baselineName</th>\n",
       "      <th>Accuracy</th>\n",
       "      <th>Precision</th>\n",
       "      <th>Recall</th>\n",
       "      <th>PPV(Sensitivity)</th>\n",
       "      <th>NPV(Specificity)</th>\n",
       "      <th>F1</th>\n",
       "      <th>TP</th>\n",
       "      <th>FP</th>\n",
       "      <th>FN</th>\n",
       "      <th>TN</th>\n",
       "      <th>UP</th>\n",
       "      <th>UN</th>\n",
       "    </tr>\n",
       "  </thead>\n",
       "  <tbody>\n",
       "    <tr>\n",
       "      <th>0</th>\n",
       "      <td>ecrecer</td>\n",
       "      <td>0.789493</td>\n",
       "      <td>0.532835</td>\n",
       "      <td>0.911388</td>\n",
       "      <td>0.532835</td>\n",
       "      <td>0.964646</td>\n",
       "      <td>0.672499</td>\n",
       "      <td>2921</td>\n",
       "      <td>2561</td>\n",
       "      <td>284</td>\n",
       "      <td>7749</td>\n",
       "      <td>0</td>\n",
       "      <td>0</td>\n",
       "    </tr>\n",
       "    <tr>\n",
       "      <th>1</th>\n",
       "      <td>ecpred</td>\n",
       "      <td>0.597839</td>\n",
       "      <td>0.346035</td>\n",
       "      <td>0.631643</td>\n",
       "      <td>0.346035</td>\n",
       "      <td>0.703467</td>\n",
       "      <td>0.447122</td>\n",
       "      <td>2579</td>\n",
       "      <td>3930</td>\n",
       "      <td>560</td>\n",
       "      <td>5499</td>\n",
       "      <td>65</td>\n",
       "      <td>879</td>\n",
       "    </tr>\n",
       "    <tr>\n",
       "      <th>2</th>\n",
       "      <td>catfam</td>\n",
       "      <td>0.810285</td>\n",
       "      <td>0.749416</td>\n",
       "      <td>0.300468</td>\n",
       "      <td>0.749416</td>\n",
       "      <td>0.816680</td>\n",
       "      <td>0.428953</td>\n",
       "      <td>963</td>\n",
       "      <td>322</td>\n",
       "      <td>2242</td>\n",
       "      <td>9988</td>\n",
       "      <td>0</td>\n",
       "      <td>0</td>\n",
       "    </tr>\n",
       "    <tr>\n",
       "      <th>3</th>\n",
       "      <td>clean</td>\n",
       "      <td>0.237144</td>\n",
       "      <td>0.237144</td>\n",
       "      <td>1.000000</td>\n",
       "      <td>0.237144</td>\n",
       "      <td>0.000000</td>\n",
       "      <td>0.383373</td>\n",
       "      <td>3205</td>\n",
       "      <td>10310</td>\n",
       "      <td>0</td>\n",
       "      <td>0</td>\n",
       "      <td>0</td>\n",
       "      <td>0</td>\n",
       "    </tr>\n",
       "    <tr>\n",
       "      <th>4</th>\n",
       "      <td>ecblast</td>\n",
       "      <td>0.547244</td>\n",
       "      <td>0.302502</td>\n",
       "      <td>0.343502</td>\n",
       "      <td>0.302502</td>\n",
       "      <td>0.370370</td>\n",
       "      <td>0.321701</td>\n",
       "      <td>2466</td>\n",
       "      <td>1406</td>\n",
       "      <td>433</td>\n",
       "      <td>4930</td>\n",
       "      <td>306</td>\n",
       "      <td>3974</td>\n",
       "    </tr>\n",
       "    <tr>\n",
       "      <th>5</th>\n",
       "      <td>priam</td>\n",
       "      <td>0.218498</td>\n",
       "      <td>0.218498</td>\n",
       "      <td>0.397069</td>\n",
       "      <td>0.218498</td>\n",
       "      <td>0.000000</td>\n",
       "      <td>0.281882</td>\n",
       "      <td>2953</td>\n",
       "      <td>6078</td>\n",
       "      <td>0</td>\n",
       "      <td>0</td>\n",
       "      <td>252</td>\n",
       "      <td>4232</td>\n",
       "    </tr>\n",
       "    <tr>\n",
       "      <th>6</th>\n",
       "      <td>deepec</td>\n",
       "      <td>0.090196</td>\n",
       "      <td>0.090196</td>\n",
       "      <td>0.093446</td>\n",
       "      <td>0.090196</td>\n",
       "      <td>0.000000</td>\n",
       "      <td>0.091792</td>\n",
       "      <td>1219</td>\n",
       "      <td>470</td>\n",
       "      <td>0</td>\n",
       "      <td>0</td>\n",
       "      <td>1986</td>\n",
       "      <td>9840</td>\n",
       "    </tr>\n",
       "  </tbody>\n",
       "</table>\n",
       "</div>"
      ],
      "text/plain": [
       "  baselineName  Accuracy  Precision    Recall  PPV(Sensitivity)  \\\n",
       "0      ecrecer  0.789493   0.532835  0.911388          0.532835   \n",
       "1       ecpred  0.597839   0.346035  0.631643          0.346035   \n",
       "2       catfam  0.810285   0.749416  0.300468          0.749416   \n",
       "3        clean  0.237144   0.237144  1.000000          0.237144   \n",
       "4      ecblast  0.547244   0.302502  0.343502          0.302502   \n",
       "5        priam  0.218498   0.218498  0.397069          0.218498   \n",
       "6       deepec  0.090196   0.090196  0.093446          0.090196   \n",
       "\n",
       "   NPV(Specificity)        F1    TP     FP    FN    TN    UP    UN  \n",
       "0          0.964646  0.672499  2921   2561   284  7749     0     0  \n",
       "1          0.703467  0.447122  2579   3930   560  5499    65   879  \n",
       "2          0.816680  0.428953   963    322  2242  9988     0     0  \n",
       "3          0.000000  0.383373  3205  10310     0     0     0     0  \n",
       "4          0.370370  0.321701  2466   1406   433  4930   306  3974  \n",
       "5          0.000000  0.281882  2953   6078     0     0   252  4232  \n",
       "6          0.000000  0.091792  1219    470     0     0  1986  9840  "
      ]
     },
     "execution_count": 16,
     "metadata": {},
     "output_type": "execute_result"
    }
   ],
   "source": [
    "print('isEnzyme Predcition Results - EC METHODs')\n",
    "method = ['ecblast', 'deepec', 'clean', 'ecrecer', 'ecpred', 'catfam', 'priam']\n",
    "resl = []\n",
    "for m in method:\n",
    "    res_item = btools.eva_isenzyme(baselineName=m, res_df=res_method_ec, category='ec')\n",
    "    resl.append(res_item)\n",
    "    \n",
    "resl=pd.DataFrame(resl, columns=['baselineName', 'Accuracy', 'Precision', 'Recall', 'PPV(Sensitivity)', 'NPV(Specificity)', 'F1', 'TP', 'FP', 'FN', 'TN', 'UP', 'UN'])\n",
    "\n",
    "resl.sort_values(by=['F1'], ascending=False).reset_index(drop=True)"
   ]
  },
  {
   "cell_type": "code",
   "execution_count": 74,
   "metadata": {},
   "outputs": [
    {
     "data": {
      "application/vnd.plotly.v1+json": {
       "config": {
        "plotlyServerURL": "https://plot.ly"
       },
       "data": [
        {
         "name": "deepec",
         "text": [
          0.09019607843137255,
          0.09019607843137255,
          0.09344576466078958,
          0.09019607843137255,
          0,
          0.09179216867469879
         ],
         "textposition": "auto",
         "texttemplate": "%{text:.2f}",
         "type": "bar",
         "x": [
          "Accuracy",
          "Precision",
          "Recall",
          "PPV(Sensitivity)",
          "NPV(Specificity)",
          "F1"
         ],
         "y": [
          0.09019607843137255,
          0.09019607843137255,
          0.09344576466078958,
          0.09019607843137255,
          0,
          0.09179216867469879
         ]
        },
        {
         "name": "priam",
         "text": [
          0.2184979652238254,
          0.2184979652238254,
          0.3970687105015463,
          0.2184979652238254,
          0,
          0.28188239786177927
         ],
         "textposition": "auto",
         "texttemplate": "%{text:.2f}",
         "type": "bar",
         "x": [
          "Accuracy",
          "Precision",
          "Recall",
          "PPV(Sensitivity)",
          "NPV(Specificity)",
          "F1"
         ],
         "y": [
          0.2184979652238254,
          0.2184979652238254,
          0.3970687105015463,
          0.2184979652238254,
          0,
          0.28188239786177927
         ]
        },
        {
         "name": "ecblast",
         "text": [
          0.54724380318165,
          0.3025024533856722,
          0.34350188048474717,
          0.3025024533856722,
          0.37037037037037035,
          0.3217011284325876
         ],
         "textposition": "auto",
         "texttemplate": "%{text:.2f}",
         "type": "bar",
         "x": [
          "Accuracy",
          "Precision",
          "Recall",
          "PPV(Sensitivity)",
          "NPV(Specificity)",
          "F1"
         ],
         "y": [
          0.54724380318165,
          0.3025024533856722,
          0.34350188048474717,
          0.3025024533856722,
          0.37037037037037035,
          0.3217011284325876
         ]
        },
        {
         "name": "clean",
         "text": [
          0.23714391416944136,
          0.23714391416944136,
          1,
          0.23714391416944136,
          0,
          0.3833732057416268
         ],
         "textposition": "auto",
         "texttemplate": "%{text:.2f}",
         "type": "bar",
         "x": [
          "Accuracy",
          "Precision",
          "Recall",
          "PPV(Sensitivity)",
          "NPV(Specificity)",
          "F1"
         ],
         "y": [
          0.23714391416944136,
          0.23714391416944136,
          1,
          0.23714391416944136,
          0,
          0.3833732057416268
         ]
        },
        {
         "name": "catfam",
         "text": [
          0.8102848686644469,
          0.7494163424124514,
          0.30046801872074885,
          0.7494163424124514,
          0.8166802943581357,
          0.4289532293986637
         ],
         "textposition": "auto",
         "texttemplate": "%{text:.2f}",
         "type": "bar",
         "x": [
          "Accuracy",
          "Precision",
          "Recall",
          "PPV(Sensitivity)",
          "NPV(Specificity)",
          "F1"
         ],
         "y": [
          0.8102848686644469,
          0.7494163424124514,
          0.30046801872074885,
          0.7494163424124514,
          0.8166802943581357,
          0.4289532293986637
         ]
        },
        {
         "name": "ecpred",
         "text": [
          0.5978389579632919,
          0.34603515362941095,
          0.6316433994611805,
          0.34603515362941095,
          0.7034668031214021,
          0.44712205270457694
         ],
         "textposition": "auto",
         "texttemplate": "%{text:.2f}",
         "type": "bar",
         "x": [
          "Accuracy",
          "Precision",
          "Recall",
          "PPV(Sensitivity)",
          "NPV(Specificity)",
          "F1"
         ],
         "y": [
          0.5978389579632919,
          0.34603515362941095,
          0.6316433994611805,
          0.34603515362941095,
          0.7034668031214021,
          0.44712205270457694
         ]
        },
        {
         "name": "ecrecer",
         "text": [
          0.7894931557528672,
          0.5328347318496899,
          0.9113884555382216,
          0.5328347318496899,
          0.964645835926802,
          0.6724991366409578
         ],
         "textposition": "auto",
         "texttemplate": "%{text:.2f}",
         "type": "bar",
         "x": [
          "Accuracy",
          "Precision",
          "Recall",
          "PPV(Sensitivity)",
          "NPV(Specificity)",
          "F1"
         ],
         "y": [
          0.7894931557528672,
          0.5328347318496899,
          0.9113884555382216,
          0.5328347318496899,
          0.964645835926802,
          0.6724991366409578
         ]
        }
       ],
       "layout": {
        "barcornerradius": 10,
        "template": {
         "data": {
          "bar": [
           {
            "error_x": {
             "color": "#2a3f5f"
            },
            "error_y": {
             "color": "#2a3f5f"
            },
            "marker": {
             "line": {
              "color": "#E5ECF6",
              "width": 0.5
             },
             "pattern": {
              "fillmode": "overlay",
              "size": 10,
              "solidity": 0.2
             }
            },
            "type": "bar"
           }
          ],
          "barpolar": [
           {
            "marker": {
             "line": {
              "color": "#E5ECF6",
              "width": 0.5
             },
             "pattern": {
              "fillmode": "overlay",
              "size": 10,
              "solidity": 0.2
             }
            },
            "type": "barpolar"
           }
          ],
          "carpet": [
           {
            "aaxis": {
             "endlinecolor": "#2a3f5f",
             "gridcolor": "white",
             "linecolor": "white",
             "minorgridcolor": "white",
             "startlinecolor": "#2a3f5f"
            },
            "baxis": {
             "endlinecolor": "#2a3f5f",
             "gridcolor": "white",
             "linecolor": "white",
             "minorgridcolor": "white",
             "startlinecolor": "#2a3f5f"
            },
            "type": "carpet"
           }
          ],
          "choropleth": [
           {
            "colorbar": {
             "outlinewidth": 0,
             "ticks": ""
            },
            "type": "choropleth"
           }
          ],
          "contour": [
           {
            "colorbar": {
             "outlinewidth": 0,
             "ticks": ""
            },
            "colorscale": [
             [
              0,
              "#0d0887"
             ],
             [
              0.1111111111111111,
              "#46039f"
             ],
             [
              0.2222222222222222,
              "#7201a8"
             ],
             [
              0.3333333333333333,
              "#9c179e"
             ],
             [
              0.4444444444444444,
              "#bd3786"
             ],
             [
              0.5555555555555556,
              "#d8576b"
             ],
             [
              0.6666666666666666,
              "#ed7953"
             ],
             [
              0.7777777777777778,
              "#fb9f3a"
             ],
             [
              0.8888888888888888,
              "#fdca26"
             ],
             [
              1,
              "#f0f921"
             ]
            ],
            "type": "contour"
           }
          ],
          "contourcarpet": [
           {
            "colorbar": {
             "outlinewidth": 0,
             "ticks": ""
            },
            "type": "contourcarpet"
           }
          ],
          "heatmap": [
           {
            "colorbar": {
             "outlinewidth": 0,
             "ticks": ""
            },
            "colorscale": [
             [
              0,
              "#0d0887"
             ],
             [
              0.1111111111111111,
              "#46039f"
             ],
             [
              0.2222222222222222,
              "#7201a8"
             ],
             [
              0.3333333333333333,
              "#9c179e"
             ],
             [
              0.4444444444444444,
              "#bd3786"
             ],
             [
              0.5555555555555556,
              "#d8576b"
             ],
             [
              0.6666666666666666,
              "#ed7953"
             ],
             [
              0.7777777777777778,
              "#fb9f3a"
             ],
             [
              0.8888888888888888,
              "#fdca26"
             ],
             [
              1,
              "#f0f921"
             ]
            ],
            "type": "heatmap"
           }
          ],
          "heatmapgl": [
           {
            "colorbar": {
             "outlinewidth": 0,
             "ticks": ""
            },
            "colorscale": [
             [
              0,
              "#0d0887"
             ],
             [
              0.1111111111111111,
              "#46039f"
             ],
             [
              0.2222222222222222,
              "#7201a8"
             ],
             [
              0.3333333333333333,
              "#9c179e"
             ],
             [
              0.4444444444444444,
              "#bd3786"
             ],
             [
              0.5555555555555556,
              "#d8576b"
             ],
             [
              0.6666666666666666,
              "#ed7953"
             ],
             [
              0.7777777777777778,
              "#fb9f3a"
             ],
             [
              0.8888888888888888,
              "#fdca26"
             ],
             [
              1,
              "#f0f921"
             ]
            ],
            "type": "heatmapgl"
           }
          ],
          "histogram": [
           {
            "marker": {
             "pattern": {
              "fillmode": "overlay",
              "size": 10,
              "solidity": 0.2
             }
            },
            "type": "histogram"
           }
          ],
          "histogram2d": [
           {
            "colorbar": {
             "outlinewidth": 0,
             "ticks": ""
            },
            "colorscale": [
             [
              0,
              "#0d0887"
             ],
             [
              0.1111111111111111,
              "#46039f"
             ],
             [
              0.2222222222222222,
              "#7201a8"
             ],
             [
              0.3333333333333333,
              "#9c179e"
             ],
             [
              0.4444444444444444,
              "#bd3786"
             ],
             [
              0.5555555555555556,
              "#d8576b"
             ],
             [
              0.6666666666666666,
              "#ed7953"
             ],
             [
              0.7777777777777778,
              "#fb9f3a"
             ],
             [
              0.8888888888888888,
              "#fdca26"
             ],
             [
              1,
              "#f0f921"
             ]
            ],
            "type": "histogram2d"
           }
          ],
          "histogram2dcontour": [
           {
            "colorbar": {
             "outlinewidth": 0,
             "ticks": ""
            },
            "colorscale": [
             [
              0,
              "#0d0887"
             ],
             [
              0.1111111111111111,
              "#46039f"
             ],
             [
              0.2222222222222222,
              "#7201a8"
             ],
             [
              0.3333333333333333,
              "#9c179e"
             ],
             [
              0.4444444444444444,
              "#bd3786"
             ],
             [
              0.5555555555555556,
              "#d8576b"
             ],
             [
              0.6666666666666666,
              "#ed7953"
             ],
             [
              0.7777777777777778,
              "#fb9f3a"
             ],
             [
              0.8888888888888888,
              "#fdca26"
             ],
             [
              1,
              "#f0f921"
             ]
            ],
            "type": "histogram2dcontour"
           }
          ],
          "mesh3d": [
           {
            "colorbar": {
             "outlinewidth": 0,
             "ticks": ""
            },
            "type": "mesh3d"
           }
          ],
          "parcoords": [
           {
            "line": {
             "colorbar": {
              "outlinewidth": 0,
              "ticks": ""
             }
            },
            "type": "parcoords"
           }
          ],
          "pie": [
           {
            "automargin": true,
            "type": "pie"
           }
          ],
          "scatter": [
           {
            "fillpattern": {
             "fillmode": "overlay",
             "size": 10,
             "solidity": 0.2
            },
            "type": "scatter"
           }
          ],
          "scatter3d": [
           {
            "line": {
             "colorbar": {
              "outlinewidth": 0,
              "ticks": ""
             }
            },
            "marker": {
             "colorbar": {
              "outlinewidth": 0,
              "ticks": ""
             }
            },
            "type": "scatter3d"
           }
          ],
          "scattercarpet": [
           {
            "marker": {
             "colorbar": {
              "outlinewidth": 0,
              "ticks": ""
             }
            },
            "type": "scattercarpet"
           }
          ],
          "scattergeo": [
           {
            "marker": {
             "colorbar": {
              "outlinewidth": 0,
              "ticks": ""
             }
            },
            "type": "scattergeo"
           }
          ],
          "scattergl": [
           {
            "marker": {
             "colorbar": {
              "outlinewidth": 0,
              "ticks": ""
             }
            },
            "type": "scattergl"
           }
          ],
          "scattermapbox": [
           {
            "marker": {
             "colorbar": {
              "outlinewidth": 0,
              "ticks": ""
             }
            },
            "type": "scattermapbox"
           }
          ],
          "scatterpolar": [
           {
            "marker": {
             "colorbar": {
              "outlinewidth": 0,
              "ticks": ""
             }
            },
            "type": "scatterpolar"
           }
          ],
          "scatterpolargl": [
           {
            "marker": {
             "colorbar": {
              "outlinewidth": 0,
              "ticks": ""
             }
            },
            "type": "scatterpolargl"
           }
          ],
          "scatterternary": [
           {
            "marker": {
             "colorbar": {
              "outlinewidth": 0,
              "ticks": ""
             }
            },
            "type": "scatterternary"
           }
          ],
          "surface": [
           {
            "colorbar": {
             "outlinewidth": 0,
             "ticks": ""
            },
            "colorscale": [
             [
              0,
              "#0d0887"
             ],
             [
              0.1111111111111111,
              "#46039f"
             ],
             [
              0.2222222222222222,
              "#7201a8"
             ],
             [
              0.3333333333333333,
              "#9c179e"
             ],
             [
              0.4444444444444444,
              "#bd3786"
             ],
             [
              0.5555555555555556,
              "#d8576b"
             ],
             [
              0.6666666666666666,
              "#ed7953"
             ],
             [
              0.7777777777777778,
              "#fb9f3a"
             ],
             [
              0.8888888888888888,
              "#fdca26"
             ],
             [
              1,
              "#f0f921"
             ]
            ],
            "type": "surface"
           }
          ],
          "table": [
           {
            "cells": {
             "fill": {
              "color": "#EBF0F8"
             },
             "line": {
              "color": "white"
             }
            },
            "header": {
             "fill": {
              "color": "#C8D4E3"
             },
             "line": {
              "color": "white"
             }
            },
            "type": "table"
           }
          ]
         },
         "layout": {
          "annotationdefaults": {
           "arrowcolor": "#2a3f5f",
           "arrowhead": 0,
           "arrowwidth": 1
          },
          "autotypenumbers": "strict",
          "coloraxis": {
           "colorbar": {
            "outlinewidth": 0,
            "ticks": ""
           }
          },
          "colorscale": {
           "diverging": [
            [
             0,
             "#8e0152"
            ],
            [
             0.1,
             "#c51b7d"
            ],
            [
             0.2,
             "#de77ae"
            ],
            [
             0.3,
             "#f1b6da"
            ],
            [
             0.4,
             "#fde0ef"
            ],
            [
             0.5,
             "#f7f7f7"
            ],
            [
             0.6,
             "#e6f5d0"
            ],
            [
             0.7,
             "#b8e186"
            ],
            [
             0.8,
             "#7fbc41"
            ],
            [
             0.9,
             "#4d9221"
            ],
            [
             1,
             "#276419"
            ]
           ],
           "sequential": [
            [
             0,
             "#0d0887"
            ],
            [
             0.1111111111111111,
             "#46039f"
            ],
            [
             0.2222222222222222,
             "#7201a8"
            ],
            [
             0.3333333333333333,
             "#9c179e"
            ],
            [
             0.4444444444444444,
             "#bd3786"
            ],
            [
             0.5555555555555556,
             "#d8576b"
            ],
            [
             0.6666666666666666,
             "#ed7953"
            ],
            [
             0.7777777777777778,
             "#fb9f3a"
            ],
            [
             0.8888888888888888,
             "#fdca26"
            ],
            [
             1,
             "#f0f921"
            ]
           ],
           "sequentialminus": [
            [
             0,
             "#0d0887"
            ],
            [
             0.1111111111111111,
             "#46039f"
            ],
            [
             0.2222222222222222,
             "#7201a8"
            ],
            [
             0.3333333333333333,
             "#9c179e"
            ],
            [
             0.4444444444444444,
             "#bd3786"
            ],
            [
             0.5555555555555556,
             "#d8576b"
            ],
            [
             0.6666666666666666,
             "#ed7953"
            ],
            [
             0.7777777777777778,
             "#fb9f3a"
            ],
            [
             0.8888888888888888,
             "#fdca26"
            ],
            [
             1,
             "#f0f921"
            ]
           ]
          },
          "colorway": [
           "#636efa",
           "#EF553B",
           "#00cc96",
           "#ab63fa",
           "#FFA15A",
           "#19d3f3",
           "#FF6692",
           "#B6E880",
           "#FF97FF",
           "#FECB52"
          ],
          "font": {
           "color": "#2a3f5f"
          },
          "geo": {
           "bgcolor": "white",
           "lakecolor": "white",
           "landcolor": "#E5ECF6",
           "showlakes": true,
           "showland": true,
           "subunitcolor": "white"
          },
          "hoverlabel": {
           "align": "left"
          },
          "hovermode": "closest",
          "mapbox": {
           "style": "light"
          },
          "paper_bgcolor": "white",
          "plot_bgcolor": "#E5ECF6",
          "polar": {
           "angularaxis": {
            "gridcolor": "white",
            "linecolor": "white",
            "ticks": ""
           },
           "bgcolor": "#E5ECF6",
           "radialaxis": {
            "gridcolor": "white",
            "linecolor": "white",
            "ticks": ""
           }
          },
          "scene": {
           "xaxis": {
            "backgroundcolor": "#E5ECF6",
            "gridcolor": "white",
            "gridwidth": 2,
            "linecolor": "white",
            "showbackground": true,
            "ticks": "",
            "zerolinecolor": "white"
           },
           "yaxis": {
            "backgroundcolor": "#E5ECF6",
            "gridcolor": "white",
            "gridwidth": 2,
            "linecolor": "white",
            "showbackground": true,
            "ticks": "",
            "zerolinecolor": "white"
           },
           "zaxis": {
            "backgroundcolor": "#E5ECF6",
            "gridcolor": "white",
            "gridwidth": 2,
            "linecolor": "white",
            "showbackground": true,
            "ticks": "",
            "zerolinecolor": "white"
           }
          },
          "shapedefaults": {
           "line": {
            "color": "#2a3f5f"
           }
          },
          "ternary": {
           "aaxis": {
            "gridcolor": "white",
            "linecolor": "white",
            "ticks": ""
           },
           "baxis": {
            "gridcolor": "white",
            "linecolor": "white",
            "ticks": ""
           },
           "bgcolor": "#E5ECF6",
           "caxis": {
            "gridcolor": "white",
            "linecolor": "white",
            "ticks": ""
           }
          },
          "title": {
           "x": 0.05
          },
          "xaxis": {
           "automargin": true,
           "gridcolor": "white",
           "linecolor": "white",
           "ticks": "",
           "title": {
            "standoff": 15
           },
           "zerolinecolor": "white",
           "zerolinewidth": 2
          },
          "yaxis": {
           "automargin": true,
           "gridcolor": "white",
           "linecolor": "white",
           "ticks": "",
           "title": {
            "standoff": 15
           },
           "zerolinecolor": "white",
           "zerolinewidth": 2
          }
         }
        }
       }
      },
      "text/html": [
       "<div>                            <div id=\"0a437839-bd54-4665-bde8-1b8f995530c8\" class=\"plotly-graph-div\" style=\"height:525px; width:100%;\"></div>            <script type=\"text/javascript\">                require([\"plotly\"], function(Plotly) {                    window.PLOTLYENV=window.PLOTLYENV || {};                                    if (document.getElementById(\"0a437839-bd54-4665-bde8-1b8f995530c8\")) {                    Plotly.newPlot(                        \"0a437839-bd54-4665-bde8-1b8f995530c8\",                        [{\"name\":\"deepec\",\"text\":[0.09019607843137255,0.09019607843137255,0.09344576466078958,0.09019607843137255,0.0,0.09179216867469879],\"textposition\":\"auto\",\"texttemplate\":\"%{text:.2f}\",\"x\":[\"Accuracy\",\"Precision\",\"Recall\",\"PPV(Sensitivity)\",\"NPV(Specificity)\",\"F1\"],\"y\":[0.09019607843137255,0.09019607843137255,0.09344576466078958,0.09019607843137255,0.0,0.09179216867469879],\"type\":\"bar\"},{\"name\":\"priam\",\"text\":[0.2184979652238254,0.2184979652238254,0.3970687105015463,0.2184979652238254,0.0,0.28188239786177927],\"textposition\":\"auto\",\"texttemplate\":\"%{text:.2f}\",\"x\":[\"Accuracy\",\"Precision\",\"Recall\",\"PPV(Sensitivity)\",\"NPV(Specificity)\",\"F1\"],\"y\":[0.2184979652238254,0.2184979652238254,0.3970687105015463,0.2184979652238254,0.0,0.28188239786177927],\"type\":\"bar\"},{\"name\":\"ecblast\",\"text\":[0.54724380318165,0.3025024533856722,0.34350188048474717,0.3025024533856722,0.37037037037037035,0.3217011284325876],\"textposition\":\"auto\",\"texttemplate\":\"%{text:.2f}\",\"x\":[\"Accuracy\",\"Precision\",\"Recall\",\"PPV(Sensitivity)\",\"NPV(Specificity)\",\"F1\"],\"y\":[0.54724380318165,0.3025024533856722,0.34350188048474717,0.3025024533856722,0.37037037037037035,0.3217011284325876],\"type\":\"bar\"},{\"name\":\"clean\",\"text\":[0.23714391416944136,0.23714391416944136,1.0,0.23714391416944136,0.0,0.3833732057416268],\"textposition\":\"auto\",\"texttemplate\":\"%{text:.2f}\",\"x\":[\"Accuracy\",\"Precision\",\"Recall\",\"PPV(Sensitivity)\",\"NPV(Specificity)\",\"F1\"],\"y\":[0.23714391416944136,0.23714391416944136,1.0,0.23714391416944136,0.0,0.3833732057416268],\"type\":\"bar\"},{\"name\":\"catfam\",\"text\":[0.8102848686644469,0.7494163424124514,0.30046801872074885,0.7494163424124514,0.8166802943581357,0.4289532293986637],\"textposition\":\"auto\",\"texttemplate\":\"%{text:.2f}\",\"x\":[\"Accuracy\",\"Precision\",\"Recall\",\"PPV(Sensitivity)\",\"NPV(Specificity)\",\"F1\"],\"y\":[0.8102848686644469,0.7494163424124514,0.30046801872074885,0.7494163424124514,0.8166802943581357,0.4289532293986637],\"type\":\"bar\"},{\"name\":\"ecpred\",\"text\":[0.5978389579632919,0.34603515362941095,0.6316433994611805,0.34603515362941095,0.7034668031214021,0.44712205270457694],\"textposition\":\"auto\",\"texttemplate\":\"%{text:.2f}\",\"x\":[\"Accuracy\",\"Precision\",\"Recall\",\"PPV(Sensitivity)\",\"NPV(Specificity)\",\"F1\"],\"y\":[0.5978389579632919,0.34603515362941095,0.6316433994611805,0.34603515362941095,0.7034668031214021,0.44712205270457694],\"type\":\"bar\"},{\"name\":\"ecrecer\",\"text\":[0.7894931557528672,0.5328347318496899,0.9113884555382216,0.5328347318496899,0.964645835926802,0.6724991366409578],\"textposition\":\"auto\",\"texttemplate\":\"%{text:.2f}\",\"x\":[\"Accuracy\",\"Precision\",\"Recall\",\"PPV(Sensitivity)\",\"NPV(Specificity)\",\"F1\"],\"y\":[0.7894931557528672,0.5328347318496899,0.9113884555382216,0.5328347318496899,0.964645835926802,0.6724991366409578],\"type\":\"bar\"}],                        {\"barcornerradius\":10,\"template\":{\"data\":{\"histogram2dcontour\":[{\"type\":\"histogram2dcontour\",\"colorbar\":{\"outlinewidth\":0,\"ticks\":\"\"},\"colorscale\":[[0.0,\"#0d0887\"],[0.1111111111111111,\"#46039f\"],[0.2222222222222222,\"#7201a8\"],[0.3333333333333333,\"#9c179e\"],[0.4444444444444444,\"#bd3786\"],[0.5555555555555556,\"#d8576b\"],[0.6666666666666666,\"#ed7953\"],[0.7777777777777778,\"#fb9f3a\"],[0.8888888888888888,\"#fdca26\"],[1.0,\"#f0f921\"]]}],\"choropleth\":[{\"type\":\"choropleth\",\"colorbar\":{\"outlinewidth\":0,\"ticks\":\"\"}}],\"histogram2d\":[{\"type\":\"histogram2d\",\"colorbar\":{\"outlinewidth\":0,\"ticks\":\"\"},\"colorscale\":[[0.0,\"#0d0887\"],[0.1111111111111111,\"#46039f\"],[0.2222222222222222,\"#7201a8\"],[0.3333333333333333,\"#9c179e\"],[0.4444444444444444,\"#bd3786\"],[0.5555555555555556,\"#d8576b\"],[0.6666666666666666,\"#ed7953\"],[0.7777777777777778,\"#fb9f3a\"],[0.8888888888888888,\"#fdca26\"],[1.0,\"#f0f921\"]]}],\"heatmap\":[{\"type\":\"heatmap\",\"colorbar\":{\"outlinewidth\":0,\"ticks\":\"\"},\"colorscale\":[[0.0,\"#0d0887\"],[0.1111111111111111,\"#46039f\"],[0.2222222222222222,\"#7201a8\"],[0.3333333333333333,\"#9c179e\"],[0.4444444444444444,\"#bd3786\"],[0.5555555555555556,\"#d8576b\"],[0.6666666666666666,\"#ed7953\"],[0.7777777777777778,\"#fb9f3a\"],[0.8888888888888888,\"#fdca26\"],[1.0,\"#f0f921\"]]}],\"heatmapgl\":[{\"type\":\"heatmapgl\",\"colorbar\":{\"outlinewidth\":0,\"ticks\":\"\"},\"colorscale\":[[0.0,\"#0d0887\"],[0.1111111111111111,\"#46039f\"],[0.2222222222222222,\"#7201a8\"],[0.3333333333333333,\"#9c179e\"],[0.4444444444444444,\"#bd3786\"],[0.5555555555555556,\"#d8576b\"],[0.6666666666666666,\"#ed7953\"],[0.7777777777777778,\"#fb9f3a\"],[0.8888888888888888,\"#fdca26\"],[1.0,\"#f0f921\"]]}],\"contourcarpet\":[{\"type\":\"contourcarpet\",\"colorbar\":{\"outlinewidth\":0,\"ticks\":\"\"}}],\"contour\":[{\"type\":\"contour\",\"colorbar\":{\"outlinewidth\":0,\"ticks\":\"\"},\"colorscale\":[[0.0,\"#0d0887\"],[0.1111111111111111,\"#46039f\"],[0.2222222222222222,\"#7201a8\"],[0.3333333333333333,\"#9c179e\"],[0.4444444444444444,\"#bd3786\"],[0.5555555555555556,\"#d8576b\"],[0.6666666666666666,\"#ed7953\"],[0.7777777777777778,\"#fb9f3a\"],[0.8888888888888888,\"#fdca26\"],[1.0,\"#f0f921\"]]}],\"surface\":[{\"type\":\"surface\",\"colorbar\":{\"outlinewidth\":0,\"ticks\":\"\"},\"colorscale\":[[0.0,\"#0d0887\"],[0.1111111111111111,\"#46039f\"],[0.2222222222222222,\"#7201a8\"],[0.3333333333333333,\"#9c179e\"],[0.4444444444444444,\"#bd3786\"],[0.5555555555555556,\"#d8576b\"],[0.6666666666666666,\"#ed7953\"],[0.7777777777777778,\"#fb9f3a\"],[0.8888888888888888,\"#fdca26\"],[1.0,\"#f0f921\"]]}],\"mesh3d\":[{\"type\":\"mesh3d\",\"colorbar\":{\"outlinewidth\":0,\"ticks\":\"\"}}],\"scatter\":[{\"fillpattern\":{\"fillmode\":\"overlay\",\"size\":10,\"solidity\":0.2},\"type\":\"scatter\"}],\"parcoords\":[{\"type\":\"parcoords\",\"line\":{\"colorbar\":{\"outlinewidth\":0,\"ticks\":\"\"}}}],\"scatterpolargl\":[{\"type\":\"scatterpolargl\",\"marker\":{\"colorbar\":{\"outlinewidth\":0,\"ticks\":\"\"}}}],\"bar\":[{\"error_x\":{\"color\":\"#2a3f5f\"},\"error_y\":{\"color\":\"#2a3f5f\"},\"marker\":{\"line\":{\"color\":\"#E5ECF6\",\"width\":0.5},\"pattern\":{\"fillmode\":\"overlay\",\"size\":10,\"solidity\":0.2}},\"type\":\"bar\"}],\"scattergeo\":[{\"type\":\"scattergeo\",\"marker\":{\"colorbar\":{\"outlinewidth\":0,\"ticks\":\"\"}}}],\"scatterpolar\":[{\"type\":\"scatterpolar\",\"marker\":{\"colorbar\":{\"outlinewidth\":0,\"ticks\":\"\"}}}],\"histogram\":[{\"marker\":{\"pattern\":{\"fillmode\":\"overlay\",\"size\":10,\"solidity\":0.2}},\"type\":\"histogram\"}],\"scattergl\":[{\"type\":\"scattergl\",\"marker\":{\"colorbar\":{\"outlinewidth\":0,\"ticks\":\"\"}}}],\"scatter3d\":[{\"type\":\"scatter3d\",\"line\":{\"colorbar\":{\"outlinewidth\":0,\"ticks\":\"\"}},\"marker\":{\"colorbar\":{\"outlinewidth\":0,\"ticks\":\"\"}}}],\"scattermapbox\":[{\"type\":\"scattermapbox\",\"marker\":{\"colorbar\":{\"outlinewidth\":0,\"ticks\":\"\"}}}],\"scatterternary\":[{\"type\":\"scatterternary\",\"marker\":{\"colorbar\":{\"outlinewidth\":0,\"ticks\":\"\"}}}],\"scattercarpet\":[{\"type\":\"scattercarpet\",\"marker\":{\"colorbar\":{\"outlinewidth\":0,\"ticks\":\"\"}}}],\"carpet\":[{\"aaxis\":{\"endlinecolor\":\"#2a3f5f\",\"gridcolor\":\"white\",\"linecolor\":\"white\",\"minorgridcolor\":\"white\",\"startlinecolor\":\"#2a3f5f\"},\"baxis\":{\"endlinecolor\":\"#2a3f5f\",\"gridcolor\":\"white\",\"linecolor\":\"white\",\"minorgridcolor\":\"white\",\"startlinecolor\":\"#2a3f5f\"},\"type\":\"carpet\"}],\"table\":[{\"cells\":{\"fill\":{\"color\":\"#EBF0F8\"},\"line\":{\"color\":\"white\"}},\"header\":{\"fill\":{\"color\":\"#C8D4E3\"},\"line\":{\"color\":\"white\"}},\"type\":\"table\"}],\"barpolar\":[{\"marker\":{\"line\":{\"color\":\"#E5ECF6\",\"width\":0.5},\"pattern\":{\"fillmode\":\"overlay\",\"size\":10,\"solidity\":0.2}},\"type\":\"barpolar\"}],\"pie\":[{\"automargin\":true,\"type\":\"pie\"}]},\"layout\":{\"autotypenumbers\":\"strict\",\"colorway\":[\"#636efa\",\"#EF553B\",\"#00cc96\",\"#ab63fa\",\"#FFA15A\",\"#19d3f3\",\"#FF6692\",\"#B6E880\",\"#FF97FF\",\"#FECB52\"],\"font\":{\"color\":\"#2a3f5f\"},\"hovermode\":\"closest\",\"hoverlabel\":{\"align\":\"left\"},\"paper_bgcolor\":\"white\",\"plot_bgcolor\":\"#E5ECF6\",\"polar\":{\"bgcolor\":\"#E5ECF6\",\"angularaxis\":{\"gridcolor\":\"white\",\"linecolor\":\"white\",\"ticks\":\"\"},\"radialaxis\":{\"gridcolor\":\"white\",\"linecolor\":\"white\",\"ticks\":\"\"}},\"ternary\":{\"bgcolor\":\"#E5ECF6\",\"aaxis\":{\"gridcolor\":\"white\",\"linecolor\":\"white\",\"ticks\":\"\"},\"baxis\":{\"gridcolor\":\"white\",\"linecolor\":\"white\",\"ticks\":\"\"},\"caxis\":{\"gridcolor\":\"white\",\"linecolor\":\"white\",\"ticks\":\"\"}},\"coloraxis\":{\"colorbar\":{\"outlinewidth\":0,\"ticks\":\"\"}},\"colorscale\":{\"sequential\":[[0.0,\"#0d0887\"],[0.1111111111111111,\"#46039f\"],[0.2222222222222222,\"#7201a8\"],[0.3333333333333333,\"#9c179e\"],[0.4444444444444444,\"#bd3786\"],[0.5555555555555556,\"#d8576b\"],[0.6666666666666666,\"#ed7953\"],[0.7777777777777778,\"#fb9f3a\"],[0.8888888888888888,\"#fdca26\"],[1.0,\"#f0f921\"]],\"sequentialminus\":[[0.0,\"#0d0887\"],[0.1111111111111111,\"#46039f\"],[0.2222222222222222,\"#7201a8\"],[0.3333333333333333,\"#9c179e\"],[0.4444444444444444,\"#bd3786\"],[0.5555555555555556,\"#d8576b\"],[0.6666666666666666,\"#ed7953\"],[0.7777777777777778,\"#fb9f3a\"],[0.8888888888888888,\"#fdca26\"],[1.0,\"#f0f921\"]],\"diverging\":[[0,\"#8e0152\"],[0.1,\"#c51b7d\"],[0.2,\"#de77ae\"],[0.3,\"#f1b6da\"],[0.4,\"#fde0ef\"],[0.5,\"#f7f7f7\"],[0.6,\"#e6f5d0\"],[0.7,\"#b8e186\"],[0.8,\"#7fbc41\"],[0.9,\"#4d9221\"],[1,\"#276419\"]]},\"xaxis\":{\"gridcolor\":\"white\",\"linecolor\":\"white\",\"ticks\":\"\",\"title\":{\"standoff\":15},\"zerolinecolor\":\"white\",\"automargin\":true,\"zerolinewidth\":2},\"yaxis\":{\"gridcolor\":\"white\",\"linecolor\":\"white\",\"ticks\":\"\",\"title\":{\"standoff\":15},\"zerolinecolor\":\"white\",\"automargin\":true,\"zerolinewidth\":2},\"scene\":{\"xaxis\":{\"backgroundcolor\":\"#E5ECF6\",\"gridcolor\":\"white\",\"linecolor\":\"white\",\"showbackground\":true,\"ticks\":\"\",\"zerolinecolor\":\"white\",\"gridwidth\":2},\"yaxis\":{\"backgroundcolor\":\"#E5ECF6\",\"gridcolor\":\"white\",\"linecolor\":\"white\",\"showbackground\":true,\"ticks\":\"\",\"zerolinecolor\":\"white\",\"gridwidth\":2},\"zaxis\":{\"backgroundcolor\":\"#E5ECF6\",\"gridcolor\":\"white\",\"linecolor\":\"white\",\"showbackground\":true,\"ticks\":\"\",\"zerolinecolor\":\"white\",\"gridwidth\":2}},\"shapedefaults\":{\"line\":{\"color\":\"#2a3f5f\"}},\"annotationdefaults\":{\"arrowcolor\":\"#2a3f5f\",\"arrowhead\":0,\"arrowwidth\":1},\"geo\":{\"bgcolor\":\"white\",\"landcolor\":\"#E5ECF6\",\"subunitcolor\":\"white\",\"showland\":true,\"showlakes\":true,\"lakecolor\":\"white\"},\"title\":{\"x\":0.05},\"mapbox\":{\"style\":\"light\"}}}},                        {\"responsive\": true}                    ).then(function(){\n",
       "                            \n",
       "var gd = document.getElementById('0a437839-bd54-4665-bde8-1b8f995530c8');\n",
       "var x = new MutationObserver(function (mutations, observer) {{\n",
       "        var display = window.getComputedStyle(gd).display;\n",
       "        if (!display || display === 'none') {{\n",
       "            console.log([gd, 'removed!']);\n",
       "            Plotly.purge(gd);\n",
       "            observer.disconnect();\n",
       "        }}\n",
       "}});\n",
       "\n",
       "// Listen for the removal of the full notebook cells\n",
       "var notebookContainer = gd.closest('#notebook-container');\n",
       "if (notebookContainer) {{\n",
       "    x.observe(notebookContainer, {childList: true});\n",
       "}}\n",
       "\n",
       "// Listen for the clearing of the current output cell\n",
       "var outputEl = gd.closest('.output');\n",
       "if (outputEl) {{\n",
       "    x.observe(outputEl, {childList: true});\n",
       "}}\n",
       "\n",
       "                        })                };                });            </script>        </div>"
      ]
     },
     "metadata": {},
     "output_type": "display_data"
    }
   ],
   "source": [
    "fig_data = resl.sort_values(by=['F1']).set_index('baselineName').T.head(6)\n",
    "\n",
    "\n",
    "plotdata = []\n",
    "for method in fig_data.columns.values:\n",
    "    plotdata.append(go.Bar(\n",
    "        x=fig_data.index, \n",
    "        y=fig_data[f'{method}'], \n",
    "        name=f'{method}',\n",
    "        text=fig_data[f'{method}'],\n",
    "        textposition='auto',\n",
    "        texttemplate='%{text:.2f}',  # 格式化数值标签 (保留两位小数)\n",
    "        ))\n",
    "\n",
    "fig = go.Figure(\n",
    "    data=plotdata,\n",
    "    layout=dict(\n",
    "        barcornerradius=10,\n",
    "        \n",
    "    ),\n",
    ")\n",
    "\n",
    "fig.show()"
   ]
  },
  {
   "cell_type": "markdown",
   "metadata": {},
   "source": [
    "### 5.2 Reaction prediction"
   ]
  },
  {
   "cell_type": "code",
   "execution_count": 6,
   "metadata": {},
   "outputs": [
    {
     "name": "stdout",
     "output_type": "stream",
     "text": [
      "Evaluating: Reaction Predcition Results [FULL SET]\n",
      "Evaluating: Reaction Predcition Results [NONE ENZYME]\n",
      "Evaluating: Reaction Predcition Results [ENZYME]\n"
     ]
    }
   ],
   "source": [
    "# Make Label\n",
    "res_method_ec['lb_rxn_blast'] = res_method_ec.reaction_ecblast.apply(lambda x: btools.make_label(reaction_id=str(x), rxn_label_dict=dict_rxn2id))\n",
    "res_method_ec['lb_rxn_deepec'] = res_method_ec.reaction_deepec.apply(lambda x: btools.make_label(reaction_id=str(x), rxn_label_dict=dict_rxn2id))\n",
    "res_method_ec['lb_rxn_clean'] = res_method_ec.reaction_clean.apply(lambda x: btools.make_label(reaction_id=str(x), rxn_label_dict=dict_rxn2id))\n",
    "res_method_ec['lb_rxn_ecrecer'] = res_method_ec.reaction_ecrecer.apply(lambda x: btools.make_label(reaction_id=str(x), rxn_label_dict=dict_rxn2id))\n",
    "res_method_ec['lb_rxn_ecpred'] = res_method_ec.reaction_ecpred.apply(lambda x: btools.make_label(reaction_id=str(x), rxn_label_dict=dict_rxn2id))\n",
    "res_method_ec['lb_rxn_catfam'] = res_method_ec.reaction_catfam.apply(lambda x: btools.make_label(reaction_id=str(x), rxn_label_dict=dict_rxn2id))\n",
    "res_method_ec['lb_rxn_priam'] = res_method_ec.reaction_priam.apply(lambda x: btools.make_label(reaction_id=str(x), rxn_label_dict=dict_rxn2id))\n",
    "\n",
    "#full\n",
    "metrics_rxn_fullset = btools.rxn_eva_metric(eva_df=res_method_ec, eva_name='[FULL SET]', methods=methods)\n",
    "#noneenzyme\n",
    "res_noneenzyme = res_method_ec[res_method_ec.rxn_groundtruth=='-'].reset_index(drop=True)\n",
    "metrics_rxn_noneenzyme = btools.rxn_eva_metric(eva_df=res_noneenzyme, eva_name='[NONE ENZYME]', methods=methods)\n",
    "#enzyme\n",
    "res_enzyme = res_method_ec[res_method_ec.rxn_groundtruth!='-'].reset_index(drop=True)\n",
    "metrics_rxn_enzyme = btools.rxn_eva_metric(eva_df=res_enzyme, eva_name='[ENZYME]', methods=methods)"
   ]
  },
  {
   "cell_type": "code",
   "execution_count": 11,
   "metadata": {},
   "outputs": [
    {
     "data": {
      "text/html": [
       "\n",
       "     <div style=\"float:left; width: 25%;\"><h2>Reaction Predcition Results <span style=\"color:red\"> [FULL SET]</span></h2><table border=\"1\" class=\"dataframe\">\n",
       "  <thead>\n",
       "    <tr style=\"text-align: right;\">\n",
       "      <th></th>\n",
       "      <th>baselineName</th>\n",
       "      <th>mAccuracy</th>\n",
       "      <th>mPrecision</th>\n",
       "      <th>mRecall</th>\n",
       "      <th>mF1</th>\n",
       "    </tr>\n",
       "  </thead>\n",
       "  <tbody>\n",
       "    <tr>\n",
       "      <th>0</th>\n",
       "      <td>ecrecer</td>\n",
       "      <td>0.689900</td>\n",
       "      <td>0.967961</td>\n",
       "      <td>0.651723</td>\n",
       "      <td>0.714824</td>\n",
       "    </tr>\n",
       "    <tr>\n",
       "      <th>1</th>\n",
       "      <td>catfam</td>\n",
       "      <td>0.770477</td>\n",
       "      <td>0.870005</td>\n",
       "      <td>0.670351</td>\n",
       "      <td>0.620349</td>\n",
       "    </tr>\n",
       "    <tr>\n",
       "      <th>2</th>\n",
       "      <td>blast</td>\n",
       "      <td>0.433370</td>\n",
       "      <td>0.907868</td>\n",
       "      <td>0.409190</td>\n",
       "      <td>0.504355</td>\n",
       "    </tr>\n",
       "    <tr>\n",
       "      <th>3</th>\n",
       "      <td>ecpred</td>\n",
       "      <td>0.420792</td>\n",
       "      <td>0.926196</td>\n",
       "      <td>0.363490</td>\n",
       "      <td>0.455263</td>\n",
       "    </tr>\n",
       "    <tr>\n",
       "      <th>4</th>\n",
       "      <td>clean</td>\n",
       "      <td>0.078949</td>\n",
       "      <td>0.879031</td>\n",
       "      <td>0.145483</td>\n",
       "      <td>0.097747</td>\n",
       "    </tr>\n",
       "    <tr>\n",
       "      <th>5</th>\n",
       "      <td>priam</td>\n",
       "      <td>0.017832</td>\n",
       "      <td>0.853372</td>\n",
       "      <td>0.160137</td>\n",
       "      <td>0.075407</td>\n",
       "    </tr>\n",
       "    <tr>\n",
       "      <th>6</th>\n",
       "      <td>deepec</td>\n",
       "      <td>0.034850</td>\n",
       "      <td>0.978400</td>\n",
       "      <td>0.052406</td>\n",
       "      <td>0.059727</td>\n",
       "    </tr>\n",
       "  </tbody>\n",
       "</table> </div>\n",
       "     <div style=\"float:left; width: 25%;\"><h2>Reaction Predcition Results <span style=\"color:red\"> [NONE-ENZYME]</span></h2><table border=\"1\" class=\"dataframe\">\n",
       "  <thead>\n",
       "    <tr style=\"text-align: right;\">\n",
       "      <th></th>\n",
       "      <th>baselineName</th>\n",
       "      <th>mAccuracy</th>\n",
       "      <th>mPrecision</th>\n",
       "      <th>mRecall</th>\n",
       "      <th>mF1</th>\n",
       "    </tr>\n",
       "  </thead>\n",
       "  <tbody>\n",
       "    <tr>\n",
       "      <th>0</th>\n",
       "      <td>catfam</td>\n",
       "      <td>0.968768</td>\n",
       "      <td>1.0</td>\n",
       "      <td>0.968768</td>\n",
       "      <td>0.984136</td>\n",
       "    </tr>\n",
       "    <tr>\n",
       "      <th>1</th>\n",
       "      <td>ecrecer</td>\n",
       "      <td>0.751600</td>\n",
       "      <td>1.0</td>\n",
       "      <td>0.751600</td>\n",
       "      <td>0.858187</td>\n",
       "    </tr>\n",
       "    <tr>\n",
       "      <th>2</th>\n",
       "      <td>ecpred</td>\n",
       "      <td>0.533560</td>\n",
       "      <td>1.0</td>\n",
       "      <td>0.533560</td>\n",
       "      <td>0.695845</td>\n",
       "    </tr>\n",
       "    <tr>\n",
       "      <th>3</th>\n",
       "      <td>blast</td>\n",
       "      <td>0.478177</td>\n",
       "      <td>1.0</td>\n",
       "      <td>0.478177</td>\n",
       "      <td>0.646982</td>\n",
       "    </tr>\n",
       "    <tr>\n",
       "      <th>4</th>\n",
       "      <td>deepec</td>\n",
       "      <td>0.000000</td>\n",
       "      <td>1.0</td>\n",
       "      <td>0.000000</td>\n",
       "      <td>0.000000</td>\n",
       "    </tr>\n",
       "    <tr>\n",
       "      <th>5</th>\n",
       "      <td>clean</td>\n",
       "      <td>0.000000</td>\n",
       "      <td>1.0</td>\n",
       "      <td>0.000000</td>\n",
       "      <td>0.000000</td>\n",
       "    </tr>\n",
       "    <tr>\n",
       "      <th>6</th>\n",
       "      <td>priam</td>\n",
       "      <td>0.000000</td>\n",
       "      <td>1.0</td>\n",
       "      <td>0.000000</td>\n",
       "      <td>0.000000</td>\n",
       "    </tr>\n",
       "  </tbody>\n",
       "</table> </div>\n",
       "     <div style=\"float:left; width: 25%;\"><h2>Reaction Predcition Results <span style=\"color:red\"> [ENZYME]</span></h2><table border=\"1\" class=\"dataframe\">\n",
       "  <thead>\n",
       "    <tr style=\"text-align: right;\">\n",
       "      <th></th>\n",
       "      <th>baselineName</th>\n",
       "      <th>mAccuracy</th>\n",
       "      <th>mPrecision</th>\n",
       "      <th>mRecall</th>\n",
       "      <th>mF1</th>\n",
       "    </tr>\n",
       "  </thead>\n",
       "  <tbody>\n",
       "    <tr>\n",
       "      <th>0</th>\n",
       "      <td>ecrecer</td>\n",
       "      <td>0.491420</td>\n",
       "      <td>0.979519</td>\n",
       "      <td>0.474029</td>\n",
       "      <td>0.486309</td>\n",
       "    </tr>\n",
       "    <tr>\n",
       "      <th>1</th>\n",
       "      <td>clean</td>\n",
       "      <td>0.332917</td>\n",
       "      <td>0.861700</td>\n",
       "      <td>0.404314</td>\n",
       "      <td>0.389627</td>\n",
       "    </tr>\n",
       "    <tr>\n",
       "      <th>2</th>\n",
       "      <td>blast</td>\n",
       "      <td>0.289236</td>\n",
       "      <td>0.931659</td>\n",
       "      <td>0.286454</td>\n",
       "      <td>0.297081</td>\n",
       "    </tr>\n",
       "    <tr>\n",
       "      <th>3</th>\n",
       "      <td>priam</td>\n",
       "      <td>0.075195</td>\n",
       "      <td>0.692765</td>\n",
       "      <td>0.445039</td>\n",
       "      <td>0.289674</td>\n",
       "    </tr>\n",
       "    <tr>\n",
       "      <th>4</th>\n",
       "      <td>deepec</td>\n",
       "      <td>0.146958</td>\n",
       "      <td>0.964808</td>\n",
       "      <td>0.145643</td>\n",
       "      <td>0.171148</td>\n",
       "    </tr>\n",
       "    <tr>\n",
       "      <th>5</th>\n",
       "      <td>catfam</td>\n",
       "      <td>0.132605</td>\n",
       "      <td>0.978662</td>\n",
       "      <td>0.139431</td>\n",
       "      <td>0.152270</td>\n",
       "    </tr>\n",
       "    <tr>\n",
       "      <th>6</th>\n",
       "      <td>ecpred</td>\n",
       "      <td>0.058034</td>\n",
       "      <td>0.977168</td>\n",
       "      <td>0.060915</td>\n",
       "      <td>0.073204</td>\n",
       "    </tr>\n",
       "  </tbody>\n",
       "</table> </div>\n",
       "     "
      ],
      "text/plain": [
       "<IPython.core.display.HTML object>"
      ]
     },
     "execution_count": 11,
     "metadata": {},
     "output_type": "execute_result"
    }
   ],
   "source": [
    "#show results\n",
    "HTML(f'''\n",
    "     <div style=\"float:left; width: 25%;\"><h2>Reaction Predcition Results <span style=\"color:red\"> [FULL SET]</span></h2>{metrics_rxn_fullset.sort_values(by=['mF1'], ascending=False).reset_index(drop=True).to_html()} </div>\n",
    "     <div style=\"float:left; width: 25%;\"><h2>Reaction Predcition Results <span style=\"color:red\"> [NONE-ENZYME]</span></h2>{metrics_rxn_noneenzyme.sort_values(by=['mF1'], ascending=False).reset_index(drop=True).to_html()} </div>\n",
    "     <div style=\"float:left; width: 25%;\"><h2>Reaction Predcition Results <span style=\"color:red\"> [ENZYME]</span></h2>{metrics_rxn_enzyme.sort_values(by=['mF1'], ascending=False).reset_index(drop=True).to_html()} </div>\n",
    "     ''')"
   ]
  }
 ],
 "metadata": {
  "kernelspec": {
   "display_name": "Python 3",
   "language": "python",
   "name": "python3"
  },
  "language_info": {
   "codemirror_mode": {
    "name": "ipython",
    "version": 3
   },
   "file_extension": ".py",
   "mimetype": "text/x-python",
   "name": "python",
   "nbconvert_exporter": "python",
   "pygments_lexer": "ipython3",
   "version": "3.10.14"
  },
  "orig_nbformat": 4
 },
 "nbformat": 4,
 "nbformat_minor": 2
}
