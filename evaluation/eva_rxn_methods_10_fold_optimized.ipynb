{
 "cells": [
  {
   "cell_type": "markdown",
   "id": "6cfa7e41",
   "metadata": {},
   "source": [
    "## 反应直接预测结果分析\n",
    "> 2024-12-03\n",
    "\n",
    "### 1. 导入必要的包"
   ]
  },
  {
   "cell_type": "code",
   "execution_count": 1,
   "id": "ddebc5f9",
   "metadata": {},
   "outputs": [
    {
     "name": "stdout",
     "output_type": "stream",
     "text": [
      "INFO: Pandarallel will run on 128 workers.\n",
      "INFO: Pandarallel will use Memory file system to transfer data between the main process and workers.\n"
     ]
    }
   ],
   "source": [
    "# Standard Library Imports\n",
    "import os\n",
    "import sys\n",
    "\n",
    "# Third-party Imports\n",
    "import json\n",
    "import numpy as np\n",
    "import pandas as pd\n",
    "from tqdm import tqdm\n",
    "import plotly.graph_objects as go\n",
    "from IPython.display import HTML\n",
    "from pandarallel import pandarallel  # Importing pandarallel for parallel processing\n",
    "\n",
    "# Setting up the path for the module\n",
    "sys.path.insert(0, os.path.dirname(os.path.realpath('__file__')))\n",
    "sys.path.insert(1, '../')\n",
    "\n",
    "# Local Imports\n",
    "from config import conf as cfg\n",
    "from tools import btools\n",
    "import evTools\n",
    "# Initialize parallel processing\n",
    "pandarallel.initialize(progress_bar=False)\n",
    "\n",
    "# Enable autoreloading of modules in IPython\n",
    "%load_ext autoreload\n",
    "%autoreload 2"
   ]
  },
  {
   "cell_type": "markdown",
   "id": "57c3a829",
   "metadata": {},
   "source": [
    "### 2. 加载测试数据集"
   ]
  },
  {
   "cell_type": "code",
   "execution_count": 2,
   "id": "93d17ce4",
   "metadata": {},
   "outputs": [
    {
     "name": "stdout",
     "output_type": "stream",
     "text": [
      "加载反应编码字典完成，共有 10479 个反应。\n",
      "Loading validation datasets feather path ...\n"
     ]
    }
   ],
   "source": [
    "# 从 JSON 文件加载反应编码字典\n",
    "with open(cfg.FILE_DS_DICT_RXN2ID, \"r\") as json_file:\n",
    "    dict_rxn2id = json.load(json_file)\n",
    "    print(f'加载反应编码字典完成，共有 {len(dict_rxn2id)} 个反应。')  # 打印加载的数据\n",
    "    \n",
    "print('Loading validation datasets feather path ...')"
   ]
  },
  {
   "cell_type": "markdown",
   "id": "de3a2896",
   "metadata": {},
   "source": [
    "## 4. Load results\n",
    "### 4.1 Blast"
   ]
  },
  {
   "cell_type": "code",
   "execution_count": 3,
   "id": "1db8ee4a",
   "metadata": {},
   "outputs": [
    {
     "name": "stdout",
     "output_type": "stream",
     "text": [
      "Getting evaluation results for blast ...\n",
      "Calculating mean and std ...\n",
      "Statistic ec no prediction and ec with no reaction ...\n"
     ]
    },
    {
     "data": {
      "text/html": [
       "\n",
       "         <div style=\"float:left; width:700px;\">\n",
       "              <h2 style='color:blue'>Blast-direct Evaluation 10 Fold Details</h2>\n",
       "              <table border=\"1\" class=\"dataframe\">\n",
       "  <thead>\n",
       "    <tr style=\"text-align: right;\">\n",
       "      <th></th>\n",
       "      <th>baselineName</th>\n",
       "      <th>runFold</th>\n",
       "      <th>mAccuracy</th>\n",
       "      <th>mPrecision</th>\n",
       "      <th>mRecall</th>\n",
       "      <th>mF1</th>\n",
       "      <th>avgType</th>\n",
       "    </tr>\n",
       "  </thead>\n",
       "  <tbody>\n",
       "    <tr>\n",
       "      <th>0</th>\n",
       "      <td>blast</td>\n",
       "      <td>1</td>\n",
       "      <td>0.831669</td>\n",
       "      <td>0.879424</td>\n",
       "      <td>0.950254</td>\n",
       "      <td>0.895608</td>\n",
       "      <td>weighted</td>\n",
       "    </tr>\n",
       "    <tr>\n",
       "      <th>1</th>\n",
       "      <td>blast</td>\n",
       "      <td>1</td>\n",
       "      <td>0.831669</td>\n",
       "      <td>0.623579</td>\n",
       "      <td>0.950254</td>\n",
       "      <td>0.753013</td>\n",
       "      <td>micro</td>\n",
       "    </tr>\n",
       "    <tr>\n",
       "      <th>2</th>\n",
       "      <td>blast</td>\n",
       "      <td>1</td>\n",
       "      <td>0.831669</td>\n",
       "      <td>0.416449</td>\n",
       "      <td>0.963590</td>\n",
       "      <td>0.428415</td>\n",
       "      <td>macro</td>\n",
       "    </tr>\n",
       "    <tr>\n",
       "      <th>3</th>\n",
       "      <td>blast</td>\n",
       "      <td>1</td>\n",
       "      <td>0.831669</td>\n",
       "      <td>0.876632</td>\n",
       "      <td>0.946831</td>\n",
       "      <td>0.893186</td>\n",
       "      <td>samples</td>\n",
       "    </tr>\n",
       "    <tr>\n",
       "      <th>4</th>\n",
       "      <td>blast</td>\n",
       "      <td>2</td>\n",
       "      <td>0.832711</td>\n",
       "      <td>0.876026</td>\n",
       "      <td>0.949407</td>\n",
       "      <td>0.892931</td>\n",
       "      <td>weighted</td>\n",
       "    </tr>\n",
       "    <tr>\n",
       "      <th>5</th>\n",
       "      <td>blast</td>\n",
       "      <td>2</td>\n",
       "      <td>0.832711</td>\n",
       "      <td>0.630110</td>\n",
       "      <td>0.949407</td>\n",
       "      <td>0.757486</td>\n",
       "      <td>micro</td>\n",
       "    </tr>\n",
       "    <tr>\n",
       "      <th>6</th>\n",
       "      <td>blast</td>\n",
       "      <td>2</td>\n",
       "      <td>0.832711</td>\n",
       "      <td>0.425493</td>\n",
       "      <td>0.957683</td>\n",
       "      <td>0.437911</td>\n",
       "      <td>macro</td>\n",
       "    </tr>\n",
       "    <tr>\n",
       "      <th>7</th>\n",
       "      <td>blast</td>\n",
       "      <td>2</td>\n",
       "      <td>0.832711</td>\n",
       "      <td>0.877638</td>\n",
       "      <td>0.947314</td>\n",
       "      <td>0.894095</td>\n",
       "      <td>samples</td>\n",
       "    </tr>\n",
       "    <tr>\n",
       "      <th>8</th>\n",
       "      <td>blast</td>\n",
       "      <td>3</td>\n",
       "      <td>0.832435</td>\n",
       "      <td>0.876780</td>\n",
       "      <td>0.951163</td>\n",
       "      <td>0.894422</td>\n",
       "      <td>weighted</td>\n",
       "    </tr>\n",
       "    <tr>\n",
       "      <th>9</th>\n",
       "      <td>blast</td>\n",
       "      <td>3</td>\n",
       "      <td>0.832435</td>\n",
       "      <td>0.621594</td>\n",
       "      <td>0.951163</td>\n",
       "      <td>0.751848</td>\n",
       "      <td>micro</td>\n",
       "    </tr>\n",
       "    <tr>\n",
       "      <th>10</th>\n",
       "      <td>blast</td>\n",
       "      <td>3</td>\n",
       "      <td>0.832435</td>\n",
       "      <td>0.421075</td>\n",
       "      <td>0.963347</td>\n",
       "      <td>0.435895</td>\n",
       "      <td>macro</td>\n",
       "    </tr>\n",
       "    <tr>\n",
       "      <th>11</th>\n",
       "      <td>blast</td>\n",
       "      <td>3</td>\n",
       "      <td>0.832435</td>\n",
       "      <td>0.877610</td>\n",
       "      <td>0.948090</td>\n",
       "      <td>0.894203</td>\n",
       "      <td>samples</td>\n",
       "    </tr>\n",
       "    <tr>\n",
       "      <th>12</th>\n",
       "      <td>blast</td>\n",
       "      <td>4</td>\n",
       "      <td>0.833989</td>\n",
       "      <td>0.880479</td>\n",
       "      <td>0.951607</td>\n",
       "      <td>0.897354</td>\n",
       "      <td>weighted</td>\n",
       "    </tr>\n",
       "    <tr>\n",
       "      <th>13</th>\n",
       "      <td>blast</td>\n",
       "      <td>4</td>\n",
       "      <td>0.833989</td>\n",
       "      <td>0.640349</td>\n",
       "      <td>0.951607</td>\n",
       "      <td>0.765549</td>\n",
       "      <td>micro</td>\n",
       "    </tr>\n",
       "    <tr>\n",
       "      <th>14</th>\n",
       "      <td>blast</td>\n",
       "      <td>4</td>\n",
       "      <td>0.833989</td>\n",
       "      <td>0.435042</td>\n",
       "      <td>0.958940</td>\n",
       "      <td>0.446051</td>\n",
       "      <td>macro</td>\n",
       "    </tr>\n",
       "    <tr>\n",
       "      <th>15</th>\n",
       "      <td>blast</td>\n",
       "      <td>4</td>\n",
       "      <td>0.833989</td>\n",
       "      <td>0.879646</td>\n",
       "      <td>0.949479</td>\n",
       "      <td>0.896215</td>\n",
       "      <td>samples</td>\n",
       "    </tr>\n",
       "    <tr>\n",
       "      <th>16</th>\n",
       "      <td>blast</td>\n",
       "      <td>5</td>\n",
       "      <td>0.833930</td>\n",
       "      <td>0.879881</td>\n",
       "      <td>0.950032</td>\n",
       "      <td>0.896640</td>\n",
       "      <td>weighted</td>\n",
       "    </tr>\n",
       "    <tr>\n",
       "      <th>17</th>\n",
       "      <td>blast</td>\n",
       "      <td>5</td>\n",
       "      <td>0.833930</td>\n",
       "      <td>0.633477</td>\n",
       "      <td>0.950032</td>\n",
       "      <td>0.760114</td>\n",
       "      <td>micro</td>\n",
       "    </tr>\n",
       "    <tr>\n",
       "      <th>18</th>\n",
       "      <td>blast</td>\n",
       "      <td>5</td>\n",
       "      <td>0.833930</td>\n",
       "      <td>0.421979</td>\n",
       "      <td>0.961711</td>\n",
       "      <td>0.436869</td>\n",
       "      <td>macro</td>\n",
       "    </tr>\n",
       "    <tr>\n",
       "      <th>19</th>\n",
       "      <td>blast</td>\n",
       "      <td>5</td>\n",
       "      <td>0.833930</td>\n",
       "      <td>0.878475</td>\n",
       "      <td>0.946762</td>\n",
       "      <td>0.894488</td>\n",
       "      <td>samples</td>\n",
       "    </tr>\n",
       "    <tr>\n",
       "      <th>20</th>\n",
       "      <td>blast</td>\n",
       "      <td>6</td>\n",
       "      <td>0.835876</td>\n",
       "      <td>0.882056</td>\n",
       "      <td>0.950201</td>\n",
       "      <td>0.897881</td>\n",
       "      <td>weighted</td>\n",
       "    </tr>\n",
       "    <tr>\n",
       "      <th>21</th>\n",
       "      <td>blast</td>\n",
       "      <td>6</td>\n",
       "      <td>0.835876</td>\n",
       "      <td>0.627559</td>\n",
       "      <td>0.950201</td>\n",
       "      <td>0.755891</td>\n",
       "      <td>micro</td>\n",
       "    </tr>\n",
       "    <tr>\n",
       "      <th>22</th>\n",
       "      <td>blast</td>\n",
       "      <td>6</td>\n",
       "      <td>0.835876</td>\n",
       "      <td>0.435704</td>\n",
       "      <td>0.958454</td>\n",
       "      <td>0.447062</td>\n",
       "      <td>macro</td>\n",
       "    </tr>\n",
       "    <tr>\n",
       "      <th>23</th>\n",
       "      <td>blast</td>\n",
       "      <td>6</td>\n",
       "      <td>0.835876</td>\n",
       "      <td>0.879176</td>\n",
       "      <td>0.947383</td>\n",
       "      <td>0.895169</td>\n",
       "      <td>samples</td>\n",
       "    </tr>\n",
       "    <tr>\n",
       "      <th>24</th>\n",
       "      <td>blast</td>\n",
       "      <td>7</td>\n",
       "      <td>0.832593</td>\n",
       "      <td>0.877173</td>\n",
       "      <td>0.949912</td>\n",
       "      <td>0.894284</td>\n",
       "      <td>weighted</td>\n",
       "    </tr>\n",
       "    <tr>\n",
       "      <th>25</th>\n",
       "      <td>blast</td>\n",
       "      <td>7</td>\n",
       "      <td>0.832593</td>\n",
       "      <td>0.625137</td>\n",
       "      <td>0.949912</td>\n",
       "      <td>0.754040</td>\n",
       "      <td>micro</td>\n",
       "    </tr>\n",
       "    <tr>\n",
       "      <th>26</th>\n",
       "      <td>blast</td>\n",
       "      <td>7</td>\n",
       "      <td>0.832593</td>\n",
       "      <td>0.432458</td>\n",
       "      <td>0.958257</td>\n",
       "      <td>0.443364</td>\n",
       "      <td>macro</td>\n",
       "    </tr>\n",
       "    <tr>\n",
       "      <th>27</th>\n",
       "      <td>blast</td>\n",
       "      <td>7</td>\n",
       "      <td>0.832593</td>\n",
       "      <td>0.877503</td>\n",
       "      <td>0.948086</td>\n",
       "      <td>0.893965</td>\n",
       "      <td>samples</td>\n",
       "    </tr>\n",
       "    <tr>\n",
       "      <th>28</th>\n",
       "      <td>blast</td>\n",
       "      <td>8</td>\n",
       "      <td>0.832671</td>\n",
       "      <td>0.882083</td>\n",
       "      <td>0.950886</td>\n",
       "      <td>0.897809</td>\n",
       "      <td>weighted</td>\n",
       "    </tr>\n",
       "    <tr>\n",
       "      <th>29</th>\n",
       "      <td>blast</td>\n",
       "      <td>8</td>\n",
       "      <td>0.832671</td>\n",
       "      <td>0.633286</td>\n",
       "      <td>0.950886</td>\n",
       "      <td>0.760249</td>\n",
       "      <td>micro</td>\n",
       "    </tr>\n",
       "    <tr>\n",
       "      <th>30</th>\n",
       "      <td>blast</td>\n",
       "      <td>8</td>\n",
       "      <td>0.832671</td>\n",
       "      <td>0.428985</td>\n",
       "      <td>0.962975</td>\n",
       "      <td>0.441407</td>\n",
       "      <td>macro</td>\n",
       "    </tr>\n",
       "    <tr>\n",
       "      <th>31</th>\n",
       "      <td>blast</td>\n",
       "      <td>8</td>\n",
       "      <td>0.832671</td>\n",
       "      <td>0.877899</td>\n",
       "      <td>0.947651</td>\n",
       "      <td>0.894394</td>\n",
       "      <td>samples</td>\n",
       "    </tr>\n",
       "    <tr>\n",
       "      <th>32</th>\n",
       "      <td>blast</td>\n",
       "      <td>9</td>\n",
       "      <td>0.830076</td>\n",
       "      <td>0.877204</td>\n",
       "      <td>0.949523</td>\n",
       "      <td>0.894242</td>\n",
       "      <td>weighted</td>\n",
       "    </tr>\n",
       "    <tr>\n",
       "      <th>33</th>\n",
       "      <td>blast</td>\n",
       "      <td>9</td>\n",
       "      <td>0.830076</td>\n",
       "      <td>0.620466</td>\n",
       "      <td>0.949523</td>\n",
       "      <td>0.750511</td>\n",
       "      <td>micro</td>\n",
       "    </tr>\n",
       "    <tr>\n",
       "      <th>34</th>\n",
       "      <td>blast</td>\n",
       "      <td>9</td>\n",
       "      <td>0.830076</td>\n",
       "      <td>0.417897</td>\n",
       "      <td>0.962542</td>\n",
       "      <td>0.432347</td>\n",
       "      <td>macro</td>\n",
       "    </tr>\n",
       "    <tr>\n",
       "      <th>35</th>\n",
       "      <td>blast</td>\n",
       "      <td>9</td>\n",
       "      <td>0.830076</td>\n",
       "      <td>0.875124</td>\n",
       "      <td>0.946002</td>\n",
       "      <td>0.891735</td>\n",
       "      <td>samples</td>\n",
       "    </tr>\n",
       "    <tr>\n",
       "      <th>36</th>\n",
       "      <td>blast</td>\n",
       "      <td>10</td>\n",
       "      <td>0.831000</td>\n",
       "      <td>0.877067</td>\n",
       "      <td>0.950009</td>\n",
       "      <td>0.894538</td>\n",
       "      <td>weighted</td>\n",
       "    </tr>\n",
       "    <tr>\n",
       "      <th>37</th>\n",
       "      <td>blast</td>\n",
       "      <td>10</td>\n",
       "      <td>0.831000</td>\n",
       "      <td>0.627231</td>\n",
       "      <td>0.950009</td>\n",
       "      <td>0.755592</td>\n",
       "      <td>micro</td>\n",
       "    </tr>\n",
       "    <tr>\n",
       "      <th>38</th>\n",
       "      <td>blast</td>\n",
       "      <td>10</td>\n",
       "      <td>0.831000</td>\n",
       "      <td>0.429817</td>\n",
       "      <td>0.960292</td>\n",
       "      <td>0.444332</td>\n",
       "      <td>macro</td>\n",
       "    </tr>\n",
       "    <tr>\n",
       "      <th>39</th>\n",
       "      <td>blast</td>\n",
       "      <td>10</td>\n",
       "      <td>0.831000</td>\n",
       "      <td>0.876241</td>\n",
       "      <td>0.947124</td>\n",
       "      <td>0.892824</td>\n",
       "      <td>samples</td>\n",
       "    </tr>\n",
       "  </tbody>\n",
       "</table>\n",
       "         </div>\n",
       "         <div  style=\"float:left; width:600px;\" >\n",
       "              <h2 style='color:blue' >Blast-direct Evaluation 10 Fold std and mean Overview</h2>\n",
       "                   <table border=\"1\" class=\"dataframe\">\n",
       "  <thead>\n",
       "    <tr style=\"text-align: right;\">\n",
       "      <th></th>\n",
       "      <th>baselineName</th>\n",
       "      <th>avgType</th>\n",
       "      <th>Metric</th>\n",
       "      <th>mean</th>\n",
       "      <th>std</th>\n",
       "    </tr>\n",
       "  </thead>\n",
       "  <tbody>\n",
       "    <tr>\n",
       "      <th>0</th>\n",
       "      <td>blast</td>\n",
       "      <td>macro</td>\n",
       "      <td>mAccuracy</td>\n",
       "      <td>0.832695</td>\n",
       "      <td>0.001639</td>\n",
       "    </tr>\n",
       "    <tr>\n",
       "      <th>1</th>\n",
       "      <td>blast</td>\n",
       "      <td>macro</td>\n",
       "      <td>mF1</td>\n",
       "      <td>0.439365</td>\n",
       "      <td>0.006131</td>\n",
       "    </tr>\n",
       "    <tr>\n",
       "      <th>2</th>\n",
       "      <td>blast</td>\n",
       "      <td>macro</td>\n",
       "      <td>mPrecision</td>\n",
       "      <td>0.426490</td>\n",
       "      <td>0.006962</td>\n",
       "    </tr>\n",
       "    <tr>\n",
       "      <th>3</th>\n",
       "      <td>blast</td>\n",
       "      <td>macro</td>\n",
       "      <td>mRecall</td>\n",
       "      <td>0.960779</td>\n",
       "      <td>0.002316</td>\n",
       "    </tr>\n",
       "    <tr>\n",
       "      <th>4</th>\n",
       "      <td>blast</td>\n",
       "      <td>micro</td>\n",
       "      <td>mAccuracy</td>\n",
       "      <td>0.832695</td>\n",
       "      <td>0.001639</td>\n",
       "    </tr>\n",
       "    <tr>\n",
       "      <th>5</th>\n",
       "      <td>blast</td>\n",
       "      <td>micro</td>\n",
       "      <td>mF1</td>\n",
       "      <td>0.756429</td>\n",
       "      <td>0.004556</td>\n",
       "    </tr>\n",
       "    <tr>\n",
       "      <th>6</th>\n",
       "      <td>blast</td>\n",
       "      <td>micro</td>\n",
       "      <td>mPrecision</td>\n",
       "      <td>0.628279</td>\n",
       "      <td>0.006150</td>\n",
       "    </tr>\n",
       "    <tr>\n",
       "      <th>7</th>\n",
       "      <td>blast</td>\n",
       "      <td>micro</td>\n",
       "      <td>mRecall</td>\n",
       "      <td>0.950299</td>\n",
       "      <td>0.000708</td>\n",
       "    </tr>\n",
       "    <tr>\n",
       "      <th>8</th>\n",
       "      <td>blast</td>\n",
       "      <td>samples</td>\n",
       "      <td>mAccuracy</td>\n",
       "      <td>0.832695</td>\n",
       "      <td>0.001639</td>\n",
       "    </tr>\n",
       "    <tr>\n",
       "      <th>9</th>\n",
       "      <td>blast</td>\n",
       "      <td>samples</td>\n",
       "      <td>mF1</td>\n",
       "      <td>0.894027</td>\n",
       "      <td>0.001242</td>\n",
       "    </tr>\n",
       "    <tr>\n",
       "      <th>10</th>\n",
       "      <td>blast</td>\n",
       "      <td>samples</td>\n",
       "      <td>mPrecision</td>\n",
       "      <td>0.877594</td>\n",
       "      <td>0.001352</td>\n",
       "    </tr>\n",
       "    <tr>\n",
       "      <th>11</th>\n",
       "      <td>blast</td>\n",
       "      <td>samples</td>\n",
       "      <td>mRecall</td>\n",
       "      <td>0.947472</td>\n",
       "      <td>0.000946</td>\n",
       "    </tr>\n",
       "    <tr>\n",
       "      <th>12</th>\n",
       "      <td>blast</td>\n",
       "      <td>weighted</td>\n",
       "      <td>mAccuracy</td>\n",
       "      <td>0.832695</td>\n",
       "      <td>0.001639</td>\n",
       "    </tr>\n",
       "    <tr>\n",
       "      <th>13</th>\n",
       "      <td>blast</td>\n",
       "      <td>weighted</td>\n",
       "      <td>mF1</td>\n",
       "      <td>0.895571</td>\n",
       "      <td>0.001747</td>\n",
       "    </tr>\n",
       "    <tr>\n",
       "      <th>14</th>\n",
       "      <td>blast</td>\n",
       "      <td>weighted</td>\n",
       "      <td>mPrecision</td>\n",
       "      <td>0.878817</td>\n",
       "      <td>0.002254</td>\n",
       "    </tr>\n",
       "    <tr>\n",
       "      <th>15</th>\n",
       "      <td>blast</td>\n",
       "      <td>weighted</td>\n",
       "      <td>mRecall</td>\n",
       "      <td>0.950299</td>\n",
       "      <td>0.000708</td>\n",
       "    </tr>\n",
       "  </tbody>\n",
       "</table>\n",
       "         </div>\n",
       "         \n",
       "         <div style=\"float:left; width:600px;\">\n",
       "         <h2 style='color:blue' >Blast-direct Evaluation 10 Fold No Prediction Overview</h2>\n",
       "              <table border=\"1\" class=\"dataframe\">\n",
       "  <thead>\n",
       "    <tr style=\"text-align: right;\">\n",
       "      <th></th>\n",
       "      <th>run_fold</th>\n",
       "      <th>test_size</th>\n",
       "      <th>no_prediction_count</th>\n",
       "    </tr>\n",
       "  </thead>\n",
       "  <tbody>\n",
       "    <tr>\n",
       "      <th>0</th>\n",
       "      <td>1</td>\n",
       "      <td>50858</td>\n",
       "      <td>2424</td>\n",
       "    </tr>\n",
       "    <tr>\n",
       "      <th>1</th>\n",
       "      <td>2</td>\n",
       "      <td>50858</td>\n",
       "      <td>2386</td>\n",
       "    </tr>\n",
       "    <tr>\n",
       "      <th>2</th>\n",
       "      <td>3</td>\n",
       "      <td>50858</td>\n",
       "      <td>2379</td>\n",
       "    </tr>\n",
       "    <tr>\n",
       "      <th>3</th>\n",
       "      <td>4</td>\n",
       "      <td>50858</td>\n",
       "      <td>2301</td>\n",
       "    </tr>\n",
       "    <tr>\n",
       "      <th>4</th>\n",
       "      <td>5</td>\n",
       "      <td>50858</td>\n",
       "      <td>2418</td>\n",
       "    </tr>\n",
       "    <tr>\n",
       "      <th>5</th>\n",
       "      <td>6</td>\n",
       "      <td>50858</td>\n",
       "      <td>2391</td>\n",
       "    </tr>\n",
       "    <tr>\n",
       "      <th>6</th>\n",
       "      <td>7</td>\n",
       "      <td>50858</td>\n",
       "      <td>2369</td>\n",
       "    </tr>\n",
       "    <tr>\n",
       "      <th>7</th>\n",
       "      <td>8</td>\n",
       "      <td>50858</td>\n",
       "      <td>2381</td>\n",
       "    </tr>\n",
       "    <tr>\n",
       "      <th>8</th>\n",
       "      <td>9</td>\n",
       "      <td>50858</td>\n",
       "      <td>2449</td>\n",
       "    </tr>\n",
       "    <tr>\n",
       "      <th>9</th>\n",
       "      <td>10</td>\n",
       "      <td>50858</td>\n",
       "      <td>2431</td>\n",
       "    </tr>\n",
       "  </tbody>\n",
       "</table>\n",
       "         </div>\n",
       "         "
      ],
      "text/plain": [
       "<IPython.core.display.HTML object>"
      ]
     },
     "execution_count": 3,
     "metadata": {},
     "output_type": "execute_result"
    }
   ],
   "source": [
    "std_blast, metrics_blast, ec_no_rxn_blast  = evTools.get_eval_results(baselineName='blast', dict_rxn2id=dict_rxn2id, method_type='direct')\n",
    "evTools.display_html_results(metrics = metrics_blast, std_mean = std_blast, no_pred=ec_no_rxn_blast, eva_name ='Blast-direct')"
   ]
  },
  {
   "cell_type": "markdown",
   "id": "8fcb7ebf",
   "metadata": {},
   "source": [
    "### 4.2 Unirep"
   ]
  },
  {
   "cell_type": "code",
   "execution_count": 4,
   "id": "f6002023",
   "metadata": {},
   "outputs": [
    {
     "name": "stdout",
     "output_type": "stream",
     "text": [
      "Getting evaluation results for unirep_euclidean ...\n",
      "Calculating mean and std ...\n"
     ]
    },
    {
     "data": {
      "text/html": [
       "\n",
       "         <div style=\"float:left; width:700px;\">\n",
       "              <h2 style='color:blue'>Unirep Euclidean Evaluation 10 Fold Details</h2>\n",
       "              <table border=\"1\" class=\"dataframe\">\n",
       "  <thead>\n",
       "    <tr style=\"text-align: right;\">\n",
       "      <th></th>\n",
       "      <th>baselineName</th>\n",
       "      <th>runFold</th>\n",
       "      <th>mAccuracy</th>\n",
       "      <th>mPrecision</th>\n",
       "      <th>mRecall</th>\n",
       "      <th>mF1</th>\n",
       "      <th>avgType</th>\n",
       "    </tr>\n",
       "  </thead>\n",
       "  <tbody>\n",
       "    <tr>\n",
       "      <th>0</th>\n",
       "      <td>unirep_euclidean</td>\n",
       "      <td>1</td>\n",
       "      <td>0.889575</td>\n",
       "      <td>0.892769</td>\n",
       "      <td>0.963311</td>\n",
       "      <td>0.915861</td>\n",
       "      <td>weighted</td>\n",
       "    </tr>\n",
       "    <tr>\n",
       "      <th>1</th>\n",
       "      <td>unirep_euclidean</td>\n",
       "      <td>1</td>\n",
       "      <td>0.889575</td>\n",
       "      <td>0.825235</td>\n",
       "      <td>0.963311</td>\n",
       "      <td>0.888943</td>\n",
       "      <td>micro</td>\n",
       "    </tr>\n",
       "    <tr>\n",
       "      <th>2</th>\n",
       "      <td>unirep_euclidean</td>\n",
       "      <td>1</td>\n",
       "      <td>0.889575</td>\n",
       "      <td>0.729777</td>\n",
       "      <td>0.926269</td>\n",
       "      <td>0.704546</td>\n",
       "      <td>macro</td>\n",
       "    </tr>\n",
       "    <tr>\n",
       "      <th>3</th>\n",
       "      <td>unirep_euclidean</td>\n",
       "      <td>1</td>\n",
       "      <td>0.889575</td>\n",
       "      <td>0.925941</td>\n",
       "      <td>0.969456</td>\n",
       "      <td>0.938116</td>\n",
       "      <td>samples</td>\n",
       "    </tr>\n",
       "    <tr>\n",
       "      <th>4</th>\n",
       "      <td>unirep_euclidean</td>\n",
       "      <td>2</td>\n",
       "      <td>0.889595</td>\n",
       "      <td>0.892241</td>\n",
       "      <td>0.960985</td>\n",
       "      <td>0.913871</td>\n",
       "      <td>weighted</td>\n",
       "    </tr>\n",
       "    <tr>\n",
       "      <th>5</th>\n",
       "      <td>unirep_euclidean</td>\n",
       "      <td>2</td>\n",
       "      <td>0.889595</td>\n",
       "      <td>0.825177</td>\n",
       "      <td>0.960985</td>\n",
       "      <td>0.887918</td>\n",
       "      <td>micro</td>\n",
       "    </tr>\n",
       "    <tr>\n",
       "      <th>6</th>\n",
       "      <td>unirep_euclidean</td>\n",
       "      <td>2</td>\n",
       "      <td>0.889595</td>\n",
       "      <td>0.736967</td>\n",
       "      <td>0.913366</td>\n",
       "      <td>0.704360</td>\n",
       "      <td>macro</td>\n",
       "    </tr>\n",
       "    <tr>\n",
       "      <th>7</th>\n",
       "      <td>unirep_euclidean</td>\n",
       "      <td>2</td>\n",
       "      <td>0.889595</td>\n",
       "      <td>0.926429</td>\n",
       "      <td>0.969719</td>\n",
       "      <td>0.938520</td>\n",
       "      <td>samples</td>\n",
       "    </tr>\n",
       "    <tr>\n",
       "      <th>8</th>\n",
       "      <td>unirep_euclidean</td>\n",
       "      <td>3</td>\n",
       "      <td>0.888946</td>\n",
       "      <td>0.889750</td>\n",
       "      <td>0.961411</td>\n",
       "      <td>0.913392</td>\n",
       "      <td>weighted</td>\n",
       "    </tr>\n",
       "    <tr>\n",
       "      <th>9</th>\n",
       "      <td>unirep_euclidean</td>\n",
       "      <td>3</td>\n",
       "      <td>0.888946</td>\n",
       "      <td>0.823032</td>\n",
       "      <td>0.961411</td>\n",
       "      <td>0.886856</td>\n",
       "      <td>micro</td>\n",
       "    </tr>\n",
       "    <tr>\n",
       "      <th>10</th>\n",
       "      <td>unirep_euclidean</td>\n",
       "      <td>3</td>\n",
       "      <td>0.888946</td>\n",
       "      <td>0.725881</td>\n",
       "      <td>0.921175</td>\n",
       "      <td>0.702934</td>\n",
       "      <td>macro</td>\n",
       "    </tr>\n",
       "    <tr>\n",
       "      <th>11</th>\n",
       "      <td>unirep_euclidean</td>\n",
       "      <td>3</td>\n",
       "      <td>0.888946</td>\n",
       "      <td>0.925535</td>\n",
       "      <td>0.968948</td>\n",
       "      <td>0.937654</td>\n",
       "      <td>samples</td>\n",
       "    </tr>\n",
       "    <tr>\n",
       "      <th>12</th>\n",
       "      <td>unirep_euclidean</td>\n",
       "      <td>4</td>\n",
       "      <td>0.891345</td>\n",
       "      <td>0.894308</td>\n",
       "      <td>0.960680</td>\n",
       "      <td>0.915687</td>\n",
       "      <td>weighted</td>\n",
       "    </tr>\n",
       "    <tr>\n",
       "      <th>13</th>\n",
       "      <td>unirep_euclidean</td>\n",
       "      <td>4</td>\n",
       "      <td>0.891345</td>\n",
       "      <td>0.827027</td>\n",
       "      <td>0.960680</td>\n",
       "      <td>0.888857</td>\n",
       "      <td>micro</td>\n",
       "    </tr>\n",
       "    <tr>\n",
       "      <th>14</th>\n",
       "      <td>unirep_euclidean</td>\n",
       "      <td>4</td>\n",
       "      <td>0.891345</td>\n",
       "      <td>0.713145</td>\n",
       "      <td>0.912609</td>\n",
       "      <td>0.684979</td>\n",
       "      <td>macro</td>\n",
       "    </tr>\n",
       "    <tr>\n",
       "      <th>15</th>\n",
       "      <td>unirep_euclidean</td>\n",
       "      <td>4</td>\n",
       "      <td>0.891345</td>\n",
       "      <td>0.927078</td>\n",
       "      <td>0.969929</td>\n",
       "      <td>0.939070</td>\n",
       "      <td>samples</td>\n",
       "    </tr>\n",
       "    <tr>\n",
       "      <th>16</th>\n",
       "      <td>unirep_euclidean</td>\n",
       "      <td>5</td>\n",
       "      <td>0.887687</td>\n",
       "      <td>0.893174</td>\n",
       "      <td>0.960435</td>\n",
       "      <td>0.914768</td>\n",
       "      <td>weighted</td>\n",
       "    </tr>\n",
       "    <tr>\n",
       "      <th>17</th>\n",
       "      <td>unirep_euclidean</td>\n",
       "      <td>5</td>\n",
       "      <td>0.887687</td>\n",
       "      <td>0.828584</td>\n",
       "      <td>0.960435</td>\n",
       "      <td>0.889651</td>\n",
       "      <td>micro</td>\n",
       "    </tr>\n",
       "    <tr>\n",
       "      <th>18</th>\n",
       "      <td>unirep_euclidean</td>\n",
       "      <td>5</td>\n",
       "      <td>0.887687</td>\n",
       "      <td>0.743735</td>\n",
       "      <td>0.914438</td>\n",
       "      <td>0.711372</td>\n",
       "      <td>macro</td>\n",
       "    </tr>\n",
       "    <tr>\n",
       "      <th>19</th>\n",
       "      <td>unirep_euclidean</td>\n",
       "      <td>5</td>\n",
       "      <td>0.887687</td>\n",
       "      <td>0.925190</td>\n",
       "      <td>0.968644</td>\n",
       "      <td>0.937337</td>\n",
       "      <td>samples</td>\n",
       "    </tr>\n",
       "    <tr>\n",
       "      <th>20</th>\n",
       "      <td>unirep_euclidean</td>\n",
       "      <td>6</td>\n",
       "      <td>0.889437</td>\n",
       "      <td>0.891764</td>\n",
       "      <td>0.962008</td>\n",
       "      <td>0.914212</td>\n",
       "      <td>weighted</td>\n",
       "    </tr>\n",
       "    <tr>\n",
       "      <th>21</th>\n",
       "      <td>unirep_euclidean</td>\n",
       "      <td>6</td>\n",
       "      <td>0.889437</td>\n",
       "      <td>0.824744</td>\n",
       "      <td>0.962008</td>\n",
       "      <td>0.888103</td>\n",
       "      <td>micro</td>\n",
       "    </tr>\n",
       "    <tr>\n",
       "      <th>22</th>\n",
       "      <td>unirep_euclidean</td>\n",
       "      <td>6</td>\n",
       "      <td>0.889437</td>\n",
       "      <td>0.739411</td>\n",
       "      <td>0.921544</td>\n",
       "      <td>0.710470</td>\n",
       "      <td>macro</td>\n",
       "    </tr>\n",
       "    <tr>\n",
       "      <th>23</th>\n",
       "      <td>unirep_euclidean</td>\n",
       "      <td>6</td>\n",
       "      <td>0.889437</td>\n",
       "      <td>0.925191</td>\n",
       "      <td>0.968510</td>\n",
       "      <td>0.937287</td>\n",
       "      <td>samples</td>\n",
       "    </tr>\n",
       "    <tr>\n",
       "      <th>24</th>\n",
       "      <td>unirep_euclidean</td>\n",
       "      <td>7</td>\n",
       "      <td>0.891325</td>\n",
       "      <td>0.893932</td>\n",
       "      <td>0.961476</td>\n",
       "      <td>0.915100</td>\n",
       "      <td>weighted</td>\n",
       "    </tr>\n",
       "    <tr>\n",
       "      <th>25</th>\n",
       "      <td>unirep_euclidean</td>\n",
       "      <td>7</td>\n",
       "      <td>0.891325</td>\n",
       "      <td>0.829704</td>\n",
       "      <td>0.961476</td>\n",
       "      <td>0.890743</td>\n",
       "      <td>micro</td>\n",
       "    </tr>\n",
       "    <tr>\n",
       "      <th>26</th>\n",
       "      <td>unirep_euclidean</td>\n",
       "      <td>7</td>\n",
       "      <td>0.891325</td>\n",
       "      <td>0.746390</td>\n",
       "      <td>0.916544</td>\n",
       "      <td>0.715091</td>\n",
       "      <td>macro</td>\n",
       "    </tr>\n",
       "    <tr>\n",
       "      <th>27</th>\n",
       "      <td>unirep_euclidean</td>\n",
       "      <td>7</td>\n",
       "      <td>0.891325</td>\n",
       "      <td>0.927564</td>\n",
       "      <td>0.969875</td>\n",
       "      <td>0.939489</td>\n",
       "      <td>samples</td>\n",
       "    </tr>\n",
       "    <tr>\n",
       "      <th>28</th>\n",
       "      <td>unirep_euclidean</td>\n",
       "      <td>8</td>\n",
       "      <td>0.891895</td>\n",
       "      <td>0.894992</td>\n",
       "      <td>0.963322</td>\n",
       "      <td>0.917196</td>\n",
       "      <td>weighted</td>\n",
       "    </tr>\n",
       "    <tr>\n",
       "      <th>29</th>\n",
       "      <td>unirep_euclidean</td>\n",
       "      <td>8</td>\n",
       "      <td>0.891895</td>\n",
       "      <td>0.831172</td>\n",
       "      <td>0.963322</td>\n",
       "      <td>0.892381</td>\n",
       "      <td>micro</td>\n",
       "    </tr>\n",
       "    <tr>\n",
       "      <th>30</th>\n",
       "      <td>unirep_euclidean</td>\n",
       "      <td>8</td>\n",
       "      <td>0.891895</td>\n",
       "      <td>0.737364</td>\n",
       "      <td>0.921775</td>\n",
       "      <td>0.712910</td>\n",
       "      <td>macro</td>\n",
       "    </tr>\n",
       "    <tr>\n",
       "      <th>31</th>\n",
       "      <td>unirep_euclidean</td>\n",
       "      <td>8</td>\n",
       "      <td>0.891895</td>\n",
       "      <td>0.927965</td>\n",
       "      <td>0.969917</td>\n",
       "      <td>0.939779</td>\n",
       "      <td>samples</td>\n",
       "    </tr>\n",
       "    <tr>\n",
       "      <th>32</th>\n",
       "      <td>unirep_euclidean</td>\n",
       "      <td>9</td>\n",
       "      <td>0.887353</td>\n",
       "      <td>0.890655</td>\n",
       "      <td>0.962801</td>\n",
       "      <td>0.914369</td>\n",
       "      <td>weighted</td>\n",
       "    </tr>\n",
       "    <tr>\n",
       "      <th>33</th>\n",
       "      <td>unirep_euclidean</td>\n",
       "      <td>9</td>\n",
       "      <td>0.887353</td>\n",
       "      <td>0.818301</td>\n",
       "      <td>0.962801</td>\n",
       "      <td>0.884689</td>\n",
       "      <td>micro</td>\n",
       "    </tr>\n",
       "    <tr>\n",
       "      <th>34</th>\n",
       "      <td>unirep_euclidean</td>\n",
       "      <td>9</td>\n",
       "      <td>0.887353</td>\n",
       "      <td>0.716316</td>\n",
       "      <td>0.926176</td>\n",
       "      <td>0.693928</td>\n",
       "      <td>macro</td>\n",
       "    </tr>\n",
       "    <tr>\n",
       "      <th>35</th>\n",
       "      <td>unirep_euclidean</td>\n",
       "      <td>9</td>\n",
       "      <td>0.887353</td>\n",
       "      <td>0.924535</td>\n",
       "      <td>0.968491</td>\n",
       "      <td>0.936850</td>\n",
       "      <td>samples</td>\n",
       "    </tr>\n",
       "    <tr>\n",
       "      <th>36</th>\n",
       "      <td>unirep_euclidean</td>\n",
       "      <td>10</td>\n",
       "      <td>0.889850</td>\n",
       "      <td>0.893834</td>\n",
       "      <td>0.961377</td>\n",
       "      <td>0.915201</td>\n",
       "      <td>weighted</td>\n",
       "    </tr>\n",
       "    <tr>\n",
       "      <th>37</th>\n",
       "      <td>unirep_euclidean</td>\n",
       "      <td>10</td>\n",
       "      <td>0.889850</td>\n",
       "      <td>0.826529</td>\n",
       "      <td>0.961377</td>\n",
       "      <td>0.888868</td>\n",
       "      <td>micro</td>\n",
       "    </tr>\n",
       "    <tr>\n",
       "      <th>38</th>\n",
       "      <td>unirep_euclidean</td>\n",
       "      <td>10</td>\n",
       "      <td>0.889850</td>\n",
       "      <td>0.727120</td>\n",
       "      <td>0.915492</td>\n",
       "      <td>0.696589</td>\n",
       "      <td>macro</td>\n",
       "    </tr>\n",
       "    <tr>\n",
       "      <th>39</th>\n",
       "      <td>unirep_euclidean</td>\n",
       "      <td>10</td>\n",
       "      <td>0.889850</td>\n",
       "      <td>0.926218</td>\n",
       "      <td>0.969215</td>\n",
       "      <td>0.938307</td>\n",
       "      <td>samples</td>\n",
       "    </tr>\n",
       "  </tbody>\n",
       "</table>\n",
       "         </div>\n",
       "         <div  style=\"float:left; width:600px;\" >\n",
       "              <h2 style='color:blue' >Unirep Euclidean Evaluation 10 Fold std and mean Overview</h2>\n",
       "                   <table border=\"1\" class=\"dataframe\">\n",
       "  <thead>\n",
       "    <tr style=\"text-align: right;\">\n",
       "      <th></th>\n",
       "      <th>baselineName</th>\n",
       "      <th>avgType</th>\n",
       "      <th>Metric</th>\n",
       "      <th>mean</th>\n",
       "      <th>std</th>\n",
       "    </tr>\n",
       "  </thead>\n",
       "  <tbody>\n",
       "    <tr>\n",
       "      <th>0</th>\n",
       "      <td>unirep_euclidean</td>\n",
       "      <td>macro</td>\n",
       "      <td>mAccuracy</td>\n",
       "      <td>0.889701</td>\n",
       "      <td>0.001506</td>\n",
       "    </tr>\n",
       "    <tr>\n",
       "      <th>1</th>\n",
       "      <td>unirep_euclidean</td>\n",
       "      <td>macro</td>\n",
       "      <td>mF1</td>\n",
       "      <td>0.703718</td>\n",
       "      <td>0.009531</td>\n",
       "    </tr>\n",
       "    <tr>\n",
       "      <th>2</th>\n",
       "      <td>unirep_euclidean</td>\n",
       "      <td>macro</td>\n",
       "      <td>mPrecision</td>\n",
       "      <td>0.731610</td>\n",
       "      <td>0.011152</td>\n",
       "    </tr>\n",
       "    <tr>\n",
       "      <th>3</th>\n",
       "      <td>unirep_euclidean</td>\n",
       "      <td>macro</td>\n",
       "      <td>mRecall</td>\n",
       "      <td>0.918939</td>\n",
       "      <td>0.005109</td>\n",
       "    </tr>\n",
       "    <tr>\n",
       "      <th>4</th>\n",
       "      <td>unirep_euclidean</td>\n",
       "      <td>micro</td>\n",
       "      <td>mAccuracy</td>\n",
       "      <td>0.889701</td>\n",
       "      <td>0.001506</td>\n",
       "    </tr>\n",
       "    <tr>\n",
       "      <th>5</th>\n",
       "      <td>unirep_euclidean</td>\n",
       "      <td>micro</td>\n",
       "      <td>mF1</td>\n",
       "      <td>0.888701</td>\n",
       "      <td>0.002087</td>\n",
       "    </tr>\n",
       "    <tr>\n",
       "      <th>6</th>\n",
       "      <td>unirep_euclidean</td>\n",
       "      <td>micro</td>\n",
       "      <td>mPrecision</td>\n",
       "      <td>0.825950</td>\n",
       "      <td>0.003642</td>\n",
       "    </tr>\n",
       "    <tr>\n",
       "      <th>7</th>\n",
       "      <td>unirep_euclidean</td>\n",
       "      <td>micro</td>\n",
       "      <td>mRecall</td>\n",
       "      <td>0.961781</td>\n",
       "      <td>0.001047</td>\n",
       "    </tr>\n",
       "    <tr>\n",
       "      <th>8</th>\n",
       "      <td>unirep_euclidean</td>\n",
       "      <td>samples</td>\n",
       "      <td>mAccuracy</td>\n",
       "      <td>0.889701</td>\n",
       "      <td>0.001506</td>\n",
       "    </tr>\n",
       "    <tr>\n",
       "      <th>9</th>\n",
       "      <td>unirep_euclidean</td>\n",
       "      <td>samples</td>\n",
       "      <td>mF1</td>\n",
       "      <td>0.938241</td>\n",
       "      <td>0.000984</td>\n",
       "    </tr>\n",
       "    <tr>\n",
       "      <th>10</th>\n",
       "      <td>unirep_euclidean</td>\n",
       "      <td>samples</td>\n",
       "      <td>mPrecision</td>\n",
       "      <td>0.926165</td>\n",
       "      <td>0.001111</td>\n",
       "    </tr>\n",
       "    <tr>\n",
       "      <th>11</th>\n",
       "      <td>unirep_euclidean</td>\n",
       "      <td>samples</td>\n",
       "      <td>mRecall</td>\n",
       "      <td>0.969270</td>\n",
       "      <td>0.000591</td>\n",
       "    </tr>\n",
       "    <tr>\n",
       "      <th>12</th>\n",
       "      <td>unirep_euclidean</td>\n",
       "      <td>weighted</td>\n",
       "      <td>mAccuracy</td>\n",
       "      <td>0.889701</td>\n",
       "      <td>0.001506</td>\n",
       "    </tr>\n",
       "    <tr>\n",
       "      <th>13</th>\n",
       "      <td>unirep_euclidean</td>\n",
       "      <td>weighted</td>\n",
       "      <td>mF1</td>\n",
       "      <td>0.914966</td>\n",
       "      <td>0.001106</td>\n",
       "    </tr>\n",
       "    <tr>\n",
       "      <th>14</th>\n",
       "      <td>unirep_euclidean</td>\n",
       "      <td>weighted</td>\n",
       "      <td>mPrecision</td>\n",
       "      <td>0.892742</td>\n",
       "      <td>0.001661</td>\n",
       "    </tr>\n",
       "    <tr>\n",
       "      <th>15</th>\n",
       "      <td>unirep_euclidean</td>\n",
       "      <td>weighted</td>\n",
       "      <td>mRecall</td>\n",
       "      <td>0.961781</td>\n",
       "      <td>0.001047</td>\n",
       "    </tr>\n",
       "  </tbody>\n",
       "</table>\n",
       "         </div>\n",
       "         \n",
       "         <div style=\"float:left; width:600px;\">\n",
       "         <h2 style='color:blue' >Unirep Euclidean Evaluation 10 Fold No Prediction Overview</h2>\n",
       "              \n",
       "         </div>\n",
       "         "
      ],
      "text/plain": [
       "<IPython.core.display.HTML object>"
      ]
     },
     "execution_count": 4,
     "metadata": {},
     "output_type": "execute_result"
    }
   ],
   "source": [
    "std_unirep_euclidean, metrics_unirep_euclidean, ec_no_rxn_unirep_euclidean  = evTools.get_eval_results(baselineName='unirep_euclidean', dict_rxn2id=dict_rxn2id, method_type='direct')\n",
    "evTools.display_html_results(metrics = metrics_unirep_euclidean, std_mean = std_unirep_euclidean, no_pred=ec_no_rxn_unirep_euclidean, eva_name ='Unirep Euclidean')"
   ]
  },
  {
   "cell_type": "code",
   "execution_count": 5,
   "id": "71ed14c5",
   "metadata": {},
   "outputs": [
    {
     "name": "stdout",
     "output_type": "stream",
     "text": [
      "Getting evaluation results for unirep_cosine ...\n",
      "Calculating mean and std ...\n"
     ]
    },
    {
     "data": {
      "text/html": [
       "\n",
       "         <div style=\"float:left; width:700px;\">\n",
       "              <h2 style='color:blue'>Unirep Cosine Evaluation 10 Fold Details</h2>\n",
       "              <table border=\"1\" class=\"dataframe\">\n",
       "  <thead>\n",
       "    <tr style=\"text-align: right;\">\n",
       "      <th></th>\n",
       "      <th>baselineName</th>\n",
       "      <th>runFold</th>\n",
       "      <th>mAccuracy</th>\n",
       "      <th>mPrecision</th>\n",
       "      <th>mRecall</th>\n",
       "      <th>mF1</th>\n",
       "      <th>avgType</th>\n",
       "    </tr>\n",
       "  </thead>\n",
       "  <tbody>\n",
       "    <tr>\n",
       "      <th>0</th>\n",
       "      <td>unirep_cosine</td>\n",
       "      <td>1</td>\n",
       "      <td>0.890656</td>\n",
       "      <td>0.893930</td>\n",
       "      <td>0.964254</td>\n",
       "      <td>0.916958</td>\n",
       "      <td>weighted</td>\n",
       "    </tr>\n",
       "    <tr>\n",
       "      <th>1</th>\n",
       "      <td>unirep_cosine</td>\n",
       "      <td>1</td>\n",
       "      <td>0.890656</td>\n",
       "      <td>0.826613</td>\n",
       "      <td>0.964254</td>\n",
       "      <td>0.890144</td>\n",
       "      <td>micro</td>\n",
       "    </tr>\n",
       "    <tr>\n",
       "      <th>2</th>\n",
       "      <td>unirep_cosine</td>\n",
       "      <td>1</td>\n",
       "      <td>0.890656</td>\n",
       "      <td>0.732471</td>\n",
       "      <td>0.927823</td>\n",
       "      <td>0.706907</td>\n",
       "      <td>macro</td>\n",
       "    </tr>\n",
       "    <tr>\n",
       "      <th>3</th>\n",
       "      <td>unirep_cosine</td>\n",
       "      <td>1</td>\n",
       "      <td>0.890656</td>\n",
       "      <td>0.926858</td>\n",
       "      <td>0.970005</td>\n",
       "      <td>0.938906</td>\n",
       "      <td>samples</td>\n",
       "    </tr>\n",
       "    <tr>\n",
       "      <th>4</th>\n",
       "      <td>unirep_cosine</td>\n",
       "      <td>2</td>\n",
       "      <td>0.890578</td>\n",
       "      <td>0.894111</td>\n",
       "      <td>0.961342</td>\n",
       "      <td>0.914934</td>\n",
       "      <td>weighted</td>\n",
       "    </tr>\n",
       "    <tr>\n",
       "      <th>5</th>\n",
       "      <td>unirep_cosine</td>\n",
       "      <td>2</td>\n",
       "      <td>0.890578</td>\n",
       "      <td>0.825507</td>\n",
       "      <td>0.961342</td>\n",
       "      <td>0.888261</td>\n",
       "      <td>micro</td>\n",
       "    </tr>\n",
       "    <tr>\n",
       "      <th>6</th>\n",
       "      <td>unirep_cosine</td>\n",
       "      <td>2</td>\n",
       "      <td>0.890578</td>\n",
       "      <td>0.733132</td>\n",
       "      <td>0.913889</td>\n",
       "      <td>0.699769</td>\n",
       "      <td>macro</td>\n",
       "    </tr>\n",
       "    <tr>\n",
       "      <th>7</th>\n",
       "      <td>unirep_cosine</td>\n",
       "      <td>2</td>\n",
       "      <td>0.890578</td>\n",
       "      <td>0.927055</td>\n",
       "      <td>0.970037</td>\n",
       "      <td>0.939039</td>\n",
       "      <td>samples</td>\n",
       "    </tr>\n",
       "    <tr>\n",
       "      <th>8</th>\n",
       "      <td>unirep_cosine</td>\n",
       "      <td>3</td>\n",
       "      <td>0.890696</td>\n",
       "      <td>0.890728</td>\n",
       "      <td>0.961991</td>\n",
       "      <td>0.914388</td>\n",
       "      <td>weighted</td>\n",
       "    </tr>\n",
       "    <tr>\n",
       "      <th>9</th>\n",
       "      <td>unirep_cosine</td>\n",
       "      <td>3</td>\n",
       "      <td>0.890696</td>\n",
       "      <td>0.823444</td>\n",
       "      <td>0.961991</td>\n",
       "      <td>0.887342</td>\n",
       "      <td>micro</td>\n",
       "    </tr>\n",
       "    <tr>\n",
       "      <th>10</th>\n",
       "      <td>unirep_cosine</td>\n",
       "      <td>3</td>\n",
       "      <td>0.890696</td>\n",
       "      <td>0.717060</td>\n",
       "      <td>0.921770</td>\n",
       "      <td>0.694908</td>\n",
       "      <td>macro</td>\n",
       "    </tr>\n",
       "    <tr>\n",
       "      <th>11</th>\n",
       "      <td>unirep_cosine</td>\n",
       "      <td>3</td>\n",
       "      <td>0.890696</td>\n",
       "      <td>0.926601</td>\n",
       "      <td>0.969663</td>\n",
       "      <td>0.938590</td>\n",
       "      <td>samples</td>\n",
       "    </tr>\n",
       "    <tr>\n",
       "      <th>12</th>\n",
       "      <td>unirep_cosine</td>\n",
       "      <td>4</td>\n",
       "      <td>0.892249</td>\n",
       "      <td>0.895324</td>\n",
       "      <td>0.961105</td>\n",
       "      <td>0.916438</td>\n",
       "      <td>weighted</td>\n",
       "    </tr>\n",
       "    <tr>\n",
       "      <th>13</th>\n",
       "      <td>unirep_cosine</td>\n",
       "      <td>4</td>\n",
       "      <td>0.892249</td>\n",
       "      <td>0.828389</td>\n",
       "      <td>0.961105</td>\n",
       "      <td>0.889826</td>\n",
       "      <td>micro</td>\n",
       "    </tr>\n",
       "    <tr>\n",
       "      <th>14</th>\n",
       "      <td>unirep_cosine</td>\n",
       "      <td>4</td>\n",
       "      <td>0.892249</td>\n",
       "      <td>0.718624</td>\n",
       "      <td>0.913054</td>\n",
       "      <td>0.690237</td>\n",
       "      <td>macro</td>\n",
       "    </tr>\n",
       "    <tr>\n",
       "      <th>15</th>\n",
       "      <td>unirep_cosine</td>\n",
       "      <td>4</td>\n",
       "      <td>0.892249</td>\n",
       "      <td>0.927554</td>\n",
       "      <td>0.970051</td>\n",
       "      <td>0.939476</td>\n",
       "      <td>samples</td>\n",
       "    </tr>\n",
       "    <tr>\n",
       "      <th>16</th>\n",
       "      <td>unirep_cosine</td>\n",
       "      <td>5</td>\n",
       "      <td>0.888356</td>\n",
       "      <td>0.894634</td>\n",
       "      <td>0.961083</td>\n",
       "      <td>0.915965</td>\n",
       "      <td>weighted</td>\n",
       "    </tr>\n",
       "    <tr>\n",
       "      <th>17</th>\n",
       "      <td>unirep_cosine</td>\n",
       "      <td>5</td>\n",
       "      <td>0.888356</td>\n",
       "      <td>0.831234</td>\n",
       "      <td>0.961083</td>\n",
       "      <td>0.891455</td>\n",
       "      <td>micro</td>\n",
       "    </tr>\n",
       "    <tr>\n",
       "      <th>18</th>\n",
       "      <td>unirep_cosine</td>\n",
       "      <td>5</td>\n",
       "      <td>0.888356</td>\n",
       "      <td>0.747982</td>\n",
       "      <td>0.915409</td>\n",
       "      <td>0.716025</td>\n",
       "      <td>macro</td>\n",
       "    </tr>\n",
       "    <tr>\n",
       "      <th>19</th>\n",
       "      <td>unirep_cosine</td>\n",
       "      <td>5</td>\n",
       "      <td>0.888356</td>\n",
       "      <td>0.925827</td>\n",
       "      <td>0.969061</td>\n",
       "      <td>0.937938</td>\n",
       "      <td>samples</td>\n",
       "    </tr>\n",
       "    <tr>\n",
       "      <th>20</th>\n",
       "      <td>unirep_cosine</td>\n",
       "      <td>6</td>\n",
       "      <td>0.890578</td>\n",
       "      <td>0.894673</td>\n",
       "      <td>0.962042</td>\n",
       "      <td>0.916023</td>\n",
       "      <td>weighted</td>\n",
       "    </tr>\n",
       "    <tr>\n",
       "      <th>21</th>\n",
       "      <td>unirep_cosine</td>\n",
       "      <td>6</td>\n",
       "      <td>0.890578</td>\n",
       "      <td>0.828718</td>\n",
       "      <td>0.962042</td>\n",
       "      <td>0.890417</td>\n",
       "      <td>micro</td>\n",
       "    </tr>\n",
       "    <tr>\n",
       "      <th>22</th>\n",
       "      <td>unirep_cosine</td>\n",
       "      <td>6</td>\n",
       "      <td>0.890578</td>\n",
       "      <td>0.743762</td>\n",
       "      <td>0.921214</td>\n",
       "      <td>0.713536</td>\n",
       "      <td>macro</td>\n",
       "    </tr>\n",
       "    <tr>\n",
       "      <th>23</th>\n",
       "      <td>unirep_cosine</td>\n",
       "      <td>6</td>\n",
       "      <td>0.890578</td>\n",
       "      <td>0.926064</td>\n",
       "      <td>0.968508</td>\n",
       "      <td>0.937989</td>\n",
       "      <td>samples</td>\n",
       "    </tr>\n",
       "    <tr>\n",
       "      <th>24</th>\n",
       "      <td>unirep_cosine</td>\n",
       "      <td>7</td>\n",
       "      <td>0.892642</td>\n",
       "      <td>0.895804</td>\n",
       "      <td>0.961767</td>\n",
       "      <td>0.916512</td>\n",
       "      <td>weighted</td>\n",
       "    </tr>\n",
       "    <tr>\n",
       "      <th>25</th>\n",
       "      <td>unirep_cosine</td>\n",
       "      <td>7</td>\n",
       "      <td>0.892642</td>\n",
       "      <td>0.831145</td>\n",
       "      <td>0.961767</td>\n",
       "      <td>0.891698</td>\n",
       "      <td>micro</td>\n",
       "    </tr>\n",
       "    <tr>\n",
       "      <th>26</th>\n",
       "      <td>unirep_cosine</td>\n",
       "      <td>7</td>\n",
       "      <td>0.892642</td>\n",
       "      <td>0.746254</td>\n",
       "      <td>0.916954</td>\n",
       "      <td>0.714982</td>\n",
       "      <td>macro</td>\n",
       "    </tr>\n",
       "    <tr>\n",
       "      <th>27</th>\n",
       "      <td>unirep_cosine</td>\n",
       "      <td>7</td>\n",
       "      <td>0.892642</td>\n",
       "      <td>0.928387</td>\n",
       "      <td>0.969982</td>\n",
       "      <td>0.940115</td>\n",
       "      <td>samples</td>\n",
       "    </tr>\n",
       "    <tr>\n",
       "      <th>28</th>\n",
       "      <td>unirep_cosine</td>\n",
       "      <td>8</td>\n",
       "      <td>0.893134</td>\n",
       "      <td>0.897074</td>\n",
       "      <td>0.963579</td>\n",
       "      <td>0.918411</td>\n",
       "      <td>weighted</td>\n",
       "    </tr>\n",
       "    <tr>\n",
       "      <th>29</th>\n",
       "      <td>unirep_cosine</td>\n",
       "      <td>8</td>\n",
       "      <td>0.893134</td>\n",
       "      <td>0.832730</td>\n",
       "      <td>0.963579</td>\n",
       "      <td>0.893389</td>\n",
       "      <td>micro</td>\n",
       "    </tr>\n",
       "    <tr>\n",
       "      <th>30</th>\n",
       "      <td>unirep_cosine</td>\n",
       "      <td>8</td>\n",
       "      <td>0.893134</td>\n",
       "      <td>0.739157</td>\n",
       "      <td>0.923396</td>\n",
       "      <td>0.714483</td>\n",
       "      <td>macro</td>\n",
       "    </tr>\n",
       "    <tr>\n",
       "      <th>31</th>\n",
       "      <td>unirep_cosine</td>\n",
       "      <td>8</td>\n",
       "      <td>0.893134</td>\n",
       "      <td>0.928671</td>\n",
       "      <td>0.969930</td>\n",
       "      <td>0.940286</td>\n",
       "      <td>samples</td>\n",
       "    </tr>\n",
       "    <tr>\n",
       "      <th>32</th>\n",
       "      <td>unirep_cosine</td>\n",
       "      <td>9</td>\n",
       "      <td>0.888474</td>\n",
       "      <td>0.890809</td>\n",
       "      <td>0.962595</td>\n",
       "      <td>0.914526</td>\n",
       "      <td>weighted</td>\n",
       "    </tr>\n",
       "    <tr>\n",
       "      <th>33</th>\n",
       "      <td>unirep_cosine</td>\n",
       "      <td>9</td>\n",
       "      <td>0.888474</td>\n",
       "      <td>0.820034</td>\n",
       "      <td>0.962595</td>\n",
       "      <td>0.885614</td>\n",
       "      <td>micro</td>\n",
       "    </tr>\n",
       "    <tr>\n",
       "      <th>34</th>\n",
       "      <td>unirep_cosine</td>\n",
       "      <td>9</td>\n",
       "      <td>0.888474</td>\n",
       "      <td>0.722590</td>\n",
       "      <td>0.925697</td>\n",
       "      <td>0.701134</td>\n",
       "      <td>macro</td>\n",
       "    </tr>\n",
       "    <tr>\n",
       "      <th>35</th>\n",
       "      <td>unirep_cosine</td>\n",
       "      <td>9</td>\n",
       "      <td>0.888474</td>\n",
       "      <td>0.924960</td>\n",
       "      <td>0.968314</td>\n",
       "      <td>0.937039</td>\n",
       "      <td>samples</td>\n",
       "    </tr>\n",
       "    <tr>\n",
       "      <th>36</th>\n",
       "      <td>unirep_cosine</td>\n",
       "      <td>10</td>\n",
       "      <td>0.890243</td>\n",
       "      <td>0.894445</td>\n",
       "      <td>0.962025</td>\n",
       "      <td>0.915833</td>\n",
       "      <td>weighted</td>\n",
       "    </tr>\n",
       "    <tr>\n",
       "      <th>37</th>\n",
       "      <td>unirep_cosine</td>\n",
       "      <td>10</td>\n",
       "      <td>0.890243</td>\n",
       "      <td>0.828105</td>\n",
       "      <td>0.962025</td>\n",
       "      <td>0.890056</td>\n",
       "      <td>micro</td>\n",
       "    </tr>\n",
       "    <tr>\n",
       "      <th>38</th>\n",
       "      <td>unirep_cosine</td>\n",
       "      <td>10</td>\n",
       "      <td>0.890243</td>\n",
       "      <td>0.731836</td>\n",
       "      <td>0.917392</td>\n",
       "      <td>0.701984</td>\n",
       "      <td>macro</td>\n",
       "    </tr>\n",
       "    <tr>\n",
       "      <th>39</th>\n",
       "      <td>unirep_cosine</td>\n",
       "      <td>10</td>\n",
       "      <td>0.890243</td>\n",
       "      <td>0.926547</td>\n",
       "      <td>0.969285</td>\n",
       "      <td>0.938610</td>\n",
       "      <td>samples</td>\n",
       "    </tr>\n",
       "  </tbody>\n",
       "</table>\n",
       "         </div>\n",
       "         <div  style=\"float:left; width:600px;\" >\n",
       "              <h2 style='color:blue' >Unirep Cosine Evaluation 10 Fold std and mean Overview</h2>\n",
       "                   <table border=\"1\" class=\"dataframe\">\n",
       "  <thead>\n",
       "    <tr style=\"text-align: right;\">\n",
       "      <th></th>\n",
       "      <th>baselineName</th>\n",
       "      <th>avgType</th>\n",
       "      <th>Metric</th>\n",
       "      <th>mean</th>\n",
       "      <th>std</th>\n",
       "    </tr>\n",
       "  </thead>\n",
       "  <tbody>\n",
       "    <tr>\n",
       "      <th>0</th>\n",
       "      <td>unirep_cosine</td>\n",
       "      <td>macro</td>\n",
       "      <td>mAccuracy</td>\n",
       "      <td>0.890761</td>\n",
       "      <td>0.001590</td>\n",
       "    </tr>\n",
       "    <tr>\n",
       "      <th>1</th>\n",
       "      <td>unirep_cosine</td>\n",
       "      <td>macro</td>\n",
       "      <td>mF1</td>\n",
       "      <td>0.705396</td>\n",
       "      <td>0.009173</td>\n",
       "    </tr>\n",
       "    <tr>\n",
       "      <th>2</th>\n",
       "      <td>unirep_cosine</td>\n",
       "      <td>macro</td>\n",
       "      <td>mPrecision</td>\n",
       "      <td>0.733287</td>\n",
       "      <td>0.011174</td>\n",
       "    </tr>\n",
       "    <tr>\n",
       "      <th>3</th>\n",
       "      <td>unirep_cosine</td>\n",
       "      <td>macro</td>\n",
       "      <td>mRecall</td>\n",
       "      <td>0.919660</td>\n",
       "      <td>0.005070</td>\n",
       "    </tr>\n",
       "    <tr>\n",
       "      <th>4</th>\n",
       "      <td>unirep_cosine</td>\n",
       "      <td>micro</td>\n",
       "      <td>mAccuracy</td>\n",
       "      <td>0.890761</td>\n",
       "      <td>0.001590</td>\n",
       "    </tr>\n",
       "    <tr>\n",
       "      <th>5</th>\n",
       "      <td>unirep_cosine</td>\n",
       "      <td>micro</td>\n",
       "      <td>mF1</td>\n",
       "      <td>0.889820</td>\n",
       "      <td>0.002254</td>\n",
       "    </tr>\n",
       "    <tr>\n",
       "      <th>6</th>\n",
       "      <td>unirep_cosine</td>\n",
       "      <td>micro</td>\n",
       "      <td>mPrecision</td>\n",
       "      <td>0.827592</td>\n",
       "      <td>0.003860</td>\n",
       "    </tr>\n",
       "    <tr>\n",
       "      <th>7</th>\n",
       "      <td>unirep_cosine</td>\n",
       "      <td>micro</td>\n",
       "      <td>mRecall</td>\n",
       "      <td>0.962178</td>\n",
       "      <td>0.001040</td>\n",
       "    </tr>\n",
       "    <tr>\n",
       "      <th>8</th>\n",
       "      <td>unirep_cosine</td>\n",
       "      <td>samples</td>\n",
       "      <td>mAccuracy</td>\n",
       "      <td>0.890761</td>\n",
       "      <td>0.001590</td>\n",
       "    </tr>\n",
       "    <tr>\n",
       "      <th>9</th>\n",
       "      <td>unirep_cosine</td>\n",
       "      <td>samples</td>\n",
       "      <td>mF1</td>\n",
       "      <td>0.938799</td>\n",
       "      <td>0.001002</td>\n",
       "    </tr>\n",
       "    <tr>\n",
       "      <th>10</th>\n",
       "      <td>unirep_cosine</td>\n",
       "      <td>samples</td>\n",
       "      <td>mPrecision</td>\n",
       "      <td>0.926852</td>\n",
       "      <td>0.001135</td>\n",
       "    </tr>\n",
       "    <tr>\n",
       "      <th>11</th>\n",
       "      <td>unirep_cosine</td>\n",
       "      <td>samples</td>\n",
       "      <td>mRecall</td>\n",
       "      <td>0.969484</td>\n",
       "      <td>0.000660</td>\n",
       "    </tr>\n",
       "    <tr>\n",
       "      <th>12</th>\n",
       "      <td>unirep_cosine</td>\n",
       "      <td>weighted</td>\n",
       "      <td>mAccuracy</td>\n",
       "      <td>0.890761</td>\n",
       "      <td>0.001590</td>\n",
       "    </tr>\n",
       "    <tr>\n",
       "      <th>13</th>\n",
       "      <td>unirep_cosine</td>\n",
       "      <td>weighted</td>\n",
       "      <td>mF1</td>\n",
       "      <td>0.915999</td>\n",
       "      <td>0.001208</td>\n",
       "    </tr>\n",
       "    <tr>\n",
       "      <th>14</th>\n",
       "      <td>unirep_cosine</td>\n",
       "      <td>weighted</td>\n",
       "      <td>mPrecision</td>\n",
       "      <td>0.894153</td>\n",
       "      <td>0.002005</td>\n",
       "    </tr>\n",
       "    <tr>\n",
       "      <th>15</th>\n",
       "      <td>unirep_cosine</td>\n",
       "      <td>weighted</td>\n",
       "      <td>mRecall</td>\n",
       "      <td>0.962178</td>\n",
       "      <td>0.001040</td>\n",
       "    </tr>\n",
       "  </tbody>\n",
       "</table>\n",
       "         </div>\n",
       "         \n",
       "         <div style=\"float:left; width:600px;\">\n",
       "         <h2 style='color:blue' >Unirep Cosine Evaluation 10 Fold No Prediction Overview</h2>\n",
       "              \n",
       "         </div>\n",
       "         "
      ],
      "text/plain": [
       "<IPython.core.display.HTML object>"
      ]
     },
     "execution_count": 5,
     "metadata": {},
     "output_type": "execute_result"
    }
   ],
   "source": [
    "std_unirep_cosine, metrics_unirep_cosine, ec_no_rxn_unirep_cosine  = evTools.get_eval_results(baselineName='unirep_cosine', dict_rxn2id=dict_rxn2id, method_type='direct')\n",
    "evTools.display_html_results(metrics = metrics_unirep_cosine, std_mean = std_unirep_cosine, no_pred=ec_no_rxn_unirep_cosine, eva_name ='Unirep Cosine')"
   ]
  },
  {
   "cell_type": "markdown",
   "id": "51b10224",
   "metadata": {},
   "source": [
    "### 4.3 ESM"
   ]
  },
  {
   "cell_type": "code",
   "execution_count": 6,
   "id": "65d9017f",
   "metadata": {},
   "outputs": [
    {
     "name": "stdout",
     "output_type": "stream",
     "text": [
      "Getting evaluation results for esm_euclidean ...\n",
      "Calculating mean and std ...\n"
     ]
    },
    {
     "data": {
      "text/html": [
       "\n",
       "         <div style=\"float:left; width:700px;\">\n",
       "              <h2 style='color:blue'>ESM Euclidean Evaluation 10 Fold Details</h2>\n",
       "              <table border=\"1\" class=\"dataframe\">\n",
       "  <thead>\n",
       "    <tr style=\"text-align: right;\">\n",
       "      <th></th>\n",
       "      <th>baselineName</th>\n",
       "      <th>runFold</th>\n",
       "      <th>mAccuracy</th>\n",
       "      <th>mPrecision</th>\n",
       "      <th>mRecall</th>\n",
       "      <th>mF1</th>\n",
       "      <th>avgType</th>\n",
       "    </tr>\n",
       "  </thead>\n",
       "  <tbody>\n",
       "    <tr>\n",
       "      <th>0</th>\n",
       "      <td>esm_euclidean</td>\n",
       "      <td>1</td>\n",
       "      <td>0.935133</td>\n",
       "      <td>0.940896</td>\n",
       "      <td>0.981476</td>\n",
       "      <td>0.953393</td>\n",
       "      <td>weighted</td>\n",
       "    </tr>\n",
       "    <tr>\n",
       "      <th>1</th>\n",
       "      <td>esm_euclidean</td>\n",
       "      <td>1</td>\n",
       "      <td>0.935133</td>\n",
       "      <td>0.891606</td>\n",
       "      <td>0.981476</td>\n",
       "      <td>0.934385</td>\n",
       "      <td>micro</td>\n",
       "    </tr>\n",
       "    <tr>\n",
       "      <th>2</th>\n",
       "      <td>esm_euclidean</td>\n",
       "      <td>1</td>\n",
       "      <td>0.935133</td>\n",
       "      <td>0.782764</td>\n",
       "      <td>0.948362</td>\n",
       "      <td>0.759314</td>\n",
       "      <td>macro</td>\n",
       "    </tr>\n",
       "    <tr>\n",
       "      <th>3</th>\n",
       "      <td>esm_euclidean</td>\n",
       "      <td>1</td>\n",
       "      <td>0.935133</td>\n",
       "      <td>0.958464</td>\n",
       "      <td>0.985620</td>\n",
       "      <td>0.965996</td>\n",
       "      <td>samples</td>\n",
       "    </tr>\n",
       "    <tr>\n",
       "      <th>4</th>\n",
       "      <td>esm_euclidean</td>\n",
       "      <td>2</td>\n",
       "      <td>0.933167</td>\n",
       "      <td>0.937562</td>\n",
       "      <td>0.978982</td>\n",
       "      <td>0.949517</td>\n",
       "      <td>weighted</td>\n",
       "    </tr>\n",
       "    <tr>\n",
       "      <th>5</th>\n",
       "      <td>esm_euclidean</td>\n",
       "      <td>2</td>\n",
       "      <td>0.933167</td>\n",
       "      <td>0.888709</td>\n",
       "      <td>0.978982</td>\n",
       "      <td>0.931664</td>\n",
       "      <td>micro</td>\n",
       "    </tr>\n",
       "    <tr>\n",
       "      <th>6</th>\n",
       "      <td>esm_euclidean</td>\n",
       "      <td>2</td>\n",
       "      <td>0.933167</td>\n",
       "      <td>0.789517</td>\n",
       "      <td>0.942028</td>\n",
       "      <td>0.762904</td>\n",
       "      <td>macro</td>\n",
       "    </tr>\n",
       "    <tr>\n",
       "      <th>7</th>\n",
       "      <td>esm_euclidean</td>\n",
       "      <td>2</td>\n",
       "      <td>0.933167</td>\n",
       "      <td>0.957240</td>\n",
       "      <td>0.984729</td>\n",
       "      <td>0.964734</td>\n",
       "      <td>samples</td>\n",
       "    </tr>\n",
       "    <tr>\n",
       "      <th>8</th>\n",
       "      <td>esm_euclidean</td>\n",
       "      <td>3</td>\n",
       "      <td>0.933875</td>\n",
       "      <td>0.937052</td>\n",
       "      <td>0.978685</td>\n",
       "      <td>0.949509</td>\n",
       "      <td>weighted</td>\n",
       "    </tr>\n",
       "    <tr>\n",
       "      <th>9</th>\n",
       "      <td>esm_euclidean</td>\n",
       "      <td>3</td>\n",
       "      <td>0.933875</td>\n",
       "      <td>0.886449</td>\n",
       "      <td>0.978685</td>\n",
       "      <td>0.930286</td>\n",
       "      <td>micro</td>\n",
       "    </tr>\n",
       "    <tr>\n",
       "      <th>10</th>\n",
       "      <td>esm_euclidean</td>\n",
       "      <td>3</td>\n",
       "      <td>0.933875</td>\n",
       "      <td>0.781938</td>\n",
       "      <td>0.942622</td>\n",
       "      <td>0.759346</td>\n",
       "      <td>macro</td>\n",
       "    </tr>\n",
       "    <tr>\n",
       "      <th>11</th>\n",
       "      <td>esm_euclidean</td>\n",
       "      <td>3</td>\n",
       "      <td>0.933875</td>\n",
       "      <td>0.957504</td>\n",
       "      <td>0.984407</td>\n",
       "      <td>0.964901</td>\n",
       "      <td>samples</td>\n",
       "    </tr>\n",
       "    <tr>\n",
       "      <th>12</th>\n",
       "      <td>esm_euclidean</td>\n",
       "      <td>4</td>\n",
       "      <td>0.936785</td>\n",
       "      <td>0.940605</td>\n",
       "      <td>0.979352</td>\n",
       "      <td>0.951915</td>\n",
       "      <td>weighted</td>\n",
       "    </tr>\n",
       "    <tr>\n",
       "      <th>13</th>\n",
       "      <td>esm_euclidean</td>\n",
       "      <td>4</td>\n",
       "      <td>0.936785</td>\n",
       "      <td>0.890593</td>\n",
       "      <td>0.979352</td>\n",
       "      <td>0.932866</td>\n",
       "      <td>micro</td>\n",
       "    </tr>\n",
       "    <tr>\n",
       "      <th>14</th>\n",
       "      <td>esm_euclidean</td>\n",
       "      <td>4</td>\n",
       "      <td>0.936785</td>\n",
       "      <td>0.776410</td>\n",
       "      <td>0.939611</td>\n",
       "      <td>0.751313</td>\n",
       "      <td>macro</td>\n",
       "    </tr>\n",
       "    <tr>\n",
       "      <th>15</th>\n",
       "      <td>esm_euclidean</td>\n",
       "      <td>4</td>\n",
       "      <td>0.936785</td>\n",
       "      <td>0.959536</td>\n",
       "      <td>0.985571</td>\n",
       "      <td>0.966659</td>\n",
       "      <td>samples</td>\n",
       "    </tr>\n",
       "    <tr>\n",
       "      <th>16</th>\n",
       "      <td>esm_euclidean</td>\n",
       "      <td>5</td>\n",
       "      <td>0.935271</td>\n",
       "      <td>0.938365</td>\n",
       "      <td>0.980269</td>\n",
       "      <td>0.951481</td>\n",
       "      <td>weighted</td>\n",
       "    </tr>\n",
       "    <tr>\n",
       "      <th>17</th>\n",
       "      <td>esm_euclidean</td>\n",
       "      <td>5</td>\n",
       "      <td>0.935271</td>\n",
       "      <td>0.889799</td>\n",
       "      <td>0.980269</td>\n",
       "      <td>0.932845</td>\n",
       "      <td>micro</td>\n",
       "    </tr>\n",
       "    <tr>\n",
       "      <th>18</th>\n",
       "      <td>esm_euclidean</td>\n",
       "      <td>5</td>\n",
       "      <td>0.935271</td>\n",
       "      <td>0.789549</td>\n",
       "      <td>0.945084</td>\n",
       "      <td>0.771023</td>\n",
       "      <td>macro</td>\n",
       "    </tr>\n",
       "    <tr>\n",
       "      <th>19</th>\n",
       "      <td>esm_euclidean</td>\n",
       "      <td>5</td>\n",
       "      <td>0.935271</td>\n",
       "      <td>0.958718</td>\n",
       "      <td>0.985350</td>\n",
       "      <td>0.965950</td>\n",
       "      <td>samples</td>\n",
       "    </tr>\n",
       "    <tr>\n",
       "      <th>20</th>\n",
       "      <td>esm_euclidean</td>\n",
       "      <td>6</td>\n",
       "      <td>0.935054</td>\n",
       "      <td>0.939739</td>\n",
       "      <td>0.980207</td>\n",
       "      <td>0.951938</td>\n",
       "      <td>weighted</td>\n",
       "    </tr>\n",
       "    <tr>\n",
       "      <th>21</th>\n",
       "      <td>esm_euclidean</td>\n",
       "      <td>6</td>\n",
       "      <td>0.935054</td>\n",
       "      <td>0.891242</td>\n",
       "      <td>0.980207</td>\n",
       "      <td>0.933610</td>\n",
       "      <td>micro</td>\n",
       "    </tr>\n",
       "    <tr>\n",
       "      <th>22</th>\n",
       "      <td>esm_euclidean</td>\n",
       "      <td>6</td>\n",
       "      <td>0.935054</td>\n",
       "      <td>0.792549</td>\n",
       "      <td>0.945199</td>\n",
       "      <td>0.769025</td>\n",
       "      <td>macro</td>\n",
       "    </tr>\n",
       "    <tr>\n",
       "      <th>23</th>\n",
       "      <td>esm_euclidean</td>\n",
       "      <td>6</td>\n",
       "      <td>0.935054</td>\n",
       "      <td>0.958072</td>\n",
       "      <td>0.984503</td>\n",
       "      <td>0.965376</td>\n",
       "      <td>samples</td>\n",
       "    </tr>\n",
       "    <tr>\n",
       "      <th>24</th>\n",
       "      <td>esm_euclidean</td>\n",
       "      <td>7</td>\n",
       "      <td>0.938063</td>\n",
       "      <td>0.941324</td>\n",
       "      <td>0.979558</td>\n",
       "      <td>0.952323</td>\n",
       "      <td>weighted</td>\n",
       "    </tr>\n",
       "    <tr>\n",
       "      <th>25</th>\n",
       "      <td>esm_euclidean</td>\n",
       "      <td>7</td>\n",
       "      <td>0.938063</td>\n",
       "      <td>0.893978</td>\n",
       "      <td>0.979558</td>\n",
       "      <td>0.934813</td>\n",
       "      <td>micro</td>\n",
       "    </tr>\n",
       "    <tr>\n",
       "      <th>26</th>\n",
       "      <td>esm_euclidean</td>\n",
       "      <td>7</td>\n",
       "      <td>0.938063</td>\n",
       "      <td>0.792184</td>\n",
       "      <td>0.940685</td>\n",
       "      <td>0.764299</td>\n",
       "      <td>macro</td>\n",
       "    </tr>\n",
       "    <tr>\n",
       "      <th>27</th>\n",
       "      <td>esm_euclidean</td>\n",
       "      <td>7</td>\n",
       "      <td>0.938063</td>\n",
       "      <td>0.960063</td>\n",
       "      <td>0.985456</td>\n",
       "      <td>0.966943</td>\n",
       "      <td>samples</td>\n",
       "    </tr>\n",
       "    <tr>\n",
       "      <th>28</th>\n",
       "      <td>esm_euclidean</td>\n",
       "      <td>8</td>\n",
       "      <td>0.936274</td>\n",
       "      <td>0.939689</td>\n",
       "      <td>0.981311</td>\n",
       "      <td>0.952228</td>\n",
       "      <td>weighted</td>\n",
       "    </tr>\n",
       "    <tr>\n",
       "      <th>29</th>\n",
       "      <td>esm_euclidean</td>\n",
       "      <td>8</td>\n",
       "      <td>0.936274</td>\n",
       "      <td>0.893457</td>\n",
       "      <td>0.981311</td>\n",
       "      <td>0.935325</td>\n",
       "      <td>micro</td>\n",
       "    </tr>\n",
       "    <tr>\n",
       "      <th>30</th>\n",
       "      <td>esm_euclidean</td>\n",
       "      <td>8</td>\n",
       "      <td>0.936274</td>\n",
       "      <td>0.797530</td>\n",
       "      <td>0.946178</td>\n",
       "      <td>0.775022</td>\n",
       "      <td>macro</td>\n",
       "    </tr>\n",
       "    <tr>\n",
       "      <th>31</th>\n",
       "      <td>esm_euclidean</td>\n",
       "      <td>8</td>\n",
       "      <td>0.936274</td>\n",
       "      <td>0.959328</td>\n",
       "      <td>0.986055</td>\n",
       "      <td>0.966662</td>\n",
       "      <td>samples</td>\n",
       "    </tr>\n",
       "    <tr>\n",
       "      <th>32</th>\n",
       "      <td>esm_euclidean</td>\n",
       "      <td>9</td>\n",
       "      <td>0.933324</td>\n",
       "      <td>0.936749</td>\n",
       "      <td>0.979826</td>\n",
       "      <td>0.950004</td>\n",
       "      <td>weighted</td>\n",
       "    </tr>\n",
       "    <tr>\n",
       "      <th>33</th>\n",
       "      <td>esm_euclidean</td>\n",
       "      <td>9</td>\n",
       "      <td>0.933324</td>\n",
       "      <td>0.883416</td>\n",
       "      <td>0.979826</td>\n",
       "      <td>0.929127</td>\n",
       "      <td>micro</td>\n",
       "    </tr>\n",
       "    <tr>\n",
       "      <th>34</th>\n",
       "      <td>esm_euclidean</td>\n",
       "      <td>9</td>\n",
       "      <td>0.933324</td>\n",
       "      <td>0.777262</td>\n",
       "      <td>0.945397</td>\n",
       "      <td>0.756746</td>\n",
       "      <td>macro</td>\n",
       "    </tr>\n",
       "    <tr>\n",
       "      <th>35</th>\n",
       "      <td>esm_euclidean</td>\n",
       "      <td>9</td>\n",
       "      <td>0.933324</td>\n",
       "      <td>0.956963</td>\n",
       "      <td>0.984448</td>\n",
       "      <td>0.964461</td>\n",
       "      <td>samples</td>\n",
       "    </tr>\n",
       "    <tr>\n",
       "      <th>36</th>\n",
       "      <td>esm_euclidean</td>\n",
       "      <td>10</td>\n",
       "      <td>0.934268</td>\n",
       "      <td>0.937657</td>\n",
       "      <td>0.979666</td>\n",
       "      <td>0.950402</td>\n",
       "      <td>weighted</td>\n",
       "    </tr>\n",
       "    <tr>\n",
       "      <th>37</th>\n",
       "      <td>esm_euclidean</td>\n",
       "      <td>10</td>\n",
       "      <td>0.934268</td>\n",
       "      <td>0.884547</td>\n",
       "      <td>0.979666</td>\n",
       "      <td>0.929680</td>\n",
       "      <td>micro</td>\n",
       "    </tr>\n",
       "    <tr>\n",
       "      <th>38</th>\n",
       "      <td>esm_euclidean</td>\n",
       "      <td>10</td>\n",
       "      <td>0.934268</td>\n",
       "      <td>0.769079</td>\n",
       "      <td>0.940923</td>\n",
       "      <td>0.746466</td>\n",
       "      <td>macro</td>\n",
       "    </tr>\n",
       "    <tr>\n",
       "      <th>39</th>\n",
       "      <td>esm_euclidean</td>\n",
       "      <td>10</td>\n",
       "      <td>0.934268</td>\n",
       "      <td>0.957675</td>\n",
       "      <td>0.985365</td>\n",
       "      <td>0.965203</td>\n",
       "      <td>samples</td>\n",
       "    </tr>\n",
       "  </tbody>\n",
       "</table>\n",
       "         </div>\n",
       "         <div  style=\"float:left; width:600px;\" >\n",
       "              <h2 style='color:blue' >ESM Euclidean Evaluation 10 Fold std and mean Overview</h2>\n",
       "                   <table border=\"1\" class=\"dataframe\">\n",
       "  <thead>\n",
       "    <tr style=\"text-align: right;\">\n",
       "      <th></th>\n",
       "      <th>baselineName</th>\n",
       "      <th>avgType</th>\n",
       "      <th>Metric</th>\n",
       "      <th>mean</th>\n",
       "      <th>std</th>\n",
       "    </tr>\n",
       "  </thead>\n",
       "  <tbody>\n",
       "    <tr>\n",
       "      <th>0</th>\n",
       "      <td>esm_euclidean</td>\n",
       "      <td>macro</td>\n",
       "      <td>mAccuracy</td>\n",
       "      <td>0.935121</td>\n",
       "      <td>0.001567</td>\n",
       "    </tr>\n",
       "    <tr>\n",
       "      <th>1</th>\n",
       "      <td>esm_euclidean</td>\n",
       "      <td>macro</td>\n",
       "      <td>mF1</td>\n",
       "      <td>0.761546</td>\n",
       "      <td>0.008830</td>\n",
       "    </tr>\n",
       "    <tr>\n",
       "      <th>2</th>\n",
       "      <td>esm_euclidean</td>\n",
       "      <td>macro</td>\n",
       "      <td>mPrecision</td>\n",
       "      <td>0.784878</td>\n",
       "      <td>0.008870</td>\n",
       "    </tr>\n",
       "    <tr>\n",
       "      <th>3</th>\n",
       "      <td>esm_euclidean</td>\n",
       "      <td>macro</td>\n",
       "      <td>mRecall</td>\n",
       "      <td>0.943609</td>\n",
       "      <td>0.002835</td>\n",
       "    </tr>\n",
       "    <tr>\n",
       "      <th>4</th>\n",
       "      <td>esm_euclidean</td>\n",
       "      <td>micro</td>\n",
       "      <td>mAccuracy</td>\n",
       "      <td>0.935121</td>\n",
       "      <td>0.001567</td>\n",
       "    </tr>\n",
       "    <tr>\n",
       "      <th>5</th>\n",
       "      <td>esm_euclidean</td>\n",
       "      <td>micro</td>\n",
       "      <td>mF1</td>\n",
       "      <td>0.932460</td>\n",
       "      <td>0.002193</td>\n",
       "    </tr>\n",
       "    <tr>\n",
       "      <th>6</th>\n",
       "      <td>esm_euclidean</td>\n",
       "      <td>micro</td>\n",
       "      <td>mPrecision</td>\n",
       "      <td>0.889380</td>\n",
       "      <td>0.003587</td>\n",
       "    </tr>\n",
       "    <tr>\n",
       "      <th>7</th>\n",
       "      <td>esm_euclidean</td>\n",
       "      <td>micro</td>\n",
       "      <td>mRecall</td>\n",
       "      <td>0.979933</td>\n",
       "      <td>0.000912</td>\n",
       "    </tr>\n",
       "    <tr>\n",
       "      <th>8</th>\n",
       "      <td>esm_euclidean</td>\n",
       "      <td>samples</td>\n",
       "      <td>mAccuracy</td>\n",
       "      <td>0.935121</td>\n",
       "      <td>0.001567</td>\n",
       "    </tr>\n",
       "    <tr>\n",
       "      <th>9</th>\n",
       "      <td>esm_euclidean</td>\n",
       "      <td>samples</td>\n",
       "      <td>mF1</td>\n",
       "      <td>0.965689</td>\n",
       "      <td>0.000882</td>\n",
       "    </tr>\n",
       "    <tr>\n",
       "      <th>10</th>\n",
       "      <td>esm_euclidean</td>\n",
       "      <td>samples</td>\n",
       "      <td>mPrecision</td>\n",
       "      <td>0.958356</td>\n",
       "      <td>0.001046</td>\n",
       "    </tr>\n",
       "    <tr>\n",
       "      <th>11</th>\n",
       "      <td>esm_euclidean</td>\n",
       "      <td>samples</td>\n",
       "      <td>mRecall</td>\n",
       "      <td>0.985150</td>\n",
       "      <td>0.000581</td>\n",
       "    </tr>\n",
       "    <tr>\n",
       "      <th>12</th>\n",
       "      <td>esm_euclidean</td>\n",
       "      <td>weighted</td>\n",
       "      <td>mAccuracy</td>\n",
       "      <td>0.935121</td>\n",
       "      <td>0.001567</td>\n",
       "    </tr>\n",
       "    <tr>\n",
       "      <th>13</th>\n",
       "      <td>esm_euclidean</td>\n",
       "      <td>weighted</td>\n",
       "      <td>mF1</td>\n",
       "      <td>0.951271</td>\n",
       "      <td>0.001332</td>\n",
       "    </tr>\n",
       "    <tr>\n",
       "      <th>14</th>\n",
       "      <td>esm_euclidean</td>\n",
       "      <td>weighted</td>\n",
       "      <td>mPrecision</td>\n",
       "      <td>0.938964</td>\n",
       "      <td>0.001690</td>\n",
       "    </tr>\n",
       "    <tr>\n",
       "      <th>15</th>\n",
       "      <td>esm_euclidean</td>\n",
       "      <td>weighted</td>\n",
       "      <td>mRecall</td>\n",
       "      <td>0.979933</td>\n",
       "      <td>0.000912</td>\n",
       "    </tr>\n",
       "  </tbody>\n",
       "</table>\n",
       "         </div>\n",
       "         \n",
       "         <div style=\"float:left; width:600px;\">\n",
       "         <h2 style='color:blue' >ESM Euclidean Evaluation 10 Fold No Prediction Overview</h2>\n",
       "              \n",
       "         </div>\n",
       "         "
      ],
      "text/plain": [
       "<IPython.core.display.HTML object>"
      ]
     },
     "execution_count": 6,
     "metadata": {},
     "output_type": "execute_result"
    }
   ],
   "source": [
    "std_esm_euclidean, metrics_esm_euclidean, ec_no_rxn_esm_euclidean  = evTools.get_eval_results(baselineName='esm_euclidean', dict_rxn2id=dict_rxn2id, method_type='direct')\n",
    "evTools.display_html_results(metrics = metrics_esm_euclidean, std_mean = std_esm_euclidean, no_pred=ec_no_rxn_esm_euclidean, eva_name ='ESM Euclidean')"
   ]
  },
  {
   "cell_type": "code",
   "execution_count": 7,
   "id": "e6b00839",
   "metadata": {},
   "outputs": [
    {
     "name": "stdout",
     "output_type": "stream",
     "text": [
      "Getting evaluation results for esm_cosine ...\n",
      "Calculating mean and std ...\n"
     ]
    },
    {
     "data": {
      "text/html": [
       "\n",
       "         <div style=\"float:left; width:700px;\">\n",
       "              <h2 style='color:blue'>ESM Cosine Evaluation 10 Fold Details</h2>\n",
       "              <table border=\"1\" class=\"dataframe\">\n",
       "  <thead>\n",
       "    <tr style=\"text-align: right;\">\n",
       "      <th></th>\n",
       "      <th>baselineName</th>\n",
       "      <th>runFold</th>\n",
       "      <th>mAccuracy</th>\n",
       "      <th>mPrecision</th>\n",
       "      <th>mRecall</th>\n",
       "      <th>mF1</th>\n",
       "      <th>avgType</th>\n",
       "    </tr>\n",
       "  </thead>\n",
       "  <tbody>\n",
       "    <tr>\n",
       "      <th>0</th>\n",
       "      <td>esm_cosine</td>\n",
       "      <td>1</td>\n",
       "      <td>0.936765</td>\n",
       "      <td>0.941749</td>\n",
       "      <td>0.982007</td>\n",
       "      <td>0.954480</td>\n",
       "      <td>weighted</td>\n",
       "    </tr>\n",
       "    <tr>\n",
       "      <th>1</th>\n",
       "      <td>esm_cosine</td>\n",
       "      <td>1</td>\n",
       "      <td>0.936765</td>\n",
       "      <td>0.894651</td>\n",
       "      <td>0.982007</td>\n",
       "      <td>0.936296</td>\n",
       "      <td>micro</td>\n",
       "    </tr>\n",
       "    <tr>\n",
       "      <th>2</th>\n",
       "      <td>esm_cosine</td>\n",
       "      <td>1</td>\n",
       "      <td>0.936765</td>\n",
       "      <td>0.791777</td>\n",
       "      <td>0.950621</td>\n",
       "      <td>0.769884</td>\n",
       "      <td>macro</td>\n",
       "    </tr>\n",
       "    <tr>\n",
       "      <th>3</th>\n",
       "      <td>esm_cosine</td>\n",
       "      <td>1</td>\n",
       "      <td>0.936765</td>\n",
       "      <td>0.959638</td>\n",
       "      <td>0.985791</td>\n",
       "      <td>0.966920</td>\n",
       "      <td>samples</td>\n",
       "    </tr>\n",
       "    <tr>\n",
       "      <th>4</th>\n",
       "      <td>esm_cosine</td>\n",
       "      <td>2</td>\n",
       "      <td>0.935133</td>\n",
       "      <td>0.939775</td>\n",
       "      <td>0.979118</td>\n",
       "      <td>0.950952</td>\n",
       "      <td>weighted</td>\n",
       "    </tr>\n",
       "    <tr>\n",
       "      <th>5</th>\n",
       "      <td>esm_cosine</td>\n",
       "      <td>2</td>\n",
       "      <td>0.935133</td>\n",
       "      <td>0.892933</td>\n",
       "      <td>0.979118</td>\n",
       "      <td>0.934042</td>\n",
       "      <td>micro</td>\n",
       "    </tr>\n",
       "    <tr>\n",
       "      <th>6</th>\n",
       "      <td>esm_cosine</td>\n",
       "      <td>2</td>\n",
       "      <td>0.935133</td>\n",
       "      <td>0.793840</td>\n",
       "      <td>0.941738</td>\n",
       "      <td>0.765679</td>\n",
       "      <td>macro</td>\n",
       "    </tr>\n",
       "    <tr>\n",
       "      <th>7</th>\n",
       "      <td>esm_cosine</td>\n",
       "      <td>2</td>\n",
       "      <td>0.935133</td>\n",
       "      <td>0.958643</td>\n",
       "      <td>0.984830</td>\n",
       "      <td>0.965821</td>\n",
       "      <td>samples</td>\n",
       "    </tr>\n",
       "    <tr>\n",
       "      <th>8</th>\n",
       "      <td>esm_cosine</td>\n",
       "      <td>3</td>\n",
       "      <td>0.935684</td>\n",
       "      <td>0.939547</td>\n",
       "      <td>0.979111</td>\n",
       "      <td>0.951304</td>\n",
       "      <td>weighted</td>\n",
       "    </tr>\n",
       "    <tr>\n",
       "      <th>9</th>\n",
       "      <td>esm_cosine</td>\n",
       "      <td>3</td>\n",
       "      <td>0.935684</td>\n",
       "      <td>0.890548</td>\n",
       "      <td>0.979111</td>\n",
       "      <td>0.932732</td>\n",
       "      <td>micro</td>\n",
       "    </tr>\n",
       "    <tr>\n",
       "      <th>10</th>\n",
       "      <td>esm_cosine</td>\n",
       "      <td>3</td>\n",
       "      <td>0.935684</td>\n",
       "      <td>0.790810</td>\n",
       "      <td>0.943460</td>\n",
       "      <td>0.767139</td>\n",
       "      <td>macro</td>\n",
       "    </tr>\n",
       "    <tr>\n",
       "      <th>11</th>\n",
       "      <td>esm_cosine</td>\n",
       "      <td>3</td>\n",
       "      <td>0.935684</td>\n",
       "      <td>0.958974</td>\n",
       "      <td>0.984883</td>\n",
       "      <td>0.966133</td>\n",
       "      <td>samples</td>\n",
       "    </tr>\n",
       "    <tr>\n",
       "      <th>12</th>\n",
       "      <td>esm_cosine</td>\n",
       "      <td>4</td>\n",
       "      <td>0.938633</td>\n",
       "      <td>0.943784</td>\n",
       "      <td>0.980187</td>\n",
       "      <td>0.954253</td>\n",
       "      <td>weighted</td>\n",
       "    </tr>\n",
       "    <tr>\n",
       "      <th>13</th>\n",
       "      <td>esm_cosine</td>\n",
       "      <td>4</td>\n",
       "      <td>0.938633</td>\n",
       "      <td>0.897157</td>\n",
       "      <td>0.980187</td>\n",
       "      <td>0.936836</td>\n",
       "      <td>micro</td>\n",
       "    </tr>\n",
       "    <tr>\n",
       "      <th>14</th>\n",
       "      <td>esm_cosine</td>\n",
       "      <td>4</td>\n",
       "      <td>0.938633</td>\n",
       "      <td>0.792160</td>\n",
       "      <td>0.942035</td>\n",
       "      <td>0.765448</td>\n",
       "      <td>macro</td>\n",
       "    </tr>\n",
       "    <tr>\n",
       "      <th>15</th>\n",
       "      <td>esm_cosine</td>\n",
       "      <td>4</td>\n",
       "      <td>0.938633</td>\n",
       "      <td>0.961139</td>\n",
       "      <td>0.986010</td>\n",
       "      <td>0.968068</td>\n",
       "      <td>samples</td>\n",
       "    </tr>\n",
       "    <tr>\n",
       "      <th>16</th>\n",
       "      <td>esm_cosine</td>\n",
       "      <td>5</td>\n",
       "      <td>0.936962</td>\n",
       "      <td>0.940229</td>\n",
       "      <td>0.980115</td>\n",
       "      <td>0.952762</td>\n",
       "      <td>weighted</td>\n",
       "    </tr>\n",
       "    <tr>\n",
       "      <th>17</th>\n",
       "      <td>esm_cosine</td>\n",
       "      <td>5</td>\n",
       "      <td>0.936962</td>\n",
       "      <td>0.895007</td>\n",
       "      <td>0.980115</td>\n",
       "      <td>0.935630</td>\n",
       "      <td>micro</td>\n",
       "    </tr>\n",
       "    <tr>\n",
       "      <th>18</th>\n",
       "      <td>esm_cosine</td>\n",
       "      <td>5</td>\n",
       "      <td>0.936962</td>\n",
       "      <td>0.800495</td>\n",
       "      <td>0.944768</td>\n",
       "      <td>0.780692</td>\n",
       "      <td>macro</td>\n",
       "    </tr>\n",
       "    <tr>\n",
       "      <th>19</th>\n",
       "      <td>esm_cosine</td>\n",
       "      <td>5</td>\n",
       "      <td>0.936962</td>\n",
       "      <td>0.960018</td>\n",
       "      <td>0.985402</td>\n",
       "      <td>0.966977</td>\n",
       "      <td>samples</td>\n",
       "    </tr>\n",
       "    <tr>\n",
       "      <th>20</th>\n",
       "      <td>esm_cosine</td>\n",
       "      <td>6</td>\n",
       "      <td>0.936785</td>\n",
       "      <td>0.941745</td>\n",
       "      <td>0.980704</td>\n",
       "      <td>0.953392</td>\n",
       "      <td>weighted</td>\n",
       "    </tr>\n",
       "    <tr>\n",
       "      <th>21</th>\n",
       "      <td>esm_cosine</td>\n",
       "      <td>6</td>\n",
       "      <td>0.936785</td>\n",
       "      <td>0.895475</td>\n",
       "      <td>0.980704</td>\n",
       "      <td>0.936154</td>\n",
       "      <td>micro</td>\n",
       "    </tr>\n",
       "    <tr>\n",
       "      <th>22</th>\n",
       "      <td>esm_cosine</td>\n",
       "      <td>6</td>\n",
       "      <td>0.936785</td>\n",
       "      <td>0.798704</td>\n",
       "      <td>0.945443</td>\n",
       "      <td>0.774319</td>\n",
       "      <td>macro</td>\n",
       "    </tr>\n",
       "    <tr>\n",
       "      <th>23</th>\n",
       "      <td>esm_cosine</td>\n",
       "      <td>6</td>\n",
       "      <td>0.936785</td>\n",
       "      <td>0.959554</td>\n",
       "      <td>0.985030</td>\n",
       "      <td>0.966661</td>\n",
       "      <td>samples</td>\n",
       "    </tr>\n",
       "    <tr>\n",
       "      <th>24</th>\n",
       "      <td>esm_cosine</td>\n",
       "      <td>7</td>\n",
       "      <td>0.939773</td>\n",
       "      <td>0.944238</td>\n",
       "      <td>0.980002</td>\n",
       "      <td>0.954445</td>\n",
       "      <td>weighted</td>\n",
       "    </tr>\n",
       "    <tr>\n",
       "      <th>25</th>\n",
       "      <td>esm_cosine</td>\n",
       "      <td>7</td>\n",
       "      <td>0.939773</td>\n",
       "      <td>0.899524</td>\n",
       "      <td>0.980002</td>\n",
       "      <td>0.938040</td>\n",
       "      <td>micro</td>\n",
       "    </tr>\n",
       "    <tr>\n",
       "      <th>26</th>\n",
       "      <td>esm_cosine</td>\n",
       "      <td>7</td>\n",
       "      <td>0.939773</td>\n",
       "      <td>0.796279</td>\n",
       "      <td>0.940692</td>\n",
       "      <td>0.768229</td>\n",
       "      <td>macro</td>\n",
       "    </tr>\n",
       "    <tr>\n",
       "      <th>27</th>\n",
       "      <td>esm_cosine</td>\n",
       "      <td>7</td>\n",
       "      <td>0.939773</td>\n",
       "      <td>0.961614</td>\n",
       "      <td>0.986076</td>\n",
       "      <td>0.968331</td>\n",
       "      <td>samples</td>\n",
       "    </tr>\n",
       "    <tr>\n",
       "      <th>28</th>\n",
       "      <td>esm_cosine</td>\n",
       "      <td>8</td>\n",
       "      <td>0.938790</td>\n",
       "      <td>0.941963</td>\n",
       "      <td>0.981157</td>\n",
       "      <td>0.953706</td>\n",
       "      <td>weighted</td>\n",
       "    </tr>\n",
       "    <tr>\n",
       "      <th>29</th>\n",
       "      <td>esm_cosine</td>\n",
       "      <td>8</td>\n",
       "      <td>0.938790</td>\n",
       "      <td>0.898487</td>\n",
       "      <td>0.981157</td>\n",
       "      <td>0.938004</td>\n",
       "      <td>micro</td>\n",
       "    </tr>\n",
       "    <tr>\n",
       "      <th>30</th>\n",
       "      <td>esm_cosine</td>\n",
       "      <td>8</td>\n",
       "      <td>0.938790</td>\n",
       "      <td>0.804679</td>\n",
       "      <td>0.946125</td>\n",
       "      <td>0.781126</td>\n",
       "      <td>macro</td>\n",
       "    </tr>\n",
       "    <tr>\n",
       "      <th>31</th>\n",
       "      <td>esm_cosine</td>\n",
       "      <td>8</td>\n",
       "      <td>0.938790</td>\n",
       "      <td>0.961048</td>\n",
       "      <td>0.986012</td>\n",
       "      <td>0.967961</td>\n",
       "      <td>samples</td>\n",
       "    </tr>\n",
       "    <tr>\n",
       "      <th>32</th>\n",
       "      <td>esm_cosine</td>\n",
       "      <td>9</td>\n",
       "      <td>0.934936</td>\n",
       "      <td>0.938178</td>\n",
       "      <td>0.980476</td>\n",
       "      <td>0.951287</td>\n",
       "      <td>weighted</td>\n",
       "    </tr>\n",
       "    <tr>\n",
       "      <th>33</th>\n",
       "      <td>esm_cosine</td>\n",
       "      <td>9</td>\n",
       "      <td>0.934936</td>\n",
       "      <td>0.887699</td>\n",
       "      <td>0.980476</td>\n",
       "      <td>0.931784</td>\n",
       "      <td>micro</td>\n",
       "    </tr>\n",
       "    <tr>\n",
       "      <th>34</th>\n",
       "      <td>esm_cosine</td>\n",
       "      <td>9</td>\n",
       "      <td>0.934936</td>\n",
       "      <td>0.787699</td>\n",
       "      <td>0.946299</td>\n",
       "      <td>0.766281</td>\n",
       "      <td>macro</td>\n",
       "    </tr>\n",
       "    <tr>\n",
       "      <th>35</th>\n",
       "      <td>esm_cosine</td>\n",
       "      <td>9</td>\n",
       "      <td>0.934936</td>\n",
       "      <td>0.958217</td>\n",
       "      <td>0.984857</td>\n",
       "      <td>0.965522</td>\n",
       "      <td>samples</td>\n",
       "    </tr>\n",
       "    <tr>\n",
       "      <th>36</th>\n",
       "      <td>esm_cosine</td>\n",
       "      <td>10</td>\n",
       "      <td>0.936038</td>\n",
       "      <td>0.939555</td>\n",
       "      <td>0.979905</td>\n",
       "      <td>0.951859</td>\n",
       "      <td>weighted</td>\n",
       "    </tr>\n",
       "    <tr>\n",
       "      <th>37</th>\n",
       "      <td>esm_cosine</td>\n",
       "      <td>10</td>\n",
       "      <td>0.936038</td>\n",
       "      <td>0.889733</td>\n",
       "      <td>0.979905</td>\n",
       "      <td>0.932644</td>\n",
       "      <td>micro</td>\n",
       "    </tr>\n",
       "    <tr>\n",
       "      <th>38</th>\n",
       "      <td>esm_cosine</td>\n",
       "      <td>10</td>\n",
       "      <td>0.936038</td>\n",
       "      <td>0.779044</td>\n",
       "      <td>0.941218</td>\n",
       "      <td>0.755982</td>\n",
       "      <td>macro</td>\n",
       "    </tr>\n",
       "    <tr>\n",
       "      <th>39</th>\n",
       "      <td>esm_cosine</td>\n",
       "      <td>10</td>\n",
       "      <td>0.936038</td>\n",
       "      <td>0.959064</td>\n",
       "      <td>0.985669</td>\n",
       "      <td>0.966344</td>\n",
       "      <td>samples</td>\n",
       "    </tr>\n",
       "  </tbody>\n",
       "</table>\n",
       "         </div>\n",
       "         <div  style=\"float:left; width:600px;\" >\n",
       "              <h2 style='color:blue' >ESM Cosine Evaluation 10 Fold std and mean Overview</h2>\n",
       "                   <table border=\"1\" class=\"dataframe\">\n",
       "  <thead>\n",
       "    <tr style=\"text-align: right;\">\n",
       "      <th></th>\n",
       "      <th>baselineName</th>\n",
       "      <th>avgType</th>\n",
       "      <th>Metric</th>\n",
       "      <th>mean</th>\n",
       "      <th>std</th>\n",
       "    </tr>\n",
       "  </thead>\n",
       "  <tbody>\n",
       "    <tr>\n",
       "      <th>0</th>\n",
       "      <td>esm_cosine</td>\n",
       "      <td>macro</td>\n",
       "      <td>mAccuracy</td>\n",
       "      <td>0.936950</td>\n",
       "      <td>0.001635</td>\n",
       "    </tr>\n",
       "    <tr>\n",
       "      <th>1</th>\n",
       "      <td>esm_cosine</td>\n",
       "      <td>macro</td>\n",
       "      <td>mF1</td>\n",
       "      <td>0.769478</td>\n",
       "      <td>0.007565</td>\n",
       "    </tr>\n",
       "    <tr>\n",
       "      <th>2</th>\n",
       "      <td>esm_cosine</td>\n",
       "      <td>macro</td>\n",
       "      <td>mPrecision</td>\n",
       "      <td>0.793549</td>\n",
       "      <td>0.007176</td>\n",
       "    </tr>\n",
       "    <tr>\n",
       "      <th>3</th>\n",
       "      <td>esm_cosine</td>\n",
       "      <td>macro</td>\n",
       "      <td>mRecall</td>\n",
       "      <td>0.944240</td>\n",
       "      <td>0.003049</td>\n",
       "    </tr>\n",
       "    <tr>\n",
       "      <th>4</th>\n",
       "      <td>esm_cosine</td>\n",
       "      <td>micro</td>\n",
       "      <td>mAccuracy</td>\n",
       "      <td>0.936950</td>\n",
       "      <td>0.001635</td>\n",
       "    </tr>\n",
       "    <tr>\n",
       "      <th>5</th>\n",
       "      <td>esm_cosine</td>\n",
       "      <td>micro</td>\n",
       "      <td>mF1</td>\n",
       "      <td>0.935216</td>\n",
       "      <td>0.002274</td>\n",
       "    </tr>\n",
       "    <tr>\n",
       "      <th>6</th>\n",
       "      <td>esm_cosine</td>\n",
       "      <td>micro</td>\n",
       "      <td>mPrecision</td>\n",
       "      <td>0.894122</td>\n",
       "      <td>0.003874</td>\n",
       "    </tr>\n",
       "    <tr>\n",
       "      <th>7</th>\n",
       "      <td>esm_cosine</td>\n",
       "      <td>micro</td>\n",
       "      <td>mRecall</td>\n",
       "      <td>0.980278</td>\n",
       "      <td>0.000878</td>\n",
       "    </tr>\n",
       "    <tr>\n",
       "      <th>8</th>\n",
       "      <td>esm_cosine</td>\n",
       "      <td>samples</td>\n",
       "      <td>mAccuracy</td>\n",
       "      <td>0.936950</td>\n",
       "      <td>0.001635</td>\n",
       "    </tr>\n",
       "    <tr>\n",
       "      <th>9</th>\n",
       "      <td>esm_cosine</td>\n",
       "      <td>samples</td>\n",
       "      <td>mF1</td>\n",
       "      <td>0.966874</td>\n",
       "      <td>0.000975</td>\n",
       "    </tr>\n",
       "    <tr>\n",
       "      <th>10</th>\n",
       "      <td>esm_cosine</td>\n",
       "      <td>samples</td>\n",
       "      <td>mPrecision</td>\n",
       "      <td>0.959791</td>\n",
       "      <td>0.001147</td>\n",
       "    </tr>\n",
       "    <tr>\n",
       "      <th>11</th>\n",
       "      <td>esm_cosine</td>\n",
       "      <td>samples</td>\n",
       "      <td>mRecall</td>\n",
       "      <td>0.985456</td>\n",
       "      <td>0.000519</td>\n",
       "    </tr>\n",
       "    <tr>\n",
       "      <th>12</th>\n",
       "      <td>esm_cosine</td>\n",
       "      <td>weighted</td>\n",
       "      <td>mAccuracy</td>\n",
       "      <td>0.936950</td>\n",
       "      <td>0.001635</td>\n",
       "    </tr>\n",
       "    <tr>\n",
       "      <th>13</th>\n",
       "      <td>esm_cosine</td>\n",
       "      <td>weighted</td>\n",
       "      <td>mF1</td>\n",
       "      <td>0.952844</td>\n",
       "      <td>0.001399</td>\n",
       "    </tr>\n",
       "    <tr>\n",
       "      <th>14</th>\n",
       "      <td>esm_cosine</td>\n",
       "      <td>weighted</td>\n",
       "      <td>mPrecision</td>\n",
       "      <td>0.941076</td>\n",
       "      <td>0.001957</td>\n",
       "    </tr>\n",
       "    <tr>\n",
       "      <th>15</th>\n",
       "      <td>esm_cosine</td>\n",
       "      <td>weighted</td>\n",
       "      <td>mRecall</td>\n",
       "      <td>0.980278</td>\n",
       "      <td>0.000878</td>\n",
       "    </tr>\n",
       "  </tbody>\n",
       "</table>\n",
       "         </div>\n",
       "         \n",
       "         <div style=\"float:left; width:600px;\">\n",
       "         <h2 style='color:blue' >ESM Cosine Evaluation 10 Fold No Prediction Overview</h2>\n",
       "              \n",
       "         </div>\n",
       "         "
      ],
      "text/plain": [
       "<IPython.core.display.HTML object>"
      ]
     },
     "execution_count": 7,
     "metadata": {},
     "output_type": "execute_result"
    }
   ],
   "source": [
    "std_esm_cosine, metrics_esm_cosine, ec_no_rxn_esm_cosine  = evTools.get_eval_results(baselineName='esm_cosine', dict_rxn2id=dict_rxn2id, method_type='direct')\n",
    "evTools.display_html_results(metrics = metrics_esm_cosine, std_mean = std_esm_cosine, no_pred=ec_no_rxn_esm_cosine, eva_name ='ESM Cosine')"
   ]
  },
  {
   "cell_type": "markdown",
   "id": "fbb117e2",
   "metadata": {},
   "source": [
    "### 4.4 T5"
   ]
  },
  {
   "cell_type": "code",
   "execution_count": 8,
   "id": "2967393e",
   "metadata": {},
   "outputs": [
    {
     "name": "stdout",
     "output_type": "stream",
     "text": [
      "Getting evaluation results for t5_euclidean ...\n",
      "Calculating mean and std ...\n"
     ]
    },
    {
     "data": {
      "text/html": [
       "\n",
       "         <div style=\"float:left; width:700px;\">\n",
       "              <h2 style='color:blue'>T5-Euclidean Evaluation 10 Fold Details</h2>\n",
       "              <table border=\"1\" class=\"dataframe\">\n",
       "  <thead>\n",
       "    <tr style=\"text-align: right;\">\n",
       "      <th></th>\n",
       "      <th>baselineName</th>\n",
       "      <th>runFold</th>\n",
       "      <th>mAccuracy</th>\n",
       "      <th>mPrecision</th>\n",
       "      <th>mRecall</th>\n",
       "      <th>mF1</th>\n",
       "      <th>avgType</th>\n",
       "    </tr>\n",
       "  </thead>\n",
       "  <tbody>\n",
       "    <tr>\n",
       "      <th>0</th>\n",
       "      <td>t5_euclidean</td>\n",
       "      <td>1</td>\n",
       "      <td>0.954088</td>\n",
       "      <td>0.962281</td>\n",
       "      <td>0.984320</td>\n",
       "      <td>0.967084</td>\n",
       "      <td>weighted</td>\n",
       "    </tr>\n",
       "    <tr>\n",
       "      <th>1</th>\n",
       "      <td>t5_euclidean</td>\n",
       "      <td>1</td>\n",
       "      <td>0.954088</td>\n",
       "      <td>0.916051</td>\n",
       "      <td>0.984320</td>\n",
       "      <td>0.948960</td>\n",
       "      <td>micro</td>\n",
       "    </tr>\n",
       "    <tr>\n",
       "      <th>2</th>\n",
       "      <td>t5_euclidean</td>\n",
       "      <td>1</td>\n",
       "      <td>0.954088</td>\n",
       "      <td>0.793163</td>\n",
       "      <td>0.953294</td>\n",
       "      <td>0.772146</td>\n",
       "      <td>macro</td>\n",
       "    </tr>\n",
       "    <tr>\n",
       "      <th>3</th>\n",
       "      <td>t5_euclidean</td>\n",
       "      <td>1</td>\n",
       "      <td>0.954088</td>\n",
       "      <td>0.970350</td>\n",
       "      <td>0.987983</td>\n",
       "      <td>0.975186</td>\n",
       "      <td>samples</td>\n",
       "    </tr>\n",
       "    <tr>\n",
       "      <th>4</th>\n",
       "      <td>t5_euclidean</td>\n",
       "      <td>2</td>\n",
       "      <td>0.952554</td>\n",
       "      <td>0.958974</td>\n",
       "      <td>0.983549</td>\n",
       "      <td>0.964047</td>\n",
       "      <td>weighted</td>\n",
       "    </tr>\n",
       "    <tr>\n",
       "      <th>5</th>\n",
       "      <td>t5_euclidean</td>\n",
       "      <td>2</td>\n",
       "      <td>0.952554</td>\n",
       "      <td>0.910823</td>\n",
       "      <td>0.983549</td>\n",
       "      <td>0.945790</td>\n",
       "      <td>micro</td>\n",
       "    </tr>\n",
       "    <tr>\n",
       "      <th>6</th>\n",
       "      <td>t5_euclidean</td>\n",
       "      <td>2</td>\n",
       "      <td>0.952554</td>\n",
       "      <td>0.788740</td>\n",
       "      <td>0.948093</td>\n",
       "      <td>0.764049</td>\n",
       "      <td>macro</td>\n",
       "    </tr>\n",
       "    <tr>\n",
       "      <th>7</th>\n",
       "      <td>t5_euclidean</td>\n",
       "      <td>2</td>\n",
       "      <td>0.952554</td>\n",
       "      <td>0.969822</td>\n",
       "      <td>0.988623</td>\n",
       "      <td>0.974864</td>\n",
       "      <td>samples</td>\n",
       "    </tr>\n",
       "    <tr>\n",
       "      <th>8</th>\n",
       "      <td>t5_euclidean</td>\n",
       "      <td>3</td>\n",
       "      <td>0.953282</td>\n",
       "      <td>0.962179</td>\n",
       "      <td>0.983630</td>\n",
       "      <td>0.966474</td>\n",
       "      <td>weighted</td>\n",
       "    </tr>\n",
       "    <tr>\n",
       "      <th>9</th>\n",
       "      <td>t5_euclidean</td>\n",
       "      <td>3</td>\n",
       "      <td>0.953282</td>\n",
       "      <td>0.918272</td>\n",
       "      <td>0.983630</td>\n",
       "      <td>0.949828</td>\n",
       "      <td>micro</td>\n",
       "    </tr>\n",
       "    <tr>\n",
       "      <th>10</th>\n",
       "      <td>t5_euclidean</td>\n",
       "      <td>3</td>\n",
       "      <td>0.953282</td>\n",
       "      <td>0.797800</td>\n",
       "      <td>0.949731</td>\n",
       "      <td>0.773620</td>\n",
       "      <td>macro</td>\n",
       "    </tr>\n",
       "    <tr>\n",
       "      <th>11</th>\n",
       "      <td>t5_euclidean</td>\n",
       "      <td>3</td>\n",
       "      <td>0.953282</td>\n",
       "      <td>0.970503</td>\n",
       "      <td>0.988315</td>\n",
       "      <td>0.975381</td>\n",
       "      <td>samples</td>\n",
       "    </tr>\n",
       "    <tr>\n",
       "      <th>12</th>\n",
       "      <td>t5_euclidean</td>\n",
       "      <td>4</td>\n",
       "      <td>0.955130</td>\n",
       "      <td>0.963139</td>\n",
       "      <td>0.982672</td>\n",
       "      <td>0.966369</td>\n",
       "      <td>weighted</td>\n",
       "    </tr>\n",
       "    <tr>\n",
       "      <th>13</th>\n",
       "      <td>t5_euclidean</td>\n",
       "      <td>4</td>\n",
       "      <td>0.955130</td>\n",
       "      <td>0.918639</td>\n",
       "      <td>0.982672</td>\n",
       "      <td>0.949577</td>\n",
       "      <td>micro</td>\n",
       "    </tr>\n",
       "    <tr>\n",
       "      <th>14</th>\n",
       "      <td>t5_euclidean</td>\n",
       "      <td>4</td>\n",
       "      <td>0.955130</td>\n",
       "      <td>0.791126</td>\n",
       "      <td>0.944901</td>\n",
       "      <td>0.764073</td>\n",
       "      <td>macro</td>\n",
       "    </tr>\n",
       "    <tr>\n",
       "      <th>15</th>\n",
       "      <td>t5_euclidean</td>\n",
       "      <td>4</td>\n",
       "      <td>0.955130</td>\n",
       "      <td>0.971433</td>\n",
       "      <td>0.988607</td>\n",
       "      <td>0.976093</td>\n",
       "      <td>samples</td>\n",
       "    </tr>\n",
       "    <tr>\n",
       "      <th>16</th>\n",
       "      <td>t5_euclidean</td>\n",
       "      <td>5</td>\n",
       "      <td>0.954206</td>\n",
       "      <td>0.962326</td>\n",
       "      <td>0.983577</td>\n",
       "      <td>0.966526</td>\n",
       "      <td>weighted</td>\n",
       "    </tr>\n",
       "    <tr>\n",
       "      <th>17</th>\n",
       "      <td>t5_euclidean</td>\n",
       "      <td>5</td>\n",
       "      <td>0.954206</td>\n",
       "      <td>0.920400</td>\n",
       "      <td>0.983577</td>\n",
       "      <td>0.950940</td>\n",
       "      <td>micro</td>\n",
       "    </tr>\n",
       "    <tr>\n",
       "      <th>18</th>\n",
       "      <td>t5_euclidean</td>\n",
       "      <td>5</td>\n",
       "      <td>0.954206</td>\n",
       "      <td>0.810050</td>\n",
       "      <td>0.948499</td>\n",
       "      <td>0.786721</td>\n",
       "      <td>macro</td>\n",
       "    </tr>\n",
       "    <tr>\n",
       "      <th>19</th>\n",
       "      <td>t5_euclidean</td>\n",
       "      <td>5</td>\n",
       "      <td>0.954206</td>\n",
       "      <td>0.971218</td>\n",
       "      <td>0.988555</td>\n",
       "      <td>0.975811</td>\n",
       "      <td>samples</td>\n",
       "    </tr>\n",
       "    <tr>\n",
       "      <th>20</th>\n",
       "      <td>t5_euclidean</td>\n",
       "      <td>6</td>\n",
       "      <td>0.954304</td>\n",
       "      <td>0.963454</td>\n",
       "      <td>0.983771</td>\n",
       "      <td>0.967280</td>\n",
       "      <td>weighted</td>\n",
       "    </tr>\n",
       "    <tr>\n",
       "      <th>21</th>\n",
       "      <td>t5_euclidean</td>\n",
       "      <td>6</td>\n",
       "      <td>0.954304</td>\n",
       "      <td>0.919689</td>\n",
       "      <td>0.983771</td>\n",
       "      <td>0.950652</td>\n",
       "      <td>micro</td>\n",
       "    </tr>\n",
       "    <tr>\n",
       "      <th>22</th>\n",
       "      <td>t5_euclidean</td>\n",
       "      <td>6</td>\n",
       "      <td>0.954304</td>\n",
       "      <td>0.802368</td>\n",
       "      <td>0.950407</td>\n",
       "      <td>0.777818</td>\n",
       "      <td>macro</td>\n",
       "    </tr>\n",
       "    <tr>\n",
       "      <th>23</th>\n",
       "      <td>t5_euclidean</td>\n",
       "      <td>6</td>\n",
       "      <td>0.954304</td>\n",
       "      <td>0.970580</td>\n",
       "      <td>0.987706</td>\n",
       "      <td>0.975321</td>\n",
       "      <td>samples</td>\n",
       "    </tr>\n",
       "    <tr>\n",
       "      <th>24</th>\n",
       "      <td>t5_euclidean</td>\n",
       "      <td>7</td>\n",
       "      <td>0.955268</td>\n",
       "      <td>0.961932</td>\n",
       "      <td>0.982962</td>\n",
       "      <td>0.965638</td>\n",
       "      <td>weighted</td>\n",
       "    </tr>\n",
       "    <tr>\n",
       "      <th>25</th>\n",
       "      <td>t5_euclidean</td>\n",
       "      <td>7</td>\n",
       "      <td>0.955268</td>\n",
       "      <td>0.916970</td>\n",
       "      <td>0.982962</td>\n",
       "      <td>0.948820</td>\n",
       "      <td>micro</td>\n",
       "    </tr>\n",
       "    <tr>\n",
       "      <th>26</th>\n",
       "      <td>t5_euclidean</td>\n",
       "      <td>7</td>\n",
       "      <td>0.955268</td>\n",
       "      <td>0.795203</td>\n",
       "      <td>0.944272</td>\n",
       "      <td>0.767969</td>\n",
       "      <td>macro</td>\n",
       "    </tr>\n",
       "    <tr>\n",
       "      <th>27</th>\n",
       "      <td>t5_euclidean</td>\n",
       "      <td>7</td>\n",
       "      <td>0.955268</td>\n",
       "      <td>0.971387</td>\n",
       "      <td>0.988458</td>\n",
       "      <td>0.975961</td>\n",
       "      <td>samples</td>\n",
       "    </tr>\n",
       "    <tr>\n",
       "      <th>28</th>\n",
       "      <td>t5_euclidean</td>\n",
       "      <td>8</td>\n",
       "      <td>0.955071</td>\n",
       "      <td>0.962117</td>\n",
       "      <td>0.984078</td>\n",
       "      <td>0.966829</td>\n",
       "      <td>weighted</td>\n",
       "    </tr>\n",
       "    <tr>\n",
       "      <th>29</th>\n",
       "      <td>t5_euclidean</td>\n",
       "      <td>8</td>\n",
       "      <td>0.955071</td>\n",
       "      <td>0.918872</td>\n",
       "      <td>0.984078</td>\n",
       "      <td>0.950358</td>\n",
       "      <td>micro</td>\n",
       "    </tr>\n",
       "    <tr>\n",
       "      <th>30</th>\n",
       "      <td>t5_euclidean</td>\n",
       "      <td>8</td>\n",
       "      <td>0.955071</td>\n",
       "      <td>0.798066</td>\n",
       "      <td>0.950328</td>\n",
       "      <td>0.776423</td>\n",
       "      <td>macro</td>\n",
       "    </tr>\n",
       "    <tr>\n",
       "      <th>31</th>\n",
       "      <td>t5_euclidean</td>\n",
       "      <td>8</td>\n",
       "      <td>0.955071</td>\n",
       "      <td>0.971503</td>\n",
       "      <td>0.988958</td>\n",
       "      <td>0.976213</td>\n",
       "      <td>samples</td>\n",
       "    </tr>\n",
       "    <tr>\n",
       "      <th>32</th>\n",
       "      <td>t5_euclidean</td>\n",
       "      <td>9</td>\n",
       "      <td>0.952672</td>\n",
       "      <td>0.959688</td>\n",
       "      <td>0.983591</td>\n",
       "      <td>0.965090</td>\n",
       "      <td>weighted</td>\n",
       "    </tr>\n",
       "    <tr>\n",
       "      <th>33</th>\n",
       "      <td>t5_euclidean</td>\n",
       "      <td>9</td>\n",
       "      <td>0.952672</td>\n",
       "      <td>0.910925</td>\n",
       "      <td>0.983591</td>\n",
       "      <td>0.945864</td>\n",
       "      <td>micro</td>\n",
       "    </tr>\n",
       "    <tr>\n",
       "      <th>34</th>\n",
       "      <td>t5_euclidean</td>\n",
       "      <td>9</td>\n",
       "      <td>0.952672</td>\n",
       "      <td>0.788992</td>\n",
       "      <td>0.951423</td>\n",
       "      <td>0.768135</td>\n",
       "      <td>macro</td>\n",
       "    </tr>\n",
       "    <tr>\n",
       "      <th>35</th>\n",
       "      <td>t5_euclidean</td>\n",
       "      <td>9</td>\n",
       "      <td>0.952672</td>\n",
       "      <td>0.969459</td>\n",
       "      <td>0.987688</td>\n",
       "      <td>0.974350</td>\n",
       "      <td>samples</td>\n",
       "    </tr>\n",
       "    <tr>\n",
       "      <th>36</th>\n",
       "      <td>t5_euclidean</td>\n",
       "      <td>10</td>\n",
       "      <td>0.954343</td>\n",
       "      <td>0.959947</td>\n",
       "      <td>0.983723</td>\n",
       "      <td>0.965314</td>\n",
       "      <td>weighted</td>\n",
       "    </tr>\n",
       "    <tr>\n",
       "      <th>37</th>\n",
       "      <td>t5_euclidean</td>\n",
       "      <td>10</td>\n",
       "      <td>0.954343</td>\n",
       "      <td>0.914022</td>\n",
       "      <td>0.983723</td>\n",
       "      <td>0.947592</td>\n",
       "      <td>micro</td>\n",
       "    </tr>\n",
       "    <tr>\n",
       "      <th>38</th>\n",
       "      <td>t5_euclidean</td>\n",
       "      <td>10</td>\n",
       "      <td>0.954343</td>\n",
       "      <td>0.788091</td>\n",
       "      <td>0.947408</td>\n",
       "      <td>0.765641</td>\n",
       "      <td>macro</td>\n",
       "    </tr>\n",
       "    <tr>\n",
       "      <th>39</th>\n",
       "      <td>t5_euclidean</td>\n",
       "      <td>10</td>\n",
       "      <td>0.954343</td>\n",
       "      <td>0.970755</td>\n",
       "      <td>0.988688</td>\n",
       "      <td>0.975611</td>\n",
       "      <td>samples</td>\n",
       "    </tr>\n",
       "  </tbody>\n",
       "</table>\n",
       "         </div>\n",
       "         <div  style=\"float:left; width:600px;\" >\n",
       "              <h2 style='color:blue' >T5-Euclidean Evaluation 10 Fold std and mean Overview</h2>\n",
       "                   <table border=\"1\" class=\"dataframe\">\n",
       "  <thead>\n",
       "    <tr style=\"text-align: right;\">\n",
       "      <th></th>\n",
       "      <th>baselineName</th>\n",
       "      <th>avgType</th>\n",
       "      <th>Metric</th>\n",
       "      <th>mean</th>\n",
       "      <th>std</th>\n",
       "    </tr>\n",
       "  </thead>\n",
       "  <tbody>\n",
       "    <tr>\n",
       "      <th>0</th>\n",
       "      <td>t5_euclidean</td>\n",
       "      <td>macro</td>\n",
       "      <td>mAccuracy</td>\n",
       "      <td>0.954092</td>\n",
       "      <td>0.000976</td>\n",
       "    </tr>\n",
       "    <tr>\n",
       "      <th>1</th>\n",
       "      <td>t5_euclidean</td>\n",
       "      <td>macro</td>\n",
       "      <td>mF1</td>\n",
       "      <td>0.771660</td>\n",
       "      <td>0.007221</td>\n",
       "    </tr>\n",
       "    <tr>\n",
       "      <th>2</th>\n",
       "      <td>t5_euclidean</td>\n",
       "      <td>macro</td>\n",
       "      <td>mPrecision</td>\n",
       "      <td>0.795360</td>\n",
       "      <td>0.006978</td>\n",
       "    </tr>\n",
       "    <tr>\n",
       "      <th>3</th>\n",
       "      <td>t5_euclidean</td>\n",
       "      <td>macro</td>\n",
       "      <td>mRecall</td>\n",
       "      <td>0.948836</td>\n",
       "      <td>0.002810</td>\n",
       "    </tr>\n",
       "    <tr>\n",
       "      <th>4</th>\n",
       "      <td>t5_euclidean</td>\n",
       "      <td>micro</td>\n",
       "      <td>mAccuracy</td>\n",
       "      <td>0.954092</td>\n",
       "      <td>0.000976</td>\n",
       "    </tr>\n",
       "    <tr>\n",
       "      <th>5</th>\n",
       "      <td>t5_euclidean</td>\n",
       "      <td>micro</td>\n",
       "      <td>mF1</td>\n",
       "      <td>0.948838</td>\n",
       "      <td>0.001863</td>\n",
       "    </tr>\n",
       "    <tr>\n",
       "      <th>6</th>\n",
       "      <td>t5_euclidean</td>\n",
       "      <td>micro</td>\n",
       "      <td>mPrecision</td>\n",
       "      <td>0.916466</td>\n",
       "      <td>0.003473</td>\n",
       "    </tr>\n",
       "    <tr>\n",
       "      <th>7</th>\n",
       "      <td>t5_euclidean</td>\n",
       "      <td>micro</td>\n",
       "      <td>mRecall</td>\n",
       "      <td>0.983587</td>\n",
       "      <td>0.000479</td>\n",
       "    </tr>\n",
       "    <tr>\n",
       "      <th>8</th>\n",
       "      <td>t5_euclidean</td>\n",
       "      <td>samples</td>\n",
       "      <td>mAccuracy</td>\n",
       "      <td>0.954092</td>\n",
       "      <td>0.000976</td>\n",
       "    </tr>\n",
       "    <tr>\n",
       "      <th>9</th>\n",
       "      <td>t5_euclidean</td>\n",
       "      <td>samples</td>\n",
       "      <td>mF1</td>\n",
       "      <td>0.975479</td>\n",
       "      <td>0.000582</td>\n",
       "    </tr>\n",
       "    <tr>\n",
       "      <th>10</th>\n",
       "      <td>t5_euclidean</td>\n",
       "      <td>samples</td>\n",
       "      <td>mPrecision</td>\n",
       "      <td>0.970701</td>\n",
       "      <td>0.000700</td>\n",
       "    </tr>\n",
       "    <tr>\n",
       "      <th>11</th>\n",
       "      <td>t5_euclidean</td>\n",
       "      <td>samples</td>\n",
       "      <td>mRecall</td>\n",
       "      <td>0.988358</td>\n",
       "      <td>0.000430</td>\n",
       "    </tr>\n",
       "    <tr>\n",
       "      <th>12</th>\n",
       "      <td>t5_euclidean</td>\n",
       "      <td>weighted</td>\n",
       "      <td>mAccuracy</td>\n",
       "      <td>0.954092</td>\n",
       "      <td>0.000976</td>\n",
       "    </tr>\n",
       "    <tr>\n",
       "      <th>13</th>\n",
       "      <td>t5_euclidean</td>\n",
       "      <td>weighted</td>\n",
       "      <td>mF1</td>\n",
       "      <td>0.966065</td>\n",
       "      <td>0.001019</td>\n",
       "    </tr>\n",
       "    <tr>\n",
       "      <th>14</th>\n",
       "      <td>t5_euclidean</td>\n",
       "      <td>weighted</td>\n",
       "      <td>mPrecision</td>\n",
       "      <td>0.961604</td>\n",
       "      <td>0.001520</td>\n",
       "    </tr>\n",
       "    <tr>\n",
       "      <th>15</th>\n",
       "      <td>t5_euclidean</td>\n",
       "      <td>weighted</td>\n",
       "      <td>mRecall</td>\n",
       "      <td>0.983587</td>\n",
       "      <td>0.000479</td>\n",
       "    </tr>\n",
       "  </tbody>\n",
       "</table>\n",
       "         </div>\n",
       "         \n",
       "         <div style=\"float:left; width:600px;\">\n",
       "         <h2 style='color:blue' >T5-Euclidean Evaluation 10 Fold No Prediction Overview</h2>\n",
       "              \n",
       "         </div>\n",
       "         "
      ],
      "text/plain": [
       "<IPython.core.display.HTML object>"
      ]
     },
     "execution_count": 8,
     "metadata": {},
     "output_type": "execute_result"
    }
   ],
   "source": [
    "std_t5_euclidean, metrics_t5_euclidean, ec_no_rxn_t5_euclidean  = evTools.get_eval_results(baselineName='t5_euclidean', dict_rxn2id=dict_rxn2id, method_type='direct')\n",
    "evTools.display_html_results(metrics = metrics_t5_euclidean, std_mean = std_t5_euclidean, no_pred=ec_no_rxn_t5_euclidean, eva_name ='T5-Euclidean')"
   ]
  },
  {
   "cell_type": "code",
   "execution_count": 9,
   "id": "ecb9c37b",
   "metadata": {},
   "outputs": [
    {
     "name": "stdout",
     "output_type": "stream",
     "text": [
      "Getting evaluation results for t5_cosine ...\n",
      "Calculating mean and std ...\n"
     ]
    },
    {
     "data": {
      "text/html": [
       "\n",
       "         <div style=\"float:left; width:700px;\">\n",
       "              <h2 style='color:blue'>T5-Euclidean Evaluation 10 Fold Details</h2>\n",
       "              <table border=\"1\" class=\"dataframe\">\n",
       "  <thead>\n",
       "    <tr style=\"text-align: right;\">\n",
       "      <th></th>\n",
       "      <th>baselineName</th>\n",
       "      <th>runFold</th>\n",
       "      <th>mAccuracy</th>\n",
       "      <th>mPrecision</th>\n",
       "      <th>mRecall</th>\n",
       "      <th>mF1</th>\n",
       "      <th>avgType</th>\n",
       "    </tr>\n",
       "  </thead>\n",
       "  <tbody>\n",
       "    <tr>\n",
       "      <th>0</th>\n",
       "      <td>t5_cosine</td>\n",
       "      <td>1</td>\n",
       "      <td>0.954186</td>\n",
       "      <td>0.962347</td>\n",
       "      <td>0.984338</td>\n",
       "      <td>0.967073</td>\n",
       "      <td>weighted</td>\n",
       "    </tr>\n",
       "    <tr>\n",
       "      <th>1</th>\n",
       "      <td>t5_cosine</td>\n",
       "      <td>1</td>\n",
       "      <td>0.954186</td>\n",
       "      <td>0.915585</td>\n",
       "      <td>0.984338</td>\n",
       "      <td>0.948718</td>\n",
       "      <td>micro</td>\n",
       "    </tr>\n",
       "    <tr>\n",
       "      <th>2</th>\n",
       "      <td>t5_cosine</td>\n",
       "      <td>1</td>\n",
       "      <td>0.954186</td>\n",
       "      <td>0.792602</td>\n",
       "      <td>0.953247</td>\n",
       "      <td>0.771326</td>\n",
       "      <td>macro</td>\n",
       "    </tr>\n",
       "    <tr>\n",
       "      <th>3</th>\n",
       "      <td>t5_cosine</td>\n",
       "      <td>1</td>\n",
       "      <td>0.954186</td>\n",
       "      <td>0.970402</td>\n",
       "      <td>0.988038</td>\n",
       "      <td>0.975210</td>\n",
       "      <td>samples</td>\n",
       "    </tr>\n",
       "    <tr>\n",
       "      <th>4</th>\n",
       "      <td>t5_cosine</td>\n",
       "      <td>2</td>\n",
       "      <td>0.953341</td>\n",
       "      <td>0.959822</td>\n",
       "      <td>0.983481</td>\n",
       "      <td>0.964536</td>\n",
       "      <td>weighted</td>\n",
       "    </tr>\n",
       "    <tr>\n",
       "      <th>5</th>\n",
       "      <td>t5_cosine</td>\n",
       "      <td>2</td>\n",
       "      <td>0.953341</td>\n",
       "      <td>0.912065</td>\n",
       "      <td>0.983481</td>\n",
       "      <td>0.946428</td>\n",
       "      <td>micro</td>\n",
       "    </tr>\n",
       "    <tr>\n",
       "      <th>6</th>\n",
       "      <td>t5_cosine</td>\n",
       "      <td>2</td>\n",
       "      <td>0.953341</td>\n",
       "      <td>0.789920</td>\n",
       "      <td>0.948462</td>\n",
       "      <td>0.764916</td>\n",
       "      <td>macro</td>\n",
       "    </tr>\n",
       "    <tr>\n",
       "      <th>7</th>\n",
       "      <td>t5_cosine</td>\n",
       "      <td>2</td>\n",
       "      <td>0.953341</td>\n",
       "      <td>0.970347</td>\n",
       "      <td>0.988629</td>\n",
       "      <td>0.975232</td>\n",
       "      <td>samples</td>\n",
       "    </tr>\n",
       "    <tr>\n",
       "      <th>8</th>\n",
       "      <td>t5_cosine</td>\n",
       "      <td>3</td>\n",
       "      <td>0.953537</td>\n",
       "      <td>0.962086</td>\n",
       "      <td>0.983664</td>\n",
       "      <td>0.966485</td>\n",
       "      <td>weighted</td>\n",
       "    </tr>\n",
       "    <tr>\n",
       "      <th>9</th>\n",
       "      <td>t5_cosine</td>\n",
       "      <td>3</td>\n",
       "      <td>0.953537</td>\n",
       "      <td>0.918245</td>\n",
       "      <td>0.983664</td>\n",
       "      <td>0.949830</td>\n",
       "      <td>micro</td>\n",
       "    </tr>\n",
       "    <tr>\n",
       "      <th>10</th>\n",
       "      <td>t5_cosine</td>\n",
       "      <td>3</td>\n",
       "      <td>0.953537</td>\n",
       "      <td>0.798623</td>\n",
       "      <td>0.950026</td>\n",
       "      <td>0.774778</td>\n",
       "      <td>macro</td>\n",
       "    </tr>\n",
       "    <tr>\n",
       "      <th>11</th>\n",
       "      <td>t5_cosine</td>\n",
       "      <td>3</td>\n",
       "      <td>0.953537</td>\n",
       "      <td>0.970728</td>\n",
       "      <td>0.988391</td>\n",
       "      <td>0.975545</td>\n",
       "      <td>samples</td>\n",
       "    </tr>\n",
       "    <tr>\n",
       "      <th>12</th>\n",
       "      <td>t5_cosine</td>\n",
       "      <td>4</td>\n",
       "      <td>0.955582</td>\n",
       "      <td>0.963369</td>\n",
       "      <td>0.982876</td>\n",
       "      <td>0.966643</td>\n",
       "      <td>weighted</td>\n",
       "    </tr>\n",
       "    <tr>\n",
       "      <th>13</th>\n",
       "      <td>t5_cosine</td>\n",
       "      <td>4</td>\n",
       "      <td>0.955582</td>\n",
       "      <td>0.919312</td>\n",
       "      <td>0.982876</td>\n",
       "      <td>0.950032</td>\n",
       "      <td>micro</td>\n",
       "    </tr>\n",
       "    <tr>\n",
       "      <th>14</th>\n",
       "      <td>t5_cosine</td>\n",
       "      <td>4</td>\n",
       "      <td>0.955582</td>\n",
       "      <td>0.792940</td>\n",
       "      <td>0.944921</td>\n",
       "      <td>0.766240</td>\n",
       "      <td>macro</td>\n",
       "    </tr>\n",
       "    <tr>\n",
       "      <th>15</th>\n",
       "      <td>t5_cosine</td>\n",
       "      <td>4</td>\n",
       "      <td>0.955582</td>\n",
       "      <td>0.971749</td>\n",
       "      <td>0.988739</td>\n",
       "      <td>0.976370</td>\n",
       "      <td>samples</td>\n",
       "    </tr>\n",
       "    <tr>\n",
       "      <th>16</th>\n",
       "      <td>t5_cosine</td>\n",
       "      <td>5</td>\n",
       "      <td>0.954992</td>\n",
       "      <td>0.962976</td>\n",
       "      <td>0.983577</td>\n",
       "      <td>0.966939</td>\n",
       "      <td>weighted</td>\n",
       "    </tr>\n",
       "    <tr>\n",
       "      <th>17</th>\n",
       "      <td>t5_cosine</td>\n",
       "      <td>5</td>\n",
       "      <td>0.954992</td>\n",
       "      <td>0.921238</td>\n",
       "      <td>0.983577</td>\n",
       "      <td>0.951387</td>\n",
       "      <td>micro</td>\n",
       "    </tr>\n",
       "    <tr>\n",
       "      <th>18</th>\n",
       "      <td>t5_cosine</td>\n",
       "      <td>5</td>\n",
       "      <td>0.954992</td>\n",
       "      <td>0.810334</td>\n",
       "      <td>0.948477</td>\n",
       "      <td>0.786865</td>\n",
       "      <td>macro</td>\n",
       "    </tr>\n",
       "    <tr>\n",
       "      <th>19</th>\n",
       "      <td>t5_cosine</td>\n",
       "      <td>5</td>\n",
       "      <td>0.954992</td>\n",
       "      <td>0.971605</td>\n",
       "      <td>0.988546</td>\n",
       "      <td>0.976057</td>\n",
       "      <td>samples</td>\n",
       "    </tr>\n",
       "    <tr>\n",
       "      <th>20</th>\n",
       "      <td>t5_cosine</td>\n",
       "      <td>6</td>\n",
       "      <td>0.955012</td>\n",
       "      <td>0.963855</td>\n",
       "      <td>0.984063</td>\n",
       "      <td>0.967698</td>\n",
       "      <td>weighted</td>\n",
       "    </tr>\n",
       "    <tr>\n",
       "      <th>21</th>\n",
       "      <td>t5_cosine</td>\n",
       "      <td>6</td>\n",
       "      <td>0.955012</td>\n",
       "      <td>0.920655</td>\n",
       "      <td>0.984063</td>\n",
       "      <td>0.951303</td>\n",
       "      <td>micro</td>\n",
       "    </tr>\n",
       "    <tr>\n",
       "      <th>22</th>\n",
       "      <td>t5_cosine</td>\n",
       "      <td>6</td>\n",
       "      <td>0.955012</td>\n",
       "      <td>0.801782</td>\n",
       "      <td>0.950619</td>\n",
       "      <td>0.777535</td>\n",
       "      <td>macro</td>\n",
       "    </tr>\n",
       "    <tr>\n",
       "      <th>23</th>\n",
       "      <td>t5_cosine</td>\n",
       "      <td>6</td>\n",
       "      <td>0.955012</td>\n",
       "      <td>0.971082</td>\n",
       "      <td>0.987901</td>\n",
       "      <td>0.975744</td>\n",
       "      <td>samples</td>\n",
       "    </tr>\n",
       "    <tr>\n",
       "      <th>24</th>\n",
       "      <td>t5_cosine</td>\n",
       "      <td>7</td>\n",
       "      <td>0.955995</td>\n",
       "      <td>0.962366</td>\n",
       "      <td>0.982859</td>\n",
       "      <td>0.965813</td>\n",
       "      <td>weighted</td>\n",
       "    </tr>\n",
       "    <tr>\n",
       "      <th>25</th>\n",
       "      <td>t5_cosine</td>\n",
       "      <td>7</td>\n",
       "      <td>0.955995</td>\n",
       "      <td>0.918178</td>\n",
       "      <td>0.982859</td>\n",
       "      <td>0.949418</td>\n",
       "      <td>micro</td>\n",
       "    </tr>\n",
       "    <tr>\n",
       "      <th>26</th>\n",
       "      <td>t5_cosine</td>\n",
       "      <td>7</td>\n",
       "      <td>0.955995</td>\n",
       "      <td>0.797965</td>\n",
       "      <td>0.944098</td>\n",
       "      <td>0.770403</td>\n",
       "      <td>macro</td>\n",
       "    </tr>\n",
       "    <tr>\n",
       "      <th>27</th>\n",
       "      <td>t5_cosine</td>\n",
       "      <td>7</td>\n",
       "      <td>0.955995</td>\n",
       "      <td>0.971813</td>\n",
       "      <td>0.988418</td>\n",
       "      <td>0.976250</td>\n",
       "      <td>samples</td>\n",
       "    </tr>\n",
       "    <tr>\n",
       "      <th>28</th>\n",
       "      <td>t5_cosine</td>\n",
       "      <td>8</td>\n",
       "      <td>0.955897</td>\n",
       "      <td>0.963159</td>\n",
       "      <td>0.984078</td>\n",
       "      <td>0.967378</td>\n",
       "      <td>weighted</td>\n",
       "    </tr>\n",
       "    <tr>\n",
       "      <th>29</th>\n",
       "      <td>t5_cosine</td>\n",
       "      <td>8</td>\n",
       "      <td>0.955897</td>\n",
       "      <td>0.921238</td>\n",
       "      <td>0.984078</td>\n",
       "      <td>0.951622</td>\n",
       "      <td>micro</td>\n",
       "    </tr>\n",
       "    <tr>\n",
       "      <th>30</th>\n",
       "      <td>t5_cosine</td>\n",
       "      <td>8</td>\n",
       "      <td>0.955897</td>\n",
       "      <td>0.805676</td>\n",
       "      <td>0.950116</td>\n",
       "      <td>0.782912</td>\n",
       "      <td>macro</td>\n",
       "    </tr>\n",
       "    <tr>\n",
       "      <th>31</th>\n",
       "      <td>t5_cosine</td>\n",
       "      <td>8</td>\n",
       "      <td>0.955897</td>\n",
       "      <td>0.972062</td>\n",
       "      <td>0.988991</td>\n",
       "      <td>0.976642</td>\n",
       "      <td>samples</td>\n",
       "    </tr>\n",
       "    <tr>\n",
       "      <th>32</th>\n",
       "      <td>t5_cosine</td>\n",
       "      <td>9</td>\n",
       "      <td>0.953223</td>\n",
       "      <td>0.959874</td>\n",
       "      <td>0.983642</td>\n",
       "      <td>0.965224</td>\n",
       "      <td>weighted</td>\n",
       "    </tr>\n",
       "    <tr>\n",
       "      <th>33</th>\n",
       "      <td>t5_cosine</td>\n",
       "      <td>9</td>\n",
       "      <td>0.953223</td>\n",
       "      <td>0.911276</td>\n",
       "      <td>0.983642</td>\n",
       "      <td>0.946077</td>\n",
       "      <td>micro</td>\n",
       "    </tr>\n",
       "    <tr>\n",
       "      <th>34</th>\n",
       "      <td>t5_cosine</td>\n",
       "      <td>9</td>\n",
       "      <td>0.953223</td>\n",
       "      <td>0.788736</td>\n",
       "      <td>0.951142</td>\n",
       "      <td>0.768117</td>\n",
       "      <td>macro</td>\n",
       "    </tr>\n",
       "    <tr>\n",
       "      <th>35</th>\n",
       "      <td>t5_cosine</td>\n",
       "      <td>9</td>\n",
       "      <td>0.953223</td>\n",
       "      <td>0.969762</td>\n",
       "      <td>0.987775</td>\n",
       "      <td>0.974582</td>\n",
       "      <td>samples</td>\n",
       "    </tr>\n",
       "    <tr>\n",
       "      <th>36</th>\n",
       "      <td>t5_cosine</td>\n",
       "      <td>10</td>\n",
       "      <td>0.954678</td>\n",
       "      <td>0.960678</td>\n",
       "      <td>0.983518</td>\n",
       "      <td>0.965668</td>\n",
       "      <td>weighted</td>\n",
       "    </tr>\n",
       "    <tr>\n",
       "      <th>37</th>\n",
       "      <td>t5_cosine</td>\n",
       "      <td>10</td>\n",
       "      <td>0.954678</td>\n",
       "      <td>0.915209</td>\n",
       "      <td>0.983518</td>\n",
       "      <td>0.948135</td>\n",
       "      <td>micro</td>\n",
       "    </tr>\n",
       "    <tr>\n",
       "      <th>38</th>\n",
       "      <td>t5_cosine</td>\n",
       "      <td>10</td>\n",
       "      <td>0.954678</td>\n",
       "      <td>0.790317</td>\n",
       "      <td>0.947018</td>\n",
       "      <td>0.767393</td>\n",
       "      <td>macro</td>\n",
       "    </tr>\n",
       "    <tr>\n",
       "      <th>39</th>\n",
       "      <td>t5_cosine</td>\n",
       "      <td>10</td>\n",
       "      <td>0.954678</td>\n",
       "      <td>0.970952</td>\n",
       "      <td>0.988476</td>\n",
       "      <td>0.975697</td>\n",
       "      <td>samples</td>\n",
       "    </tr>\n",
       "  </tbody>\n",
       "</table>\n",
       "         </div>\n",
       "         <div  style=\"float:left; width:600px;\" >\n",
       "              <h2 style='color:blue' >T5-Euclidean Evaluation 10 Fold std and mean Overview</h2>\n",
       "                   <table border=\"1\" class=\"dataframe\">\n",
       "  <thead>\n",
       "    <tr style=\"text-align: right;\">\n",
       "      <th></th>\n",
       "      <th>baselineName</th>\n",
       "      <th>avgType</th>\n",
       "      <th>Metric</th>\n",
       "      <th>mean</th>\n",
       "      <th>std</th>\n",
       "    </tr>\n",
       "  </thead>\n",
       "  <tbody>\n",
       "    <tr>\n",
       "      <th>0</th>\n",
       "      <td>t5_cosine</td>\n",
       "      <td>macro</td>\n",
       "      <td>mAccuracy</td>\n",
       "      <td>0.954644</td>\n",
       "      <td>0.001037</td>\n",
       "    </tr>\n",
       "    <tr>\n",
       "      <th>1</th>\n",
       "      <td>t5_cosine</td>\n",
       "      <td>macro</td>\n",
       "      <td>mF1</td>\n",
       "      <td>0.773048</td>\n",
       "      <td>0.007379</td>\n",
       "    </tr>\n",
       "    <tr>\n",
       "      <th>2</th>\n",
       "      <td>t5_cosine</td>\n",
       "      <td>macro</td>\n",
       "      <td>mPrecision</td>\n",
       "      <td>0.796889</td>\n",
       "      <td>0.007290</td>\n",
       "    </tr>\n",
       "    <tr>\n",
       "      <th>3</th>\n",
       "      <td>t5_cosine</td>\n",
       "      <td>macro</td>\n",
       "      <td>mRecall</td>\n",
       "      <td>0.948813</td>\n",
       "      <td>0.002835</td>\n",
       "    </tr>\n",
       "    <tr>\n",
       "      <th>4</th>\n",
       "      <td>t5_cosine</td>\n",
       "      <td>micro</td>\n",
       "      <td>mAccuracy</td>\n",
       "      <td>0.954644</td>\n",
       "      <td>0.001037</td>\n",
       "    </tr>\n",
       "    <tr>\n",
       "      <th>5</th>\n",
       "      <td>t5_cosine</td>\n",
       "      <td>micro</td>\n",
       "      <td>mF1</td>\n",
       "      <td>0.949295</td>\n",
       "      <td>0.001970</td>\n",
       "    </tr>\n",
       "    <tr>\n",
       "      <th>6</th>\n",
       "      <td>t5_cosine</td>\n",
       "      <td>micro</td>\n",
       "      <td>mPrecision</td>\n",
       "      <td>0.917300</td>\n",
       "      <td>0.003636</td>\n",
       "    </tr>\n",
       "    <tr>\n",
       "      <th>7</th>\n",
       "      <td>t5_cosine</td>\n",
       "      <td>micro</td>\n",
       "      <td>mRecall</td>\n",
       "      <td>0.983610</td>\n",
       "      <td>0.000481</td>\n",
       "    </tr>\n",
       "    <tr>\n",
       "      <th>8</th>\n",
       "      <td>t5_cosine</td>\n",
       "      <td>samples</td>\n",
       "      <td>mAccuracy</td>\n",
       "      <td>0.954644</td>\n",
       "      <td>0.001037</td>\n",
       "    </tr>\n",
       "    <tr>\n",
       "      <th>9</th>\n",
       "      <td>t5_cosine</td>\n",
       "      <td>samples</td>\n",
       "      <td>mF1</td>\n",
       "      <td>0.975733</td>\n",
       "      <td>0.000623</td>\n",
       "    </tr>\n",
       "    <tr>\n",
       "      <th>10</th>\n",
       "      <td>t5_cosine</td>\n",
       "      <td>samples</td>\n",
       "      <td>mPrecision</td>\n",
       "      <td>0.971050</td>\n",
       "      <td>0.000752</td>\n",
       "    </tr>\n",
       "    <tr>\n",
       "      <th>11</th>\n",
       "      <td>t5_cosine</td>\n",
       "      <td>samples</td>\n",
       "      <td>mRecall</td>\n",
       "      <td>0.988390</td>\n",
       "      <td>0.000382</td>\n",
       "    </tr>\n",
       "    <tr>\n",
       "      <th>12</th>\n",
       "      <td>t5_cosine</td>\n",
       "      <td>weighted</td>\n",
       "      <td>mAccuracy</td>\n",
       "      <td>0.954644</td>\n",
       "      <td>0.001037</td>\n",
       "    </tr>\n",
       "    <tr>\n",
       "      <th>13</th>\n",
       "      <td>t5_cosine</td>\n",
       "      <td>weighted</td>\n",
       "      <td>mF1</td>\n",
       "      <td>0.966346</td>\n",
       "      <td>0.001009</td>\n",
       "    </tr>\n",
       "    <tr>\n",
       "      <th>14</th>\n",
       "      <td>t5_cosine</td>\n",
       "      <td>weighted</td>\n",
       "      <td>mPrecision</td>\n",
       "      <td>0.962053</td>\n",
       "      <td>0.001448</td>\n",
       "    </tr>\n",
       "    <tr>\n",
       "      <th>15</th>\n",
       "      <td>t5_cosine</td>\n",
       "      <td>weighted</td>\n",
       "      <td>mRecall</td>\n",
       "      <td>0.983610</td>\n",
       "      <td>0.000481</td>\n",
       "    </tr>\n",
       "  </tbody>\n",
       "</table>\n",
       "         </div>\n",
       "         \n",
       "         <div style=\"float:left; width:600px;\">\n",
       "         <h2 style='color:blue' >T5-Euclidean Evaluation 10 Fold No Prediction Overview</h2>\n",
       "              \n",
       "         </div>\n",
       "         "
      ],
      "text/plain": [
       "<IPython.core.display.HTML object>"
      ]
     },
     "execution_count": 9,
     "metadata": {},
     "output_type": "execute_result"
    }
   ],
   "source": [
    "std_t5_cosine, metrics_t5_cosine, ec_no_rxn_t5_cosine  = evTools.get_eval_results(baselineName='t5_cosine', dict_rxn2id=dict_rxn2id, method_type='direct')\n",
    "evTools.display_html_results(metrics = metrics_t5_cosine, std_mean = std_t5_cosine, no_pred=ec_no_rxn_t5_cosine, eva_name ='T5-Euclidean')"
   ]
  },
  {
   "cell_type": "markdown",
   "id": "420b9693",
   "metadata": {},
   "source": [
    "### 4.5 ALFP"
   ]
  },
  {
   "cell_type": "code",
   "execution_count": 10,
   "id": "4c658b21",
   "metadata": {},
   "outputs": [
    {
     "name": "stdout",
     "output_type": "stream",
     "text": [
      "Getting evaluation results for RXNRECer ...\n",
      "Calculating mean and std ...\n"
     ]
    },
    {
     "data": {
      "text/html": [
       "\n",
       "         <div style=\"float:left; width:700px;\">\n",
       "              <h2 style='color:blue'>ALFP Evaluation 10 Fold Details</h2>\n",
       "              <table border=\"1\" class=\"dataframe\">\n",
       "  <thead>\n",
       "    <tr style=\"text-align: right;\">\n",
       "      <th></th>\n",
       "      <th>baselineName</th>\n",
       "      <th>runFold</th>\n",
       "      <th>mAccuracy</th>\n",
       "      <th>mPrecision</th>\n",
       "      <th>mRecall</th>\n",
       "      <th>mF1</th>\n",
       "      <th>avgType</th>\n",
       "    </tr>\n",
       "  </thead>\n",
       "  <tbody>\n",
       "    <tr>\n",
       "      <th>0</th>\n",
       "      <td>RXNRECer</td>\n",
       "      <td>1</td>\n",
       "      <td>0.987868</td>\n",
       "      <td>0.993214</td>\n",
       "      <td>0.981904</td>\n",
       "      <td>0.982549</td>\n",
       "      <td>weighted</td>\n",
       "    </tr>\n",
       "    <tr>\n",
       "      <th>1</th>\n",
       "      <td>RXNRECer</td>\n",
       "      <td>1</td>\n",
       "      <td>0.987868</td>\n",
       "      <td>0.989586</td>\n",
       "      <td>0.981904</td>\n",
       "      <td>0.985730</td>\n",
       "      <td>micro</td>\n",
       "    </tr>\n",
       "    <tr>\n",
       "      <th>2</th>\n",
       "      <td>RXNRECer</td>\n",
       "      <td>1</td>\n",
       "      <td>0.987868</td>\n",
       "      <td>0.983285</td>\n",
       "      <td>0.957753</td>\n",
       "      <td>0.946830</td>\n",
       "      <td>macro</td>\n",
       "    </tr>\n",
       "    <tr>\n",
       "      <th>3</th>\n",
       "      <td>RXNRECer</td>\n",
       "      <td>1</td>\n",
       "      <td>0.987868</td>\n",
       "      <td>0.991223</td>\n",
       "      <td>0.990404</td>\n",
       "      <td>0.990378</td>\n",
       "      <td>samples</td>\n",
       "    </tr>\n",
       "    <tr>\n",
       "      <th>4</th>\n",
       "      <td>RXNRECer</td>\n",
       "      <td>2</td>\n",
       "      <td>0.987259</td>\n",
       "      <td>0.992444</td>\n",
       "      <td>0.979576</td>\n",
       "      <td>0.980261</td>\n",
       "      <td>weighted</td>\n",
       "    </tr>\n",
       "    <tr>\n",
       "      <th>5</th>\n",
       "      <td>RXNRECer</td>\n",
       "      <td>2</td>\n",
       "      <td>0.987259</td>\n",
       "      <td>0.987827</td>\n",
       "      <td>0.979576</td>\n",
       "      <td>0.983684</td>\n",
       "      <td>micro</td>\n",
       "    </tr>\n",
       "    <tr>\n",
       "      <th>6</th>\n",
       "      <td>RXNRECer</td>\n",
       "      <td>2</td>\n",
       "      <td>0.987259</td>\n",
       "      <td>0.978083</td>\n",
       "      <td>0.947131</td>\n",
       "      <td>0.931573</td>\n",
       "      <td>macro</td>\n",
       "    </tr>\n",
       "    <tr>\n",
       "      <th>7</th>\n",
       "      <td>RXNRECer</td>\n",
       "      <td>2</td>\n",
       "      <td>0.987259</td>\n",
       "      <td>0.990433</td>\n",
       "      <td>0.989777</td>\n",
       "      <td>0.989713</td>\n",
       "      <td>samples</td>\n",
       "    </tr>\n",
       "    <tr>\n",
       "      <th>8</th>\n",
       "      <td>RXNRECer</td>\n",
       "      <td>3</td>\n",
       "      <td>0.987160</td>\n",
       "      <td>0.992512</td>\n",
       "      <td>0.979572</td>\n",
       "      <td>0.980189</td>\n",
       "      <td>weighted</td>\n",
       "    </tr>\n",
       "    <tr>\n",
       "      <th>9</th>\n",
       "      <td>RXNRECer</td>\n",
       "      <td>3</td>\n",
       "      <td>0.987160</td>\n",
       "      <td>0.989357</td>\n",
       "      <td>0.979572</td>\n",
       "      <td>0.984440</td>\n",
       "      <td>micro</td>\n",
       "    </tr>\n",
       "    <tr>\n",
       "      <th>10</th>\n",
       "      <td>RXNRECer</td>\n",
       "      <td>3</td>\n",
       "      <td>0.987160</td>\n",
       "      <td>0.983971</td>\n",
       "      <td>0.947636</td>\n",
       "      <td>0.937850</td>\n",
       "      <td>macro</td>\n",
       "    </tr>\n",
       "    <tr>\n",
       "      <th>11</th>\n",
       "      <td>RXNRECer</td>\n",
       "      <td>3</td>\n",
       "      <td>0.987160</td>\n",
       "      <td>0.990854</td>\n",
       "      <td>0.989846</td>\n",
       "      <td>0.989911</td>\n",
       "      <td>samples</td>\n",
       "    </tr>\n",
       "    <tr>\n",
       "      <th>12</th>\n",
       "      <td>RXNRECer</td>\n",
       "      <td>4</td>\n",
       "      <td>0.986511</td>\n",
       "      <td>0.992056</td>\n",
       "      <td>0.977821</td>\n",
       "      <td>0.978814</td>\n",
       "      <td>weighted</td>\n",
       "    </tr>\n",
       "    <tr>\n",
       "      <th>13</th>\n",
       "      <td>RXNRECer</td>\n",
       "      <td>4</td>\n",
       "      <td>0.986511</td>\n",
       "      <td>0.987537</td>\n",
       "      <td>0.977821</td>\n",
       "      <td>0.982655</td>\n",
       "      <td>micro</td>\n",
       "    </tr>\n",
       "    <tr>\n",
       "      <th>14</th>\n",
       "      <td>RXNRECer</td>\n",
       "      <td>4</td>\n",
       "      <td>0.986511</td>\n",
       "      <td>0.976960</td>\n",
       "      <td>0.944785</td>\n",
       "      <td>0.929016</td>\n",
       "      <td>macro</td>\n",
       "    </tr>\n",
       "    <tr>\n",
       "      <th>15</th>\n",
       "      <td>RXNRECer</td>\n",
       "      <td>4</td>\n",
       "      <td>0.986511</td>\n",
       "      <td>0.990296</td>\n",
       "      <td>0.989581</td>\n",
       "      <td>0.989451</td>\n",
       "      <td>samples</td>\n",
       "    </tr>\n",
       "    <tr>\n",
       "      <th>16</th>\n",
       "      <td>RXNRECer</td>\n",
       "      <td>5</td>\n",
       "      <td>0.987062</td>\n",
       "      <td>0.992854</td>\n",
       "      <td>0.979365</td>\n",
       "      <td>0.980276</td>\n",
       "      <td>weighted</td>\n",
       "    </tr>\n",
       "    <tr>\n",
       "      <th>17</th>\n",
       "      <td>RXNRECer</td>\n",
       "      <td>5</td>\n",
       "      <td>0.987062</td>\n",
       "      <td>0.989933</td>\n",
       "      <td>0.979365</td>\n",
       "      <td>0.984621</td>\n",
       "      <td>micro</td>\n",
       "    </tr>\n",
       "    <tr>\n",
       "      <th>18</th>\n",
       "      <td>RXNRECer</td>\n",
       "      <td>5</td>\n",
       "      <td>0.987062</td>\n",
       "      <td>0.984422</td>\n",
       "      <td>0.946323</td>\n",
       "      <td>0.937361</td>\n",
       "      <td>macro</td>\n",
       "    </tr>\n",
       "    <tr>\n",
       "      <th>19</th>\n",
       "      <td>RXNRECer</td>\n",
       "      <td>5</td>\n",
       "      <td>0.987062</td>\n",
       "      <td>0.991187</td>\n",
       "      <td>0.990024</td>\n",
       "      <td>0.990091</td>\n",
       "      <td>samples</td>\n",
       "    </tr>\n",
       "    <tr>\n",
       "      <th>20</th>\n",
       "      <td>RXNRECer</td>\n",
       "      <td>6</td>\n",
       "      <td>0.987396</td>\n",
       "      <td>0.992809</td>\n",
       "      <td>0.981595</td>\n",
       "      <td>0.982230</td>\n",
       "      <td>weighted</td>\n",
       "    </tr>\n",
       "    <tr>\n",
       "      <th>21</th>\n",
       "      <td>RXNRECer</td>\n",
       "      <td>6</td>\n",
       "      <td>0.987396</td>\n",
       "      <td>0.989548</td>\n",
       "      <td>0.981595</td>\n",
       "      <td>0.985556</td>\n",
       "      <td>micro</td>\n",
       "    </tr>\n",
       "    <tr>\n",
       "      <th>22</th>\n",
       "      <td>RXNRECer</td>\n",
       "      <td>6</td>\n",
       "      <td>0.987396</td>\n",
       "      <td>0.984352</td>\n",
       "      <td>0.960117</td>\n",
       "      <td>0.949657</td>\n",
       "      <td>macro</td>\n",
       "    </tr>\n",
       "    <tr>\n",
       "      <th>23</th>\n",
       "      <td>RXNRECer</td>\n",
       "      <td>6</td>\n",
       "      <td>0.987396</td>\n",
       "      <td>0.990904</td>\n",
       "      <td>0.990121</td>\n",
       "      <td>0.990035</td>\n",
       "      <td>samples</td>\n",
       "    </tr>\n",
       "    <tr>\n",
       "      <th>24</th>\n",
       "      <td>RXNRECer</td>\n",
       "      <td>7</td>\n",
       "      <td>0.988202</td>\n",
       "      <td>0.993010</td>\n",
       "      <td>0.981764</td>\n",
       "      <td>0.982301</td>\n",
       "      <td>weighted</td>\n",
       "    </tr>\n",
       "    <tr>\n",
       "      <th>25</th>\n",
       "      <td>RXNRECer</td>\n",
       "      <td>7</td>\n",
       "      <td>0.988202</td>\n",
       "      <td>0.988954</td>\n",
       "      <td>0.981764</td>\n",
       "      <td>0.985346</td>\n",
       "      <td>micro</td>\n",
       "    </tr>\n",
       "    <tr>\n",
       "      <th>26</th>\n",
       "      <td>RXNRECer</td>\n",
       "      <td>7</td>\n",
       "      <td>0.988202</td>\n",
       "      <td>0.979919</td>\n",
       "      <td>0.953760</td>\n",
       "      <td>0.939448</td>\n",
       "      <td>macro</td>\n",
       "    </tr>\n",
       "    <tr>\n",
       "      <th>27</th>\n",
       "      <td>RXNRECer</td>\n",
       "      <td>7</td>\n",
       "      <td>0.988202</td>\n",
       "      <td>0.991584</td>\n",
       "      <td>0.990853</td>\n",
       "      <td>0.990781</td>\n",
       "      <td>samples</td>\n",
       "    </tr>\n",
       "    <tr>\n",
       "      <th>28</th>\n",
       "      <td>RXNRECer</td>\n",
       "      <td>8</td>\n",
       "      <td>0.987947</td>\n",
       "      <td>0.993196</td>\n",
       "      <td>0.981038</td>\n",
       "      <td>0.981474</td>\n",
       "      <td>weighted</td>\n",
       "    </tr>\n",
       "    <tr>\n",
       "      <th>29</th>\n",
       "      <td>RXNRECer</td>\n",
       "      <td>8</td>\n",
       "      <td>0.987947</td>\n",
       "      <td>0.990018</td>\n",
       "      <td>0.981038</td>\n",
       "      <td>0.985507</td>\n",
       "      <td>micro</td>\n",
       "    </tr>\n",
       "    <tr>\n",
       "      <th>30</th>\n",
       "      <td>RXNRECer</td>\n",
       "      <td>8</td>\n",
       "      <td>0.987947</td>\n",
       "      <td>0.983520</td>\n",
       "      <td>0.946844</td>\n",
       "      <td>0.936268</td>\n",
       "      <td>macro</td>\n",
       "    </tr>\n",
       "    <tr>\n",
       "      <th>31</th>\n",
       "      <td>RXNRECer</td>\n",
       "      <td>8</td>\n",
       "      <td>0.987947</td>\n",
       "      <td>0.991287</td>\n",
       "      <td>0.990412</td>\n",
       "      <td>0.990364</td>\n",
       "      <td>samples</td>\n",
       "    </tr>\n",
       "    <tr>\n",
       "      <th>32</th>\n",
       "      <td>RXNRECer</td>\n",
       "      <td>9</td>\n",
       "      <td>0.986806</td>\n",
       "      <td>0.992256</td>\n",
       "      <td>0.981127</td>\n",
       "      <td>0.981313</td>\n",
       "      <td>weighted</td>\n",
       "    </tr>\n",
       "    <tr>\n",
       "      <th>33</th>\n",
       "      <td>RXNRECer</td>\n",
       "      <td>9</td>\n",
       "      <td>0.986806</td>\n",
       "      <td>0.988212</td>\n",
       "      <td>0.981127</td>\n",
       "      <td>0.984656</td>\n",
       "      <td>micro</td>\n",
       "    </tr>\n",
       "    <tr>\n",
       "      <th>34</th>\n",
       "      <td>RXNRECer</td>\n",
       "      <td>9</td>\n",
       "      <td>0.986806</td>\n",
       "      <td>0.980503</td>\n",
       "      <td>0.953833</td>\n",
       "      <td>0.939987</td>\n",
       "      <td>macro</td>\n",
       "    </tr>\n",
       "    <tr>\n",
       "      <th>35</th>\n",
       "      <td>RXNRECer</td>\n",
       "      <td>9</td>\n",
       "      <td>0.986806</td>\n",
       "      <td>0.990439</td>\n",
       "      <td>0.989737</td>\n",
       "      <td>0.989586</td>\n",
       "      <td>samples</td>\n",
       "    </tr>\n",
       "    <tr>\n",
       "      <th>36</th>\n",
       "      <td>RXNRECer</td>\n",
       "      <td>10</td>\n",
       "      <td>0.986610</td>\n",
       "      <td>0.992396</td>\n",
       "      <td>0.980126</td>\n",
       "      <td>0.980816</td>\n",
       "      <td>weighted</td>\n",
       "    </tr>\n",
       "    <tr>\n",
       "      <th>37</th>\n",
       "      <td>RXNRECer</td>\n",
       "      <td>10</td>\n",
       "      <td>0.986610</td>\n",
       "      <td>0.988653</td>\n",
       "      <td>0.980126</td>\n",
       "      <td>0.984371</td>\n",
       "      <td>micro</td>\n",
       "    </tr>\n",
       "    <tr>\n",
       "      <th>38</th>\n",
       "      <td>RXNRECer</td>\n",
       "      <td>10</td>\n",
       "      <td>0.986610</td>\n",
       "      <td>0.981648</td>\n",
       "      <td>0.951783</td>\n",
       "      <td>0.939672</td>\n",
       "      <td>macro</td>\n",
       "    </tr>\n",
       "    <tr>\n",
       "      <th>39</th>\n",
       "      <td>RXNRECer</td>\n",
       "      <td>10</td>\n",
       "      <td>0.986610</td>\n",
       "      <td>0.990317</td>\n",
       "      <td>0.989692</td>\n",
       "      <td>0.989493</td>\n",
       "      <td>samples</td>\n",
       "    </tr>\n",
       "  </tbody>\n",
       "</table>\n",
       "         </div>\n",
       "         <div  style=\"float:left; width:600px;\" >\n",
       "              <h2 style='color:blue' >ALFP Evaluation 10 Fold std and mean Overview</h2>\n",
       "                   <table border=\"1\" class=\"dataframe\">\n",
       "  <thead>\n",
       "    <tr style=\"text-align: right;\">\n",
       "      <th></th>\n",
       "      <th>baselineName</th>\n",
       "      <th>avgType</th>\n",
       "      <th>Metric</th>\n",
       "      <th>mean</th>\n",
       "      <th>std</th>\n",
       "    </tr>\n",
       "  </thead>\n",
       "  <tbody>\n",
       "    <tr>\n",
       "      <th>0</th>\n",
       "      <td>RXNRECer</td>\n",
       "      <td>macro</td>\n",
       "      <td>mAccuracy</td>\n",
       "      <td>0.987282</td>\n",
       "      <td>0.000576</td>\n",
       "    </tr>\n",
       "    <tr>\n",
       "      <th>1</th>\n",
       "      <td>RXNRECer</td>\n",
       "      <td>macro</td>\n",
       "      <td>mF1</td>\n",
       "      <td>0.938766</td>\n",
       "      <td>0.006167</td>\n",
       "    </tr>\n",
       "    <tr>\n",
       "      <th>2</th>\n",
       "      <td>RXNRECer</td>\n",
       "      <td>macro</td>\n",
       "      <td>mPrecision</td>\n",
       "      <td>0.981666</td>\n",
       "      <td>0.002699</td>\n",
       "    </tr>\n",
       "    <tr>\n",
       "      <th>3</th>\n",
       "      <td>RXNRECer</td>\n",
       "      <td>macro</td>\n",
       "      <td>mRecall</td>\n",
       "      <td>0.950997</td>\n",
       "      <td>0.005260</td>\n",
       "    </tr>\n",
       "    <tr>\n",
       "      <th>4</th>\n",
       "      <td>RXNRECer</td>\n",
       "      <td>micro</td>\n",
       "      <td>mAccuracy</td>\n",
       "      <td>0.987282</td>\n",
       "      <td>0.000576</td>\n",
       "    </tr>\n",
       "    <tr>\n",
       "      <th>5</th>\n",
       "      <td>RXNRECer</td>\n",
       "      <td>micro</td>\n",
       "      <td>mF1</td>\n",
       "      <td>0.984657</td>\n",
       "      <td>0.000957</td>\n",
       "    </tr>\n",
       "    <tr>\n",
       "      <th>6</th>\n",
       "      <td>RXNRECer</td>\n",
       "      <td>micro</td>\n",
       "      <td>mPrecision</td>\n",
       "      <td>0.988962</td>\n",
       "      <td>0.000877</td>\n",
       "    </tr>\n",
       "    <tr>\n",
       "      <th>7</th>\n",
       "      <td>RXNRECer</td>\n",
       "      <td>micro</td>\n",
       "      <td>mRecall</td>\n",
       "      <td>0.980389</td>\n",
       "      <td>0.001319</td>\n",
       "    </tr>\n",
       "    <tr>\n",
       "      <th>8</th>\n",
       "      <td>RXNRECer</td>\n",
       "      <td>samples</td>\n",
       "      <td>mAccuracy</td>\n",
       "      <td>0.987282</td>\n",
       "      <td>0.000576</td>\n",
       "    </tr>\n",
       "    <tr>\n",
       "      <th>9</th>\n",
       "      <td>RXNRECer</td>\n",
       "      <td>samples</td>\n",
       "      <td>mF1</td>\n",
       "      <td>0.989980</td>\n",
       "      <td>0.000436</td>\n",
       "    </tr>\n",
       "    <tr>\n",
       "      <th>10</th>\n",
       "      <td>RXNRECer</td>\n",
       "      <td>samples</td>\n",
       "      <td>mPrecision</td>\n",
       "      <td>0.990852</td>\n",
       "      <td>0.000462</td>\n",
       "    </tr>\n",
       "    <tr>\n",
       "      <th>11</th>\n",
       "      <td>RXNRECer</td>\n",
       "      <td>samples</td>\n",
       "      <td>mRecall</td>\n",
       "      <td>0.990045</td>\n",
       "      <td>0.000404</td>\n",
       "    </tr>\n",
       "    <tr>\n",
       "      <th>12</th>\n",
       "      <td>RXNRECer</td>\n",
       "      <td>weighted</td>\n",
       "      <td>mAccuracy</td>\n",
       "      <td>0.987282</td>\n",
       "      <td>0.000576</td>\n",
       "    </tr>\n",
       "    <tr>\n",
       "      <th>13</th>\n",
       "      <td>RXNRECer</td>\n",
       "      <td>weighted</td>\n",
       "      <td>mF1</td>\n",
       "      <td>0.981022</td>\n",
       "      <td>0.001177</td>\n",
       "    </tr>\n",
       "    <tr>\n",
       "      <th>14</th>\n",
       "      <td>RXNRECer</td>\n",
       "      <td>weighted</td>\n",
       "      <td>mPrecision</td>\n",
       "      <td>0.992675</td>\n",
       "      <td>0.000400</td>\n",
       "    </tr>\n",
       "    <tr>\n",
       "      <th>15</th>\n",
       "      <td>RXNRECer</td>\n",
       "      <td>weighted</td>\n",
       "      <td>mRecall</td>\n",
       "      <td>0.980389</td>\n",
       "      <td>0.001319</td>\n",
       "    </tr>\n",
       "  </tbody>\n",
       "</table>\n",
       "         </div>\n",
       "         \n",
       "         <div style=\"float:left; width:600px;\">\n",
       "         <h2 style='color:blue' >ALFP Evaluation 10 Fold No Prediction Overview</h2>\n",
       "              \n",
       "         </div>\n",
       "         "
      ],
      "text/plain": [
       "<IPython.core.display.HTML object>"
      ]
     },
     "execution_count": 10,
     "metadata": {},
     "output_type": "execute_result"
    }
   ],
   "source": [
    "std_ecrecer, metrics_ecrecer, ec_no_rxn_ecrecer  = evTools.get_eval_results(baselineName='RXNRECer', dict_rxn2id=dict_rxn2id, method_type='direct')\n",
    "evTools.display_html_results(metrics = metrics_ecrecer, std_mean = std_ecrecer, no_pred=ec_no_rxn_ecrecer, eva_name ='ALFP')"
   ]
  },
  {
   "cell_type": "markdown",
   "id": "34981828",
   "metadata": {},
   "source": [
    "# 5. 整合指标"
   ]
  },
  {
   "cell_type": "code",
   "execution_count": 69,
   "id": "5f7905dd",
   "metadata": {},
   "outputs": [
    {
     "data": {
      "text/html": [
       "<div>\n",
       "<style scoped>\n",
       "    .dataframe tbody tr th:only-of-type {\n",
       "        vertical-align: middle;\n",
       "    }\n",
       "\n",
       "    .dataframe tbody tr th {\n",
       "        vertical-align: top;\n",
       "    }\n",
       "\n",
       "    .dataframe thead th {\n",
       "        text-align: right;\n",
       "    }\n",
       "</style>\n",
       "<table border=\"1\" class=\"dataframe\">\n",
       "  <thead>\n",
       "    <tr style=\"text-align: right;\">\n",
       "      <th></th>\n",
       "      <th>baselineName</th>\n",
       "      <th>avgType</th>\n",
       "      <th>Metric</th>\n",
       "      <th>mean</th>\n",
       "      <th>std</th>\n",
       "    </tr>\n",
       "  </thead>\n",
       "  <tbody>\n",
       "    <tr>\n",
       "      <th>0</th>\n",
       "      <td>blast</td>\n",
       "      <td>macro</td>\n",
       "      <td>mAccuracy</td>\n",
       "      <td>0.828000</td>\n",
       "      <td>0.037357</td>\n",
       "    </tr>\n",
       "    <tr>\n",
       "      <th>1</th>\n",
       "      <td>blast</td>\n",
       "      <td>macro</td>\n",
       "      <td>mF1</td>\n",
       "      <td>0.994924</td>\n",
       "      <td>0.002831</td>\n",
       "    </tr>\n",
       "    <tr>\n",
       "      <th>2</th>\n",
       "      <td>blast</td>\n",
       "      <td>macro</td>\n",
       "      <td>mPrecision</td>\n",
       "      <td>0.994981</td>\n",
       "      <td>0.002829</td>\n",
       "    </tr>\n",
       "  </tbody>\n",
       "</table>\n",
       "</div>"
      ],
      "text/plain": [
       "  baselineName avgType      Metric      mean       std\n",
       "0        blast   macro   mAccuracy  0.828000  0.037357\n",
       "1        blast   macro         mF1  0.994924  0.002831\n",
       "2        blast   macro  mPrecision  0.994981  0.002829"
      ]
     },
     "execution_count": 69,
     "metadata": {},
     "output_type": "execute_result"
    }
   ],
   "source": [
    "file_metrics_all_direct = f'{cfg.DIR_PROJECT_ROOT}/results/intermediate/direct/std_10_fold_direct_methods.csv'\n",
    "if not os.path.exists(file_metrics_all_direct):\n",
    "    res_std = pd.concat([std_blast, std_unirep_euclidean, std_unirep_cosine, std_esm_euclidean, std_esm_cosine , std_t5_euclidean, std_t5_cosine, std_ecrecer], axis=0)\n",
    "    res_std.to_csv(file_metrics_all_direct, index=False, sep='\\t')\n",
    "else:\n",
    "    res_std = pd.read_csv(file_metrics_all_direct, sep='\\t')\n",
    "res_std.head(3)\n",
    "    "
   ]
  },
  {
   "cell_type": "code",
   "execution_count": 65,
   "id": "832c8fec",
   "metadata": {},
   "outputs": [
    {
     "data": {
      "application/vnd.plotly.v1+json": {
       "config": {
        "plotlyServerURL": "https://plot.ly"
       },
       "data": [
        {
         "error_y": {
          "array": [
           0.03735713526965838,
           0.002829392831537911,
           0.00008578645470121401,
           0.0028311156279487854
          ],
          "type": "data",
          "visible": true
         },
         "marker": {
          "color": "#8ECFC9",
          "line": {
           "color": "black",
           "width": 0.5
          }
         },
         "name": "blast",
         "type": "bar",
         "width": 0.08,
         "x": [
          "mAccuracy",
          "mPrecision",
          "mRecall",
          "mF1"
         ],
         "y": [
          0.828,
          0.9949808272046227,
          0.9999166986013934,
          0.9949242741614072
         ]
        },
        {
         "error_y": {
          "array": [
           0.0015059028117058164,
           0.011152217219642001,
           0.0051090990814975515,
           0.009531060331815515
          ],
          "type": "data",
          "visible": true
         },
         "marker": {
          "color": "#FFBE7A",
          "line": {
           "color": "black",
           "width": 0.5
          }
         },
         "name": "unirep_euclidean",
         "type": "bar",
         "width": 0.08,
         "x": [
          "mAccuracy",
          "mPrecision",
          "mRecall",
          "mF1"
         ],
         "y": [
          0.8897007353808644,
          0.7316104958990921,
          0.9189388485576213,
          0.7037177851414952
         ]
        },
        {
         "error_y": {
          "array": [
           0.001589904103474761,
           0.011174275925290167,
           0.005070470454674195,
           0.00917262865727566
          ],
          "type": "data",
          "visible": true
         },
         "marker": {
          "color": "#FA7F6F",
          "line": {
           "color": "black",
           "width": 0.5
          }
         },
         "name": "unirep_cosine",
         "type": "bar",
         "width": 0.08,
         "x": [
          "mAccuracy",
          "mPrecision",
          "mRecall",
          "mF1"
         ],
         "y": [
          0.8907605489795115,
          0.7332867373840296,
          0.9196597150375332,
          0.7053964344622059
         ]
        },
        {
         "error_y": {
          "array": [
           0.0015672398542976192,
           0.008869856766766703,
           0.0028346078256072187,
           0.00883027565395761
          ],
          "type": "data",
          "visible": true
         },
         "marker": {
          "color": "#82B0D2",
          "line": {
           "color": "black",
           "width": 0.5
          }
         },
         "name": "esm_euclidean",
         "type": "bar",
         "width": 0.08,
         "x": [
          "mAccuracy",
          "mPrecision",
          "mRecall",
          "mF1"
         ],
         "y": [
          0.9351213181800307,
          0.7848783502931181,
          0.9436088113023878,
          0.7615458230963426
         ]
        },
        {
         "error_y": {
          "array": [
           0.0016345120478554037,
           0.007175915275550448,
           0.003049259787147749,
           0.007565211565935791
          ],
          "type": "data",
          "visible": true
         },
         "marker": {
          "color": "#BEB8DC",
          "line": {
           "color": "black",
           "width": 0.5
          }
         },
         "name": "esm_cosine",
         "type": "bar",
         "width": 0.08,
         "x": [
          "mAccuracy",
          "mPrecision",
          "mRecall",
          "mF1"
         ],
         "y": [
          0.9369499390459712,
          0.7935487808915558,
          0.9442399008133056,
          0.7694779001557474
         ]
        },
        {
         "error_y": {
          "array": [
           0.0009761925314479762,
           0.006977608731474129,
           0.0028102797097087615,
           0.007220851685200548
          ],
          "type": "data",
          "visible": true
         },
         "marker": {
          "color": "#E7DAD2",
          "line": {
           "color": "black",
           "width": 0.5
          }
         },
         "name": "t5_euclidean",
         "type": "bar",
         "width": 0.08,
         "x": [
          "mAccuracy",
          "mPrecision",
          "mRecall",
          "mF1"
         ],
         "y": [
          0.9540917849699163,
          0.7953598694781285,
          0.9488355459361634,
          0.7716596309832526
         ]
        },
        {
         "error_y": {
          "array": [
           0.0010374301635664343,
           0.007289783058579774,
           0.002835424984126501,
           0.007379355009431792
          ],
          "type": "data",
          "visible": true
         },
         "marker": {
          "color": "#999999",
          "line": {
           "color": "black",
           "width": 0.5
          }
         },
         "name": "t5_cosine",
         "type": "bar",
         "width": 0.08,
         "x": [
          "mAccuracy",
          "mPrecision",
          "mRecall",
          "mF1"
         ],
         "y": [
          0.9546443037476896,
          0.7968893535118561,
          0.9488126606042737,
          0.7730484994765073
         ]
        },
        {
         "error_y": {
          "array": [
           0.0005755614726839192,
           0.002699334063722888,
           0.005260334857567421,
           0.006166894939157558
          ],
          "type": "data",
          "visible": true
         },
         "marker": {
          "color": "#A1D3B2",
          "line": {
           "color": "black",
           "width": 0.5
          }
         },
         "name": "RXNRECer",
         "type": "bar",
         "width": 0.08,
         "x": [
          "mAccuracy",
          "mPrecision",
          "mRecall",
          "mF1"
         ],
         "y": [
          0.9872822368162334,
          0.98166633246961,
          0.9509965340498706,
          0.9387660825465257
         ]
        }
       ],
       "layout": {
        "bargap": 0.29,
        "barmode": "group",
        "height": 600,
        "legend": {
         "borderwidth": 1,
         "orientation": "h",
         "tracegroupgap": 2,
         "x": 0.5,
         "xanchor": "center",
         "y": 0.99,
         "yanchor": "bottom"
        },
        "template": {
         "data": {
          "bar": [
           {
            "error_x": {
             "color": "#2a3f5f"
            },
            "error_y": {
             "color": "#2a3f5f"
            },
            "marker": {
             "line": {
              "color": "white",
              "width": 0.5
             },
             "pattern": {
              "fillmode": "overlay",
              "size": 10,
              "solidity": 0.2
             }
            },
            "type": "bar"
           }
          ],
          "barpolar": [
           {
            "marker": {
             "line": {
              "color": "white",
              "width": 0.5
             },
             "pattern": {
              "fillmode": "overlay",
              "size": 10,
              "solidity": 0.2
             }
            },
            "type": "barpolar"
           }
          ],
          "carpet": [
           {
            "aaxis": {
             "endlinecolor": "#2a3f5f",
             "gridcolor": "#C8D4E3",
             "linecolor": "#C8D4E3",
             "minorgridcolor": "#C8D4E3",
             "startlinecolor": "#2a3f5f"
            },
            "baxis": {
             "endlinecolor": "#2a3f5f",
             "gridcolor": "#C8D4E3",
             "linecolor": "#C8D4E3",
             "minorgridcolor": "#C8D4E3",
             "startlinecolor": "#2a3f5f"
            },
            "type": "carpet"
           }
          ],
          "choropleth": [
           {
            "colorbar": {
             "outlinewidth": 0,
             "ticks": ""
            },
            "type": "choropleth"
           }
          ],
          "contour": [
           {
            "colorbar": {
             "outlinewidth": 0,
             "ticks": ""
            },
            "colorscale": [
             [
              0,
              "#0d0887"
             ],
             [
              0.1111111111111111,
              "#46039f"
             ],
             [
              0.2222222222222222,
              "#7201a8"
             ],
             [
              0.3333333333333333,
              "#9c179e"
             ],
             [
              0.4444444444444444,
              "#bd3786"
             ],
             [
              0.5555555555555556,
              "#d8576b"
             ],
             [
              0.6666666666666666,
              "#ed7953"
             ],
             [
              0.7777777777777778,
              "#fb9f3a"
             ],
             [
              0.8888888888888888,
              "#fdca26"
             ],
             [
              1,
              "#f0f921"
             ]
            ],
            "type": "contour"
           }
          ],
          "contourcarpet": [
           {
            "colorbar": {
             "outlinewidth": 0,
             "ticks": ""
            },
            "type": "contourcarpet"
           }
          ],
          "heatmap": [
           {
            "colorbar": {
             "outlinewidth": 0,
             "ticks": ""
            },
            "colorscale": [
             [
              0,
              "#0d0887"
             ],
             [
              0.1111111111111111,
              "#46039f"
             ],
             [
              0.2222222222222222,
              "#7201a8"
             ],
             [
              0.3333333333333333,
              "#9c179e"
             ],
             [
              0.4444444444444444,
              "#bd3786"
             ],
             [
              0.5555555555555556,
              "#d8576b"
             ],
             [
              0.6666666666666666,
              "#ed7953"
             ],
             [
              0.7777777777777778,
              "#fb9f3a"
             ],
             [
              0.8888888888888888,
              "#fdca26"
             ],
             [
              1,
              "#f0f921"
             ]
            ],
            "type": "heatmap"
           }
          ],
          "heatmapgl": [
           {
            "colorbar": {
             "outlinewidth": 0,
             "ticks": ""
            },
            "colorscale": [
             [
              0,
              "#0d0887"
             ],
             [
              0.1111111111111111,
              "#46039f"
             ],
             [
              0.2222222222222222,
              "#7201a8"
             ],
             [
              0.3333333333333333,
              "#9c179e"
             ],
             [
              0.4444444444444444,
              "#bd3786"
             ],
             [
              0.5555555555555556,
              "#d8576b"
             ],
             [
              0.6666666666666666,
              "#ed7953"
             ],
             [
              0.7777777777777778,
              "#fb9f3a"
             ],
             [
              0.8888888888888888,
              "#fdca26"
             ],
             [
              1,
              "#f0f921"
             ]
            ],
            "type": "heatmapgl"
           }
          ],
          "histogram": [
           {
            "marker": {
             "pattern": {
              "fillmode": "overlay",
              "size": 10,
              "solidity": 0.2
             }
            },
            "type": "histogram"
           }
          ],
          "histogram2d": [
           {
            "colorbar": {
             "outlinewidth": 0,
             "ticks": ""
            },
            "colorscale": [
             [
              0,
              "#0d0887"
             ],
             [
              0.1111111111111111,
              "#46039f"
             ],
             [
              0.2222222222222222,
              "#7201a8"
             ],
             [
              0.3333333333333333,
              "#9c179e"
             ],
             [
              0.4444444444444444,
              "#bd3786"
             ],
             [
              0.5555555555555556,
              "#d8576b"
             ],
             [
              0.6666666666666666,
              "#ed7953"
             ],
             [
              0.7777777777777778,
              "#fb9f3a"
             ],
             [
              0.8888888888888888,
              "#fdca26"
             ],
             [
              1,
              "#f0f921"
             ]
            ],
            "type": "histogram2d"
           }
          ],
          "histogram2dcontour": [
           {
            "colorbar": {
             "outlinewidth": 0,
             "ticks": ""
            },
            "colorscale": [
             [
              0,
              "#0d0887"
             ],
             [
              0.1111111111111111,
              "#46039f"
             ],
             [
              0.2222222222222222,
              "#7201a8"
             ],
             [
              0.3333333333333333,
              "#9c179e"
             ],
             [
              0.4444444444444444,
              "#bd3786"
             ],
             [
              0.5555555555555556,
              "#d8576b"
             ],
             [
              0.6666666666666666,
              "#ed7953"
             ],
             [
              0.7777777777777778,
              "#fb9f3a"
             ],
             [
              0.8888888888888888,
              "#fdca26"
             ],
             [
              1,
              "#f0f921"
             ]
            ],
            "type": "histogram2dcontour"
           }
          ],
          "mesh3d": [
           {
            "colorbar": {
             "outlinewidth": 0,
             "ticks": ""
            },
            "type": "mesh3d"
           }
          ],
          "parcoords": [
           {
            "line": {
             "colorbar": {
              "outlinewidth": 0,
              "ticks": ""
             }
            },
            "type": "parcoords"
           }
          ],
          "pie": [
           {
            "automargin": true,
            "type": "pie"
           }
          ],
          "scatter": [
           {
            "fillpattern": {
             "fillmode": "overlay",
             "size": 10,
             "solidity": 0.2
            },
            "type": "scatter"
           }
          ],
          "scatter3d": [
           {
            "line": {
             "colorbar": {
              "outlinewidth": 0,
              "ticks": ""
             }
            },
            "marker": {
             "colorbar": {
              "outlinewidth": 0,
              "ticks": ""
             }
            },
            "type": "scatter3d"
           }
          ],
          "scattercarpet": [
           {
            "marker": {
             "colorbar": {
              "outlinewidth": 0,
              "ticks": ""
             }
            },
            "type": "scattercarpet"
           }
          ],
          "scattergeo": [
           {
            "marker": {
             "colorbar": {
              "outlinewidth": 0,
              "ticks": ""
             }
            },
            "type": "scattergeo"
           }
          ],
          "scattergl": [
           {
            "marker": {
             "colorbar": {
              "outlinewidth": 0,
              "ticks": ""
             }
            },
            "type": "scattergl"
           }
          ],
          "scattermapbox": [
           {
            "marker": {
             "colorbar": {
              "outlinewidth": 0,
              "ticks": ""
             }
            },
            "type": "scattermapbox"
           }
          ],
          "scatterpolar": [
           {
            "marker": {
             "colorbar": {
              "outlinewidth": 0,
              "ticks": ""
             }
            },
            "type": "scatterpolar"
           }
          ],
          "scatterpolargl": [
           {
            "marker": {
             "colorbar": {
              "outlinewidth": 0,
              "ticks": ""
             }
            },
            "type": "scatterpolargl"
           }
          ],
          "scatterternary": [
           {
            "marker": {
             "colorbar": {
              "outlinewidth": 0,
              "ticks": ""
             }
            },
            "type": "scatterternary"
           }
          ],
          "surface": [
           {
            "colorbar": {
             "outlinewidth": 0,
             "ticks": ""
            },
            "colorscale": [
             [
              0,
              "#0d0887"
             ],
             [
              0.1111111111111111,
              "#46039f"
             ],
             [
              0.2222222222222222,
              "#7201a8"
             ],
             [
              0.3333333333333333,
              "#9c179e"
             ],
             [
              0.4444444444444444,
              "#bd3786"
             ],
             [
              0.5555555555555556,
              "#d8576b"
             ],
             [
              0.6666666666666666,
              "#ed7953"
             ],
             [
              0.7777777777777778,
              "#fb9f3a"
             ],
             [
              0.8888888888888888,
              "#fdca26"
             ],
             [
              1,
              "#f0f921"
             ]
            ],
            "type": "surface"
           }
          ],
          "table": [
           {
            "cells": {
             "fill": {
              "color": "#EBF0F8"
             },
             "line": {
              "color": "white"
             }
            },
            "header": {
             "fill": {
              "color": "#C8D4E3"
             },
             "line": {
              "color": "white"
             }
            },
            "type": "table"
           }
          ]
         },
         "layout": {
          "annotationdefaults": {
           "arrowcolor": "#2a3f5f",
           "arrowhead": 0,
           "arrowwidth": 1
          },
          "autotypenumbers": "strict",
          "coloraxis": {
           "colorbar": {
            "outlinewidth": 0,
            "ticks": ""
           }
          },
          "colorscale": {
           "diverging": [
            [
             0,
             "#8e0152"
            ],
            [
             0.1,
             "#c51b7d"
            ],
            [
             0.2,
             "#de77ae"
            ],
            [
             0.3,
             "#f1b6da"
            ],
            [
             0.4,
             "#fde0ef"
            ],
            [
             0.5,
             "#f7f7f7"
            ],
            [
             0.6,
             "#e6f5d0"
            ],
            [
             0.7,
             "#b8e186"
            ],
            [
             0.8,
             "#7fbc41"
            ],
            [
             0.9,
             "#4d9221"
            ],
            [
             1,
             "#276419"
            ]
           ],
           "sequential": [
            [
             0,
             "#0d0887"
            ],
            [
             0.1111111111111111,
             "#46039f"
            ],
            [
             0.2222222222222222,
             "#7201a8"
            ],
            [
             0.3333333333333333,
             "#9c179e"
            ],
            [
             0.4444444444444444,
             "#bd3786"
            ],
            [
             0.5555555555555556,
             "#d8576b"
            ],
            [
             0.6666666666666666,
             "#ed7953"
            ],
            [
             0.7777777777777778,
             "#fb9f3a"
            ],
            [
             0.8888888888888888,
             "#fdca26"
            ],
            [
             1,
             "#f0f921"
            ]
           ],
           "sequentialminus": [
            [
             0,
             "#0d0887"
            ],
            [
             0.1111111111111111,
             "#46039f"
            ],
            [
             0.2222222222222222,
             "#7201a8"
            ],
            [
             0.3333333333333333,
             "#9c179e"
            ],
            [
             0.4444444444444444,
             "#bd3786"
            ],
            [
             0.5555555555555556,
             "#d8576b"
            ],
            [
             0.6666666666666666,
             "#ed7953"
            ],
            [
             0.7777777777777778,
             "#fb9f3a"
            ],
            [
             0.8888888888888888,
             "#fdca26"
            ],
            [
             1,
             "#f0f921"
            ]
           ]
          },
          "colorway": [
           "#636efa",
           "#EF553B",
           "#00cc96",
           "#ab63fa",
           "#FFA15A",
           "#19d3f3",
           "#FF6692",
           "#B6E880",
           "#FF97FF",
           "#FECB52"
          ],
          "font": {
           "color": "#2a3f5f"
          },
          "geo": {
           "bgcolor": "white",
           "lakecolor": "white",
           "landcolor": "white",
           "showlakes": true,
           "showland": true,
           "subunitcolor": "#C8D4E3"
          },
          "hoverlabel": {
           "align": "left"
          },
          "hovermode": "closest",
          "mapbox": {
           "style": "light"
          },
          "paper_bgcolor": "white",
          "plot_bgcolor": "white",
          "polar": {
           "angularaxis": {
            "gridcolor": "#EBF0F8",
            "linecolor": "#EBF0F8",
            "ticks": ""
           },
           "bgcolor": "white",
           "radialaxis": {
            "gridcolor": "#EBF0F8",
            "linecolor": "#EBF0F8",
            "ticks": ""
           }
          },
          "scene": {
           "xaxis": {
            "backgroundcolor": "white",
            "gridcolor": "#DFE8F3",
            "gridwidth": 2,
            "linecolor": "#EBF0F8",
            "showbackground": true,
            "ticks": "",
            "zerolinecolor": "#EBF0F8"
           },
           "yaxis": {
            "backgroundcolor": "white",
            "gridcolor": "#DFE8F3",
            "gridwidth": 2,
            "linecolor": "#EBF0F8",
            "showbackground": true,
            "ticks": "",
            "zerolinecolor": "#EBF0F8"
           },
           "zaxis": {
            "backgroundcolor": "white",
            "gridcolor": "#DFE8F3",
            "gridwidth": 2,
            "linecolor": "#EBF0F8",
            "showbackground": true,
            "ticks": "",
            "zerolinecolor": "#EBF0F8"
           }
          },
          "shapedefaults": {
           "line": {
            "color": "#2a3f5f"
           }
          },
          "ternary": {
           "aaxis": {
            "gridcolor": "#DFE8F3",
            "linecolor": "#A2B1C6",
            "ticks": ""
           },
           "baxis": {
            "gridcolor": "#DFE8F3",
            "linecolor": "#A2B1C6",
            "ticks": ""
           },
           "bgcolor": "white",
           "caxis": {
            "gridcolor": "#DFE8F3",
            "linecolor": "#A2B1C6",
            "ticks": ""
           }
          },
          "title": {
           "x": 0.05
          },
          "xaxis": {
           "automargin": true,
           "gridcolor": "#EBF0F8",
           "linecolor": "#EBF0F8",
           "ticks": "",
           "title": {
            "standoff": 15
           },
           "zerolinecolor": "#EBF0F8",
           "zerolinewidth": 2
          },
          "yaxis": {
           "automargin": true,
           "gridcolor": "#EBF0F8",
           "linecolor": "#EBF0F8",
           "ticks": "",
           "title": {
            "standoff": 15
           },
           "zerolinecolor": "#EBF0F8",
           "zerolinewidth": 2
          }
         }
        },
        "title": {
         "font": {
          "size": 20,
          "weight": 1000
         },
         "text": "Performance Comparison of EC-based Reaction Prediction Methods",
         "x": 0.5,
         "xanchor": "center",
         "y": 0.05
        },
        "width": 1600,
        "xaxis": {
         "linecolor": "#000000",
         "linewidth": 1,
         "showline": true
        },
        "yaxis": {
         "dtick": 0.1,
         "gridcolor": "gray",
         "gridwidth": 1,
         "linecolor": "black",
         "linewidth": 1,
         "minor": {
          "dtick": 0.05,
          "gridcolor": "gray",
          "griddash": "dash",
          "gridwidth": 0.5,
          "showgrid": true
         },
         "range": [
          0,
          1.2
         ],
         "showgrid": true,
         "showline": true,
         "title": {
          "text": "Mean Value"
         }
        }
       }
      },
      "text/html": [
       "<div>                            <div id=\"344911f8-67bf-422f-b3d8-e5a4a12f5168\" class=\"plotly-graph-div\" style=\"height:600px; width:1600px;\"></div>            <script type=\"text/javascript\">                require([\"plotly\"], function(Plotly) {                    window.PLOTLYENV=window.PLOTLYENV || {};                                    if (document.getElementById(\"344911f8-67bf-422f-b3d8-e5a4a12f5168\")) {                    Plotly.newPlot(                        \"344911f8-67bf-422f-b3d8-e5a4a12f5168\",                        [{\"error_y\":{\"array\":[0.03735713526965838,0.002829392831537911,8.578645470121401e-05,0.0028311156279487854],\"type\":\"data\",\"visible\":true},\"marker\":{\"color\":\"#8ECFC9\",\"line\":{\"color\":\"black\",\"width\":0.5}},\"name\":\"blast\",\"width\":0.08,\"x\":[\"mAccuracy\",\"mPrecision\",\"mRecall\",\"mF1\"],\"y\":[0.828,0.9949808272046227,0.9999166986013934,0.9949242741614072],\"type\":\"bar\"},{\"error_y\":{\"array\":[0.0015059028117058164,0.011152217219642001,0.0051090990814975515,0.009531060331815515],\"type\":\"data\",\"visible\":true},\"marker\":{\"color\":\"#FFBE7A\",\"line\":{\"color\":\"black\",\"width\":0.5}},\"name\":\"unirep_euclidean\",\"width\":0.08,\"x\":[\"mAccuracy\",\"mPrecision\",\"mRecall\",\"mF1\"],\"y\":[0.8897007353808644,0.7316104958990921,0.9189388485576213,0.7037177851414952],\"type\":\"bar\"},{\"error_y\":{\"array\":[0.001589904103474761,0.011174275925290167,0.005070470454674195,0.00917262865727566],\"type\":\"data\",\"visible\":true},\"marker\":{\"color\":\"#FA7F6F\",\"line\":{\"color\":\"black\",\"width\":0.5}},\"name\":\"unirep_cosine\",\"width\":0.08,\"x\":[\"mAccuracy\",\"mPrecision\",\"mRecall\",\"mF1\"],\"y\":[0.8907605489795115,0.7332867373840296,0.9196597150375332,0.7053964344622059],\"type\":\"bar\"},{\"error_y\":{\"array\":[0.0015672398542976192,0.008869856766766703,0.0028346078256072187,0.00883027565395761],\"type\":\"data\",\"visible\":true},\"marker\":{\"color\":\"#82B0D2\",\"line\":{\"color\":\"black\",\"width\":0.5}},\"name\":\"esm_euclidean\",\"width\":0.08,\"x\":[\"mAccuracy\",\"mPrecision\",\"mRecall\",\"mF1\"],\"y\":[0.9351213181800307,0.7848783502931181,0.9436088113023878,0.7615458230963426],\"type\":\"bar\"},{\"error_y\":{\"array\":[0.0016345120478554037,0.007175915275550448,0.003049259787147749,0.007565211565935791],\"type\":\"data\",\"visible\":true},\"marker\":{\"color\":\"#BEB8DC\",\"line\":{\"color\":\"black\",\"width\":0.5}},\"name\":\"esm_cosine\",\"width\":0.08,\"x\":[\"mAccuracy\",\"mPrecision\",\"mRecall\",\"mF1\"],\"y\":[0.9369499390459712,0.7935487808915558,0.9442399008133056,0.7694779001557474],\"type\":\"bar\"},{\"error_y\":{\"array\":[0.0009761925314479762,0.006977608731474129,0.0028102797097087615,0.007220851685200548],\"type\":\"data\",\"visible\":true},\"marker\":{\"color\":\"#E7DAD2\",\"line\":{\"color\":\"black\",\"width\":0.5}},\"name\":\"t5_euclidean\",\"width\":0.08,\"x\":[\"mAccuracy\",\"mPrecision\",\"mRecall\",\"mF1\"],\"y\":[0.9540917849699163,0.7953598694781285,0.9488355459361634,0.7716596309832526],\"type\":\"bar\"},{\"error_y\":{\"array\":[0.0010374301635664343,0.007289783058579774,0.002835424984126501,0.007379355009431792],\"type\":\"data\",\"visible\":true},\"marker\":{\"color\":\"#999999\",\"line\":{\"color\":\"black\",\"width\":0.5}},\"name\":\"t5_cosine\",\"width\":0.08,\"x\":[\"mAccuracy\",\"mPrecision\",\"mRecall\",\"mF1\"],\"y\":[0.9546443037476896,0.7968893535118561,0.9488126606042737,0.7730484994765073],\"type\":\"bar\"},{\"error_y\":{\"array\":[0.0005755614726839192,0.002699334063722888,0.005260334857567421,0.006166894939157558],\"type\":\"data\",\"visible\":true},\"marker\":{\"color\":\"#A1D3B2\",\"line\":{\"color\":\"black\",\"width\":0.5}},\"name\":\"RXNRECer\",\"width\":0.08,\"x\":[\"mAccuracy\",\"mPrecision\",\"mRecall\",\"mF1\"],\"y\":[0.9872822368162334,0.98166633246961,0.9509965340498706,0.9387660825465257],\"type\":\"bar\"}],                        {\"template\":{\"data\":{\"barpolar\":[{\"marker\":{\"line\":{\"color\":\"white\",\"width\":0.5},\"pattern\":{\"fillmode\":\"overlay\",\"size\":10,\"solidity\":0.2}},\"type\":\"barpolar\"}],\"bar\":[{\"error_x\":{\"color\":\"#2a3f5f\"},\"error_y\":{\"color\":\"#2a3f5f\"},\"marker\":{\"line\":{\"color\":\"white\",\"width\":0.5},\"pattern\":{\"fillmode\":\"overlay\",\"size\":10,\"solidity\":0.2}},\"type\":\"bar\"}],\"carpet\":[{\"aaxis\":{\"endlinecolor\":\"#2a3f5f\",\"gridcolor\":\"#C8D4E3\",\"linecolor\":\"#C8D4E3\",\"minorgridcolor\":\"#C8D4E3\",\"startlinecolor\":\"#2a3f5f\"},\"baxis\":{\"endlinecolor\":\"#2a3f5f\",\"gridcolor\":\"#C8D4E3\",\"linecolor\":\"#C8D4E3\",\"minorgridcolor\":\"#C8D4E3\",\"startlinecolor\":\"#2a3f5f\"},\"type\":\"carpet\"}],\"choropleth\":[{\"colorbar\":{\"outlinewidth\":0,\"ticks\":\"\"},\"type\":\"choropleth\"}],\"contourcarpet\":[{\"colorbar\":{\"outlinewidth\":0,\"ticks\":\"\"},\"type\":\"contourcarpet\"}],\"contour\":[{\"colorbar\":{\"outlinewidth\":0,\"ticks\":\"\"},\"colorscale\":[[0.0,\"#0d0887\"],[0.1111111111111111,\"#46039f\"],[0.2222222222222222,\"#7201a8\"],[0.3333333333333333,\"#9c179e\"],[0.4444444444444444,\"#bd3786\"],[0.5555555555555556,\"#d8576b\"],[0.6666666666666666,\"#ed7953\"],[0.7777777777777778,\"#fb9f3a\"],[0.8888888888888888,\"#fdca26\"],[1.0,\"#f0f921\"]],\"type\":\"contour\"}],\"heatmapgl\":[{\"colorbar\":{\"outlinewidth\":0,\"ticks\":\"\"},\"colorscale\":[[0.0,\"#0d0887\"],[0.1111111111111111,\"#46039f\"],[0.2222222222222222,\"#7201a8\"],[0.3333333333333333,\"#9c179e\"],[0.4444444444444444,\"#bd3786\"],[0.5555555555555556,\"#d8576b\"],[0.6666666666666666,\"#ed7953\"],[0.7777777777777778,\"#fb9f3a\"],[0.8888888888888888,\"#fdca26\"],[1.0,\"#f0f921\"]],\"type\":\"heatmapgl\"}],\"heatmap\":[{\"colorbar\":{\"outlinewidth\":0,\"ticks\":\"\"},\"colorscale\":[[0.0,\"#0d0887\"],[0.1111111111111111,\"#46039f\"],[0.2222222222222222,\"#7201a8\"],[0.3333333333333333,\"#9c179e\"],[0.4444444444444444,\"#bd3786\"],[0.5555555555555556,\"#d8576b\"],[0.6666666666666666,\"#ed7953\"],[0.7777777777777778,\"#fb9f3a\"],[0.8888888888888888,\"#fdca26\"],[1.0,\"#f0f921\"]],\"type\":\"heatmap\"}],\"histogram2dcontour\":[{\"colorbar\":{\"outlinewidth\":0,\"ticks\":\"\"},\"colorscale\":[[0.0,\"#0d0887\"],[0.1111111111111111,\"#46039f\"],[0.2222222222222222,\"#7201a8\"],[0.3333333333333333,\"#9c179e\"],[0.4444444444444444,\"#bd3786\"],[0.5555555555555556,\"#d8576b\"],[0.6666666666666666,\"#ed7953\"],[0.7777777777777778,\"#fb9f3a\"],[0.8888888888888888,\"#fdca26\"],[1.0,\"#f0f921\"]],\"type\":\"histogram2dcontour\"}],\"histogram2d\":[{\"colorbar\":{\"outlinewidth\":0,\"ticks\":\"\"},\"colorscale\":[[0.0,\"#0d0887\"],[0.1111111111111111,\"#46039f\"],[0.2222222222222222,\"#7201a8\"],[0.3333333333333333,\"#9c179e\"],[0.4444444444444444,\"#bd3786\"],[0.5555555555555556,\"#d8576b\"],[0.6666666666666666,\"#ed7953\"],[0.7777777777777778,\"#fb9f3a\"],[0.8888888888888888,\"#fdca26\"],[1.0,\"#f0f921\"]],\"type\":\"histogram2d\"}],\"histogram\":[{\"marker\":{\"pattern\":{\"fillmode\":\"overlay\",\"size\":10,\"solidity\":0.2}},\"type\":\"histogram\"}],\"mesh3d\":[{\"colorbar\":{\"outlinewidth\":0,\"ticks\":\"\"},\"type\":\"mesh3d\"}],\"parcoords\":[{\"line\":{\"colorbar\":{\"outlinewidth\":0,\"ticks\":\"\"}},\"type\":\"parcoords\"}],\"pie\":[{\"automargin\":true,\"type\":\"pie\"}],\"scatter3d\":[{\"line\":{\"colorbar\":{\"outlinewidth\":0,\"ticks\":\"\"}},\"marker\":{\"colorbar\":{\"outlinewidth\":0,\"ticks\":\"\"}},\"type\":\"scatter3d\"}],\"scattercarpet\":[{\"marker\":{\"colorbar\":{\"outlinewidth\":0,\"ticks\":\"\"}},\"type\":\"scattercarpet\"}],\"scattergeo\":[{\"marker\":{\"colorbar\":{\"outlinewidth\":0,\"ticks\":\"\"}},\"type\":\"scattergeo\"}],\"scattergl\":[{\"marker\":{\"colorbar\":{\"outlinewidth\":0,\"ticks\":\"\"}},\"type\":\"scattergl\"}],\"scattermapbox\":[{\"marker\":{\"colorbar\":{\"outlinewidth\":0,\"ticks\":\"\"}},\"type\":\"scattermapbox\"}],\"scatterpolargl\":[{\"marker\":{\"colorbar\":{\"outlinewidth\":0,\"ticks\":\"\"}},\"type\":\"scatterpolargl\"}],\"scatterpolar\":[{\"marker\":{\"colorbar\":{\"outlinewidth\":0,\"ticks\":\"\"}},\"type\":\"scatterpolar\"}],\"scatter\":[{\"fillpattern\":{\"fillmode\":\"overlay\",\"size\":10,\"solidity\":0.2},\"type\":\"scatter\"}],\"scatterternary\":[{\"marker\":{\"colorbar\":{\"outlinewidth\":0,\"ticks\":\"\"}},\"type\":\"scatterternary\"}],\"surface\":[{\"colorbar\":{\"outlinewidth\":0,\"ticks\":\"\"},\"colorscale\":[[0.0,\"#0d0887\"],[0.1111111111111111,\"#46039f\"],[0.2222222222222222,\"#7201a8\"],[0.3333333333333333,\"#9c179e\"],[0.4444444444444444,\"#bd3786\"],[0.5555555555555556,\"#d8576b\"],[0.6666666666666666,\"#ed7953\"],[0.7777777777777778,\"#fb9f3a\"],[0.8888888888888888,\"#fdca26\"],[1.0,\"#f0f921\"]],\"type\":\"surface\"}],\"table\":[{\"cells\":{\"fill\":{\"color\":\"#EBF0F8\"},\"line\":{\"color\":\"white\"}},\"header\":{\"fill\":{\"color\":\"#C8D4E3\"},\"line\":{\"color\":\"white\"}},\"type\":\"table\"}]},\"layout\":{\"annotationdefaults\":{\"arrowcolor\":\"#2a3f5f\",\"arrowhead\":0,\"arrowwidth\":1},\"autotypenumbers\":\"strict\",\"coloraxis\":{\"colorbar\":{\"outlinewidth\":0,\"ticks\":\"\"}},\"colorscale\":{\"diverging\":[[0,\"#8e0152\"],[0.1,\"#c51b7d\"],[0.2,\"#de77ae\"],[0.3,\"#f1b6da\"],[0.4,\"#fde0ef\"],[0.5,\"#f7f7f7\"],[0.6,\"#e6f5d0\"],[0.7,\"#b8e186\"],[0.8,\"#7fbc41\"],[0.9,\"#4d9221\"],[1,\"#276419\"]],\"sequential\":[[0.0,\"#0d0887\"],[0.1111111111111111,\"#46039f\"],[0.2222222222222222,\"#7201a8\"],[0.3333333333333333,\"#9c179e\"],[0.4444444444444444,\"#bd3786\"],[0.5555555555555556,\"#d8576b\"],[0.6666666666666666,\"#ed7953\"],[0.7777777777777778,\"#fb9f3a\"],[0.8888888888888888,\"#fdca26\"],[1.0,\"#f0f921\"]],\"sequentialminus\":[[0.0,\"#0d0887\"],[0.1111111111111111,\"#46039f\"],[0.2222222222222222,\"#7201a8\"],[0.3333333333333333,\"#9c179e\"],[0.4444444444444444,\"#bd3786\"],[0.5555555555555556,\"#d8576b\"],[0.6666666666666666,\"#ed7953\"],[0.7777777777777778,\"#fb9f3a\"],[0.8888888888888888,\"#fdca26\"],[1.0,\"#f0f921\"]]},\"colorway\":[\"#636efa\",\"#EF553B\",\"#00cc96\",\"#ab63fa\",\"#FFA15A\",\"#19d3f3\",\"#FF6692\",\"#B6E880\",\"#FF97FF\",\"#FECB52\"],\"font\":{\"color\":\"#2a3f5f\"},\"geo\":{\"bgcolor\":\"white\",\"lakecolor\":\"white\",\"landcolor\":\"white\",\"showlakes\":true,\"showland\":true,\"subunitcolor\":\"#C8D4E3\"},\"hoverlabel\":{\"align\":\"left\"},\"hovermode\":\"closest\",\"mapbox\":{\"style\":\"light\"},\"paper_bgcolor\":\"white\",\"plot_bgcolor\":\"white\",\"polar\":{\"angularaxis\":{\"gridcolor\":\"#EBF0F8\",\"linecolor\":\"#EBF0F8\",\"ticks\":\"\"},\"bgcolor\":\"white\",\"radialaxis\":{\"gridcolor\":\"#EBF0F8\",\"linecolor\":\"#EBF0F8\",\"ticks\":\"\"}},\"scene\":{\"xaxis\":{\"backgroundcolor\":\"white\",\"gridcolor\":\"#DFE8F3\",\"gridwidth\":2,\"linecolor\":\"#EBF0F8\",\"showbackground\":true,\"ticks\":\"\",\"zerolinecolor\":\"#EBF0F8\"},\"yaxis\":{\"backgroundcolor\":\"white\",\"gridcolor\":\"#DFE8F3\",\"gridwidth\":2,\"linecolor\":\"#EBF0F8\",\"showbackground\":true,\"ticks\":\"\",\"zerolinecolor\":\"#EBF0F8\"},\"zaxis\":{\"backgroundcolor\":\"white\",\"gridcolor\":\"#DFE8F3\",\"gridwidth\":2,\"linecolor\":\"#EBF0F8\",\"showbackground\":true,\"ticks\":\"\",\"zerolinecolor\":\"#EBF0F8\"}},\"shapedefaults\":{\"line\":{\"color\":\"#2a3f5f\"}},\"ternary\":{\"aaxis\":{\"gridcolor\":\"#DFE8F3\",\"linecolor\":\"#A2B1C6\",\"ticks\":\"\"},\"baxis\":{\"gridcolor\":\"#DFE8F3\",\"linecolor\":\"#A2B1C6\",\"ticks\":\"\"},\"bgcolor\":\"white\",\"caxis\":{\"gridcolor\":\"#DFE8F3\",\"linecolor\":\"#A2B1C6\",\"ticks\":\"\"}},\"title\":{\"x\":0.05},\"xaxis\":{\"automargin\":true,\"gridcolor\":\"#EBF0F8\",\"linecolor\":\"#EBF0F8\",\"ticks\":\"\",\"title\":{\"standoff\":15},\"zerolinecolor\":\"#EBF0F8\",\"zerolinewidth\":2},\"yaxis\":{\"automargin\":true,\"gridcolor\":\"#EBF0F8\",\"linecolor\":\"#EBF0F8\",\"ticks\":\"\",\"title\":{\"standoff\":15},\"zerolinecolor\":\"#EBF0F8\",\"zerolinewidth\":2}}},\"yaxis\":{\"minor\":{\"showgrid\":true,\"griddash\":\"dash\",\"gridcolor\":\"gray\",\"gridwidth\":0.5,\"dtick\":0.05},\"showline\":true,\"linecolor\":\"black\",\"linewidth\":1,\"showgrid\":true,\"gridcolor\":\"gray\",\"gridwidth\":1,\"dtick\":0.1,\"range\":[0,1.2],\"title\":{\"text\":\"Mean Value\"}},\"xaxis\":{\"showline\":true,\"linecolor\":\"#000000\",\"linewidth\":1},\"title\":{\"font\":{\"size\":20,\"weight\":1000},\"text\":\"Performance Comparison of EC-based Reaction Prediction Methods\",\"x\":0.5,\"y\":0.05,\"xanchor\":\"center\"},\"legend\":{\"orientation\":\"h\",\"yanchor\":\"bottom\",\"y\":0.99,\"xanchor\":\"center\",\"x\":0.5,\"tracegroupgap\":2,\"borderwidth\":1},\"width\":1600,\"height\":600,\"barmode\":\"group\",\"bargap\":0.29},                        {\"responsive\": true}                    ).then(function(){\n",
       "                            \n",
       "var gd = document.getElementById('344911f8-67bf-422f-b3d8-e5a4a12f5168');\n",
       "var x = new MutationObserver(function (mutations, observer) {{\n",
       "        var display = window.getComputedStyle(gd).display;\n",
       "        if (!display || display === 'none') {{\n",
       "            console.log([gd, 'removed!']);\n",
       "            Plotly.purge(gd);\n",
       "            observer.disconnect();\n",
       "        }}\n",
       "}});\n",
       "\n",
       "// Listen for the removal of the full notebook cells\n",
       "var notebookContainer = gd.closest('#notebook-container');\n",
       "if (notebookContainer) {{\n",
       "    x.observe(notebookContainer, {childList: true});\n",
       "}}\n",
       "\n",
       "// Listen for the clearing of the current output cell\n",
       "var outputEl = gd.closest('.output');\n",
       "if (outputEl) {{\n",
       "    x.observe(outputEl, {childList: true});\n",
       "}}\n",
       "\n",
       "                        })                };                });            </script>        </div>"
      ]
     },
     "metadata": {},
     "output_type": "display_data"
    }
   ],
   "source": [
    "evTools.show_ec_methods_10_eva_fig(res_metrics_data=res_std[res_std.avgType =='macro'].reset_index(drop=True))"
   ]
  },
  {
   "cell_type": "code",
   "execution_count": 66,
   "id": "53ef981b",
   "metadata": {},
   "outputs": [
    {
     "data": {
      "application/vnd.plotly.v1+json": {
       "config": {
        "plotlyServerURL": "https://plot.ly"
       },
       "data": [
        {
         "error_y": {
          "array": [
           0.03735713526965838,
           0.11056077504873059,
           0.014166422715643983,
           0.08094150195116355
          ],
          "type": "data",
          "visible": true
         },
         "marker": {
          "color": "#8ECFC9",
          "line": {
           "color": "black",
           "width": 0.5
          }
         },
         "name": "blast",
         "type": "bar",
         "width": 0.08,
         "x": [
          "mAccuracy",
          "mPrecision",
          "mRecall",
          "mF1"
         ],
         "y": [
          0.828,
          0.6771260930144677,
          0.9589106861803595,
          0.7892119940209692
         ]
        },
        {
         "error_y": {
          "array": [
           0.0015059028117058164,
           0.0036420265727560245,
           0.0010466550251915694,
           0.002086828756660837
          ],
          "type": "data",
          "visible": true
         },
         "marker": {
          "color": "#FFBE7A",
          "line": {
           "color": "black",
           "width": 0.5
          }
         },
         "name": "unirep_euclidean",
         "type": "bar",
         "width": 0.08,
         "x": [
          "mAccuracy",
          "mPrecision",
          "mRecall",
          "mF1"
         ],
         "y": [
          0.8897007353808644,
          0.8259504216243858,
          0.961780669910052,
          0.8887009991595056
         ]
        },
        {
         "error_y": {
          "array": [
           0.001589904103474761,
           0.003859867926318434,
           0.0010402946085095255,
           0.0022536074075088825
          ],
          "type": "data",
          "visible": true
         },
         "marker": {
          "color": "#FA7F6F",
          "line": {
           "color": "black",
           "width": 0.5
          }
         },
         "name": "unirep_cosine",
         "type": "bar",
         "width": 0.08,
         "x": [
          "mAccuracy",
          "mPrecision",
          "mRecall",
          "mF1"
         ],
         "y": [
          0.8907605489795115,
          0.8275920408015022,
          0.9621782772752885,
          0.8898202050784405
         ]
        },
        {
         "error_y": {
          "array": [
           0.0015672398542976192,
           0.0035870910488750734,
           0.0009122645546096839,
           0.0021931698939395136
          ],
          "type": "data",
          "visible": true
         },
         "marker": {
          "color": "#82B0D2",
          "line": {
           "color": "black",
           "width": 0.5
          }
         },
         "name": "esm_euclidean",
         "type": "bar",
         "width": 0.08,
         "x": [
          "mAccuracy",
          "mPrecision",
          "mRecall",
          "mF1"
         ],
         "y": [
          0.9351213181800307,
          0.8893795511275698,
          0.9799331335422519,
          0.9324601671241247
         ]
        },
        {
         "error_y": {
          "array": [
           0.0016345120478554037,
           0.003873505116829212,
           0.0008782285920980575,
           0.002273741546350336
          ],
          "type": "data",
          "visible": true
         },
         "marker": {
          "color": "#BEB8DC",
          "line": {
           "color": "black",
           "width": 0.5
          }
         },
         "name": "esm_cosine",
         "type": "bar",
         "width": 0.08,
         "x": [
          "mAccuracy",
          "mPrecision",
          "mRecall",
          "mF1"
         ],
         "y": [
          0.9369499390459712,
          0.8941216111822203,
          0.9802782095992288,
          0.9352162063440476
         ]
        },
        {
         "error_y": {
          "array": [
           0.0009761925314479762,
           0.0034733354957587077,
           0.0004788524334999238,
           0.0018632833539866398
          ],
          "type": "data",
          "visible": true
         },
         "marker": {
          "color": "#E7DAD2",
          "line": {
           "color": "black",
           "width": 0.5
          }
         },
         "name": "t5_euclidean",
         "type": "bar",
         "width": 0.08,
         "x": [
          "mAccuracy",
          "mPrecision",
          "mRecall",
          "mF1"
         ],
         "y": [
          0.9540917849699163,
          0.9164662254139848,
          0.9835872865999933,
          0.9488380352843103
         ]
        },
        {
         "error_y": {
          "array": [
           0.0010374301635664343,
           0.00363604660133922,
           0.0004814764555865043,
           0.0019699640057689073
          ],
          "type": "data",
          "visible": true
         },
         "marker": {
          "color": "#999999",
          "line": {
           "color": "black",
           "width": 0.5
          }
         },
         "name": "t5_cosine",
         "type": "bar",
         "width": 0.08,
         "x": [
          "mAccuracy",
          "mPrecision",
          "mRecall",
          "mF1"
         ],
         "y": [
          0.9546443037476896,
          0.9173000879688835,
          0.9836095942919254,
          0.9492949267550242
         ]
        },
        {
         "error_y": {
          "array": [
           0.0005755614726839192,
           0.0008772480448924595,
           0.0013187091343019272,
           0.0009570822638030408
          ],
          "type": "data",
          "visible": true
         },
         "marker": {
          "color": "#A1D3B2",
          "line": {
           "color": "black",
           "width": 0.5
          }
         },
         "name": "RXNRECer",
         "type": "bar",
         "width": 0.08,
         "x": [
          "mAccuracy",
          "mPrecision",
          "mRecall",
          "mF1"
         ],
         "y": [
          0.9872822368162334,
          0.9889624702786837,
          0.9803886980496589,
          0.9846566056820769
         ]
        }
       ],
       "layout": {
        "bargap": 0.29,
        "barmode": "group",
        "height": 600,
        "legend": {
         "borderwidth": 1,
         "orientation": "h",
         "tracegroupgap": 2,
         "x": 0.5,
         "xanchor": "center",
         "y": 0.99,
         "yanchor": "bottom"
        },
        "template": {
         "data": {
          "bar": [
           {
            "error_x": {
             "color": "#2a3f5f"
            },
            "error_y": {
             "color": "#2a3f5f"
            },
            "marker": {
             "line": {
              "color": "white",
              "width": 0.5
             },
             "pattern": {
              "fillmode": "overlay",
              "size": 10,
              "solidity": 0.2
             }
            },
            "type": "bar"
           }
          ],
          "barpolar": [
           {
            "marker": {
             "line": {
              "color": "white",
              "width": 0.5
             },
             "pattern": {
              "fillmode": "overlay",
              "size": 10,
              "solidity": 0.2
             }
            },
            "type": "barpolar"
           }
          ],
          "carpet": [
           {
            "aaxis": {
             "endlinecolor": "#2a3f5f",
             "gridcolor": "#C8D4E3",
             "linecolor": "#C8D4E3",
             "minorgridcolor": "#C8D4E3",
             "startlinecolor": "#2a3f5f"
            },
            "baxis": {
             "endlinecolor": "#2a3f5f",
             "gridcolor": "#C8D4E3",
             "linecolor": "#C8D4E3",
             "minorgridcolor": "#C8D4E3",
             "startlinecolor": "#2a3f5f"
            },
            "type": "carpet"
           }
          ],
          "choropleth": [
           {
            "colorbar": {
             "outlinewidth": 0,
             "ticks": ""
            },
            "type": "choropleth"
           }
          ],
          "contour": [
           {
            "colorbar": {
             "outlinewidth": 0,
             "ticks": ""
            },
            "colorscale": [
             [
              0,
              "#0d0887"
             ],
             [
              0.1111111111111111,
              "#46039f"
             ],
             [
              0.2222222222222222,
              "#7201a8"
             ],
             [
              0.3333333333333333,
              "#9c179e"
             ],
             [
              0.4444444444444444,
              "#bd3786"
             ],
             [
              0.5555555555555556,
              "#d8576b"
             ],
             [
              0.6666666666666666,
              "#ed7953"
             ],
             [
              0.7777777777777778,
              "#fb9f3a"
             ],
             [
              0.8888888888888888,
              "#fdca26"
             ],
             [
              1,
              "#f0f921"
             ]
            ],
            "type": "contour"
           }
          ],
          "contourcarpet": [
           {
            "colorbar": {
             "outlinewidth": 0,
             "ticks": ""
            },
            "type": "contourcarpet"
           }
          ],
          "heatmap": [
           {
            "colorbar": {
             "outlinewidth": 0,
             "ticks": ""
            },
            "colorscale": [
             [
              0,
              "#0d0887"
             ],
             [
              0.1111111111111111,
              "#46039f"
             ],
             [
              0.2222222222222222,
              "#7201a8"
             ],
             [
              0.3333333333333333,
              "#9c179e"
             ],
             [
              0.4444444444444444,
              "#bd3786"
             ],
             [
              0.5555555555555556,
              "#d8576b"
             ],
             [
              0.6666666666666666,
              "#ed7953"
             ],
             [
              0.7777777777777778,
              "#fb9f3a"
             ],
             [
              0.8888888888888888,
              "#fdca26"
             ],
             [
              1,
              "#f0f921"
             ]
            ],
            "type": "heatmap"
           }
          ],
          "heatmapgl": [
           {
            "colorbar": {
             "outlinewidth": 0,
             "ticks": ""
            },
            "colorscale": [
             [
              0,
              "#0d0887"
             ],
             [
              0.1111111111111111,
              "#46039f"
             ],
             [
              0.2222222222222222,
              "#7201a8"
             ],
             [
              0.3333333333333333,
              "#9c179e"
             ],
             [
              0.4444444444444444,
              "#bd3786"
             ],
             [
              0.5555555555555556,
              "#d8576b"
             ],
             [
              0.6666666666666666,
              "#ed7953"
             ],
             [
              0.7777777777777778,
              "#fb9f3a"
             ],
             [
              0.8888888888888888,
              "#fdca26"
             ],
             [
              1,
              "#f0f921"
             ]
            ],
            "type": "heatmapgl"
           }
          ],
          "histogram": [
           {
            "marker": {
             "pattern": {
              "fillmode": "overlay",
              "size": 10,
              "solidity": 0.2
             }
            },
            "type": "histogram"
           }
          ],
          "histogram2d": [
           {
            "colorbar": {
             "outlinewidth": 0,
             "ticks": ""
            },
            "colorscale": [
             [
              0,
              "#0d0887"
             ],
             [
              0.1111111111111111,
              "#46039f"
             ],
             [
              0.2222222222222222,
              "#7201a8"
             ],
             [
              0.3333333333333333,
              "#9c179e"
             ],
             [
              0.4444444444444444,
              "#bd3786"
             ],
             [
              0.5555555555555556,
              "#d8576b"
             ],
             [
              0.6666666666666666,
              "#ed7953"
             ],
             [
              0.7777777777777778,
              "#fb9f3a"
             ],
             [
              0.8888888888888888,
              "#fdca26"
             ],
             [
              1,
              "#f0f921"
             ]
            ],
            "type": "histogram2d"
           }
          ],
          "histogram2dcontour": [
           {
            "colorbar": {
             "outlinewidth": 0,
             "ticks": ""
            },
            "colorscale": [
             [
              0,
              "#0d0887"
             ],
             [
              0.1111111111111111,
              "#46039f"
             ],
             [
              0.2222222222222222,
              "#7201a8"
             ],
             [
              0.3333333333333333,
              "#9c179e"
             ],
             [
              0.4444444444444444,
              "#bd3786"
             ],
             [
              0.5555555555555556,
              "#d8576b"
             ],
             [
              0.6666666666666666,
              "#ed7953"
             ],
             [
              0.7777777777777778,
              "#fb9f3a"
             ],
             [
              0.8888888888888888,
              "#fdca26"
             ],
             [
              1,
              "#f0f921"
             ]
            ],
            "type": "histogram2dcontour"
           }
          ],
          "mesh3d": [
           {
            "colorbar": {
             "outlinewidth": 0,
             "ticks": ""
            },
            "type": "mesh3d"
           }
          ],
          "parcoords": [
           {
            "line": {
             "colorbar": {
              "outlinewidth": 0,
              "ticks": ""
             }
            },
            "type": "parcoords"
           }
          ],
          "pie": [
           {
            "automargin": true,
            "type": "pie"
           }
          ],
          "scatter": [
           {
            "fillpattern": {
             "fillmode": "overlay",
             "size": 10,
             "solidity": 0.2
            },
            "type": "scatter"
           }
          ],
          "scatter3d": [
           {
            "line": {
             "colorbar": {
              "outlinewidth": 0,
              "ticks": ""
             }
            },
            "marker": {
             "colorbar": {
              "outlinewidth": 0,
              "ticks": ""
             }
            },
            "type": "scatter3d"
           }
          ],
          "scattercarpet": [
           {
            "marker": {
             "colorbar": {
              "outlinewidth": 0,
              "ticks": ""
             }
            },
            "type": "scattercarpet"
           }
          ],
          "scattergeo": [
           {
            "marker": {
             "colorbar": {
              "outlinewidth": 0,
              "ticks": ""
             }
            },
            "type": "scattergeo"
           }
          ],
          "scattergl": [
           {
            "marker": {
             "colorbar": {
              "outlinewidth": 0,
              "ticks": ""
             }
            },
            "type": "scattergl"
           }
          ],
          "scattermapbox": [
           {
            "marker": {
             "colorbar": {
              "outlinewidth": 0,
              "ticks": ""
             }
            },
            "type": "scattermapbox"
           }
          ],
          "scatterpolar": [
           {
            "marker": {
             "colorbar": {
              "outlinewidth": 0,
              "ticks": ""
             }
            },
            "type": "scatterpolar"
           }
          ],
          "scatterpolargl": [
           {
            "marker": {
             "colorbar": {
              "outlinewidth": 0,
              "ticks": ""
             }
            },
            "type": "scatterpolargl"
           }
          ],
          "scatterternary": [
           {
            "marker": {
             "colorbar": {
              "outlinewidth": 0,
              "ticks": ""
             }
            },
            "type": "scatterternary"
           }
          ],
          "surface": [
           {
            "colorbar": {
             "outlinewidth": 0,
             "ticks": ""
            },
            "colorscale": [
             [
              0,
              "#0d0887"
             ],
             [
              0.1111111111111111,
              "#46039f"
             ],
             [
              0.2222222222222222,
              "#7201a8"
             ],
             [
              0.3333333333333333,
              "#9c179e"
             ],
             [
              0.4444444444444444,
              "#bd3786"
             ],
             [
              0.5555555555555556,
              "#d8576b"
             ],
             [
              0.6666666666666666,
              "#ed7953"
             ],
             [
              0.7777777777777778,
              "#fb9f3a"
             ],
             [
              0.8888888888888888,
              "#fdca26"
             ],
             [
              1,
              "#f0f921"
             ]
            ],
            "type": "surface"
           }
          ],
          "table": [
           {
            "cells": {
             "fill": {
              "color": "#EBF0F8"
             },
             "line": {
              "color": "white"
             }
            },
            "header": {
             "fill": {
              "color": "#C8D4E3"
             },
             "line": {
              "color": "white"
             }
            },
            "type": "table"
           }
          ]
         },
         "layout": {
          "annotationdefaults": {
           "arrowcolor": "#2a3f5f",
           "arrowhead": 0,
           "arrowwidth": 1
          },
          "autotypenumbers": "strict",
          "coloraxis": {
           "colorbar": {
            "outlinewidth": 0,
            "ticks": ""
           }
          },
          "colorscale": {
           "diverging": [
            [
             0,
             "#8e0152"
            ],
            [
             0.1,
             "#c51b7d"
            ],
            [
             0.2,
             "#de77ae"
            ],
            [
             0.3,
             "#f1b6da"
            ],
            [
             0.4,
             "#fde0ef"
            ],
            [
             0.5,
             "#f7f7f7"
            ],
            [
             0.6,
             "#e6f5d0"
            ],
            [
             0.7,
             "#b8e186"
            ],
            [
             0.8,
             "#7fbc41"
            ],
            [
             0.9,
             "#4d9221"
            ],
            [
             1,
             "#276419"
            ]
           ],
           "sequential": [
            [
             0,
             "#0d0887"
            ],
            [
             0.1111111111111111,
             "#46039f"
            ],
            [
             0.2222222222222222,
             "#7201a8"
            ],
            [
             0.3333333333333333,
             "#9c179e"
            ],
            [
             0.4444444444444444,
             "#bd3786"
            ],
            [
             0.5555555555555556,
             "#d8576b"
            ],
            [
             0.6666666666666666,
             "#ed7953"
            ],
            [
             0.7777777777777778,
             "#fb9f3a"
            ],
            [
             0.8888888888888888,
             "#fdca26"
            ],
            [
             1,
             "#f0f921"
            ]
           ],
           "sequentialminus": [
            [
             0,
             "#0d0887"
            ],
            [
             0.1111111111111111,
             "#46039f"
            ],
            [
             0.2222222222222222,
             "#7201a8"
            ],
            [
             0.3333333333333333,
             "#9c179e"
            ],
            [
             0.4444444444444444,
             "#bd3786"
            ],
            [
             0.5555555555555556,
             "#d8576b"
            ],
            [
             0.6666666666666666,
             "#ed7953"
            ],
            [
             0.7777777777777778,
             "#fb9f3a"
            ],
            [
             0.8888888888888888,
             "#fdca26"
            ],
            [
             1,
             "#f0f921"
            ]
           ]
          },
          "colorway": [
           "#636efa",
           "#EF553B",
           "#00cc96",
           "#ab63fa",
           "#FFA15A",
           "#19d3f3",
           "#FF6692",
           "#B6E880",
           "#FF97FF",
           "#FECB52"
          ],
          "font": {
           "color": "#2a3f5f"
          },
          "geo": {
           "bgcolor": "white",
           "lakecolor": "white",
           "landcolor": "white",
           "showlakes": true,
           "showland": true,
           "subunitcolor": "#C8D4E3"
          },
          "hoverlabel": {
           "align": "left"
          },
          "hovermode": "closest",
          "mapbox": {
           "style": "light"
          },
          "paper_bgcolor": "white",
          "plot_bgcolor": "white",
          "polar": {
           "angularaxis": {
            "gridcolor": "#EBF0F8",
            "linecolor": "#EBF0F8",
            "ticks": ""
           },
           "bgcolor": "white",
           "radialaxis": {
            "gridcolor": "#EBF0F8",
            "linecolor": "#EBF0F8",
            "ticks": ""
           }
          },
          "scene": {
           "xaxis": {
            "backgroundcolor": "white",
            "gridcolor": "#DFE8F3",
            "gridwidth": 2,
            "linecolor": "#EBF0F8",
            "showbackground": true,
            "ticks": "",
            "zerolinecolor": "#EBF0F8"
           },
           "yaxis": {
            "backgroundcolor": "white",
            "gridcolor": "#DFE8F3",
            "gridwidth": 2,
            "linecolor": "#EBF0F8",
            "showbackground": true,
            "ticks": "",
            "zerolinecolor": "#EBF0F8"
           },
           "zaxis": {
            "backgroundcolor": "white",
            "gridcolor": "#DFE8F3",
            "gridwidth": 2,
            "linecolor": "#EBF0F8",
            "showbackground": true,
            "ticks": "",
            "zerolinecolor": "#EBF0F8"
           }
          },
          "shapedefaults": {
           "line": {
            "color": "#2a3f5f"
           }
          },
          "ternary": {
           "aaxis": {
            "gridcolor": "#DFE8F3",
            "linecolor": "#A2B1C6",
            "ticks": ""
           },
           "baxis": {
            "gridcolor": "#DFE8F3",
            "linecolor": "#A2B1C6",
            "ticks": ""
           },
           "bgcolor": "white",
           "caxis": {
            "gridcolor": "#DFE8F3",
            "linecolor": "#A2B1C6",
            "ticks": ""
           }
          },
          "title": {
           "x": 0.05
          },
          "xaxis": {
           "automargin": true,
           "gridcolor": "#EBF0F8",
           "linecolor": "#EBF0F8",
           "ticks": "",
           "title": {
            "standoff": 15
           },
           "zerolinecolor": "#EBF0F8",
           "zerolinewidth": 2
          },
          "yaxis": {
           "automargin": true,
           "gridcolor": "#EBF0F8",
           "linecolor": "#EBF0F8",
           "ticks": "",
           "title": {
            "standoff": 15
           },
           "zerolinecolor": "#EBF0F8",
           "zerolinewidth": 2
          }
         }
        },
        "title": {
         "font": {
          "size": 20,
          "weight": 1000
         },
         "text": "Performance Comparison of EC-based Reaction Prediction Methods",
         "x": 0.5,
         "xanchor": "center",
         "y": 0.05
        },
        "width": 1600,
        "xaxis": {
         "linecolor": "#000000",
         "linewidth": 1,
         "showline": true
        },
        "yaxis": {
         "dtick": 0.1,
         "gridcolor": "gray",
         "gridwidth": 1,
         "linecolor": "black",
         "linewidth": 1,
         "minor": {
          "dtick": 0.05,
          "gridcolor": "gray",
          "griddash": "dash",
          "gridwidth": 0.5,
          "showgrid": true
         },
         "range": [
          0,
          1.2
         ],
         "showgrid": true,
         "showline": true,
         "title": {
          "text": "Mean Value"
         }
        }
       }
      },
      "text/html": [
       "<div>                            <div id=\"fc40e16a-70b1-4b29-a14e-59f9b73f0556\" class=\"plotly-graph-div\" style=\"height:600px; width:1600px;\"></div>            <script type=\"text/javascript\">                require([\"plotly\"], function(Plotly) {                    window.PLOTLYENV=window.PLOTLYENV || {};                                    if (document.getElementById(\"fc40e16a-70b1-4b29-a14e-59f9b73f0556\")) {                    Plotly.newPlot(                        \"fc40e16a-70b1-4b29-a14e-59f9b73f0556\",                        [{\"error_y\":{\"array\":[0.03735713526965838,0.11056077504873059,0.014166422715643983,0.08094150195116355],\"type\":\"data\",\"visible\":true},\"marker\":{\"color\":\"#8ECFC9\",\"line\":{\"color\":\"black\",\"width\":0.5}},\"name\":\"blast\",\"width\":0.08,\"x\":[\"mAccuracy\",\"mPrecision\",\"mRecall\",\"mF1\"],\"y\":[0.828,0.6771260930144677,0.9589106861803595,0.7892119940209692],\"type\":\"bar\"},{\"error_y\":{\"array\":[0.0015059028117058164,0.0036420265727560245,0.0010466550251915694,0.002086828756660837],\"type\":\"data\",\"visible\":true},\"marker\":{\"color\":\"#FFBE7A\",\"line\":{\"color\":\"black\",\"width\":0.5}},\"name\":\"unirep_euclidean\",\"width\":0.08,\"x\":[\"mAccuracy\",\"mPrecision\",\"mRecall\",\"mF1\"],\"y\":[0.8897007353808644,0.8259504216243858,0.961780669910052,0.8887009991595056],\"type\":\"bar\"},{\"error_y\":{\"array\":[0.001589904103474761,0.003859867926318434,0.0010402946085095255,0.0022536074075088825],\"type\":\"data\",\"visible\":true},\"marker\":{\"color\":\"#FA7F6F\",\"line\":{\"color\":\"black\",\"width\":0.5}},\"name\":\"unirep_cosine\",\"width\":0.08,\"x\":[\"mAccuracy\",\"mPrecision\",\"mRecall\",\"mF1\"],\"y\":[0.8907605489795115,0.8275920408015022,0.9621782772752885,0.8898202050784405],\"type\":\"bar\"},{\"error_y\":{\"array\":[0.0015672398542976192,0.0035870910488750734,0.0009122645546096839,0.0021931698939395136],\"type\":\"data\",\"visible\":true},\"marker\":{\"color\":\"#82B0D2\",\"line\":{\"color\":\"black\",\"width\":0.5}},\"name\":\"esm_euclidean\",\"width\":0.08,\"x\":[\"mAccuracy\",\"mPrecision\",\"mRecall\",\"mF1\"],\"y\":[0.9351213181800307,0.8893795511275698,0.9799331335422519,0.9324601671241247],\"type\":\"bar\"},{\"error_y\":{\"array\":[0.0016345120478554037,0.003873505116829212,0.0008782285920980575,0.002273741546350336],\"type\":\"data\",\"visible\":true},\"marker\":{\"color\":\"#BEB8DC\",\"line\":{\"color\":\"black\",\"width\":0.5}},\"name\":\"esm_cosine\",\"width\":0.08,\"x\":[\"mAccuracy\",\"mPrecision\",\"mRecall\",\"mF1\"],\"y\":[0.9369499390459712,0.8941216111822203,0.9802782095992288,0.9352162063440476],\"type\":\"bar\"},{\"error_y\":{\"array\":[0.0009761925314479762,0.0034733354957587077,0.0004788524334999238,0.0018632833539866398],\"type\":\"data\",\"visible\":true},\"marker\":{\"color\":\"#E7DAD2\",\"line\":{\"color\":\"black\",\"width\":0.5}},\"name\":\"t5_euclidean\",\"width\":0.08,\"x\":[\"mAccuracy\",\"mPrecision\",\"mRecall\",\"mF1\"],\"y\":[0.9540917849699163,0.9164662254139848,0.9835872865999933,0.9488380352843103],\"type\":\"bar\"},{\"error_y\":{\"array\":[0.0010374301635664343,0.00363604660133922,0.0004814764555865043,0.0019699640057689073],\"type\":\"data\",\"visible\":true},\"marker\":{\"color\":\"#999999\",\"line\":{\"color\":\"black\",\"width\":0.5}},\"name\":\"t5_cosine\",\"width\":0.08,\"x\":[\"mAccuracy\",\"mPrecision\",\"mRecall\",\"mF1\"],\"y\":[0.9546443037476896,0.9173000879688835,0.9836095942919254,0.9492949267550242],\"type\":\"bar\"},{\"error_y\":{\"array\":[0.0005755614726839192,0.0008772480448924595,0.0013187091343019272,0.0009570822638030408],\"type\":\"data\",\"visible\":true},\"marker\":{\"color\":\"#A1D3B2\",\"line\":{\"color\":\"black\",\"width\":0.5}},\"name\":\"RXNRECer\",\"width\":0.08,\"x\":[\"mAccuracy\",\"mPrecision\",\"mRecall\",\"mF1\"],\"y\":[0.9872822368162334,0.9889624702786837,0.9803886980496589,0.9846566056820769],\"type\":\"bar\"}],                        {\"template\":{\"data\":{\"barpolar\":[{\"marker\":{\"line\":{\"color\":\"white\",\"width\":0.5},\"pattern\":{\"fillmode\":\"overlay\",\"size\":10,\"solidity\":0.2}},\"type\":\"barpolar\"}],\"bar\":[{\"error_x\":{\"color\":\"#2a3f5f\"},\"error_y\":{\"color\":\"#2a3f5f\"},\"marker\":{\"line\":{\"color\":\"white\",\"width\":0.5},\"pattern\":{\"fillmode\":\"overlay\",\"size\":10,\"solidity\":0.2}},\"type\":\"bar\"}],\"carpet\":[{\"aaxis\":{\"endlinecolor\":\"#2a3f5f\",\"gridcolor\":\"#C8D4E3\",\"linecolor\":\"#C8D4E3\",\"minorgridcolor\":\"#C8D4E3\",\"startlinecolor\":\"#2a3f5f\"},\"baxis\":{\"endlinecolor\":\"#2a3f5f\",\"gridcolor\":\"#C8D4E3\",\"linecolor\":\"#C8D4E3\",\"minorgridcolor\":\"#C8D4E3\",\"startlinecolor\":\"#2a3f5f\"},\"type\":\"carpet\"}],\"choropleth\":[{\"colorbar\":{\"outlinewidth\":0,\"ticks\":\"\"},\"type\":\"choropleth\"}],\"contourcarpet\":[{\"colorbar\":{\"outlinewidth\":0,\"ticks\":\"\"},\"type\":\"contourcarpet\"}],\"contour\":[{\"colorbar\":{\"outlinewidth\":0,\"ticks\":\"\"},\"colorscale\":[[0.0,\"#0d0887\"],[0.1111111111111111,\"#46039f\"],[0.2222222222222222,\"#7201a8\"],[0.3333333333333333,\"#9c179e\"],[0.4444444444444444,\"#bd3786\"],[0.5555555555555556,\"#d8576b\"],[0.6666666666666666,\"#ed7953\"],[0.7777777777777778,\"#fb9f3a\"],[0.8888888888888888,\"#fdca26\"],[1.0,\"#f0f921\"]],\"type\":\"contour\"}],\"heatmapgl\":[{\"colorbar\":{\"outlinewidth\":0,\"ticks\":\"\"},\"colorscale\":[[0.0,\"#0d0887\"],[0.1111111111111111,\"#46039f\"],[0.2222222222222222,\"#7201a8\"],[0.3333333333333333,\"#9c179e\"],[0.4444444444444444,\"#bd3786\"],[0.5555555555555556,\"#d8576b\"],[0.6666666666666666,\"#ed7953\"],[0.7777777777777778,\"#fb9f3a\"],[0.8888888888888888,\"#fdca26\"],[1.0,\"#f0f921\"]],\"type\":\"heatmapgl\"}],\"heatmap\":[{\"colorbar\":{\"outlinewidth\":0,\"ticks\":\"\"},\"colorscale\":[[0.0,\"#0d0887\"],[0.1111111111111111,\"#46039f\"],[0.2222222222222222,\"#7201a8\"],[0.3333333333333333,\"#9c179e\"],[0.4444444444444444,\"#bd3786\"],[0.5555555555555556,\"#d8576b\"],[0.6666666666666666,\"#ed7953\"],[0.7777777777777778,\"#fb9f3a\"],[0.8888888888888888,\"#fdca26\"],[1.0,\"#f0f921\"]],\"type\":\"heatmap\"}],\"histogram2dcontour\":[{\"colorbar\":{\"outlinewidth\":0,\"ticks\":\"\"},\"colorscale\":[[0.0,\"#0d0887\"],[0.1111111111111111,\"#46039f\"],[0.2222222222222222,\"#7201a8\"],[0.3333333333333333,\"#9c179e\"],[0.4444444444444444,\"#bd3786\"],[0.5555555555555556,\"#d8576b\"],[0.6666666666666666,\"#ed7953\"],[0.7777777777777778,\"#fb9f3a\"],[0.8888888888888888,\"#fdca26\"],[1.0,\"#f0f921\"]],\"type\":\"histogram2dcontour\"}],\"histogram2d\":[{\"colorbar\":{\"outlinewidth\":0,\"ticks\":\"\"},\"colorscale\":[[0.0,\"#0d0887\"],[0.1111111111111111,\"#46039f\"],[0.2222222222222222,\"#7201a8\"],[0.3333333333333333,\"#9c179e\"],[0.4444444444444444,\"#bd3786\"],[0.5555555555555556,\"#d8576b\"],[0.6666666666666666,\"#ed7953\"],[0.7777777777777778,\"#fb9f3a\"],[0.8888888888888888,\"#fdca26\"],[1.0,\"#f0f921\"]],\"type\":\"histogram2d\"}],\"histogram\":[{\"marker\":{\"pattern\":{\"fillmode\":\"overlay\",\"size\":10,\"solidity\":0.2}},\"type\":\"histogram\"}],\"mesh3d\":[{\"colorbar\":{\"outlinewidth\":0,\"ticks\":\"\"},\"type\":\"mesh3d\"}],\"parcoords\":[{\"line\":{\"colorbar\":{\"outlinewidth\":0,\"ticks\":\"\"}},\"type\":\"parcoords\"}],\"pie\":[{\"automargin\":true,\"type\":\"pie\"}],\"scatter3d\":[{\"line\":{\"colorbar\":{\"outlinewidth\":0,\"ticks\":\"\"}},\"marker\":{\"colorbar\":{\"outlinewidth\":0,\"ticks\":\"\"}},\"type\":\"scatter3d\"}],\"scattercarpet\":[{\"marker\":{\"colorbar\":{\"outlinewidth\":0,\"ticks\":\"\"}},\"type\":\"scattercarpet\"}],\"scattergeo\":[{\"marker\":{\"colorbar\":{\"outlinewidth\":0,\"ticks\":\"\"}},\"type\":\"scattergeo\"}],\"scattergl\":[{\"marker\":{\"colorbar\":{\"outlinewidth\":0,\"ticks\":\"\"}},\"type\":\"scattergl\"}],\"scattermapbox\":[{\"marker\":{\"colorbar\":{\"outlinewidth\":0,\"ticks\":\"\"}},\"type\":\"scattermapbox\"}],\"scatterpolargl\":[{\"marker\":{\"colorbar\":{\"outlinewidth\":0,\"ticks\":\"\"}},\"type\":\"scatterpolargl\"}],\"scatterpolar\":[{\"marker\":{\"colorbar\":{\"outlinewidth\":0,\"ticks\":\"\"}},\"type\":\"scatterpolar\"}],\"scatter\":[{\"fillpattern\":{\"fillmode\":\"overlay\",\"size\":10,\"solidity\":0.2},\"type\":\"scatter\"}],\"scatterternary\":[{\"marker\":{\"colorbar\":{\"outlinewidth\":0,\"ticks\":\"\"}},\"type\":\"scatterternary\"}],\"surface\":[{\"colorbar\":{\"outlinewidth\":0,\"ticks\":\"\"},\"colorscale\":[[0.0,\"#0d0887\"],[0.1111111111111111,\"#46039f\"],[0.2222222222222222,\"#7201a8\"],[0.3333333333333333,\"#9c179e\"],[0.4444444444444444,\"#bd3786\"],[0.5555555555555556,\"#d8576b\"],[0.6666666666666666,\"#ed7953\"],[0.7777777777777778,\"#fb9f3a\"],[0.8888888888888888,\"#fdca26\"],[1.0,\"#f0f921\"]],\"type\":\"surface\"}],\"table\":[{\"cells\":{\"fill\":{\"color\":\"#EBF0F8\"},\"line\":{\"color\":\"white\"}},\"header\":{\"fill\":{\"color\":\"#C8D4E3\"},\"line\":{\"color\":\"white\"}},\"type\":\"table\"}]},\"layout\":{\"annotationdefaults\":{\"arrowcolor\":\"#2a3f5f\",\"arrowhead\":0,\"arrowwidth\":1},\"autotypenumbers\":\"strict\",\"coloraxis\":{\"colorbar\":{\"outlinewidth\":0,\"ticks\":\"\"}},\"colorscale\":{\"diverging\":[[0,\"#8e0152\"],[0.1,\"#c51b7d\"],[0.2,\"#de77ae\"],[0.3,\"#f1b6da\"],[0.4,\"#fde0ef\"],[0.5,\"#f7f7f7\"],[0.6,\"#e6f5d0\"],[0.7,\"#b8e186\"],[0.8,\"#7fbc41\"],[0.9,\"#4d9221\"],[1,\"#276419\"]],\"sequential\":[[0.0,\"#0d0887\"],[0.1111111111111111,\"#46039f\"],[0.2222222222222222,\"#7201a8\"],[0.3333333333333333,\"#9c179e\"],[0.4444444444444444,\"#bd3786\"],[0.5555555555555556,\"#d8576b\"],[0.6666666666666666,\"#ed7953\"],[0.7777777777777778,\"#fb9f3a\"],[0.8888888888888888,\"#fdca26\"],[1.0,\"#f0f921\"]],\"sequentialminus\":[[0.0,\"#0d0887\"],[0.1111111111111111,\"#46039f\"],[0.2222222222222222,\"#7201a8\"],[0.3333333333333333,\"#9c179e\"],[0.4444444444444444,\"#bd3786\"],[0.5555555555555556,\"#d8576b\"],[0.6666666666666666,\"#ed7953\"],[0.7777777777777778,\"#fb9f3a\"],[0.8888888888888888,\"#fdca26\"],[1.0,\"#f0f921\"]]},\"colorway\":[\"#636efa\",\"#EF553B\",\"#00cc96\",\"#ab63fa\",\"#FFA15A\",\"#19d3f3\",\"#FF6692\",\"#B6E880\",\"#FF97FF\",\"#FECB52\"],\"font\":{\"color\":\"#2a3f5f\"},\"geo\":{\"bgcolor\":\"white\",\"lakecolor\":\"white\",\"landcolor\":\"white\",\"showlakes\":true,\"showland\":true,\"subunitcolor\":\"#C8D4E3\"},\"hoverlabel\":{\"align\":\"left\"},\"hovermode\":\"closest\",\"mapbox\":{\"style\":\"light\"},\"paper_bgcolor\":\"white\",\"plot_bgcolor\":\"white\",\"polar\":{\"angularaxis\":{\"gridcolor\":\"#EBF0F8\",\"linecolor\":\"#EBF0F8\",\"ticks\":\"\"},\"bgcolor\":\"white\",\"radialaxis\":{\"gridcolor\":\"#EBF0F8\",\"linecolor\":\"#EBF0F8\",\"ticks\":\"\"}},\"scene\":{\"xaxis\":{\"backgroundcolor\":\"white\",\"gridcolor\":\"#DFE8F3\",\"gridwidth\":2,\"linecolor\":\"#EBF0F8\",\"showbackground\":true,\"ticks\":\"\",\"zerolinecolor\":\"#EBF0F8\"},\"yaxis\":{\"backgroundcolor\":\"white\",\"gridcolor\":\"#DFE8F3\",\"gridwidth\":2,\"linecolor\":\"#EBF0F8\",\"showbackground\":true,\"ticks\":\"\",\"zerolinecolor\":\"#EBF0F8\"},\"zaxis\":{\"backgroundcolor\":\"white\",\"gridcolor\":\"#DFE8F3\",\"gridwidth\":2,\"linecolor\":\"#EBF0F8\",\"showbackground\":true,\"ticks\":\"\",\"zerolinecolor\":\"#EBF0F8\"}},\"shapedefaults\":{\"line\":{\"color\":\"#2a3f5f\"}},\"ternary\":{\"aaxis\":{\"gridcolor\":\"#DFE8F3\",\"linecolor\":\"#A2B1C6\",\"ticks\":\"\"},\"baxis\":{\"gridcolor\":\"#DFE8F3\",\"linecolor\":\"#A2B1C6\",\"ticks\":\"\"},\"bgcolor\":\"white\",\"caxis\":{\"gridcolor\":\"#DFE8F3\",\"linecolor\":\"#A2B1C6\",\"ticks\":\"\"}},\"title\":{\"x\":0.05},\"xaxis\":{\"automargin\":true,\"gridcolor\":\"#EBF0F8\",\"linecolor\":\"#EBF0F8\",\"ticks\":\"\",\"title\":{\"standoff\":15},\"zerolinecolor\":\"#EBF0F8\",\"zerolinewidth\":2},\"yaxis\":{\"automargin\":true,\"gridcolor\":\"#EBF0F8\",\"linecolor\":\"#EBF0F8\",\"ticks\":\"\",\"title\":{\"standoff\":15},\"zerolinecolor\":\"#EBF0F8\",\"zerolinewidth\":2}}},\"yaxis\":{\"minor\":{\"showgrid\":true,\"griddash\":\"dash\",\"gridcolor\":\"gray\",\"gridwidth\":0.5,\"dtick\":0.05},\"showline\":true,\"linecolor\":\"black\",\"linewidth\":1,\"showgrid\":true,\"gridcolor\":\"gray\",\"gridwidth\":1,\"dtick\":0.1,\"range\":[0,1.2],\"title\":{\"text\":\"Mean Value\"}},\"xaxis\":{\"showline\":true,\"linecolor\":\"#000000\",\"linewidth\":1},\"title\":{\"font\":{\"size\":20,\"weight\":1000},\"text\":\"Performance Comparison of EC-based Reaction Prediction Methods\",\"x\":0.5,\"y\":0.05,\"xanchor\":\"center\"},\"legend\":{\"orientation\":\"h\",\"yanchor\":\"bottom\",\"y\":0.99,\"xanchor\":\"center\",\"x\":0.5,\"tracegroupgap\":2,\"borderwidth\":1},\"width\":1600,\"height\":600,\"barmode\":\"group\",\"bargap\":0.29},                        {\"responsive\": true}                    ).then(function(){\n",
       "                            \n",
       "var gd = document.getElementById('fc40e16a-70b1-4b29-a14e-59f9b73f0556');\n",
       "var x = new MutationObserver(function (mutations, observer) {{\n",
       "        var display = window.getComputedStyle(gd).display;\n",
       "        if (!display || display === 'none') {{\n",
       "            console.log([gd, 'removed!']);\n",
       "            Plotly.purge(gd);\n",
       "            observer.disconnect();\n",
       "        }}\n",
       "}});\n",
       "\n",
       "// Listen for the removal of the full notebook cells\n",
       "var notebookContainer = gd.closest('#notebook-container');\n",
       "if (notebookContainer) {{\n",
       "    x.observe(notebookContainer, {childList: true});\n",
       "}}\n",
       "\n",
       "// Listen for the clearing of the current output cell\n",
       "var outputEl = gd.closest('.output');\n",
       "if (outputEl) {{\n",
       "    x.observe(outputEl, {childList: true});\n",
       "}}\n",
       "\n",
       "                        })                };                });            </script>        </div>"
      ]
     },
     "metadata": {},
     "output_type": "display_data"
    }
   ],
   "source": [
    "evTools.show_ec_methods_10_eva_fig(res_metrics_data=res_std[res_std.avgType =='micro'].reset_index(drop=True))"
   ]
  },
  {
   "cell_type": "code",
   "execution_count": 63,
   "id": "a24bdd8b",
   "metadata": {},
   "outputs": [
    {
     "data": {
      "application/vnd.plotly.v1+json": {
       "config": {
        "plotlyServerURL": "https://plot.ly"
       },
       "data": [
        {
         "error_y": {
          "array": [
           0.03735713526965838,
           0.0219670310011822,
           0.014166422715643983,
           0.012638091908536285
          ],
          "type": "data",
          "visible": true
         },
         "marker": {
          "color": "#8ECFC9",
          "line": {
           "color": "black",
           "width": 0.5
          }
         },
         "name": "blast",
         "type": "bar",
         "width": 0.08,
         "x": [
          "mAccuracy",
          "mPrecision",
          "mRecall",
          "mF1"
         ],
         "y": [
          0.828,
          0.9645050395738721,
          0.9589106861803595,
          0.9568945629103451
         ]
        },
        {
         "error_y": {
          "array": [
           0.0015059028117058164,
           0.0016609741426049896,
           0.0010466550251915694,
           0.001105756576840894
          ],
          "type": "data",
          "visible": true
         },
         "marker": {
          "color": "#FFBE7A",
          "line": {
           "color": "black",
           "width": 0.5
          }
         },
         "name": "unirep_euclidean",
         "type": "bar",
         "width": 0.08,
         "x": [
          "mAccuracy",
          "mPrecision",
          "mRecall",
          "mF1"
         ],
         "y": [
          0.8897007353808644,
          0.8927419023081308,
          0.961780669910052,
          0.9149656551222487
         ]
        },
        {
         "error_y": {
          "array": [
           0.001589904103474761,
           0.002005029545033634,
           0.0010402946085095255,
           0.0012075240793604997
          ],
          "type": "data",
          "visible": true
         },
         "marker": {
          "color": "#FA7F6F",
          "line": {
           "color": "black",
           "width": 0.5
          }
         },
         "name": "unirep_cosine",
         "type": "bar",
         "width": 0.08,
         "x": [
          "mAccuracy",
          "mPrecision",
          "mRecall",
          "mF1"
         ],
         "y": [
          0.8907605489795115,
          0.8941532906500452,
          0.9621782772752885,
          0.9159988550356193
         ]
        },
        {
         "error_y": {
          "array": [
           0.0015672398542976192,
           0.0016904624539469972,
           0.0009122645546096839,
           0.0013319349240274567
          ],
          "type": "data",
          "visible": true
         },
         "marker": {
          "color": "#82B0D2",
          "line": {
           "color": "black",
           "width": 0.5
          }
         },
         "name": "esm_euclidean",
         "type": "bar",
         "width": 0.08,
         "x": [
          "mAccuracy",
          "mPrecision",
          "mRecall",
          "mF1"
         ],
         "y": [
          0.9351213181800307,
          0.9389637093824416,
          0.9799331335422519,
          0.9512710008646014
         ]
        },
        {
         "error_y": {
          "array": [
           0.0016345120478554037,
           0.001957230178646858,
           0.0008782285920980575,
           0.0013992849696428187
          ],
          "type": "data",
          "visible": true
         },
         "marker": {
          "color": "#BEB8DC",
          "line": {
           "color": "black",
           "width": 0.5
          }
         },
         "name": "esm_cosine",
         "type": "bar",
         "width": 0.08,
         "x": [
          "mAccuracy",
          "mPrecision",
          "mRecall",
          "mF1"
         ],
         "y": [
          0.9369499390459712,
          0.9410763056095085,
          0.9802782095992288,
          0.9528441281290123
         ]
        },
        {
         "error_y": {
          "array": [
           0.0009761925314479762,
           0.0015199397041768118,
           0.0004788524334999238,
           0.0010185658783743847
          ],
          "type": "data",
          "visible": true
         },
         "marker": {
          "color": "#E7DAD2",
          "line": {
           "color": "black",
           "width": 0.5
          }
         },
         "name": "t5_euclidean",
         "type": "bar",
         "width": 0.08,
         "x": [
          "mAccuracy",
          "mPrecision",
          "mRecall",
          "mF1"
         ],
         "y": [
          0.9540917849699163,
          0.9616037199126165,
          0.9835872865999933,
          0.9660651060080235
         ]
        },
        {
         "error_y": {
          "array": [
           0.0010374301635664343,
           0.001447551809943042,
           0.0004814764555865043,
           0.0010088336724740398
          ],
          "type": "data",
          "visible": true
         },
         "marker": {
          "color": "#999999",
          "line": {
           "color": "black",
           "width": 0.5
          }
         },
         "name": "t5_cosine",
         "type": "bar",
         "width": 0.08,
         "x": [
          "mAccuracy",
          "mPrecision",
          "mRecall",
          "mF1"
         ],
         "y": [
          0.9546443037476896,
          0.9620532740652331,
          0.9836095942919254,
          0.9663457329601366
         ]
        },
        {
         "error_y": {
          "array": [
           0.0005755614726839192,
           0.00040008462865615576,
           0.0013187091343019272,
           0.0011766421545714785
          ],
          "type": "data",
          "visible": true
         },
         "marker": {
          "color": "#A1D3B2",
          "line": {
           "color": "black",
           "width": 0.5
          }
         },
         "name": "RXNRECer",
         "type": "bar",
         "width": 0.08,
         "x": [
          "mAccuracy",
          "mPrecision",
          "mRecall",
          "mF1"
         ],
         "y": [
          0.9872822368162334,
          0.9926746528153434,
          0.9803886980496589,
          0.9810223239906332
         ]
        }
       ],
       "layout": {
        "bargap": 0.29,
        "barmode": "group",
        "height": 600,
        "legend": {
         "borderwidth": 1,
         "orientation": "h",
         "tracegroupgap": 2,
         "x": 0.5,
         "xanchor": "center",
         "y": 0.99,
         "yanchor": "bottom"
        },
        "template": {
         "data": {
          "bar": [
           {
            "error_x": {
             "color": "#2a3f5f"
            },
            "error_y": {
             "color": "#2a3f5f"
            },
            "marker": {
             "line": {
              "color": "white",
              "width": 0.5
             },
             "pattern": {
              "fillmode": "overlay",
              "size": 10,
              "solidity": 0.2
             }
            },
            "type": "bar"
           }
          ],
          "barpolar": [
           {
            "marker": {
             "line": {
              "color": "white",
              "width": 0.5
             },
             "pattern": {
              "fillmode": "overlay",
              "size": 10,
              "solidity": 0.2
             }
            },
            "type": "barpolar"
           }
          ],
          "carpet": [
           {
            "aaxis": {
             "endlinecolor": "#2a3f5f",
             "gridcolor": "#C8D4E3",
             "linecolor": "#C8D4E3",
             "minorgridcolor": "#C8D4E3",
             "startlinecolor": "#2a3f5f"
            },
            "baxis": {
             "endlinecolor": "#2a3f5f",
             "gridcolor": "#C8D4E3",
             "linecolor": "#C8D4E3",
             "minorgridcolor": "#C8D4E3",
             "startlinecolor": "#2a3f5f"
            },
            "type": "carpet"
           }
          ],
          "choropleth": [
           {
            "colorbar": {
             "outlinewidth": 0,
             "ticks": ""
            },
            "type": "choropleth"
           }
          ],
          "contour": [
           {
            "colorbar": {
             "outlinewidth": 0,
             "ticks": ""
            },
            "colorscale": [
             [
              0,
              "#0d0887"
             ],
             [
              0.1111111111111111,
              "#46039f"
             ],
             [
              0.2222222222222222,
              "#7201a8"
             ],
             [
              0.3333333333333333,
              "#9c179e"
             ],
             [
              0.4444444444444444,
              "#bd3786"
             ],
             [
              0.5555555555555556,
              "#d8576b"
             ],
             [
              0.6666666666666666,
              "#ed7953"
             ],
             [
              0.7777777777777778,
              "#fb9f3a"
             ],
             [
              0.8888888888888888,
              "#fdca26"
             ],
             [
              1,
              "#f0f921"
             ]
            ],
            "type": "contour"
           }
          ],
          "contourcarpet": [
           {
            "colorbar": {
             "outlinewidth": 0,
             "ticks": ""
            },
            "type": "contourcarpet"
           }
          ],
          "heatmap": [
           {
            "colorbar": {
             "outlinewidth": 0,
             "ticks": ""
            },
            "colorscale": [
             [
              0,
              "#0d0887"
             ],
             [
              0.1111111111111111,
              "#46039f"
             ],
             [
              0.2222222222222222,
              "#7201a8"
             ],
             [
              0.3333333333333333,
              "#9c179e"
             ],
             [
              0.4444444444444444,
              "#bd3786"
             ],
             [
              0.5555555555555556,
              "#d8576b"
             ],
             [
              0.6666666666666666,
              "#ed7953"
             ],
             [
              0.7777777777777778,
              "#fb9f3a"
             ],
             [
              0.8888888888888888,
              "#fdca26"
             ],
             [
              1,
              "#f0f921"
             ]
            ],
            "type": "heatmap"
           }
          ],
          "heatmapgl": [
           {
            "colorbar": {
             "outlinewidth": 0,
             "ticks": ""
            },
            "colorscale": [
             [
              0,
              "#0d0887"
             ],
             [
              0.1111111111111111,
              "#46039f"
             ],
             [
              0.2222222222222222,
              "#7201a8"
             ],
             [
              0.3333333333333333,
              "#9c179e"
             ],
             [
              0.4444444444444444,
              "#bd3786"
             ],
             [
              0.5555555555555556,
              "#d8576b"
             ],
             [
              0.6666666666666666,
              "#ed7953"
             ],
             [
              0.7777777777777778,
              "#fb9f3a"
             ],
             [
              0.8888888888888888,
              "#fdca26"
             ],
             [
              1,
              "#f0f921"
             ]
            ],
            "type": "heatmapgl"
           }
          ],
          "histogram": [
           {
            "marker": {
             "pattern": {
              "fillmode": "overlay",
              "size": 10,
              "solidity": 0.2
             }
            },
            "type": "histogram"
           }
          ],
          "histogram2d": [
           {
            "colorbar": {
             "outlinewidth": 0,
             "ticks": ""
            },
            "colorscale": [
             [
              0,
              "#0d0887"
             ],
             [
              0.1111111111111111,
              "#46039f"
             ],
             [
              0.2222222222222222,
              "#7201a8"
             ],
             [
              0.3333333333333333,
              "#9c179e"
             ],
             [
              0.4444444444444444,
              "#bd3786"
             ],
             [
              0.5555555555555556,
              "#d8576b"
             ],
             [
              0.6666666666666666,
              "#ed7953"
             ],
             [
              0.7777777777777778,
              "#fb9f3a"
             ],
             [
              0.8888888888888888,
              "#fdca26"
             ],
             [
              1,
              "#f0f921"
             ]
            ],
            "type": "histogram2d"
           }
          ],
          "histogram2dcontour": [
           {
            "colorbar": {
             "outlinewidth": 0,
             "ticks": ""
            },
            "colorscale": [
             [
              0,
              "#0d0887"
             ],
             [
              0.1111111111111111,
              "#46039f"
             ],
             [
              0.2222222222222222,
              "#7201a8"
             ],
             [
              0.3333333333333333,
              "#9c179e"
             ],
             [
              0.4444444444444444,
              "#bd3786"
             ],
             [
              0.5555555555555556,
              "#d8576b"
             ],
             [
              0.6666666666666666,
              "#ed7953"
             ],
             [
              0.7777777777777778,
              "#fb9f3a"
             ],
             [
              0.8888888888888888,
              "#fdca26"
             ],
             [
              1,
              "#f0f921"
             ]
            ],
            "type": "histogram2dcontour"
           }
          ],
          "mesh3d": [
           {
            "colorbar": {
             "outlinewidth": 0,
             "ticks": ""
            },
            "type": "mesh3d"
           }
          ],
          "parcoords": [
           {
            "line": {
             "colorbar": {
              "outlinewidth": 0,
              "ticks": ""
             }
            },
            "type": "parcoords"
           }
          ],
          "pie": [
           {
            "automargin": true,
            "type": "pie"
           }
          ],
          "scatter": [
           {
            "fillpattern": {
             "fillmode": "overlay",
             "size": 10,
             "solidity": 0.2
            },
            "type": "scatter"
           }
          ],
          "scatter3d": [
           {
            "line": {
             "colorbar": {
              "outlinewidth": 0,
              "ticks": ""
             }
            },
            "marker": {
             "colorbar": {
              "outlinewidth": 0,
              "ticks": ""
             }
            },
            "type": "scatter3d"
           }
          ],
          "scattercarpet": [
           {
            "marker": {
             "colorbar": {
              "outlinewidth": 0,
              "ticks": ""
             }
            },
            "type": "scattercarpet"
           }
          ],
          "scattergeo": [
           {
            "marker": {
             "colorbar": {
              "outlinewidth": 0,
              "ticks": ""
             }
            },
            "type": "scattergeo"
           }
          ],
          "scattergl": [
           {
            "marker": {
             "colorbar": {
              "outlinewidth": 0,
              "ticks": ""
             }
            },
            "type": "scattergl"
           }
          ],
          "scattermapbox": [
           {
            "marker": {
             "colorbar": {
              "outlinewidth": 0,
              "ticks": ""
             }
            },
            "type": "scattermapbox"
           }
          ],
          "scatterpolar": [
           {
            "marker": {
             "colorbar": {
              "outlinewidth": 0,
              "ticks": ""
             }
            },
            "type": "scatterpolar"
           }
          ],
          "scatterpolargl": [
           {
            "marker": {
             "colorbar": {
              "outlinewidth": 0,
              "ticks": ""
             }
            },
            "type": "scatterpolargl"
           }
          ],
          "scatterternary": [
           {
            "marker": {
             "colorbar": {
              "outlinewidth": 0,
              "ticks": ""
             }
            },
            "type": "scatterternary"
           }
          ],
          "surface": [
           {
            "colorbar": {
             "outlinewidth": 0,
             "ticks": ""
            },
            "colorscale": [
             [
              0,
              "#0d0887"
             ],
             [
              0.1111111111111111,
              "#46039f"
             ],
             [
              0.2222222222222222,
              "#7201a8"
             ],
             [
              0.3333333333333333,
              "#9c179e"
             ],
             [
              0.4444444444444444,
              "#bd3786"
             ],
             [
              0.5555555555555556,
              "#d8576b"
             ],
             [
              0.6666666666666666,
              "#ed7953"
             ],
             [
              0.7777777777777778,
              "#fb9f3a"
             ],
             [
              0.8888888888888888,
              "#fdca26"
             ],
             [
              1,
              "#f0f921"
             ]
            ],
            "type": "surface"
           }
          ],
          "table": [
           {
            "cells": {
             "fill": {
              "color": "#EBF0F8"
             },
             "line": {
              "color": "white"
             }
            },
            "header": {
             "fill": {
              "color": "#C8D4E3"
             },
             "line": {
              "color": "white"
             }
            },
            "type": "table"
           }
          ]
         },
         "layout": {
          "annotationdefaults": {
           "arrowcolor": "#2a3f5f",
           "arrowhead": 0,
           "arrowwidth": 1
          },
          "autotypenumbers": "strict",
          "coloraxis": {
           "colorbar": {
            "outlinewidth": 0,
            "ticks": ""
           }
          },
          "colorscale": {
           "diverging": [
            [
             0,
             "#8e0152"
            ],
            [
             0.1,
             "#c51b7d"
            ],
            [
             0.2,
             "#de77ae"
            ],
            [
             0.3,
             "#f1b6da"
            ],
            [
             0.4,
             "#fde0ef"
            ],
            [
             0.5,
             "#f7f7f7"
            ],
            [
             0.6,
             "#e6f5d0"
            ],
            [
             0.7,
             "#b8e186"
            ],
            [
             0.8,
             "#7fbc41"
            ],
            [
             0.9,
             "#4d9221"
            ],
            [
             1,
             "#276419"
            ]
           ],
           "sequential": [
            [
             0,
             "#0d0887"
            ],
            [
             0.1111111111111111,
             "#46039f"
            ],
            [
             0.2222222222222222,
             "#7201a8"
            ],
            [
             0.3333333333333333,
             "#9c179e"
            ],
            [
             0.4444444444444444,
             "#bd3786"
            ],
            [
             0.5555555555555556,
             "#d8576b"
            ],
            [
             0.6666666666666666,
             "#ed7953"
            ],
            [
             0.7777777777777778,
             "#fb9f3a"
            ],
            [
             0.8888888888888888,
             "#fdca26"
            ],
            [
             1,
             "#f0f921"
            ]
           ],
           "sequentialminus": [
            [
             0,
             "#0d0887"
            ],
            [
             0.1111111111111111,
             "#46039f"
            ],
            [
             0.2222222222222222,
             "#7201a8"
            ],
            [
             0.3333333333333333,
             "#9c179e"
            ],
            [
             0.4444444444444444,
             "#bd3786"
            ],
            [
             0.5555555555555556,
             "#d8576b"
            ],
            [
             0.6666666666666666,
             "#ed7953"
            ],
            [
             0.7777777777777778,
             "#fb9f3a"
            ],
            [
             0.8888888888888888,
             "#fdca26"
            ],
            [
             1,
             "#f0f921"
            ]
           ]
          },
          "colorway": [
           "#636efa",
           "#EF553B",
           "#00cc96",
           "#ab63fa",
           "#FFA15A",
           "#19d3f3",
           "#FF6692",
           "#B6E880",
           "#FF97FF",
           "#FECB52"
          ],
          "font": {
           "color": "#2a3f5f"
          },
          "geo": {
           "bgcolor": "white",
           "lakecolor": "white",
           "landcolor": "white",
           "showlakes": true,
           "showland": true,
           "subunitcolor": "#C8D4E3"
          },
          "hoverlabel": {
           "align": "left"
          },
          "hovermode": "closest",
          "mapbox": {
           "style": "light"
          },
          "paper_bgcolor": "white",
          "plot_bgcolor": "white",
          "polar": {
           "angularaxis": {
            "gridcolor": "#EBF0F8",
            "linecolor": "#EBF0F8",
            "ticks": ""
           },
           "bgcolor": "white",
           "radialaxis": {
            "gridcolor": "#EBF0F8",
            "linecolor": "#EBF0F8",
            "ticks": ""
           }
          },
          "scene": {
           "xaxis": {
            "backgroundcolor": "white",
            "gridcolor": "#DFE8F3",
            "gridwidth": 2,
            "linecolor": "#EBF0F8",
            "showbackground": true,
            "ticks": "",
            "zerolinecolor": "#EBF0F8"
           },
           "yaxis": {
            "backgroundcolor": "white",
            "gridcolor": "#DFE8F3",
            "gridwidth": 2,
            "linecolor": "#EBF0F8",
            "showbackground": true,
            "ticks": "",
            "zerolinecolor": "#EBF0F8"
           },
           "zaxis": {
            "backgroundcolor": "white",
            "gridcolor": "#DFE8F3",
            "gridwidth": 2,
            "linecolor": "#EBF0F8",
            "showbackground": true,
            "ticks": "",
            "zerolinecolor": "#EBF0F8"
           }
          },
          "shapedefaults": {
           "line": {
            "color": "#2a3f5f"
           }
          },
          "ternary": {
           "aaxis": {
            "gridcolor": "#DFE8F3",
            "linecolor": "#A2B1C6",
            "ticks": ""
           },
           "baxis": {
            "gridcolor": "#DFE8F3",
            "linecolor": "#A2B1C6",
            "ticks": ""
           },
           "bgcolor": "white",
           "caxis": {
            "gridcolor": "#DFE8F3",
            "linecolor": "#A2B1C6",
            "ticks": ""
           }
          },
          "title": {
           "x": 0.05
          },
          "xaxis": {
           "automargin": true,
           "gridcolor": "#EBF0F8",
           "linecolor": "#EBF0F8",
           "ticks": "",
           "title": {
            "standoff": 15
           },
           "zerolinecolor": "#EBF0F8",
           "zerolinewidth": 2
          },
          "yaxis": {
           "automargin": true,
           "gridcolor": "#EBF0F8",
           "linecolor": "#EBF0F8",
           "ticks": "",
           "title": {
            "standoff": 15
           },
           "zerolinecolor": "#EBF0F8",
           "zerolinewidth": 2
          }
         }
        },
        "title": {
         "font": {
          "size": 20,
          "weight": 1000
         },
         "text": "Performance Comparison of EC-based Reaction Prediction Methods",
         "x": 0.5,
         "xanchor": "center",
         "y": 0.05
        },
        "width": 1600,
        "xaxis": {
         "linecolor": "#000000",
         "linewidth": 1,
         "showline": true
        },
        "yaxis": {
         "dtick": 0.1,
         "gridcolor": "gray",
         "gridwidth": 1,
         "linecolor": "black",
         "linewidth": 1,
         "minor": {
          "dtick": 0.05,
          "gridcolor": "gray",
          "griddash": "dash",
          "gridwidth": 0.5,
          "showgrid": true
         },
         "range": [
          0,
          1.2
         ],
         "showgrid": true,
         "showline": true,
         "title": {
          "text": "Mean Value"
         }
        }
       }
      },
      "text/html": [
       "<div>                            <div id=\"3baf817a-55db-44d9-a740-92c368d5fa52\" class=\"plotly-graph-div\" style=\"height:600px; width:1600px;\"></div>            <script type=\"text/javascript\">                require([\"plotly\"], function(Plotly) {                    window.PLOTLYENV=window.PLOTLYENV || {};                                    if (document.getElementById(\"3baf817a-55db-44d9-a740-92c368d5fa52\")) {                    Plotly.newPlot(                        \"3baf817a-55db-44d9-a740-92c368d5fa52\",                        [{\"error_y\":{\"array\":[0.03735713526965838,0.0219670310011822,0.014166422715643983,0.012638091908536285],\"type\":\"data\",\"visible\":true},\"marker\":{\"color\":\"#8ECFC9\",\"line\":{\"color\":\"black\",\"width\":0.5}},\"name\":\"blast\",\"width\":0.08,\"x\":[\"mAccuracy\",\"mPrecision\",\"mRecall\",\"mF1\"],\"y\":[0.828,0.9645050395738721,0.9589106861803595,0.9568945629103451],\"type\":\"bar\"},{\"error_y\":{\"array\":[0.0015059028117058164,0.0016609741426049896,0.0010466550251915694,0.001105756576840894],\"type\":\"data\",\"visible\":true},\"marker\":{\"color\":\"#FFBE7A\",\"line\":{\"color\":\"black\",\"width\":0.5}},\"name\":\"unirep_euclidean\",\"width\":0.08,\"x\":[\"mAccuracy\",\"mPrecision\",\"mRecall\",\"mF1\"],\"y\":[0.8897007353808644,0.8927419023081308,0.961780669910052,0.9149656551222487],\"type\":\"bar\"},{\"error_y\":{\"array\":[0.001589904103474761,0.002005029545033634,0.0010402946085095255,0.0012075240793604997],\"type\":\"data\",\"visible\":true},\"marker\":{\"color\":\"#FA7F6F\",\"line\":{\"color\":\"black\",\"width\":0.5}},\"name\":\"unirep_cosine\",\"width\":0.08,\"x\":[\"mAccuracy\",\"mPrecision\",\"mRecall\",\"mF1\"],\"y\":[0.8907605489795115,0.8941532906500452,0.9621782772752885,0.9159988550356193],\"type\":\"bar\"},{\"error_y\":{\"array\":[0.0015672398542976192,0.0016904624539469972,0.0009122645546096839,0.0013319349240274567],\"type\":\"data\",\"visible\":true},\"marker\":{\"color\":\"#82B0D2\",\"line\":{\"color\":\"black\",\"width\":0.5}},\"name\":\"esm_euclidean\",\"width\":0.08,\"x\":[\"mAccuracy\",\"mPrecision\",\"mRecall\",\"mF1\"],\"y\":[0.9351213181800307,0.9389637093824416,0.9799331335422519,0.9512710008646014],\"type\":\"bar\"},{\"error_y\":{\"array\":[0.0016345120478554037,0.001957230178646858,0.0008782285920980575,0.0013992849696428187],\"type\":\"data\",\"visible\":true},\"marker\":{\"color\":\"#BEB8DC\",\"line\":{\"color\":\"black\",\"width\":0.5}},\"name\":\"esm_cosine\",\"width\":0.08,\"x\":[\"mAccuracy\",\"mPrecision\",\"mRecall\",\"mF1\"],\"y\":[0.9369499390459712,0.9410763056095085,0.9802782095992288,0.9528441281290123],\"type\":\"bar\"},{\"error_y\":{\"array\":[0.0009761925314479762,0.0015199397041768118,0.0004788524334999238,0.0010185658783743847],\"type\":\"data\",\"visible\":true},\"marker\":{\"color\":\"#E7DAD2\",\"line\":{\"color\":\"black\",\"width\":0.5}},\"name\":\"t5_euclidean\",\"width\":0.08,\"x\":[\"mAccuracy\",\"mPrecision\",\"mRecall\",\"mF1\"],\"y\":[0.9540917849699163,0.9616037199126165,0.9835872865999933,0.9660651060080235],\"type\":\"bar\"},{\"error_y\":{\"array\":[0.0010374301635664343,0.001447551809943042,0.0004814764555865043,0.0010088336724740398],\"type\":\"data\",\"visible\":true},\"marker\":{\"color\":\"#999999\",\"line\":{\"color\":\"black\",\"width\":0.5}},\"name\":\"t5_cosine\",\"width\":0.08,\"x\":[\"mAccuracy\",\"mPrecision\",\"mRecall\",\"mF1\"],\"y\":[0.9546443037476896,0.9620532740652331,0.9836095942919254,0.9663457329601366],\"type\":\"bar\"},{\"error_y\":{\"array\":[0.0005755614726839192,0.00040008462865615576,0.0013187091343019272,0.0011766421545714785],\"type\":\"data\",\"visible\":true},\"marker\":{\"color\":\"#A1D3B2\",\"line\":{\"color\":\"black\",\"width\":0.5}},\"name\":\"RXNRECer\",\"width\":0.08,\"x\":[\"mAccuracy\",\"mPrecision\",\"mRecall\",\"mF1\"],\"y\":[0.9872822368162334,0.9926746528153434,0.9803886980496589,0.9810223239906332],\"type\":\"bar\"}],                        {\"template\":{\"data\":{\"barpolar\":[{\"marker\":{\"line\":{\"color\":\"white\",\"width\":0.5},\"pattern\":{\"fillmode\":\"overlay\",\"size\":10,\"solidity\":0.2}},\"type\":\"barpolar\"}],\"bar\":[{\"error_x\":{\"color\":\"#2a3f5f\"},\"error_y\":{\"color\":\"#2a3f5f\"},\"marker\":{\"line\":{\"color\":\"white\",\"width\":0.5},\"pattern\":{\"fillmode\":\"overlay\",\"size\":10,\"solidity\":0.2}},\"type\":\"bar\"}],\"carpet\":[{\"aaxis\":{\"endlinecolor\":\"#2a3f5f\",\"gridcolor\":\"#C8D4E3\",\"linecolor\":\"#C8D4E3\",\"minorgridcolor\":\"#C8D4E3\",\"startlinecolor\":\"#2a3f5f\"},\"baxis\":{\"endlinecolor\":\"#2a3f5f\",\"gridcolor\":\"#C8D4E3\",\"linecolor\":\"#C8D4E3\",\"minorgridcolor\":\"#C8D4E3\",\"startlinecolor\":\"#2a3f5f\"},\"type\":\"carpet\"}],\"choropleth\":[{\"colorbar\":{\"outlinewidth\":0,\"ticks\":\"\"},\"type\":\"choropleth\"}],\"contourcarpet\":[{\"colorbar\":{\"outlinewidth\":0,\"ticks\":\"\"},\"type\":\"contourcarpet\"}],\"contour\":[{\"colorbar\":{\"outlinewidth\":0,\"ticks\":\"\"},\"colorscale\":[[0.0,\"#0d0887\"],[0.1111111111111111,\"#46039f\"],[0.2222222222222222,\"#7201a8\"],[0.3333333333333333,\"#9c179e\"],[0.4444444444444444,\"#bd3786\"],[0.5555555555555556,\"#d8576b\"],[0.6666666666666666,\"#ed7953\"],[0.7777777777777778,\"#fb9f3a\"],[0.8888888888888888,\"#fdca26\"],[1.0,\"#f0f921\"]],\"type\":\"contour\"}],\"heatmapgl\":[{\"colorbar\":{\"outlinewidth\":0,\"ticks\":\"\"},\"colorscale\":[[0.0,\"#0d0887\"],[0.1111111111111111,\"#46039f\"],[0.2222222222222222,\"#7201a8\"],[0.3333333333333333,\"#9c179e\"],[0.4444444444444444,\"#bd3786\"],[0.5555555555555556,\"#d8576b\"],[0.6666666666666666,\"#ed7953\"],[0.7777777777777778,\"#fb9f3a\"],[0.8888888888888888,\"#fdca26\"],[1.0,\"#f0f921\"]],\"type\":\"heatmapgl\"}],\"heatmap\":[{\"colorbar\":{\"outlinewidth\":0,\"ticks\":\"\"},\"colorscale\":[[0.0,\"#0d0887\"],[0.1111111111111111,\"#46039f\"],[0.2222222222222222,\"#7201a8\"],[0.3333333333333333,\"#9c179e\"],[0.4444444444444444,\"#bd3786\"],[0.5555555555555556,\"#d8576b\"],[0.6666666666666666,\"#ed7953\"],[0.7777777777777778,\"#fb9f3a\"],[0.8888888888888888,\"#fdca26\"],[1.0,\"#f0f921\"]],\"type\":\"heatmap\"}],\"histogram2dcontour\":[{\"colorbar\":{\"outlinewidth\":0,\"ticks\":\"\"},\"colorscale\":[[0.0,\"#0d0887\"],[0.1111111111111111,\"#46039f\"],[0.2222222222222222,\"#7201a8\"],[0.3333333333333333,\"#9c179e\"],[0.4444444444444444,\"#bd3786\"],[0.5555555555555556,\"#d8576b\"],[0.6666666666666666,\"#ed7953\"],[0.7777777777777778,\"#fb9f3a\"],[0.8888888888888888,\"#fdca26\"],[1.0,\"#f0f921\"]],\"type\":\"histogram2dcontour\"}],\"histogram2d\":[{\"colorbar\":{\"outlinewidth\":0,\"ticks\":\"\"},\"colorscale\":[[0.0,\"#0d0887\"],[0.1111111111111111,\"#46039f\"],[0.2222222222222222,\"#7201a8\"],[0.3333333333333333,\"#9c179e\"],[0.4444444444444444,\"#bd3786\"],[0.5555555555555556,\"#d8576b\"],[0.6666666666666666,\"#ed7953\"],[0.7777777777777778,\"#fb9f3a\"],[0.8888888888888888,\"#fdca26\"],[1.0,\"#f0f921\"]],\"type\":\"histogram2d\"}],\"histogram\":[{\"marker\":{\"pattern\":{\"fillmode\":\"overlay\",\"size\":10,\"solidity\":0.2}},\"type\":\"histogram\"}],\"mesh3d\":[{\"colorbar\":{\"outlinewidth\":0,\"ticks\":\"\"},\"type\":\"mesh3d\"}],\"parcoords\":[{\"line\":{\"colorbar\":{\"outlinewidth\":0,\"ticks\":\"\"}},\"type\":\"parcoords\"}],\"pie\":[{\"automargin\":true,\"type\":\"pie\"}],\"scatter3d\":[{\"line\":{\"colorbar\":{\"outlinewidth\":0,\"ticks\":\"\"}},\"marker\":{\"colorbar\":{\"outlinewidth\":0,\"ticks\":\"\"}},\"type\":\"scatter3d\"}],\"scattercarpet\":[{\"marker\":{\"colorbar\":{\"outlinewidth\":0,\"ticks\":\"\"}},\"type\":\"scattercarpet\"}],\"scattergeo\":[{\"marker\":{\"colorbar\":{\"outlinewidth\":0,\"ticks\":\"\"}},\"type\":\"scattergeo\"}],\"scattergl\":[{\"marker\":{\"colorbar\":{\"outlinewidth\":0,\"ticks\":\"\"}},\"type\":\"scattergl\"}],\"scattermapbox\":[{\"marker\":{\"colorbar\":{\"outlinewidth\":0,\"ticks\":\"\"}},\"type\":\"scattermapbox\"}],\"scatterpolargl\":[{\"marker\":{\"colorbar\":{\"outlinewidth\":0,\"ticks\":\"\"}},\"type\":\"scatterpolargl\"}],\"scatterpolar\":[{\"marker\":{\"colorbar\":{\"outlinewidth\":0,\"ticks\":\"\"}},\"type\":\"scatterpolar\"}],\"scatter\":[{\"fillpattern\":{\"fillmode\":\"overlay\",\"size\":10,\"solidity\":0.2},\"type\":\"scatter\"}],\"scatterternary\":[{\"marker\":{\"colorbar\":{\"outlinewidth\":0,\"ticks\":\"\"}},\"type\":\"scatterternary\"}],\"surface\":[{\"colorbar\":{\"outlinewidth\":0,\"ticks\":\"\"},\"colorscale\":[[0.0,\"#0d0887\"],[0.1111111111111111,\"#46039f\"],[0.2222222222222222,\"#7201a8\"],[0.3333333333333333,\"#9c179e\"],[0.4444444444444444,\"#bd3786\"],[0.5555555555555556,\"#d8576b\"],[0.6666666666666666,\"#ed7953\"],[0.7777777777777778,\"#fb9f3a\"],[0.8888888888888888,\"#fdca26\"],[1.0,\"#f0f921\"]],\"type\":\"surface\"}],\"table\":[{\"cells\":{\"fill\":{\"color\":\"#EBF0F8\"},\"line\":{\"color\":\"white\"}},\"header\":{\"fill\":{\"color\":\"#C8D4E3\"},\"line\":{\"color\":\"white\"}},\"type\":\"table\"}]},\"layout\":{\"annotationdefaults\":{\"arrowcolor\":\"#2a3f5f\",\"arrowhead\":0,\"arrowwidth\":1},\"autotypenumbers\":\"strict\",\"coloraxis\":{\"colorbar\":{\"outlinewidth\":0,\"ticks\":\"\"}},\"colorscale\":{\"diverging\":[[0,\"#8e0152\"],[0.1,\"#c51b7d\"],[0.2,\"#de77ae\"],[0.3,\"#f1b6da\"],[0.4,\"#fde0ef\"],[0.5,\"#f7f7f7\"],[0.6,\"#e6f5d0\"],[0.7,\"#b8e186\"],[0.8,\"#7fbc41\"],[0.9,\"#4d9221\"],[1,\"#276419\"]],\"sequential\":[[0.0,\"#0d0887\"],[0.1111111111111111,\"#46039f\"],[0.2222222222222222,\"#7201a8\"],[0.3333333333333333,\"#9c179e\"],[0.4444444444444444,\"#bd3786\"],[0.5555555555555556,\"#d8576b\"],[0.6666666666666666,\"#ed7953\"],[0.7777777777777778,\"#fb9f3a\"],[0.8888888888888888,\"#fdca26\"],[1.0,\"#f0f921\"]],\"sequentialminus\":[[0.0,\"#0d0887\"],[0.1111111111111111,\"#46039f\"],[0.2222222222222222,\"#7201a8\"],[0.3333333333333333,\"#9c179e\"],[0.4444444444444444,\"#bd3786\"],[0.5555555555555556,\"#d8576b\"],[0.6666666666666666,\"#ed7953\"],[0.7777777777777778,\"#fb9f3a\"],[0.8888888888888888,\"#fdca26\"],[1.0,\"#f0f921\"]]},\"colorway\":[\"#636efa\",\"#EF553B\",\"#00cc96\",\"#ab63fa\",\"#FFA15A\",\"#19d3f3\",\"#FF6692\",\"#B6E880\",\"#FF97FF\",\"#FECB52\"],\"font\":{\"color\":\"#2a3f5f\"},\"geo\":{\"bgcolor\":\"white\",\"lakecolor\":\"white\",\"landcolor\":\"white\",\"showlakes\":true,\"showland\":true,\"subunitcolor\":\"#C8D4E3\"},\"hoverlabel\":{\"align\":\"left\"},\"hovermode\":\"closest\",\"mapbox\":{\"style\":\"light\"},\"paper_bgcolor\":\"white\",\"plot_bgcolor\":\"white\",\"polar\":{\"angularaxis\":{\"gridcolor\":\"#EBF0F8\",\"linecolor\":\"#EBF0F8\",\"ticks\":\"\"},\"bgcolor\":\"white\",\"radialaxis\":{\"gridcolor\":\"#EBF0F8\",\"linecolor\":\"#EBF0F8\",\"ticks\":\"\"}},\"scene\":{\"xaxis\":{\"backgroundcolor\":\"white\",\"gridcolor\":\"#DFE8F3\",\"gridwidth\":2,\"linecolor\":\"#EBF0F8\",\"showbackground\":true,\"ticks\":\"\",\"zerolinecolor\":\"#EBF0F8\"},\"yaxis\":{\"backgroundcolor\":\"white\",\"gridcolor\":\"#DFE8F3\",\"gridwidth\":2,\"linecolor\":\"#EBF0F8\",\"showbackground\":true,\"ticks\":\"\",\"zerolinecolor\":\"#EBF0F8\"},\"zaxis\":{\"backgroundcolor\":\"white\",\"gridcolor\":\"#DFE8F3\",\"gridwidth\":2,\"linecolor\":\"#EBF0F8\",\"showbackground\":true,\"ticks\":\"\",\"zerolinecolor\":\"#EBF0F8\"}},\"shapedefaults\":{\"line\":{\"color\":\"#2a3f5f\"}},\"ternary\":{\"aaxis\":{\"gridcolor\":\"#DFE8F3\",\"linecolor\":\"#A2B1C6\",\"ticks\":\"\"},\"baxis\":{\"gridcolor\":\"#DFE8F3\",\"linecolor\":\"#A2B1C6\",\"ticks\":\"\"},\"bgcolor\":\"white\",\"caxis\":{\"gridcolor\":\"#DFE8F3\",\"linecolor\":\"#A2B1C6\",\"ticks\":\"\"}},\"title\":{\"x\":0.05},\"xaxis\":{\"automargin\":true,\"gridcolor\":\"#EBF0F8\",\"linecolor\":\"#EBF0F8\",\"ticks\":\"\",\"title\":{\"standoff\":15},\"zerolinecolor\":\"#EBF0F8\",\"zerolinewidth\":2},\"yaxis\":{\"automargin\":true,\"gridcolor\":\"#EBF0F8\",\"linecolor\":\"#EBF0F8\",\"ticks\":\"\",\"title\":{\"standoff\":15},\"zerolinecolor\":\"#EBF0F8\",\"zerolinewidth\":2}}},\"yaxis\":{\"minor\":{\"showgrid\":true,\"griddash\":\"dash\",\"gridcolor\":\"gray\",\"gridwidth\":0.5,\"dtick\":0.05},\"showline\":true,\"linecolor\":\"black\",\"linewidth\":1,\"showgrid\":true,\"gridcolor\":\"gray\",\"gridwidth\":1,\"dtick\":0.1,\"range\":[0,1.2],\"title\":{\"text\":\"Mean Value\"}},\"xaxis\":{\"showline\":true,\"linecolor\":\"#000000\",\"linewidth\":1},\"title\":{\"font\":{\"size\":20,\"weight\":1000},\"text\":\"Performance Comparison of EC-based Reaction Prediction Methods\",\"x\":0.5,\"y\":0.05,\"xanchor\":\"center\"},\"legend\":{\"orientation\":\"h\",\"yanchor\":\"bottom\",\"y\":0.99,\"xanchor\":\"center\",\"x\":0.5,\"tracegroupgap\":2,\"borderwidth\":1},\"width\":1600,\"height\":600,\"barmode\":\"group\",\"bargap\":0.29},                        {\"responsive\": true}                    ).then(function(){\n",
       "                            \n",
       "var gd = document.getElementById('3baf817a-55db-44d9-a740-92c368d5fa52');\n",
       "var x = new MutationObserver(function (mutations, observer) {{\n",
       "        var display = window.getComputedStyle(gd).display;\n",
       "        if (!display || display === 'none') {{\n",
       "            console.log([gd, 'removed!']);\n",
       "            Plotly.purge(gd);\n",
       "            observer.disconnect();\n",
       "        }}\n",
       "}});\n",
       "\n",
       "// Listen for the removal of the full notebook cells\n",
       "var notebookContainer = gd.closest('#notebook-container');\n",
       "if (notebookContainer) {{\n",
       "    x.observe(notebookContainer, {childList: true});\n",
       "}}\n",
       "\n",
       "// Listen for the clearing of the current output cell\n",
       "var outputEl = gd.closest('.output');\n",
       "if (outputEl) {{\n",
       "    x.observe(outputEl, {childList: true});\n",
       "}}\n",
       "\n",
       "                        })                };                });            </script>        </div>"
      ]
     },
     "metadata": {},
     "output_type": "display_data"
    }
   ],
   "source": [
    "evTools.show_ec_methods_10_eva_fig(res_metrics_data=res_std[res_std.avgType =='weighted'].reset_index(drop=True))"
   ]
  },
  {
   "cell_type": "code",
   "execution_count": 57,
   "id": "79bd1f88",
   "metadata": {},
   "outputs": [
    {
     "data": {
      "application/vnd.plotly.v1+json": {
       "config": {
        "plotlyServerURL": "https://plot.ly"
       },
       "data": [
        {
         "error_y": {
          "array": [
           0.03735713526965838,
           0.029563274047318126,
           0.019403848941421258,
           0.02628265339821833
          ],
          "type": "data",
          "visible": true
         },
         "marker": {
          "color": "#8ECFC9",
          "line": {
           "color": "black",
           "width": 0.5
          }
         },
         "name": "blast",
         "type": "bar",
         "width": 0.11,
         "x": [
          "mAccuracy",
          "mPrecision",
          "mRecall",
          "mF1"
         ],
         "y": [
          0.828,
          0.8804901956316025,
          0.9551785714285714,
          0.8980985759606316
         ]
        },
        {
         "error_y": {
          "array": [
           0.0015059028117058164,
           0.001111024616687998,
           0.0005905699244992177,
           0.0009838955836212534
          ],
          "type": "data",
          "visible": true
         },
         "marker": {
          "color": "#FFBE7A",
          "line": {
           "color": "black",
           "width": 0.5
          }
         },
         "name": "unirep_euclidean",
         "type": "bar",
         "width": 0.11,
         "x": [
          "mAccuracy",
          "mPrecision",
          "mRecall",
          "mF1"
         ],
         "y": [
          0.8897007353808644,
          0.9261647557452447,
          0.9692703002384835,
          0.9382409644542598
         ]
        },
        {
         "error_y": {
          "array": [
           0.001589904103474761,
           0.0011354798111468457,
           0.0006598679133723869,
           0.001002350481106669
          ],
          "type": "data",
          "visible": true
         },
         "marker": {
          "color": "#FA7F6F",
          "line": {
           "color": "black",
           "width": 0.5
          }
         },
         "name": "unirep_cosine",
         "type": "bar",
         "width": 0.11,
         "x": [
          "mAccuracy",
          "mPrecision",
          "mRecall",
          "mF1"
         ],
         "y": [
          0.8907605489795115,
          0.9268524506930682,
          0.9694836635818594,
          0.9387989028561259
         ]
        },
        {
         "error_y": {
          "array": [
           0.0015672398542976192,
           0.001046138544207474,
           0.0005809140427218253,
           0.0008815613504841637
          ],
          "type": "data",
          "visible": true
         },
         "marker": {
          "color": "#82B0D2",
          "line": {
           "color": "black",
           "width": 0.5
          }
         },
         "name": "esm_euclidean",
         "type": "bar",
         "width": 0.11,
         "x": [
          "mAccuracy",
          "mPrecision",
          "mRecall",
          "mF1"
         ],
         "y": [
          0.9351213181800307,
          0.9583562381287468,
          0.9851504193112646,
          0.9656885077640126
         ]
        },
        {
         "error_y": {
          "array": [
           0.0016345120478554037,
           0.0011471343430024654,
           0.0005188401100658475,
           0.0009751129657437989
          ],
          "type": "data",
          "visible": true
         },
         "marker": {
          "color": "#BEB8DC",
          "line": {
           "color": "black",
           "width": 0.5
          }
         },
         "name": "esm_cosine",
         "type": "bar",
         "width": 0.11,
         "x": [
          "mAccuracy",
          "mPrecision",
          "mRecall",
          "mF1"
         ],
         "y": [
          0.9369499390459712,
          0.9597910407137347,
          0.9854560250932135,
          0.9668736912677153
         ]
        },
        {
         "error_y": {
          "array": [
           0.0009761925314479762,
           0.0007003322970020887,
           0.0004304865799501414,
           0.0005821973960793419
          ],
          "type": "data",
          "visible": true
         },
         "marker": {
          "color": "#E7DAD2",
          "line": {
           "color": "black",
           "width": 0.5
          }
         },
         "name": "t5_euclidean",
         "type": "bar",
         "width": 0.11,
         "x": [
          "mAccuracy",
          "mPrecision",
          "mRecall",
          "mF1"
         ],
         "y": [
          0.9540917849699163,
          0.9707010702439621,
          0.9883580775701188,
          0.9754790504925049
         ]
        },
        {
         "error_y": {
          "array": [
           0.0010374301635664343,
           0.0007520530989001534,
           0.0003820821738357817,
           0.0006227508601154094
          ],
          "type": "data",
          "visible": true
         },
         "marker": {
          "color": "#999999",
          "line": {
           "color": "black",
           "width": 0.5
          }
         },
         "name": "t5_cosine",
         "type": "bar",
         "width": 0.11,
         "x": [
          "mAccuracy",
          "mPrecision",
          "mRecall",
          "mF1"
         ],
         "y": [
          0.9546443037476896,
          0.9710502600153192,
          0.9883903698629453,
          0.9757328756490132
         ]
        },
        {
         "error_y": {
          "array": [
           0.0005755614726839192,
           0.00046164455274504693,
           0.00040392812345556734,
           0.0004361146022064174
          ],
          "type": "data",
          "visible": true
         },
         "marker": {
          "color": "#A1D3B2",
          "line": {
           "color": "black",
           "width": 0.5
          }
         },
         "name": "RXNRECer",
         "type": "bar",
         "width": 0.11,
         "x": [
          "mAccuracy",
          "mPrecision",
          "mRecall",
          "mF1"
         ],
         "y": [
          0.9872822368162334,
          0.9908522938578063,
          0.9900445902236491,
          0.9899804357332845
         ]
        }
       ],
       "layout": {
        "bargap": 0.29,
        "barmode": "group",
        "height": 600,
        "legend": {
         "borderwidth": 1,
         "orientation": "h",
         "tracegroupgap": 2,
         "x": 0.5,
         "xanchor": "center",
         "y": 0.99,
         "yanchor": "bottom"
        },
        "template": {
         "data": {
          "bar": [
           {
            "error_x": {
             "color": "#2a3f5f"
            },
            "error_y": {
             "color": "#2a3f5f"
            },
            "marker": {
             "line": {
              "color": "white",
              "width": 0.5
             },
             "pattern": {
              "fillmode": "overlay",
              "size": 10,
              "solidity": 0.2
             }
            },
            "type": "bar"
           }
          ],
          "barpolar": [
           {
            "marker": {
             "line": {
              "color": "white",
              "width": 0.5
             },
             "pattern": {
              "fillmode": "overlay",
              "size": 10,
              "solidity": 0.2
             }
            },
            "type": "barpolar"
           }
          ],
          "carpet": [
           {
            "aaxis": {
             "endlinecolor": "#2a3f5f",
             "gridcolor": "#C8D4E3",
             "linecolor": "#C8D4E3",
             "minorgridcolor": "#C8D4E3",
             "startlinecolor": "#2a3f5f"
            },
            "baxis": {
             "endlinecolor": "#2a3f5f",
             "gridcolor": "#C8D4E3",
             "linecolor": "#C8D4E3",
             "minorgridcolor": "#C8D4E3",
             "startlinecolor": "#2a3f5f"
            },
            "type": "carpet"
           }
          ],
          "choropleth": [
           {
            "colorbar": {
             "outlinewidth": 0,
             "ticks": ""
            },
            "type": "choropleth"
           }
          ],
          "contour": [
           {
            "colorbar": {
             "outlinewidth": 0,
             "ticks": ""
            },
            "colorscale": [
             [
              0,
              "#0d0887"
             ],
             [
              0.1111111111111111,
              "#46039f"
             ],
             [
              0.2222222222222222,
              "#7201a8"
             ],
             [
              0.3333333333333333,
              "#9c179e"
             ],
             [
              0.4444444444444444,
              "#bd3786"
             ],
             [
              0.5555555555555556,
              "#d8576b"
             ],
             [
              0.6666666666666666,
              "#ed7953"
             ],
             [
              0.7777777777777778,
              "#fb9f3a"
             ],
             [
              0.8888888888888888,
              "#fdca26"
             ],
             [
              1,
              "#f0f921"
             ]
            ],
            "type": "contour"
           }
          ],
          "contourcarpet": [
           {
            "colorbar": {
             "outlinewidth": 0,
             "ticks": ""
            },
            "type": "contourcarpet"
           }
          ],
          "heatmap": [
           {
            "colorbar": {
             "outlinewidth": 0,
             "ticks": ""
            },
            "colorscale": [
             [
              0,
              "#0d0887"
             ],
             [
              0.1111111111111111,
              "#46039f"
             ],
             [
              0.2222222222222222,
              "#7201a8"
             ],
             [
              0.3333333333333333,
              "#9c179e"
             ],
             [
              0.4444444444444444,
              "#bd3786"
             ],
             [
              0.5555555555555556,
              "#d8576b"
             ],
             [
              0.6666666666666666,
              "#ed7953"
             ],
             [
              0.7777777777777778,
              "#fb9f3a"
             ],
             [
              0.8888888888888888,
              "#fdca26"
             ],
             [
              1,
              "#f0f921"
             ]
            ],
            "type": "heatmap"
           }
          ],
          "heatmapgl": [
           {
            "colorbar": {
             "outlinewidth": 0,
             "ticks": ""
            },
            "colorscale": [
             [
              0,
              "#0d0887"
             ],
             [
              0.1111111111111111,
              "#46039f"
             ],
             [
              0.2222222222222222,
              "#7201a8"
             ],
             [
              0.3333333333333333,
              "#9c179e"
             ],
             [
              0.4444444444444444,
              "#bd3786"
             ],
             [
              0.5555555555555556,
              "#d8576b"
             ],
             [
              0.6666666666666666,
              "#ed7953"
             ],
             [
              0.7777777777777778,
              "#fb9f3a"
             ],
             [
              0.8888888888888888,
              "#fdca26"
             ],
             [
              1,
              "#f0f921"
             ]
            ],
            "type": "heatmapgl"
           }
          ],
          "histogram": [
           {
            "marker": {
             "pattern": {
              "fillmode": "overlay",
              "size": 10,
              "solidity": 0.2
             }
            },
            "type": "histogram"
           }
          ],
          "histogram2d": [
           {
            "colorbar": {
             "outlinewidth": 0,
             "ticks": ""
            },
            "colorscale": [
             [
              0,
              "#0d0887"
             ],
             [
              0.1111111111111111,
              "#46039f"
             ],
             [
              0.2222222222222222,
              "#7201a8"
             ],
             [
              0.3333333333333333,
              "#9c179e"
             ],
             [
              0.4444444444444444,
              "#bd3786"
             ],
             [
              0.5555555555555556,
              "#d8576b"
             ],
             [
              0.6666666666666666,
              "#ed7953"
             ],
             [
              0.7777777777777778,
              "#fb9f3a"
             ],
             [
              0.8888888888888888,
              "#fdca26"
             ],
             [
              1,
              "#f0f921"
             ]
            ],
            "type": "histogram2d"
           }
          ],
          "histogram2dcontour": [
           {
            "colorbar": {
             "outlinewidth": 0,
             "ticks": ""
            },
            "colorscale": [
             [
              0,
              "#0d0887"
             ],
             [
              0.1111111111111111,
              "#46039f"
             ],
             [
              0.2222222222222222,
              "#7201a8"
             ],
             [
              0.3333333333333333,
              "#9c179e"
             ],
             [
              0.4444444444444444,
              "#bd3786"
             ],
             [
              0.5555555555555556,
              "#d8576b"
             ],
             [
              0.6666666666666666,
              "#ed7953"
             ],
             [
              0.7777777777777778,
              "#fb9f3a"
             ],
             [
              0.8888888888888888,
              "#fdca26"
             ],
             [
              1,
              "#f0f921"
             ]
            ],
            "type": "histogram2dcontour"
           }
          ],
          "mesh3d": [
           {
            "colorbar": {
             "outlinewidth": 0,
             "ticks": ""
            },
            "type": "mesh3d"
           }
          ],
          "parcoords": [
           {
            "line": {
             "colorbar": {
              "outlinewidth": 0,
              "ticks": ""
             }
            },
            "type": "parcoords"
           }
          ],
          "pie": [
           {
            "automargin": true,
            "type": "pie"
           }
          ],
          "scatter": [
           {
            "fillpattern": {
             "fillmode": "overlay",
             "size": 10,
             "solidity": 0.2
            },
            "type": "scatter"
           }
          ],
          "scatter3d": [
           {
            "line": {
             "colorbar": {
              "outlinewidth": 0,
              "ticks": ""
             }
            },
            "marker": {
             "colorbar": {
              "outlinewidth": 0,
              "ticks": ""
             }
            },
            "type": "scatter3d"
           }
          ],
          "scattercarpet": [
           {
            "marker": {
             "colorbar": {
              "outlinewidth": 0,
              "ticks": ""
             }
            },
            "type": "scattercarpet"
           }
          ],
          "scattergeo": [
           {
            "marker": {
             "colorbar": {
              "outlinewidth": 0,
              "ticks": ""
             }
            },
            "type": "scattergeo"
           }
          ],
          "scattergl": [
           {
            "marker": {
             "colorbar": {
              "outlinewidth": 0,
              "ticks": ""
             }
            },
            "type": "scattergl"
           }
          ],
          "scattermapbox": [
           {
            "marker": {
             "colorbar": {
              "outlinewidth": 0,
              "ticks": ""
             }
            },
            "type": "scattermapbox"
           }
          ],
          "scatterpolar": [
           {
            "marker": {
             "colorbar": {
              "outlinewidth": 0,
              "ticks": ""
             }
            },
            "type": "scatterpolar"
           }
          ],
          "scatterpolargl": [
           {
            "marker": {
             "colorbar": {
              "outlinewidth": 0,
              "ticks": ""
             }
            },
            "type": "scatterpolargl"
           }
          ],
          "scatterternary": [
           {
            "marker": {
             "colorbar": {
              "outlinewidth": 0,
              "ticks": ""
             }
            },
            "type": "scatterternary"
           }
          ],
          "surface": [
           {
            "colorbar": {
             "outlinewidth": 0,
             "ticks": ""
            },
            "colorscale": [
             [
              0,
              "#0d0887"
             ],
             [
              0.1111111111111111,
              "#46039f"
             ],
             [
              0.2222222222222222,
              "#7201a8"
             ],
             [
              0.3333333333333333,
              "#9c179e"
             ],
             [
              0.4444444444444444,
              "#bd3786"
             ],
             [
              0.5555555555555556,
              "#d8576b"
             ],
             [
              0.6666666666666666,
              "#ed7953"
             ],
             [
              0.7777777777777778,
              "#fb9f3a"
             ],
             [
              0.8888888888888888,
              "#fdca26"
             ],
             [
              1,
              "#f0f921"
             ]
            ],
            "type": "surface"
           }
          ],
          "table": [
           {
            "cells": {
             "fill": {
              "color": "#EBF0F8"
             },
             "line": {
              "color": "white"
             }
            },
            "header": {
             "fill": {
              "color": "#C8D4E3"
             },
             "line": {
              "color": "white"
             }
            },
            "type": "table"
           }
          ]
         },
         "layout": {
          "annotationdefaults": {
           "arrowcolor": "#2a3f5f",
           "arrowhead": 0,
           "arrowwidth": 1
          },
          "autotypenumbers": "strict",
          "coloraxis": {
           "colorbar": {
            "outlinewidth": 0,
            "ticks": ""
           }
          },
          "colorscale": {
           "diverging": [
            [
             0,
             "#8e0152"
            ],
            [
             0.1,
             "#c51b7d"
            ],
            [
             0.2,
             "#de77ae"
            ],
            [
             0.3,
             "#f1b6da"
            ],
            [
             0.4,
             "#fde0ef"
            ],
            [
             0.5,
             "#f7f7f7"
            ],
            [
             0.6,
             "#e6f5d0"
            ],
            [
             0.7,
             "#b8e186"
            ],
            [
             0.8,
             "#7fbc41"
            ],
            [
             0.9,
             "#4d9221"
            ],
            [
             1,
             "#276419"
            ]
           ],
           "sequential": [
            [
             0,
             "#0d0887"
            ],
            [
             0.1111111111111111,
             "#46039f"
            ],
            [
             0.2222222222222222,
             "#7201a8"
            ],
            [
             0.3333333333333333,
             "#9c179e"
            ],
            [
             0.4444444444444444,
             "#bd3786"
            ],
            [
             0.5555555555555556,
             "#d8576b"
            ],
            [
             0.6666666666666666,
             "#ed7953"
            ],
            [
             0.7777777777777778,
             "#fb9f3a"
            ],
            [
             0.8888888888888888,
             "#fdca26"
            ],
            [
             1,
             "#f0f921"
            ]
           ],
           "sequentialminus": [
            [
             0,
             "#0d0887"
            ],
            [
             0.1111111111111111,
             "#46039f"
            ],
            [
             0.2222222222222222,
             "#7201a8"
            ],
            [
             0.3333333333333333,
             "#9c179e"
            ],
            [
             0.4444444444444444,
             "#bd3786"
            ],
            [
             0.5555555555555556,
             "#d8576b"
            ],
            [
             0.6666666666666666,
             "#ed7953"
            ],
            [
             0.7777777777777778,
             "#fb9f3a"
            ],
            [
             0.8888888888888888,
             "#fdca26"
            ],
            [
             1,
             "#f0f921"
            ]
           ]
          },
          "colorway": [
           "#636efa",
           "#EF553B",
           "#00cc96",
           "#ab63fa",
           "#FFA15A",
           "#19d3f3",
           "#FF6692",
           "#B6E880",
           "#FF97FF",
           "#FECB52"
          ],
          "font": {
           "color": "#2a3f5f"
          },
          "geo": {
           "bgcolor": "white",
           "lakecolor": "white",
           "landcolor": "white",
           "showlakes": true,
           "showland": true,
           "subunitcolor": "#C8D4E3"
          },
          "hoverlabel": {
           "align": "left"
          },
          "hovermode": "closest",
          "mapbox": {
           "style": "light"
          },
          "paper_bgcolor": "white",
          "plot_bgcolor": "white",
          "polar": {
           "angularaxis": {
            "gridcolor": "#EBF0F8",
            "linecolor": "#EBF0F8",
            "ticks": ""
           },
           "bgcolor": "white",
           "radialaxis": {
            "gridcolor": "#EBF0F8",
            "linecolor": "#EBF0F8",
            "ticks": ""
           }
          },
          "scene": {
           "xaxis": {
            "backgroundcolor": "white",
            "gridcolor": "#DFE8F3",
            "gridwidth": 2,
            "linecolor": "#EBF0F8",
            "showbackground": true,
            "ticks": "",
            "zerolinecolor": "#EBF0F8"
           },
           "yaxis": {
            "backgroundcolor": "white",
            "gridcolor": "#DFE8F3",
            "gridwidth": 2,
            "linecolor": "#EBF0F8",
            "showbackground": true,
            "ticks": "",
            "zerolinecolor": "#EBF0F8"
           },
           "zaxis": {
            "backgroundcolor": "white",
            "gridcolor": "#DFE8F3",
            "gridwidth": 2,
            "linecolor": "#EBF0F8",
            "showbackground": true,
            "ticks": "",
            "zerolinecolor": "#EBF0F8"
           }
          },
          "shapedefaults": {
           "line": {
            "color": "#2a3f5f"
           }
          },
          "ternary": {
           "aaxis": {
            "gridcolor": "#DFE8F3",
            "linecolor": "#A2B1C6",
            "ticks": ""
           },
           "baxis": {
            "gridcolor": "#DFE8F3",
            "linecolor": "#A2B1C6",
            "ticks": ""
           },
           "bgcolor": "white",
           "caxis": {
            "gridcolor": "#DFE8F3",
            "linecolor": "#A2B1C6",
            "ticks": ""
           }
          },
          "title": {
           "x": 0.05
          },
          "xaxis": {
           "automargin": true,
           "gridcolor": "#EBF0F8",
           "linecolor": "#EBF0F8",
           "ticks": "",
           "title": {
            "standoff": 15
           },
           "zerolinecolor": "#EBF0F8",
           "zerolinewidth": 2
          },
          "yaxis": {
           "automargin": true,
           "gridcolor": "#EBF0F8",
           "linecolor": "#EBF0F8",
           "ticks": "",
           "title": {
            "standoff": 15
           },
           "zerolinecolor": "#EBF0F8",
           "zerolinewidth": 2
          }
         }
        },
        "title": {
         "font": {
          "size": 20,
          "weight": 1000
         },
         "text": "Performance Comparison of EC-based Reaction Prediction Methods",
         "x": 0.5,
         "xanchor": "center",
         "y": 0.05
        },
        "width": 1600,
        "xaxis": {
         "linecolor": "#000000",
         "linewidth": 1,
         "showline": true
        },
        "yaxis": {
         "dtick": 0.1,
         "gridcolor": "gray",
         "gridwidth": 1,
         "linecolor": "black",
         "linewidth": 1,
         "minor": {
          "dtick": 0.05,
          "gridcolor": "gray",
          "griddash": "dash",
          "gridwidth": 0.5,
          "showgrid": true
         },
         "range": [
          0,
          1.1
         ],
         "showgrid": true,
         "showline": true,
         "title": {
          "text": "Mean Value"
         }
        }
       }
      },
      "text/html": [
       "<div>                            <div id=\"24d9f93d-3152-4920-a033-989f5808d361\" class=\"plotly-graph-div\" style=\"height:600px; width:1600px;\"></div>            <script type=\"text/javascript\">                require([\"plotly\"], function(Plotly) {                    window.PLOTLYENV=window.PLOTLYENV || {};                                    if (document.getElementById(\"24d9f93d-3152-4920-a033-989f5808d361\")) {                    Plotly.newPlot(                        \"24d9f93d-3152-4920-a033-989f5808d361\",                        [{\"error_y\":{\"array\":[0.03735713526965838,0.029563274047318126,0.019403848941421258,0.02628265339821833],\"type\":\"data\",\"visible\":true},\"marker\":{\"color\":\"#8ECFC9\",\"line\":{\"color\":\"black\",\"width\":0.5}},\"name\":\"blast\",\"width\":0.11,\"x\":[\"mAccuracy\",\"mPrecision\",\"mRecall\",\"mF1\"],\"y\":[0.828,0.8804901956316025,0.9551785714285714,0.8980985759606316],\"type\":\"bar\"},{\"error_y\":{\"array\":[0.0015059028117058164,0.001111024616687998,0.0005905699244992177,0.0009838955836212534],\"type\":\"data\",\"visible\":true},\"marker\":{\"color\":\"#FFBE7A\",\"line\":{\"color\":\"black\",\"width\":0.5}},\"name\":\"unirep_euclidean\",\"width\":0.11,\"x\":[\"mAccuracy\",\"mPrecision\",\"mRecall\",\"mF1\"],\"y\":[0.8897007353808644,0.9261647557452447,0.9692703002384835,0.9382409644542598],\"type\":\"bar\"},{\"error_y\":{\"array\":[0.001589904103474761,0.0011354798111468457,0.0006598679133723869,0.001002350481106669],\"type\":\"data\",\"visible\":true},\"marker\":{\"color\":\"#FA7F6F\",\"line\":{\"color\":\"black\",\"width\":0.5}},\"name\":\"unirep_cosine\",\"width\":0.11,\"x\":[\"mAccuracy\",\"mPrecision\",\"mRecall\",\"mF1\"],\"y\":[0.8907605489795115,0.9268524506930682,0.9694836635818594,0.9387989028561259],\"type\":\"bar\"},{\"error_y\":{\"array\":[0.0015672398542976192,0.001046138544207474,0.0005809140427218253,0.0008815613504841637],\"type\":\"data\",\"visible\":true},\"marker\":{\"color\":\"#82B0D2\",\"line\":{\"color\":\"black\",\"width\":0.5}},\"name\":\"esm_euclidean\",\"width\":0.11,\"x\":[\"mAccuracy\",\"mPrecision\",\"mRecall\",\"mF1\"],\"y\":[0.9351213181800307,0.9583562381287468,0.9851504193112646,0.9656885077640126],\"type\":\"bar\"},{\"error_y\":{\"array\":[0.0016345120478554037,0.0011471343430024654,0.0005188401100658475,0.0009751129657437989],\"type\":\"data\",\"visible\":true},\"marker\":{\"color\":\"#BEB8DC\",\"line\":{\"color\":\"black\",\"width\":0.5}},\"name\":\"esm_cosine\",\"width\":0.11,\"x\":[\"mAccuracy\",\"mPrecision\",\"mRecall\",\"mF1\"],\"y\":[0.9369499390459712,0.9597910407137347,0.9854560250932135,0.9668736912677153],\"type\":\"bar\"},{\"error_y\":{\"array\":[0.0009761925314479762,0.0007003322970020887,0.0004304865799501414,0.0005821973960793419],\"type\":\"data\",\"visible\":true},\"marker\":{\"color\":\"#E7DAD2\",\"line\":{\"color\":\"black\",\"width\":0.5}},\"name\":\"t5_euclidean\",\"width\":0.11,\"x\":[\"mAccuracy\",\"mPrecision\",\"mRecall\",\"mF1\"],\"y\":[0.9540917849699163,0.9707010702439621,0.9883580775701188,0.9754790504925049],\"type\":\"bar\"},{\"error_y\":{\"array\":[0.0010374301635664343,0.0007520530989001534,0.0003820821738357817,0.0006227508601154094],\"type\":\"data\",\"visible\":true},\"marker\":{\"color\":\"#999999\",\"line\":{\"color\":\"black\",\"width\":0.5}},\"name\":\"t5_cosine\",\"width\":0.11,\"x\":[\"mAccuracy\",\"mPrecision\",\"mRecall\",\"mF1\"],\"y\":[0.9546443037476896,0.9710502600153192,0.9883903698629453,0.9757328756490132],\"type\":\"bar\"},{\"error_y\":{\"array\":[0.0005755614726839192,0.00046164455274504693,0.00040392812345556734,0.0004361146022064174],\"type\":\"data\",\"visible\":true},\"marker\":{\"color\":\"#A1D3B2\",\"line\":{\"color\":\"black\",\"width\":0.5}},\"name\":\"RXNRECer\",\"width\":0.11,\"x\":[\"mAccuracy\",\"mPrecision\",\"mRecall\",\"mF1\"],\"y\":[0.9872822368162334,0.9908522938578063,0.9900445902236491,0.9899804357332845],\"type\":\"bar\"}],                        {\"template\":{\"data\":{\"barpolar\":[{\"marker\":{\"line\":{\"color\":\"white\",\"width\":0.5},\"pattern\":{\"fillmode\":\"overlay\",\"size\":10,\"solidity\":0.2}},\"type\":\"barpolar\"}],\"bar\":[{\"error_x\":{\"color\":\"#2a3f5f\"},\"error_y\":{\"color\":\"#2a3f5f\"},\"marker\":{\"line\":{\"color\":\"white\",\"width\":0.5},\"pattern\":{\"fillmode\":\"overlay\",\"size\":10,\"solidity\":0.2}},\"type\":\"bar\"}],\"carpet\":[{\"aaxis\":{\"endlinecolor\":\"#2a3f5f\",\"gridcolor\":\"#C8D4E3\",\"linecolor\":\"#C8D4E3\",\"minorgridcolor\":\"#C8D4E3\",\"startlinecolor\":\"#2a3f5f\"},\"baxis\":{\"endlinecolor\":\"#2a3f5f\",\"gridcolor\":\"#C8D4E3\",\"linecolor\":\"#C8D4E3\",\"minorgridcolor\":\"#C8D4E3\",\"startlinecolor\":\"#2a3f5f\"},\"type\":\"carpet\"}],\"choropleth\":[{\"colorbar\":{\"outlinewidth\":0,\"ticks\":\"\"},\"type\":\"choropleth\"}],\"contourcarpet\":[{\"colorbar\":{\"outlinewidth\":0,\"ticks\":\"\"},\"type\":\"contourcarpet\"}],\"contour\":[{\"colorbar\":{\"outlinewidth\":0,\"ticks\":\"\"},\"colorscale\":[[0.0,\"#0d0887\"],[0.1111111111111111,\"#46039f\"],[0.2222222222222222,\"#7201a8\"],[0.3333333333333333,\"#9c179e\"],[0.4444444444444444,\"#bd3786\"],[0.5555555555555556,\"#d8576b\"],[0.6666666666666666,\"#ed7953\"],[0.7777777777777778,\"#fb9f3a\"],[0.8888888888888888,\"#fdca26\"],[1.0,\"#f0f921\"]],\"type\":\"contour\"}],\"heatmapgl\":[{\"colorbar\":{\"outlinewidth\":0,\"ticks\":\"\"},\"colorscale\":[[0.0,\"#0d0887\"],[0.1111111111111111,\"#46039f\"],[0.2222222222222222,\"#7201a8\"],[0.3333333333333333,\"#9c179e\"],[0.4444444444444444,\"#bd3786\"],[0.5555555555555556,\"#d8576b\"],[0.6666666666666666,\"#ed7953\"],[0.7777777777777778,\"#fb9f3a\"],[0.8888888888888888,\"#fdca26\"],[1.0,\"#f0f921\"]],\"type\":\"heatmapgl\"}],\"heatmap\":[{\"colorbar\":{\"outlinewidth\":0,\"ticks\":\"\"},\"colorscale\":[[0.0,\"#0d0887\"],[0.1111111111111111,\"#46039f\"],[0.2222222222222222,\"#7201a8\"],[0.3333333333333333,\"#9c179e\"],[0.4444444444444444,\"#bd3786\"],[0.5555555555555556,\"#d8576b\"],[0.6666666666666666,\"#ed7953\"],[0.7777777777777778,\"#fb9f3a\"],[0.8888888888888888,\"#fdca26\"],[1.0,\"#f0f921\"]],\"type\":\"heatmap\"}],\"histogram2dcontour\":[{\"colorbar\":{\"outlinewidth\":0,\"ticks\":\"\"},\"colorscale\":[[0.0,\"#0d0887\"],[0.1111111111111111,\"#46039f\"],[0.2222222222222222,\"#7201a8\"],[0.3333333333333333,\"#9c179e\"],[0.4444444444444444,\"#bd3786\"],[0.5555555555555556,\"#d8576b\"],[0.6666666666666666,\"#ed7953\"],[0.7777777777777778,\"#fb9f3a\"],[0.8888888888888888,\"#fdca26\"],[1.0,\"#f0f921\"]],\"type\":\"histogram2dcontour\"}],\"histogram2d\":[{\"colorbar\":{\"outlinewidth\":0,\"ticks\":\"\"},\"colorscale\":[[0.0,\"#0d0887\"],[0.1111111111111111,\"#46039f\"],[0.2222222222222222,\"#7201a8\"],[0.3333333333333333,\"#9c179e\"],[0.4444444444444444,\"#bd3786\"],[0.5555555555555556,\"#d8576b\"],[0.6666666666666666,\"#ed7953\"],[0.7777777777777778,\"#fb9f3a\"],[0.8888888888888888,\"#fdca26\"],[1.0,\"#f0f921\"]],\"type\":\"histogram2d\"}],\"histogram\":[{\"marker\":{\"pattern\":{\"fillmode\":\"overlay\",\"size\":10,\"solidity\":0.2}},\"type\":\"histogram\"}],\"mesh3d\":[{\"colorbar\":{\"outlinewidth\":0,\"ticks\":\"\"},\"type\":\"mesh3d\"}],\"parcoords\":[{\"line\":{\"colorbar\":{\"outlinewidth\":0,\"ticks\":\"\"}},\"type\":\"parcoords\"}],\"pie\":[{\"automargin\":true,\"type\":\"pie\"}],\"scatter3d\":[{\"line\":{\"colorbar\":{\"outlinewidth\":0,\"ticks\":\"\"}},\"marker\":{\"colorbar\":{\"outlinewidth\":0,\"ticks\":\"\"}},\"type\":\"scatter3d\"}],\"scattercarpet\":[{\"marker\":{\"colorbar\":{\"outlinewidth\":0,\"ticks\":\"\"}},\"type\":\"scattercarpet\"}],\"scattergeo\":[{\"marker\":{\"colorbar\":{\"outlinewidth\":0,\"ticks\":\"\"}},\"type\":\"scattergeo\"}],\"scattergl\":[{\"marker\":{\"colorbar\":{\"outlinewidth\":0,\"ticks\":\"\"}},\"type\":\"scattergl\"}],\"scattermapbox\":[{\"marker\":{\"colorbar\":{\"outlinewidth\":0,\"ticks\":\"\"}},\"type\":\"scattermapbox\"}],\"scatterpolargl\":[{\"marker\":{\"colorbar\":{\"outlinewidth\":0,\"ticks\":\"\"}},\"type\":\"scatterpolargl\"}],\"scatterpolar\":[{\"marker\":{\"colorbar\":{\"outlinewidth\":0,\"ticks\":\"\"}},\"type\":\"scatterpolar\"}],\"scatter\":[{\"fillpattern\":{\"fillmode\":\"overlay\",\"size\":10,\"solidity\":0.2},\"type\":\"scatter\"}],\"scatterternary\":[{\"marker\":{\"colorbar\":{\"outlinewidth\":0,\"ticks\":\"\"}},\"type\":\"scatterternary\"}],\"surface\":[{\"colorbar\":{\"outlinewidth\":0,\"ticks\":\"\"},\"colorscale\":[[0.0,\"#0d0887\"],[0.1111111111111111,\"#46039f\"],[0.2222222222222222,\"#7201a8\"],[0.3333333333333333,\"#9c179e\"],[0.4444444444444444,\"#bd3786\"],[0.5555555555555556,\"#d8576b\"],[0.6666666666666666,\"#ed7953\"],[0.7777777777777778,\"#fb9f3a\"],[0.8888888888888888,\"#fdca26\"],[1.0,\"#f0f921\"]],\"type\":\"surface\"}],\"table\":[{\"cells\":{\"fill\":{\"color\":\"#EBF0F8\"},\"line\":{\"color\":\"white\"}},\"header\":{\"fill\":{\"color\":\"#C8D4E3\"},\"line\":{\"color\":\"white\"}},\"type\":\"table\"}]},\"layout\":{\"annotationdefaults\":{\"arrowcolor\":\"#2a3f5f\",\"arrowhead\":0,\"arrowwidth\":1},\"autotypenumbers\":\"strict\",\"coloraxis\":{\"colorbar\":{\"outlinewidth\":0,\"ticks\":\"\"}},\"colorscale\":{\"diverging\":[[0,\"#8e0152\"],[0.1,\"#c51b7d\"],[0.2,\"#de77ae\"],[0.3,\"#f1b6da\"],[0.4,\"#fde0ef\"],[0.5,\"#f7f7f7\"],[0.6,\"#e6f5d0\"],[0.7,\"#b8e186\"],[0.8,\"#7fbc41\"],[0.9,\"#4d9221\"],[1,\"#276419\"]],\"sequential\":[[0.0,\"#0d0887\"],[0.1111111111111111,\"#46039f\"],[0.2222222222222222,\"#7201a8\"],[0.3333333333333333,\"#9c179e\"],[0.4444444444444444,\"#bd3786\"],[0.5555555555555556,\"#d8576b\"],[0.6666666666666666,\"#ed7953\"],[0.7777777777777778,\"#fb9f3a\"],[0.8888888888888888,\"#fdca26\"],[1.0,\"#f0f921\"]],\"sequentialminus\":[[0.0,\"#0d0887\"],[0.1111111111111111,\"#46039f\"],[0.2222222222222222,\"#7201a8\"],[0.3333333333333333,\"#9c179e\"],[0.4444444444444444,\"#bd3786\"],[0.5555555555555556,\"#d8576b\"],[0.6666666666666666,\"#ed7953\"],[0.7777777777777778,\"#fb9f3a\"],[0.8888888888888888,\"#fdca26\"],[1.0,\"#f0f921\"]]},\"colorway\":[\"#636efa\",\"#EF553B\",\"#00cc96\",\"#ab63fa\",\"#FFA15A\",\"#19d3f3\",\"#FF6692\",\"#B6E880\",\"#FF97FF\",\"#FECB52\"],\"font\":{\"color\":\"#2a3f5f\"},\"geo\":{\"bgcolor\":\"white\",\"lakecolor\":\"white\",\"landcolor\":\"white\",\"showlakes\":true,\"showland\":true,\"subunitcolor\":\"#C8D4E3\"},\"hoverlabel\":{\"align\":\"left\"},\"hovermode\":\"closest\",\"mapbox\":{\"style\":\"light\"},\"paper_bgcolor\":\"white\",\"plot_bgcolor\":\"white\",\"polar\":{\"angularaxis\":{\"gridcolor\":\"#EBF0F8\",\"linecolor\":\"#EBF0F8\",\"ticks\":\"\"},\"bgcolor\":\"white\",\"radialaxis\":{\"gridcolor\":\"#EBF0F8\",\"linecolor\":\"#EBF0F8\",\"ticks\":\"\"}},\"scene\":{\"xaxis\":{\"backgroundcolor\":\"white\",\"gridcolor\":\"#DFE8F3\",\"gridwidth\":2,\"linecolor\":\"#EBF0F8\",\"showbackground\":true,\"ticks\":\"\",\"zerolinecolor\":\"#EBF0F8\"},\"yaxis\":{\"backgroundcolor\":\"white\",\"gridcolor\":\"#DFE8F3\",\"gridwidth\":2,\"linecolor\":\"#EBF0F8\",\"showbackground\":true,\"ticks\":\"\",\"zerolinecolor\":\"#EBF0F8\"},\"zaxis\":{\"backgroundcolor\":\"white\",\"gridcolor\":\"#DFE8F3\",\"gridwidth\":2,\"linecolor\":\"#EBF0F8\",\"showbackground\":true,\"ticks\":\"\",\"zerolinecolor\":\"#EBF0F8\"}},\"shapedefaults\":{\"line\":{\"color\":\"#2a3f5f\"}},\"ternary\":{\"aaxis\":{\"gridcolor\":\"#DFE8F3\",\"linecolor\":\"#A2B1C6\",\"ticks\":\"\"},\"baxis\":{\"gridcolor\":\"#DFE8F3\",\"linecolor\":\"#A2B1C6\",\"ticks\":\"\"},\"bgcolor\":\"white\",\"caxis\":{\"gridcolor\":\"#DFE8F3\",\"linecolor\":\"#A2B1C6\",\"ticks\":\"\"}},\"title\":{\"x\":0.05},\"xaxis\":{\"automargin\":true,\"gridcolor\":\"#EBF0F8\",\"linecolor\":\"#EBF0F8\",\"ticks\":\"\",\"title\":{\"standoff\":15},\"zerolinecolor\":\"#EBF0F8\",\"zerolinewidth\":2},\"yaxis\":{\"automargin\":true,\"gridcolor\":\"#EBF0F8\",\"linecolor\":\"#EBF0F8\",\"ticks\":\"\",\"title\":{\"standoff\":15},\"zerolinecolor\":\"#EBF0F8\",\"zerolinewidth\":2}}},\"yaxis\":{\"minor\":{\"showgrid\":true,\"griddash\":\"dash\",\"gridcolor\":\"gray\",\"gridwidth\":0.5,\"dtick\":0.05},\"showline\":true,\"linecolor\":\"black\",\"linewidth\":1,\"showgrid\":true,\"gridcolor\":\"gray\",\"gridwidth\":1,\"dtick\":0.1,\"range\":[0,1.1],\"title\":{\"text\":\"Mean Value\"}},\"xaxis\":{\"showline\":true,\"linecolor\":\"#000000\",\"linewidth\":1},\"title\":{\"font\":{\"size\":20,\"weight\":1000},\"text\":\"Performance Comparison of EC-based Reaction Prediction Methods\",\"x\":0.5,\"y\":0.05,\"xanchor\":\"center\"},\"legend\":{\"orientation\":\"h\",\"yanchor\":\"bottom\",\"y\":0.99,\"xanchor\":\"center\",\"x\":0.5,\"tracegroupgap\":2,\"borderwidth\":1},\"width\":1600,\"height\":600,\"barmode\":\"group\",\"bargap\":0.29},                        {\"responsive\": true}                    ).then(function(){\n",
       "                            \n",
       "var gd = document.getElementById('24d9f93d-3152-4920-a033-989f5808d361');\n",
       "var x = new MutationObserver(function (mutations, observer) {{\n",
       "        var display = window.getComputedStyle(gd).display;\n",
       "        if (!display || display === 'none') {{\n",
       "            console.log([gd, 'removed!']);\n",
       "            Plotly.purge(gd);\n",
       "            observer.disconnect();\n",
       "        }}\n",
       "}});\n",
       "\n",
       "// Listen for the removal of the full notebook cells\n",
       "var notebookContainer = gd.closest('#notebook-container');\n",
       "if (notebookContainer) {{\n",
       "    x.observe(notebookContainer, {childList: true});\n",
       "}}\n",
       "\n",
       "// Listen for the clearing of the current output cell\n",
       "var outputEl = gd.closest('.output');\n",
       "if (outputEl) {{\n",
       "    x.observe(outputEl, {childList: true});\n",
       "}}\n",
       "\n",
       "                        })                };                });            </script>        </div>"
      ]
     },
     "metadata": {},
     "output_type": "display_data"
    }
   ],
   "source": [
    "evTools.show_ec_methods_10_eva_fig(res_metrics_data=res_std[res_std.avgType =='samples'].reset_index(drop=True))"
   ]
  },
  {
   "cell_type": "code",
   "execution_count": 25,
   "id": "84165f27",
   "metadata": {},
   "outputs": [
    {
     "data": {
      "text/html": [
       "<div>\n",
       "<style scoped>\n",
       "    .dataframe tbody tr th:only-of-type {\n",
       "        vertical-align: middle;\n",
       "    }\n",
       "\n",
       "    .dataframe tbody tr th {\n",
       "        vertical-align: top;\n",
       "    }\n",
       "\n",
       "    .dataframe thead th {\n",
       "        text-align: right;\n",
       "    }\n",
       "</style>\n",
       "<table border=\"1\" class=\"dataframe\">\n",
       "  <thead>\n",
       "    <tr style=\"text-align: right;\">\n",
       "      <th></th>\n",
       "      <th>baselineName</th>\n",
       "      <th>avgType</th>\n",
       "      <th>Metric</th>\n",
       "      <th>mean</th>\n",
       "      <th>std</th>\n",
       "    </tr>\n",
       "  </thead>\n",
       "  <tbody>\n",
       "    <tr>\n",
       "      <th>4</th>\n",
       "      <td>blast</td>\n",
       "      <td>micro</td>\n",
       "      <td>mAccuracy</td>\n",
       "      <td>0.828000</td>\n",
       "      <td>0.037357</td>\n",
       "    </tr>\n",
       "    <tr>\n",
       "      <th>5</th>\n",
       "      <td>blast</td>\n",
       "      <td>micro</td>\n",
       "      <td>mF1</td>\n",
       "      <td>0.789212</td>\n",
       "      <td>0.080942</td>\n",
       "    </tr>\n",
       "    <tr>\n",
       "      <th>6</th>\n",
       "      <td>blast</td>\n",
       "      <td>micro</td>\n",
       "      <td>mPrecision</td>\n",
       "      <td>0.677126</td>\n",
       "      <td>0.110561</td>\n",
       "    </tr>\n",
       "    <tr>\n",
       "      <th>7</th>\n",
       "      <td>blast</td>\n",
       "      <td>micro</td>\n",
       "      <td>mRecall</td>\n",
       "      <td>0.958911</td>\n",
       "      <td>0.014166</td>\n",
       "    </tr>\n",
       "    <tr>\n",
       "      <th>4</th>\n",
       "      <td>unirep_euclidean</td>\n",
       "      <td>micro</td>\n",
       "      <td>mAccuracy</td>\n",
       "      <td>0.889701</td>\n",
       "      <td>0.001506</td>\n",
       "    </tr>\n",
       "    <tr>\n",
       "      <th>5</th>\n",
       "      <td>unirep_euclidean</td>\n",
       "      <td>micro</td>\n",
       "      <td>mF1</td>\n",
       "      <td>0.888701</td>\n",
       "      <td>0.002087</td>\n",
       "    </tr>\n",
       "    <tr>\n",
       "      <th>6</th>\n",
       "      <td>unirep_euclidean</td>\n",
       "      <td>micro</td>\n",
       "      <td>mPrecision</td>\n",
       "      <td>0.825950</td>\n",
       "      <td>0.003642</td>\n",
       "    </tr>\n",
       "    <tr>\n",
       "      <th>7</th>\n",
       "      <td>unirep_euclidean</td>\n",
       "      <td>micro</td>\n",
       "      <td>mRecall</td>\n",
       "      <td>0.961781</td>\n",
       "      <td>0.001047</td>\n",
       "    </tr>\n",
       "    <tr>\n",
       "      <th>4</th>\n",
       "      <td>unirep_cosine</td>\n",
       "      <td>micro</td>\n",
       "      <td>mAccuracy</td>\n",
       "      <td>0.890761</td>\n",
       "      <td>0.001590</td>\n",
       "    </tr>\n",
       "    <tr>\n",
       "      <th>5</th>\n",
       "      <td>unirep_cosine</td>\n",
       "      <td>micro</td>\n",
       "      <td>mF1</td>\n",
       "      <td>0.889820</td>\n",
       "      <td>0.002254</td>\n",
       "    </tr>\n",
       "    <tr>\n",
       "      <th>6</th>\n",
       "      <td>unirep_cosine</td>\n",
       "      <td>micro</td>\n",
       "      <td>mPrecision</td>\n",
       "      <td>0.827592</td>\n",
       "      <td>0.003860</td>\n",
       "    </tr>\n",
       "    <tr>\n",
       "      <th>7</th>\n",
       "      <td>unirep_cosine</td>\n",
       "      <td>micro</td>\n",
       "      <td>mRecall</td>\n",
       "      <td>0.962178</td>\n",
       "      <td>0.001040</td>\n",
       "    </tr>\n",
       "    <tr>\n",
       "      <th>4</th>\n",
       "      <td>esm_euclidean</td>\n",
       "      <td>micro</td>\n",
       "      <td>mAccuracy</td>\n",
       "      <td>0.935121</td>\n",
       "      <td>0.001567</td>\n",
       "    </tr>\n",
       "    <tr>\n",
       "      <th>5</th>\n",
       "      <td>esm_euclidean</td>\n",
       "      <td>micro</td>\n",
       "      <td>mF1</td>\n",
       "      <td>0.932460</td>\n",
       "      <td>0.002193</td>\n",
       "    </tr>\n",
       "    <tr>\n",
       "      <th>6</th>\n",
       "      <td>esm_euclidean</td>\n",
       "      <td>micro</td>\n",
       "      <td>mPrecision</td>\n",
       "      <td>0.889380</td>\n",
       "      <td>0.003587</td>\n",
       "    </tr>\n",
       "    <tr>\n",
       "      <th>7</th>\n",
       "      <td>esm_euclidean</td>\n",
       "      <td>micro</td>\n",
       "      <td>mRecall</td>\n",
       "      <td>0.979933</td>\n",
       "      <td>0.000912</td>\n",
       "    </tr>\n",
       "    <tr>\n",
       "      <th>4</th>\n",
       "      <td>esm_cosine</td>\n",
       "      <td>micro</td>\n",
       "      <td>mAccuracy</td>\n",
       "      <td>0.936950</td>\n",
       "      <td>0.001635</td>\n",
       "    </tr>\n",
       "    <tr>\n",
       "      <th>5</th>\n",
       "      <td>esm_cosine</td>\n",
       "      <td>micro</td>\n",
       "      <td>mF1</td>\n",
       "      <td>0.935216</td>\n",
       "      <td>0.002274</td>\n",
       "    </tr>\n",
       "    <tr>\n",
       "      <th>6</th>\n",
       "      <td>esm_cosine</td>\n",
       "      <td>micro</td>\n",
       "      <td>mPrecision</td>\n",
       "      <td>0.894122</td>\n",
       "      <td>0.003874</td>\n",
       "    </tr>\n",
       "    <tr>\n",
       "      <th>7</th>\n",
       "      <td>esm_cosine</td>\n",
       "      <td>micro</td>\n",
       "      <td>mRecall</td>\n",
       "      <td>0.980278</td>\n",
       "      <td>0.000878</td>\n",
       "    </tr>\n",
       "    <tr>\n",
       "      <th>4</th>\n",
       "      <td>t5_euclidean</td>\n",
       "      <td>micro</td>\n",
       "      <td>mAccuracy</td>\n",
       "      <td>0.954092</td>\n",
       "      <td>0.000976</td>\n",
       "    </tr>\n",
       "    <tr>\n",
       "      <th>5</th>\n",
       "      <td>t5_euclidean</td>\n",
       "      <td>micro</td>\n",
       "      <td>mF1</td>\n",
       "      <td>0.948838</td>\n",
       "      <td>0.001863</td>\n",
       "    </tr>\n",
       "    <tr>\n",
       "      <th>6</th>\n",
       "      <td>t5_euclidean</td>\n",
       "      <td>micro</td>\n",
       "      <td>mPrecision</td>\n",
       "      <td>0.916466</td>\n",
       "      <td>0.003473</td>\n",
       "    </tr>\n",
       "    <tr>\n",
       "      <th>7</th>\n",
       "      <td>t5_euclidean</td>\n",
       "      <td>micro</td>\n",
       "      <td>mRecall</td>\n",
       "      <td>0.983587</td>\n",
       "      <td>0.000479</td>\n",
       "    </tr>\n",
       "    <tr>\n",
       "      <th>4</th>\n",
       "      <td>t5_cosine</td>\n",
       "      <td>micro</td>\n",
       "      <td>mAccuracy</td>\n",
       "      <td>0.954644</td>\n",
       "      <td>0.001037</td>\n",
       "    </tr>\n",
       "    <tr>\n",
       "      <th>5</th>\n",
       "      <td>t5_cosine</td>\n",
       "      <td>micro</td>\n",
       "      <td>mF1</td>\n",
       "      <td>0.949295</td>\n",
       "      <td>0.001970</td>\n",
       "    </tr>\n",
       "    <tr>\n",
       "      <th>6</th>\n",
       "      <td>t5_cosine</td>\n",
       "      <td>micro</td>\n",
       "      <td>mPrecision</td>\n",
       "      <td>0.917300</td>\n",
       "      <td>0.003636</td>\n",
       "    </tr>\n",
       "    <tr>\n",
       "      <th>7</th>\n",
       "      <td>t5_cosine</td>\n",
       "      <td>micro</td>\n",
       "      <td>mRecall</td>\n",
       "      <td>0.983610</td>\n",
       "      <td>0.000481</td>\n",
       "    </tr>\n",
       "    <tr>\n",
       "      <th>4</th>\n",
       "      <td>RXNRECer</td>\n",
       "      <td>micro</td>\n",
       "      <td>mAccuracy</td>\n",
       "      <td>0.987282</td>\n",
       "      <td>0.000576</td>\n",
       "    </tr>\n",
       "    <tr>\n",
       "      <th>5</th>\n",
       "      <td>RXNRECer</td>\n",
       "      <td>micro</td>\n",
       "      <td>mF1</td>\n",
       "      <td>0.984657</td>\n",
       "      <td>0.000957</td>\n",
       "    </tr>\n",
       "    <tr>\n",
       "      <th>6</th>\n",
       "      <td>RXNRECer</td>\n",
       "      <td>micro</td>\n",
       "      <td>mPrecision</td>\n",
       "      <td>0.988962</td>\n",
       "      <td>0.000877</td>\n",
       "    </tr>\n",
       "    <tr>\n",
       "      <th>7</th>\n",
       "      <td>RXNRECer</td>\n",
       "      <td>micro</td>\n",
       "      <td>mRecall</td>\n",
       "      <td>0.980389</td>\n",
       "      <td>0.001319</td>\n",
       "    </tr>\n",
       "  </tbody>\n",
       "</table>\n",
       "</div>"
      ],
      "text/plain": [
       "       baselineName avgType      Metric      mean       std\n",
       "4             blast   micro   mAccuracy  0.828000  0.037357\n",
       "5             blast   micro         mF1  0.789212  0.080942\n",
       "6             blast   micro  mPrecision  0.677126  0.110561\n",
       "7             blast   micro     mRecall  0.958911  0.014166\n",
       "4  unirep_euclidean   micro   mAccuracy  0.889701  0.001506\n",
       "5  unirep_euclidean   micro         mF1  0.888701  0.002087\n",
       "6  unirep_euclidean   micro  mPrecision  0.825950  0.003642\n",
       "7  unirep_euclidean   micro     mRecall  0.961781  0.001047\n",
       "4     unirep_cosine   micro   mAccuracy  0.890761  0.001590\n",
       "5     unirep_cosine   micro         mF1  0.889820  0.002254\n",
       "6     unirep_cosine   micro  mPrecision  0.827592  0.003860\n",
       "7     unirep_cosine   micro     mRecall  0.962178  0.001040\n",
       "4     esm_euclidean   micro   mAccuracy  0.935121  0.001567\n",
       "5     esm_euclidean   micro         mF1  0.932460  0.002193\n",
       "6     esm_euclidean   micro  mPrecision  0.889380  0.003587\n",
       "7     esm_euclidean   micro     mRecall  0.979933  0.000912\n",
       "4        esm_cosine   micro   mAccuracy  0.936950  0.001635\n",
       "5        esm_cosine   micro         mF1  0.935216  0.002274\n",
       "6        esm_cosine   micro  mPrecision  0.894122  0.003874\n",
       "7        esm_cosine   micro     mRecall  0.980278  0.000878\n",
       "4      t5_euclidean   micro   mAccuracy  0.954092  0.000976\n",
       "5      t5_euclidean   micro         mF1  0.948838  0.001863\n",
       "6      t5_euclidean   micro  mPrecision  0.916466  0.003473\n",
       "7      t5_euclidean   micro     mRecall  0.983587  0.000479\n",
       "4         t5_cosine   micro   mAccuracy  0.954644  0.001037\n",
       "5         t5_cosine   micro         mF1  0.949295  0.001970\n",
       "6         t5_cosine   micro  mPrecision  0.917300  0.003636\n",
       "7         t5_cosine   micro     mRecall  0.983610  0.000481\n",
       "4          RXNRECer   micro   mAccuracy  0.987282  0.000576\n",
       "5          RXNRECer   micro         mF1  0.984657  0.000957\n",
       "6          RXNRECer   micro  mPrecision  0.988962  0.000877\n",
       "7          RXNRECer   micro     mRecall  0.980389  0.001319"
      ]
     },
     "execution_count": 25,
     "metadata": {},
     "output_type": "execute_result"
    }
   ],
   "source": [
    "res_std[res_std.avgType =='micro']"
   ]
  }
 ],
 "metadata": {
  "kernelspec": {
   "display_name": "Python 3",
   "language": "python",
   "name": "python3"
  },
  "language_info": {
   "codemirror_mode": {
    "name": "ipython",
    "version": 3
   },
   "file_extension": ".py",
   "mimetype": "text/x-python",
   "name": "python",
   "nbconvert_exporter": "python",
   "pygments_lexer": "ipython3",
   "version": "3.10.14"
  }
 },
 "nbformat": 4,
 "nbformat_minor": 5
}
