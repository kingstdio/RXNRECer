{
 "cells": [
  {
   "cell_type": "markdown",
   "metadata": {},
   "source": [
    "# 绘图-在10折交叉验证中, EC 方法和直接方法的效果对比\n",
    "> 2024-12-14     \n",
    "> Author: zhenkun.shi@tib.cas.cn\n",
    "\n",
    "## 1. 导入必要的包"
   ]
  },
  {
   "cell_type": "code",
   "execution_count": 2,
   "metadata": {},
   "outputs": [
    {
     "name": "stdout",
     "output_type": "stream",
     "text": [
      "INFO: Pandarallel will run on 112 workers.\n",
      "INFO: Pandarallel will use Memory file system to transfer data between the main process and workers.\n"
     ]
    }
   ],
   "source": [
    "import sys,os\n",
    "sys.path.insert(0, os.path.dirname(os.path.realpath('__file__')))\n",
    "sys.path.insert(1,'../')\n",
    "from config import conf as cfg\n",
    "import pandas as pd\n",
    "import json\n",
    "import plotly.graph_objects as go\n",
    "from tools import btools\n",
    "from IPython.display import HTML\n",
    "from pandarallel import pandarallel # 导入pandaralle\n",
    "import evTools\n",
    "\n",
    "\n",
    "pandarallel.initialize(progress_bar=False)\n",
    "%load_ext autoreload\n",
    "%autoreload 2"
   ]
  },
  {
   "cell_type": "markdown",
   "metadata": {},
   "source": [
    "## 2. 读取数据"
   ]
  },
  {
   "cell_type": "code",
   "execution_count": 3,
   "metadata": {},
   "outputs": [
    {
     "data": {
      "text/html": [
       "<div>\n",
       "<style scoped>\n",
       "    .dataframe tbody tr th:only-of-type {\n",
       "        vertical-align: middle;\n",
       "    }\n",
       "\n",
       "    .dataframe tbody tr th {\n",
       "        vertical-align: top;\n",
       "    }\n",
       "\n",
       "    .dataframe thead th {\n",
       "        text-align: right;\n",
       "    }\n",
       "</style>\n",
       "<table border=\"1\" class=\"dataframe\">\n",
       "  <thead>\n",
       "    <tr style=\"text-align: right;\">\n",
       "      <th></th>\n",
       "      <th>baselineName</th>\n",
       "      <th>avgType</th>\n",
       "      <th>Metric</th>\n",
       "      <th>mean</th>\n",
       "      <th>std</th>\n",
       "      <th>methodGroup</th>\n",
       "    </tr>\n",
       "  </thead>\n",
       "  <tbody>\n",
       "    <tr>\n",
       "      <th>0</th>\n",
       "      <td>blast</td>\n",
       "      <td>micro</td>\n",
       "      <td>mAccuracy</td>\n",
       "      <td>0.838000</td>\n",
       "      <td>0.037357</td>\n",
       "      <td>direct</td>\n",
       "    </tr>\n",
       "    <tr>\n",
       "      <th>1</th>\n",
       "      <td>blast</td>\n",
       "      <td>micro</td>\n",
       "      <td>mF1</td>\n",
       "      <td>0.829212</td>\n",
       "      <td>0.080942</td>\n",
       "      <td>direct</td>\n",
       "    </tr>\n",
       "    <tr>\n",
       "      <th>2</th>\n",
       "      <td>blast</td>\n",
       "      <td>micro</td>\n",
       "      <td>mPrecision</td>\n",
       "      <td>0.877126</td>\n",
       "      <td>0.110561</td>\n",
       "      <td>direct</td>\n",
       "    </tr>\n",
       "  </tbody>\n",
       "</table>\n",
       "</div>"
      ],
      "text/plain": [
       "  baselineName avgType      Metric      mean       std methodGroup\n",
       "0        blast   micro   mAccuracy  0.838000  0.037357      direct\n",
       "1        blast   micro         mF1  0.829212  0.080942      direct\n",
       "2        blast   micro  mPrecision  0.877126  0.110561      direct"
      ]
     },
     "execution_count": 3,
     "metadata": {},
     "output_type": "execute_result"
    }
   ],
   "source": [
    "# EC vs Direct comparison\n",
    "# EC methods\n",
    "file_metrics_all_ecmethods = f'{cfg.DIR_PROJECT_ROOT}/results/intermediate/ecmethods/std_10_fold_ecmethods_methods.csv'\n",
    "if not os.path.exists(file_metrics_all_ecmethods):\n",
    "    print(f'File {file_metrics_all_ecmethods} does not exist.')\n",
    "else:\n",
    "    res_std_ec = pd.read_csv(file_metrics_all_ecmethods, sep='\\t')\n",
    "    res_std_ec = res_std_ec[res_std_ec.avgType=='micro'].reset_index(drop=True)\n",
    "    res_std_ec['methodGroup'] = 'ec'\n",
    "\n",
    "\n",
    "# Direct methods\n",
    "file_metrics_all_direct = f'{cfg.DIR_PROJECT_ROOT}/results/intermediate/direct/std_10_fold_direct_methods.csv'\n",
    "if not os.path.exists(file_metrics_all_direct):\n",
    "    print(f'File {file_metrics_all_direct} does not exist.')\n",
    "else:\n",
    "    res_std_direct = pd.read_csv(file_metrics_all_direct, sep='\\t')\n",
    "    res_std_direct = res_std_direct[res_std_direct.avgType=='micro'].reset_index(drop=True)\n",
    "    res_std_direct['methodGroup'] = 'direct'\n",
    "    \n",
    "# Combine the two dataframes\n",
    "res_std_all = pd.concat([res_std_ec.replace('blast', 'blast_via_ec'), res_std_direct.replace('blast', 'blast_via_rxn')], ignore_index=True)\n",
    "\n",
    "res_std_direct.head(3)"
   ]
  },
  {
   "cell_type": "code",
   "execution_count": 21,
   "metadata": {},
   "outputs": [
    {
     "data": {
      "application/vnd.plotly.v1+json": {
       "config": {
        "plotlyServerURL": "https://plot.ly"
       },
       "data": [
        {
         "error_y": {
          "array": [
           0.0296085573216032,
           0.0310320453692623,
           0.0543936867450351,
           0.0353940917095411
          ],
          "type": "data",
          "visible": true
         },
         "marker": {
          "color": "#8ECFC9",
          "line": {
           "color": "black",
           "width": 0.5
          }
         },
         "name": "priam",
         "type": "bar",
         "width": 0.11,
         "x": [
          "mAccuracy",
          "mPrecision",
          "mRecall",
          "mF1"
         ],
         "y": [
          0.081,
          0.1735290873579417,
          0.3795234064185667,
          0.2370738653300023
         ]
        },
        {
         "error_y": {
          "array": [
           0.041217579852399,
           0.0453876319810668,
           0.0392509473193709,
           0.0418388905204952
          ],
          "type": "data",
          "visible": true
         },
         "marker": {
          "color": "#FFBE7A",
          "line": {
           "color": "black",
           "width": 0.5
          }
         },
         "name": "deepec",
         "type": "bar",
         "width": 0.11,
         "x": [
          "mAccuracy",
          "mPrecision",
          "mRecall",
          "mF1"
         ],
         "y": [
          0.291,
          0.3544465806527749,
          0.3120216225881387,
          0.3318231572591062
         ]
        },
        {
         "error_y": {
          "array": [
           0.0470106370941726,
           0.0565835535346598,
           0.0496395766314348,
           0.0524979144802983
          ],
          "type": "data",
          "visible": true
         },
         "marker": {
          "color": "#FA7F6F",
          "line": {
           "color": "black",
           "width": 0.5
          }
         },
         "name": "clean",
         "type": "bar",
         "width": 0.11,
         "x": [
          "mAccuracy",
          "mPrecision",
          "mRecall",
          "mF1"
         ],
         "y": [
          0.319,
          0.3489169110759366,
          0.3537709785252731,
          0.3510785303717592
         ]
        },
        {
         "error_y": {
          "array": [
           0.0270801280154532,
           0.027731301840067,
           0.0418172490660981,
           0.0343878306001482
          ],
          "type": "data",
          "visible": true
         },
         "marker": {
          "color": "#82B0D2",
          "line": {
           "color": "black",
           "width": 0.5
          }
         },
         "name": "catfam",
         "type": "bar",
         "width": 0.11,
         "x": [
          "mAccuracy",
          "mPrecision",
          "mRecall",
          "mF1"
         ],
         "y": [
          0.75,
          0.7922652312158578,
          0.6955944151265401,
          0.7405633466934225
         ]
        },
        {
         "error_y": {
          "array": [
           0.0324722103412202,
           0.0270825659192639,
           0.0308741065135338,
           0.0271465993684992
          ],
          "type": "data",
          "visible": true
         },
         "marker": {
          "color": "#BEB8DC",
          "line": {
           "color": "black",
           "width": 0.5
          }
         },
         "name": "blast",
         "type": "bar",
         "width": 0.11,
         "x": [
          "mAccuracy",
          "mPrecision",
          "mRecall",
          "mF1"
         ],
         "y": [
          0.8210000000000001,
          0.8721631994419216,
          0.7739226266753321,
          0.782795850742848
         ]
        },
        {
         "error_y": {
          "array": [
           0.0271006354989037,
           0.019997984797974,
           0.0375986257488622,
           0.0264634243737566
          ],
          "type": "data",
          "visible": true
         },
         "marker": {
          "color": "#E7DAD2",
          "line": {
           "color": "black",
           "width": 0.5
          }
         },
         "name": "ecrecer",
         "type": "bar",
         "width": 0.11,
         "x": [
          "mAccuracy",
          "mPrecision",
          "mRecall",
          "mF1"
         ],
         "y": [
          0.8329999999999999,
          0.912919191919192,
          0.7841832471815625,
          0.819315727435342
         ]
        }
       ],
       "layout": {
        "bargap": 0.29,
        "barmode": "group",
        "height": 600,
        "legend": {
         "borderwidth": 1,
         "orientation": "h",
         "tracegroupgap": 2,
         "x": 0.5,
         "xanchor": "center",
         "y": 0.99,
         "yanchor": "bottom"
        },
        "template": {
         "data": {
          "bar": [
           {
            "error_x": {
             "color": "#2a3f5f"
            },
            "error_y": {
             "color": "#2a3f5f"
            },
            "marker": {
             "line": {
              "color": "white",
              "width": 0.5
             },
             "pattern": {
              "fillmode": "overlay",
              "size": 10,
              "solidity": 0.2
             }
            },
            "type": "bar"
           }
          ],
          "barpolar": [
           {
            "marker": {
             "line": {
              "color": "white",
              "width": 0.5
             },
             "pattern": {
              "fillmode": "overlay",
              "size": 10,
              "solidity": 0.2
             }
            },
            "type": "barpolar"
           }
          ],
          "carpet": [
           {
            "aaxis": {
             "endlinecolor": "#2a3f5f",
             "gridcolor": "#C8D4E3",
             "linecolor": "#C8D4E3",
             "minorgridcolor": "#C8D4E3",
             "startlinecolor": "#2a3f5f"
            },
            "baxis": {
             "endlinecolor": "#2a3f5f",
             "gridcolor": "#C8D4E3",
             "linecolor": "#C8D4E3",
             "minorgridcolor": "#C8D4E3",
             "startlinecolor": "#2a3f5f"
            },
            "type": "carpet"
           }
          ],
          "choropleth": [
           {
            "colorbar": {
             "outlinewidth": 0,
             "ticks": ""
            },
            "type": "choropleth"
           }
          ],
          "contour": [
           {
            "colorbar": {
             "outlinewidth": 0,
             "ticks": ""
            },
            "colorscale": [
             [
              0,
              "#0d0887"
             ],
             [
              0.1111111111111111,
              "#46039f"
             ],
             [
              0.2222222222222222,
              "#7201a8"
             ],
             [
              0.3333333333333333,
              "#9c179e"
             ],
             [
              0.4444444444444444,
              "#bd3786"
             ],
             [
              0.5555555555555556,
              "#d8576b"
             ],
             [
              0.6666666666666666,
              "#ed7953"
             ],
             [
              0.7777777777777778,
              "#fb9f3a"
             ],
             [
              0.8888888888888888,
              "#fdca26"
             ],
             [
              1,
              "#f0f921"
             ]
            ],
            "type": "contour"
           }
          ],
          "contourcarpet": [
           {
            "colorbar": {
             "outlinewidth": 0,
             "ticks": ""
            },
            "type": "contourcarpet"
           }
          ],
          "heatmap": [
           {
            "colorbar": {
             "outlinewidth": 0,
             "ticks": ""
            },
            "colorscale": [
             [
              0,
              "#0d0887"
             ],
             [
              0.1111111111111111,
              "#46039f"
             ],
             [
              0.2222222222222222,
              "#7201a8"
             ],
             [
              0.3333333333333333,
              "#9c179e"
             ],
             [
              0.4444444444444444,
              "#bd3786"
             ],
             [
              0.5555555555555556,
              "#d8576b"
             ],
             [
              0.6666666666666666,
              "#ed7953"
             ],
             [
              0.7777777777777778,
              "#fb9f3a"
             ],
             [
              0.8888888888888888,
              "#fdca26"
             ],
             [
              1,
              "#f0f921"
             ]
            ],
            "type": "heatmap"
           }
          ],
          "heatmapgl": [
           {
            "colorbar": {
             "outlinewidth": 0,
             "ticks": ""
            },
            "colorscale": [
             [
              0,
              "#0d0887"
             ],
             [
              0.1111111111111111,
              "#46039f"
             ],
             [
              0.2222222222222222,
              "#7201a8"
             ],
             [
              0.3333333333333333,
              "#9c179e"
             ],
             [
              0.4444444444444444,
              "#bd3786"
             ],
             [
              0.5555555555555556,
              "#d8576b"
             ],
             [
              0.6666666666666666,
              "#ed7953"
             ],
             [
              0.7777777777777778,
              "#fb9f3a"
             ],
             [
              0.8888888888888888,
              "#fdca26"
             ],
             [
              1,
              "#f0f921"
             ]
            ],
            "type": "heatmapgl"
           }
          ],
          "histogram": [
           {
            "marker": {
             "pattern": {
              "fillmode": "overlay",
              "size": 10,
              "solidity": 0.2
             }
            },
            "type": "histogram"
           }
          ],
          "histogram2d": [
           {
            "colorbar": {
             "outlinewidth": 0,
             "ticks": ""
            },
            "colorscale": [
             [
              0,
              "#0d0887"
             ],
             [
              0.1111111111111111,
              "#46039f"
             ],
             [
              0.2222222222222222,
              "#7201a8"
             ],
             [
              0.3333333333333333,
              "#9c179e"
             ],
             [
              0.4444444444444444,
              "#bd3786"
             ],
             [
              0.5555555555555556,
              "#d8576b"
             ],
             [
              0.6666666666666666,
              "#ed7953"
             ],
             [
              0.7777777777777778,
              "#fb9f3a"
             ],
             [
              0.8888888888888888,
              "#fdca26"
             ],
             [
              1,
              "#f0f921"
             ]
            ],
            "type": "histogram2d"
           }
          ],
          "histogram2dcontour": [
           {
            "colorbar": {
             "outlinewidth": 0,
             "ticks": ""
            },
            "colorscale": [
             [
              0,
              "#0d0887"
             ],
             [
              0.1111111111111111,
              "#46039f"
             ],
             [
              0.2222222222222222,
              "#7201a8"
             ],
             [
              0.3333333333333333,
              "#9c179e"
             ],
             [
              0.4444444444444444,
              "#bd3786"
             ],
             [
              0.5555555555555556,
              "#d8576b"
             ],
             [
              0.6666666666666666,
              "#ed7953"
             ],
             [
              0.7777777777777778,
              "#fb9f3a"
             ],
             [
              0.8888888888888888,
              "#fdca26"
             ],
             [
              1,
              "#f0f921"
             ]
            ],
            "type": "histogram2dcontour"
           }
          ],
          "mesh3d": [
           {
            "colorbar": {
             "outlinewidth": 0,
             "ticks": ""
            },
            "type": "mesh3d"
           }
          ],
          "parcoords": [
           {
            "line": {
             "colorbar": {
              "outlinewidth": 0,
              "ticks": ""
             }
            },
            "type": "parcoords"
           }
          ],
          "pie": [
           {
            "automargin": true,
            "type": "pie"
           }
          ],
          "scatter": [
           {
            "fillpattern": {
             "fillmode": "overlay",
             "size": 10,
             "solidity": 0.2
            },
            "type": "scatter"
           }
          ],
          "scatter3d": [
           {
            "line": {
             "colorbar": {
              "outlinewidth": 0,
              "ticks": ""
             }
            },
            "marker": {
             "colorbar": {
              "outlinewidth": 0,
              "ticks": ""
             }
            },
            "type": "scatter3d"
           }
          ],
          "scattercarpet": [
           {
            "marker": {
             "colorbar": {
              "outlinewidth": 0,
              "ticks": ""
             }
            },
            "type": "scattercarpet"
           }
          ],
          "scattergeo": [
           {
            "marker": {
             "colorbar": {
              "outlinewidth": 0,
              "ticks": ""
             }
            },
            "type": "scattergeo"
           }
          ],
          "scattergl": [
           {
            "marker": {
             "colorbar": {
              "outlinewidth": 0,
              "ticks": ""
             }
            },
            "type": "scattergl"
           }
          ],
          "scattermapbox": [
           {
            "marker": {
             "colorbar": {
              "outlinewidth": 0,
              "ticks": ""
             }
            },
            "type": "scattermapbox"
           }
          ],
          "scatterpolar": [
           {
            "marker": {
             "colorbar": {
              "outlinewidth": 0,
              "ticks": ""
             }
            },
            "type": "scatterpolar"
           }
          ],
          "scatterpolargl": [
           {
            "marker": {
             "colorbar": {
              "outlinewidth": 0,
              "ticks": ""
             }
            },
            "type": "scatterpolargl"
           }
          ],
          "scatterternary": [
           {
            "marker": {
             "colorbar": {
              "outlinewidth": 0,
              "ticks": ""
             }
            },
            "type": "scatterternary"
           }
          ],
          "surface": [
           {
            "colorbar": {
             "outlinewidth": 0,
             "ticks": ""
            },
            "colorscale": [
             [
              0,
              "#0d0887"
             ],
             [
              0.1111111111111111,
              "#46039f"
             ],
             [
              0.2222222222222222,
              "#7201a8"
             ],
             [
              0.3333333333333333,
              "#9c179e"
             ],
             [
              0.4444444444444444,
              "#bd3786"
             ],
             [
              0.5555555555555556,
              "#d8576b"
             ],
             [
              0.6666666666666666,
              "#ed7953"
             ],
             [
              0.7777777777777778,
              "#fb9f3a"
             ],
             [
              0.8888888888888888,
              "#fdca26"
             ],
             [
              1,
              "#f0f921"
             ]
            ],
            "type": "surface"
           }
          ],
          "table": [
           {
            "cells": {
             "fill": {
              "color": "#EBF0F8"
             },
             "line": {
              "color": "white"
             }
            },
            "header": {
             "fill": {
              "color": "#C8D4E3"
             },
             "line": {
              "color": "white"
             }
            },
            "type": "table"
           }
          ]
         },
         "layout": {
          "annotationdefaults": {
           "arrowcolor": "#2a3f5f",
           "arrowhead": 0,
           "arrowwidth": 1
          },
          "autotypenumbers": "strict",
          "coloraxis": {
           "colorbar": {
            "outlinewidth": 0,
            "ticks": ""
           }
          },
          "colorscale": {
           "diverging": [
            [
             0,
             "#8e0152"
            ],
            [
             0.1,
             "#c51b7d"
            ],
            [
             0.2,
             "#de77ae"
            ],
            [
             0.3,
             "#f1b6da"
            ],
            [
             0.4,
             "#fde0ef"
            ],
            [
             0.5,
             "#f7f7f7"
            ],
            [
             0.6,
             "#e6f5d0"
            ],
            [
             0.7,
             "#b8e186"
            ],
            [
             0.8,
             "#7fbc41"
            ],
            [
             0.9,
             "#4d9221"
            ],
            [
             1,
             "#276419"
            ]
           ],
           "sequential": [
            [
             0,
             "#0d0887"
            ],
            [
             0.1111111111111111,
             "#46039f"
            ],
            [
             0.2222222222222222,
             "#7201a8"
            ],
            [
             0.3333333333333333,
             "#9c179e"
            ],
            [
             0.4444444444444444,
             "#bd3786"
            ],
            [
             0.5555555555555556,
             "#d8576b"
            ],
            [
             0.6666666666666666,
             "#ed7953"
            ],
            [
             0.7777777777777778,
             "#fb9f3a"
            ],
            [
             0.8888888888888888,
             "#fdca26"
            ],
            [
             1,
             "#f0f921"
            ]
           ],
           "sequentialminus": [
            [
             0,
             "#0d0887"
            ],
            [
             0.1111111111111111,
             "#46039f"
            ],
            [
             0.2222222222222222,
             "#7201a8"
            ],
            [
             0.3333333333333333,
             "#9c179e"
            ],
            [
             0.4444444444444444,
             "#bd3786"
            ],
            [
             0.5555555555555556,
             "#d8576b"
            ],
            [
             0.6666666666666666,
             "#ed7953"
            ],
            [
             0.7777777777777778,
             "#fb9f3a"
            ],
            [
             0.8888888888888888,
             "#fdca26"
            ],
            [
             1,
             "#f0f921"
            ]
           ]
          },
          "colorway": [
           "#636efa",
           "#EF553B",
           "#00cc96",
           "#ab63fa",
           "#FFA15A",
           "#19d3f3",
           "#FF6692",
           "#B6E880",
           "#FF97FF",
           "#FECB52"
          ],
          "font": {
           "color": "#2a3f5f"
          },
          "geo": {
           "bgcolor": "white",
           "lakecolor": "white",
           "landcolor": "white",
           "showlakes": true,
           "showland": true,
           "subunitcolor": "#C8D4E3"
          },
          "hoverlabel": {
           "align": "left"
          },
          "hovermode": "closest",
          "mapbox": {
           "style": "light"
          },
          "paper_bgcolor": "white",
          "plot_bgcolor": "white",
          "polar": {
           "angularaxis": {
            "gridcolor": "#EBF0F8",
            "linecolor": "#EBF0F8",
            "ticks": ""
           },
           "bgcolor": "white",
           "radialaxis": {
            "gridcolor": "#EBF0F8",
            "linecolor": "#EBF0F8",
            "ticks": ""
           }
          },
          "scene": {
           "xaxis": {
            "backgroundcolor": "white",
            "gridcolor": "#DFE8F3",
            "gridwidth": 2,
            "linecolor": "#EBF0F8",
            "showbackground": true,
            "ticks": "",
            "zerolinecolor": "#EBF0F8"
           },
           "yaxis": {
            "backgroundcolor": "white",
            "gridcolor": "#DFE8F3",
            "gridwidth": 2,
            "linecolor": "#EBF0F8",
            "showbackground": true,
            "ticks": "",
            "zerolinecolor": "#EBF0F8"
           },
           "zaxis": {
            "backgroundcolor": "white",
            "gridcolor": "#DFE8F3",
            "gridwidth": 2,
            "linecolor": "#EBF0F8",
            "showbackground": true,
            "ticks": "",
            "zerolinecolor": "#EBF0F8"
           }
          },
          "shapedefaults": {
           "line": {
            "color": "#2a3f5f"
           }
          },
          "ternary": {
           "aaxis": {
            "gridcolor": "#DFE8F3",
            "linecolor": "#A2B1C6",
            "ticks": ""
           },
           "baxis": {
            "gridcolor": "#DFE8F3",
            "linecolor": "#A2B1C6",
            "ticks": ""
           },
           "bgcolor": "white",
           "caxis": {
            "gridcolor": "#DFE8F3",
            "linecolor": "#A2B1C6",
            "ticks": ""
           }
          },
          "title": {
           "x": 0.05
          },
          "xaxis": {
           "automargin": true,
           "gridcolor": "#EBF0F8",
           "linecolor": "#EBF0F8",
           "ticks": "",
           "title": {
            "standoff": 15
           },
           "zerolinecolor": "#EBF0F8",
           "zerolinewidth": 2
          },
          "yaxis": {
           "automargin": true,
           "gridcolor": "#EBF0F8",
           "linecolor": "#EBF0F8",
           "ticks": "",
           "title": {
            "standoff": 15
           },
           "zerolinecolor": "#EBF0F8",
           "zerolinewidth": 2
          }
         }
        },
        "title": {
         "font": {
          "size": 20,
          "weight": 1000
         },
         "text": "Performance Comparison of EC-based Reaction Prediction Methods",
         "x": 0.5,
         "xanchor": "center",
         "y": 0.05
        },
        "width": 1600,
        "xaxis": {
         "linecolor": "#000000",
         "linewidth": 1,
         "showline": true
        },
        "yaxis": {
         "dtick": 0.1,
         "gridcolor": "gray",
         "gridwidth": 1,
         "linecolor": "black",
         "linewidth": 1,
         "minor": {
          "dtick": 0.05,
          "gridcolor": "gray",
          "griddash": "dash",
          "gridwidth": 0.5,
          "showgrid": true
         },
         "range": [
          0,
          1.2
         ],
         "showgrid": true,
         "showline": true,
         "title": {
          "text": "Mean Value"
         }
        }
       }
      },
      "text/html": [
       "<div>                            <div id=\"18985094-35a0-4f67-9c56-9fd2b4e966f9\" class=\"plotly-graph-div\" style=\"height:600px; width:1600px;\"></div>            <script type=\"text/javascript\">                require([\"plotly\"], function(Plotly) {                    window.PLOTLYENV=window.PLOTLYENV || {};                                    if (document.getElementById(\"18985094-35a0-4f67-9c56-9fd2b4e966f9\")) {                    Plotly.newPlot(                        \"18985094-35a0-4f67-9c56-9fd2b4e966f9\",                        [{\"error_y\":{\"array\":[0.0296085573216032,0.0310320453692623,0.0543936867450351,0.0353940917095411],\"type\":\"data\",\"visible\":true},\"marker\":{\"color\":\"#8ECFC9\",\"line\":{\"color\":\"black\",\"width\":0.5}},\"name\":\"priam\",\"width\":0.11,\"x\":[\"mAccuracy\",\"mPrecision\",\"mRecall\",\"mF1\"],\"y\":[0.081,0.1735290873579417,0.3795234064185667,0.2370738653300023],\"type\":\"bar\"},{\"error_y\":{\"array\":[0.041217579852399,0.0453876319810668,0.0392509473193709,0.0418388905204952],\"type\":\"data\",\"visible\":true},\"marker\":{\"color\":\"#FFBE7A\",\"line\":{\"color\":\"black\",\"width\":0.5}},\"name\":\"deepec\",\"width\":0.11,\"x\":[\"mAccuracy\",\"mPrecision\",\"mRecall\",\"mF1\"],\"y\":[0.291,0.3544465806527749,0.3120216225881387,0.3318231572591062],\"type\":\"bar\"},{\"error_y\":{\"array\":[0.0470106370941726,0.0565835535346598,0.0496395766314348,0.0524979144802983],\"type\":\"data\",\"visible\":true},\"marker\":{\"color\":\"#FA7F6F\",\"line\":{\"color\":\"black\",\"width\":0.5}},\"name\":\"clean\",\"width\":0.11,\"x\":[\"mAccuracy\",\"mPrecision\",\"mRecall\",\"mF1\"],\"y\":[0.319,0.3489169110759366,0.3537709785252731,0.3510785303717592],\"type\":\"bar\"},{\"error_y\":{\"array\":[0.0270801280154532,0.027731301840067,0.0418172490660981,0.0343878306001482],\"type\":\"data\",\"visible\":true},\"marker\":{\"color\":\"#82B0D2\",\"line\":{\"color\":\"black\",\"width\":0.5}},\"name\":\"catfam\",\"width\":0.11,\"x\":[\"mAccuracy\",\"mPrecision\",\"mRecall\",\"mF1\"],\"y\":[0.75,0.7922652312158578,0.6955944151265401,0.7405633466934225],\"type\":\"bar\"},{\"error_y\":{\"array\":[0.0324722103412202,0.0270825659192639,0.0308741065135338,0.0271465993684992],\"type\":\"data\",\"visible\":true},\"marker\":{\"color\":\"#BEB8DC\",\"line\":{\"color\":\"black\",\"width\":0.5}},\"name\":\"blast\",\"width\":0.11,\"x\":[\"mAccuracy\",\"mPrecision\",\"mRecall\",\"mF1\"],\"y\":[0.8210000000000001,0.8721631994419216,0.7739226266753321,0.782795850742848],\"type\":\"bar\"},{\"error_y\":{\"array\":[0.0271006354989037,0.019997984797974,0.0375986257488622,0.0264634243737566],\"type\":\"data\",\"visible\":true},\"marker\":{\"color\":\"#E7DAD2\",\"line\":{\"color\":\"black\",\"width\":0.5}},\"name\":\"ecrecer\",\"width\":0.11,\"x\":[\"mAccuracy\",\"mPrecision\",\"mRecall\",\"mF1\"],\"y\":[0.8329999999999999,0.912919191919192,0.7841832471815625,0.819315727435342],\"type\":\"bar\"}],                        {\"template\":{\"data\":{\"barpolar\":[{\"marker\":{\"line\":{\"color\":\"white\",\"width\":0.5},\"pattern\":{\"fillmode\":\"overlay\",\"size\":10,\"solidity\":0.2}},\"type\":\"barpolar\"}],\"bar\":[{\"error_x\":{\"color\":\"#2a3f5f\"},\"error_y\":{\"color\":\"#2a3f5f\"},\"marker\":{\"line\":{\"color\":\"white\",\"width\":0.5},\"pattern\":{\"fillmode\":\"overlay\",\"size\":10,\"solidity\":0.2}},\"type\":\"bar\"}],\"carpet\":[{\"aaxis\":{\"endlinecolor\":\"#2a3f5f\",\"gridcolor\":\"#C8D4E3\",\"linecolor\":\"#C8D4E3\",\"minorgridcolor\":\"#C8D4E3\",\"startlinecolor\":\"#2a3f5f\"},\"baxis\":{\"endlinecolor\":\"#2a3f5f\",\"gridcolor\":\"#C8D4E3\",\"linecolor\":\"#C8D4E3\",\"minorgridcolor\":\"#C8D4E3\",\"startlinecolor\":\"#2a3f5f\"},\"type\":\"carpet\"}],\"choropleth\":[{\"colorbar\":{\"outlinewidth\":0,\"ticks\":\"\"},\"type\":\"choropleth\"}],\"contourcarpet\":[{\"colorbar\":{\"outlinewidth\":0,\"ticks\":\"\"},\"type\":\"contourcarpet\"}],\"contour\":[{\"colorbar\":{\"outlinewidth\":0,\"ticks\":\"\"},\"colorscale\":[[0.0,\"#0d0887\"],[0.1111111111111111,\"#46039f\"],[0.2222222222222222,\"#7201a8\"],[0.3333333333333333,\"#9c179e\"],[0.4444444444444444,\"#bd3786\"],[0.5555555555555556,\"#d8576b\"],[0.6666666666666666,\"#ed7953\"],[0.7777777777777778,\"#fb9f3a\"],[0.8888888888888888,\"#fdca26\"],[1.0,\"#f0f921\"]],\"type\":\"contour\"}],\"heatmapgl\":[{\"colorbar\":{\"outlinewidth\":0,\"ticks\":\"\"},\"colorscale\":[[0.0,\"#0d0887\"],[0.1111111111111111,\"#46039f\"],[0.2222222222222222,\"#7201a8\"],[0.3333333333333333,\"#9c179e\"],[0.4444444444444444,\"#bd3786\"],[0.5555555555555556,\"#d8576b\"],[0.6666666666666666,\"#ed7953\"],[0.7777777777777778,\"#fb9f3a\"],[0.8888888888888888,\"#fdca26\"],[1.0,\"#f0f921\"]],\"type\":\"heatmapgl\"}],\"heatmap\":[{\"colorbar\":{\"outlinewidth\":0,\"ticks\":\"\"},\"colorscale\":[[0.0,\"#0d0887\"],[0.1111111111111111,\"#46039f\"],[0.2222222222222222,\"#7201a8\"],[0.3333333333333333,\"#9c179e\"],[0.4444444444444444,\"#bd3786\"],[0.5555555555555556,\"#d8576b\"],[0.6666666666666666,\"#ed7953\"],[0.7777777777777778,\"#fb9f3a\"],[0.8888888888888888,\"#fdca26\"],[1.0,\"#f0f921\"]],\"type\":\"heatmap\"}],\"histogram2dcontour\":[{\"colorbar\":{\"outlinewidth\":0,\"ticks\":\"\"},\"colorscale\":[[0.0,\"#0d0887\"],[0.1111111111111111,\"#46039f\"],[0.2222222222222222,\"#7201a8\"],[0.3333333333333333,\"#9c179e\"],[0.4444444444444444,\"#bd3786\"],[0.5555555555555556,\"#d8576b\"],[0.6666666666666666,\"#ed7953\"],[0.7777777777777778,\"#fb9f3a\"],[0.8888888888888888,\"#fdca26\"],[1.0,\"#f0f921\"]],\"type\":\"histogram2dcontour\"}],\"histogram2d\":[{\"colorbar\":{\"outlinewidth\":0,\"ticks\":\"\"},\"colorscale\":[[0.0,\"#0d0887\"],[0.1111111111111111,\"#46039f\"],[0.2222222222222222,\"#7201a8\"],[0.3333333333333333,\"#9c179e\"],[0.4444444444444444,\"#bd3786\"],[0.5555555555555556,\"#d8576b\"],[0.6666666666666666,\"#ed7953\"],[0.7777777777777778,\"#fb9f3a\"],[0.8888888888888888,\"#fdca26\"],[1.0,\"#f0f921\"]],\"type\":\"histogram2d\"}],\"histogram\":[{\"marker\":{\"pattern\":{\"fillmode\":\"overlay\",\"size\":10,\"solidity\":0.2}},\"type\":\"histogram\"}],\"mesh3d\":[{\"colorbar\":{\"outlinewidth\":0,\"ticks\":\"\"},\"type\":\"mesh3d\"}],\"parcoords\":[{\"line\":{\"colorbar\":{\"outlinewidth\":0,\"ticks\":\"\"}},\"type\":\"parcoords\"}],\"pie\":[{\"automargin\":true,\"type\":\"pie\"}],\"scatter3d\":[{\"line\":{\"colorbar\":{\"outlinewidth\":0,\"ticks\":\"\"}},\"marker\":{\"colorbar\":{\"outlinewidth\":0,\"ticks\":\"\"}},\"type\":\"scatter3d\"}],\"scattercarpet\":[{\"marker\":{\"colorbar\":{\"outlinewidth\":0,\"ticks\":\"\"}},\"type\":\"scattercarpet\"}],\"scattergeo\":[{\"marker\":{\"colorbar\":{\"outlinewidth\":0,\"ticks\":\"\"}},\"type\":\"scattergeo\"}],\"scattergl\":[{\"marker\":{\"colorbar\":{\"outlinewidth\":0,\"ticks\":\"\"}},\"type\":\"scattergl\"}],\"scattermapbox\":[{\"marker\":{\"colorbar\":{\"outlinewidth\":0,\"ticks\":\"\"}},\"type\":\"scattermapbox\"}],\"scatterpolargl\":[{\"marker\":{\"colorbar\":{\"outlinewidth\":0,\"ticks\":\"\"}},\"type\":\"scatterpolargl\"}],\"scatterpolar\":[{\"marker\":{\"colorbar\":{\"outlinewidth\":0,\"ticks\":\"\"}},\"type\":\"scatterpolar\"}],\"scatter\":[{\"fillpattern\":{\"fillmode\":\"overlay\",\"size\":10,\"solidity\":0.2},\"type\":\"scatter\"}],\"scatterternary\":[{\"marker\":{\"colorbar\":{\"outlinewidth\":0,\"ticks\":\"\"}},\"type\":\"scatterternary\"}],\"surface\":[{\"colorbar\":{\"outlinewidth\":0,\"ticks\":\"\"},\"colorscale\":[[0.0,\"#0d0887\"],[0.1111111111111111,\"#46039f\"],[0.2222222222222222,\"#7201a8\"],[0.3333333333333333,\"#9c179e\"],[0.4444444444444444,\"#bd3786\"],[0.5555555555555556,\"#d8576b\"],[0.6666666666666666,\"#ed7953\"],[0.7777777777777778,\"#fb9f3a\"],[0.8888888888888888,\"#fdca26\"],[1.0,\"#f0f921\"]],\"type\":\"surface\"}],\"table\":[{\"cells\":{\"fill\":{\"color\":\"#EBF0F8\"},\"line\":{\"color\":\"white\"}},\"header\":{\"fill\":{\"color\":\"#C8D4E3\"},\"line\":{\"color\":\"white\"}},\"type\":\"table\"}]},\"layout\":{\"annotationdefaults\":{\"arrowcolor\":\"#2a3f5f\",\"arrowhead\":0,\"arrowwidth\":1},\"autotypenumbers\":\"strict\",\"coloraxis\":{\"colorbar\":{\"outlinewidth\":0,\"ticks\":\"\"}},\"colorscale\":{\"diverging\":[[0,\"#8e0152\"],[0.1,\"#c51b7d\"],[0.2,\"#de77ae\"],[0.3,\"#f1b6da\"],[0.4,\"#fde0ef\"],[0.5,\"#f7f7f7\"],[0.6,\"#e6f5d0\"],[0.7,\"#b8e186\"],[0.8,\"#7fbc41\"],[0.9,\"#4d9221\"],[1,\"#276419\"]],\"sequential\":[[0.0,\"#0d0887\"],[0.1111111111111111,\"#46039f\"],[0.2222222222222222,\"#7201a8\"],[0.3333333333333333,\"#9c179e\"],[0.4444444444444444,\"#bd3786\"],[0.5555555555555556,\"#d8576b\"],[0.6666666666666666,\"#ed7953\"],[0.7777777777777778,\"#fb9f3a\"],[0.8888888888888888,\"#fdca26\"],[1.0,\"#f0f921\"]],\"sequentialminus\":[[0.0,\"#0d0887\"],[0.1111111111111111,\"#46039f\"],[0.2222222222222222,\"#7201a8\"],[0.3333333333333333,\"#9c179e\"],[0.4444444444444444,\"#bd3786\"],[0.5555555555555556,\"#d8576b\"],[0.6666666666666666,\"#ed7953\"],[0.7777777777777778,\"#fb9f3a\"],[0.8888888888888888,\"#fdca26\"],[1.0,\"#f0f921\"]]},\"colorway\":[\"#636efa\",\"#EF553B\",\"#00cc96\",\"#ab63fa\",\"#FFA15A\",\"#19d3f3\",\"#FF6692\",\"#B6E880\",\"#FF97FF\",\"#FECB52\"],\"font\":{\"color\":\"#2a3f5f\"},\"geo\":{\"bgcolor\":\"white\",\"lakecolor\":\"white\",\"landcolor\":\"white\",\"showlakes\":true,\"showland\":true,\"subunitcolor\":\"#C8D4E3\"},\"hoverlabel\":{\"align\":\"left\"},\"hovermode\":\"closest\",\"mapbox\":{\"style\":\"light\"},\"paper_bgcolor\":\"white\",\"plot_bgcolor\":\"white\",\"polar\":{\"angularaxis\":{\"gridcolor\":\"#EBF0F8\",\"linecolor\":\"#EBF0F8\",\"ticks\":\"\"},\"bgcolor\":\"white\",\"radialaxis\":{\"gridcolor\":\"#EBF0F8\",\"linecolor\":\"#EBF0F8\",\"ticks\":\"\"}},\"scene\":{\"xaxis\":{\"backgroundcolor\":\"white\",\"gridcolor\":\"#DFE8F3\",\"gridwidth\":2,\"linecolor\":\"#EBF0F8\",\"showbackground\":true,\"ticks\":\"\",\"zerolinecolor\":\"#EBF0F8\"},\"yaxis\":{\"backgroundcolor\":\"white\",\"gridcolor\":\"#DFE8F3\",\"gridwidth\":2,\"linecolor\":\"#EBF0F8\",\"showbackground\":true,\"ticks\":\"\",\"zerolinecolor\":\"#EBF0F8\"},\"zaxis\":{\"backgroundcolor\":\"white\",\"gridcolor\":\"#DFE8F3\",\"gridwidth\":2,\"linecolor\":\"#EBF0F8\",\"showbackground\":true,\"ticks\":\"\",\"zerolinecolor\":\"#EBF0F8\"}},\"shapedefaults\":{\"line\":{\"color\":\"#2a3f5f\"}},\"ternary\":{\"aaxis\":{\"gridcolor\":\"#DFE8F3\",\"linecolor\":\"#A2B1C6\",\"ticks\":\"\"},\"baxis\":{\"gridcolor\":\"#DFE8F3\",\"linecolor\":\"#A2B1C6\",\"ticks\":\"\"},\"bgcolor\":\"white\",\"caxis\":{\"gridcolor\":\"#DFE8F3\",\"linecolor\":\"#A2B1C6\",\"ticks\":\"\"}},\"title\":{\"x\":0.05},\"xaxis\":{\"automargin\":true,\"gridcolor\":\"#EBF0F8\",\"linecolor\":\"#EBF0F8\",\"ticks\":\"\",\"title\":{\"standoff\":15},\"zerolinecolor\":\"#EBF0F8\",\"zerolinewidth\":2},\"yaxis\":{\"automargin\":true,\"gridcolor\":\"#EBF0F8\",\"linecolor\":\"#EBF0F8\",\"ticks\":\"\",\"title\":{\"standoff\":15},\"zerolinecolor\":\"#EBF0F8\",\"zerolinewidth\":2}}},\"yaxis\":{\"minor\":{\"showgrid\":true,\"griddash\":\"dash\",\"gridcolor\":\"gray\",\"gridwidth\":0.5,\"dtick\":0.05},\"showline\":true,\"linecolor\":\"black\",\"linewidth\":1,\"showgrid\":true,\"gridcolor\":\"gray\",\"gridwidth\":1,\"dtick\":0.1,\"range\":[0,1.2],\"title\":{\"text\":\"Mean Value\"}},\"xaxis\":{\"showline\":true,\"linecolor\":\"#000000\",\"linewidth\":1},\"title\":{\"font\":{\"size\":20,\"weight\":1000},\"text\":\"Performance Comparison of EC-based Reaction Prediction Methods\",\"x\":0.5,\"y\":0.05,\"xanchor\":\"center\"},\"legend\":{\"orientation\":\"h\",\"yanchor\":\"bottom\",\"y\":0.99,\"xanchor\":\"center\",\"x\":0.5,\"tracegroupgap\":2,\"borderwidth\":1},\"width\":1600,\"height\":600,\"barmode\":\"group\",\"bargap\":0.29},                        {\"responsive\": true}                    ).then(function(){\n",
       "                            \n",
       "var gd = document.getElementById('18985094-35a0-4f67-9c56-9fd2b4e966f9');\n",
       "var x = new MutationObserver(function (mutations, observer) {{\n",
       "        var display = window.getComputedStyle(gd).display;\n",
       "        if (!display || display === 'none') {{\n",
       "            console.log([gd, 'removed!']);\n",
       "            Plotly.purge(gd);\n",
       "            observer.disconnect();\n",
       "        }}\n",
       "}});\n",
       "\n",
       "// Listen for the removal of the full notebook cells\n",
       "var notebookContainer = gd.closest('#notebook-container');\n",
       "if (notebookContainer) {{\n",
       "    x.observe(notebookContainer, {childList: true});\n",
       "}}\n",
       "\n",
       "// Listen for the clearing of the current output cell\n",
       "var outputEl = gd.closest('.output');\n",
       "if (outputEl) {{\n",
       "    x.observe(outputEl, {childList: true});\n",
       "}}\n",
       "\n",
       "                        })                };                });            </script>        </div>"
      ]
     },
     "metadata": {},
     "output_type": "display_data"
    }
   ],
   "source": [
    "evTools.show_ec_methods_10_eva_fig(res_metrics_data=res_std_ec)"
   ]
  },
  {
   "cell_type": "code",
   "execution_count": 22,
   "metadata": {},
   "outputs": [
    {
     "data": {
      "text/html": [
       "<div>\n",
       "<style scoped>\n",
       "    .dataframe tbody tr th:only-of-type {\n",
       "        vertical-align: middle;\n",
       "    }\n",
       "\n",
       "    .dataframe tbody tr th {\n",
       "        vertical-align: top;\n",
       "    }\n",
       "\n",
       "    .dataframe thead th {\n",
       "        text-align: right;\n",
       "    }\n",
       "</style>\n",
       "<table border=\"1\" class=\"dataframe\">\n",
       "  <thead>\n",
       "    <tr style=\"text-align: right;\">\n",
       "      <th></th>\n",
       "      <th>reaction_id</th>\n",
       "      <th>equation_string</th>\n",
       "      <th>equation_string_new</th>\n",
       "      <th>equation</th>\n",
       "      <th>equation_smiles</th>\n",
       "      <th>reversible</th>\n",
       "      <th>natural</th>\n",
       "      <th>ec</th>\n",
       "      <th>organism</th>\n",
       "      <th>protein_refs</th>\n",
       "      <th>...</th>\n",
       "      <th>num_of_enzymes</th>\n",
       "      <th>rxn_atom_mapped_enzymemap</th>\n",
       "      <th>rxn_center</th>\n",
       "      <th>lb_rxn_center_s1</th>\n",
       "      <th>rxn_atom_mapped_enzymemap_single</th>\n",
       "      <th>rxn_atom_mapped_rxnmapper</th>\n",
       "      <th>lb_rxn_center_s1_enzymemap</th>\n",
       "      <th>rxn_pic</th>\n",
       "      <th>rxn_atom_mapped_enzymemap_rdt</th>\n",
       "      <th>num_of_reactions</th>\n",
       "    </tr>\n",
       "  </thead>\n",
       "  <tbody>\n",
       "    <tr>\n",
       "      <th>0</th>\n",
       "      <td>RXN:1</td>\n",
       "      <td>valeraldehyde + NADH = 1-pentanol + NAD+</td>\n",
       "      <td>valeraldehyde + NADH + h+ = 1-pentanol + NAD+</td>\n",
       "      <td>CPD:9339 + CPD:1059 + CPD:53737&gt;&gt;CPD:3673 + CP...</td>\n",
       "      <td>CCCCC=O.NC(=O)C1=CN([C@@H]2O[C@H](COP(=O)(O)OP...</td>\n",
       "      <td>{r}</td>\n",
       "      <td>False</td>\n",
       "      <td>1.1.1.21,1.1.1.1,1.1.1.202</td>\n",
       "      <td>Rhodococcus ruber , Bos taurus, Euonymus japon...</td>\n",
       "      <td>A3MVR8 , Q59477</td>\n",
       "      <td>...</td>\n",
       "      <td>2</td>\n",
       "      <td>[CH3:1][CH2:2][CH2:3][CH2:4][CH:5]=[O:6].[H+]....</td>\n",
       "      <td>[C:5].[O:6].[C:10].[C:11].[N:12].[C:48].[C:49]...</td>\n",
       "      <td>COCCNCCC&gt;&gt;COCCNCCC</td>\n",
       "      <td>[CH3:1][CH2:2][CH2:3][CH2:4][CH:5]=[O:6].[H+]....</td>\n",
       "      <td>[CH3:1][CH2:2][CH2:3][CH2:4][CH:5]=[O:6].[NH2:...</td>\n",
       "      <td>[C:6].[O:8] + [C:1].[C:2].[N:3].[C:4].[C:5].[C...</td>\n",
       "      <td>[['pic/reaction/0f62ab64d2071a23759836fc022252...</td>\n",
       "      <td>[O:1]=[C:2]([OH:3])[C:4](=[O:5])[CH2:6][CH2:7]...</td>\n",
       "      <td>NaN</td>\n",
       "    </tr>\n",
       "    <tr>\n",
       "      <th>1</th>\n",
       "      <td>RXN:2</td>\n",
       "      <td>pyridinecarboxaldehyde + NAD(P)H = pyridylmeth...</td>\n",
       "      <td>NADH + 2-pyridinecarboxaldehyde + h+ = NAD+ + ...</td>\n",
       "      <td>CPD:1059 + CPD:4054 + CPD:53737&gt;&gt;CPD:53738 + C...</td>\n",
       "      <td>NC(=O)C1=CN([C@@H]2O[C@H](COP(=O)(O)OP(=O)(O)O...</td>\n",
       "      <td>{undefined}</td>\n",
       "      <td>False</td>\n",
       "      <td>1.1.1.21</td>\n",
       "      <td>Homo sapiens, Euonymus japonicus</td>\n",
       "      <td></td>\n",
       "      <td>...</td>\n",
       "      <td>0</td>\n",
       "      <td>[H+].[NH2:1][C:2](=[O:3])[C:4]1=[CH:5][N:6]([C...</td>\n",
       "      <td>[C:4].[C:5].[N:6].[C:42].[C:43].[C:44].[O:45]....</td>\n",
       "      <td>CCNCCCOC&gt;&gt;CCNCCCOC</td>\n",
       "      <td>[H+].[NH2:1][C:2](=[O:3])[C:4]1=[CH:5][N:6]([C...</td>\n",
       "      <td>[NH2:1][C:2](=[O:3])[C:4]1=[CH:44][N:8]([C@@H:...</td>\n",
       "      <td>[C:1].[C:7].[N:8].[C:2].[C:3].[C:4] + [O:5].[C...</td>\n",
       "      <td>[['pic/reaction/366beba58e60902bd4e2070e4880ae...</td>\n",
       "      <td>[O:1]=[C:2]([OH:3])[C@@H:4]([NH2:5])[CH2:6][CH...</td>\n",
       "      <td>NaN</td>\n",
       "    </tr>\n",
       "    <tr>\n",
       "      <th>2</th>\n",
       "      <td>RXN:3</td>\n",
       "      <td>S-adenosyl-L-methionine + L-Lys = S-adenosyl-L...</td>\n",
       "      <td>S-adenosyl-L-methionine + l-lysine = N(2)-meth...</td>\n",
       "      <td>CPD:19654 + CPD:2643&gt;&gt;CPD:48378 + CPD:2891 + C...</td>\n",
       "      <td>C[S+](CC[C@H](N)C(=O)O)C[C@H]1O[C@@H](n2cnc3c(...</td>\n",
       "      <td>{undefined}</td>\n",
       "      <td>False</td>\n",
       "      <td>2.1.1.301,2.1.1.127</td>\n",
       "      <td>Pisum sativum , Streptomyces sp.</td>\n",
       "      <td>Q43088</td>\n",
       "      <td>...</td>\n",
       "      <td>1</td>\n",
       "      <td>[CH3:1][S+:2]([CH2:3][CH2:4][C@H:5]([NH2:6])[C...</td>\n",
       "      <td>[C:1].[S:2].[N:34]&gt;&gt;[C:1].[N:34].[S:2]</td>\n",
       "      <td>CSN&gt;&gt;CNS</td>\n",
       "      <td>[CH3:1][S+:2]([CH2:3][CH2:4][C@H:5]([NH2:6])[C...</td>\n",
       "      <td>[CH3:1][S+:26]([CH2:25][C@H:24]1[O:23][C@@H:22...</td>\n",
       "      <td>[C:2].[S:3] + [N:4]&gt;&gt;[C:2].[N:4] + [H:1] + [S:3]</td>\n",
       "      <td>[['pic/reaction/63fb9ff0ebae9695411c0f3c8f177f...</td>\n",
       "      <td>[O:1]=[C:2]([OH:3])[C@@H:4]([NH2:5])[CH2:6][CH...</td>\n",
       "      <td>NaN</td>\n",
       "    </tr>\n",
       "    <tr>\n",
       "      <th>3</th>\n",
       "      <td>RXN:4</td>\n",
       "      <td>S-adenosyl-L-methionine + methyl-L-Lys = S-ade...</td>\n",
       "      <td>N(2)-methyl-L-lysine + S-adenosyl-L-methionine...</td>\n",
       "      <td>CPD:48378 + CPD:19654&gt;&gt;CPD:57088 + CPD:2891 + ...</td>\n",
       "      <td>CN[C@@H](CCCCN)C(=O)O.C[S+](CC[C@H](N)C(=O)O)C...</td>\n",
       "      <td>{undefined}</td>\n",
       "      <td>False</td>\n",
       "      <td>2.1.1.127</td>\n",
       "      <td>Pisum sativum</td>\n",
       "      <td>Q43088</td>\n",
       "      <td>...</td>\n",
       "      <td>1</td>\n",
       "      <td>[CH3:12][S+:13]([CH2:14][CH2:15][C@H:16]([NH2:...</td>\n",
       "      <td>[C:12].[S:13].[N:8]&gt;&gt;[N:8].[C:12].[S:13]</td>\n",
       "      <td>CSN&gt;&gt;NCS</td>\n",
       "      <td>[CH3:12][S+:13]([CH2:14][CH2:15][C@H:16]([NH2:...</td>\n",
       "      <td>[NH2:2][CH2:3][CH2:4][CH2:5][CH2:6][C@H:7]([NH...</td>\n",
       "      <td>[C:2].[S:3] + [N:4]&gt;&gt;[N:4].[C:2] + [H:1] + [S:3]</td>\n",
       "      <td>[['pic/reaction/629a18db4bd177b087e8d3d6624c7e...</td>\n",
       "      <td>[O:1]=[C:2]([OH:3])[C@@H:4]([NH2:5])[CH2:6][CH...</td>\n",
       "      <td>NaN</td>\n",
       "    </tr>\n",
       "    <tr>\n",
       "      <th>4</th>\n",
       "      <td>RXN:5</td>\n",
       "      <td>S-adenosyl-L-methionine + (S)-norlaudanosoline...</td>\n",
       "      <td>S-adenosyl-L-methionine + (S)-norlaudanosoline...</td>\n",
       "      <td>CPD:19654 + CPD:20620&gt;&gt;CPD:21770 + CPD:2891 + ...</td>\n",
       "      <td>C[S+](CC[C@H](N)C(=O)O)C[C@H]1O[C@@H](n2cnc3c(...</td>\n",
       "      <td>{undefined}</td>\n",
       "      <td>True</td>\n",
       "      <td>2.1.1.128</td>\n",
       "      <td>Coptis japonica, Papaver somniferum, Eschschol...</td>\n",
       "      <td></td>\n",
       "      <td>...</td>\n",
       "      <td>0</td>\n",
       "      <td>[CH3:1][S+:2]([CH2:3][CH2:4][C@H:5]([NH2:6])[C...</td>\n",
       "      <td>[C:1].[S:2].[O:41]&gt;&gt;[C:1].[O:41].[S:2]</td>\n",
       "      <td>CSO&gt;&gt;COS</td>\n",
       "      <td>[CH3:1][S+:2]([CH2:3][CH2:4][C@H:5]([NH2:6])[C...</td>\n",
       "      <td>[CH3:1][S+:37]([CH2:36][C@H:35]1[O:34][C@@H:33...</td>\n",
       "      <td>[C:2].[S:3] + [O:4]&gt;&gt;[C:2].[O:4] + [H:1] + [S:3]</td>\n",
       "      <td>[['pic/reaction/63fb9ff0ebae9695411c0f3c8f177f...</td>\n",
       "      <td>[O:1]=[C:2]([OH:3])[C@@H:4]([NH2:5])[CH2:6][CH...</td>\n",
       "      <td>NaN</td>\n",
       "    </tr>\n",
       "    <tr>\n",
       "      <th>...</th>\n",
       "      <td>...</td>\n",
       "      <td>...</td>\n",
       "      <td>...</td>\n",
       "      <td>...</td>\n",
       "      <td>...</td>\n",
       "      <td>...</td>\n",
       "      <td>...</td>\n",
       "      <td>...</td>\n",
       "      <td>...</td>\n",
       "      <td>...</td>\n",
       "      <td>...</td>\n",
       "      <td>...</td>\n",
       "      <td>...</td>\n",
       "      <td>...</td>\n",
       "      <td>...</td>\n",
       "      <td>...</td>\n",
       "      <td>...</td>\n",
       "      <td>...</td>\n",
       "      <td>...</td>\n",
       "      <td>...</td>\n",
       "      <td>...</td>\n",
       "    </tr>\n",
       "    <tr>\n",
       "      <th>30217</th>\n",
       "      <td>RXN:54632</td>\n",
       "      <td>S-adenosyl-L-methionine + 10-hydroxydihydrosan...</td>\n",
       "      <td>10-hydroxydihydrosanguinarine + S-adenosyl-L-m...</td>\n",
       "      <td>CPD:24921 + CPD:19654&gt;&gt;CPD:7427 + CPD:2891 + C...</td>\n",
       "      <td>CN1Cc2c3c(cc(O)c2-c2ccc4cc5c(cc4c21)OCO5)OCO3....</td>\n",
       "      <td>{undefined}</td>\n",
       "      <td>True</td>\n",
       "      <td>2.1.1.119</td>\n",
       "      <td>Eschscholzia californica</td>\n",
       "      <td></td>\n",
       "      <td>...</td>\n",
       "      <td>0</td>\n",
       "      <td>[CH3:1][N:2]1[CH2:3][c:4]2[c:5]3[c:6]([cH:7][c...</td>\n",
       "      <td>[O:9].[C:27].[S:28]&gt;&gt;[O:9].[C:27].[S:28]</td>\n",
       "      <td>OCS&gt;&gt;OCS</td>\n",
       "      <td>[CH3:1][N:2]1[CH2:3][c:4]2[c:5]3[c:6]([cH:7][c...</td>\n",
       "      <td>[OH:2][c:3]1[cH:4][c:5]2[c:6]([c:7]3[c:8]1-[c:...</td>\n",
       "      <td>[O:4] + [C:2].[S:3]&gt;&gt;[O:4].[C:2] + [H:1] + [S:3]</td>\n",
       "      <td>[['pic/reaction/ea01c5a1f7aa439cadce6f303b65bc...</td>\n",
       "      <td>[O:1]=[C:2]([OH:3])[C@@H:4]([NH2:5])[CH2:6][CH...</td>\n",
       "      <td>NaN</td>\n",
       "    </tr>\n",
       "    <tr>\n",
       "      <th>30218</th>\n",
       "      <td>RXN:54633</td>\n",
       "      <td>S-adenosyl-L-methionine + selenomethionine = S...</td>\n",
       "      <td>S-adenosyl-L-methionine + l-selenomethionine =...</td>\n",
       "      <td>CPD:19654 + CPD:3080&gt;&gt;CPD:45902 + CPD:2891</td>\n",
       "      <td>C[S+](CC[C@H](N)C(=O)O)C[C@H]1O[C@@H](n2cnc3c(...</td>\n",
       "      <td>{undefined}</td>\n",
       "      <td>True</td>\n",
       "      <td>2.1.1.12</td>\n",
       "      <td>Arabidopsis sp., Brassica juncea</td>\n",
       "      <td></td>\n",
       "      <td>...</td>\n",
       "      <td>0</td>\n",
       "      <td>[CH3:1][S+:2]([CH2:3][CH2:4][C@H:5]([NH2:6])[C...</td>\n",
       "      <td>[C:1].[S:2].[Se:29]&gt;&gt;[C:1].[Se:29].[S:2]</td>\n",
       "      <td>CSSe&gt;&gt;CSeS</td>\n",
       "      <td>[CH3:1][S+:2]([CH2:3][CH2:4][C@H:5]([NH2:6])[C...</td>\n",
       "      <td>[CH3:3][S+:25]([CH2:24][C@H:23]1[O:22][C@@H:21...</td>\n",
       "      <td>[C:1].[S:2] + [Se:3]&gt;&gt;[C:1].[Se:3] + [S:2]</td>\n",
       "      <td>[['pic/reaction/63fb9ff0ebae9695411c0f3c8f177f...</td>\n",
       "      <td>[O:1]=[C:2]([OH:3])[C@@H:4]([NH2:5])[CH2:6][CH...</td>\n",
       "      <td>NaN</td>\n",
       "    </tr>\n",
       "    <tr>\n",
       "      <th>30219</th>\n",
       "      <td>RXN:54634</td>\n",
       "      <td>D-lyxose + NADPH = arabitol + NADP+</td>\n",
       "      <td>NADPH + d-lyxose + h+ = NADP+ + d-arabinitol</td>\n",
       "      <td>CPD:3390 + CPD:43279 + CPD:53737&gt;&gt;CPD:2126 + C...</td>\n",
       "      <td>NC(=O)C1=CN([C@@H]2O[C@H](COP(=O)(O)OP(=O)(O)O...</td>\n",
       "      <td>{r}</td>\n",
       "      <td>False</td>\n",
       "      <td>1.1.1.21</td>\n",
       "      <td>Homo sapiens, Galdieria sulphuraria</td>\n",
       "      <td></td>\n",
       "      <td>...</td>\n",
       "      <td>0</td>\n",
       "      <td>[H+].[NH2:1][C:2](=[O:3])[C:4]1=[CH:5][N:6]([C...</td>\n",
       "      <td>[C:4].[C:5].[N:6].[C:46].[C:47].[C:48].[O:49]....</td>\n",
       "      <td>CCNCCCOC&gt;&gt;CCNCCCOC</td>\n",
       "      <td>[H+].[NH2:1][C:2](=[O:3])[C:4]1=[CH:5][N:6]([C...</td>\n",
       "      <td>[NH2:1][C:2](=[O:3])[C:4]1=[CH:48][N:8]([C@@H:...</td>\n",
       "      <td>[C:1].[C:6].[N:8].[C:2].[C:3].[C:4] + [O:5].[C...</td>\n",
       "      <td>[['pic/reaction/6e192910205495a949ca96e68f9dc6...</td>\n",
       "      <td>[O:1]=[C:2]([NH2:3])[C:4]1=[CH:5][N:6]([CH:7]=...</td>\n",
       "      <td>NaN</td>\n",
       "    </tr>\n",
       "    <tr>\n",
       "      <th>30220</th>\n",
       "      <td>RXN:54635</td>\n",
       "      <td>S-adenosyl-L-methionine + L-methionine = S-ade...</td>\n",
       "      <td>l-methionine + S-adenosyl-L-methionine = s-met...</td>\n",
       "      <td>CPD:2304 + CPD:19654&gt;&gt;CPD:3207 + CPD:2891</td>\n",
       "      <td>CSCC[C@H](N)C(=O)O.C[S+](CC[C@H](N)C(=O)O)C[C@...</td>\n",
       "      <td>{undefined}</td>\n",
       "      <td>True</td>\n",
       "      <td>2.1.1.12</td>\n",
       "      <td>Triticum aestivum, Arabidopsis thaliana, Brass...</td>\n",
       "      <td></td>\n",
       "      <td>...</td>\n",
       "      <td>0</td>\n",
       "      <td>[CH3:10][S+:11]([CH2:12][CH2:13][C@H:14]([NH2:...</td>\n",
       "      <td>[C:19].[C:20].[C:1]&gt;&gt;[C:1].[C:20].[C:19]</td>\n",
       "      <td>CCC&gt;&gt;CCC</td>\n",
       "      <td>[CH3:10][S+:11]([CH2:12][CH2:13][C@H:14]([NH2:...</td>\n",
       "      <td>[S:2]([CH3:3])[CH2:4][CH2:5][C@H:6]([NH2:7])[C...</td>\n",
       "      <td>[C:2].[C:3] + [C:1]&gt;&gt;[C:1].[C:3] + [C:2]</td>\n",
       "      <td>[['pic/reaction/44b6705bdc7a25536bd25306870137...</td>\n",
       "      <td>[O:1]=[C:2]([OH:3])[C@@H:4]([NH2:5])[CH2:6][CH...</td>\n",
       "      <td>NaN</td>\n",
       "    </tr>\n",
       "    <tr>\n",
       "      <th>30221</th>\n",
       "      <td>RXN:54636</td>\n",
       "      <td>S-adenosyl-L-methionine + 12-hydroxydihydroche...</td>\n",
       "      <td>12-hydroxydihydrochelirubine + S-adenosyl-L-me...</td>\n",
       "      <td>CPD:26650 + CPD:19654&gt;&gt;CPD:27878 + CPD:2891 + ...</td>\n",
       "      <td>COc1cc2c(c3c1-c1cc(O)c4cc5c(cc4c1N(C)C3)OCO5)O...</td>\n",
       "      <td>{undefined}</td>\n",
       "      <td>False</td>\n",
       "      <td>2.1.1.120</td>\n",
       "      <td>Thalictrum bulgaricum</td>\n",
       "      <td></td>\n",
       "      <td>...</td>\n",
       "      <td>0</td>\n",
       "      <td>[CH3:1][O:2][c:3]1[cH:4][c:5]2[c:6]([c:7]3[c:8...</td>\n",
       "      <td>[O:12].[C:29].[S:30]&gt;&gt;[O:12].[C:29].[S:30]</td>\n",
       "      <td>OCS&gt;&gt;OCS</td>\n",
       "      <td>[CH3:1][O:2][c:3]1[cH:4][c:5]2[c:6]([c:7]3[c:8...</td>\n",
       "      <td>[CH3:1][O:2][c:3]1[cH:4][c:5]2[c:6]([c:7]3[c:8...</td>\n",
       "      <td>[O:2] + [C:3].[S:4]&gt;&gt;[O:2].[C:3] + [H:1] + [S:4]</td>\n",
       "      <td>[['pic/reaction/21e8b2b6cf69561e1aff614293a0a3...</td>\n",
       "      <td>[OH:1][c:2]1[cH:3][c:4]2-[c:5]3[c:6]([O:7][CH3...</td>\n",
       "      <td>NaN</td>\n",
       "    </tr>\n",
       "  </tbody>\n",
       "</table>\n",
       "<p>30222 rows × 21 columns</p>\n",
       "</div>"
      ],
      "text/plain": [
       "      reaction_id                                    equation_string  \\\n",
       "0           RXN:1           valeraldehyde + NADH = 1-pentanol + NAD+   \n",
       "1           RXN:2  pyridinecarboxaldehyde + NAD(P)H = pyridylmeth...   \n",
       "2           RXN:3  S-adenosyl-L-methionine + L-Lys = S-adenosyl-L...   \n",
       "3           RXN:4  S-adenosyl-L-methionine + methyl-L-Lys = S-ade...   \n",
       "4           RXN:5  S-adenosyl-L-methionine + (S)-norlaudanosoline...   \n",
       "...           ...                                                ...   \n",
       "30217   RXN:54632  S-adenosyl-L-methionine + 10-hydroxydihydrosan...   \n",
       "30218   RXN:54633  S-adenosyl-L-methionine + selenomethionine = S...   \n",
       "30219   RXN:54634                D-lyxose + NADPH = arabitol + NADP+   \n",
       "30220   RXN:54635  S-adenosyl-L-methionine + L-methionine = S-ade...   \n",
       "30221   RXN:54636  S-adenosyl-L-methionine + 12-hydroxydihydroche...   \n",
       "\n",
       "                                     equation_string_new  \\\n",
       "0          valeraldehyde + NADH + h+ = 1-pentanol + NAD+   \n",
       "1      NADH + 2-pyridinecarboxaldehyde + h+ = NAD+ + ...   \n",
       "2      S-adenosyl-L-methionine + l-lysine = N(2)-meth...   \n",
       "3      N(2)-methyl-L-lysine + S-adenosyl-L-methionine...   \n",
       "4      S-adenosyl-L-methionine + (S)-norlaudanosoline...   \n",
       "...                                                  ...   \n",
       "30217  10-hydroxydihydrosanguinarine + S-adenosyl-L-m...   \n",
       "30218  S-adenosyl-L-methionine + l-selenomethionine =...   \n",
       "30219       NADPH + d-lyxose + h+ = NADP+ + d-arabinitol   \n",
       "30220  l-methionine + S-adenosyl-L-methionine = s-met...   \n",
       "30221  12-hydroxydihydrochelirubine + S-adenosyl-L-me...   \n",
       "\n",
       "                                                equation  \\\n",
       "0      CPD:9339 + CPD:1059 + CPD:53737>>CPD:3673 + CP...   \n",
       "1      CPD:1059 + CPD:4054 + CPD:53737>>CPD:53738 + C...   \n",
       "2      CPD:19654 + CPD:2643>>CPD:48378 + CPD:2891 + C...   \n",
       "3      CPD:48378 + CPD:19654>>CPD:57088 + CPD:2891 + ...   \n",
       "4      CPD:19654 + CPD:20620>>CPD:21770 + CPD:2891 + ...   \n",
       "...                                                  ...   \n",
       "30217  CPD:24921 + CPD:19654>>CPD:7427 + CPD:2891 + C...   \n",
       "30218         CPD:19654 + CPD:3080>>CPD:45902 + CPD:2891   \n",
       "30219  CPD:3390 + CPD:43279 + CPD:53737>>CPD:2126 + C...   \n",
       "30220          CPD:2304 + CPD:19654>>CPD:3207 + CPD:2891   \n",
       "30221  CPD:26650 + CPD:19654>>CPD:27878 + CPD:2891 + ...   \n",
       "\n",
       "                                         equation_smiles   reversible  \\\n",
       "0      CCCCC=O.NC(=O)C1=CN([C@@H]2O[C@H](COP(=O)(O)OP...          {r}   \n",
       "1      NC(=O)C1=CN([C@@H]2O[C@H](COP(=O)(O)OP(=O)(O)O...  {undefined}   \n",
       "2      C[S+](CC[C@H](N)C(=O)O)C[C@H]1O[C@@H](n2cnc3c(...  {undefined}   \n",
       "3      CN[C@@H](CCCCN)C(=O)O.C[S+](CC[C@H](N)C(=O)O)C...  {undefined}   \n",
       "4      C[S+](CC[C@H](N)C(=O)O)C[C@H]1O[C@@H](n2cnc3c(...  {undefined}   \n",
       "...                                                  ...          ...   \n",
       "30217  CN1Cc2c3c(cc(O)c2-c2ccc4cc5c(cc4c21)OCO5)OCO3....  {undefined}   \n",
       "30218  C[S+](CC[C@H](N)C(=O)O)C[C@H]1O[C@@H](n2cnc3c(...  {undefined}   \n",
       "30219  NC(=O)C1=CN([C@@H]2O[C@H](COP(=O)(O)OP(=O)(O)O...          {r}   \n",
       "30220  CSCC[C@H](N)C(=O)O.C[S+](CC[C@H](N)C(=O)O)C[C@...  {undefined}   \n",
       "30221  COc1cc2c(c3c1-c1cc(O)c4cc5c(cc4c1N(C)C3)OCO5)O...  {undefined}   \n",
       "\n",
       "       natural                          ec  \\\n",
       "0        False  1.1.1.21,1.1.1.1,1.1.1.202   \n",
       "1        False                    1.1.1.21   \n",
       "2        False         2.1.1.301,2.1.1.127   \n",
       "3        False                   2.1.1.127   \n",
       "4         True                   2.1.1.128   \n",
       "...        ...                         ...   \n",
       "30217     True                   2.1.1.119   \n",
       "30218     True                    2.1.1.12   \n",
       "30219    False                    1.1.1.21   \n",
       "30220     True                    2.1.1.12   \n",
       "30221    False                   2.1.1.120   \n",
       "\n",
       "                                                organism     protein_refs  \\\n",
       "0      Rhodococcus ruber , Bos taurus, Euonymus japon...  A3MVR8 , Q59477   \n",
       "1                       Homo sapiens, Euonymus japonicus                    \n",
       "2                       Pisum sativum , Streptomyces sp.           Q43088   \n",
       "3                                          Pisum sativum           Q43088   \n",
       "4      Coptis japonica, Papaver somniferum, Eschschol...                    \n",
       "...                                                  ...              ...   \n",
       "30217                           Eschscholzia californica                    \n",
       "30218                   Arabidopsis sp., Brassica juncea                    \n",
       "30219                Homo sapiens, Galdieria sulphuraria                    \n",
       "30220  Triticum aestivum, Arabidopsis thaliana, Brass...                    \n",
       "30221                              Thalictrum bulgaricum                    \n",
       "\n",
       "       ... num_of_enzymes                          rxn_atom_mapped_enzymemap  \\\n",
       "0      ...              2  [CH3:1][CH2:2][CH2:3][CH2:4][CH:5]=[O:6].[H+]....   \n",
       "1      ...              0  [H+].[NH2:1][C:2](=[O:3])[C:4]1=[CH:5][N:6]([C...   \n",
       "2      ...              1  [CH3:1][S+:2]([CH2:3][CH2:4][C@H:5]([NH2:6])[C...   \n",
       "3      ...              1  [CH3:12][S+:13]([CH2:14][CH2:15][C@H:16]([NH2:...   \n",
       "4      ...              0  [CH3:1][S+:2]([CH2:3][CH2:4][C@H:5]([NH2:6])[C...   \n",
       "...    ...            ...                                                ...   \n",
       "30217  ...              0  [CH3:1][N:2]1[CH2:3][c:4]2[c:5]3[c:6]([cH:7][c...   \n",
       "30218  ...              0  [CH3:1][S+:2]([CH2:3][CH2:4][C@H:5]([NH2:6])[C...   \n",
       "30219  ...              0  [H+].[NH2:1][C:2](=[O:3])[C:4]1=[CH:5][N:6]([C...   \n",
       "30220  ...              0  [CH3:10][S+:11]([CH2:12][CH2:13][C@H:14]([NH2:...   \n",
       "30221  ...              0  [CH3:1][O:2][c:3]1[cH:4][c:5]2[c:6]([c:7]3[c:8...   \n",
       "\n",
       "                                              rxn_center    lb_rxn_center_s1  \\\n",
       "0      [C:5].[O:6].[C:10].[C:11].[N:12].[C:48].[C:49]...  COCCNCCC>>COCCNCCC   \n",
       "1      [C:4].[C:5].[N:6].[C:42].[C:43].[C:44].[O:45]....  CCNCCCOC>>CCNCCCOC   \n",
       "2                 [C:1].[S:2].[N:34]>>[C:1].[N:34].[S:2]            CSN>>CNS   \n",
       "3               [C:12].[S:13].[N:8]>>[N:8].[C:12].[S:13]            CSN>>NCS   \n",
       "4                 [C:1].[S:2].[O:41]>>[C:1].[O:41].[S:2]            CSO>>COS   \n",
       "...                                                  ...                 ...   \n",
       "30217           [O:9].[C:27].[S:28]>>[O:9].[C:27].[S:28]            OCS>>OCS   \n",
       "30218           [C:1].[S:2].[Se:29]>>[C:1].[Se:29].[S:2]          CSSe>>CSeS   \n",
       "30219  [C:4].[C:5].[N:6].[C:46].[C:47].[C:48].[O:49]....  CCNCCCOC>>CCNCCCOC   \n",
       "30220           [C:19].[C:20].[C:1]>>[C:1].[C:20].[C:19]            CCC>>CCC   \n",
       "30221         [O:12].[C:29].[S:30]>>[O:12].[C:29].[S:30]            OCS>>OCS   \n",
       "\n",
       "                        rxn_atom_mapped_enzymemap_single  \\\n",
       "0      [CH3:1][CH2:2][CH2:3][CH2:4][CH:5]=[O:6].[H+]....   \n",
       "1      [H+].[NH2:1][C:2](=[O:3])[C:4]1=[CH:5][N:6]([C...   \n",
       "2      [CH3:1][S+:2]([CH2:3][CH2:4][C@H:5]([NH2:6])[C...   \n",
       "3      [CH3:12][S+:13]([CH2:14][CH2:15][C@H:16]([NH2:...   \n",
       "4      [CH3:1][S+:2]([CH2:3][CH2:4][C@H:5]([NH2:6])[C...   \n",
       "...                                                  ...   \n",
       "30217  [CH3:1][N:2]1[CH2:3][c:4]2[c:5]3[c:6]([cH:7][c...   \n",
       "30218  [CH3:1][S+:2]([CH2:3][CH2:4][C@H:5]([NH2:6])[C...   \n",
       "30219  [H+].[NH2:1][C:2](=[O:3])[C:4]1=[CH:5][N:6]([C...   \n",
       "30220  [CH3:10][S+:11]([CH2:12][CH2:13][C@H:14]([NH2:...   \n",
       "30221  [CH3:1][O:2][c:3]1[cH:4][c:5]2[c:6]([c:7]3[c:8...   \n",
       "\n",
       "                               rxn_atom_mapped_rxnmapper  \\\n",
       "0      [CH3:1][CH2:2][CH2:3][CH2:4][CH:5]=[O:6].[NH2:...   \n",
       "1      [NH2:1][C:2](=[O:3])[C:4]1=[CH:44][N:8]([C@@H:...   \n",
       "2      [CH3:1][S+:26]([CH2:25][C@H:24]1[O:23][C@@H:22...   \n",
       "3      [NH2:2][CH2:3][CH2:4][CH2:5][CH2:6][C@H:7]([NH...   \n",
       "4      [CH3:1][S+:37]([CH2:36][C@H:35]1[O:34][C@@H:33...   \n",
       "...                                                  ...   \n",
       "30217  [OH:2][c:3]1[cH:4][c:5]2[c:6]([c:7]3[c:8]1-[c:...   \n",
       "30218  [CH3:3][S+:25]([CH2:24][C@H:23]1[O:22][C@@H:21...   \n",
       "30219  [NH2:1][C:2](=[O:3])[C:4]1=[CH:48][N:8]([C@@H:...   \n",
       "30220  [S:2]([CH3:3])[CH2:4][CH2:5][C@H:6]([NH2:7])[C...   \n",
       "30221  [CH3:1][O:2][c:3]1[cH:4][c:5]2[c:6]([c:7]3[c:8...   \n",
       "\n",
       "                              lb_rxn_center_s1_enzymemap  \\\n",
       "0      [C:6].[O:8] + [C:1].[C:2].[N:3].[C:4].[C:5].[C...   \n",
       "1      [C:1].[C:7].[N:8].[C:2].[C:3].[C:4] + [O:5].[C...   \n",
       "2       [C:2].[S:3] + [N:4]>>[C:2].[N:4] + [H:1] + [S:3]   \n",
       "3       [C:2].[S:3] + [N:4]>>[N:4].[C:2] + [H:1] + [S:3]   \n",
       "4       [C:2].[S:3] + [O:4]>>[C:2].[O:4] + [H:1] + [S:3]   \n",
       "...                                                  ...   \n",
       "30217   [O:4] + [C:2].[S:3]>>[O:4].[C:2] + [H:1] + [S:3]   \n",
       "30218         [C:1].[S:2] + [Se:3]>>[C:1].[Se:3] + [S:2]   \n",
       "30219  [C:1].[C:6].[N:8].[C:2].[C:3].[C:4] + [O:5].[C...   \n",
       "30220           [C:2].[C:3] + [C:1]>>[C:1].[C:3] + [C:2]   \n",
       "30221   [O:2] + [C:3].[S:4]>>[O:2].[C:3] + [H:1] + [S:4]   \n",
       "\n",
       "                                                 rxn_pic  \\\n",
       "0      [['pic/reaction/0f62ab64d2071a23759836fc022252...   \n",
       "1      [['pic/reaction/366beba58e60902bd4e2070e4880ae...   \n",
       "2      [['pic/reaction/63fb9ff0ebae9695411c0f3c8f177f...   \n",
       "3      [['pic/reaction/629a18db4bd177b087e8d3d6624c7e...   \n",
       "4      [['pic/reaction/63fb9ff0ebae9695411c0f3c8f177f...   \n",
       "...                                                  ...   \n",
       "30217  [['pic/reaction/ea01c5a1f7aa439cadce6f303b65bc...   \n",
       "30218  [['pic/reaction/63fb9ff0ebae9695411c0f3c8f177f...   \n",
       "30219  [['pic/reaction/6e192910205495a949ca96e68f9dc6...   \n",
       "30220  [['pic/reaction/44b6705bdc7a25536bd25306870137...   \n",
       "30221  [['pic/reaction/21e8b2b6cf69561e1aff614293a0a3...   \n",
       "\n",
       "                           rxn_atom_mapped_enzymemap_rdt num_of_reactions  \n",
       "0      [O:1]=[C:2]([OH:3])[C:4](=[O:5])[CH2:6][CH2:7]...              NaN  \n",
       "1      [O:1]=[C:2]([OH:3])[C@@H:4]([NH2:5])[CH2:6][CH...              NaN  \n",
       "2      [O:1]=[C:2]([OH:3])[C@@H:4]([NH2:5])[CH2:6][CH...              NaN  \n",
       "3      [O:1]=[C:2]([OH:3])[C@@H:4]([NH2:5])[CH2:6][CH...              NaN  \n",
       "4      [O:1]=[C:2]([OH:3])[C@@H:4]([NH2:5])[CH2:6][CH...              NaN  \n",
       "...                                                  ...              ...  \n",
       "30217  [O:1]=[C:2]([OH:3])[C@@H:4]([NH2:5])[CH2:6][CH...              NaN  \n",
       "30218  [O:1]=[C:2]([OH:3])[C@@H:4]([NH2:5])[CH2:6][CH...              NaN  \n",
       "30219  [O:1]=[C:2]([NH2:3])[C:4]1=[CH:5][N:6]([CH:7]=...              NaN  \n",
       "30220  [O:1]=[C:2]([OH:3])[C@@H:4]([NH2:5])[CH2:6][CH...              NaN  \n",
       "30221  [OH:1][c:2]1[cH:3][c:4]2-[c:5]3[c:6]([O:7][CH3...              NaN  \n",
       "\n",
       "[30222 rows x 21 columns]"
      ]
     },
     "execution_count": 22,
     "metadata": {},
     "output_type": "execute_result"
    }
   ],
   "source": [
    "pd.read_feather('http://objectf.tibhpc.net/api/v1/download-shared-object/aHR0cDovLzEyNy4wLjAuMTo5MDAwL2J1Y2tldC1icmVtLXdlYi93ZWJfcmVhY3Rpb25zLmZlYXRoZXI_WC1BbXotQWxnb3JpdGhtPUFXUzQtSE1BQy1TSEEyNTYmWC1BbXotQ3JlZGVudGlhbD1DWEZBRkI2WDYzVjFTVTU2Slk2SSUyRjIwMjQxMjA5JTJGdXMtZWFzdC0xJTJGczMlMkZhd3M0X3JlcXVlc3QmWC1BbXotRGF0ZT0yMDI0MTIwOVQwOTU1NTBaJlgtQW16LUV4cGlyZXM9NDMxOTcmWC1BbXotU2VjdXJpdHktVG9rZW49ZXlKaGJHY2lPaUpJVXpVeE1pSXNJblI1Y0NJNklrcFhWQ0o5LmV5SmhZMk5sYzNOTFpYa2lPaUpEV0VaQlJrSTJXRFl6VmpGVFZUVTJTbGsyU1NJc0ltVjRjQ0k2TVRjek16YzRNVEk0TVN3aWNHRnlaVzUwSWpvaWMyaHBlbWhsYm10MWJpSjkuVUlfNDdtZWJNRS0wWi10ZmZ5cVhEcTVDT1F0SVZTdnF5bjQtNmY1c0NxaFF2QmFyQUVqaVNUNzNaU08tdzhyYWZhaGRMSUJ1TlFBZFN0QnlmX1ltRWcmWC1BbXotU2lnbmVkSGVhZGVycz1ob3N0JnZlcnNpb25JZD1lOWNjOTk2Mi0zNjM0LTQ3OWEtOWZlOS04N2JiNGNlMzJhODkmWC1BbXotU2lnbmF0dXJlPWY2YWQ5MzIwZGIyYTAyZDQ3ZmJlNDBlZDVkNDAzODUxNGFjZmI0ZjZkZGZmYjlmNjRjNWI2Y2M1YTcwYmQzZWQ')"
   ]
  },
  {
   "cell_type": "code",
   "execution_count": 5,
   "metadata": {},
   "outputs": [
    {
     "data": {
      "application/vnd.plotly.v1+json": {
       "config": {
        "plotlyServerURL": "https://plot.ly"
       },
       "data": [
        {
         "error_y": {
          "array": [
           0.0373571352696583,
           0.1105607750487305,
           0.0141664227156439,
           0.0809415019511635
          ],
          "type": "data",
          "visible": true
         },
         "marker": {
          "color": "#8ECFC9",
          "line": {
           "color": "black",
           "width": 0.5
          }
         },
         "name": "blast",
         "type": "bar",
         "width": 0.08,
         "x": [
          "mAccuracy",
          "mPrecision",
          "mRecall",
          "mF1"
         ],
         "y": [
          0.838,
          0.8771260930144676,
          0.9589106861803596,
          0.8292119940209692
         ]
        },
        {
         "error_y": {
          "array": [
           0.0015059028117058,
           0.003642026572756,
           0.0010466550251915,
           0.0020868287566608
          ],
          "type": "data",
          "visible": true
         },
         "marker": {
          "color": "#FFBE7A",
          "line": {
           "color": "black",
           "width": 0.5
          }
         },
         "name": "unirep_euclidean",
         "type": "bar",
         "width": 0.08,
         "x": [
          "mAccuracy",
          "mPrecision",
          "mRecall",
          "mF1"
         ],
         "y": [
          0.8897007353808644,
          0.8259504216243858,
          0.961780669910052,
          0.8887009991595056
         ]
        },
        {
         "error_y": {
          "array": [
           0.0015899041034747,
           0.0038598679263184,
           0.0010402946085095,
           0.0022536074075088
          ],
          "type": "data",
          "visible": true
         },
         "marker": {
          "color": "#FA7F6F",
          "line": {
           "color": "black",
           "width": 0.5
          }
         },
         "name": "unirep_cosine",
         "type": "bar",
         "width": 0.08,
         "x": [
          "mAccuracy",
          "mPrecision",
          "mRecall",
          "mF1"
         ],
         "y": [
          0.8907605489795115,
          0.8275920408015022,
          0.9621782772752884,
          0.8898202050784405
         ]
        },
        {
         "error_y": {
          "array": [
           0.0015672398542976,
           0.003587091048875,
           0.0009122645546096,
           0.0021931698939395
          ],
          "type": "data",
          "visible": true
         },
         "marker": {
          "color": "#82B0D2",
          "line": {
           "color": "black",
           "width": 0.5
          }
         },
         "name": "esm_euclidean",
         "type": "bar",
         "width": 0.08,
         "x": [
          "mAccuracy",
          "mPrecision",
          "mRecall",
          "mF1"
         ],
         "y": [
          0.9351213181800307,
          0.8893795511275698,
          0.979933133542252,
          0.9324601671241248
         ]
        },
        {
         "error_y": {
          "array": [
           0.0016345120478554,
           0.0038735051168292,
           0.000878228592098,
           0.0022737415463503
          ],
          "type": "data",
          "visible": true
         },
         "marker": {
          "color": "#BEB8DC",
          "line": {
           "color": "black",
           "width": 0.5
          }
         },
         "name": "esm_cosine",
         "type": "bar",
         "width": 0.08,
         "x": [
          "mAccuracy",
          "mPrecision",
          "mRecall",
          "mF1"
         ],
         "y": [
          0.9369499390459712,
          0.8941216111822203,
          0.9802782095992288,
          0.9352162063440476
         ]
        },
        {
         "error_y": {
          "array": [
           0.0009761925314479,
           0.0034733354957587,
           0.0004788524334999,
           0.0018632833539866
          ],
          "type": "data",
          "visible": true
         },
         "marker": {
          "color": "#E7DAD2",
          "line": {
           "color": "black",
           "width": 0.5
          }
         },
         "name": "t5_euclidean",
         "type": "bar",
         "width": 0.08,
         "x": [
          "mAccuracy",
          "mPrecision",
          "mRecall",
          "mF1"
         ],
         "y": [
          0.9540917849699164,
          0.9164662254139848,
          0.9835872865999932,
          0.9488380352843104
         ]
        },
        {
         "error_y": {
          "array": [
           0.0010374301635664,
           0.0036360466013392,
           0.0004814764555865,
           0.0019699640057689
          ],
          "type": "data",
          "visible": true
         },
         "marker": {
          "color": "#999999",
          "line": {
           "color": "black",
           "width": 0.5
          }
         },
         "name": "t5_cosine",
         "type": "bar",
         "width": 0.08,
         "x": [
          "mAccuracy",
          "mPrecision",
          "mRecall",
          "mF1"
         ],
         "y": [
          0.9546443037476896,
          0.9173000879688836,
          0.9836095942919254,
          0.9492949267550242
         ]
        },
        {
         "error_y": {
          "array": [
           0.0005755614726839,
           0.0008772480448924,
           0.0013187091343019,
           0.000957082263803
          ],
          "type": "data",
          "visible": true
         },
         "marker": {
          "color": "#A1D3B2",
          "line": {
           "color": "black",
           "width": 0.5
          }
         },
         "name": "RXNRECer",
         "type": "bar",
         "width": 0.08,
         "x": [
          "mAccuracy",
          "mPrecision",
          "mRecall",
          "mF1"
         ],
         "y": [
          0.9872822368162334,
          0.9889624702786836,
          0.9803886980496588,
          0.9846566056820768
         ]
        }
       ],
       "layout": {
        "bargap": 0.29,
        "barmode": "group",
        "height": 600,
        "legend": {
         "borderwidth": 1,
         "orientation": "h",
         "tracegroupgap": 2,
         "x": 0.5,
         "xanchor": "center",
         "y": 0.99,
         "yanchor": "bottom"
        },
        "template": {
         "data": {
          "bar": [
           {
            "error_x": {
             "color": "#2a3f5f"
            },
            "error_y": {
             "color": "#2a3f5f"
            },
            "marker": {
             "line": {
              "color": "white",
              "width": 0.5
             },
             "pattern": {
              "fillmode": "overlay",
              "size": 10,
              "solidity": 0.2
             }
            },
            "type": "bar"
           }
          ],
          "barpolar": [
           {
            "marker": {
             "line": {
              "color": "white",
              "width": 0.5
             },
             "pattern": {
              "fillmode": "overlay",
              "size": 10,
              "solidity": 0.2
             }
            },
            "type": "barpolar"
           }
          ],
          "carpet": [
           {
            "aaxis": {
             "endlinecolor": "#2a3f5f",
             "gridcolor": "#C8D4E3",
             "linecolor": "#C8D4E3",
             "minorgridcolor": "#C8D4E3",
             "startlinecolor": "#2a3f5f"
            },
            "baxis": {
             "endlinecolor": "#2a3f5f",
             "gridcolor": "#C8D4E3",
             "linecolor": "#C8D4E3",
             "minorgridcolor": "#C8D4E3",
             "startlinecolor": "#2a3f5f"
            },
            "type": "carpet"
           }
          ],
          "choropleth": [
           {
            "colorbar": {
             "outlinewidth": 0,
             "ticks": ""
            },
            "type": "choropleth"
           }
          ],
          "contour": [
           {
            "colorbar": {
             "outlinewidth": 0,
             "ticks": ""
            },
            "colorscale": [
             [
              0,
              "#0d0887"
             ],
             [
              0.1111111111111111,
              "#46039f"
             ],
             [
              0.2222222222222222,
              "#7201a8"
             ],
             [
              0.3333333333333333,
              "#9c179e"
             ],
             [
              0.4444444444444444,
              "#bd3786"
             ],
             [
              0.5555555555555556,
              "#d8576b"
             ],
             [
              0.6666666666666666,
              "#ed7953"
             ],
             [
              0.7777777777777778,
              "#fb9f3a"
             ],
             [
              0.8888888888888888,
              "#fdca26"
             ],
             [
              1,
              "#f0f921"
             ]
            ],
            "type": "contour"
           }
          ],
          "contourcarpet": [
           {
            "colorbar": {
             "outlinewidth": 0,
             "ticks": ""
            },
            "type": "contourcarpet"
           }
          ],
          "heatmap": [
           {
            "colorbar": {
             "outlinewidth": 0,
             "ticks": ""
            },
            "colorscale": [
             [
              0,
              "#0d0887"
             ],
             [
              0.1111111111111111,
              "#46039f"
             ],
             [
              0.2222222222222222,
              "#7201a8"
             ],
             [
              0.3333333333333333,
              "#9c179e"
             ],
             [
              0.4444444444444444,
              "#bd3786"
             ],
             [
              0.5555555555555556,
              "#d8576b"
             ],
             [
              0.6666666666666666,
              "#ed7953"
             ],
             [
              0.7777777777777778,
              "#fb9f3a"
             ],
             [
              0.8888888888888888,
              "#fdca26"
             ],
             [
              1,
              "#f0f921"
             ]
            ],
            "type": "heatmap"
           }
          ],
          "heatmapgl": [
           {
            "colorbar": {
             "outlinewidth": 0,
             "ticks": ""
            },
            "colorscale": [
             [
              0,
              "#0d0887"
             ],
             [
              0.1111111111111111,
              "#46039f"
             ],
             [
              0.2222222222222222,
              "#7201a8"
             ],
             [
              0.3333333333333333,
              "#9c179e"
             ],
             [
              0.4444444444444444,
              "#bd3786"
             ],
             [
              0.5555555555555556,
              "#d8576b"
             ],
             [
              0.6666666666666666,
              "#ed7953"
             ],
             [
              0.7777777777777778,
              "#fb9f3a"
             ],
             [
              0.8888888888888888,
              "#fdca26"
             ],
             [
              1,
              "#f0f921"
             ]
            ],
            "type": "heatmapgl"
           }
          ],
          "histogram": [
           {
            "marker": {
             "pattern": {
              "fillmode": "overlay",
              "size": 10,
              "solidity": 0.2
             }
            },
            "type": "histogram"
           }
          ],
          "histogram2d": [
           {
            "colorbar": {
             "outlinewidth": 0,
             "ticks": ""
            },
            "colorscale": [
             [
              0,
              "#0d0887"
             ],
             [
              0.1111111111111111,
              "#46039f"
             ],
             [
              0.2222222222222222,
              "#7201a8"
             ],
             [
              0.3333333333333333,
              "#9c179e"
             ],
             [
              0.4444444444444444,
              "#bd3786"
             ],
             [
              0.5555555555555556,
              "#d8576b"
             ],
             [
              0.6666666666666666,
              "#ed7953"
             ],
             [
              0.7777777777777778,
              "#fb9f3a"
             ],
             [
              0.8888888888888888,
              "#fdca26"
             ],
             [
              1,
              "#f0f921"
             ]
            ],
            "type": "histogram2d"
           }
          ],
          "histogram2dcontour": [
           {
            "colorbar": {
             "outlinewidth": 0,
             "ticks": ""
            },
            "colorscale": [
             [
              0,
              "#0d0887"
             ],
             [
              0.1111111111111111,
              "#46039f"
             ],
             [
              0.2222222222222222,
              "#7201a8"
             ],
             [
              0.3333333333333333,
              "#9c179e"
             ],
             [
              0.4444444444444444,
              "#bd3786"
             ],
             [
              0.5555555555555556,
              "#d8576b"
             ],
             [
              0.6666666666666666,
              "#ed7953"
             ],
             [
              0.7777777777777778,
              "#fb9f3a"
             ],
             [
              0.8888888888888888,
              "#fdca26"
             ],
             [
              1,
              "#f0f921"
             ]
            ],
            "type": "histogram2dcontour"
           }
          ],
          "mesh3d": [
           {
            "colorbar": {
             "outlinewidth": 0,
             "ticks": ""
            },
            "type": "mesh3d"
           }
          ],
          "parcoords": [
           {
            "line": {
             "colorbar": {
              "outlinewidth": 0,
              "ticks": ""
             }
            },
            "type": "parcoords"
           }
          ],
          "pie": [
           {
            "automargin": true,
            "type": "pie"
           }
          ],
          "scatter": [
           {
            "fillpattern": {
             "fillmode": "overlay",
             "size": 10,
             "solidity": 0.2
            },
            "type": "scatter"
           }
          ],
          "scatter3d": [
           {
            "line": {
             "colorbar": {
              "outlinewidth": 0,
              "ticks": ""
             }
            },
            "marker": {
             "colorbar": {
              "outlinewidth": 0,
              "ticks": ""
             }
            },
            "type": "scatter3d"
           }
          ],
          "scattercarpet": [
           {
            "marker": {
             "colorbar": {
              "outlinewidth": 0,
              "ticks": ""
             }
            },
            "type": "scattercarpet"
           }
          ],
          "scattergeo": [
           {
            "marker": {
             "colorbar": {
              "outlinewidth": 0,
              "ticks": ""
             }
            },
            "type": "scattergeo"
           }
          ],
          "scattergl": [
           {
            "marker": {
             "colorbar": {
              "outlinewidth": 0,
              "ticks": ""
             }
            },
            "type": "scattergl"
           }
          ],
          "scattermapbox": [
           {
            "marker": {
             "colorbar": {
              "outlinewidth": 0,
              "ticks": ""
             }
            },
            "type": "scattermapbox"
           }
          ],
          "scatterpolar": [
           {
            "marker": {
             "colorbar": {
              "outlinewidth": 0,
              "ticks": ""
             }
            },
            "type": "scatterpolar"
           }
          ],
          "scatterpolargl": [
           {
            "marker": {
             "colorbar": {
              "outlinewidth": 0,
              "ticks": ""
             }
            },
            "type": "scatterpolargl"
           }
          ],
          "scatterternary": [
           {
            "marker": {
             "colorbar": {
              "outlinewidth": 0,
              "ticks": ""
             }
            },
            "type": "scatterternary"
           }
          ],
          "surface": [
           {
            "colorbar": {
             "outlinewidth": 0,
             "ticks": ""
            },
            "colorscale": [
             [
              0,
              "#0d0887"
             ],
             [
              0.1111111111111111,
              "#46039f"
             ],
             [
              0.2222222222222222,
              "#7201a8"
             ],
             [
              0.3333333333333333,
              "#9c179e"
             ],
             [
              0.4444444444444444,
              "#bd3786"
             ],
             [
              0.5555555555555556,
              "#d8576b"
             ],
             [
              0.6666666666666666,
              "#ed7953"
             ],
             [
              0.7777777777777778,
              "#fb9f3a"
             ],
             [
              0.8888888888888888,
              "#fdca26"
             ],
             [
              1,
              "#f0f921"
             ]
            ],
            "type": "surface"
           }
          ],
          "table": [
           {
            "cells": {
             "fill": {
              "color": "#EBF0F8"
             },
             "line": {
              "color": "white"
             }
            },
            "header": {
             "fill": {
              "color": "#C8D4E3"
             },
             "line": {
              "color": "white"
             }
            },
            "type": "table"
           }
          ]
         },
         "layout": {
          "annotationdefaults": {
           "arrowcolor": "#2a3f5f",
           "arrowhead": 0,
           "arrowwidth": 1
          },
          "autotypenumbers": "strict",
          "coloraxis": {
           "colorbar": {
            "outlinewidth": 0,
            "ticks": ""
           }
          },
          "colorscale": {
           "diverging": [
            [
             0,
             "#8e0152"
            ],
            [
             0.1,
             "#c51b7d"
            ],
            [
             0.2,
             "#de77ae"
            ],
            [
             0.3,
             "#f1b6da"
            ],
            [
             0.4,
             "#fde0ef"
            ],
            [
             0.5,
             "#f7f7f7"
            ],
            [
             0.6,
             "#e6f5d0"
            ],
            [
             0.7,
             "#b8e186"
            ],
            [
             0.8,
             "#7fbc41"
            ],
            [
             0.9,
             "#4d9221"
            ],
            [
             1,
             "#276419"
            ]
           ],
           "sequential": [
            [
             0,
             "#0d0887"
            ],
            [
             0.1111111111111111,
             "#46039f"
            ],
            [
             0.2222222222222222,
             "#7201a8"
            ],
            [
             0.3333333333333333,
             "#9c179e"
            ],
            [
             0.4444444444444444,
             "#bd3786"
            ],
            [
             0.5555555555555556,
             "#d8576b"
            ],
            [
             0.6666666666666666,
             "#ed7953"
            ],
            [
             0.7777777777777778,
             "#fb9f3a"
            ],
            [
             0.8888888888888888,
             "#fdca26"
            ],
            [
             1,
             "#f0f921"
            ]
           ],
           "sequentialminus": [
            [
             0,
             "#0d0887"
            ],
            [
             0.1111111111111111,
             "#46039f"
            ],
            [
             0.2222222222222222,
             "#7201a8"
            ],
            [
             0.3333333333333333,
             "#9c179e"
            ],
            [
             0.4444444444444444,
             "#bd3786"
            ],
            [
             0.5555555555555556,
             "#d8576b"
            ],
            [
             0.6666666666666666,
             "#ed7953"
            ],
            [
             0.7777777777777778,
             "#fb9f3a"
            ],
            [
             0.8888888888888888,
             "#fdca26"
            ],
            [
             1,
             "#f0f921"
            ]
           ]
          },
          "colorway": [
           "#636efa",
           "#EF553B",
           "#00cc96",
           "#ab63fa",
           "#FFA15A",
           "#19d3f3",
           "#FF6692",
           "#B6E880",
           "#FF97FF",
           "#FECB52"
          ],
          "font": {
           "color": "#2a3f5f"
          },
          "geo": {
           "bgcolor": "white",
           "lakecolor": "white",
           "landcolor": "white",
           "showlakes": true,
           "showland": true,
           "subunitcolor": "#C8D4E3"
          },
          "hoverlabel": {
           "align": "left"
          },
          "hovermode": "closest",
          "mapbox": {
           "style": "light"
          },
          "paper_bgcolor": "white",
          "plot_bgcolor": "white",
          "polar": {
           "angularaxis": {
            "gridcolor": "#EBF0F8",
            "linecolor": "#EBF0F8",
            "ticks": ""
           },
           "bgcolor": "white",
           "radialaxis": {
            "gridcolor": "#EBF0F8",
            "linecolor": "#EBF0F8",
            "ticks": ""
           }
          },
          "scene": {
           "xaxis": {
            "backgroundcolor": "white",
            "gridcolor": "#DFE8F3",
            "gridwidth": 2,
            "linecolor": "#EBF0F8",
            "showbackground": true,
            "ticks": "",
            "zerolinecolor": "#EBF0F8"
           },
           "yaxis": {
            "backgroundcolor": "white",
            "gridcolor": "#DFE8F3",
            "gridwidth": 2,
            "linecolor": "#EBF0F8",
            "showbackground": true,
            "ticks": "",
            "zerolinecolor": "#EBF0F8"
           },
           "zaxis": {
            "backgroundcolor": "white",
            "gridcolor": "#DFE8F3",
            "gridwidth": 2,
            "linecolor": "#EBF0F8",
            "showbackground": true,
            "ticks": "",
            "zerolinecolor": "#EBF0F8"
           }
          },
          "shapedefaults": {
           "line": {
            "color": "#2a3f5f"
           }
          },
          "ternary": {
           "aaxis": {
            "gridcolor": "#DFE8F3",
            "linecolor": "#A2B1C6",
            "ticks": ""
           },
           "baxis": {
            "gridcolor": "#DFE8F3",
            "linecolor": "#A2B1C6",
            "ticks": ""
           },
           "bgcolor": "white",
           "caxis": {
            "gridcolor": "#DFE8F3",
            "linecolor": "#A2B1C6",
            "ticks": ""
           }
          },
          "title": {
           "x": 0.05
          },
          "xaxis": {
           "automargin": true,
           "gridcolor": "#EBF0F8",
           "linecolor": "#EBF0F8",
           "ticks": "",
           "title": {
            "standoff": 15
           },
           "zerolinecolor": "#EBF0F8",
           "zerolinewidth": 2
          },
          "yaxis": {
           "automargin": true,
           "gridcolor": "#EBF0F8",
           "linecolor": "#EBF0F8",
           "ticks": "",
           "title": {
            "standoff": 15
           },
           "zerolinecolor": "#EBF0F8",
           "zerolinewidth": 2
          }
         }
        },
        "title": {
         "font": {
          "size": 20,
          "weight": 1000
         },
         "text": "Performance Comparison of Direct Reaction Prediction Methods",
         "x": 0.5,
         "xanchor": "center",
         "y": 0.05
        },
        "width": 1600,
        "xaxis": {
         "linecolor": "#000000",
         "linewidth": 1,
         "showline": true
        },
        "yaxis": {
         "dtick": 0.1,
         "gridcolor": "gray",
         "gridwidth": 1,
         "linecolor": "black",
         "linewidth": 1,
         "minor": {
          "dtick": 0.05,
          "gridcolor": "gray",
          "griddash": "dash",
          "gridwidth": 0.5,
          "showgrid": true
         },
         "range": [
          0,
          1.2
         ],
         "showgrid": true,
         "showline": true,
         "title": {
          "text": "Mean Value"
         }
        }
       }
      },
      "text/html": [
       "<div>                            <div id=\"6c82ac4e-9b7e-440d-b827-f6a3ac2f3b4f\" class=\"plotly-graph-div\" style=\"height:600px; width:1600px;\"></div>            <script type=\"text/javascript\">                require([\"plotly\"], function(Plotly) {                    window.PLOTLYENV=window.PLOTLYENV || {};                                    if (document.getElementById(\"6c82ac4e-9b7e-440d-b827-f6a3ac2f3b4f\")) {                    Plotly.newPlot(                        \"6c82ac4e-9b7e-440d-b827-f6a3ac2f3b4f\",                        [{\"error_y\":{\"array\":[0.0373571352696583,0.1105607750487305,0.0141664227156439,0.0809415019511635],\"type\":\"data\",\"visible\":true},\"marker\":{\"color\":\"#8ECFC9\",\"line\":{\"color\":\"black\",\"width\":0.5}},\"name\":\"blast\",\"width\":0.08,\"x\":[\"mAccuracy\",\"mPrecision\",\"mRecall\",\"mF1\"],\"y\":[0.838,0.8771260930144676,0.9589106861803596,0.8292119940209692],\"type\":\"bar\"},{\"error_y\":{\"array\":[0.0015059028117058,0.003642026572756,0.0010466550251915,0.0020868287566608],\"type\":\"data\",\"visible\":true},\"marker\":{\"color\":\"#FFBE7A\",\"line\":{\"color\":\"black\",\"width\":0.5}},\"name\":\"unirep_euclidean\",\"width\":0.08,\"x\":[\"mAccuracy\",\"mPrecision\",\"mRecall\",\"mF1\"],\"y\":[0.8897007353808644,0.8259504216243858,0.961780669910052,0.8887009991595056],\"type\":\"bar\"},{\"error_y\":{\"array\":[0.0015899041034747,0.0038598679263184,0.0010402946085095,0.0022536074075088],\"type\":\"data\",\"visible\":true},\"marker\":{\"color\":\"#FA7F6F\",\"line\":{\"color\":\"black\",\"width\":0.5}},\"name\":\"unirep_cosine\",\"width\":0.08,\"x\":[\"mAccuracy\",\"mPrecision\",\"mRecall\",\"mF1\"],\"y\":[0.8907605489795115,0.8275920408015022,0.9621782772752884,0.8898202050784405],\"type\":\"bar\"},{\"error_y\":{\"array\":[0.0015672398542976,0.003587091048875,0.0009122645546096,0.0021931698939395],\"type\":\"data\",\"visible\":true},\"marker\":{\"color\":\"#82B0D2\",\"line\":{\"color\":\"black\",\"width\":0.5}},\"name\":\"esm_euclidean\",\"width\":0.08,\"x\":[\"mAccuracy\",\"mPrecision\",\"mRecall\",\"mF1\"],\"y\":[0.9351213181800307,0.8893795511275698,0.979933133542252,0.9324601671241248],\"type\":\"bar\"},{\"error_y\":{\"array\":[0.0016345120478554,0.0038735051168292,0.000878228592098,0.0022737415463503],\"type\":\"data\",\"visible\":true},\"marker\":{\"color\":\"#BEB8DC\",\"line\":{\"color\":\"black\",\"width\":0.5}},\"name\":\"esm_cosine\",\"width\":0.08,\"x\":[\"mAccuracy\",\"mPrecision\",\"mRecall\",\"mF1\"],\"y\":[0.9369499390459712,0.8941216111822203,0.9802782095992288,0.9352162063440476],\"type\":\"bar\"},{\"error_y\":{\"array\":[0.0009761925314479,0.0034733354957587,0.0004788524334999,0.0018632833539866],\"type\":\"data\",\"visible\":true},\"marker\":{\"color\":\"#E7DAD2\",\"line\":{\"color\":\"black\",\"width\":0.5}},\"name\":\"t5_euclidean\",\"width\":0.08,\"x\":[\"mAccuracy\",\"mPrecision\",\"mRecall\",\"mF1\"],\"y\":[0.9540917849699164,0.9164662254139848,0.9835872865999932,0.9488380352843104],\"type\":\"bar\"},{\"error_y\":{\"array\":[0.0010374301635664,0.0036360466013392,0.0004814764555865,0.0019699640057689],\"type\":\"data\",\"visible\":true},\"marker\":{\"color\":\"#999999\",\"line\":{\"color\":\"black\",\"width\":0.5}},\"name\":\"t5_cosine\",\"width\":0.08,\"x\":[\"mAccuracy\",\"mPrecision\",\"mRecall\",\"mF1\"],\"y\":[0.9546443037476896,0.9173000879688836,0.9836095942919254,0.9492949267550242],\"type\":\"bar\"},{\"error_y\":{\"array\":[0.0005755614726839,0.0008772480448924,0.0013187091343019,0.000957082263803],\"type\":\"data\",\"visible\":true},\"marker\":{\"color\":\"#A1D3B2\",\"line\":{\"color\":\"black\",\"width\":0.5}},\"name\":\"RXNRECer\",\"width\":0.08,\"x\":[\"mAccuracy\",\"mPrecision\",\"mRecall\",\"mF1\"],\"y\":[0.9872822368162334,0.9889624702786836,0.9803886980496588,0.9846566056820768],\"type\":\"bar\"}],                        {\"template\":{\"data\":{\"barpolar\":[{\"marker\":{\"line\":{\"color\":\"white\",\"width\":0.5},\"pattern\":{\"fillmode\":\"overlay\",\"size\":10,\"solidity\":0.2}},\"type\":\"barpolar\"}],\"bar\":[{\"error_x\":{\"color\":\"#2a3f5f\"},\"error_y\":{\"color\":\"#2a3f5f\"},\"marker\":{\"line\":{\"color\":\"white\",\"width\":0.5},\"pattern\":{\"fillmode\":\"overlay\",\"size\":10,\"solidity\":0.2}},\"type\":\"bar\"}],\"carpet\":[{\"aaxis\":{\"endlinecolor\":\"#2a3f5f\",\"gridcolor\":\"#C8D4E3\",\"linecolor\":\"#C8D4E3\",\"minorgridcolor\":\"#C8D4E3\",\"startlinecolor\":\"#2a3f5f\"},\"baxis\":{\"endlinecolor\":\"#2a3f5f\",\"gridcolor\":\"#C8D4E3\",\"linecolor\":\"#C8D4E3\",\"minorgridcolor\":\"#C8D4E3\",\"startlinecolor\":\"#2a3f5f\"},\"type\":\"carpet\"}],\"choropleth\":[{\"colorbar\":{\"outlinewidth\":0,\"ticks\":\"\"},\"type\":\"choropleth\"}],\"contourcarpet\":[{\"colorbar\":{\"outlinewidth\":0,\"ticks\":\"\"},\"type\":\"contourcarpet\"}],\"contour\":[{\"colorbar\":{\"outlinewidth\":0,\"ticks\":\"\"},\"colorscale\":[[0.0,\"#0d0887\"],[0.1111111111111111,\"#46039f\"],[0.2222222222222222,\"#7201a8\"],[0.3333333333333333,\"#9c179e\"],[0.4444444444444444,\"#bd3786\"],[0.5555555555555556,\"#d8576b\"],[0.6666666666666666,\"#ed7953\"],[0.7777777777777778,\"#fb9f3a\"],[0.8888888888888888,\"#fdca26\"],[1.0,\"#f0f921\"]],\"type\":\"contour\"}],\"heatmapgl\":[{\"colorbar\":{\"outlinewidth\":0,\"ticks\":\"\"},\"colorscale\":[[0.0,\"#0d0887\"],[0.1111111111111111,\"#46039f\"],[0.2222222222222222,\"#7201a8\"],[0.3333333333333333,\"#9c179e\"],[0.4444444444444444,\"#bd3786\"],[0.5555555555555556,\"#d8576b\"],[0.6666666666666666,\"#ed7953\"],[0.7777777777777778,\"#fb9f3a\"],[0.8888888888888888,\"#fdca26\"],[1.0,\"#f0f921\"]],\"type\":\"heatmapgl\"}],\"heatmap\":[{\"colorbar\":{\"outlinewidth\":0,\"ticks\":\"\"},\"colorscale\":[[0.0,\"#0d0887\"],[0.1111111111111111,\"#46039f\"],[0.2222222222222222,\"#7201a8\"],[0.3333333333333333,\"#9c179e\"],[0.4444444444444444,\"#bd3786\"],[0.5555555555555556,\"#d8576b\"],[0.6666666666666666,\"#ed7953\"],[0.7777777777777778,\"#fb9f3a\"],[0.8888888888888888,\"#fdca26\"],[1.0,\"#f0f921\"]],\"type\":\"heatmap\"}],\"histogram2dcontour\":[{\"colorbar\":{\"outlinewidth\":0,\"ticks\":\"\"},\"colorscale\":[[0.0,\"#0d0887\"],[0.1111111111111111,\"#46039f\"],[0.2222222222222222,\"#7201a8\"],[0.3333333333333333,\"#9c179e\"],[0.4444444444444444,\"#bd3786\"],[0.5555555555555556,\"#d8576b\"],[0.6666666666666666,\"#ed7953\"],[0.7777777777777778,\"#fb9f3a\"],[0.8888888888888888,\"#fdca26\"],[1.0,\"#f0f921\"]],\"type\":\"histogram2dcontour\"}],\"histogram2d\":[{\"colorbar\":{\"outlinewidth\":0,\"ticks\":\"\"},\"colorscale\":[[0.0,\"#0d0887\"],[0.1111111111111111,\"#46039f\"],[0.2222222222222222,\"#7201a8\"],[0.3333333333333333,\"#9c179e\"],[0.4444444444444444,\"#bd3786\"],[0.5555555555555556,\"#d8576b\"],[0.6666666666666666,\"#ed7953\"],[0.7777777777777778,\"#fb9f3a\"],[0.8888888888888888,\"#fdca26\"],[1.0,\"#f0f921\"]],\"type\":\"histogram2d\"}],\"histogram\":[{\"marker\":{\"pattern\":{\"fillmode\":\"overlay\",\"size\":10,\"solidity\":0.2}},\"type\":\"histogram\"}],\"mesh3d\":[{\"colorbar\":{\"outlinewidth\":0,\"ticks\":\"\"},\"type\":\"mesh3d\"}],\"parcoords\":[{\"line\":{\"colorbar\":{\"outlinewidth\":0,\"ticks\":\"\"}},\"type\":\"parcoords\"}],\"pie\":[{\"automargin\":true,\"type\":\"pie\"}],\"scatter3d\":[{\"line\":{\"colorbar\":{\"outlinewidth\":0,\"ticks\":\"\"}},\"marker\":{\"colorbar\":{\"outlinewidth\":0,\"ticks\":\"\"}},\"type\":\"scatter3d\"}],\"scattercarpet\":[{\"marker\":{\"colorbar\":{\"outlinewidth\":0,\"ticks\":\"\"}},\"type\":\"scattercarpet\"}],\"scattergeo\":[{\"marker\":{\"colorbar\":{\"outlinewidth\":0,\"ticks\":\"\"}},\"type\":\"scattergeo\"}],\"scattergl\":[{\"marker\":{\"colorbar\":{\"outlinewidth\":0,\"ticks\":\"\"}},\"type\":\"scattergl\"}],\"scattermapbox\":[{\"marker\":{\"colorbar\":{\"outlinewidth\":0,\"ticks\":\"\"}},\"type\":\"scattermapbox\"}],\"scatterpolargl\":[{\"marker\":{\"colorbar\":{\"outlinewidth\":0,\"ticks\":\"\"}},\"type\":\"scatterpolargl\"}],\"scatterpolar\":[{\"marker\":{\"colorbar\":{\"outlinewidth\":0,\"ticks\":\"\"}},\"type\":\"scatterpolar\"}],\"scatter\":[{\"fillpattern\":{\"fillmode\":\"overlay\",\"size\":10,\"solidity\":0.2},\"type\":\"scatter\"}],\"scatterternary\":[{\"marker\":{\"colorbar\":{\"outlinewidth\":0,\"ticks\":\"\"}},\"type\":\"scatterternary\"}],\"surface\":[{\"colorbar\":{\"outlinewidth\":0,\"ticks\":\"\"},\"colorscale\":[[0.0,\"#0d0887\"],[0.1111111111111111,\"#46039f\"],[0.2222222222222222,\"#7201a8\"],[0.3333333333333333,\"#9c179e\"],[0.4444444444444444,\"#bd3786\"],[0.5555555555555556,\"#d8576b\"],[0.6666666666666666,\"#ed7953\"],[0.7777777777777778,\"#fb9f3a\"],[0.8888888888888888,\"#fdca26\"],[1.0,\"#f0f921\"]],\"type\":\"surface\"}],\"table\":[{\"cells\":{\"fill\":{\"color\":\"#EBF0F8\"},\"line\":{\"color\":\"white\"}},\"header\":{\"fill\":{\"color\":\"#C8D4E3\"},\"line\":{\"color\":\"white\"}},\"type\":\"table\"}]},\"layout\":{\"annotationdefaults\":{\"arrowcolor\":\"#2a3f5f\",\"arrowhead\":0,\"arrowwidth\":1},\"autotypenumbers\":\"strict\",\"coloraxis\":{\"colorbar\":{\"outlinewidth\":0,\"ticks\":\"\"}},\"colorscale\":{\"diverging\":[[0,\"#8e0152\"],[0.1,\"#c51b7d\"],[0.2,\"#de77ae\"],[0.3,\"#f1b6da\"],[0.4,\"#fde0ef\"],[0.5,\"#f7f7f7\"],[0.6,\"#e6f5d0\"],[0.7,\"#b8e186\"],[0.8,\"#7fbc41\"],[0.9,\"#4d9221\"],[1,\"#276419\"]],\"sequential\":[[0.0,\"#0d0887\"],[0.1111111111111111,\"#46039f\"],[0.2222222222222222,\"#7201a8\"],[0.3333333333333333,\"#9c179e\"],[0.4444444444444444,\"#bd3786\"],[0.5555555555555556,\"#d8576b\"],[0.6666666666666666,\"#ed7953\"],[0.7777777777777778,\"#fb9f3a\"],[0.8888888888888888,\"#fdca26\"],[1.0,\"#f0f921\"]],\"sequentialminus\":[[0.0,\"#0d0887\"],[0.1111111111111111,\"#46039f\"],[0.2222222222222222,\"#7201a8\"],[0.3333333333333333,\"#9c179e\"],[0.4444444444444444,\"#bd3786\"],[0.5555555555555556,\"#d8576b\"],[0.6666666666666666,\"#ed7953\"],[0.7777777777777778,\"#fb9f3a\"],[0.8888888888888888,\"#fdca26\"],[1.0,\"#f0f921\"]]},\"colorway\":[\"#636efa\",\"#EF553B\",\"#00cc96\",\"#ab63fa\",\"#FFA15A\",\"#19d3f3\",\"#FF6692\",\"#B6E880\",\"#FF97FF\",\"#FECB52\"],\"font\":{\"color\":\"#2a3f5f\"},\"geo\":{\"bgcolor\":\"white\",\"lakecolor\":\"white\",\"landcolor\":\"white\",\"showlakes\":true,\"showland\":true,\"subunitcolor\":\"#C8D4E3\"},\"hoverlabel\":{\"align\":\"left\"},\"hovermode\":\"closest\",\"mapbox\":{\"style\":\"light\"},\"paper_bgcolor\":\"white\",\"plot_bgcolor\":\"white\",\"polar\":{\"angularaxis\":{\"gridcolor\":\"#EBF0F8\",\"linecolor\":\"#EBF0F8\",\"ticks\":\"\"},\"bgcolor\":\"white\",\"radialaxis\":{\"gridcolor\":\"#EBF0F8\",\"linecolor\":\"#EBF0F8\",\"ticks\":\"\"}},\"scene\":{\"xaxis\":{\"backgroundcolor\":\"white\",\"gridcolor\":\"#DFE8F3\",\"gridwidth\":2,\"linecolor\":\"#EBF0F8\",\"showbackground\":true,\"ticks\":\"\",\"zerolinecolor\":\"#EBF0F8\"},\"yaxis\":{\"backgroundcolor\":\"white\",\"gridcolor\":\"#DFE8F3\",\"gridwidth\":2,\"linecolor\":\"#EBF0F8\",\"showbackground\":true,\"ticks\":\"\",\"zerolinecolor\":\"#EBF0F8\"},\"zaxis\":{\"backgroundcolor\":\"white\",\"gridcolor\":\"#DFE8F3\",\"gridwidth\":2,\"linecolor\":\"#EBF0F8\",\"showbackground\":true,\"ticks\":\"\",\"zerolinecolor\":\"#EBF0F8\"}},\"shapedefaults\":{\"line\":{\"color\":\"#2a3f5f\"}},\"ternary\":{\"aaxis\":{\"gridcolor\":\"#DFE8F3\",\"linecolor\":\"#A2B1C6\",\"ticks\":\"\"},\"baxis\":{\"gridcolor\":\"#DFE8F3\",\"linecolor\":\"#A2B1C6\",\"ticks\":\"\"},\"bgcolor\":\"white\",\"caxis\":{\"gridcolor\":\"#DFE8F3\",\"linecolor\":\"#A2B1C6\",\"ticks\":\"\"}},\"title\":{\"x\":0.05},\"xaxis\":{\"automargin\":true,\"gridcolor\":\"#EBF0F8\",\"linecolor\":\"#EBF0F8\",\"ticks\":\"\",\"title\":{\"standoff\":15},\"zerolinecolor\":\"#EBF0F8\",\"zerolinewidth\":2},\"yaxis\":{\"automargin\":true,\"gridcolor\":\"#EBF0F8\",\"linecolor\":\"#EBF0F8\",\"ticks\":\"\",\"title\":{\"standoff\":15},\"zerolinecolor\":\"#EBF0F8\",\"zerolinewidth\":2}}},\"yaxis\":{\"minor\":{\"showgrid\":true,\"griddash\":\"dash\",\"gridcolor\":\"gray\",\"gridwidth\":0.5,\"dtick\":0.05},\"showline\":true,\"linecolor\":\"black\",\"linewidth\":1,\"showgrid\":true,\"gridcolor\":\"gray\",\"gridwidth\":1,\"dtick\":0.1,\"range\":[0,1.2],\"title\":{\"text\":\"Mean Value\"}},\"xaxis\":{\"showline\":true,\"linecolor\":\"#000000\",\"linewidth\":1},\"title\":{\"font\":{\"size\":20,\"weight\":1000},\"text\":\"Performance Comparison of Direct Reaction Prediction Methods\",\"x\":0.5,\"y\":0.05,\"xanchor\":\"center\"},\"legend\":{\"orientation\":\"h\",\"yanchor\":\"bottom\",\"y\":0.99,\"xanchor\":\"center\",\"x\":0.5,\"tracegroupgap\":2,\"borderwidth\":1},\"width\":1600,\"height\":600,\"barmode\":\"group\",\"bargap\":0.29},                        {\"responsive\": true}                    ).then(function(){\n",
       "                            \n",
       "var gd = document.getElementById('6c82ac4e-9b7e-440d-b827-f6a3ac2f3b4f');\n",
       "var x = new MutationObserver(function (mutations, observer) {{\n",
       "        var display = window.getComputedStyle(gd).display;\n",
       "        if (!display || display === 'none') {{\n",
       "            console.log([gd, 'removed!']);\n",
       "            Plotly.purge(gd);\n",
       "            observer.disconnect();\n",
       "        }}\n",
       "}});\n",
       "\n",
       "// Listen for the removal of the full notebook cells\n",
       "var notebookContainer = gd.closest('#notebook-container');\n",
       "if (notebookContainer) {{\n",
       "    x.observe(notebookContainer, {childList: true});\n",
       "}}\n",
       "\n",
       "// Listen for the clearing of the current output cell\n",
       "var outputEl = gd.closest('.output');\n",
       "if (outputEl) {{\n",
       "    x.observe(outputEl, {childList: true});\n",
       "}}\n",
       "\n",
       "                        })                };                });            </script>        </div>"
      ]
     },
     "metadata": {},
     "output_type": "display_data"
    }
   ],
   "source": [
    "evTools.show_ec_methods_10_eva_fig(res_metrics_data=res_std_direct)"
   ]
  },
  {
   "cell_type": "code",
   "execution_count": 6,
   "metadata": {},
   "outputs": [
    {
     "data": {
      "application/vnd.plotly.v1+json": {
       "config": {
        "plotlyServerURL": "https://plot.ly"
       },
       "data": [
        {
         "error_y": {
          "array": [
           0.0296085573216032,
           0.0310320453692623,
           0.0543936867450351,
           0.0353940917095411
          ],
          "type": "data",
          "visible": true
         },
         "marker": {
          "color": "#8ECFC9",
          "line": {
           "color": "black",
           "width": 0.5
          }
         },
         "name": "priam",
         "type": "bar",
         "width": 0.04,
         "x": [
          "mAccuracy",
          "mPrecision",
          "mRecall",
          "mF1"
         ],
         "y": [
          0.081,
          0.1735290873579417,
          0.3795234064185667,
          0.2370738653300023
         ]
        },
        {
         "error_y": {
          "array": [
           0.041217579852399,
           0.0453876319810668,
           0.0392509473193709,
           0.0418388905204952
          ],
          "type": "data",
          "visible": true
         },
         "marker": {
          "color": "#FFBE7A",
          "line": {
           "color": "black",
           "width": 0.5
          }
         },
         "name": "deepec",
         "type": "bar",
         "width": 0.04,
         "x": [
          "mAccuracy",
          "mPrecision",
          "mRecall",
          "mF1"
         ],
         "y": [
          0.291,
          0.3544465806527749,
          0.3120216225881387,
          0.3318231572591062
         ]
        },
        {
         "error_y": {
          "array": [
           0.0470106370941726,
           0.0565835535346598,
           0.0496395766314348,
           0.0524979144802983
          ],
          "type": "data",
          "visible": true
         },
         "marker": {
          "color": "#FA7F6F",
          "line": {
           "color": "black",
           "width": 0.5
          }
         },
         "name": "clean",
         "type": "bar",
         "width": 0.04,
         "x": [
          "mAccuracy",
          "mPrecision",
          "mRecall",
          "mF1"
         ],
         "y": [
          0.319,
          0.3489169110759366,
          0.3537709785252731,
          0.3510785303717592
         ]
        },
        {
         "error_y": {
          "array": [
           0.0270801280154532,
           0.027731301840067,
           0.0418172490660981,
           0.0343878306001482
          ],
          "type": "data",
          "visible": true
         },
         "marker": {
          "color": "#82B0D2",
          "line": {
           "color": "black",
           "width": 0.5
          }
         },
         "name": "catfam",
         "type": "bar",
         "width": 0.04,
         "x": [
          "mAccuracy",
          "mPrecision",
          "mRecall",
          "mF1"
         ],
         "y": [
          0.75,
          0.7922652312158578,
          0.6955944151265401,
          0.7405633466934225
         ]
        },
        {
         "error_y": {
          "array": [
           0.0324722103412202,
           0.0270825659192639,
           0.0308741065135338,
           0.0271465993684992
          ],
          "type": "data",
          "visible": true
         },
         "marker": {
          "color": "#BEB8DC",
          "line": {
           "color": "black",
           "width": 0.5
          }
         },
         "name": "blast_via_ec",
         "type": "bar",
         "width": 0.04,
         "x": [
          "mAccuracy",
          "mPrecision",
          "mRecall",
          "mF1"
         ],
         "y": [
          0.8210000000000001,
          0.8721631994419216,
          0.7739226266753321,
          0.782795850742848
         ]
        },
        {
         "error_y": {
          "array": [
           0.0271006354989037,
           0.019997984797974,
           0.0375986257488622,
           0.0264634243737566
          ],
          "type": "data",
          "visible": true
         },
         "marker": {
          "color": "#E7DAD2",
          "line": {
           "color": "black",
           "width": 0.5
          }
         },
         "name": "ecrecer",
         "type": "bar",
         "width": 0.04,
         "x": [
          "mAccuracy",
          "mPrecision",
          "mRecall",
          "mF1"
         ],
         "y": [
          0.8329999999999999,
          0.912919191919192,
          0.7841832471815625,
          0.819315727435342
         ]
        },
        {
         "error_y": {
          "array": [
           0.0373571352696583,
           0.1105607750487305,
           0.0141664227156439,
           0.0809415019511635
          ],
          "type": "data",
          "visible": true
         },
         "marker": {
          "color": "#999999",
          "line": {
           "color": "black",
           "width": 0.5
          }
         },
         "name": "blast_via_rxn",
         "type": "bar",
         "width": 0.04,
         "x": [
          "mAccuracy",
          "mPrecision",
          "mRecall",
          "mF1"
         ],
         "y": [
          0.838,
          0.8771260930144676,
          0.9589106861803596,
          0.8292119940209692
         ]
        },
        {
         "error_y": {
          "array": [
           0.0015059028117058,
           0.003642026572756,
           0.0010466550251915,
           0.0020868287566608
          ],
          "type": "data",
          "visible": true
         },
         "marker": {
          "color": "#A1D3B2",
          "line": {
           "color": "black",
           "width": 0.5
          }
         },
         "name": "unirep_euclidean",
         "type": "bar",
         "width": 0.04,
         "x": [
          "mAccuracy",
          "mPrecision",
          "mRecall",
          "mF1"
         ],
         "y": [
          0.8897007353808644,
          0.8259504216243858,
          0.961780669910052,
          0.8887009991595056
         ]
        },
        {
         "error_y": {
          "array": [
           0.0015899041034747,
           0.0038598679263184,
           0.0010402946085095,
           0.0022536074075088
          ],
          "type": "data",
          "visible": true
         },
         "marker": {
          "color": "#F5C98A",
          "line": {
           "color": "black",
           "width": 0.5
          }
         },
         "name": "unirep_cosine",
         "type": "bar",
         "width": 0.04,
         "x": [
          "mAccuracy",
          "mPrecision",
          "mRecall",
          "mF1"
         ],
         "y": [
          0.8907605489795115,
          0.8275920408015022,
          0.9621782772752884,
          0.8898202050784405
         ]
        },
        {
         "error_y": {
          "array": [
           0.0015672398542976,
           0.003587091048875,
           0.0009122645546096,
           0.0021931698939395
          ],
          "type": "data",
          "visible": true
         },
         "marker": {
          "color": "#F9988C",
          "line": {
           "color": "black",
           "width": 0.5
          }
         },
         "name": "esm_euclidean",
         "type": "bar",
         "width": 0.04,
         "x": [
          "mAccuracy",
          "mPrecision",
          "mRecall",
          "mF1"
         ],
         "y": [
          0.9351213181800307,
          0.8893795511275698,
          0.979933133542252,
          0.9324601671241248
         ]
        },
        {
         "error_y": {
          "array": [
           0.0016345120478554,
           0.0038735051168292,
           0.000878228592098,
           0.0022737415463503
          ],
          "type": "data",
          "visible": true
         },
         "marker": {
          "color": "#8ECFC9",
          "line": {
           "color": "black",
           "width": 0.5
          }
         },
         "name": "esm_cosine",
         "type": "bar",
         "width": 0.04,
         "x": [
          "mAccuracy",
          "mPrecision",
          "mRecall",
          "mF1"
         ],
         "y": [
          0.9369499390459712,
          0.8941216111822203,
          0.9802782095992288,
          0.9352162063440476
         ]
        },
        {
         "error_y": {
          "array": [
           0.0009761925314479,
           0.0034733354957587,
           0.0004788524334999,
           0.0018632833539866
          ],
          "type": "data",
          "visible": true
         },
         "marker": {
          "color": "#FFBE7A",
          "line": {
           "color": "black",
           "width": 0.5
          }
         },
         "name": "t5_euclidean",
         "type": "bar",
         "width": 0.04,
         "x": [
          "mAccuracy",
          "mPrecision",
          "mRecall",
          "mF1"
         ],
         "y": [
          0.9540917849699164,
          0.9164662254139848,
          0.9835872865999932,
          0.9488380352843104
         ]
        },
        {
         "error_y": {
          "array": [
           0.0010374301635664,
           0.0036360466013392,
           0.0004814764555865,
           0.0019699640057689
          ],
          "type": "data",
          "visible": true
         },
         "marker": {
          "color": "#FA7F6F",
          "line": {
           "color": "black",
           "width": 0.5
          }
         },
         "name": "t5_cosine",
         "type": "bar",
         "width": 0.04,
         "x": [
          "mAccuracy",
          "mPrecision",
          "mRecall",
          "mF1"
         ],
         "y": [
          0.9546443037476896,
          0.9173000879688836,
          0.9836095942919254,
          0.9492949267550242
         ]
        },
        {
         "error_y": {
          "array": [
           0.0005755614726839,
           0.0008772480448924,
           0.0013187091343019,
           0.000957082263803
          ],
          "type": "data",
          "visible": true
         },
         "marker": {
          "color": "#82B0D2",
          "line": {
           "color": "black",
           "width": 0.5
          }
         },
         "name": "RXNRECer",
         "type": "bar",
         "width": 0.04,
         "x": [
          "mAccuracy",
          "mPrecision",
          "mRecall",
          "mF1"
         ],
         "y": [
          0.9872822368162334,
          0.9889624702786836,
          0.9803886980496588,
          0.9846566056820768
         ]
        }
       ],
       "layout": {
        "bargap": 0.29,
        "barmode": "group",
        "height": 600,
        "legend": {
         "borderwidth": 1,
         "orientation": "h",
         "tracegroupgap": 2,
         "x": 0.5,
         "xanchor": "center",
         "y": 0.99,
         "yanchor": "bottom"
        },
        "template": {
         "data": {
          "bar": [
           {
            "error_x": {
             "color": "#2a3f5f"
            },
            "error_y": {
             "color": "#2a3f5f"
            },
            "marker": {
             "line": {
              "color": "white",
              "width": 0.5
             },
             "pattern": {
              "fillmode": "overlay",
              "size": 10,
              "solidity": 0.2
             }
            },
            "type": "bar"
           }
          ],
          "barpolar": [
           {
            "marker": {
             "line": {
              "color": "white",
              "width": 0.5
             },
             "pattern": {
              "fillmode": "overlay",
              "size": 10,
              "solidity": 0.2
             }
            },
            "type": "barpolar"
           }
          ],
          "carpet": [
           {
            "aaxis": {
             "endlinecolor": "#2a3f5f",
             "gridcolor": "#C8D4E3",
             "linecolor": "#C8D4E3",
             "minorgridcolor": "#C8D4E3",
             "startlinecolor": "#2a3f5f"
            },
            "baxis": {
             "endlinecolor": "#2a3f5f",
             "gridcolor": "#C8D4E3",
             "linecolor": "#C8D4E3",
             "minorgridcolor": "#C8D4E3",
             "startlinecolor": "#2a3f5f"
            },
            "type": "carpet"
           }
          ],
          "choropleth": [
           {
            "colorbar": {
             "outlinewidth": 0,
             "ticks": ""
            },
            "type": "choropleth"
           }
          ],
          "contour": [
           {
            "colorbar": {
             "outlinewidth": 0,
             "ticks": ""
            },
            "colorscale": [
             [
              0,
              "#0d0887"
             ],
             [
              0.1111111111111111,
              "#46039f"
             ],
             [
              0.2222222222222222,
              "#7201a8"
             ],
             [
              0.3333333333333333,
              "#9c179e"
             ],
             [
              0.4444444444444444,
              "#bd3786"
             ],
             [
              0.5555555555555556,
              "#d8576b"
             ],
             [
              0.6666666666666666,
              "#ed7953"
             ],
             [
              0.7777777777777778,
              "#fb9f3a"
             ],
             [
              0.8888888888888888,
              "#fdca26"
             ],
             [
              1,
              "#f0f921"
             ]
            ],
            "type": "contour"
           }
          ],
          "contourcarpet": [
           {
            "colorbar": {
             "outlinewidth": 0,
             "ticks": ""
            },
            "type": "contourcarpet"
           }
          ],
          "heatmap": [
           {
            "colorbar": {
             "outlinewidth": 0,
             "ticks": ""
            },
            "colorscale": [
             [
              0,
              "#0d0887"
             ],
             [
              0.1111111111111111,
              "#46039f"
             ],
             [
              0.2222222222222222,
              "#7201a8"
             ],
             [
              0.3333333333333333,
              "#9c179e"
             ],
             [
              0.4444444444444444,
              "#bd3786"
             ],
             [
              0.5555555555555556,
              "#d8576b"
             ],
             [
              0.6666666666666666,
              "#ed7953"
             ],
             [
              0.7777777777777778,
              "#fb9f3a"
             ],
             [
              0.8888888888888888,
              "#fdca26"
             ],
             [
              1,
              "#f0f921"
             ]
            ],
            "type": "heatmap"
           }
          ],
          "heatmapgl": [
           {
            "colorbar": {
             "outlinewidth": 0,
             "ticks": ""
            },
            "colorscale": [
             [
              0,
              "#0d0887"
             ],
             [
              0.1111111111111111,
              "#46039f"
             ],
             [
              0.2222222222222222,
              "#7201a8"
             ],
             [
              0.3333333333333333,
              "#9c179e"
             ],
             [
              0.4444444444444444,
              "#bd3786"
             ],
             [
              0.5555555555555556,
              "#d8576b"
             ],
             [
              0.6666666666666666,
              "#ed7953"
             ],
             [
              0.7777777777777778,
              "#fb9f3a"
             ],
             [
              0.8888888888888888,
              "#fdca26"
             ],
             [
              1,
              "#f0f921"
             ]
            ],
            "type": "heatmapgl"
           }
          ],
          "histogram": [
           {
            "marker": {
             "pattern": {
              "fillmode": "overlay",
              "size": 10,
              "solidity": 0.2
             }
            },
            "type": "histogram"
           }
          ],
          "histogram2d": [
           {
            "colorbar": {
             "outlinewidth": 0,
             "ticks": ""
            },
            "colorscale": [
             [
              0,
              "#0d0887"
             ],
             [
              0.1111111111111111,
              "#46039f"
             ],
             [
              0.2222222222222222,
              "#7201a8"
             ],
             [
              0.3333333333333333,
              "#9c179e"
             ],
             [
              0.4444444444444444,
              "#bd3786"
             ],
             [
              0.5555555555555556,
              "#d8576b"
             ],
             [
              0.6666666666666666,
              "#ed7953"
             ],
             [
              0.7777777777777778,
              "#fb9f3a"
             ],
             [
              0.8888888888888888,
              "#fdca26"
             ],
             [
              1,
              "#f0f921"
             ]
            ],
            "type": "histogram2d"
           }
          ],
          "histogram2dcontour": [
           {
            "colorbar": {
             "outlinewidth": 0,
             "ticks": ""
            },
            "colorscale": [
             [
              0,
              "#0d0887"
             ],
             [
              0.1111111111111111,
              "#46039f"
             ],
             [
              0.2222222222222222,
              "#7201a8"
             ],
             [
              0.3333333333333333,
              "#9c179e"
             ],
             [
              0.4444444444444444,
              "#bd3786"
             ],
             [
              0.5555555555555556,
              "#d8576b"
             ],
             [
              0.6666666666666666,
              "#ed7953"
             ],
             [
              0.7777777777777778,
              "#fb9f3a"
             ],
             [
              0.8888888888888888,
              "#fdca26"
             ],
             [
              1,
              "#f0f921"
             ]
            ],
            "type": "histogram2dcontour"
           }
          ],
          "mesh3d": [
           {
            "colorbar": {
             "outlinewidth": 0,
             "ticks": ""
            },
            "type": "mesh3d"
           }
          ],
          "parcoords": [
           {
            "line": {
             "colorbar": {
              "outlinewidth": 0,
              "ticks": ""
             }
            },
            "type": "parcoords"
           }
          ],
          "pie": [
           {
            "automargin": true,
            "type": "pie"
           }
          ],
          "scatter": [
           {
            "fillpattern": {
             "fillmode": "overlay",
             "size": 10,
             "solidity": 0.2
            },
            "type": "scatter"
           }
          ],
          "scatter3d": [
           {
            "line": {
             "colorbar": {
              "outlinewidth": 0,
              "ticks": ""
             }
            },
            "marker": {
             "colorbar": {
              "outlinewidth": 0,
              "ticks": ""
             }
            },
            "type": "scatter3d"
           }
          ],
          "scattercarpet": [
           {
            "marker": {
             "colorbar": {
              "outlinewidth": 0,
              "ticks": ""
             }
            },
            "type": "scattercarpet"
           }
          ],
          "scattergeo": [
           {
            "marker": {
             "colorbar": {
              "outlinewidth": 0,
              "ticks": ""
             }
            },
            "type": "scattergeo"
           }
          ],
          "scattergl": [
           {
            "marker": {
             "colorbar": {
              "outlinewidth": 0,
              "ticks": ""
             }
            },
            "type": "scattergl"
           }
          ],
          "scattermapbox": [
           {
            "marker": {
             "colorbar": {
              "outlinewidth": 0,
              "ticks": ""
             }
            },
            "type": "scattermapbox"
           }
          ],
          "scatterpolar": [
           {
            "marker": {
             "colorbar": {
              "outlinewidth": 0,
              "ticks": ""
             }
            },
            "type": "scatterpolar"
           }
          ],
          "scatterpolargl": [
           {
            "marker": {
             "colorbar": {
              "outlinewidth": 0,
              "ticks": ""
             }
            },
            "type": "scatterpolargl"
           }
          ],
          "scatterternary": [
           {
            "marker": {
             "colorbar": {
              "outlinewidth": 0,
              "ticks": ""
             }
            },
            "type": "scatterternary"
           }
          ],
          "surface": [
           {
            "colorbar": {
             "outlinewidth": 0,
             "ticks": ""
            },
            "colorscale": [
             [
              0,
              "#0d0887"
             ],
             [
              0.1111111111111111,
              "#46039f"
             ],
             [
              0.2222222222222222,
              "#7201a8"
             ],
             [
              0.3333333333333333,
              "#9c179e"
             ],
             [
              0.4444444444444444,
              "#bd3786"
             ],
             [
              0.5555555555555556,
              "#d8576b"
             ],
             [
              0.6666666666666666,
              "#ed7953"
             ],
             [
              0.7777777777777778,
              "#fb9f3a"
             ],
             [
              0.8888888888888888,
              "#fdca26"
             ],
             [
              1,
              "#f0f921"
             ]
            ],
            "type": "surface"
           }
          ],
          "table": [
           {
            "cells": {
             "fill": {
              "color": "#EBF0F8"
             },
             "line": {
              "color": "white"
             }
            },
            "header": {
             "fill": {
              "color": "#C8D4E3"
             },
             "line": {
              "color": "white"
             }
            },
            "type": "table"
           }
          ]
         },
         "layout": {
          "annotationdefaults": {
           "arrowcolor": "#2a3f5f",
           "arrowhead": 0,
           "arrowwidth": 1
          },
          "autotypenumbers": "strict",
          "coloraxis": {
           "colorbar": {
            "outlinewidth": 0,
            "ticks": ""
           }
          },
          "colorscale": {
           "diverging": [
            [
             0,
             "#8e0152"
            ],
            [
             0.1,
             "#c51b7d"
            ],
            [
             0.2,
             "#de77ae"
            ],
            [
             0.3,
             "#f1b6da"
            ],
            [
             0.4,
             "#fde0ef"
            ],
            [
             0.5,
             "#f7f7f7"
            ],
            [
             0.6,
             "#e6f5d0"
            ],
            [
             0.7,
             "#b8e186"
            ],
            [
             0.8,
             "#7fbc41"
            ],
            [
             0.9,
             "#4d9221"
            ],
            [
             1,
             "#276419"
            ]
           ],
           "sequential": [
            [
             0,
             "#0d0887"
            ],
            [
             0.1111111111111111,
             "#46039f"
            ],
            [
             0.2222222222222222,
             "#7201a8"
            ],
            [
             0.3333333333333333,
             "#9c179e"
            ],
            [
             0.4444444444444444,
             "#bd3786"
            ],
            [
             0.5555555555555556,
             "#d8576b"
            ],
            [
             0.6666666666666666,
             "#ed7953"
            ],
            [
             0.7777777777777778,
             "#fb9f3a"
            ],
            [
             0.8888888888888888,
             "#fdca26"
            ],
            [
             1,
             "#f0f921"
            ]
           ],
           "sequentialminus": [
            [
             0,
             "#0d0887"
            ],
            [
             0.1111111111111111,
             "#46039f"
            ],
            [
             0.2222222222222222,
             "#7201a8"
            ],
            [
             0.3333333333333333,
             "#9c179e"
            ],
            [
             0.4444444444444444,
             "#bd3786"
            ],
            [
             0.5555555555555556,
             "#d8576b"
            ],
            [
             0.6666666666666666,
             "#ed7953"
            ],
            [
             0.7777777777777778,
             "#fb9f3a"
            ],
            [
             0.8888888888888888,
             "#fdca26"
            ],
            [
             1,
             "#f0f921"
            ]
           ]
          },
          "colorway": [
           "#636efa",
           "#EF553B",
           "#00cc96",
           "#ab63fa",
           "#FFA15A",
           "#19d3f3",
           "#FF6692",
           "#B6E880",
           "#FF97FF",
           "#FECB52"
          ],
          "font": {
           "color": "#2a3f5f"
          },
          "geo": {
           "bgcolor": "white",
           "lakecolor": "white",
           "landcolor": "white",
           "showlakes": true,
           "showland": true,
           "subunitcolor": "#C8D4E3"
          },
          "hoverlabel": {
           "align": "left"
          },
          "hovermode": "closest",
          "mapbox": {
           "style": "light"
          },
          "paper_bgcolor": "white",
          "plot_bgcolor": "white",
          "polar": {
           "angularaxis": {
            "gridcolor": "#EBF0F8",
            "linecolor": "#EBF0F8",
            "ticks": ""
           },
           "bgcolor": "white",
           "radialaxis": {
            "gridcolor": "#EBF0F8",
            "linecolor": "#EBF0F8",
            "ticks": ""
           }
          },
          "scene": {
           "xaxis": {
            "backgroundcolor": "white",
            "gridcolor": "#DFE8F3",
            "gridwidth": 2,
            "linecolor": "#EBF0F8",
            "showbackground": true,
            "ticks": "",
            "zerolinecolor": "#EBF0F8"
           },
           "yaxis": {
            "backgroundcolor": "white",
            "gridcolor": "#DFE8F3",
            "gridwidth": 2,
            "linecolor": "#EBF0F8",
            "showbackground": true,
            "ticks": "",
            "zerolinecolor": "#EBF0F8"
           },
           "zaxis": {
            "backgroundcolor": "white",
            "gridcolor": "#DFE8F3",
            "gridwidth": 2,
            "linecolor": "#EBF0F8",
            "showbackground": true,
            "ticks": "",
            "zerolinecolor": "#EBF0F8"
           }
          },
          "shapedefaults": {
           "line": {
            "color": "#2a3f5f"
           }
          },
          "ternary": {
           "aaxis": {
            "gridcolor": "#DFE8F3",
            "linecolor": "#A2B1C6",
            "ticks": ""
           },
           "baxis": {
            "gridcolor": "#DFE8F3",
            "linecolor": "#A2B1C6",
            "ticks": ""
           },
           "bgcolor": "white",
           "caxis": {
            "gridcolor": "#DFE8F3",
            "linecolor": "#A2B1C6",
            "ticks": ""
           }
          },
          "title": {
           "x": 0.05
          },
          "xaxis": {
           "automargin": true,
           "gridcolor": "#EBF0F8",
           "linecolor": "#EBF0F8",
           "ticks": "",
           "title": {
            "standoff": 15
           },
           "zerolinecolor": "#EBF0F8",
           "zerolinewidth": 2
          },
          "yaxis": {
           "automargin": true,
           "gridcolor": "#EBF0F8",
           "linecolor": "#EBF0F8",
           "ticks": "",
           "title": {
            "standoff": 15
           },
           "zerolinecolor": "#EBF0F8",
           "zerolinewidth": 2
          }
         }
        },
        "title": {
         "font": {
          "size": 20,
          "weight": 1000
         },
         "text": "Performance Comparison of All Reaction Prediction Methods",
         "x": 0.5,
         "xanchor": "center",
         "y": 0.05
        },
        "width": 1600,
        "xaxis": {
         "linecolor": "#000000",
         "linewidth": 1,
         "showline": true
        },
        "yaxis": {
         "dtick": 0.1,
         "gridcolor": "gray",
         "gridwidth": 1,
         "linecolor": "black",
         "linewidth": 1,
         "minor": {
          "dtick": 0.05,
          "gridcolor": "gray",
          "griddash": "dash",
          "gridwidth": 0.5,
          "showgrid": true
         },
         "range": [
          0,
          1.2
         ],
         "showgrid": true,
         "showline": true,
         "title": {
          "text": "Mean Value"
         }
        }
       }
      },
      "text/html": [
       "<div>                            <div id=\"3dde366c-55d9-4386-be11-1be10dd1132b\" class=\"plotly-graph-div\" style=\"height:600px; width:1600px;\"></div>            <script type=\"text/javascript\">                require([\"plotly\"], function(Plotly) {                    window.PLOTLYENV=window.PLOTLYENV || {};                                    if (document.getElementById(\"3dde366c-55d9-4386-be11-1be10dd1132b\")) {                    Plotly.newPlot(                        \"3dde366c-55d9-4386-be11-1be10dd1132b\",                        [{\"error_y\":{\"array\":[0.0296085573216032,0.0310320453692623,0.0543936867450351,0.0353940917095411],\"type\":\"data\",\"visible\":true},\"marker\":{\"color\":\"#8ECFC9\",\"line\":{\"color\":\"black\",\"width\":0.5}},\"name\":\"priam\",\"width\":0.04,\"x\":[\"mAccuracy\",\"mPrecision\",\"mRecall\",\"mF1\"],\"y\":[0.081,0.1735290873579417,0.3795234064185667,0.2370738653300023],\"type\":\"bar\"},{\"error_y\":{\"array\":[0.041217579852399,0.0453876319810668,0.0392509473193709,0.0418388905204952],\"type\":\"data\",\"visible\":true},\"marker\":{\"color\":\"#FFBE7A\",\"line\":{\"color\":\"black\",\"width\":0.5}},\"name\":\"deepec\",\"width\":0.04,\"x\":[\"mAccuracy\",\"mPrecision\",\"mRecall\",\"mF1\"],\"y\":[0.291,0.3544465806527749,0.3120216225881387,0.3318231572591062],\"type\":\"bar\"},{\"error_y\":{\"array\":[0.0470106370941726,0.0565835535346598,0.0496395766314348,0.0524979144802983],\"type\":\"data\",\"visible\":true},\"marker\":{\"color\":\"#FA7F6F\",\"line\":{\"color\":\"black\",\"width\":0.5}},\"name\":\"clean\",\"width\":0.04,\"x\":[\"mAccuracy\",\"mPrecision\",\"mRecall\",\"mF1\"],\"y\":[0.319,0.3489169110759366,0.3537709785252731,0.3510785303717592],\"type\":\"bar\"},{\"error_y\":{\"array\":[0.0270801280154532,0.027731301840067,0.0418172490660981,0.0343878306001482],\"type\":\"data\",\"visible\":true},\"marker\":{\"color\":\"#82B0D2\",\"line\":{\"color\":\"black\",\"width\":0.5}},\"name\":\"catfam\",\"width\":0.04,\"x\":[\"mAccuracy\",\"mPrecision\",\"mRecall\",\"mF1\"],\"y\":[0.75,0.7922652312158578,0.6955944151265401,0.7405633466934225],\"type\":\"bar\"},{\"error_y\":{\"array\":[0.0324722103412202,0.0270825659192639,0.0308741065135338,0.0271465993684992],\"type\":\"data\",\"visible\":true},\"marker\":{\"color\":\"#BEB8DC\",\"line\":{\"color\":\"black\",\"width\":0.5}},\"name\":\"blast_via_ec\",\"width\":0.04,\"x\":[\"mAccuracy\",\"mPrecision\",\"mRecall\",\"mF1\"],\"y\":[0.8210000000000001,0.8721631994419216,0.7739226266753321,0.782795850742848],\"type\":\"bar\"},{\"error_y\":{\"array\":[0.0271006354989037,0.019997984797974,0.0375986257488622,0.0264634243737566],\"type\":\"data\",\"visible\":true},\"marker\":{\"color\":\"#E7DAD2\",\"line\":{\"color\":\"black\",\"width\":0.5}},\"name\":\"ecrecer\",\"width\":0.04,\"x\":[\"mAccuracy\",\"mPrecision\",\"mRecall\",\"mF1\"],\"y\":[0.8329999999999999,0.912919191919192,0.7841832471815625,0.819315727435342],\"type\":\"bar\"},{\"error_y\":{\"array\":[0.0373571352696583,0.1105607750487305,0.0141664227156439,0.0809415019511635],\"type\":\"data\",\"visible\":true},\"marker\":{\"color\":\"#999999\",\"line\":{\"color\":\"black\",\"width\":0.5}},\"name\":\"blast_via_rxn\",\"width\":0.04,\"x\":[\"mAccuracy\",\"mPrecision\",\"mRecall\",\"mF1\"],\"y\":[0.838,0.8771260930144676,0.9589106861803596,0.8292119940209692],\"type\":\"bar\"},{\"error_y\":{\"array\":[0.0015059028117058,0.003642026572756,0.0010466550251915,0.0020868287566608],\"type\":\"data\",\"visible\":true},\"marker\":{\"color\":\"#A1D3B2\",\"line\":{\"color\":\"black\",\"width\":0.5}},\"name\":\"unirep_euclidean\",\"width\":0.04,\"x\":[\"mAccuracy\",\"mPrecision\",\"mRecall\",\"mF1\"],\"y\":[0.8897007353808644,0.8259504216243858,0.961780669910052,0.8887009991595056],\"type\":\"bar\"},{\"error_y\":{\"array\":[0.0015899041034747,0.0038598679263184,0.0010402946085095,0.0022536074075088],\"type\":\"data\",\"visible\":true},\"marker\":{\"color\":\"#F5C98A\",\"line\":{\"color\":\"black\",\"width\":0.5}},\"name\":\"unirep_cosine\",\"width\":0.04,\"x\":[\"mAccuracy\",\"mPrecision\",\"mRecall\",\"mF1\"],\"y\":[0.8907605489795115,0.8275920408015022,0.9621782772752884,0.8898202050784405],\"type\":\"bar\"},{\"error_y\":{\"array\":[0.0015672398542976,0.003587091048875,0.0009122645546096,0.0021931698939395],\"type\":\"data\",\"visible\":true},\"marker\":{\"color\":\"#F9988C\",\"line\":{\"color\":\"black\",\"width\":0.5}},\"name\":\"esm_euclidean\",\"width\":0.04,\"x\":[\"mAccuracy\",\"mPrecision\",\"mRecall\",\"mF1\"],\"y\":[0.9351213181800307,0.8893795511275698,0.979933133542252,0.9324601671241248],\"type\":\"bar\"},{\"error_y\":{\"array\":[0.0016345120478554,0.0038735051168292,0.000878228592098,0.0022737415463503],\"type\":\"data\",\"visible\":true},\"marker\":{\"color\":\"#8ECFC9\",\"line\":{\"color\":\"black\",\"width\":0.5}},\"name\":\"esm_cosine\",\"width\":0.04,\"x\":[\"mAccuracy\",\"mPrecision\",\"mRecall\",\"mF1\"],\"y\":[0.9369499390459712,0.8941216111822203,0.9802782095992288,0.9352162063440476],\"type\":\"bar\"},{\"error_y\":{\"array\":[0.0009761925314479,0.0034733354957587,0.0004788524334999,0.0018632833539866],\"type\":\"data\",\"visible\":true},\"marker\":{\"color\":\"#FFBE7A\",\"line\":{\"color\":\"black\",\"width\":0.5}},\"name\":\"t5_euclidean\",\"width\":0.04,\"x\":[\"mAccuracy\",\"mPrecision\",\"mRecall\",\"mF1\"],\"y\":[0.9540917849699164,0.9164662254139848,0.9835872865999932,0.9488380352843104],\"type\":\"bar\"},{\"error_y\":{\"array\":[0.0010374301635664,0.0036360466013392,0.0004814764555865,0.0019699640057689],\"type\":\"data\",\"visible\":true},\"marker\":{\"color\":\"#FA7F6F\",\"line\":{\"color\":\"black\",\"width\":0.5}},\"name\":\"t5_cosine\",\"width\":0.04,\"x\":[\"mAccuracy\",\"mPrecision\",\"mRecall\",\"mF1\"],\"y\":[0.9546443037476896,0.9173000879688836,0.9836095942919254,0.9492949267550242],\"type\":\"bar\"},{\"error_y\":{\"array\":[0.0005755614726839,0.0008772480448924,0.0013187091343019,0.000957082263803],\"type\":\"data\",\"visible\":true},\"marker\":{\"color\":\"#82B0D2\",\"line\":{\"color\":\"black\",\"width\":0.5}},\"name\":\"RXNRECer\",\"width\":0.04,\"x\":[\"mAccuracy\",\"mPrecision\",\"mRecall\",\"mF1\"],\"y\":[0.9872822368162334,0.9889624702786836,0.9803886980496588,0.9846566056820768],\"type\":\"bar\"}],                        {\"template\":{\"data\":{\"barpolar\":[{\"marker\":{\"line\":{\"color\":\"white\",\"width\":0.5},\"pattern\":{\"fillmode\":\"overlay\",\"size\":10,\"solidity\":0.2}},\"type\":\"barpolar\"}],\"bar\":[{\"error_x\":{\"color\":\"#2a3f5f\"},\"error_y\":{\"color\":\"#2a3f5f\"},\"marker\":{\"line\":{\"color\":\"white\",\"width\":0.5},\"pattern\":{\"fillmode\":\"overlay\",\"size\":10,\"solidity\":0.2}},\"type\":\"bar\"}],\"carpet\":[{\"aaxis\":{\"endlinecolor\":\"#2a3f5f\",\"gridcolor\":\"#C8D4E3\",\"linecolor\":\"#C8D4E3\",\"minorgridcolor\":\"#C8D4E3\",\"startlinecolor\":\"#2a3f5f\"},\"baxis\":{\"endlinecolor\":\"#2a3f5f\",\"gridcolor\":\"#C8D4E3\",\"linecolor\":\"#C8D4E3\",\"minorgridcolor\":\"#C8D4E3\",\"startlinecolor\":\"#2a3f5f\"},\"type\":\"carpet\"}],\"choropleth\":[{\"colorbar\":{\"outlinewidth\":0,\"ticks\":\"\"},\"type\":\"choropleth\"}],\"contourcarpet\":[{\"colorbar\":{\"outlinewidth\":0,\"ticks\":\"\"},\"type\":\"contourcarpet\"}],\"contour\":[{\"colorbar\":{\"outlinewidth\":0,\"ticks\":\"\"},\"colorscale\":[[0.0,\"#0d0887\"],[0.1111111111111111,\"#46039f\"],[0.2222222222222222,\"#7201a8\"],[0.3333333333333333,\"#9c179e\"],[0.4444444444444444,\"#bd3786\"],[0.5555555555555556,\"#d8576b\"],[0.6666666666666666,\"#ed7953\"],[0.7777777777777778,\"#fb9f3a\"],[0.8888888888888888,\"#fdca26\"],[1.0,\"#f0f921\"]],\"type\":\"contour\"}],\"heatmapgl\":[{\"colorbar\":{\"outlinewidth\":0,\"ticks\":\"\"},\"colorscale\":[[0.0,\"#0d0887\"],[0.1111111111111111,\"#46039f\"],[0.2222222222222222,\"#7201a8\"],[0.3333333333333333,\"#9c179e\"],[0.4444444444444444,\"#bd3786\"],[0.5555555555555556,\"#d8576b\"],[0.6666666666666666,\"#ed7953\"],[0.7777777777777778,\"#fb9f3a\"],[0.8888888888888888,\"#fdca26\"],[1.0,\"#f0f921\"]],\"type\":\"heatmapgl\"}],\"heatmap\":[{\"colorbar\":{\"outlinewidth\":0,\"ticks\":\"\"},\"colorscale\":[[0.0,\"#0d0887\"],[0.1111111111111111,\"#46039f\"],[0.2222222222222222,\"#7201a8\"],[0.3333333333333333,\"#9c179e\"],[0.4444444444444444,\"#bd3786\"],[0.5555555555555556,\"#d8576b\"],[0.6666666666666666,\"#ed7953\"],[0.7777777777777778,\"#fb9f3a\"],[0.8888888888888888,\"#fdca26\"],[1.0,\"#f0f921\"]],\"type\":\"heatmap\"}],\"histogram2dcontour\":[{\"colorbar\":{\"outlinewidth\":0,\"ticks\":\"\"},\"colorscale\":[[0.0,\"#0d0887\"],[0.1111111111111111,\"#46039f\"],[0.2222222222222222,\"#7201a8\"],[0.3333333333333333,\"#9c179e\"],[0.4444444444444444,\"#bd3786\"],[0.5555555555555556,\"#d8576b\"],[0.6666666666666666,\"#ed7953\"],[0.7777777777777778,\"#fb9f3a\"],[0.8888888888888888,\"#fdca26\"],[1.0,\"#f0f921\"]],\"type\":\"histogram2dcontour\"}],\"histogram2d\":[{\"colorbar\":{\"outlinewidth\":0,\"ticks\":\"\"},\"colorscale\":[[0.0,\"#0d0887\"],[0.1111111111111111,\"#46039f\"],[0.2222222222222222,\"#7201a8\"],[0.3333333333333333,\"#9c179e\"],[0.4444444444444444,\"#bd3786\"],[0.5555555555555556,\"#d8576b\"],[0.6666666666666666,\"#ed7953\"],[0.7777777777777778,\"#fb9f3a\"],[0.8888888888888888,\"#fdca26\"],[1.0,\"#f0f921\"]],\"type\":\"histogram2d\"}],\"histogram\":[{\"marker\":{\"pattern\":{\"fillmode\":\"overlay\",\"size\":10,\"solidity\":0.2}},\"type\":\"histogram\"}],\"mesh3d\":[{\"colorbar\":{\"outlinewidth\":0,\"ticks\":\"\"},\"type\":\"mesh3d\"}],\"parcoords\":[{\"line\":{\"colorbar\":{\"outlinewidth\":0,\"ticks\":\"\"}},\"type\":\"parcoords\"}],\"pie\":[{\"automargin\":true,\"type\":\"pie\"}],\"scatter3d\":[{\"line\":{\"colorbar\":{\"outlinewidth\":0,\"ticks\":\"\"}},\"marker\":{\"colorbar\":{\"outlinewidth\":0,\"ticks\":\"\"}},\"type\":\"scatter3d\"}],\"scattercarpet\":[{\"marker\":{\"colorbar\":{\"outlinewidth\":0,\"ticks\":\"\"}},\"type\":\"scattercarpet\"}],\"scattergeo\":[{\"marker\":{\"colorbar\":{\"outlinewidth\":0,\"ticks\":\"\"}},\"type\":\"scattergeo\"}],\"scattergl\":[{\"marker\":{\"colorbar\":{\"outlinewidth\":0,\"ticks\":\"\"}},\"type\":\"scattergl\"}],\"scattermapbox\":[{\"marker\":{\"colorbar\":{\"outlinewidth\":0,\"ticks\":\"\"}},\"type\":\"scattermapbox\"}],\"scatterpolargl\":[{\"marker\":{\"colorbar\":{\"outlinewidth\":0,\"ticks\":\"\"}},\"type\":\"scatterpolargl\"}],\"scatterpolar\":[{\"marker\":{\"colorbar\":{\"outlinewidth\":0,\"ticks\":\"\"}},\"type\":\"scatterpolar\"}],\"scatter\":[{\"fillpattern\":{\"fillmode\":\"overlay\",\"size\":10,\"solidity\":0.2},\"type\":\"scatter\"}],\"scatterternary\":[{\"marker\":{\"colorbar\":{\"outlinewidth\":0,\"ticks\":\"\"}},\"type\":\"scatterternary\"}],\"surface\":[{\"colorbar\":{\"outlinewidth\":0,\"ticks\":\"\"},\"colorscale\":[[0.0,\"#0d0887\"],[0.1111111111111111,\"#46039f\"],[0.2222222222222222,\"#7201a8\"],[0.3333333333333333,\"#9c179e\"],[0.4444444444444444,\"#bd3786\"],[0.5555555555555556,\"#d8576b\"],[0.6666666666666666,\"#ed7953\"],[0.7777777777777778,\"#fb9f3a\"],[0.8888888888888888,\"#fdca26\"],[1.0,\"#f0f921\"]],\"type\":\"surface\"}],\"table\":[{\"cells\":{\"fill\":{\"color\":\"#EBF0F8\"},\"line\":{\"color\":\"white\"}},\"header\":{\"fill\":{\"color\":\"#C8D4E3\"},\"line\":{\"color\":\"white\"}},\"type\":\"table\"}]},\"layout\":{\"annotationdefaults\":{\"arrowcolor\":\"#2a3f5f\",\"arrowhead\":0,\"arrowwidth\":1},\"autotypenumbers\":\"strict\",\"coloraxis\":{\"colorbar\":{\"outlinewidth\":0,\"ticks\":\"\"}},\"colorscale\":{\"diverging\":[[0,\"#8e0152\"],[0.1,\"#c51b7d\"],[0.2,\"#de77ae\"],[0.3,\"#f1b6da\"],[0.4,\"#fde0ef\"],[0.5,\"#f7f7f7\"],[0.6,\"#e6f5d0\"],[0.7,\"#b8e186\"],[0.8,\"#7fbc41\"],[0.9,\"#4d9221\"],[1,\"#276419\"]],\"sequential\":[[0.0,\"#0d0887\"],[0.1111111111111111,\"#46039f\"],[0.2222222222222222,\"#7201a8\"],[0.3333333333333333,\"#9c179e\"],[0.4444444444444444,\"#bd3786\"],[0.5555555555555556,\"#d8576b\"],[0.6666666666666666,\"#ed7953\"],[0.7777777777777778,\"#fb9f3a\"],[0.8888888888888888,\"#fdca26\"],[1.0,\"#f0f921\"]],\"sequentialminus\":[[0.0,\"#0d0887\"],[0.1111111111111111,\"#46039f\"],[0.2222222222222222,\"#7201a8\"],[0.3333333333333333,\"#9c179e\"],[0.4444444444444444,\"#bd3786\"],[0.5555555555555556,\"#d8576b\"],[0.6666666666666666,\"#ed7953\"],[0.7777777777777778,\"#fb9f3a\"],[0.8888888888888888,\"#fdca26\"],[1.0,\"#f0f921\"]]},\"colorway\":[\"#636efa\",\"#EF553B\",\"#00cc96\",\"#ab63fa\",\"#FFA15A\",\"#19d3f3\",\"#FF6692\",\"#B6E880\",\"#FF97FF\",\"#FECB52\"],\"font\":{\"color\":\"#2a3f5f\"},\"geo\":{\"bgcolor\":\"white\",\"lakecolor\":\"white\",\"landcolor\":\"white\",\"showlakes\":true,\"showland\":true,\"subunitcolor\":\"#C8D4E3\"},\"hoverlabel\":{\"align\":\"left\"},\"hovermode\":\"closest\",\"mapbox\":{\"style\":\"light\"},\"paper_bgcolor\":\"white\",\"plot_bgcolor\":\"white\",\"polar\":{\"angularaxis\":{\"gridcolor\":\"#EBF0F8\",\"linecolor\":\"#EBF0F8\",\"ticks\":\"\"},\"bgcolor\":\"white\",\"radialaxis\":{\"gridcolor\":\"#EBF0F8\",\"linecolor\":\"#EBF0F8\",\"ticks\":\"\"}},\"scene\":{\"xaxis\":{\"backgroundcolor\":\"white\",\"gridcolor\":\"#DFE8F3\",\"gridwidth\":2,\"linecolor\":\"#EBF0F8\",\"showbackground\":true,\"ticks\":\"\",\"zerolinecolor\":\"#EBF0F8\"},\"yaxis\":{\"backgroundcolor\":\"white\",\"gridcolor\":\"#DFE8F3\",\"gridwidth\":2,\"linecolor\":\"#EBF0F8\",\"showbackground\":true,\"ticks\":\"\",\"zerolinecolor\":\"#EBF0F8\"},\"zaxis\":{\"backgroundcolor\":\"white\",\"gridcolor\":\"#DFE8F3\",\"gridwidth\":2,\"linecolor\":\"#EBF0F8\",\"showbackground\":true,\"ticks\":\"\",\"zerolinecolor\":\"#EBF0F8\"}},\"shapedefaults\":{\"line\":{\"color\":\"#2a3f5f\"}},\"ternary\":{\"aaxis\":{\"gridcolor\":\"#DFE8F3\",\"linecolor\":\"#A2B1C6\",\"ticks\":\"\"},\"baxis\":{\"gridcolor\":\"#DFE8F3\",\"linecolor\":\"#A2B1C6\",\"ticks\":\"\"},\"bgcolor\":\"white\",\"caxis\":{\"gridcolor\":\"#DFE8F3\",\"linecolor\":\"#A2B1C6\",\"ticks\":\"\"}},\"title\":{\"x\":0.05},\"xaxis\":{\"automargin\":true,\"gridcolor\":\"#EBF0F8\",\"linecolor\":\"#EBF0F8\",\"ticks\":\"\",\"title\":{\"standoff\":15},\"zerolinecolor\":\"#EBF0F8\",\"zerolinewidth\":2},\"yaxis\":{\"automargin\":true,\"gridcolor\":\"#EBF0F8\",\"linecolor\":\"#EBF0F8\",\"ticks\":\"\",\"title\":{\"standoff\":15},\"zerolinecolor\":\"#EBF0F8\",\"zerolinewidth\":2}}},\"yaxis\":{\"minor\":{\"showgrid\":true,\"griddash\":\"dash\",\"gridcolor\":\"gray\",\"gridwidth\":0.5,\"dtick\":0.05},\"showline\":true,\"linecolor\":\"black\",\"linewidth\":1,\"showgrid\":true,\"gridcolor\":\"gray\",\"gridwidth\":1,\"dtick\":0.1,\"range\":[0,1.2],\"title\":{\"text\":\"Mean Value\"}},\"xaxis\":{\"showline\":true,\"linecolor\":\"#000000\",\"linewidth\":1},\"title\":{\"font\":{\"size\":20,\"weight\":1000},\"text\":\"Performance Comparison of All Reaction Prediction Methods\",\"x\":0.5,\"y\":0.05,\"xanchor\":\"center\"},\"legend\":{\"orientation\":\"h\",\"yanchor\":\"bottom\",\"y\":0.99,\"xanchor\":\"center\",\"x\":0.5,\"tracegroupgap\":2,\"borderwidth\":1},\"width\":1600,\"height\":600,\"barmode\":\"group\",\"bargap\":0.29},                        {\"responsive\": true}                    ).then(function(){\n",
       "                            \n",
       "var gd = document.getElementById('3dde366c-55d9-4386-be11-1be10dd1132b');\n",
       "var x = new MutationObserver(function (mutations, observer) {{\n",
       "        var display = window.getComputedStyle(gd).display;\n",
       "        if (!display || display === 'none') {{\n",
       "            console.log([gd, 'removed!']);\n",
       "            Plotly.purge(gd);\n",
       "            observer.disconnect();\n",
       "        }}\n",
       "}});\n",
       "\n",
       "// Listen for the removal of the full notebook cells\n",
       "var notebookContainer = gd.closest('#notebook-container');\n",
       "if (notebookContainer) {{\n",
       "    x.observe(notebookContainer, {childList: true});\n",
       "}}\n",
       "\n",
       "// Listen for the clearing of the current output cell\n",
       "var outputEl = gd.closest('.output');\n",
       "if (outputEl) {{\n",
       "    x.observe(outputEl, {childList: true});\n",
       "}}\n",
       "\n",
       "                        })                };                });            </script>        </div>"
      ]
     },
     "metadata": {},
     "output_type": "display_data"
    }
   ],
   "source": [
    "evTools.show_ec_methods_10_eva_fig(res_metrics_data=res_std_all)"
   ]
  },
  {
   "cell_type": "code",
   "execution_count": 20,
   "metadata": {},
   "outputs": [
    {
     "data": {
      "text/html": [
       "<div>\n",
       "<style scoped>\n",
       "    .dataframe tbody tr th:only-of-type {\n",
       "        vertical-align: middle;\n",
       "    }\n",
       "\n",
       "    .dataframe tbody tr th {\n",
       "        vertical-align: top;\n",
       "    }\n",
       "\n",
       "    .dataframe thead th {\n",
       "        text-align: right;\n",
       "    }\n",
       "</style>\n",
       "<table border=\"1\" class=\"dataframe\">\n",
       "  <thead>\n",
       "    <tr style=\"text-align: right;\">\n",
       "      <th></th>\n",
       "      <th>baselineName</th>\n",
       "      <th>avgType</th>\n",
       "      <th>methodGroup</th>\n",
       "      <th>mAccuracy</th>\n",
       "      <th>mF1</th>\n",
       "      <th>mPrecision</th>\n",
       "      <th>mRecall</th>\n",
       "      <th>mF1_mean</th>\n",
       "    </tr>\n",
       "  </thead>\n",
       "  <tbody>\n",
       "    <tr>\n",
       "      <th>0</th>\n",
       "      <td>RXNRECer</td>\n",
       "      <td>micro</td>\n",
       "      <td>direct</td>\n",
       "      <td>0.9873 ± 0.0006</td>\n",
       "      <td>0.9847 ± 0.0010</td>\n",
       "      <td>0.9890 ± 0.0009</td>\n",
       "      <td>0.9804 ± 0.0013</td>\n",
       "      <td>0.9847</td>\n",
       "    </tr>\n",
       "    <tr>\n",
       "      <th>1</th>\n",
       "      <td>blast_via_ec</td>\n",
       "      <td>micro</td>\n",
       "      <td>ec</td>\n",
       "      <td>0.8210 ± 0.0325</td>\n",
       "      <td>0.7828 ± 0.0271</td>\n",
       "      <td>0.8722 ± 0.0271</td>\n",
       "      <td>0.7739 ± 0.0309</td>\n",
       "      <td>0.7828</td>\n",
       "    </tr>\n",
       "    <tr>\n",
       "      <th>2</th>\n",
       "      <td>blast_via_rxn</td>\n",
       "      <td>micro</td>\n",
       "      <td>direct</td>\n",
       "      <td>0.8380 ± 0.0374</td>\n",
       "      <td>0.8292 ± 0.0809</td>\n",
       "      <td>0.8771 ± 0.1106</td>\n",
       "      <td>0.9589 ± 0.0142</td>\n",
       "      <td>0.8292</td>\n",
       "    </tr>\n",
       "    <tr>\n",
       "      <th>3</th>\n",
       "      <td>catfam</td>\n",
       "      <td>micro</td>\n",
       "      <td>ec</td>\n",
       "      <td>0.7500 ± 0.0271</td>\n",
       "      <td>0.7406 ± 0.0344</td>\n",
       "      <td>0.7923 ± 0.0277</td>\n",
       "      <td>0.6956 ± 0.0418</td>\n",
       "      <td>0.7406</td>\n",
       "    </tr>\n",
       "    <tr>\n",
       "      <th>4</th>\n",
       "      <td>clean</td>\n",
       "      <td>micro</td>\n",
       "      <td>ec</td>\n",
       "      <td>0.3190 ± 0.0470</td>\n",
       "      <td>0.3511 ± 0.0525</td>\n",
       "      <td>0.3489 ± 0.0566</td>\n",
       "      <td>0.3538 ± 0.0496</td>\n",
       "      <td>0.3511</td>\n",
       "    </tr>\n",
       "    <tr>\n",
       "      <th>5</th>\n",
       "      <td>deepec</td>\n",
       "      <td>micro</td>\n",
       "      <td>ec</td>\n",
       "      <td>0.2910 ± 0.0412</td>\n",
       "      <td>0.3318 ± 0.0418</td>\n",
       "      <td>0.3544 ± 0.0454</td>\n",
       "      <td>0.3120 ± 0.0393</td>\n",
       "      <td>0.3318</td>\n",
       "    </tr>\n",
       "    <tr>\n",
       "      <th>6</th>\n",
       "      <td>ecrecer</td>\n",
       "      <td>micro</td>\n",
       "      <td>ec</td>\n",
       "      <td>0.8330 ± 0.0271</td>\n",
       "      <td>0.8193 ± 0.0265</td>\n",
       "      <td>0.9129 ± 0.0200</td>\n",
       "      <td>0.7842 ± 0.0376</td>\n",
       "      <td>0.8193</td>\n",
       "    </tr>\n",
       "    <tr>\n",
       "      <th>7</th>\n",
       "      <td>esm_cosine</td>\n",
       "      <td>micro</td>\n",
       "      <td>direct</td>\n",
       "      <td>0.9369 ± 0.0016</td>\n",
       "      <td>0.9352 ± 0.0023</td>\n",
       "      <td>0.8941 ± 0.0039</td>\n",
       "      <td>0.9803 ± 0.0009</td>\n",
       "      <td>0.9352</td>\n",
       "    </tr>\n",
       "    <tr>\n",
       "      <th>8</th>\n",
       "      <td>esm_euclidean</td>\n",
       "      <td>micro</td>\n",
       "      <td>direct</td>\n",
       "      <td>0.9351 ± 0.0016</td>\n",
       "      <td>0.9325 ± 0.0022</td>\n",
       "      <td>0.8894 ± 0.0036</td>\n",
       "      <td>0.9799 ± 0.0009</td>\n",
       "      <td>0.9325</td>\n",
       "    </tr>\n",
       "    <tr>\n",
       "      <th>9</th>\n",
       "      <td>priam</td>\n",
       "      <td>micro</td>\n",
       "      <td>ec</td>\n",
       "      <td>0.0810 ± 0.0296</td>\n",
       "      <td>0.2371 ± 0.0354</td>\n",
       "      <td>0.1735 ± 0.0310</td>\n",
       "      <td>0.3795 ± 0.0544</td>\n",
       "      <td>0.2371</td>\n",
       "    </tr>\n",
       "    <tr>\n",
       "      <th>10</th>\n",
       "      <td>t5_cosine</td>\n",
       "      <td>micro</td>\n",
       "      <td>direct</td>\n",
       "      <td>0.9546 ± 0.0010</td>\n",
       "      <td>0.9493 ± 0.0020</td>\n",
       "      <td>0.9173 ± 0.0036</td>\n",
       "      <td>0.9836 ± 0.0005</td>\n",
       "      <td>0.9493</td>\n",
       "    </tr>\n",
       "    <tr>\n",
       "      <th>11</th>\n",
       "      <td>t5_euclidean</td>\n",
       "      <td>micro</td>\n",
       "      <td>direct</td>\n",
       "      <td>0.9541 ± 0.0010</td>\n",
       "      <td>0.9488 ± 0.0019</td>\n",
       "      <td>0.9165 ± 0.0035</td>\n",
       "      <td>0.9836 ± 0.0005</td>\n",
       "      <td>0.9488</td>\n",
       "    </tr>\n",
       "    <tr>\n",
       "      <th>12</th>\n",
       "      <td>unirep_cosine</td>\n",
       "      <td>micro</td>\n",
       "      <td>direct</td>\n",
       "      <td>0.8908 ± 0.0016</td>\n",
       "      <td>0.8898 ± 0.0023</td>\n",
       "      <td>0.8276 ± 0.0039</td>\n",
       "      <td>0.9622 ± 0.0010</td>\n",
       "      <td>0.8898</td>\n",
       "    </tr>\n",
       "    <tr>\n",
       "      <th>13</th>\n",
       "      <td>unirep_euclidean</td>\n",
       "      <td>micro</td>\n",
       "      <td>direct</td>\n",
       "      <td>0.8897 ± 0.0015</td>\n",
       "      <td>0.8887 ± 0.0021</td>\n",
       "      <td>0.8260 ± 0.0036</td>\n",
       "      <td>0.9618 ± 0.0010</td>\n",
       "      <td>0.8887</td>\n",
       "    </tr>\n",
       "  </tbody>\n",
       "</table>\n",
       "</div>"
      ],
      "text/plain": [
       "        baselineName avgType methodGroup        mAccuracy              mF1  \\\n",
       "0           RXNRECer   micro      direct  0.9873 ± 0.0006  0.9847 ± 0.0010   \n",
       "1       blast_via_ec   micro          ec  0.8210 ± 0.0325  0.7828 ± 0.0271   \n",
       "2      blast_via_rxn   micro      direct  0.8380 ± 0.0374  0.8292 ± 0.0809   \n",
       "3             catfam   micro          ec  0.7500 ± 0.0271  0.7406 ± 0.0344   \n",
       "4              clean   micro          ec  0.3190 ± 0.0470  0.3511 ± 0.0525   \n",
       "5             deepec   micro          ec  0.2910 ± 0.0412  0.3318 ± 0.0418   \n",
       "6            ecrecer   micro          ec  0.8330 ± 0.0271  0.8193 ± 0.0265   \n",
       "7         esm_cosine   micro      direct  0.9369 ± 0.0016  0.9352 ± 0.0023   \n",
       "8      esm_euclidean   micro      direct  0.9351 ± 0.0016  0.9325 ± 0.0022   \n",
       "9              priam   micro          ec  0.0810 ± 0.0296  0.2371 ± 0.0354   \n",
       "10         t5_cosine   micro      direct  0.9546 ± 0.0010  0.9493 ± 0.0020   \n",
       "11      t5_euclidean   micro      direct  0.9541 ± 0.0010  0.9488 ± 0.0019   \n",
       "12     unirep_cosine   micro      direct  0.8908 ± 0.0016  0.8898 ± 0.0023   \n",
       "13  unirep_euclidean   micro      direct  0.8897 ± 0.0015  0.8887 ± 0.0021   \n",
       "\n",
       "         mPrecision          mRecall  mF1_mean  \n",
       "0   0.9890 ± 0.0009  0.9804 ± 0.0013    0.9847  \n",
       "1   0.8722 ± 0.0271  0.7739 ± 0.0309    0.7828  \n",
       "2   0.8771 ± 0.1106  0.9589 ± 0.0142    0.8292  \n",
       "3   0.7923 ± 0.0277  0.6956 ± 0.0418    0.7406  \n",
       "4   0.3489 ± 0.0566  0.3538 ± 0.0496    0.3511  \n",
       "5   0.3544 ± 0.0454  0.3120 ± 0.0393    0.3318  \n",
       "6   0.9129 ± 0.0200  0.7842 ± 0.0376    0.8193  \n",
       "7   0.8941 ± 0.0039  0.9803 ± 0.0009    0.9352  \n",
       "8   0.8894 ± 0.0036  0.9799 ± 0.0009    0.9325  \n",
       "9   0.1735 ± 0.0310  0.3795 ± 0.0544    0.2371  \n",
       "10  0.9173 ± 0.0036  0.9836 ± 0.0005    0.9493  \n",
       "11  0.9165 ± 0.0035  0.9836 ± 0.0005    0.9488  \n",
       "12  0.8276 ± 0.0039  0.9622 ± 0.0010    0.8898  \n",
       "13  0.8260 ± 0.0036  0.9618 ± 0.0010    0.8887  "
      ]
     },
     "execution_count": 20,
     "metadata": {},
     "output_type": "execute_result"
    }
   ],
   "source": [
    "# 将均值和方差格式化为保留 4 位小数的 \"mean ± std\" 格式\n",
    "res_std_all[\"mean ± std\"] = res_std_all[\"mean\"].apply(lambda x: f\"{x:.4f}\") + \" ± \" + res_std_all[\"std\"].apply(lambda x: f\"{x:.4f}\")\n",
    "\n",
    "# 横向展开\n",
    "pivot_df = res_std_all.pivot(index=[\"baselineName\", \"avgType\", \"methodGroup\"], columns=\"Metric\", values=\"mean ± std\")\n",
    "\n",
    "# 展平多级列索引\n",
    "pivot_df.columns.name = None\n",
    "pivot_df.reset_index(inplace=True)\n",
    "\n",
    "\n",
    "# 进行排序：按照 mF1 列的均值部分从大到小排序\n",
    "pivot_df[\"mF1_mean\"] = pivot_df[\"mF1\"].apply(lambda x: float(x.split(\" ± \")[0]))  # 提取均值进行排序\n",
    "sorted_df = pivot_df.sort_values(by=\"mF1_mean\", ascending=False).drop(columns=[\"mF1_mean\"])  # 排序后删除临时列\n",
    "sorted_df = sorted_df.reset_index(drop=True)  # 重置索引\n",
    "sorted_df\n",
    "\n",
    "pivot_df\n"
   ]
  },
  {
   "cell_type": "code",
   "execution_count": 14,
   "metadata": {},
   "outputs": [
    {
     "data": {
      "text/html": [
       "<div>\n",
       "<style scoped>\n",
       "    .dataframe tbody tr th:only-of-type {\n",
       "        vertical-align: middle;\n",
       "    }\n",
       "\n",
       "    .dataframe tbody tr th {\n",
       "        vertical-align: top;\n",
       "    }\n",
       "\n",
       "    .dataframe thead th {\n",
       "        text-align: right;\n",
       "    }\n",
       "</style>\n",
       "<table border=\"1\" class=\"dataframe\">\n",
       "  <thead>\n",
       "    <tr style=\"text-align: right;\">\n",
       "      <th></th>\n",
       "      <th>baselineName</th>\n",
       "      <th>avgType</th>\n",
       "      <th>Metric</th>\n",
       "      <th>mean</th>\n",
       "      <th>std</th>\n",
       "      <th>methodGroup</th>\n",
       "      <th>mean ± std</th>\n",
       "    </tr>\n",
       "  </thead>\n",
       "  <tbody>\n",
       "    <tr>\n",
       "      <th>0</th>\n",
       "      <td>blast_via_ec</td>\n",
       "      <td>micro</td>\n",
       "      <td>mAccuracy</td>\n",
       "      <td>0.821000</td>\n",
       "      <td>0.032472</td>\n",
       "      <td>ec</td>\n",
       "      <td>0.8210 ± 0.0325</td>\n",
       "    </tr>\n",
       "    <tr>\n",
       "      <th>1</th>\n",
       "      <td>blast_via_ec</td>\n",
       "      <td>micro</td>\n",
       "      <td>mF1</td>\n",
       "      <td>0.782796</td>\n",
       "      <td>0.027147</td>\n",
       "      <td>ec</td>\n",
       "      <td>0.7828 ± 0.0271</td>\n",
       "    </tr>\n",
       "    <tr>\n",
       "      <th>2</th>\n",
       "      <td>blast_via_ec</td>\n",
       "      <td>micro</td>\n",
       "      <td>mPrecision</td>\n",
       "      <td>0.872163</td>\n",
       "      <td>0.027083</td>\n",
       "      <td>ec</td>\n",
       "      <td>0.8722 ± 0.0271</td>\n",
       "    </tr>\n",
       "    <tr>\n",
       "      <th>3</th>\n",
       "      <td>blast_via_ec</td>\n",
       "      <td>micro</td>\n",
       "      <td>mRecall</td>\n",
       "      <td>0.773923</td>\n",
       "      <td>0.030874</td>\n",
       "      <td>ec</td>\n",
       "      <td>0.7739 ± 0.0309</td>\n",
       "    </tr>\n",
       "    <tr>\n",
       "      <th>4</th>\n",
       "      <td>deepec</td>\n",
       "      <td>micro</td>\n",
       "      <td>mAccuracy</td>\n",
       "      <td>0.291000</td>\n",
       "      <td>0.041218</td>\n",
       "      <td>ec</td>\n",
       "      <td>0.2910 ± 0.0412</td>\n",
       "    </tr>\n",
       "    <tr>\n",
       "      <th>5</th>\n",
       "      <td>deepec</td>\n",
       "      <td>micro</td>\n",
       "      <td>mF1</td>\n",
       "      <td>0.331823</td>\n",
       "      <td>0.041839</td>\n",
       "      <td>ec</td>\n",
       "      <td>0.3318 ± 0.0418</td>\n",
       "    </tr>\n",
       "    <tr>\n",
       "      <th>6</th>\n",
       "      <td>deepec</td>\n",
       "      <td>micro</td>\n",
       "      <td>mPrecision</td>\n",
       "      <td>0.354447</td>\n",
       "      <td>0.045388</td>\n",
       "      <td>ec</td>\n",
       "      <td>0.3544 ± 0.0454</td>\n",
       "    </tr>\n",
       "    <tr>\n",
       "      <th>7</th>\n",
       "      <td>deepec</td>\n",
       "      <td>micro</td>\n",
       "      <td>mRecall</td>\n",
       "      <td>0.312022</td>\n",
       "      <td>0.039251</td>\n",
       "      <td>ec</td>\n",
       "      <td>0.3120 ± 0.0393</td>\n",
       "    </tr>\n",
       "    <tr>\n",
       "      <th>8</th>\n",
       "      <td>clean</td>\n",
       "      <td>micro</td>\n",
       "      <td>mAccuracy</td>\n",
       "      <td>0.319000</td>\n",
       "      <td>0.047011</td>\n",
       "      <td>ec</td>\n",
       "      <td>0.3190 ± 0.0470</td>\n",
       "    </tr>\n",
       "    <tr>\n",
       "      <th>9</th>\n",
       "      <td>clean</td>\n",
       "      <td>micro</td>\n",
       "      <td>mF1</td>\n",
       "      <td>0.351079</td>\n",
       "      <td>0.052498</td>\n",
       "      <td>ec</td>\n",
       "      <td>0.3511 ± 0.0525</td>\n",
       "    </tr>\n",
       "    <tr>\n",
       "      <th>10</th>\n",
       "      <td>clean</td>\n",
       "      <td>micro</td>\n",
       "      <td>mPrecision</td>\n",
       "      <td>0.348917</td>\n",
       "      <td>0.056584</td>\n",
       "      <td>ec</td>\n",
       "      <td>0.3489 ± 0.0566</td>\n",
       "    </tr>\n",
       "    <tr>\n",
       "      <th>11</th>\n",
       "      <td>clean</td>\n",
       "      <td>micro</td>\n",
       "      <td>mRecall</td>\n",
       "      <td>0.353771</td>\n",
       "      <td>0.049640</td>\n",
       "      <td>ec</td>\n",
       "      <td>0.3538 ± 0.0496</td>\n",
       "    </tr>\n",
       "    <tr>\n",
       "      <th>12</th>\n",
       "      <td>ecrecer</td>\n",
       "      <td>micro</td>\n",
       "      <td>mAccuracy</td>\n",
       "      <td>0.833000</td>\n",
       "      <td>0.027101</td>\n",
       "      <td>ec</td>\n",
       "      <td>0.8330 ± 0.0271</td>\n",
       "    </tr>\n",
       "    <tr>\n",
       "      <th>13</th>\n",
       "      <td>ecrecer</td>\n",
       "      <td>micro</td>\n",
       "      <td>mF1</td>\n",
       "      <td>0.819316</td>\n",
       "      <td>0.026463</td>\n",
       "      <td>ec</td>\n",
       "      <td>0.8193 ± 0.0265</td>\n",
       "    </tr>\n",
       "    <tr>\n",
       "      <th>14</th>\n",
       "      <td>ecrecer</td>\n",
       "      <td>micro</td>\n",
       "      <td>mPrecision</td>\n",
       "      <td>0.912919</td>\n",
       "      <td>0.019998</td>\n",
       "      <td>ec</td>\n",
       "      <td>0.9129 ± 0.0200</td>\n",
       "    </tr>\n",
       "    <tr>\n",
       "      <th>15</th>\n",
       "      <td>ecrecer</td>\n",
       "      <td>micro</td>\n",
       "      <td>mRecall</td>\n",
       "      <td>0.784183</td>\n",
       "      <td>0.037599</td>\n",
       "      <td>ec</td>\n",
       "      <td>0.7842 ± 0.0376</td>\n",
       "    </tr>\n",
       "    <tr>\n",
       "      <th>16</th>\n",
       "      <td>catfam</td>\n",
       "      <td>micro</td>\n",
       "      <td>mAccuracy</td>\n",
       "      <td>0.750000</td>\n",
       "      <td>0.027080</td>\n",
       "      <td>ec</td>\n",
       "      <td>0.7500 ± 0.0271</td>\n",
       "    </tr>\n",
       "    <tr>\n",
       "      <th>17</th>\n",
       "      <td>catfam</td>\n",
       "      <td>micro</td>\n",
       "      <td>mF1</td>\n",
       "      <td>0.740563</td>\n",
       "      <td>0.034388</td>\n",
       "      <td>ec</td>\n",
       "      <td>0.7406 ± 0.0344</td>\n",
       "    </tr>\n",
       "    <tr>\n",
       "      <th>18</th>\n",
       "      <td>catfam</td>\n",
       "      <td>micro</td>\n",
       "      <td>mPrecision</td>\n",
       "      <td>0.792265</td>\n",
       "      <td>0.027731</td>\n",
       "      <td>ec</td>\n",
       "      <td>0.7923 ± 0.0277</td>\n",
       "    </tr>\n",
       "    <tr>\n",
       "      <th>19</th>\n",
       "      <td>catfam</td>\n",
       "      <td>micro</td>\n",
       "      <td>mRecall</td>\n",
       "      <td>0.695594</td>\n",
       "      <td>0.041817</td>\n",
       "      <td>ec</td>\n",
       "      <td>0.6956 ± 0.0418</td>\n",
       "    </tr>\n",
       "    <tr>\n",
       "      <th>20</th>\n",
       "      <td>priam</td>\n",
       "      <td>micro</td>\n",
       "      <td>mAccuracy</td>\n",
       "      <td>0.081000</td>\n",
       "      <td>0.029609</td>\n",
       "      <td>ec</td>\n",
       "      <td>0.0810 ± 0.0296</td>\n",
       "    </tr>\n",
       "    <tr>\n",
       "      <th>21</th>\n",
       "      <td>priam</td>\n",
       "      <td>micro</td>\n",
       "      <td>mF1</td>\n",
       "      <td>0.237074</td>\n",
       "      <td>0.035394</td>\n",
       "      <td>ec</td>\n",
       "      <td>0.2371 ± 0.0354</td>\n",
       "    </tr>\n",
       "    <tr>\n",
       "      <th>22</th>\n",
       "      <td>priam</td>\n",
       "      <td>micro</td>\n",
       "      <td>mPrecision</td>\n",
       "      <td>0.173529</td>\n",
       "      <td>0.031032</td>\n",
       "      <td>ec</td>\n",
       "      <td>0.1735 ± 0.0310</td>\n",
       "    </tr>\n",
       "    <tr>\n",
       "      <th>23</th>\n",
       "      <td>priam</td>\n",
       "      <td>micro</td>\n",
       "      <td>mRecall</td>\n",
       "      <td>0.379523</td>\n",
       "      <td>0.054394</td>\n",
       "      <td>ec</td>\n",
       "      <td>0.3795 ± 0.0544</td>\n",
       "    </tr>\n",
       "    <tr>\n",
       "      <th>24</th>\n",
       "      <td>blast_via_rxn</td>\n",
       "      <td>micro</td>\n",
       "      <td>mAccuracy</td>\n",
       "      <td>0.838000</td>\n",
       "      <td>0.037357</td>\n",
       "      <td>direct</td>\n",
       "      <td>0.8380 ± 0.0374</td>\n",
       "    </tr>\n",
       "    <tr>\n",
       "      <th>25</th>\n",
       "      <td>blast_via_rxn</td>\n",
       "      <td>micro</td>\n",
       "      <td>mF1</td>\n",
       "      <td>0.829212</td>\n",
       "      <td>0.080942</td>\n",
       "      <td>direct</td>\n",
       "      <td>0.8292 ± 0.0809</td>\n",
       "    </tr>\n",
       "    <tr>\n",
       "      <th>26</th>\n",
       "      <td>blast_via_rxn</td>\n",
       "      <td>micro</td>\n",
       "      <td>mPrecision</td>\n",
       "      <td>0.877126</td>\n",
       "      <td>0.110561</td>\n",
       "      <td>direct</td>\n",
       "      <td>0.8771 ± 0.1106</td>\n",
       "    </tr>\n",
       "    <tr>\n",
       "      <th>27</th>\n",
       "      <td>blast_via_rxn</td>\n",
       "      <td>micro</td>\n",
       "      <td>mRecall</td>\n",
       "      <td>0.958911</td>\n",
       "      <td>0.014166</td>\n",
       "      <td>direct</td>\n",
       "      <td>0.9589 ± 0.0142</td>\n",
       "    </tr>\n",
       "    <tr>\n",
       "      <th>28</th>\n",
       "      <td>unirep_euclidean</td>\n",
       "      <td>micro</td>\n",
       "      <td>mAccuracy</td>\n",
       "      <td>0.889701</td>\n",
       "      <td>0.001506</td>\n",
       "      <td>direct</td>\n",
       "      <td>0.8897 ± 0.0015</td>\n",
       "    </tr>\n",
       "    <tr>\n",
       "      <th>29</th>\n",
       "      <td>unirep_euclidean</td>\n",
       "      <td>micro</td>\n",
       "      <td>mF1</td>\n",
       "      <td>0.888701</td>\n",
       "      <td>0.002087</td>\n",
       "      <td>direct</td>\n",
       "      <td>0.8887 ± 0.0021</td>\n",
       "    </tr>\n",
       "    <tr>\n",
       "      <th>30</th>\n",
       "      <td>unirep_euclidean</td>\n",
       "      <td>micro</td>\n",
       "      <td>mPrecision</td>\n",
       "      <td>0.825950</td>\n",
       "      <td>0.003642</td>\n",
       "      <td>direct</td>\n",
       "      <td>0.8260 ± 0.0036</td>\n",
       "    </tr>\n",
       "    <tr>\n",
       "      <th>31</th>\n",
       "      <td>unirep_euclidean</td>\n",
       "      <td>micro</td>\n",
       "      <td>mRecall</td>\n",
       "      <td>0.961781</td>\n",
       "      <td>0.001047</td>\n",
       "      <td>direct</td>\n",
       "      <td>0.9618 ± 0.0010</td>\n",
       "    </tr>\n",
       "    <tr>\n",
       "      <th>32</th>\n",
       "      <td>unirep_cosine</td>\n",
       "      <td>micro</td>\n",
       "      <td>mAccuracy</td>\n",
       "      <td>0.890761</td>\n",
       "      <td>0.001590</td>\n",
       "      <td>direct</td>\n",
       "      <td>0.8908 ± 0.0016</td>\n",
       "    </tr>\n",
       "    <tr>\n",
       "      <th>33</th>\n",
       "      <td>unirep_cosine</td>\n",
       "      <td>micro</td>\n",
       "      <td>mF1</td>\n",
       "      <td>0.889820</td>\n",
       "      <td>0.002254</td>\n",
       "      <td>direct</td>\n",
       "      <td>0.8898 ± 0.0023</td>\n",
       "    </tr>\n",
       "    <tr>\n",
       "      <th>34</th>\n",
       "      <td>unirep_cosine</td>\n",
       "      <td>micro</td>\n",
       "      <td>mPrecision</td>\n",
       "      <td>0.827592</td>\n",
       "      <td>0.003860</td>\n",
       "      <td>direct</td>\n",
       "      <td>0.8276 ± 0.0039</td>\n",
       "    </tr>\n",
       "    <tr>\n",
       "      <th>35</th>\n",
       "      <td>unirep_cosine</td>\n",
       "      <td>micro</td>\n",
       "      <td>mRecall</td>\n",
       "      <td>0.962178</td>\n",
       "      <td>0.001040</td>\n",
       "      <td>direct</td>\n",
       "      <td>0.9622 ± 0.0010</td>\n",
       "    </tr>\n",
       "    <tr>\n",
       "      <th>36</th>\n",
       "      <td>esm_euclidean</td>\n",
       "      <td>micro</td>\n",
       "      <td>mAccuracy</td>\n",
       "      <td>0.935121</td>\n",
       "      <td>0.001567</td>\n",
       "      <td>direct</td>\n",
       "      <td>0.9351 ± 0.0016</td>\n",
       "    </tr>\n",
       "    <tr>\n",
       "      <th>37</th>\n",
       "      <td>esm_euclidean</td>\n",
       "      <td>micro</td>\n",
       "      <td>mF1</td>\n",
       "      <td>0.932460</td>\n",
       "      <td>0.002193</td>\n",
       "      <td>direct</td>\n",
       "      <td>0.9325 ± 0.0022</td>\n",
       "    </tr>\n",
       "    <tr>\n",
       "      <th>38</th>\n",
       "      <td>esm_euclidean</td>\n",
       "      <td>micro</td>\n",
       "      <td>mPrecision</td>\n",
       "      <td>0.889380</td>\n",
       "      <td>0.003587</td>\n",
       "      <td>direct</td>\n",
       "      <td>0.8894 ± 0.0036</td>\n",
       "    </tr>\n",
       "    <tr>\n",
       "      <th>39</th>\n",
       "      <td>esm_euclidean</td>\n",
       "      <td>micro</td>\n",
       "      <td>mRecall</td>\n",
       "      <td>0.979933</td>\n",
       "      <td>0.000912</td>\n",
       "      <td>direct</td>\n",
       "      <td>0.9799 ± 0.0009</td>\n",
       "    </tr>\n",
       "    <tr>\n",
       "      <th>40</th>\n",
       "      <td>esm_cosine</td>\n",
       "      <td>micro</td>\n",
       "      <td>mAccuracy</td>\n",
       "      <td>0.936950</td>\n",
       "      <td>0.001635</td>\n",
       "      <td>direct</td>\n",
       "      <td>0.9369 ± 0.0016</td>\n",
       "    </tr>\n",
       "    <tr>\n",
       "      <th>41</th>\n",
       "      <td>esm_cosine</td>\n",
       "      <td>micro</td>\n",
       "      <td>mF1</td>\n",
       "      <td>0.935216</td>\n",
       "      <td>0.002274</td>\n",
       "      <td>direct</td>\n",
       "      <td>0.9352 ± 0.0023</td>\n",
       "    </tr>\n",
       "    <tr>\n",
       "      <th>42</th>\n",
       "      <td>esm_cosine</td>\n",
       "      <td>micro</td>\n",
       "      <td>mPrecision</td>\n",
       "      <td>0.894122</td>\n",
       "      <td>0.003874</td>\n",
       "      <td>direct</td>\n",
       "      <td>0.8941 ± 0.0039</td>\n",
       "    </tr>\n",
       "    <tr>\n",
       "      <th>43</th>\n",
       "      <td>esm_cosine</td>\n",
       "      <td>micro</td>\n",
       "      <td>mRecall</td>\n",
       "      <td>0.980278</td>\n",
       "      <td>0.000878</td>\n",
       "      <td>direct</td>\n",
       "      <td>0.9803 ± 0.0009</td>\n",
       "    </tr>\n",
       "    <tr>\n",
       "      <th>44</th>\n",
       "      <td>t5_euclidean</td>\n",
       "      <td>micro</td>\n",
       "      <td>mAccuracy</td>\n",
       "      <td>0.954092</td>\n",
       "      <td>0.000976</td>\n",
       "      <td>direct</td>\n",
       "      <td>0.9541 ± 0.0010</td>\n",
       "    </tr>\n",
       "    <tr>\n",
       "      <th>45</th>\n",
       "      <td>t5_euclidean</td>\n",
       "      <td>micro</td>\n",
       "      <td>mF1</td>\n",
       "      <td>0.948838</td>\n",
       "      <td>0.001863</td>\n",
       "      <td>direct</td>\n",
       "      <td>0.9488 ± 0.0019</td>\n",
       "    </tr>\n",
       "    <tr>\n",
       "      <th>46</th>\n",
       "      <td>t5_euclidean</td>\n",
       "      <td>micro</td>\n",
       "      <td>mPrecision</td>\n",
       "      <td>0.916466</td>\n",
       "      <td>0.003473</td>\n",
       "      <td>direct</td>\n",
       "      <td>0.9165 ± 0.0035</td>\n",
       "    </tr>\n",
       "    <tr>\n",
       "      <th>47</th>\n",
       "      <td>t5_euclidean</td>\n",
       "      <td>micro</td>\n",
       "      <td>mRecall</td>\n",
       "      <td>0.983587</td>\n",
       "      <td>0.000479</td>\n",
       "      <td>direct</td>\n",
       "      <td>0.9836 ± 0.0005</td>\n",
       "    </tr>\n",
       "    <tr>\n",
       "      <th>48</th>\n",
       "      <td>t5_cosine</td>\n",
       "      <td>micro</td>\n",
       "      <td>mAccuracy</td>\n",
       "      <td>0.954644</td>\n",
       "      <td>0.001037</td>\n",
       "      <td>direct</td>\n",
       "      <td>0.9546 ± 0.0010</td>\n",
       "    </tr>\n",
       "    <tr>\n",
       "      <th>49</th>\n",
       "      <td>t5_cosine</td>\n",
       "      <td>micro</td>\n",
       "      <td>mF1</td>\n",
       "      <td>0.949295</td>\n",
       "      <td>0.001970</td>\n",
       "      <td>direct</td>\n",
       "      <td>0.9493 ± 0.0020</td>\n",
       "    </tr>\n",
       "    <tr>\n",
       "      <th>50</th>\n",
       "      <td>t5_cosine</td>\n",
       "      <td>micro</td>\n",
       "      <td>mPrecision</td>\n",
       "      <td>0.917300</td>\n",
       "      <td>0.003636</td>\n",
       "      <td>direct</td>\n",
       "      <td>0.9173 ± 0.0036</td>\n",
       "    </tr>\n",
       "    <tr>\n",
       "      <th>51</th>\n",
       "      <td>t5_cosine</td>\n",
       "      <td>micro</td>\n",
       "      <td>mRecall</td>\n",
       "      <td>0.983610</td>\n",
       "      <td>0.000481</td>\n",
       "      <td>direct</td>\n",
       "      <td>0.9836 ± 0.0005</td>\n",
       "    </tr>\n",
       "    <tr>\n",
       "      <th>52</th>\n",
       "      <td>RXNRECer</td>\n",
       "      <td>micro</td>\n",
       "      <td>mAccuracy</td>\n",
       "      <td>0.987282</td>\n",
       "      <td>0.000576</td>\n",
       "      <td>direct</td>\n",
       "      <td>0.9873 ± 0.0006</td>\n",
       "    </tr>\n",
       "    <tr>\n",
       "      <th>53</th>\n",
       "      <td>RXNRECer</td>\n",
       "      <td>micro</td>\n",
       "      <td>mF1</td>\n",
       "      <td>0.984657</td>\n",
       "      <td>0.000957</td>\n",
       "      <td>direct</td>\n",
       "      <td>0.9847 ± 0.0010</td>\n",
       "    </tr>\n",
       "    <tr>\n",
       "      <th>54</th>\n",
       "      <td>RXNRECer</td>\n",
       "      <td>micro</td>\n",
       "      <td>mPrecision</td>\n",
       "      <td>0.988962</td>\n",
       "      <td>0.000877</td>\n",
       "      <td>direct</td>\n",
       "      <td>0.9890 ± 0.0009</td>\n",
       "    </tr>\n",
       "    <tr>\n",
       "      <th>55</th>\n",
       "      <td>RXNRECer</td>\n",
       "      <td>micro</td>\n",
       "      <td>mRecall</td>\n",
       "      <td>0.980389</td>\n",
       "      <td>0.001319</td>\n",
       "      <td>direct</td>\n",
       "      <td>0.9804 ± 0.0013</td>\n",
       "    </tr>\n",
       "  </tbody>\n",
       "</table>\n",
       "</div>"
      ],
      "text/plain": [
       "        baselineName avgType      Metric      mean       std methodGroup  \\\n",
       "0       blast_via_ec   micro   mAccuracy  0.821000  0.032472          ec   \n",
       "1       blast_via_ec   micro         mF1  0.782796  0.027147          ec   \n",
       "2       blast_via_ec   micro  mPrecision  0.872163  0.027083          ec   \n",
       "3       blast_via_ec   micro     mRecall  0.773923  0.030874          ec   \n",
       "4             deepec   micro   mAccuracy  0.291000  0.041218          ec   \n",
       "5             deepec   micro         mF1  0.331823  0.041839          ec   \n",
       "6             deepec   micro  mPrecision  0.354447  0.045388          ec   \n",
       "7             deepec   micro     mRecall  0.312022  0.039251          ec   \n",
       "8              clean   micro   mAccuracy  0.319000  0.047011          ec   \n",
       "9              clean   micro         mF1  0.351079  0.052498          ec   \n",
       "10             clean   micro  mPrecision  0.348917  0.056584          ec   \n",
       "11             clean   micro     mRecall  0.353771  0.049640          ec   \n",
       "12           ecrecer   micro   mAccuracy  0.833000  0.027101          ec   \n",
       "13           ecrecer   micro         mF1  0.819316  0.026463          ec   \n",
       "14           ecrecer   micro  mPrecision  0.912919  0.019998          ec   \n",
       "15           ecrecer   micro     mRecall  0.784183  0.037599          ec   \n",
       "16            catfam   micro   mAccuracy  0.750000  0.027080          ec   \n",
       "17            catfam   micro         mF1  0.740563  0.034388          ec   \n",
       "18            catfam   micro  mPrecision  0.792265  0.027731          ec   \n",
       "19            catfam   micro     mRecall  0.695594  0.041817          ec   \n",
       "20             priam   micro   mAccuracy  0.081000  0.029609          ec   \n",
       "21             priam   micro         mF1  0.237074  0.035394          ec   \n",
       "22             priam   micro  mPrecision  0.173529  0.031032          ec   \n",
       "23             priam   micro     mRecall  0.379523  0.054394          ec   \n",
       "24     blast_via_rxn   micro   mAccuracy  0.838000  0.037357      direct   \n",
       "25     blast_via_rxn   micro         mF1  0.829212  0.080942      direct   \n",
       "26     blast_via_rxn   micro  mPrecision  0.877126  0.110561      direct   \n",
       "27     blast_via_rxn   micro     mRecall  0.958911  0.014166      direct   \n",
       "28  unirep_euclidean   micro   mAccuracy  0.889701  0.001506      direct   \n",
       "29  unirep_euclidean   micro         mF1  0.888701  0.002087      direct   \n",
       "30  unirep_euclidean   micro  mPrecision  0.825950  0.003642      direct   \n",
       "31  unirep_euclidean   micro     mRecall  0.961781  0.001047      direct   \n",
       "32     unirep_cosine   micro   mAccuracy  0.890761  0.001590      direct   \n",
       "33     unirep_cosine   micro         mF1  0.889820  0.002254      direct   \n",
       "34     unirep_cosine   micro  mPrecision  0.827592  0.003860      direct   \n",
       "35     unirep_cosine   micro     mRecall  0.962178  0.001040      direct   \n",
       "36     esm_euclidean   micro   mAccuracy  0.935121  0.001567      direct   \n",
       "37     esm_euclidean   micro         mF1  0.932460  0.002193      direct   \n",
       "38     esm_euclidean   micro  mPrecision  0.889380  0.003587      direct   \n",
       "39     esm_euclidean   micro     mRecall  0.979933  0.000912      direct   \n",
       "40        esm_cosine   micro   mAccuracy  0.936950  0.001635      direct   \n",
       "41        esm_cosine   micro         mF1  0.935216  0.002274      direct   \n",
       "42        esm_cosine   micro  mPrecision  0.894122  0.003874      direct   \n",
       "43        esm_cosine   micro     mRecall  0.980278  0.000878      direct   \n",
       "44      t5_euclidean   micro   mAccuracy  0.954092  0.000976      direct   \n",
       "45      t5_euclidean   micro         mF1  0.948838  0.001863      direct   \n",
       "46      t5_euclidean   micro  mPrecision  0.916466  0.003473      direct   \n",
       "47      t5_euclidean   micro     mRecall  0.983587  0.000479      direct   \n",
       "48         t5_cosine   micro   mAccuracy  0.954644  0.001037      direct   \n",
       "49         t5_cosine   micro         mF1  0.949295  0.001970      direct   \n",
       "50         t5_cosine   micro  mPrecision  0.917300  0.003636      direct   \n",
       "51         t5_cosine   micro     mRecall  0.983610  0.000481      direct   \n",
       "52          RXNRECer   micro   mAccuracy  0.987282  0.000576      direct   \n",
       "53          RXNRECer   micro         mF1  0.984657  0.000957      direct   \n",
       "54          RXNRECer   micro  mPrecision  0.988962  0.000877      direct   \n",
       "55          RXNRECer   micro     mRecall  0.980389  0.001319      direct   \n",
       "\n",
       "         mean ± std  \n",
       "0   0.8210 ± 0.0325  \n",
       "1   0.7828 ± 0.0271  \n",
       "2   0.8722 ± 0.0271  \n",
       "3   0.7739 ± 0.0309  \n",
       "4   0.2910 ± 0.0412  \n",
       "5   0.3318 ± 0.0418  \n",
       "6   0.3544 ± 0.0454  \n",
       "7   0.3120 ± 0.0393  \n",
       "8   0.3190 ± 0.0470  \n",
       "9   0.3511 ± 0.0525  \n",
       "10  0.3489 ± 0.0566  \n",
       "11  0.3538 ± 0.0496  \n",
       "12  0.8330 ± 0.0271  \n",
       "13  0.8193 ± 0.0265  \n",
       "14  0.9129 ± 0.0200  \n",
       "15  0.7842 ± 0.0376  \n",
       "16  0.7500 ± 0.0271  \n",
       "17  0.7406 ± 0.0344  \n",
       "18  0.7923 ± 0.0277  \n",
       "19  0.6956 ± 0.0418  \n",
       "20  0.0810 ± 0.0296  \n",
       "21  0.2371 ± 0.0354  \n",
       "22  0.1735 ± 0.0310  \n",
       "23  0.3795 ± 0.0544  \n",
       "24  0.8380 ± 0.0374  \n",
       "25  0.8292 ± 0.0809  \n",
       "26  0.8771 ± 0.1106  \n",
       "27  0.9589 ± 0.0142  \n",
       "28  0.8897 ± 0.0015  \n",
       "29  0.8887 ± 0.0021  \n",
       "30  0.8260 ± 0.0036  \n",
       "31  0.9618 ± 0.0010  \n",
       "32  0.8908 ± 0.0016  \n",
       "33  0.8898 ± 0.0023  \n",
       "34  0.8276 ± 0.0039  \n",
       "35  0.9622 ± 0.0010  \n",
       "36  0.9351 ± 0.0016  \n",
       "37  0.9325 ± 0.0022  \n",
       "38  0.8894 ± 0.0036  \n",
       "39  0.9799 ± 0.0009  \n",
       "40  0.9369 ± 0.0016  \n",
       "41  0.9352 ± 0.0023  \n",
       "42  0.8941 ± 0.0039  \n",
       "43  0.9803 ± 0.0009  \n",
       "44  0.9541 ± 0.0010  \n",
       "45  0.9488 ± 0.0019  \n",
       "46  0.9165 ± 0.0035  \n",
       "47  0.9836 ± 0.0005  \n",
       "48  0.9546 ± 0.0010  \n",
       "49  0.9493 ± 0.0020  \n",
       "50  0.9173 ± 0.0036  \n",
       "51  0.9836 ± 0.0005  \n",
       "52  0.9873 ± 0.0006  \n",
       "53  0.9847 ± 0.0010  \n",
       "54  0.9890 ± 0.0009  \n",
       "55  0.9804 ± 0.0013  "
      ]
     },
     "execution_count": 14,
     "metadata": {},
     "output_type": "execute_result"
    }
   ],
   "source": [
    "res_std_all"
   ]
  },
  {
   "cell_type": "code",
   "execution_count": null,
   "metadata": {},
   "outputs": [],
   "source": []
  },
  {
   "cell_type": "code",
   "execution_count": null,
   "metadata": {},
   "outputs": [],
   "source": []
  },
  {
   "cell_type": "code",
   "execution_count": 4,
   "metadata": {},
   "outputs": [],
   "source": [
    "from rdchiral.main import rdchiralReactants, rdchiralReaction, rdchiralRun\n",
    "\n",
    "# 定义反应模板\n",
    "reaction_smarts = '[C:1]=[O:2]>>[C:1]-[O:2]'\n",
    "\n",
    "# 定义反应物的 SMILES\n",
    "reactant_smiles = 'C=O'  # 甲醛作为示例\n"
   ]
  },
  {
   "cell_type": "code",
   "execution_count": 5,
   "metadata": {},
   "outputs": [],
   "source": [
    "# 初始化反应模板\n",
    "reaction = rdchiralReaction(reaction_smarts)\n",
    "\n",
    "# 初始化反应物\n",
    "reactants = rdchiralReactants(reactant_smiles)\n"
   ]
  },
  {
   "cell_type": "code",
   "execution_count": 10,
   "metadata": {},
   "outputs": [],
   "source": [
    "from rdchiral.main import rdchiralReactants, rdchiralReaction, rdchiralRun\n",
    "\n",
    "# 定义反应模板\n",
    "reaction_smarts = '[C:1]=[O:2]>>[C:1]-[O:2]'\n",
    "\n",
    "# 定义反应物库（示例）\n",
    "reactant_library = [\n",
    "    'C=O',  # 甲醛\n",
    "    'CC=O',  # 乙醛\n",
    "    'CCC=O',  # 丙醛\n",
    "    'CC(C)=O',  # 丙酮\n",
    "    'CCCC=O'  # 丁醛\n",
    "]\n",
    "\n"
   ]
  },
  {
   "cell_type": "code",
   "execution_count": 13,
   "metadata": {},
   "outputs": [],
   "source": [
    "# 初始化反应模板\n",
    "reaction = rdchiralReaction(reaction_smarts)\n"
   ]
  },
  {
   "cell_type": "code",
   "execution_count": 15,
   "metadata": {},
   "outputs": [
    {
     "name": "stdout",
     "output_type": "stream",
     "text": [
      "C=O >> CO\n",
      "CC=O >> CCO\n",
      "CCC=O >> CCCO\n",
      "CC(C)=O >> CC(C)O\n",
      "CCCC=O >> CCCCO\n"
     ]
    }
   ],
   "source": [
    "# 遍历反应物库生成产物并记录反应方程式\n",
    "all_reactions = []  # 存储所有潜在反应\n",
    "\n",
    "for reactant_smiles in reactant_library:\n",
    "    # 将反应物转换为 RDChiral 格式\n",
    "    reactant_obj = rdchiralReactants(reactant_smiles)\n",
    "    \n",
    "    # 应用反应模板生成产物\n",
    "    products = rdchiralRun(reaction, reactant_obj)\n",
    "    \n",
    "    # 如果成功生成产物，记录反应\n",
    "    if products:\n",
    "        for product in products:  # 处理多个产物的情况\n",
    "            equation = f\"{reactant_smiles} >> {product}\"  # 化学方程式\n",
    "            all_reactions.append(equation)\n",
    "\n",
    "# 输出所有反应方程式\n",
    "for reaction_eq in all_reactions:\n",
    "    print(reaction_eq)\n"
   ]
  },
  {
   "cell_type": "code",
   "execution_count": 17,
   "metadata": {},
   "outputs": [
    {
     "name": "stdout",
     "output_type": "stream",
     "text": [
      "Product 1: O=CC[OH]CCO\n"
     ]
    }
   ],
   "source": [
    "from rdkit import Chem\n",
    "from rdkit.Chem import AllChem\n",
    "\n",
    "# 定义羟乙醛（glycolaldehyde）的 SMILES\n",
    "glycolaldehyde_smiles = 'O=CCO'\n",
    "\n",
    "# 构建羟醛缩合的反应 SMARTS 模板\n",
    "reaction_smarts = '[O:1]=[C:2]-[C:3][OH:4].[O:5]=[C:6]-[C:7][OH:8]>>[O:1]=[C:2]-[C:3][OH:4]-[C:6]-[C:7][OH:8]'\n",
    "\n",
    "# 初始化反应\n",
    "reaction = AllChem.ReactionFromSmarts(reaction_smarts)\n",
    "\n",
    "# 定义底物\n",
    "reactants = [Chem.MolFromSmiles(glycolaldehyde_smiles), Chem.MolFromSmiles(glycolaldehyde_smiles)]\n",
    "\n",
    "# 执行反应\n",
    "products = reaction.RunReactants(reactants)\n",
    "\n",
    "# 输出所有产物的 SMILES\n",
    "for i, product_set in enumerate(products):\n",
    "    for product in product_set:\n",
    "        print(f\"Product {i + 1}: {Chem.MolToSmiles(product)}\")\n"
   ]
  }
 ],
 "metadata": {
  "kernelspec": {
   "display_name": "Python 3",
   "language": "python",
   "name": "python3"
  },
  "language_info": {
   "codemirror_mode": {
    "name": "ipython",
    "version": 3
   },
   "file_extension": ".py",
   "mimetype": "text/x-python",
   "name": "python",
   "nbconvert_exporter": "python",
   "pygments_lexer": "ipython3",
   "version": "3.10.14"
  }
 },
 "nbformat": 4,
 "nbformat_minor": 2
}
