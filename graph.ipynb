{
 "cells": [
  {
   "cell_type": "code",
   "execution_count": 2,
   "id": "36ec8657",
   "metadata": {},
   "outputs": [
    {
     "data": {
      "application/vnd.plotly.v1+json": {
       "config": {
        "plotlyServerURL": "https://plot.ly"
       },
       "data": [
        {
         "hoverinfo": "none",
         "line": {
          "color": "gray",
          "width": 1
         },
         "mode": "lines",
         "type": "scattergl",
         "x": [
          0.010514981353124174,
          0.44998022883368854
         ],
         "y": [
          -0.05414400831973531,
          -0.04816034742172686
         ]
        },
        {
         "hoverinfo": "none",
         "line": {
          "color": "gray",
          "width": 1
         },
         "mode": "lines",
         "type": "scattergl",
         "x": [
          0.010514981353124174,
          -0.44170483184149384
         ],
         "y": [
          -0.05414400831973531,
          -0.061845350285824344
         ]
        },
        {
         "hoverinfo": "none",
         "line": {
          "color": "gray",
          "width": 1
         },
         "mode": "lines",
         "type": "scattergl",
         "x": [
          0.4695633800067669,
          0.31150904647016614
         ],
         "y": [
          0.3077007652162614,
          0.5816202708760725
         ]
        },
        {
         "hoverinfo": "none",
         "line": {
          "color": "gray",
          "width": 1
         },
         "mode": "lines",
         "type": "scattergl",
         "x": [
          0.4695633800067669,
          0.44998022883368854
         ],
         "y": [
          0.3077007652162614,
          -0.04816034742172686
         ]
        },
        {
         "hoverinfo": "none",
         "line": {
          "color": "gray",
          "width": 1
         },
         "mode": "lines",
         "type": "scattergl",
         "x": [
          -0.478857091172271,
          -0.1636476678133712
         ],
         "y": [
          -0.5210362603527311,
          -0.5697307502072272
         ]
        },
        {
         "hoverinfo": "none",
         "line": {
          "color": "gray",
          "width": 1
         },
         "mode": "lines",
         "type": "scattergl",
         "x": [
          -0.478857091172271,
          -0.7732840194737313
         ],
         "y": [
          -0.5210362603527311,
          -0.5242757980865146
         ]
        },
        {
         "hoverinfo": "none",
         "line": {
          "color": "gray",
          "width": 1
         },
         "mode": "lines",
         "type": "scattergl",
         "x": [
          -0.478857091172271,
          -0.44170483184149384
         ],
         "y": [
          -0.5210362603527311,
          -0.061845350285824344
         ]
        },
        {
         "hoverinfo": "none",
         "line": {
          "color": "gray",
          "width": 1
         },
         "mode": "lines",
         "type": "scattergl",
         "x": [
          -0.12608743603866104,
          -0.44170483184149384
         ],
         "y": [
          0.3594312718710493,
          -0.061845350285824344
         ]
        },
        {
         "hoverinfo": "none",
         "line": {
          "color": "gray",
          "width": 1
         },
         "mode": "lines",
         "type": "scattergl",
         "x": [
          -0.12608743603866104,
          0.31150904647016614
         ],
         "y": [
          0.3594312718710493,
          0.5816202708760725
         ]
        },
        {
         "hoverinfo": "none",
         "line": {
          "color": "gray",
          "width": 1
         },
         "mode": "lines",
         "type": "scattergl",
         "x": [
          0.8624678569853301,
          0.44998022883368854
         ],
         "y": [
          0.16617415787333,
          -0.04816034742172686
         ]
        },
        {
         "hoverinfo": "none",
         "line": {
          "color": "gray",
          "width": 1
         },
         "mode": "lines",
         "type": "scattergl",
         "x": [
          0.8624678569853301,
          1
         ],
         "y": [
          0.16617415787333,
          0.5182281216670838
         ]
        },
        {
         "hoverinfo": "none",
         "line": {
          "color": "gray",
          "width": 1
         },
         "mode": "lines",
         "type": "scattergl",
         "x": [
          -0.8271024981575643,
          -0.7732840194737313
         ],
         "y": [
          -0.2375891483190117,
          -0.5242757980865146
         ]
        },
        {
         "hoverinfo": "none",
         "line": {
          "color": "gray",
          "width": 1
         },
         "mode": "lines",
         "type": "scattergl",
         "x": [
          -0.8271024981575643,
          -0.44170483184149384
         ],
         "y": [
          -0.2375891483190117,
          -0.061845350285824344
         ]
        },
        {
         "hoverinfo": "none",
         "line": {
          "color": "gray",
          "width": 1
         },
         "mode": "lines",
         "type": "scattergl",
         "x": [
          0.24749720717977927,
          0.44998022883368854
         ],
         "y": [
          -0.43870157151464234,
          -0.04816034742172686
         ]
        },
        {
         "hoverinfo": "none",
         "line": {
          "color": "gray",
          "width": 1
         },
         "mode": "lines",
         "type": "scattergl",
         "x": [
          0.24749720717977927,
          -0.1636476678133712
         ],
         "y": [
          -0.43870157151464234,
          -0.5697307502072272
         ]
        },
        {
         "hoverinfo": "none",
         "line": {
          "color": "gray",
          "width": 1
         },
         "mode": "lines",
         "type": "scattergl",
         "x": [
          0.714242597960741,
          1
         ],
         "y": [
          0.7250051833416544,
          0.5182281216670838
         ]
        },
        {
         "hoverinfo": "none",
         "line": {
          "color": "gray",
          "width": 1
         },
         "mode": "lines",
         "type": "scattergl",
         "x": [
          0.714242597960741,
          0.31150904647016614
         ],
         "y": [
          0.7250051833416544,
          0.5816202708760725
         ]
        },
        {
         "hoverinfo": "none",
         "line": {
          "color": "gray",
          "width": 1
         },
         "mode": "lines",
         "type": "scattergl",
         "x": [
          -0.7646900703151296,
          -0.44170483184149384
         ],
         "y": [
          0.18635504596905583,
          -0.061845350285824344
         ]
        },
        {
         "hoverinfo": "none",
         "line": {
          "color": "gray",
          "width": 1
         },
         "mode": "lines",
         "type": "scattergl",
         "x": [
          -0.4904016839773729,
          -0.1636476678133712
         ],
         "y": [
          -0.38903158230709295,
          -0.5697307502072272
         ]
        },
        {
         "hoverinfo": "none",
         "line": {
          "color": "gray",
          "width": 1
         },
         "mode": "lines",
         "type": "scattergl",
         "x": [
          -0.4904016839773729,
          -0.7732840194737313
         ],
         "y": [
          -0.38903158230709295,
          -0.5242757980865146
         ]
        },
        {
         "hoverinfo": "none",
         "line": {
          "color": "gray",
          "width": 1
         },
         "mode": "lines",
         "type": "scattergl",
         "x": [
          -0.4904016839773729,
          -0.44170483184149384
         ],
         "y": [
          -0.38903158230709295,
          -0.061845350285824344
         ]
        },
        {
         "hoverinfo": "text",
         "marker": {
          "color": [
           "#636EFA",
           "#636EFA",
           "#636EFA",
           "#636EFA",
           "#636EFA",
           "#636EFA",
           "#636EFA",
           "#636EFA",
           "#636EFA",
           "#636EFA",
           "#FF9999",
           "#FF9999",
           "#FF9999",
           "#FF9999",
           "#FF9999",
           "#FF9999"
          ],
          "line": {
           "color": "white",
           "width": 2
          },
          "size": 25,
          "symbol": [
           "circle",
           "circle",
           "circle",
           "circle",
           "circle",
           "circle",
           "circle",
           "circle",
           "circle",
           "circle",
           "diamond",
           "diamond",
           "diamond",
           "diamond",
           "diamond",
           "diamond"
          ]
         },
         "mode": "markers+text",
         "text": [
          "花粉管生物学",
          "囊泡运输",
          "细菌分泌",
          "大豆生物学",
          "浮萍生物学",
          "AI与算法",
          "结构生物学",
          "基因组编辑",
          "人工囊泡",
          "高通量平台",
          "南开大学",
          "先进院",
          "华南师大",
          "湖北大学",
          "天工所",
          "深理工"
         ],
         "textfont": {
          "color": "white",
          "size": 11
         },
         "textposition": "middle center",
         "type": "scattergl",
         "x": [
          0.010514981353124174,
          0.4695633800067669,
          -0.478857091172271,
          -0.12608743603866104,
          0.8624678569853301,
          -0.8271024981575643,
          0.24749720717977927,
          0.714242597960741,
          -0.7646900703151296,
          -0.4904016839773729,
          0.44998022883368854,
          -0.44170483184149384,
          0.31150904647016614,
          -0.1636476678133712,
          -0.7732840194737313,
          1
         ],
         "y": [
          -0.05414400831973531,
          0.3077007652162614,
          -0.5210362603527311,
          0.3594312718710493,
          0.16617415787333,
          -0.2375891483190117,
          -0.43870157151464234,
          0.7250051833416544,
          0.18635504596905583,
          -0.38903158230709295,
          -0.04816034742172686,
          -0.061845350285824344,
          0.5816202708760725,
          -0.5697307502072272,
          -0.5242757980865146,
          0.5182281216670838
         ]
        }
       ],
       "layout": {
        "annotations": [
         {
          "showarrow": false,
          "text": "圆形: 研究领域 | 菱形: 优势单位",
          "x": 0,
          "xref": "paper",
          "y": -0.1,
          "yref": "paper"
         }
        ],
        "hovermode": "closest",
        "margin": {
         "b": 0,
         "l": 0,
         "r": 0,
         "t": 40
        },
        "plot_bgcolor": "white",
        "showlegend": false,
        "template": {
         "data": {
          "bar": [
           {
            "error_x": {
             "color": "#2a3f5f"
            },
            "error_y": {
             "color": "#2a3f5f"
            },
            "marker": {
             "line": {
              "color": "#E5ECF6",
              "width": 0.5
             },
             "pattern": {
              "fillmode": "overlay",
              "size": 10,
              "solidity": 0.2
             }
            },
            "type": "bar"
           }
          ],
          "barpolar": [
           {
            "marker": {
             "line": {
              "color": "#E5ECF6",
              "width": 0.5
             },
             "pattern": {
              "fillmode": "overlay",
              "size": 10,
              "solidity": 0.2
             }
            },
            "type": "barpolar"
           }
          ],
          "carpet": [
           {
            "aaxis": {
             "endlinecolor": "#2a3f5f",
             "gridcolor": "white",
             "linecolor": "white",
             "minorgridcolor": "white",
             "startlinecolor": "#2a3f5f"
            },
            "baxis": {
             "endlinecolor": "#2a3f5f",
             "gridcolor": "white",
             "linecolor": "white",
             "minorgridcolor": "white",
             "startlinecolor": "#2a3f5f"
            },
            "type": "carpet"
           }
          ],
          "choropleth": [
           {
            "colorbar": {
             "outlinewidth": 0,
             "ticks": ""
            },
            "type": "choropleth"
           }
          ],
          "contour": [
           {
            "colorbar": {
             "outlinewidth": 0,
             "ticks": ""
            },
            "colorscale": [
             [
              0,
              "#0d0887"
             ],
             [
              0.1111111111111111,
              "#46039f"
             ],
             [
              0.2222222222222222,
              "#7201a8"
             ],
             [
              0.3333333333333333,
              "#9c179e"
             ],
             [
              0.4444444444444444,
              "#bd3786"
             ],
             [
              0.5555555555555556,
              "#d8576b"
             ],
             [
              0.6666666666666666,
              "#ed7953"
             ],
             [
              0.7777777777777778,
              "#fb9f3a"
             ],
             [
              0.8888888888888888,
              "#fdca26"
             ],
             [
              1,
              "#f0f921"
             ]
            ],
            "type": "contour"
           }
          ],
          "contourcarpet": [
           {
            "colorbar": {
             "outlinewidth": 0,
             "ticks": ""
            },
            "type": "contourcarpet"
           }
          ],
          "heatmap": [
           {
            "colorbar": {
             "outlinewidth": 0,
             "ticks": ""
            },
            "colorscale": [
             [
              0,
              "#0d0887"
             ],
             [
              0.1111111111111111,
              "#46039f"
             ],
             [
              0.2222222222222222,
              "#7201a8"
             ],
             [
              0.3333333333333333,
              "#9c179e"
             ],
             [
              0.4444444444444444,
              "#bd3786"
             ],
             [
              0.5555555555555556,
              "#d8576b"
             ],
             [
              0.6666666666666666,
              "#ed7953"
             ],
             [
              0.7777777777777778,
              "#fb9f3a"
             ],
             [
              0.8888888888888888,
              "#fdca26"
             ],
             [
              1,
              "#f0f921"
             ]
            ],
            "type": "heatmap"
           }
          ],
          "heatmapgl": [
           {
            "colorbar": {
             "outlinewidth": 0,
             "ticks": ""
            },
            "colorscale": [
             [
              0,
              "#0d0887"
             ],
             [
              0.1111111111111111,
              "#46039f"
             ],
             [
              0.2222222222222222,
              "#7201a8"
             ],
             [
              0.3333333333333333,
              "#9c179e"
             ],
             [
              0.4444444444444444,
              "#bd3786"
             ],
             [
              0.5555555555555556,
              "#d8576b"
             ],
             [
              0.6666666666666666,
              "#ed7953"
             ],
             [
              0.7777777777777778,
              "#fb9f3a"
             ],
             [
              0.8888888888888888,
              "#fdca26"
             ],
             [
              1,
              "#f0f921"
             ]
            ],
            "type": "heatmapgl"
           }
          ],
          "histogram": [
           {
            "marker": {
             "pattern": {
              "fillmode": "overlay",
              "size": 10,
              "solidity": 0.2
             }
            },
            "type": "histogram"
           }
          ],
          "histogram2d": [
           {
            "colorbar": {
             "outlinewidth": 0,
             "ticks": ""
            },
            "colorscale": [
             [
              0,
              "#0d0887"
             ],
             [
              0.1111111111111111,
              "#46039f"
             ],
             [
              0.2222222222222222,
              "#7201a8"
             ],
             [
              0.3333333333333333,
              "#9c179e"
             ],
             [
              0.4444444444444444,
              "#bd3786"
             ],
             [
              0.5555555555555556,
              "#d8576b"
             ],
             [
              0.6666666666666666,
              "#ed7953"
             ],
             [
              0.7777777777777778,
              "#fb9f3a"
             ],
             [
              0.8888888888888888,
              "#fdca26"
             ],
             [
              1,
              "#f0f921"
             ]
            ],
            "type": "histogram2d"
           }
          ],
          "histogram2dcontour": [
           {
            "colorbar": {
             "outlinewidth": 0,
             "ticks": ""
            },
            "colorscale": [
             [
              0,
              "#0d0887"
             ],
             [
              0.1111111111111111,
              "#46039f"
             ],
             [
              0.2222222222222222,
              "#7201a8"
             ],
             [
              0.3333333333333333,
              "#9c179e"
             ],
             [
              0.4444444444444444,
              "#bd3786"
             ],
             [
              0.5555555555555556,
              "#d8576b"
             ],
             [
              0.6666666666666666,
              "#ed7953"
             ],
             [
              0.7777777777777778,
              "#fb9f3a"
             ],
             [
              0.8888888888888888,
              "#fdca26"
             ],
             [
              1,
              "#f0f921"
             ]
            ],
            "type": "histogram2dcontour"
           }
          ],
          "mesh3d": [
           {
            "colorbar": {
             "outlinewidth": 0,
             "ticks": ""
            },
            "type": "mesh3d"
           }
          ],
          "parcoords": [
           {
            "line": {
             "colorbar": {
              "outlinewidth": 0,
              "ticks": ""
             }
            },
            "type": "parcoords"
           }
          ],
          "pie": [
           {
            "automargin": true,
            "type": "pie"
           }
          ],
          "scatter": [
           {
            "fillpattern": {
             "fillmode": "overlay",
             "size": 10,
             "solidity": 0.2
            },
            "type": "scatter"
           }
          ],
          "scatter3d": [
           {
            "line": {
             "colorbar": {
              "outlinewidth": 0,
              "ticks": ""
             }
            },
            "marker": {
             "colorbar": {
              "outlinewidth": 0,
              "ticks": ""
             }
            },
            "type": "scatter3d"
           }
          ],
          "scattercarpet": [
           {
            "marker": {
             "colorbar": {
              "outlinewidth": 0,
              "ticks": ""
             }
            },
            "type": "scattercarpet"
           }
          ],
          "scattergeo": [
           {
            "marker": {
             "colorbar": {
              "outlinewidth": 0,
              "ticks": ""
             }
            },
            "type": "scattergeo"
           }
          ],
          "scattergl": [
           {
            "marker": {
             "colorbar": {
              "outlinewidth": 0,
              "ticks": ""
             }
            },
            "type": "scattergl"
           }
          ],
          "scattermapbox": [
           {
            "marker": {
             "colorbar": {
              "outlinewidth": 0,
              "ticks": ""
             }
            },
            "type": "scattermapbox"
           }
          ],
          "scatterpolar": [
           {
            "marker": {
             "colorbar": {
              "outlinewidth": 0,
              "ticks": ""
             }
            },
            "type": "scatterpolar"
           }
          ],
          "scatterpolargl": [
           {
            "marker": {
             "colorbar": {
              "outlinewidth": 0,
              "ticks": ""
             }
            },
            "type": "scatterpolargl"
           }
          ],
          "scatterternary": [
           {
            "marker": {
             "colorbar": {
              "outlinewidth": 0,
              "ticks": ""
             }
            },
            "type": "scatterternary"
           }
          ],
          "surface": [
           {
            "colorbar": {
             "outlinewidth": 0,
             "ticks": ""
            },
            "colorscale": [
             [
              0,
              "#0d0887"
             ],
             [
              0.1111111111111111,
              "#46039f"
             ],
             [
              0.2222222222222222,
              "#7201a8"
             ],
             [
              0.3333333333333333,
              "#9c179e"
             ],
             [
              0.4444444444444444,
              "#bd3786"
             ],
             [
              0.5555555555555556,
              "#d8576b"
             ],
             [
              0.6666666666666666,
              "#ed7953"
             ],
             [
              0.7777777777777778,
              "#fb9f3a"
             ],
             [
              0.8888888888888888,
              "#fdca26"
             ],
             [
              1,
              "#f0f921"
             ]
            ],
            "type": "surface"
           }
          ],
          "table": [
           {
            "cells": {
             "fill": {
              "color": "#EBF0F8"
             },
             "line": {
              "color": "white"
             }
            },
            "header": {
             "fill": {
              "color": "#C8D4E3"
             },
             "line": {
              "color": "white"
             }
            },
            "type": "table"
           }
          ]
         },
         "layout": {
          "annotationdefaults": {
           "arrowcolor": "#2a3f5f",
           "arrowhead": 0,
           "arrowwidth": 1
          },
          "autotypenumbers": "strict",
          "coloraxis": {
           "colorbar": {
            "outlinewidth": 0,
            "ticks": ""
           }
          },
          "colorscale": {
           "diverging": [
            [
             0,
             "#8e0152"
            ],
            [
             0.1,
             "#c51b7d"
            ],
            [
             0.2,
             "#de77ae"
            ],
            [
             0.3,
             "#f1b6da"
            ],
            [
             0.4,
             "#fde0ef"
            ],
            [
             0.5,
             "#f7f7f7"
            ],
            [
             0.6,
             "#e6f5d0"
            ],
            [
             0.7,
             "#b8e186"
            ],
            [
             0.8,
             "#7fbc41"
            ],
            [
             0.9,
             "#4d9221"
            ],
            [
             1,
             "#276419"
            ]
           ],
           "sequential": [
            [
             0,
             "#0d0887"
            ],
            [
             0.1111111111111111,
             "#46039f"
            ],
            [
             0.2222222222222222,
             "#7201a8"
            ],
            [
             0.3333333333333333,
             "#9c179e"
            ],
            [
             0.4444444444444444,
             "#bd3786"
            ],
            [
             0.5555555555555556,
             "#d8576b"
            ],
            [
             0.6666666666666666,
             "#ed7953"
            ],
            [
             0.7777777777777778,
             "#fb9f3a"
            ],
            [
             0.8888888888888888,
             "#fdca26"
            ],
            [
             1,
             "#f0f921"
            ]
           ],
           "sequentialminus": [
            [
             0,
             "#0d0887"
            ],
            [
             0.1111111111111111,
             "#46039f"
            ],
            [
             0.2222222222222222,
             "#7201a8"
            ],
            [
             0.3333333333333333,
             "#9c179e"
            ],
            [
             0.4444444444444444,
             "#bd3786"
            ],
            [
             0.5555555555555556,
             "#d8576b"
            ],
            [
             0.6666666666666666,
             "#ed7953"
            ],
            [
             0.7777777777777778,
             "#fb9f3a"
            ],
            [
             0.8888888888888888,
             "#fdca26"
            ],
            [
             1,
             "#f0f921"
            ]
           ]
          },
          "colorway": [
           "#636efa",
           "#EF553B",
           "#00cc96",
           "#ab63fa",
           "#FFA15A",
           "#19d3f3",
           "#FF6692",
           "#B6E880",
           "#FF97FF",
           "#FECB52"
          ],
          "font": {
           "color": "#2a3f5f"
          },
          "geo": {
           "bgcolor": "white",
           "lakecolor": "white",
           "landcolor": "#E5ECF6",
           "showlakes": true,
           "showland": true,
           "subunitcolor": "white"
          },
          "hoverlabel": {
           "align": "left"
          },
          "hovermode": "closest",
          "mapbox": {
           "style": "light"
          },
          "paper_bgcolor": "white",
          "plot_bgcolor": "#E5ECF6",
          "polar": {
           "angularaxis": {
            "gridcolor": "white",
            "linecolor": "white",
            "ticks": ""
           },
           "bgcolor": "#E5ECF6",
           "radialaxis": {
            "gridcolor": "white",
            "linecolor": "white",
            "ticks": ""
           }
          },
          "scene": {
           "xaxis": {
            "backgroundcolor": "#E5ECF6",
            "gridcolor": "white",
            "gridwidth": 2,
            "linecolor": "white",
            "showbackground": true,
            "ticks": "",
            "zerolinecolor": "white"
           },
           "yaxis": {
            "backgroundcolor": "#E5ECF6",
            "gridcolor": "white",
            "gridwidth": 2,
            "linecolor": "white",
            "showbackground": true,
            "ticks": "",
            "zerolinecolor": "white"
           },
           "zaxis": {
            "backgroundcolor": "#E5ECF6",
            "gridcolor": "white",
            "gridwidth": 2,
            "linecolor": "white",
            "showbackground": true,
            "ticks": "",
            "zerolinecolor": "white"
           }
          },
          "shapedefaults": {
           "line": {
            "color": "#2a3f5f"
           }
          },
          "ternary": {
           "aaxis": {
            "gridcolor": "white",
            "linecolor": "white",
            "ticks": ""
           },
           "baxis": {
            "gridcolor": "white",
            "linecolor": "white",
            "ticks": ""
           },
           "bgcolor": "#E5ECF6",
           "caxis": {
            "gridcolor": "white",
            "linecolor": "white",
            "ticks": ""
           }
          },
          "title": {
           "x": 0.05
          },
          "xaxis": {
           "automargin": true,
           "gridcolor": "white",
           "linecolor": "white",
           "ticks": "",
           "title": {
            "standoff": 15
           },
           "zerolinecolor": "white",
           "zerolinewidth": 2
          },
          "yaxis": {
           "automargin": true,
           "gridcolor": "white",
           "linecolor": "white",
           "ticks": "",
           "title": {
            "standoff": 15
           },
           "zerolinecolor": "white",
           "zerolinewidth": 2
          }
         }
        },
        "title": {
         "text": "研究团队优势领域交叉融合网络"
        },
        "xaxis": {
         "showgrid": false,
         "showticklabels": false,
         "zeroline": false
        },
        "yaxis": {
         "showgrid": false,
         "showticklabels": false,
         "zeroline": false
        }
       }
      },
      "text/html": [
       "<div>                            <div id=\"40112205-901c-4656-bfb4-c003a9d109d7\" class=\"plotly-graph-div\" style=\"height:525px; width:100%;\"></div>            <script type=\"text/javascript\">                require([\"plotly\"], function(Plotly) {                    window.PLOTLYENV=window.PLOTLYENV || {};                                    if (document.getElementById(\"40112205-901c-4656-bfb4-c003a9d109d7\")) {                    Plotly.newPlot(                        \"40112205-901c-4656-bfb4-c003a9d109d7\",                        [{\"hoverinfo\":\"none\",\"line\":{\"color\":\"gray\",\"width\":1},\"mode\":\"lines\",\"x\":[0.010514981353124174,0.44998022883368854],\"y\":[-0.05414400831973531,-0.04816034742172686],\"type\":\"scattergl\"},{\"hoverinfo\":\"none\",\"line\":{\"color\":\"gray\",\"width\":1},\"mode\":\"lines\",\"x\":[0.010514981353124174,-0.44170483184149384],\"y\":[-0.05414400831973531,-0.061845350285824344],\"type\":\"scattergl\"},{\"hoverinfo\":\"none\",\"line\":{\"color\":\"gray\",\"width\":1},\"mode\":\"lines\",\"x\":[0.4695633800067669,0.31150904647016614],\"y\":[0.3077007652162614,0.5816202708760725],\"type\":\"scattergl\"},{\"hoverinfo\":\"none\",\"line\":{\"color\":\"gray\",\"width\":1},\"mode\":\"lines\",\"x\":[0.4695633800067669,0.44998022883368854],\"y\":[0.3077007652162614,-0.04816034742172686],\"type\":\"scattergl\"},{\"hoverinfo\":\"none\",\"line\":{\"color\":\"gray\",\"width\":1},\"mode\":\"lines\",\"x\":[-0.478857091172271,-0.1636476678133712],\"y\":[-0.5210362603527311,-0.5697307502072272],\"type\":\"scattergl\"},{\"hoverinfo\":\"none\",\"line\":{\"color\":\"gray\",\"width\":1},\"mode\":\"lines\",\"x\":[-0.478857091172271,-0.7732840194737313],\"y\":[-0.5210362603527311,-0.5242757980865146],\"type\":\"scattergl\"},{\"hoverinfo\":\"none\",\"line\":{\"color\":\"gray\",\"width\":1},\"mode\":\"lines\",\"x\":[-0.478857091172271,-0.44170483184149384],\"y\":[-0.5210362603527311,-0.061845350285824344],\"type\":\"scattergl\"},{\"hoverinfo\":\"none\",\"line\":{\"color\":\"gray\",\"width\":1},\"mode\":\"lines\",\"x\":[-0.12608743603866104,-0.44170483184149384],\"y\":[0.3594312718710493,-0.061845350285824344],\"type\":\"scattergl\"},{\"hoverinfo\":\"none\",\"line\":{\"color\":\"gray\",\"width\":1},\"mode\":\"lines\",\"x\":[-0.12608743603866104,0.31150904647016614],\"y\":[0.3594312718710493,0.5816202708760725],\"type\":\"scattergl\"},{\"hoverinfo\":\"none\",\"line\":{\"color\":\"gray\",\"width\":1},\"mode\":\"lines\",\"x\":[0.8624678569853301,0.44998022883368854],\"y\":[0.16617415787333,-0.04816034742172686],\"type\":\"scattergl\"},{\"hoverinfo\":\"none\",\"line\":{\"color\":\"gray\",\"width\":1},\"mode\":\"lines\",\"x\":[0.8624678569853301,1.0],\"y\":[0.16617415787333,0.5182281216670838],\"type\":\"scattergl\"},{\"hoverinfo\":\"none\",\"line\":{\"color\":\"gray\",\"width\":1},\"mode\":\"lines\",\"x\":[-0.8271024981575643,-0.7732840194737313],\"y\":[-0.2375891483190117,-0.5242757980865146],\"type\":\"scattergl\"},{\"hoverinfo\":\"none\",\"line\":{\"color\":\"gray\",\"width\":1},\"mode\":\"lines\",\"x\":[-0.8271024981575643,-0.44170483184149384],\"y\":[-0.2375891483190117,-0.061845350285824344],\"type\":\"scattergl\"},{\"hoverinfo\":\"none\",\"line\":{\"color\":\"gray\",\"width\":1},\"mode\":\"lines\",\"x\":[0.24749720717977927,0.44998022883368854],\"y\":[-0.43870157151464234,-0.04816034742172686],\"type\":\"scattergl\"},{\"hoverinfo\":\"none\",\"line\":{\"color\":\"gray\",\"width\":1},\"mode\":\"lines\",\"x\":[0.24749720717977927,-0.1636476678133712],\"y\":[-0.43870157151464234,-0.5697307502072272],\"type\":\"scattergl\"},{\"hoverinfo\":\"none\",\"line\":{\"color\":\"gray\",\"width\":1},\"mode\":\"lines\",\"x\":[0.714242597960741,1.0],\"y\":[0.7250051833416544,0.5182281216670838],\"type\":\"scattergl\"},{\"hoverinfo\":\"none\",\"line\":{\"color\":\"gray\",\"width\":1},\"mode\":\"lines\",\"x\":[0.714242597960741,0.31150904647016614],\"y\":[0.7250051833416544,0.5816202708760725],\"type\":\"scattergl\"},{\"hoverinfo\":\"none\",\"line\":{\"color\":\"gray\",\"width\":1},\"mode\":\"lines\",\"x\":[-0.7646900703151296,-0.44170483184149384],\"y\":[0.18635504596905583,-0.061845350285824344],\"type\":\"scattergl\"},{\"hoverinfo\":\"none\",\"line\":{\"color\":\"gray\",\"width\":1},\"mode\":\"lines\",\"x\":[-0.4904016839773729,-0.1636476678133712],\"y\":[-0.38903158230709295,-0.5697307502072272],\"type\":\"scattergl\"},{\"hoverinfo\":\"none\",\"line\":{\"color\":\"gray\",\"width\":1},\"mode\":\"lines\",\"x\":[-0.4904016839773729,-0.7732840194737313],\"y\":[-0.38903158230709295,-0.5242757980865146],\"type\":\"scattergl\"},{\"hoverinfo\":\"none\",\"line\":{\"color\":\"gray\",\"width\":1},\"mode\":\"lines\",\"x\":[-0.4904016839773729,-0.44170483184149384],\"y\":[-0.38903158230709295,-0.061845350285824344],\"type\":\"scattergl\"},{\"hoverinfo\":\"text\",\"marker\":{\"color\":[\"#636EFA\",\"#636EFA\",\"#636EFA\",\"#636EFA\",\"#636EFA\",\"#636EFA\",\"#636EFA\",\"#636EFA\",\"#636EFA\",\"#636EFA\",\"#FF9999\",\"#FF9999\",\"#FF9999\",\"#FF9999\",\"#FF9999\",\"#FF9999\"],\"line\":{\"color\":\"white\",\"width\":2},\"size\":25,\"symbol\":[\"circle\",\"circle\",\"circle\",\"circle\",\"circle\",\"circle\",\"circle\",\"circle\",\"circle\",\"circle\",\"diamond\",\"diamond\",\"diamond\",\"diamond\",\"diamond\",\"diamond\"]},\"mode\":\"markers+text\",\"text\":[\"\\u82b1\\u7c89\\u7ba1\\u751f\\u7269\\u5b66\",\"\\u56ca\\u6ce1\\u8fd0\\u8f93\",\"\\u7ec6\\u83cc\\u5206\\u6ccc\",\"\\u5927\\u8c46\\u751f\\u7269\\u5b66\",\"\\u6d6e\\u840d\\u751f\\u7269\\u5b66\",\"AI\\u4e0e\\u7b97\\u6cd5\",\"\\u7ed3\\u6784\\u751f\\u7269\\u5b66\",\"\\u57fa\\u56e0\\u7ec4\\u7f16\\u8f91\",\"\\u4eba\\u5de5\\u56ca\\u6ce1\",\"\\u9ad8\\u901a\\u91cf\\u5e73\\u53f0\",\"\\u5357\\u5f00\\u5927\\u5b66\",\"\\u5148\\u8fdb\\u9662\",\"\\u534e\\u5357\\u5e08\\u5927\",\"\\u6e56\\u5317\\u5927\\u5b66\",\"\\u5929\\u5de5\\u6240\",\"\\u6df1\\u7406\\u5de5\"],\"textfont\":{\"color\":\"white\",\"size\":11},\"textposition\":\"middle center\",\"x\":[0.010514981353124174,0.4695633800067669,-0.478857091172271,-0.12608743603866104,0.8624678569853301,-0.8271024981575643,0.24749720717977927,0.714242597960741,-0.7646900703151296,-0.4904016839773729,0.44998022883368854,-0.44170483184149384,0.31150904647016614,-0.1636476678133712,-0.7732840194737313,1.0],\"y\":[-0.05414400831973531,0.3077007652162614,-0.5210362603527311,0.3594312718710493,0.16617415787333,-0.2375891483190117,-0.43870157151464234,0.7250051833416544,0.18635504596905583,-0.38903158230709295,-0.04816034742172686,-0.061845350285824344,0.5816202708760725,-0.5697307502072272,-0.5242757980865146,0.5182281216670838],\"type\":\"scattergl\"}],                        {\"template\":{\"data\":{\"histogram2dcontour\":[{\"type\":\"histogram2dcontour\",\"colorbar\":{\"outlinewidth\":0,\"ticks\":\"\"},\"colorscale\":[[0.0,\"#0d0887\"],[0.1111111111111111,\"#46039f\"],[0.2222222222222222,\"#7201a8\"],[0.3333333333333333,\"#9c179e\"],[0.4444444444444444,\"#bd3786\"],[0.5555555555555556,\"#d8576b\"],[0.6666666666666666,\"#ed7953\"],[0.7777777777777778,\"#fb9f3a\"],[0.8888888888888888,\"#fdca26\"],[1.0,\"#f0f921\"]]}],\"choropleth\":[{\"type\":\"choropleth\",\"colorbar\":{\"outlinewidth\":0,\"ticks\":\"\"}}],\"histogram2d\":[{\"type\":\"histogram2d\",\"colorbar\":{\"outlinewidth\":0,\"ticks\":\"\"},\"colorscale\":[[0.0,\"#0d0887\"],[0.1111111111111111,\"#46039f\"],[0.2222222222222222,\"#7201a8\"],[0.3333333333333333,\"#9c179e\"],[0.4444444444444444,\"#bd3786\"],[0.5555555555555556,\"#d8576b\"],[0.6666666666666666,\"#ed7953\"],[0.7777777777777778,\"#fb9f3a\"],[0.8888888888888888,\"#fdca26\"],[1.0,\"#f0f921\"]]}],\"heatmap\":[{\"type\":\"heatmap\",\"colorbar\":{\"outlinewidth\":0,\"ticks\":\"\"},\"colorscale\":[[0.0,\"#0d0887\"],[0.1111111111111111,\"#46039f\"],[0.2222222222222222,\"#7201a8\"],[0.3333333333333333,\"#9c179e\"],[0.4444444444444444,\"#bd3786\"],[0.5555555555555556,\"#d8576b\"],[0.6666666666666666,\"#ed7953\"],[0.7777777777777778,\"#fb9f3a\"],[0.8888888888888888,\"#fdca26\"],[1.0,\"#f0f921\"]]}],\"heatmapgl\":[{\"type\":\"heatmapgl\",\"colorbar\":{\"outlinewidth\":0,\"ticks\":\"\"},\"colorscale\":[[0.0,\"#0d0887\"],[0.1111111111111111,\"#46039f\"],[0.2222222222222222,\"#7201a8\"],[0.3333333333333333,\"#9c179e\"],[0.4444444444444444,\"#bd3786\"],[0.5555555555555556,\"#d8576b\"],[0.6666666666666666,\"#ed7953\"],[0.7777777777777778,\"#fb9f3a\"],[0.8888888888888888,\"#fdca26\"],[1.0,\"#f0f921\"]]}],\"contourcarpet\":[{\"type\":\"contourcarpet\",\"colorbar\":{\"outlinewidth\":0,\"ticks\":\"\"}}],\"contour\":[{\"type\":\"contour\",\"colorbar\":{\"outlinewidth\":0,\"ticks\":\"\"},\"colorscale\":[[0.0,\"#0d0887\"],[0.1111111111111111,\"#46039f\"],[0.2222222222222222,\"#7201a8\"],[0.3333333333333333,\"#9c179e\"],[0.4444444444444444,\"#bd3786\"],[0.5555555555555556,\"#d8576b\"],[0.6666666666666666,\"#ed7953\"],[0.7777777777777778,\"#fb9f3a\"],[0.8888888888888888,\"#fdca26\"],[1.0,\"#f0f921\"]]}],\"surface\":[{\"type\":\"surface\",\"colorbar\":{\"outlinewidth\":0,\"ticks\":\"\"},\"colorscale\":[[0.0,\"#0d0887\"],[0.1111111111111111,\"#46039f\"],[0.2222222222222222,\"#7201a8\"],[0.3333333333333333,\"#9c179e\"],[0.4444444444444444,\"#bd3786\"],[0.5555555555555556,\"#d8576b\"],[0.6666666666666666,\"#ed7953\"],[0.7777777777777778,\"#fb9f3a\"],[0.8888888888888888,\"#fdca26\"],[1.0,\"#f0f921\"]]}],\"mesh3d\":[{\"type\":\"mesh3d\",\"colorbar\":{\"outlinewidth\":0,\"ticks\":\"\"}}],\"scatter\":[{\"fillpattern\":{\"fillmode\":\"overlay\",\"size\":10,\"solidity\":0.2},\"type\":\"scatter\"}],\"parcoords\":[{\"type\":\"parcoords\",\"line\":{\"colorbar\":{\"outlinewidth\":0,\"ticks\":\"\"}}}],\"scatterpolargl\":[{\"type\":\"scatterpolargl\",\"marker\":{\"colorbar\":{\"outlinewidth\":0,\"ticks\":\"\"}}}],\"bar\":[{\"error_x\":{\"color\":\"#2a3f5f\"},\"error_y\":{\"color\":\"#2a3f5f\"},\"marker\":{\"line\":{\"color\":\"#E5ECF6\",\"width\":0.5},\"pattern\":{\"fillmode\":\"overlay\",\"size\":10,\"solidity\":0.2}},\"type\":\"bar\"}],\"scattergeo\":[{\"type\":\"scattergeo\",\"marker\":{\"colorbar\":{\"outlinewidth\":0,\"ticks\":\"\"}}}],\"scatterpolar\":[{\"type\":\"scatterpolar\",\"marker\":{\"colorbar\":{\"outlinewidth\":0,\"ticks\":\"\"}}}],\"histogram\":[{\"marker\":{\"pattern\":{\"fillmode\":\"overlay\",\"size\":10,\"solidity\":0.2}},\"type\":\"histogram\"}],\"scattergl\":[{\"type\":\"scattergl\",\"marker\":{\"colorbar\":{\"outlinewidth\":0,\"ticks\":\"\"}}}],\"scatter3d\":[{\"type\":\"scatter3d\",\"line\":{\"colorbar\":{\"outlinewidth\":0,\"ticks\":\"\"}},\"marker\":{\"colorbar\":{\"outlinewidth\":0,\"ticks\":\"\"}}}],\"scattermapbox\":[{\"type\":\"scattermapbox\",\"marker\":{\"colorbar\":{\"outlinewidth\":0,\"ticks\":\"\"}}}],\"scatterternary\":[{\"type\":\"scatterternary\",\"marker\":{\"colorbar\":{\"outlinewidth\":0,\"ticks\":\"\"}}}],\"scattercarpet\":[{\"type\":\"scattercarpet\",\"marker\":{\"colorbar\":{\"outlinewidth\":0,\"ticks\":\"\"}}}],\"carpet\":[{\"aaxis\":{\"endlinecolor\":\"#2a3f5f\",\"gridcolor\":\"white\",\"linecolor\":\"white\",\"minorgridcolor\":\"white\",\"startlinecolor\":\"#2a3f5f\"},\"baxis\":{\"endlinecolor\":\"#2a3f5f\",\"gridcolor\":\"white\",\"linecolor\":\"white\",\"minorgridcolor\":\"white\",\"startlinecolor\":\"#2a3f5f\"},\"type\":\"carpet\"}],\"table\":[{\"cells\":{\"fill\":{\"color\":\"#EBF0F8\"},\"line\":{\"color\":\"white\"}},\"header\":{\"fill\":{\"color\":\"#C8D4E3\"},\"line\":{\"color\":\"white\"}},\"type\":\"table\"}],\"barpolar\":[{\"marker\":{\"line\":{\"color\":\"#E5ECF6\",\"width\":0.5},\"pattern\":{\"fillmode\":\"overlay\",\"size\":10,\"solidity\":0.2}},\"type\":\"barpolar\"}],\"pie\":[{\"automargin\":true,\"type\":\"pie\"}]},\"layout\":{\"autotypenumbers\":\"strict\",\"colorway\":[\"#636efa\",\"#EF553B\",\"#00cc96\",\"#ab63fa\",\"#FFA15A\",\"#19d3f3\",\"#FF6692\",\"#B6E880\",\"#FF97FF\",\"#FECB52\"],\"font\":{\"color\":\"#2a3f5f\"},\"hovermode\":\"closest\",\"hoverlabel\":{\"align\":\"left\"},\"paper_bgcolor\":\"white\",\"plot_bgcolor\":\"#E5ECF6\",\"polar\":{\"bgcolor\":\"#E5ECF6\",\"angularaxis\":{\"gridcolor\":\"white\",\"linecolor\":\"white\",\"ticks\":\"\"},\"radialaxis\":{\"gridcolor\":\"white\",\"linecolor\":\"white\",\"ticks\":\"\"}},\"ternary\":{\"bgcolor\":\"#E5ECF6\",\"aaxis\":{\"gridcolor\":\"white\",\"linecolor\":\"white\",\"ticks\":\"\"},\"baxis\":{\"gridcolor\":\"white\",\"linecolor\":\"white\",\"ticks\":\"\"},\"caxis\":{\"gridcolor\":\"white\",\"linecolor\":\"white\",\"ticks\":\"\"}},\"coloraxis\":{\"colorbar\":{\"outlinewidth\":0,\"ticks\":\"\"}},\"colorscale\":{\"sequential\":[[0.0,\"#0d0887\"],[0.1111111111111111,\"#46039f\"],[0.2222222222222222,\"#7201a8\"],[0.3333333333333333,\"#9c179e\"],[0.4444444444444444,\"#bd3786\"],[0.5555555555555556,\"#d8576b\"],[0.6666666666666666,\"#ed7953\"],[0.7777777777777778,\"#fb9f3a\"],[0.8888888888888888,\"#fdca26\"],[1.0,\"#f0f921\"]],\"sequentialminus\":[[0.0,\"#0d0887\"],[0.1111111111111111,\"#46039f\"],[0.2222222222222222,\"#7201a8\"],[0.3333333333333333,\"#9c179e\"],[0.4444444444444444,\"#bd3786\"],[0.5555555555555556,\"#d8576b\"],[0.6666666666666666,\"#ed7953\"],[0.7777777777777778,\"#fb9f3a\"],[0.8888888888888888,\"#fdca26\"],[1.0,\"#f0f921\"]],\"diverging\":[[0,\"#8e0152\"],[0.1,\"#c51b7d\"],[0.2,\"#de77ae\"],[0.3,\"#f1b6da\"],[0.4,\"#fde0ef\"],[0.5,\"#f7f7f7\"],[0.6,\"#e6f5d0\"],[0.7,\"#b8e186\"],[0.8,\"#7fbc41\"],[0.9,\"#4d9221\"],[1,\"#276419\"]]},\"xaxis\":{\"gridcolor\":\"white\",\"linecolor\":\"white\",\"ticks\":\"\",\"title\":{\"standoff\":15},\"zerolinecolor\":\"white\",\"automargin\":true,\"zerolinewidth\":2},\"yaxis\":{\"gridcolor\":\"white\",\"linecolor\":\"white\",\"ticks\":\"\",\"title\":{\"standoff\":15},\"zerolinecolor\":\"white\",\"automargin\":true,\"zerolinewidth\":2},\"scene\":{\"xaxis\":{\"backgroundcolor\":\"#E5ECF6\",\"gridcolor\":\"white\",\"linecolor\":\"white\",\"showbackground\":true,\"ticks\":\"\",\"zerolinecolor\":\"white\",\"gridwidth\":2},\"yaxis\":{\"backgroundcolor\":\"#E5ECF6\",\"gridcolor\":\"white\",\"linecolor\":\"white\",\"showbackground\":true,\"ticks\":\"\",\"zerolinecolor\":\"white\",\"gridwidth\":2},\"zaxis\":{\"backgroundcolor\":\"#E5ECF6\",\"gridcolor\":\"white\",\"linecolor\":\"white\",\"showbackground\":true,\"ticks\":\"\",\"zerolinecolor\":\"white\",\"gridwidth\":2}},\"shapedefaults\":{\"line\":{\"color\":\"#2a3f5f\"}},\"annotationdefaults\":{\"arrowcolor\":\"#2a3f5f\",\"arrowhead\":0,\"arrowwidth\":1},\"geo\":{\"bgcolor\":\"white\",\"landcolor\":\"#E5ECF6\",\"subunitcolor\":\"white\",\"showland\":true,\"showlakes\":true,\"lakecolor\":\"white\"},\"title\":{\"x\":0.05},\"mapbox\":{\"style\":\"light\"}}},\"margin\":{\"b\":0,\"l\":0,\"r\":0,\"t\":40},\"xaxis\":{\"showgrid\":false,\"zeroline\":false,\"showticklabels\":false},\"yaxis\":{\"showgrid\":false,\"zeroline\":false,\"showticklabels\":false},\"title\":{\"text\":\"\\u7814\\u7a76\\u56e2\\u961f\\u4f18\\u52bf\\u9886\\u57df\\u4ea4\\u53c9\\u878d\\u5408\\u7f51\\u7edc\"},\"showlegend\":false,\"hovermode\":\"closest\",\"annotations\":[{\"showarrow\":false,\"text\":\"\\u5706\\u5f62: \\u7814\\u7a76\\u9886\\u57df | \\u83f1\\u5f62: \\u4f18\\u52bf\\u5355\\u4f4d\",\"x\":0,\"xref\":\"paper\",\"y\":-0.1,\"yref\":\"paper\"}],\"plot_bgcolor\":\"white\"},                        {\"responsive\": true}                    ).then(function(){\n",
       "                            \n",
       "var gd = document.getElementById('40112205-901c-4656-bfb4-c003a9d109d7');\n",
       "var x = new MutationObserver(function (mutations, observer) {{\n",
       "        var display = window.getComputedStyle(gd).display;\n",
       "        if (!display || display === 'none') {{\n",
       "            console.log([gd, 'removed!']);\n",
       "            Plotly.purge(gd);\n",
       "            observer.disconnect();\n",
       "        }}\n",
       "}});\n",
       "\n",
       "// Listen for the removal of the full notebook cells\n",
       "var notebookContainer = gd.closest('#notebook-container');\n",
       "if (notebookContainer) {{\n",
       "    x.observe(notebookContainer, {childList: true});\n",
       "}}\n",
       "\n",
       "// Listen for the clearing of the current output cell\n",
       "var outputEl = gd.closest('.output');\n",
       "if (outputEl) {{\n",
       "    x.observe(outputEl, {childList: true});\n",
       "}}\n",
       "\n",
       "                        })                };                });            </script>        </div>"
      ]
     },
     "metadata": {},
     "output_type": "display_data"
    }
   ],
   "source": [
    "import plotly.graph_objects as go\n",
    "import pandas as pd\n",
    "\n",
    "# 1. 构建数据（根据您提供的列表）\n",
    "# 定义节点：包括所有“研究领域”和所有“单位”\n",
    "all_nodes = [\n",
    "    # 研究领域 (节点ID, 节点名称, 节点类型)\n",
    "    (0, \"花粉管生物学\", \"field\"),\n",
    "    (1, \"囊泡运输\", \"field\"),\n",
    "    (2, \"细菌分泌\", \"field\"),\n",
    "    (3, \"大豆生物学\", \"field\"),\n",
    "    (4, \"浮萍生物学\", \"field\"),\n",
    "    (5, \"AI与算法\", \"field\"),\n",
    "    (6, \"结构生物学\", \"field\"),\n",
    "    (7, \"基因组编辑\", \"field\"),\n",
    "    (8, \"人工囊泡\", \"field\"),\n",
    "    (9, \"高通量平台\", \"field\"),\n",
    "    # 优势单位 (节点ID, 节点名称, 节点类型)\n",
    "    (10, \"南开大学\", \"institution\"),\n",
    "    (11, \"先进院\", \"institution\"),\n",
    "    (12, \"华南师大\", \"institution\"),\n",
    "    (13, \"湖北大学\", \"institution\"),\n",
    "    (14, \"天工所\", \"institution\"),\n",
    "    (15, \"深理工\", \"institution\"),\n",
    "]\n",
    "\n",
    "# 定义连接（边）：(来源, 目标) 对应节点ID\n",
    "links = [\n",
    "    # 花粉管生物学 (0) 与 南开大学(10)、先进院(11) 合作\n",
    "    (0, 10), (0, 11),\n",
    "    # 囊泡运输 (1) 与 华南师大(12)、南开大学(10) 合作\n",
    "    (1, 12), (1, 10),\n",
    "    # 细菌分泌 (2) 与 湖北大学(13)、天工所(14)、先进院(11) 合作\n",
    "    (2, 13), (2, 14), (2, 11),\n",
    "    # ... 以此类推，根据您提供的列表完成所有连接\n",
    "    (3, 11), (3, 12),  # 大豆生物学\n",
    "    (4, 10), (4, 15),  # 浮萍生物学\n",
    "    (5, 14), (5, 11),  # AI与算法\n",
    "    (6, 10), (6, 13),  # 结构生物学\n",
    "    (7, 15), (7, 12),  # 基因组编辑\n",
    "    (8, 11),           # 人工囊泡\n",
    "    (9, 13), (9, 14), (9, 11) # 高通量平台\n",
    "]\n",
    "\n",
    "# 2. 转换为Plotly可用的格式\n",
    "node_df = pd.DataFrame(all_nodes, columns=['id', 'label', 'type'])\n",
    "edge_df = pd.DataFrame(links, columns=['source', 'target'])\n",
    "\n",
    "# 3. 根据节点类型分配颜色和符号\n",
    "node_colors = []\n",
    "node_symbols = []\n",
    "for node_type in node_df['type']:\n",
    "    if node_type == 'field':\n",
    "        node_colors.append('#636EFA')  # 蓝色系代表研究领域\n",
    "        node_symbols.append('circle')  # 圆形代表研究领域\n",
    "    else:\n",
    "        node_colors.append('#FF9999')  # 红色系代表单位\n",
    "        node_symbols.append('diamond') # 菱形代表单位\n",
    "\n",
    "# 4. 创建网络图\n",
    "fig = go.Figure(data=[go.Scattergl(\n",
    "    x=[], y=[],  # 布局由Plotly自动计算\n",
    "    mode='markers+text',\n",
    "    marker=dict(\n",
    "        color=node_colors,\n",
    "        size=20,  # 节点大小\n",
    "        symbol=node_symbols\n",
    "    ),\n",
    "    text=node_df['label'],  # 节点显示的文字\n",
    "    textposition=\"middle center\",\n",
    "    hoverinfo='text',\n",
    "    textfont=dict(size=14, color='white'),\n",
    ")])\n",
    "\n",
    "# 5. 添加连接线\n",
    "for _, row in edge_df.iterrows():\n",
    "    source_node = node_df[node_df['id'] == row['source']].iloc[0]\n",
    "    target_node = node_df[node_df['id'] == row['target']].iloc[0]\n",
    "    # ...（这里需要添加边的坐标计算，但使用Plotly的Spring布局可以自动处理）\n",
    "\n",
    "# 使用NetworkX或Plotly的布局算法自动计算节点位置（更整洁）\n",
    "# 这里使用Plotly的`spring_layout`模拟\n",
    "fig.update_layout(\n",
    "    title='研究团队优势领域交叉融合网络',\n",
    "    showlegend=False,\n",
    "    hovermode='closest',\n",
    "    margin=dict(b=0, l=0, r=0, t=40),\n",
    "    xaxis=dict(showgrid=False, zeroline=False, showticklabels=False),\n",
    "    yaxis=dict(showgrid=False, zeroline=False, showticklabels=False),\n",
    "    # 使用Plotly的力导向布局\n",
    "    annotations=[dict(\n",
    "        showarrow=False,\n",
    "        text=\"圆形: 研究领域 | 菱形: 优势单位\",\n",
    "        xref=\"paper\", yref=\"paper\",\n",
    "        x=0, y=-0.1\n",
    "    )]\n",
    ")\n",
    "\n",
    "# 生成一个更漂亮的力导向布局图，通常需要借助NetworkX\n",
    "# 以下为更推荐的完整代码（需要安装networkx）：\n",
    "import networkx as nx\n",
    "G = nx.Graph()\n",
    "G.add_nodes_from(node_df['id'])\n",
    "G.add_edges_from(links)\n",
    "pos = nx.spring_layout(G, seed=42) # 使用Spring布局算法计算位置\n",
    "\n",
    "# 为每个节点设置计算好的位置\n",
    "for node_id, coords in pos.items():\n",
    "    node_df.loc[node_df['id'] == node_id, 'x'] = coords[0]\n",
    "    node_df.loc[node_df['id'] == node_id, 'y'] = coords[1]\n",
    "\n",
    "# 重新创建带位置的图\n",
    "fig = go.Figure()\n",
    "\n",
    "# 添加边\n",
    "for _, row in edge_df.iterrows():\n",
    "    source = row['source']\n",
    "    target = row['target']\n",
    "    fig.add_trace(go.Scattergl(\n",
    "        x=[pos[source][0], pos[target][0]],\n",
    "        y=[pos[source][1], pos[target][1]],\n",
    "        mode='lines',\n",
    "        line=dict(width=1, color='gray'),\n",
    "        hoverinfo='none'\n",
    "    ))\n",
    "\n",
    "# 添加节点\n",
    "fig.add_trace(go.Scattergl(\n",
    "    x=node_df['x'],\n",
    "    y=node_df['y'],\n",
    "    mode='markers+text',\n",
    "    marker=dict(\n",
    "        color=node_colors,\n",
    "        size=25,\n",
    "        symbol=node_symbols,\n",
    "        line=dict(width=2, color='white')\n",
    "    ),\n",
    "    text=node_df['label'],\n",
    "    textposition=\"middle center\",\n",
    "    hoverinfo='text',\n",
    "    textfont=dict(size=11, color='white'),\n",
    "))\n",
    "\n",
    "fig.update_layout(\n",
    "    title='研究团队优势领域交叉融合网络',\n",
    "    showlegend=False,\n",
    "    hovermode='closest',\n",
    "    margin=dict(b=0, l=0, r=0, t=40),\n",
    "    xaxis=dict(showgrid=False, zeroline=False, showticklabels=False),\n",
    "    yaxis=dict(showgrid=False, zeroline=False, showticklabels=False),\n",
    "    annotations=[dict(\n",
    "        showarrow=False,\n",
    "        text=\"圆形: 研究领域 | 菱形: 优势单位\",\n",
    "        xref=\"paper\", yref=\"paper\",\n",
    "        x=0, y=-0.1\n",
    "    )],\n",
    "    plot_bgcolor='white'\n",
    ")\n",
    "\n",
    "# 显示图表\n",
    "fig.show()\n",
    "\n",
    "# 保存为HTML交互式文件\n",
    "fig.write_html(\"research_network.html\")"
   ]
  },
  {
   "cell_type": "code",
   "execution_count": 3,
   "id": "8b6aa88f",
   "metadata": {},
   "outputs": [
    {
     "data": {
      "application/vnd.plotly.v1+json": {
       "config": {
        "plotlyServerURL": "https://plot.ly"
       },
       "data": [
        {
         "customdata": [
          "field",
          "field",
          "field",
          "field",
          "field",
          "field",
          "field",
          "field",
          "field",
          "field",
          "institution",
          "institution",
          "institution",
          "institution",
          "institution",
          "institution"
         ],
         "hoverinfo": "none",
         "hovertemplate": "<b>%{text}</b><br>节点类型: %{customdata}<br><extra></extra>",
         "line": {
          "color": "rgba(100, 100, 100, 0.6)",
          "dash": "solid",
          "width": 2
         },
         "mode": "lines",
         "showlegend": false,
         "type": "scatter",
         "x": [
          -0.029224041103549998,
          0.5690109484751772
         ],
         "y": [
          0.8819287530257419,
          -0.13059363899049145
         ]
        },
        {
         "customdata": [
          "field",
          "field",
          "field",
          "field",
          "field",
          "field",
          "field",
          "field",
          "field",
          "field",
          "institution",
          "institution",
          "institution",
          "institution",
          "institution",
          "institution"
         ],
         "hoverinfo": "none",
         "hovertemplate": "<b>%{text}</b><br>节点类型: %{customdata}<br><extra></extra>",
         "line": {
          "color": "rgba(100, 100, 100, 0.6)",
          "dash": "solid",
          "width": 2
         },
         "mode": "lines",
         "showlegend": false,
         "type": "scatter",
         "x": [
          -0.029224041103549998,
          -0.8321532480655942
         ],
         "y": [
          0.8819287530257419,
          -0.007412768432071774
         ]
        },
        {
         "customdata": [
          "field",
          "field",
          "field",
          "field",
          "field",
          "field",
          "field",
          "field",
          "field",
          "field",
          "institution",
          "institution",
          "institution",
          "institution",
          "institution",
          "institution"
         ],
         "hoverinfo": "none",
         "hovertemplate": "<b>%{text}</b><br>节点类型: %{customdata}<br><extra></extra>",
         "line": {
          "color": "rgba(100, 100, 100, 0.6)",
          "dash": "solid",
          "width": 2
         },
         "mode": "lines",
         "showlegend": false,
         "type": "scatter",
         "x": [
          1,
          0.18994617035669006
         ],
         "y": [
          0.29513931544192984,
          0.5684524476327399
         ]
        },
        {
         "customdata": [
          "field",
          "field",
          "field",
          "field",
          "field",
          "field",
          "field",
          "field",
          "field",
          "field",
          "institution",
          "institution",
          "institution",
          "institution",
          "institution",
          "institution"
         ],
         "hoverinfo": "none",
         "hovertemplate": "<b>%{text}</b><br>节点类型: %{customdata}<br><extra></extra>",
         "line": {
          "color": "rgba(100, 100, 100, 0.6)",
          "dash": "solid",
          "width": 2
         },
         "mode": "lines",
         "showlegend": false,
         "type": "scatter",
         "x": [
          1,
          0.5690109484751772
         ],
         "y": [
          0.29513931544192984,
          -0.13059363899049145
         ]
        },
        {
         "customdata": [
          "field",
          "field",
          "field",
          "field",
          "field",
          "field",
          "field",
          "field",
          "field",
          "field",
          "institution",
          "institution",
          "institution",
          "institution",
          "institution",
          "institution"
         ],
         "hoverinfo": "none",
         "hovertemplate": "<b>%{text}</b><br>节点类型: %{customdata}<br><extra></extra>",
         "line": {
          "color": "rgba(100, 100, 100, 0.6)",
          "dash": "solid",
          "width": 2
         },
         "mode": "lines",
         "showlegend": false,
         "type": "scatter",
         "x": [
          -0.6215153112019421,
          -0.4984568422379729
         ],
         "y": [
          -0.7701590119916661,
          -0.20166011577628623
         ]
        },
        {
         "customdata": [
          "field",
          "field",
          "field",
          "field",
          "field",
          "field",
          "field",
          "field",
          "field",
          "field",
          "institution",
          "institution",
          "institution",
          "institution",
          "institution",
          "institution"
         ],
         "hoverinfo": "none",
         "hovertemplate": "<b>%{text}</b><br>节点类型: %{customdata}<br><extra></extra>",
         "line": {
          "color": "rgba(100, 100, 100, 0.6)",
          "dash": "solid",
          "width": 2
         },
         "mode": "lines",
         "showlegend": false,
         "type": "scatter",
         "x": [
          -0.6215153112019421,
          -0.04159354425296173
         ],
         "y": [
          -0.7701590119916661,
          -0.9594074275136716
         ]
        },
        {
         "customdata": [
          "field",
          "field",
          "field",
          "field",
          "field",
          "field",
          "field",
          "field",
          "field",
          "field",
          "institution",
          "institution",
          "institution",
          "institution",
          "institution",
          "institution"
         ],
         "hoverinfo": "none",
         "hovertemplate": "<b>%{text}</b><br>节点类型: %{customdata}<br><extra></extra>",
         "line": {
          "color": "rgba(100, 100, 100, 0.6)",
          "dash": "solid",
          "width": 2
         },
         "mode": "lines",
         "showlegend": false,
         "type": "scatter",
         "x": [
          -0.6215153112019421,
          -0.8321532480655942
         ],
         "y": [
          -0.7701590119916661,
          -0.007412768432071774
         ]
        },
        {
         "customdata": [
          "field",
          "field",
          "field",
          "field",
          "field",
          "field",
          "field",
          "field",
          "field",
          "field",
          "institution",
          "institution",
          "institution",
          "institution",
          "institution",
          "institution"
         ],
         "hoverinfo": "none",
         "hovertemplate": "<b>%{text}</b><br>节点类型: %{customdata}<br><extra></extra>",
         "line": {
          "color": "rgba(100, 100, 100, 0.6)",
          "dash": "solid",
          "width": 2
         },
         "mode": "lines",
         "showlegend": false,
         "type": "scatter",
         "x": [
          -0.8736743034944332,
          -0.8321532480655942
         ],
         "y": [
          0.5101462936624959,
          -0.007412768432071774
         ]
        },
        {
         "customdata": [
          "field",
          "field",
          "field",
          "field",
          "field",
          "field",
          "field",
          "field",
          "field",
          "field",
          "institution",
          "institution",
          "institution",
          "institution",
          "institution",
          "institution"
         ],
         "hoverinfo": "none",
         "hovertemplate": "<b>%{text}</b><br>节点类型: %{customdata}<br><extra></extra>",
         "line": {
          "color": "rgba(100, 100, 100, 0.6)",
          "dash": "solid",
          "width": 2
         },
         "mode": "lines",
         "showlegend": false,
         "type": "scatter",
         "x": [
          -0.8736743034944332,
          0.18994617035669006
         ],
         "y": [
          0.5101462936624959,
          0.5684524476327399
         ]
        },
        {
         "customdata": [
          "field",
          "field",
          "field",
          "field",
          "field",
          "field",
          "field",
          "field",
          "field",
          "field",
          "institution",
          "institution",
          "institution",
          "institution",
          "institution",
          "institution"
         ],
         "hoverinfo": "none",
         "hovertemplate": "<b>%{text}</b><br>节点类型: %{customdata}<br><extra></extra>",
         "line": {
          "color": "rgba(100, 100, 100, 0.6)",
          "dash": "solid",
          "width": 2
         },
         "mode": "lines",
         "showlegend": false,
         "type": "scatter",
         "x": [
          0.8510929829357873,
          0.5690109484751772
         ],
         "y": [
          0.5704399282793776,
          -0.13059363899049145
         ]
        },
        {
         "customdata": [
          "field",
          "field",
          "field",
          "field",
          "field",
          "field",
          "field",
          "field",
          "field",
          "field",
          "institution",
          "institution",
          "institution",
          "institution",
          "institution",
          "institution"
         ],
         "hoverinfo": "none",
         "hovertemplate": "<b>%{text}</b><br>节点类型: %{customdata}<br><extra></extra>",
         "line": {
          "color": "rgba(100, 100, 100, 0.6)",
          "dash": "solid",
          "width": 2
         },
         "mode": "lines",
         "showlegend": false,
         "type": "scatter",
         "x": [
          0.8510929829357873,
          0.9958540919644688
         ],
         "y": [
          0.5704399282793776,
          -0.13593839510669647
         ]
        },
        {
         "customdata": [
          "field",
          "field",
          "field",
          "field",
          "field",
          "field",
          "field",
          "field",
          "field",
          "field",
          "institution",
          "institution",
          "institution",
          "institution",
          "institution",
          "institution"
         ],
         "hoverinfo": "none",
         "hovertemplate": "<b>%{text}</b><br>节点类型: %{customdata}<br><extra></extra>",
         "line": {
          "color": "rgba(100, 100, 100, 0.6)",
          "dash": "solid",
          "width": 2
         },
         "mode": "lines",
         "showlegend": false,
         "type": "scatter",
         "x": [
          -0.5640808602401145,
          -0.04159354425296173
         ],
         "y": [
          0.2971120563441084,
          -0.9594074275136716
         ]
        },
        {
         "customdata": [
          "field",
          "field",
          "field",
          "field",
          "field",
          "field",
          "field",
          "field",
          "field",
          "field",
          "institution",
          "institution",
          "institution",
          "institution",
          "institution",
          "institution"
         ],
         "hoverinfo": "none",
         "hovertemplate": "<b>%{text}</b><br>节点类型: %{customdata}<br><extra></extra>",
         "line": {
          "color": "rgba(100, 100, 100, 0.6)",
          "dash": "solid",
          "width": 2
         },
         "mode": "lines",
         "showlegend": false,
         "type": "scatter",
         "x": [
          -0.5640808602401145,
          -0.8321532480655942
         ],
         "y": [
          0.2971120563441084,
          -0.007412768432071774
         ]
        },
        {
         "customdata": [
          "field",
          "field",
          "field",
          "field",
          "field",
          "field",
          "field",
          "field",
          "field",
          "field",
          "institution",
          "institution",
          "institution",
          "institution",
          "institution",
          "institution"
         ],
         "hoverinfo": "none",
         "hovertemplate": "<b>%{text}</b><br>节点类型: %{customdata}<br><extra></extra>",
         "line": {
          "color": "rgba(100, 100, 100, 0.6)",
          "dash": "solid",
          "width": 2
         },
         "mode": "lines",
         "showlegend": false,
         "type": "scatter",
         "x": [
          0.7206859400723367,
          0.5690109484751772
         ],
         "y": [
          -0.6318234915545493,
          -0.13059363899049145
         ]
        },
        {
         "customdata": [
          "field",
          "field",
          "field",
          "field",
          "field",
          "field",
          "field",
          "field",
          "field",
          "field",
          "institution",
          "institution",
          "institution",
          "institution",
          "institution",
          "institution"
         ],
         "hoverinfo": "none",
         "hovertemplate": "<b>%{text}</b><br>节点类型: %{customdata}<br><extra></extra>",
         "line": {
          "color": "rgba(100, 100, 100, 0.6)",
          "dash": "solid",
          "width": 2
         },
         "mode": "lines",
         "showlegend": false,
         "type": "scatter",
         "x": [
          0.7206859400723367,
          -0.4984568422379729
         ],
         "y": [
          -0.6318234915545493,
          -0.20166011577628623
         ]
        },
        {
         "customdata": [
          "field",
          "field",
          "field",
          "field",
          "field",
          "field",
          "field",
          "field",
          "field",
          "field",
          "institution",
          "institution",
          "institution",
          "institution",
          "institution",
          "institution"
         ],
         "hoverinfo": "none",
         "hovertemplate": "<b>%{text}</b><br>节点类型: %{customdata}<br><extra></extra>",
         "line": {
          "color": "rgba(100, 100, 100, 0.6)",
          "dash": "solid",
          "width": 2
         },
         "mode": "lines",
         "showlegend": false,
         "type": "scatter",
         "x": [
          -0.11233920018787574,
          0.9958540919644688
         ],
         "y": [
          -0.24081008698831657,
          -0.13593839510669647
         ]
        },
        {
         "customdata": [
          "field",
          "field",
          "field",
          "field",
          "field",
          "field",
          "field",
          "field",
          "field",
          "field",
          "institution",
          "institution",
          "institution",
          "institution",
          "institution",
          "institution"
         ],
         "hoverinfo": "none",
         "hovertemplate": "<b>%{text}</b><br>节点类型: %{customdata}<br><extra></extra>",
         "line": {
          "color": "rgba(100, 100, 100, 0.6)",
          "dash": "solid",
          "width": 2
         },
         "mode": "lines",
         "showlegend": false,
         "type": "scatter",
         "x": [
          -0.11233920018787574,
          0.18994617035669006
         ],
         "y": [
          -0.24081008698831657,
          0.5684524476327399
         ]
        },
        {
         "customdata": [
          "field",
          "field",
          "field",
          "field",
          "field",
          "field",
          "field",
          "field",
          "field",
          "field",
          "institution",
          "institution",
          "institution",
          "institution",
          "institution",
          "institution"
         ],
         "hoverinfo": "none",
         "hovertemplate": "<b>%{text}</b><br>节点类型: %{customdata}<br><extra></extra>",
         "line": {
          "color": "rgba(100, 100, 100, 0.6)",
          "dash": "solid",
          "width": 2
         },
         "mode": "lines",
         "showlegend": false,
         "type": "scatter",
         "x": [
          -0.4210764049578858,
          -0.8321532480655942
         ],
         "y": [
          0.826497625804697,
          -0.007412768432071774
         ]
        },
        {
         "customdata": [
          "field",
          "field",
          "field",
          "field",
          "field",
          "field",
          "field",
          "field",
          "field",
          "field",
          "institution",
          "institution",
          "institution",
          "institution",
          "institution",
          "institution"
         ],
         "hoverinfo": "none",
         "hovertemplate": "<b>%{text}</b><br>节点类型: %{customdata}<br><extra></extra>",
         "line": {
          "color": "rgba(100, 100, 100, 0.6)",
          "dash": "solid",
          "width": 2
         },
         "mode": "lines",
         "showlegend": false,
         "type": "scatter",
         "x": [
          -0.3324763780621297,
          -0.4984568422379729
         ],
         "y": [
          -0.8719114838373412,
          -0.20166011577628623
         ]
        },
        {
         "customdata": [
          "field",
          "field",
          "field",
          "field",
          "field",
          "field",
          "field",
          "field",
          "field",
          "field",
          "institution",
          "institution",
          "institution",
          "institution",
          "institution",
          "institution"
         ],
         "hoverinfo": "none",
         "hovertemplate": "<b>%{text}</b><br>节点类型: %{customdata}<br><extra></extra>",
         "line": {
          "color": "rgba(100, 100, 100, 0.6)",
          "dash": "solid",
          "width": 2
         },
         "mode": "lines",
         "showlegend": false,
         "type": "scatter",
         "x": [
          -0.3324763780621297,
          -0.04159354425296173
         ],
         "y": [
          -0.8719114838373412,
          -0.9594074275136716
         ]
        },
        {
         "customdata": [
          "field",
          "field",
          "field",
          "field",
          "field",
          "field",
          "field",
          "field",
          "field",
          "field",
          "institution",
          "institution",
          "institution",
          "institution",
          "institution",
          "institution"
         ],
         "hoverinfo": "none",
         "hovertemplate": "<b>%{text}</b><br>节点类型: %{customdata}<br><extra></extra>",
         "line": {
          "color": "rgba(100, 100, 100, 0.6)",
          "dash": "solid",
          "width": 2
         },
         "mode": "lines",
         "showlegend": false,
         "type": "scatter",
         "x": [
          -0.3324763780621297,
          -0.8321532480655942
         ],
         "y": [
          -0.8719114838373412,
          -0.007412768432071774
         ]
        },
        {
         "customdata": [
          "field",
          "field",
          "field",
          "field",
          "field",
          "field",
          "field",
          "field",
          "field",
          "field",
          "institution",
          "institution",
          "institution",
          "institution",
          "institution",
          "institution"
         ],
         "hoverinfo": "text",
         "hovertemplate": "<b>%{text}</b><br>节点类型: %{customdata}<br><extra></extra>",
         "marker": {
          "color": [
           "#1f77b4",
           "#aec7e8",
           "#ff7f0e",
           "#ffbb78",
           "#2ca02c",
           "#98df8a",
           "#d62728",
           "#ff9896",
           "#9467bd",
           "#c5b0d5",
           "#ab47bc",
           "#ef5350",
           "#ff6b6b",
           "#ffa726",
           "#66bb6a",
           "#42a5f5"
          ],
          "line": {
           "color": "white",
           "width": 3
          },
          "opacity": 0.9,
          "size": [
           35,
           35,
           35,
           35,
           35,
           35,
           35,
           35,
           35,
           35,
           40,
           40,
           40,
           40,
           40,
           40
          ],
          "symbol": [
           "circle",
           "circle",
           "circle",
           "circle",
           "circle",
           "circle",
           "circle",
           "circle",
           "circle",
           "circle",
           "diamond",
           "diamond",
           "diamond",
           "diamond",
           "diamond",
           "diamond"
          ]
         },
         "mode": "markers+text",
         "showlegend": false,
         "text": [
          "花粉管生物学",
          "囊泡运输",
          "细菌分泌",
          "大豆生物学",
          "浮萍生物学",
          "AI与算法",
          "结构生物学",
          "基因组编辑",
          "人工囊泡",
          "高通量平台",
          "南开大学",
          "先进院",
          "华南师大",
          "湖北大学",
          "天工所",
          "深理工"
         ],
         "textfont": {
          "color": "white",
          "family": "Arial, sans-serif",
          "size": 12
         },
         "textposition": "middle center",
         "type": "scatter",
         "x": [
          -0.029224041103549998,
          1,
          -0.6215153112019421,
          -0.8736743034944332,
          0.8510929829357873,
          -0.5640808602401145,
          0.7206859400723367,
          -0.11233920018787574,
          -0.4210764049578858,
          -0.3324763780621297,
          0.5690109484751772,
          -0.8321532480655942,
          0.18994617035669006,
          -0.4984568422379729,
          -0.04159354425296173,
          0.9958540919644688
         ],
         "y": [
          0.8819287530257419,
          0.29513931544192984,
          -0.7701590119916661,
          0.5101462936624959,
          0.5704399282793776,
          0.2971120563441084,
          -0.6318234915545493,
          -0.24081008698831657,
          0.826497625804697,
          -0.8719114838373412,
          -0.13059363899049145,
          -0.007412768432071774,
          0.5684524476327399,
          -0.20166011577628623,
          -0.9594074275136716,
          -0.13593839510669647
         ]
        }
       ],
       "layout": {
        "annotations": [
         {
          "font": {
           "color": "#34495e",
           "size": 14
          },
          "showarrow": false,
          "text": "<b>🔬 圆形: 研究领域</b> | <b>🏛️ 菱形: 优势单位</b>",
          "x": 0.5,
          "xanchor": "center",
          "xref": "paper",
          "y": -0.05,
          "yref": "paper"
         }
        ],
        "font": {
         "family": "Arial, sans-serif"
        },
        "hovermode": "closest",
        "margin": {
         "b": 60,
         "l": 20,
         "r": 20,
         "t": 80
        },
        "paper_bgcolor": "white",
        "plot_bgcolor": "rgba(248, 249, 250, 0.8)",
        "showlegend": false,
        "template": {
         "data": {
          "bar": [
           {
            "error_x": {
             "color": "#2a3f5f"
            },
            "error_y": {
             "color": "#2a3f5f"
            },
            "marker": {
             "line": {
              "color": "#E5ECF6",
              "width": 0.5
             },
             "pattern": {
              "fillmode": "overlay",
              "size": 10,
              "solidity": 0.2
             }
            },
            "type": "bar"
           }
          ],
          "barpolar": [
           {
            "marker": {
             "line": {
              "color": "#E5ECF6",
              "width": 0.5
             },
             "pattern": {
              "fillmode": "overlay",
              "size": 10,
              "solidity": 0.2
             }
            },
            "type": "barpolar"
           }
          ],
          "carpet": [
           {
            "aaxis": {
             "endlinecolor": "#2a3f5f",
             "gridcolor": "white",
             "linecolor": "white",
             "minorgridcolor": "white",
             "startlinecolor": "#2a3f5f"
            },
            "baxis": {
             "endlinecolor": "#2a3f5f",
             "gridcolor": "white",
             "linecolor": "white",
             "minorgridcolor": "white",
             "startlinecolor": "#2a3f5f"
            },
            "type": "carpet"
           }
          ],
          "choropleth": [
           {
            "colorbar": {
             "outlinewidth": 0,
             "ticks": ""
            },
            "type": "choropleth"
           }
          ],
          "contour": [
           {
            "colorbar": {
             "outlinewidth": 0,
             "ticks": ""
            },
            "colorscale": [
             [
              0,
              "#0d0887"
             ],
             [
              0.1111111111111111,
              "#46039f"
             ],
             [
              0.2222222222222222,
              "#7201a8"
             ],
             [
              0.3333333333333333,
              "#9c179e"
             ],
             [
              0.4444444444444444,
              "#bd3786"
             ],
             [
              0.5555555555555556,
              "#d8576b"
             ],
             [
              0.6666666666666666,
              "#ed7953"
             ],
             [
              0.7777777777777778,
              "#fb9f3a"
             ],
             [
              0.8888888888888888,
              "#fdca26"
             ],
             [
              1,
              "#f0f921"
             ]
            ],
            "type": "contour"
           }
          ],
          "contourcarpet": [
           {
            "colorbar": {
             "outlinewidth": 0,
             "ticks": ""
            },
            "type": "contourcarpet"
           }
          ],
          "heatmap": [
           {
            "colorbar": {
             "outlinewidth": 0,
             "ticks": ""
            },
            "colorscale": [
             [
              0,
              "#0d0887"
             ],
             [
              0.1111111111111111,
              "#46039f"
             ],
             [
              0.2222222222222222,
              "#7201a8"
             ],
             [
              0.3333333333333333,
              "#9c179e"
             ],
             [
              0.4444444444444444,
              "#bd3786"
             ],
             [
              0.5555555555555556,
              "#d8576b"
             ],
             [
              0.6666666666666666,
              "#ed7953"
             ],
             [
              0.7777777777777778,
              "#fb9f3a"
             ],
             [
              0.8888888888888888,
              "#fdca26"
             ],
             [
              1,
              "#f0f921"
             ]
            ],
            "type": "heatmap"
           }
          ],
          "heatmapgl": [
           {
            "colorbar": {
             "outlinewidth": 0,
             "ticks": ""
            },
            "colorscale": [
             [
              0,
              "#0d0887"
             ],
             [
              0.1111111111111111,
              "#46039f"
             ],
             [
              0.2222222222222222,
              "#7201a8"
             ],
             [
              0.3333333333333333,
              "#9c179e"
             ],
             [
              0.4444444444444444,
              "#bd3786"
             ],
             [
              0.5555555555555556,
              "#d8576b"
             ],
             [
              0.6666666666666666,
              "#ed7953"
             ],
             [
              0.7777777777777778,
              "#fb9f3a"
             ],
             [
              0.8888888888888888,
              "#fdca26"
             ],
             [
              1,
              "#f0f921"
             ]
            ],
            "type": "heatmapgl"
           }
          ],
          "histogram": [
           {
            "marker": {
             "pattern": {
              "fillmode": "overlay",
              "size": 10,
              "solidity": 0.2
             }
            },
            "type": "histogram"
           }
          ],
          "histogram2d": [
           {
            "colorbar": {
             "outlinewidth": 0,
             "ticks": ""
            },
            "colorscale": [
             [
              0,
              "#0d0887"
             ],
             [
              0.1111111111111111,
              "#46039f"
             ],
             [
              0.2222222222222222,
              "#7201a8"
             ],
             [
              0.3333333333333333,
              "#9c179e"
             ],
             [
              0.4444444444444444,
              "#bd3786"
             ],
             [
              0.5555555555555556,
              "#d8576b"
             ],
             [
              0.6666666666666666,
              "#ed7953"
             ],
             [
              0.7777777777777778,
              "#fb9f3a"
             ],
             [
              0.8888888888888888,
              "#fdca26"
             ],
             [
              1,
              "#f0f921"
             ]
            ],
            "type": "histogram2d"
           }
          ],
          "histogram2dcontour": [
           {
            "colorbar": {
             "outlinewidth": 0,
             "ticks": ""
            },
            "colorscale": [
             [
              0,
              "#0d0887"
             ],
             [
              0.1111111111111111,
              "#46039f"
             ],
             [
              0.2222222222222222,
              "#7201a8"
             ],
             [
              0.3333333333333333,
              "#9c179e"
             ],
             [
              0.4444444444444444,
              "#bd3786"
             ],
             [
              0.5555555555555556,
              "#d8576b"
             ],
             [
              0.6666666666666666,
              "#ed7953"
             ],
             [
              0.7777777777777778,
              "#fb9f3a"
             ],
             [
              0.8888888888888888,
              "#fdca26"
             ],
             [
              1,
              "#f0f921"
             ]
            ],
            "type": "histogram2dcontour"
           }
          ],
          "mesh3d": [
           {
            "colorbar": {
             "outlinewidth": 0,
             "ticks": ""
            },
            "type": "mesh3d"
           }
          ],
          "parcoords": [
           {
            "line": {
             "colorbar": {
              "outlinewidth": 0,
              "ticks": ""
             }
            },
            "type": "parcoords"
           }
          ],
          "pie": [
           {
            "automargin": true,
            "type": "pie"
           }
          ],
          "scatter": [
           {
            "fillpattern": {
             "fillmode": "overlay",
             "size": 10,
             "solidity": 0.2
            },
            "type": "scatter"
           }
          ],
          "scatter3d": [
           {
            "line": {
             "colorbar": {
              "outlinewidth": 0,
              "ticks": ""
             }
            },
            "marker": {
             "colorbar": {
              "outlinewidth": 0,
              "ticks": ""
             }
            },
            "type": "scatter3d"
           }
          ],
          "scattercarpet": [
           {
            "marker": {
             "colorbar": {
              "outlinewidth": 0,
              "ticks": ""
             }
            },
            "type": "scattercarpet"
           }
          ],
          "scattergeo": [
           {
            "marker": {
             "colorbar": {
              "outlinewidth": 0,
              "ticks": ""
             }
            },
            "type": "scattergeo"
           }
          ],
          "scattergl": [
           {
            "marker": {
             "colorbar": {
              "outlinewidth": 0,
              "ticks": ""
             }
            },
            "type": "scattergl"
           }
          ],
          "scattermapbox": [
           {
            "marker": {
             "colorbar": {
              "outlinewidth": 0,
              "ticks": ""
             }
            },
            "type": "scattermapbox"
           }
          ],
          "scatterpolar": [
           {
            "marker": {
             "colorbar": {
              "outlinewidth": 0,
              "ticks": ""
             }
            },
            "type": "scatterpolar"
           }
          ],
          "scatterpolargl": [
           {
            "marker": {
             "colorbar": {
              "outlinewidth": 0,
              "ticks": ""
             }
            },
            "type": "scatterpolargl"
           }
          ],
          "scatterternary": [
           {
            "marker": {
             "colorbar": {
              "outlinewidth": 0,
              "ticks": ""
             }
            },
            "type": "scatterternary"
           }
          ],
          "surface": [
           {
            "colorbar": {
             "outlinewidth": 0,
             "ticks": ""
            },
            "colorscale": [
             [
              0,
              "#0d0887"
             ],
             [
              0.1111111111111111,
              "#46039f"
             ],
             [
              0.2222222222222222,
              "#7201a8"
             ],
             [
              0.3333333333333333,
              "#9c179e"
             ],
             [
              0.4444444444444444,
              "#bd3786"
             ],
             [
              0.5555555555555556,
              "#d8576b"
             ],
             [
              0.6666666666666666,
              "#ed7953"
             ],
             [
              0.7777777777777778,
              "#fb9f3a"
             ],
             [
              0.8888888888888888,
              "#fdca26"
             ],
             [
              1,
              "#f0f921"
             ]
            ],
            "type": "surface"
           }
          ],
          "table": [
           {
            "cells": {
             "fill": {
              "color": "#EBF0F8"
             },
             "line": {
              "color": "white"
             }
            },
            "header": {
             "fill": {
              "color": "#C8D4E3"
             },
             "line": {
              "color": "white"
             }
            },
            "type": "table"
           }
          ]
         },
         "layout": {
          "annotationdefaults": {
           "arrowcolor": "#2a3f5f",
           "arrowhead": 0,
           "arrowwidth": 1
          },
          "autotypenumbers": "strict",
          "coloraxis": {
           "colorbar": {
            "outlinewidth": 0,
            "ticks": ""
           }
          },
          "colorscale": {
           "diverging": [
            [
             0,
             "#8e0152"
            ],
            [
             0.1,
             "#c51b7d"
            ],
            [
             0.2,
             "#de77ae"
            ],
            [
             0.3,
             "#f1b6da"
            ],
            [
             0.4,
             "#fde0ef"
            ],
            [
             0.5,
             "#f7f7f7"
            ],
            [
             0.6,
             "#e6f5d0"
            ],
            [
             0.7,
             "#b8e186"
            ],
            [
             0.8,
             "#7fbc41"
            ],
            [
             0.9,
             "#4d9221"
            ],
            [
             1,
             "#276419"
            ]
           ],
           "sequential": [
            [
             0,
             "#0d0887"
            ],
            [
             0.1111111111111111,
             "#46039f"
            ],
            [
             0.2222222222222222,
             "#7201a8"
            ],
            [
             0.3333333333333333,
             "#9c179e"
            ],
            [
             0.4444444444444444,
             "#bd3786"
            ],
            [
             0.5555555555555556,
             "#d8576b"
            ],
            [
             0.6666666666666666,
             "#ed7953"
            ],
            [
             0.7777777777777778,
             "#fb9f3a"
            ],
            [
             0.8888888888888888,
             "#fdca26"
            ],
            [
             1,
             "#f0f921"
            ]
           ],
           "sequentialminus": [
            [
             0,
             "#0d0887"
            ],
            [
             0.1111111111111111,
             "#46039f"
            ],
            [
             0.2222222222222222,
             "#7201a8"
            ],
            [
             0.3333333333333333,
             "#9c179e"
            ],
            [
             0.4444444444444444,
             "#bd3786"
            ],
            [
             0.5555555555555556,
             "#d8576b"
            ],
            [
             0.6666666666666666,
             "#ed7953"
            ],
            [
             0.7777777777777778,
             "#fb9f3a"
            ],
            [
             0.8888888888888888,
             "#fdca26"
            ],
            [
             1,
             "#f0f921"
            ]
           ]
          },
          "colorway": [
           "#636efa",
           "#EF553B",
           "#00cc96",
           "#ab63fa",
           "#FFA15A",
           "#19d3f3",
           "#FF6692",
           "#B6E880",
           "#FF97FF",
           "#FECB52"
          ],
          "font": {
           "color": "#2a3f5f"
          },
          "geo": {
           "bgcolor": "white",
           "lakecolor": "white",
           "landcolor": "#E5ECF6",
           "showlakes": true,
           "showland": true,
           "subunitcolor": "white"
          },
          "hoverlabel": {
           "align": "left"
          },
          "hovermode": "closest",
          "mapbox": {
           "style": "light"
          },
          "paper_bgcolor": "white",
          "plot_bgcolor": "#E5ECF6",
          "polar": {
           "angularaxis": {
            "gridcolor": "white",
            "linecolor": "white",
            "ticks": ""
           },
           "bgcolor": "#E5ECF6",
           "radialaxis": {
            "gridcolor": "white",
            "linecolor": "white",
            "ticks": ""
           }
          },
          "scene": {
           "xaxis": {
            "backgroundcolor": "#E5ECF6",
            "gridcolor": "white",
            "gridwidth": 2,
            "linecolor": "white",
            "showbackground": true,
            "ticks": "",
            "zerolinecolor": "white"
           },
           "yaxis": {
            "backgroundcolor": "#E5ECF6",
            "gridcolor": "white",
            "gridwidth": 2,
            "linecolor": "white",
            "showbackground": true,
            "ticks": "",
            "zerolinecolor": "white"
           },
           "zaxis": {
            "backgroundcolor": "#E5ECF6",
            "gridcolor": "white",
            "gridwidth": 2,
            "linecolor": "white",
            "showbackground": true,
            "ticks": "",
            "zerolinecolor": "white"
           }
          },
          "shapedefaults": {
           "line": {
            "color": "#2a3f5f"
           }
          },
          "ternary": {
           "aaxis": {
            "gridcolor": "white",
            "linecolor": "white",
            "ticks": ""
           },
           "baxis": {
            "gridcolor": "white",
            "linecolor": "white",
            "ticks": ""
           },
           "bgcolor": "#E5ECF6",
           "caxis": {
            "gridcolor": "white",
            "linecolor": "white",
            "ticks": ""
           }
          },
          "title": {
           "x": 0.05
          },
          "xaxis": {
           "automargin": true,
           "gridcolor": "white",
           "linecolor": "white",
           "ticks": "",
           "title": {
            "standoff": 15
           },
           "zerolinecolor": "white",
           "zerolinewidth": 2
          },
          "yaxis": {
           "automargin": true,
           "gridcolor": "white",
           "linecolor": "white",
           "ticks": "",
           "title": {
            "standoff": 15
           },
           "zerolinecolor": "white",
           "zerolinewidth": 2
          }
         }
        },
        "title": {
         "font": {
          "color": "#2c3e50",
          "family": "Arial, sans-serif",
          "size": 24
         },
         "text": "<b>研究团队优势领域交叉融合网络</b>",
         "x": 0.5,
         "xanchor": "center"
        },
        "xaxis": {
         "scaleanchor": "y",
         "scaleratio": 1,
         "showgrid": false,
         "showticklabels": false,
         "zeroline": false
        },
        "yaxis": {
         "showgrid": false,
         "showticklabels": false,
         "zeroline": false
        }
       }
      },
      "text/html": [
       "<div>                            <div id=\"0663bbec-6ab2-40f6-932f-13f95135e992\" class=\"plotly-graph-div\" style=\"height:525px; width:100%;\"></div>            <script type=\"text/javascript\">                require([\"plotly\"], function(Plotly) {                    window.PLOTLYENV=window.PLOTLYENV || {};                                    if (document.getElementById(\"0663bbec-6ab2-40f6-932f-13f95135e992\")) {                    Plotly.newPlot(                        \"0663bbec-6ab2-40f6-932f-13f95135e992\",                        [{\"hoverinfo\":\"none\",\"line\":{\"color\":\"rgba(100, 100, 100, 0.6)\",\"dash\":\"solid\",\"width\":2},\"mode\":\"lines\",\"showlegend\":false,\"x\":[-0.029224041103549998,0.5690109484751772],\"y\":[0.8819287530257419,-0.13059363899049145],\"type\":\"scatter\",\"customdata\":[\"field\",\"field\",\"field\",\"field\",\"field\",\"field\",\"field\",\"field\",\"field\",\"field\",\"institution\",\"institution\",\"institution\",\"institution\",\"institution\",\"institution\"],\"hovertemplate\":\"\\u003cb\\u003e%{text}\\u003c\\u002fb\\u003e\\u003cbr\\u003e\\u8282\\u70b9\\u7c7b\\u578b: %{customdata}\\u003cbr\\u003e\\u003cextra\\u003e\\u003c\\u002fextra\\u003e\"},{\"hoverinfo\":\"none\",\"line\":{\"color\":\"rgba(100, 100, 100, 0.6)\",\"dash\":\"solid\",\"width\":2},\"mode\":\"lines\",\"showlegend\":false,\"x\":[-0.029224041103549998,-0.8321532480655942],\"y\":[0.8819287530257419,-0.007412768432071774],\"type\":\"scatter\",\"customdata\":[\"field\",\"field\",\"field\",\"field\",\"field\",\"field\",\"field\",\"field\",\"field\",\"field\",\"institution\",\"institution\",\"institution\",\"institution\",\"institution\",\"institution\"],\"hovertemplate\":\"\\u003cb\\u003e%{text}\\u003c\\u002fb\\u003e\\u003cbr\\u003e\\u8282\\u70b9\\u7c7b\\u578b: %{customdata}\\u003cbr\\u003e\\u003cextra\\u003e\\u003c\\u002fextra\\u003e\"},{\"hoverinfo\":\"none\",\"line\":{\"color\":\"rgba(100, 100, 100, 0.6)\",\"dash\":\"solid\",\"width\":2},\"mode\":\"lines\",\"showlegend\":false,\"x\":[1.0,0.18994617035669006],\"y\":[0.29513931544192984,0.5684524476327399],\"type\":\"scatter\",\"customdata\":[\"field\",\"field\",\"field\",\"field\",\"field\",\"field\",\"field\",\"field\",\"field\",\"field\",\"institution\",\"institution\",\"institution\",\"institution\",\"institution\",\"institution\"],\"hovertemplate\":\"\\u003cb\\u003e%{text}\\u003c\\u002fb\\u003e\\u003cbr\\u003e\\u8282\\u70b9\\u7c7b\\u578b: %{customdata}\\u003cbr\\u003e\\u003cextra\\u003e\\u003c\\u002fextra\\u003e\"},{\"hoverinfo\":\"none\",\"line\":{\"color\":\"rgba(100, 100, 100, 0.6)\",\"dash\":\"solid\",\"width\":2},\"mode\":\"lines\",\"showlegend\":false,\"x\":[1.0,0.5690109484751772],\"y\":[0.29513931544192984,-0.13059363899049145],\"type\":\"scatter\",\"customdata\":[\"field\",\"field\",\"field\",\"field\",\"field\",\"field\",\"field\",\"field\",\"field\",\"field\",\"institution\",\"institution\",\"institution\",\"institution\",\"institution\",\"institution\"],\"hovertemplate\":\"\\u003cb\\u003e%{text}\\u003c\\u002fb\\u003e\\u003cbr\\u003e\\u8282\\u70b9\\u7c7b\\u578b: %{customdata}\\u003cbr\\u003e\\u003cextra\\u003e\\u003c\\u002fextra\\u003e\"},{\"hoverinfo\":\"none\",\"line\":{\"color\":\"rgba(100, 100, 100, 0.6)\",\"dash\":\"solid\",\"width\":2},\"mode\":\"lines\",\"showlegend\":false,\"x\":[-0.6215153112019421,-0.4984568422379729],\"y\":[-0.7701590119916661,-0.20166011577628623],\"type\":\"scatter\",\"customdata\":[\"field\",\"field\",\"field\",\"field\",\"field\",\"field\",\"field\",\"field\",\"field\",\"field\",\"institution\",\"institution\",\"institution\",\"institution\",\"institution\",\"institution\"],\"hovertemplate\":\"\\u003cb\\u003e%{text}\\u003c\\u002fb\\u003e\\u003cbr\\u003e\\u8282\\u70b9\\u7c7b\\u578b: %{customdata}\\u003cbr\\u003e\\u003cextra\\u003e\\u003c\\u002fextra\\u003e\"},{\"hoverinfo\":\"none\",\"line\":{\"color\":\"rgba(100, 100, 100, 0.6)\",\"dash\":\"solid\",\"width\":2},\"mode\":\"lines\",\"showlegend\":false,\"x\":[-0.6215153112019421,-0.04159354425296173],\"y\":[-0.7701590119916661,-0.9594074275136716],\"type\":\"scatter\",\"customdata\":[\"field\",\"field\",\"field\",\"field\",\"field\",\"field\",\"field\",\"field\",\"field\",\"field\",\"institution\",\"institution\",\"institution\",\"institution\",\"institution\",\"institution\"],\"hovertemplate\":\"\\u003cb\\u003e%{text}\\u003c\\u002fb\\u003e\\u003cbr\\u003e\\u8282\\u70b9\\u7c7b\\u578b: %{customdata}\\u003cbr\\u003e\\u003cextra\\u003e\\u003c\\u002fextra\\u003e\"},{\"hoverinfo\":\"none\",\"line\":{\"color\":\"rgba(100, 100, 100, 0.6)\",\"dash\":\"solid\",\"width\":2},\"mode\":\"lines\",\"showlegend\":false,\"x\":[-0.6215153112019421,-0.8321532480655942],\"y\":[-0.7701590119916661,-0.007412768432071774],\"type\":\"scatter\",\"customdata\":[\"field\",\"field\",\"field\",\"field\",\"field\",\"field\",\"field\",\"field\",\"field\",\"field\",\"institution\",\"institution\",\"institution\",\"institution\",\"institution\",\"institution\"],\"hovertemplate\":\"\\u003cb\\u003e%{text}\\u003c\\u002fb\\u003e\\u003cbr\\u003e\\u8282\\u70b9\\u7c7b\\u578b: %{customdata}\\u003cbr\\u003e\\u003cextra\\u003e\\u003c\\u002fextra\\u003e\"},{\"hoverinfo\":\"none\",\"line\":{\"color\":\"rgba(100, 100, 100, 0.6)\",\"dash\":\"solid\",\"width\":2},\"mode\":\"lines\",\"showlegend\":false,\"x\":[-0.8736743034944332,-0.8321532480655942],\"y\":[0.5101462936624959,-0.007412768432071774],\"type\":\"scatter\",\"customdata\":[\"field\",\"field\",\"field\",\"field\",\"field\",\"field\",\"field\",\"field\",\"field\",\"field\",\"institution\",\"institution\",\"institution\",\"institution\",\"institution\",\"institution\"],\"hovertemplate\":\"\\u003cb\\u003e%{text}\\u003c\\u002fb\\u003e\\u003cbr\\u003e\\u8282\\u70b9\\u7c7b\\u578b: %{customdata}\\u003cbr\\u003e\\u003cextra\\u003e\\u003c\\u002fextra\\u003e\"},{\"hoverinfo\":\"none\",\"line\":{\"color\":\"rgba(100, 100, 100, 0.6)\",\"dash\":\"solid\",\"width\":2},\"mode\":\"lines\",\"showlegend\":false,\"x\":[-0.8736743034944332,0.18994617035669006],\"y\":[0.5101462936624959,0.5684524476327399],\"type\":\"scatter\",\"customdata\":[\"field\",\"field\",\"field\",\"field\",\"field\",\"field\",\"field\",\"field\",\"field\",\"field\",\"institution\",\"institution\",\"institution\",\"institution\",\"institution\",\"institution\"],\"hovertemplate\":\"\\u003cb\\u003e%{text}\\u003c\\u002fb\\u003e\\u003cbr\\u003e\\u8282\\u70b9\\u7c7b\\u578b: %{customdata}\\u003cbr\\u003e\\u003cextra\\u003e\\u003c\\u002fextra\\u003e\"},{\"hoverinfo\":\"none\",\"line\":{\"color\":\"rgba(100, 100, 100, 0.6)\",\"dash\":\"solid\",\"width\":2},\"mode\":\"lines\",\"showlegend\":false,\"x\":[0.8510929829357873,0.5690109484751772],\"y\":[0.5704399282793776,-0.13059363899049145],\"type\":\"scatter\",\"customdata\":[\"field\",\"field\",\"field\",\"field\",\"field\",\"field\",\"field\",\"field\",\"field\",\"field\",\"institution\",\"institution\",\"institution\",\"institution\",\"institution\",\"institution\"],\"hovertemplate\":\"\\u003cb\\u003e%{text}\\u003c\\u002fb\\u003e\\u003cbr\\u003e\\u8282\\u70b9\\u7c7b\\u578b: %{customdata}\\u003cbr\\u003e\\u003cextra\\u003e\\u003c\\u002fextra\\u003e\"},{\"hoverinfo\":\"none\",\"line\":{\"color\":\"rgba(100, 100, 100, 0.6)\",\"dash\":\"solid\",\"width\":2},\"mode\":\"lines\",\"showlegend\":false,\"x\":[0.8510929829357873,0.9958540919644688],\"y\":[0.5704399282793776,-0.13593839510669647],\"type\":\"scatter\",\"customdata\":[\"field\",\"field\",\"field\",\"field\",\"field\",\"field\",\"field\",\"field\",\"field\",\"field\",\"institution\",\"institution\",\"institution\",\"institution\",\"institution\",\"institution\"],\"hovertemplate\":\"\\u003cb\\u003e%{text}\\u003c\\u002fb\\u003e\\u003cbr\\u003e\\u8282\\u70b9\\u7c7b\\u578b: %{customdata}\\u003cbr\\u003e\\u003cextra\\u003e\\u003c\\u002fextra\\u003e\"},{\"hoverinfo\":\"none\",\"line\":{\"color\":\"rgba(100, 100, 100, 0.6)\",\"dash\":\"solid\",\"width\":2},\"mode\":\"lines\",\"showlegend\":false,\"x\":[-0.5640808602401145,-0.04159354425296173],\"y\":[0.2971120563441084,-0.9594074275136716],\"type\":\"scatter\",\"customdata\":[\"field\",\"field\",\"field\",\"field\",\"field\",\"field\",\"field\",\"field\",\"field\",\"field\",\"institution\",\"institution\",\"institution\",\"institution\",\"institution\",\"institution\"],\"hovertemplate\":\"\\u003cb\\u003e%{text}\\u003c\\u002fb\\u003e\\u003cbr\\u003e\\u8282\\u70b9\\u7c7b\\u578b: %{customdata}\\u003cbr\\u003e\\u003cextra\\u003e\\u003c\\u002fextra\\u003e\"},{\"hoverinfo\":\"none\",\"line\":{\"color\":\"rgba(100, 100, 100, 0.6)\",\"dash\":\"solid\",\"width\":2},\"mode\":\"lines\",\"showlegend\":false,\"x\":[-0.5640808602401145,-0.8321532480655942],\"y\":[0.2971120563441084,-0.007412768432071774],\"type\":\"scatter\",\"customdata\":[\"field\",\"field\",\"field\",\"field\",\"field\",\"field\",\"field\",\"field\",\"field\",\"field\",\"institution\",\"institution\",\"institution\",\"institution\",\"institution\",\"institution\"],\"hovertemplate\":\"\\u003cb\\u003e%{text}\\u003c\\u002fb\\u003e\\u003cbr\\u003e\\u8282\\u70b9\\u7c7b\\u578b: %{customdata}\\u003cbr\\u003e\\u003cextra\\u003e\\u003c\\u002fextra\\u003e\"},{\"hoverinfo\":\"none\",\"line\":{\"color\":\"rgba(100, 100, 100, 0.6)\",\"dash\":\"solid\",\"width\":2},\"mode\":\"lines\",\"showlegend\":false,\"x\":[0.7206859400723367,0.5690109484751772],\"y\":[-0.6318234915545493,-0.13059363899049145],\"type\":\"scatter\",\"customdata\":[\"field\",\"field\",\"field\",\"field\",\"field\",\"field\",\"field\",\"field\",\"field\",\"field\",\"institution\",\"institution\",\"institution\",\"institution\",\"institution\",\"institution\"],\"hovertemplate\":\"\\u003cb\\u003e%{text}\\u003c\\u002fb\\u003e\\u003cbr\\u003e\\u8282\\u70b9\\u7c7b\\u578b: %{customdata}\\u003cbr\\u003e\\u003cextra\\u003e\\u003c\\u002fextra\\u003e\"},{\"hoverinfo\":\"none\",\"line\":{\"color\":\"rgba(100, 100, 100, 0.6)\",\"dash\":\"solid\",\"width\":2},\"mode\":\"lines\",\"showlegend\":false,\"x\":[0.7206859400723367,-0.4984568422379729],\"y\":[-0.6318234915545493,-0.20166011577628623],\"type\":\"scatter\",\"customdata\":[\"field\",\"field\",\"field\",\"field\",\"field\",\"field\",\"field\",\"field\",\"field\",\"field\",\"institution\",\"institution\",\"institution\",\"institution\",\"institution\",\"institution\"],\"hovertemplate\":\"\\u003cb\\u003e%{text}\\u003c\\u002fb\\u003e\\u003cbr\\u003e\\u8282\\u70b9\\u7c7b\\u578b: %{customdata}\\u003cbr\\u003e\\u003cextra\\u003e\\u003c\\u002fextra\\u003e\"},{\"hoverinfo\":\"none\",\"line\":{\"color\":\"rgba(100, 100, 100, 0.6)\",\"dash\":\"solid\",\"width\":2},\"mode\":\"lines\",\"showlegend\":false,\"x\":[-0.11233920018787574,0.9958540919644688],\"y\":[-0.24081008698831657,-0.13593839510669647],\"type\":\"scatter\",\"customdata\":[\"field\",\"field\",\"field\",\"field\",\"field\",\"field\",\"field\",\"field\",\"field\",\"field\",\"institution\",\"institution\",\"institution\",\"institution\",\"institution\",\"institution\"],\"hovertemplate\":\"\\u003cb\\u003e%{text}\\u003c\\u002fb\\u003e\\u003cbr\\u003e\\u8282\\u70b9\\u7c7b\\u578b: %{customdata}\\u003cbr\\u003e\\u003cextra\\u003e\\u003c\\u002fextra\\u003e\"},{\"hoverinfo\":\"none\",\"line\":{\"color\":\"rgba(100, 100, 100, 0.6)\",\"dash\":\"solid\",\"width\":2},\"mode\":\"lines\",\"showlegend\":false,\"x\":[-0.11233920018787574,0.18994617035669006],\"y\":[-0.24081008698831657,0.5684524476327399],\"type\":\"scatter\",\"customdata\":[\"field\",\"field\",\"field\",\"field\",\"field\",\"field\",\"field\",\"field\",\"field\",\"field\",\"institution\",\"institution\",\"institution\",\"institution\",\"institution\",\"institution\"],\"hovertemplate\":\"\\u003cb\\u003e%{text}\\u003c\\u002fb\\u003e\\u003cbr\\u003e\\u8282\\u70b9\\u7c7b\\u578b: %{customdata}\\u003cbr\\u003e\\u003cextra\\u003e\\u003c\\u002fextra\\u003e\"},{\"hoverinfo\":\"none\",\"line\":{\"color\":\"rgba(100, 100, 100, 0.6)\",\"dash\":\"solid\",\"width\":2},\"mode\":\"lines\",\"showlegend\":false,\"x\":[-0.4210764049578858,-0.8321532480655942],\"y\":[0.826497625804697,-0.007412768432071774],\"type\":\"scatter\",\"customdata\":[\"field\",\"field\",\"field\",\"field\",\"field\",\"field\",\"field\",\"field\",\"field\",\"field\",\"institution\",\"institution\",\"institution\",\"institution\",\"institution\",\"institution\"],\"hovertemplate\":\"\\u003cb\\u003e%{text}\\u003c\\u002fb\\u003e\\u003cbr\\u003e\\u8282\\u70b9\\u7c7b\\u578b: %{customdata}\\u003cbr\\u003e\\u003cextra\\u003e\\u003c\\u002fextra\\u003e\"},{\"hoverinfo\":\"none\",\"line\":{\"color\":\"rgba(100, 100, 100, 0.6)\",\"dash\":\"solid\",\"width\":2},\"mode\":\"lines\",\"showlegend\":false,\"x\":[-0.3324763780621297,-0.4984568422379729],\"y\":[-0.8719114838373412,-0.20166011577628623],\"type\":\"scatter\",\"customdata\":[\"field\",\"field\",\"field\",\"field\",\"field\",\"field\",\"field\",\"field\",\"field\",\"field\",\"institution\",\"institution\",\"institution\",\"institution\",\"institution\",\"institution\"],\"hovertemplate\":\"\\u003cb\\u003e%{text}\\u003c\\u002fb\\u003e\\u003cbr\\u003e\\u8282\\u70b9\\u7c7b\\u578b: %{customdata}\\u003cbr\\u003e\\u003cextra\\u003e\\u003c\\u002fextra\\u003e\"},{\"hoverinfo\":\"none\",\"line\":{\"color\":\"rgba(100, 100, 100, 0.6)\",\"dash\":\"solid\",\"width\":2},\"mode\":\"lines\",\"showlegend\":false,\"x\":[-0.3324763780621297,-0.04159354425296173],\"y\":[-0.8719114838373412,-0.9594074275136716],\"type\":\"scatter\",\"customdata\":[\"field\",\"field\",\"field\",\"field\",\"field\",\"field\",\"field\",\"field\",\"field\",\"field\",\"institution\",\"institution\",\"institution\",\"institution\",\"institution\",\"institution\"],\"hovertemplate\":\"\\u003cb\\u003e%{text}\\u003c\\u002fb\\u003e\\u003cbr\\u003e\\u8282\\u70b9\\u7c7b\\u578b: %{customdata}\\u003cbr\\u003e\\u003cextra\\u003e\\u003c\\u002fextra\\u003e\"},{\"hoverinfo\":\"none\",\"line\":{\"color\":\"rgba(100, 100, 100, 0.6)\",\"dash\":\"solid\",\"width\":2},\"mode\":\"lines\",\"showlegend\":false,\"x\":[-0.3324763780621297,-0.8321532480655942],\"y\":[-0.8719114838373412,-0.007412768432071774],\"type\":\"scatter\",\"customdata\":[\"field\",\"field\",\"field\",\"field\",\"field\",\"field\",\"field\",\"field\",\"field\",\"field\",\"institution\",\"institution\",\"institution\",\"institution\",\"institution\",\"institution\"],\"hovertemplate\":\"\\u003cb\\u003e%{text}\\u003c\\u002fb\\u003e\\u003cbr\\u003e\\u8282\\u70b9\\u7c7b\\u578b: %{customdata}\\u003cbr\\u003e\\u003cextra\\u003e\\u003c\\u002fextra\\u003e\"},{\"hoverinfo\":\"text\",\"marker\":{\"color\":[\"#1f77b4\",\"#aec7e8\",\"#ff7f0e\",\"#ffbb78\",\"#2ca02c\",\"#98df8a\",\"#d62728\",\"#ff9896\",\"#9467bd\",\"#c5b0d5\",\"#ab47bc\",\"#ef5350\",\"#ff6b6b\",\"#ffa726\",\"#66bb6a\",\"#42a5f5\"],\"line\":{\"color\":\"white\",\"width\":3},\"opacity\":0.9,\"size\":[35,35,35,35,35,35,35,35,35,35,40,40,40,40,40,40],\"symbol\":[\"circle\",\"circle\",\"circle\",\"circle\",\"circle\",\"circle\",\"circle\",\"circle\",\"circle\",\"circle\",\"diamond\",\"diamond\",\"diamond\",\"diamond\",\"diamond\",\"diamond\"]},\"mode\":\"markers+text\",\"showlegend\":false,\"text\":[\"\\u82b1\\u7c89\\u7ba1\\u751f\\u7269\\u5b66\",\"\\u56ca\\u6ce1\\u8fd0\\u8f93\",\"\\u7ec6\\u83cc\\u5206\\u6ccc\",\"\\u5927\\u8c46\\u751f\\u7269\\u5b66\",\"\\u6d6e\\u840d\\u751f\\u7269\\u5b66\",\"AI\\u4e0e\\u7b97\\u6cd5\",\"\\u7ed3\\u6784\\u751f\\u7269\\u5b66\",\"\\u57fa\\u56e0\\u7ec4\\u7f16\\u8f91\",\"\\u4eba\\u5de5\\u56ca\\u6ce1\",\"\\u9ad8\\u901a\\u91cf\\u5e73\\u53f0\",\"\\u5357\\u5f00\\u5927\\u5b66\",\"\\u5148\\u8fdb\\u9662\",\"\\u534e\\u5357\\u5e08\\u5927\",\"\\u6e56\\u5317\\u5927\\u5b66\",\"\\u5929\\u5de5\\u6240\",\"\\u6df1\\u7406\\u5de5\"],\"textfont\":{\"color\":\"white\",\"family\":\"Arial, sans-serif\",\"size\":12},\"textposition\":\"middle center\",\"x\":[-0.029224041103549998,1.0,-0.6215153112019421,-0.8736743034944332,0.8510929829357873,-0.5640808602401145,0.7206859400723367,-0.11233920018787574,-0.4210764049578858,-0.3324763780621297,0.5690109484751772,-0.8321532480655942,0.18994617035669006,-0.4984568422379729,-0.04159354425296173,0.9958540919644688],\"y\":[0.8819287530257419,0.29513931544192984,-0.7701590119916661,0.5101462936624959,0.5704399282793776,0.2971120563441084,-0.6318234915545493,-0.24081008698831657,0.826497625804697,-0.8719114838373412,-0.13059363899049145,-0.007412768432071774,0.5684524476327399,-0.20166011577628623,-0.9594074275136716,-0.13593839510669647],\"type\":\"scatter\",\"customdata\":[\"field\",\"field\",\"field\",\"field\",\"field\",\"field\",\"field\",\"field\",\"field\",\"field\",\"institution\",\"institution\",\"institution\",\"institution\",\"institution\",\"institution\"],\"hovertemplate\":\"\\u003cb\\u003e%{text}\\u003c\\u002fb\\u003e\\u003cbr\\u003e\\u8282\\u70b9\\u7c7b\\u578b: %{customdata}\\u003cbr\\u003e\\u003cextra\\u003e\\u003c\\u002fextra\\u003e\"}],                        {\"template\":{\"data\":{\"histogram2dcontour\":[{\"type\":\"histogram2dcontour\",\"colorbar\":{\"outlinewidth\":0,\"ticks\":\"\"},\"colorscale\":[[0.0,\"#0d0887\"],[0.1111111111111111,\"#46039f\"],[0.2222222222222222,\"#7201a8\"],[0.3333333333333333,\"#9c179e\"],[0.4444444444444444,\"#bd3786\"],[0.5555555555555556,\"#d8576b\"],[0.6666666666666666,\"#ed7953\"],[0.7777777777777778,\"#fb9f3a\"],[0.8888888888888888,\"#fdca26\"],[1.0,\"#f0f921\"]]}],\"choropleth\":[{\"type\":\"choropleth\",\"colorbar\":{\"outlinewidth\":0,\"ticks\":\"\"}}],\"histogram2d\":[{\"type\":\"histogram2d\",\"colorbar\":{\"outlinewidth\":0,\"ticks\":\"\"},\"colorscale\":[[0.0,\"#0d0887\"],[0.1111111111111111,\"#46039f\"],[0.2222222222222222,\"#7201a8\"],[0.3333333333333333,\"#9c179e\"],[0.4444444444444444,\"#bd3786\"],[0.5555555555555556,\"#d8576b\"],[0.6666666666666666,\"#ed7953\"],[0.7777777777777778,\"#fb9f3a\"],[0.8888888888888888,\"#fdca26\"],[1.0,\"#f0f921\"]]}],\"heatmap\":[{\"type\":\"heatmap\",\"colorbar\":{\"outlinewidth\":0,\"ticks\":\"\"},\"colorscale\":[[0.0,\"#0d0887\"],[0.1111111111111111,\"#46039f\"],[0.2222222222222222,\"#7201a8\"],[0.3333333333333333,\"#9c179e\"],[0.4444444444444444,\"#bd3786\"],[0.5555555555555556,\"#d8576b\"],[0.6666666666666666,\"#ed7953\"],[0.7777777777777778,\"#fb9f3a\"],[0.8888888888888888,\"#fdca26\"],[1.0,\"#f0f921\"]]}],\"heatmapgl\":[{\"type\":\"heatmapgl\",\"colorbar\":{\"outlinewidth\":0,\"ticks\":\"\"},\"colorscale\":[[0.0,\"#0d0887\"],[0.1111111111111111,\"#46039f\"],[0.2222222222222222,\"#7201a8\"],[0.3333333333333333,\"#9c179e\"],[0.4444444444444444,\"#bd3786\"],[0.5555555555555556,\"#d8576b\"],[0.6666666666666666,\"#ed7953\"],[0.7777777777777778,\"#fb9f3a\"],[0.8888888888888888,\"#fdca26\"],[1.0,\"#f0f921\"]]}],\"contourcarpet\":[{\"type\":\"contourcarpet\",\"colorbar\":{\"outlinewidth\":0,\"ticks\":\"\"}}],\"contour\":[{\"type\":\"contour\",\"colorbar\":{\"outlinewidth\":0,\"ticks\":\"\"},\"colorscale\":[[0.0,\"#0d0887\"],[0.1111111111111111,\"#46039f\"],[0.2222222222222222,\"#7201a8\"],[0.3333333333333333,\"#9c179e\"],[0.4444444444444444,\"#bd3786\"],[0.5555555555555556,\"#d8576b\"],[0.6666666666666666,\"#ed7953\"],[0.7777777777777778,\"#fb9f3a\"],[0.8888888888888888,\"#fdca26\"],[1.0,\"#f0f921\"]]}],\"surface\":[{\"type\":\"surface\",\"colorbar\":{\"outlinewidth\":0,\"ticks\":\"\"},\"colorscale\":[[0.0,\"#0d0887\"],[0.1111111111111111,\"#46039f\"],[0.2222222222222222,\"#7201a8\"],[0.3333333333333333,\"#9c179e\"],[0.4444444444444444,\"#bd3786\"],[0.5555555555555556,\"#d8576b\"],[0.6666666666666666,\"#ed7953\"],[0.7777777777777778,\"#fb9f3a\"],[0.8888888888888888,\"#fdca26\"],[1.0,\"#f0f921\"]]}],\"mesh3d\":[{\"type\":\"mesh3d\",\"colorbar\":{\"outlinewidth\":0,\"ticks\":\"\"}}],\"scatter\":[{\"fillpattern\":{\"fillmode\":\"overlay\",\"size\":10,\"solidity\":0.2},\"type\":\"scatter\"}],\"parcoords\":[{\"type\":\"parcoords\",\"line\":{\"colorbar\":{\"outlinewidth\":0,\"ticks\":\"\"}}}],\"scatterpolargl\":[{\"type\":\"scatterpolargl\",\"marker\":{\"colorbar\":{\"outlinewidth\":0,\"ticks\":\"\"}}}],\"bar\":[{\"error_x\":{\"color\":\"#2a3f5f\"},\"error_y\":{\"color\":\"#2a3f5f\"},\"marker\":{\"line\":{\"color\":\"#E5ECF6\",\"width\":0.5},\"pattern\":{\"fillmode\":\"overlay\",\"size\":10,\"solidity\":0.2}},\"type\":\"bar\"}],\"scattergeo\":[{\"type\":\"scattergeo\",\"marker\":{\"colorbar\":{\"outlinewidth\":0,\"ticks\":\"\"}}}],\"scatterpolar\":[{\"type\":\"scatterpolar\",\"marker\":{\"colorbar\":{\"outlinewidth\":0,\"ticks\":\"\"}}}],\"histogram\":[{\"marker\":{\"pattern\":{\"fillmode\":\"overlay\",\"size\":10,\"solidity\":0.2}},\"type\":\"histogram\"}],\"scattergl\":[{\"type\":\"scattergl\",\"marker\":{\"colorbar\":{\"outlinewidth\":0,\"ticks\":\"\"}}}],\"scatter3d\":[{\"type\":\"scatter3d\",\"line\":{\"colorbar\":{\"outlinewidth\":0,\"ticks\":\"\"}},\"marker\":{\"colorbar\":{\"outlinewidth\":0,\"ticks\":\"\"}}}],\"scattermapbox\":[{\"type\":\"scattermapbox\",\"marker\":{\"colorbar\":{\"outlinewidth\":0,\"ticks\":\"\"}}}],\"scatterternary\":[{\"type\":\"scatterternary\",\"marker\":{\"colorbar\":{\"outlinewidth\":0,\"ticks\":\"\"}}}],\"scattercarpet\":[{\"type\":\"scattercarpet\",\"marker\":{\"colorbar\":{\"outlinewidth\":0,\"ticks\":\"\"}}}],\"carpet\":[{\"aaxis\":{\"endlinecolor\":\"#2a3f5f\",\"gridcolor\":\"white\",\"linecolor\":\"white\",\"minorgridcolor\":\"white\",\"startlinecolor\":\"#2a3f5f\"},\"baxis\":{\"endlinecolor\":\"#2a3f5f\",\"gridcolor\":\"white\",\"linecolor\":\"white\",\"minorgridcolor\":\"white\",\"startlinecolor\":\"#2a3f5f\"},\"type\":\"carpet\"}],\"table\":[{\"cells\":{\"fill\":{\"color\":\"#EBF0F8\"},\"line\":{\"color\":\"white\"}},\"header\":{\"fill\":{\"color\":\"#C8D4E3\"},\"line\":{\"color\":\"white\"}},\"type\":\"table\"}],\"barpolar\":[{\"marker\":{\"line\":{\"color\":\"#E5ECF6\",\"width\":0.5},\"pattern\":{\"fillmode\":\"overlay\",\"size\":10,\"solidity\":0.2}},\"type\":\"barpolar\"}],\"pie\":[{\"automargin\":true,\"type\":\"pie\"}]},\"layout\":{\"autotypenumbers\":\"strict\",\"colorway\":[\"#636efa\",\"#EF553B\",\"#00cc96\",\"#ab63fa\",\"#FFA15A\",\"#19d3f3\",\"#FF6692\",\"#B6E880\",\"#FF97FF\",\"#FECB52\"],\"font\":{\"color\":\"#2a3f5f\"},\"hovermode\":\"closest\",\"hoverlabel\":{\"align\":\"left\"},\"paper_bgcolor\":\"white\",\"plot_bgcolor\":\"#E5ECF6\",\"polar\":{\"bgcolor\":\"#E5ECF6\",\"angularaxis\":{\"gridcolor\":\"white\",\"linecolor\":\"white\",\"ticks\":\"\"},\"radialaxis\":{\"gridcolor\":\"white\",\"linecolor\":\"white\",\"ticks\":\"\"}},\"ternary\":{\"bgcolor\":\"#E5ECF6\",\"aaxis\":{\"gridcolor\":\"white\",\"linecolor\":\"white\",\"ticks\":\"\"},\"baxis\":{\"gridcolor\":\"white\",\"linecolor\":\"white\",\"ticks\":\"\"},\"caxis\":{\"gridcolor\":\"white\",\"linecolor\":\"white\",\"ticks\":\"\"}},\"coloraxis\":{\"colorbar\":{\"outlinewidth\":0,\"ticks\":\"\"}},\"colorscale\":{\"sequential\":[[0.0,\"#0d0887\"],[0.1111111111111111,\"#46039f\"],[0.2222222222222222,\"#7201a8\"],[0.3333333333333333,\"#9c179e\"],[0.4444444444444444,\"#bd3786\"],[0.5555555555555556,\"#d8576b\"],[0.6666666666666666,\"#ed7953\"],[0.7777777777777778,\"#fb9f3a\"],[0.8888888888888888,\"#fdca26\"],[1.0,\"#f0f921\"]],\"sequentialminus\":[[0.0,\"#0d0887\"],[0.1111111111111111,\"#46039f\"],[0.2222222222222222,\"#7201a8\"],[0.3333333333333333,\"#9c179e\"],[0.4444444444444444,\"#bd3786\"],[0.5555555555555556,\"#d8576b\"],[0.6666666666666666,\"#ed7953\"],[0.7777777777777778,\"#fb9f3a\"],[0.8888888888888888,\"#fdca26\"],[1.0,\"#f0f921\"]],\"diverging\":[[0,\"#8e0152\"],[0.1,\"#c51b7d\"],[0.2,\"#de77ae\"],[0.3,\"#f1b6da\"],[0.4,\"#fde0ef\"],[0.5,\"#f7f7f7\"],[0.6,\"#e6f5d0\"],[0.7,\"#b8e186\"],[0.8,\"#7fbc41\"],[0.9,\"#4d9221\"],[1,\"#276419\"]]},\"xaxis\":{\"gridcolor\":\"white\",\"linecolor\":\"white\",\"ticks\":\"\",\"title\":{\"standoff\":15},\"zerolinecolor\":\"white\",\"automargin\":true,\"zerolinewidth\":2},\"yaxis\":{\"gridcolor\":\"white\",\"linecolor\":\"white\",\"ticks\":\"\",\"title\":{\"standoff\":15},\"zerolinecolor\":\"white\",\"automargin\":true,\"zerolinewidth\":2},\"scene\":{\"xaxis\":{\"backgroundcolor\":\"#E5ECF6\",\"gridcolor\":\"white\",\"linecolor\":\"white\",\"showbackground\":true,\"ticks\":\"\",\"zerolinecolor\":\"white\",\"gridwidth\":2},\"yaxis\":{\"backgroundcolor\":\"#E5ECF6\",\"gridcolor\":\"white\",\"linecolor\":\"white\",\"showbackground\":true,\"ticks\":\"\",\"zerolinecolor\":\"white\",\"gridwidth\":2},\"zaxis\":{\"backgroundcolor\":\"#E5ECF6\",\"gridcolor\":\"white\",\"linecolor\":\"white\",\"showbackground\":true,\"ticks\":\"\",\"zerolinecolor\":\"white\",\"gridwidth\":2}},\"shapedefaults\":{\"line\":{\"color\":\"#2a3f5f\"}},\"annotationdefaults\":{\"arrowcolor\":\"#2a3f5f\",\"arrowhead\":0,\"arrowwidth\":1},\"geo\":{\"bgcolor\":\"white\",\"landcolor\":\"#E5ECF6\",\"subunitcolor\":\"white\",\"showland\":true,\"showlakes\":true,\"lakecolor\":\"white\"},\"title\":{\"x\":0.05},\"mapbox\":{\"style\":\"light\"}}},\"title\":{\"font\":{\"size\":24,\"color\":\"#2c3e50\",\"family\":\"Arial, sans-serif\"},\"text\":\"\\u003cb\\u003e\\u7814\\u7a76\\u56e2\\u961f\\u4f18\\u52bf\\u9886\\u57df\\u4ea4\\u53c9\\u878d\\u5408\\u7f51\\u7edc\\u003c\\u002fb\\u003e\",\"x\":0.5,\"xanchor\":\"center\"},\"margin\":{\"b\":60,\"l\":20,\"r\":20,\"t\":80},\"xaxis\":{\"showgrid\":false,\"zeroline\":false,\"showticklabels\":false,\"scaleanchor\":\"y\",\"scaleratio\":1},\"yaxis\":{\"showgrid\":false,\"zeroline\":false,\"showticklabels\":false},\"font\":{\"family\":\"Arial, sans-serif\"},\"showlegend\":false,\"hovermode\":\"closest\",\"plot_bgcolor\":\"rgba(248, 249, 250, 0.8)\",\"paper_bgcolor\":\"white\",\"annotations\":[{\"font\":{\"color\":\"#34495e\",\"size\":14},\"showarrow\":false,\"text\":\"\\u003cb\\u003e\\ud83d\\udd2c \\u5706\\u5f62: \\u7814\\u7a76\\u9886\\u57df\\u003c\\u002fb\\u003e | \\u003cb\\u003e\\ud83c\\udfdb\\ufe0f \\u83f1\\u5f62: \\u4f18\\u52bf\\u5355\\u4f4d\\u003c\\u002fb\\u003e\",\"x\":0.5,\"xanchor\":\"center\",\"xref\":\"paper\",\"y\":-0.05,\"yref\":\"paper\"}]},                        {\"responsive\": true}                    ).then(function(){\n",
       "                            \n",
       "var gd = document.getElementById('0663bbec-6ab2-40f6-932f-13f95135e992');\n",
       "var x = new MutationObserver(function (mutations, observer) {{\n",
       "        var display = window.getComputedStyle(gd).display;\n",
       "        if (!display || display === 'none') {{\n",
       "            console.log([gd, 'removed!']);\n",
       "            Plotly.purge(gd);\n",
       "            observer.disconnect();\n",
       "        }}\n",
       "}});\n",
       "\n",
       "// Listen for the removal of the full notebook cells\n",
       "var notebookContainer = gd.closest('#notebook-container');\n",
       "if (notebookContainer) {{\n",
       "    x.observe(notebookContainer, {childList: true});\n",
       "}}\n",
       "\n",
       "// Listen for the clearing of the current output cell\n",
       "var outputEl = gd.closest('.output');\n",
       "if (outputEl) {{\n",
       "    x.observe(outputEl, {childList: true});\n",
       "}}\n",
       "\n",
       "                        })                };                });            </script>        </div>"
      ]
     },
     "metadata": {},
     "output_type": "display_data"
    },
    {
     "name": "stdout",
     "output_type": "stream",
     "text": [
      "✅ 网络图优化完成！\n",
      "📊 主要改进：\n",
      "   • 使用现代渐变色彩方案\n",
      "   • 优化节点大小和形状\n",
      "   • 改进边线样式和透明度\n",
      "   • 增强字体和文字显示\n",
      "   • 添加交互式悬停效果\n",
      "   • 优化整体布局和视觉效果\n"
     ]
    }
   ],
   "source": [
    "# 🎨 优化版本 - 美观的网络图\n",
    "import plotly.graph_objects as go\n",
    "import pandas as pd\n",
    "import networkx as nx\n",
    "import numpy as np\n",
    "from plotly.colors import qualitative\n",
    "\n",
    "# 1. 构建数据（根据您提供的列表）\n",
    "# 定义节点：包括所有\"研究领域\"和所有\"单位\"\n",
    "all_nodes = [\n",
    "    # 研究领域 (节点ID, 节点名称, 节点类型)\n",
    "    (0, \"花粉管生物学\", \"field\"),\n",
    "    (1, \"囊泡运输\", \"field\"),\n",
    "    (2, \"细菌分泌\", \"field\"),\n",
    "    (3, \"大豆生物学\", \"field\"),\n",
    "    (4, \"浮萍生物学\", \"field\"),\n",
    "    (5, \"AI与算法\", \"field\"),\n",
    "    (6, \"结构生物学\", \"field\"),\n",
    "    (7, \"基因组编辑\", \"field\"),\n",
    "    (8, \"人工囊泡\", \"field\"),\n",
    "    (9, \"高通量平台\", \"field\"),\n",
    "    # 优势单位 (节点ID, 节点名称, 节点类型)\n",
    "    (10, \"南开大学\", \"institution\"),\n",
    "    (11, \"先进院\", \"institution\"),\n",
    "    (12, \"华南师大\", \"institution\"),\n",
    "    (13, \"湖北大学\", \"institution\"),\n",
    "    (14, \"天工所\", \"institution\"),\n",
    "    (15, \"深理工\", \"institution\"),\n",
    "]\n",
    "\n",
    "# 定义连接（边）：(来源, 目标) 对应节点ID\n",
    "links = [\n",
    "    # 花粉管生物学 (0) 与 南开大学(10)、先进院(11) 合作\n",
    "    (0, 10), (0, 11),\n",
    "    # 囊泡运输 (1) 与 华南师大(12)、南开大学(10) 合作\n",
    "    (1, 12), (1, 10),\n",
    "    # 细菌分泌 (2) 与 湖北大学(13)、天工所(14)、先进院(11) 合作\n",
    "    (2, 13), (2, 14), (2, 11),\n",
    "    # ... 以此类推，根据您提供的列表完成所有连接\n",
    "    (3, 11), (3, 12),  # 大豆生物学\n",
    "    (4, 10), (4, 15),  # 浮萍生物学\n",
    "    (5, 14), (5, 11),  # AI与算法\n",
    "    (6, 10), (6, 13),  # 结构生物学\n",
    "    (7, 15), (7, 12),  # 基因组编辑\n",
    "    (8, 11),           # 人工囊泡\n",
    "    (9, 13), (9, 14), (9, 11) # 高通量平台\n",
    "]\n",
    "\n",
    "# 2. 转换为Plotly可用的格式\n",
    "node_df = pd.DataFrame(all_nodes, columns=['id', 'label', 'type'])\n",
    "edge_df = pd.DataFrame(links, columns=['source', 'target'])\n",
    "\n",
    "# 3. 创建NetworkX图并计算布局\n",
    "G = nx.Graph()\n",
    "G.add_nodes_from(node_df['id'])\n",
    "G.add_edges_from(links)\n",
    "\n",
    "# 使用多种布局算法尝试，选择最佳效果\n",
    "layouts = {\n",
    "    'spring': nx.spring_layout(G, k=3, iterations=100, seed=42),\n",
    "    'circular': nx.circular_layout(G),\n",
    "    'kamada_kawai': nx.kamada_kawai_layout(G),\n",
    "    'spectral': nx.spectral_layout(G)\n",
    "}\n",
    "\n",
    "# 选择spring布局作为主要布局\n",
    "pos = layouts['spring']\n",
    "\n",
    "# 4. 优化颜色方案 - 使用现代渐变色彩\n",
    "# 研究领域使用蓝色系渐变\n",
    "field_colors = [\n",
    "    '#1f77b4', '#aec7e8', '#ff7f0e', '#ffbb78', '#2ca02c',\n",
    "    '#98df8a', '#d62728', '#ff9896', '#9467bd', '#c5b0d5'\n",
    "]\n",
    "\n",
    "# 机构使用暖色系渐变\n",
    "institution_colors = [\n",
    "    '#ff6b6b', '#ffa726', '#66bb6a', '#42a5f5', '#ab47bc', '#ef5350'\n",
    "]\n",
    "\n",
    "# 为节点分配颜色\n",
    "node_colors = []\n",
    "node_symbols = []\n",
    "node_sizes = []\n",
    "for i, node_type in enumerate(node_df['type']):\n",
    "    if node_type == 'field':\n",
    "        node_colors.append(field_colors[i % len(field_colors)])\n",
    "        node_symbols.append('circle')\n",
    "        node_sizes.append(35)  # 研究领域节点稍大\n",
    "    else:\n",
    "        node_colors.append(institution_colors[i % len(institution_colors)])\n",
    "        node_symbols.append('diamond')\n",
    "        node_sizes.append(40)  # 机构节点更大\n",
    "\n",
    "# 5. 创建优化的网络图\n",
    "fig = go.Figure()\n",
    "\n",
    "# 添加边线 - 使用渐变和透明度效果\n",
    "for i, (_, row) in enumerate(edge_df.iterrows()):\n",
    "    source = row['source']\n",
    "    target = row['target']\n",
    "    \n",
    "    # 计算边的透明度（基于连接数量）\n",
    "    edge_alpha = 0.6\n",
    "    \n",
    "    fig.add_trace(go.Scatter(\n",
    "        x=[pos[source][0], pos[target][0]],\n",
    "        y=[pos[source][1], pos[target][1]],\n",
    "        mode='lines',\n",
    "        line=dict(\n",
    "            width=2,\n",
    "            color=f'rgba(100, 100, 100, {edge_alpha})',\n",
    "            dash='solid'\n",
    "        ),\n",
    "        hoverinfo='none',\n",
    "        showlegend=False\n",
    "    ))\n",
    "\n",
    "# 添加节点 - 使用优化的样式\n",
    "fig.add_trace(go.Scatter(\n",
    "    x=[pos[node_id][0] for node_id in node_df['id']],\n",
    "    y=[pos[node_id][1] for node_id in node_df['id']],\n",
    "    mode='markers+text',\n",
    "    marker=dict(\n",
    "        color=node_colors,\n",
    "        size=node_sizes,\n",
    "        symbol=node_symbols,\n",
    "        line=dict(\n",
    "            width=3,\n",
    "            color='white'\n",
    "        ),\n",
    "        opacity=0.9\n",
    "    ),\n",
    "    text=node_df['label'],\n",
    "    textposition=\"middle center\",\n",
    "    hoverinfo='text',\n",
    "    textfont=dict(\n",
    "        size=12,\n",
    "        color='white',\n",
    "        family=\"Arial, sans-serif\"\n",
    "    ),\n",
    "    showlegend=False\n",
    "))\n",
    "\n",
    "# 6. 优化布局和样式\n",
    "fig.update_layout(\n",
    "    title=dict(\n",
    "        text='<b>研究团队优势领域交叉融合网络</b>',\n",
    "        x=0.5,\n",
    "        xanchor='center',\n",
    "        font=dict(size=24, color='#2c3e50', family=\"Arial, sans-serif\")\n",
    "    ),\n",
    "    showlegend=False,\n",
    "    hovermode='closest',\n",
    "    margin=dict(b=60, l=20, r=20, t=80),\n",
    "    xaxis=dict(\n",
    "        showgrid=False,\n",
    "        zeroline=False,\n",
    "        showticklabels=False,\n",
    "        scaleanchor=\"y\",\n",
    "        scaleratio=1\n",
    "    ),\n",
    "    yaxis=dict(\n",
    "        showgrid=False,\n",
    "        zeroline=False,\n",
    "        showticklabels=False\n",
    "    ),\n",
    "    plot_bgcolor='rgba(248, 249, 250, 0.8)',\n",
    "    paper_bgcolor='white',\n",
    "    font=dict(family=\"Arial, sans-serif\"),\n",
    "    annotations=[\n",
    "        dict(\n",
    "            showarrow=False,\n",
    "            text=\"<b>🔬 圆形: 研究领域</b> | <b>🏛️ 菱形: 优势单位</b>\",\n",
    "            xref=\"paper\", yref=\"paper\",\n",
    "            x=0.5, y=-0.05,\n",
    "            xanchor='center',\n",
    "            font=dict(size=14, color='#34495e')\n",
    "        )\n",
    "    ]\n",
    ")\n",
    "\n",
    "# 7. 添加交互式功能\n",
    "fig.update_traces(\n",
    "    hovertemplate=\"<b>%{text}</b><br>\" +\n",
    "                  \"节点类型: %{customdata}<br>\" +\n",
    "                  \"<extra></extra>\",\n",
    "    customdata=[node_df.loc[node_df['id'] == node_id, 'type'].iloc[0] \n",
    "                for node_id in node_df['id']]\n",
    ")\n",
    "\n",
    "# 8. 显示图表\n",
    "fig.show()\n",
    "\n",
    "# 9. 保存为HTML交互式文件\n",
    "fig.write_html(\"research_network_optimized.html\")\n",
    "\n",
    "print(\"✅ 网络图优化完成！\")\n",
    "print(\"📊 主要改进：\")\n",
    "print(\"   • 使用现代渐变色彩方案\")\n",
    "print(\"   • 优化节点大小和形状\")\n",
    "print(\"   • 改进边线样式和透明度\")\n",
    "print(\"   • 增强字体和文字显示\")\n",
    "print(\"   • 添加交互式悬停效果\")\n",
    "print(\"   • 优化整体布局和视觉效果\")\n"
   ]
  },
  {
   "cell_type": "code",
   "execution_count": 10,
   "id": "df3e738f",
   "metadata": {},
   "outputs": [
    {
     "data": {
      "application/vnd.plotly.v1+json": {
       "config": {
        "plotlyServerURL": "https://plot.ly"
       },
       "data": [
        {
         "customdata": [
          "field",
          "field",
          "field",
          "field",
          "field",
          "field",
          "field",
          "field",
          "field",
          "field",
          "institution",
          "institution",
          "institution",
          "institution",
          "institution",
          "institution"
         ],
         "hoverinfo": "none",
         "hovertemplate": "<b>%{text}</b><br>节点类型: %{customdata}<br>连接数: %{marker.size}<br><extra></extra>",
         "line": {
          "color": "rgba(100, 100, 100, 0.7)",
          "dash": "solid",
          "width": 3
         },
         "mode": "lines",
         "showlegend": false,
         "type": "scatter",
         "x": [
          -0.029224041103549998,
          0.5690109484751772
         ],
         "y": [
          0.8819287530257419,
          -0.13059363899049145
         ]
        },
        {
         "customdata": [
          "field",
          "field",
          "field",
          "field",
          "field",
          "field",
          "field",
          "field",
          "field",
          "field",
          "institution",
          "institution",
          "institution",
          "institution",
          "institution",
          "institution"
         ],
         "hoverinfo": "none",
         "hovertemplate": "<b>%{text}</b><br>节点类型: %{customdata}<br>连接数: %{marker.size}<br><extra></extra>",
         "line": {
          "color": "rgba(100, 100, 100, 0.7)",
          "dash": "solid",
          "width": 3
         },
         "mode": "lines",
         "showlegend": false,
         "type": "scatter",
         "x": [
          -0.029224041103549998,
          -0.8321532480655942
         ],
         "y": [
          0.8819287530257419,
          -0.007412768432071774
         ]
        },
        {
         "customdata": [
          "field",
          "field",
          "field",
          "field",
          "field",
          "field",
          "field",
          "field",
          "field",
          "field",
          "institution",
          "institution",
          "institution",
          "institution",
          "institution",
          "institution"
         ],
         "hoverinfo": "none",
         "hovertemplate": "<b>%{text}</b><br>节点类型: %{customdata}<br>连接数: %{marker.size}<br><extra></extra>",
         "line": {
          "color": "rgba(100, 100, 100, 0.7)",
          "dash": "solid",
          "width": 3
         },
         "mode": "lines",
         "showlegend": false,
         "type": "scatter",
         "x": [
          1,
          0.18994617035669006
         ],
         "y": [
          0.29513931544192984,
          0.5684524476327399
         ]
        },
        {
         "customdata": [
          "field",
          "field",
          "field",
          "field",
          "field",
          "field",
          "field",
          "field",
          "field",
          "field",
          "institution",
          "institution",
          "institution",
          "institution",
          "institution",
          "institution"
         ],
         "hoverinfo": "none",
         "hovertemplate": "<b>%{text}</b><br>节点类型: %{customdata}<br>连接数: %{marker.size}<br><extra></extra>",
         "line": {
          "color": "rgba(100, 100, 100, 0.7)",
          "dash": "solid",
          "width": 3
         },
         "mode": "lines",
         "showlegend": false,
         "type": "scatter",
         "x": [
          1,
          0.5690109484751772
         ],
         "y": [
          0.29513931544192984,
          -0.13059363899049145
         ]
        },
        {
         "customdata": [
          "field",
          "field",
          "field",
          "field",
          "field",
          "field",
          "field",
          "field",
          "field",
          "field",
          "institution",
          "institution",
          "institution",
          "institution",
          "institution",
          "institution"
         ],
         "hoverinfo": "none",
         "hovertemplate": "<b>%{text}</b><br>节点类型: %{customdata}<br>连接数: %{marker.size}<br><extra></extra>",
         "line": {
          "color": "rgba(100, 100, 100, 0.7)",
          "dash": "solid",
          "width": 3
         },
         "mode": "lines",
         "showlegend": false,
         "type": "scatter",
         "x": [
          -0.6215153112019421,
          -0.4984568422379729
         ],
         "y": [
          -0.7701590119916661,
          -0.20166011577628623
         ]
        },
        {
         "customdata": [
          "field",
          "field",
          "field",
          "field",
          "field",
          "field",
          "field",
          "field",
          "field",
          "field",
          "institution",
          "institution",
          "institution",
          "institution",
          "institution",
          "institution"
         ],
         "hoverinfo": "none",
         "hovertemplate": "<b>%{text}</b><br>节点类型: %{customdata}<br>连接数: %{marker.size}<br><extra></extra>",
         "line": {
          "color": "rgba(100, 100, 100, 0.7)",
          "dash": "solid",
          "width": 3
         },
         "mode": "lines",
         "showlegend": false,
         "type": "scatter",
         "x": [
          -0.6215153112019421,
          -0.04159354425296173
         ],
         "y": [
          -0.7701590119916661,
          -0.9594074275136716
         ]
        },
        {
         "customdata": [
          "field",
          "field",
          "field",
          "field",
          "field",
          "field",
          "field",
          "field",
          "field",
          "field",
          "institution",
          "institution",
          "institution",
          "institution",
          "institution",
          "institution"
         ],
         "hoverinfo": "none",
         "hovertemplate": "<b>%{text}</b><br>节点类型: %{customdata}<br>连接数: %{marker.size}<br><extra></extra>",
         "line": {
          "color": "rgba(100, 100, 100, 0.7)",
          "dash": "solid",
          "width": 3
         },
         "mode": "lines",
         "showlegend": false,
         "type": "scatter",
         "x": [
          -0.6215153112019421,
          -0.8321532480655942
         ],
         "y": [
          -0.7701590119916661,
          -0.007412768432071774
         ]
        },
        {
         "customdata": [
          "field",
          "field",
          "field",
          "field",
          "field",
          "field",
          "field",
          "field",
          "field",
          "field",
          "institution",
          "institution",
          "institution",
          "institution",
          "institution",
          "institution"
         ],
         "hoverinfo": "none",
         "hovertemplate": "<b>%{text}</b><br>节点类型: %{customdata}<br>连接数: %{marker.size}<br><extra></extra>",
         "line": {
          "color": "rgba(100, 100, 100, 0.7)",
          "dash": "solid",
          "width": 3
         },
         "mode": "lines",
         "showlegend": false,
         "type": "scatter",
         "x": [
          -0.8736743034944332,
          -0.8321532480655942
         ],
         "y": [
          0.5101462936624959,
          -0.007412768432071774
         ]
        },
        {
         "customdata": [
          "field",
          "field",
          "field",
          "field",
          "field",
          "field",
          "field",
          "field",
          "field",
          "field",
          "institution",
          "institution",
          "institution",
          "institution",
          "institution",
          "institution"
         ],
         "hoverinfo": "none",
         "hovertemplate": "<b>%{text}</b><br>节点类型: %{customdata}<br>连接数: %{marker.size}<br><extra></extra>",
         "line": {
          "color": "rgba(100, 100, 100, 0.7)",
          "dash": "solid",
          "width": 3
         },
         "mode": "lines",
         "showlegend": false,
         "type": "scatter",
         "x": [
          -0.8736743034944332,
          0.18994617035669006
         ],
         "y": [
          0.5101462936624959,
          0.5684524476327399
         ]
        },
        {
         "customdata": [
          "field",
          "field",
          "field",
          "field",
          "field",
          "field",
          "field",
          "field",
          "field",
          "field",
          "institution",
          "institution",
          "institution",
          "institution",
          "institution",
          "institution"
         ],
         "hoverinfo": "none",
         "hovertemplate": "<b>%{text}</b><br>节点类型: %{customdata}<br>连接数: %{marker.size}<br><extra></extra>",
         "line": {
          "color": "rgba(100, 100, 100, 0.7)",
          "dash": "solid",
          "width": 3
         },
         "mode": "lines",
         "showlegend": false,
         "type": "scatter",
         "x": [
          0.8510929829357873,
          0.5690109484751772
         ],
         "y": [
          0.5704399282793776,
          -0.13059363899049145
         ]
        },
        {
         "customdata": [
          "field",
          "field",
          "field",
          "field",
          "field",
          "field",
          "field",
          "field",
          "field",
          "field",
          "institution",
          "institution",
          "institution",
          "institution",
          "institution",
          "institution"
         ],
         "hoverinfo": "none",
         "hovertemplate": "<b>%{text}</b><br>节点类型: %{customdata}<br>连接数: %{marker.size}<br><extra></extra>",
         "line": {
          "color": "rgba(100, 100, 100, 0.7)",
          "dash": "solid",
          "width": 3
         },
         "mode": "lines",
         "showlegend": false,
         "type": "scatter",
         "x": [
          0.8510929829357873,
          0.9958540919644688
         ],
         "y": [
          0.5704399282793776,
          -0.13593839510669647
         ]
        },
        {
         "customdata": [
          "field",
          "field",
          "field",
          "field",
          "field",
          "field",
          "field",
          "field",
          "field",
          "field",
          "institution",
          "institution",
          "institution",
          "institution",
          "institution",
          "institution"
         ],
         "hoverinfo": "none",
         "hovertemplate": "<b>%{text}</b><br>节点类型: %{customdata}<br>连接数: %{marker.size}<br><extra></extra>",
         "line": {
          "color": "rgba(100, 100, 100, 0.7)",
          "dash": "solid",
          "width": 3
         },
         "mode": "lines",
         "showlegend": false,
         "type": "scatter",
         "x": [
          -0.5640808602401145,
          -0.04159354425296173
         ],
         "y": [
          0.2971120563441084,
          -0.9594074275136716
         ]
        },
        {
         "customdata": [
          "field",
          "field",
          "field",
          "field",
          "field",
          "field",
          "field",
          "field",
          "field",
          "field",
          "institution",
          "institution",
          "institution",
          "institution",
          "institution",
          "institution"
         ],
         "hoverinfo": "none",
         "hovertemplate": "<b>%{text}</b><br>节点类型: %{customdata}<br>连接数: %{marker.size}<br><extra></extra>",
         "line": {
          "color": "rgba(100, 100, 100, 0.7)",
          "dash": "solid",
          "width": 3
         },
         "mode": "lines",
         "showlegend": false,
         "type": "scatter",
         "x": [
          -0.5640808602401145,
          -0.8321532480655942
         ],
         "y": [
          0.2971120563441084,
          -0.007412768432071774
         ]
        },
        {
         "customdata": [
          "field",
          "field",
          "field",
          "field",
          "field",
          "field",
          "field",
          "field",
          "field",
          "field",
          "institution",
          "institution",
          "institution",
          "institution",
          "institution",
          "institution"
         ],
         "hoverinfo": "none",
         "hovertemplate": "<b>%{text}</b><br>节点类型: %{customdata}<br>连接数: %{marker.size}<br><extra></extra>",
         "line": {
          "color": "rgba(100, 100, 100, 0.7)",
          "dash": "solid",
          "width": 3
         },
         "mode": "lines",
         "showlegend": false,
         "type": "scatter",
         "x": [
          0.7206859400723367,
          0.5690109484751772
         ],
         "y": [
          -0.6318234915545493,
          -0.13059363899049145
         ]
        },
        {
         "customdata": [
          "field",
          "field",
          "field",
          "field",
          "field",
          "field",
          "field",
          "field",
          "field",
          "field",
          "institution",
          "institution",
          "institution",
          "institution",
          "institution",
          "institution"
         ],
         "hoverinfo": "none",
         "hovertemplate": "<b>%{text}</b><br>节点类型: %{customdata}<br>连接数: %{marker.size}<br><extra></extra>",
         "line": {
          "color": "rgba(100, 100, 100, 0.7)",
          "dash": "solid",
          "width": 3
         },
         "mode": "lines",
         "showlegend": false,
         "type": "scatter",
         "x": [
          0.7206859400723367,
          -0.4984568422379729
         ],
         "y": [
          -0.6318234915545493,
          -0.20166011577628623
         ]
        },
        {
         "customdata": [
          "field",
          "field",
          "field",
          "field",
          "field",
          "field",
          "field",
          "field",
          "field",
          "field",
          "institution",
          "institution",
          "institution",
          "institution",
          "institution",
          "institution"
         ],
         "hoverinfo": "none",
         "hovertemplate": "<b>%{text}</b><br>节点类型: %{customdata}<br>连接数: %{marker.size}<br><extra></extra>",
         "line": {
          "color": "rgba(100, 100, 100, 0.7)",
          "dash": "solid",
          "width": 3
         },
         "mode": "lines",
         "showlegend": false,
         "type": "scatter",
         "x": [
          -0.11233920018787574,
          0.9958540919644688
         ],
         "y": [
          -0.24081008698831657,
          -0.13593839510669647
         ]
        },
        {
         "customdata": [
          "field",
          "field",
          "field",
          "field",
          "field",
          "field",
          "field",
          "field",
          "field",
          "field",
          "institution",
          "institution",
          "institution",
          "institution",
          "institution",
          "institution"
         ],
         "hoverinfo": "none",
         "hovertemplate": "<b>%{text}</b><br>节点类型: %{customdata}<br>连接数: %{marker.size}<br><extra></extra>",
         "line": {
          "color": "rgba(100, 100, 100, 0.7)",
          "dash": "solid",
          "width": 3
         },
         "mode": "lines",
         "showlegend": false,
         "type": "scatter",
         "x": [
          -0.11233920018787574,
          0.18994617035669006
         ],
         "y": [
          -0.24081008698831657,
          0.5684524476327399
         ]
        },
        {
         "customdata": [
          "field",
          "field",
          "field",
          "field",
          "field",
          "field",
          "field",
          "field",
          "field",
          "field",
          "institution",
          "institution",
          "institution",
          "institution",
          "institution",
          "institution"
         ],
         "hoverinfo": "none",
         "hovertemplate": "<b>%{text}</b><br>节点类型: %{customdata}<br>连接数: %{marker.size}<br><extra></extra>",
         "line": {
          "color": "rgba(100, 100, 100, 0.7)",
          "dash": "solid",
          "width": 3
         },
         "mode": "lines",
         "showlegend": false,
         "type": "scatter",
         "x": [
          -0.4210764049578858,
          -0.8321532480655942
         ],
         "y": [
          0.826497625804697,
          -0.007412768432071774
         ]
        },
        {
         "customdata": [
          "field",
          "field",
          "field",
          "field",
          "field",
          "field",
          "field",
          "field",
          "field",
          "field",
          "institution",
          "institution",
          "institution",
          "institution",
          "institution",
          "institution"
         ],
         "hoverinfo": "none",
         "hovertemplate": "<b>%{text}</b><br>节点类型: %{customdata}<br>连接数: %{marker.size}<br><extra></extra>",
         "line": {
          "color": "rgba(100, 100, 100, 0.7)",
          "dash": "solid",
          "width": 3
         },
         "mode": "lines",
         "showlegend": false,
         "type": "scatter",
         "x": [
          -0.3324763780621297,
          -0.4984568422379729
         ],
         "y": [
          -0.8719114838373412,
          -0.20166011577628623
         ]
        },
        {
         "customdata": [
          "field",
          "field",
          "field",
          "field",
          "field",
          "field",
          "field",
          "field",
          "field",
          "field",
          "institution",
          "institution",
          "institution",
          "institution",
          "institution",
          "institution"
         ],
         "hoverinfo": "none",
         "hovertemplate": "<b>%{text}</b><br>节点类型: %{customdata}<br>连接数: %{marker.size}<br><extra></extra>",
         "line": {
          "color": "rgba(100, 100, 100, 0.7)",
          "dash": "solid",
          "width": 3
         },
         "mode": "lines",
         "showlegend": false,
         "type": "scatter",
         "x": [
          -0.3324763780621297,
          -0.04159354425296173
         ],
         "y": [
          -0.8719114838373412,
          -0.9594074275136716
         ]
        },
        {
         "customdata": [
          "field",
          "field",
          "field",
          "field",
          "field",
          "field",
          "field",
          "field",
          "field",
          "field",
          "institution",
          "institution",
          "institution",
          "institution",
          "institution",
          "institution"
         ],
         "hoverinfo": "none",
         "hovertemplate": "<b>%{text}</b><br>节点类型: %{customdata}<br>连接数: %{marker.size}<br><extra></extra>",
         "line": {
          "color": "rgba(100, 100, 100, 0.7)",
          "dash": "solid",
          "width": 3
         },
         "mode": "lines",
         "showlegend": false,
         "type": "scatter",
         "x": [
          -0.3324763780621297,
          -0.8321532480655942
         ],
         "y": [
          -0.8719114838373412,
          -0.007412768432071774
         ]
        },
        {
         "customdata": [
          "field",
          "field",
          "field",
          "field",
          "field",
          "field",
          "field",
          "field",
          "field",
          "field",
          "institution",
          "institution",
          "institution",
          "institution",
          "institution",
          "institution"
         ],
         "hoverinfo": "text",
         "hovertemplate": "<b>%{text}</b><br>节点类型: %{customdata}<br>连接数: %{marker.size}<br><extra></extra>",
         "marker": {
          "color": [
           "#1f77b4",
           "#aec7e8",
           "#ff7f0e",
           "#ffbb78",
           "#2ca02c",
           "#98df8a",
           "#d62728",
           "#ff9896",
           "#9467bd",
           "#c5b0d5",
           "#ab47bc",
           "#ef5350",
           "#ff6b6b",
           "#ffa726",
           "#66bb6a",
           "#42a5f5"
          ],
          "line": {
           "color": "white",
           "width": 4
          },
          "opacity": [
           0.9,
           0.9,
           0.9,
           0.9,
           0.9,
           0.9,
           0.9,
           0.9,
           0.9,
           0.9,
           0.95,
           0.95,
           0.95,
           0.95,
           0.95,
           0.95
          ],
          "size": [
           40,
           40,
           40,
           40,
           40,
           40,
           40,
           40,
           40,
           40,
           45,
           45,
           45,
           45,
           45,
           45
          ],
          "symbol": [
           "circle",
           "circle",
           "circle",
           "circle",
           "circle",
           "circle",
           "circle",
           "circle",
           "circle",
           "circle",
           "diamond",
           "diamond",
           "diamond",
           "diamond",
           "diamond",
           "diamond"
          ]
         },
         "mode": "markers+text",
         "showlegend": false,
         "text": [
          "花粉管生物学",
          "囊泡运输",
          "细菌分泌",
          "大豆生物学",
          "浮萍生物学",
          "AI与算法",
          "结构生物学",
          "基因组编辑",
          "人工囊泡",
          "高通量平台",
          "南开大学",
          "先进院",
          "华南师大",
          "湖北大学",
          "天工所",
          "深理工"
         ],
         "textfont": {
          "color": "white",
          "family": "Arial, sans-serif",
          "size": 13
         },
         "textposition": "middle center",
         "type": "scatter",
         "x": [
          -0.029224041103549998,
          1,
          -0.6215153112019421,
          -0.8736743034944332,
          0.8510929829357873,
          -0.5640808602401145,
          0.7206859400723367,
          -0.11233920018787574,
          -0.4210764049578858,
          -0.3324763780621297,
          0.5690109484751772,
          -0.8321532480655942,
          0.18994617035669006,
          -0.4984568422379729,
          -0.04159354425296173,
          0.9958540919644688
         ],
         "y": [
          0.8819287530257419,
          0.29513931544192984,
          -0.7701590119916661,
          0.5101462936624959,
          0.5704399282793776,
          0.2971120563441084,
          -0.6318234915545493,
          -0.24081008698831657,
          0.826497625804697,
          -0.8719114838373412,
          -0.13059363899049145,
          -0.007412768432071774,
          0.5684524476327399,
          -0.20166011577628623,
          -0.9594074275136716,
          -0.13593839510669647
         ]
        }
       ],
       "layout": {
        "annotations": [
         {
          "font": {
           "color": "#000000",
           "size": 16
          },
          "showarrow": false,
          "text": "<b>🔬 圆形: 研究领域</b> | <b>🏛️ 菱形: 优势单位</b>",
          "x": 0.5,
          "xanchor": "center",
          "xref": "paper",
          "y": -0.08,
          "yref": "paper"
         }
        ],
        "font": {
         "family": "Arial, sans-serif"
        },
        "hovermode": "closest",
        "margin": {
         "b": 80,
         "l": 30,
         "r": 30,
         "t": 100
        },
        "paper_bgcolor": "white",
        "plot_bgcolor": "rgba(248, 249, 250, 0.9)",
        "showlegend": false,
        "template": {
         "data": {
          "bar": [
           {
            "error_x": {
             "color": "#2a3f5f"
            },
            "error_y": {
             "color": "#2a3f5f"
            },
            "marker": {
             "line": {
              "color": "#E5ECF6",
              "width": 0.5
             },
             "pattern": {
              "fillmode": "overlay",
              "size": 10,
              "solidity": 0.2
             }
            },
            "type": "bar"
           }
          ],
          "barpolar": [
           {
            "marker": {
             "line": {
              "color": "#E5ECF6",
              "width": 0.5
             },
             "pattern": {
              "fillmode": "overlay",
              "size": 10,
              "solidity": 0.2
             }
            },
            "type": "barpolar"
           }
          ],
          "carpet": [
           {
            "aaxis": {
             "endlinecolor": "#2a3f5f",
             "gridcolor": "white",
             "linecolor": "white",
             "minorgridcolor": "white",
             "startlinecolor": "#2a3f5f"
            },
            "baxis": {
             "endlinecolor": "#2a3f5f",
             "gridcolor": "white",
             "linecolor": "white",
             "minorgridcolor": "white",
             "startlinecolor": "#2a3f5f"
            },
            "type": "carpet"
           }
          ],
          "choropleth": [
           {
            "colorbar": {
             "outlinewidth": 0,
             "ticks": ""
            },
            "type": "choropleth"
           }
          ],
          "contour": [
           {
            "colorbar": {
             "outlinewidth": 0,
             "ticks": ""
            },
            "colorscale": [
             [
              0,
              "#0d0887"
             ],
             [
              0.1111111111111111,
              "#46039f"
             ],
             [
              0.2222222222222222,
              "#7201a8"
             ],
             [
              0.3333333333333333,
              "#9c179e"
             ],
             [
              0.4444444444444444,
              "#bd3786"
             ],
             [
              0.5555555555555556,
              "#d8576b"
             ],
             [
              0.6666666666666666,
              "#ed7953"
             ],
             [
              0.7777777777777778,
              "#fb9f3a"
             ],
             [
              0.8888888888888888,
              "#fdca26"
             ],
             [
              1,
              "#f0f921"
             ]
            ],
            "type": "contour"
           }
          ],
          "contourcarpet": [
           {
            "colorbar": {
             "outlinewidth": 0,
             "ticks": ""
            },
            "type": "contourcarpet"
           }
          ],
          "heatmap": [
           {
            "colorbar": {
             "outlinewidth": 0,
             "ticks": ""
            },
            "colorscale": [
             [
              0,
              "#0d0887"
             ],
             [
              0.1111111111111111,
              "#46039f"
             ],
             [
              0.2222222222222222,
              "#7201a8"
             ],
             [
              0.3333333333333333,
              "#9c179e"
             ],
             [
              0.4444444444444444,
              "#bd3786"
             ],
             [
              0.5555555555555556,
              "#d8576b"
             ],
             [
              0.6666666666666666,
              "#ed7953"
             ],
             [
              0.7777777777777778,
              "#fb9f3a"
             ],
             [
              0.8888888888888888,
              "#fdca26"
             ],
             [
              1,
              "#f0f921"
             ]
            ],
            "type": "heatmap"
           }
          ],
          "heatmapgl": [
           {
            "colorbar": {
             "outlinewidth": 0,
             "ticks": ""
            },
            "colorscale": [
             [
              0,
              "#0d0887"
             ],
             [
              0.1111111111111111,
              "#46039f"
             ],
             [
              0.2222222222222222,
              "#7201a8"
             ],
             [
              0.3333333333333333,
              "#9c179e"
             ],
             [
              0.4444444444444444,
              "#bd3786"
             ],
             [
              0.5555555555555556,
              "#d8576b"
             ],
             [
              0.6666666666666666,
              "#ed7953"
             ],
             [
              0.7777777777777778,
              "#fb9f3a"
             ],
             [
              0.8888888888888888,
              "#fdca26"
             ],
             [
              1,
              "#f0f921"
             ]
            ],
            "type": "heatmapgl"
           }
          ],
          "histogram": [
           {
            "marker": {
             "pattern": {
              "fillmode": "overlay",
              "size": 10,
              "solidity": 0.2
             }
            },
            "type": "histogram"
           }
          ],
          "histogram2d": [
           {
            "colorbar": {
             "outlinewidth": 0,
             "ticks": ""
            },
            "colorscale": [
             [
              0,
              "#0d0887"
             ],
             [
              0.1111111111111111,
              "#46039f"
             ],
             [
              0.2222222222222222,
              "#7201a8"
             ],
             [
              0.3333333333333333,
              "#9c179e"
             ],
             [
              0.4444444444444444,
              "#bd3786"
             ],
             [
              0.5555555555555556,
              "#d8576b"
             ],
             [
              0.6666666666666666,
              "#ed7953"
             ],
             [
              0.7777777777777778,
              "#fb9f3a"
             ],
             [
              0.8888888888888888,
              "#fdca26"
             ],
             [
              1,
              "#f0f921"
             ]
            ],
            "type": "histogram2d"
           }
          ],
          "histogram2dcontour": [
           {
            "colorbar": {
             "outlinewidth": 0,
             "ticks": ""
            },
            "colorscale": [
             [
              0,
              "#0d0887"
             ],
             [
              0.1111111111111111,
              "#46039f"
             ],
             [
              0.2222222222222222,
              "#7201a8"
             ],
             [
              0.3333333333333333,
              "#9c179e"
             ],
             [
              0.4444444444444444,
              "#bd3786"
             ],
             [
              0.5555555555555556,
              "#d8576b"
             ],
             [
              0.6666666666666666,
              "#ed7953"
             ],
             [
              0.7777777777777778,
              "#fb9f3a"
             ],
             [
              0.8888888888888888,
              "#fdca26"
             ],
             [
              1,
              "#f0f921"
             ]
            ],
            "type": "histogram2dcontour"
           }
          ],
          "mesh3d": [
           {
            "colorbar": {
             "outlinewidth": 0,
             "ticks": ""
            },
            "type": "mesh3d"
           }
          ],
          "parcoords": [
           {
            "line": {
             "colorbar": {
              "outlinewidth": 0,
              "ticks": ""
             }
            },
            "type": "parcoords"
           }
          ],
          "pie": [
           {
            "automargin": true,
            "type": "pie"
           }
          ],
          "scatter": [
           {
            "fillpattern": {
             "fillmode": "overlay",
             "size": 10,
             "solidity": 0.2
            },
            "type": "scatter"
           }
          ],
          "scatter3d": [
           {
            "line": {
             "colorbar": {
              "outlinewidth": 0,
              "ticks": ""
             }
            },
            "marker": {
             "colorbar": {
              "outlinewidth": 0,
              "ticks": ""
             }
            },
            "type": "scatter3d"
           }
          ],
          "scattercarpet": [
           {
            "marker": {
             "colorbar": {
              "outlinewidth": 0,
              "ticks": ""
             }
            },
            "type": "scattercarpet"
           }
          ],
          "scattergeo": [
           {
            "marker": {
             "colorbar": {
              "outlinewidth": 0,
              "ticks": ""
             }
            },
            "type": "scattergeo"
           }
          ],
          "scattergl": [
           {
            "marker": {
             "colorbar": {
              "outlinewidth": 0,
              "ticks": ""
             }
            },
            "type": "scattergl"
           }
          ],
          "scattermapbox": [
           {
            "marker": {
             "colorbar": {
              "outlinewidth": 0,
              "ticks": ""
             }
            },
            "type": "scattermapbox"
           }
          ],
          "scatterpolar": [
           {
            "marker": {
             "colorbar": {
              "outlinewidth": 0,
              "ticks": ""
             }
            },
            "type": "scatterpolar"
           }
          ],
          "scatterpolargl": [
           {
            "marker": {
             "colorbar": {
              "outlinewidth": 0,
              "ticks": ""
             }
            },
            "type": "scatterpolargl"
           }
          ],
          "scatterternary": [
           {
            "marker": {
             "colorbar": {
              "outlinewidth": 0,
              "ticks": ""
             }
            },
            "type": "scatterternary"
           }
          ],
          "surface": [
           {
            "colorbar": {
             "outlinewidth": 0,
             "ticks": ""
            },
            "colorscale": [
             [
              0,
              "#0d0887"
             ],
             [
              0.1111111111111111,
              "#46039f"
             ],
             [
              0.2222222222222222,
              "#7201a8"
             ],
             [
              0.3333333333333333,
              "#9c179e"
             ],
             [
              0.4444444444444444,
              "#bd3786"
             ],
             [
              0.5555555555555556,
              "#d8576b"
             ],
             [
              0.6666666666666666,
              "#ed7953"
             ],
             [
              0.7777777777777778,
              "#fb9f3a"
             ],
             [
              0.8888888888888888,
              "#fdca26"
             ],
             [
              1,
              "#f0f921"
             ]
            ],
            "type": "surface"
           }
          ],
          "table": [
           {
            "cells": {
             "fill": {
              "color": "#EBF0F8"
             },
             "line": {
              "color": "white"
             }
            },
            "header": {
             "fill": {
              "color": "#C8D4E3"
             },
             "line": {
              "color": "white"
             }
            },
            "type": "table"
           }
          ]
         },
         "layout": {
          "annotationdefaults": {
           "arrowcolor": "#2a3f5f",
           "arrowhead": 0,
           "arrowwidth": 1
          },
          "autotypenumbers": "strict",
          "coloraxis": {
           "colorbar": {
            "outlinewidth": 0,
            "ticks": ""
           }
          },
          "colorscale": {
           "diverging": [
            [
             0,
             "#8e0152"
            ],
            [
             0.1,
             "#c51b7d"
            ],
            [
             0.2,
             "#de77ae"
            ],
            [
             0.3,
             "#f1b6da"
            ],
            [
             0.4,
             "#fde0ef"
            ],
            [
             0.5,
             "#f7f7f7"
            ],
            [
             0.6,
             "#e6f5d0"
            ],
            [
             0.7,
             "#b8e186"
            ],
            [
             0.8,
             "#7fbc41"
            ],
            [
             0.9,
             "#4d9221"
            ],
            [
             1,
             "#276419"
            ]
           ],
           "sequential": [
            [
             0,
             "#0d0887"
            ],
            [
             0.1111111111111111,
             "#46039f"
            ],
            [
             0.2222222222222222,
             "#7201a8"
            ],
            [
             0.3333333333333333,
             "#9c179e"
            ],
            [
             0.4444444444444444,
             "#bd3786"
            ],
            [
             0.5555555555555556,
             "#d8576b"
            ],
            [
             0.6666666666666666,
             "#ed7953"
            ],
            [
             0.7777777777777778,
             "#fb9f3a"
            ],
            [
             0.8888888888888888,
             "#fdca26"
            ],
            [
             1,
             "#f0f921"
            ]
           ],
           "sequentialminus": [
            [
             0,
             "#0d0887"
            ],
            [
             0.1111111111111111,
             "#46039f"
            ],
            [
             0.2222222222222222,
             "#7201a8"
            ],
            [
             0.3333333333333333,
             "#9c179e"
            ],
            [
             0.4444444444444444,
             "#bd3786"
            ],
            [
             0.5555555555555556,
             "#d8576b"
            ],
            [
             0.6666666666666666,
             "#ed7953"
            ],
            [
             0.7777777777777778,
             "#fb9f3a"
            ],
            [
             0.8888888888888888,
             "#fdca26"
            ],
            [
             1,
             "#f0f921"
            ]
           ]
          },
          "colorway": [
           "#636efa",
           "#EF553B",
           "#00cc96",
           "#ab63fa",
           "#FFA15A",
           "#19d3f3",
           "#FF6692",
           "#B6E880",
           "#FF97FF",
           "#FECB52"
          ],
          "font": {
           "color": "#2a3f5f"
          },
          "geo": {
           "bgcolor": "white",
           "lakecolor": "white",
           "landcolor": "#E5ECF6",
           "showlakes": true,
           "showland": true,
           "subunitcolor": "white"
          },
          "hoverlabel": {
           "align": "left"
          },
          "hovermode": "closest",
          "mapbox": {
           "style": "light"
          },
          "paper_bgcolor": "white",
          "plot_bgcolor": "#E5ECF6",
          "polar": {
           "angularaxis": {
            "gridcolor": "white",
            "linecolor": "white",
            "ticks": ""
           },
           "bgcolor": "#E5ECF6",
           "radialaxis": {
            "gridcolor": "white",
            "linecolor": "white",
            "ticks": ""
           }
          },
          "scene": {
           "xaxis": {
            "backgroundcolor": "#E5ECF6",
            "gridcolor": "white",
            "gridwidth": 2,
            "linecolor": "white",
            "showbackground": true,
            "ticks": "",
            "zerolinecolor": "white"
           },
           "yaxis": {
            "backgroundcolor": "#E5ECF6",
            "gridcolor": "white",
            "gridwidth": 2,
            "linecolor": "white",
            "showbackground": true,
            "ticks": "",
            "zerolinecolor": "white"
           },
           "zaxis": {
            "backgroundcolor": "#E5ECF6",
            "gridcolor": "white",
            "gridwidth": 2,
            "linecolor": "white",
            "showbackground": true,
            "ticks": "",
            "zerolinecolor": "white"
           }
          },
          "shapedefaults": {
           "line": {
            "color": "#2a3f5f"
           }
          },
          "ternary": {
           "aaxis": {
            "gridcolor": "white",
            "linecolor": "white",
            "ticks": ""
           },
           "baxis": {
            "gridcolor": "white",
            "linecolor": "white",
            "ticks": ""
           },
           "bgcolor": "#E5ECF6",
           "caxis": {
            "gridcolor": "white",
            "linecolor": "white",
            "ticks": ""
           }
          },
          "title": {
           "x": 0.05
          },
          "xaxis": {
           "automargin": true,
           "gridcolor": "white",
           "linecolor": "white",
           "ticks": "",
           "title": {
            "standoff": 15
           },
           "zerolinecolor": "white",
           "zerolinewidth": 2
          },
          "yaxis": {
           "automargin": true,
           "gridcolor": "white",
           "linecolor": "white",
           "ticks": "",
           "title": {
            "standoff": 15
           },
           "zerolinecolor": "white",
           "zerolinewidth": 2
          }
         }
        },
        "title": {
         "font": {
          "color": "#2c3e50",
          "family": "Arial, sans-serif",
          "size": 28
         },
         "text": "<b>🔬 研究团队优势领域交叉融合网络</b>",
         "x": 0.5,
         "xanchor": "center"
        },
        "updatemenus": [
         {
          "buttons": [
           {
            "args": [
             {
              "visible": [
               true,
               true
              ]
             }
            ],
            "label": "显示所有",
            "method": "restyle"
           },
           {
            "args": [
             {
              "visible": [
               true,
               false
              ]
             }
            ],
            "label": "仅显示边线",
            "method": "restyle"
           },
           {
            "args": [
             {
              "visible": [
               false,
               true
              ]
             }
            ],
            "label": "仅显示节点",
            "method": "restyle"
           }
          ],
          "direction": "left",
          "pad": {
           "r": 10,
           "t": 10
          },
          "showactive": true,
          "type": "buttons",
          "x": 0.01,
          "xanchor": "left",
          "y": 1.02,
          "yanchor": "top"
         }
        ],
        "xaxis": {
         "scaleanchor": "y",
         "scaleratio": 1,
         "showgrid": false,
         "showticklabels": false,
         "zeroline": false
        },
        "yaxis": {
         "showgrid": false,
         "showticklabels": false,
         "zeroline": false
        }
       }
      },
      "text/html": [
       "<div>                            <div id=\"2cd40504-cfa3-413e-a74e-b2b15ca72b43\" class=\"plotly-graph-div\" style=\"height:525px; width:100%;\"></div>            <script type=\"text/javascript\">                require([\"plotly\"], function(Plotly) {                    window.PLOTLYENV=window.PLOTLYENV || {};                                    if (document.getElementById(\"2cd40504-cfa3-413e-a74e-b2b15ca72b43\")) {                    Plotly.newPlot(                        \"2cd40504-cfa3-413e-a74e-b2b15ca72b43\",                        [{\"hoverinfo\":\"none\",\"line\":{\"color\":\"rgba(100, 100, 100, 0.7)\",\"dash\":\"solid\",\"width\":3},\"mode\":\"lines\",\"showlegend\":false,\"x\":[-0.029224041103549998,0.5690109484751772],\"y\":[0.8819287530257419,-0.13059363899049145],\"type\":\"scatter\",\"customdata\":[\"field\",\"field\",\"field\",\"field\",\"field\",\"field\",\"field\",\"field\",\"field\",\"field\",\"institution\",\"institution\",\"institution\",\"institution\",\"institution\",\"institution\"],\"hovertemplate\":\"\\u003cb\\u003e%{text}\\u003c\\u002fb\\u003e\\u003cbr\\u003e\\u8282\\u70b9\\u7c7b\\u578b: %{customdata}\\u003cbr\\u003e\\u8fde\\u63a5\\u6570: %{marker.size}\\u003cbr\\u003e\\u003cextra\\u003e\\u003c\\u002fextra\\u003e\"},{\"hoverinfo\":\"none\",\"line\":{\"color\":\"rgba(100, 100, 100, 0.7)\",\"dash\":\"solid\",\"width\":3},\"mode\":\"lines\",\"showlegend\":false,\"x\":[-0.029224041103549998,-0.8321532480655942],\"y\":[0.8819287530257419,-0.007412768432071774],\"type\":\"scatter\",\"customdata\":[\"field\",\"field\",\"field\",\"field\",\"field\",\"field\",\"field\",\"field\",\"field\",\"field\",\"institution\",\"institution\",\"institution\",\"institution\",\"institution\",\"institution\"],\"hovertemplate\":\"\\u003cb\\u003e%{text}\\u003c\\u002fb\\u003e\\u003cbr\\u003e\\u8282\\u70b9\\u7c7b\\u578b: %{customdata}\\u003cbr\\u003e\\u8fde\\u63a5\\u6570: %{marker.size}\\u003cbr\\u003e\\u003cextra\\u003e\\u003c\\u002fextra\\u003e\"},{\"hoverinfo\":\"none\",\"line\":{\"color\":\"rgba(100, 100, 100, 0.7)\",\"dash\":\"solid\",\"width\":3},\"mode\":\"lines\",\"showlegend\":false,\"x\":[1.0,0.18994617035669006],\"y\":[0.29513931544192984,0.5684524476327399],\"type\":\"scatter\",\"customdata\":[\"field\",\"field\",\"field\",\"field\",\"field\",\"field\",\"field\",\"field\",\"field\",\"field\",\"institution\",\"institution\",\"institution\",\"institution\",\"institution\",\"institution\"],\"hovertemplate\":\"\\u003cb\\u003e%{text}\\u003c\\u002fb\\u003e\\u003cbr\\u003e\\u8282\\u70b9\\u7c7b\\u578b: %{customdata}\\u003cbr\\u003e\\u8fde\\u63a5\\u6570: %{marker.size}\\u003cbr\\u003e\\u003cextra\\u003e\\u003c\\u002fextra\\u003e\"},{\"hoverinfo\":\"none\",\"line\":{\"color\":\"rgba(100, 100, 100, 0.7)\",\"dash\":\"solid\",\"width\":3},\"mode\":\"lines\",\"showlegend\":false,\"x\":[1.0,0.5690109484751772],\"y\":[0.29513931544192984,-0.13059363899049145],\"type\":\"scatter\",\"customdata\":[\"field\",\"field\",\"field\",\"field\",\"field\",\"field\",\"field\",\"field\",\"field\",\"field\",\"institution\",\"institution\",\"institution\",\"institution\",\"institution\",\"institution\"],\"hovertemplate\":\"\\u003cb\\u003e%{text}\\u003c\\u002fb\\u003e\\u003cbr\\u003e\\u8282\\u70b9\\u7c7b\\u578b: %{customdata}\\u003cbr\\u003e\\u8fde\\u63a5\\u6570: %{marker.size}\\u003cbr\\u003e\\u003cextra\\u003e\\u003c\\u002fextra\\u003e\"},{\"hoverinfo\":\"none\",\"line\":{\"color\":\"rgba(100, 100, 100, 0.7)\",\"dash\":\"solid\",\"width\":3},\"mode\":\"lines\",\"showlegend\":false,\"x\":[-0.6215153112019421,-0.4984568422379729],\"y\":[-0.7701590119916661,-0.20166011577628623],\"type\":\"scatter\",\"customdata\":[\"field\",\"field\",\"field\",\"field\",\"field\",\"field\",\"field\",\"field\",\"field\",\"field\",\"institution\",\"institution\",\"institution\",\"institution\",\"institution\",\"institution\"],\"hovertemplate\":\"\\u003cb\\u003e%{text}\\u003c\\u002fb\\u003e\\u003cbr\\u003e\\u8282\\u70b9\\u7c7b\\u578b: %{customdata}\\u003cbr\\u003e\\u8fde\\u63a5\\u6570: %{marker.size}\\u003cbr\\u003e\\u003cextra\\u003e\\u003c\\u002fextra\\u003e\"},{\"hoverinfo\":\"none\",\"line\":{\"color\":\"rgba(100, 100, 100, 0.7)\",\"dash\":\"solid\",\"width\":3},\"mode\":\"lines\",\"showlegend\":false,\"x\":[-0.6215153112019421,-0.04159354425296173],\"y\":[-0.7701590119916661,-0.9594074275136716],\"type\":\"scatter\",\"customdata\":[\"field\",\"field\",\"field\",\"field\",\"field\",\"field\",\"field\",\"field\",\"field\",\"field\",\"institution\",\"institution\",\"institution\",\"institution\",\"institution\",\"institution\"],\"hovertemplate\":\"\\u003cb\\u003e%{text}\\u003c\\u002fb\\u003e\\u003cbr\\u003e\\u8282\\u70b9\\u7c7b\\u578b: %{customdata}\\u003cbr\\u003e\\u8fde\\u63a5\\u6570: %{marker.size}\\u003cbr\\u003e\\u003cextra\\u003e\\u003c\\u002fextra\\u003e\"},{\"hoverinfo\":\"none\",\"line\":{\"color\":\"rgba(100, 100, 100, 0.7)\",\"dash\":\"solid\",\"width\":3},\"mode\":\"lines\",\"showlegend\":false,\"x\":[-0.6215153112019421,-0.8321532480655942],\"y\":[-0.7701590119916661,-0.007412768432071774],\"type\":\"scatter\",\"customdata\":[\"field\",\"field\",\"field\",\"field\",\"field\",\"field\",\"field\",\"field\",\"field\",\"field\",\"institution\",\"institution\",\"institution\",\"institution\",\"institution\",\"institution\"],\"hovertemplate\":\"\\u003cb\\u003e%{text}\\u003c\\u002fb\\u003e\\u003cbr\\u003e\\u8282\\u70b9\\u7c7b\\u578b: %{customdata}\\u003cbr\\u003e\\u8fde\\u63a5\\u6570: %{marker.size}\\u003cbr\\u003e\\u003cextra\\u003e\\u003c\\u002fextra\\u003e\"},{\"hoverinfo\":\"none\",\"line\":{\"color\":\"rgba(100, 100, 100, 0.7)\",\"dash\":\"solid\",\"width\":3},\"mode\":\"lines\",\"showlegend\":false,\"x\":[-0.8736743034944332,-0.8321532480655942],\"y\":[0.5101462936624959,-0.007412768432071774],\"type\":\"scatter\",\"customdata\":[\"field\",\"field\",\"field\",\"field\",\"field\",\"field\",\"field\",\"field\",\"field\",\"field\",\"institution\",\"institution\",\"institution\",\"institution\",\"institution\",\"institution\"],\"hovertemplate\":\"\\u003cb\\u003e%{text}\\u003c\\u002fb\\u003e\\u003cbr\\u003e\\u8282\\u70b9\\u7c7b\\u578b: %{customdata}\\u003cbr\\u003e\\u8fde\\u63a5\\u6570: %{marker.size}\\u003cbr\\u003e\\u003cextra\\u003e\\u003c\\u002fextra\\u003e\"},{\"hoverinfo\":\"none\",\"line\":{\"color\":\"rgba(100, 100, 100, 0.7)\",\"dash\":\"solid\",\"width\":3},\"mode\":\"lines\",\"showlegend\":false,\"x\":[-0.8736743034944332,0.18994617035669006],\"y\":[0.5101462936624959,0.5684524476327399],\"type\":\"scatter\",\"customdata\":[\"field\",\"field\",\"field\",\"field\",\"field\",\"field\",\"field\",\"field\",\"field\",\"field\",\"institution\",\"institution\",\"institution\",\"institution\",\"institution\",\"institution\"],\"hovertemplate\":\"\\u003cb\\u003e%{text}\\u003c\\u002fb\\u003e\\u003cbr\\u003e\\u8282\\u70b9\\u7c7b\\u578b: %{customdata}\\u003cbr\\u003e\\u8fde\\u63a5\\u6570: %{marker.size}\\u003cbr\\u003e\\u003cextra\\u003e\\u003c\\u002fextra\\u003e\"},{\"hoverinfo\":\"none\",\"line\":{\"color\":\"rgba(100, 100, 100, 0.7)\",\"dash\":\"solid\",\"width\":3},\"mode\":\"lines\",\"showlegend\":false,\"x\":[0.8510929829357873,0.5690109484751772],\"y\":[0.5704399282793776,-0.13059363899049145],\"type\":\"scatter\",\"customdata\":[\"field\",\"field\",\"field\",\"field\",\"field\",\"field\",\"field\",\"field\",\"field\",\"field\",\"institution\",\"institution\",\"institution\",\"institution\",\"institution\",\"institution\"],\"hovertemplate\":\"\\u003cb\\u003e%{text}\\u003c\\u002fb\\u003e\\u003cbr\\u003e\\u8282\\u70b9\\u7c7b\\u578b: %{customdata}\\u003cbr\\u003e\\u8fde\\u63a5\\u6570: %{marker.size}\\u003cbr\\u003e\\u003cextra\\u003e\\u003c\\u002fextra\\u003e\"},{\"hoverinfo\":\"none\",\"line\":{\"color\":\"rgba(100, 100, 100, 0.7)\",\"dash\":\"solid\",\"width\":3},\"mode\":\"lines\",\"showlegend\":false,\"x\":[0.8510929829357873,0.9958540919644688],\"y\":[0.5704399282793776,-0.13593839510669647],\"type\":\"scatter\",\"customdata\":[\"field\",\"field\",\"field\",\"field\",\"field\",\"field\",\"field\",\"field\",\"field\",\"field\",\"institution\",\"institution\",\"institution\",\"institution\",\"institution\",\"institution\"],\"hovertemplate\":\"\\u003cb\\u003e%{text}\\u003c\\u002fb\\u003e\\u003cbr\\u003e\\u8282\\u70b9\\u7c7b\\u578b: %{customdata}\\u003cbr\\u003e\\u8fde\\u63a5\\u6570: %{marker.size}\\u003cbr\\u003e\\u003cextra\\u003e\\u003c\\u002fextra\\u003e\"},{\"hoverinfo\":\"none\",\"line\":{\"color\":\"rgba(100, 100, 100, 0.7)\",\"dash\":\"solid\",\"width\":3},\"mode\":\"lines\",\"showlegend\":false,\"x\":[-0.5640808602401145,-0.04159354425296173],\"y\":[0.2971120563441084,-0.9594074275136716],\"type\":\"scatter\",\"customdata\":[\"field\",\"field\",\"field\",\"field\",\"field\",\"field\",\"field\",\"field\",\"field\",\"field\",\"institution\",\"institution\",\"institution\",\"institution\",\"institution\",\"institution\"],\"hovertemplate\":\"\\u003cb\\u003e%{text}\\u003c\\u002fb\\u003e\\u003cbr\\u003e\\u8282\\u70b9\\u7c7b\\u578b: %{customdata}\\u003cbr\\u003e\\u8fde\\u63a5\\u6570: %{marker.size}\\u003cbr\\u003e\\u003cextra\\u003e\\u003c\\u002fextra\\u003e\"},{\"hoverinfo\":\"none\",\"line\":{\"color\":\"rgba(100, 100, 100, 0.7)\",\"dash\":\"solid\",\"width\":3},\"mode\":\"lines\",\"showlegend\":false,\"x\":[-0.5640808602401145,-0.8321532480655942],\"y\":[0.2971120563441084,-0.007412768432071774],\"type\":\"scatter\",\"customdata\":[\"field\",\"field\",\"field\",\"field\",\"field\",\"field\",\"field\",\"field\",\"field\",\"field\",\"institution\",\"institution\",\"institution\",\"institution\",\"institution\",\"institution\"],\"hovertemplate\":\"\\u003cb\\u003e%{text}\\u003c\\u002fb\\u003e\\u003cbr\\u003e\\u8282\\u70b9\\u7c7b\\u578b: %{customdata}\\u003cbr\\u003e\\u8fde\\u63a5\\u6570: %{marker.size}\\u003cbr\\u003e\\u003cextra\\u003e\\u003c\\u002fextra\\u003e\"},{\"hoverinfo\":\"none\",\"line\":{\"color\":\"rgba(100, 100, 100, 0.7)\",\"dash\":\"solid\",\"width\":3},\"mode\":\"lines\",\"showlegend\":false,\"x\":[0.7206859400723367,0.5690109484751772],\"y\":[-0.6318234915545493,-0.13059363899049145],\"type\":\"scatter\",\"customdata\":[\"field\",\"field\",\"field\",\"field\",\"field\",\"field\",\"field\",\"field\",\"field\",\"field\",\"institution\",\"institution\",\"institution\",\"institution\",\"institution\",\"institution\"],\"hovertemplate\":\"\\u003cb\\u003e%{text}\\u003c\\u002fb\\u003e\\u003cbr\\u003e\\u8282\\u70b9\\u7c7b\\u578b: %{customdata}\\u003cbr\\u003e\\u8fde\\u63a5\\u6570: %{marker.size}\\u003cbr\\u003e\\u003cextra\\u003e\\u003c\\u002fextra\\u003e\"},{\"hoverinfo\":\"none\",\"line\":{\"color\":\"rgba(100, 100, 100, 0.7)\",\"dash\":\"solid\",\"width\":3},\"mode\":\"lines\",\"showlegend\":false,\"x\":[0.7206859400723367,-0.4984568422379729],\"y\":[-0.6318234915545493,-0.20166011577628623],\"type\":\"scatter\",\"customdata\":[\"field\",\"field\",\"field\",\"field\",\"field\",\"field\",\"field\",\"field\",\"field\",\"field\",\"institution\",\"institution\",\"institution\",\"institution\",\"institution\",\"institution\"],\"hovertemplate\":\"\\u003cb\\u003e%{text}\\u003c\\u002fb\\u003e\\u003cbr\\u003e\\u8282\\u70b9\\u7c7b\\u578b: %{customdata}\\u003cbr\\u003e\\u8fde\\u63a5\\u6570: %{marker.size}\\u003cbr\\u003e\\u003cextra\\u003e\\u003c\\u002fextra\\u003e\"},{\"hoverinfo\":\"none\",\"line\":{\"color\":\"rgba(100, 100, 100, 0.7)\",\"dash\":\"solid\",\"width\":3},\"mode\":\"lines\",\"showlegend\":false,\"x\":[-0.11233920018787574,0.9958540919644688],\"y\":[-0.24081008698831657,-0.13593839510669647],\"type\":\"scatter\",\"customdata\":[\"field\",\"field\",\"field\",\"field\",\"field\",\"field\",\"field\",\"field\",\"field\",\"field\",\"institution\",\"institution\",\"institution\",\"institution\",\"institution\",\"institution\"],\"hovertemplate\":\"\\u003cb\\u003e%{text}\\u003c\\u002fb\\u003e\\u003cbr\\u003e\\u8282\\u70b9\\u7c7b\\u578b: %{customdata}\\u003cbr\\u003e\\u8fde\\u63a5\\u6570: %{marker.size}\\u003cbr\\u003e\\u003cextra\\u003e\\u003c\\u002fextra\\u003e\"},{\"hoverinfo\":\"none\",\"line\":{\"color\":\"rgba(100, 100, 100, 0.7)\",\"dash\":\"solid\",\"width\":3},\"mode\":\"lines\",\"showlegend\":false,\"x\":[-0.11233920018787574,0.18994617035669006],\"y\":[-0.24081008698831657,0.5684524476327399],\"type\":\"scatter\",\"customdata\":[\"field\",\"field\",\"field\",\"field\",\"field\",\"field\",\"field\",\"field\",\"field\",\"field\",\"institution\",\"institution\",\"institution\",\"institution\",\"institution\",\"institution\"],\"hovertemplate\":\"\\u003cb\\u003e%{text}\\u003c\\u002fb\\u003e\\u003cbr\\u003e\\u8282\\u70b9\\u7c7b\\u578b: %{customdata}\\u003cbr\\u003e\\u8fde\\u63a5\\u6570: %{marker.size}\\u003cbr\\u003e\\u003cextra\\u003e\\u003c\\u002fextra\\u003e\"},{\"hoverinfo\":\"none\",\"line\":{\"color\":\"rgba(100, 100, 100, 0.7)\",\"dash\":\"solid\",\"width\":3},\"mode\":\"lines\",\"showlegend\":false,\"x\":[-0.4210764049578858,-0.8321532480655942],\"y\":[0.826497625804697,-0.007412768432071774],\"type\":\"scatter\",\"customdata\":[\"field\",\"field\",\"field\",\"field\",\"field\",\"field\",\"field\",\"field\",\"field\",\"field\",\"institution\",\"institution\",\"institution\",\"institution\",\"institution\",\"institution\"],\"hovertemplate\":\"\\u003cb\\u003e%{text}\\u003c\\u002fb\\u003e\\u003cbr\\u003e\\u8282\\u70b9\\u7c7b\\u578b: %{customdata}\\u003cbr\\u003e\\u8fde\\u63a5\\u6570: %{marker.size}\\u003cbr\\u003e\\u003cextra\\u003e\\u003c\\u002fextra\\u003e\"},{\"hoverinfo\":\"none\",\"line\":{\"color\":\"rgba(100, 100, 100, 0.7)\",\"dash\":\"solid\",\"width\":3},\"mode\":\"lines\",\"showlegend\":false,\"x\":[-0.3324763780621297,-0.4984568422379729],\"y\":[-0.8719114838373412,-0.20166011577628623],\"type\":\"scatter\",\"customdata\":[\"field\",\"field\",\"field\",\"field\",\"field\",\"field\",\"field\",\"field\",\"field\",\"field\",\"institution\",\"institution\",\"institution\",\"institution\",\"institution\",\"institution\"],\"hovertemplate\":\"\\u003cb\\u003e%{text}\\u003c\\u002fb\\u003e\\u003cbr\\u003e\\u8282\\u70b9\\u7c7b\\u578b: %{customdata}\\u003cbr\\u003e\\u8fde\\u63a5\\u6570: %{marker.size}\\u003cbr\\u003e\\u003cextra\\u003e\\u003c\\u002fextra\\u003e\"},{\"hoverinfo\":\"none\",\"line\":{\"color\":\"rgba(100, 100, 100, 0.7)\",\"dash\":\"solid\",\"width\":3},\"mode\":\"lines\",\"showlegend\":false,\"x\":[-0.3324763780621297,-0.04159354425296173],\"y\":[-0.8719114838373412,-0.9594074275136716],\"type\":\"scatter\",\"customdata\":[\"field\",\"field\",\"field\",\"field\",\"field\",\"field\",\"field\",\"field\",\"field\",\"field\",\"institution\",\"institution\",\"institution\",\"institution\",\"institution\",\"institution\"],\"hovertemplate\":\"\\u003cb\\u003e%{text}\\u003c\\u002fb\\u003e\\u003cbr\\u003e\\u8282\\u70b9\\u7c7b\\u578b: %{customdata}\\u003cbr\\u003e\\u8fde\\u63a5\\u6570: %{marker.size}\\u003cbr\\u003e\\u003cextra\\u003e\\u003c\\u002fextra\\u003e\"},{\"hoverinfo\":\"none\",\"line\":{\"color\":\"rgba(100, 100, 100, 0.7)\",\"dash\":\"solid\",\"width\":3},\"mode\":\"lines\",\"showlegend\":false,\"x\":[-0.3324763780621297,-0.8321532480655942],\"y\":[-0.8719114838373412,-0.007412768432071774],\"type\":\"scatter\",\"customdata\":[\"field\",\"field\",\"field\",\"field\",\"field\",\"field\",\"field\",\"field\",\"field\",\"field\",\"institution\",\"institution\",\"institution\",\"institution\",\"institution\",\"institution\"],\"hovertemplate\":\"\\u003cb\\u003e%{text}\\u003c\\u002fb\\u003e\\u003cbr\\u003e\\u8282\\u70b9\\u7c7b\\u578b: %{customdata}\\u003cbr\\u003e\\u8fde\\u63a5\\u6570: %{marker.size}\\u003cbr\\u003e\\u003cextra\\u003e\\u003c\\u002fextra\\u003e\"},{\"hoverinfo\":\"text\",\"marker\":{\"color\":[\"#1f77b4\",\"#aec7e8\",\"#ff7f0e\",\"#ffbb78\",\"#2ca02c\",\"#98df8a\",\"#d62728\",\"#ff9896\",\"#9467bd\",\"#c5b0d5\",\"#ab47bc\",\"#ef5350\",\"#ff6b6b\",\"#ffa726\",\"#66bb6a\",\"#42a5f5\"],\"line\":{\"color\":\"white\",\"width\":4},\"opacity\":[0.9,0.9,0.9,0.9,0.9,0.9,0.9,0.9,0.9,0.9,0.95,0.95,0.95,0.95,0.95,0.95],\"size\":[40,40,40,40,40,40,40,40,40,40,45,45,45,45,45,45],\"symbol\":[\"circle\",\"circle\",\"circle\",\"circle\",\"circle\",\"circle\",\"circle\",\"circle\",\"circle\",\"circle\",\"diamond\",\"diamond\",\"diamond\",\"diamond\",\"diamond\",\"diamond\"]},\"mode\":\"markers+text\",\"showlegend\":false,\"text\":[\"\\u82b1\\u7c89\\u7ba1\\u751f\\u7269\\u5b66\",\"\\u56ca\\u6ce1\\u8fd0\\u8f93\",\"\\u7ec6\\u83cc\\u5206\\u6ccc\",\"\\u5927\\u8c46\\u751f\\u7269\\u5b66\",\"\\u6d6e\\u840d\\u751f\\u7269\\u5b66\",\"AI\\u4e0e\\u7b97\\u6cd5\",\"\\u7ed3\\u6784\\u751f\\u7269\\u5b66\",\"\\u57fa\\u56e0\\u7ec4\\u7f16\\u8f91\",\"\\u4eba\\u5de5\\u56ca\\u6ce1\",\"\\u9ad8\\u901a\\u91cf\\u5e73\\u53f0\",\"\\u5357\\u5f00\\u5927\\u5b66\",\"\\u5148\\u8fdb\\u9662\",\"\\u534e\\u5357\\u5e08\\u5927\",\"\\u6e56\\u5317\\u5927\\u5b66\",\"\\u5929\\u5de5\\u6240\",\"\\u6df1\\u7406\\u5de5\"],\"textfont\":{\"color\":\"white\",\"family\":\"Arial, sans-serif\",\"size\":13},\"textposition\":\"middle center\",\"x\":[-0.029224041103549998,1.0,-0.6215153112019421,-0.8736743034944332,0.8510929829357873,-0.5640808602401145,0.7206859400723367,-0.11233920018787574,-0.4210764049578858,-0.3324763780621297,0.5690109484751772,-0.8321532480655942,0.18994617035669006,-0.4984568422379729,-0.04159354425296173,0.9958540919644688],\"y\":[0.8819287530257419,0.29513931544192984,-0.7701590119916661,0.5101462936624959,0.5704399282793776,0.2971120563441084,-0.6318234915545493,-0.24081008698831657,0.826497625804697,-0.8719114838373412,-0.13059363899049145,-0.007412768432071774,0.5684524476327399,-0.20166011577628623,-0.9594074275136716,-0.13593839510669647],\"type\":\"scatter\",\"customdata\":[\"field\",\"field\",\"field\",\"field\",\"field\",\"field\",\"field\",\"field\",\"field\",\"field\",\"institution\",\"institution\",\"institution\",\"institution\",\"institution\",\"institution\"],\"hovertemplate\":\"\\u003cb\\u003e%{text}\\u003c\\u002fb\\u003e\\u003cbr\\u003e\\u8282\\u70b9\\u7c7b\\u578b: %{customdata}\\u003cbr\\u003e\\u8fde\\u63a5\\u6570: %{marker.size}\\u003cbr\\u003e\\u003cextra\\u003e\\u003c\\u002fextra\\u003e\"}],                        {\"template\":{\"data\":{\"histogram2dcontour\":[{\"type\":\"histogram2dcontour\",\"colorbar\":{\"outlinewidth\":0,\"ticks\":\"\"},\"colorscale\":[[0.0,\"#0d0887\"],[0.1111111111111111,\"#46039f\"],[0.2222222222222222,\"#7201a8\"],[0.3333333333333333,\"#9c179e\"],[0.4444444444444444,\"#bd3786\"],[0.5555555555555556,\"#d8576b\"],[0.6666666666666666,\"#ed7953\"],[0.7777777777777778,\"#fb9f3a\"],[0.8888888888888888,\"#fdca26\"],[1.0,\"#f0f921\"]]}],\"choropleth\":[{\"type\":\"choropleth\",\"colorbar\":{\"outlinewidth\":0,\"ticks\":\"\"}}],\"histogram2d\":[{\"type\":\"histogram2d\",\"colorbar\":{\"outlinewidth\":0,\"ticks\":\"\"},\"colorscale\":[[0.0,\"#0d0887\"],[0.1111111111111111,\"#46039f\"],[0.2222222222222222,\"#7201a8\"],[0.3333333333333333,\"#9c179e\"],[0.4444444444444444,\"#bd3786\"],[0.5555555555555556,\"#d8576b\"],[0.6666666666666666,\"#ed7953\"],[0.7777777777777778,\"#fb9f3a\"],[0.8888888888888888,\"#fdca26\"],[1.0,\"#f0f921\"]]}],\"heatmap\":[{\"type\":\"heatmap\",\"colorbar\":{\"outlinewidth\":0,\"ticks\":\"\"},\"colorscale\":[[0.0,\"#0d0887\"],[0.1111111111111111,\"#46039f\"],[0.2222222222222222,\"#7201a8\"],[0.3333333333333333,\"#9c179e\"],[0.4444444444444444,\"#bd3786\"],[0.5555555555555556,\"#d8576b\"],[0.6666666666666666,\"#ed7953\"],[0.7777777777777778,\"#fb9f3a\"],[0.8888888888888888,\"#fdca26\"],[1.0,\"#f0f921\"]]}],\"heatmapgl\":[{\"type\":\"heatmapgl\",\"colorbar\":{\"outlinewidth\":0,\"ticks\":\"\"},\"colorscale\":[[0.0,\"#0d0887\"],[0.1111111111111111,\"#46039f\"],[0.2222222222222222,\"#7201a8\"],[0.3333333333333333,\"#9c179e\"],[0.4444444444444444,\"#bd3786\"],[0.5555555555555556,\"#d8576b\"],[0.6666666666666666,\"#ed7953\"],[0.7777777777777778,\"#fb9f3a\"],[0.8888888888888888,\"#fdca26\"],[1.0,\"#f0f921\"]]}],\"contourcarpet\":[{\"type\":\"contourcarpet\",\"colorbar\":{\"outlinewidth\":0,\"ticks\":\"\"}}],\"contour\":[{\"type\":\"contour\",\"colorbar\":{\"outlinewidth\":0,\"ticks\":\"\"},\"colorscale\":[[0.0,\"#0d0887\"],[0.1111111111111111,\"#46039f\"],[0.2222222222222222,\"#7201a8\"],[0.3333333333333333,\"#9c179e\"],[0.4444444444444444,\"#bd3786\"],[0.5555555555555556,\"#d8576b\"],[0.6666666666666666,\"#ed7953\"],[0.7777777777777778,\"#fb9f3a\"],[0.8888888888888888,\"#fdca26\"],[1.0,\"#f0f921\"]]}],\"surface\":[{\"type\":\"surface\",\"colorbar\":{\"outlinewidth\":0,\"ticks\":\"\"},\"colorscale\":[[0.0,\"#0d0887\"],[0.1111111111111111,\"#46039f\"],[0.2222222222222222,\"#7201a8\"],[0.3333333333333333,\"#9c179e\"],[0.4444444444444444,\"#bd3786\"],[0.5555555555555556,\"#d8576b\"],[0.6666666666666666,\"#ed7953\"],[0.7777777777777778,\"#fb9f3a\"],[0.8888888888888888,\"#fdca26\"],[1.0,\"#f0f921\"]]}],\"mesh3d\":[{\"type\":\"mesh3d\",\"colorbar\":{\"outlinewidth\":0,\"ticks\":\"\"}}],\"scatter\":[{\"fillpattern\":{\"fillmode\":\"overlay\",\"size\":10,\"solidity\":0.2},\"type\":\"scatter\"}],\"parcoords\":[{\"type\":\"parcoords\",\"line\":{\"colorbar\":{\"outlinewidth\":0,\"ticks\":\"\"}}}],\"scatterpolargl\":[{\"type\":\"scatterpolargl\",\"marker\":{\"colorbar\":{\"outlinewidth\":0,\"ticks\":\"\"}}}],\"bar\":[{\"error_x\":{\"color\":\"#2a3f5f\"},\"error_y\":{\"color\":\"#2a3f5f\"},\"marker\":{\"line\":{\"color\":\"#E5ECF6\",\"width\":0.5},\"pattern\":{\"fillmode\":\"overlay\",\"size\":10,\"solidity\":0.2}},\"type\":\"bar\"}],\"scattergeo\":[{\"type\":\"scattergeo\",\"marker\":{\"colorbar\":{\"outlinewidth\":0,\"ticks\":\"\"}}}],\"scatterpolar\":[{\"type\":\"scatterpolar\",\"marker\":{\"colorbar\":{\"outlinewidth\":0,\"ticks\":\"\"}}}],\"histogram\":[{\"marker\":{\"pattern\":{\"fillmode\":\"overlay\",\"size\":10,\"solidity\":0.2}},\"type\":\"histogram\"}],\"scattergl\":[{\"type\":\"scattergl\",\"marker\":{\"colorbar\":{\"outlinewidth\":0,\"ticks\":\"\"}}}],\"scatter3d\":[{\"type\":\"scatter3d\",\"line\":{\"colorbar\":{\"outlinewidth\":0,\"ticks\":\"\"}},\"marker\":{\"colorbar\":{\"outlinewidth\":0,\"ticks\":\"\"}}}],\"scattermapbox\":[{\"type\":\"scattermapbox\",\"marker\":{\"colorbar\":{\"outlinewidth\":0,\"ticks\":\"\"}}}],\"scatterternary\":[{\"type\":\"scatterternary\",\"marker\":{\"colorbar\":{\"outlinewidth\":0,\"ticks\":\"\"}}}],\"scattercarpet\":[{\"type\":\"scattercarpet\",\"marker\":{\"colorbar\":{\"outlinewidth\":0,\"ticks\":\"\"}}}],\"carpet\":[{\"aaxis\":{\"endlinecolor\":\"#2a3f5f\",\"gridcolor\":\"white\",\"linecolor\":\"white\",\"minorgridcolor\":\"white\",\"startlinecolor\":\"#2a3f5f\"},\"baxis\":{\"endlinecolor\":\"#2a3f5f\",\"gridcolor\":\"white\",\"linecolor\":\"white\",\"minorgridcolor\":\"white\",\"startlinecolor\":\"#2a3f5f\"},\"type\":\"carpet\"}],\"table\":[{\"cells\":{\"fill\":{\"color\":\"#EBF0F8\"},\"line\":{\"color\":\"white\"}},\"header\":{\"fill\":{\"color\":\"#C8D4E3\"},\"line\":{\"color\":\"white\"}},\"type\":\"table\"}],\"barpolar\":[{\"marker\":{\"line\":{\"color\":\"#E5ECF6\",\"width\":0.5},\"pattern\":{\"fillmode\":\"overlay\",\"size\":10,\"solidity\":0.2}},\"type\":\"barpolar\"}],\"pie\":[{\"automargin\":true,\"type\":\"pie\"}]},\"layout\":{\"autotypenumbers\":\"strict\",\"colorway\":[\"#636efa\",\"#EF553B\",\"#00cc96\",\"#ab63fa\",\"#FFA15A\",\"#19d3f3\",\"#FF6692\",\"#B6E880\",\"#FF97FF\",\"#FECB52\"],\"font\":{\"color\":\"#2a3f5f\"},\"hovermode\":\"closest\",\"hoverlabel\":{\"align\":\"left\"},\"paper_bgcolor\":\"white\",\"plot_bgcolor\":\"#E5ECF6\",\"polar\":{\"bgcolor\":\"#E5ECF6\",\"angularaxis\":{\"gridcolor\":\"white\",\"linecolor\":\"white\",\"ticks\":\"\"},\"radialaxis\":{\"gridcolor\":\"white\",\"linecolor\":\"white\",\"ticks\":\"\"}},\"ternary\":{\"bgcolor\":\"#E5ECF6\",\"aaxis\":{\"gridcolor\":\"white\",\"linecolor\":\"white\",\"ticks\":\"\"},\"baxis\":{\"gridcolor\":\"white\",\"linecolor\":\"white\",\"ticks\":\"\"},\"caxis\":{\"gridcolor\":\"white\",\"linecolor\":\"white\",\"ticks\":\"\"}},\"coloraxis\":{\"colorbar\":{\"outlinewidth\":0,\"ticks\":\"\"}},\"colorscale\":{\"sequential\":[[0.0,\"#0d0887\"],[0.1111111111111111,\"#46039f\"],[0.2222222222222222,\"#7201a8\"],[0.3333333333333333,\"#9c179e\"],[0.4444444444444444,\"#bd3786\"],[0.5555555555555556,\"#d8576b\"],[0.6666666666666666,\"#ed7953\"],[0.7777777777777778,\"#fb9f3a\"],[0.8888888888888888,\"#fdca26\"],[1.0,\"#f0f921\"]],\"sequentialminus\":[[0.0,\"#0d0887\"],[0.1111111111111111,\"#46039f\"],[0.2222222222222222,\"#7201a8\"],[0.3333333333333333,\"#9c179e\"],[0.4444444444444444,\"#bd3786\"],[0.5555555555555556,\"#d8576b\"],[0.6666666666666666,\"#ed7953\"],[0.7777777777777778,\"#fb9f3a\"],[0.8888888888888888,\"#fdca26\"],[1.0,\"#f0f921\"]],\"diverging\":[[0,\"#8e0152\"],[0.1,\"#c51b7d\"],[0.2,\"#de77ae\"],[0.3,\"#f1b6da\"],[0.4,\"#fde0ef\"],[0.5,\"#f7f7f7\"],[0.6,\"#e6f5d0\"],[0.7,\"#b8e186\"],[0.8,\"#7fbc41\"],[0.9,\"#4d9221\"],[1,\"#276419\"]]},\"xaxis\":{\"gridcolor\":\"white\",\"linecolor\":\"white\",\"ticks\":\"\",\"title\":{\"standoff\":15},\"zerolinecolor\":\"white\",\"automargin\":true,\"zerolinewidth\":2},\"yaxis\":{\"gridcolor\":\"white\",\"linecolor\":\"white\",\"ticks\":\"\",\"title\":{\"standoff\":15},\"zerolinecolor\":\"white\",\"automargin\":true,\"zerolinewidth\":2},\"scene\":{\"xaxis\":{\"backgroundcolor\":\"#E5ECF6\",\"gridcolor\":\"white\",\"linecolor\":\"white\",\"showbackground\":true,\"ticks\":\"\",\"zerolinecolor\":\"white\",\"gridwidth\":2},\"yaxis\":{\"backgroundcolor\":\"#E5ECF6\",\"gridcolor\":\"white\",\"linecolor\":\"white\",\"showbackground\":true,\"ticks\":\"\",\"zerolinecolor\":\"white\",\"gridwidth\":2},\"zaxis\":{\"backgroundcolor\":\"#E5ECF6\",\"gridcolor\":\"white\",\"linecolor\":\"white\",\"showbackground\":true,\"ticks\":\"\",\"zerolinecolor\":\"white\",\"gridwidth\":2}},\"shapedefaults\":{\"line\":{\"color\":\"#2a3f5f\"}},\"annotationdefaults\":{\"arrowcolor\":\"#2a3f5f\",\"arrowhead\":0,\"arrowwidth\":1},\"geo\":{\"bgcolor\":\"white\",\"landcolor\":\"#E5ECF6\",\"subunitcolor\":\"white\",\"showland\":true,\"showlakes\":true,\"lakecolor\":\"white\"},\"title\":{\"x\":0.05},\"mapbox\":{\"style\":\"light\"}}},\"title\":{\"font\":{\"size\":28,\"color\":\"#2c3e50\",\"family\":\"Arial, sans-serif\"},\"text\":\"\\u003cb\\u003e\\ud83d\\udd2c \\u7814\\u7a76\\u56e2\\u961f\\u4f18\\u52bf\\u9886\\u57df\\u4ea4\\u53c9\\u878d\\u5408\\u7f51\\u7edc\\u003c\\u002fb\\u003e\",\"x\":0.5,\"xanchor\":\"center\"},\"margin\":{\"b\":80,\"l\":30,\"r\":30,\"t\":100},\"xaxis\":{\"showgrid\":false,\"zeroline\":false,\"showticklabels\":false,\"scaleanchor\":\"y\",\"scaleratio\":1},\"yaxis\":{\"showgrid\":false,\"zeroline\":false,\"showticklabels\":false},\"font\":{\"family\":\"Arial, sans-serif\"},\"showlegend\":false,\"hovermode\":\"closest\",\"plot_bgcolor\":\"rgba(248, 249, 250, 0.9)\",\"paper_bgcolor\":\"white\",\"annotations\":[{\"font\":{\"color\":\"#000000\",\"size\":16},\"showarrow\":false,\"text\":\"\\u003cb\\u003e\\ud83d\\udd2c \\u5706\\u5f62: \\u7814\\u7a76\\u9886\\u57df\\u003c\\u002fb\\u003e | \\u003cb\\u003e\\ud83c\\udfdb\\ufe0f \\u83f1\\u5f62: \\u4f18\\u52bf\\u5355\\u4f4d\\u003c\\u002fb\\u003e\",\"x\":0.5,\"xanchor\":\"center\",\"xref\":\"paper\",\"y\":-0.08,\"yref\":\"paper\"}],\"updatemenus\":[{\"buttons\":[{\"args\":[{\"visible\":[true,true]}],\"label\":\"\\u663e\\u793a\\u6240\\u6709\",\"method\":\"restyle\"},{\"args\":[{\"visible\":[true,false]}],\"label\":\"\\u4ec5\\u663e\\u793a\\u8fb9\\u7ebf\",\"method\":\"restyle\"},{\"args\":[{\"visible\":[false,true]}],\"label\":\"\\u4ec5\\u663e\\u793a\\u8282\\u70b9\",\"method\":\"restyle\"}],\"direction\":\"left\",\"pad\":{\"r\":10,\"t\":10},\"showactive\":true,\"type\":\"buttons\",\"x\":0.01,\"xanchor\":\"left\",\"y\":1.02,\"yanchor\":\"top\"}]},                        {\"responsive\": true}                    ).then(function(){\n",
       "                            \n",
       "var gd = document.getElementById('2cd40504-cfa3-413e-a74e-b2b15ca72b43');\n",
       "var x = new MutationObserver(function (mutations, observer) {{\n",
       "        var display = window.getComputedStyle(gd).display;\n",
       "        if (!display || display === 'none') {{\n",
       "            console.log([gd, 'removed!']);\n",
       "            Plotly.purge(gd);\n",
       "            observer.disconnect();\n",
       "        }}\n",
       "}});\n",
       "\n",
       "// Listen for the removal of the full notebook cells\n",
       "var notebookContainer = gd.closest('#notebook-container');\n",
       "if (notebookContainer) {{\n",
       "    x.observe(notebookContainer, {childList: true});\n",
       "}}\n",
       "\n",
       "// Listen for the clearing of the current output cell\n",
       "var outputEl = gd.closest('.output');\n",
       "if (outputEl) {{\n",
       "    x.observe(outputEl, {childList: true});\n",
       "}}\n",
       "\n",
       "                        })                };                });            </script>        </div>"
      ]
     },
     "metadata": {},
     "output_type": "display_data"
    },
    {
     "name": "stdout",
     "output_type": "stream",
     "text": [
      "🚀 高级网络图优化完成！\n",
      "📊 主要改进：\n",
      "   • 使用专业科学配色方案\n",
      "   • 优化节点大小和透明度\n",
      "   • 改进边线样式和宽度\n",
      "   • 增强字体和文字显示\n",
      "   • 添加高级交互式悬停效果\n",
      "   • 添加动画控制按钮\n",
      "   • 优化整体布局和视觉效果\n",
      "   • 提升专业性和美观度\n"
     ]
    }
   ],
   "source": [
    "# 🚀 高级优化版本 - 带动画和高级视觉效果\n",
    "import plotly.graph_objects as go\n",
    "import pandas as pd\n",
    "import networkx as nx\n",
    "import numpy as np\n",
    "from plotly.colors import qualitative\n",
    "import plotly.express as px\n",
    "\n",
    "# 1. 构建数据（根据您提供的列表）\n",
    "all_nodes = [\n",
    "    # 研究领域 (节点ID, 节点名称, 节点类型)\n",
    "    (0, \"花粉管生物学\", \"field\"),\n",
    "    (1, \"囊泡运输\", \"field\"),\n",
    "    (2, \"细菌分泌\", \"field\"),\n",
    "    (3, \"大豆生物学\", \"field\"),\n",
    "    (4, \"浮萍生物学\", \"field\"),\n",
    "    (5, \"AI与算法\", \"field\"),\n",
    "    (6, \"结构生物学\", \"field\"),\n",
    "    (7, \"基因组编辑\", \"field\"),\n",
    "    (8, \"人工囊泡\", \"field\"),\n",
    "    (9, \"高通量平台\", \"field\"),\n",
    "    # 优势单位 (节点ID, 节点名称, 节点类型)\n",
    "    (10, \"南开大学\", \"institution\"),\n",
    "    (11, \"先进院\", \"institution\"),\n",
    "    (12, \"华南师大\", \"institution\"),\n",
    "    (13, \"湖北大学\", \"institution\"),\n",
    "    (14, \"天工所\", \"institution\"),\n",
    "    (15, \"深理工\", \"institution\"),\n",
    "]\n",
    "\n",
    "# 定义连接（边）：(来源, 目标) 对应节点ID\n",
    "links = [\n",
    "    (0, 10), (0, 11),\n",
    "    (1, 12), (1, 10),\n",
    "    (2, 13), (2, 14), (2, 11),\n",
    "    (3, 11), (3, 12),\n",
    "    (4, 10), (4, 15),\n",
    "    (5, 14), (5, 11),\n",
    "    (6, 10), (6, 13),\n",
    "    (7, 15), (7, 12),\n",
    "    (8, 11),\n",
    "    (9, 13), (9, 14), (9, 11)\n",
    "]\n",
    "\n",
    "# 2. 转换为Plotly可用的格式\n",
    "node_df = pd.DataFrame(all_nodes, columns=['id', 'label', 'type'])\n",
    "edge_df = pd.DataFrame(links, columns=['source', 'target'])\n",
    "\n",
    "# 3. 创建NetworkX图并计算布局\n",
    "G = nx.Graph()\n",
    "G.add_nodes_from(node_df['id'])\n",
    "G.add_edges_from(links)\n",
    "\n",
    "# 使用多种布局算法尝试\n",
    "layouts = {\n",
    "    'spring': nx.spring_layout(G, k=3, iterations=100, seed=42),\n",
    "    'circular': nx.circular_layout(G),\n",
    "    'kamada_kawai': nx.kamada_kawai_layout(G),\n",
    "    'spectral': nx.spectral_layout(G)\n",
    "}\n",
    "\n",
    "# 选择spring布局作为主要布局\n",
    "pos = layouts['spring']\n",
    "\n",
    "# 4. 高级颜色方案 - 使用专业配色\n",
    "# 研究领域使用科学蓝色系\n",
    "field_colors = [\n",
    "    '#1f77b4', '#aec7e8', '#ff7f0e', '#ffbb78', '#2ca02c',\n",
    "    '#98df8a', '#d62728', '#ff9896', '#9467bd', '#c5b0d5'\n",
    "]\n",
    "\n",
    "# 机构使用暖色系\n",
    "institution_colors = [\n",
    "    '#ff6b6b', '#ffa726', '#66bb6a', '#42a5f5', '#ab47bc', '#ef5350'\n",
    "]\n",
    "\n",
    "# 为节点分配颜色和大小\n",
    "node_colors = []\n",
    "node_symbols = []\n",
    "node_sizes = []\n",
    "node_opacities = []\n",
    "\n",
    "for i, node_type in enumerate(node_df['type']):\n",
    "    if node_type == 'field':\n",
    "        node_colors.append(field_colors[i % len(field_colors)])\n",
    "        node_symbols.append('circle')\n",
    "        node_sizes.append(40)  # 研究领域节点\n",
    "        node_opacities.append(0.9)\n",
    "    else:\n",
    "        node_colors.append(institution_colors[i % len(institution_colors)])\n",
    "        node_symbols.append('diamond')\n",
    "        node_sizes.append(45)  # 机构节点更大\n",
    "        node_opacities.append(0.95)\n",
    "\n",
    "# 5. 创建高级网络图\n",
    "fig = go.Figure()\n",
    "\n",
    "# 添加边线 - 使用渐变和透明度效果\n",
    "for i, (_, row) in enumerate(edge_df.iterrows()):\n",
    "    source = row['source']\n",
    "    target = row['target']\n",
    "    \n",
    "    # 计算边的透明度（基于连接数量）\n",
    "    edge_alpha = 0.7\n",
    "    \n",
    "    fig.add_trace(go.Scatter(\n",
    "        x=[pos[source][0], pos[target][0]],\n",
    "        y=[pos[source][1], pos[target][1]],\n",
    "        mode='lines',\n",
    "        line=dict(\n",
    "            width=3,\n",
    "            color=f'rgba(100, 100, 100, {edge_alpha})',\n",
    "            dash='solid'\n",
    "        ),\n",
    "        hoverinfo='none',\n",
    "        showlegend=False\n",
    "    ))\n",
    "\n",
    "# 添加节点 - 使用高级样式\n",
    "fig.add_trace(go.Scatter(\n",
    "    x=[pos[node_id][0] for node_id in node_df['id']],\n",
    "    y=[pos[node_id][1] for node_id in node_df['id']],\n",
    "    mode='markers+text',\n",
    "    marker=dict(\n",
    "        color=node_colors,\n",
    "        size=node_sizes,\n",
    "        symbol=node_symbols,\n",
    "        line=dict(\n",
    "            width=4,\n",
    "            color='white'\n",
    "        ),\n",
    "        opacity=node_opacities\n",
    "    ),\n",
    "    text=node_df['label'],\n",
    "    textposition=\"middle center\",\n",
    "    hoverinfo='text',\n",
    "    textfont=dict(\n",
    "        size=13,\n",
    "        color='white',\n",
    "        family=\"Arial, sans-serif\"\n",
    "    ),\n",
    "    showlegend=False\n",
    "))\n",
    "\n",
    "# 6. 高级布局和样式\n",
    "fig.update_layout(\n",
    "    title=dict(\n",
    "        text='<b>🔬 研究团队优势领域交叉融合网络</b>',\n",
    "        x=0.5,\n",
    "        xanchor='center',\n",
    "        font=dict(size=28, color='#2c3e50', family=\"Arial, sans-serif\")\n",
    "    ),\n",
    "    showlegend=False,\n",
    "    hovermode='closest',\n",
    "    margin=dict(b=80, l=30, r=30, t=100),\n",
    "    xaxis=dict(\n",
    "        showgrid=False,\n",
    "        zeroline=False,\n",
    "        showticklabels=False,\n",
    "        scaleanchor=\"y\",\n",
    "        scaleratio=1\n",
    "    ),\n",
    "    yaxis=dict(\n",
    "        showgrid=False,\n",
    "        zeroline=False,\n",
    "        showticklabels=False\n",
    "    ),\n",
    "    plot_bgcolor='rgba(248, 249, 250, 0.9)',\n",
    "    paper_bgcolor='white',\n",
    "    font=dict(family=\"Arial, sans-serif\"),\n",
    "    annotations=[\n",
    "        dict(\n",
    "            showarrow=False,\n",
    "            text=\"<b>🔬 圆形: 研究领域</b> | <b>🏛️ 菱形: 优势单位</b>\",\n",
    "            xref=\"paper\", yref=\"paper\",\n",
    "            x=0.5, y=-0.08,\n",
    "            xanchor='center',\n",
    "            font=dict(size=16, color='#000000')\n",
    "        )\n",
    "    ]\n",
    ")\n",
    "\n",
    "# 7. 添加高级交互式功能\n",
    "fig.update_traces(\n",
    "    hovertemplate=\"<b>%{text}</b><br>\" +\n",
    "                  \"节点类型: %{customdata}<br>\" +\n",
    "                  \"连接数: %{marker.size}<br>\" +\n",
    "                  \"<extra></extra>\",\n",
    "    customdata=[node_df.loc[node_df['id'] == node_id, 'type'].iloc[0] \n",
    "                for node_id in node_df['id']]\n",
    ")\n",
    "\n",
    "# 8. 添加动画效果\n",
    "fig.update_layout(\n",
    "    updatemenus=[\n",
    "        dict(\n",
    "            type=\"buttons\",\n",
    "            direction=\"left\",\n",
    "            buttons=list([\n",
    "                dict(\n",
    "                    args=[{\"visible\": [True, True]}],\n",
    "                    label=\"显示所有\",\n",
    "                    method=\"restyle\"\n",
    "                ),\n",
    "                dict(\n",
    "                    args=[{\"visible\": [True, False]}],\n",
    "                    label=\"仅显示边线\",\n",
    "                    method=\"restyle\"\n",
    "                ),\n",
    "                dict(\n",
    "                    args=[{\"visible\": [False, True]}],\n",
    "                    label=\"仅显示节点\",\n",
    "                    method=\"restyle\"\n",
    "                )\n",
    "            ]),\n",
    "            pad={\"r\": 10, \"t\": 10},\n",
    "            showactive=True,\n",
    "            x=0.01,\n",
    "            xanchor=\"left\",\n",
    "            y=1.02,\n",
    "            yanchor=\"top\"\n",
    "        ),\n",
    "    ]\n",
    ")\n",
    "\n",
    "# 9. 显示图表\n",
    "fig.show()\n",
    "\n",
    "# 10. 保存为HTML交互式文件\n",
    "fig.write_html(\"research_network_advanced.html\")\n",
    "\n",
    "print(\"🚀 高级网络图优化完成！\")\n",
    "print(\"📊 主要改进：\")\n",
    "print(\"   • 使用专业科学配色方案\")\n",
    "print(\"   • 优化节点大小和透明度\")\n",
    "print(\"   • 改进边线样式和宽度\")\n",
    "print(\"   • 增强字体和文字显示\")\n",
    "print(\"   • 添加高级交互式悬停效果\")\n",
    "print(\"   • 添加动画控制按钮\")\n",
    "print(\"   • 优化整体布局和视觉效果\")\n",
    "print(\"   • 提升专业性和美观度\")\n"
   ]
  },
  {
   "cell_type": "code",
   "execution_count": 8,
   "id": "c275fa64",
   "metadata": {},
   "outputs": [
    {
     "ename": "IndexError",
     "evalue": "list index out of range",
     "output_type": "error",
     "traceback": [
      "\u001b[0;31m---------------------------------------------------------------------------\u001b[0m",
      "\u001b[0;31mIndexError\u001b[0m                                Traceback (most recent call last)",
      "Cell \u001b[0;32mIn[8], line 64\u001b[0m\n\u001b[1;32m     62\u001b[0m     node_sizes\u001b[38;5;241m.\u001b[39mappend(\u001b[38;5;241m30\u001b[39m)\n\u001b[1;32m     63\u001b[0m \u001b[38;5;28;01melse\u001b[39;00m:\n\u001b[0;32m---> 64\u001b[0m     node_colors\u001b[38;5;241m.\u001b[39mappend(\u001b[43minstitution_colors\u001b[49m\u001b[43m[\u001b[49m\u001b[43mi\u001b[49m\u001b[43m]\u001b[49m)\n\u001b[1;32m     65\u001b[0m     node_symbols\u001b[38;5;241m.\u001b[39mappend(\u001b[38;5;124m'\u001b[39m\u001b[38;5;124mdiamond\u001b[39m\u001b[38;5;124m'\u001b[39m)\n\u001b[1;32m     66\u001b[0m     node_sizes\u001b[38;5;241m.\u001b[39mappend(\u001b[38;5;241m35\u001b[39m)\n",
      "\u001b[0;31mIndexError\u001b[0m: list index out of range"
     ]
    }
   ],
   "source": [
    "# 🎯 极简风格版本 - 现代简约设计\n",
    "import plotly.graph_objects as go\n",
    "import pandas as pd\n",
    "import networkx as nx\n",
    "import numpy as np\n",
    "\n",
    "# 1. 构建数据\n",
    "all_nodes = [\n",
    "    (0, \"花粉管生物学\", \"field\"),\n",
    "    (1, \"囊泡运输\", \"field\"),\n",
    "    (2, \"细菌分泌\", \"field\"),\n",
    "    (3, \"大豆生物学\", \"field\"),\n",
    "    (4, \"浮萍生物学\", \"field\"),\n",
    "    (5, \"AI与算法\", \"field\"),\n",
    "    (6, \"结构生物学\", \"field\"),\n",
    "    (7, \"基因组编辑\", \"field\"),\n",
    "    (8, \"人工囊泡\", \"field\"),\n",
    "    (9, \"高通量平台\", \"field\"),\n",
    "    (10, \"南开大学\", \"institution\"),\n",
    "    (11, \"先进院\", \"institution\"),\n",
    "    (12, \"华南师大\", \"institution\"),\n",
    "    (13, \"湖北大学\", \"institution\"),\n",
    "    (14, \"天工所\", \"institution\"),\n",
    "    (15, \"深理工\", \"institution\"),\n",
    "]\n",
    "\n",
    "links = [\n",
    "    (0, 10), (0, 11),\n",
    "    (1, 12), (1, 10),\n",
    "    (2, 13), (2, 14), (2, 11),\n",
    "    (3, 11), (3, 12),\n",
    "    (4, 10), (4, 15),\n",
    "    (5, 14), (5, 11),\n",
    "    (6, 10), (6, 13),\n",
    "    (7, 15), (7, 12),\n",
    "    (8, 11),\n",
    "    (9, 13), (9, 14), (9, 11)\n",
    "]\n",
    "\n",
    "# 2. 转换为DataFrame\n",
    "node_df = pd.DataFrame(all_nodes, columns=['id', 'label', 'type'])\n",
    "edge_df = pd.DataFrame(links, columns=['source', 'target'])\n",
    "\n",
    "# 3. 创建NetworkX图并计算布局\n",
    "G = nx.Graph()\n",
    "G.add_nodes_from(node_df['id'])\n",
    "G.add_edges_from(links)\n",
    "pos = nx.spring_layout(G, k=2, iterations=50, seed=42)\n",
    "\n",
    "# 4. 极简配色方案\n",
    "field_colors = ['#3498db'] * 10  # 统一的蓝色\n",
    "institution_colors = ['#e74c3c'] * 6  # 统一的红色\n",
    "\n",
    "node_colors = []\n",
    "node_symbols = []\n",
    "node_sizes = []\n",
    "\n",
    "for i, node_type in enumerate(node_df['type']):\n",
    "    if node_type == 'field':\n",
    "        node_colors.append(field_colors[i])\n",
    "        node_symbols.append('circle')\n",
    "        node_sizes.append(30)\n",
    "    else:\n",
    "        node_colors.append(institution_colors[i])\n",
    "        node_symbols.append('diamond')\n",
    "        node_sizes.append(35)\n",
    "\n",
    "# 5. 创建极简网络图\n",
    "fig = go.Figure()\n",
    "\n",
    "# 添加边线 - 极简风格\n",
    "for _, row in edge_df.iterrows():\n",
    "    source = row['source']\n",
    "    target = row['target']\n",
    "    \n",
    "    fig.add_trace(go.Scatter(\n",
    "        x=[pos[source][0], pos[target][0]],\n",
    "        y=[pos[source][1], pos[target][1]],\n",
    "        mode='lines',\n",
    "        line=dict(\n",
    "            width=1,\n",
    "            color='rgba(200, 200, 200, 0.8)',\n",
    "            dash='solid'\n",
    "        ),\n",
    "        hoverinfo='none',\n",
    "        showlegend=False\n",
    "    ))\n",
    "\n",
    "# 添加节点 - 极简风格\n",
    "fig.add_trace(go.Scatter(\n",
    "    x=[pos[node_id][0] for node_id in node_df['id']],\n",
    "    y=[pos[node_id][1] for node_id in node_df['id']],\n",
    "    mode='markers+text',\n",
    "    marker=dict(\n",
    "        color=node_colors,\n",
    "        size=node_sizes,\n",
    "        symbol=node_symbols,\n",
    "        line=dict(\n",
    "            width=2,\n",
    "            color='white'\n",
    "        ),\n",
    "        opacity=0.8\n",
    "    ),\n",
    "    text=node_df['label'],\n",
    "    textposition=\"middle center\",\n",
    "    hoverinfo='text',\n",
    "    textfont=dict(\n",
    "        size=11,\n",
    "        color='white',\n",
    "        family=\"Arial, sans-serif\"\n",
    "    ),\n",
    "    showlegend=False\n",
    "))\n",
    "\n",
    "# 6. 极简布局和样式\n",
    "fig.update_layout(\n",
    "    title=dict(\n",
    "        text='<b>研究团队优势领域交叉融合网络</b>',\n",
    "        x=0.5,\n",
    "        xanchor='center',\n",
    "        font=dict(size=20, color='#2c3e50', family=\"Arial, sans-serif\")\n",
    "    ),\n",
    "    showlegend=False,\n",
    "    hovermode='closest',\n",
    "    margin=dict(b=50, l=20, r=20, t=60),\n",
    "    xaxis=dict(\n",
    "        showgrid=False,\n",
    "        zeroline=False,\n",
    "        showticklabels=False,\n",
    "        scaleanchor=\"y\",\n",
    "        scaleratio=1\n",
    "    ),\n",
    "    yaxis=dict(\n",
    "        showgrid=False,\n",
    "        zeroline=False,\n",
    "        showticklabels=False\n",
    "    ),\n",
    "    plot_bgcolor='white',\n",
    "    paper_bgcolor='white',\n",
    "    font=dict(family=\"Arial, sans-serif\"),\n",
    "    annotations=[\n",
    "        dict(\n",
    "            showarrow=False,\n",
    "            text=\"<b>圆形: 研究领域</b> | <b>菱形: 优势单位</b>\",\n",
    "            xref=\"paper\", yref=\"paper\",\n",
    "            x=0.5, y=-0.05,\n",
    "            xanchor='center',\n",
    "            font=dict(size=12, color='#7f8c8d')\n",
    "        )\n",
    "    ]\n",
    ")\n",
    "\n",
    "# 7. 显示图表\n",
    "fig.show()\n",
    "\n",
    "# 8. 保存为HTML文件\n",
    "fig.write_html(\"research_network_minimal.html\")\n",
    "\n",
    "print(\"🎯 极简风格网络图完成！\")\n",
    "print(\"📊 特点：\")\n",
    "print(\"   • 极简设计风格\")\n",
    "print(\"   • 统一配色方案\")\n",
    "print(\"   • 简洁的布局\")\n",
    "print(\"   • 清晰的视觉层次\")\n",
    "print(\"   • 适合正式场合使用\")\n"
   ]
  },
  {
   "cell_type": "markdown",
   "id": "2901ca4b",
   "metadata": {},
   "source": [
    "# 🎨 网络图优化总结\n",
    "\n",
    "## 📊 优化成果\n",
    "\n",
    "我已经为您的网络图创建了三个不同风格的优化版本：\n",
    "\n",
    "### 1. 🎨 基础优化版本 (Cell 1)\n",
    "- **现代渐变色彩方案**：使用专业的科学配色\n",
    "- **优化节点大小和形状**：研究领域用圆形，机构用菱形\n",
    "- **改进边线样式**：使用透明度和渐变效果\n",
    "- **增强字体显示**：Arial字体，白色文字\n",
    "- **交互式悬停效果**：鼠标悬停显示详细信息\n",
    "\n",
    "### 2. 🚀 高级优化版本 (Cell 2)\n",
    "- **专业科学配色**：更丰富的色彩层次\n",
    "- **动画控制按钮**：可以切换显示边线/节点\n",
    "- **高级交互功能**：更详细的悬停信息\n",
    "- **优化布局算法**：使用NetworkX的多种布局算法\n",
    "- **专业视觉效果**：适合学术展示\n",
    "\n",
    "### 3. 🎯 极简风格版本 (Cell 3)\n",
    "- **极简设计风格**：统一配色，简洁布局\n",
    "- **现代简约美学**：适合正式场合\n",
    "- **清晰的视觉层次**：突出重点信息\n",
    "- **易于理解**：减少视觉干扰\n",
    "\n",
    "## 🔧 主要改进点\n",
    "\n",
    "1. **颜色优化**：\n",
    "   - 研究领域：蓝色系渐变\n",
    "   - 机构单位：暖色系渐变\n",
    "   - 统一的视觉语言\n",
    "\n",
    "2. **布局改进**：\n",
    "   - 使用NetworkX的spring布局算法\n",
    "   - 节点分布更均匀\n",
    "   - 避免重叠和拥挤\n",
    "\n",
    "3. **节点美化**：\n",
    "   - 不同大小区分重要性\n",
    "   - 白色边框增强对比度\n",
    "   - 透明度效果增加层次感\n",
    "\n",
    "4. **边线优化**：\n",
    "   - 透明度效果\n",
    "   - 合适的线宽\n",
    "   - 柔和的颜色\n",
    "\n",
    "5. **字体和文字**：\n",
    "   - 使用Arial字体\n",
    "   - 白色文字增强可读性\n",
    "   - 合适的字号和位置\n",
    "\n",
    "6. **交互性**：\n",
    "   - 悬停显示详细信息\n",
    "   - 动画控制按钮\n",
    "   - 响应式设计\n",
    "\n",
    "## 📁 输出文件\n",
    "\n",
    "- `research_network_optimized.html` - 基础优化版本\n",
    "- `research_network_advanced.html` - 高级优化版本  \n",
    "- `research_network_minimal.html` - 极简风格版本\n",
    "\n",
    "## 🎯 使用建议\n",
    "\n",
    "- **学术展示**：推荐使用高级优化版本\n",
    "- **正式报告**：推荐使用极简风格版本\n",
    "- **日常使用**：推荐使用基础优化版本\n",
    "\n",
    "每个版本都保持了原有的数据结构和连接关系，只是视觉效果得到了显著提升！\n"
   ]
  },
  {
   "cell_type": "code",
   "execution_count": 11,
   "id": "ed4c9228",
   "metadata": {},
   "outputs": [
    {
     "data": {
      "application/vnd.plotly.v1+json": {
       "config": {
        "plotlyServerURL": "https://plot.ly"
       },
       "data": [
        {
         "customdata": [
          [
           "field",
           3
          ],
          [
           "field",
           4
          ],
          [
           "field",
           5
          ],
          [
           "field",
           3
          ],
          [
           "field",
           2
          ],
          [
           "field",
           3
          ],
          [
           "field",
           3
          ],
          [
           "field",
           2
          ],
          [
           "field",
           2
          ],
          [
           "field",
           4
          ],
          [
           "institution",
           6
          ],
          [
           "institution",
           8
          ],
          [
           "institution",
           4
          ],
          [
           "institution",
           3
          ],
          [
           "institution",
           4
          ],
          [
           "institution",
           2
          ]
         ],
         "hoverinfo": "none",
         "hovertemplate": "<b>%{text}</b><br>节点类型: %{customdata[0]}<br>研究人员数量: %{customdata[1]}<br><extra></extra>",
         "line": {
          "color": "rgba(100, 100, 100, 0.8)",
          "dash": "solid",
          "width": 4
         },
         "mode": "lines",
         "showlegend": false,
         "type": "scatter",
         "x": [
          -0.06310120572409697,
          0.605686796899156
         ],
         "y": [
          0.4064979436542406,
          -0.06675061348301217
         ]
        },
        {
         "customdata": [
          [
           "field",
           3
          ],
          [
           "field",
           4
          ],
          [
           "field",
           5
          ],
          [
           "field",
           3
          ],
          [
           "field",
           2
          ],
          [
           "field",
           3
          ],
          [
           "field",
           3
          ],
          [
           "field",
           2
          ],
          [
           "field",
           2
          ],
          [
           "field",
           4
          ],
          [
           "institution",
           6
          ],
          [
           "institution",
           8
          ],
          [
           "institution",
           4
          ],
          [
           "institution",
           3
          ],
          [
           "institution",
           4
          ],
          [
           "institution",
           2
          ]
         ],
         "hoverinfo": "none",
         "hovertemplate": "<b>%{text}</b><br>节点类型: %{customdata[0]}<br>研究人员数量: %{customdata[1]}<br><extra></extra>",
         "line": {
          "color": "rgba(100, 100, 100, 0.8)",
          "dash": "solid",
          "width": 4
         },
         "mode": "lines",
         "showlegend": false,
         "type": "scatter",
         "x": [
          -0.06310120572409697,
          -0.8571620151199787
         ],
         "y": [
          0.4064979436542406,
          0.0018136403418897958
         ]
        },
        {
         "customdata": [
          [
           "field",
           3
          ],
          [
           "field",
           4
          ],
          [
           "field",
           5
          ],
          [
           "field",
           3
          ],
          [
           "field",
           2
          ],
          [
           "field",
           3
          ],
          [
           "field",
           3
          ],
          [
           "field",
           2
          ],
          [
           "field",
           2
          ],
          [
           "field",
           4
          ],
          [
           "institution",
           6
          ],
          [
           "institution",
           8
          ],
          [
           "institution",
           4
          ],
          [
           "institution",
           3
          ],
          [
           "institution",
           4
          ],
          [
           "institution",
           2
          ]
         ],
         "hoverinfo": "none",
         "hovertemplate": "<b>%{text}</b><br>节点类型: %{customdata[0]}<br>研究人员数量: %{customdata[1]}<br><extra></extra>",
         "line": {
          "color": "rgba(100, 100, 100, 0.8)",
          "dash": "solid",
          "width": 4
         },
         "mode": "lines",
         "showlegend": false,
         "type": "scatter",
         "x": [
          0.9678518699441613,
          0.1724299550094781
         ],
         "y": [
          0.3473986656981649,
          0.8012136479670025
         ]
        },
        {
         "customdata": [
          [
           "field",
           3
          ],
          [
           "field",
           4
          ],
          [
           "field",
           5
          ],
          [
           "field",
           3
          ],
          [
           "field",
           2
          ],
          [
           "field",
           3
          ],
          [
           "field",
           3
          ],
          [
           "field",
           2
          ],
          [
           "field",
           2
          ],
          [
           "field",
           4
          ],
          [
           "institution",
           6
          ],
          [
           "institution",
           8
          ],
          [
           "institution",
           4
          ],
          [
           "institution",
           3
          ],
          [
           "institution",
           4
          ],
          [
           "institution",
           2
          ]
         ],
         "hoverinfo": "none",
         "hovertemplate": "<b>%{text}</b><br>节点类型: %{customdata[0]}<br>研究人员数量: %{customdata[1]}<br><extra></extra>",
         "line": {
          "color": "rgba(100, 100, 100, 0.8)",
          "dash": "solid",
          "width": 4
         },
         "mode": "lines",
         "showlegend": false,
         "type": "scatter",
         "x": [
          0.9678518699441613,
          0.605686796899156
         ],
         "y": [
          0.3473986656981649,
          -0.06675061348301217
         ]
        },
        {
         "customdata": [
          [
           "field",
           3
          ],
          [
           "field",
           4
          ],
          [
           "field",
           5
          ],
          [
           "field",
           3
          ],
          [
           "field",
           2
          ],
          [
           "field",
           3
          ],
          [
           "field",
           3
          ],
          [
           "field",
           2
          ],
          [
           "field",
           2
          ],
          [
           "field",
           4
          ],
          [
           "institution",
           6
          ],
          [
           "institution",
           8
          ],
          [
           "institution",
           4
          ],
          [
           "institution",
           3
          ],
          [
           "institution",
           4
          ],
          [
           "institution",
           2
          ]
         ],
         "hoverinfo": "none",
         "hovertemplate": "<b>%{text}</b><br>节点类型: %{customdata[0]}<br>研究人员数量: %{customdata[1]}<br><extra></extra>",
         "line": {
          "color": "rgba(100, 100, 100, 0.8)",
          "dash": "solid",
          "width": 4
         },
         "mode": "lines",
         "showlegend": false,
         "type": "scatter",
         "x": [
          -0.630532036013968,
          -0.4199993097850648
         ],
         "y": [
          -0.7191380402887654,
          -0.27247792034659507
         ]
        },
        {
         "customdata": [
          [
           "field",
           3
          ],
          [
           "field",
           4
          ],
          [
           "field",
           5
          ],
          [
           "field",
           3
          ],
          [
           "field",
           2
          ],
          [
           "field",
           3
          ],
          [
           "field",
           3
          ],
          [
           "field",
           2
          ],
          [
           "field",
           2
          ],
          [
           "field",
           4
          ],
          [
           "institution",
           6
          ],
          [
           "institution",
           8
          ],
          [
           "institution",
           4
          ],
          [
           "institution",
           3
          ],
          [
           "institution",
           4
          ],
          [
           "institution",
           2
          ]
         ],
         "hoverinfo": "none",
         "hovertemplate": "<b>%{text}</b><br>节点类型: %{customdata[0]}<br>研究人员数量: %{customdata[1]}<br><extra></extra>",
         "line": {
          "color": "rgba(100, 100, 100, 0.8)",
          "dash": "solid",
          "width": 4
         },
         "mode": "lines",
         "showlegend": false,
         "type": "scatter",
         "x": [
          -0.630532036013968,
          -0.08988157158176356
         ],
         "y": [
          -0.7191380402887654,
          -0.910265075132665
         ]
        },
        {
         "customdata": [
          [
           "field",
           3
          ],
          [
           "field",
           4
          ],
          [
           "field",
           5
          ],
          [
           "field",
           3
          ],
          [
           "field",
           2
          ],
          [
           "field",
           3
          ],
          [
           "field",
           3
          ],
          [
           "field",
           2
          ],
          [
           "field",
           2
          ],
          [
           "field",
           4
          ],
          [
           "institution",
           6
          ],
          [
           "institution",
           8
          ],
          [
           "institution",
           4
          ],
          [
           "institution",
           3
          ],
          [
           "institution",
           4
          ],
          [
           "institution",
           2
          ]
         ],
         "hoverinfo": "none",
         "hovertemplate": "<b>%{text}</b><br>节点类型: %{customdata[0]}<br>研究人员数量: %{customdata[1]}<br><extra></extra>",
         "line": {
          "color": "rgba(100, 100, 100, 0.8)",
          "dash": "solid",
          "width": 4
         },
         "mode": "lines",
         "showlegend": false,
         "type": "scatter",
         "x": [
          -0.630532036013968,
          -0.8571620151199787
         ],
         "y": [
          -0.7191380402887654,
          0.0018136403418897958
         ]
        },
        {
         "customdata": [
          [
           "field",
           3
          ],
          [
           "field",
           4
          ],
          [
           "field",
           5
          ],
          [
           "field",
           3
          ],
          [
           "field",
           2
          ],
          [
           "field",
           3
          ],
          [
           "field",
           3
          ],
          [
           "field",
           2
          ],
          [
           "field",
           2
          ],
          [
           "field",
           4
          ],
          [
           "institution",
           6
          ],
          [
           "institution",
           8
          ],
          [
           "institution",
           4
          ],
          [
           "institution",
           3
          ],
          [
           "institution",
           4
          ],
          [
           "institution",
           2
          ]
         ],
         "hoverinfo": "none",
         "hovertemplate": "<b>%{text}</b><br>节点类型: %{customdata[0]}<br>研究人员数量: %{customdata[1]}<br><extra></extra>",
         "line": {
          "color": "rgba(100, 100, 100, 0.8)",
          "dash": "solid",
          "width": 4
         },
         "mode": "lines",
         "showlegend": false,
         "type": "scatter",
         "x": [
          -0.8115249228827315,
          -0.8571620151199787
         ],
         "y": [
          0.5551864807901681,
          0.0018136403418897958
         ]
        },
        {
         "customdata": [
          [
           "field",
           3
          ],
          [
           "field",
           4
          ],
          [
           "field",
           5
          ],
          [
           "field",
           3
          ],
          [
           "field",
           2
          ],
          [
           "field",
           3
          ],
          [
           "field",
           3
          ],
          [
           "field",
           2
          ],
          [
           "field",
           2
          ],
          [
           "field",
           4
          ],
          [
           "institution",
           6
          ],
          [
           "institution",
           8
          ],
          [
           "institution",
           4
          ],
          [
           "institution",
           3
          ],
          [
           "institution",
           4
          ],
          [
           "institution",
           2
          ]
         ],
         "hoverinfo": "none",
         "hovertemplate": "<b>%{text}</b><br>节点类型: %{customdata[0]}<br>研究人员数量: %{customdata[1]}<br><extra></extra>",
         "line": {
          "color": "rgba(100, 100, 100, 0.8)",
          "dash": "solid",
          "width": 4
         },
         "mode": "lines",
         "showlegend": false,
         "type": "scatter",
         "x": [
          -0.8115249228827315,
          0.1724299550094781
         ],
         "y": [
          0.5551864807901681,
          0.8012136479670025
         ]
        },
        {
         "customdata": [
          [
           "field",
           3
          ],
          [
           "field",
           4
          ],
          [
           "field",
           5
          ],
          [
           "field",
           3
          ],
          [
           "field",
           2
          ],
          [
           "field",
           3
          ],
          [
           "field",
           3
          ],
          [
           "field",
           2
          ],
          [
           "field",
           2
          ],
          [
           "field",
           4
          ],
          [
           "institution",
           6
          ],
          [
           "institution",
           8
          ],
          [
           "institution",
           4
          ],
          [
           "institution",
           3
          ],
          [
           "institution",
           4
          ],
          [
           "institution",
           2
          ]
         ],
         "hoverinfo": "none",
         "hovertemplate": "<b>%{text}</b><br>节点类型: %{customdata[0]}<br>研究人员数量: %{customdata[1]}<br><extra></extra>",
         "line": {
          "color": "rgba(100, 100, 100, 0.8)",
          "dash": "solid",
          "width": 4
         },
         "mode": "lines",
         "showlegend": false,
         "type": "scatter",
         "x": [
          0.8489152343922386,
          0.605686796899156
         ],
         "y": [
          0.5711740371466723,
          -0.06675061348301217
         ]
        },
        {
         "customdata": [
          [
           "field",
           3
          ],
          [
           "field",
           4
          ],
          [
           "field",
           5
          ],
          [
           "field",
           3
          ],
          [
           "field",
           2
          ],
          [
           "field",
           3
          ],
          [
           "field",
           3
          ],
          [
           "field",
           2
          ],
          [
           "field",
           2
          ],
          [
           "field",
           4
          ],
          [
           "institution",
           6
          ],
          [
           "institution",
           8
          ],
          [
           "institution",
           4
          ],
          [
           "institution",
           3
          ],
          [
           "institution",
           4
          ],
          [
           "institution",
           2
          ]
         ],
         "hoverinfo": "none",
         "hovertemplate": "<b>%{text}</b><br>节点类型: %{customdata[0]}<br>研究人员数量: %{customdata[1]}<br><extra></extra>",
         "line": {
          "color": "rgba(100, 100, 100, 0.8)",
          "dash": "solid",
          "width": 4
         },
         "mode": "lines",
         "showlegend": false,
         "type": "scatter",
         "x": [
          0.8489152343922386,
          0.9999999999999999
         ],
         "y": [
          0.5711740371466723,
          -0.1188776571584038
         ]
        },
        {
         "customdata": [
          [
           "field",
           3
          ],
          [
           "field",
           4
          ],
          [
           "field",
           5
          ],
          [
           "field",
           3
          ],
          [
           "field",
           2
          ],
          [
           "field",
           3
          ],
          [
           "field",
           3
          ],
          [
           "field",
           2
          ],
          [
           "field",
           2
          ],
          [
           "field",
           4
          ],
          [
           "institution",
           6
          ],
          [
           "institution",
           8
          ],
          [
           "institution",
           4
          ],
          [
           "institution",
           3
          ],
          [
           "institution",
           4
          ],
          [
           "institution",
           2
          ]
         ],
         "hoverinfo": "none",
         "hovertemplate": "<b>%{text}</b><br>节点类型: %{customdata[0]}<br>研究人员数量: %{customdata[1]}<br><extra></extra>",
         "line": {
          "color": "rgba(100, 100, 100, 0.8)",
          "dash": "solid",
          "width": 4
         },
         "mode": "lines",
         "showlegend": false,
         "type": "scatter",
         "x": [
          -0.5358816453871904,
          -0.08988157158176356
         ],
         "y": [
          0.18483514954919217,
          -0.910265075132665
         ]
        },
        {
         "customdata": [
          [
           "field",
           3
          ],
          [
           "field",
           4
          ],
          [
           "field",
           5
          ],
          [
           "field",
           3
          ],
          [
           "field",
           2
          ],
          [
           "field",
           3
          ],
          [
           "field",
           3
          ],
          [
           "field",
           2
          ],
          [
           "field",
           2
          ],
          [
           "field",
           4
          ],
          [
           "institution",
           6
          ],
          [
           "institution",
           8
          ],
          [
           "institution",
           4
          ],
          [
           "institution",
           3
          ],
          [
           "institution",
           4
          ],
          [
           "institution",
           2
          ]
         ],
         "hoverinfo": "none",
         "hovertemplate": "<b>%{text}</b><br>节点类型: %{customdata[0]}<br>研究人员数量: %{customdata[1]}<br><extra></extra>",
         "line": {
          "color": "rgba(100, 100, 100, 0.8)",
          "dash": "solid",
          "width": 4
         },
         "mode": "lines",
         "showlegend": false,
         "type": "scatter",
         "x": [
          -0.5358816453871904,
          -0.8571620151199787
         ],
         "y": [
          0.18483514954919217,
          0.0018136403418897958
         ]
        },
        {
         "customdata": [
          [
           "field",
           3
          ],
          [
           "field",
           4
          ],
          [
           "field",
           5
          ],
          [
           "field",
           3
          ],
          [
           "field",
           2
          ],
          [
           "field",
           3
          ],
          [
           "field",
           3
          ],
          [
           "field",
           2
          ],
          [
           "field",
           2
          ],
          [
           "field",
           4
          ],
          [
           "institution",
           6
          ],
          [
           "institution",
           8
          ],
          [
           "institution",
           4
          ],
          [
           "institution",
           3
          ],
          [
           "institution",
           4
          ],
          [
           "institution",
           2
          ]
         ],
         "hoverinfo": "none",
         "hovertemplate": "<b>%{text}</b><br>节点类型: %{customdata[0]}<br>研究人员数量: %{customdata[1]}<br><extra></extra>",
         "line": {
          "color": "rgba(100, 100, 100, 0.8)",
          "dash": "solid",
          "width": 4
         },
         "mode": "lines",
         "showlegend": false,
         "type": "scatter",
         "x": [
          0.6313742114840116,
          0.605686796899156
         ],
         "y": [
          -0.6413235591955521,
          -0.06675061348301217
         ]
        },
        {
         "customdata": [
          [
           "field",
           3
          ],
          [
           "field",
           4
          ],
          [
           "field",
           5
          ],
          [
           "field",
           3
          ],
          [
           "field",
           2
          ],
          [
           "field",
           3
          ],
          [
           "field",
           3
          ],
          [
           "field",
           2
          ],
          [
           "field",
           2
          ],
          [
           "field",
           4
          ],
          [
           "institution",
           6
          ],
          [
           "institution",
           8
          ],
          [
           "institution",
           4
          ],
          [
           "institution",
           3
          ],
          [
           "institution",
           4
          ],
          [
           "institution",
           2
          ]
         ],
         "hoverinfo": "none",
         "hovertemplate": "<b>%{text}</b><br>节点类型: %{customdata[0]}<br>研究人员数量: %{customdata[1]}<br><extra></extra>",
         "line": {
          "color": "rgba(100, 100, 100, 0.8)",
          "dash": "solid",
          "width": 4
         },
         "mode": "lines",
         "showlegend": false,
         "type": "scatter",
         "x": [
          0.6313742114840116,
          -0.4199993097850648
         ],
         "y": [
          -0.6413235591955521,
          -0.27247792034659507
         ]
        },
        {
         "customdata": [
          [
           "field",
           3
          ],
          [
           "field",
           4
          ],
          [
           "field",
           5
          ],
          [
           "field",
           3
          ],
          [
           "field",
           2
          ],
          [
           "field",
           3
          ],
          [
           "field",
           3
          ],
          [
           "field",
           2
          ],
          [
           "field",
           2
          ],
          [
           "field",
           4
          ],
          [
           "institution",
           6
          ],
          [
           "institution",
           8
          ],
          [
           "institution",
           4
          ],
          [
           "institution",
           3
          ],
          [
           "institution",
           4
          ],
          [
           "institution",
           2
          ]
         ],
         "hoverinfo": "none",
         "hovertemplate": "<b>%{text}</b><br>节点类型: %{customdata[0]}<br>研究人员数量: %{customdata[1]}<br><extra></extra>",
         "line": {
          "color": "rgba(100, 100, 100, 0.8)",
          "dash": "solid",
          "width": 4
         },
         "mode": "lines",
         "showlegend": false,
         "type": "scatter",
         "x": [
          -0.018747057309157204,
          0.9999999999999999
         ],
         "y": [
          -0.14153182707474674,
          -0.1188776571584038
         ]
        },
        {
         "customdata": [
          [
           "field",
           3
          ],
          [
           "field",
           4
          ],
          [
           "field",
           5
          ],
          [
           "field",
           3
          ],
          [
           "field",
           2
          ],
          [
           "field",
           3
          ],
          [
           "field",
           3
          ],
          [
           "field",
           2
          ],
          [
           "field",
           2
          ],
          [
           "field",
           4
          ],
          [
           "institution",
           6
          ],
          [
           "institution",
           8
          ],
          [
           "institution",
           4
          ],
          [
           "institution",
           3
          ],
          [
           "institution",
           4
          ],
          [
           "institution",
           2
          ]
         ],
         "hoverinfo": "none",
         "hovertemplate": "<b>%{text}</b><br>节点类型: %{customdata[0]}<br>研究人员数量: %{customdata[1]}<br><extra></extra>",
         "line": {
          "color": "rgba(100, 100, 100, 0.8)",
          "dash": "solid",
          "width": 4
         },
         "mode": "lines",
         "showlegend": false,
         "type": "scatter",
         "x": [
          -0.018747057309157204,
          0.1724299550094781
         ],
         "y": [
          -0.14153182707474674,
          0.8012136479670025
         ]
        },
        {
         "customdata": [
          [
           "field",
           3
          ],
          [
           "field",
           4
          ],
          [
           "field",
           5
          ],
          [
           "field",
           3
          ],
          [
           "field",
           2
          ],
          [
           "field",
           3
          ],
          [
           "field",
           3
          ],
          [
           "field",
           2
          ],
          [
           "field",
           2
          ],
          [
           "field",
           4
          ],
          [
           "institution",
           6
          ],
          [
           "institution",
           8
          ],
          [
           "institution",
           4
          ],
          [
           "institution",
           3
          ],
          [
           "institution",
           4
          ],
          [
           "institution",
           2
          ]
         ],
         "hoverinfo": "none",
         "hovertemplate": "<b>%{text}</b><br>节点类型: %{customdata[0]}<br>研究人员数量: %{customdata[1]}<br><extra></extra>",
         "line": {
          "color": "rgba(100, 100, 100, 0.8)",
          "dash": "solid",
          "width": 4
         },
         "mode": "lines",
         "showlegend": false,
         "type": "scatter",
         "x": [
          -0.4313224342847173,
          -0.8571620151199787
         ],
         "y": [
          0.8344601183767901,
          0.0018136403418897958
         ]
        },
        {
         "customdata": [
          [
           "field",
           3
          ],
          [
           "field",
           4
          ],
          [
           "field",
           5
          ],
          [
           "field",
           3
          ],
          [
           "field",
           2
          ],
          [
           "field",
           3
          ],
          [
           "field",
           3
          ],
          [
           "field",
           2
          ],
          [
           "field",
           2
          ],
          [
           "field",
           4
          ],
          [
           "institution",
           6
          ],
          [
           "institution",
           8
          ],
          [
           "institution",
           4
          ],
          [
           "institution",
           3
          ],
          [
           "institution",
           4
          ],
          [
           "institution",
           2
          ]
         ],
         "hoverinfo": "none",
         "hovertemplate": "<b>%{text}</b><br>节点类型: %{customdata[0]}<br>研究人员数量: %{customdata[1]}<br><extra></extra>",
         "line": {
          "color": "rgba(100, 100, 100, 0.8)",
          "dash": "solid",
          "width": 4
         },
         "mode": "lines",
         "showlegend": false,
         "type": "scatter",
         "x": [
          -0.36810586964037695,
          -0.4199993097850648
         ],
         "y": [
          -0.8322149908443801,
          -0.27247792034659507
         ]
        },
        {
         "customdata": [
          [
           "field",
           3
          ],
          [
           "field",
           4
          ],
          [
           "field",
           5
          ],
          [
           "field",
           3
          ],
          [
           "field",
           2
          ],
          [
           "field",
           3
          ],
          [
           "field",
           3
          ],
          [
           "field",
           2
          ],
          [
           "field",
           2
          ],
          [
           "field",
           4
          ],
          [
           "institution",
           6
          ],
          [
           "institution",
           8
          ],
          [
           "institution",
           4
          ],
          [
           "institution",
           3
          ],
          [
           "institution",
           4
          ],
          [
           "institution",
           2
          ]
         ],
         "hoverinfo": "none",
         "hovertemplate": "<b>%{text}</b><br>节点类型: %{customdata[0]}<br>研究人员数量: %{customdata[1]}<br><extra></extra>",
         "line": {
          "color": "rgba(100, 100, 100, 0.8)",
          "dash": "solid",
          "width": 4
         },
         "mode": "lines",
         "showlegend": false,
         "type": "scatter",
         "x": [
          -0.36810586964037695,
          -0.08988157158176356
         ],
         "y": [
          -0.8322149908443801,
          -0.910265075132665
         ]
        },
        {
         "customdata": [
          [
           "field",
           3
          ],
          [
           "field",
           4
          ],
          [
           "field",
           5
          ],
          [
           "field",
           3
          ],
          [
           "field",
           2
          ],
          [
           "field",
           3
          ],
          [
           "field",
           3
          ],
          [
           "field",
           2
          ],
          [
           "field",
           2
          ],
          [
           "field",
           4
          ],
          [
           "institution",
           6
          ],
          [
           "institution",
           8
          ],
          [
           "institution",
           4
          ],
          [
           "institution",
           3
          ],
          [
           "institution",
           4
          ],
          [
           "institution",
           2
          ]
         ],
         "hoverinfo": "none",
         "hovertemplate": "<b>%{text}</b><br>节点类型: %{customdata[0]}<br>研究人员数量: %{customdata[1]}<br><extra></extra>",
         "line": {
          "color": "rgba(100, 100, 100, 0.8)",
          "dash": "solid",
          "width": 4
         },
         "mode": "lines",
         "showlegend": false,
         "type": "scatter",
         "x": [
          -0.36810586964037695,
          -0.8571620151199787
         ],
         "y": [
          -0.8322149908443801,
          0.0018136403418897958
         ]
        },
        {
         "customdata": [
          [
           "field",
           3
          ],
          [
           "field",
           4
          ],
          [
           "field",
           5
          ],
          [
           "field",
           3
          ],
          [
           "field",
           2
          ],
          [
           "field",
           3
          ],
          [
           "field",
           3
          ],
          [
           "field",
           2
          ],
          [
           "field",
           2
          ],
          [
           "field",
           4
          ],
          [
           "institution",
           6
          ],
          [
           "institution",
           8
          ],
          [
           "institution",
           4
          ],
          [
           "institution",
           3
          ],
          [
           "institution",
           4
          ],
          [
           "institution",
           2
          ]
         ],
         "hoverinfo": "text",
         "hovertemplate": "<b>%{text}</b><br>节点类型: %{customdata[0]}<br>研究人员数量: %{customdata[1]}<br><extra></extra>",
         "marker": {
          "color": [
           "#1f77b4",
           "#aec7e8",
           "#ff7f0e",
           "#ffbb78",
           "#2ca02c",
           "#98df8a",
           "#d62728",
           "#ff9896",
           "#9467bd",
           "#c5b0d5",
           "#ab47bc",
           "#ef5350",
           "#ff6b6b",
           "#ffa726",
           "#66bb6a",
           "#42a5f5"
          ],
          "line": {
           "color": "white",
           "width": 4
          },
          "opacity": [
           0.85,
           0.85,
           0.85,
           0.85,
           0.85,
           0.85,
           0.85,
           0.85,
           0.85,
           0.85,
           0.9,
           0.9,
           0.9,
           0.9,
           0.9,
           0.9
          ],
          "size": [
           39,
           42,
           45,
           39,
           36,
           39,
           39,
           36,
           36,
           42,
           47,
           51,
           43,
           41,
           43,
           39
          ],
          "symbol": [
           "circle",
           "circle",
           "circle",
           "circle",
           "circle",
           "circle",
           "circle",
           "circle",
           "circle",
           "circle",
           "diamond",
           "diamond",
           "diamond",
           "diamond",
           "diamond",
           "diamond"
          ]
         },
         "mode": "markers+text",
         "showlegend": false,
         "text": [
          "花粉管生物学",
          "囊泡运输",
          "细菌分泌",
          "大豆生物学",
          "浮萍生物学",
          "AI与算法",
          "结构生物学",
          "基因组编辑",
          "人工囊泡",
          "高通量平台",
          "南开大学",
          "先进院",
          "华南师大",
          "湖北大学",
          "天工所",
          "深理工"
         ],
         "textfont": {
          "color": "white",
          "family": "Arial, sans-serif",
          "size": 14
         },
         "textposition": "middle center",
         "type": "scatter",
         "x": [
          -0.06310120572409697,
          0.9678518699441613,
          -0.630532036013968,
          -0.8115249228827315,
          0.8489152343922386,
          -0.5358816453871904,
          0.6313742114840116,
          -0.018747057309157204,
          -0.4313224342847173,
          -0.36810586964037695,
          0.605686796899156,
          -0.8571620151199787,
          0.1724299550094781,
          -0.4199993097850648,
          -0.08988157158176356,
          0.9999999999999999
         ],
         "y": [
          0.4064979436542406,
          0.3473986656981649,
          -0.7191380402887654,
          0.5551864807901681,
          0.5711740371466723,
          0.18483514954919217,
          -0.6413235591955521,
          -0.14153182707474674,
          0.8344601183767901,
          -0.8322149908443801,
          -0.06675061348301217,
          0.0018136403418897958,
          0.8012136479670025,
          -0.27247792034659507,
          -0.910265075132665,
          -0.1188776571584038
         ]
        }
       ],
       "layout": {
        "annotations": [
         {
          "font": {
           "color": "#34495e",
           "size": 18
          },
          "showarrow": false,
          "text": "<b>🔬 圆形: 研究领域</b> | <b>🏛️ 菱形: 优势单位</b> | <b>节点大小: 研究人员数量</b>",
          "x": 0.5,
          "xanchor": "center",
          "xref": "paper",
          "y": -0.08,
          "yref": "paper"
         }
        ],
        "font": {
         "family": "Arial, sans-serif"
        },
        "height": 800,
        "hovermode": "closest",
        "margin": {
         "b": 100,
         "l": 50,
         "r": 50,
         "t": 120
        },
        "paper_bgcolor": "white",
        "plot_bgcolor": "rgba(248, 249, 250, 0.9)",
        "showlegend": false,
        "template": {
         "data": {
          "bar": [
           {
            "error_x": {
             "color": "#2a3f5f"
            },
            "error_y": {
             "color": "#2a3f5f"
            },
            "marker": {
             "line": {
              "color": "#E5ECF6",
              "width": 0.5
             },
             "pattern": {
              "fillmode": "overlay",
              "size": 10,
              "solidity": 0.2
             }
            },
            "type": "bar"
           }
          ],
          "barpolar": [
           {
            "marker": {
             "line": {
              "color": "#E5ECF6",
              "width": 0.5
             },
             "pattern": {
              "fillmode": "overlay",
              "size": 10,
              "solidity": 0.2
             }
            },
            "type": "barpolar"
           }
          ],
          "carpet": [
           {
            "aaxis": {
             "endlinecolor": "#2a3f5f",
             "gridcolor": "white",
             "linecolor": "white",
             "minorgridcolor": "white",
             "startlinecolor": "#2a3f5f"
            },
            "baxis": {
             "endlinecolor": "#2a3f5f",
             "gridcolor": "white",
             "linecolor": "white",
             "minorgridcolor": "white",
             "startlinecolor": "#2a3f5f"
            },
            "type": "carpet"
           }
          ],
          "choropleth": [
           {
            "colorbar": {
             "outlinewidth": 0,
             "ticks": ""
            },
            "type": "choropleth"
           }
          ],
          "contour": [
           {
            "colorbar": {
             "outlinewidth": 0,
             "ticks": ""
            },
            "colorscale": [
             [
              0,
              "#0d0887"
             ],
             [
              0.1111111111111111,
              "#46039f"
             ],
             [
              0.2222222222222222,
              "#7201a8"
             ],
             [
              0.3333333333333333,
              "#9c179e"
             ],
             [
              0.4444444444444444,
              "#bd3786"
             ],
             [
              0.5555555555555556,
              "#d8576b"
             ],
             [
              0.6666666666666666,
              "#ed7953"
             ],
             [
              0.7777777777777778,
              "#fb9f3a"
             ],
             [
              0.8888888888888888,
              "#fdca26"
             ],
             [
              1,
              "#f0f921"
             ]
            ],
            "type": "contour"
           }
          ],
          "contourcarpet": [
           {
            "colorbar": {
             "outlinewidth": 0,
             "ticks": ""
            },
            "type": "contourcarpet"
           }
          ],
          "heatmap": [
           {
            "colorbar": {
             "outlinewidth": 0,
             "ticks": ""
            },
            "colorscale": [
             [
              0,
              "#0d0887"
             ],
             [
              0.1111111111111111,
              "#46039f"
             ],
             [
              0.2222222222222222,
              "#7201a8"
             ],
             [
              0.3333333333333333,
              "#9c179e"
             ],
             [
              0.4444444444444444,
              "#bd3786"
             ],
             [
              0.5555555555555556,
              "#d8576b"
             ],
             [
              0.6666666666666666,
              "#ed7953"
             ],
             [
              0.7777777777777778,
              "#fb9f3a"
             ],
             [
              0.8888888888888888,
              "#fdca26"
             ],
             [
              1,
              "#f0f921"
             ]
            ],
            "type": "heatmap"
           }
          ],
          "heatmapgl": [
           {
            "colorbar": {
             "outlinewidth": 0,
             "ticks": ""
            },
            "colorscale": [
             [
              0,
              "#0d0887"
             ],
             [
              0.1111111111111111,
              "#46039f"
             ],
             [
              0.2222222222222222,
              "#7201a8"
             ],
             [
              0.3333333333333333,
              "#9c179e"
             ],
             [
              0.4444444444444444,
              "#bd3786"
             ],
             [
              0.5555555555555556,
              "#d8576b"
             ],
             [
              0.6666666666666666,
              "#ed7953"
             ],
             [
              0.7777777777777778,
              "#fb9f3a"
             ],
             [
              0.8888888888888888,
              "#fdca26"
             ],
             [
              1,
              "#f0f921"
             ]
            ],
            "type": "heatmapgl"
           }
          ],
          "histogram": [
           {
            "marker": {
             "pattern": {
              "fillmode": "overlay",
              "size": 10,
              "solidity": 0.2
             }
            },
            "type": "histogram"
           }
          ],
          "histogram2d": [
           {
            "colorbar": {
             "outlinewidth": 0,
             "ticks": ""
            },
            "colorscale": [
             [
              0,
              "#0d0887"
             ],
             [
              0.1111111111111111,
              "#46039f"
             ],
             [
              0.2222222222222222,
              "#7201a8"
             ],
             [
              0.3333333333333333,
              "#9c179e"
             ],
             [
              0.4444444444444444,
              "#bd3786"
             ],
             [
              0.5555555555555556,
              "#d8576b"
             ],
             [
              0.6666666666666666,
              "#ed7953"
             ],
             [
              0.7777777777777778,
              "#fb9f3a"
             ],
             [
              0.8888888888888888,
              "#fdca26"
             ],
             [
              1,
              "#f0f921"
             ]
            ],
            "type": "histogram2d"
           }
          ],
          "histogram2dcontour": [
           {
            "colorbar": {
             "outlinewidth": 0,
             "ticks": ""
            },
            "colorscale": [
             [
              0,
              "#0d0887"
             ],
             [
              0.1111111111111111,
              "#46039f"
             ],
             [
              0.2222222222222222,
              "#7201a8"
             ],
             [
              0.3333333333333333,
              "#9c179e"
             ],
             [
              0.4444444444444444,
              "#bd3786"
             ],
             [
              0.5555555555555556,
              "#d8576b"
             ],
             [
              0.6666666666666666,
              "#ed7953"
             ],
             [
              0.7777777777777778,
              "#fb9f3a"
             ],
             [
              0.8888888888888888,
              "#fdca26"
             ],
             [
              1,
              "#f0f921"
             ]
            ],
            "type": "histogram2dcontour"
           }
          ],
          "mesh3d": [
           {
            "colorbar": {
             "outlinewidth": 0,
             "ticks": ""
            },
            "type": "mesh3d"
           }
          ],
          "parcoords": [
           {
            "line": {
             "colorbar": {
              "outlinewidth": 0,
              "ticks": ""
             }
            },
            "type": "parcoords"
           }
          ],
          "pie": [
           {
            "automargin": true,
            "type": "pie"
           }
          ],
          "scatter": [
           {
            "fillpattern": {
             "fillmode": "overlay",
             "size": 10,
             "solidity": 0.2
            },
            "type": "scatter"
           }
          ],
          "scatter3d": [
           {
            "line": {
             "colorbar": {
              "outlinewidth": 0,
              "ticks": ""
             }
            },
            "marker": {
             "colorbar": {
              "outlinewidth": 0,
              "ticks": ""
             }
            },
            "type": "scatter3d"
           }
          ],
          "scattercarpet": [
           {
            "marker": {
             "colorbar": {
              "outlinewidth": 0,
              "ticks": ""
             }
            },
            "type": "scattercarpet"
           }
          ],
          "scattergeo": [
           {
            "marker": {
             "colorbar": {
              "outlinewidth": 0,
              "ticks": ""
             }
            },
            "type": "scattergeo"
           }
          ],
          "scattergl": [
           {
            "marker": {
             "colorbar": {
              "outlinewidth": 0,
              "ticks": ""
             }
            },
            "type": "scattergl"
           }
          ],
          "scattermapbox": [
           {
            "marker": {
             "colorbar": {
              "outlinewidth": 0,
              "ticks": ""
             }
            },
            "type": "scattermapbox"
           }
          ],
          "scatterpolar": [
           {
            "marker": {
             "colorbar": {
              "outlinewidth": 0,
              "ticks": ""
             }
            },
            "type": "scatterpolar"
           }
          ],
          "scatterpolargl": [
           {
            "marker": {
             "colorbar": {
              "outlinewidth": 0,
              "ticks": ""
             }
            },
            "type": "scatterpolargl"
           }
          ],
          "scatterternary": [
           {
            "marker": {
             "colorbar": {
              "outlinewidth": 0,
              "ticks": ""
             }
            },
            "type": "scatterternary"
           }
          ],
          "surface": [
           {
            "colorbar": {
             "outlinewidth": 0,
             "ticks": ""
            },
            "colorscale": [
             [
              0,
              "#0d0887"
             ],
             [
              0.1111111111111111,
              "#46039f"
             ],
             [
              0.2222222222222222,
              "#7201a8"
             ],
             [
              0.3333333333333333,
              "#9c179e"
             ],
             [
              0.4444444444444444,
              "#bd3786"
             ],
             [
              0.5555555555555556,
              "#d8576b"
             ],
             [
              0.6666666666666666,
              "#ed7953"
             ],
             [
              0.7777777777777778,
              "#fb9f3a"
             ],
             [
              0.8888888888888888,
              "#fdca26"
             ],
             [
              1,
              "#f0f921"
             ]
            ],
            "type": "surface"
           }
          ],
          "table": [
           {
            "cells": {
             "fill": {
              "color": "#EBF0F8"
             },
             "line": {
              "color": "white"
             }
            },
            "header": {
             "fill": {
              "color": "#C8D4E3"
             },
             "line": {
              "color": "white"
             }
            },
            "type": "table"
           }
          ]
         },
         "layout": {
          "annotationdefaults": {
           "arrowcolor": "#2a3f5f",
           "arrowhead": 0,
           "arrowwidth": 1
          },
          "autotypenumbers": "strict",
          "coloraxis": {
           "colorbar": {
            "outlinewidth": 0,
            "ticks": ""
           }
          },
          "colorscale": {
           "diverging": [
            [
             0,
             "#8e0152"
            ],
            [
             0.1,
             "#c51b7d"
            ],
            [
             0.2,
             "#de77ae"
            ],
            [
             0.3,
             "#f1b6da"
            ],
            [
             0.4,
             "#fde0ef"
            ],
            [
             0.5,
             "#f7f7f7"
            ],
            [
             0.6,
             "#e6f5d0"
            ],
            [
             0.7,
             "#b8e186"
            ],
            [
             0.8,
             "#7fbc41"
            ],
            [
             0.9,
             "#4d9221"
            ],
            [
             1,
             "#276419"
            ]
           ],
           "sequential": [
            [
             0,
             "#0d0887"
            ],
            [
             0.1111111111111111,
             "#46039f"
            ],
            [
             0.2222222222222222,
             "#7201a8"
            ],
            [
             0.3333333333333333,
             "#9c179e"
            ],
            [
             0.4444444444444444,
             "#bd3786"
            ],
            [
             0.5555555555555556,
             "#d8576b"
            ],
            [
             0.6666666666666666,
             "#ed7953"
            ],
            [
             0.7777777777777778,
             "#fb9f3a"
            ],
            [
             0.8888888888888888,
             "#fdca26"
            ],
            [
             1,
             "#f0f921"
            ]
           ],
           "sequentialminus": [
            [
             0,
             "#0d0887"
            ],
            [
             0.1111111111111111,
             "#46039f"
            ],
            [
             0.2222222222222222,
             "#7201a8"
            ],
            [
             0.3333333333333333,
             "#9c179e"
            ],
            [
             0.4444444444444444,
             "#bd3786"
            ],
            [
             0.5555555555555556,
             "#d8576b"
            ],
            [
             0.6666666666666666,
             "#ed7953"
            ],
            [
             0.7777777777777778,
             "#fb9f3a"
            ],
            [
             0.8888888888888888,
             "#fdca26"
            ],
            [
             1,
             "#f0f921"
            ]
           ]
          },
          "colorway": [
           "#636efa",
           "#EF553B",
           "#00cc96",
           "#ab63fa",
           "#FFA15A",
           "#19d3f3",
           "#FF6692",
           "#B6E880",
           "#FF97FF",
           "#FECB52"
          ],
          "font": {
           "color": "#2a3f5f"
          },
          "geo": {
           "bgcolor": "white",
           "lakecolor": "white",
           "landcolor": "#E5ECF6",
           "showlakes": true,
           "showland": true,
           "subunitcolor": "white"
          },
          "hoverlabel": {
           "align": "left"
          },
          "hovermode": "closest",
          "mapbox": {
           "style": "light"
          },
          "paper_bgcolor": "white",
          "plot_bgcolor": "#E5ECF6",
          "polar": {
           "angularaxis": {
            "gridcolor": "white",
            "linecolor": "white",
            "ticks": ""
           },
           "bgcolor": "#E5ECF6",
           "radialaxis": {
            "gridcolor": "white",
            "linecolor": "white",
            "ticks": ""
           }
          },
          "scene": {
           "xaxis": {
            "backgroundcolor": "#E5ECF6",
            "gridcolor": "white",
            "gridwidth": 2,
            "linecolor": "white",
            "showbackground": true,
            "ticks": "",
            "zerolinecolor": "white"
           },
           "yaxis": {
            "backgroundcolor": "#E5ECF6",
            "gridcolor": "white",
            "gridwidth": 2,
            "linecolor": "white",
            "showbackground": true,
            "ticks": "",
            "zerolinecolor": "white"
           },
           "zaxis": {
            "backgroundcolor": "#E5ECF6",
            "gridcolor": "white",
            "gridwidth": 2,
            "linecolor": "white",
            "showbackground": true,
            "ticks": "",
            "zerolinecolor": "white"
           }
          },
          "shapedefaults": {
           "line": {
            "color": "#2a3f5f"
           }
          },
          "ternary": {
           "aaxis": {
            "gridcolor": "white",
            "linecolor": "white",
            "ticks": ""
           },
           "baxis": {
            "gridcolor": "white",
            "linecolor": "white",
            "ticks": ""
           },
           "bgcolor": "#E5ECF6",
           "caxis": {
            "gridcolor": "white",
            "linecolor": "white",
            "ticks": ""
           }
          },
          "title": {
           "x": 0.05
          },
          "xaxis": {
           "automargin": true,
           "gridcolor": "white",
           "linecolor": "white",
           "ticks": "",
           "title": {
            "standoff": 15
           },
           "zerolinecolor": "white",
           "zerolinewidth": 2
          },
          "yaxis": {
           "automargin": true,
           "gridcolor": "white",
           "linecolor": "white",
           "ticks": "",
           "title": {
            "standoff": 15
           },
           "zerolinecolor": "white",
           "zerolinewidth": 2
          }
         }
        },
        "title": {
         "font": {
          "color": "#2c3e50",
          "family": "Arial, sans-serif",
          "size": 32
         },
         "text": "<b>🔬 研究团队优势领域交叉融合网络</b><br><sub>来自6个单位的23名研究人员，涵盖10个研究领域</sub>",
         "x": 0.5,
         "xanchor": "center"
        },
        "updatemenus": [
         {
          "buttons": [
           {
            "args": [
             {
              "visible": [
               true,
               true
              ]
             }
            ],
            "label": "显示所有",
            "method": "restyle"
           },
           {
            "args": [
             {
              "visible": [
               true,
               false
              ]
             }
            ],
            "label": "仅显示边线",
            "method": "restyle"
           },
           {
            "args": [
             {
              "visible": [
               false,
               true
              ]
             }
            ],
            "label": "仅显示节点",
            "method": "restyle"
           }
          ],
          "direction": "left",
          "pad": {
           "r": 15,
           "t": 15
          },
          "showactive": true,
          "type": "buttons",
          "x": 0.01,
          "xanchor": "left",
          "y": 1.02,
          "yanchor": "top"
         }
        ],
        "width": 1200,
        "xaxis": {
         "scaleanchor": "y",
         "scaleratio": 1,
         "showgrid": false,
         "showticklabels": false,
         "zeroline": false
        },
        "yaxis": {
         "showgrid": false,
         "showticklabels": false,
         "zeroline": false
        }
       }
      },
      "text/html": [
       "<div>                            <div id=\"3f511bd7-6578-45f4-90cb-c49caba16fb9\" class=\"plotly-graph-div\" style=\"height:800px; width:1200px;\"></div>            <script type=\"text/javascript\">                require([\"plotly\"], function(Plotly) {                    window.PLOTLYENV=window.PLOTLYENV || {};                                    if (document.getElementById(\"3f511bd7-6578-45f4-90cb-c49caba16fb9\")) {                    Plotly.newPlot(                        \"3f511bd7-6578-45f4-90cb-c49caba16fb9\",                        [{\"hoverinfo\":\"none\",\"line\":{\"color\":\"rgba(100, 100, 100, 0.8)\",\"dash\":\"solid\",\"width\":4},\"mode\":\"lines\",\"showlegend\":false,\"x\":[-0.06310120572409697,0.605686796899156],\"y\":[0.4064979436542406,-0.06675061348301217],\"type\":\"scatter\",\"customdata\":[[\"field\",3],[\"field\",4],[\"field\",5],[\"field\",3],[\"field\",2],[\"field\",3],[\"field\",3],[\"field\",2],[\"field\",2],[\"field\",4],[\"institution\",6],[\"institution\",8],[\"institution\",4],[\"institution\",3],[\"institution\",4],[\"institution\",2]],\"hovertemplate\":\"\\u003cb\\u003e%{text}\\u003c\\u002fb\\u003e\\u003cbr\\u003e\\u8282\\u70b9\\u7c7b\\u578b: %{customdata[0]}\\u003cbr\\u003e\\u7814\\u7a76\\u4eba\\u5458\\u6570\\u91cf: %{customdata[1]}\\u003cbr\\u003e\\u003cextra\\u003e\\u003c\\u002fextra\\u003e\"},{\"hoverinfo\":\"none\",\"line\":{\"color\":\"rgba(100, 100, 100, 0.8)\",\"dash\":\"solid\",\"width\":4},\"mode\":\"lines\",\"showlegend\":false,\"x\":[-0.06310120572409697,-0.8571620151199787],\"y\":[0.4064979436542406,0.0018136403418897958],\"type\":\"scatter\",\"customdata\":[[\"field\",3],[\"field\",4],[\"field\",5],[\"field\",3],[\"field\",2],[\"field\",3],[\"field\",3],[\"field\",2],[\"field\",2],[\"field\",4],[\"institution\",6],[\"institution\",8],[\"institution\",4],[\"institution\",3],[\"institution\",4],[\"institution\",2]],\"hovertemplate\":\"\\u003cb\\u003e%{text}\\u003c\\u002fb\\u003e\\u003cbr\\u003e\\u8282\\u70b9\\u7c7b\\u578b: %{customdata[0]}\\u003cbr\\u003e\\u7814\\u7a76\\u4eba\\u5458\\u6570\\u91cf: %{customdata[1]}\\u003cbr\\u003e\\u003cextra\\u003e\\u003c\\u002fextra\\u003e\"},{\"hoverinfo\":\"none\",\"line\":{\"color\":\"rgba(100, 100, 100, 0.8)\",\"dash\":\"solid\",\"width\":4},\"mode\":\"lines\",\"showlegend\":false,\"x\":[0.9678518699441613,0.1724299550094781],\"y\":[0.3473986656981649,0.8012136479670025],\"type\":\"scatter\",\"customdata\":[[\"field\",3],[\"field\",4],[\"field\",5],[\"field\",3],[\"field\",2],[\"field\",3],[\"field\",3],[\"field\",2],[\"field\",2],[\"field\",4],[\"institution\",6],[\"institution\",8],[\"institution\",4],[\"institution\",3],[\"institution\",4],[\"institution\",2]],\"hovertemplate\":\"\\u003cb\\u003e%{text}\\u003c\\u002fb\\u003e\\u003cbr\\u003e\\u8282\\u70b9\\u7c7b\\u578b: %{customdata[0]}\\u003cbr\\u003e\\u7814\\u7a76\\u4eba\\u5458\\u6570\\u91cf: %{customdata[1]}\\u003cbr\\u003e\\u003cextra\\u003e\\u003c\\u002fextra\\u003e\"},{\"hoverinfo\":\"none\",\"line\":{\"color\":\"rgba(100, 100, 100, 0.8)\",\"dash\":\"solid\",\"width\":4},\"mode\":\"lines\",\"showlegend\":false,\"x\":[0.9678518699441613,0.605686796899156],\"y\":[0.3473986656981649,-0.06675061348301217],\"type\":\"scatter\",\"customdata\":[[\"field\",3],[\"field\",4],[\"field\",5],[\"field\",3],[\"field\",2],[\"field\",3],[\"field\",3],[\"field\",2],[\"field\",2],[\"field\",4],[\"institution\",6],[\"institution\",8],[\"institution\",4],[\"institution\",3],[\"institution\",4],[\"institution\",2]],\"hovertemplate\":\"\\u003cb\\u003e%{text}\\u003c\\u002fb\\u003e\\u003cbr\\u003e\\u8282\\u70b9\\u7c7b\\u578b: %{customdata[0]}\\u003cbr\\u003e\\u7814\\u7a76\\u4eba\\u5458\\u6570\\u91cf: %{customdata[1]}\\u003cbr\\u003e\\u003cextra\\u003e\\u003c\\u002fextra\\u003e\"},{\"hoverinfo\":\"none\",\"line\":{\"color\":\"rgba(100, 100, 100, 0.8)\",\"dash\":\"solid\",\"width\":4},\"mode\":\"lines\",\"showlegend\":false,\"x\":[-0.630532036013968,-0.4199993097850648],\"y\":[-0.7191380402887654,-0.27247792034659507],\"type\":\"scatter\",\"customdata\":[[\"field\",3],[\"field\",4],[\"field\",5],[\"field\",3],[\"field\",2],[\"field\",3],[\"field\",3],[\"field\",2],[\"field\",2],[\"field\",4],[\"institution\",6],[\"institution\",8],[\"institution\",4],[\"institution\",3],[\"institution\",4],[\"institution\",2]],\"hovertemplate\":\"\\u003cb\\u003e%{text}\\u003c\\u002fb\\u003e\\u003cbr\\u003e\\u8282\\u70b9\\u7c7b\\u578b: %{customdata[0]}\\u003cbr\\u003e\\u7814\\u7a76\\u4eba\\u5458\\u6570\\u91cf: %{customdata[1]}\\u003cbr\\u003e\\u003cextra\\u003e\\u003c\\u002fextra\\u003e\"},{\"hoverinfo\":\"none\",\"line\":{\"color\":\"rgba(100, 100, 100, 0.8)\",\"dash\":\"solid\",\"width\":4},\"mode\":\"lines\",\"showlegend\":false,\"x\":[-0.630532036013968,-0.08988157158176356],\"y\":[-0.7191380402887654,-0.910265075132665],\"type\":\"scatter\",\"customdata\":[[\"field\",3],[\"field\",4],[\"field\",5],[\"field\",3],[\"field\",2],[\"field\",3],[\"field\",3],[\"field\",2],[\"field\",2],[\"field\",4],[\"institution\",6],[\"institution\",8],[\"institution\",4],[\"institution\",3],[\"institution\",4],[\"institution\",2]],\"hovertemplate\":\"\\u003cb\\u003e%{text}\\u003c\\u002fb\\u003e\\u003cbr\\u003e\\u8282\\u70b9\\u7c7b\\u578b: %{customdata[0]}\\u003cbr\\u003e\\u7814\\u7a76\\u4eba\\u5458\\u6570\\u91cf: %{customdata[1]}\\u003cbr\\u003e\\u003cextra\\u003e\\u003c\\u002fextra\\u003e\"},{\"hoverinfo\":\"none\",\"line\":{\"color\":\"rgba(100, 100, 100, 0.8)\",\"dash\":\"solid\",\"width\":4},\"mode\":\"lines\",\"showlegend\":false,\"x\":[-0.630532036013968,-0.8571620151199787],\"y\":[-0.7191380402887654,0.0018136403418897958],\"type\":\"scatter\",\"customdata\":[[\"field\",3],[\"field\",4],[\"field\",5],[\"field\",3],[\"field\",2],[\"field\",3],[\"field\",3],[\"field\",2],[\"field\",2],[\"field\",4],[\"institution\",6],[\"institution\",8],[\"institution\",4],[\"institution\",3],[\"institution\",4],[\"institution\",2]],\"hovertemplate\":\"\\u003cb\\u003e%{text}\\u003c\\u002fb\\u003e\\u003cbr\\u003e\\u8282\\u70b9\\u7c7b\\u578b: %{customdata[0]}\\u003cbr\\u003e\\u7814\\u7a76\\u4eba\\u5458\\u6570\\u91cf: %{customdata[1]}\\u003cbr\\u003e\\u003cextra\\u003e\\u003c\\u002fextra\\u003e\"},{\"hoverinfo\":\"none\",\"line\":{\"color\":\"rgba(100, 100, 100, 0.8)\",\"dash\":\"solid\",\"width\":4},\"mode\":\"lines\",\"showlegend\":false,\"x\":[-0.8115249228827315,-0.8571620151199787],\"y\":[0.5551864807901681,0.0018136403418897958],\"type\":\"scatter\",\"customdata\":[[\"field\",3],[\"field\",4],[\"field\",5],[\"field\",3],[\"field\",2],[\"field\",3],[\"field\",3],[\"field\",2],[\"field\",2],[\"field\",4],[\"institution\",6],[\"institution\",8],[\"institution\",4],[\"institution\",3],[\"institution\",4],[\"institution\",2]],\"hovertemplate\":\"\\u003cb\\u003e%{text}\\u003c\\u002fb\\u003e\\u003cbr\\u003e\\u8282\\u70b9\\u7c7b\\u578b: %{customdata[0]}\\u003cbr\\u003e\\u7814\\u7a76\\u4eba\\u5458\\u6570\\u91cf: %{customdata[1]}\\u003cbr\\u003e\\u003cextra\\u003e\\u003c\\u002fextra\\u003e\"},{\"hoverinfo\":\"none\",\"line\":{\"color\":\"rgba(100, 100, 100, 0.8)\",\"dash\":\"solid\",\"width\":4},\"mode\":\"lines\",\"showlegend\":false,\"x\":[-0.8115249228827315,0.1724299550094781],\"y\":[0.5551864807901681,0.8012136479670025],\"type\":\"scatter\",\"customdata\":[[\"field\",3],[\"field\",4],[\"field\",5],[\"field\",3],[\"field\",2],[\"field\",3],[\"field\",3],[\"field\",2],[\"field\",2],[\"field\",4],[\"institution\",6],[\"institution\",8],[\"institution\",4],[\"institution\",3],[\"institution\",4],[\"institution\",2]],\"hovertemplate\":\"\\u003cb\\u003e%{text}\\u003c\\u002fb\\u003e\\u003cbr\\u003e\\u8282\\u70b9\\u7c7b\\u578b: %{customdata[0]}\\u003cbr\\u003e\\u7814\\u7a76\\u4eba\\u5458\\u6570\\u91cf: %{customdata[1]}\\u003cbr\\u003e\\u003cextra\\u003e\\u003c\\u002fextra\\u003e\"},{\"hoverinfo\":\"none\",\"line\":{\"color\":\"rgba(100, 100, 100, 0.8)\",\"dash\":\"solid\",\"width\":4},\"mode\":\"lines\",\"showlegend\":false,\"x\":[0.8489152343922386,0.605686796899156],\"y\":[0.5711740371466723,-0.06675061348301217],\"type\":\"scatter\",\"customdata\":[[\"field\",3],[\"field\",4],[\"field\",5],[\"field\",3],[\"field\",2],[\"field\",3],[\"field\",3],[\"field\",2],[\"field\",2],[\"field\",4],[\"institution\",6],[\"institution\",8],[\"institution\",4],[\"institution\",3],[\"institution\",4],[\"institution\",2]],\"hovertemplate\":\"\\u003cb\\u003e%{text}\\u003c\\u002fb\\u003e\\u003cbr\\u003e\\u8282\\u70b9\\u7c7b\\u578b: %{customdata[0]}\\u003cbr\\u003e\\u7814\\u7a76\\u4eba\\u5458\\u6570\\u91cf: %{customdata[1]}\\u003cbr\\u003e\\u003cextra\\u003e\\u003c\\u002fextra\\u003e\"},{\"hoverinfo\":\"none\",\"line\":{\"color\":\"rgba(100, 100, 100, 0.8)\",\"dash\":\"solid\",\"width\":4},\"mode\":\"lines\",\"showlegend\":false,\"x\":[0.8489152343922386,0.9999999999999999],\"y\":[0.5711740371466723,-0.1188776571584038],\"type\":\"scatter\",\"customdata\":[[\"field\",3],[\"field\",4],[\"field\",5],[\"field\",3],[\"field\",2],[\"field\",3],[\"field\",3],[\"field\",2],[\"field\",2],[\"field\",4],[\"institution\",6],[\"institution\",8],[\"institution\",4],[\"institution\",3],[\"institution\",4],[\"institution\",2]],\"hovertemplate\":\"\\u003cb\\u003e%{text}\\u003c\\u002fb\\u003e\\u003cbr\\u003e\\u8282\\u70b9\\u7c7b\\u578b: %{customdata[0]}\\u003cbr\\u003e\\u7814\\u7a76\\u4eba\\u5458\\u6570\\u91cf: %{customdata[1]}\\u003cbr\\u003e\\u003cextra\\u003e\\u003c\\u002fextra\\u003e\"},{\"hoverinfo\":\"none\",\"line\":{\"color\":\"rgba(100, 100, 100, 0.8)\",\"dash\":\"solid\",\"width\":4},\"mode\":\"lines\",\"showlegend\":false,\"x\":[-0.5358816453871904,-0.08988157158176356],\"y\":[0.18483514954919217,-0.910265075132665],\"type\":\"scatter\",\"customdata\":[[\"field\",3],[\"field\",4],[\"field\",5],[\"field\",3],[\"field\",2],[\"field\",3],[\"field\",3],[\"field\",2],[\"field\",2],[\"field\",4],[\"institution\",6],[\"institution\",8],[\"institution\",4],[\"institution\",3],[\"institution\",4],[\"institution\",2]],\"hovertemplate\":\"\\u003cb\\u003e%{text}\\u003c\\u002fb\\u003e\\u003cbr\\u003e\\u8282\\u70b9\\u7c7b\\u578b: %{customdata[0]}\\u003cbr\\u003e\\u7814\\u7a76\\u4eba\\u5458\\u6570\\u91cf: %{customdata[1]}\\u003cbr\\u003e\\u003cextra\\u003e\\u003c\\u002fextra\\u003e\"},{\"hoverinfo\":\"none\",\"line\":{\"color\":\"rgba(100, 100, 100, 0.8)\",\"dash\":\"solid\",\"width\":4},\"mode\":\"lines\",\"showlegend\":false,\"x\":[-0.5358816453871904,-0.8571620151199787],\"y\":[0.18483514954919217,0.0018136403418897958],\"type\":\"scatter\",\"customdata\":[[\"field\",3],[\"field\",4],[\"field\",5],[\"field\",3],[\"field\",2],[\"field\",3],[\"field\",3],[\"field\",2],[\"field\",2],[\"field\",4],[\"institution\",6],[\"institution\",8],[\"institution\",4],[\"institution\",3],[\"institution\",4],[\"institution\",2]],\"hovertemplate\":\"\\u003cb\\u003e%{text}\\u003c\\u002fb\\u003e\\u003cbr\\u003e\\u8282\\u70b9\\u7c7b\\u578b: %{customdata[0]}\\u003cbr\\u003e\\u7814\\u7a76\\u4eba\\u5458\\u6570\\u91cf: %{customdata[1]}\\u003cbr\\u003e\\u003cextra\\u003e\\u003c\\u002fextra\\u003e\"},{\"hoverinfo\":\"none\",\"line\":{\"color\":\"rgba(100, 100, 100, 0.8)\",\"dash\":\"solid\",\"width\":4},\"mode\":\"lines\",\"showlegend\":false,\"x\":[0.6313742114840116,0.605686796899156],\"y\":[-0.6413235591955521,-0.06675061348301217],\"type\":\"scatter\",\"customdata\":[[\"field\",3],[\"field\",4],[\"field\",5],[\"field\",3],[\"field\",2],[\"field\",3],[\"field\",3],[\"field\",2],[\"field\",2],[\"field\",4],[\"institution\",6],[\"institution\",8],[\"institution\",4],[\"institution\",3],[\"institution\",4],[\"institution\",2]],\"hovertemplate\":\"\\u003cb\\u003e%{text}\\u003c\\u002fb\\u003e\\u003cbr\\u003e\\u8282\\u70b9\\u7c7b\\u578b: %{customdata[0]}\\u003cbr\\u003e\\u7814\\u7a76\\u4eba\\u5458\\u6570\\u91cf: %{customdata[1]}\\u003cbr\\u003e\\u003cextra\\u003e\\u003c\\u002fextra\\u003e\"},{\"hoverinfo\":\"none\",\"line\":{\"color\":\"rgba(100, 100, 100, 0.8)\",\"dash\":\"solid\",\"width\":4},\"mode\":\"lines\",\"showlegend\":false,\"x\":[0.6313742114840116,-0.4199993097850648],\"y\":[-0.6413235591955521,-0.27247792034659507],\"type\":\"scatter\",\"customdata\":[[\"field\",3],[\"field\",4],[\"field\",5],[\"field\",3],[\"field\",2],[\"field\",3],[\"field\",3],[\"field\",2],[\"field\",2],[\"field\",4],[\"institution\",6],[\"institution\",8],[\"institution\",4],[\"institution\",3],[\"institution\",4],[\"institution\",2]],\"hovertemplate\":\"\\u003cb\\u003e%{text}\\u003c\\u002fb\\u003e\\u003cbr\\u003e\\u8282\\u70b9\\u7c7b\\u578b: %{customdata[0]}\\u003cbr\\u003e\\u7814\\u7a76\\u4eba\\u5458\\u6570\\u91cf: %{customdata[1]}\\u003cbr\\u003e\\u003cextra\\u003e\\u003c\\u002fextra\\u003e\"},{\"hoverinfo\":\"none\",\"line\":{\"color\":\"rgba(100, 100, 100, 0.8)\",\"dash\":\"solid\",\"width\":4},\"mode\":\"lines\",\"showlegend\":false,\"x\":[-0.018747057309157204,0.9999999999999999],\"y\":[-0.14153182707474674,-0.1188776571584038],\"type\":\"scatter\",\"customdata\":[[\"field\",3],[\"field\",4],[\"field\",5],[\"field\",3],[\"field\",2],[\"field\",3],[\"field\",3],[\"field\",2],[\"field\",2],[\"field\",4],[\"institution\",6],[\"institution\",8],[\"institution\",4],[\"institution\",3],[\"institution\",4],[\"institution\",2]],\"hovertemplate\":\"\\u003cb\\u003e%{text}\\u003c\\u002fb\\u003e\\u003cbr\\u003e\\u8282\\u70b9\\u7c7b\\u578b: %{customdata[0]}\\u003cbr\\u003e\\u7814\\u7a76\\u4eba\\u5458\\u6570\\u91cf: %{customdata[1]}\\u003cbr\\u003e\\u003cextra\\u003e\\u003c\\u002fextra\\u003e\"},{\"hoverinfo\":\"none\",\"line\":{\"color\":\"rgba(100, 100, 100, 0.8)\",\"dash\":\"solid\",\"width\":4},\"mode\":\"lines\",\"showlegend\":false,\"x\":[-0.018747057309157204,0.1724299550094781],\"y\":[-0.14153182707474674,0.8012136479670025],\"type\":\"scatter\",\"customdata\":[[\"field\",3],[\"field\",4],[\"field\",5],[\"field\",3],[\"field\",2],[\"field\",3],[\"field\",3],[\"field\",2],[\"field\",2],[\"field\",4],[\"institution\",6],[\"institution\",8],[\"institution\",4],[\"institution\",3],[\"institution\",4],[\"institution\",2]],\"hovertemplate\":\"\\u003cb\\u003e%{text}\\u003c\\u002fb\\u003e\\u003cbr\\u003e\\u8282\\u70b9\\u7c7b\\u578b: %{customdata[0]}\\u003cbr\\u003e\\u7814\\u7a76\\u4eba\\u5458\\u6570\\u91cf: %{customdata[1]}\\u003cbr\\u003e\\u003cextra\\u003e\\u003c\\u002fextra\\u003e\"},{\"hoverinfo\":\"none\",\"line\":{\"color\":\"rgba(100, 100, 100, 0.8)\",\"dash\":\"solid\",\"width\":4},\"mode\":\"lines\",\"showlegend\":false,\"x\":[-0.4313224342847173,-0.8571620151199787],\"y\":[0.8344601183767901,0.0018136403418897958],\"type\":\"scatter\",\"customdata\":[[\"field\",3],[\"field\",4],[\"field\",5],[\"field\",3],[\"field\",2],[\"field\",3],[\"field\",3],[\"field\",2],[\"field\",2],[\"field\",4],[\"institution\",6],[\"institution\",8],[\"institution\",4],[\"institution\",3],[\"institution\",4],[\"institution\",2]],\"hovertemplate\":\"\\u003cb\\u003e%{text}\\u003c\\u002fb\\u003e\\u003cbr\\u003e\\u8282\\u70b9\\u7c7b\\u578b: %{customdata[0]}\\u003cbr\\u003e\\u7814\\u7a76\\u4eba\\u5458\\u6570\\u91cf: %{customdata[1]}\\u003cbr\\u003e\\u003cextra\\u003e\\u003c\\u002fextra\\u003e\"},{\"hoverinfo\":\"none\",\"line\":{\"color\":\"rgba(100, 100, 100, 0.8)\",\"dash\":\"solid\",\"width\":4},\"mode\":\"lines\",\"showlegend\":false,\"x\":[-0.36810586964037695,-0.4199993097850648],\"y\":[-0.8322149908443801,-0.27247792034659507],\"type\":\"scatter\",\"customdata\":[[\"field\",3],[\"field\",4],[\"field\",5],[\"field\",3],[\"field\",2],[\"field\",3],[\"field\",3],[\"field\",2],[\"field\",2],[\"field\",4],[\"institution\",6],[\"institution\",8],[\"institution\",4],[\"institution\",3],[\"institution\",4],[\"institution\",2]],\"hovertemplate\":\"\\u003cb\\u003e%{text}\\u003c\\u002fb\\u003e\\u003cbr\\u003e\\u8282\\u70b9\\u7c7b\\u578b: %{customdata[0]}\\u003cbr\\u003e\\u7814\\u7a76\\u4eba\\u5458\\u6570\\u91cf: %{customdata[1]}\\u003cbr\\u003e\\u003cextra\\u003e\\u003c\\u002fextra\\u003e\"},{\"hoverinfo\":\"none\",\"line\":{\"color\":\"rgba(100, 100, 100, 0.8)\",\"dash\":\"solid\",\"width\":4},\"mode\":\"lines\",\"showlegend\":false,\"x\":[-0.36810586964037695,-0.08988157158176356],\"y\":[-0.8322149908443801,-0.910265075132665],\"type\":\"scatter\",\"customdata\":[[\"field\",3],[\"field\",4],[\"field\",5],[\"field\",3],[\"field\",2],[\"field\",3],[\"field\",3],[\"field\",2],[\"field\",2],[\"field\",4],[\"institution\",6],[\"institution\",8],[\"institution\",4],[\"institution\",3],[\"institution\",4],[\"institution\",2]],\"hovertemplate\":\"\\u003cb\\u003e%{text}\\u003c\\u002fb\\u003e\\u003cbr\\u003e\\u8282\\u70b9\\u7c7b\\u578b: %{customdata[0]}\\u003cbr\\u003e\\u7814\\u7a76\\u4eba\\u5458\\u6570\\u91cf: %{customdata[1]}\\u003cbr\\u003e\\u003cextra\\u003e\\u003c\\u002fextra\\u003e\"},{\"hoverinfo\":\"none\",\"line\":{\"color\":\"rgba(100, 100, 100, 0.8)\",\"dash\":\"solid\",\"width\":4},\"mode\":\"lines\",\"showlegend\":false,\"x\":[-0.36810586964037695,-0.8571620151199787],\"y\":[-0.8322149908443801,0.0018136403418897958],\"type\":\"scatter\",\"customdata\":[[\"field\",3],[\"field\",4],[\"field\",5],[\"field\",3],[\"field\",2],[\"field\",3],[\"field\",3],[\"field\",2],[\"field\",2],[\"field\",4],[\"institution\",6],[\"institution\",8],[\"institution\",4],[\"institution\",3],[\"institution\",4],[\"institution\",2]],\"hovertemplate\":\"\\u003cb\\u003e%{text}\\u003c\\u002fb\\u003e\\u003cbr\\u003e\\u8282\\u70b9\\u7c7b\\u578b: %{customdata[0]}\\u003cbr\\u003e\\u7814\\u7a76\\u4eba\\u5458\\u6570\\u91cf: %{customdata[1]}\\u003cbr\\u003e\\u003cextra\\u003e\\u003c\\u002fextra\\u003e\"},{\"hoverinfo\":\"text\",\"marker\":{\"color\":[\"#1f77b4\",\"#aec7e8\",\"#ff7f0e\",\"#ffbb78\",\"#2ca02c\",\"#98df8a\",\"#d62728\",\"#ff9896\",\"#9467bd\",\"#c5b0d5\",\"#ab47bc\",\"#ef5350\",\"#ff6b6b\",\"#ffa726\",\"#66bb6a\",\"#42a5f5\"],\"line\":{\"color\":\"white\",\"width\":4},\"opacity\":[0.85,0.85,0.85,0.85,0.85,0.85,0.85,0.85,0.85,0.85,0.9,0.9,0.9,0.9,0.9,0.9],\"size\":[39,42,45,39,36,39,39,36,36,42,47,51,43,41,43,39],\"symbol\":[\"circle\",\"circle\",\"circle\",\"circle\",\"circle\",\"circle\",\"circle\",\"circle\",\"circle\",\"circle\",\"diamond\",\"diamond\",\"diamond\",\"diamond\",\"diamond\",\"diamond\"]},\"mode\":\"markers+text\",\"showlegend\":false,\"text\":[\"\\u82b1\\u7c89\\u7ba1\\u751f\\u7269\\u5b66\",\"\\u56ca\\u6ce1\\u8fd0\\u8f93\",\"\\u7ec6\\u83cc\\u5206\\u6ccc\",\"\\u5927\\u8c46\\u751f\\u7269\\u5b66\",\"\\u6d6e\\u840d\\u751f\\u7269\\u5b66\",\"AI\\u4e0e\\u7b97\\u6cd5\",\"\\u7ed3\\u6784\\u751f\\u7269\\u5b66\",\"\\u57fa\\u56e0\\u7ec4\\u7f16\\u8f91\",\"\\u4eba\\u5de5\\u56ca\\u6ce1\",\"\\u9ad8\\u901a\\u91cf\\u5e73\\u53f0\",\"\\u5357\\u5f00\\u5927\\u5b66\",\"\\u5148\\u8fdb\\u9662\",\"\\u534e\\u5357\\u5e08\\u5927\",\"\\u6e56\\u5317\\u5927\\u5b66\",\"\\u5929\\u5de5\\u6240\",\"\\u6df1\\u7406\\u5de5\"],\"textfont\":{\"color\":\"white\",\"family\":\"Arial, sans-serif\",\"size\":14},\"textposition\":\"middle center\",\"x\":[-0.06310120572409697,0.9678518699441613,-0.630532036013968,-0.8115249228827315,0.8489152343922386,-0.5358816453871904,0.6313742114840116,-0.018747057309157204,-0.4313224342847173,-0.36810586964037695,0.605686796899156,-0.8571620151199787,0.1724299550094781,-0.4199993097850648,-0.08988157158176356,0.9999999999999999],\"y\":[0.4064979436542406,0.3473986656981649,-0.7191380402887654,0.5551864807901681,0.5711740371466723,0.18483514954919217,-0.6413235591955521,-0.14153182707474674,0.8344601183767901,-0.8322149908443801,-0.06675061348301217,0.0018136403418897958,0.8012136479670025,-0.27247792034659507,-0.910265075132665,-0.1188776571584038],\"type\":\"scatter\",\"customdata\":[[\"field\",3],[\"field\",4],[\"field\",5],[\"field\",3],[\"field\",2],[\"field\",3],[\"field\",3],[\"field\",2],[\"field\",2],[\"field\",4],[\"institution\",6],[\"institution\",8],[\"institution\",4],[\"institution\",3],[\"institution\",4],[\"institution\",2]],\"hovertemplate\":\"\\u003cb\\u003e%{text}\\u003c\\u002fb\\u003e\\u003cbr\\u003e\\u8282\\u70b9\\u7c7b\\u578b: %{customdata[0]}\\u003cbr\\u003e\\u7814\\u7a76\\u4eba\\u5458\\u6570\\u91cf: %{customdata[1]}\\u003cbr\\u003e\\u003cextra\\u003e\\u003c\\u002fextra\\u003e\"}],                        {\"template\":{\"data\":{\"histogram2dcontour\":[{\"type\":\"histogram2dcontour\",\"colorbar\":{\"outlinewidth\":0,\"ticks\":\"\"},\"colorscale\":[[0.0,\"#0d0887\"],[0.1111111111111111,\"#46039f\"],[0.2222222222222222,\"#7201a8\"],[0.3333333333333333,\"#9c179e\"],[0.4444444444444444,\"#bd3786\"],[0.5555555555555556,\"#d8576b\"],[0.6666666666666666,\"#ed7953\"],[0.7777777777777778,\"#fb9f3a\"],[0.8888888888888888,\"#fdca26\"],[1.0,\"#f0f921\"]]}],\"choropleth\":[{\"type\":\"choropleth\",\"colorbar\":{\"outlinewidth\":0,\"ticks\":\"\"}}],\"histogram2d\":[{\"type\":\"histogram2d\",\"colorbar\":{\"outlinewidth\":0,\"ticks\":\"\"},\"colorscale\":[[0.0,\"#0d0887\"],[0.1111111111111111,\"#46039f\"],[0.2222222222222222,\"#7201a8\"],[0.3333333333333333,\"#9c179e\"],[0.4444444444444444,\"#bd3786\"],[0.5555555555555556,\"#d8576b\"],[0.6666666666666666,\"#ed7953\"],[0.7777777777777778,\"#fb9f3a\"],[0.8888888888888888,\"#fdca26\"],[1.0,\"#f0f921\"]]}],\"heatmap\":[{\"type\":\"heatmap\",\"colorbar\":{\"outlinewidth\":0,\"ticks\":\"\"},\"colorscale\":[[0.0,\"#0d0887\"],[0.1111111111111111,\"#46039f\"],[0.2222222222222222,\"#7201a8\"],[0.3333333333333333,\"#9c179e\"],[0.4444444444444444,\"#bd3786\"],[0.5555555555555556,\"#d8576b\"],[0.6666666666666666,\"#ed7953\"],[0.7777777777777778,\"#fb9f3a\"],[0.8888888888888888,\"#fdca26\"],[1.0,\"#f0f921\"]]}],\"heatmapgl\":[{\"type\":\"heatmapgl\",\"colorbar\":{\"outlinewidth\":0,\"ticks\":\"\"},\"colorscale\":[[0.0,\"#0d0887\"],[0.1111111111111111,\"#46039f\"],[0.2222222222222222,\"#7201a8\"],[0.3333333333333333,\"#9c179e\"],[0.4444444444444444,\"#bd3786\"],[0.5555555555555556,\"#d8576b\"],[0.6666666666666666,\"#ed7953\"],[0.7777777777777778,\"#fb9f3a\"],[0.8888888888888888,\"#fdca26\"],[1.0,\"#f0f921\"]]}],\"contourcarpet\":[{\"type\":\"contourcarpet\",\"colorbar\":{\"outlinewidth\":0,\"ticks\":\"\"}}],\"contour\":[{\"type\":\"contour\",\"colorbar\":{\"outlinewidth\":0,\"ticks\":\"\"},\"colorscale\":[[0.0,\"#0d0887\"],[0.1111111111111111,\"#46039f\"],[0.2222222222222222,\"#7201a8\"],[0.3333333333333333,\"#9c179e\"],[0.4444444444444444,\"#bd3786\"],[0.5555555555555556,\"#d8576b\"],[0.6666666666666666,\"#ed7953\"],[0.7777777777777778,\"#fb9f3a\"],[0.8888888888888888,\"#fdca26\"],[1.0,\"#f0f921\"]]}],\"surface\":[{\"type\":\"surface\",\"colorbar\":{\"outlinewidth\":0,\"ticks\":\"\"},\"colorscale\":[[0.0,\"#0d0887\"],[0.1111111111111111,\"#46039f\"],[0.2222222222222222,\"#7201a8\"],[0.3333333333333333,\"#9c179e\"],[0.4444444444444444,\"#bd3786\"],[0.5555555555555556,\"#d8576b\"],[0.6666666666666666,\"#ed7953\"],[0.7777777777777778,\"#fb9f3a\"],[0.8888888888888888,\"#fdca26\"],[1.0,\"#f0f921\"]]}],\"mesh3d\":[{\"type\":\"mesh3d\",\"colorbar\":{\"outlinewidth\":0,\"ticks\":\"\"}}],\"scatter\":[{\"fillpattern\":{\"fillmode\":\"overlay\",\"size\":10,\"solidity\":0.2},\"type\":\"scatter\"}],\"parcoords\":[{\"type\":\"parcoords\",\"line\":{\"colorbar\":{\"outlinewidth\":0,\"ticks\":\"\"}}}],\"scatterpolargl\":[{\"type\":\"scatterpolargl\",\"marker\":{\"colorbar\":{\"outlinewidth\":0,\"ticks\":\"\"}}}],\"bar\":[{\"error_x\":{\"color\":\"#2a3f5f\"},\"error_y\":{\"color\":\"#2a3f5f\"},\"marker\":{\"line\":{\"color\":\"#E5ECF6\",\"width\":0.5},\"pattern\":{\"fillmode\":\"overlay\",\"size\":10,\"solidity\":0.2}},\"type\":\"bar\"}],\"scattergeo\":[{\"type\":\"scattergeo\",\"marker\":{\"colorbar\":{\"outlinewidth\":0,\"ticks\":\"\"}}}],\"scatterpolar\":[{\"type\":\"scatterpolar\",\"marker\":{\"colorbar\":{\"outlinewidth\":0,\"ticks\":\"\"}}}],\"histogram\":[{\"marker\":{\"pattern\":{\"fillmode\":\"overlay\",\"size\":10,\"solidity\":0.2}},\"type\":\"histogram\"}],\"scattergl\":[{\"type\":\"scattergl\",\"marker\":{\"colorbar\":{\"outlinewidth\":0,\"ticks\":\"\"}}}],\"scatter3d\":[{\"type\":\"scatter3d\",\"line\":{\"colorbar\":{\"outlinewidth\":0,\"ticks\":\"\"}},\"marker\":{\"colorbar\":{\"outlinewidth\":0,\"ticks\":\"\"}}}],\"scattermapbox\":[{\"type\":\"scattermapbox\",\"marker\":{\"colorbar\":{\"outlinewidth\":0,\"ticks\":\"\"}}}],\"scatterternary\":[{\"type\":\"scatterternary\",\"marker\":{\"colorbar\":{\"outlinewidth\":0,\"ticks\":\"\"}}}],\"scattercarpet\":[{\"type\":\"scattercarpet\",\"marker\":{\"colorbar\":{\"outlinewidth\":0,\"ticks\":\"\"}}}],\"carpet\":[{\"aaxis\":{\"endlinecolor\":\"#2a3f5f\",\"gridcolor\":\"white\",\"linecolor\":\"white\",\"minorgridcolor\":\"white\",\"startlinecolor\":\"#2a3f5f\"},\"baxis\":{\"endlinecolor\":\"#2a3f5f\",\"gridcolor\":\"white\",\"linecolor\":\"white\",\"minorgridcolor\":\"white\",\"startlinecolor\":\"#2a3f5f\"},\"type\":\"carpet\"}],\"table\":[{\"cells\":{\"fill\":{\"color\":\"#EBF0F8\"},\"line\":{\"color\":\"white\"}},\"header\":{\"fill\":{\"color\":\"#C8D4E3\"},\"line\":{\"color\":\"white\"}},\"type\":\"table\"}],\"barpolar\":[{\"marker\":{\"line\":{\"color\":\"#E5ECF6\",\"width\":0.5},\"pattern\":{\"fillmode\":\"overlay\",\"size\":10,\"solidity\":0.2}},\"type\":\"barpolar\"}],\"pie\":[{\"automargin\":true,\"type\":\"pie\"}]},\"layout\":{\"autotypenumbers\":\"strict\",\"colorway\":[\"#636efa\",\"#EF553B\",\"#00cc96\",\"#ab63fa\",\"#FFA15A\",\"#19d3f3\",\"#FF6692\",\"#B6E880\",\"#FF97FF\",\"#FECB52\"],\"font\":{\"color\":\"#2a3f5f\"},\"hovermode\":\"closest\",\"hoverlabel\":{\"align\":\"left\"},\"paper_bgcolor\":\"white\",\"plot_bgcolor\":\"#E5ECF6\",\"polar\":{\"bgcolor\":\"#E5ECF6\",\"angularaxis\":{\"gridcolor\":\"white\",\"linecolor\":\"white\",\"ticks\":\"\"},\"radialaxis\":{\"gridcolor\":\"white\",\"linecolor\":\"white\",\"ticks\":\"\"}},\"ternary\":{\"bgcolor\":\"#E5ECF6\",\"aaxis\":{\"gridcolor\":\"white\",\"linecolor\":\"white\",\"ticks\":\"\"},\"baxis\":{\"gridcolor\":\"white\",\"linecolor\":\"white\",\"ticks\":\"\"},\"caxis\":{\"gridcolor\":\"white\",\"linecolor\":\"white\",\"ticks\":\"\"}},\"coloraxis\":{\"colorbar\":{\"outlinewidth\":0,\"ticks\":\"\"}},\"colorscale\":{\"sequential\":[[0.0,\"#0d0887\"],[0.1111111111111111,\"#46039f\"],[0.2222222222222222,\"#7201a8\"],[0.3333333333333333,\"#9c179e\"],[0.4444444444444444,\"#bd3786\"],[0.5555555555555556,\"#d8576b\"],[0.6666666666666666,\"#ed7953\"],[0.7777777777777778,\"#fb9f3a\"],[0.8888888888888888,\"#fdca26\"],[1.0,\"#f0f921\"]],\"sequentialminus\":[[0.0,\"#0d0887\"],[0.1111111111111111,\"#46039f\"],[0.2222222222222222,\"#7201a8\"],[0.3333333333333333,\"#9c179e\"],[0.4444444444444444,\"#bd3786\"],[0.5555555555555556,\"#d8576b\"],[0.6666666666666666,\"#ed7953\"],[0.7777777777777778,\"#fb9f3a\"],[0.8888888888888888,\"#fdca26\"],[1.0,\"#f0f921\"]],\"diverging\":[[0,\"#8e0152\"],[0.1,\"#c51b7d\"],[0.2,\"#de77ae\"],[0.3,\"#f1b6da\"],[0.4,\"#fde0ef\"],[0.5,\"#f7f7f7\"],[0.6,\"#e6f5d0\"],[0.7,\"#b8e186\"],[0.8,\"#7fbc41\"],[0.9,\"#4d9221\"],[1,\"#276419\"]]},\"xaxis\":{\"gridcolor\":\"white\",\"linecolor\":\"white\",\"ticks\":\"\",\"title\":{\"standoff\":15},\"zerolinecolor\":\"white\",\"automargin\":true,\"zerolinewidth\":2},\"yaxis\":{\"gridcolor\":\"white\",\"linecolor\":\"white\",\"ticks\":\"\",\"title\":{\"standoff\":15},\"zerolinecolor\":\"white\",\"automargin\":true,\"zerolinewidth\":2},\"scene\":{\"xaxis\":{\"backgroundcolor\":\"#E5ECF6\",\"gridcolor\":\"white\",\"linecolor\":\"white\",\"showbackground\":true,\"ticks\":\"\",\"zerolinecolor\":\"white\",\"gridwidth\":2},\"yaxis\":{\"backgroundcolor\":\"#E5ECF6\",\"gridcolor\":\"white\",\"linecolor\":\"white\",\"showbackground\":true,\"ticks\":\"\",\"zerolinecolor\":\"white\",\"gridwidth\":2},\"zaxis\":{\"backgroundcolor\":\"#E5ECF6\",\"gridcolor\":\"white\",\"linecolor\":\"white\",\"showbackground\":true,\"ticks\":\"\",\"zerolinecolor\":\"white\",\"gridwidth\":2}},\"shapedefaults\":{\"line\":{\"color\":\"#2a3f5f\"}},\"annotationdefaults\":{\"arrowcolor\":\"#2a3f5f\",\"arrowhead\":0,\"arrowwidth\":1},\"geo\":{\"bgcolor\":\"white\",\"landcolor\":\"#E5ECF6\",\"subunitcolor\":\"white\",\"showland\":true,\"showlakes\":true,\"lakecolor\":\"white\"},\"title\":{\"x\":0.05},\"mapbox\":{\"style\":\"light\"}}},\"title\":{\"font\":{\"size\":32,\"color\":\"#2c3e50\",\"family\":\"Arial, sans-serif\"},\"text\":\"\\u003cb\\u003e\\ud83d\\udd2c \\u7814\\u7a76\\u56e2\\u961f\\u4f18\\u52bf\\u9886\\u57df\\u4ea4\\u53c9\\u878d\\u5408\\u7f51\\u7edc\\u003c\\u002fb\\u003e\\u003cbr\\u003e\\u003csub\\u003e\\u6765\\u81ea6\\u4e2a\\u5355\\u4f4d\\u768423\\u540d\\u7814\\u7a76\\u4eba\\u5458\\uff0c\\u6db5\\u76d610\\u4e2a\\u7814\\u7a76\\u9886\\u57df\\u003c\\u002fsub\\u003e\",\"x\":0.5,\"xanchor\":\"center\"},\"margin\":{\"b\":100,\"l\":50,\"r\":50,\"t\":120},\"xaxis\":{\"showgrid\":false,\"zeroline\":false,\"showticklabels\":false,\"scaleanchor\":\"y\",\"scaleratio\":1},\"yaxis\":{\"showgrid\":false,\"zeroline\":false,\"showticklabels\":false},\"font\":{\"family\":\"Arial, sans-serif\"},\"showlegend\":false,\"hovermode\":\"closest\",\"plot_bgcolor\":\"rgba(248, 249, 250, 0.9)\",\"paper_bgcolor\":\"white\",\"annotations\":[{\"font\":{\"color\":\"#34495e\",\"size\":18},\"showarrow\":false,\"text\":\"\\u003cb\\u003e\\ud83d\\udd2c \\u5706\\u5f62: \\u7814\\u7a76\\u9886\\u57df\\u003c\\u002fb\\u003e | \\u003cb\\u003e\\ud83c\\udfdb\\ufe0f \\u83f1\\u5f62: \\u4f18\\u52bf\\u5355\\u4f4d\\u003c\\u002fb\\u003e | \\u003cb\\u003e\\u8282\\u70b9\\u5927\\u5c0f: \\u7814\\u7a76\\u4eba\\u5458\\u6570\\u91cf\\u003c\\u002fb\\u003e\",\"x\":0.5,\"xanchor\":\"center\",\"xref\":\"paper\",\"y\":-0.08,\"yref\":\"paper\"}],\"updatemenus\":[{\"buttons\":[{\"args\":[{\"visible\":[true,true]}],\"label\":\"\\u663e\\u793a\\u6240\\u6709\",\"method\":\"restyle\"},{\"args\":[{\"visible\":[true,false]}],\"label\":\"\\u4ec5\\u663e\\u793a\\u8fb9\\u7ebf\",\"method\":\"restyle\"},{\"args\":[{\"visible\":[false,true]}],\"label\":\"\\u4ec5\\u663e\\u793a\\u8282\\u70b9\",\"method\":\"restyle\"}],\"direction\":\"left\",\"pad\":{\"r\":15,\"t\":15},\"showactive\":true,\"type\":\"buttons\",\"x\":0.01,\"xanchor\":\"left\",\"y\":1.02,\"yanchor\":\"top\"}],\"width\":1200,\"height\":800},                        {\"responsive\": true}                    ).then(function(){\n",
       "                            \n",
       "var gd = document.getElementById('3f511bd7-6578-45f4-90cb-c49caba16fb9');\n",
       "var x = new MutationObserver(function (mutations, observer) {{\n",
       "        var display = window.getComputedStyle(gd).display;\n",
       "        if (!display || display === 'none') {{\n",
       "            console.log([gd, 'removed!']);\n",
       "            Plotly.purge(gd);\n",
       "            observer.disconnect();\n",
       "        }}\n",
       "}});\n",
       "\n",
       "// Listen for the removal of the full notebook cells\n",
       "var notebookContainer = gd.closest('#notebook-container');\n",
       "if (notebookContainer) {{\n",
       "    x.observe(notebookContainer, {childList: true});\n",
       "}}\n",
       "\n",
       "// Listen for the clearing of the current output cell\n",
       "var outputEl = gd.closest('.output');\n",
       "if (outputEl) {{\n",
       "    x.observe(outputEl, {childList: true});\n",
       "}}\n",
       "\n",
       "                        })                };                });            </script>        </div>"
      ]
     },
     "metadata": {},
     "output_type": "display_data"
    },
    {
     "name": "stdout",
     "output_type": "stream",
     "text": [
      "🌟 完善版网络图完成！\n",
      "📊 主要特点：\n",
      "   • 强调团队成员特色突出\n",
      "   • 研究方向交叉融合\n",
      "   • 来自6个单位的23名研究人员\n",
      "   • 涵盖10个研究领域\n",
      "   • 节点大小反映研究人员数量\n",
      "   • 大尺寸便于调整和展示\n",
      "   • 专业科学配色方案\n",
      "   • 高级交互式功能\n"
     ]
    }
   ],
   "source": [
    "# 🌟 完善版本 - 强调团队成员特色突出、研究方向交叉融合\n",
    "import plotly.graph_objects as go\n",
    "import pandas as pd\n",
    "import networkx as nx\n",
    "import numpy as np\n",
    "from plotly.colors import qualitative\n",
    "\n",
    "# 1. 构建完整数据 - 包含23名研究人员信息\n",
    "all_nodes = [\n",
    "    # 研究领域 (节点ID, 节点名称, 节点类型, 研究人员数量)\n",
    "    (0, \"花粉管生物学\", \"field\", 3),\n",
    "    (1, \"囊泡运输\", \"field\", 4),\n",
    "    (2, \"细菌分泌\", \"field\", 5),\n",
    "    (3, \"大豆生物学\", \"field\", 3),\n",
    "    (4, \"浮萍生物学\", \"field\", 2),\n",
    "    (5, \"AI与算法\", \"field\", 3),\n",
    "    (6, \"结构生物学\", \"field\", 3),\n",
    "    (7, \"基因组编辑\", \"field\", 2),\n",
    "    (8, \"人工囊泡\", \"field\", 2),\n",
    "    (9, \"高通量平台\", \"field\", 4),\n",
    "    # 优势单位 (节点ID, 节点名称, 节点类型, 研究人员数量)\n",
    "    (10, \"南开大学\", \"institution\", 6),\n",
    "    (11, \"先进院\", \"institution\", 8),\n",
    "    (12, \"华南师大\", \"institution\", 4),\n",
    "    (13, \"湖北大学\", \"institution\", 3),\n",
    "    (14, \"天工所\", \"institution\", 4),\n",
    "    (15, \"深理工\", \"institution\", 2),\n",
    "]\n",
    "\n",
    "# 定义连接（边）：(来源, 目标) 对应节点ID\n",
    "links = [\n",
    "    # 花粉管生物学 (0) 与 南开大学(10)、先进院(11) 合作\n",
    "    (0, 10), (0, 11),\n",
    "    # 囊泡运输 (1) 与 华南师大(12)、南开大学(10) 合作\n",
    "    (1, 12), (1, 10),\n",
    "    # 细菌分泌 (2) 与 湖北大学(13)、天工所(14)、先进院(11) 合作\n",
    "    (2, 13), (2, 14), (2, 11),\n",
    "    # 大豆生物学 (3) 与 先进院(11)、华南师大(12) 合作\n",
    "    (3, 11), (3, 12),\n",
    "    # 浮萍生物学 (4) 与 南开大学(10)、深理工(15) 合作\n",
    "    (4, 10), (4, 15),\n",
    "    # AI与算法 (5) 与 天工所(14)、先进院(11) 合作\n",
    "    (5, 14), (5, 11),\n",
    "    # 结构生物学 (6) 与 南开大学(10)、湖北大学(13) 合作\n",
    "    (6, 10), (6, 13),\n",
    "    # 基因组编辑 (7) 与 深理工(15)、华南师大(12) 合作\n",
    "    (7, 15), (7, 12),\n",
    "    # 人工囊泡 (8) 与 先进院(11) 合作\n",
    "    (8, 11),\n",
    "    # 高通量平台 (9) 与 湖北大学(13)、天工所(14)、先进院(11) 合作\n",
    "    (9, 13), (9, 14), (9, 11)\n",
    "]\n",
    "\n",
    "# 2. 转换为Plotly可用的格式\n",
    "node_df = pd.DataFrame(all_nodes, columns=['id', 'label', 'type', 'researchers'])\n",
    "edge_df = pd.DataFrame(links, columns=['source', 'target'])\n",
    "\n",
    "# 3. 创建NetworkX图并计算布局\n",
    "G = nx.Graph()\n",
    "G.add_nodes_from(node_df['id'])\n",
    "G.add_edges_from(links)\n",
    "\n",
    "# 使用多种布局算法尝试，选择最佳效果\n",
    "layouts = {\n",
    "    'spring': nx.spring_layout(G, k=4, iterations=150, seed=42),\n",
    "    'circular': nx.circular_layout(G),\n",
    "    'kamada_kawai': nx.kamada_kawai_layout(G),\n",
    "    'spectral': nx.spectral_layout(G)\n",
    "}\n",
    "\n",
    "# 选择spring布局作为主要布局\n",
    "pos = layouts['spring']\n",
    "\n",
    "# 4. 专业配色方案 - 强调交叉融合\n",
    "# 研究领域使用科学蓝色系渐变\n",
    "field_colors = [\n",
    "    '#1f77b4', '#aec7e8', '#ff7f0e', '#ffbb78', '#2ca02c',\n",
    "    '#98df8a', '#d62728', '#ff9896', '#9467bd', '#c5b0d5'\n",
    "]\n",
    "\n",
    "# 机构使用暖色系渐变\n",
    "institution_colors = [\n",
    "    '#ff6b6b', '#ffa726', '#66bb6a', '#42a5f5', '#ab47bc', '#ef5350'\n",
    "]\n",
    "\n",
    "# 为节点分配颜色和大小（基于研究人员数量）\n",
    "node_colors = []\n",
    "node_symbols = []\n",
    "node_sizes = []\n",
    "node_opacities = []\n",
    "\n",
    "for i, (_, row) in enumerate(node_df.iterrows()):\n",
    "    node_type = row['type']\n",
    "    researchers = row['researchers']\n",
    "    \n",
    "    if node_type == 'field':\n",
    "        node_colors.append(field_colors[i % len(field_colors)])\n",
    "        node_symbols.append('circle')\n",
    "        # 基于研究人员数量调整节点大小\n",
    "        node_sizes.append(30 + researchers * 3)\n",
    "        node_opacities.append(0.85)\n",
    "    else:\n",
    "        node_colors.append(institution_colors[i % len(institution_colors)])\n",
    "        node_symbols.append('diamond')\n",
    "        # 基于研究人员数量调整节点大小\n",
    "        node_sizes.append(35 + researchers * 2)\n",
    "        node_opacities.append(0.9)\n",
    "\n",
    "# 5. 创建完善的网络图\n",
    "fig = go.Figure()\n",
    "\n",
    "# 添加边线 - 强调交叉融合\n",
    "for i, (_, row) in enumerate(edge_df.iterrows()):\n",
    "    source = row['source']\n",
    "    target = row['target']\n",
    "    \n",
    "    # 计算边的透明度（基于连接强度）\n",
    "    edge_alpha = 0.8\n",
    "    \n",
    "    fig.add_trace(go.Scatter(\n",
    "        x=[pos[source][0], pos[target][0]],\n",
    "        y=[pos[source][1], pos[target][1]],\n",
    "        mode='lines',\n",
    "        line=dict(\n",
    "            width=4,\n",
    "            color=f'rgba(100, 100, 100, {edge_alpha})',\n",
    "            dash='solid'\n",
    "        ),\n",
    "        hoverinfo='none',\n",
    "        showlegend=False\n",
    "    ))\n",
    "\n",
    "# 添加节点 - 强调团队成员特色\n",
    "fig.add_trace(go.Scatter(\n",
    "    x=[pos[node_id][0] for node_id in node_df['id']],\n",
    "    y=[pos[node_id][1] for node_id in node_df['id']],\n",
    "    mode='markers+text',\n",
    "    marker=dict(\n",
    "        color=node_colors,\n",
    "        size=node_sizes,\n",
    "        symbol=node_symbols,\n",
    "        line=dict(\n",
    "            width=4,\n",
    "            color='white'\n",
    "        ),\n",
    "        opacity=node_opacities\n",
    "    ),\n",
    "    text=node_df['label'],\n",
    "    textposition=\"middle center\",\n",
    "    hoverinfo='text',\n",
    "    textfont=dict(\n",
    "        size=14,\n",
    "        color='white',\n",
    "        family=\"Arial, sans-serif\"\n",
    "    ),\n",
    "    showlegend=False\n",
    "))\n",
    "\n",
    "# 6. 优化布局和样式 - 大尺寸\n",
    "fig.update_layout(\n",
    "    title=dict(\n",
    "        text='<b>🔬 研究团队优势领域交叉融合网络</b><br><sub>来自6个单位的23名研究人员，涵盖10个研究领域</sub>',\n",
    "        x=0.5,\n",
    "        xanchor='center',\n",
    "        font=dict(size=32, color='#2c3e50', family=\"Arial, sans-serif\")\n",
    "    ),\n",
    "    showlegend=False,\n",
    "    hovermode='closest',\n",
    "    margin=dict(b=100, l=50, r=50, t=120),\n",
    "    xaxis=dict(\n",
    "        showgrid=False,\n",
    "        zeroline=False,\n",
    "        showticklabels=False,\n",
    "        scaleanchor=\"y\",\n",
    "        scaleratio=1\n",
    "    ),\n",
    "    yaxis=dict(\n",
    "        showgrid=False,\n",
    "        zeroline=False,\n",
    "        showticklabels=False\n",
    "    ),\n",
    "    plot_bgcolor='rgba(248, 249, 250, 0.9)',\n",
    "    paper_bgcolor='white',\n",
    "    font=dict(family=\"Arial, sans-serif\"),\n",
    "    annotations=[\n",
    "        dict(\n",
    "            showarrow=False,\n",
    "            text=\"<b>🔬 圆形: 研究领域</b> | <b>🏛️ 菱形: 优势单位</b> | <b>节点大小: 研究人员数量</b>\",\n",
    "            xref=\"paper\", yref=\"paper\",\n",
    "            x=0.5, y=-0.08,\n",
    "            xanchor='center',\n",
    "            font=dict(size=18, color='#34495e')\n",
    "        )\n",
    "    ]\n",
    ")\n",
    "\n",
    "# 7. 添加高级交互式功能\n",
    "fig.update_traces(\n",
    "    hovertemplate=\"<b>%{text}</b><br>\" +\n",
    "                  \"节点类型: %{customdata[0]}<br>\" +\n",
    "                  \"研究人员数量: %{customdata[1]}<br>\" +\n",
    "                  \"<extra></extra>\",\n",
    "    customdata=[[node_df.loc[node_df['id'] == node_id, 'type'].iloc[0],\n",
    "                 node_df.loc[node_df['id'] == node_id, 'researchers'].iloc[0]]\n",
    "                for node_id in node_df['id']]\n",
    ")\n",
    "\n",
    "# 8. 添加动画效果\n",
    "fig.update_layout(\n",
    "    updatemenus=[\n",
    "        dict(\n",
    "            type=\"buttons\",\n",
    "            direction=\"left\",\n",
    "            buttons=list([\n",
    "                dict(\n",
    "                    args=[{\"visible\": [True, True]}],\n",
    "                    label=\"显示所有\",\n",
    "                    method=\"restyle\"\n",
    "                ),\n",
    "                dict(\n",
    "                    args=[{\"visible\": [True, False]}],\n",
    "                    label=\"仅显示边线\",\n",
    "                    method=\"restyle\"\n",
    "                ),\n",
    "                dict(\n",
    "                    args=[{\"visible\": [False, True]}],\n",
    "                    label=\"仅显示节点\",\n",
    "                    method=\"restyle\"\n",
    "                )\n",
    "            ]),\n",
    "            pad={\"r\": 15, \"t\": 15},\n",
    "            showactive=True,\n",
    "            x=0.01,\n",
    "            xanchor=\"left\",\n",
    "            y=1.02,\n",
    "            yanchor=\"top\"\n",
    "        ),\n",
    "    ]\n",
    ")\n",
    "\n",
    "# 9. 设置大尺寸\n",
    "fig.update_layout(\n",
    "    width=1200,  # 增加宽度\n",
    "    height=800   # 增加高度\n",
    ")\n",
    "\n",
    "# 10. 显示图表\n",
    "fig.show()\n",
    "\n",
    "# 11. 保存为HTML交互式文件\n",
    "fig.write_html(\"research_network_complete.html\")\n",
    "\n",
    "print(\"🌟 完善版网络图完成！\")\n",
    "print(\"📊 主要特点：\")\n",
    "print(\"   • 强调团队成员特色突出\")\n",
    "print(\"   • 研究方向交叉融合\")\n",
    "print(\"   • 来自6个单位的23名研究人员\")\n",
    "print(\"   • 涵盖10个研究领域\")\n",
    "print(\"   • 节点大小反映研究人员数量\")\n",
    "print(\"   • 大尺寸便于调整和展示\")\n",
    "print(\"   • 专业科学配色方案\")\n",
    "print(\"   • 高级交互式功能\")\n"
   ]
  },
  {
   "cell_type": "code",
   "execution_count": 13,
   "id": "20189426",
   "metadata": {},
   "outputs": [
    {
     "data": {
      "application/vnd.plotly.v1+json": {
       "config": {
        "plotlyServerURL": "https://plot.ly"
       },
       "data": [
        {
         "customdata": [
          [
           "field",
           3,
           "南开大学、先进院"
          ],
          [
           "field",
           4,
           "华南师大、南开大学"
          ],
          [
           "field",
           5,
           "湖北大学、天工所、先进院"
          ],
          [
           "field",
           3,
           "先进院、华南师大"
          ],
          [
           "field",
           2,
           "南开大学、深理工"
          ],
          [
           "field",
           3,
           "天工所、先进院"
          ],
          [
           "field",
           3,
           "南开大学、湖北大学"
          ],
          [
           "field",
           2,
           "深理工、华南师大"
          ],
          [
           "field",
           2,
           "先进院"
          ],
          [
           "field",
           4,
           "湖北大学、天工所、先进院"
          ],
          [
           "institution",
           6,
           "花粉管、囊泡运输、浮萍生物学、结构生物学"
          ],
          [
           "institution",
           8,
           "花粉管、细菌分泌、大豆生物学、AI与算法、人工囊泡、高通量平台"
          ],
          [
           "institution",
           4,
           "囊泡运输、大豆生物学、基因组编辑"
          ],
          [
           "institution",
           3,
           "细菌分泌、结构生物学、高通量平台"
          ],
          [
           "institution",
           4,
           "细菌分泌、AI与算法、高通量平台"
          ],
          [
           "institution",
           2,
           "浮萍生物学、基因组编辑"
          ]
         ],
         "hoverinfo": "none",
         "hovertemplate": "<b>%{text}</b><br>节点类型: %{customdata[0]}<br>研究人员数量: %{customdata[1]}<br>详细描述: %{customdata[2]}<br><extra></extra>",
         "line": {
          "color": "rgba(100, 100, 100, 0.8)",
          "dash": "solid",
          "width": 5
         },
         "mode": "lines",
         "showlegend": false,
         "type": "scatter",
         "x": [
          -0.09010581760628611,
          0.6080051747933145
         ],
         "y": [
          0.40115852431046695,
          -0.031040202142359054
         ]
        },
        {
         "customdata": [
          [
           "field",
           3,
           "南开大学、先进院"
          ],
          [
           "field",
           4,
           "华南师大、南开大学"
          ],
          [
           "field",
           5,
           "湖北大学、天工所、先进院"
          ],
          [
           "field",
           3,
           "先进院、华南师大"
          ],
          [
           "field",
           2,
           "南开大学、深理工"
          ],
          [
           "field",
           3,
           "天工所、先进院"
          ],
          [
           "field",
           3,
           "南开大学、湖北大学"
          ],
          [
           "field",
           2,
           "深理工、华南师大"
          ],
          [
           "field",
           2,
           "先进院"
          ],
          [
           "field",
           4,
           "湖北大学、天工所、先进院"
          ],
          [
           "institution",
           6,
           "花粉管、囊泡运输、浮萍生物学、结构生物学"
          ],
          [
           "institution",
           8,
           "花粉管、细菌分泌、大豆生物学、AI与算法、人工囊泡、高通量平台"
          ],
          [
           "institution",
           4,
           "囊泡运输、大豆生物学、基因组编辑"
          ],
          [
           "institution",
           3,
           "细菌分泌、结构生物学、高通量平台"
          ],
          [
           "institution",
           4,
           "细菌分泌、AI与算法、高通量平台"
          ],
          [
           "institution",
           2,
           "浮萍生物学、基因组编辑"
          ]
         ],
         "hoverinfo": "none",
         "hovertemplate": "<b>%{text}</b><br>节点类型: %{customdata[0]}<br>研究人员数量: %{customdata[1]}<br>详细描述: %{customdata[2]}<br><extra></extra>",
         "line": {
          "color": "rgba(100, 100, 100, 0.8)",
          "dash": "solid",
          "width": 5
         },
         "mode": "lines",
         "showlegend": false,
         "type": "scatter",
         "x": [
          -0.09010581760628611,
          -0.8315171265041406
         ],
         "y": [
          0.40115852431046695,
          0.016673417910385093
         ]
        },
        {
         "customdata": [
          [
           "field",
           3,
           "南开大学、先进院"
          ],
          [
           "field",
           4,
           "华南师大、南开大学"
          ],
          [
           "field",
           5,
           "湖北大学、天工所、先进院"
          ],
          [
           "field",
           3,
           "先进院、华南师大"
          ],
          [
           "field",
           2,
           "南开大学、深理工"
          ],
          [
           "field",
           3,
           "天工所、先进院"
          ],
          [
           "field",
           3,
           "南开大学、湖北大学"
          ],
          [
           "field",
           2,
           "深理工、华南师大"
          ],
          [
           "field",
           2,
           "先进院"
          ],
          [
           "field",
           4,
           "湖北大学、天工所、先进院"
          ],
          [
           "institution",
           6,
           "花粉管、囊泡运输、浮萍生物学、结构生物学"
          ],
          [
           "institution",
           8,
           "花粉管、细菌分泌、大豆生物学、AI与算法、人工囊泡、高通量平台"
          ],
          [
           "institution",
           4,
           "囊泡运输、大豆生物学、基因组编辑"
          ],
          [
           "institution",
           3,
           "细菌分泌、结构生物学、高通量平台"
          ],
          [
           "institution",
           4,
           "细菌分泌、AI与算法、高通量平台"
          ],
          [
           "institution",
           2,
           "浮萍生物学、基因组编辑"
          ]
         ],
         "hoverinfo": "none",
         "hovertemplate": "<b>%{text}</b><br>节点类型: %{customdata[0]}<br>研究人员数量: %{customdata[1]}<br>详细描述: %{customdata[2]}<br><extra></extra>",
         "line": {
          "color": "rgba(100, 100, 100, 0.8)",
          "dash": "solid",
          "width": 5
         },
         "mode": "lines",
         "showlegend": false,
         "type": "scatter",
         "x": [
          0.956083273665481,
          0.17538813757967128
         ],
         "y": [
          0.3567012635971452,
          0.758786484533266
         ]
        },
        {
         "customdata": [
          [
           "field",
           3,
           "南开大学、先进院"
          ],
          [
           "field",
           4,
           "华南师大、南开大学"
          ],
          [
           "field",
           5,
           "湖北大学、天工所、先进院"
          ],
          [
           "field",
           3,
           "先进院、华南师大"
          ],
          [
           "field",
           2,
           "南开大学、深理工"
          ],
          [
           "field",
           3,
           "天工所、先进院"
          ],
          [
           "field",
           3,
           "南开大学、湖北大学"
          ],
          [
           "field",
           2,
           "深理工、华南师大"
          ],
          [
           "field",
           2,
           "先进院"
          ],
          [
           "field",
           4,
           "湖北大学、天工所、先进院"
          ],
          [
           "institution",
           6,
           "花粉管、囊泡运输、浮萍生物学、结构生物学"
          ],
          [
           "institution",
           8,
           "花粉管、细菌分泌、大豆生物学、AI与算法、人工囊泡、高通量平台"
          ],
          [
           "institution",
           4,
           "囊泡运输、大豆生物学、基因组编辑"
          ],
          [
           "institution",
           3,
           "细菌分泌、结构生物学、高通量平台"
          ],
          [
           "institution",
           4,
           "细菌分泌、AI与算法、高通量平台"
          ],
          [
           "institution",
           2,
           "浮萍生物学、基因组编辑"
          ]
         ],
         "hoverinfo": "none",
         "hovertemplate": "<b>%{text}</b><br>节点类型: %{customdata[0]}<br>研究人员数量: %{customdata[1]}<br>详细描述: %{customdata[2]}<br><extra></extra>",
         "line": {
          "color": "rgba(100, 100, 100, 0.8)",
          "dash": "solid",
          "width": 5
         },
         "mode": "lines",
         "showlegend": false,
         "type": "scatter",
         "x": [
          0.956083273665481,
          0.6080051747933145
         ],
         "y": [
          0.3567012635971452,
          -0.031040202142359054
         ]
        },
        {
         "customdata": [
          [
           "field",
           3,
           "南开大学、先进院"
          ],
          [
           "field",
           4,
           "华南师大、南开大学"
          ],
          [
           "field",
           5,
           "湖北大学、天工所、先进院"
          ],
          [
           "field",
           3,
           "先进院、华南师大"
          ],
          [
           "field",
           2,
           "南开大学、深理工"
          ],
          [
           "field",
           3,
           "天工所、先进院"
          ],
          [
           "field",
           3,
           "南开大学、湖北大学"
          ],
          [
           "field",
           2,
           "深理工、华南师大"
          ],
          [
           "field",
           2,
           "先进院"
          ],
          [
           "field",
           4,
           "湖北大学、天工所、先进院"
          ],
          [
           "institution",
           6,
           "花粉管、囊泡运输、浮萍生物学、结构生物学"
          ],
          [
           "institution",
           8,
           "花粉管、细菌分泌、大豆生物学、AI与算法、人工囊泡、高通量平台"
          ],
          [
           "institution",
           4,
           "囊泡运输、大豆生物学、基因组编辑"
          ],
          [
           "institution",
           3,
           "细菌分泌、结构生物学、高通量平台"
          ],
          [
           "institution",
           4,
           "细菌分泌、AI与算法、高通量平台"
          ],
          [
           "institution",
           2,
           "浮萍生物学、基因组编辑"
          ]
         ],
         "hoverinfo": "none",
         "hovertemplate": "<b>%{text}</b><br>节点类型: %{customdata[0]}<br>研究人员数量: %{customdata[1]}<br>详细描述: %{customdata[2]}<br><extra></extra>",
         "line": {
          "color": "rgba(100, 100, 100, 0.8)",
          "dash": "solid",
          "width": 5
         },
         "mode": "lines",
         "showlegend": false,
         "type": "scatter",
         "x": [
          -0.638085032107676,
          -0.37929155971635503
         ],
         "y": [
          -0.6934055888063951,
          -0.310644015934855
         ]
        },
        {
         "customdata": [
          [
           "field",
           3,
           "南开大学、先进院"
          ],
          [
           "field",
           4,
           "华南师大、南开大学"
          ],
          [
           "field",
           5,
           "湖北大学、天工所、先进院"
          ],
          [
           "field",
           3,
           "先进院、华南师大"
          ],
          [
           "field",
           2,
           "南开大学、深理工"
          ],
          [
           "field",
           3,
           "天工所、先进院"
          ],
          [
           "field",
           3,
           "南开大学、湖北大学"
          ],
          [
           "field",
           2,
           "深理工、华南师大"
          ],
          [
           "field",
           2,
           "先进院"
          ],
          [
           "field",
           4,
           "湖北大学、天工所、先进院"
          ],
          [
           "institution",
           6,
           "花粉管、囊泡运输、浮萍生物学、结构生物学"
          ],
          [
           "institution",
           8,
           "花粉管、细菌分泌、大豆生物学、AI与算法、人工囊泡、高通量平台"
          ],
          [
           "institution",
           4,
           "囊泡运输、大豆生物学、基因组编辑"
          ],
          [
           "institution",
           3,
           "细菌分泌、结构生物学、高通量平台"
          ],
          [
           "institution",
           4,
           "细菌分泌、AI与算法、高通量平台"
          ],
          [
           "institution",
           2,
           "浮萍生物学、基因组编辑"
          ]
         ],
         "hoverinfo": "none",
         "hovertemplate": "<b>%{text}</b><br>节点类型: %{customdata[0]}<br>研究人员数量: %{customdata[1]}<br>详细描述: %{customdata[2]}<br><extra></extra>",
         "line": {
          "color": "rgba(100, 100, 100, 0.8)",
          "dash": "solid",
          "width": 5
         },
         "mode": "lines",
         "showlegend": false,
         "type": "scatter",
         "x": [
          -0.638085032107676,
          -0.11767515609905263
         ],
         "y": [
          -0.6934055888063951,
          -0.8874555677955147
         ]
        },
        {
         "customdata": [
          [
           "field",
           3,
           "南开大学、先进院"
          ],
          [
           "field",
           4,
           "华南师大、南开大学"
          ],
          [
           "field",
           5,
           "湖北大学、天工所、先进院"
          ],
          [
           "field",
           3,
           "先进院、华南师大"
          ],
          [
           "field",
           2,
           "南开大学、深理工"
          ],
          [
           "field",
           3,
           "天工所、先进院"
          ],
          [
           "field",
           3,
           "南开大学、湖北大学"
          ],
          [
           "field",
           2,
           "深理工、华南师大"
          ],
          [
           "field",
           2,
           "先进院"
          ],
          [
           "field",
           4,
           "湖北大学、天工所、先进院"
          ],
          [
           "institution",
           6,
           "花粉管、囊泡运输、浮萍生物学、结构生物学"
          ],
          [
           "institution",
           8,
           "花粉管、细菌分泌、大豆生物学、AI与算法、人工囊泡、高通量平台"
          ],
          [
           "institution",
           4,
           "囊泡运输、大豆生物学、基因组编辑"
          ],
          [
           "institution",
           3,
           "细菌分泌、结构生物学、高通量平台"
          ],
          [
           "institution",
           4,
           "细菌分泌、AI与算法、高通量平台"
          ],
          [
           "institution",
           2,
           "浮萍生物学、基因组编辑"
          ]
         ],
         "hoverinfo": "none",
         "hovertemplate": "<b>%{text}</b><br>节点类型: %{customdata[0]}<br>研究人员数量: %{customdata[1]}<br>详细描述: %{customdata[2]}<br><extra></extra>",
         "line": {
          "color": "rgba(100, 100, 100, 0.8)",
          "dash": "solid",
          "width": 5
         },
         "mode": "lines",
         "showlegend": false,
         "type": "scatter",
         "x": [
          -0.638085032107676,
          -0.8315171265041406
         ],
         "y": [
          -0.6934055888063951,
          0.016673417910385093
         ]
        },
        {
         "customdata": [
          [
           "field",
           3,
           "南开大学、先进院"
          ],
          [
           "field",
           4,
           "华南师大、南开大学"
          ],
          [
           "field",
           5,
           "湖北大学、天工所、先进院"
          ],
          [
           "field",
           3,
           "先进院、华南师大"
          ],
          [
           "field",
           2,
           "南开大学、深理工"
          ],
          [
           "field",
           3,
           "天工所、先进院"
          ],
          [
           "field",
           3,
           "南开大学、湖北大学"
          ],
          [
           "field",
           2,
           "深理工、华南师大"
          ],
          [
           "field",
           2,
           "先进院"
          ],
          [
           "field",
           4,
           "湖北大学、天工所、先进院"
          ],
          [
           "institution",
           6,
           "花粉管、囊泡运输、浮萍生物学、结构生物学"
          ],
          [
           "institution",
           8,
           "花粉管、细菌分泌、大豆生物学、AI与算法、人工囊泡、高通量平台"
          ],
          [
           "institution",
           4,
           "囊泡运输、大豆生物学、基因组编辑"
          ],
          [
           "institution",
           3,
           "细菌分泌、结构生物学、高通量平台"
          ],
          [
           "institution",
           4,
           "细菌分泌、AI与算法、高通量平台"
          ],
          [
           "institution",
           2,
           "浮萍生物学、基因组编辑"
          ]
         ],
         "hoverinfo": "none",
         "hovertemplate": "<b>%{text}</b><br>节点类型: %{customdata[0]}<br>研究人员数量: %{customdata[1]}<br>详细描述: %{customdata[2]}<br><extra></extra>",
         "line": {
          "color": "rgba(100, 100, 100, 0.8)",
          "dash": "solid",
          "width": 5
         },
         "mode": "lines",
         "showlegend": false,
         "type": "scatter",
         "x": [
          -0.7860180160957474,
          -0.8315171265041406
         ],
         "y": [
          0.5651093771783389,
          0.016673417910385093
         ]
        },
        {
         "customdata": [
          [
           "field",
           3,
           "南开大学、先进院"
          ],
          [
           "field",
           4,
           "华南师大、南开大学"
          ],
          [
           "field",
           5,
           "湖北大学、天工所、先进院"
          ],
          [
           "field",
           3,
           "先进院、华南师大"
          ],
          [
           "field",
           2,
           "南开大学、深理工"
          ],
          [
           "field",
           3,
           "天工所、先进院"
          ],
          [
           "field",
           3,
           "南开大学、湖北大学"
          ],
          [
           "field",
           2,
           "深理工、华南师大"
          ],
          [
           "field",
           2,
           "先进院"
          ],
          [
           "field",
           4,
           "湖北大学、天工所、先进院"
          ],
          [
           "institution",
           6,
           "花粉管、囊泡运输、浮萍生物学、结构生物学"
          ],
          [
           "institution",
           8,
           "花粉管、细菌分泌、大豆生物学、AI与算法、人工囊泡、高通量平台"
          ],
          [
           "institution",
           4,
           "囊泡运输、大豆生物学、基因组编辑"
          ],
          [
           "institution",
           3,
           "细菌分泌、结构生物学、高通量平台"
          ],
          [
           "institution",
           4,
           "细菌分泌、AI与算法、高通量平台"
          ],
          [
           "institution",
           2,
           "浮萍生物学、基因组编辑"
          ]
         ],
         "hoverinfo": "none",
         "hovertemplate": "<b>%{text}</b><br>节点类型: %{customdata[0]}<br>研究人员数量: %{customdata[1]}<br>详细描述: %{customdata[2]}<br><extra></extra>",
         "line": {
          "color": "rgba(100, 100, 100, 0.8)",
          "dash": "solid",
          "width": 5
         },
         "mode": "lines",
         "showlegend": false,
         "type": "scatter",
         "x": [
          -0.7860180160957474,
          0.17538813757967128
         ],
         "y": [
          0.5651093771783389,
          0.758786484533266
         ]
        },
        {
         "customdata": [
          [
           "field",
           3,
           "南开大学、先进院"
          ],
          [
           "field",
           4,
           "华南师大、南开大学"
          ],
          [
           "field",
           5,
           "湖北大学、天工所、先进院"
          ],
          [
           "field",
           3,
           "先进院、华南师大"
          ],
          [
           "field",
           2,
           "南开大学、深理工"
          ],
          [
           "field",
           3,
           "天工所、先进院"
          ],
          [
           "field",
           3,
           "南开大学、湖北大学"
          ],
          [
           "field",
           2,
           "深理工、华南师大"
          ],
          [
           "field",
           2,
           "先进院"
          ],
          [
           "field",
           4,
           "湖北大学、天工所、先进院"
          ],
          [
           "institution",
           6,
           "花粉管、囊泡运输、浮萍生物学、结构生物学"
          ],
          [
           "institution",
           8,
           "花粉管、细菌分泌、大豆生物学、AI与算法、人工囊泡、高通量平台"
          ],
          [
           "institution",
           4,
           "囊泡运输、大豆生物学、基因组编辑"
          ],
          [
           "institution",
           3,
           "细菌分泌、结构生物学、高通量平台"
          ],
          [
           "institution",
           4,
           "细菌分泌、AI与算法、高通量平台"
          ],
          [
           "institution",
           2,
           "浮萍生物学、基因组编辑"
          ]
         ],
         "hoverinfo": "none",
         "hovertemplate": "<b>%{text}</b><br>节点类型: %{customdata[0]}<br>研究人员数量: %{customdata[1]}<br>详细描述: %{customdata[2]}<br><extra></extra>",
         "line": {
          "color": "rgba(100, 100, 100, 0.8)",
          "dash": "solid",
          "width": 5
         },
         "mode": "lines",
         "showlegend": false,
         "type": "scatter",
         "x": [
          0.847028929845476,
          0.6080051747933145
         ],
         "y": [
          0.5663048103273499,
          -0.031040202142359054
         ]
        },
        {
         "customdata": [
          [
           "field",
           3,
           "南开大学、先进院"
          ],
          [
           "field",
           4,
           "华南师大、南开大学"
          ],
          [
           "field",
           5,
           "湖北大学、天工所、先进院"
          ],
          [
           "field",
           3,
           "先进院、华南师大"
          ],
          [
           "field",
           2,
           "南开大学、深理工"
          ],
          [
           "field",
           3,
           "天工所、先进院"
          ],
          [
           "field",
           3,
           "南开大学、湖北大学"
          ],
          [
           "field",
           2,
           "深理工、华南师大"
          ],
          [
           "field",
           2,
           "先进院"
          ],
          [
           "field",
           4,
           "湖北大学、天工所、先进院"
          ],
          [
           "institution",
           6,
           "花粉管、囊泡运输、浮萍生物学、结构生物学"
          ],
          [
           "institution",
           8,
           "花粉管、细菌分泌、大豆生物学、AI与算法、人工囊泡、高通量平台"
          ],
          [
           "institution",
           4,
           "囊泡运输、大豆生物学、基因组编辑"
          ],
          [
           "institution",
           3,
           "细菌分泌、结构生物学、高通量平台"
          ],
          [
           "institution",
           4,
           "细菌分泌、AI与算法、高通量平台"
          ],
          [
           "institution",
           2,
           "浮萍生物学、基因组编辑"
          ]
         ],
         "hoverinfo": "none",
         "hovertemplate": "<b>%{text}</b><br>节点类型: %{customdata[0]}<br>研究人员数量: %{customdata[1]}<br>详细描述: %{customdata[2]}<br><extra></extra>",
         "line": {
          "color": "rgba(100, 100, 100, 0.8)",
          "dash": "solid",
          "width": 5
         },
         "mode": "lines",
         "showlegend": false,
         "type": "scatter",
         "x": [
          0.847028929845476,
          1
         ],
         "y": [
          0.5663048103273499,
          -0.1149701141507968
         ]
        },
        {
         "customdata": [
          [
           "field",
           3,
           "南开大学、先进院"
          ],
          [
           "field",
           4,
           "华南师大、南开大学"
          ],
          [
           "field",
           5,
           "湖北大学、天工所、先进院"
          ],
          [
           "field",
           3,
           "先进院、华南师大"
          ],
          [
           "field",
           2,
           "南开大学、深理工"
          ],
          [
           "field",
           3,
           "天工所、先进院"
          ],
          [
           "field",
           3,
           "南开大学、湖北大学"
          ],
          [
           "field",
           2,
           "深理工、华南师大"
          ],
          [
           "field",
           2,
           "先进院"
          ],
          [
           "field",
           4,
           "湖北大学、天工所、先进院"
          ],
          [
           "institution",
           6,
           "花粉管、囊泡运输、浮萍生物学、结构生物学"
          ],
          [
           "institution",
           8,
           "花粉管、细菌分泌、大豆生物学、AI与算法、人工囊泡、高通量平台"
          ],
          [
           "institution",
           4,
           "囊泡运输、大豆生物学、基因组编辑"
          ],
          [
           "institution",
           3,
           "细菌分泌、结构生物学、高通量平台"
          ],
          [
           "institution",
           4,
           "细菌分泌、AI与算法、高通量平台"
          ],
          [
           "institution",
           2,
           "浮萍生物学、基因组编辑"
          ]
         ],
         "hoverinfo": "none",
         "hovertemplate": "<b>%{text}</b><br>节点类型: %{customdata[0]}<br>研究人员数量: %{customdata[1]}<br>详细描述: %{customdata[2]}<br><extra></extra>",
         "line": {
          "color": "rgba(100, 100, 100, 0.8)",
          "dash": "solid",
          "width": 5
         },
         "mode": "lines",
         "showlegend": false,
         "type": "scatter",
         "x": [
          -0.5211120799013925,
          -0.11767515609905263
         ],
         "y": [
          0.12666380199600855,
          -0.8874555677955147
         ]
        },
        {
         "customdata": [
          [
           "field",
           3,
           "南开大学、先进院"
          ],
          [
           "field",
           4,
           "华南师大、南开大学"
          ],
          [
           "field",
           5,
           "湖北大学、天工所、先进院"
          ],
          [
           "field",
           3,
           "先进院、华南师大"
          ],
          [
           "field",
           2,
           "南开大学、深理工"
          ],
          [
           "field",
           3,
           "天工所、先进院"
          ],
          [
           "field",
           3,
           "南开大学、湖北大学"
          ],
          [
           "field",
           2,
           "深理工、华南师大"
          ],
          [
           "field",
           2,
           "先进院"
          ],
          [
           "field",
           4,
           "湖北大学、天工所、先进院"
          ],
          [
           "institution",
           6,
           "花粉管、囊泡运输、浮萍生物学、结构生物学"
          ],
          [
           "institution",
           8,
           "花粉管、细菌分泌、大豆生物学、AI与算法、人工囊泡、高通量平台"
          ],
          [
           "institution",
           4,
           "囊泡运输、大豆生物学、基因组编辑"
          ],
          [
           "institution",
           3,
           "细菌分泌、结构生物学、高通量平台"
          ],
          [
           "institution",
           4,
           "细菌分泌、AI与算法、高通量平台"
          ],
          [
           "institution",
           2,
           "浮萍生物学、基因组编辑"
          ]
         ],
         "hoverinfo": "none",
         "hovertemplate": "<b>%{text}</b><br>节点类型: %{customdata[0]}<br>研究人员数量: %{customdata[1]}<br>详细描述: %{customdata[2]}<br><extra></extra>",
         "line": {
          "color": "rgba(100, 100, 100, 0.8)",
          "dash": "solid",
          "width": 5
         },
         "mode": "lines",
         "showlegend": false,
         "type": "scatter",
         "x": [
          -0.5211120799013925,
          -0.8315171265041406
         ],
         "y": [
          0.12666380199600855,
          0.016673417910385093
         ]
        },
        {
         "customdata": [
          [
           "field",
           3,
           "南开大学、先进院"
          ],
          [
           "field",
           4,
           "华南师大、南开大学"
          ],
          [
           "field",
           5,
           "湖北大学、天工所、先进院"
          ],
          [
           "field",
           3,
           "先进院、华南师大"
          ],
          [
           "field",
           2,
           "南开大学、深理工"
          ],
          [
           "field",
           3,
           "天工所、先进院"
          ],
          [
           "field",
           3,
           "南开大学、湖北大学"
          ],
          [
           "field",
           2,
           "深理工、华南师大"
          ],
          [
           "field",
           2,
           "先进院"
          ],
          [
           "field",
           4,
           "湖北大学、天工所、先进院"
          ],
          [
           "institution",
           6,
           "花粉管、囊泡运输、浮萍生物学、结构生物学"
          ],
          [
           "institution",
           8,
           "花粉管、细菌分泌、大豆生物学、AI与算法、人工囊泡、高通量平台"
          ],
          [
           "institution",
           4,
           "囊泡运输、大豆生物学、基因组编辑"
          ],
          [
           "institution",
           3,
           "细菌分泌、结构生物学、高通量平台"
          ],
          [
           "institution",
           4,
           "细菌分泌、AI与算法、高通量平台"
          ],
          [
           "institution",
           2,
           "浮萍生物学、基因组编辑"
          ]
         ],
         "hoverinfo": "none",
         "hovertemplate": "<b>%{text}</b><br>节点类型: %{customdata[0]}<br>研究人员数量: %{customdata[1]}<br>详细描述: %{customdata[2]}<br><extra></extra>",
         "line": {
          "color": "rgba(100, 100, 100, 0.8)",
          "dash": "solid",
          "width": 5
         },
         "mode": "lines",
         "showlegend": false,
         "type": "scatter",
         "x": [
          0.5836851030137952,
          0.6080051747933145
         ],
         "y": [
          -0.6495378043587096,
          -0.031040202142359054
         ]
        },
        {
         "customdata": [
          [
           "field",
           3,
           "南开大学、先进院"
          ],
          [
           "field",
           4,
           "华南师大、南开大学"
          ],
          [
           "field",
           5,
           "湖北大学、天工所、先进院"
          ],
          [
           "field",
           3,
           "先进院、华南师大"
          ],
          [
           "field",
           2,
           "南开大学、深理工"
          ],
          [
           "field",
           3,
           "天工所、先进院"
          ],
          [
           "field",
           3,
           "南开大学、湖北大学"
          ],
          [
           "field",
           2,
           "深理工、华南师大"
          ],
          [
           "field",
           2,
           "先进院"
          ],
          [
           "field",
           4,
           "湖北大学、天工所、先进院"
          ],
          [
           "institution",
           6,
           "花粉管、囊泡运输、浮萍生物学、结构生物学"
          ],
          [
           "institution",
           8,
           "花粉管、细菌分泌、大豆生物学、AI与算法、人工囊泡、高通量平台"
          ],
          [
           "institution",
           4,
           "囊泡运输、大豆生物学、基因组编辑"
          ],
          [
           "institution",
           3,
           "细菌分泌、结构生物学、高通量平台"
          ],
          [
           "institution",
           4,
           "细菌分泌、AI与算法、高通量平台"
          ],
          [
           "institution",
           2,
           "浮萍生物学、基因组编辑"
          ]
         ],
         "hoverinfo": "none",
         "hovertemplate": "<b>%{text}</b><br>节点类型: %{customdata[0]}<br>研究人员数量: %{customdata[1]}<br>详细描述: %{customdata[2]}<br><extra></extra>",
         "line": {
          "color": "rgba(100, 100, 100, 0.8)",
          "dash": "solid",
          "width": 5
         },
         "mode": "lines",
         "showlegend": false,
         "type": "scatter",
         "x": [
          0.5836851030137952,
          -0.37929155971635503
         ],
         "y": [
          -0.6495378043587096,
          -0.310644015934855
         ]
        },
        {
         "customdata": [
          [
           "field",
           3,
           "南开大学、先进院"
          ],
          [
           "field",
           4,
           "华南师大、南开大学"
          ],
          [
           "field",
           5,
           "湖北大学、天工所、先进院"
          ],
          [
           "field",
           3,
           "先进院、华南师大"
          ],
          [
           "field",
           2,
           "南开大学、深理工"
          ],
          [
           "field",
           3,
           "天工所、先进院"
          ],
          [
           "field",
           3,
           "南开大学、湖北大学"
          ],
          [
           "field",
           2,
           "深理工、华南师大"
          ],
          [
           "field",
           2,
           "先进院"
          ],
          [
           "field",
           4,
           "湖北大学、天工所、先进院"
          ],
          [
           "institution",
           6,
           "花粉管、囊泡运输、浮萍生物学、结构生物学"
          ],
          [
           "institution",
           8,
           "花粉管、细菌分泌、大豆生物学、AI与算法、人工囊泡、高通量平台"
          ],
          [
           "institution",
           4,
           "囊泡运输、大豆生物学、基因组编辑"
          ],
          [
           "institution",
           3,
           "细菌分泌、结构生物学、高通量平台"
          ],
          [
           "institution",
           4,
           "细菌分泌、AI与算法、高通量平台"
          ],
          [
           "institution",
           2,
           "浮萍生物学、基因组编辑"
          ]
         ],
         "hoverinfo": "none",
         "hovertemplate": "<b>%{text}</b><br>节点类型: %{customdata[0]}<br>研究人员数量: %{customdata[1]}<br>详细描述: %{customdata[2]}<br><extra></extra>",
         "line": {
          "color": "rgba(100, 100, 100, 0.8)",
          "dash": "solid",
          "width": 5
         },
         "mode": "lines",
         "showlegend": false,
         "type": "scatter",
         "x": [
          0.026078722027613906,
          1
         ],
         "y": [
          -0.12010404961695754,
          -0.1149701141507968
         ]
        },
        {
         "customdata": [
          [
           "field",
           3,
           "南开大学、先进院"
          ],
          [
           "field",
           4,
           "华南师大、南开大学"
          ],
          [
           "field",
           5,
           "湖北大学、天工所、先进院"
          ],
          [
           "field",
           3,
           "先进院、华南师大"
          ],
          [
           "field",
           2,
           "南开大学、深理工"
          ],
          [
           "field",
           3,
           "天工所、先进院"
          ],
          [
           "field",
           3,
           "南开大学、湖北大学"
          ],
          [
           "field",
           2,
           "深理工、华南师大"
          ],
          [
           "field",
           2,
           "先进院"
          ],
          [
           "field",
           4,
           "湖北大学、天工所、先进院"
          ],
          [
           "institution",
           6,
           "花粉管、囊泡运输、浮萍生物学、结构生物学"
          ],
          [
           "institution",
           8,
           "花粉管、细菌分泌、大豆生物学、AI与算法、人工囊泡、高通量平台"
          ],
          [
           "institution",
           4,
           "囊泡运输、大豆生物学、基因组编辑"
          ],
          [
           "institution",
           3,
           "细菌分泌、结构生物学、高通量平台"
          ],
          [
           "institution",
           4,
           "细菌分泌、AI与算法、高通量平台"
          ],
          [
           "institution",
           2,
           "浮萍生物学、基因组编辑"
          ]
         ],
         "hoverinfo": "none",
         "hovertemplate": "<b>%{text}</b><br>节点类型: %{customdata[0]}<br>研究人员数量: %{customdata[1]}<br>详细描述: %{customdata[2]}<br><extra></extra>",
         "line": {
          "color": "rgba(100, 100, 100, 0.8)",
          "dash": "solid",
          "width": 5
         },
         "mode": "lines",
         "showlegend": false,
         "type": "scatter",
         "x": [
          0.026078722027613906,
          0.17538813757967128
         ],
         "y": [
          -0.12010404961695754,
          0.758786484533266
         ]
        },
        {
         "customdata": [
          [
           "field",
           3,
           "南开大学、先进院"
          ],
          [
           "field",
           4,
           "华南师大、南开大学"
          ],
          [
           "field",
           5,
           "湖北大学、天工所、先进院"
          ],
          [
           "field",
           3,
           "先进院、华南师大"
          ],
          [
           "field",
           2,
           "南开大学、深理工"
          ],
          [
           "field",
           3,
           "天工所、先进院"
          ],
          [
           "field",
           3,
           "南开大学、湖北大学"
          ],
          [
           "field",
           2,
           "深理工、华南师大"
          ],
          [
           "field",
           2,
           "先进院"
          ],
          [
           "field",
           4,
           "湖北大学、天工所、先进院"
          ],
          [
           "institution",
           6,
           "花粉管、囊泡运输、浮萍生物学、结构生物学"
          ],
          [
           "institution",
           8,
           "花粉管、细菌分泌、大豆生物学、AI与算法、人工囊泡、高通量平台"
          ],
          [
           "institution",
           4,
           "囊泡运输、大豆生物学、基因组编辑"
          ],
          [
           "institution",
           3,
           "细菌分泌、结构生物学、高通量平台"
          ],
          [
           "institution",
           4,
           "细菌分泌、AI与算法、高通量平台"
          ],
          [
           "institution",
           2,
           "浮萍生物学、基因组编辑"
          ]
         ],
         "hoverinfo": "none",
         "hovertemplate": "<b>%{text}</b><br>节点类型: %{customdata[0]}<br>研究人员数量: %{customdata[1]}<br>详细描述: %{customdata[2]}<br><extra></extra>",
         "line": {
          "color": "rgba(100, 100, 100, 0.8)",
          "dash": "solid",
          "width": 5
         },
         "mode": "lines",
         "showlegend": false,
         "type": "scatter",
         "x": [
          -0.443521321972668,
          -0.8315171265041406
         ],
         "y": [
          0.8290290685731239,
          0.016673417910385093
         ]
        },
        {
         "customdata": [
          [
           "field",
           3,
           "南开大学、先进院"
          ],
          [
           "field",
           4,
           "华南师大、南开大学"
          ],
          [
           "field",
           5,
           "湖北大学、天工所、先进院"
          ],
          [
           "field",
           3,
           "先进院、华南师大"
          ],
          [
           "field",
           2,
           "南开大学、深理工"
          ],
          [
           "field",
           3,
           "天工所、先进院"
          ],
          [
           "field",
           3,
           "南开大学、湖北大学"
          ],
          [
           "field",
           2,
           "深理工、华南师大"
          ],
          [
           "field",
           2,
           "先进院"
          ],
          [
           "field",
           4,
           "湖北大学、天工所、先进院"
          ],
          [
           "institution",
           6,
           "花粉管、囊泡运输、浮萍生物学、结构生物学"
          ],
          [
           "institution",
           8,
           "花粉管、细菌分泌、大豆生物学、AI与算法、人工囊泡、高通量平台"
          ],
          [
           "institution",
           4,
           "囊泡运输、大豆生物学、基因组编辑"
          ],
          [
           "institution",
           3,
           "细菌分泌、结构生物学、高通量平台"
          ],
          [
           "institution",
           4,
           "细菌分泌、AI与算法、高通量平台"
          ],
          [
           "institution",
           2,
           "浮萍生物学、基因组编辑"
          ]
         ],
         "hoverinfo": "none",
         "hovertemplate": "<b>%{text}</b><br>节点类型: %{customdata[0]}<br>研究人员数量: %{customdata[1]}<br>详细描述: %{customdata[2]}<br><extra></extra>",
         "line": {
          "color": "rgba(100, 100, 100, 0.8)",
          "dash": "solid",
          "width": 5
         },
         "mode": "lines",
         "showlegend": false,
         "type": "scatter",
         "x": [
          -0.3889432309220334,
          -0.37929155971635503
         ],
         "y": [
          -0.8132694056204967,
          -0.310644015934855
         ]
        },
        {
         "customdata": [
          [
           "field",
           3,
           "南开大学、先进院"
          ],
          [
           "field",
           4,
           "华南师大、南开大学"
          ],
          [
           "field",
           5,
           "湖北大学、天工所、先进院"
          ],
          [
           "field",
           3,
           "先进院、华南师大"
          ],
          [
           "field",
           2,
           "南开大学、深理工"
          ],
          [
           "field",
           3,
           "天工所、先进院"
          ],
          [
           "field",
           3,
           "南开大学、湖北大学"
          ],
          [
           "field",
           2,
           "深理工、华南师大"
          ],
          [
           "field",
           2,
           "先进院"
          ],
          [
           "field",
           4,
           "湖北大学、天工所、先进院"
          ],
          [
           "institution",
           6,
           "花粉管、囊泡运输、浮萍生物学、结构生物学"
          ],
          [
           "institution",
           8,
           "花粉管、细菌分泌、大豆生物学、AI与算法、人工囊泡、高通量平台"
          ],
          [
           "institution",
           4,
           "囊泡运输、大豆生物学、基因组编辑"
          ],
          [
           "institution",
           3,
           "细菌分泌、结构生物学、高通量平台"
          ],
          [
           "institution",
           4,
           "细菌分泌、AI与算法、高通量平台"
          ],
          [
           "institution",
           2,
           "浮萍生物学、基因组编辑"
          ]
         ],
         "hoverinfo": "none",
         "hovertemplate": "<b>%{text}</b><br>节点类型: %{customdata[0]}<br>研究人员数量: %{customdata[1]}<br>详细描述: %{customdata[2]}<br><extra></extra>",
         "line": {
          "color": "rgba(100, 100, 100, 0.8)",
          "dash": "solid",
          "width": 5
         },
         "mode": "lines",
         "showlegend": false,
         "type": "scatter",
         "x": [
          -0.3889432309220334,
          -0.11767515609905263
         ],
         "y": [
          -0.8132694056204967,
          -0.8874555677955147
         ]
        },
        {
         "customdata": [
          [
           "field",
           3,
           "南开大学、先进院"
          ],
          [
           "field",
           4,
           "华南师大、南开大学"
          ],
          [
           "field",
           5,
           "湖北大学、天工所、先进院"
          ],
          [
           "field",
           3,
           "先进院、华南师大"
          ],
          [
           "field",
           2,
           "南开大学、深理工"
          ],
          [
           "field",
           3,
           "天工所、先进院"
          ],
          [
           "field",
           3,
           "南开大学、湖北大学"
          ],
          [
           "field",
           2,
           "深理工、华南师大"
          ],
          [
           "field",
           2,
           "先进院"
          ],
          [
           "field",
           4,
           "湖北大学、天工所、先进院"
          ],
          [
           "institution",
           6,
           "花粉管、囊泡运输、浮萍生物学、结构生物学"
          ],
          [
           "institution",
           8,
           "花粉管、细菌分泌、大豆生物学、AI与算法、人工囊泡、高通量平台"
          ],
          [
           "institution",
           4,
           "囊泡运输、大豆生物学、基因组编辑"
          ],
          [
           "institution",
           3,
           "细菌分泌、结构生物学、高通量平台"
          ],
          [
           "institution",
           4,
           "细菌分泌、AI与算法、高通量平台"
          ],
          [
           "institution",
           2,
           "浮萍生物学、基因组编辑"
          ]
         ],
         "hoverinfo": "none",
         "hovertemplate": "<b>%{text}</b><br>节点类型: %{customdata[0]}<br>研究人员数量: %{customdata[1]}<br>详细描述: %{customdata[2]}<br><extra></extra>",
         "line": {
          "color": "rgba(100, 100, 100, 0.8)",
          "dash": "solid",
          "width": 5
         },
         "mode": "lines",
         "showlegend": false,
         "type": "scatter",
         "x": [
          -0.3889432309220334,
          -0.8315171265041406
         ],
         "y": [
          -0.8132694056204967,
          0.016673417910385093
         ]
        },
        {
         "customdata": [
          [
           "field",
           3,
           "南开大学、先进院"
          ],
          [
           "field",
           4,
           "华南师大、南开大学"
          ],
          [
           "field",
           5,
           "湖北大学、天工所、先进院"
          ],
          [
           "field",
           3,
           "先进院、华南师大"
          ],
          [
           "field",
           2,
           "南开大学、深理工"
          ],
          [
           "field",
           3,
           "天工所、先进院"
          ],
          [
           "field",
           3,
           "南开大学、湖北大学"
          ],
          [
           "field",
           2,
           "深理工、华南师大"
          ],
          [
           "field",
           2,
           "先进院"
          ],
          [
           "field",
           4,
           "湖北大学、天工所、先进院"
          ],
          [
           "institution",
           6,
           "花粉管、囊泡运输、浮萍生物学、结构生物学"
          ],
          [
           "institution",
           8,
           "花粉管、细菌分泌、大豆生物学、AI与算法、人工囊泡、高通量平台"
          ],
          [
           "institution",
           4,
           "囊泡运输、大豆生物学、基因组编辑"
          ],
          [
           "institution",
           3,
           "细菌分泌、结构生物学、高通量平台"
          ],
          [
           "institution",
           4,
           "细菌分泌、AI与算法、高通量平台"
          ],
          [
           "institution",
           2,
           "浮萍生物学、基因组编辑"
          ]
         ],
         "hoverinfo": "text",
         "hovertemplate": "<b>%{text}</b><br>节点类型: %{customdata[0]}<br>研究人员数量: %{customdata[1]}<br>详细描述: %{customdata[2]}<br><extra></extra>",
         "marker": {
          "color": [
           "#1f77b4",
           "#aec7e8",
           "#ff7f0e",
           "#ffbb78",
           "#2ca02c",
           "#98df8a",
           "#d62728",
           "#ff9896",
           "#9467bd",
           "#c5b0d5",
           "#ab47bc",
           "#ef5350",
           "#ff6b6b",
           "#ffa726",
           "#66bb6a",
           "#42a5f5"
          ],
          "line": {
           "color": "white",
           "width": 5
          },
          "opacity": [
           0.85,
           0.85,
           0.85,
           0.85,
           0.85,
           0.85,
           0.85,
           0.85,
           0.85,
           0.85,
           0.9,
           0.9,
           0.9,
           0.9,
           0.9,
           0.9
          ],
          "size": [
           47,
           51,
           55,
           47,
           43,
           47,
           47,
           43,
           43,
           51,
           58,
           64,
           52,
           49,
           52,
           46
          ],
          "symbol": [
           "circle",
           "circle",
           "circle",
           "circle",
           "circle",
           "circle",
           "circle",
           "circle",
           "circle",
           "circle",
           "diamond",
           "diamond",
           "diamond",
           "diamond",
           "diamond",
           "diamond"
          ]
         },
         "mode": "markers+text",
         "showlegend": false,
         "text": [
          "花粉管生物学",
          "囊泡运输",
          "细菌分泌",
          "大豆生物学",
          "浮萍生物学",
          "AI与算法",
          "结构生物学",
          "基因组编辑",
          "人工囊泡",
          "高通量平台",
          "南开大学",
          "先进院",
          "华南师大",
          "湖北大学",
          "天工所",
          "深理工"
         ],
         "textfont": {
          "color": "black",
          "family": "Arial, sans-serif",
          "size": 16
         },
         "textposition": "middle center",
         "type": "scatter",
         "x": [
          -0.09010581760628611,
          0.956083273665481,
          -0.638085032107676,
          -0.7860180160957474,
          0.847028929845476,
          -0.5211120799013925,
          0.5836851030137952,
          0.026078722027613906,
          -0.443521321972668,
          -0.3889432309220334,
          0.6080051747933145,
          -0.8315171265041406,
          0.17538813757967128,
          -0.37929155971635503,
          -0.11767515609905263,
          1
         ],
         "y": [
          0.40115852431046695,
          0.3567012635971452,
          -0.6934055888063951,
          0.5651093771783389,
          0.5663048103273499,
          0.12666380199600855,
          -0.6495378043587096,
          -0.12010404961695754,
          0.8290290685731239,
          -0.8132694056204967,
          -0.031040202142359054,
          0.016673417910385093,
          0.758786484533266,
          -0.310644015934855,
          -0.8874555677955147,
          -0.1149701141507968
         ]
        }
       ],
       "layout": {
        "annotations": [
         {
          "font": {
           "color": "#34495e",
           "size": 20
          },
          "showarrow": false,
          "text": "<b>🔬 圆形: 研究领域</b> | <b>🏛️ 菱形: 优势单位</b> | <b>节点大小: 研究人员数量</b>",
          "x": 0.5,
          "xanchor": "center",
          "xref": "paper",
          "y": -0.1,
          "yref": "paper"
         }
        ],
        "font": {
         "family": "Arial, sans-serif"
        },
        "height": 1000,
        "hovermode": "closest",
        "margin": {
         "b": 120,
         "l": 60,
         "r": 60,
         "t": 140
        },
        "paper_bgcolor": "white",
        "plot_bgcolor": "rgba(248, 249, 250, 0.9)",
        "showlegend": false,
        "template": {
         "data": {
          "bar": [
           {
            "error_x": {
             "color": "#2a3f5f"
            },
            "error_y": {
             "color": "#2a3f5f"
            },
            "marker": {
             "line": {
              "color": "#E5ECF6",
              "width": 0.5
             },
             "pattern": {
              "fillmode": "overlay",
              "size": 10,
              "solidity": 0.2
             }
            },
            "type": "bar"
           }
          ],
          "barpolar": [
           {
            "marker": {
             "line": {
              "color": "#E5ECF6",
              "width": 0.5
             },
             "pattern": {
              "fillmode": "overlay",
              "size": 10,
              "solidity": 0.2
             }
            },
            "type": "barpolar"
           }
          ],
          "carpet": [
           {
            "aaxis": {
             "endlinecolor": "#2a3f5f",
             "gridcolor": "white",
             "linecolor": "white",
             "minorgridcolor": "white",
             "startlinecolor": "#2a3f5f"
            },
            "baxis": {
             "endlinecolor": "#2a3f5f",
             "gridcolor": "white",
             "linecolor": "white",
             "minorgridcolor": "white",
             "startlinecolor": "#2a3f5f"
            },
            "type": "carpet"
           }
          ],
          "choropleth": [
           {
            "colorbar": {
             "outlinewidth": 0,
             "ticks": ""
            },
            "type": "choropleth"
           }
          ],
          "contour": [
           {
            "colorbar": {
             "outlinewidth": 0,
             "ticks": ""
            },
            "colorscale": [
             [
              0,
              "#0d0887"
             ],
             [
              0.1111111111111111,
              "#46039f"
             ],
             [
              0.2222222222222222,
              "#7201a8"
             ],
             [
              0.3333333333333333,
              "#9c179e"
             ],
             [
              0.4444444444444444,
              "#bd3786"
             ],
             [
              0.5555555555555556,
              "#d8576b"
             ],
             [
              0.6666666666666666,
              "#ed7953"
             ],
             [
              0.7777777777777778,
              "#fb9f3a"
             ],
             [
              0.8888888888888888,
              "#fdca26"
             ],
             [
              1,
              "#f0f921"
             ]
            ],
            "type": "contour"
           }
          ],
          "contourcarpet": [
           {
            "colorbar": {
             "outlinewidth": 0,
             "ticks": ""
            },
            "type": "contourcarpet"
           }
          ],
          "heatmap": [
           {
            "colorbar": {
             "outlinewidth": 0,
             "ticks": ""
            },
            "colorscale": [
             [
              0,
              "#0d0887"
             ],
             [
              0.1111111111111111,
              "#46039f"
             ],
             [
              0.2222222222222222,
              "#7201a8"
             ],
             [
              0.3333333333333333,
              "#9c179e"
             ],
             [
              0.4444444444444444,
              "#bd3786"
             ],
             [
              0.5555555555555556,
              "#d8576b"
             ],
             [
              0.6666666666666666,
              "#ed7953"
             ],
             [
              0.7777777777777778,
              "#fb9f3a"
             ],
             [
              0.8888888888888888,
              "#fdca26"
             ],
             [
              1,
              "#f0f921"
             ]
            ],
            "type": "heatmap"
           }
          ],
          "heatmapgl": [
           {
            "colorbar": {
             "outlinewidth": 0,
             "ticks": ""
            },
            "colorscale": [
             [
              0,
              "#0d0887"
             ],
             [
              0.1111111111111111,
              "#46039f"
             ],
             [
              0.2222222222222222,
              "#7201a8"
             ],
             [
              0.3333333333333333,
              "#9c179e"
             ],
             [
              0.4444444444444444,
              "#bd3786"
             ],
             [
              0.5555555555555556,
              "#d8576b"
             ],
             [
              0.6666666666666666,
              "#ed7953"
             ],
             [
              0.7777777777777778,
              "#fb9f3a"
             ],
             [
              0.8888888888888888,
              "#fdca26"
             ],
             [
              1,
              "#f0f921"
             ]
            ],
            "type": "heatmapgl"
           }
          ],
          "histogram": [
           {
            "marker": {
             "pattern": {
              "fillmode": "overlay",
              "size": 10,
              "solidity": 0.2
             }
            },
            "type": "histogram"
           }
          ],
          "histogram2d": [
           {
            "colorbar": {
             "outlinewidth": 0,
             "ticks": ""
            },
            "colorscale": [
             [
              0,
              "#0d0887"
             ],
             [
              0.1111111111111111,
              "#46039f"
             ],
             [
              0.2222222222222222,
              "#7201a8"
             ],
             [
              0.3333333333333333,
              "#9c179e"
             ],
             [
              0.4444444444444444,
              "#bd3786"
             ],
             [
              0.5555555555555556,
              "#d8576b"
             ],
             [
              0.6666666666666666,
              "#ed7953"
             ],
             [
              0.7777777777777778,
              "#fb9f3a"
             ],
             [
              0.8888888888888888,
              "#fdca26"
             ],
             [
              1,
              "#f0f921"
             ]
            ],
            "type": "histogram2d"
           }
          ],
          "histogram2dcontour": [
           {
            "colorbar": {
             "outlinewidth": 0,
             "ticks": ""
            },
            "colorscale": [
             [
              0,
              "#0d0887"
             ],
             [
              0.1111111111111111,
              "#46039f"
             ],
             [
              0.2222222222222222,
              "#7201a8"
             ],
             [
              0.3333333333333333,
              "#9c179e"
             ],
             [
              0.4444444444444444,
              "#bd3786"
             ],
             [
              0.5555555555555556,
              "#d8576b"
             ],
             [
              0.6666666666666666,
              "#ed7953"
             ],
             [
              0.7777777777777778,
              "#fb9f3a"
             ],
             [
              0.8888888888888888,
              "#fdca26"
             ],
             [
              1,
              "#f0f921"
             ]
            ],
            "type": "histogram2dcontour"
           }
          ],
          "mesh3d": [
           {
            "colorbar": {
             "outlinewidth": 0,
             "ticks": ""
            },
            "type": "mesh3d"
           }
          ],
          "parcoords": [
           {
            "line": {
             "colorbar": {
              "outlinewidth": 0,
              "ticks": ""
             }
            },
            "type": "parcoords"
           }
          ],
          "pie": [
           {
            "automargin": true,
            "type": "pie"
           }
          ],
          "scatter": [
           {
            "fillpattern": {
             "fillmode": "overlay",
             "size": 10,
             "solidity": 0.2
            },
            "type": "scatter"
           }
          ],
          "scatter3d": [
           {
            "line": {
             "colorbar": {
              "outlinewidth": 0,
              "ticks": ""
             }
            },
            "marker": {
             "colorbar": {
              "outlinewidth": 0,
              "ticks": ""
             }
            },
            "type": "scatter3d"
           }
          ],
          "scattercarpet": [
           {
            "marker": {
             "colorbar": {
              "outlinewidth": 0,
              "ticks": ""
             }
            },
            "type": "scattercarpet"
           }
          ],
          "scattergeo": [
           {
            "marker": {
             "colorbar": {
              "outlinewidth": 0,
              "ticks": ""
             }
            },
            "type": "scattergeo"
           }
          ],
          "scattergl": [
           {
            "marker": {
             "colorbar": {
              "outlinewidth": 0,
              "ticks": ""
             }
            },
            "type": "scattergl"
           }
          ],
          "scattermapbox": [
           {
            "marker": {
             "colorbar": {
              "outlinewidth": 0,
              "ticks": ""
             }
            },
            "type": "scattermapbox"
           }
          ],
          "scatterpolar": [
           {
            "marker": {
             "colorbar": {
              "outlinewidth": 0,
              "ticks": ""
             }
            },
            "type": "scatterpolar"
           }
          ],
          "scatterpolargl": [
           {
            "marker": {
             "colorbar": {
              "outlinewidth": 0,
              "ticks": ""
             }
            },
            "type": "scatterpolargl"
           }
          ],
          "scatterternary": [
           {
            "marker": {
             "colorbar": {
              "outlinewidth": 0,
              "ticks": ""
             }
            },
            "type": "scatterternary"
           }
          ],
          "surface": [
           {
            "colorbar": {
             "outlinewidth": 0,
             "ticks": ""
            },
            "colorscale": [
             [
              0,
              "#0d0887"
             ],
             [
              0.1111111111111111,
              "#46039f"
             ],
             [
              0.2222222222222222,
              "#7201a8"
             ],
             [
              0.3333333333333333,
              "#9c179e"
             ],
             [
              0.4444444444444444,
              "#bd3786"
             ],
             [
              0.5555555555555556,
              "#d8576b"
             ],
             [
              0.6666666666666666,
              "#ed7953"
             ],
             [
              0.7777777777777778,
              "#fb9f3a"
             ],
             [
              0.8888888888888888,
              "#fdca26"
             ],
             [
              1,
              "#f0f921"
             ]
            ],
            "type": "surface"
           }
          ],
          "table": [
           {
            "cells": {
             "fill": {
              "color": "#EBF0F8"
             },
             "line": {
              "color": "white"
             }
            },
            "header": {
             "fill": {
              "color": "#C8D4E3"
             },
             "line": {
              "color": "white"
             }
            },
            "type": "table"
           }
          ]
         },
         "layout": {
          "annotationdefaults": {
           "arrowcolor": "#2a3f5f",
           "arrowhead": 0,
           "arrowwidth": 1
          },
          "autotypenumbers": "strict",
          "coloraxis": {
           "colorbar": {
            "outlinewidth": 0,
            "ticks": ""
           }
          },
          "colorscale": {
           "diverging": [
            [
             0,
             "#8e0152"
            ],
            [
             0.1,
             "#c51b7d"
            ],
            [
             0.2,
             "#de77ae"
            ],
            [
             0.3,
             "#f1b6da"
            ],
            [
             0.4,
             "#fde0ef"
            ],
            [
             0.5,
             "#f7f7f7"
            ],
            [
             0.6,
             "#e6f5d0"
            ],
            [
             0.7,
             "#b8e186"
            ],
            [
             0.8,
             "#7fbc41"
            ],
            [
             0.9,
             "#4d9221"
            ],
            [
             1,
             "#276419"
            ]
           ],
           "sequential": [
            [
             0,
             "#0d0887"
            ],
            [
             0.1111111111111111,
             "#46039f"
            ],
            [
             0.2222222222222222,
             "#7201a8"
            ],
            [
             0.3333333333333333,
             "#9c179e"
            ],
            [
             0.4444444444444444,
             "#bd3786"
            ],
            [
             0.5555555555555556,
             "#d8576b"
            ],
            [
             0.6666666666666666,
             "#ed7953"
            ],
            [
             0.7777777777777778,
             "#fb9f3a"
            ],
            [
             0.8888888888888888,
             "#fdca26"
            ],
            [
             1,
             "#f0f921"
            ]
           ],
           "sequentialminus": [
            [
             0,
             "#0d0887"
            ],
            [
             0.1111111111111111,
             "#46039f"
            ],
            [
             0.2222222222222222,
             "#7201a8"
            ],
            [
             0.3333333333333333,
             "#9c179e"
            ],
            [
             0.4444444444444444,
             "#bd3786"
            ],
            [
             0.5555555555555556,
             "#d8576b"
            ],
            [
             0.6666666666666666,
             "#ed7953"
            ],
            [
             0.7777777777777778,
             "#fb9f3a"
            ],
            [
             0.8888888888888888,
             "#fdca26"
            ],
            [
             1,
             "#f0f921"
            ]
           ]
          },
          "colorway": [
           "#636efa",
           "#EF553B",
           "#00cc96",
           "#ab63fa",
           "#FFA15A",
           "#19d3f3",
           "#FF6692",
           "#B6E880",
           "#FF97FF",
           "#FECB52"
          ],
          "font": {
           "color": "#2a3f5f"
          },
          "geo": {
           "bgcolor": "white",
           "lakecolor": "white",
           "landcolor": "#E5ECF6",
           "showlakes": true,
           "showland": true,
           "subunitcolor": "white"
          },
          "hoverlabel": {
           "align": "left"
          },
          "hovermode": "closest",
          "mapbox": {
           "style": "light"
          },
          "paper_bgcolor": "white",
          "plot_bgcolor": "#E5ECF6",
          "polar": {
           "angularaxis": {
            "gridcolor": "white",
            "linecolor": "white",
            "ticks": ""
           },
           "bgcolor": "#E5ECF6",
           "radialaxis": {
            "gridcolor": "white",
            "linecolor": "white",
            "ticks": ""
           }
          },
          "scene": {
           "xaxis": {
            "backgroundcolor": "#E5ECF6",
            "gridcolor": "white",
            "gridwidth": 2,
            "linecolor": "white",
            "showbackground": true,
            "ticks": "",
            "zerolinecolor": "white"
           },
           "yaxis": {
            "backgroundcolor": "#E5ECF6",
            "gridcolor": "white",
            "gridwidth": 2,
            "linecolor": "white",
            "showbackground": true,
            "ticks": "",
            "zerolinecolor": "white"
           },
           "zaxis": {
            "backgroundcolor": "#E5ECF6",
            "gridcolor": "white",
            "gridwidth": 2,
            "linecolor": "white",
            "showbackground": true,
            "ticks": "",
            "zerolinecolor": "white"
           }
          },
          "shapedefaults": {
           "line": {
            "color": "#2a3f5f"
           }
          },
          "ternary": {
           "aaxis": {
            "gridcolor": "white",
            "linecolor": "white",
            "ticks": ""
           },
           "baxis": {
            "gridcolor": "white",
            "linecolor": "white",
            "ticks": ""
           },
           "bgcolor": "#E5ECF6",
           "caxis": {
            "gridcolor": "white",
            "linecolor": "white",
            "ticks": ""
           }
          },
          "title": {
           "x": 0.05
          },
          "xaxis": {
           "automargin": true,
           "gridcolor": "white",
           "linecolor": "white",
           "ticks": "",
           "title": {
            "standoff": 15
           },
           "zerolinecolor": "white",
           "zerolinewidth": 2
          },
          "yaxis": {
           "automargin": true,
           "gridcolor": "white",
           "linecolor": "white",
           "ticks": "",
           "title": {
            "standoff": 15
           },
           "zerolinecolor": "white",
           "zerolinewidth": 2
          }
         }
        },
        "title": {
         "font": {
          "color": "#2c3e50",
          "family": "Arial, sans-serif",
          "size": 36
         },
         "text": "<b>🔬 研究团队优势领域交叉融合网络</b><br><sub>来自6个单位的23名研究人员，涵盖10个研究领域，强调团队成员特色突出、研究方向交叉融合</sub>",
         "x": 0.5,
         "xanchor": "center"
        },
        "updatemenus": [
         {
          "buttons": [
           {
            "args": [
             {
              "visible": [
               true,
               true
              ]
             }
            ],
            "label": "显示所有",
            "method": "restyle"
           },
           {
            "args": [
             {
              "visible": [
               true,
               false
              ]
             }
            ],
            "label": "仅显示边线",
            "method": "restyle"
           },
           {
            "args": [
             {
              "visible": [
               false,
               true
              ]
             }
            ],
            "label": "仅显示节点",
            "method": "restyle"
           }
          ],
          "direction": "left",
          "pad": {
           "r": 20,
           "t": 20
          },
          "showactive": true,
          "type": "buttons",
          "x": 0.01,
          "xanchor": "left",
          "y": 1.02,
          "yanchor": "top"
         }
        ],
        "width": 1600,
        "xaxis": {
         "scaleanchor": "y",
         "scaleratio": 1,
         "showgrid": false,
         "showticklabels": false,
         "zeroline": false
        },
        "yaxis": {
         "showgrid": false,
         "showticklabels": false,
         "zeroline": false
        }
       }
      },
      "text/html": [
       "<div>                            <div id=\"5c806afd-8a88-4e7d-8446-82aa2573bb12\" class=\"plotly-graph-div\" style=\"height:1000px; width:1600px;\"></div>            <script type=\"text/javascript\">                require([\"plotly\"], function(Plotly) {                    window.PLOTLYENV=window.PLOTLYENV || {};                                    if (document.getElementById(\"5c806afd-8a88-4e7d-8446-82aa2573bb12\")) {                    Plotly.newPlot(                        \"5c806afd-8a88-4e7d-8446-82aa2573bb12\",                        [{\"hoverinfo\":\"none\",\"line\":{\"color\":\"rgba(100, 100, 100, 0.8)\",\"dash\":\"solid\",\"width\":5},\"mode\":\"lines\",\"showlegend\":false,\"x\":[-0.09010581760628611,0.6080051747933145],\"y\":[0.40115852431046695,-0.031040202142359054],\"type\":\"scatter\",\"customdata\":[[\"field\",3,\"\\u5357\\u5f00\\u5927\\u5b66\\u3001\\u5148\\u8fdb\\u9662\"],[\"field\",4,\"\\u534e\\u5357\\u5e08\\u5927\\u3001\\u5357\\u5f00\\u5927\\u5b66\"],[\"field\",5,\"\\u6e56\\u5317\\u5927\\u5b66\\u3001\\u5929\\u5de5\\u6240\\u3001\\u5148\\u8fdb\\u9662\"],[\"field\",3,\"\\u5148\\u8fdb\\u9662\\u3001\\u534e\\u5357\\u5e08\\u5927\"],[\"field\",2,\"\\u5357\\u5f00\\u5927\\u5b66\\u3001\\u6df1\\u7406\\u5de5\"],[\"field\",3,\"\\u5929\\u5de5\\u6240\\u3001\\u5148\\u8fdb\\u9662\"],[\"field\",3,\"\\u5357\\u5f00\\u5927\\u5b66\\u3001\\u6e56\\u5317\\u5927\\u5b66\"],[\"field\",2,\"\\u6df1\\u7406\\u5de5\\u3001\\u534e\\u5357\\u5e08\\u5927\"],[\"field\",2,\"\\u5148\\u8fdb\\u9662\"],[\"field\",4,\"\\u6e56\\u5317\\u5927\\u5b66\\u3001\\u5929\\u5de5\\u6240\\u3001\\u5148\\u8fdb\\u9662\"],[\"institution\",6,\"\\u82b1\\u7c89\\u7ba1\\u3001\\u56ca\\u6ce1\\u8fd0\\u8f93\\u3001\\u6d6e\\u840d\\u751f\\u7269\\u5b66\\u3001\\u7ed3\\u6784\\u751f\\u7269\\u5b66\"],[\"institution\",8,\"\\u82b1\\u7c89\\u7ba1\\u3001\\u7ec6\\u83cc\\u5206\\u6ccc\\u3001\\u5927\\u8c46\\u751f\\u7269\\u5b66\\u3001AI\\u4e0e\\u7b97\\u6cd5\\u3001\\u4eba\\u5de5\\u56ca\\u6ce1\\u3001\\u9ad8\\u901a\\u91cf\\u5e73\\u53f0\"],[\"institution\",4,\"\\u56ca\\u6ce1\\u8fd0\\u8f93\\u3001\\u5927\\u8c46\\u751f\\u7269\\u5b66\\u3001\\u57fa\\u56e0\\u7ec4\\u7f16\\u8f91\"],[\"institution\",3,\"\\u7ec6\\u83cc\\u5206\\u6ccc\\u3001\\u7ed3\\u6784\\u751f\\u7269\\u5b66\\u3001\\u9ad8\\u901a\\u91cf\\u5e73\\u53f0\"],[\"institution\",4,\"\\u7ec6\\u83cc\\u5206\\u6ccc\\u3001AI\\u4e0e\\u7b97\\u6cd5\\u3001\\u9ad8\\u901a\\u91cf\\u5e73\\u53f0\"],[\"institution\",2,\"\\u6d6e\\u840d\\u751f\\u7269\\u5b66\\u3001\\u57fa\\u56e0\\u7ec4\\u7f16\\u8f91\"]],\"hovertemplate\":\"\\u003cb\\u003e%{text}\\u003c\\u002fb\\u003e\\u003cbr\\u003e\\u8282\\u70b9\\u7c7b\\u578b: %{customdata[0]}\\u003cbr\\u003e\\u7814\\u7a76\\u4eba\\u5458\\u6570\\u91cf: %{customdata[1]}\\u003cbr\\u003e\\u8be6\\u7ec6\\u63cf\\u8ff0: %{customdata[2]}\\u003cbr\\u003e\\u003cextra\\u003e\\u003c\\u002fextra\\u003e\"},{\"hoverinfo\":\"none\",\"line\":{\"color\":\"rgba(100, 100, 100, 0.8)\",\"dash\":\"solid\",\"width\":5},\"mode\":\"lines\",\"showlegend\":false,\"x\":[-0.09010581760628611,-0.8315171265041406],\"y\":[0.40115852431046695,0.016673417910385093],\"type\":\"scatter\",\"customdata\":[[\"field\",3,\"\\u5357\\u5f00\\u5927\\u5b66\\u3001\\u5148\\u8fdb\\u9662\"],[\"field\",4,\"\\u534e\\u5357\\u5e08\\u5927\\u3001\\u5357\\u5f00\\u5927\\u5b66\"],[\"field\",5,\"\\u6e56\\u5317\\u5927\\u5b66\\u3001\\u5929\\u5de5\\u6240\\u3001\\u5148\\u8fdb\\u9662\"],[\"field\",3,\"\\u5148\\u8fdb\\u9662\\u3001\\u534e\\u5357\\u5e08\\u5927\"],[\"field\",2,\"\\u5357\\u5f00\\u5927\\u5b66\\u3001\\u6df1\\u7406\\u5de5\"],[\"field\",3,\"\\u5929\\u5de5\\u6240\\u3001\\u5148\\u8fdb\\u9662\"],[\"field\",3,\"\\u5357\\u5f00\\u5927\\u5b66\\u3001\\u6e56\\u5317\\u5927\\u5b66\"],[\"field\",2,\"\\u6df1\\u7406\\u5de5\\u3001\\u534e\\u5357\\u5e08\\u5927\"],[\"field\",2,\"\\u5148\\u8fdb\\u9662\"],[\"field\",4,\"\\u6e56\\u5317\\u5927\\u5b66\\u3001\\u5929\\u5de5\\u6240\\u3001\\u5148\\u8fdb\\u9662\"],[\"institution\",6,\"\\u82b1\\u7c89\\u7ba1\\u3001\\u56ca\\u6ce1\\u8fd0\\u8f93\\u3001\\u6d6e\\u840d\\u751f\\u7269\\u5b66\\u3001\\u7ed3\\u6784\\u751f\\u7269\\u5b66\"],[\"institution\",8,\"\\u82b1\\u7c89\\u7ba1\\u3001\\u7ec6\\u83cc\\u5206\\u6ccc\\u3001\\u5927\\u8c46\\u751f\\u7269\\u5b66\\u3001AI\\u4e0e\\u7b97\\u6cd5\\u3001\\u4eba\\u5de5\\u56ca\\u6ce1\\u3001\\u9ad8\\u901a\\u91cf\\u5e73\\u53f0\"],[\"institution\",4,\"\\u56ca\\u6ce1\\u8fd0\\u8f93\\u3001\\u5927\\u8c46\\u751f\\u7269\\u5b66\\u3001\\u57fa\\u56e0\\u7ec4\\u7f16\\u8f91\"],[\"institution\",3,\"\\u7ec6\\u83cc\\u5206\\u6ccc\\u3001\\u7ed3\\u6784\\u751f\\u7269\\u5b66\\u3001\\u9ad8\\u901a\\u91cf\\u5e73\\u53f0\"],[\"institution\",4,\"\\u7ec6\\u83cc\\u5206\\u6ccc\\u3001AI\\u4e0e\\u7b97\\u6cd5\\u3001\\u9ad8\\u901a\\u91cf\\u5e73\\u53f0\"],[\"institution\",2,\"\\u6d6e\\u840d\\u751f\\u7269\\u5b66\\u3001\\u57fa\\u56e0\\u7ec4\\u7f16\\u8f91\"]],\"hovertemplate\":\"\\u003cb\\u003e%{text}\\u003c\\u002fb\\u003e\\u003cbr\\u003e\\u8282\\u70b9\\u7c7b\\u578b: %{customdata[0]}\\u003cbr\\u003e\\u7814\\u7a76\\u4eba\\u5458\\u6570\\u91cf: %{customdata[1]}\\u003cbr\\u003e\\u8be6\\u7ec6\\u63cf\\u8ff0: %{customdata[2]}\\u003cbr\\u003e\\u003cextra\\u003e\\u003c\\u002fextra\\u003e\"},{\"hoverinfo\":\"none\",\"line\":{\"color\":\"rgba(100, 100, 100, 0.8)\",\"dash\":\"solid\",\"width\":5},\"mode\":\"lines\",\"showlegend\":false,\"x\":[0.956083273665481,0.17538813757967128],\"y\":[0.3567012635971452,0.758786484533266],\"type\":\"scatter\",\"customdata\":[[\"field\",3,\"\\u5357\\u5f00\\u5927\\u5b66\\u3001\\u5148\\u8fdb\\u9662\"],[\"field\",4,\"\\u534e\\u5357\\u5e08\\u5927\\u3001\\u5357\\u5f00\\u5927\\u5b66\"],[\"field\",5,\"\\u6e56\\u5317\\u5927\\u5b66\\u3001\\u5929\\u5de5\\u6240\\u3001\\u5148\\u8fdb\\u9662\"],[\"field\",3,\"\\u5148\\u8fdb\\u9662\\u3001\\u534e\\u5357\\u5e08\\u5927\"],[\"field\",2,\"\\u5357\\u5f00\\u5927\\u5b66\\u3001\\u6df1\\u7406\\u5de5\"],[\"field\",3,\"\\u5929\\u5de5\\u6240\\u3001\\u5148\\u8fdb\\u9662\"],[\"field\",3,\"\\u5357\\u5f00\\u5927\\u5b66\\u3001\\u6e56\\u5317\\u5927\\u5b66\"],[\"field\",2,\"\\u6df1\\u7406\\u5de5\\u3001\\u534e\\u5357\\u5e08\\u5927\"],[\"field\",2,\"\\u5148\\u8fdb\\u9662\"],[\"field\",4,\"\\u6e56\\u5317\\u5927\\u5b66\\u3001\\u5929\\u5de5\\u6240\\u3001\\u5148\\u8fdb\\u9662\"],[\"institution\",6,\"\\u82b1\\u7c89\\u7ba1\\u3001\\u56ca\\u6ce1\\u8fd0\\u8f93\\u3001\\u6d6e\\u840d\\u751f\\u7269\\u5b66\\u3001\\u7ed3\\u6784\\u751f\\u7269\\u5b66\"],[\"institution\",8,\"\\u82b1\\u7c89\\u7ba1\\u3001\\u7ec6\\u83cc\\u5206\\u6ccc\\u3001\\u5927\\u8c46\\u751f\\u7269\\u5b66\\u3001AI\\u4e0e\\u7b97\\u6cd5\\u3001\\u4eba\\u5de5\\u56ca\\u6ce1\\u3001\\u9ad8\\u901a\\u91cf\\u5e73\\u53f0\"],[\"institution\",4,\"\\u56ca\\u6ce1\\u8fd0\\u8f93\\u3001\\u5927\\u8c46\\u751f\\u7269\\u5b66\\u3001\\u57fa\\u56e0\\u7ec4\\u7f16\\u8f91\"],[\"institution\",3,\"\\u7ec6\\u83cc\\u5206\\u6ccc\\u3001\\u7ed3\\u6784\\u751f\\u7269\\u5b66\\u3001\\u9ad8\\u901a\\u91cf\\u5e73\\u53f0\"],[\"institution\",4,\"\\u7ec6\\u83cc\\u5206\\u6ccc\\u3001AI\\u4e0e\\u7b97\\u6cd5\\u3001\\u9ad8\\u901a\\u91cf\\u5e73\\u53f0\"],[\"institution\",2,\"\\u6d6e\\u840d\\u751f\\u7269\\u5b66\\u3001\\u57fa\\u56e0\\u7ec4\\u7f16\\u8f91\"]],\"hovertemplate\":\"\\u003cb\\u003e%{text}\\u003c\\u002fb\\u003e\\u003cbr\\u003e\\u8282\\u70b9\\u7c7b\\u578b: %{customdata[0]}\\u003cbr\\u003e\\u7814\\u7a76\\u4eba\\u5458\\u6570\\u91cf: %{customdata[1]}\\u003cbr\\u003e\\u8be6\\u7ec6\\u63cf\\u8ff0: %{customdata[2]}\\u003cbr\\u003e\\u003cextra\\u003e\\u003c\\u002fextra\\u003e\"},{\"hoverinfo\":\"none\",\"line\":{\"color\":\"rgba(100, 100, 100, 0.8)\",\"dash\":\"solid\",\"width\":5},\"mode\":\"lines\",\"showlegend\":false,\"x\":[0.956083273665481,0.6080051747933145],\"y\":[0.3567012635971452,-0.031040202142359054],\"type\":\"scatter\",\"customdata\":[[\"field\",3,\"\\u5357\\u5f00\\u5927\\u5b66\\u3001\\u5148\\u8fdb\\u9662\"],[\"field\",4,\"\\u534e\\u5357\\u5e08\\u5927\\u3001\\u5357\\u5f00\\u5927\\u5b66\"],[\"field\",5,\"\\u6e56\\u5317\\u5927\\u5b66\\u3001\\u5929\\u5de5\\u6240\\u3001\\u5148\\u8fdb\\u9662\"],[\"field\",3,\"\\u5148\\u8fdb\\u9662\\u3001\\u534e\\u5357\\u5e08\\u5927\"],[\"field\",2,\"\\u5357\\u5f00\\u5927\\u5b66\\u3001\\u6df1\\u7406\\u5de5\"],[\"field\",3,\"\\u5929\\u5de5\\u6240\\u3001\\u5148\\u8fdb\\u9662\"],[\"field\",3,\"\\u5357\\u5f00\\u5927\\u5b66\\u3001\\u6e56\\u5317\\u5927\\u5b66\"],[\"field\",2,\"\\u6df1\\u7406\\u5de5\\u3001\\u534e\\u5357\\u5e08\\u5927\"],[\"field\",2,\"\\u5148\\u8fdb\\u9662\"],[\"field\",4,\"\\u6e56\\u5317\\u5927\\u5b66\\u3001\\u5929\\u5de5\\u6240\\u3001\\u5148\\u8fdb\\u9662\"],[\"institution\",6,\"\\u82b1\\u7c89\\u7ba1\\u3001\\u56ca\\u6ce1\\u8fd0\\u8f93\\u3001\\u6d6e\\u840d\\u751f\\u7269\\u5b66\\u3001\\u7ed3\\u6784\\u751f\\u7269\\u5b66\"],[\"institution\",8,\"\\u82b1\\u7c89\\u7ba1\\u3001\\u7ec6\\u83cc\\u5206\\u6ccc\\u3001\\u5927\\u8c46\\u751f\\u7269\\u5b66\\u3001AI\\u4e0e\\u7b97\\u6cd5\\u3001\\u4eba\\u5de5\\u56ca\\u6ce1\\u3001\\u9ad8\\u901a\\u91cf\\u5e73\\u53f0\"],[\"institution\",4,\"\\u56ca\\u6ce1\\u8fd0\\u8f93\\u3001\\u5927\\u8c46\\u751f\\u7269\\u5b66\\u3001\\u57fa\\u56e0\\u7ec4\\u7f16\\u8f91\"],[\"institution\",3,\"\\u7ec6\\u83cc\\u5206\\u6ccc\\u3001\\u7ed3\\u6784\\u751f\\u7269\\u5b66\\u3001\\u9ad8\\u901a\\u91cf\\u5e73\\u53f0\"],[\"institution\",4,\"\\u7ec6\\u83cc\\u5206\\u6ccc\\u3001AI\\u4e0e\\u7b97\\u6cd5\\u3001\\u9ad8\\u901a\\u91cf\\u5e73\\u53f0\"],[\"institution\",2,\"\\u6d6e\\u840d\\u751f\\u7269\\u5b66\\u3001\\u57fa\\u56e0\\u7ec4\\u7f16\\u8f91\"]],\"hovertemplate\":\"\\u003cb\\u003e%{text}\\u003c\\u002fb\\u003e\\u003cbr\\u003e\\u8282\\u70b9\\u7c7b\\u578b: %{customdata[0]}\\u003cbr\\u003e\\u7814\\u7a76\\u4eba\\u5458\\u6570\\u91cf: %{customdata[1]}\\u003cbr\\u003e\\u8be6\\u7ec6\\u63cf\\u8ff0: %{customdata[2]}\\u003cbr\\u003e\\u003cextra\\u003e\\u003c\\u002fextra\\u003e\"},{\"hoverinfo\":\"none\",\"line\":{\"color\":\"rgba(100, 100, 100, 0.8)\",\"dash\":\"solid\",\"width\":5},\"mode\":\"lines\",\"showlegend\":false,\"x\":[-0.638085032107676,-0.37929155971635503],\"y\":[-0.6934055888063951,-0.310644015934855],\"type\":\"scatter\",\"customdata\":[[\"field\",3,\"\\u5357\\u5f00\\u5927\\u5b66\\u3001\\u5148\\u8fdb\\u9662\"],[\"field\",4,\"\\u534e\\u5357\\u5e08\\u5927\\u3001\\u5357\\u5f00\\u5927\\u5b66\"],[\"field\",5,\"\\u6e56\\u5317\\u5927\\u5b66\\u3001\\u5929\\u5de5\\u6240\\u3001\\u5148\\u8fdb\\u9662\"],[\"field\",3,\"\\u5148\\u8fdb\\u9662\\u3001\\u534e\\u5357\\u5e08\\u5927\"],[\"field\",2,\"\\u5357\\u5f00\\u5927\\u5b66\\u3001\\u6df1\\u7406\\u5de5\"],[\"field\",3,\"\\u5929\\u5de5\\u6240\\u3001\\u5148\\u8fdb\\u9662\"],[\"field\",3,\"\\u5357\\u5f00\\u5927\\u5b66\\u3001\\u6e56\\u5317\\u5927\\u5b66\"],[\"field\",2,\"\\u6df1\\u7406\\u5de5\\u3001\\u534e\\u5357\\u5e08\\u5927\"],[\"field\",2,\"\\u5148\\u8fdb\\u9662\"],[\"field\",4,\"\\u6e56\\u5317\\u5927\\u5b66\\u3001\\u5929\\u5de5\\u6240\\u3001\\u5148\\u8fdb\\u9662\"],[\"institution\",6,\"\\u82b1\\u7c89\\u7ba1\\u3001\\u56ca\\u6ce1\\u8fd0\\u8f93\\u3001\\u6d6e\\u840d\\u751f\\u7269\\u5b66\\u3001\\u7ed3\\u6784\\u751f\\u7269\\u5b66\"],[\"institution\",8,\"\\u82b1\\u7c89\\u7ba1\\u3001\\u7ec6\\u83cc\\u5206\\u6ccc\\u3001\\u5927\\u8c46\\u751f\\u7269\\u5b66\\u3001AI\\u4e0e\\u7b97\\u6cd5\\u3001\\u4eba\\u5de5\\u56ca\\u6ce1\\u3001\\u9ad8\\u901a\\u91cf\\u5e73\\u53f0\"],[\"institution\",4,\"\\u56ca\\u6ce1\\u8fd0\\u8f93\\u3001\\u5927\\u8c46\\u751f\\u7269\\u5b66\\u3001\\u57fa\\u56e0\\u7ec4\\u7f16\\u8f91\"],[\"institution\",3,\"\\u7ec6\\u83cc\\u5206\\u6ccc\\u3001\\u7ed3\\u6784\\u751f\\u7269\\u5b66\\u3001\\u9ad8\\u901a\\u91cf\\u5e73\\u53f0\"],[\"institution\",4,\"\\u7ec6\\u83cc\\u5206\\u6ccc\\u3001AI\\u4e0e\\u7b97\\u6cd5\\u3001\\u9ad8\\u901a\\u91cf\\u5e73\\u53f0\"],[\"institution\",2,\"\\u6d6e\\u840d\\u751f\\u7269\\u5b66\\u3001\\u57fa\\u56e0\\u7ec4\\u7f16\\u8f91\"]],\"hovertemplate\":\"\\u003cb\\u003e%{text}\\u003c\\u002fb\\u003e\\u003cbr\\u003e\\u8282\\u70b9\\u7c7b\\u578b: %{customdata[0]}\\u003cbr\\u003e\\u7814\\u7a76\\u4eba\\u5458\\u6570\\u91cf: %{customdata[1]}\\u003cbr\\u003e\\u8be6\\u7ec6\\u63cf\\u8ff0: %{customdata[2]}\\u003cbr\\u003e\\u003cextra\\u003e\\u003c\\u002fextra\\u003e\"},{\"hoverinfo\":\"none\",\"line\":{\"color\":\"rgba(100, 100, 100, 0.8)\",\"dash\":\"solid\",\"width\":5},\"mode\":\"lines\",\"showlegend\":false,\"x\":[-0.638085032107676,-0.11767515609905263],\"y\":[-0.6934055888063951,-0.8874555677955147],\"type\":\"scatter\",\"customdata\":[[\"field\",3,\"\\u5357\\u5f00\\u5927\\u5b66\\u3001\\u5148\\u8fdb\\u9662\"],[\"field\",4,\"\\u534e\\u5357\\u5e08\\u5927\\u3001\\u5357\\u5f00\\u5927\\u5b66\"],[\"field\",5,\"\\u6e56\\u5317\\u5927\\u5b66\\u3001\\u5929\\u5de5\\u6240\\u3001\\u5148\\u8fdb\\u9662\"],[\"field\",3,\"\\u5148\\u8fdb\\u9662\\u3001\\u534e\\u5357\\u5e08\\u5927\"],[\"field\",2,\"\\u5357\\u5f00\\u5927\\u5b66\\u3001\\u6df1\\u7406\\u5de5\"],[\"field\",3,\"\\u5929\\u5de5\\u6240\\u3001\\u5148\\u8fdb\\u9662\"],[\"field\",3,\"\\u5357\\u5f00\\u5927\\u5b66\\u3001\\u6e56\\u5317\\u5927\\u5b66\"],[\"field\",2,\"\\u6df1\\u7406\\u5de5\\u3001\\u534e\\u5357\\u5e08\\u5927\"],[\"field\",2,\"\\u5148\\u8fdb\\u9662\"],[\"field\",4,\"\\u6e56\\u5317\\u5927\\u5b66\\u3001\\u5929\\u5de5\\u6240\\u3001\\u5148\\u8fdb\\u9662\"],[\"institution\",6,\"\\u82b1\\u7c89\\u7ba1\\u3001\\u56ca\\u6ce1\\u8fd0\\u8f93\\u3001\\u6d6e\\u840d\\u751f\\u7269\\u5b66\\u3001\\u7ed3\\u6784\\u751f\\u7269\\u5b66\"],[\"institution\",8,\"\\u82b1\\u7c89\\u7ba1\\u3001\\u7ec6\\u83cc\\u5206\\u6ccc\\u3001\\u5927\\u8c46\\u751f\\u7269\\u5b66\\u3001AI\\u4e0e\\u7b97\\u6cd5\\u3001\\u4eba\\u5de5\\u56ca\\u6ce1\\u3001\\u9ad8\\u901a\\u91cf\\u5e73\\u53f0\"],[\"institution\",4,\"\\u56ca\\u6ce1\\u8fd0\\u8f93\\u3001\\u5927\\u8c46\\u751f\\u7269\\u5b66\\u3001\\u57fa\\u56e0\\u7ec4\\u7f16\\u8f91\"],[\"institution\",3,\"\\u7ec6\\u83cc\\u5206\\u6ccc\\u3001\\u7ed3\\u6784\\u751f\\u7269\\u5b66\\u3001\\u9ad8\\u901a\\u91cf\\u5e73\\u53f0\"],[\"institution\",4,\"\\u7ec6\\u83cc\\u5206\\u6ccc\\u3001AI\\u4e0e\\u7b97\\u6cd5\\u3001\\u9ad8\\u901a\\u91cf\\u5e73\\u53f0\"],[\"institution\",2,\"\\u6d6e\\u840d\\u751f\\u7269\\u5b66\\u3001\\u57fa\\u56e0\\u7ec4\\u7f16\\u8f91\"]],\"hovertemplate\":\"\\u003cb\\u003e%{text}\\u003c\\u002fb\\u003e\\u003cbr\\u003e\\u8282\\u70b9\\u7c7b\\u578b: %{customdata[0]}\\u003cbr\\u003e\\u7814\\u7a76\\u4eba\\u5458\\u6570\\u91cf: %{customdata[1]}\\u003cbr\\u003e\\u8be6\\u7ec6\\u63cf\\u8ff0: %{customdata[2]}\\u003cbr\\u003e\\u003cextra\\u003e\\u003c\\u002fextra\\u003e\"},{\"hoverinfo\":\"none\",\"line\":{\"color\":\"rgba(100, 100, 100, 0.8)\",\"dash\":\"solid\",\"width\":5},\"mode\":\"lines\",\"showlegend\":false,\"x\":[-0.638085032107676,-0.8315171265041406],\"y\":[-0.6934055888063951,0.016673417910385093],\"type\":\"scatter\",\"customdata\":[[\"field\",3,\"\\u5357\\u5f00\\u5927\\u5b66\\u3001\\u5148\\u8fdb\\u9662\"],[\"field\",4,\"\\u534e\\u5357\\u5e08\\u5927\\u3001\\u5357\\u5f00\\u5927\\u5b66\"],[\"field\",5,\"\\u6e56\\u5317\\u5927\\u5b66\\u3001\\u5929\\u5de5\\u6240\\u3001\\u5148\\u8fdb\\u9662\"],[\"field\",3,\"\\u5148\\u8fdb\\u9662\\u3001\\u534e\\u5357\\u5e08\\u5927\"],[\"field\",2,\"\\u5357\\u5f00\\u5927\\u5b66\\u3001\\u6df1\\u7406\\u5de5\"],[\"field\",3,\"\\u5929\\u5de5\\u6240\\u3001\\u5148\\u8fdb\\u9662\"],[\"field\",3,\"\\u5357\\u5f00\\u5927\\u5b66\\u3001\\u6e56\\u5317\\u5927\\u5b66\"],[\"field\",2,\"\\u6df1\\u7406\\u5de5\\u3001\\u534e\\u5357\\u5e08\\u5927\"],[\"field\",2,\"\\u5148\\u8fdb\\u9662\"],[\"field\",4,\"\\u6e56\\u5317\\u5927\\u5b66\\u3001\\u5929\\u5de5\\u6240\\u3001\\u5148\\u8fdb\\u9662\"],[\"institution\",6,\"\\u82b1\\u7c89\\u7ba1\\u3001\\u56ca\\u6ce1\\u8fd0\\u8f93\\u3001\\u6d6e\\u840d\\u751f\\u7269\\u5b66\\u3001\\u7ed3\\u6784\\u751f\\u7269\\u5b66\"],[\"institution\",8,\"\\u82b1\\u7c89\\u7ba1\\u3001\\u7ec6\\u83cc\\u5206\\u6ccc\\u3001\\u5927\\u8c46\\u751f\\u7269\\u5b66\\u3001AI\\u4e0e\\u7b97\\u6cd5\\u3001\\u4eba\\u5de5\\u56ca\\u6ce1\\u3001\\u9ad8\\u901a\\u91cf\\u5e73\\u53f0\"],[\"institution\",4,\"\\u56ca\\u6ce1\\u8fd0\\u8f93\\u3001\\u5927\\u8c46\\u751f\\u7269\\u5b66\\u3001\\u57fa\\u56e0\\u7ec4\\u7f16\\u8f91\"],[\"institution\",3,\"\\u7ec6\\u83cc\\u5206\\u6ccc\\u3001\\u7ed3\\u6784\\u751f\\u7269\\u5b66\\u3001\\u9ad8\\u901a\\u91cf\\u5e73\\u53f0\"],[\"institution\",4,\"\\u7ec6\\u83cc\\u5206\\u6ccc\\u3001AI\\u4e0e\\u7b97\\u6cd5\\u3001\\u9ad8\\u901a\\u91cf\\u5e73\\u53f0\"],[\"institution\",2,\"\\u6d6e\\u840d\\u751f\\u7269\\u5b66\\u3001\\u57fa\\u56e0\\u7ec4\\u7f16\\u8f91\"]],\"hovertemplate\":\"\\u003cb\\u003e%{text}\\u003c\\u002fb\\u003e\\u003cbr\\u003e\\u8282\\u70b9\\u7c7b\\u578b: %{customdata[0]}\\u003cbr\\u003e\\u7814\\u7a76\\u4eba\\u5458\\u6570\\u91cf: %{customdata[1]}\\u003cbr\\u003e\\u8be6\\u7ec6\\u63cf\\u8ff0: %{customdata[2]}\\u003cbr\\u003e\\u003cextra\\u003e\\u003c\\u002fextra\\u003e\"},{\"hoverinfo\":\"none\",\"line\":{\"color\":\"rgba(100, 100, 100, 0.8)\",\"dash\":\"solid\",\"width\":5},\"mode\":\"lines\",\"showlegend\":false,\"x\":[-0.7860180160957474,-0.8315171265041406],\"y\":[0.5651093771783389,0.016673417910385093],\"type\":\"scatter\",\"customdata\":[[\"field\",3,\"\\u5357\\u5f00\\u5927\\u5b66\\u3001\\u5148\\u8fdb\\u9662\"],[\"field\",4,\"\\u534e\\u5357\\u5e08\\u5927\\u3001\\u5357\\u5f00\\u5927\\u5b66\"],[\"field\",5,\"\\u6e56\\u5317\\u5927\\u5b66\\u3001\\u5929\\u5de5\\u6240\\u3001\\u5148\\u8fdb\\u9662\"],[\"field\",3,\"\\u5148\\u8fdb\\u9662\\u3001\\u534e\\u5357\\u5e08\\u5927\"],[\"field\",2,\"\\u5357\\u5f00\\u5927\\u5b66\\u3001\\u6df1\\u7406\\u5de5\"],[\"field\",3,\"\\u5929\\u5de5\\u6240\\u3001\\u5148\\u8fdb\\u9662\"],[\"field\",3,\"\\u5357\\u5f00\\u5927\\u5b66\\u3001\\u6e56\\u5317\\u5927\\u5b66\"],[\"field\",2,\"\\u6df1\\u7406\\u5de5\\u3001\\u534e\\u5357\\u5e08\\u5927\"],[\"field\",2,\"\\u5148\\u8fdb\\u9662\"],[\"field\",4,\"\\u6e56\\u5317\\u5927\\u5b66\\u3001\\u5929\\u5de5\\u6240\\u3001\\u5148\\u8fdb\\u9662\"],[\"institution\",6,\"\\u82b1\\u7c89\\u7ba1\\u3001\\u56ca\\u6ce1\\u8fd0\\u8f93\\u3001\\u6d6e\\u840d\\u751f\\u7269\\u5b66\\u3001\\u7ed3\\u6784\\u751f\\u7269\\u5b66\"],[\"institution\",8,\"\\u82b1\\u7c89\\u7ba1\\u3001\\u7ec6\\u83cc\\u5206\\u6ccc\\u3001\\u5927\\u8c46\\u751f\\u7269\\u5b66\\u3001AI\\u4e0e\\u7b97\\u6cd5\\u3001\\u4eba\\u5de5\\u56ca\\u6ce1\\u3001\\u9ad8\\u901a\\u91cf\\u5e73\\u53f0\"],[\"institution\",4,\"\\u56ca\\u6ce1\\u8fd0\\u8f93\\u3001\\u5927\\u8c46\\u751f\\u7269\\u5b66\\u3001\\u57fa\\u56e0\\u7ec4\\u7f16\\u8f91\"],[\"institution\",3,\"\\u7ec6\\u83cc\\u5206\\u6ccc\\u3001\\u7ed3\\u6784\\u751f\\u7269\\u5b66\\u3001\\u9ad8\\u901a\\u91cf\\u5e73\\u53f0\"],[\"institution\",4,\"\\u7ec6\\u83cc\\u5206\\u6ccc\\u3001AI\\u4e0e\\u7b97\\u6cd5\\u3001\\u9ad8\\u901a\\u91cf\\u5e73\\u53f0\"],[\"institution\",2,\"\\u6d6e\\u840d\\u751f\\u7269\\u5b66\\u3001\\u57fa\\u56e0\\u7ec4\\u7f16\\u8f91\"]],\"hovertemplate\":\"\\u003cb\\u003e%{text}\\u003c\\u002fb\\u003e\\u003cbr\\u003e\\u8282\\u70b9\\u7c7b\\u578b: %{customdata[0]}\\u003cbr\\u003e\\u7814\\u7a76\\u4eba\\u5458\\u6570\\u91cf: %{customdata[1]}\\u003cbr\\u003e\\u8be6\\u7ec6\\u63cf\\u8ff0: %{customdata[2]}\\u003cbr\\u003e\\u003cextra\\u003e\\u003c\\u002fextra\\u003e\"},{\"hoverinfo\":\"none\",\"line\":{\"color\":\"rgba(100, 100, 100, 0.8)\",\"dash\":\"solid\",\"width\":5},\"mode\":\"lines\",\"showlegend\":false,\"x\":[-0.7860180160957474,0.17538813757967128],\"y\":[0.5651093771783389,0.758786484533266],\"type\":\"scatter\",\"customdata\":[[\"field\",3,\"\\u5357\\u5f00\\u5927\\u5b66\\u3001\\u5148\\u8fdb\\u9662\"],[\"field\",4,\"\\u534e\\u5357\\u5e08\\u5927\\u3001\\u5357\\u5f00\\u5927\\u5b66\"],[\"field\",5,\"\\u6e56\\u5317\\u5927\\u5b66\\u3001\\u5929\\u5de5\\u6240\\u3001\\u5148\\u8fdb\\u9662\"],[\"field\",3,\"\\u5148\\u8fdb\\u9662\\u3001\\u534e\\u5357\\u5e08\\u5927\"],[\"field\",2,\"\\u5357\\u5f00\\u5927\\u5b66\\u3001\\u6df1\\u7406\\u5de5\"],[\"field\",3,\"\\u5929\\u5de5\\u6240\\u3001\\u5148\\u8fdb\\u9662\"],[\"field\",3,\"\\u5357\\u5f00\\u5927\\u5b66\\u3001\\u6e56\\u5317\\u5927\\u5b66\"],[\"field\",2,\"\\u6df1\\u7406\\u5de5\\u3001\\u534e\\u5357\\u5e08\\u5927\"],[\"field\",2,\"\\u5148\\u8fdb\\u9662\"],[\"field\",4,\"\\u6e56\\u5317\\u5927\\u5b66\\u3001\\u5929\\u5de5\\u6240\\u3001\\u5148\\u8fdb\\u9662\"],[\"institution\",6,\"\\u82b1\\u7c89\\u7ba1\\u3001\\u56ca\\u6ce1\\u8fd0\\u8f93\\u3001\\u6d6e\\u840d\\u751f\\u7269\\u5b66\\u3001\\u7ed3\\u6784\\u751f\\u7269\\u5b66\"],[\"institution\",8,\"\\u82b1\\u7c89\\u7ba1\\u3001\\u7ec6\\u83cc\\u5206\\u6ccc\\u3001\\u5927\\u8c46\\u751f\\u7269\\u5b66\\u3001AI\\u4e0e\\u7b97\\u6cd5\\u3001\\u4eba\\u5de5\\u56ca\\u6ce1\\u3001\\u9ad8\\u901a\\u91cf\\u5e73\\u53f0\"],[\"institution\",4,\"\\u56ca\\u6ce1\\u8fd0\\u8f93\\u3001\\u5927\\u8c46\\u751f\\u7269\\u5b66\\u3001\\u57fa\\u56e0\\u7ec4\\u7f16\\u8f91\"],[\"institution\",3,\"\\u7ec6\\u83cc\\u5206\\u6ccc\\u3001\\u7ed3\\u6784\\u751f\\u7269\\u5b66\\u3001\\u9ad8\\u901a\\u91cf\\u5e73\\u53f0\"],[\"institution\",4,\"\\u7ec6\\u83cc\\u5206\\u6ccc\\u3001AI\\u4e0e\\u7b97\\u6cd5\\u3001\\u9ad8\\u901a\\u91cf\\u5e73\\u53f0\"],[\"institution\",2,\"\\u6d6e\\u840d\\u751f\\u7269\\u5b66\\u3001\\u57fa\\u56e0\\u7ec4\\u7f16\\u8f91\"]],\"hovertemplate\":\"\\u003cb\\u003e%{text}\\u003c\\u002fb\\u003e\\u003cbr\\u003e\\u8282\\u70b9\\u7c7b\\u578b: %{customdata[0]}\\u003cbr\\u003e\\u7814\\u7a76\\u4eba\\u5458\\u6570\\u91cf: %{customdata[1]}\\u003cbr\\u003e\\u8be6\\u7ec6\\u63cf\\u8ff0: %{customdata[2]}\\u003cbr\\u003e\\u003cextra\\u003e\\u003c\\u002fextra\\u003e\"},{\"hoverinfo\":\"none\",\"line\":{\"color\":\"rgba(100, 100, 100, 0.8)\",\"dash\":\"solid\",\"width\":5},\"mode\":\"lines\",\"showlegend\":false,\"x\":[0.847028929845476,0.6080051747933145],\"y\":[0.5663048103273499,-0.031040202142359054],\"type\":\"scatter\",\"customdata\":[[\"field\",3,\"\\u5357\\u5f00\\u5927\\u5b66\\u3001\\u5148\\u8fdb\\u9662\"],[\"field\",4,\"\\u534e\\u5357\\u5e08\\u5927\\u3001\\u5357\\u5f00\\u5927\\u5b66\"],[\"field\",5,\"\\u6e56\\u5317\\u5927\\u5b66\\u3001\\u5929\\u5de5\\u6240\\u3001\\u5148\\u8fdb\\u9662\"],[\"field\",3,\"\\u5148\\u8fdb\\u9662\\u3001\\u534e\\u5357\\u5e08\\u5927\"],[\"field\",2,\"\\u5357\\u5f00\\u5927\\u5b66\\u3001\\u6df1\\u7406\\u5de5\"],[\"field\",3,\"\\u5929\\u5de5\\u6240\\u3001\\u5148\\u8fdb\\u9662\"],[\"field\",3,\"\\u5357\\u5f00\\u5927\\u5b66\\u3001\\u6e56\\u5317\\u5927\\u5b66\"],[\"field\",2,\"\\u6df1\\u7406\\u5de5\\u3001\\u534e\\u5357\\u5e08\\u5927\"],[\"field\",2,\"\\u5148\\u8fdb\\u9662\"],[\"field\",4,\"\\u6e56\\u5317\\u5927\\u5b66\\u3001\\u5929\\u5de5\\u6240\\u3001\\u5148\\u8fdb\\u9662\"],[\"institution\",6,\"\\u82b1\\u7c89\\u7ba1\\u3001\\u56ca\\u6ce1\\u8fd0\\u8f93\\u3001\\u6d6e\\u840d\\u751f\\u7269\\u5b66\\u3001\\u7ed3\\u6784\\u751f\\u7269\\u5b66\"],[\"institution\",8,\"\\u82b1\\u7c89\\u7ba1\\u3001\\u7ec6\\u83cc\\u5206\\u6ccc\\u3001\\u5927\\u8c46\\u751f\\u7269\\u5b66\\u3001AI\\u4e0e\\u7b97\\u6cd5\\u3001\\u4eba\\u5de5\\u56ca\\u6ce1\\u3001\\u9ad8\\u901a\\u91cf\\u5e73\\u53f0\"],[\"institution\",4,\"\\u56ca\\u6ce1\\u8fd0\\u8f93\\u3001\\u5927\\u8c46\\u751f\\u7269\\u5b66\\u3001\\u57fa\\u56e0\\u7ec4\\u7f16\\u8f91\"],[\"institution\",3,\"\\u7ec6\\u83cc\\u5206\\u6ccc\\u3001\\u7ed3\\u6784\\u751f\\u7269\\u5b66\\u3001\\u9ad8\\u901a\\u91cf\\u5e73\\u53f0\"],[\"institution\",4,\"\\u7ec6\\u83cc\\u5206\\u6ccc\\u3001AI\\u4e0e\\u7b97\\u6cd5\\u3001\\u9ad8\\u901a\\u91cf\\u5e73\\u53f0\"],[\"institution\",2,\"\\u6d6e\\u840d\\u751f\\u7269\\u5b66\\u3001\\u57fa\\u56e0\\u7ec4\\u7f16\\u8f91\"]],\"hovertemplate\":\"\\u003cb\\u003e%{text}\\u003c\\u002fb\\u003e\\u003cbr\\u003e\\u8282\\u70b9\\u7c7b\\u578b: %{customdata[0]}\\u003cbr\\u003e\\u7814\\u7a76\\u4eba\\u5458\\u6570\\u91cf: %{customdata[1]}\\u003cbr\\u003e\\u8be6\\u7ec6\\u63cf\\u8ff0: %{customdata[2]}\\u003cbr\\u003e\\u003cextra\\u003e\\u003c\\u002fextra\\u003e\"},{\"hoverinfo\":\"none\",\"line\":{\"color\":\"rgba(100, 100, 100, 0.8)\",\"dash\":\"solid\",\"width\":5},\"mode\":\"lines\",\"showlegend\":false,\"x\":[0.847028929845476,1.0],\"y\":[0.5663048103273499,-0.1149701141507968],\"type\":\"scatter\",\"customdata\":[[\"field\",3,\"\\u5357\\u5f00\\u5927\\u5b66\\u3001\\u5148\\u8fdb\\u9662\"],[\"field\",4,\"\\u534e\\u5357\\u5e08\\u5927\\u3001\\u5357\\u5f00\\u5927\\u5b66\"],[\"field\",5,\"\\u6e56\\u5317\\u5927\\u5b66\\u3001\\u5929\\u5de5\\u6240\\u3001\\u5148\\u8fdb\\u9662\"],[\"field\",3,\"\\u5148\\u8fdb\\u9662\\u3001\\u534e\\u5357\\u5e08\\u5927\"],[\"field\",2,\"\\u5357\\u5f00\\u5927\\u5b66\\u3001\\u6df1\\u7406\\u5de5\"],[\"field\",3,\"\\u5929\\u5de5\\u6240\\u3001\\u5148\\u8fdb\\u9662\"],[\"field\",3,\"\\u5357\\u5f00\\u5927\\u5b66\\u3001\\u6e56\\u5317\\u5927\\u5b66\"],[\"field\",2,\"\\u6df1\\u7406\\u5de5\\u3001\\u534e\\u5357\\u5e08\\u5927\"],[\"field\",2,\"\\u5148\\u8fdb\\u9662\"],[\"field\",4,\"\\u6e56\\u5317\\u5927\\u5b66\\u3001\\u5929\\u5de5\\u6240\\u3001\\u5148\\u8fdb\\u9662\"],[\"institution\",6,\"\\u82b1\\u7c89\\u7ba1\\u3001\\u56ca\\u6ce1\\u8fd0\\u8f93\\u3001\\u6d6e\\u840d\\u751f\\u7269\\u5b66\\u3001\\u7ed3\\u6784\\u751f\\u7269\\u5b66\"],[\"institution\",8,\"\\u82b1\\u7c89\\u7ba1\\u3001\\u7ec6\\u83cc\\u5206\\u6ccc\\u3001\\u5927\\u8c46\\u751f\\u7269\\u5b66\\u3001AI\\u4e0e\\u7b97\\u6cd5\\u3001\\u4eba\\u5de5\\u56ca\\u6ce1\\u3001\\u9ad8\\u901a\\u91cf\\u5e73\\u53f0\"],[\"institution\",4,\"\\u56ca\\u6ce1\\u8fd0\\u8f93\\u3001\\u5927\\u8c46\\u751f\\u7269\\u5b66\\u3001\\u57fa\\u56e0\\u7ec4\\u7f16\\u8f91\"],[\"institution\",3,\"\\u7ec6\\u83cc\\u5206\\u6ccc\\u3001\\u7ed3\\u6784\\u751f\\u7269\\u5b66\\u3001\\u9ad8\\u901a\\u91cf\\u5e73\\u53f0\"],[\"institution\",4,\"\\u7ec6\\u83cc\\u5206\\u6ccc\\u3001AI\\u4e0e\\u7b97\\u6cd5\\u3001\\u9ad8\\u901a\\u91cf\\u5e73\\u53f0\"],[\"institution\",2,\"\\u6d6e\\u840d\\u751f\\u7269\\u5b66\\u3001\\u57fa\\u56e0\\u7ec4\\u7f16\\u8f91\"]],\"hovertemplate\":\"\\u003cb\\u003e%{text}\\u003c\\u002fb\\u003e\\u003cbr\\u003e\\u8282\\u70b9\\u7c7b\\u578b: %{customdata[0]}\\u003cbr\\u003e\\u7814\\u7a76\\u4eba\\u5458\\u6570\\u91cf: %{customdata[1]}\\u003cbr\\u003e\\u8be6\\u7ec6\\u63cf\\u8ff0: %{customdata[2]}\\u003cbr\\u003e\\u003cextra\\u003e\\u003c\\u002fextra\\u003e\"},{\"hoverinfo\":\"none\",\"line\":{\"color\":\"rgba(100, 100, 100, 0.8)\",\"dash\":\"solid\",\"width\":5},\"mode\":\"lines\",\"showlegend\":false,\"x\":[-0.5211120799013925,-0.11767515609905263],\"y\":[0.12666380199600855,-0.8874555677955147],\"type\":\"scatter\",\"customdata\":[[\"field\",3,\"\\u5357\\u5f00\\u5927\\u5b66\\u3001\\u5148\\u8fdb\\u9662\"],[\"field\",4,\"\\u534e\\u5357\\u5e08\\u5927\\u3001\\u5357\\u5f00\\u5927\\u5b66\"],[\"field\",5,\"\\u6e56\\u5317\\u5927\\u5b66\\u3001\\u5929\\u5de5\\u6240\\u3001\\u5148\\u8fdb\\u9662\"],[\"field\",3,\"\\u5148\\u8fdb\\u9662\\u3001\\u534e\\u5357\\u5e08\\u5927\"],[\"field\",2,\"\\u5357\\u5f00\\u5927\\u5b66\\u3001\\u6df1\\u7406\\u5de5\"],[\"field\",3,\"\\u5929\\u5de5\\u6240\\u3001\\u5148\\u8fdb\\u9662\"],[\"field\",3,\"\\u5357\\u5f00\\u5927\\u5b66\\u3001\\u6e56\\u5317\\u5927\\u5b66\"],[\"field\",2,\"\\u6df1\\u7406\\u5de5\\u3001\\u534e\\u5357\\u5e08\\u5927\"],[\"field\",2,\"\\u5148\\u8fdb\\u9662\"],[\"field\",4,\"\\u6e56\\u5317\\u5927\\u5b66\\u3001\\u5929\\u5de5\\u6240\\u3001\\u5148\\u8fdb\\u9662\"],[\"institution\",6,\"\\u82b1\\u7c89\\u7ba1\\u3001\\u56ca\\u6ce1\\u8fd0\\u8f93\\u3001\\u6d6e\\u840d\\u751f\\u7269\\u5b66\\u3001\\u7ed3\\u6784\\u751f\\u7269\\u5b66\"],[\"institution\",8,\"\\u82b1\\u7c89\\u7ba1\\u3001\\u7ec6\\u83cc\\u5206\\u6ccc\\u3001\\u5927\\u8c46\\u751f\\u7269\\u5b66\\u3001AI\\u4e0e\\u7b97\\u6cd5\\u3001\\u4eba\\u5de5\\u56ca\\u6ce1\\u3001\\u9ad8\\u901a\\u91cf\\u5e73\\u53f0\"],[\"institution\",4,\"\\u56ca\\u6ce1\\u8fd0\\u8f93\\u3001\\u5927\\u8c46\\u751f\\u7269\\u5b66\\u3001\\u57fa\\u56e0\\u7ec4\\u7f16\\u8f91\"],[\"institution\",3,\"\\u7ec6\\u83cc\\u5206\\u6ccc\\u3001\\u7ed3\\u6784\\u751f\\u7269\\u5b66\\u3001\\u9ad8\\u901a\\u91cf\\u5e73\\u53f0\"],[\"institution\",4,\"\\u7ec6\\u83cc\\u5206\\u6ccc\\u3001AI\\u4e0e\\u7b97\\u6cd5\\u3001\\u9ad8\\u901a\\u91cf\\u5e73\\u53f0\"],[\"institution\",2,\"\\u6d6e\\u840d\\u751f\\u7269\\u5b66\\u3001\\u57fa\\u56e0\\u7ec4\\u7f16\\u8f91\"]],\"hovertemplate\":\"\\u003cb\\u003e%{text}\\u003c\\u002fb\\u003e\\u003cbr\\u003e\\u8282\\u70b9\\u7c7b\\u578b: %{customdata[0]}\\u003cbr\\u003e\\u7814\\u7a76\\u4eba\\u5458\\u6570\\u91cf: %{customdata[1]}\\u003cbr\\u003e\\u8be6\\u7ec6\\u63cf\\u8ff0: %{customdata[2]}\\u003cbr\\u003e\\u003cextra\\u003e\\u003c\\u002fextra\\u003e\"},{\"hoverinfo\":\"none\",\"line\":{\"color\":\"rgba(100, 100, 100, 0.8)\",\"dash\":\"solid\",\"width\":5},\"mode\":\"lines\",\"showlegend\":false,\"x\":[-0.5211120799013925,-0.8315171265041406],\"y\":[0.12666380199600855,0.016673417910385093],\"type\":\"scatter\",\"customdata\":[[\"field\",3,\"\\u5357\\u5f00\\u5927\\u5b66\\u3001\\u5148\\u8fdb\\u9662\"],[\"field\",4,\"\\u534e\\u5357\\u5e08\\u5927\\u3001\\u5357\\u5f00\\u5927\\u5b66\"],[\"field\",5,\"\\u6e56\\u5317\\u5927\\u5b66\\u3001\\u5929\\u5de5\\u6240\\u3001\\u5148\\u8fdb\\u9662\"],[\"field\",3,\"\\u5148\\u8fdb\\u9662\\u3001\\u534e\\u5357\\u5e08\\u5927\"],[\"field\",2,\"\\u5357\\u5f00\\u5927\\u5b66\\u3001\\u6df1\\u7406\\u5de5\"],[\"field\",3,\"\\u5929\\u5de5\\u6240\\u3001\\u5148\\u8fdb\\u9662\"],[\"field\",3,\"\\u5357\\u5f00\\u5927\\u5b66\\u3001\\u6e56\\u5317\\u5927\\u5b66\"],[\"field\",2,\"\\u6df1\\u7406\\u5de5\\u3001\\u534e\\u5357\\u5e08\\u5927\"],[\"field\",2,\"\\u5148\\u8fdb\\u9662\"],[\"field\",4,\"\\u6e56\\u5317\\u5927\\u5b66\\u3001\\u5929\\u5de5\\u6240\\u3001\\u5148\\u8fdb\\u9662\"],[\"institution\",6,\"\\u82b1\\u7c89\\u7ba1\\u3001\\u56ca\\u6ce1\\u8fd0\\u8f93\\u3001\\u6d6e\\u840d\\u751f\\u7269\\u5b66\\u3001\\u7ed3\\u6784\\u751f\\u7269\\u5b66\"],[\"institution\",8,\"\\u82b1\\u7c89\\u7ba1\\u3001\\u7ec6\\u83cc\\u5206\\u6ccc\\u3001\\u5927\\u8c46\\u751f\\u7269\\u5b66\\u3001AI\\u4e0e\\u7b97\\u6cd5\\u3001\\u4eba\\u5de5\\u56ca\\u6ce1\\u3001\\u9ad8\\u901a\\u91cf\\u5e73\\u53f0\"],[\"institution\",4,\"\\u56ca\\u6ce1\\u8fd0\\u8f93\\u3001\\u5927\\u8c46\\u751f\\u7269\\u5b66\\u3001\\u57fa\\u56e0\\u7ec4\\u7f16\\u8f91\"],[\"institution\",3,\"\\u7ec6\\u83cc\\u5206\\u6ccc\\u3001\\u7ed3\\u6784\\u751f\\u7269\\u5b66\\u3001\\u9ad8\\u901a\\u91cf\\u5e73\\u53f0\"],[\"institution\",4,\"\\u7ec6\\u83cc\\u5206\\u6ccc\\u3001AI\\u4e0e\\u7b97\\u6cd5\\u3001\\u9ad8\\u901a\\u91cf\\u5e73\\u53f0\"],[\"institution\",2,\"\\u6d6e\\u840d\\u751f\\u7269\\u5b66\\u3001\\u57fa\\u56e0\\u7ec4\\u7f16\\u8f91\"]],\"hovertemplate\":\"\\u003cb\\u003e%{text}\\u003c\\u002fb\\u003e\\u003cbr\\u003e\\u8282\\u70b9\\u7c7b\\u578b: %{customdata[0]}\\u003cbr\\u003e\\u7814\\u7a76\\u4eba\\u5458\\u6570\\u91cf: %{customdata[1]}\\u003cbr\\u003e\\u8be6\\u7ec6\\u63cf\\u8ff0: %{customdata[2]}\\u003cbr\\u003e\\u003cextra\\u003e\\u003c\\u002fextra\\u003e\"},{\"hoverinfo\":\"none\",\"line\":{\"color\":\"rgba(100, 100, 100, 0.8)\",\"dash\":\"solid\",\"width\":5},\"mode\":\"lines\",\"showlegend\":false,\"x\":[0.5836851030137952,0.6080051747933145],\"y\":[-0.6495378043587096,-0.031040202142359054],\"type\":\"scatter\",\"customdata\":[[\"field\",3,\"\\u5357\\u5f00\\u5927\\u5b66\\u3001\\u5148\\u8fdb\\u9662\"],[\"field\",4,\"\\u534e\\u5357\\u5e08\\u5927\\u3001\\u5357\\u5f00\\u5927\\u5b66\"],[\"field\",5,\"\\u6e56\\u5317\\u5927\\u5b66\\u3001\\u5929\\u5de5\\u6240\\u3001\\u5148\\u8fdb\\u9662\"],[\"field\",3,\"\\u5148\\u8fdb\\u9662\\u3001\\u534e\\u5357\\u5e08\\u5927\"],[\"field\",2,\"\\u5357\\u5f00\\u5927\\u5b66\\u3001\\u6df1\\u7406\\u5de5\"],[\"field\",3,\"\\u5929\\u5de5\\u6240\\u3001\\u5148\\u8fdb\\u9662\"],[\"field\",3,\"\\u5357\\u5f00\\u5927\\u5b66\\u3001\\u6e56\\u5317\\u5927\\u5b66\"],[\"field\",2,\"\\u6df1\\u7406\\u5de5\\u3001\\u534e\\u5357\\u5e08\\u5927\"],[\"field\",2,\"\\u5148\\u8fdb\\u9662\"],[\"field\",4,\"\\u6e56\\u5317\\u5927\\u5b66\\u3001\\u5929\\u5de5\\u6240\\u3001\\u5148\\u8fdb\\u9662\"],[\"institution\",6,\"\\u82b1\\u7c89\\u7ba1\\u3001\\u56ca\\u6ce1\\u8fd0\\u8f93\\u3001\\u6d6e\\u840d\\u751f\\u7269\\u5b66\\u3001\\u7ed3\\u6784\\u751f\\u7269\\u5b66\"],[\"institution\",8,\"\\u82b1\\u7c89\\u7ba1\\u3001\\u7ec6\\u83cc\\u5206\\u6ccc\\u3001\\u5927\\u8c46\\u751f\\u7269\\u5b66\\u3001AI\\u4e0e\\u7b97\\u6cd5\\u3001\\u4eba\\u5de5\\u56ca\\u6ce1\\u3001\\u9ad8\\u901a\\u91cf\\u5e73\\u53f0\"],[\"institution\",4,\"\\u56ca\\u6ce1\\u8fd0\\u8f93\\u3001\\u5927\\u8c46\\u751f\\u7269\\u5b66\\u3001\\u57fa\\u56e0\\u7ec4\\u7f16\\u8f91\"],[\"institution\",3,\"\\u7ec6\\u83cc\\u5206\\u6ccc\\u3001\\u7ed3\\u6784\\u751f\\u7269\\u5b66\\u3001\\u9ad8\\u901a\\u91cf\\u5e73\\u53f0\"],[\"institution\",4,\"\\u7ec6\\u83cc\\u5206\\u6ccc\\u3001AI\\u4e0e\\u7b97\\u6cd5\\u3001\\u9ad8\\u901a\\u91cf\\u5e73\\u53f0\"],[\"institution\",2,\"\\u6d6e\\u840d\\u751f\\u7269\\u5b66\\u3001\\u57fa\\u56e0\\u7ec4\\u7f16\\u8f91\"]],\"hovertemplate\":\"\\u003cb\\u003e%{text}\\u003c\\u002fb\\u003e\\u003cbr\\u003e\\u8282\\u70b9\\u7c7b\\u578b: %{customdata[0]}\\u003cbr\\u003e\\u7814\\u7a76\\u4eba\\u5458\\u6570\\u91cf: %{customdata[1]}\\u003cbr\\u003e\\u8be6\\u7ec6\\u63cf\\u8ff0: %{customdata[2]}\\u003cbr\\u003e\\u003cextra\\u003e\\u003c\\u002fextra\\u003e\"},{\"hoverinfo\":\"none\",\"line\":{\"color\":\"rgba(100, 100, 100, 0.8)\",\"dash\":\"solid\",\"width\":5},\"mode\":\"lines\",\"showlegend\":false,\"x\":[0.5836851030137952,-0.37929155971635503],\"y\":[-0.6495378043587096,-0.310644015934855],\"type\":\"scatter\",\"customdata\":[[\"field\",3,\"\\u5357\\u5f00\\u5927\\u5b66\\u3001\\u5148\\u8fdb\\u9662\"],[\"field\",4,\"\\u534e\\u5357\\u5e08\\u5927\\u3001\\u5357\\u5f00\\u5927\\u5b66\"],[\"field\",5,\"\\u6e56\\u5317\\u5927\\u5b66\\u3001\\u5929\\u5de5\\u6240\\u3001\\u5148\\u8fdb\\u9662\"],[\"field\",3,\"\\u5148\\u8fdb\\u9662\\u3001\\u534e\\u5357\\u5e08\\u5927\"],[\"field\",2,\"\\u5357\\u5f00\\u5927\\u5b66\\u3001\\u6df1\\u7406\\u5de5\"],[\"field\",3,\"\\u5929\\u5de5\\u6240\\u3001\\u5148\\u8fdb\\u9662\"],[\"field\",3,\"\\u5357\\u5f00\\u5927\\u5b66\\u3001\\u6e56\\u5317\\u5927\\u5b66\"],[\"field\",2,\"\\u6df1\\u7406\\u5de5\\u3001\\u534e\\u5357\\u5e08\\u5927\"],[\"field\",2,\"\\u5148\\u8fdb\\u9662\"],[\"field\",4,\"\\u6e56\\u5317\\u5927\\u5b66\\u3001\\u5929\\u5de5\\u6240\\u3001\\u5148\\u8fdb\\u9662\"],[\"institution\",6,\"\\u82b1\\u7c89\\u7ba1\\u3001\\u56ca\\u6ce1\\u8fd0\\u8f93\\u3001\\u6d6e\\u840d\\u751f\\u7269\\u5b66\\u3001\\u7ed3\\u6784\\u751f\\u7269\\u5b66\"],[\"institution\",8,\"\\u82b1\\u7c89\\u7ba1\\u3001\\u7ec6\\u83cc\\u5206\\u6ccc\\u3001\\u5927\\u8c46\\u751f\\u7269\\u5b66\\u3001AI\\u4e0e\\u7b97\\u6cd5\\u3001\\u4eba\\u5de5\\u56ca\\u6ce1\\u3001\\u9ad8\\u901a\\u91cf\\u5e73\\u53f0\"],[\"institution\",4,\"\\u56ca\\u6ce1\\u8fd0\\u8f93\\u3001\\u5927\\u8c46\\u751f\\u7269\\u5b66\\u3001\\u57fa\\u56e0\\u7ec4\\u7f16\\u8f91\"],[\"institution\",3,\"\\u7ec6\\u83cc\\u5206\\u6ccc\\u3001\\u7ed3\\u6784\\u751f\\u7269\\u5b66\\u3001\\u9ad8\\u901a\\u91cf\\u5e73\\u53f0\"],[\"institution\",4,\"\\u7ec6\\u83cc\\u5206\\u6ccc\\u3001AI\\u4e0e\\u7b97\\u6cd5\\u3001\\u9ad8\\u901a\\u91cf\\u5e73\\u53f0\"],[\"institution\",2,\"\\u6d6e\\u840d\\u751f\\u7269\\u5b66\\u3001\\u57fa\\u56e0\\u7ec4\\u7f16\\u8f91\"]],\"hovertemplate\":\"\\u003cb\\u003e%{text}\\u003c\\u002fb\\u003e\\u003cbr\\u003e\\u8282\\u70b9\\u7c7b\\u578b: %{customdata[0]}\\u003cbr\\u003e\\u7814\\u7a76\\u4eba\\u5458\\u6570\\u91cf: %{customdata[1]}\\u003cbr\\u003e\\u8be6\\u7ec6\\u63cf\\u8ff0: %{customdata[2]}\\u003cbr\\u003e\\u003cextra\\u003e\\u003c\\u002fextra\\u003e\"},{\"hoverinfo\":\"none\",\"line\":{\"color\":\"rgba(100, 100, 100, 0.8)\",\"dash\":\"solid\",\"width\":5},\"mode\":\"lines\",\"showlegend\":false,\"x\":[0.026078722027613906,1.0],\"y\":[-0.12010404961695754,-0.1149701141507968],\"type\":\"scatter\",\"customdata\":[[\"field\",3,\"\\u5357\\u5f00\\u5927\\u5b66\\u3001\\u5148\\u8fdb\\u9662\"],[\"field\",4,\"\\u534e\\u5357\\u5e08\\u5927\\u3001\\u5357\\u5f00\\u5927\\u5b66\"],[\"field\",5,\"\\u6e56\\u5317\\u5927\\u5b66\\u3001\\u5929\\u5de5\\u6240\\u3001\\u5148\\u8fdb\\u9662\"],[\"field\",3,\"\\u5148\\u8fdb\\u9662\\u3001\\u534e\\u5357\\u5e08\\u5927\"],[\"field\",2,\"\\u5357\\u5f00\\u5927\\u5b66\\u3001\\u6df1\\u7406\\u5de5\"],[\"field\",3,\"\\u5929\\u5de5\\u6240\\u3001\\u5148\\u8fdb\\u9662\"],[\"field\",3,\"\\u5357\\u5f00\\u5927\\u5b66\\u3001\\u6e56\\u5317\\u5927\\u5b66\"],[\"field\",2,\"\\u6df1\\u7406\\u5de5\\u3001\\u534e\\u5357\\u5e08\\u5927\"],[\"field\",2,\"\\u5148\\u8fdb\\u9662\"],[\"field\",4,\"\\u6e56\\u5317\\u5927\\u5b66\\u3001\\u5929\\u5de5\\u6240\\u3001\\u5148\\u8fdb\\u9662\"],[\"institution\",6,\"\\u82b1\\u7c89\\u7ba1\\u3001\\u56ca\\u6ce1\\u8fd0\\u8f93\\u3001\\u6d6e\\u840d\\u751f\\u7269\\u5b66\\u3001\\u7ed3\\u6784\\u751f\\u7269\\u5b66\"],[\"institution\",8,\"\\u82b1\\u7c89\\u7ba1\\u3001\\u7ec6\\u83cc\\u5206\\u6ccc\\u3001\\u5927\\u8c46\\u751f\\u7269\\u5b66\\u3001AI\\u4e0e\\u7b97\\u6cd5\\u3001\\u4eba\\u5de5\\u56ca\\u6ce1\\u3001\\u9ad8\\u901a\\u91cf\\u5e73\\u53f0\"],[\"institution\",4,\"\\u56ca\\u6ce1\\u8fd0\\u8f93\\u3001\\u5927\\u8c46\\u751f\\u7269\\u5b66\\u3001\\u57fa\\u56e0\\u7ec4\\u7f16\\u8f91\"],[\"institution\",3,\"\\u7ec6\\u83cc\\u5206\\u6ccc\\u3001\\u7ed3\\u6784\\u751f\\u7269\\u5b66\\u3001\\u9ad8\\u901a\\u91cf\\u5e73\\u53f0\"],[\"institution\",4,\"\\u7ec6\\u83cc\\u5206\\u6ccc\\u3001AI\\u4e0e\\u7b97\\u6cd5\\u3001\\u9ad8\\u901a\\u91cf\\u5e73\\u53f0\"],[\"institution\",2,\"\\u6d6e\\u840d\\u751f\\u7269\\u5b66\\u3001\\u57fa\\u56e0\\u7ec4\\u7f16\\u8f91\"]],\"hovertemplate\":\"\\u003cb\\u003e%{text}\\u003c\\u002fb\\u003e\\u003cbr\\u003e\\u8282\\u70b9\\u7c7b\\u578b: %{customdata[0]}\\u003cbr\\u003e\\u7814\\u7a76\\u4eba\\u5458\\u6570\\u91cf: %{customdata[1]}\\u003cbr\\u003e\\u8be6\\u7ec6\\u63cf\\u8ff0: %{customdata[2]}\\u003cbr\\u003e\\u003cextra\\u003e\\u003c\\u002fextra\\u003e\"},{\"hoverinfo\":\"none\",\"line\":{\"color\":\"rgba(100, 100, 100, 0.8)\",\"dash\":\"solid\",\"width\":5},\"mode\":\"lines\",\"showlegend\":false,\"x\":[0.026078722027613906,0.17538813757967128],\"y\":[-0.12010404961695754,0.758786484533266],\"type\":\"scatter\",\"customdata\":[[\"field\",3,\"\\u5357\\u5f00\\u5927\\u5b66\\u3001\\u5148\\u8fdb\\u9662\"],[\"field\",4,\"\\u534e\\u5357\\u5e08\\u5927\\u3001\\u5357\\u5f00\\u5927\\u5b66\"],[\"field\",5,\"\\u6e56\\u5317\\u5927\\u5b66\\u3001\\u5929\\u5de5\\u6240\\u3001\\u5148\\u8fdb\\u9662\"],[\"field\",3,\"\\u5148\\u8fdb\\u9662\\u3001\\u534e\\u5357\\u5e08\\u5927\"],[\"field\",2,\"\\u5357\\u5f00\\u5927\\u5b66\\u3001\\u6df1\\u7406\\u5de5\"],[\"field\",3,\"\\u5929\\u5de5\\u6240\\u3001\\u5148\\u8fdb\\u9662\"],[\"field\",3,\"\\u5357\\u5f00\\u5927\\u5b66\\u3001\\u6e56\\u5317\\u5927\\u5b66\"],[\"field\",2,\"\\u6df1\\u7406\\u5de5\\u3001\\u534e\\u5357\\u5e08\\u5927\"],[\"field\",2,\"\\u5148\\u8fdb\\u9662\"],[\"field\",4,\"\\u6e56\\u5317\\u5927\\u5b66\\u3001\\u5929\\u5de5\\u6240\\u3001\\u5148\\u8fdb\\u9662\"],[\"institution\",6,\"\\u82b1\\u7c89\\u7ba1\\u3001\\u56ca\\u6ce1\\u8fd0\\u8f93\\u3001\\u6d6e\\u840d\\u751f\\u7269\\u5b66\\u3001\\u7ed3\\u6784\\u751f\\u7269\\u5b66\"],[\"institution\",8,\"\\u82b1\\u7c89\\u7ba1\\u3001\\u7ec6\\u83cc\\u5206\\u6ccc\\u3001\\u5927\\u8c46\\u751f\\u7269\\u5b66\\u3001AI\\u4e0e\\u7b97\\u6cd5\\u3001\\u4eba\\u5de5\\u56ca\\u6ce1\\u3001\\u9ad8\\u901a\\u91cf\\u5e73\\u53f0\"],[\"institution\",4,\"\\u56ca\\u6ce1\\u8fd0\\u8f93\\u3001\\u5927\\u8c46\\u751f\\u7269\\u5b66\\u3001\\u57fa\\u56e0\\u7ec4\\u7f16\\u8f91\"],[\"institution\",3,\"\\u7ec6\\u83cc\\u5206\\u6ccc\\u3001\\u7ed3\\u6784\\u751f\\u7269\\u5b66\\u3001\\u9ad8\\u901a\\u91cf\\u5e73\\u53f0\"],[\"institution\",4,\"\\u7ec6\\u83cc\\u5206\\u6ccc\\u3001AI\\u4e0e\\u7b97\\u6cd5\\u3001\\u9ad8\\u901a\\u91cf\\u5e73\\u53f0\"],[\"institution\",2,\"\\u6d6e\\u840d\\u751f\\u7269\\u5b66\\u3001\\u57fa\\u56e0\\u7ec4\\u7f16\\u8f91\"]],\"hovertemplate\":\"\\u003cb\\u003e%{text}\\u003c\\u002fb\\u003e\\u003cbr\\u003e\\u8282\\u70b9\\u7c7b\\u578b: %{customdata[0]}\\u003cbr\\u003e\\u7814\\u7a76\\u4eba\\u5458\\u6570\\u91cf: %{customdata[1]}\\u003cbr\\u003e\\u8be6\\u7ec6\\u63cf\\u8ff0: %{customdata[2]}\\u003cbr\\u003e\\u003cextra\\u003e\\u003c\\u002fextra\\u003e\"},{\"hoverinfo\":\"none\",\"line\":{\"color\":\"rgba(100, 100, 100, 0.8)\",\"dash\":\"solid\",\"width\":5},\"mode\":\"lines\",\"showlegend\":false,\"x\":[-0.443521321972668,-0.8315171265041406],\"y\":[0.8290290685731239,0.016673417910385093],\"type\":\"scatter\",\"customdata\":[[\"field\",3,\"\\u5357\\u5f00\\u5927\\u5b66\\u3001\\u5148\\u8fdb\\u9662\"],[\"field\",4,\"\\u534e\\u5357\\u5e08\\u5927\\u3001\\u5357\\u5f00\\u5927\\u5b66\"],[\"field\",5,\"\\u6e56\\u5317\\u5927\\u5b66\\u3001\\u5929\\u5de5\\u6240\\u3001\\u5148\\u8fdb\\u9662\"],[\"field\",3,\"\\u5148\\u8fdb\\u9662\\u3001\\u534e\\u5357\\u5e08\\u5927\"],[\"field\",2,\"\\u5357\\u5f00\\u5927\\u5b66\\u3001\\u6df1\\u7406\\u5de5\"],[\"field\",3,\"\\u5929\\u5de5\\u6240\\u3001\\u5148\\u8fdb\\u9662\"],[\"field\",3,\"\\u5357\\u5f00\\u5927\\u5b66\\u3001\\u6e56\\u5317\\u5927\\u5b66\"],[\"field\",2,\"\\u6df1\\u7406\\u5de5\\u3001\\u534e\\u5357\\u5e08\\u5927\"],[\"field\",2,\"\\u5148\\u8fdb\\u9662\"],[\"field\",4,\"\\u6e56\\u5317\\u5927\\u5b66\\u3001\\u5929\\u5de5\\u6240\\u3001\\u5148\\u8fdb\\u9662\"],[\"institution\",6,\"\\u82b1\\u7c89\\u7ba1\\u3001\\u56ca\\u6ce1\\u8fd0\\u8f93\\u3001\\u6d6e\\u840d\\u751f\\u7269\\u5b66\\u3001\\u7ed3\\u6784\\u751f\\u7269\\u5b66\"],[\"institution\",8,\"\\u82b1\\u7c89\\u7ba1\\u3001\\u7ec6\\u83cc\\u5206\\u6ccc\\u3001\\u5927\\u8c46\\u751f\\u7269\\u5b66\\u3001AI\\u4e0e\\u7b97\\u6cd5\\u3001\\u4eba\\u5de5\\u56ca\\u6ce1\\u3001\\u9ad8\\u901a\\u91cf\\u5e73\\u53f0\"],[\"institution\",4,\"\\u56ca\\u6ce1\\u8fd0\\u8f93\\u3001\\u5927\\u8c46\\u751f\\u7269\\u5b66\\u3001\\u57fa\\u56e0\\u7ec4\\u7f16\\u8f91\"],[\"institution\",3,\"\\u7ec6\\u83cc\\u5206\\u6ccc\\u3001\\u7ed3\\u6784\\u751f\\u7269\\u5b66\\u3001\\u9ad8\\u901a\\u91cf\\u5e73\\u53f0\"],[\"institution\",4,\"\\u7ec6\\u83cc\\u5206\\u6ccc\\u3001AI\\u4e0e\\u7b97\\u6cd5\\u3001\\u9ad8\\u901a\\u91cf\\u5e73\\u53f0\"],[\"institution\",2,\"\\u6d6e\\u840d\\u751f\\u7269\\u5b66\\u3001\\u57fa\\u56e0\\u7ec4\\u7f16\\u8f91\"]],\"hovertemplate\":\"\\u003cb\\u003e%{text}\\u003c\\u002fb\\u003e\\u003cbr\\u003e\\u8282\\u70b9\\u7c7b\\u578b: %{customdata[0]}\\u003cbr\\u003e\\u7814\\u7a76\\u4eba\\u5458\\u6570\\u91cf: %{customdata[1]}\\u003cbr\\u003e\\u8be6\\u7ec6\\u63cf\\u8ff0: %{customdata[2]}\\u003cbr\\u003e\\u003cextra\\u003e\\u003c\\u002fextra\\u003e\"},{\"hoverinfo\":\"none\",\"line\":{\"color\":\"rgba(100, 100, 100, 0.8)\",\"dash\":\"solid\",\"width\":5},\"mode\":\"lines\",\"showlegend\":false,\"x\":[-0.3889432309220334,-0.37929155971635503],\"y\":[-0.8132694056204967,-0.310644015934855],\"type\":\"scatter\",\"customdata\":[[\"field\",3,\"\\u5357\\u5f00\\u5927\\u5b66\\u3001\\u5148\\u8fdb\\u9662\"],[\"field\",4,\"\\u534e\\u5357\\u5e08\\u5927\\u3001\\u5357\\u5f00\\u5927\\u5b66\"],[\"field\",5,\"\\u6e56\\u5317\\u5927\\u5b66\\u3001\\u5929\\u5de5\\u6240\\u3001\\u5148\\u8fdb\\u9662\"],[\"field\",3,\"\\u5148\\u8fdb\\u9662\\u3001\\u534e\\u5357\\u5e08\\u5927\"],[\"field\",2,\"\\u5357\\u5f00\\u5927\\u5b66\\u3001\\u6df1\\u7406\\u5de5\"],[\"field\",3,\"\\u5929\\u5de5\\u6240\\u3001\\u5148\\u8fdb\\u9662\"],[\"field\",3,\"\\u5357\\u5f00\\u5927\\u5b66\\u3001\\u6e56\\u5317\\u5927\\u5b66\"],[\"field\",2,\"\\u6df1\\u7406\\u5de5\\u3001\\u534e\\u5357\\u5e08\\u5927\"],[\"field\",2,\"\\u5148\\u8fdb\\u9662\"],[\"field\",4,\"\\u6e56\\u5317\\u5927\\u5b66\\u3001\\u5929\\u5de5\\u6240\\u3001\\u5148\\u8fdb\\u9662\"],[\"institution\",6,\"\\u82b1\\u7c89\\u7ba1\\u3001\\u56ca\\u6ce1\\u8fd0\\u8f93\\u3001\\u6d6e\\u840d\\u751f\\u7269\\u5b66\\u3001\\u7ed3\\u6784\\u751f\\u7269\\u5b66\"],[\"institution\",8,\"\\u82b1\\u7c89\\u7ba1\\u3001\\u7ec6\\u83cc\\u5206\\u6ccc\\u3001\\u5927\\u8c46\\u751f\\u7269\\u5b66\\u3001AI\\u4e0e\\u7b97\\u6cd5\\u3001\\u4eba\\u5de5\\u56ca\\u6ce1\\u3001\\u9ad8\\u901a\\u91cf\\u5e73\\u53f0\"],[\"institution\",4,\"\\u56ca\\u6ce1\\u8fd0\\u8f93\\u3001\\u5927\\u8c46\\u751f\\u7269\\u5b66\\u3001\\u57fa\\u56e0\\u7ec4\\u7f16\\u8f91\"],[\"institution\",3,\"\\u7ec6\\u83cc\\u5206\\u6ccc\\u3001\\u7ed3\\u6784\\u751f\\u7269\\u5b66\\u3001\\u9ad8\\u901a\\u91cf\\u5e73\\u53f0\"],[\"institution\",4,\"\\u7ec6\\u83cc\\u5206\\u6ccc\\u3001AI\\u4e0e\\u7b97\\u6cd5\\u3001\\u9ad8\\u901a\\u91cf\\u5e73\\u53f0\"],[\"institution\",2,\"\\u6d6e\\u840d\\u751f\\u7269\\u5b66\\u3001\\u57fa\\u56e0\\u7ec4\\u7f16\\u8f91\"]],\"hovertemplate\":\"\\u003cb\\u003e%{text}\\u003c\\u002fb\\u003e\\u003cbr\\u003e\\u8282\\u70b9\\u7c7b\\u578b: %{customdata[0]}\\u003cbr\\u003e\\u7814\\u7a76\\u4eba\\u5458\\u6570\\u91cf: %{customdata[1]}\\u003cbr\\u003e\\u8be6\\u7ec6\\u63cf\\u8ff0: %{customdata[2]}\\u003cbr\\u003e\\u003cextra\\u003e\\u003c\\u002fextra\\u003e\"},{\"hoverinfo\":\"none\",\"line\":{\"color\":\"rgba(100, 100, 100, 0.8)\",\"dash\":\"solid\",\"width\":5},\"mode\":\"lines\",\"showlegend\":false,\"x\":[-0.3889432309220334,-0.11767515609905263],\"y\":[-0.8132694056204967,-0.8874555677955147],\"type\":\"scatter\",\"customdata\":[[\"field\",3,\"\\u5357\\u5f00\\u5927\\u5b66\\u3001\\u5148\\u8fdb\\u9662\"],[\"field\",4,\"\\u534e\\u5357\\u5e08\\u5927\\u3001\\u5357\\u5f00\\u5927\\u5b66\"],[\"field\",5,\"\\u6e56\\u5317\\u5927\\u5b66\\u3001\\u5929\\u5de5\\u6240\\u3001\\u5148\\u8fdb\\u9662\"],[\"field\",3,\"\\u5148\\u8fdb\\u9662\\u3001\\u534e\\u5357\\u5e08\\u5927\"],[\"field\",2,\"\\u5357\\u5f00\\u5927\\u5b66\\u3001\\u6df1\\u7406\\u5de5\"],[\"field\",3,\"\\u5929\\u5de5\\u6240\\u3001\\u5148\\u8fdb\\u9662\"],[\"field\",3,\"\\u5357\\u5f00\\u5927\\u5b66\\u3001\\u6e56\\u5317\\u5927\\u5b66\"],[\"field\",2,\"\\u6df1\\u7406\\u5de5\\u3001\\u534e\\u5357\\u5e08\\u5927\"],[\"field\",2,\"\\u5148\\u8fdb\\u9662\"],[\"field\",4,\"\\u6e56\\u5317\\u5927\\u5b66\\u3001\\u5929\\u5de5\\u6240\\u3001\\u5148\\u8fdb\\u9662\"],[\"institution\",6,\"\\u82b1\\u7c89\\u7ba1\\u3001\\u56ca\\u6ce1\\u8fd0\\u8f93\\u3001\\u6d6e\\u840d\\u751f\\u7269\\u5b66\\u3001\\u7ed3\\u6784\\u751f\\u7269\\u5b66\"],[\"institution\",8,\"\\u82b1\\u7c89\\u7ba1\\u3001\\u7ec6\\u83cc\\u5206\\u6ccc\\u3001\\u5927\\u8c46\\u751f\\u7269\\u5b66\\u3001AI\\u4e0e\\u7b97\\u6cd5\\u3001\\u4eba\\u5de5\\u56ca\\u6ce1\\u3001\\u9ad8\\u901a\\u91cf\\u5e73\\u53f0\"],[\"institution\",4,\"\\u56ca\\u6ce1\\u8fd0\\u8f93\\u3001\\u5927\\u8c46\\u751f\\u7269\\u5b66\\u3001\\u57fa\\u56e0\\u7ec4\\u7f16\\u8f91\"],[\"institution\",3,\"\\u7ec6\\u83cc\\u5206\\u6ccc\\u3001\\u7ed3\\u6784\\u751f\\u7269\\u5b66\\u3001\\u9ad8\\u901a\\u91cf\\u5e73\\u53f0\"],[\"institution\",4,\"\\u7ec6\\u83cc\\u5206\\u6ccc\\u3001AI\\u4e0e\\u7b97\\u6cd5\\u3001\\u9ad8\\u901a\\u91cf\\u5e73\\u53f0\"],[\"institution\",2,\"\\u6d6e\\u840d\\u751f\\u7269\\u5b66\\u3001\\u57fa\\u56e0\\u7ec4\\u7f16\\u8f91\"]],\"hovertemplate\":\"\\u003cb\\u003e%{text}\\u003c\\u002fb\\u003e\\u003cbr\\u003e\\u8282\\u70b9\\u7c7b\\u578b: %{customdata[0]}\\u003cbr\\u003e\\u7814\\u7a76\\u4eba\\u5458\\u6570\\u91cf: %{customdata[1]}\\u003cbr\\u003e\\u8be6\\u7ec6\\u63cf\\u8ff0: %{customdata[2]}\\u003cbr\\u003e\\u003cextra\\u003e\\u003c\\u002fextra\\u003e\"},{\"hoverinfo\":\"none\",\"line\":{\"color\":\"rgba(100, 100, 100, 0.8)\",\"dash\":\"solid\",\"width\":5},\"mode\":\"lines\",\"showlegend\":false,\"x\":[-0.3889432309220334,-0.8315171265041406],\"y\":[-0.8132694056204967,0.016673417910385093],\"type\":\"scatter\",\"customdata\":[[\"field\",3,\"\\u5357\\u5f00\\u5927\\u5b66\\u3001\\u5148\\u8fdb\\u9662\"],[\"field\",4,\"\\u534e\\u5357\\u5e08\\u5927\\u3001\\u5357\\u5f00\\u5927\\u5b66\"],[\"field\",5,\"\\u6e56\\u5317\\u5927\\u5b66\\u3001\\u5929\\u5de5\\u6240\\u3001\\u5148\\u8fdb\\u9662\"],[\"field\",3,\"\\u5148\\u8fdb\\u9662\\u3001\\u534e\\u5357\\u5e08\\u5927\"],[\"field\",2,\"\\u5357\\u5f00\\u5927\\u5b66\\u3001\\u6df1\\u7406\\u5de5\"],[\"field\",3,\"\\u5929\\u5de5\\u6240\\u3001\\u5148\\u8fdb\\u9662\"],[\"field\",3,\"\\u5357\\u5f00\\u5927\\u5b66\\u3001\\u6e56\\u5317\\u5927\\u5b66\"],[\"field\",2,\"\\u6df1\\u7406\\u5de5\\u3001\\u534e\\u5357\\u5e08\\u5927\"],[\"field\",2,\"\\u5148\\u8fdb\\u9662\"],[\"field\",4,\"\\u6e56\\u5317\\u5927\\u5b66\\u3001\\u5929\\u5de5\\u6240\\u3001\\u5148\\u8fdb\\u9662\"],[\"institution\",6,\"\\u82b1\\u7c89\\u7ba1\\u3001\\u56ca\\u6ce1\\u8fd0\\u8f93\\u3001\\u6d6e\\u840d\\u751f\\u7269\\u5b66\\u3001\\u7ed3\\u6784\\u751f\\u7269\\u5b66\"],[\"institution\",8,\"\\u82b1\\u7c89\\u7ba1\\u3001\\u7ec6\\u83cc\\u5206\\u6ccc\\u3001\\u5927\\u8c46\\u751f\\u7269\\u5b66\\u3001AI\\u4e0e\\u7b97\\u6cd5\\u3001\\u4eba\\u5de5\\u56ca\\u6ce1\\u3001\\u9ad8\\u901a\\u91cf\\u5e73\\u53f0\"],[\"institution\",4,\"\\u56ca\\u6ce1\\u8fd0\\u8f93\\u3001\\u5927\\u8c46\\u751f\\u7269\\u5b66\\u3001\\u57fa\\u56e0\\u7ec4\\u7f16\\u8f91\"],[\"institution\",3,\"\\u7ec6\\u83cc\\u5206\\u6ccc\\u3001\\u7ed3\\u6784\\u751f\\u7269\\u5b66\\u3001\\u9ad8\\u901a\\u91cf\\u5e73\\u53f0\"],[\"institution\",4,\"\\u7ec6\\u83cc\\u5206\\u6ccc\\u3001AI\\u4e0e\\u7b97\\u6cd5\\u3001\\u9ad8\\u901a\\u91cf\\u5e73\\u53f0\"],[\"institution\",2,\"\\u6d6e\\u840d\\u751f\\u7269\\u5b66\\u3001\\u57fa\\u56e0\\u7ec4\\u7f16\\u8f91\"]],\"hovertemplate\":\"\\u003cb\\u003e%{text}\\u003c\\u002fb\\u003e\\u003cbr\\u003e\\u8282\\u70b9\\u7c7b\\u578b: %{customdata[0]}\\u003cbr\\u003e\\u7814\\u7a76\\u4eba\\u5458\\u6570\\u91cf: %{customdata[1]}\\u003cbr\\u003e\\u8be6\\u7ec6\\u63cf\\u8ff0: %{customdata[2]}\\u003cbr\\u003e\\u003cextra\\u003e\\u003c\\u002fextra\\u003e\"},{\"hoverinfo\":\"text\",\"marker\":{\"color\":[\"#1f77b4\",\"#aec7e8\",\"#ff7f0e\",\"#ffbb78\",\"#2ca02c\",\"#98df8a\",\"#d62728\",\"#ff9896\",\"#9467bd\",\"#c5b0d5\",\"#ab47bc\",\"#ef5350\",\"#ff6b6b\",\"#ffa726\",\"#66bb6a\",\"#42a5f5\"],\"line\":{\"color\":\"white\",\"width\":5},\"opacity\":[0.85,0.85,0.85,0.85,0.85,0.85,0.85,0.85,0.85,0.85,0.9,0.9,0.9,0.9,0.9,0.9],\"size\":[47,51,55,47,43,47,47,43,43,51,58,64,52,49,52,46],\"symbol\":[\"circle\",\"circle\",\"circle\",\"circle\",\"circle\",\"circle\",\"circle\",\"circle\",\"circle\",\"circle\",\"diamond\",\"diamond\",\"diamond\",\"diamond\",\"diamond\",\"diamond\"]},\"mode\":\"markers+text\",\"showlegend\":false,\"text\":[\"\\u82b1\\u7c89\\u7ba1\\u751f\\u7269\\u5b66\",\"\\u56ca\\u6ce1\\u8fd0\\u8f93\",\"\\u7ec6\\u83cc\\u5206\\u6ccc\",\"\\u5927\\u8c46\\u751f\\u7269\\u5b66\",\"\\u6d6e\\u840d\\u751f\\u7269\\u5b66\",\"AI\\u4e0e\\u7b97\\u6cd5\",\"\\u7ed3\\u6784\\u751f\\u7269\\u5b66\",\"\\u57fa\\u56e0\\u7ec4\\u7f16\\u8f91\",\"\\u4eba\\u5de5\\u56ca\\u6ce1\",\"\\u9ad8\\u901a\\u91cf\\u5e73\\u53f0\",\"\\u5357\\u5f00\\u5927\\u5b66\",\"\\u5148\\u8fdb\\u9662\",\"\\u534e\\u5357\\u5e08\\u5927\",\"\\u6e56\\u5317\\u5927\\u5b66\",\"\\u5929\\u5de5\\u6240\",\"\\u6df1\\u7406\\u5de5\"],\"textfont\":{\"color\":\"black\",\"family\":\"Arial, sans-serif\",\"size\":16},\"textposition\":\"middle center\",\"x\":[-0.09010581760628611,0.956083273665481,-0.638085032107676,-0.7860180160957474,0.847028929845476,-0.5211120799013925,0.5836851030137952,0.026078722027613906,-0.443521321972668,-0.3889432309220334,0.6080051747933145,-0.8315171265041406,0.17538813757967128,-0.37929155971635503,-0.11767515609905263,1.0],\"y\":[0.40115852431046695,0.3567012635971452,-0.6934055888063951,0.5651093771783389,0.5663048103273499,0.12666380199600855,-0.6495378043587096,-0.12010404961695754,0.8290290685731239,-0.8132694056204967,-0.031040202142359054,0.016673417910385093,0.758786484533266,-0.310644015934855,-0.8874555677955147,-0.1149701141507968],\"type\":\"scatter\",\"customdata\":[[\"field\",3,\"\\u5357\\u5f00\\u5927\\u5b66\\u3001\\u5148\\u8fdb\\u9662\"],[\"field\",4,\"\\u534e\\u5357\\u5e08\\u5927\\u3001\\u5357\\u5f00\\u5927\\u5b66\"],[\"field\",5,\"\\u6e56\\u5317\\u5927\\u5b66\\u3001\\u5929\\u5de5\\u6240\\u3001\\u5148\\u8fdb\\u9662\"],[\"field\",3,\"\\u5148\\u8fdb\\u9662\\u3001\\u534e\\u5357\\u5e08\\u5927\"],[\"field\",2,\"\\u5357\\u5f00\\u5927\\u5b66\\u3001\\u6df1\\u7406\\u5de5\"],[\"field\",3,\"\\u5929\\u5de5\\u6240\\u3001\\u5148\\u8fdb\\u9662\"],[\"field\",3,\"\\u5357\\u5f00\\u5927\\u5b66\\u3001\\u6e56\\u5317\\u5927\\u5b66\"],[\"field\",2,\"\\u6df1\\u7406\\u5de5\\u3001\\u534e\\u5357\\u5e08\\u5927\"],[\"field\",2,\"\\u5148\\u8fdb\\u9662\"],[\"field\",4,\"\\u6e56\\u5317\\u5927\\u5b66\\u3001\\u5929\\u5de5\\u6240\\u3001\\u5148\\u8fdb\\u9662\"],[\"institution\",6,\"\\u82b1\\u7c89\\u7ba1\\u3001\\u56ca\\u6ce1\\u8fd0\\u8f93\\u3001\\u6d6e\\u840d\\u751f\\u7269\\u5b66\\u3001\\u7ed3\\u6784\\u751f\\u7269\\u5b66\"],[\"institution\",8,\"\\u82b1\\u7c89\\u7ba1\\u3001\\u7ec6\\u83cc\\u5206\\u6ccc\\u3001\\u5927\\u8c46\\u751f\\u7269\\u5b66\\u3001AI\\u4e0e\\u7b97\\u6cd5\\u3001\\u4eba\\u5de5\\u56ca\\u6ce1\\u3001\\u9ad8\\u901a\\u91cf\\u5e73\\u53f0\"],[\"institution\",4,\"\\u56ca\\u6ce1\\u8fd0\\u8f93\\u3001\\u5927\\u8c46\\u751f\\u7269\\u5b66\\u3001\\u57fa\\u56e0\\u7ec4\\u7f16\\u8f91\"],[\"institution\",3,\"\\u7ec6\\u83cc\\u5206\\u6ccc\\u3001\\u7ed3\\u6784\\u751f\\u7269\\u5b66\\u3001\\u9ad8\\u901a\\u91cf\\u5e73\\u53f0\"],[\"institution\",4,\"\\u7ec6\\u83cc\\u5206\\u6ccc\\u3001AI\\u4e0e\\u7b97\\u6cd5\\u3001\\u9ad8\\u901a\\u91cf\\u5e73\\u53f0\"],[\"institution\",2,\"\\u6d6e\\u840d\\u751f\\u7269\\u5b66\\u3001\\u57fa\\u56e0\\u7ec4\\u7f16\\u8f91\"]],\"hovertemplate\":\"\\u003cb\\u003e%{text}\\u003c\\u002fb\\u003e\\u003cbr\\u003e\\u8282\\u70b9\\u7c7b\\u578b: %{customdata[0]}\\u003cbr\\u003e\\u7814\\u7a76\\u4eba\\u5458\\u6570\\u91cf: %{customdata[1]}\\u003cbr\\u003e\\u8be6\\u7ec6\\u63cf\\u8ff0: %{customdata[2]}\\u003cbr\\u003e\\u003cextra\\u003e\\u003c\\u002fextra\\u003e\"}],                        {\"template\":{\"data\":{\"histogram2dcontour\":[{\"type\":\"histogram2dcontour\",\"colorbar\":{\"outlinewidth\":0,\"ticks\":\"\"},\"colorscale\":[[0.0,\"#0d0887\"],[0.1111111111111111,\"#46039f\"],[0.2222222222222222,\"#7201a8\"],[0.3333333333333333,\"#9c179e\"],[0.4444444444444444,\"#bd3786\"],[0.5555555555555556,\"#d8576b\"],[0.6666666666666666,\"#ed7953\"],[0.7777777777777778,\"#fb9f3a\"],[0.8888888888888888,\"#fdca26\"],[1.0,\"#f0f921\"]]}],\"choropleth\":[{\"type\":\"choropleth\",\"colorbar\":{\"outlinewidth\":0,\"ticks\":\"\"}}],\"histogram2d\":[{\"type\":\"histogram2d\",\"colorbar\":{\"outlinewidth\":0,\"ticks\":\"\"},\"colorscale\":[[0.0,\"#0d0887\"],[0.1111111111111111,\"#46039f\"],[0.2222222222222222,\"#7201a8\"],[0.3333333333333333,\"#9c179e\"],[0.4444444444444444,\"#bd3786\"],[0.5555555555555556,\"#d8576b\"],[0.6666666666666666,\"#ed7953\"],[0.7777777777777778,\"#fb9f3a\"],[0.8888888888888888,\"#fdca26\"],[1.0,\"#f0f921\"]]}],\"heatmap\":[{\"type\":\"heatmap\",\"colorbar\":{\"outlinewidth\":0,\"ticks\":\"\"},\"colorscale\":[[0.0,\"#0d0887\"],[0.1111111111111111,\"#46039f\"],[0.2222222222222222,\"#7201a8\"],[0.3333333333333333,\"#9c179e\"],[0.4444444444444444,\"#bd3786\"],[0.5555555555555556,\"#d8576b\"],[0.6666666666666666,\"#ed7953\"],[0.7777777777777778,\"#fb9f3a\"],[0.8888888888888888,\"#fdca26\"],[1.0,\"#f0f921\"]]}],\"heatmapgl\":[{\"type\":\"heatmapgl\",\"colorbar\":{\"outlinewidth\":0,\"ticks\":\"\"},\"colorscale\":[[0.0,\"#0d0887\"],[0.1111111111111111,\"#46039f\"],[0.2222222222222222,\"#7201a8\"],[0.3333333333333333,\"#9c179e\"],[0.4444444444444444,\"#bd3786\"],[0.5555555555555556,\"#d8576b\"],[0.6666666666666666,\"#ed7953\"],[0.7777777777777778,\"#fb9f3a\"],[0.8888888888888888,\"#fdca26\"],[1.0,\"#f0f921\"]]}],\"contourcarpet\":[{\"type\":\"contourcarpet\",\"colorbar\":{\"outlinewidth\":0,\"ticks\":\"\"}}],\"contour\":[{\"type\":\"contour\",\"colorbar\":{\"outlinewidth\":0,\"ticks\":\"\"},\"colorscale\":[[0.0,\"#0d0887\"],[0.1111111111111111,\"#46039f\"],[0.2222222222222222,\"#7201a8\"],[0.3333333333333333,\"#9c179e\"],[0.4444444444444444,\"#bd3786\"],[0.5555555555555556,\"#d8576b\"],[0.6666666666666666,\"#ed7953\"],[0.7777777777777778,\"#fb9f3a\"],[0.8888888888888888,\"#fdca26\"],[1.0,\"#f0f921\"]]}],\"surface\":[{\"type\":\"surface\",\"colorbar\":{\"outlinewidth\":0,\"ticks\":\"\"},\"colorscale\":[[0.0,\"#0d0887\"],[0.1111111111111111,\"#46039f\"],[0.2222222222222222,\"#7201a8\"],[0.3333333333333333,\"#9c179e\"],[0.4444444444444444,\"#bd3786\"],[0.5555555555555556,\"#d8576b\"],[0.6666666666666666,\"#ed7953\"],[0.7777777777777778,\"#fb9f3a\"],[0.8888888888888888,\"#fdca26\"],[1.0,\"#f0f921\"]]}],\"mesh3d\":[{\"type\":\"mesh3d\",\"colorbar\":{\"outlinewidth\":0,\"ticks\":\"\"}}],\"scatter\":[{\"fillpattern\":{\"fillmode\":\"overlay\",\"size\":10,\"solidity\":0.2},\"type\":\"scatter\"}],\"parcoords\":[{\"type\":\"parcoords\",\"line\":{\"colorbar\":{\"outlinewidth\":0,\"ticks\":\"\"}}}],\"scatterpolargl\":[{\"type\":\"scatterpolargl\",\"marker\":{\"colorbar\":{\"outlinewidth\":0,\"ticks\":\"\"}}}],\"bar\":[{\"error_x\":{\"color\":\"#2a3f5f\"},\"error_y\":{\"color\":\"#2a3f5f\"},\"marker\":{\"line\":{\"color\":\"#E5ECF6\",\"width\":0.5},\"pattern\":{\"fillmode\":\"overlay\",\"size\":10,\"solidity\":0.2}},\"type\":\"bar\"}],\"scattergeo\":[{\"type\":\"scattergeo\",\"marker\":{\"colorbar\":{\"outlinewidth\":0,\"ticks\":\"\"}}}],\"scatterpolar\":[{\"type\":\"scatterpolar\",\"marker\":{\"colorbar\":{\"outlinewidth\":0,\"ticks\":\"\"}}}],\"histogram\":[{\"marker\":{\"pattern\":{\"fillmode\":\"overlay\",\"size\":10,\"solidity\":0.2}},\"type\":\"histogram\"}],\"scattergl\":[{\"type\":\"scattergl\",\"marker\":{\"colorbar\":{\"outlinewidth\":0,\"ticks\":\"\"}}}],\"scatter3d\":[{\"type\":\"scatter3d\",\"line\":{\"colorbar\":{\"outlinewidth\":0,\"ticks\":\"\"}},\"marker\":{\"colorbar\":{\"outlinewidth\":0,\"ticks\":\"\"}}}],\"scattermapbox\":[{\"type\":\"scattermapbox\",\"marker\":{\"colorbar\":{\"outlinewidth\":0,\"ticks\":\"\"}}}],\"scatterternary\":[{\"type\":\"scatterternary\",\"marker\":{\"colorbar\":{\"outlinewidth\":0,\"ticks\":\"\"}}}],\"scattercarpet\":[{\"type\":\"scattercarpet\",\"marker\":{\"colorbar\":{\"outlinewidth\":0,\"ticks\":\"\"}}}],\"carpet\":[{\"aaxis\":{\"endlinecolor\":\"#2a3f5f\",\"gridcolor\":\"white\",\"linecolor\":\"white\",\"minorgridcolor\":\"white\",\"startlinecolor\":\"#2a3f5f\"},\"baxis\":{\"endlinecolor\":\"#2a3f5f\",\"gridcolor\":\"white\",\"linecolor\":\"white\",\"minorgridcolor\":\"white\",\"startlinecolor\":\"#2a3f5f\"},\"type\":\"carpet\"}],\"table\":[{\"cells\":{\"fill\":{\"color\":\"#EBF0F8\"},\"line\":{\"color\":\"white\"}},\"header\":{\"fill\":{\"color\":\"#C8D4E3\"},\"line\":{\"color\":\"white\"}},\"type\":\"table\"}],\"barpolar\":[{\"marker\":{\"line\":{\"color\":\"#E5ECF6\",\"width\":0.5},\"pattern\":{\"fillmode\":\"overlay\",\"size\":10,\"solidity\":0.2}},\"type\":\"barpolar\"}],\"pie\":[{\"automargin\":true,\"type\":\"pie\"}]},\"layout\":{\"autotypenumbers\":\"strict\",\"colorway\":[\"#636efa\",\"#EF553B\",\"#00cc96\",\"#ab63fa\",\"#FFA15A\",\"#19d3f3\",\"#FF6692\",\"#B6E880\",\"#FF97FF\",\"#FECB52\"],\"font\":{\"color\":\"#2a3f5f\"},\"hovermode\":\"closest\",\"hoverlabel\":{\"align\":\"left\"},\"paper_bgcolor\":\"white\",\"plot_bgcolor\":\"#E5ECF6\",\"polar\":{\"bgcolor\":\"#E5ECF6\",\"angularaxis\":{\"gridcolor\":\"white\",\"linecolor\":\"white\",\"ticks\":\"\"},\"radialaxis\":{\"gridcolor\":\"white\",\"linecolor\":\"white\",\"ticks\":\"\"}},\"ternary\":{\"bgcolor\":\"#E5ECF6\",\"aaxis\":{\"gridcolor\":\"white\",\"linecolor\":\"white\",\"ticks\":\"\"},\"baxis\":{\"gridcolor\":\"white\",\"linecolor\":\"white\",\"ticks\":\"\"},\"caxis\":{\"gridcolor\":\"white\",\"linecolor\":\"white\",\"ticks\":\"\"}},\"coloraxis\":{\"colorbar\":{\"outlinewidth\":0,\"ticks\":\"\"}},\"colorscale\":{\"sequential\":[[0.0,\"#0d0887\"],[0.1111111111111111,\"#46039f\"],[0.2222222222222222,\"#7201a8\"],[0.3333333333333333,\"#9c179e\"],[0.4444444444444444,\"#bd3786\"],[0.5555555555555556,\"#d8576b\"],[0.6666666666666666,\"#ed7953\"],[0.7777777777777778,\"#fb9f3a\"],[0.8888888888888888,\"#fdca26\"],[1.0,\"#f0f921\"]],\"sequentialminus\":[[0.0,\"#0d0887\"],[0.1111111111111111,\"#46039f\"],[0.2222222222222222,\"#7201a8\"],[0.3333333333333333,\"#9c179e\"],[0.4444444444444444,\"#bd3786\"],[0.5555555555555556,\"#d8576b\"],[0.6666666666666666,\"#ed7953\"],[0.7777777777777778,\"#fb9f3a\"],[0.8888888888888888,\"#fdca26\"],[1.0,\"#f0f921\"]],\"diverging\":[[0,\"#8e0152\"],[0.1,\"#c51b7d\"],[0.2,\"#de77ae\"],[0.3,\"#f1b6da\"],[0.4,\"#fde0ef\"],[0.5,\"#f7f7f7\"],[0.6,\"#e6f5d0\"],[0.7,\"#b8e186\"],[0.8,\"#7fbc41\"],[0.9,\"#4d9221\"],[1,\"#276419\"]]},\"xaxis\":{\"gridcolor\":\"white\",\"linecolor\":\"white\",\"ticks\":\"\",\"title\":{\"standoff\":15},\"zerolinecolor\":\"white\",\"automargin\":true,\"zerolinewidth\":2},\"yaxis\":{\"gridcolor\":\"white\",\"linecolor\":\"white\",\"ticks\":\"\",\"title\":{\"standoff\":15},\"zerolinecolor\":\"white\",\"automargin\":true,\"zerolinewidth\":2},\"scene\":{\"xaxis\":{\"backgroundcolor\":\"#E5ECF6\",\"gridcolor\":\"white\",\"linecolor\":\"white\",\"showbackground\":true,\"ticks\":\"\",\"zerolinecolor\":\"white\",\"gridwidth\":2},\"yaxis\":{\"backgroundcolor\":\"#E5ECF6\",\"gridcolor\":\"white\",\"linecolor\":\"white\",\"showbackground\":true,\"ticks\":\"\",\"zerolinecolor\":\"white\",\"gridwidth\":2},\"zaxis\":{\"backgroundcolor\":\"#E5ECF6\",\"gridcolor\":\"white\",\"linecolor\":\"white\",\"showbackground\":true,\"ticks\":\"\",\"zerolinecolor\":\"white\",\"gridwidth\":2}},\"shapedefaults\":{\"line\":{\"color\":\"#2a3f5f\"}},\"annotationdefaults\":{\"arrowcolor\":\"#2a3f5f\",\"arrowhead\":0,\"arrowwidth\":1},\"geo\":{\"bgcolor\":\"white\",\"landcolor\":\"#E5ECF6\",\"subunitcolor\":\"white\",\"showland\":true,\"showlakes\":true,\"lakecolor\":\"white\"},\"title\":{\"x\":0.05},\"mapbox\":{\"style\":\"light\"}}},\"title\":{\"font\":{\"size\":36,\"color\":\"#2c3e50\",\"family\":\"Arial, sans-serif\"},\"text\":\"\\u003cb\\u003e\\ud83d\\udd2c \\u7814\\u7a76\\u56e2\\u961f\\u4f18\\u52bf\\u9886\\u57df\\u4ea4\\u53c9\\u878d\\u5408\\u7f51\\u7edc\\u003c\\u002fb\\u003e\\u003cbr\\u003e\\u003csub\\u003e\\u6765\\u81ea6\\u4e2a\\u5355\\u4f4d\\u768423\\u540d\\u7814\\u7a76\\u4eba\\u5458\\uff0c\\u6db5\\u76d610\\u4e2a\\u7814\\u7a76\\u9886\\u57df\\uff0c\\u5f3a\\u8c03\\u56e2\\u961f\\u6210\\u5458\\u7279\\u8272\\u7a81\\u51fa\\u3001\\u7814\\u7a76\\u65b9\\u5411\\u4ea4\\u53c9\\u878d\\u5408\\u003c\\u002fsub\\u003e\",\"x\":0.5,\"xanchor\":\"center\"},\"margin\":{\"b\":120,\"l\":60,\"r\":60,\"t\":140},\"xaxis\":{\"showgrid\":false,\"zeroline\":false,\"showticklabels\":false,\"scaleanchor\":\"y\",\"scaleratio\":1},\"yaxis\":{\"showgrid\":false,\"zeroline\":false,\"showticklabels\":false},\"font\":{\"family\":\"Arial, sans-serif\"},\"showlegend\":false,\"hovermode\":\"closest\",\"plot_bgcolor\":\"rgba(248, 249, 250, 0.9)\",\"paper_bgcolor\":\"white\",\"annotations\":[{\"font\":{\"color\":\"#34495e\",\"size\":20},\"showarrow\":false,\"text\":\"\\u003cb\\u003e\\ud83d\\udd2c \\u5706\\u5f62: \\u7814\\u7a76\\u9886\\u57df\\u003c\\u002fb\\u003e | \\u003cb\\u003e\\ud83c\\udfdb\\ufe0f \\u83f1\\u5f62: \\u4f18\\u52bf\\u5355\\u4f4d\\u003c\\u002fb\\u003e | \\u003cb\\u003e\\u8282\\u70b9\\u5927\\u5c0f: \\u7814\\u7a76\\u4eba\\u5458\\u6570\\u91cf\\u003c\\u002fb\\u003e\",\"x\":0.5,\"xanchor\":\"center\",\"xref\":\"paper\",\"y\":-0.1,\"yref\":\"paper\"}],\"updatemenus\":[{\"buttons\":[{\"args\":[{\"visible\":[true,true]}],\"label\":\"\\u663e\\u793a\\u6240\\u6709\",\"method\":\"restyle\"},{\"args\":[{\"visible\":[true,false]}],\"label\":\"\\u4ec5\\u663e\\u793a\\u8fb9\\u7ebf\",\"method\":\"restyle\"},{\"args\":[{\"visible\":[false,true]}],\"label\":\"\\u4ec5\\u663e\\u793a\\u8282\\u70b9\",\"method\":\"restyle\"}],\"direction\":\"left\",\"pad\":{\"r\":20,\"t\":20},\"showactive\":true,\"type\":\"buttons\",\"x\":0.01,\"xanchor\":\"left\",\"y\":1.02,\"yanchor\":\"top\"}],\"width\":1600,\"height\":1000},                        {\"responsive\": true}                    ).then(function(){\n",
       "                            \n",
       "var gd = document.getElementById('5c806afd-8a88-4e7d-8446-82aa2573bb12');\n",
       "var x = new MutationObserver(function (mutations, observer) {{\n",
       "        var display = window.getComputedStyle(gd).display;\n",
       "        if (!display || display === 'none') {{\n",
       "            console.log([gd, 'removed!']);\n",
       "            Plotly.purge(gd);\n",
       "            observer.disconnect();\n",
       "        }}\n",
       "}});\n",
       "\n",
       "// Listen for the removal of the full notebook cells\n",
       "var notebookContainer = gd.closest('#notebook-container');\n",
       "if (notebookContainer) {{\n",
       "    x.observe(notebookContainer, {childList: true});\n",
       "}}\n",
       "\n",
       "// Listen for the clearing of the current output cell\n",
       "var outputEl = gd.closest('.output');\n",
       "if (outputEl) {{\n",
       "    x.observe(outputEl, {childList: true});\n",
       "}}\n",
       "\n",
       "                        })                };                });            </script>        </div>"
      ]
     },
     "metadata": {},
     "output_type": "display_data"
    },
    {
     "name": "stdout",
     "output_type": "stream",
     "text": [
      "🎯 详细版网络图完成！\n",
      "📊 主要特点：\n",
      "   • 强调团队成员特色突出\n",
      "   • 研究方向交叉融合\n",
      "   • 来自6个单位的23名研究人员\n",
      "   • 涵盖10个研究领域\n",
      "   • 节点大小反映研究人员数量\n",
      "   • 超大尺寸便于调整和展示\n",
      "   • 包含详细描述信息\n",
      "   • 专业科学配色方案\n",
      "   • 高级交互式功能\n"
     ]
    }
   ],
   "source": [
    "# 🎯 详细版本 - 包含具体团队成员信息\n",
    "import plotly.graph_objects as go\n",
    "import pandas as pd\n",
    "import networkx as nx\n",
    "import numpy as np\n",
    "from plotly.colors import qualitative\n",
    "\n",
    "# 1. 构建详细数据 - 包含具体团队成员信息\n",
    "all_nodes = [\n",
    "    # 研究领域 (节点ID, 节点名称, 节点类型, 研究人员数量, 详细描述)\n",
    "    (0, \"花粉管生物学\", \"field\", 3, \"南开大学、先进院\"),\n",
    "    (1, \"囊泡运输\", \"field\", 4, \"华南师大、南开大学\"),\n",
    "    (2, \"细菌分泌\", \"field\", 5, \"湖北大学、天工所、先进院\"),\n",
    "    (3, \"大豆生物学\", \"field\", 3, \"先进院、华南师大\"),\n",
    "    (4, \"浮萍生物学\", \"field\", 2, \"南开大学、深理工\"),\n",
    "    (5, \"AI与算法\", \"field\", 3, \"天工所、先进院\"),\n",
    "    (6, \"结构生物学\", \"field\", 3, \"南开大学、湖北大学\"),\n",
    "    (7, \"基因组编辑\", \"field\", 2, \"深理工、华南师大\"),\n",
    "    (8, \"人工囊泡\", \"field\", 2, \"先进院\"),\n",
    "    (9, \"高通量平台\", \"field\", 4, \"湖北大学、天工所、先进院\"),\n",
    "    # 优势单位 (节点ID, 节点名称, 节点类型, 研究人员数量, 详细描述)\n",
    "    (10, \"南开大学\", \"institution\", 6, \"花粉管、囊泡运输、浮萍生物学、结构生物学\"),\n",
    "    (11, \"先进院\", \"institution\", 8, \"花粉管、细菌分泌、大豆生物学、AI与算法、人工囊泡、高通量平台\"),\n",
    "    (12, \"华南师大\", \"institution\", 4, \"囊泡运输、大豆生物学、基因组编辑\"),\n",
    "    (13, \"湖北大学\", \"institution\", 3, \"细菌分泌、结构生物学、高通量平台\"),\n",
    "    (14, \"天工所\", \"institution\", 4, \"细菌分泌、AI与算法、高通量平台\"),\n",
    "    (15, \"深理工\", \"institution\", 2, \"浮萍生物学、基因组编辑\"),\n",
    "]\n",
    "\n",
    "# 定义连接（边）：(来源, 目标) 对应节点ID\n",
    "links = [\n",
    "    (0, 10), (0, 11),\n",
    "    (1, 12), (1, 10),\n",
    "    (2, 13), (2, 14), (2, 11),\n",
    "    (3, 11), (3, 12),\n",
    "    (4, 10), (4, 15),\n",
    "    (5, 14), (5, 11),\n",
    "    (6, 10), (6, 13),\n",
    "    (7, 15), (7, 12),\n",
    "    (8, 11),\n",
    "    (9, 13), (9, 14), (9, 11)\n",
    "]\n",
    "\n",
    "# 2. 转换为Plotly可用的格式\n",
    "node_df = pd.DataFrame(all_nodes, columns=['id', 'label', 'type', 'researchers', 'description'])\n",
    "edge_df = pd.DataFrame(links, columns=['source', 'target'])\n",
    "\n",
    "# 3. 创建NetworkX图并计算布局\n",
    "G = nx.Graph()\n",
    "G.add_nodes_from(node_df['id'])\n",
    "G.add_edges_from(links)\n",
    "\n",
    "# 使用多种布局算法尝试，选择最佳效果\n",
    "layouts = {\n",
    "    'spring': nx.spring_layout(G, k=5, iterations=200, seed=42),\n",
    "    'circular': nx.circular_layout(G),\n",
    "    'kamada_kawai': nx.kamada_kawai_layout(G),\n",
    "    'spectral': nx.spectral_layout(G)\n",
    "}\n",
    "\n",
    "# 选择spring布局作为主要布局\n",
    "pos = layouts['spring']\n",
    "\n",
    "# 4. 专业配色方案 - 强调交叉融合\n",
    "# 研究领域使用科学蓝色系渐变\n",
    "field_colors = [\n",
    "    '#1f77b4', '#aec7e8', '#ff7f0e', '#ffbb78', '#2ca02c',\n",
    "    '#98df8a', '#d62728', '#ff9896', '#9467bd', '#c5b0d5'\n",
    "]\n",
    "\n",
    "# 机构使用暖色系渐变\n",
    "institution_colors = [\n",
    "    '#ff6b6b', '#ffa726', '#66bb6a', '#42a5f5', '#ab47bc', '#ef5350'\n",
    "]\n",
    "\n",
    "# 为节点分配颜色和大小（基于研究人员数量）\n",
    "node_colors = []\n",
    "node_symbols = []\n",
    "node_sizes = []\n",
    "node_opacities = []\n",
    "\n",
    "for i, (_, row) in enumerate(node_df.iterrows()):\n",
    "    node_type = row['type']\n",
    "    researchers = row['researchers']\n",
    "    \n",
    "    if node_type == 'field':\n",
    "        node_colors.append(field_colors[i % len(field_colors)])\n",
    "        node_symbols.append('circle')\n",
    "        # 基于研究人员数量调整节点大小\n",
    "        node_sizes.append(35 + researchers * 4)\n",
    "        node_opacities.append(0.85)\n",
    "    else:\n",
    "        node_colors.append(institution_colors[i % len(institution_colors)])\n",
    "        node_symbols.append('diamond')\n",
    "        # 基于研究人员数量调整节点大小\n",
    "        node_sizes.append(40 + researchers * 3)\n",
    "        node_opacities.append(0.9)\n",
    "\n",
    "# 5. 创建详细的网络图\n",
    "fig = go.Figure()\n",
    "\n",
    "# 添加边线 - 强调交叉融合\n",
    "for i, (_, row) in enumerate(edge_df.iterrows()):\n",
    "    source = row['source']\n",
    "    target = row['target']\n",
    "    \n",
    "    # 计算边的透明度（基于连接强度）\n",
    "    edge_alpha = 0.8\n",
    "    \n",
    "    fig.add_trace(go.Scatter(\n",
    "        x=[pos[source][0], pos[target][0]],\n",
    "        y=[pos[source][1], pos[target][1]],\n",
    "        mode='lines',\n",
    "        line=dict(\n",
    "            width=5,\n",
    "            color=f'rgba(100, 100, 100, {edge_alpha})',\n",
    "            dash='solid'\n",
    "        ),\n",
    "        hoverinfo='none',\n",
    "        showlegend=False\n",
    "    ))\n",
    "\n",
    "# 添加节点 - 强调团队成员特色\n",
    "fig.add_trace(go.Scatter(\n",
    "    x=[pos[node_id][0] for node_id in node_df['id']],\n",
    "    y=[pos[node_id][1] for node_id in node_df['id']],\n",
    "    mode='markers+text',\n",
    "    marker=dict(\n",
    "        color=node_colors,\n",
    "        size=node_sizes,\n",
    "        symbol=node_symbols,\n",
    "        line=dict(\n",
    "            width=5,\n",
    "            color='white'\n",
    "        ),\n",
    "        opacity=node_opacities\n",
    "    ),\n",
    "    text=node_df['label'],\n",
    "    textposition=\"middle center\",\n",
    "    hoverinfo='text',\n",
    "    textfont=dict(\n",
    "        size=16,\n",
    "        color='black',\n",
    "        family=\"Arial, sans-serif\"\n",
    "    ),\n",
    "    showlegend=False\n",
    "))\n",
    "\n",
    "# 6. 优化布局和样式 - 超大尺寸\n",
    "fig.update_layout(\n",
    "    title=dict(\n",
    "        text='<b>🔬 研究团队优势领域交叉融合网络</b><br><sub>来自6个单位的23名研究人员，涵盖10个研究领域，强调团队成员特色突出、研究方向交叉融合</sub>',\n",
    "        x=0.5,\n",
    "        xanchor='center',\n",
    "        font=dict(size=36, color='#2c3e50', family=\"Arial, sans-serif\")\n",
    "    ),\n",
    "    showlegend=False,\n",
    "    hovermode='closest',\n",
    "    margin=dict(b=120, l=60, r=60, t=140),\n",
    "    xaxis=dict(\n",
    "        showgrid=False,\n",
    "        zeroline=False,\n",
    "        showticklabels=False,\n",
    "        scaleanchor=\"y\",\n",
    "        scaleratio=1\n",
    "    ),\n",
    "    yaxis=dict(\n",
    "        showgrid=False,\n",
    "        zeroline=False,\n",
    "        showticklabels=False\n",
    "    ),\n",
    "    plot_bgcolor='rgba(248, 249, 250, 0.9)',\n",
    "    paper_bgcolor='white',\n",
    "    font=dict(family=\"Arial, sans-serif\"),\n",
    "    annotations=[\n",
    "        dict(\n",
    "            showarrow=False,\n",
    "            text=\"<b>🔬 圆形: 研究领域</b> | <b>🏛️ 菱形: 优势单位</b> | <b>节点大小: 研究人员数量</b>\",\n",
    "            xref=\"paper\", yref=\"paper\",\n",
    "            x=0.5, y=-0.1,\n",
    "            xanchor='center',\n",
    "            font=dict(size=20, color='#34495e')\n",
    "        )\n",
    "    ]\n",
    ")\n",
    "\n",
    "# 7. 添加高级交互式功能\n",
    "fig.update_traces(\n",
    "    hovertemplate=\"<b>%{text}</b><br>\" +\n",
    "                  \"节点类型: %{customdata[0]}<br>\" +\n",
    "                  \"研究人员数量: %{customdata[1]}<br>\" +\n",
    "                  \"详细描述: %{customdata[2]}<br>\" +\n",
    "                  \"<extra></extra>\",\n",
    "    customdata=[[node_df.loc[node_df['id'] == node_id, 'type'].iloc[0],\n",
    "                 node_df.loc[node_df['id'] == node_id, 'researchers'].iloc[0],\n",
    "                 node_df.loc[node_df['id'] == node_id, 'description'].iloc[0]]\n",
    "                for node_id in node_df['id']]\n",
    ")\n",
    "\n",
    "# 8. 添加动画效果\n",
    "fig.update_layout(\n",
    "    updatemenus=[\n",
    "        dict(\n",
    "            type=\"buttons\",\n",
    "            direction=\"left\",\n",
    "            buttons=list([\n",
    "                dict(\n",
    "                    args=[{\"visible\": [True, True]}],\n",
    "                    label=\"显示所有\",\n",
    "                    method=\"restyle\"\n",
    "                ),\n",
    "                dict(\n",
    "                    args=[{\"visible\": [True, False]}],\n",
    "                    label=\"仅显示边线\",\n",
    "                    method=\"restyle\"\n",
    "                ),\n",
    "                dict(\n",
    "                    args=[{\"visible\": [False, True]}],\n",
    "                    label=\"仅显示节点\",\n",
    "                    method=\"restyle\"\n",
    "                )\n",
    "            ]),\n",
    "            pad={\"r\": 20, \"t\": 20},\n",
    "            showactive=True,\n",
    "            x=0.01,\n",
    "            xanchor=\"left\",\n",
    "            y=1.02,\n",
    "            yanchor=\"top\"\n",
    "        ),\n",
    "    ]\n",
    ")\n",
    "\n",
    "# 9. 设置超大尺寸\n",
    "fig.update_layout(\n",
    "    width=1600,  # 增加宽度\n",
    "    height=1000  # 增加高度\n",
    ")\n",
    "\n",
    "# 10. 显示图表\n",
    "fig.show()\n",
    "\n",
    "# 11. 保存为HTML交互式文件\n",
    "fig.write_html(\"research_network_detailed.html\")\n",
    "\n",
    "print(\"🎯 详细版网络图完成！\")\n",
    "print(\"📊 主要特点：\")\n",
    "print(\"   • 强调团队成员特色突出\")\n",
    "print(\"   • 研究方向交叉融合\")\n",
    "print(\"   • 来自6个单位的23名研究人员\")\n",
    "print(\"   • 涵盖10个研究领域\")\n",
    "print(\"   • 节点大小反映研究人员数量\")\n",
    "print(\"   • 超大尺寸便于调整和展示\")\n",
    "print(\"   • 包含详细描述信息\")\n",
    "print(\"   • 专业科学配色方案\")\n",
    "print(\"   • 高级交互式功能\")\n"
   ]
  },
  {
   "cell_type": "markdown",
   "id": "402a2e61",
   "metadata": {},
   "source": []
  }
 ],
 "metadata": {
  "kernelspec": {
   "display_name": "rxnrecer",
   "language": "python",
   "name": "python3"
  },
  "language_info": {
   "codemirror_mode": {
    "name": "ipython",
    "version": 3
   },
   "file_extension": ".py",
   "mimetype": "text/x-python",
   "name": "python",
   "nbconvert_exporter": "python",
   "pygments_lexer": "ipython3",
   "version": "3.10.13"
  }
 },
 "nbformat": 4,
 "nbformat_minor": 5
}
