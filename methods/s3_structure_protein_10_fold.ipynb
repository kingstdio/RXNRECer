{
 "cells": [
  {
   "cell_type": "markdown",
   "metadata": {},
   "source": [
    "## Methods: 基于蛋白结构的反应预测\n",
    "> 2024-12-20\n",
    "\n",
    "### 1. 导入必要的包"
   ]
  },
  {
   "cell_type": "code",
   "execution_count": 3,
   "metadata": {},
   "outputs": [
    {
     "name": "stdout",
     "output_type": "stream",
     "text": [
      "INFO: Pandarallel will run on 128 workers.\n",
      "INFO: Pandarallel will use Memory file system to transfer data between the main process and workers.\n"
     ]
    }
   ],
   "source": [
    "import pandas as pd\n",
    "import sys,os\n",
    "sys.path.insert(0, os.path.dirname(os.path.realpath('__file__')))\n",
    "sys.path.insert(1,'../')\n",
    "from config import conf as cfg\n",
    "from tqdm import tqdm\n",
    "from tools import bioFunctionLib as bfl \n",
    "from pandarallel import pandarallel # 导入pandaralle\n",
    "pandarallel.initialize(progress_bar=False)\n",
    "FIRST_TIME_RUN = False\n",
    "import subprocess\n",
    "\n",
    "%load_ext autoreload\n",
    "%autoreload 2"
   ]
  },
  {
   "cell_type": "markdown",
   "metadata": {},
   "source": [
    "### 2. Load test data"
   ]
  },
  {
   "cell_type": "code",
   "execution_count": 5,
   "metadata": {},
   "outputs": [
    {
     "name": "stdout",
     "output_type": "stream",
     "text": [
      "Loading uniprot_rxn_dict ...\n",
      "Loading 10-folds test data ...\n"
     ]
    },
    {
     "data": {
      "text/html": [
       "<div>\n",
       "<style scoped>\n",
       "    .dataframe tbody tr th:only-of-type {\n",
       "        vertical-align: middle;\n",
       "    }\n",
       "\n",
       "    .dataframe tbody tr th {\n",
       "        vertical-align: top;\n",
       "    }\n",
       "\n",
       "    .dataframe thead th {\n",
       "        text-align: right;\n",
       "    }\n",
       "</style>\n",
       "<table border=\"1\" class=\"dataframe\">\n",
       "  <thead>\n",
       "    <tr style=\"text-align: right;\">\n",
       "      <th></th>\n",
       "      <th>uniprot_id</th>\n",
       "      <th>seq</th>\n",
       "      <th>rxn_groundtruth</th>\n",
       "    </tr>\n",
       "  </thead>\n",
       "  <tbody>\n",
       "    <tr>\n",
       "      <th>105768</th>\n",
       "      <td>Q9UYB6</td>\n",
       "      <td>MLPDRVLEILNEMKAERIRGATWLARKGAEAFLALAEELDEALLED...</td>\n",
       "      <td>-</td>\n",
       "    </tr>\n",
       "    <tr>\n",
       "      <th>195319</th>\n",
       "      <td>C1AQW9</td>\n",
       "      <td>MRTPCSQHRRDRPSAIGSQLPDADTLDTRQPPLQEIPISSFADKTF...</td>\n",
       "      <td>RHEA:19669</td>\n",
       "    </tr>\n",
       "    <tr>\n",
       "      <th>135884</th>\n",
       "      <td>P64647</td>\n",
       "      <td>MALFSKILIFYVIGVNISFVIIWFISHEKTHIRLLSAFLVGITWPM...</td>\n",
       "      <td>-</td>\n",
       "    </tr>\n",
       "  </tbody>\n",
       "</table>\n",
       "</div>"
      ],
      "text/plain": [
       "       uniprot_id                                                seq  \\\n",
       "105768     Q9UYB6  MLPDRVLEILNEMKAERIRGATWLARKGAEAFLALAEELDEALLED...   \n",
       "195319     C1AQW9  MRTPCSQHRRDRPSAIGSQLPDADTLDTRQPPLQEIPISSFADKTF...   \n",
       "135884     P64647  MALFSKILIFYVIGVNISFVIIWFISHEKTHIRLLSAFLVGITWPM...   \n",
       "\n",
       "       rxn_groundtruth  \n",
       "105768               -  \n",
       "195319      RHEA:19669  \n",
       "135884               -  "
      ]
     },
     "execution_count": 5,
     "metadata": {},
     "output_type": "execute_result"
    }
   ],
   "source": [
    "def load_10folds_data(type='test'):\n",
    "    if type == 'test':\n",
    "        file_path = [f'{cfg.DIR_DATASET}validation/fold{fold_num+1}/valid.feather' for fold_num in range(10)]\n",
    "    if type =='train':\n",
    "        file_path = [f'{cfg.DIR_DATASET}validation/fold{fold_num+1}/train.feather' for fold_num in range(10)]\n",
    "    res = [pd.read_feather(path)[['uniprot_id','seq','reaction_id']].rename(columns={'reaction_id': 'rxn_groundtruth'}) for path in file_path]\n",
    "    return res\n",
    "\n",
    "\n",
    "print('Loading pdbfile ...' )\n",
    "data_pdb = pd.read_feather(cfg.FILE_DS_PDB_LIST)\n",
    "\n",
    "\n",
    "print('Loading 10-folds  data ...' )\n",
    "data_trian = load_10folds_data(type='train')\n",
    "data_test = load_10folds_data(type='test')"
   ]
  },
  {
   "cell_type": "markdown",
   "metadata": {},
   "source": [
    "### 3. MakeDBs"
   ]
  },
  {
   "cell_type": "code",
   "execution_count": 3,
   "metadata": {},
   "outputs": [],
   "source": [
    "if FIRST_TIME_RUN:\n",
    "    trains_ids = [item.uniprot_id.to_list() for item in data_trian]\n",
    "    for i in tqdm(range(10)):\n",
    "        fold_num=i\n",
    "        db_name = f'fold{i+1}'\n",
    "        prep_df = data_pdb[data_pdb.uniprot_id.isin(trains_ids[fold_num]).reset_index(drop=True)]\n",
    "        bfl.make_foldseek_db(prp_df=prep_df, db_name=db_name)"
   ]
  },
  {
   "cell_type": "markdown",
   "metadata": {},
   "source": [
    "### 4. Make testDBS"
   ]
  },
  {
   "cell_type": "code",
   "execution_count": 4,
   "metadata": {},
   "outputs": [],
   "source": [
    "if FIRST_TIME_RUN:\n",
    "    test_ids = [item.uniprot_id.to_list() for item in data_test]\n",
    "    for i in tqdm(range(10)):\n",
    "        fold_num=i\n",
    "        db_name = f'fold{i+1}'\n",
    "        prep_df = data_pdb[data_pdb.uniprot_id.isin(test_ids[fold_num]).reset_index(drop=True)]\n",
    "        bfl.gather_test_pdb_db(prp_df=prep_df, db_name=db_name)\n"
   ]
  },
  {
   "cell_type": "markdown",
   "metadata": {},
   "source": [
    "### 5. 执行比对脚本"
   ]
  },
  {
   "cell_type": "code",
   "execution_count": 13,
   "metadata": {},
   "outputs": [],
   "source": [
    "# fold_num = 1\n",
    "# fseek_cols='query,target,fident,alnlen,mismatch,gapopen,qstart,qend,tstart,tend,evalue,bits,prob,lddt,alntmscore,qtmscore,ttmscore'\n",
    "# fseek_cmd =f'time foldseek easy-search {cfg.DIR_FOLDSEEK_PDB}fold{fold_num}/pdb_test/ {cfg.DIR_FOLDSEEK_PDB}fold1/DB/fold1 \\\n",
    "# {cfg.RESULTS_DIR}/structural/foldseek_res_fold{fold_num}.m8 {cfg.TEMP_DIR} --alignment-type 0 --format-output {fseek_cols} \\\n",
    "# --tmscore-threshold 0.2 --tmalign-hit-order 0 --max-seqs 1000'\n",
    "\n",
    "# fseek_cmd"
   ]
  },
  {
   "cell_type": "code",
   "execution_count": 87,
   "metadata": {},
   "outputs": [
    {
     "data": {
      "text/plain": [
       "'s3-1_structure_foldseek.slurm'"
      ]
     },
     "execution_count": 87,
     "metadata": {},
     "output_type": "execute_result"
    }
   ],
   "source": [
    "# Writing the SLURM script to a file named 's3-1_structure_foldseek.slurm'\n",
    "\n",
    "script_content = \"\"\"#!/bin/bash\n",
    "#SBATCH --job-name=foldseek_batch                       # 作业名称\n",
    "#SBATCH --partition=qcpu_23i                            # 队列名称\n",
    "#SBATCH --nodes=1                                       # 每个作业使用一个节点\n",
    "#SBATCH --ntasks-per-node=1                             # 每个节点的任务数（单任务）\n",
    "#SBATCH --cpus-per-task=63                              # 每个任务使用的 CPU 核心数\n",
    "#SBATCH --mem=500G                                      # 每个节点使用的内存\n",
    "#SBATCH --array=0-9                                     # 数组任务索引范围\n",
    "#SBATCH --output=slurmlog/RXNRECer-FOLDSEEK-%A_%a.out   # 标准输出文件\n",
    "#SBATCH --error=slurmlog/RXNRECer-FOLDSEEK-%A_%a.err    # 标准错误文件\n",
    "\n",
    "# 配置变量\n",
    "FOLD_NUM=$((SLURM_ARRAY_TASK_ID + 1)) # 将数组索引转换为 fold_num (1 到 10)\n",
    "CFG_DIR=\"/hpcfs/fhome/shizhenkun/codebase/RXNRECer/results/intermediate/foldseek\"\n",
    "RESULTS_DIR=\"/hpcfs/fhome/shizhenkun/codebase/RXNRECer/results/structural\"\n",
    "BASE_TEMP_DIR=\"/hpcfs/fhome/shizhenkun/codebase/RXNRECer/temp\"\n",
    "TEMP_DIR=\"${BASE_TEMP_DIR}/task_${SLURM_ARRAY_TASK_ID}\" # 动态临时目录\n",
    "FSEEK_COLS=\"query,target,fident,alnlen,mismatch,gapopen,qstart,qend,tstart,tend,evalue,bits,prob,lddt,alntmscore,qtmscore,ttmscore\"\n",
    "\n",
    "# 创建日志目录（如果不存在）\n",
    "mkdir -p slurmlog\n",
    "\n",
    "# 为当前任务创建独立的临时目录\n",
    "mkdir -p ${TEMP_DIR}\n",
    "\n",
    "# 输出任务开始信息\n",
    "echo \"Job started: $(date)\"\n",
    "echo \"Running foldseek for fold_num=${FOLD_NUM} with ${SLURM_CPUS_PER_TASK} threads\"\n",
    "echo \"Task is running on node: $(hostname)\"\n",
    "echo \"Temporary directory: ${TEMP_DIR}\"\n",
    "\n",
    "# 设置 OpenMP 线程数\n",
    "export OMP_NUM_THREADS=${SLURM_CPUS_PER_TASK}\n",
    "\n",
    "# 运行命令\n",
    "time foldseek easy-search ${CFG_DIR}/fold${FOLD_NUM}/pdb_test/ ${CFG_DIR}/fold{FOLD_NUM}/DB/fold{FOLD_NUM} \\\n",
    "${RESULTS_DIR}/foldseek_res_fold${FOLD_NUM}.m8 ${TEMP_DIR} \\\n",
    "--alignment-type 0 --format-output ${FSEEK_COLS} \\\n",
    "--tmscore-threshold 0.2 --tmalign-hit-order 0 --max-seqs 1000\n",
    "\n",
    "# 清理任务临时目录（可选，如果需要保留临时文件，注释掉以下行）\n",
    "rm -rf ${TEMP_DIR}\n",
    "echo \"Deleted temporary directory: ${TEMP_DIR}\"\n",
    "\n",
    "# 输出任务结束信息\n",
    "echo \"Job ended: $(date)\"\n",
    "\"\"\"\n",
    "\n",
    "file_path = \"s3-1_structure_foldseek.slurm\"\n",
    "\n",
    "with open(file_path, \"w\") as file:\n",
    "    file.write(script_content)\n",
    "\n",
    "file_path\n",
    "\n",
    "# ! sbatch s3-1_structure_foldseek.slurm"
   ]
  },
  {
   "cell_type": "markdown",
   "metadata": {},
   "source": [
    "### 6. Load results"
   ]
  },
  {
   "cell_type": "code",
   "execution_count": 7,
   "metadata": {},
   "outputs": [],
   "source": [
    "res_fold_seek = [f'{cfg.RESULTS_DIR}structural/foldseek_res_fold{item}.m8' for item in range(1,11)]\n",
    "col_names=[\"query\", \"target\", \"fident\", \"alnlen\", \"mismatch\", \"gapopen\", \"qstart\", \"qend\", \"tstart\", \"tend\", \"evalue\", \"bits\", \"prob\", \"lddt\", \"alntmscore\", \"qtmscore\", \"ttmscore\"]\n",
    "foldseek_structural_pred_res = [f'{cfg.RESULTS_DIR}intermediate/structural/foldseekaln_fold{i+1}.tsv' for i in range(10)]\n",
    "\n",
    "if FIRST_TIME_RUN: # 如果第一次跑，添加groundtruth\n",
    "    for i in tqdm(range(10)):\n",
    "        df = pd.read_table(res_fold_seek[i],  sep='\\t', index_col=None, names=col_names, low_memory=False)[['query', 'target', 'fident', 'alntmscore']]\n",
    "        df = df.loc[df.groupby('query')['alntmscore'].idxmax()].reset_index(drop=True)\n",
    "        df.insert(0, 'uniprot_id', df['query'].apply(lambda x: x.split('-')[1]))\n",
    "        df.insert(1, 'ref_id', df['target'].apply(lambda x: x.split('-')[1]))\n",
    "        df = df.merge(data_trian[i], left_on='ref_id', right_on='uniprot_id', how='left')[['uniprot_id_x', 'ref_id','fident', 'alntmscore', 'rxn_groundtruth']].rename(columns={'uniprot_id_x':'uniprot_id', 'rxn_groundtruth':'rxn_foldseekaln'})\n",
    "        df = data_test[i].merge(df, on='uniprot_id', how='left')\n",
    "        df.rxn_foldseekaln = df.rxn_foldseekaln.fillna('NO-PREDICTION')\n",
    "        df.to_csv(foldseek_structural_pred_res[i], sep='\\t', index=False)\n",
    "        print(f'File saved to:{foldseek_structural_pred_res[i]} with {len(df)} records')\n",
    "    \n",
    "fold_res = [ pd.read_csv(file, sep='\\t') for file in foldseek_structural_pred_res ] "
   ]
  },
  {
   "cell_type": "code",
   "execution_count": 9,
   "metadata": {},
   "outputs": [
    {
     "name": "stderr",
     "output_type": "stream",
     "text": [
      " 10%|█         | 1/10 [00:43<06:34, 43.78s/it]"
     ]
    },
    {
     "name": "stdout",
     "output_type": "stream",
     "text": [
      "File saved to:/hpcfs/fhome/shizhenkun/codebase/RXNRECer/results/intermediate/structural/foldseekaln_fold1.tsv with 50858 records\n"
     ]
    },
    {
     "name": "stderr",
     "output_type": "stream",
     "text": [
      " 20%|██        | 2/10 [01:27<05:50, 43.82s/it]"
     ]
    },
    {
     "name": "stdout",
     "output_type": "stream",
     "text": [
      "File saved to:/hpcfs/fhome/shizhenkun/codebase/RXNRECer/results/intermediate/structural/foldseekaln_fold2.tsv with 50858 records\n"
     ]
    },
    {
     "name": "stderr",
     "output_type": "stream",
     "text": [
      " 30%|███       | 3/10 [02:11<05:07, 43.94s/it]"
     ]
    },
    {
     "name": "stdout",
     "output_type": "stream",
     "text": [
      "File saved to:/hpcfs/fhome/shizhenkun/codebase/RXNRECer/results/intermediate/structural/foldseekaln_fold3.tsv with 50858 records\n"
     ]
    },
    {
     "name": "stderr",
     "output_type": "stream",
     "text": [
      " 40%|████      | 4/10 [02:55<04:23, 43.95s/it]"
     ]
    },
    {
     "name": "stdout",
     "output_type": "stream",
     "text": [
      "File saved to:/hpcfs/fhome/shizhenkun/codebase/RXNRECer/results/intermediate/structural/foldseekaln_fold4.tsv with 50858 records\n"
     ]
    },
    {
     "name": "stderr",
     "output_type": "stream",
     "text": [
      " 50%|█████     | 5/10 [03:40<03:40, 44.11s/it]"
     ]
    },
    {
     "name": "stdout",
     "output_type": "stream",
     "text": [
      "File saved to:/hpcfs/fhome/shizhenkun/codebase/RXNRECer/results/intermediate/structural/foldseekaln_fold5.tsv with 50858 records\n"
     ]
    },
    {
     "name": "stderr",
     "output_type": "stream",
     "text": [
      " 60%|██████    | 6/10 [04:24<02:56, 44.11s/it]"
     ]
    },
    {
     "name": "stdout",
     "output_type": "stream",
     "text": [
      "File saved to:/hpcfs/fhome/shizhenkun/codebase/RXNRECer/results/intermediate/structural/foldseekaln_fold6.tsv with 50858 records\n"
     ]
    },
    {
     "name": "stderr",
     "output_type": "stream",
     "text": [
      " 70%|███████   | 7/10 [05:09<02:13, 44.42s/it]"
     ]
    },
    {
     "name": "stdout",
     "output_type": "stream",
     "text": [
      "File saved to:/hpcfs/fhome/shizhenkun/codebase/RXNRECer/results/intermediate/structural/foldseekaln_fold7.tsv with 50858 records\n"
     ]
    },
    {
     "name": "stderr",
     "output_type": "stream",
     "text": [
      " 80%|████████  | 8/10 [05:54<01:29, 44.55s/it]"
     ]
    },
    {
     "name": "stdout",
     "output_type": "stream",
     "text": [
      "File saved to:/hpcfs/fhome/shizhenkun/codebase/RXNRECer/results/intermediate/structural/foldseekaln_fold8.tsv with 50858 records\n"
     ]
    },
    {
     "name": "stderr",
     "output_type": "stream",
     "text": [
      " 90%|█████████ | 9/10 [06:37<00:44, 44.23s/it]"
     ]
    },
    {
     "name": "stdout",
     "output_type": "stream",
     "text": [
      "File saved to:/hpcfs/fhome/shizhenkun/codebase/RXNRECer/results/intermediate/structural/foldseekaln_fold9.tsv with 50858 records\n"
     ]
    },
    {
     "name": "stderr",
     "output_type": "stream",
     "text": [
      "100%|██████████| 10/10 [07:22<00:00, 44.30s/it]"
     ]
    },
    {
     "name": "stdout",
     "output_type": "stream",
     "text": [
      "File saved to:/hpcfs/fhome/shizhenkun/codebase/RXNRECer/results/intermediate/structural/foldseekaln_fold10.tsv with 50858 records\n"
     ]
    },
    {
     "name": "stderr",
     "output_type": "stream",
     "text": [
      "\n"
     ]
    }
   ],
   "source": [
    "for i in tqdm(range(10)):\n",
    "    df = pd.read_table(res_fold_seek[i],  sep='\\t', index_col=None, names=col_names, low_memory=False)[['query', 'target', 'fident', 'alntmscore']]\n",
    "    df = df.loc[df.groupby('query')['alntmscore'].idxmax()].reset_index(drop=True)\n",
    "    df.insert(0, 'uniprot_id', df['query'].apply(lambda x: x.split('-')[1]))\n",
    "    df.insert(1, 'ref_id', df['target'].apply(lambda x: x.split('-')[1]))\n",
    "    df = df.merge(data_trian[i], left_on='ref_id', right_on='uniprot_id', how='left')[['uniprot_id_x', 'ref_id','fident', 'alntmscore', 'rxn_groundtruth']].rename(columns={'uniprot_id_x':'uniprot_id', 'rxn_groundtruth':'rxn_foldseekaln'})\n",
    "    df = data_test[i].merge(df, on='uniprot_id', how='left')\n",
    "    df.rxn_foldseekaln = df.rxn_foldseekaln.fillna('NO-PREDICTION')\n",
    "    df.to_csv(foldseek_structural_pred_res[i], sep='\\t', index=False)\n",
    "    print(f'File saved to:{foldseek_structural_pred_res[i]} with {len(df)} records')"
   ]
  },
  {
   "cell_type": "code",
   "execution_count": 9,
   "metadata": {},
   "outputs": [],
   "source": [
    "df = pd.read_table(res_fold_seek[9],  sep='\\t', index_col=None, names=col_names, low_memory=False)[['query', 'target', 'fident', 'alntmscore']]"
   ]
  },
  {
   "cell_type": "code",
   "execution_count": 20,
   "metadata": {},
   "outputs": [
    {
     "data": {
      "text/html": [
       "<div>\n",
       "<style scoped>\n",
       "    .dataframe tbody tr th:only-of-type {\n",
       "        vertical-align: middle;\n",
       "    }\n",
       "\n",
       "    .dataframe tbody tr th {\n",
       "        vertical-align: top;\n",
       "    }\n",
       "\n",
       "    .dataframe thead th {\n",
       "        text-align: right;\n",
       "    }\n",
       "</style>\n",
       "<table border=\"1\" class=\"dataframe\">\n",
       "  <thead>\n",
       "    <tr style=\"text-align: right;\">\n",
       "      <th></th>\n",
       "      <th>uniprot_id</th>\n",
       "      <th>seq</th>\n",
       "      <th>rxn_groundtruth</th>\n",
       "      <th>ref_id</th>\n",
       "      <th>fident</th>\n",
       "      <th>alntmscore</th>\n",
       "      <th>rxn_foldseekaln</th>\n",
       "    </tr>\n",
       "  </thead>\n",
       "  <tbody>\n",
       "    <tr>\n",
       "      <th>0</th>\n",
       "      <td>Q8P3B7</td>\n",
       "      <td>MSPSTPTDPCPCGRAAGYAQCCGQYHAGAAAPDAETLMRARYSAYV...</td>\n",
       "      <td>-</td>\n",
       "      <td>Q4UNT9</td>\n",
       "      <td>1.000</td>\n",
       "      <td>0.9887</td>\n",
       "      <td>-</td>\n",
       "    </tr>\n",
       "    <tr>\n",
       "      <th>1</th>\n",
       "      <td>P65480</td>\n",
       "      <td>MDASTLFKKVKVKRVLGSLEQQIDDITTDSRTAREGSIFVASVGYT...</td>\n",
       "      <td>RHEA:17969</td>\n",
       "      <td>A7X0P6</td>\n",
       "      <td>1.000</td>\n",
       "      <td>1.0000</td>\n",
       "      <td>RHEA:17969</td>\n",
       "    </tr>\n",
       "    <tr>\n",
       "      <th>2</th>\n",
       "      <td>Q05512</td>\n",
       "      <td>MSSARTPLPTLNERDTEQPTLGHLDSKPSSKSNMLRGRNSATSADE...</td>\n",
       "      <td>RHEA:17989;RHEA:46608;RHEA:12801;RHEA:53904</td>\n",
       "      <td>O08679</td>\n",
       "      <td>0.787</td>\n",
       "      <td>0.7668</td>\n",
       "      <td>RHEA:17989;RHEA:46608;RHEA:12801;RHEA:53904</td>\n",
       "    </tr>\n",
       "    <tr>\n",
       "      <th>3</th>\n",
       "      <td>Q8N7C0</td>\n",
       "      <td>MSLASGPGPGWLLFSFGMGLVSGSKCPNNCLCQAQEVICTGKQLTE...</td>\n",
       "      <td>-</td>\n",
       "      <td>Q5NVQ6</td>\n",
       "      <td>0.259</td>\n",
       "      <td>0.9179</td>\n",
       "      <td>-</td>\n",
       "    </tr>\n",
       "    <tr>\n",
       "      <th>4</th>\n",
       "      <td>Q9UPZ6</td>\n",
       "      <td>MGLQARRWASGSRGAAGPRRGVLQLLPLPLPLPLLLLLLLRPGAGR...</td>\n",
       "      <td>-</td>\n",
       "      <td>Q6P4U0</td>\n",
       "      <td>0.458</td>\n",
       "      <td>0.8187</td>\n",
       "      <td>-</td>\n",
       "    </tr>\n",
       "    <tr>\n",
       "      <th>...</th>\n",
       "      <td>...</td>\n",
       "      <td>...</td>\n",
       "      <td>...</td>\n",
       "      <td>...</td>\n",
       "      <td>...</td>\n",
       "      <td>...</td>\n",
       "      <td>...</td>\n",
       "    </tr>\n",
       "    <tr>\n",
       "      <th>50853</th>\n",
       "      <td>Q1JUP4</td>\n",
       "      <td>MANVTYTDTQLLIDGEWVDAASGKTIDVVNPATGKPIGRVAHAGIA...</td>\n",
       "      <td>RHEA:11296;RHEA:47152;RHEA:13217</td>\n",
       "      <td>B9F3B6</td>\n",
       "      <td>0.431</td>\n",
       "      <td>0.9876</td>\n",
       "      <td>RHEA:13217</td>\n",
       "    </tr>\n",
       "    <tr>\n",
       "      <th>50854</th>\n",
       "      <td>A7H910</td>\n",
       "      <td>MTLKPVREVSPGSQEGEERLEQSLRPATFEEYVGQEKLVENFRVYA...</td>\n",
       "      <td>RHEA:13065</td>\n",
       "      <td>B9JRX1</td>\n",
       "      <td>0.547</td>\n",
       "      <td>0.9835</td>\n",
       "      <td>RHEA:13065</td>\n",
       "    </tr>\n",
       "    <tr>\n",
       "      <th>50855</th>\n",
       "      <td>Q8A155</td>\n",
       "      <td>MSESKRIKTALVSVYHKEGLDEIITKLYEEGVEFLSTGGTRQFIES...</td>\n",
       "      <td>RHEA:22192;RHEA:18445</td>\n",
       "      <td>Q9ABY4</td>\n",
       "      <td>0.408</td>\n",
       "      <td>0.9592</td>\n",
       "      <td>RHEA:22192;RHEA:18445</td>\n",
       "    </tr>\n",
       "    <tr>\n",
       "      <th>50856</th>\n",
       "      <td>Q45XH8</td>\n",
       "      <td>MVHFTAEEKAAIASLWGQVNVEETGGEALGRLLVVYPWTQRFFDTF...</td>\n",
       "      <td>-</td>\n",
       "      <td>P02099</td>\n",
       "      <td>0.829</td>\n",
       "      <td>0.9986</td>\n",
       "      <td>-</td>\n",
       "    </tr>\n",
       "    <tr>\n",
       "      <th>50857</th>\n",
       "      <td>P0ADX7</td>\n",
       "      <td>MKRLLILTALLPFVGFAQPINTLNNPNQPGYQIPSQQRMQTQMQTQ...</td>\n",
       "      <td>-</td>\n",
       "      <td>P0ADX8</td>\n",
       "      <td>0.856</td>\n",
       "      <td>0.5549</td>\n",
       "      <td>-</td>\n",
       "    </tr>\n",
       "  </tbody>\n",
       "</table>\n",
       "<p>50858 rows × 7 columns</p>\n",
       "</div>"
      ],
      "text/plain": [
       "      uniprot_id                                                seq  \\\n",
       "0         Q8P3B7  MSPSTPTDPCPCGRAAGYAQCCGQYHAGAAAPDAETLMRARYSAYV...   \n",
       "1         P65480  MDASTLFKKVKVKRVLGSLEQQIDDITTDSRTAREGSIFVASVGYT...   \n",
       "2         Q05512  MSSARTPLPTLNERDTEQPTLGHLDSKPSSKSNMLRGRNSATSADE...   \n",
       "3         Q8N7C0  MSLASGPGPGWLLFSFGMGLVSGSKCPNNCLCQAQEVICTGKQLTE...   \n",
       "4         Q9UPZ6  MGLQARRWASGSRGAAGPRRGVLQLLPLPLPLPLLLLLLLRPGAGR...   \n",
       "...          ...                                                ...   \n",
       "50853     Q1JUP4  MANVTYTDTQLLIDGEWVDAASGKTIDVVNPATGKPIGRVAHAGIA...   \n",
       "50854     A7H910  MTLKPVREVSPGSQEGEERLEQSLRPATFEEYVGQEKLVENFRVYA...   \n",
       "50855     Q8A155  MSESKRIKTALVSVYHKEGLDEIITKLYEEGVEFLSTGGTRQFIES...   \n",
       "50856     Q45XH8  MVHFTAEEKAAIASLWGQVNVEETGGEALGRLLVVYPWTQRFFDTF...   \n",
       "50857     P0ADX7  MKRLLILTALLPFVGFAQPINTLNNPNQPGYQIPSQQRMQTQMQTQ...   \n",
       "\n",
       "                                   rxn_groundtruth  ref_id  fident  \\\n",
       "0                                                -  Q4UNT9   1.000   \n",
       "1                                       RHEA:17969  A7X0P6   1.000   \n",
       "2      RHEA:17989;RHEA:46608;RHEA:12801;RHEA:53904  O08679   0.787   \n",
       "3                                                -  Q5NVQ6   0.259   \n",
       "4                                                -  Q6P4U0   0.458   \n",
       "...                                            ...     ...     ...   \n",
       "50853             RHEA:11296;RHEA:47152;RHEA:13217  B9F3B6   0.431   \n",
       "50854                                   RHEA:13065  B9JRX1   0.547   \n",
       "50855                        RHEA:22192;RHEA:18445  Q9ABY4   0.408   \n",
       "50856                                            -  P02099   0.829   \n",
       "50857                                            -  P0ADX8   0.856   \n",
       "\n",
       "       alntmscore                              rxn_foldseekaln  \n",
       "0          0.9887                                            -  \n",
       "1          1.0000                                   RHEA:17969  \n",
       "2          0.7668  RHEA:17989;RHEA:46608;RHEA:12801;RHEA:53904  \n",
       "3          0.9179                                            -  \n",
       "4          0.8187                                            -  \n",
       "...           ...                                          ...  \n",
       "50853      0.9876                                   RHEA:13217  \n",
       "50854      0.9835                                   RHEA:13065  \n",
       "50855      0.9592                        RHEA:22192;RHEA:18445  \n",
       "50856      0.9986                                            -  \n",
       "50857      0.5549                                            -  \n",
       "\n",
       "[50858 rows x 7 columns]"
      ]
     },
     "execution_count": 20,
     "metadata": {},
     "output_type": "execute_result"
    }
   ],
   "source": [
    "pd.read_csv(foldseek_structural_pred_res[8], sep='\\t')"
   ]
  },
  {
   "cell_type": "code",
   "execution_count": 21,
   "metadata": {},
   "outputs": [],
   "source": [
    "df = pd.read_table(res_fold_seek[9],  sep='\\t', index_col=None, names=col_names, low_memory=False)[['query', 'target', 'fident', 'alntmscore']]"
   ]
  },
  {
   "cell_type": "code",
   "execution_count": 26,
   "metadata": {},
   "outputs": [
    {
     "data": {
      "text/html": [
       "<div>\n",
       "<style scoped>\n",
       "    .dataframe tbody tr th:only-of-type {\n",
       "        vertical-align: middle;\n",
       "    }\n",
       "\n",
       "    .dataframe tbody tr th {\n",
       "        vertical-align: top;\n",
       "    }\n",
       "\n",
       "    .dataframe thead th {\n",
       "        text-align: right;\n",
       "    }\n",
       "</style>\n",
       "<table border=\"1\" class=\"dataframe\">\n",
       "  <thead>\n",
       "    <tr style=\"text-align: right;\">\n",
       "      <th></th>\n",
       "      <th>query</th>\n",
       "      <th>target</th>\n",
       "      <th>fident</th>\n",
       "      <th>alntmscore</th>\n",
       "    </tr>\n",
       "  </thead>\n",
       "  <tbody>\n",
       "    <tr>\n",
       "      <th>31776625</th>\n",
       "      <td>AF-Q6YXK2-F1-model_v4.pdb</td>\n",
       "      <td>AF-Q6YXK2-F1-model_v4.pdb</td>\n",
       "      <td>1.000</td>\n",
       "      <td>1.0000</td>\n",
       "    </tr>\n",
       "    <tr>\n",
       "      <th>31776626</th>\n",
       "      <td>AF-Q6YXK2-F1-model_v4.pdb</td>\n",
       "      <td>AF-P06291-F1-model_v4.pdb</td>\n",
       "      <td>0.798</td>\n",
       "      <td>0.8534</td>\n",
       "    </tr>\n",
       "    <tr>\n",
       "      <th>31776627</th>\n",
       "      <td>AF-Q6YXK2-F1-model_v4.pdb</td>\n",
       "      <td>AF-B2LMI6-F1-model_v4.pdb</td>\n",
       "      <td>0.527</td>\n",
       "      <td>0.7193</td>\n",
       "    </tr>\n",
       "    <tr>\n",
       "      <th>31776628</th>\n",
       "      <td>AF-Q6YXK2-F1-model_v4.pdb</td>\n",
       "      <td>AF-Q0G9N3-F1-model_v4.pdb</td>\n",
       "      <td>0.576</td>\n",
       "      <td>0.7666</td>\n",
       "    </tr>\n",
       "    <tr>\n",
       "      <th>31776629</th>\n",
       "      <td>AF-Q6YXK2-F1-model_v4.pdb</td>\n",
       "      <td>AF-Q6EW62-F1-model_v4.pdb</td>\n",
       "      <td>0.548</td>\n",
       "      <td>0.7068</td>\n",
       "    </tr>\n",
       "    <tr>\n",
       "      <th>...</th>\n",
       "      <td>...</td>\n",
       "      <td>...</td>\n",
       "      <td>...</td>\n",
       "      <td>...</td>\n",
       "    </tr>\n",
       "    <tr>\n",
       "      <th>31776901</th>\n",
       "      <td>AF-Q6YXK2-F1-model_v4.pdb</td>\n",
       "      <td>AF-Q0CLP4-F1-model_v4.pdb</td>\n",
       "      <td>0.092</td>\n",
       "      <td>0.3356</td>\n",
       "    </tr>\n",
       "    <tr>\n",
       "      <th>31776902</th>\n",
       "      <td>AF-Q6YXK2-F1-model_v4.pdb</td>\n",
       "      <td>AF-P04701-F1-model_v4.pdb</td>\n",
       "      <td>0.084</td>\n",
       "      <td>0.3288</td>\n",
       "    </tr>\n",
       "    <tr>\n",
       "      <th>31776903</th>\n",
       "      <td>AF-Q6YXK2-F1-model_v4.pdb</td>\n",
       "      <td>AF-O14148-F1-model_v4.pdb</td>\n",
       "      <td>0.091</td>\n",
       "      <td>0.2384</td>\n",
       "    </tr>\n",
       "    <tr>\n",
       "      <th>31776904</th>\n",
       "      <td>AF-Q6YXK2-F1-model_v4.pdb</td>\n",
       "      <td>AF-Q6CS73-F1-model_v4.pdb</td>\n",
       "      <td>0.040</td>\n",
       "      <td>0.2011</td>\n",
       "    </tr>\n",
       "    <tr>\n",
       "      <th>31776905</th>\n",
       "      <td>AF-Q6YXK2-F1-model_v4.pdb</td>\n",
       "      <td>AF-P33539-F1-model_v4.pdb</td>\n",
       "      <td>0.060</td>\n",
       "      <td>0.2135</td>\n",
       "    </tr>\n",
       "  </tbody>\n",
       "</table>\n",
       "<p>281 rows × 4 columns</p>\n",
       "</div>"
      ],
      "text/plain": [
       "                              query                     target  fident  \\\n",
       "31776625  AF-Q6YXK2-F1-model_v4.pdb  AF-Q6YXK2-F1-model_v4.pdb   1.000   \n",
       "31776626  AF-Q6YXK2-F1-model_v4.pdb  AF-P06291-F1-model_v4.pdb   0.798   \n",
       "31776627  AF-Q6YXK2-F1-model_v4.pdb  AF-B2LMI6-F1-model_v4.pdb   0.527   \n",
       "31776628  AF-Q6YXK2-F1-model_v4.pdb  AF-Q0G9N3-F1-model_v4.pdb   0.576   \n",
       "31776629  AF-Q6YXK2-F1-model_v4.pdb  AF-Q6EW62-F1-model_v4.pdb   0.548   \n",
       "...                             ...                        ...     ...   \n",
       "31776901  AF-Q6YXK2-F1-model_v4.pdb  AF-Q0CLP4-F1-model_v4.pdb   0.092   \n",
       "31776902  AF-Q6YXK2-F1-model_v4.pdb  AF-P04701-F1-model_v4.pdb   0.084   \n",
       "31776903  AF-Q6YXK2-F1-model_v4.pdb  AF-O14148-F1-model_v4.pdb   0.091   \n",
       "31776904  AF-Q6YXK2-F1-model_v4.pdb  AF-Q6CS73-F1-model_v4.pdb   0.040   \n",
       "31776905  AF-Q6YXK2-F1-model_v4.pdb  AF-P33539-F1-model_v4.pdb   0.060   \n",
       "\n",
       "          alntmscore  \n",
       "31776625      1.0000  \n",
       "31776626      0.8534  \n",
       "31776627      0.7193  \n",
       "31776628      0.7666  \n",
       "31776629      0.7068  \n",
       "...              ...  \n",
       "31776901      0.3356  \n",
       "31776902      0.3288  \n",
       "31776903      0.2384  \n",
       "31776904      0.2011  \n",
       "31776905      0.2135  \n",
       "\n",
       "[281 rows x 4 columns]"
      ]
     },
     "execution_count": 26,
     "metadata": {},
     "output_type": "execute_result"
    }
   ],
   "source": [
    "df[df['query'] == 'AF-Q6YXK2-F1-model_v4.pdb']"
   ]
  },
  {
   "cell_type": "code",
   "execution_count": null,
   "metadata": {},
   "outputs": [],
   "source": []
  }
 ],
 "metadata": {
  "kernelspec": {
   "display_name": "Python 3",
   "language": "python",
   "name": "python3"
  },
  "language_info": {
   "codemirror_mode": {
    "name": "ipython",
    "version": 3
   },
   "file_extension": ".py",
   "mimetype": "text/x-python",
   "name": "python",
   "nbconvert_exporter": "python",
   "pygments_lexer": "ipython3",
   "version": "3.10.14"
  },
  "orig_nbformat": 4
 },
 "nbformat": 4,
 "nbformat_minor": 2
}
