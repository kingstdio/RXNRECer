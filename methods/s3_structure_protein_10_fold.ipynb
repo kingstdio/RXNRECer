{
 "cells": [
  {
   "cell_type": "markdown",
   "metadata": {},
   "source": [
    "## Methods: 基于蛋白结构的反应预测\n",
    "> 2024-12-20\n",
    "\n",
    "### 1. 导入必要的包"
   ]
  },
  {
   "cell_type": "code",
   "execution_count": 3,
   "metadata": {},
   "outputs": [
    {
     "name": "stdout",
     "output_type": "stream",
     "text": [
      "INFO: Pandarallel will run on 128 workers.\n",
      "INFO: Pandarallel will use Memory file system to transfer data between the main process and workers.\n"
     ]
    }
   ],
   "source": [
    "import pandas as pd\n",
    "import sys,os\n",
    "sys.path.insert(0, os.path.dirname(os.path.realpath('__file__')))\n",
    "sys.path.insert(1,'../')\n",
    "from config import conf as cfg\n",
    "from tqdm import tqdm\n",
    "from tools import bioFunctionLib as bfl \n",
    "from pandarallel import pandarallel # 导入pandaralle\n",
    "pandarallel.initialize(progress_bar=False)\n",
    "FIRST_TIME_RUN = False\n",
    "import subprocess\n",
    "\n",
    "%load_ext autoreload\n",
    "%autoreload 2"
   ]
  },
  {
   "cell_type": "markdown",
   "metadata": {},
   "source": [
    "### 2. Load test data"
   ]
  },
  {
   "cell_type": "code",
   "execution_count": 5,
   "metadata": {},
   "outputs": [
    {
     "name": "stdout",
     "output_type": "stream",
     "text": [
      "Loading uniprot_rxn_dict ...\n",
      "Loading 10-folds test data ...\n"
     ]
    },
    {
     "data": {
      "text/html": [
       "<div>\n",
       "<style scoped>\n",
       "    .dataframe tbody tr th:only-of-type {\n",
       "        vertical-align: middle;\n",
       "    }\n",
       "\n",
       "    .dataframe tbody tr th {\n",
       "        vertical-align: top;\n",
       "    }\n",
       "\n",
       "    .dataframe thead th {\n",
       "        text-align: right;\n",
       "    }\n",
       "</style>\n",
       "<table border=\"1\" class=\"dataframe\">\n",
       "  <thead>\n",
       "    <tr style=\"text-align: right;\">\n",
       "      <th></th>\n",
       "      <th>uniprot_id</th>\n",
       "      <th>seq</th>\n",
       "      <th>rxn_groundtruth</th>\n",
       "    </tr>\n",
       "  </thead>\n",
       "  <tbody>\n",
       "    <tr>\n",
       "      <th>105768</th>\n",
       "      <td>Q9UYB6</td>\n",
       "      <td>MLPDRVLEILNEMKAERIRGATWLARKGAEAFLALAEELDEALLED...</td>\n",
       "      <td>-</td>\n",
       "    </tr>\n",
       "    <tr>\n",
       "      <th>195319</th>\n",
       "      <td>C1AQW9</td>\n",
       "      <td>MRTPCSQHRRDRPSAIGSQLPDADTLDTRQPPLQEIPISSFADKTF...</td>\n",
       "      <td>RHEA:19669</td>\n",
       "    </tr>\n",
       "    <tr>\n",
       "      <th>135884</th>\n",
       "      <td>P64647</td>\n",
       "      <td>MALFSKILIFYVIGVNISFVIIWFISHEKTHIRLLSAFLVGITWPM...</td>\n",
       "      <td>-</td>\n",
       "    </tr>\n",
       "  </tbody>\n",
       "</table>\n",
       "</div>"
      ],
      "text/plain": [
       "       uniprot_id                                                seq  \\\n",
       "105768     Q9UYB6  MLPDRVLEILNEMKAERIRGATWLARKGAEAFLALAEELDEALLED...   \n",
       "195319     C1AQW9  MRTPCSQHRRDRPSAIGSQLPDADTLDTRQPPLQEIPISSFADKTF...   \n",
       "135884     P64647  MALFSKILIFYVIGVNISFVIIWFISHEKTHIRLLSAFLVGITWPM...   \n",
       "\n",
       "       rxn_groundtruth  \n",
       "105768               -  \n",
       "195319      RHEA:19669  \n",
       "135884               -  "
      ]
     },
     "execution_count": 5,
     "metadata": {},
     "output_type": "execute_result"
    }
   ],
   "source": [
    "def load_10folds_data(type='test'):\n",
    "    if type == 'test':\n",
    "        file_path = [f'{cfg.DIR_DATASET}validation/fold{fold_num+1}/valid.feather' for fold_num in range(10)]\n",
    "    if type =='train':\n",
    "        file_path = [f'{cfg.DIR_DATASET}validation/fold{fold_num+1}/train.feather' for fold_num in range(10)]\n",
    "    res = [pd.read_feather(path)[['uniprot_id','seq','reaction_id']].rename(columns={'reaction_id': 'rxn_groundtruth'}) for path in file_path]\n",
    "    return res\n",
    "\n",
    "\n",
    "print('Loading pdbfile ...' )\n",
    "data_pdb = pd.read_feather(cfg.FILE_DS_PDB_LIST)\n",
    "\n",
    "\n",
    "print('Loading 10-folds  data ...' )\n",
    "data_trian = load_10folds_data(type='train')\n",
    "data_test = load_10folds_data(type='test')"
   ]
  },
  {
   "cell_type": "markdown",
   "metadata": {},
   "source": [
    "### 3. MakeDBs"
   ]
  },
  {
   "cell_type": "code",
   "execution_count": 3,
   "metadata": {},
   "outputs": [],
   "source": [
    "if FIRST_TIME_RUN:\n",
    "    trains_ids = [item.uniprot_id.to_list() for item in data_trian]\n",
    "    for i in tqdm(range(10)):\n",
    "        fold_num=i\n",
    "        db_name = f'fold{i+1}'\n",
    "        prep_df = data_pdb[data_pdb.uniprot_id.isin(trains_ids[fold_num]).reset_index(drop=True)]\n",
    "        bfl.make_foldseek_db(prp_df=prep_df, db_name=db_name)"
   ]
  },
  {
   "cell_type": "markdown",
   "metadata": {},
   "source": [
    "### 4. Make testDBS"
   ]
  },
  {
   "cell_type": "code",
   "execution_count": 4,
   "metadata": {},
   "outputs": [],
   "source": [
    "if FIRST_TIME_RUN:\n",
    "    test_ids = [item.uniprot_id.to_list() for item in data_test]\n",
    "    for i in tqdm(range(10)):\n",
    "        fold_num=i\n",
    "        db_name = f'fold{i+1}'\n",
    "        prep_df = data_pdb[data_pdb.uniprot_id.isin(test_ids[fold_num]).reset_index(drop=True)]\n",
    "        bfl.gather_test_pdb_db(prp_df=prep_df, db_name=db_name)\n"
   ]
  },
  {
   "cell_type": "markdown",
   "metadata": {},
   "source": [
    "### 5. 执行比对脚本"
   ]
  },
  {
   "cell_type": "code",
   "execution_count": 13,
   "metadata": {},
   "outputs": [],
   "source": [
    "# fold_num = 1\n",
    "# fseek_cols='query,target,fident,alnlen,mismatch,gapopen,qstart,qend,tstart,tend,evalue,bits,prob,lddt,alntmscore,qtmscore,ttmscore'\n",
    "# fseek_cmd =f'time foldseek easy-search {cfg.DIR_FOLDSEEK_PDB}fold{fold_num}/pdb_test/ {cfg.DIR_FOLDSEEK_PDB}fold1/DB/fold1 \\\n",
    "# {cfg.RESULTS_DIR}/structural/foldseek_res_fold{fold_num}.m8 {cfg.TEMP_DIR} --alignment-type 0 --format-output {fseek_cols} \\\n",
    "# --tmscore-threshold 0.2 --tmalign-hit-order 0 --max-seqs 1000'\n",
    "\n",
    "# fseek_cmd"
   ]
  },
  {
   "cell_type": "code",
   "execution_count": 87,
   "metadata": {},
   "outputs": [
    {
     "data": {
      "text/plain": [
       "'s3-1_structure_foldseek.slurm'"
      ]
     },
     "execution_count": 87,
     "metadata": {},
     "output_type": "execute_result"
    }
   ],
   "source": [
    "# Writing the SLURM script to a file named 's3-1_structure_foldseek.slurm'\n",
    "\n",
    "script_content = \"\"\"#!/bin/bash\n",
    "#SBATCH --job-name=foldseek_batch                       # 作业名称\n",
    "#SBATCH --partition=qcpu_23i                            # 队列名称\n",
    "#SBATCH --nodes=1                                       # 每个作业使用一个节点\n",
    "#SBATCH --ntasks-per-node=1                             # 每个节点的任务数（单任务）\n",
    "#SBATCH --cpus-per-task=63                              # 每个任务使用的 CPU 核心数\n",
    "#SBATCH --mem=500G                                      # 每个节点使用的内存\n",
    "#SBATCH --array=0-9                                     # 数组任务索引范围\n",
    "#SBATCH --output=slurmlog/RXNRECer-FOLDSEEK-%A_%a.out   # 标准输出文件\n",
    "#SBATCH --error=slurmlog/RXNRECer-FOLDSEEK-%A_%a.err    # 标准错误文件\n",
    "\n",
    "# 配置变量\n",
    "FOLD_NUM=$((SLURM_ARRAY_TASK_ID + 1)) # 将数组索引转换为 fold_num (1 到 10)\n",
    "CFG_DIR=\"/hpcfs/fhome/shizhenkun/codebase/RXNRECer/results/intermediate/foldseek\"\n",
    "RESULTS_DIR=\"/hpcfs/fhome/shizhenkun/codebase/RXNRECer/results/structural\"\n",
    "BASE_TEMP_DIR=\"/hpcfs/fhome/shizhenkun/codebase/RXNRECer/temp\"\n",
    "TEMP_DIR=\"${BASE_TEMP_DIR}/task_${SLURM_ARRAY_TASK_ID}\" # 动态临时目录\n",
    "FSEEK_COLS=\"query,target,fident,alnlen,mismatch,gapopen,qstart,qend,tstart,tend,evalue,bits,prob,lddt,alntmscore,qtmscore,ttmscore\"\n",
    "\n",
    "# 创建日志目录（如果不存在）\n",
    "mkdir -p slurmlog\n",
    "\n",
    "# 为当前任务创建独立的临时目录\n",
    "mkdir -p ${TEMP_DIR}\n",
    "\n",
    "# 输出任务开始信息\n",
    "echo \"Job started: $(date)\"\n",
    "echo \"Running foldseek for fold_num=${FOLD_NUM} with ${SLURM_CPUS_PER_TASK} threads\"\n",
    "echo \"Task is running on node: $(hostname)\"\n",
    "echo \"Temporary directory: ${TEMP_DIR}\"\n",
    "\n",
    "# 设置 OpenMP 线程数\n",
    "export OMP_NUM_THREADS=${SLURM_CPUS_PER_TASK}\n",
    "\n",
    "# 运行命令\n",
    "time foldseek easy-search ${CFG_DIR}/fold${FOLD_NUM}/pdb_test/ ${CFG_DIR}/fold{FOLD_NUM}/DB/fold{FOLD_NUM} \\\n",
    "${RESULTS_DIR}/foldseek_res_fold${FOLD_NUM}.m8 ${TEMP_DIR} \\\n",
    "--alignment-type 0 --format-output ${FSEEK_COLS} \\\n",
    "--tmscore-threshold 0.2 --tmalign-hit-order 0 --max-seqs 1000\n",
    "\n",
    "# 清理任务临时目录（可选，如果需要保留临时文件，注释掉以下行）\n",
    "rm -rf ${TEMP_DIR}\n",
    "echo \"Deleted temporary directory: ${TEMP_DIR}\"\n",
    "\n",
    "# 输出任务结束信息\n",
    "echo \"Job ended: $(date)\"\n",
    "\"\"\"\n",
    "\n",
    "file_path = \"s3-1_structure_foldseek.slurm\"\n",
    "\n",
    "with open(file_path, \"w\") as file:\n",
    "    file.write(script_content)\n",
    "\n",
    "file_path\n",
    "\n",
    "# ! sbatch s3-1_structure_foldseek.slurm"
   ]
  },
  {
   "cell_type": "markdown",
   "metadata": {},
   "source": [
    "### 6. Load results"
   ]
  },
  {
   "cell_type": "code",
   "execution_count": 12,
   "metadata": {},
   "outputs": [],
   "source": [
    "res_fold_seek = [f'{cfg.RESULTS_DIR}structural/foldseek_res_fold{item}.m8' for item in range(1,11)]\n",
    "col_names=[\"query\", \"target\", \"fident\", \"alnlen\", \"mismatch\", \"gapopen\", \"qstart\", \"qend\", \"tstart\", \"tend\", \"evalue\", \"bits\", \"prob\", \"lddt\", \"alntmscore\", \"qtmscore\", \"ttmscore\"]\n",
    "foldseek_structural_pred_res = [f'{cfg.RESULTS_DIR}intermediate/structural/foldseekaln_fold{i+1}.tsv' for i in range(10)]\n",
    "\n",
    "if FIRST_TIME_RUN: # 如果第一次跑，添加groundtruth\n",
    "    for i in tqdm(range(10)):\n",
    "        df = pd.read_table(res_fold_seek[i],  sep='\\t', index_col=None, names=col_names, low_memory=False)[['query', 'target', 'fident', 'alntmscore']]\n",
    "        df = df.loc[df.groupby('query')['alntmscore'].idxmax()].reset_index(drop=True)\n",
    "        df.insert(0, 'uniprot_id', df['query'].apply(lambda x: x.split('-')[1]))\n",
    "        df.insert(1, 'ref_id', df['target'].apply(lambda x: x.split('-')[1]))\n",
    "        df = df.merge(data_trian[i], left_on='ref_id', right_on='uniprot_id', how='left')[['uniprot_id_x', 'ref_id','fident', 'alntmscore', 'rxn_groundtruth']].rename(columns={'uniprot_id_x':'uniprot_id', 'rxn_groundtruth':'rxn_foldseekaln'})\n",
    "        df = data_test[i].merge(df, on='uniprot_id', how='left')\n",
    "        df.rxn_foldseekaln = df.rxn_foldseekaln.fillna('NO-PREDICTION')\n",
    "        df.to_csv(foldseek_structural_pred_res[i], sep='\\t', index=False)\n",
    "        print(f'File saved to:{foldseek_structural_pred_res[i]} with {len(df)} records')\n",
    "    \n",
    "fold_res = [ pd.read_csv(file, sep='\\t') for file in foldseek_structural_pred_res ] "
   ]
  },
  {
   "cell_type": "code",
   "execution_count": 9,
   "metadata": {},
   "outputs": [
    {
     "name": "stderr",
     "output_type": "stream",
     "text": [
      " 10%|█         | 1/10 [00:43<06:34, 43.78s/it]"
     ]
    },
    {
     "name": "stdout",
     "output_type": "stream",
     "text": [
      "File saved to:/hpcfs/fhome/shizhenkun/codebase/RXNRECer/results/intermediate/structural/foldseekaln_fold1.tsv with 50858 records\n"
     ]
    },
    {
     "name": "stderr",
     "output_type": "stream",
     "text": [
      " 20%|██        | 2/10 [01:27<05:50, 43.82s/it]"
     ]
    },
    {
     "name": "stdout",
     "output_type": "stream",
     "text": [
      "File saved to:/hpcfs/fhome/shizhenkun/codebase/RXNRECer/results/intermediate/structural/foldseekaln_fold2.tsv with 50858 records\n"
     ]
    },
    {
     "name": "stderr",
     "output_type": "stream",
     "text": [
      " 30%|███       | 3/10 [02:11<05:07, 43.94s/it]"
     ]
    },
    {
     "name": "stdout",
     "output_type": "stream",
     "text": [
      "File saved to:/hpcfs/fhome/shizhenkun/codebase/RXNRECer/results/intermediate/structural/foldseekaln_fold3.tsv with 50858 records\n"
     ]
    },
    {
     "name": "stderr",
     "output_type": "stream",
     "text": [
      " 40%|████      | 4/10 [02:55<04:23, 43.95s/it]"
     ]
    },
    {
     "name": "stdout",
     "output_type": "stream",
     "text": [
      "File saved to:/hpcfs/fhome/shizhenkun/codebase/RXNRECer/results/intermediate/structural/foldseekaln_fold4.tsv with 50858 records\n"
     ]
    },
    {
     "name": "stderr",
     "output_type": "stream",
     "text": [
      " 50%|█████     | 5/10 [03:40<03:40, 44.11s/it]"
     ]
    },
    {
     "name": "stdout",
     "output_type": "stream",
     "text": [
      "File saved to:/hpcfs/fhome/shizhenkun/codebase/RXNRECer/results/intermediate/structural/foldseekaln_fold5.tsv with 50858 records\n"
     ]
    },
    {
     "name": "stderr",
     "output_type": "stream",
     "text": [
      " 60%|██████    | 6/10 [04:24<02:56, 44.11s/it]"
     ]
    },
    {
     "name": "stdout",
     "output_type": "stream",
     "text": [
      "File saved to:/hpcfs/fhome/shizhenkun/codebase/RXNRECer/results/intermediate/structural/foldseekaln_fold6.tsv with 50858 records\n"
     ]
    },
    {
     "name": "stderr",
     "output_type": "stream",
     "text": [
      " 70%|███████   | 7/10 [05:09<02:13, 44.42s/it]"
     ]
    },
    {
     "name": "stdout",
     "output_type": "stream",
     "text": [
      "File saved to:/hpcfs/fhome/shizhenkun/codebase/RXNRECer/results/intermediate/structural/foldseekaln_fold7.tsv with 50858 records\n"
     ]
    },
    {
     "name": "stderr",
     "output_type": "stream",
     "text": [
      " 80%|████████  | 8/10 [05:54<01:29, 44.55s/it]"
     ]
    },
    {
     "name": "stdout",
     "output_type": "stream",
     "text": [
      "File saved to:/hpcfs/fhome/shizhenkun/codebase/RXNRECer/results/intermediate/structural/foldseekaln_fold8.tsv with 50858 records\n"
     ]
    },
    {
     "name": "stderr",
     "output_type": "stream",
     "text": [
      " 90%|█████████ | 9/10 [06:37<00:44, 44.23s/it]"
     ]
    },
    {
     "name": "stdout",
     "output_type": "stream",
     "text": [
      "File saved to:/hpcfs/fhome/shizhenkun/codebase/RXNRECer/results/intermediate/structural/foldseekaln_fold9.tsv with 50858 records\n"
     ]
    },
    {
     "name": "stderr",
     "output_type": "stream",
     "text": [
      "100%|██████████| 10/10 [07:22<00:00, 44.30s/it]"
     ]
    },
    {
     "name": "stdout",
     "output_type": "stream",
     "text": [
      "File saved to:/hpcfs/fhome/shizhenkun/codebase/RXNRECer/results/intermediate/structural/foldseekaln_fold10.tsv with 50858 records\n"
     ]
    },
    {
     "name": "stderr",
     "output_type": "stream",
     "text": [
      "\n"
     ]
    }
   ],
   "source": [
    "for i in tqdm(range(10)):\n",
    "    df = pd.read_table(res_fold_seek[i],  sep='\\t', index_col=None, names=col_names, low_memory=False)[['query', 'target', 'fident', 'alntmscore']]\n",
    "    df = df.loc[df.groupby('query')['alntmscore'].idxmax()].reset_index(drop=True)\n",
    "    df.insert(0, 'uniprot_id', df['query'].apply(lambda x: x.split('-')[1]))\n",
    "    df.insert(1, 'ref_id', df['target'].apply(lambda x: x.split('-')[1]))\n",
    "    df = df.merge(data_trian[i], left_on='ref_id', right_on='uniprot_id', how='left')[['uniprot_id_x', 'ref_id','fident', 'alntmscore', 'rxn_groundtruth']].rename(columns={'uniprot_id_x':'uniprot_id', 'rxn_groundtruth':'rxn_foldseekaln'})\n",
    "    df = data_test[i].merge(df, on='uniprot_id', how='left')\n",
    "    df.rxn_foldseekaln = df.rxn_foldseekaln.fillna('NO-PREDICTION')\n",
    "    df.to_csv(foldseek_structural_pred_res[i], sep='\\t', index=False)\n",
    "    print(f'File saved to:{foldseek_structural_pred_res[i]} with {len(df)} records')"
   ]
  },
  {
   "cell_type": "code",
   "execution_count": 2,
   "metadata": {},
   "outputs": [
    {
     "ename": "NameError",
     "evalue": "name 'fold_res' is not defined",
     "output_type": "error",
     "traceback": [
      "\u001b[0;31m---------------------------------------------------------------------------\u001b[0m",
      "\u001b[0;31mNameError\u001b[0m                                 Traceback (most recent call last)",
      "Cell \u001b[0;32mIn[2], line 2\u001b[0m\n\u001b[1;32m      1\u001b[0m indexfold \u001b[38;5;241m=\u001b[39m \u001b[38;5;241m0\u001b[39m\n\u001b[0;32m----> 2\u001b[0m \u001b[43mfold_res\u001b[49m[indexfold][fold_res[indexfold]\u001b[38;5;241m.\u001b[39mrxn_groundtruth\u001b[38;5;241m==\u001b[39mfold_res[indexfold]\u001b[38;5;241m.\u001b[39mrxn_foldseekaln]\n",
      "\u001b[0;31mNameError\u001b[0m: name 'fold_res' is not defined"
     ]
    }
   ],
   "source": []
  }
 ],
 "metadata": {
  "kernelspec": {
   "display_name": "Python 3",
   "language": "python",
   "name": "python3"
  },
  "language_info": {
   "codemirror_mode": {
    "name": "ipython",
    "version": 3
   },
   "file_extension": ".py",
   "mimetype": "text/x-python",
   "name": "python",
   "nbconvert_exporter": "python",
   "pygments_lexer": "ipython3",
   "version": "3.10.14"
  },
  "orig_nbformat": 4
 },
 "nbformat": 4,
 "nbformat_minor": 2
}
