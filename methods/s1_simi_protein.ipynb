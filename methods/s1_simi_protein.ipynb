{
 "cells": [
  {
   "cell_type": "markdown",
   "metadata": {},
   "source": [
    "## Methos: SimiProtein\n",
    "> 2024-11-05\n",
    "\n",
    "### 1. 导入必要的包"
   ]
  },
  {
   "cell_type": "code",
   "execution_count": 1,
   "metadata": {},
   "outputs": [
    {
     "name": "stdout",
     "output_type": "stream",
     "text": [
      "INFO: Pandarallel will run on 128 workers.\n",
      "INFO: Pandarallel will use Memory file system to transfer data between the main process and workers.\n"
     ]
    }
   ],
   "source": [
    "import numpy as np\n",
    "import pandas as pd\n",
    "import sys,os\n",
    "sys.path.insert(0, os.path.dirname(os.path.realpath('__file__')))\n",
    "sys.path.insert(1,'../')\n",
    "from config import conf as cfg\n",
    "from tkinter import _flatten \n",
    "from tqdm.notebook import tqdm\n",
    "\n",
    "import modules.simi_caculator as simitool\n",
    "from pandarallel import pandarallel # 导入pandaralle\n",
    "pandarallel.initialize(progress_bar=False)\n",
    "# pandarallel.initialize(progress_bar=True)\n",
    "\n",
    "os.environ['CUDA_VISIBLE_DEVICES'] = '0,1'\n",
    "%load_ext autoreload\n",
    "%autoreload 2"
   ]
  },
  {
   "cell_type": "markdown",
   "metadata": {},
   "source": [
    "### 2. Load data and features\n",
    "#### 2.1 Load datasets"
   ]
  },
  {
   "cell_type": "code",
   "execution_count": 2,
   "metadata": {},
   "outputs": [
    {
     "data": {
      "text/html": [
       "<div>\n",
       "<style scoped>\n",
       "    .dataframe tbody tr th:only-of-type {\n",
       "        vertical-align: middle;\n",
       "    }\n",
       "\n",
       "    .dataframe tbody tr th {\n",
       "        vertical-align: top;\n",
       "    }\n",
       "\n",
       "    .dataframe thead th {\n",
       "        text-align: right;\n",
       "    }\n",
       "</style>\n",
       "<table border=\"1\" class=\"dataframe\">\n",
       "  <thead>\n",
       "    <tr style=\"text-align: right;\">\n",
       "      <th></th>\n",
       "      <th>uniprot_id</th>\n",
       "      <th>reaction_groundtruth</th>\n",
       "      <th>isenzyme_groundtruth</th>\n",
       "    </tr>\n",
       "  </thead>\n",
       "  <tbody>\n",
       "    <tr>\n",
       "      <th>0</th>\n",
       "      <td>Q6GZX4</td>\n",
       "      <td>-</td>\n",
       "      <td>nonenzyme</td>\n",
       "    </tr>\n",
       "    <tr>\n",
       "      <th>1</th>\n",
       "      <td>Q6GZX3</td>\n",
       "      <td>-</td>\n",
       "      <td>nonenzyme</td>\n",
       "    </tr>\n",
       "  </tbody>\n",
       "</table>\n",
       "</div>"
      ],
      "text/plain": [
       "  uniprot_id reaction_groundtruth isenzyme_groundtruth\n",
       "0     Q6GZX4                    -            nonenzyme\n",
       "1     Q6GZX3                    -            nonenzyme"
      ]
     },
     "execution_count": 2,
     "metadata": {},
     "output_type": "execute_result"
    }
   ],
   "source": [
    "# load datasets\n",
    "ds_train = pd.read_feather(cfg.FILE_DS_TRAIN)[['uniprot_id', 'reaction_id']].rename(columns={'reaction_id':'reaction_groundtruth'}) # type: ignore\n",
    "ds_test = pd.read_feather(cfg.FILE_DS_TEST)[['uniprot_id', 'reaction_id']].rename(columns={'reaction_id':'reaction_groundtruth'}) # type: ignore\n",
    "\n",
    "# 添加是否是酶的groundtruth\n",
    "ds_train['isenzyme_groundtruth']=ds_train.reaction_groundtruth.parallel_apply(lambda x: 'enzyme' if ';'.join(x)!='-' else 'nonenzyme')\n",
    "ds_test['isenzyme_groundtruth']=ds_test.reaction_groundtruth.parallel_apply(lambda x: 'enzyme' if ';'.join(x)!='-' else 'nonenzyme')\n",
    "\n",
    "ds_train.head(2)"
   ]
  },
  {
   "cell_type": "markdown",
   "metadata": {},
   "source": [
    "#### 2.2 Load Feature ESM"
   ]
  },
  {
   "cell_type": "code",
   "execution_count": 3,
   "metadata": {},
   "outputs": [
    {
     "data": {
      "text/html": [
       "<div>\n",
       "<style scoped>\n",
       "    .dataframe tbody tr th:only-of-type {\n",
       "        vertical-align: middle;\n",
       "    }\n",
       "\n",
       "    .dataframe tbody tr th {\n",
       "        vertical-align: top;\n",
       "    }\n",
       "\n",
       "    .dataframe thead th {\n",
       "        text-align: right;\n",
       "    }\n",
       "</style>\n",
       "<table border=\"1\" class=\"dataframe\">\n",
       "  <thead>\n",
       "    <tr style=\"text-align: right;\">\n",
       "      <th></th>\n",
       "      <th>uniprot_id</th>\n",
       "      <th>reaction_groundtruth</th>\n",
       "      <th>isenzyme_groundtruth</th>\n",
       "      <th>rep0</th>\n",
       "      <th>rep32</th>\n",
       "      <th>rep33</th>\n",
       "    </tr>\n",
       "  </thead>\n",
       "  <tbody>\n",
       "    <tr>\n",
       "      <th>0</th>\n",
       "      <td>A9JLI2</td>\n",
       "      <td>-</td>\n",
       "      <td>nonenzyme</td>\n",
       "      <td>[-0.016734194, 0.0030938622, -0.032814544, -0....</td>\n",
       "      <td>[0.2910796, 1.1923026, -2.5471961, -0.88039047...</td>\n",
       "      <td>[0.027029077, 0.05122046, -0.039942063, -0.040...</td>\n",
       "    </tr>\n",
       "    <tr>\n",
       "      <th>1</th>\n",
       "      <td>A9JLI3</td>\n",
       "      <td>-</td>\n",
       "      <td>nonenzyme</td>\n",
       "      <td>[-0.0035194962, -0.003754213, -0.024650995, -0...</td>\n",
       "      <td>[4.1588683, -0.9986028, 3.379115, 1.4899616, 0...</td>\n",
       "      <td>[0.10094367, 0.013692737, 0.03674977, 0.025248...</td>\n",
       "    </tr>\n",
       "    <tr>\n",
       "      <th>2</th>\n",
       "      <td>A9JLI5</td>\n",
       "      <td>-</td>\n",
       "      <td>nonenzyme</td>\n",
       "      <td>[-0.010903073, 0.0012608002, -0.027889619, -0....</td>\n",
       "      <td>[4.230414, -0.97044975, 1.8296818, 2.16777, 0....</td>\n",
       "      <td>[0.05490144, 0.007199925, 0.017326621, 0.00402...</td>\n",
       "    </tr>\n",
       "  </tbody>\n",
       "</table>\n",
       "</div>"
      ],
      "text/plain": [
       "  uniprot_id reaction_groundtruth isenzyme_groundtruth  \\\n",
       "0     A9JLI2                    -            nonenzyme   \n",
       "1     A9JLI3                    -            nonenzyme   \n",
       "2     A9JLI5                    -            nonenzyme   \n",
       "\n",
       "                                                rep0  \\\n",
       "0  [-0.016734194, 0.0030938622, -0.032814544, -0....   \n",
       "1  [-0.0035194962, -0.003754213, -0.024650995, -0...   \n",
       "2  [-0.010903073, 0.0012608002, -0.027889619, -0....   \n",
       "\n",
       "                                               rep32  \\\n",
       "0  [0.2910796, 1.1923026, -2.5471961, -0.88039047...   \n",
       "1  [4.1588683, -0.9986028, 3.379115, 1.4899616, 0...   \n",
       "2  [4.230414, -0.97044975, 1.8296818, 2.16777, 0....   \n",
       "\n",
       "                                               rep33  \n",
       "0  [0.027029077, 0.05122046, -0.039942063, -0.040...  \n",
       "1  [0.10094367, 0.013692737, 0.03674977, 0.025248...  \n",
       "2  [0.05490144, 0.007199925, 0.017326621, 0.00402...  "
      ]
     },
     "execution_count": 3,
     "metadata": {},
     "output_type": "execute_result"
    }
   ],
   "source": [
    "#esm\n",
    "f_esm = pd.read_feather(cfg.FILE_EMBD_PROTEIN_ESM2_L33_650M)[['uniprot_id', 'rep0', 'rep32', 'rep33']]\n",
    "train_esm = ds_train.merge(f_esm, on='uniprot_id', how='left')\n",
    "test_esm = ds_test.merge(f_esm, on='uniprot_id', how='left')\n",
    "test_esm.head(3)"
   ]
  },
  {
   "cell_type": "code",
   "execution_count": 8,
   "metadata": {},
   "outputs": [
    {
     "data": {
      "text/plain": [
       "(1280,)"
      ]
     },
     "execution_count": 8,
     "metadata": {},
     "output_type": "execute_result"
    }
   ],
   "source": [
    "test_esm.rep0.values[0].shape"
   ]
  },
  {
   "cell_type": "markdown",
   "metadata": {},
   "source": [
    "#### 2.3 Load Unirep"
   ]
  },
  {
   "cell_type": "code",
   "execution_count": 9,
   "metadata": {},
   "outputs": [
    {
     "data": {
      "text/html": [
       "<div>\n",
       "<style scoped>\n",
       "    .dataframe tbody tr th:only-of-type {\n",
       "        vertical-align: middle;\n",
       "    }\n",
       "\n",
       "    .dataframe tbody tr th {\n",
       "        vertical-align: top;\n",
       "    }\n",
       "\n",
       "    .dataframe thead th {\n",
       "        text-align: right;\n",
       "    }\n",
       "</style>\n",
       "<table border=\"1\" class=\"dataframe\">\n",
       "  <thead>\n",
       "    <tr style=\"text-align: right;\">\n",
       "      <th></th>\n",
       "      <th>uniprot_id</th>\n",
       "      <th>reaction_groundtruth</th>\n",
       "      <th>isenzyme_groundtruth</th>\n",
       "      <th>unirep</th>\n",
       "    </tr>\n",
       "  </thead>\n",
       "  <tbody>\n",
       "    <tr>\n",
       "      <th>0</th>\n",
       "      <td>A9JLI2</td>\n",
       "      <td>-</td>\n",
       "      <td>nonenzyme</td>\n",
       "      <td>[0.00449784379452467, -0.14125452935695648, 0....</td>\n",
       "    </tr>\n",
       "    <tr>\n",
       "      <th>1</th>\n",
       "      <td>A9JLI3</td>\n",
       "      <td>-</td>\n",
       "      <td>nonenzyme</td>\n",
       "      <td>[0.008313218131661415, -0.21734574437141418, 0...</td>\n",
       "    </tr>\n",
       "    <tr>\n",
       "      <th>2</th>\n",
       "      <td>A9JLI5</td>\n",
       "      <td>-</td>\n",
       "      <td>nonenzyme</td>\n",
       "      <td>[0.006142920348793268, -0.12105941027402878, 0...</td>\n",
       "    </tr>\n",
       "  </tbody>\n",
       "</table>\n",
       "</div>"
      ],
      "text/plain": [
       "  uniprot_id reaction_groundtruth isenzyme_groundtruth  \\\n",
       "0     A9JLI2                    -            nonenzyme   \n",
       "1     A9JLI3                    -            nonenzyme   \n",
       "2     A9JLI5                    -            nonenzyme   \n",
       "\n",
       "                                              unirep  \n",
       "0  [0.00449784379452467, -0.14125452935695648, 0....  \n",
       "1  [0.008313218131661415, -0.21734574437141418, 0...  \n",
       "2  [0.006142920348793268, -0.12105941027402878, 0...  "
      ]
     },
     "execution_count": 9,
     "metadata": {},
     "output_type": "execute_result"
    }
   ],
   "source": [
    "f_unirep = pd.read_feather(cfg.FILE_EMBD_PROTEIN_UNIREP)[['uniprot_id','unirep']]\n",
    "train_unirep = ds_train.merge(f_unirep, on='uniprot_id', how='left')\n",
    "test_unirep = ds_test.merge(f_unirep, on='uniprot_id', how='left')\n",
    "test_unirep.head(3)"
   ]
  },
  {
   "cell_type": "code",
   "execution_count": 12,
   "metadata": {},
   "outputs": [
    {
     "data": {
      "text/plain": [
       "(1900,)"
      ]
     },
     "execution_count": 12,
     "metadata": {},
     "output_type": "execute_result"
    }
   ],
   "source": [
    "f_unirep.unirep[0].shape"
   ]
  },
  {
   "cell_type": "markdown",
   "metadata": {},
   "source": [
    "#### 2.4 Load T5"
   ]
  },
  {
   "cell_type": "code",
   "execution_count": 13,
   "metadata": {},
   "outputs": [
    {
     "data": {
      "text/html": [
       "<div>\n",
       "<style scoped>\n",
       "    .dataframe tbody tr th:only-of-type {\n",
       "        vertical-align: middle;\n",
       "    }\n",
       "\n",
       "    .dataframe tbody tr th {\n",
       "        vertical-align: top;\n",
       "    }\n",
       "\n",
       "    .dataframe thead th {\n",
       "        text-align: right;\n",
       "    }\n",
       "</style>\n",
       "<table border=\"1\" class=\"dataframe\">\n",
       "  <thead>\n",
       "    <tr style=\"text-align: right;\">\n",
       "      <th></th>\n",
       "      <th>uniprot_id</th>\n",
       "      <th>reaction_groundtruth</th>\n",
       "      <th>isenzyme_groundtruth</th>\n",
       "      <th>t5_per_protein</th>\n",
       "    </tr>\n",
       "  </thead>\n",
       "  <tbody>\n",
       "    <tr>\n",
       "      <th>0</th>\n",
       "      <td>A9JLI2</td>\n",
       "      <td>-</td>\n",
       "      <td>nonenzyme</td>\n",
       "      <td>[-0.11700439453125, 0.1304931640625, -0.007064...</td>\n",
       "    </tr>\n",
       "    <tr>\n",
       "      <th>1</th>\n",
       "      <td>A9JLI3</td>\n",
       "      <td>-</td>\n",
       "      <td>nonenzyme</td>\n",
       "      <td>[-0.0577392578125, 0.07659912109375, 0.0052337...</td>\n",
       "    </tr>\n",
       "    <tr>\n",
       "      <th>2</th>\n",
       "      <td>A9JLI5</td>\n",
       "      <td>-</td>\n",
       "      <td>nonenzyme</td>\n",
       "      <td>[-0.07373046875, 0.11846923828125, -0.00873565...</td>\n",
       "    </tr>\n",
       "  </tbody>\n",
       "</table>\n",
       "</div>"
      ],
      "text/plain": [
       "  uniprot_id reaction_groundtruth isenzyme_groundtruth  \\\n",
       "0     A9JLI2                    -            nonenzyme   \n",
       "1     A9JLI3                    -            nonenzyme   \n",
       "2     A9JLI5                    -            nonenzyme   \n",
       "\n",
       "                                      t5_per_protein  \n",
       "0  [-0.11700439453125, 0.1304931640625, -0.007064...  \n",
       "1  [-0.0577392578125, 0.07659912109375, 0.0052337...  \n",
       "2  [-0.07373046875, 0.11846923828125, -0.00873565...  "
      ]
     },
     "execution_count": 13,
     "metadata": {},
     "output_type": "execute_result"
    }
   ],
   "source": [
    "f_t5 = pd.read_feather(cfg.FILE_EMBD_PROTEIN_T5_SEQ)[['uniprot_id', 't5_per_protein']]\n",
    "train_t5 = ds_train.merge(f_t5, on='uniprot_id', how='left')\n",
    "test_t5 = ds_test.merge(f_t5, on='uniprot_id', how='left')\n",
    "test_t5.head(3)"
   ]
  },
  {
   "cell_type": "code",
   "execution_count": 17,
   "metadata": {},
   "outputs": [
    {
     "data": {
      "text/plain": [
       "(1024,)"
      ]
     },
     "execution_count": 17,
     "metadata": {},
     "output_type": "execute_result"
    }
   ],
   "source": [
    "f_t5.t5_per_protein[0].shape"
   ]
  },
  {
   "cell_type": "markdown",
   "metadata": {},
   "source": [
    "### 3. Simi Caculation"
   ]
  },
  {
   "cell_type": "code",
   "execution_count": 5,
   "metadata": {},
   "outputs": [],
   "source": [
    "# 获取最相似的topk个蛋白   \n",
    "def get_top_protein_simi(x_feature, y_feature, y_uniprot_id, topk):\n",
    "    res_euclidean = np.round(simitool.get_euclidean_distances(fx=x_feature, fy=y_feature)[0], 6)\n",
    "    \n",
    "    res_euclidean_dict = dict(zip(y_uniprot_id, res_euclidean))\n",
    "    final_res_euclidean = sorted(res_euclidean_dict.items(), key=lambda item: item[1])[:topk]\n",
    "\n",
    "    res_cosine = np.round(simitool.get_cosine_similarity(fx=x_feature, fy=y_feature)[0], 6)\n",
    "    res_cosine_dict = dict(zip(y_uniprot_id, res_cosine))\n",
    "    final_res_cosine = sorted(res_cosine_dict.items(), key=lambda item: item[1],  reverse=True)[:topk]\n",
    "\n",
    "    return final_res_euclidean,final_res_cosine"
   ]
  },
  {
   "cell_type": "markdown",
   "metadata": {},
   "source": [
    "#### 3.1 ESM"
   ]
  },
  {
   "cell_type": "code",
   "execution_count": 7,
   "metadata": {},
   "outputs": [],
   "source": [
    "dim_f_esm = len(train_esm.rep0.values[0])\n",
    "f_esm_tr_0 = np.concatenate(train_esm.rep0.values).reshape(-1,dim_f_esm)"
   ]
  },
  {
   "cell_type": "code",
   "execution_count": 11,
   "metadata": {},
   "outputs": [
    {
     "name": "stderr",
     "output_type": "stream",
     "text": [
      "/tmp/ipykernel_3327664/1002848833.py:15: PerformanceWarning: \n",
      "your performance may suffer as PyTables will pickle object types that it cannot\n",
      "map directly to c-types [inferred_type->mixed,key->block0_values] [items->Index(['uniprot_id', 'reaction_groundtruth', 'isenzyme_groundtruth', 'rep0',\n",
      "       'rep32', 'rep33', 'euclidean_rep0', 'cosine_rep0', 'euclidean_rep32',\n",
      "       'cosine_rep32', 'euclidean_rep33', 'cosine_rep33'],\n",
      "      dtype='object')]\n",
      "\n",
      "  h5['data'] = test_esm\n"
     ]
    },
    {
     "data": {
      "text/html": [
       "<div>\n",
       "<style scoped>\n",
       "    .dataframe tbody tr th:only-of-type {\n",
       "        vertical-align: middle;\n",
       "    }\n",
       "\n",
       "    .dataframe tbody tr th {\n",
       "        vertical-align: top;\n",
       "    }\n",
       "\n",
       "    .dataframe thead th {\n",
       "        text-align: right;\n",
       "    }\n",
       "</style>\n",
       "<table border=\"1\" class=\"dataframe\">\n",
       "  <thead>\n",
       "    <tr style=\"text-align: right;\">\n",
       "      <th></th>\n",
       "      <th>uniprot_id</th>\n",
       "      <th>reaction_groundtruth</th>\n",
       "      <th>isenzyme_groundtruth</th>\n",
       "      <th>rep0</th>\n",
       "      <th>rep32</th>\n",
       "      <th>rep33</th>\n",
       "      <th>euclidean_rep0</th>\n",
       "      <th>cosine_rep0</th>\n",
       "      <th>euclidean_rep32</th>\n",
       "      <th>cosine_rep32</th>\n",
       "      <th>euclidean_rep33</th>\n",
       "      <th>cosine_rep33</th>\n",
       "    </tr>\n",
       "  </thead>\n",
       "  <tbody>\n",
       "    <tr>\n",
       "      <th>0</th>\n",
       "      <td>A9JLI2</td>\n",
       "      <td>-</td>\n",
       "      <td>nonenzyme</td>\n",
       "      <td>[-0.016734194, 0.0030938622, -0.032814544, -0....</td>\n",
       "      <td>[0.2910796, 1.1923026, -2.5471961, -0.88039047...</td>\n",
       "      <td>[0.027029077, 0.05122046, -0.039942063, -0.040...</td>\n",
       "      <td>[(P18560, 0.031595), (P0C9G3, 0.091084), (P0C9...</td>\n",
       "      <td>[(P18560, 0.999272), (P0C9G3, 0.993932), (P0C9...</td>\n",
       "      <td>[(P18560, 8.096243), (P0C9G3, 24.56245), (P0C9...</td>\n",
       "      <td>[(P18560, 0.99988), (P0C9G3, 0.998867), (P0C9G...</td>\n",
       "      <td>[(P18560, 0.133943), (P0C9G3, 0.440141), (P0C9...</td>\n",
       "      <td>[(P18560, 0.999891), (P0C9G3, 0.998819), (P0C9...</td>\n",
       "    </tr>\n",
       "    <tr>\n",
       "      <th>1</th>\n",
       "      <td>A9JLI3</td>\n",
       "      <td>-</td>\n",
       "      <td>nonenzyme</td>\n",
       "      <td>[-0.0035194962, -0.003754213, -0.024650995, -0...</td>\n",
       "      <td>[4.1588683, -0.9986028, 3.379115, 1.4899616, 0...</td>\n",
       "      <td>[0.10094367, 0.013692737, 0.03674977, 0.025248...</td>\n",
       "      <td>[(P18559, 0.049364), (P0C9G5, 0.122323), (Q9I8...</td>\n",
       "      <td>[(P18559, 0.998138), (P0C9G5, 0.988737), (Q9I8...</td>\n",
       "      <td>[(P18559, 16.431988), (P26708, 66.79439), (P0C...</td>\n",
       "      <td>[(P18559, 0.999564), (P26708, 0.992849), (P0C9...</td>\n",
       "      <td>[(P18559, 0.247578), (P26708, 0.982841), (P0C9...</td>\n",
       "      <td>[(P18559, 0.999649), (P26708, 0.994392), (P0C9...</td>\n",
       "    </tr>\n",
       "    <tr>\n",
       "      <th>2</th>\n",
       "      <td>A9JLI5</td>\n",
       "      <td>-</td>\n",
       "      <td>nonenzyme</td>\n",
       "      <td>[-0.010903073, 0.0012608002, -0.027889619, -0....</td>\n",
       "      <td>[4.230414, -0.97044975, 1.8296818, 2.16777, 0....</td>\n",
       "      <td>[0.05490144, 0.007199925, 0.017326621, 0.00402...</td>\n",
       "      <td>[(P26707, 0.0), (P18558, 0.068385), (P0C9H1, 0...</td>\n",
       "      <td>[(P26707, 1.0), (P18558, 0.996487), (P0C9H1, 0...</td>\n",
       "      <td>[(P26707, 0.000198), (P18558, 17.919054), (P0C...</td>\n",
       "      <td>[(P26707, 1.0), (P18558, 0.999485), (P0C9H3, 0...</td>\n",
       "      <td>[(P26707, 3e-06), (P18558, 0.272072), (P0C9H3,...</td>\n",
       "      <td>[(P26707, 0.999999), (P18558, 0.999584), (P0C9...</td>\n",
       "    </tr>\n",
       "  </tbody>\n",
       "</table>\n",
       "</div>"
      ],
      "text/plain": [
       "  uniprot_id reaction_groundtruth isenzyme_groundtruth  \\\n",
       "0     A9JLI2                    -            nonenzyme   \n",
       "1     A9JLI3                    -            nonenzyme   \n",
       "2     A9JLI5                    -            nonenzyme   \n",
       "\n",
       "                                                rep0  \\\n",
       "0  [-0.016734194, 0.0030938622, -0.032814544, -0....   \n",
       "1  [-0.0035194962, -0.003754213, -0.024650995, -0...   \n",
       "2  [-0.010903073, 0.0012608002, -0.027889619, -0....   \n",
       "\n",
       "                                               rep32  \\\n",
       "0  [0.2910796, 1.1923026, -2.5471961, -0.88039047...   \n",
       "1  [4.1588683, -0.9986028, 3.379115, 1.4899616, 0...   \n",
       "2  [4.230414, -0.97044975, 1.8296818, 2.16777, 0....   \n",
       "\n",
       "                                               rep33  \\\n",
       "0  [0.027029077, 0.05122046, -0.039942063, -0.040...   \n",
       "1  [0.10094367, 0.013692737, 0.03674977, 0.025248...   \n",
       "2  [0.05490144, 0.007199925, 0.017326621, 0.00402...   \n",
       "\n",
       "                                      euclidean_rep0  \\\n",
       "0  [(P18560, 0.031595), (P0C9G3, 0.091084), (P0C9...   \n",
       "1  [(P18559, 0.049364), (P0C9G5, 0.122323), (Q9I8...   \n",
       "2  [(P26707, 0.0), (P18558, 0.068385), (P0C9H1, 0...   \n",
       "\n",
       "                                         cosine_rep0  \\\n",
       "0  [(P18560, 0.999272), (P0C9G3, 0.993932), (P0C9...   \n",
       "1  [(P18559, 0.998138), (P0C9G5, 0.988737), (Q9I8...   \n",
       "2  [(P26707, 1.0), (P18558, 0.996487), (P0C9H1, 0...   \n",
       "\n",
       "                                     euclidean_rep32  \\\n",
       "0  [(P18560, 8.096243), (P0C9G3, 24.56245), (P0C9...   \n",
       "1  [(P18559, 16.431988), (P26708, 66.79439), (P0C...   \n",
       "2  [(P26707, 0.000198), (P18558, 17.919054), (P0C...   \n",
       "\n",
       "                                        cosine_rep32  \\\n",
       "0  [(P18560, 0.99988), (P0C9G3, 0.998867), (P0C9G...   \n",
       "1  [(P18559, 0.999564), (P26708, 0.992849), (P0C9...   \n",
       "2  [(P26707, 1.0), (P18558, 0.999485), (P0C9H3, 0...   \n",
       "\n",
       "                                     euclidean_rep33  \\\n",
       "0  [(P18560, 0.133943), (P0C9G3, 0.440141), (P0C9...   \n",
       "1  [(P18559, 0.247578), (P26708, 0.982841), (P0C9...   \n",
       "2  [(P26707, 3e-06), (P18558, 0.272072), (P0C9H3,...   \n",
       "\n",
       "                                        cosine_rep33  \n",
       "0  [(P18560, 0.999891), (P0C9G3, 0.998819), (P0C9...  \n",
       "1  [(P18559, 0.999649), (P26708, 0.994392), (P0C9...  \n",
       "2  [(P26707, 0.999999), (P18558, 0.999584), (P0C9...  "
      ]
     },
     "execution_count": 11,
     "metadata": {},
     "output_type": "execute_result"
    }
   ],
   "source": [
    "dim_f_esm = len(train_esm.rep0.values[0])\n",
    "f_esm_tr_0 = np.concatenate(train_esm.rep0.values).reshape(-1,dim_f_esm)\n",
    "f_esm_tr_32 = np.concatenate(train_esm.rep32.values).reshape(-1,dim_f_esm)\n",
    "f_esm_tr_33 = np.concatenate(train_esm.rep33.values).reshape(-1,dim_f_esm)\n",
    "\n",
    "\n",
    "with pd.option_context('mode.chained_assignment', None):\n",
    "    test_esm[['euclidean_rep0', 'cosine_rep0']] = test_esm.parallel_apply(lambda x : get_top_protein_simi(x_feature= x.rep0[np.newaxis, :], y_feature=f_esm_tr_0, y_uniprot_id = train_esm.uniprot_id.to_list(), topk=100),axis=1, result_type=\"expand\") # type: ignore\n",
    "    test_esm[['euclidean_rep32', 'cosine_rep32']] = test_esm.parallel_apply(lambda x : get_top_protein_simi(x_feature= x.rep32[np.newaxis, :], y_feature=f_esm_tr_32, y_uniprot_id = train_esm.uniprot_id.to_list(), topk=100),axis=1, result_type=\"expand\") # type: ignore\n",
    "    test_esm[['euclidean_rep33', 'cosine_rep33']] = test_esm.parallel_apply(lambda x : get_top_protein_simi(x_feature= x.rep33[np.newaxis, :], y_feature=f_esm_tr_33, y_uniprot_id = train_esm.uniprot_id.to_list(), topk=100),axis=1, result_type=\"expand\") # type: ignore\n",
    "\n",
    "\n",
    "try:\n",
    "    with pd.HDFStore(cfg.FILE_RESULTS_SIMI_ESM,'w') as h5:\n",
    "        h5['data'] = test_esm\n",
    "        h5.close()\n",
    "except Exception as e:\n",
    "    print(f\"Error writing HDF5 file: {e}\")\n",
    "    \n",
    "test_esm.head(3)"
   ]
  },
  {
   "cell_type": "markdown",
   "metadata": {},
   "source": [
    "#### 3.2 Unirep    "
   ]
  },
  {
   "cell_type": "code",
   "execution_count": null,
   "metadata": {},
   "outputs": [],
   "source": [
    "dim_f_unirep = len(train_unirep.unirep.values[0])\n",
    "f_unirep_tr = np.concatenate(train_unirep.unirep.values).reshape(-1,dim_f_unirep)\n",
    "\n",
    "with pd.option_context('mode.chained_assignment', None):\n",
    "    test_unirep[['simi_euclidean', 'simi_cosine']] = test_unirep.parallel_apply(lambda x : get_top_protein_simi(x_feature= x.unirep[np.newaxis, :], y_feature=f_unirep_tr, y_uniprot_id = train_unirep.uniprot_id.to_list(), topk=100),axis=1, result_type=\"expand\") # type: ignore\n",
    "\n",
    "try:\n",
    "    with pd.HDFStore(cfg.FILE_RESULTS_SIMI_UNIREP,'w') as h5:\n",
    "        h5['data'] = test_unirep\n",
    "        h5.close()\n",
    "except Exception as e:\n",
    "    print(f\"Error writing HDF5 file: {e}\")\n",
    "    \n",
    "test_unirep.head(3)"
   ]
  },
  {
   "cell_type": "markdown",
   "metadata": {},
   "source": [
    "#### 3.3 T5"
   ]
  },
  {
   "cell_type": "code",
   "execution_count": 39,
   "metadata": {},
   "outputs": [],
   "source": [
    "dim_f_t5 = len(train_t5.t5_per_protein.values[0])\n",
    "f_t5_tr = np.concatenate(train_t5.t5_per_protein.values).reshape(-1,dim_f_t5)\n",
    "\n",
    "with pd.option_context('mode.chained_assignment', None):\n",
    "    test_t5[['simi_euclidean', 'simi_cosine']] = test_t5.parallel_apply(lambda x : get_top_protein_simi(x_feature= x.t5_per_protein[np.newaxis, :], y_feature=f_t5_tr, y_uniprot_id = train_t5.uniprot_id.to_list(), topk=100),axis=1, result_type=\"expand\") # type: ignore\n",
    "\n",
    "\n",
    "try:\n",
    "    with pd.HDFStore(cfg.FILE_RESULTS_SIMI_T5,'w') as h5:\n",
    "        h5['data'] = test_t5\n",
    "        h5.close()\n",
    "except Exception as e:\n",
    "    print(f\"Error writing HDF5 file: {e}\")\n",
    "    \n",
    "    "
   ]
  },
  {
   "cell_type": "markdown",
   "metadata": {},
   "source": [
    "### 4. Transform to reaction"
   ]
  },
  {
   "cell_type": "code",
   "execution_count": 14,
   "metadata": {},
   "outputs": [],
   "source": [
    "# 获取最相似蛋白对应的反应\n",
    "def get_simi_ref(euclidean, cosine, ref_df):\n",
    "\n",
    "    uid_euclidean = euclidean[0][0]\n",
    "    uid_cosine = cosine[0][0]\n",
    "\n",
    "    ref_record_e = ref_df[ref_df.uniprot_id==uid_euclidean]\n",
    "    ref_record_c = ref_df[ref_df.uniprot_id==uid_cosine]\n",
    "\n",
    "    euclidean_reaction = ref_record_e.reaction_groundtruth.values[0]\n",
    "    cosine_reaction = ref_record_c.reaction_groundtruth.values[0]\n",
    "\n",
    "    if euclidean_reaction =='-':\n",
    "        euclidean_isenzyme = 'nonenzyme'\n",
    "    else:\n",
    "        euclidean_isenzyme = 'enzyme'\n",
    "\n",
    "    if cosine_reaction =='-':\n",
    "        cosine_isenzyme = 'nonenzyme'\n",
    "    else:\n",
    "        cosine_isenzyme = 'enzyme'\n",
    "    \n",
    "\n",
    "    return euclidean_reaction, euclidean_isenzyme,cosine_reaction, cosine_isenzyme"
   ]
  },
  {
   "cell_type": "markdown",
   "metadata": {},
   "source": [
    "#### 4.1 ESM"
   ]
  },
  {
   "cell_type": "code",
   "execution_count": 15,
   "metadata": {},
   "outputs": [
    {
     "name": "stdout",
     "output_type": "stream",
     "text": [
      "Write file to: /hpcfs/fhome/shizhenkun/codebase/preaction/results240614/simi/exp_test_esm_reaction.h5\n"
     ]
    },
    {
     "data": {
      "text/html": [
       "<div>\n",
       "<style scoped>\n",
       "    .dataframe tbody tr th:only-of-type {\n",
       "        vertical-align: middle;\n",
       "    }\n",
       "\n",
       "    .dataframe tbody tr th {\n",
       "        vertical-align: top;\n",
       "    }\n",
       "\n",
       "    .dataframe thead th {\n",
       "        text-align: right;\n",
       "    }\n",
       "</style>\n",
       "<table border=\"1\" class=\"dataframe\">\n",
       "  <thead>\n",
       "    <tr style=\"text-align: right;\">\n",
       "      <th></th>\n",
       "      <th>uniprot_id</th>\n",
       "      <th>reaction_groundtruth</th>\n",
       "      <th>isenzyme_groundtruth</th>\n",
       "      <th>euclidean_reaction_rep0</th>\n",
       "      <th>euclidean_isenzyme_rep0</th>\n",
       "      <th>cosine_reaction_rep0</th>\n",
       "      <th>cosine_isenzyme_rep0</th>\n",
       "      <th>euclidean_reaction_rep32</th>\n",
       "      <th>euclidean_isenzyme_rep32</th>\n",
       "      <th>cosine_reaction_rep32</th>\n",
       "      <th>cosine_isenzyme_rep32</th>\n",
       "      <th>euclidean_reaction_rep33</th>\n",
       "      <th>euclidean_isenzyme_rep33</th>\n",
       "      <th>cosine_reaction_rep33</th>\n",
       "      <th>cosine_isenzyme_rep33</th>\n",
       "    </tr>\n",
       "  </thead>\n",
       "  <tbody>\n",
       "    <tr>\n",
       "      <th>0</th>\n",
       "      <td>A9JLI2</td>\n",
       "      <td>-</td>\n",
       "      <td>nonenzyme</td>\n",
       "      <td>-</td>\n",
       "      <td>nonenzyme</td>\n",
       "      <td>-</td>\n",
       "      <td>nonenzyme</td>\n",
       "      <td>-</td>\n",
       "      <td>nonenzyme</td>\n",
       "      <td>-</td>\n",
       "      <td>nonenzyme</td>\n",
       "      <td>-</td>\n",
       "      <td>nonenzyme</td>\n",
       "      <td>-</td>\n",
       "      <td>nonenzyme</td>\n",
       "    </tr>\n",
       "    <tr>\n",
       "      <th>1</th>\n",
       "      <td>A9JLI3</td>\n",
       "      <td>-</td>\n",
       "      <td>nonenzyme</td>\n",
       "      <td>-</td>\n",
       "      <td>nonenzyme</td>\n",
       "      <td>-</td>\n",
       "      <td>nonenzyme</td>\n",
       "      <td>-</td>\n",
       "      <td>nonenzyme</td>\n",
       "      <td>-</td>\n",
       "      <td>nonenzyme</td>\n",
       "      <td>-</td>\n",
       "      <td>nonenzyme</td>\n",
       "      <td>-</td>\n",
       "      <td>nonenzyme</td>\n",
       "    </tr>\n",
       "    <tr>\n",
       "      <th>2</th>\n",
       "      <td>A9JLI5</td>\n",
       "      <td>-</td>\n",
       "      <td>nonenzyme</td>\n",
       "      <td>-</td>\n",
       "      <td>nonenzyme</td>\n",
       "      <td>-</td>\n",
       "      <td>nonenzyme</td>\n",
       "      <td>-</td>\n",
       "      <td>nonenzyme</td>\n",
       "      <td>-</td>\n",
       "      <td>nonenzyme</td>\n",
       "      <td>-</td>\n",
       "      <td>nonenzyme</td>\n",
       "      <td>-</td>\n",
       "      <td>nonenzyme</td>\n",
       "    </tr>\n",
       "  </tbody>\n",
       "</table>\n",
       "</div>"
      ],
      "text/plain": [
       "  uniprot_id reaction_groundtruth isenzyme_groundtruth  \\\n",
       "0     A9JLI2                    -            nonenzyme   \n",
       "1     A9JLI3                    -            nonenzyme   \n",
       "2     A9JLI5                    -            nonenzyme   \n",
       "\n",
       "  euclidean_reaction_rep0 euclidean_isenzyme_rep0 cosine_reaction_rep0  \\\n",
       "0                       -               nonenzyme                    -   \n",
       "1                       -               nonenzyme                    -   \n",
       "2                       -               nonenzyme                    -   \n",
       "\n",
       "  cosine_isenzyme_rep0 euclidean_reaction_rep32 euclidean_isenzyme_rep32  \\\n",
       "0            nonenzyme                        -                nonenzyme   \n",
       "1            nonenzyme                        -                nonenzyme   \n",
       "2            nonenzyme                        -                nonenzyme   \n",
       "\n",
       "  cosine_reaction_rep32 cosine_isenzyme_rep32 euclidean_reaction_rep33  \\\n",
       "0                     -             nonenzyme                        -   \n",
       "1                     -             nonenzyme                        -   \n",
       "2                     -             nonenzyme                        -   \n",
       "\n",
       "  euclidean_isenzyme_rep33 cosine_reaction_rep33 cosine_isenzyme_rep33  \n",
       "0                nonenzyme                     -             nonenzyme  \n",
       "1                nonenzyme                     -             nonenzyme  \n",
       "2                nonenzyme                     -             nonenzyme  "
      ]
     },
     "execution_count": 15,
     "metadata": {},
     "output_type": "execute_result"
    }
   ],
   "source": [
    "with pd.HDFStore(cfg.FILE_RESULTS_SIMI_ESM, 'r') as h5:\n",
    "    res_esm = h5['data']\n",
    "\n",
    "\n",
    "res_esm[['euclidean_reaction_rep0', \n",
    "          'euclidean_isenzyme_rep0', \n",
    "          'cosine_reaction_rep0', \n",
    "          'cosine_isenzyme_rep0']] =res_esm.parallel_apply(lambda x: get_simi_ref(euclidean=x.euclidean_rep0, cosine=x.cosine_rep0, ref_df=ds_train) ,axis=1, result_type=\"expand\") # type: ignore\n",
    "\n",
    "res_esm[['euclidean_reaction_rep32', \n",
    "          'euclidean_isenzyme_rep32', \n",
    "          'cosine_reaction_rep32', \n",
    "          'cosine_isenzyme_rep32']] =res_esm.parallel_apply(lambda x: get_simi_ref(euclidean=x.euclidean_rep32, cosine=x.cosine_rep32, ref_df=ds_train) ,axis=1, result_type=\"expand\") # type: ignore\n",
    "\n",
    "res_esm[['euclidean_reaction_rep33', \n",
    "          'euclidean_isenzyme_rep33', \n",
    "          'cosine_reaction_rep33', \n",
    "          'cosine_isenzyme_rep33']] =res_esm.parallel_apply(lambda x: get_simi_ref(euclidean=x.euclidean_rep33, cosine=x.cosine_rep33, ref_df=ds_train) ,axis=1, result_type=\"expand\") # type: ignore\n",
    "\n",
    "\n",
    "res_esm = res_esm[['uniprot_id', 'reaction_groundtruth', 'isenzyme_groundtruth',\n",
    "         'euclidean_reaction_rep0', \n",
    "          'euclidean_isenzyme_rep0', \n",
    "          'cosine_reaction_rep0', \n",
    "          'cosine_isenzyme_rep0',\n",
    "          'euclidean_reaction_rep32', \n",
    "          'euclidean_isenzyme_rep32', \n",
    "          'cosine_reaction_rep32', \n",
    "          'cosine_isenzyme_rep32',\n",
    "          'euclidean_reaction_rep33', \n",
    "          'euclidean_isenzyme_rep33', \n",
    "          'cosine_reaction_rep33', \n",
    "          'cosine_isenzyme_rep33'\n",
    "         ]]\n",
    "\n",
    "try:\n",
    "    with pd.HDFStore(cfg.FILE_RESULTS_SIMI_ESM_REACTION,'w') as h5:\n",
    "        h5['data'] = res_esm\n",
    "        h5.close()\n",
    "        print(f'Write file to: {cfg.FILE_RESULTS_SIMI_ESM_REACTION}')\n",
    "except Exception as e:\n",
    "    print(f\"Error writing HDF5 file: {e}\")\n",
    "    \n",
    "res_esm.head(3)"
   ]
  },
  {
   "cell_type": "markdown",
   "metadata": {},
   "source": [
    "## 4.2 Unirep"
   ]
  },
  {
   "cell_type": "code",
   "execution_count": 12,
   "metadata": {},
   "outputs": [
    {
     "name": "stdout",
     "output_type": "stream",
     "text": [
      "Write file to: /hpcfs/fhome/shizhenkun/codebase/preaction/results240614/simi/exp_test_unirep_reaction.h5\n"
     ]
    },
    {
     "data": {
      "text/html": [
       "<div>\n",
       "<style scoped>\n",
       "    .dataframe tbody tr th:only-of-type {\n",
       "        vertical-align: middle;\n",
       "    }\n",
       "\n",
       "    .dataframe tbody tr th {\n",
       "        vertical-align: top;\n",
       "    }\n",
       "\n",
       "    .dataframe thead th {\n",
       "        text-align: right;\n",
       "    }\n",
       "</style>\n",
       "<table border=\"1\" class=\"dataframe\">\n",
       "  <thead>\n",
       "    <tr style=\"text-align: right;\">\n",
       "      <th></th>\n",
       "      <th>uniprot_id</th>\n",
       "      <th>reaction_groundtruth</th>\n",
       "      <th>isenzyme_groundtruth</th>\n",
       "      <th>euclidean_reaction</th>\n",
       "      <th>euclidean_isenzyme</th>\n",
       "      <th>cosine_reaction</th>\n",
       "      <th>cosine_isenzyme</th>\n",
       "    </tr>\n",
       "  </thead>\n",
       "  <tbody>\n",
       "    <tr>\n",
       "      <th>0</th>\n",
       "      <td>A9JLI2</td>\n",
       "      <td>-</td>\n",
       "      <td>nonenzyme</td>\n",
       "      <td>-</td>\n",
       "      <td>nonenzyme</td>\n",
       "      <td>-</td>\n",
       "      <td>nonenzyme</td>\n",
       "    </tr>\n",
       "    <tr>\n",
       "      <th>1</th>\n",
       "      <td>A9JLI3</td>\n",
       "      <td>-</td>\n",
       "      <td>nonenzyme</td>\n",
       "      <td>-</td>\n",
       "      <td>nonenzyme</td>\n",
       "      <td>-</td>\n",
       "      <td>nonenzyme</td>\n",
       "    </tr>\n",
       "    <tr>\n",
       "      <th>2</th>\n",
       "      <td>A9JLI5</td>\n",
       "      <td>-</td>\n",
       "      <td>nonenzyme</td>\n",
       "      <td>-</td>\n",
       "      <td>nonenzyme</td>\n",
       "      <td>-</td>\n",
       "      <td>nonenzyme</td>\n",
       "    </tr>\n",
       "  </tbody>\n",
       "</table>\n",
       "</div>"
      ],
      "text/plain": [
       "  uniprot_id reaction_groundtruth isenzyme_groundtruth euclidean_reaction  \\\n",
       "0     A9JLI2                    -            nonenzyme                  -   \n",
       "1     A9JLI3                    -            nonenzyme                  -   \n",
       "2     A9JLI5                    -            nonenzyme                  -   \n",
       "\n",
       "  euclidean_isenzyme cosine_reaction cosine_isenzyme  \n",
       "0          nonenzyme               -       nonenzyme  \n",
       "1          nonenzyme               -       nonenzyme  \n",
       "2          nonenzyme               -       nonenzyme  "
      ]
     },
     "execution_count": 12,
     "metadata": {},
     "output_type": "execute_result"
    }
   ],
   "source": [
    "with pd.HDFStore(cfg.FILE_RESULTS_SIMI_UNIREP, 'r') as h5:\n",
    "    res_unirep = h5['data']\n",
    "    \n",
    "res_unirep[['euclidean_reaction', \n",
    "          'euclidean_isenzyme', \n",
    "          'cosine_reaction', \n",
    "          'cosine_isenzyme']] =res_unirep.parallel_apply(lambda x: get_simi_ref(euclidean=x.simi_euclidean, cosine=x.simi_cosine, ref_df=ds_train) ,axis=1, result_type=\"expand\") # type: ignore\n",
    "\n",
    "res_unirep = res_unirep[['uniprot_id', 'reaction_groundtruth', 'isenzyme_groundtruth', 'euclidean_reaction', 'euclidean_isenzyme', 'cosine_reaction', 'cosine_isenzyme']]\n",
    "\n",
    "try:\n",
    "    with pd.HDFStore(cfg.FILE_RESULTS_SIMI_UNIREP_REACTION,'w') as h5:\n",
    "        h5['data'] = res_unirep\n",
    "        h5.close()\n",
    "        print(f'Write file to: {cfg.FILE_RESULTS_SIMI_UNIREP_REACTION}')\n",
    "except Exception as e:\n",
    "    print(f\"Error writing HDF5 file: {e}\")\n",
    "        \n",
    "res_unirep.head(3)"
   ]
  },
  {
   "cell_type": "markdown",
   "metadata": {},
   "source": [
    "### 4.3 T5"
   ]
  },
  {
   "cell_type": "code",
   "execution_count": 15,
   "metadata": {},
   "outputs": [
    {
     "name": "stdout",
     "output_type": "stream",
     "text": [
      "Write file to: /hpcfs/fhome/shizhenkun/codebase/preaction/results240614/simi/exp_test_t5_reaction.h5\n"
     ]
    },
    {
     "data": {
      "text/html": [
       "<div>\n",
       "<style scoped>\n",
       "    .dataframe tbody tr th:only-of-type {\n",
       "        vertical-align: middle;\n",
       "    }\n",
       "\n",
       "    .dataframe tbody tr th {\n",
       "        vertical-align: top;\n",
       "    }\n",
       "\n",
       "    .dataframe thead th {\n",
       "        text-align: right;\n",
       "    }\n",
       "</style>\n",
       "<table border=\"1\" class=\"dataframe\">\n",
       "  <thead>\n",
       "    <tr style=\"text-align: right;\">\n",
       "      <th></th>\n",
       "      <th>uniprot_id</th>\n",
       "      <th>reaction_groundtruth</th>\n",
       "      <th>isenzyme_groundtruth</th>\n",
       "      <th>euclidean_reaction</th>\n",
       "      <th>euclidean_isenzyme</th>\n",
       "      <th>cosine_reaction</th>\n",
       "      <th>cosine_isenzyme</th>\n",
       "    </tr>\n",
       "  </thead>\n",
       "  <tbody>\n",
       "    <tr>\n",
       "      <th>0</th>\n",
       "      <td>A9JLI2</td>\n",
       "      <td>-</td>\n",
       "      <td>nonenzyme</td>\n",
       "      <td>-</td>\n",
       "      <td>nonenzyme</td>\n",
       "      <td>-</td>\n",
       "      <td>nonenzyme</td>\n",
       "    </tr>\n",
       "    <tr>\n",
       "      <th>1</th>\n",
       "      <td>A9JLI3</td>\n",
       "      <td>-</td>\n",
       "      <td>nonenzyme</td>\n",
       "      <td>-</td>\n",
       "      <td>nonenzyme</td>\n",
       "      <td>-</td>\n",
       "      <td>nonenzyme</td>\n",
       "    </tr>\n",
       "    <tr>\n",
       "      <th>2</th>\n",
       "      <td>A9JLI5</td>\n",
       "      <td>-</td>\n",
       "      <td>nonenzyme</td>\n",
       "      <td>-</td>\n",
       "      <td>nonenzyme</td>\n",
       "      <td>-</td>\n",
       "      <td>nonenzyme</td>\n",
       "    </tr>\n",
       "  </tbody>\n",
       "</table>\n",
       "</div>"
      ],
      "text/plain": [
       "  uniprot_id reaction_groundtruth isenzyme_groundtruth euclidean_reaction  \\\n",
       "0     A9JLI2                    -            nonenzyme                  -   \n",
       "1     A9JLI3                    -            nonenzyme                  -   \n",
       "2     A9JLI5                    -            nonenzyme                  -   \n",
       "\n",
       "  euclidean_isenzyme cosine_reaction cosine_isenzyme  \n",
       "0          nonenzyme               -       nonenzyme  \n",
       "1          nonenzyme               -       nonenzyme  \n",
       "2          nonenzyme               -       nonenzyme  "
      ]
     },
     "execution_count": 15,
     "metadata": {},
     "output_type": "execute_result"
    }
   ],
   "source": [
    "with pd.HDFStore(cfg.FILE_RESULTS_SIMI_T5, 'r') as h5:\n",
    "    res_t5 = h5['data']\n",
    "        \n",
    "res_t5[['euclidean_reaction', \n",
    "          'euclidean_isenzyme', \n",
    "          'cosine_reaction', \n",
    "          'cosine_isenzyme']] =res_t5.parallel_apply(lambda x: get_simi_ref(euclidean=x.simi_euclidean, cosine=x.simi_cosine, ref_df=ds_train) ,axis=1, result_type=\"expand\") # type: ignore\n",
    "\n",
    "res_t5 = res_t5[['uniprot_id', 'reaction_groundtruth', 'isenzyme_groundtruth', 'euclidean_reaction', 'euclidean_isenzyme', 'cosine_reaction', 'cosine_isenzyme']]\n",
    "try:\n",
    "    with pd.HDFStore(cfg.FILE_RESULTS_SIMI_T5_REACTION,'w') as h5:\n",
    "        h5['data'] = res_t5\n",
    "        h5.close()\n",
    "        print(f'Write file to: {cfg.FILE_RESULTS_SIMI_T5_REACTION}')\n",
    "except Exception as e:\n",
    "    print(f\"Error writing HDF5 file: {e}\")\n",
    "        \n",
    "\n",
    "\n",
    "\n",
    "res_t5.head(3)"
   ]
  },
  {
   "cell_type": "code",
   "execution_count": 14,
   "metadata": {},
   "outputs": [
    {
     "data": {
      "text/html": [
       "<div>\n",
       "<style scoped>\n",
       "    .dataframe tbody tr th:only-of-type {\n",
       "        vertical-align: middle;\n",
       "    }\n",
       "\n",
       "    .dataframe tbody tr th {\n",
       "        vertical-align: top;\n",
       "    }\n",
       "\n",
       "    .dataframe thead th {\n",
       "        text-align: right;\n",
       "    }\n",
       "</style>\n",
       "<table border=\"1\" class=\"dataframe\">\n",
       "  <thead>\n",
       "    <tr style=\"text-align: right;\">\n",
       "      <th></th>\n",
       "      <th>uniprot_id</th>\n",
       "      <th>reaction_groundtruth</th>\n",
       "      <th>isenzyme_groundtruth</th>\n",
       "      <th>euclidean_reaction</th>\n",
       "      <th>euclidean_isenzyme</th>\n",
       "      <th>cosine_reaction</th>\n",
       "      <th>cosine_isenzyme</th>\n",
       "    </tr>\n",
       "  </thead>\n",
       "  <tbody>\n",
       "    <tr>\n",
       "      <th>0</th>\n",
       "      <td>A9JLI2</td>\n",
       "      <td>-</td>\n",
       "      <td>nonenzyme</td>\n",
       "      <td>-</td>\n",
       "      <td>nonenzyme</td>\n",
       "      <td>-</td>\n",
       "      <td>nonenzyme</td>\n",
       "    </tr>\n",
       "    <tr>\n",
       "      <th>1</th>\n",
       "      <td>A9JLI3</td>\n",
       "      <td>-</td>\n",
       "      <td>nonenzyme</td>\n",
       "      <td>-</td>\n",
       "      <td>nonenzyme</td>\n",
       "      <td>-</td>\n",
       "      <td>nonenzyme</td>\n",
       "    </tr>\n",
       "    <tr>\n",
       "      <th>2</th>\n",
       "      <td>A9JLI5</td>\n",
       "      <td>-</td>\n",
       "      <td>nonenzyme</td>\n",
       "      <td>-</td>\n",
       "      <td>nonenzyme</td>\n",
       "      <td>-</td>\n",
       "      <td>nonenzyme</td>\n",
       "    </tr>\n",
       "  </tbody>\n",
       "</table>\n",
       "</div>"
      ],
      "text/plain": [
       "  uniprot_id reaction_groundtruth isenzyme_groundtruth euclidean_reaction  \\\n",
       "0     A9JLI2                    -            nonenzyme                  -   \n",
       "1     A9JLI3                    -            nonenzyme                  -   \n",
       "2     A9JLI5                    -            nonenzyme                  -   \n",
       "\n",
       "  euclidean_isenzyme cosine_reaction cosine_isenzyme  \n",
       "0          nonenzyme               -       nonenzyme  \n",
       "1          nonenzyme               -       nonenzyme  \n",
       "2          nonenzyme               -       nonenzyme  "
      ]
     },
     "execution_count": 14,
     "metadata": {},
     "output_type": "execute_result"
    }
   ],
   "source": [
    "res_t5.head(3)"
   ]
  }
 ],
 "metadata": {
  "kernelspec": {
   "display_name": "Python 3",
   "language": "python",
   "name": "python3"
  },
  "language_info": {
   "codemirror_mode": {
    "name": "ipython",
    "version": 3
   },
   "file_extension": ".py",
   "mimetype": "text/x-python",
   "name": "python",
   "nbconvert_exporter": "python",
   "pygments_lexer": "ipython3",
   "version": "3.10.14"
  },
  "orig_nbformat": 4
 },
 "nbformat": 4,
 "nbformat_minor": 2
}
