{
 "cells": [
  {
   "cell_type": "markdown",
   "metadata": {},
   "source": [
    "## Methos: SimiProtein\n",
    "> 2024-11-05\n",
    "\n",
    "### 1. 导入必要的包"
   ]
  },
  {
   "cell_type": "code",
   "execution_count": 2,
   "metadata": {},
   "outputs": [
    {
     "name": "stdout",
     "output_type": "stream",
     "text": [
      "INFO: Pandarallel will run on 128 workers.\n",
      "INFO: Pandarallel will use Memory file system to transfer data between the main process and workers.\n"
     ]
    }
   ],
   "source": [
    "import pandas as pd\n",
    "import sys,os\n",
    "sys.path.insert(0, os.path.dirname(os.path.realpath('__file__')))\n",
    "sys.path.insert(1,'../')\n",
    "from config import conf as cfg\n",
    "from tqdm import tqdm\n",
    "from tools import btools\n",
    "import rxnrecer as production\n",
    "from pandarallel import pandarallel # 导入pandaralle\n",
    "pandarallel.initialize(progress_bar=False)\n",
    "\n",
    "\n",
    "%load_ext autoreload\n",
    "%autoreload 2"
   ]
  },
  {
   "cell_type": "markdown",
   "metadata": {},
   "source": [
    "### 2. Excucte simi script\n"
   ]
  },
  {
   "cell_type": "code",
   "execution_count": 2,
   "metadata": {},
   "outputs": [],
   "source": [
    "# for slurm job submission\n",
    "# ! bash s1_simi_protein_10_fold.sh\n",
    "\n",
    "# for python run\n",
    "# ! python simi_protein_10_fold.py"
   ]
  },
  {
   "cell_type": "markdown",
   "metadata": {},
   "source": [
    "### 3. Load test data"
   ]
  },
  {
   "cell_type": "code",
   "execution_count": 2,
   "metadata": {},
   "outputs": [
    {
     "name": "stdout",
     "output_type": "stream",
     "text": [
      "Loading uniprot_rxn_dict ...\n",
      "Loading 10-folds test data ...\n"
     ]
    },
    {
     "data": {
      "text/html": [
       "<div>\n",
       "<style scoped>\n",
       "    .dataframe tbody tr th:only-of-type {\n",
       "        vertical-align: middle;\n",
       "    }\n",
       "\n",
       "    .dataframe tbody tr th {\n",
       "        vertical-align: top;\n",
       "    }\n",
       "\n",
       "    .dataframe thead th {\n",
       "        text-align: right;\n",
       "    }\n",
       "</style>\n",
       "<table border=\"1\" class=\"dataframe\">\n",
       "  <thead>\n",
       "    <tr style=\"text-align: right;\">\n",
       "      <th></th>\n",
       "      <th>uniprot_id</th>\n",
       "      <th>seq</th>\n",
       "      <th>rxn_groundtruth</th>\n",
       "    </tr>\n",
       "  </thead>\n",
       "  <tbody>\n",
       "    <tr>\n",
       "      <th>105768</th>\n",
       "      <td>Q9UYB6</td>\n",
       "      <td>MLPDRVLEILNEMKAERIRGATWLARKGAEAFLALAEELDEALLED...</td>\n",
       "      <td>-</td>\n",
       "    </tr>\n",
       "    <tr>\n",
       "      <th>195319</th>\n",
       "      <td>C1AQW9</td>\n",
       "      <td>MRTPCSQHRRDRPSAIGSQLPDADTLDTRQPPLQEIPISSFADKTF...</td>\n",
       "      <td>RHEA:19669</td>\n",
       "    </tr>\n",
       "    <tr>\n",
       "      <th>135884</th>\n",
       "      <td>P64647</td>\n",
       "      <td>MALFSKILIFYVIGVNISFVIIWFISHEKTHIRLLSAFLVGITWPM...</td>\n",
       "      <td>-</td>\n",
       "    </tr>\n",
       "  </tbody>\n",
       "</table>\n",
       "</div>"
      ],
      "text/plain": [
       "       uniprot_id                                                seq  \\\n",
       "105768     Q9UYB6  MLPDRVLEILNEMKAERIRGATWLARKGAEAFLALAEELDEALLED...   \n",
       "195319     C1AQW9  MRTPCSQHRRDRPSAIGSQLPDADTLDTRQPPLQEIPISSFADKTF...   \n",
       "135884     P64647  MALFSKILIFYVIGVNISFVIIWFISHEKTHIRLLSAFLVGITWPM...   \n",
       "\n",
       "       rxn_groundtruth  \n",
       "105768               -  \n",
       "195319      RHEA:19669  \n",
       "135884               -  "
      ]
     },
     "execution_count": 2,
     "metadata": {},
     "output_type": "execute_result"
    }
   ],
   "source": [
    "def load_10folds_test_data():\n",
    "    test_path = [f'{cfg.DIR_DATASET}validation/fold{fold_num+1}/valid.feather' for fold_num in range(10)]\n",
    "    res = [pd.read_feather(path)[['uniprot_id','seq','reaction_id']].rename(columns={'reaction_id': 'rxn_groundtruth'}) for path in test_path]\n",
    "    return res\n",
    "\n",
    "\n",
    "print('Loading uniprot_rxn_dict ...' )\n",
    "d1 = pd.read_feather(cfg.FILE_DS_TRAIN)\n",
    "d2 = pd.read_feather(cfg.FILE_DS_TEST)\n",
    "uniprot_rxn_dict = pd.concat([d1,d2], axis=0).reset_index(drop=True)[['uniprot_id', 'reaction_id']].set_index('uniprot_id')['reaction_id'].to_dict()\n",
    "\n",
    "print('Loading 10-folds test data ...' )\n",
    "data_test = load_10folds_test_data()\n",
    "data_test[0].head(3)"
   ]
  },
  {
   "cell_type": "markdown",
   "metadata": {},
   "source": [
    "### 3. Load results\n",
    "#### 3.1 Blast"
   ]
  },
  {
   "cell_type": "code",
   "execution_count": 4,
   "metadata": {},
   "outputs": [],
   "source": [
    "def merge_groundtruth(ds_test, ds_pred):\n",
    "    res = []\n",
    "    for i in tqdm(range(10)):\n",
    "        # ds_test[i].merge(ds_pred[i], on='uniprot_id', how='left')\n",
    "        res = res + [ds_test[i].merge(ds_pred[i], on='uniprot_id', how='left').fillna('NO-PREDICTION').reset_index(drop=True)]\n",
    "    return res"
   ]
  },
  {
   "cell_type": "code",
   "execution_count": 5,
   "metadata": {},
   "outputs": [
    {
     "name": "stderr",
     "output_type": "stream",
     "text": [
      "100%|██████████| 10/10 [00:00<00:00, 49.60it/s]\n",
      "100%|██████████| 10/10 [00:00<00:00, 24.92it/s]\n"
     ]
    },
    {
     "data": {
      "text/html": [
       "<div>\n",
       "<style scoped>\n",
       "    .dataframe tbody tr th:only-of-type {\n",
       "        vertical-align: middle;\n",
       "    }\n",
       "\n",
       "    .dataframe tbody tr th {\n",
       "        vertical-align: top;\n",
       "    }\n",
       "\n",
       "    .dataframe thead th {\n",
       "        text-align: right;\n",
       "    }\n",
       "</style>\n",
       "<table border=\"1\" class=\"dataframe\">\n",
       "  <thead>\n",
       "    <tr style=\"text-align: right;\">\n",
       "      <th></th>\n",
       "      <th>uniprot_id</th>\n",
       "      <th>rxn_groundtruth</th>\n",
       "      <th>rxn_blast</th>\n",
       "    </tr>\n",
       "  </thead>\n",
       "  <tbody>\n",
       "    <tr>\n",
       "      <th>0</th>\n",
       "      <td>Q66DF3</td>\n",
       "      <td>-</td>\n",
       "      <td>-</td>\n",
       "    </tr>\n",
       "    <tr>\n",
       "      <th>1</th>\n",
       "      <td>Q57L31</td>\n",
       "      <td>RHEA:36899</td>\n",
       "      <td>RHEA:36899</td>\n",
       "    </tr>\n",
       "    <tr>\n",
       "      <th>2</th>\n",
       "      <td>Q6CUV7</td>\n",
       "      <td>-</td>\n",
       "      <td>-</td>\n",
       "    </tr>\n",
       "  </tbody>\n",
       "</table>\n",
       "</div>"
      ],
      "text/plain": [
       "  uniprot_id rxn_groundtruth   rxn_blast\n",
       "0     Q66DF3               -           -\n",
       "1     Q57L31      RHEA:36899  RHEA:36899\n",
       "2     Q6CUV7               -           -"
      ]
     },
     "execution_count": 5,
     "metadata": {},
     "output_type": "execute_result"
    }
   ],
   "source": [
    "vali_res_file_path = [f'{cfg.DIR_RES_BASELINE}results/direct_methods/blast/fold{item}.tsv'  for item in range(1, 11)]\n",
    "data_blast = [pd.read_csv(file_path, sep='\\t') for file_path in vali_res_file_path]\n",
    "res_blast = merge_groundtruth(ds_test=data_test, ds_pred=data_blast)\n",
    "\n",
    "#保存加groundtruth的结果\n",
    "save_vali_res_file_path = [f'{cfg.DIR_PROJECT_ROOT}/results/intermediate/direct/blast_fold{item}.tsv' for item in range(1, 11)]\n",
    "for i in tqdm(range(10)):\n",
    "    res_blast[i].to_csv(save_vali_res_file_path[i], sep='\\t', index=False)\n",
    "    \n",
    "res_blast[i].head(3)"
   ]
  },
  {
   "cell_type": "markdown",
   "metadata": {},
   "source": [
    "#### 3.2 Unirep"
   ]
  },
  {
   "cell_type": "code",
   "execution_count": null,
   "metadata": {},
   "outputs": [],
   "source": [
    "embd_methd = 'unirep'\n",
    "file_res_unirep = [f'{cfg.RESULTS_DIR}simi/fold_{fold_num}_{embd_methd}_results.h5' for fold_num in range(1,11)]\n",
    "res_unirep = [btools.read_h5_file(item)for item in tqdm(file_res_unirep)]"
   ]
  },
  {
   "cell_type": "code",
   "execution_count": 27,
   "metadata": {},
   "outputs": [
    {
     "name": "stdout",
     "output_type": "stream",
     "text": [
      "Get reaction ID\n"
     ]
    },
    {
     "name": "stderr",
     "output_type": "stream",
     "text": [
      "  0%|          | 0/10 [00:00<?, ?it/s]"
     ]
    },
    {
     "name": "stderr",
     "output_type": "stream",
     "text": [
      "100%|██████████| 10/10 [00:13<00:00,  1.30s/it]\n"
     ]
    },
    {
     "name": "stdout",
     "output_type": "stream",
     "text": [
      "Save file\n"
     ]
    },
    {
     "name": "stderr",
     "output_type": "stream",
     "text": [
      "100%|██████████| 10/10 [00:00<00:00, 17.51it/s]\n"
     ]
    }
   ],
   "source": [
    "# 获取反应ID\n",
    "print('Get reaction ID')\n",
    "for i in tqdm(range(10)):\n",
    "    res_unirep[i]['rxn_euclidean'] = res_unirep[i].euclidean.apply(lambda x : btools.get_simi_Pred(pred_list=x, uniprot_rxn_dict=uniprot_rxn_dict))\n",
    "    res_unirep[i]['rxn_cosine'] = res_unirep[i].cosine.apply(lambda x : btools.get_simi_Pred(pred_list=x, uniprot_rxn_dict=uniprot_rxn_dict))\n",
    "    \n",
    "print('Save file')\n",
    "save_vali_res_file_path=[f'{cfg.DIR_PROJECT_ROOT}/results/intermediate/direct/{embd_methd}_fold{item}.tsv' for item in range(1, 11)]\n",
    "for i in tqdm(range(10)):\n",
    "    res_unirep[i][['uniprot_id','reaction_id', 'rxn_euclidean', 'rxn_cosine']].rename(columns={'reaction_id': 'rxn_groundtruth', \n",
    "                                                                                               'rxn_euclidean':'rxn_unirep_euclidean',\n",
    "                                                                                               'rxn_cosine':'rxn_unirep_cosine'}).to_csv(save_vali_res_file_path[i], index=False, sep='\\t')"
   ]
  },
  {
   "cell_type": "markdown",
   "metadata": {},
   "source": [
    "#### 3.3 ESM"
   ]
  },
  {
   "cell_type": "code",
   "execution_count": 32,
   "metadata": {},
   "outputs": [
    {
     "name": "stderr",
     "output_type": "stream",
     "text": []
    },
    {
     "name": "stderr",
     "output_type": "stream",
     "text": [
      "100%|██████████| 10/10 [10:37<00:00, 63.77s/it]\n"
     ]
    }
   ],
   "source": [
    "embd_methd = 'esm'\n",
    "file_res_esm = [f'{cfg.RESULTS_DIR}simi/fold_{fold_num}_{embd_methd}_results.h5' for fold_num in range(1,11)]\n",
    "res_esm = [btools.read_h5_file(item)for item in tqdm(file_res_esm)]"
   ]
  },
  {
   "cell_type": "code",
   "execution_count": 35,
   "metadata": {},
   "outputs": [
    {
     "name": "stdout",
     "output_type": "stream",
     "text": [
      "Get reaction ID\n"
     ]
    },
    {
     "name": "stderr",
     "output_type": "stream",
     "text": [
      "100%|██████████| 10/10 [00:13<00:00,  1.36s/it]\n"
     ]
    },
    {
     "name": "stdout",
     "output_type": "stream",
     "text": [
      "Save file\n"
     ]
    },
    {
     "name": "stderr",
     "output_type": "stream",
     "text": [
      "100%|██████████| 10/10 [00:00<00:00, 18.57it/s]\n"
     ]
    },
    {
     "data": {
      "text/html": [
       "<div>\n",
       "<style scoped>\n",
       "    .dataframe tbody tr th:only-of-type {\n",
       "        vertical-align: middle;\n",
       "    }\n",
       "\n",
       "    .dataframe tbody tr th {\n",
       "        vertical-align: top;\n",
       "    }\n",
       "\n",
       "    .dataframe thead th {\n",
       "        text-align: right;\n",
       "    }\n",
       "</style>\n",
       "<table border=\"1\" class=\"dataframe\">\n",
       "  <thead>\n",
       "    <tr style=\"text-align: right;\">\n",
       "      <th></th>\n",
       "      <th>uniprot_id</th>\n",
       "      <th>rxn_groundtruth</th>\n",
       "      <th>rxn_esm_euclidean</th>\n",
       "      <th>rxn_esm_cosine</th>\n",
       "    </tr>\n",
       "  </thead>\n",
       "  <tbody>\n",
       "    <tr>\n",
       "      <th>0</th>\n",
       "      <td>Q9UYB6</td>\n",
       "      <td>-</td>\n",
       "      <td>RHEA:32243;-</td>\n",
       "      <td>RHEA:32243;-</td>\n",
       "    </tr>\n",
       "    <tr>\n",
       "      <th>1</th>\n",
       "      <td>C1AQW9</td>\n",
       "      <td>RHEA:19669</td>\n",
       "      <td>RHEA:19669</td>\n",
       "      <td>RHEA:19669</td>\n",
       "    </tr>\n",
       "    <tr>\n",
       "      <th>2</th>\n",
       "      <td>P64647</td>\n",
       "      <td>-</td>\n",
       "      <td>-</td>\n",
       "      <td>-</td>\n",
       "    </tr>\n",
       "  </tbody>\n",
       "</table>\n",
       "</div>"
      ],
      "text/plain": [
       "  uniprot_id rxn_groundtruth rxn_esm_euclidean rxn_esm_cosine\n",
       "0     Q9UYB6               -      RHEA:32243;-   RHEA:32243;-\n",
       "1     C1AQW9      RHEA:19669        RHEA:19669     RHEA:19669\n",
       "2     P64647               -                 -              -"
      ]
     },
     "execution_count": 35,
     "metadata": {},
     "output_type": "execute_result"
    }
   ],
   "source": [
    "# 获取反应ID\n",
    "print('Get reaction ID')\n",
    "for i in tqdm(range(10)):\n",
    "    res_esm[i]['rxn_euclidean'] = res_esm[i].euclidean.apply(lambda x : btools.get_simi_Pred(pred_list=x, uniprot_rxn_dict=uniprot_rxn_dict))\n",
    "    res_esm[i]['rxn_cosine'] = res_esm[i].cosine.apply(lambda x : btools.get_simi_Pred(pred_list=x, uniprot_rxn_dict=uniprot_rxn_dict))\n",
    "    \n",
    "print('Save file')\n",
    "save_vali_res_file_path=[f'{cfg.DIR_PROJECT_ROOT}/results/intermediate/direct/{embd_methd}_fold{item}.tsv' for item in range(1, 11)]\n",
    "for i in tqdm(range(10)):\n",
    "    res_esm[i][['uniprot_id','reaction_id', 'rxn_euclidean', 'rxn_cosine']].rename(columns={'reaction_id': 'rxn_groundtruth', \n",
    "                                                                                               'rxn_euclidean':'rxn_esm_euclidean',\n",
    "                                                                                               'rxn_cosine':'rxn_esm_cosine'}).to_csv(save_vali_res_file_path[i], index=False, sep='\\t')\n",
    "    \n",
    "pd.read_csv(save_vali_res_file_path[0], sep='\\t').head(3)\n"
   ]
  },
  {
   "cell_type": "markdown",
   "metadata": {},
   "source": [
    "#### 3.4 T5"
   ]
  },
  {
   "cell_type": "code",
   "execution_count": 36,
   "metadata": {},
   "outputs": [
    {
     "name": "stderr",
     "output_type": "stream",
     "text": [
      "100%|██████████| 10/10 [10:32<00:00, 63.29s/it]\n"
     ]
    },
    {
     "name": "stdout",
     "output_type": "stream",
     "text": [
      "Get reaction ID\n"
     ]
    },
    {
     "name": "stderr",
     "output_type": "stream",
     "text": [
      "100%|██████████| 10/10 [00:13<00:00,  1.34s/it]\n"
     ]
    },
    {
     "name": "stdout",
     "output_type": "stream",
     "text": [
      "Save file\n"
     ]
    },
    {
     "name": "stderr",
     "output_type": "stream",
     "text": [
      "100%|██████████| 10/10 [00:00<00:00, 18.65it/s]\n"
     ]
    },
    {
     "data": {
      "text/html": [
       "<div>\n",
       "<style scoped>\n",
       "    .dataframe tbody tr th:only-of-type {\n",
       "        vertical-align: middle;\n",
       "    }\n",
       "\n",
       "    .dataframe tbody tr th {\n",
       "        vertical-align: top;\n",
       "    }\n",
       "\n",
       "    .dataframe thead th {\n",
       "        text-align: right;\n",
       "    }\n",
       "</style>\n",
       "<table border=\"1\" class=\"dataframe\">\n",
       "  <thead>\n",
       "    <tr style=\"text-align: right;\">\n",
       "      <th></th>\n",
       "      <th>uniprot_id</th>\n",
       "      <th>rxn_groundtruth</th>\n",
       "      <th>rxn_t5_euclidean</th>\n",
       "      <th>rxn_t5_cosine</th>\n",
       "    </tr>\n",
       "  </thead>\n",
       "  <tbody>\n",
       "    <tr>\n",
       "      <th>0</th>\n",
       "      <td>Q9UYB6</td>\n",
       "      <td>-</td>\n",
       "      <td>RHEA:32243;-</td>\n",
       "      <td>RHEA:32243;-</td>\n",
       "    </tr>\n",
       "    <tr>\n",
       "      <th>1</th>\n",
       "      <td>C1AQW9</td>\n",
       "      <td>RHEA:19669</td>\n",
       "      <td>RHEA:19669</td>\n",
       "      <td>RHEA:19669</td>\n",
       "    </tr>\n",
       "    <tr>\n",
       "      <th>2</th>\n",
       "      <td>P64647</td>\n",
       "      <td>-</td>\n",
       "      <td>-</td>\n",
       "      <td>-</td>\n",
       "    </tr>\n",
       "  </tbody>\n",
       "</table>\n",
       "</div>"
      ],
      "text/plain": [
       "  uniprot_id rxn_groundtruth rxn_t5_euclidean rxn_t5_cosine\n",
       "0     Q9UYB6               -     RHEA:32243;-  RHEA:32243;-\n",
       "1     C1AQW9      RHEA:19669       RHEA:19669    RHEA:19669\n",
       "2     P64647               -                -             -"
      ]
     },
     "execution_count": 36,
     "metadata": {},
     "output_type": "execute_result"
    }
   ],
   "source": [
    "embd_methd = 't5'\n",
    "file_res_t5 = [f'{cfg.RESULTS_DIR}simi/fold_{fold_num}_{embd_methd}_results.h5' for fold_num in range(1,11)]\n",
    "res_t5 = [btools.read_h5_file(item)for item in tqdm(file_res_t5)]\n",
    "\n",
    "# 获取反应ID\n",
    "print('Get reaction ID')\n",
    "for i in tqdm(range(10)):\n",
    "    res_t5[i]['rxn_euclidean'] = res_t5[i].euclidean.apply(lambda x : btools.get_simi_Pred(pred_list=x, uniprot_rxn_dict=uniprot_rxn_dict))\n",
    "    res_t5[i]['rxn_cosine'] = res_t5[i].cosine.apply(lambda x : btools.get_simi_Pred(pred_list=x, uniprot_rxn_dict=uniprot_rxn_dict))\n",
    "    \n",
    "print('Save file')\n",
    "save_vali_res_file_path=[f'{cfg.DIR_PROJECT_ROOT}/results/intermediate/direct/{embd_methd}_fold{item}.tsv' for item in range(1, 11)]\n",
    "for i in tqdm(range(10)):\n",
    "    res_t5[i][['uniprot_id','reaction_id', 'rxn_euclidean', 'rxn_cosine']].rename(columns={'reaction_id': 'rxn_groundtruth', \n",
    "                                                                                               'rxn_euclidean':'rxn_t5_euclidean',\n",
    "                                                                                               'rxn_cosine':'rxn_t5_cosine'}).to_csv(save_vali_res_file_path[i], index=False, sep='\\t')\n",
    "    \n",
    "pd.read_csv(save_vali_res_file_path[0], sep='\\t').head(3)    "
   ]
  },
  {
   "cell_type": "markdown",
   "metadata": {},
   "source": [
    "### 3.5 RXNRECer"
   ]
  },
  {
   "cell_type": "code",
   "execution_count": 17,
   "metadata": {},
   "outputs": [
    {
     "data": {
      "text/html": [
       "<div>\n",
       "<style scoped>\n",
       "    .dataframe tbody tr th:only-of-type {\n",
       "        vertical-align: middle;\n",
       "    }\n",
       "\n",
       "    .dataframe tbody tr th {\n",
       "        vertical-align: top;\n",
       "    }\n",
       "\n",
       "    .dataframe thead th {\n",
       "        text-align: right;\n",
       "    }\n",
       "</style>\n",
       "<table border=\"1\" class=\"dataframe\">\n",
       "  <thead>\n",
       "    <tr style=\"text-align: right;\">\n",
       "      <th></th>\n",
       "      <th>uniprot_id</th>\n",
       "      <th>rxn_RXNRECer</th>\n",
       "      <th>rxn_groundtruth</th>\n",
       "    </tr>\n",
       "  </thead>\n",
       "  <tbody>\n",
       "    <tr>\n",
       "      <th>0</th>\n",
       "      <td>Q9UYB6</td>\n",
       "      <td>-</td>\n",
       "      <td>-</td>\n",
       "    </tr>\n",
       "    <tr>\n",
       "      <th>1</th>\n",
       "      <td>C1AQW9</td>\n",
       "      <td>RHEA:19669</td>\n",
       "      <td>RHEA:19669</td>\n",
       "    </tr>\n",
       "    <tr>\n",
       "      <th>2</th>\n",
       "      <td>P64647</td>\n",
       "      <td>-</td>\n",
       "      <td>-</td>\n",
       "    </tr>\n",
       "  </tbody>\n",
       "</table>\n",
       "</div>"
      ],
      "text/plain": [
       "  uniprot_id rxn_RXNRECer rxn_groundtruth\n",
       "0     Q9UYB6            -               -\n",
       "1     C1AQW9   RHEA:19669      RHEA:19669\n",
       "2     P64647            -               -"
      ]
     },
     "execution_count": 17,
     "metadata": {},
     "output_type": "execute_result"
    }
   ],
   "source": [
    "embd_methd = 'RXNRECer'\n",
    "file_res_alfp = [f'{cfg.RESULTS_DIR}simi/fold{fold_num}_{embd_methd}_results.feather' for fold_num in range(1,11)]\n",
    "save_vali_res_file_path=[f'{cfg.DIR_PROJECT_ROOT}/results/intermediate/direct/{embd_methd}_fold{item}.tsv' for item in range(1, 11)]\n",
    "\n",
    "if not os.path.exists(save_vali_res_file_path[0]):\n",
    "    # 模型预测结果\n",
    "    for i in tqdm(range(10)):\n",
    "        res =  production.step_by_step_prediction_with_protein_df(input_protein_df=data_test[i][['uniprot_id', 'seq']].reset_index(drop=True), \n",
    "                                            dict_rxn2id=cfg.FILE_DS_DICT_RXN2ID\n",
    "                                            )\n",
    "        res.to_feather(file_res_alfp[i])\n",
    "\n",
    "    # 拼合groundtruth    \n",
    "    alfp_preds = [pd.read_feather(path) for path in file_res_alfp]\n",
    "    \n",
    "    for i in range(10):\n",
    "        alfp_preds[i] =alfp_preds[i].rename(columns={'input_id': 'uniprot_id', 'RXNRECer': 'rxn_RXNRECer'}).merge(data_test[i][['uniprot_id', 'rxn_groundtruth']], on='uniprot_id', how='left')\n",
    "        alfp_preds[i].to_csv(save_vali_res_file_path[i], sep='\\t', index=False)\n",
    "else:\n",
    "    alfp_preds = [pd.read_csv(path, sep='\\t') for path in save_vali_res_file_path]\n",
    "    \n",
    "alfp_preds[0].head(3)"
   ]
  }
 ],
 "metadata": {
  "kernelspec": {
   "display_name": "rxnrecer",
   "language": "python",
   "name": "rxnrecer"
  },
  "language_info": {
   "codemirror_mode": {
    "name": "ipython",
    "version": 3
   },
   "file_extension": ".py",
   "mimetype": "text/x-python",
   "name": "python",
   "nbconvert_exporter": "python",
   "pygments_lexer": "ipython3",
   "version": "3.10.14"
  },
  "orig_nbformat": 4
 },
 "nbformat": 4,
 "nbformat_minor": 2
}
