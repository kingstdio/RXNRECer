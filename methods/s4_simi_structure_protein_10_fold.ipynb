{
 "cells": [
  {
   "cell_type": "markdown",
   "metadata": {},
   "source": [
    "## Methos: 基于蛋白结构的反应预测\n",
    "> 2024-12-20\n",
    "\n",
    "### 1. 导入必要的包"
   ]
  },
  {
   "cell_type": "code",
   "execution_count": 1,
   "metadata": {},
   "outputs": [
    {
     "name": "stdout",
     "output_type": "stream",
     "text": [
      "INFO: Pandarallel will run on 128 workers.\n",
      "INFO: Pandarallel will use Memory file system to transfer data between the main process and workers.\n"
     ]
    }
   ],
   "source": [
    "import pandas as pd\n",
    "import sys,os\n",
    "sys.path.insert(0, os.path.dirname(os.path.realpath('__file__')))\n",
    "sys.path.insert(1,'../')\n",
    "from config import conf as cfg\n",
    "from tqdm import tqdm\n",
    "from tools import btools\n",
    "from tools import filetool \n",
    "import rxnrecer as production\n",
    "from pandarallel import pandarallel # 导入pandaralle\n",
    "pandarallel.initialize(progress_bar=False)\n",
    "import subprocess\n",
    "\n",
    "%load_ext autoreload\n",
    "%autoreload 2"
   ]
  },
  {
   "cell_type": "markdown",
   "metadata": {},
   "source": [
    "### 2. Load test data"
   ]
  },
  {
   "cell_type": "code",
   "execution_count": 8,
   "metadata": {},
   "outputs": [
    {
     "name": "stdout",
     "output_type": "stream",
     "text": [
      "Loading uniprot_rxn_dict ...\n",
      "Loading 10-folds test data ...\n"
     ]
    },
    {
     "data": {
      "text/html": [
       "<div>\n",
       "<style scoped>\n",
       "    .dataframe tbody tr th:only-of-type {\n",
       "        vertical-align: middle;\n",
       "    }\n",
       "\n",
       "    .dataframe tbody tr th {\n",
       "        vertical-align: top;\n",
       "    }\n",
       "\n",
       "    .dataframe thead th {\n",
       "        text-align: right;\n",
       "    }\n",
       "</style>\n",
       "<table border=\"1\" class=\"dataframe\">\n",
       "  <thead>\n",
       "    <tr style=\"text-align: right;\">\n",
       "      <th></th>\n",
       "      <th>uniprot_id</th>\n",
       "      <th>seq</th>\n",
       "      <th>rxn_groundtruth</th>\n",
       "    </tr>\n",
       "  </thead>\n",
       "  <tbody>\n",
       "    <tr>\n",
       "      <th>105768</th>\n",
       "      <td>Q9UYB6</td>\n",
       "      <td>MLPDRVLEILNEMKAERIRGATWLARKGAEAFLALAEELDEALLED...</td>\n",
       "      <td>-</td>\n",
       "    </tr>\n",
       "    <tr>\n",
       "      <th>195319</th>\n",
       "      <td>C1AQW9</td>\n",
       "      <td>MRTPCSQHRRDRPSAIGSQLPDADTLDTRQPPLQEIPISSFADKTF...</td>\n",
       "      <td>RHEA:19669</td>\n",
       "    </tr>\n",
       "    <tr>\n",
       "      <th>135884</th>\n",
       "      <td>P64647</td>\n",
       "      <td>MALFSKILIFYVIGVNISFVIIWFISHEKTHIRLLSAFLVGITWPM...</td>\n",
       "      <td>-</td>\n",
       "    </tr>\n",
       "  </tbody>\n",
       "</table>\n",
       "</div>"
      ],
      "text/plain": [
       "       uniprot_id                                                seq  \\\n",
       "105768     Q9UYB6  MLPDRVLEILNEMKAERIRGATWLARKGAEAFLALAEELDEALLED...   \n",
       "195319     C1AQW9  MRTPCSQHRRDRPSAIGSQLPDADTLDTRQPPLQEIPISSFADKTF...   \n",
       "135884     P64647  MALFSKILIFYVIGVNISFVIIWFISHEKTHIRLLSAFLVGITWPM...   \n",
       "\n",
       "       rxn_groundtruth  \n",
       "105768               -  \n",
       "195319      RHEA:19669  \n",
       "135884               -  "
      ]
     },
     "execution_count": 8,
     "metadata": {},
     "output_type": "execute_result"
    }
   ],
   "source": [
    "def load_10folds_test_data():\n",
    "    test_path = [f'{cfg.DIR_DATASET}validation/fold{fold_num+1}/valid.feather' for fold_num in range(10)]\n",
    "    res = [pd.read_feather(path)[['uniprot_id','seq','reaction_id']].rename(columns={'reaction_id': 'rxn_groundtruth'}) for path in test_path]\n",
    "    return res\n",
    "\n",
    "\n",
    "print('Loading uniprot_rxn_dict ...' )\n",
    "d1 = pd.read_feather(cfg.FILE_DS_TRAIN)\n",
    "d2 = pd.read_feather(cfg.FILE_DS_TEST)\n",
    "uniprot_rxn_dict = pd.concat([d1,d2], axis=0).reset_index(drop=True)[['uniprot_id', 'reaction_id']].set_index('uniprot_id')['reaction_id'].to_dict()\n",
    "\n",
    "print('Loading 10-folds test data ...' )\n",
    "data_test = load_10folds_test_data()\n",
    "data_test[0].head(3)\n"
   ]
  },
  {
   "cell_type": "markdown",
   "metadata": {},
   "source": [
    "### 3. Load Feaatures"
   ]
  },
  {
   "cell_type": "code",
   "execution_count": null,
   "metadata": {},
   "outputs": [],
   "source": [
    "embd_methd = 'tdit5'\n",
    "file_res_tdit5 = [f'{cfg.RESULTS_DIR}simi/fold_{fold_num}_{embd_methd}_results.h5' for fold_num in range(1,11)]\n",
    "res_unirep = [btools.read_h5_file(item)for item in tqdm(file_res_unirep)]"
   ]
  },
  {
   "cell_type": "code",
   "execution_count": 7,
   "metadata": {},
   "outputs": [],
   "source": [
    "tdi_embedding = pd.read_feather(cfg.FILE_DS_3DI_EMBEDDING)"
   ]
  },
  {
   "cell_type": "code",
   "execution_count": 12,
   "metadata": {},
   "outputs": [
    {
     "name": "stderr",
     "output_type": "stream",
     "text": [
      "100%|██████████| 1/1 [01:00<00:00, 60.06s/it]\n"
     ]
    }
   ],
   "source": [
    "embd_methd = 'unirep'\n",
    "file_res_unirep = [f'{cfg.RESULTS_DIR}simi/fold_{fold_num}_{embd_methd}_results.h5' for fold_num in range(1,2)]\n",
    "res_unirep = [btools.read_h5_file(item)for item in tqdm(file_res_unirep)]"
   ]
  },
  {
   "cell_type": "code",
   "execution_count": 11,
   "metadata": {},
   "outputs": [
    {
     "data": {
      "text/plain": [
       "['/hpcfs/fhome/shizhenkun/codebase/RXNRECer/results/simi/fold_1_unirep_results.h5']"
      ]
     },
     "execution_count": 11,
     "metadata": {},
     "output_type": "execute_result"
    }
   ],
   "source": [
    "file_res_unirep"
   ]
  },
  {
   "cell_type": "code",
   "execution_count": 16,
   "metadata": {},
   "outputs": [
    {
     "data": {
      "text/html": [
       "<div>\n",
       "<style scoped>\n",
       "    .dataframe tbody tr th:only-of-type {\n",
       "        vertical-align: middle;\n",
       "    }\n",
       "\n",
       "    .dataframe tbody tr th {\n",
       "        vertical-align: top;\n",
       "    }\n",
       "\n",
       "    .dataframe thead th {\n",
       "        text-align: right;\n",
       "    }\n",
       "</style>\n",
       "<table border=\"1\" class=\"dataframe\">\n",
       "  <thead>\n",
       "    <tr style=\"text-align: right;\">\n",
       "      <th></th>\n",
       "      <th>uniprot_id</th>\n",
       "      <th>unirep_file</th>\n",
       "      <th>unirep</th>\n",
       "    </tr>\n",
       "  </thead>\n",
       "  <tbody>\n",
       "    <tr>\n",
       "      <th>0</th>\n",
       "      <td>Q928A4</td>\n",
       "      <td>/hpcfs/fhome/shizhenkun/codebase/preaction/dat...</td>\n",
       "      <td>[-0.0015948936343193054, 0.003045504679903388,...</td>\n",
       "    </tr>\n",
       "    <tr>\n",
       "      <th>1</th>\n",
       "      <td>Q6G9U3</td>\n",
       "      <td>/hpcfs/fhome/shizhenkun/codebase/preaction/dat...</td>\n",
       "      <td>[0.007866262458264828, 0.020977269858121872, 0...</td>\n",
       "    </tr>\n",
       "    <tr>\n",
       "      <th>2</th>\n",
       "      <td>Q7VP02</td>\n",
       "      <td>/hpcfs/fhome/shizhenkun/codebase/preaction/dat...</td>\n",
       "      <td>[0.0046709743328392506, 0.06482962518930435, 0...</td>\n",
       "    </tr>\n",
       "    <tr>\n",
       "      <th>3</th>\n",
       "      <td>Q46WG6</td>\n",
       "      <td>/hpcfs/fhome/shizhenkun/codebase/preaction/dat...</td>\n",
       "      <td>[0.009201942011713982, -0.039074067026376724, ...</td>\n",
       "    </tr>\n",
       "    <tr>\n",
       "      <th>4</th>\n",
       "      <td>Q8BHJ7</td>\n",
       "      <td>/hpcfs/fhome/shizhenkun/codebase/preaction/dat...</td>\n",
       "      <td>[0.008545373566448689, -0.020925503224134445, ...</td>\n",
       "    </tr>\n",
       "    <tr>\n",
       "      <th>...</th>\n",
       "      <td>...</td>\n",
       "      <td>...</td>\n",
       "      <td>...</td>\n",
       "    </tr>\n",
       "    <tr>\n",
       "      <th>522097</th>\n",
       "      <td>Q731I2</td>\n",
       "      <td>/hpcfs/fhome/shizhenkun/codebase/preaction/dat...</td>\n",
       "      <td>[0.007942636497318745, 0.23247076570987701, 0....</td>\n",
       "    </tr>\n",
       "    <tr>\n",
       "      <th>522098</th>\n",
       "      <td>P0C798</td>\n",
       "      <td>/hpcfs/fhome/shizhenkun/codebase/preaction/dat...</td>\n",
       "      <td>[0.009655050002038479, -0.04701140895485878, 0...</td>\n",
       "    </tr>\n",
       "    <tr>\n",
       "      <th>522099</th>\n",
       "      <td>P16609</td>\n",
       "      <td>/hpcfs/fhome/shizhenkun/codebase/preaction/dat...</td>\n",
       "      <td>[0.008709593676030636, 0.21210989356040955, 0....</td>\n",
       "    </tr>\n",
       "    <tr>\n",
       "      <th>522100</th>\n",
       "      <td>Q49V37</td>\n",
       "      <td>/hpcfs/fhome/shizhenkun/codebase/preaction/dat...</td>\n",
       "      <td>[0.003473608987405896, -0.03509097173810005, 0...</td>\n",
       "    </tr>\n",
       "    <tr>\n",
       "      <th>522101</th>\n",
       "      <td>Q86QV2</td>\n",
       "      <td>/hpcfs/fhome/shizhenkun/codebase/preaction/dat...</td>\n",
       "      <td>[0.013045708648860455, -0.16144321858882904, 0...</td>\n",
       "    </tr>\n",
       "  </tbody>\n",
       "</table>\n",
       "<p>522102 rows × 3 columns</p>\n",
       "</div>"
      ],
      "text/plain": [
       "       uniprot_id                                        unirep_file  \\\n",
       "0          Q928A4  /hpcfs/fhome/shizhenkun/codebase/preaction/dat...   \n",
       "1          Q6G9U3  /hpcfs/fhome/shizhenkun/codebase/preaction/dat...   \n",
       "2          Q7VP02  /hpcfs/fhome/shizhenkun/codebase/preaction/dat...   \n",
       "3          Q46WG6  /hpcfs/fhome/shizhenkun/codebase/preaction/dat...   \n",
       "4          Q8BHJ7  /hpcfs/fhome/shizhenkun/codebase/preaction/dat...   \n",
       "...           ...                                                ...   \n",
       "522097     Q731I2  /hpcfs/fhome/shizhenkun/codebase/preaction/dat...   \n",
       "522098     P0C798  /hpcfs/fhome/shizhenkun/codebase/preaction/dat...   \n",
       "522099     P16609  /hpcfs/fhome/shizhenkun/codebase/preaction/dat...   \n",
       "522100     Q49V37  /hpcfs/fhome/shizhenkun/codebase/preaction/dat...   \n",
       "522101     Q86QV2  /hpcfs/fhome/shizhenkun/codebase/preaction/dat...   \n",
       "\n",
       "                                                   unirep  \n",
       "0       [-0.0015948936343193054, 0.003045504679903388,...  \n",
       "1       [0.007866262458264828, 0.020977269858121872, 0...  \n",
       "2       [0.0046709743328392506, 0.06482962518930435, 0...  \n",
       "3       [0.009201942011713982, -0.039074067026376724, ...  \n",
       "4       [0.008545373566448689, -0.020925503224134445, ...  \n",
       "...                                                   ...  \n",
       "522097  [0.007942636497318745, 0.23247076570987701, 0....  \n",
       "522098  [0.009655050002038479, -0.04701140895485878, 0...  \n",
       "522099  [0.008709593676030636, 0.21210989356040955, 0....  \n",
       "522100  [0.003473608987405896, -0.03509097173810005, 0...  \n",
       "522101  [0.013045708648860455, -0.16144321858882904, 0...  \n",
       "\n",
       "[522102 rows x 3 columns]"
      ]
     },
     "execution_count": 16,
     "metadata": {},
     "output_type": "execute_result"
    }
   ],
   "source": [
    "pd.read_feather(cfg.FILE_EMBD_PROTEIN_UNIREP)"
   ]
  },
  {
   "cell_type": "code",
   "execution_count": null,
   "metadata": {},
   "outputs": [],
   "source": []
  },
  {
   "cell_type": "code",
   "execution_count": null,
   "metadata": {},
   "outputs": [],
   "source": []
  },
  {
   "cell_type": "markdown",
   "metadata": {},
   "source": [
    "### 3. Load results\n"
   ]
  },
  {
   "cell_type": "code",
   "execution_count": null,
   "metadata": {},
   "outputs": [],
   "source": []
  }
 ],
 "metadata": {
  "kernelspec": {
   "display_name": "Python 3",
   "language": "python",
   "name": "python3"
  },
  "language_info": {
   "codemirror_mode": {
    "name": "ipython",
    "version": 3
   },
   "file_extension": ".py",
   "mimetype": "text/x-python",
   "name": "python",
   "nbconvert_exporter": "python",
   "pygments_lexer": "ipython3",
   "version": "3.10.14"
  },
  "orig_nbformat": 4
 },
 "nbformat": 4,
 "nbformat_minor": 2
}
