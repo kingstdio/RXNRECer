{
 "cells": [
  {
   "cell_type": "markdown",
   "metadata": {},
   "source": [
    "## Methos: 基于蛋白结构的反应预测\n",
    "> 2024-12-20\n",
    "\n",
    "### 1. 导入必要的包"
   ]
  },
  {
   "cell_type": "code",
   "execution_count": 1,
   "metadata": {},
   "outputs": [
    {
     "name": "stdout",
     "output_type": "stream",
     "text": [
      "INFO: Pandarallel will run on 128 workers.\n",
      "INFO: Pandarallel will use Memory file system to transfer data between the main process and workers.\n"
     ]
    }
   ],
   "source": [
    "import pandas as pd\n",
    "import sys,os\n",
    "sys.path.insert(0, os.path.dirname(os.path.realpath('__file__')))\n",
    "sys.path.insert(1,'../')\n",
    "from config import conf as cfg\n",
    "from tqdm import tqdm\n",
    "from tools import btools\n",
    "from tools import filetool \n",
    "import rxnrecer as production\n",
    "from pandarallel import pandarallel # 导入pandaralle\n",
    "pandarallel.initialize(progress_bar=False)\n",
    "import subprocess\n",
    "\n",
    "%load_ext autoreload\n",
    "%autoreload 2"
   ]
  },
  {
   "cell_type": "markdown",
   "metadata": {},
   "source": [
    "### 2. Load test data"
   ]
  },
  {
   "cell_type": "code",
   "execution_count": 2,
   "metadata": {},
   "outputs": [
    {
     "name": "stdout",
     "output_type": "stream",
     "text": [
      "Loading pdbfile ...\n",
      "Loading 10-folds  data ...\n"
     ]
    }
   ],
   "source": [
    "def load_10folds_data(type='test'):\n",
    "    if type == 'test':\n",
    "        file_path = [f'{cfg.DIR_DATASET}validation/fold{fold_num+1}/valid.feather' for fold_num in range(10)]\n",
    "        \n",
    "    if type =='train':\n",
    "        file_path = [f'{cfg.DIR_DATASET}validation/fold{fold_num+1}/train.feather' for fold_num in range(10)]\n",
    "        \n",
    "        \n",
    "    res = [pd.read_feather(path)[['uniprot_id','seq','reaction_id']].rename(columns={'reaction_id': 'rxn_groundtruth'}) for path in file_path]\n",
    "        \n",
    "    return res\n",
    "\n",
    "\n",
    "print('Loading pdbfile ...' )\n",
    "data_pdb = pd.read_feather(cfg.FILE_DS_PDB_LIST)\n",
    "\n",
    "\n",
    "print('Loading 10-folds  data ...' )\n",
    "data_trian = load_10folds_data(type='train')\n",
    "data_test = load_10folds_data(type='test')\n"
   ]
  },
  {
   "cell_type": "markdown",
   "metadata": {},
   "source": [
    "### 3. Load Feaatures"
   ]
  },
  {
   "cell_type": "code",
   "execution_count": 7,
   "metadata": {},
   "outputs": [],
   "source": [
    "tdi_embedding = pd.read_feather(cfg.FILE_DS_3DI_EMBEDDING)"
   ]
  },
  {
   "cell_type": "code",
   "execution_count": 7,
   "metadata": {},
   "outputs": [],
   "source": [
    "trains_ids = [item.uniprot_id.to_list() for item in data_trian]"
   ]
  },
  {
   "cell_type": "code",
   "execution_count": 11,
   "metadata": {},
   "outputs": [
    {
     "data": {
      "text/html": [
       "<div>\n",
       "<style scoped>\n",
       "    .dataframe tbody tr th:only-of-type {\n",
       "        vertical-align: middle;\n",
       "    }\n",
       "\n",
       "    .dataframe tbody tr th {\n",
       "        vertical-align: top;\n",
       "    }\n",
       "\n",
       "    .dataframe thead th {\n",
       "        text-align: right;\n",
       "    }\n",
       "</style>\n",
       "<table border=\"1\" class=\"dataframe\">\n",
       "  <thead>\n",
       "    <tr style=\"text-align: right;\">\n",
       "      <th></th>\n",
       "      <th>uniprot_id</th>\n",
       "      <th>seq</th>\n",
       "      <th>path_pdb</th>\n",
       "      <th>pdb_exist</th>\n",
       "      <th>pdb_check_ok</th>\n",
       "    </tr>\n",
       "  </thead>\n",
       "  <tbody>\n",
       "    <tr>\n",
       "      <th>0</th>\n",
       "      <td>Q6GZX4</td>\n",
       "      <td>MAFSAEDVLKEYDRRRRMEALLLSLYYPNDRKLLDYKEWSPPRVQV...</td>\n",
       "      <td>/hpcfs/fhome/shizhenkun/codebase/RXNRECer/data...</td>\n",
       "      <td>True</td>\n",
       "      <td>True</td>\n",
       "    </tr>\n",
       "    <tr>\n",
       "      <th>1</th>\n",
       "      <td>Q6GZX3</td>\n",
       "      <td>MSIIGATRLQNDKSDTYSAGPCYAGGCSAFTPRGTCGKDWDLGEQT...</td>\n",
       "      <td>/hpcfs/fhome/shizhenkun/codebase/RXNRECer/data...</td>\n",
       "      <td>True</td>\n",
       "      <td>True</td>\n",
       "    </tr>\n",
       "    <tr>\n",
       "      <th>2</th>\n",
       "      <td>Q197F8</td>\n",
       "      <td>MASNTVSAQGGSNRPVRDFSNIQDVAQFLLFDPIWNEQPGSIVPWK...</td>\n",
       "      <td>/hpcfs/fhome/shizhenkun/codebase/RXNRECer/data...</td>\n",
       "      <td>True</td>\n",
       "      <td>True</td>\n",
       "    </tr>\n",
       "    <tr>\n",
       "      <th>4</th>\n",
       "      <td>Q6GZX2</td>\n",
       "      <td>MARPLLGKTSSVRRRLESLSACSIFFFLRKFCQKMASLVFLNSPVY...</td>\n",
       "      <td>/hpcfs/fhome/shizhenkun/codebase/RXNRECer/data...</td>\n",
       "      <td>True</td>\n",
       "      <td>True</td>\n",
       "    </tr>\n",
       "    <tr>\n",
       "      <th>5</th>\n",
       "      <td>Q6GZX1</td>\n",
       "      <td>MNAKYDTDQGVGRMLFLGTIGLAVVVGGLMAYGYYYDGKTPSSGTS...</td>\n",
       "      <td>/hpcfs/fhome/shizhenkun/codebase/RXNRECer/data...</td>\n",
       "      <td>True</td>\n",
       "      <td>True</td>\n",
       "    </tr>\n",
       "    <tr>\n",
       "      <th>...</th>\n",
       "      <td>...</td>\n",
       "      <td>...</td>\n",
       "      <td>...</td>\n",
       "      <td>...</td>\n",
       "      <td>...</td>\n",
       "    </tr>\n",
       "    <tr>\n",
       "      <th>508580</th>\n",
       "      <td>B2MW50</td>\n",
       "      <td>MGLRYSKAVKDKYGDREIEGRATMTLNLPQGLYGRFNCKRCWFATK...</td>\n",
       "      <td>/hpcfs/fhome/shizhenkun/codebase/RXNRECer/data...</td>\n",
       "      <td>True</td>\n",
       "      <td>True</td>\n",
       "    </tr>\n",
       "    <tr>\n",
       "      <th>508581</th>\n",
       "      <td>Q6RSS3</td>\n",
       "      <td>MGLRYSKEVRERHGDKDLEGRVPMTLNLPQGLYGRFNCKSCWFANR...</td>\n",
       "      <td>/hpcfs/fhome/shizhenkun/codebase/RXNRECer/data...</td>\n",
       "      <td>True</td>\n",
       "      <td>True</td>\n",
       "    </tr>\n",
       "    <tr>\n",
       "      <th>508582</th>\n",
       "      <td>Q6UY62</td>\n",
       "      <td>MGNSKSKSKLSANQYEQQTVNSTKQVAILKRQAEPSLYGRHNCRCC...</td>\n",
       "      <td>/hpcfs/fhome/shizhenkun/codebase/RXNRECer/data...</td>\n",
       "      <td>True</td>\n",
       "      <td>True</td>\n",
       "    </tr>\n",
       "    <tr>\n",
       "      <th>508584</th>\n",
       "      <td>Q88470</td>\n",
       "      <td>MGNCNRTQKPSSSSNNLEKPPQAAEFRRTAEPSLYGRYNCKCCWFA...</td>\n",
       "      <td>/hpcfs/fhome/shizhenkun/codebase/RXNRECer/data...</td>\n",
       "      <td>True</td>\n",
       "      <td>True</td>\n",
       "    </tr>\n",
       "    <tr>\n",
       "      <th>508585</th>\n",
       "      <td>A9JR22</td>\n",
       "      <td>MGLRYSKEVRDRHGDKDPEGRIPITQTMPQTLYGRYNCKSCWFANK...</td>\n",
       "      <td>/hpcfs/fhome/shizhenkun/codebase/RXNRECer/data...</td>\n",
       "      <td>True</td>\n",
       "      <td>True</td>\n",
       "    </tr>\n",
       "  </tbody>\n",
       "</table>\n",
       "<p>457729 rows × 5 columns</p>\n",
       "</div>"
      ],
      "text/plain": [
       "       uniprot_id                                                seq  \\\n",
       "0          Q6GZX4  MAFSAEDVLKEYDRRRRMEALLLSLYYPNDRKLLDYKEWSPPRVQV...   \n",
       "1          Q6GZX3  MSIIGATRLQNDKSDTYSAGPCYAGGCSAFTPRGTCGKDWDLGEQT...   \n",
       "2          Q197F8  MASNTVSAQGGSNRPVRDFSNIQDVAQFLLFDPIWNEQPGSIVPWK...   \n",
       "4          Q6GZX2  MARPLLGKTSSVRRRLESLSACSIFFFLRKFCQKMASLVFLNSPVY...   \n",
       "5          Q6GZX1  MNAKYDTDQGVGRMLFLGTIGLAVVVGGLMAYGYYYDGKTPSSGTS...   \n",
       "...           ...                                                ...   \n",
       "508580     B2MW50  MGLRYSKAVKDKYGDREIEGRATMTLNLPQGLYGRFNCKRCWFATK...   \n",
       "508581     Q6RSS3  MGLRYSKEVRERHGDKDLEGRVPMTLNLPQGLYGRFNCKSCWFANR...   \n",
       "508582     Q6UY62  MGNSKSKSKLSANQYEQQTVNSTKQVAILKRQAEPSLYGRHNCRCC...   \n",
       "508584     Q88470  MGNCNRTQKPSSSSNNLEKPPQAAEFRRTAEPSLYGRYNCKCCWFA...   \n",
       "508585     A9JR22  MGLRYSKEVRDRHGDKDPEGRIPITQTMPQTLYGRYNCKSCWFANK...   \n",
       "\n",
       "                                                 path_pdb  pdb_exist  \\\n",
       "0       /hpcfs/fhome/shizhenkun/codebase/RXNRECer/data...       True   \n",
       "1       /hpcfs/fhome/shizhenkun/codebase/RXNRECer/data...       True   \n",
       "2       /hpcfs/fhome/shizhenkun/codebase/RXNRECer/data...       True   \n",
       "4       /hpcfs/fhome/shizhenkun/codebase/RXNRECer/data...       True   \n",
       "5       /hpcfs/fhome/shizhenkun/codebase/RXNRECer/data...       True   \n",
       "...                                                   ...        ...   \n",
       "508580  /hpcfs/fhome/shizhenkun/codebase/RXNRECer/data...       True   \n",
       "508581  /hpcfs/fhome/shizhenkun/codebase/RXNRECer/data...       True   \n",
       "508582  /hpcfs/fhome/shizhenkun/codebase/RXNRECer/data...       True   \n",
       "508584  /hpcfs/fhome/shizhenkun/codebase/RXNRECer/data...       True   \n",
       "508585  /hpcfs/fhome/shizhenkun/codebase/RXNRECer/data...       True   \n",
       "\n",
       "        pdb_check_ok  \n",
       "0               True  \n",
       "1               True  \n",
       "2               True  \n",
       "4               True  \n",
       "5               True  \n",
       "...              ...  \n",
       "508580          True  \n",
       "508581          True  \n",
       "508582          True  \n",
       "508584          True  \n",
       "508585          True  \n",
       "\n",
       "[457729 rows x 5 columns]"
      ]
     },
     "execution_count": 11,
     "metadata": {},
     "output_type": "execute_result"
    }
   ],
   "source": [
    "data_pdb[data_pdb.uniprot_id.isin(trains_ids[0]).reset_index(drop=True)]"
   ]
  },
  {
   "cell_type": "code",
   "execution_count": null,
   "metadata": {},
   "outputs": [],
   "source": []
  },
  {
   "cell_type": "code",
   "execution_count": null,
   "metadata": {},
   "outputs": [],
   "source": []
  },
  {
   "cell_type": "code",
   "execution_count": null,
   "metadata": {},
   "outputs": [],
   "source": []
  },
  {
   "cell_type": "code",
   "execution_count": null,
   "metadata": {},
   "outputs": [],
   "source": []
  },
  {
   "cell_type": "markdown",
   "metadata": {},
   "source": [
    "### 3. Load results\n"
   ]
  },
  {
   "cell_type": "code",
   "execution_count": null,
   "metadata": {},
   "outputs": [],
   "source": []
  }
 ],
 "metadata": {
  "kernelspec": {
   "display_name": "Python 3",
   "language": "python",
   "name": "python3"
  },
  "language_info": {
   "codemirror_mode": {
    "name": "ipython",
    "version": 3
   },
   "file_extension": ".py",
   "mimetype": "text/x-python",
   "name": "python",
   "nbconvert_exporter": "python",
   "pygments_lexer": "ipython3",
   "version": "3.10.14"
  },
  "orig_nbformat": 4
 },
 "nbformat": 4,
 "nbformat_minor": 2
}
