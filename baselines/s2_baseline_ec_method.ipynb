{
 "cells": [
  {
   "attachments": {},
   "cell_type": "markdown",
   "metadata": {},
   "source": [
    "# Baseline Performance Comparison - EC-based methods\n",
    "> Author: Shi Zhenkun   \n",
    "> Email: zhenkun.shi@tib.cas.cn   \n",
    "> Last update: 2024-09-29\n",
    "\n"
   ]
  },
  {
   "cell_type": "markdown",
   "metadata": {},
   "source": [
    "## 0. Import packages"
   ]
  },
  {
   "cell_type": "code",
   "execution_count": 2,
   "metadata": {},
   "outputs": [
    {
     "name": "stdout",
     "output_type": "stream",
     "text": [
      "INFO: Pandarallel will run on 128 workers.\n",
      "INFO: Pandarallel will use Memory file system to transfer data between the main process and workers.\n"
     ]
    }
   ],
   "source": [
    "import os,sys\n",
    "import pandas as pd\n",
    "\n",
    "sys.path.insert(0, os.path.dirname(os.path.realpath('__file__')))\n",
    "sys.path.insert(1,'../')\n",
    "from config import conf as cfg\n",
    "import tools.bioFunctionLib as bfl\n",
    "import tools.btools as btools\n",
    "from tkinter import _flatten # type: ignore\n",
    "\n",
    "from pandarallel import pandarallel # 导入pandaralle\n",
    "pandarallel.initialize(progress_bar=False)\n",
    "\n",
    "%load_ext autoreload\n",
    "%autoreload 2"
   ]
  },
  {
   "cell_type": "markdown",
   "metadata": {},
   "source": [
    "## 1. Define Common Functions"
   ]
  },
  {
   "cell_type": "code",
   "execution_count": 7,
   "metadata": {},
   "outputs": [],
   "source": [
    "def caculate_reaction_pred_true(reaction_groundtruth, reaction_pred):\n",
    "    set_ground = set(reaction_groundtruth.split(';'))\n",
    "    set_pred = set(reaction_pred.split(';'))\n",
    "    if set_ground == set_pred:\n",
    "        return True\n",
    "    else:\n",
    "        return False\n",
    "\n",
    "#拼合测试集与预测结果    \n",
    "def merge_test_set(testset, needmergeset, mergekey='uniprot_id', merge_way='left', fillna='NO-PREDICTION'):\n",
    "    testset = testset[['uniprot_id', 'reaction_id', 'ec_number']].rename(columns={'reaction_id':'reaction_groundtruth','ec_number':'ec_groundtruth'})\n",
    "    res = testset.merge(needmergeset, on=mergekey, how=merge_way).fillna(fillna)\n",
    "    # res = testset.merge(needmergeset, on=mergekey, how=merge_way)\n",
    "    return res"
   ]
  },
  {
   "attachments": {},
   "cell_type": "markdown",
   "metadata": {},
   "source": [
    "## 2. Load exp data"
   ]
  },
  {
   "cell_type": "code",
   "execution_count": 10,
   "metadata": {},
   "outputs": [
    {
     "name": "stdout",
     "output_type": "stream",
     "text": [
      "Use dataset: /hpcfs/fhome/shizhenkun/codebase/preaction/data/datasets/task240524/ds_test.feather\n",
      "Test fasta file: /hpcfs/fhome/shizhenkun/codebase/preaction/data/datasets/task240524/ds_test.fasta\n"
     ]
    },
    {
     "data": {
      "text/html": [
       "<div>\n",
       "<style scoped>\n",
       "    .dataframe tbody tr th:only-of-type {\n",
       "        vertical-align: middle;\n",
       "    }\n",
       "\n",
       "    .dataframe tbody tr th {\n",
       "        vertical-align: top;\n",
       "    }\n",
       "\n",
       "    .dataframe thead th {\n",
       "        text-align: right;\n",
       "    }\n",
       "</style>\n",
       "<table border=\"1\" class=\"dataframe\">\n",
       "  <thead>\n",
       "    <tr style=\"text-align: right;\">\n",
       "      <th></th>\n",
       "      <th>uniprot_id</th>\n",
       "      <th>seq</th>\n",
       "      <th>reaction_id</th>\n",
       "      <th>ec_number</th>\n",
       "      <th>functionCounts</th>\n",
       "      <th>ec_specific_level</th>\n",
       "      <th>isenzyme</th>\n",
       "      <th>label</th>\n",
       "    </tr>\n",
       "  </thead>\n",
       "  <tbody>\n",
       "    <tr>\n",
       "      <th>0</th>\n",
       "      <td>A9JLI2</td>\n",
       "      <td>MLGLQIFTLLSIPTLLYTYEIEPLERTSTPPEKEFGYWCTYANHCR...</td>\n",
       "      <td>-</td>\n",
       "      <td>-</td>\n",
       "      <td>0</td>\n",
       "      <td>0</td>\n",
       "      <td>False</td>\n",
       "      <td>[0, 0, 0, 0, 0, 0, 0, 0, 0, 0, 0, 0, 0, 0, 0, ...</td>\n",
       "    </tr>\n",
       "    <tr>\n",
       "      <th>1</th>\n",
       "      <td>A9JLI3</td>\n",
       "      <td>MRFFSYLGLLLAGLTSLQGFSTDNLLEEELRYWCQYVKNCRFCWTC...</td>\n",
       "      <td>-</td>\n",
       "      <td>-</td>\n",
       "      <td>0</td>\n",
       "      <td>0</td>\n",
       "      <td>False</td>\n",
       "      <td>[0, 0, 0, 0, 0, 0, 0, 0, 0, 0, 0, 0, 0, 0, 0, ...</td>\n",
       "    </tr>\n",
       "  </tbody>\n",
       "</table>\n",
       "</div>"
      ],
      "text/plain": [
       "  uniprot_id                                                seq reaction_id  \\\n",
       "0     A9JLI2  MLGLQIFTLLSIPTLLYTYEIEPLERTSTPPEKEFGYWCTYANHCR...           -   \n",
       "1     A9JLI3  MRFFSYLGLLLAGLTSLQGFSTDNLLEEELRYWCQYVKNCRFCWTC...           -   \n",
       "\n",
       "  ec_number  functionCounts  ec_specific_level  isenzyme  \\\n",
       "0         -               0                  0     False   \n",
       "1         -               0                  0     False   \n",
       "\n",
       "                                               label  \n",
       "0  [0, 0, 0, 0, 0, 0, 0, 0, 0, 0, 0, 0, 0, 0, 0, ...  \n",
       "1  [0, 0, 0, 0, 0, 0, 0, 0, 0, 0, 0, 0, 0, 0, 0, ...  "
      ]
     },
     "execution_count": 10,
     "metadata": {},
     "output_type": "execute_result"
    }
   ],
   "source": [
    "print(f'Use dataset: {cfg.FILE_DS_TEST}')\n",
    "ds_test = pd.read_feather(cfg.FILE_DS_TEST)\n",
    "ds_test.ec_number = ds_test.ec_number.apply(lambda x: x.replace(',',';')) # 统一spliter\n",
    "\n",
    "#add reaction data\n",
    "ds_rhea = pd.read_feather(cfg.FILE_DS_RHEA_REACTIONS)\n",
    "\n",
    "# caculate reaction_id ec_number map\n",
    "ec_reaction_map = ds_rhea[['reaction_id', 'ec_number']].copy()\n",
    "ec_reaction_map = ec_reaction_map.fillna('REACTION-WITHOUT-EC')\n",
    "ec_reaction_map = pd.concat([ec_reaction_map, pd.DataFrame({'reaction_id':['NO-PREDICTION', '-'],'ec_number':['NO-PREDICTION', '-']})], axis=0).reset_index(drop=True)\n",
    "ec_reaction_map.ec_number = ec_reaction_map.ec_number.apply(lambda x: x.replace('EC:',''))\n",
    "ec_reaction_map = ec_reaction_map.assign(ec_number=ec_reaction_map['ec_number'].str.split(';')).explode('ec_number').reset_index(drop=True).rename(columns={'ec_number': 'ec'})\n",
    "\n",
    "\n",
    "input_fasta = '/hpcfs/fhome/shizhenkun/codebase/preaction/data/datasets/task240524/ds_test.fasta'\n",
    "print(f'Test fasta file: {input_fasta}')\n",
    "\n",
    "ds_test.head(2)"
   ]
  },
  {
   "attachments": {},
   "cell_type": "markdown",
   "metadata": {},
   "source": [
    "## 3. EC-based baselines"
   ]
  },
  {
   "cell_type": "markdown",
   "metadata": {},
   "source": [
    "### 3.1 DeepEC"
   ]
  },
  {
   "cell_type": "code",
   "execution_count": 4,
   "metadata": {},
   "outputs": [
    {
     "name": "stdout",
     "output_type": "stream",
     "text": [
      "deepec cmd: \n",
      "singularity exec /hpcfs/fpublic/container/singularity/app/deepec/deepec.sif python /opt/deepec/deepec.py -i /hpcfs/fhome/shizhenkun/codebase/preaction/data/datasets/task240524/ds_test.fasta -o /hpcfs/fhome/shizhenkun/codebase/preaction/results240614/baselines/deepec\n",
      "      \n"
     ]
    }
   ],
   "source": [
    "deepec_res_file = '/hpcfs/fhome/shizhenkun/codebase/preaction/results240614/baselines/deepec'\n",
    "print(f'''deepec cmd: \n",
    "singularity exec /hpcfs/fpublic/container/singularity/app/deepec/deepec.sif python /opt/deepec/deepec.py -i {input_fasta} -o {deepec_res_file}\n",
    "      ''')"
   ]
  },
  {
   "cell_type": "code",
   "execution_count": 31,
   "metadata": {},
   "outputs": [
    {
     "name": "stdout",
     "output_type": "stream",
     "text": [
      "Write deepec results to: /hpcfs/fhome/shizhenkun/codebase/preaction/results240614/baselines/exp_test_deepec.tsv \n"
     ]
    },
    {
     "data": {
      "text/html": [
       "<div>\n",
       "<style scoped>\n",
       "    .dataframe tbody tr th:only-of-type {\n",
       "        vertical-align: middle;\n",
       "    }\n",
       "\n",
       "    .dataframe tbody tr th {\n",
       "        vertical-align: top;\n",
       "    }\n",
       "\n",
       "    .dataframe thead th {\n",
       "        text-align: right;\n",
       "    }\n",
       "</style>\n",
       "<table border=\"1\" class=\"dataframe\">\n",
       "  <thead>\n",
       "    <tr style=\"text-align: right;\">\n",
       "      <th></th>\n",
       "      <th>uniprot_id</th>\n",
       "      <th>reaction_groundtruth</th>\n",
       "      <th>ec_groundtruth</th>\n",
       "      <th>ec_deepec</th>\n",
       "      <th>reaction_deepec</th>\n",
       "    </tr>\n",
       "  </thead>\n",
       "  <tbody>\n",
       "    <tr>\n",
       "      <th>0</th>\n",
       "      <td>A9JLI2</td>\n",
       "      <td>-</td>\n",
       "      <td>-</td>\n",
       "      <td>NO-PREDICTION</td>\n",
       "      <td>NO-PREDICTION</td>\n",
       "    </tr>\n",
       "    <tr>\n",
       "      <th>1</th>\n",
       "      <td>A9JLI3</td>\n",
       "      <td>-</td>\n",
       "      <td>-</td>\n",
       "      <td>NO-PREDICTION</td>\n",
       "      <td>NO-PREDICTION</td>\n",
       "    </tr>\n",
       "    <tr>\n",
       "      <th>2</th>\n",
       "      <td>A9JLI5</td>\n",
       "      <td>-</td>\n",
       "      <td>-</td>\n",
       "      <td>NO-PREDICTION</td>\n",
       "      <td>NO-PREDICTION</td>\n",
       "    </tr>\n",
       "  </tbody>\n",
       "</table>\n",
       "</div>"
      ],
      "text/plain": [
       "  uniprot_id reaction_groundtruth ec_groundtruth      ec_deepec  \\\n",
       "0     A9JLI2                    -              -  NO-PREDICTION   \n",
       "1     A9JLI3                    -              -  NO-PREDICTION   \n",
       "2     A9JLI5                    -              -  NO-PREDICTION   \n",
       "\n",
       "  reaction_deepec  \n",
       "0   NO-PREDICTION  \n",
       "1   NO-PREDICTION  \n",
       "2   NO-PREDICTION  "
      ]
     },
     "execution_count": 31,
     "metadata": {},
     "output_type": "execute_result"
    }
   ],
   "source": [
    "# load results\n",
    "deepec = btools.load_deepec_resluts(filepath=f'{cfg.RESULTS_DIR}/baselines/deepec/DeepEC_Result.txt').rename(columns={'id':'uniprot_id'})\n",
    "# 拼合DeepEC 预测结果\n",
    "test_deepec = merge_test_set(testset=ds_test, needmergeset=deepec, fillna='NO-PREDICTION')\n",
    "# add reaction prediction results\n",
    "test_deepec['reaction_deepec']=test_deepec.ec_deepec.parallel_apply(lambda x : btools.retrival_reaction_from_ec(ec_pred=x, ec_reaction_map=ec_reaction_map))\n",
    "\n",
    "\n",
    "test_deepec.to_csv(cfg.FILE_RESULTS_DEEPEC, sep='\\t', index=False)\n",
    "print(f'Write deepec results to: {cfg.FILE_RESULTS_DEEPEC} ')\n",
    "test_deepec.head(3)"
   ]
  },
  {
   "attachments": {},
   "cell_type": "markdown",
   "metadata": {},
   "source": [
    "### 3.2 CLEAN"
   ]
  },
  {
   "cell_type": "code",
   "execution_count": null,
   "metadata": {},
   "outputs": [],
   "source": [
    "!sudo singularity shell --writable /hpcfs/fpublic/container/singularity/app/clean/clean_sandbox\n",
    "!sudo singularity exec --writable /hpcfs/fpublic/container/singularity/app/clean/clean_sandbox python /app/clean.py -i '/hpcfs/fhome/shizhenkun/codebase/preaction/data/datasets/task240524/ds_test.fasta' -o '/hpcfs/fhome/shizhenkun/codebase/preaction/results240614/baselines/clean/clean.txt'"
   ]
  },
  {
   "cell_type": "code",
   "execution_count": 14,
   "metadata": {},
   "outputs": [
    {
     "name": "stdout",
     "output_type": "stream",
     "text": [
      "Write clean results to: /hpcfs/fhome/shizhenkun/codebase/preaction/results240614/baselines/exp_test_clean.tsv \n"
     ]
    },
    {
     "data": {
      "text/html": [
       "<div>\n",
       "<style scoped>\n",
       "    .dataframe tbody tr th:only-of-type {\n",
       "        vertical-align: middle;\n",
       "    }\n",
       "\n",
       "    .dataframe tbody tr th {\n",
       "        vertical-align: top;\n",
       "    }\n",
       "\n",
       "    .dataframe thead th {\n",
       "        text-align: right;\n",
       "    }\n",
       "</style>\n",
       "<table border=\"1\" class=\"dataframe\">\n",
       "  <thead>\n",
       "    <tr style=\"text-align: right;\">\n",
       "      <th></th>\n",
       "      <th>uniprot_id</th>\n",
       "      <th>reaction_groundtruth</th>\n",
       "      <th>ec_groundtruth</th>\n",
       "      <th>ec_clean</th>\n",
       "      <th>reaction_clean</th>\n",
       "      <th>isRight_reaction_clean</th>\n",
       "    </tr>\n",
       "  </thead>\n",
       "  <tbody>\n",
       "    <tr>\n",
       "      <th>0</th>\n",
       "      <td>A9JLI2</td>\n",
       "      <td>-</td>\n",
       "      <td>-</td>\n",
       "      <td>3.2.2.6;1.4.3.2;4.2.3.81</td>\n",
       "      <td>RHEA:31427;RHEA:16301;RHEA:13781</td>\n",
       "      <td>False</td>\n",
       "    </tr>\n",
       "    <tr>\n",
       "      <th>1</th>\n",
       "      <td>A9JLI3</td>\n",
       "      <td>-</td>\n",
       "      <td>-</td>\n",
       "      <td>4.6.1.18</td>\n",
       "      <td>EC-WITHOUT-REACTION</td>\n",
       "      <td>False</td>\n",
       "    </tr>\n",
       "    <tr>\n",
       "      <th>2</th>\n",
       "      <td>A9JLI5</td>\n",
       "      <td>-</td>\n",
       "      <td>-</td>\n",
       "      <td>1.4.3.2</td>\n",
       "      <td>RHEA:13781</td>\n",
       "      <td>False</td>\n",
       "    </tr>\n",
       "  </tbody>\n",
       "</table>\n",
       "</div>"
      ],
      "text/plain": [
       "  uniprot_id reaction_groundtruth ec_groundtruth                  ec_clean  \\\n",
       "0     A9JLI2                    -              -  3.2.2.6;1.4.3.2;4.2.3.81   \n",
       "1     A9JLI3                    -              -                  4.6.1.18   \n",
       "2     A9JLI5                    -              -                   1.4.3.2   \n",
       "\n",
       "                     reaction_clean  isRight_reaction_clean  \n",
       "0  RHEA:31427;RHEA:16301;RHEA:13781                   False  \n",
       "1               EC-WITHOUT-REACTION                   False  \n",
       "2                        RHEA:13781                   False  "
      ]
     },
     "execution_count": 14,
     "metadata": {},
     "output_type": "execute_result"
    }
   ],
   "source": [
    "#format EC resluts from clean\n",
    "test_clean = btools.load_clean_resluts(res_file='/hpcfs/fhome/shizhenkun/codebase/preaction/results240614/baselines/clean/clean.txt_maxsep.csv').rename(columns={'Entry':'uniprot_id'})\n",
    "\n",
    "# 拼合groundtruth\n",
    "test_clean= merge_test_set(testset=ds_test, needmergeset= test_clean)\n",
    "test_clean['reaction_clean']=test_clean.ec_clean.parallel_apply(lambda x: btools.retrival_reaction_from_ec(ec_pred=x, ec_reaction_map=ec_reaction_map))\n",
    "test_clean = test_clean.replace('', 'EC-WITHOUT-REACTION')\n",
    "test_clean['isRight_reaction_clean']=test_clean.parallel_apply(lambda x : caculate_reaction_pred_true(reaction_groundtruth=x.reaction_groundtruth, reaction_pred=x.reaction_clean), axis=1) # type: ignore\n",
    "\n",
    "test_clean.to_csv(cfg.FILE_RESULTS_CLEAN, sep='\\t', index=False)\n",
    "print(f'Write clean results to: {cfg.FILE_RESULTS_CLEAN} ')\n",
    "test_clean.head(3)"
   ]
  },
  {
   "attachments": {},
   "cell_type": "markdown",
   "metadata": {},
   "source": [
    "### 3.3 ECRECer"
   ]
  },
  {
   "cell_type": "code",
   "execution_count": 23,
   "metadata": {},
   "outputs": [
    {
     "name": "stdout",
     "output_type": "stream",
     "text": [
      "deepec cmd: \n",
      "conda activate DMLF\n",
      "python /hpcfs/fhome/shizhenkun/codebase/DMLF/production.py  -i /hpcfs/fhome/shizhenkun/codebase/preaction/data/datasets/task240524/ds_test.fasta -o /hpcfs/fhome/shizhenkun/codebase/preaction/results240614/baselines/deepec -mode p\n",
      "      \n"
     ]
    }
   ],
   "source": [
    "ecrecer_res_file = '/hpcfs/fhome/shizhenkun/codebase/preaction/results240614/baselines/ecrecer.tsv'\n",
    "print(f'''deepec cmd: \n",
    "conda activate DMLF\n",
    "python /hpcfs/fhome/shizhenkun/codebase/DMLF/production.py  -i {input_fasta} -o {deepec_res_file} -mode p\n",
    "      ''')"
   ]
  },
  {
   "cell_type": "code",
   "execution_count": 15,
   "metadata": {
    "vscode": {
     "languageId": "shellscript"
    }
   },
   "outputs": [
    {
     "name": "stdout",
     "output_type": "stream",
     "text": [
      "Write ecrecer results to: /hpcfs/fhome/shizhenkun/codebase/preaction/results240614/baselines/exp_test_ecrecer.tsv \n"
     ]
    },
    {
     "data": {
      "text/html": [
       "<div>\n",
       "<style scoped>\n",
       "    .dataframe tbody tr th:only-of-type {\n",
       "        vertical-align: middle;\n",
       "    }\n",
       "\n",
       "    .dataframe tbody tr th {\n",
       "        vertical-align: top;\n",
       "    }\n",
       "\n",
       "    .dataframe thead th {\n",
       "        text-align: right;\n",
       "    }\n",
       "</style>\n",
       "<table border=\"1\" class=\"dataframe\">\n",
       "  <thead>\n",
       "    <tr style=\"text-align: right;\">\n",
       "      <th></th>\n",
       "      <th>uniprot_id</th>\n",
       "      <th>reaction_groundtruth</th>\n",
       "      <th>ec_groundtruth</th>\n",
       "      <th>ec_ecrecer</th>\n",
       "      <th>reaction_ecrecer</th>\n",
       "      <th>isRight_reaction_ecrecer</th>\n",
       "    </tr>\n",
       "  </thead>\n",
       "  <tbody>\n",
       "    <tr>\n",
       "      <th>0</th>\n",
       "      <td>A9JLI2</td>\n",
       "      <td>-</td>\n",
       "      <td>-</td>\n",
       "      <td>-</td>\n",
       "      <td>-</td>\n",
       "      <td>True</td>\n",
       "    </tr>\n",
       "    <tr>\n",
       "      <th>1</th>\n",
       "      <td>A9JLI3</td>\n",
       "      <td>-</td>\n",
       "      <td>-</td>\n",
       "      <td>-</td>\n",
       "      <td>-</td>\n",
       "      <td>True</td>\n",
       "    </tr>\n",
       "    <tr>\n",
       "      <th>2</th>\n",
       "      <td>A9JLI5</td>\n",
       "      <td>-</td>\n",
       "      <td>-</td>\n",
       "      <td>-</td>\n",
       "      <td>-</td>\n",
       "      <td>True</td>\n",
       "    </tr>\n",
       "  </tbody>\n",
       "</table>\n",
       "</div>"
      ],
      "text/plain": [
       "  uniprot_id reaction_groundtruth ec_groundtruth ec_ecrecer reaction_ecrecer  \\\n",
       "0     A9JLI2                    -              -          -                -   \n",
       "1     A9JLI3                    -              -          -                -   \n",
       "2     A9JLI5                    -              -          -                -   \n",
       "\n",
       "   isRight_reaction_ecrecer  \n",
       "0                      True  \n",
       "1                      True  \n",
       "2                      True  "
      ]
     },
     "execution_count": 15,
     "metadata": {},
     "output_type": "execute_result"
    }
   ],
   "source": [
    "\n",
    "dmlf = pd.read_csv('/hpcfs/fhome/shizhenkun/codebase/preaction/results240614/baselines/ecrecer/ECRECer.csv', sep=',')[['id_input','ec_pred']].rename(columns={'id_input':'uniprot_id', 'ec_pred':'ec_ecrecer'})\n",
    "test_dmlf = merge_test_set(testset=ds_test, needmergeset= dmlf)\n",
    "\n",
    "test_dmlf.ec_ecrecer = test_dmlf.ec_ecrecer.apply(lambda x: x.replace(',',';'))\n",
    "test_dmlf['reaction_ecrecer']=test_dmlf.ec_ecrecer.parallel_apply(lambda x: btools.retrival_reaction_from_ec(ec_pred=x, ec_reaction_map=ec_reaction_map))\n",
    "test_dmlf = test_dmlf.replace('', 'EC-WITHOUT-REACTION')\n",
    "test_dmlf['isRight_reaction_ecrecer']=test_dmlf.parallel_apply(lambda x : caculate_reaction_pred_true(reaction_groundtruth=x.reaction_groundtruth, reaction_pred=x.reaction_ecrecer), axis=1) # type: ignore\n",
    "test_dmlf.to_csv(cfg.FILE_RESULTS_ECRECER, sep='\\t', index=False)\n",
    "print(f'Write ecrecer results to: {cfg.FILE_RESULTS_ECRECER} ')\n",
    "test_dmlf.head(3)"
   ]
  },
  {
   "attachments": {},
   "cell_type": "markdown",
   "metadata": {},
   "source": [
    "### 3.4 CATFAM"
   ]
  },
  {
   "cell_type": "code",
   "execution_count": 36,
   "metadata": {
    "vscode": {
     "languageId": "shellscript"
    }
   },
   "outputs": [
    {
     "name": "stdout",
     "output_type": "stream",
     "text": [
      "catfam cmd:\n",
      " singularity exec /hpcfs/fpublic/container/singularity/app/catfam/catfam.sif /catfam/source/catsearch.pl  -d /catfam/CatFamDB/CatFam_v2.0/CatFam4D99R -i /hpcfs/fhome/shizhenkun/codebase/preaction/data/datasets/task240524/ds_test.fasta  -o /hpcfs/fhome/shizhenkun/codebase/preaction/results240614/baselines/catfam/catfam.txt \n"
     ]
    }
   ],
   "source": [
    "catfam_res_file = '/hpcfs/fhome/shizhenkun/codebase/preaction/results240614/baselines/catfam/catfam.txt'\n",
    "print(f'''catfam cmd:\n",
    " singularity exec /hpcfs/fpublic/container/singularity/app/catfam/catfam.sif /catfam/source/catsearch.pl  -d /catfam/CatFamDB/CatFam_v2.0/CatFam4D99R -i {input_fasta}  -o {catfam_res_file} ''')"
   ]
  },
  {
   "cell_type": "code",
   "execution_count": 8,
   "metadata": {},
   "outputs": [
    {
     "data": {
      "text/html": [
       "<div>\n",
       "<style scoped>\n",
       "    .dataframe tbody tr th:only-of-type {\n",
       "        vertical-align: middle;\n",
       "    }\n",
       "\n",
       "    .dataframe tbody tr th {\n",
       "        vertical-align: top;\n",
       "    }\n",
       "\n",
       "    .dataframe thead th {\n",
       "        text-align: right;\n",
       "    }\n",
       "</style>\n",
       "<table border=\"1\" class=\"dataframe\">\n",
       "  <thead>\n",
       "    <tr style=\"text-align: right;\">\n",
       "      <th></th>\n",
       "      <th>uniprot_id</th>\n",
       "      <th>reaction_groundtruth</th>\n",
       "      <th>ec_groundtruth</th>\n",
       "      <th>ec_catfam</th>\n",
       "      <th>reaction_catfam</th>\n",
       "      <th>isRight_reaction_catfam</th>\n",
       "    </tr>\n",
       "  </thead>\n",
       "  <tbody>\n",
       "    <tr>\n",
       "      <th>0</th>\n",
       "      <td>A9JLI2</td>\n",
       "      <td>-</td>\n",
       "      <td>-</td>\n",
       "      <td>-</td>\n",
       "      <td>-</td>\n",
       "      <td>True</td>\n",
       "    </tr>\n",
       "    <tr>\n",
       "      <th>1</th>\n",
       "      <td>A9JLI3</td>\n",
       "      <td>-</td>\n",
       "      <td>-</td>\n",
       "      <td>-</td>\n",
       "      <td>-</td>\n",
       "      <td>True</td>\n",
       "    </tr>\n",
       "    <tr>\n",
       "      <th>2</th>\n",
       "      <td>A9JLI5</td>\n",
       "      <td>-</td>\n",
       "      <td>-</td>\n",
       "      <td>-</td>\n",
       "      <td>-</td>\n",
       "      <td>True</td>\n",
       "    </tr>\n",
       "  </tbody>\n",
       "</table>\n",
       "</div>"
      ],
      "text/plain": [
       "  uniprot_id reaction_groundtruth ec_groundtruth ec_catfam reaction_catfam  \\\n",
       "0     A9JLI2                    -              -         -               -   \n",
       "1     A9JLI3                    -              -         -               -   \n",
       "2     A9JLI5                    -              -         -               -   \n",
       "\n",
       "   isRight_reaction_catfam  \n",
       "0                     True  \n",
       "1                     True  \n",
       "2                     True  "
      ]
     },
     "execution_count": 8,
     "metadata": {},
     "output_type": "execute_result"
    }
   ],
   "source": [
    "# load results\n",
    "catfam = btools.load_catfam_res(resfile=f'/hpcfs/fhome/shizhenkun/codebase/preaction/results240614/baselines/catfam/catfam.txt').rename(columns={'id':'uniprot_id'}) \n",
    "catfam = catfam.fillna('-') # catfam 所有输入进去的序列都可以返回结果，故返回的结果中没有EC号的被认为是非酶\n",
    "catfam = catfam.groupby('uniprot_id').agg({ 'uniprot_id':'first',  'ec_catfam': ';'.join}).reset_index(drop=True)\n",
    "\n",
    "test_catfam = merge_test_set(testset=ds_test, needmergeset=catfam)\n",
    "test_catfam['reaction_catfam']=test_catfam.ec_catfam.parallel_apply(lambda x: cfunc.retrival_reaction_from_ec(ec_pred=x, ec_reaction_map=ec_reaction_map))\n",
    "test_catfam = test_catfam.replace('', 'EC-WITHOUT-REACTION')\n",
    "test_catfam['isRight_reaction_catfam']=test_catfam.parallel_apply(lambda x : caculate_reaction_pred_true(reaction_groundtruth=x.reaction_groundtruth, reaction_pred=x.reaction_catfam), axis=1) # type: ignore\n",
    "\n",
    "test_catfam.to_csv(cfg.FILE_RESULTS_CATFAM, sep='\\t', index=False)\n",
    "\n",
    "test_catfam.head(3)"
   ]
  },
  {
   "attachments": {},
   "cell_type": "markdown",
   "metadata": {},
   "source": [
    "### 3.5 PRIAM"
   ]
  },
  {
   "cell_type": "code",
   "execution_count": 5,
   "metadata": {},
   "outputs": [
    {
     "name": "stdout",
     "output_type": "stream",
     "text": [
      "priam cmd:\n",
      " singularity exec /hpcfs/fpublic/container/singularity/app/priam/priam.sif /opt/jdk1.7.0_80/bin/java -Xmx128G -jar /opt/priam/PRIAM_search.jar -p /opt/priam/PRIAM_JAN18  -i /hpcfs/fhome/shizhenkun/codebase/preaction/data/datasets/task240524/ds_test.fasta -o /hpcfs/fhome/shizhenkun/codebase/preaction/results240614/baselines/priam/ --blast_path /opt/blast-2.2.26/bin -np 100\n",
      " \n"
     ]
    }
   ],
   "source": [
    "priam_res_file = '/hpcfs/fhome/shizhenkun/codebase/preaction/results240614/baselines/priam/'\n",
    "print(f'''priam cmd:\n",
    " singularity exec /hpcfs/fpublic/container/singularity/app/priam/priam.sif /opt/jdk1.7.0_80/bin/java -Xmx128G -jar /opt/priam/PRIAM_search.jar -p /opt/priam/PRIAM_JAN18  -i {input_fasta} -o {priam_res_file} --blast_path /opt/blast-2.2.26/bin -np 100\n",
    " ''')"
   ]
  },
  {
   "cell_type": "code",
   "execution_count": 6,
   "metadata": {},
   "outputs": [
    {
     "data": {
      "text/html": [
       "<div>\n",
       "<style scoped>\n",
       "    .dataframe tbody tr th:only-of-type {\n",
       "        vertical-align: middle;\n",
       "    }\n",
       "\n",
       "    .dataframe tbody tr th {\n",
       "        vertical-align: top;\n",
       "    }\n",
       "\n",
       "    .dataframe thead th {\n",
       "        text-align: right;\n",
       "    }\n",
       "</style>\n",
       "<table border=\"1\" class=\"dataframe\">\n",
       "  <thead>\n",
       "    <tr style=\"text-align: right;\">\n",
       "      <th></th>\n",
       "      <th>uniprot_id</th>\n",
       "      <th>reaction_groundtruth</th>\n",
       "      <th>ec_groundtruth</th>\n",
       "      <th>ec_priam</th>\n",
       "      <th>reaction_priam</th>\n",
       "      <th>isRight_reaction_catfam</th>\n",
       "    </tr>\n",
       "  </thead>\n",
       "  <tbody>\n",
       "    <tr>\n",
       "      <th>0</th>\n",
       "      <td>A9JLI2</td>\n",
       "      <td>-</td>\n",
       "      <td>-</td>\n",
       "      <td>NO-PREDICTION</td>\n",
       "      <td>NO-PREDICTION</td>\n",
       "      <td>False</td>\n",
       "    </tr>\n",
       "    <tr>\n",
       "      <th>1</th>\n",
       "      <td>A9JLI3</td>\n",
       "      <td>-</td>\n",
       "      <td>-</td>\n",
       "      <td>1.14.11.51;2.3.2.27</td>\n",
       "      <td>RHEA:49524</td>\n",
       "      <td>False</td>\n",
       "    </tr>\n",
       "    <tr>\n",
       "      <th>2</th>\n",
       "      <td>A9JLI5</td>\n",
       "      <td>-</td>\n",
       "      <td>-</td>\n",
       "      <td>6.5.1.3</td>\n",
       "      <td>EC-WITHOUT-REACTION</td>\n",
       "      <td>False</td>\n",
       "    </tr>\n",
       "  </tbody>\n",
       "</table>\n",
       "</div>"
      ],
      "text/plain": [
       "  uniprot_id reaction_groundtruth ec_groundtruth             ec_priam  \\\n",
       "0     A9JLI2                    -              -        NO-PREDICTION   \n",
       "1     A9JLI3                    -              -  1.14.11.51;2.3.2.27   \n",
       "2     A9JLI5                    -              -              6.5.1.3   \n",
       "\n",
       "        reaction_priam  isRight_reaction_catfam  \n",
       "0        NO-PREDICTION                    False  \n",
       "1           RHEA:49524                    False  \n",
       "2  EC-WITHOUT-REACTION                    False  "
      ]
     },
     "execution_count": 6,
     "metadata": {},
     "output_type": "execute_result"
    }
   ],
   "source": [
    "# %conda activate DMLF\n",
    "#! rm -rf /home/shizhenkun/codebase/DMLF/baselines/priam/PRIAM_JAN18/PROFILES/LIBRARY\n",
    "#! java -Xmx128G -jar ./PRIAM_search.jar -p /home/shizhenkun/codebase/DMLF/baselines/priam/PRIAM_JAN18 -i /home/shizhenkun/codebase/preaction/data/datasets/ds_test.fasta -o /home/shizhenkun/codebase/preaction/results/baselines/priam/alfp0921 --blast_path /home/shizhenkun/downloads/blast-2.2.26/bin -np 100\n",
    "\n",
    "# load results\n",
    "priam = btools.load_praim_res(resfile=f'{cfg.RESULTS_DIR}baselines/priam/PRIAM_20240708030102/ANNOTATION/sequenceECs.txt').rename(columns={'id':'uniprot_id'})\n",
    "test_priam = merge_test_set(testset=ds_test, needmergeset=priam)\n",
    "test_priam['reaction_priam']=test_priam.ec_priam.parallel_apply(lambda x: btools.retrival_reaction_from_ec(ec_pred=x, ec_reaction_map=ec_reaction_map))\n",
    "test_priam = test_priam.replace('', 'EC-WITHOUT-REACTION')\n",
    "test_priam['isRight_reaction_catfam']=test_priam.parallel_apply(lambda x : caculate_reaction_pred_true(reaction_groundtruth=x.reaction_groundtruth, reaction_pred=x.reaction_priam), axis=1) # type: ignore\n",
    "test_priam.to_csv(cfg.FILE_RESULTS_PRIAM, sep='\\t', index=False)\n",
    "\n",
    "test_priam.head(3)"
   ]
  },
  {
   "attachments": {},
   "cell_type": "markdown",
   "metadata": {},
   "source": [
    "### 3.6 ECPred"
   ]
  },
  {
   "cell_type": "code",
   "execution_count": 28,
   "metadata": {},
   "outputs": [
    {
     "name": "stdout",
     "output_type": "stream",
     "text": [
      "ECpred cmd: \n",
      "singularity exec /hpcfs/fpublic/container/singularity/app/ecpred/ecpred.sif java  -Xmx128G -jar /ECPred/ECPred.jar spmap  /hpcfs/fhome/shizhenkun/codebase/preaction/data/datasets/task240524/ds_test.fasta /ECPred/ /tmp /hpcfs/fhome/shizhenkun/codebase/preaction/results240614/baselines/ecpred/test.txt\n",
      "      \n"
     ]
    }
   ],
   "source": [
    "ECPred_res_file = '/hpcfs/fhome/shizhenkun/codebase/preaction/results240614/baselines/ecpred/test.txt'\n",
    "singularity_ecpred = '/hpcfs/fpublic/container/singularity/app/ecpred/ecpred.sif'\n",
    "print(f'''ECpred cmd: \n",
    "singularity exec {singularity_ecpred} java  -Xmx128G -jar /ECPred/ECPred.jar spmap  {input_fasta} /ECPred/ /tmp {ECPred_res_file}\n",
    "      ''')"
   ]
  },
  {
   "cell_type": "code",
   "execution_count": null,
   "metadata": {},
   "outputs": [],
   "source": [
    "!singularity exec /hpcfs/fpublic/container/singularity/app/ecpred/ecpred.sif  java  -Xmx128G -jar /ECPred/ECPred.jar spmap  /hpcfs/fhome/shizhenkun/codebase/preaction/data/datasets/task240524/ds_test.fasta   /ECPred/  /hpcfs/fhome/shizhenkun/codebase/preaction/temp  /hpcfs/fhome/shizhenkun/codebase/preaction/results240614/baselines/ecpred/test.txt  "
   ]
  },
  {
   "cell_type": "code",
   "execution_count": 18,
   "metadata": {},
   "outputs": [
    {
     "data": {
      "text/html": [
       "<div>\n",
       "<style scoped>\n",
       "    .dataframe tbody tr th:only-of-type {\n",
       "        vertical-align: middle;\n",
       "    }\n",
       "\n",
       "    .dataframe tbody tr th {\n",
       "        vertical-align: top;\n",
       "    }\n",
       "\n",
       "    .dataframe thead th {\n",
       "        text-align: right;\n",
       "    }\n",
       "</style>\n",
       "<table border=\"1\" class=\"dataframe\">\n",
       "  <thead>\n",
       "    <tr style=\"text-align: right;\">\n",
       "      <th></th>\n",
       "      <th>uniprot_id</th>\n",
       "      <th>reaction_groundtruth</th>\n",
       "      <th>ec_groundtruth</th>\n",
       "      <th>ec_ecpred</th>\n",
       "      <th>reaction_ecpred</th>\n",
       "      <th>isRight_reaction_ecpred</th>\n",
       "    </tr>\n",
       "  </thead>\n",
       "  <tbody>\n",
       "    <tr>\n",
       "      <th>0</th>\n",
       "      <td>A9JLI2</td>\n",
       "      <td>-</td>\n",
       "      <td>-</td>\n",
       "      <td>-</td>\n",
       "      <td>-</td>\n",
       "      <td>True</td>\n",
       "    </tr>\n",
       "    <tr>\n",
       "      <th>1</th>\n",
       "      <td>A9JLI3</td>\n",
       "      <td>-</td>\n",
       "      <td>-</td>\n",
       "      <td>-</td>\n",
       "      <td>-</td>\n",
       "      <td>True</td>\n",
       "    </tr>\n",
       "    <tr>\n",
       "      <th>2</th>\n",
       "      <td>A9JLI5</td>\n",
       "      <td>-</td>\n",
       "      <td>-</td>\n",
       "      <td>-</td>\n",
       "      <td>-</td>\n",
       "      <td>True</td>\n",
       "    </tr>\n",
       "  </tbody>\n",
       "</table>\n",
       "</div>"
      ],
      "text/plain": [
       "  uniprot_id reaction_groundtruth ec_groundtruth ec_ecpred reaction_ecpred  \\\n",
       "0     A9JLI2                    -              -         -               -   \n",
       "1     A9JLI3                    -              -         -               -   \n",
       "2     A9JLI5                    -              -         -               -   \n",
       "\n",
       "   isRight_reaction_ecpred  \n",
       "0                     True  \n",
       "1                     True  \n",
       "2                     True  "
      ]
     },
     "execution_count": 18,
     "metadata": {},
     "output_type": "execute_result"
    }
   ],
   "source": [
    "# ! java -Xmx128G -jar /home/shizhenkun/codebase/DMLF/baselines/ECPred/ECPred.jar spmap /home/shizhenkun/codebase/preaction/data/datasets/ds_test.fasta /home/shizhenkun/codebase/DMLF/baselines/ECPred/ /home/shizhenkun/codebase/preaction/temp /home/shizhenkun/codebase/preaction/results/baselines/ecpred/alfp0921.txt\n",
    "# load results\n",
    "ecpred = btools.load_ecpred_res(resfile=f'/hpcfs/fhome/shizhenkun/codebase/preaction/results240614/baselines/ecpred/test.txt')\n",
    "ecpred = ecpred.groupby('id').agg({ 'id':'first',  'ec_ecpred': ';'.join}).reset_index(drop=True).replace('no Prediction', 'NO-PREDICTION').rename(columns={'id':'uniprot_id'})\n",
    "\n",
    "test_ecpred = merge_test_set(testset=ds_test, needmergeset=ecpred)\n",
    "test_ecpred['reaction_ecpred']=test_ecpred.ec_ecpred.parallel_apply(lambda x: btools.retrival_reaction_from_ec(ec_pred=x, ec_reaction_map=ec_reaction_map))\n",
    "test_ecpred = test_ecpred.replace('', 'EC-WITHOUT-REACTION')\n",
    "test_ecpred['isRight_reaction_ecpred']=test_ecpred.parallel_apply(lambda x : caculate_reaction_pred_true(reaction_groundtruth=x.reaction_groundtruth, reaction_pred=x.reaction_ecpred), axis=1) # type: ignore\n",
    "\n",
    "test_ecpred.to_csv(cfg.FILE_RESULTS_ECPRED, sep='\\t', index=False)\n",
    "test_ecpred.head(3)\n"
   ]
  },
  {
   "cell_type": "markdown",
   "metadata": {},
   "source": [
    "### 3.7 Blast"
   ]
  },
  {
   "cell_type": "code",
   "execution_count": 7,
   "metadata": {},
   "outputs": [
    {
     "data": {
      "text/html": [
       "<div>\n",
       "<style scoped>\n",
       "    .dataframe tbody tr th:only-of-type {\n",
       "        vertical-align: middle;\n",
       "    }\n",
       "\n",
       "    .dataframe tbody tr th {\n",
       "        vertical-align: top;\n",
       "    }\n",
       "\n",
       "    .dataframe thead th {\n",
       "        text-align: right;\n",
       "    }\n",
       "</style>\n",
       "<table border=\"1\" class=\"dataframe\">\n",
       "  <thead>\n",
       "    <tr style=\"text-align: right;\">\n",
       "      <th></th>\n",
       "      <th>uniprot_id</th>\n",
       "      <th>reaction_groundtruth</th>\n",
       "      <th>ec_groundtruth</th>\n",
       "      <th>ec_ecblast</th>\n",
       "      <th>reaction_ecblast</th>\n",
       "    </tr>\n",
       "  </thead>\n",
       "  <tbody>\n",
       "    <tr>\n",
       "      <th>0</th>\n",
       "      <td>A9JLI2</td>\n",
       "      <td>-</td>\n",
       "      <td>-</td>\n",
       "      <td>-</td>\n",
       "      <td>-</td>\n",
       "    </tr>\n",
       "    <tr>\n",
       "      <th>1</th>\n",
       "      <td>A9JLI3</td>\n",
       "      <td>-</td>\n",
       "      <td>-</td>\n",
       "      <td>-</td>\n",
       "      <td>-</td>\n",
       "    </tr>\n",
       "    <tr>\n",
       "      <th>2</th>\n",
       "      <td>A9JLI5</td>\n",
       "      <td>-</td>\n",
       "      <td>-</td>\n",
       "      <td>-</td>\n",
       "      <td>-</td>\n",
       "    </tr>\n",
       "  </tbody>\n",
       "</table>\n",
       "</div>"
      ],
      "text/plain": [
       "  uniprot_id reaction_groundtruth ec_groundtruth ec_ecblast reaction_ecblast\n",
       "0     A9JLI2                    -              -          -                -\n",
       "1     A9JLI3                    -              -          -                -\n",
       "2     A9JLI5                    -              -          -                -"
      ]
     },
     "execution_count": 7,
     "metadata": {},
     "output_type": "execute_result"
    }
   ],
   "source": [
    "#trainning set\n",
    "ds_train = pd.read_feather(cfg.FILE_DS_TRAIN)\n",
    "\n",
    "#blsting test set\n",
    "blast_res_ec = bfl.getblast(train=ds_train[['uniprot_id', 'seq']], test=ds_test[['uniprot_id', 'seq']], k=1)    \n",
    "blast_res_ec= blast_res_ec[['id','sseqid']].merge(ds_train[['uniprot_id', 'ec_number']], left_on='sseqid', right_on='uniprot_id', how='left')[['id','ec_number']].rename(columns={'id':'uniprot_id', 'ec_number':'ec_ecblast'})\n",
    "#拼合test，加入无预测结果的数据\n",
    "blast_res_ec=ds_test[['uniprot_id', 'reaction_id','ec_number']].rename(columns={'reaction_id':'reaction_groundtruth', 'ec_number': 'ec_groundtruth'}).merge(blast_res_ec, on='uniprot_id', how='left').fillna('NO-PREDICTION')\n",
    "#add rxn info\n",
    "blast_res_ec['reaction_ecblast']=blast_res_ec.ec_ecblast.parallel_apply(lambda x: btools.retrival_reaction_from_ec(ec_pred=x, ec_reaction_map=ec_reaction_map))\n",
    "\n",
    "blast_res_ec.to_csv(cfg.FILE_RESULTS_BLAST_EC,sep='\\t', index=False)\n",
    "\n",
    "blast_res_ec.head(3)"
   ]
  },
  {
   "cell_type": "code",
   "execution_count": 3,
   "metadata": {},
   "outputs": [
    {
     "data": {
      "text/plain": [
       "'/hpcfs/fhome/shizhenkun/codebase/RXNRECer/results/baselines/exp_test_ecpred.tsv'"
      ]
     },
     "execution_count": 3,
     "metadata": {},
     "output_type": "execute_result"
    }
   ],
   "source": [
    "cfg.FILE_RESULTS_ECPRED"
   ]
  }
 ],
 "metadata": {
  "kernelspec": {
   "display_name": "rxnrecer",
   "language": "python",
   "name": "rxnrecer"
  },
  "language_info": {
   "codemirror_mode": {
    "name": "ipython",
    "version": 3
   },
   "file_extension": ".py",
   "mimetype": "text/x-python",
   "name": "python",
   "nbconvert_exporter": "python",
   "pygments_lexer": "ipython3",
   "version": "3.10.14"
  },
  "orig_nbformat": 4
 },
 "nbformat": 4,
 "nbformat_minor": 2
}
