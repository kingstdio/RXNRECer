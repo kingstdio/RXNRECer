{
 "cells": [
  {
   "attachments": {},
   "cell_type": "markdown",
   "metadata": {},
   "source": [
    "# 基准方法：基于序列比对的反应推荐\n",
    "> zhenkun.shi@tib.cas.cn  \n",
    "> 2024-07-04\n",
    "\n",
    "Basline methods by using sequence aligmnet method.   \n",
    "\n",
    "## 1. Import Packages"
   ]
  },
  {
   "cell_type": "code",
   "execution_count": 4,
   "metadata": {},
   "outputs": [
    {
     "name": "stdout",
     "output_type": "stream",
     "text": [
      "INFO: Pandarallel will run on 128 workers.\n",
      "INFO: Pandarallel will use Memory file system to transfer data between the main process and workers.\n",
      "The autoreload extension is already loaded. To reload it, use:\n",
      "  %reload_ext autoreload\n"
     ]
    }
   ],
   "source": [
    "import sys,os\n",
    "\n",
    "from sympy import im\n",
    "sys.path.insert(0, os.path.dirname(os.path.realpath('__file__')))\n",
    "sys.path.insert(1,'../')\n",
    "import pandas as pd\n",
    "from config import conf as cfg\n",
    "import tools.bioFunctionLib as bfl\n",
    "from tools import commonfunction as cmfunc\n",
    "from tkinter import _flatten # type: ignore\n",
    "from pandarallel import pandarallel \n",
    "pandarallel.initialize() \n",
    "\n",
    "%load_ext autoreload\n",
    "%autoreload 2"
   ]
  },
  {
   "cell_type": "code",
   "execution_count": 2,
   "metadata": {},
   "outputs": [],
   "source": [
    "def caculate_reaction_pred_true(reaction_groundtruth, reaction_pred):\n",
    "    set_ground = set(reaction_groundtruth.split(';'))\n",
    "    set_pred = set(reaction_pred.split(';'))\n",
    "\n",
    "    if set_ground == set_pred:\n",
    "        return True\n",
    "    else:\n",
    "        return False"
   ]
  },
  {
   "attachments": {},
   "cell_type": "markdown",
   "metadata": {},
   "source": [
    "## 2. Load expdata"
   ]
  },
  {
   "cell_type": "code",
   "execution_count": 3,
   "metadata": {},
   "outputs": [
    {
     "data": {
      "text/html": [
       "<div>\n",
       "<style scoped>\n",
       "    .dataframe tbody tr th:only-of-type {\n",
       "        vertical-align: middle;\n",
       "    }\n",
       "\n",
       "    .dataframe tbody tr th {\n",
       "        vertical-align: top;\n",
       "    }\n",
       "\n",
       "    .dataframe thead th {\n",
       "        text-align: right;\n",
       "    }\n",
       "</style>\n",
       "<table border=\"1\" class=\"dataframe\">\n",
       "  <thead>\n",
       "    <tr style=\"text-align: right;\">\n",
       "      <th></th>\n",
       "      <th>uniprot_id</th>\n",
       "      <th>seq</th>\n",
       "      <th>reaction_id</th>\n",
       "      <th>ec_number</th>\n",
       "      <th>functionCounts</th>\n",
       "      <th>ec_specific_level</th>\n",
       "      <th>isenzyme</th>\n",
       "      <th>label</th>\n",
       "    </tr>\n",
       "  </thead>\n",
       "  <tbody>\n",
       "    <tr>\n",
       "      <th>0</th>\n",
       "      <td>Q6GZX4</td>\n",
       "      <td>MAFSAEDVLKEYDRRRRMEALLLSLYYPNDRKLLDYKEWSPPRVQV...</td>\n",
       "      <td>-</td>\n",
       "      <td>-</td>\n",
       "      <td>0</td>\n",
       "      <td>0</td>\n",
       "      <td>False</td>\n",
       "      <td>[0, 0, 0, 0, 0, 0, 0, 0, 0, 0, 0, 0, 0, 0, 0, ...</td>\n",
       "    </tr>\n",
       "    <tr>\n",
       "      <th>1</th>\n",
       "      <td>Q6GZX3</td>\n",
       "      <td>MSIIGATRLQNDKSDTYSAGPCYAGGCSAFTPRGTCGKDWDLGEQT...</td>\n",
       "      <td>-</td>\n",
       "      <td>-</td>\n",
       "      <td>0</td>\n",
       "      <td>0</td>\n",
       "      <td>False</td>\n",
       "      <td>[0, 0, 0, 0, 0, 0, 0, 0, 0, 0, 0, 0, 0, 0, 0, ...</td>\n",
       "    </tr>\n",
       "    <tr>\n",
       "      <th>2</th>\n",
       "      <td>Q197F8</td>\n",
       "      <td>MASNTVSAQGGSNRPVRDFSNIQDVAQFLLFDPIWNEQPGSIVPWK...</td>\n",
       "      <td>-</td>\n",
       "      <td>-</td>\n",
       "      <td>0</td>\n",
       "      <td>0</td>\n",
       "      <td>False</td>\n",
       "      <td>[0, 0, 0, 0, 0, 0, 0, 0, 0, 0, 0, 0, 0, 0, 0, ...</td>\n",
       "    </tr>\n",
       "  </tbody>\n",
       "</table>\n",
       "</div>"
      ],
      "text/plain": [
       "  uniprot_id                                                seq reaction_id  \\\n",
       "0     Q6GZX4  MAFSAEDVLKEYDRRRRMEALLLSLYYPNDRKLLDYKEWSPPRVQV...           -   \n",
       "1     Q6GZX3  MSIIGATRLQNDKSDTYSAGPCYAGGCSAFTPRGTCGKDWDLGEQT...           -   \n",
       "2     Q197F8  MASNTVSAQGGSNRPVRDFSNIQDVAQFLLFDPIWNEQPGSIVPWK...           -   \n",
       "\n",
       "  ec_number  functionCounts  ec_specific_level  isenzyme  \\\n",
       "0         -               0                  0     False   \n",
       "1         -               0                  0     False   \n",
       "2         -               0                  0     False   \n",
       "\n",
       "                                               label  \n",
       "0  [0, 0, 0, 0, 0, 0, 0, 0, 0, 0, 0, 0, 0, 0, 0, ...  \n",
       "1  [0, 0, 0, 0, 0, 0, 0, 0, 0, 0, 0, 0, 0, 0, 0, ...  \n",
       "2  [0, 0, 0, 0, 0, 0, 0, 0, 0, 0, 0, 0, 0, 0, 0, ...  "
      ]
     },
     "execution_count": 3,
     "metadata": {},
     "output_type": "execute_result"
    }
   ],
   "source": [
    "ds_train = pd.read_feather(cfg.FILE_DS_TRAIN)\n",
    "ds_test = pd.read_feather(cfg.FILE_DS_TEST)\n",
    "\n",
    "train = ds_train[['uniprot_id','reaction_id','seq',]].rename(columns={'reaction_id':'reaction_groundtruth'})\n",
    "test = ds_test[['uniprot_id','reaction_id','seq',]].rename(columns={'reaction_id':'reaction_groundtruth'})\n",
    "\n",
    "#add reaction data\n",
    "ds_rhea = pd.read_feather(cfg.FILE_DS_RHEA_REACTIONS)\n",
    "\n",
    "# caculate reaction_id ec_number map\n",
    "ec_reaction_map = ds_rhea[['reaction_id', 'ec_number']].copy()\n",
    "ec_reaction_map = ec_reaction_map.fillna('-')\n",
    "ec_reaction_map.ec_number = ec_reaction_map.ec_number.apply(lambda x: x.replace('EC:',''))\n",
    "ec_reaction_map = ec_reaction_map.assign(ec_number=ec_reaction_map['ec_number'].str.split(';')).explode('ec_number').reset_index(drop=True).rename(columns={'ec_number': 'ec'})\n",
    "ec_reaction_map = ec_reaction_map[ec_reaction_map.ec!='-'].reset_index(drop=True)\n",
    "\n",
    "ds_train.head(3)"
   ]
  },
  {
   "attachments": {},
   "cell_type": "markdown",
   "metadata": {},
   "source": [
    "## 3. Blast - Direct"
   ]
  },
  {
   "cell_type": "code",
   "execution_count": 4,
   "metadata": {},
   "outputs": [
    {
     "data": {
      "text/html": [
       "<div>\n",
       "<style scoped>\n",
       "    .dataframe tbody tr th:only-of-type {\n",
       "        vertical-align: middle;\n",
       "    }\n",
       "\n",
       "    .dataframe tbody tr th {\n",
       "        vertical-align: top;\n",
       "    }\n",
       "\n",
       "    .dataframe thead th {\n",
       "        text-align: right;\n",
       "    }\n",
       "</style>\n",
       "<table border=\"1\" class=\"dataframe\">\n",
       "  <thead>\n",
       "    <tr style=\"text-align: right;\">\n",
       "      <th></th>\n",
       "      <th>uniprot_id</th>\n",
       "      <th>reaction_groundtruth</th>\n",
       "      <th>reaction_blast</th>\n",
       "    </tr>\n",
       "  </thead>\n",
       "  <tbody>\n",
       "    <tr>\n",
       "      <th>0</th>\n",
       "      <td>A9JLI2</td>\n",
       "      <td>-</td>\n",
       "      <td>-</td>\n",
       "    </tr>\n",
       "    <tr>\n",
       "      <th>1</th>\n",
       "      <td>A9JLI3</td>\n",
       "      <td>-</td>\n",
       "      <td>-</td>\n",
       "    </tr>\n",
       "    <tr>\n",
       "      <th>2</th>\n",
       "      <td>A9JLI5</td>\n",
       "      <td>-</td>\n",
       "      <td>-</td>\n",
       "    </tr>\n",
       "  </tbody>\n",
       "</table>\n",
       "</div>"
      ],
      "text/plain": [
       "  uniprot_id reaction_groundtruth reaction_blast\n",
       "0     A9JLI2                    -              -\n",
       "1     A9JLI3                    -              -\n",
       "2     A9JLI5                    -              -"
      ]
     },
     "execution_count": 4,
     "metadata": {},
     "output_type": "execute_result"
    }
   ],
   "source": [
    "blast_res = bfl.getblast(train=train[['uniprot_id', 'seq']], test=test[['uniprot_id', 'seq']], k=1)         # 序列比对\n",
    "blast_res = blast_res.merge(train, left_on='sseqid', right_on='uniprot_id', how='left')[['id', 'reaction_groundtruth']].rename(columns={'id':'uniprot_id', 'reaction_groundtruth':'reaction_blast'})\n",
    "blast_res = test[['uniprot_id', 'reaction_groundtruth']].merge(blast_res, on='uniprot_id', how='left').fillna('NO-PREDICTION')\n",
    "blast_res.head(3)"
   ]
  },
  {
   "attachments": {},
   "cell_type": "markdown",
   "metadata": {},
   "source": [
    "## 4. 保存结果文件"
   ]
  },
  {
   "cell_type": "code",
   "execution_count": 5,
   "metadata": {},
   "outputs": [],
   "source": [
    "blast_res.to_csv(cfg.FILE_RESULTS_BLAST_DIRECT, sep='\\t', index=False)"
   ]
  }
 ],
 "metadata": {
  "kernelspec": {
   "display_name": "treaction",
   "language": "python",
   "name": "treaction"
  },
  "language_info": {
   "codemirror_mode": {
    "name": "ipython",
    "version": 3
   },
   "file_extension": ".py",
   "mimetype": "text/x-python",
   "name": "python",
   "nbconvert_exporter": "python",
   "pygments_lexer": "ipython3",
   "version": "3.10.13"
  },
  "orig_nbformat": 4
 },
 "nbformat": 4,
 "nbformat_minor": 2
}
