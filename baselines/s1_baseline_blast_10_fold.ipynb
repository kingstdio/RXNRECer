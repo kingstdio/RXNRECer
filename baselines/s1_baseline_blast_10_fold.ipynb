{
 "cells": [
  {
   "attachments": {},
   "cell_type": "markdown",
   "metadata": {},
   "source": [
    "# 基准方法：基于序列比对的反应推荐\n",
    "> zhenkun.shi@tib.cas.cn  \n",
    "> 2024-11-08\n",
    "\n",
    "Basline methods by using sequence aligmnet method.   \n",
    "\n",
    "## 1. Import Packages"
   ]
  },
  {
   "cell_type": "code",
   "execution_count": 7,
   "metadata": {},
   "outputs": [
    {
     "name": "stdout",
     "output_type": "stream",
     "text": [
      "INFO: Pandarallel will run on 128 workers.\n",
      "INFO: Pandarallel will use Memory file system to transfer data between the main process and workers.\n"
     ]
    }
   ],
   "source": [
    "import sys,os\n",
    "sys.path.insert(0, os.path.dirname(os.path.realpath('__file__')))\n",
    "sys.path.insert(1,'../')\n",
    "import pandas as pd\n",
    "from config import conf as cfg\n",
    "from tqdm.notebook import tqdm\n",
    "import tools.bioFunctionLib as bfl\n",
    "from pandarallel import pandarallel \n",
    "pandarallel.initialize() \n",
    "\n",
    "%load_ext autoreload\n",
    "%autoreload 2"
   ]
  },
  {
   "attachments": {},
   "cell_type": "markdown",
   "metadata": {},
   "source": [
    "## 2. Load expdata - 10 folds"
   ]
  },
  {
   "cell_type": "code",
   "execution_count": 8,
   "metadata": {},
   "outputs": [
    {
     "name": "stdout",
     "output_type": "stream",
     "text": [
      "Loading trainning datasets feather path ...\n",
      "Loading validation datasets feather path ...\n",
      "Loading EC2RXN map...\n"
     ]
    }
   ],
   "source": [
    "print('Loading trainning datasets feather path ...')\n",
    "train_feather_files =[\n",
    "    f'{cfg.DIR_DATASET}validation/fold{fold_index}/train.feather'\n",
    "    for fold_index in range(1,11)\n",
    "]\n",
    "\n",
    "print('Loading validation datasets feather path ...')\n",
    "vali_feather_files = [\n",
    "    f'{cfg.DIR_DATASET}validation/fold{fold_index}/valid.feather' \n",
    "    for fold_index in range(1, 11)\n",
    "]\n",
    "\n",
    "vali_res_blast = [\n",
    "    f'{cfg.DIR_RES_BASELINE}results/direct_methods/blast/fold{item}.tsv' \n",
    "    for item in range(1, 11)\n",
    "]\n",
    "\n",
    "print('Loading EC2RXN map...')"
   ]
  },
  {
   "attachments": {},
   "cell_type": "markdown",
   "metadata": {},
   "source": [
    "## 3. Blast - Direct"
   ]
  },
  {
   "cell_type": "code",
   "execution_count": 9,
   "metadata": {},
   "outputs": [],
   "source": [
    "def blast_via_train_test(ds_train, ds_test):\n",
    "    blast_res_rxn = bfl.getblast(train=ds_train[['uniprot_id', 'seq']], test=ds_test[['uniprot_id', 'seq']], k=30)\n",
    "    blast_res_rxn= blast_res_rxn[['id','sseqid']].merge(ds_train[['uniprot_id', 'reaction_id']], left_on='sseqid', right_on='uniprot_id', how='left')[['id','reaction_id']].rename(columns={'id':'uniprot_id', 'reaction_id':'rxn_blast'})\n",
    "    blast_res_rxn = blast_res_rxn.groupby('uniprot_id', as_index=False).agg({'rxn_blast': lambda x: ';'.join(set(x))})\n",
    "    return blast_res_rxn"
   ]
  },
  {
   "cell_type": "code",
   "execution_count": 10,
   "metadata": {},
   "outputs": [
    {
     "data": {
      "application/vnd.jupyter.widget-view+json": {
       "model_id": "0c975dd19e2d4ef3933fe66742a318a4",
       "version_major": 2,
       "version_minor": 0
      },
      "text/plain": [
       "  0%|          | 0/10 [00:00<?, ?it/s]"
      ]
     },
     "metadata": {},
     "output_type": "display_data"
    }
   ],
   "source": [
    "for i in tqdm(range(10)):\n",
    "    ds_train = pd.read_feather(train_feather_files[i])\n",
    "    ds_test = pd.read_feather(vali_feather_files[i])\n",
    "    blast_res_rxn =  blast_via_train_test(ds_train, ds_test)\n",
    "    blast_res_rxn = ds_test[['uniprot_id']].merge(blast_res_rxn, on='uniprot_id', how='left').fillna('NO-PREDICTION')\n",
    "    blast_res_rxn.to_csv(f'{vali_res_blast[i]}', sep='\\t', index=False)"
   ]
  },
  {
   "cell_type": "code",
   "execution_count": null,
   "metadata": {},
   "outputs": [],
   "source": []
  },
  {
   "cell_type": "code",
   "execution_count": null,
   "metadata": {},
   "outputs": [],
   "source": []
  }
 ],
 "metadata": {
  "kernelspec": {
   "display_name": "Python 3",
   "language": "python",
   "name": "python3"
  },
  "language_info": {
   "codemirror_mode": {
    "name": "ipython",
    "version": 3
   },
   "file_extension": ".py",
   "mimetype": "text/x-python",
   "name": "python",
   "nbconvert_exporter": "python",
   "pygments_lexer": "ipython3",
   "version": "3.10.14"
  },
  "orig_nbformat": 4
 },
 "nbformat": 4,
 "nbformat_minor": 2
}
