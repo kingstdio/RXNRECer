{
 "cells": [
  {
   "cell_type": "markdown",
   "metadata": {},
   "source": [
    "# 修正RHEA中的反应\n",
    "> zhenkun.shi@tib.cas.cn   \n",
    "> 2024-09-23"
   ]
  },
  {
   "cell_type": "code",
   "execution_count": 1,
   "metadata": {},
   "outputs": [
    {
     "name": "stdout",
     "output_type": "stream",
     "text": [
      "INFO: Pandarallel will run on 128 workers.\n",
      "INFO: Pandarallel will use Memory file system to transfer data between the main process and workers.\n"
     ]
    }
   ],
   "source": [
    "import sys,os\n",
    "sys.path.insert(0, os.path.dirname(os.path.realpath('__file__')))\n",
    "sys.path.insert(1,'../../')\n",
    "from config import conf as cfg\n",
    "from tools import filetool as ftool\n",
    "from tools import bioFunctionLib as bfl\n",
    "from tools import uniprottool as uptool\n",
    "import numpy as np\n",
    "from modules.rxn.Reaction import Reaction\n",
    "from modules.rxn.Molecule import Molecule\n",
    "from tools import ectool as etool\n",
    "from IPython.display import display_markdown, HTML, SVG\n",
    "from pandarallel import pandarallel # 导入pandaralle\n",
    "pandarallel.initialize(progress_bar=False)\n",
    "from tkinter import _flatten\n",
    "import json\n",
    "import pandas as pd\n",
    "\n",
    "FIRST_TIME_RUN = False # For the initial run, please set this flag to True. This will allow the program to download data from UniProt and RHEA, which may take longer depending on your internet speed.\n",
    "\n",
    "%load_ext autoreload\n",
    "%autoreload 2"
   ]
  },
  {
   "cell_type": "markdown",
   "metadata": {},
   "source": [
    "## 1. 读取原始文件"
   ]
  },
  {
   "cell_type": "code",
   "execution_count": 2,
   "metadata": {},
   "outputs": [
    {
     "data": {
      "text/html": [
       "<div>\n",
       "<style scoped>\n",
       "    .dataframe tbody tr th:only-of-type {\n",
       "        vertical-align: middle;\n",
       "    }\n",
       "\n",
       "    .dataframe tbody tr th {\n",
       "        vertical-align: top;\n",
       "    }\n",
       "\n",
       "    .dataframe thead th {\n",
       "        text-align: right;\n",
       "    }\n",
       "</style>\n",
       "<table border=\"1\" class=\"dataframe\">\n",
       "  <thead>\n",
       "    <tr style=\"text-align: right;\">\n",
       "      <th></th>\n",
       "      <th>reaction_id</th>\n",
       "      <th>equation</th>\n",
       "      <th>chebi_id</th>\n",
       "      <th>ec_number</th>\n",
       "      <th>equation_chebi</th>\n",
       "      <th>equation_smiles</th>\n",
       "      <th>equation_chebi_balanced</th>\n",
       "    </tr>\n",
       "  </thead>\n",
       "  <tbody>\n",
       "    <tr>\n",
       "      <th>0</th>\n",
       "      <td>RHEA:22636</td>\n",
       "      <td>dCTP + H2O = dCMP + diphosphate + H(+)</td>\n",
       "      <td>CHEBI:61481;CHEBI:15377;CHEBI:57566;CHEBI:3301...</td>\n",
       "      <td>EC:3.6.1.9;EC:3.6.1.12;EC:3.6.1.65</td>\n",
       "      <td>CHEBI:61481 + CHEBI:15377 = CHEBI:57566 + CHEB...</td>\n",
       "      <td>Nc1ccn([C@H]2C[C@H](O)[C@@H](COP([O-])(=O)OP([...</td>\n",
       "      <td>CHEBI:61481 + CHEBI:15377 = CHEBI:57566 + CHEB...</td>\n",
       "    </tr>\n",
       "    <tr>\n",
       "      <th>1</th>\n",
       "      <td>RHEA:22640</td>\n",
       "      <td>NADP(+) + sphinganine = 3-oxosphinganine + H(+...</td>\n",
       "      <td>CHEBI:58349;CHEBI:57817;CHEBI:58299;CHEBI:1537...</td>\n",
       "      <td>EC:1.1.1.102</td>\n",
       "      <td>CHEBI:58349 + CHEBI:57817 = CHEBI:58299 + CHEB...</td>\n",
       "      <td>NC(=O)c1ccc[n+](c1)[C@@H]1O[C@H](COP([O-])(=O)...</td>\n",
       "      <td>CHEBI:58349 + CHEBI:57817 = CHEBI:58299 + CHEB...</td>\n",
       "    </tr>\n",
       "  </tbody>\n",
       "</table>\n",
       "</div>"
      ],
      "text/plain": [
       "  reaction_id                                           equation  \\\n",
       "0  RHEA:22636             dCTP + H2O = dCMP + diphosphate + H(+)   \n",
       "1  RHEA:22640  NADP(+) + sphinganine = 3-oxosphinganine + H(+...   \n",
       "\n",
       "                                            chebi_id  \\\n",
       "0  CHEBI:61481;CHEBI:15377;CHEBI:57566;CHEBI:3301...   \n",
       "1  CHEBI:58349;CHEBI:57817;CHEBI:58299;CHEBI:1537...   \n",
       "\n",
       "                            ec_number  \\\n",
       "0  EC:3.6.1.9;EC:3.6.1.12;EC:3.6.1.65   \n",
       "1                        EC:1.1.1.102   \n",
       "\n",
       "                                      equation_chebi  \\\n",
       "0  CHEBI:61481 + CHEBI:15377 = CHEBI:57566 + CHEB...   \n",
       "1  CHEBI:58349 + CHEBI:57817 = CHEBI:58299 + CHEB...   \n",
       "\n",
       "                                     equation_smiles  \\\n",
       "0  Nc1ccn([C@H]2C[C@H](O)[C@@H](COP([O-])(=O)OP([...   \n",
       "1  NC(=O)c1ccc[n+](c1)[C@@H]1O[C@H](COP([O-])(=O)...   \n",
       "\n",
       "                             equation_chebi_balanced  \n",
       "0  CHEBI:61481 + CHEBI:15377 = CHEBI:57566 + CHEB...  \n",
       "1  CHEBI:58349 + CHEBI:57817 = CHEBI:58299 + CHEB...  "
      ]
     },
     "execution_count": 2,
     "metadata": {},
     "output_type": "execute_result"
    }
   ],
   "source": [
    "ds_rxn = pd.read_feather(cfg.FILE_DS_RHEA_REACTIONS)\n",
    "ds_rxn.head(2)"
   ]
  },
  {
   "cell_type": "markdown",
   "metadata": {},
   "source": [
    "## 2.  配平CHEBI 反应方程式"
   ]
  },
  {
   "cell_type": "code",
   "execution_count": 61,
   "metadata": {},
   "outputs": [],
   "source": [
    "def balance_rhea_chebi_equation(rxn_id, rxn_smiles, rxn_equation, rxn_equation_ref_chebi, rxn_ec):\n",
    "    rxn = Reaction( rxn_id = rxn_id,\n",
    "                    rxn_smiles = rxn_smiles,\n",
    "                    rxn_equation = rxn_equation,\n",
    "                    rxn_equation_ref_chebi = rxn_equation_ref_chebi,\n",
    "                    rxn_ec = rxn_ec)\n",
    "    res =rxn.get_balanced_equation(res_type='ref_chebi')\n",
    "    \n",
    "    return res\n",
    "    "
   ]
  },
  {
   "cell_type": "code",
   "execution_count": 63,
   "metadata": {},
   "outputs": [],
   "source": [
    "ds_rxn['equation_chebi']= ds_rxn.apply(lambda x:balance_rhea_chebi_equation(rxn_id=x.reaction_id, \n",
    "                                                           rxn_smiles=x.equation_smiles,\n",
    "                                                           rxn_equation = x.equation,\n",
    "                                                           rxn_equation_ref_chebi=x.equation_chebi,\n",
    "                                                           rxn_ec=x.ec_number\n",
    "                                                           ), axis=1)"
   ]
  },
  {
   "cell_type": "code",
   "execution_count": 64,
   "metadata": {},
   "outputs": [
    {
     "data": {
      "text/html": [
       "<div>\n",
       "<style scoped>\n",
       "    .dataframe tbody tr th:only-of-type {\n",
       "        vertical-align: middle;\n",
       "    }\n",
       "\n",
       "    .dataframe tbody tr th {\n",
       "        vertical-align: top;\n",
       "    }\n",
       "\n",
       "    .dataframe thead th {\n",
       "        text-align: right;\n",
       "    }\n",
       "</style>\n",
       "<table border=\"1\" class=\"dataframe\">\n",
       "  <thead>\n",
       "    <tr style=\"text-align: right;\">\n",
       "      <th></th>\n",
       "      <th>reaction_id</th>\n",
       "      <th>equation</th>\n",
       "      <th>chebi_id</th>\n",
       "      <th>ec_number</th>\n",
       "      <th>equation_chebi</th>\n",
       "      <th>equation_smiles</th>\n",
       "      <th>equation_chebi_balanced</th>\n",
       "    </tr>\n",
       "  </thead>\n",
       "  <tbody>\n",
       "    <tr>\n",
       "      <th>0</th>\n",
       "      <td>RHEA:22636</td>\n",
       "      <td>dCTP + H2O = dCMP + diphosphate + H(+)</td>\n",
       "      <td>CHEBI:61481;CHEBI:15377;CHEBI:57566;CHEBI:3301...</td>\n",
       "      <td>EC:3.6.1.9;EC:3.6.1.12;EC:3.6.1.65</td>\n",
       "      <td>CHEBI:61481 + CHEBI:15377 = CHEBI:57566 + CHEB...</td>\n",
       "      <td>Nc1ccn([C@H]2C[C@H](O)[C@@H](COP([O-])(=O)OP([...</td>\n",
       "      <td>CHEBI:61481 + CHEBI:15377 = CHEBI:57566 + CHEB...</td>\n",
       "    </tr>\n",
       "    <tr>\n",
       "      <th>1</th>\n",
       "      <td>RHEA:22640</td>\n",
       "      <td>NADP(+) + sphinganine = 3-oxosphinganine + H(+...</td>\n",
       "      <td>CHEBI:58349;CHEBI:57817;CHEBI:58299;CHEBI:1537...</td>\n",
       "      <td>EC:1.1.1.102</td>\n",
       "      <td>CHEBI:58349 + CHEBI:57817 = CHEBI:58299 + CHEB...</td>\n",
       "      <td>NC(=O)c1ccc[n+](c1)[C@@H]1O[C@H](COP([O-])(=O)...</td>\n",
       "      <td>CHEBI:58349 + CHEBI:57817 = CHEBI:58299 + CHEB...</td>\n",
       "    </tr>\n",
       "    <tr>\n",
       "      <th>2</th>\n",
       "      <td>RHEA:22644</td>\n",
       "      <td>O2 + protopine + reduced [NADPH--hemoprotein r...</td>\n",
       "      <td>CHEBI:15379;CHEBI:16415;CHEBI:57618;CHEBI:1710...</td>\n",
       "      <td>EC:1.14.14.98</td>\n",
       "      <td>CHEBI:15379 + CHEBI:16415 + CHEBI:57618 = CHEB...</td>\n",
       "      <td>O=O.CN1CCc2cc3OCOc3cc2C(=O)Cc2ccc3OCOc3c2C1.Cc...</td>\n",
       "      <td>CHEBI:15379 + CHEBI:16415 + CHEBI:57618 = CHEB...</td>\n",
       "    </tr>\n",
       "  </tbody>\n",
       "</table>\n",
       "</div>"
      ],
      "text/plain": [
       "  reaction_id                                           equation  \\\n",
       "0  RHEA:22636             dCTP + H2O = dCMP + diphosphate + H(+)   \n",
       "1  RHEA:22640  NADP(+) + sphinganine = 3-oxosphinganine + H(+...   \n",
       "2  RHEA:22644  O2 + protopine + reduced [NADPH--hemoprotein r...   \n",
       "\n",
       "                                            chebi_id  \\\n",
       "0  CHEBI:61481;CHEBI:15377;CHEBI:57566;CHEBI:3301...   \n",
       "1  CHEBI:58349;CHEBI:57817;CHEBI:58299;CHEBI:1537...   \n",
       "2  CHEBI:15379;CHEBI:16415;CHEBI:57618;CHEBI:1710...   \n",
       "\n",
       "                            ec_number  \\\n",
       "0  EC:3.6.1.9;EC:3.6.1.12;EC:3.6.1.65   \n",
       "1                        EC:1.1.1.102   \n",
       "2                       EC:1.14.14.98   \n",
       "\n",
       "                                      equation_chebi  \\\n",
       "0  CHEBI:61481 + CHEBI:15377 = CHEBI:57566 + CHEB...   \n",
       "1  CHEBI:58349 + CHEBI:57817 = CHEBI:58299 + CHEB...   \n",
       "2  CHEBI:15379 + CHEBI:16415 + CHEBI:57618 = CHEB...   \n",
       "\n",
       "                                     equation_smiles  \\\n",
       "0  Nc1ccn([C@H]2C[C@H](O)[C@@H](COP([O-])(=O)OP([...   \n",
       "1  NC(=O)c1ccc[n+](c1)[C@@H]1O[C@H](COP([O-])(=O)...   \n",
       "2  O=O.CN1CCc2cc3OCOc3cc2C(=O)Cc2ccc3OCOc3c2C1.Cc...   \n",
       "\n",
       "                             equation_chebi_balanced  \n",
       "0  CHEBI:61481 + CHEBI:15377 = CHEBI:57566 + CHEB...  \n",
       "1  CHEBI:58349 + CHEBI:57817 = CHEBI:58299 + CHEB...  \n",
       "2  CHEBI:15379 + CHEBI:16415 + CHEBI:57618 = CHEB...  "
      ]
     },
     "execution_count": 64,
     "metadata": {},
     "output_type": "execute_result"
    }
   ],
   "source": [
    "ds_rxn.head(3)"
   ]
  },
  {
   "cell_type": "code",
   "execution_count": 69,
   "metadata": {},
   "outputs": [],
   "source": [
    "ds_rxn.to_feather(cfg.FILE_DS_RHEA_REACTIONS)"
   ]
  }
 ],
 "metadata": {
  "kernelspec": {
   "display_name": "rxnrecer",
   "language": "python",
   "name": "rxnrecer"
  },
  "language_info": {
   "codemirror_mode": {
    "name": "ipython",
    "version": 3
   },
   "file_extension": ".py",
   "mimetype": "text/x-python",
   "name": "python",
   "nbconvert_exporter": "python",
   "pygments_lexer": "ipython3",
   "version": "3.10.14"
  }
 },
 "nbformat": 4,
 "nbformat_minor": 2
}
