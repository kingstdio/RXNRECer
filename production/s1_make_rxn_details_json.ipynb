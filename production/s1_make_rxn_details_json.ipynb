{
 "cells": [
  {
   "attachments": {},
   "cell_type": "markdown",
   "id": "2287d9df-a1b8-4fc7-8373-01ab1721225d",
   "metadata": {},
   "source": [
    "# Prepare Production reaction structure pictures\n",
    "> author: Shizhenkun   \n",
    "> email: zhenkun.shi@tib.cas.cn   \n",
    "> date: 2024-09-11  \n",
    "\n"
   ]
  },
  {
   "attachments": {},
   "cell_type": "markdown",
   "id": "6c6db9dd-5c89-423e-8131-b2e5b4c01618",
   "metadata": {},
   "source": [
    "## 1. Import packages"
   ]
  },
  {
   "cell_type": "code",
   "execution_count": 73,
   "id": "8fd276ba-aec4-4edf-a2d1-682a15233476",
   "metadata": {
    "tags": []
   },
   "outputs": [
    {
     "name": "stdout",
     "output_type": "stream",
     "text": [
      "The autoreload extension is already loaded. To reload it, use:\n",
      "  %reload_ext autoreload\n"
     ]
    }
   ],
   "source": [
    "import sys,os\n",
    "sys.path.insert(0, os.path.dirname(os.path.realpath('__file__')))\n",
    "sys.path.insert(1,'../')\n",
    "from config import conf as cfg\n",
    "from modules.rxn.Reaction import Reaction\n",
    "from modules.rxn.Molecule import Molecule\n",
    "from tqdm import tqdm\n",
    "from IPython.display import SVG, HTML, display\n",
    "import pandas as pd\n",
    "tqdm.pandas()  # Register the pandas integration with tqdm\n",
    "FIRST_TIME_RUN = False # For the initial run, please set this flag to True. This will allow the program to download data from UniProt and RHEA, which may take longer depending on your internet speed.\n",
    "\n",
    "%load_ext autoreload\n",
    "%autoreload 2"
   ]
  },
  {
   "attachments": {},
   "cell_type": "markdown",
   "id": "901557a4-c496-4608-84e2-3306f6a322e3",
   "metadata": {},
   "source": [
    "## 2. Load data and Make reaction structure picture"
   ]
  },
  {
   "cell_type": "code",
   "execution_count": 74,
   "id": "84a40a46",
   "metadata": {},
   "outputs": [
    {
     "data": {
      "text/html": [
       "<div>\n",
       "<style scoped>\n",
       "    .dataframe tbody tr th:only-of-type {\n",
       "        vertical-align: middle;\n",
       "    }\n",
       "\n",
       "    .dataframe tbody tr th {\n",
       "        vertical-align: top;\n",
       "    }\n",
       "\n",
       "    .dataframe thead th {\n",
       "        text-align: right;\n",
       "    }\n",
       "</style>\n",
       "<table border=\"1\" class=\"dataframe\">\n",
       "  <thead>\n",
       "    <tr style=\"text-align: right;\">\n",
       "      <th></th>\n",
       "      <th>reaction_id</th>\n",
       "      <th>equation</th>\n",
       "      <th>chebi_id</th>\n",
       "      <th>ec_number</th>\n",
       "      <th>equation_chebi</th>\n",
       "      <th>equation_smiles</th>\n",
       "      <th>equation_chebi_balanced</th>\n",
       "    </tr>\n",
       "  </thead>\n",
       "  <tbody>\n",
       "    <tr>\n",
       "      <th>0</th>\n",
       "      <td>RHEA:22636</td>\n",
       "      <td>dCTP + H2O = dCMP + diphosphate + H(+)</td>\n",
       "      <td>CHEBI:61481;CHEBI:15377;CHEBI:57566;CHEBI:3301...</td>\n",
       "      <td>EC:3.6.1.9;EC:3.6.1.12;EC:3.6.1.65</td>\n",
       "      <td>CHEBI:61481 + CHEBI:15377 = CHEBI:57566 + CHEB...</td>\n",
       "      <td>Nc1ccn([C@H]2C[C@H](O)[C@@H](COP([O-])(=O)OP([...</td>\n",
       "      <td>CHEBI:61481 + CHEBI:15377 = CHEBI:57566 + CHEB...</td>\n",
       "    </tr>\n",
       "    <tr>\n",
       "      <th>1</th>\n",
       "      <td>RHEA:22640</td>\n",
       "      <td>NADP(+) + sphinganine = 3-oxosphinganine + H(+...</td>\n",
       "      <td>CHEBI:58349;CHEBI:57817;CHEBI:58299;CHEBI:1537...</td>\n",
       "      <td>EC:1.1.1.102</td>\n",
       "      <td>CHEBI:58349 + CHEBI:57817 = CHEBI:58299 + CHEB...</td>\n",
       "      <td>NC(=O)c1ccc[n+](c1)[C@@H]1O[C@H](COP([O-])(=O)...</td>\n",
       "      <td>CHEBI:58349 + CHEBI:57817 = CHEBI:58299 + CHEB...</td>\n",
       "    </tr>\n",
       "  </tbody>\n",
       "</table>\n",
       "</div>"
      ],
      "text/plain": [
       "  reaction_id                                           equation  \\\n",
       "0  RHEA:22636             dCTP + H2O = dCMP + diphosphate + H(+)   \n",
       "1  RHEA:22640  NADP(+) + sphinganine = 3-oxosphinganine + H(+...   \n",
       "\n",
       "                                            chebi_id  \\\n",
       "0  CHEBI:61481;CHEBI:15377;CHEBI:57566;CHEBI:3301...   \n",
       "1  CHEBI:58349;CHEBI:57817;CHEBI:58299;CHEBI:1537...   \n",
       "\n",
       "                            ec_number  \\\n",
       "0  EC:3.6.1.9;EC:3.6.1.12;EC:3.6.1.65   \n",
       "1                        EC:1.1.1.102   \n",
       "\n",
       "                                      equation_chebi  \\\n",
       "0  CHEBI:61481 + CHEBI:15377 = CHEBI:57566 + CHEB...   \n",
       "1  CHEBI:58349 + CHEBI:57817 = CHEBI:58299 + CHEB...   \n",
       "\n",
       "                                     equation_smiles  \\\n",
       "0  Nc1ccn([C@H]2C[C@H](O)[C@@H](COP([O-])(=O)OP([...   \n",
       "1  NC(=O)c1ccc[n+](c1)[C@@H]1O[C@H](COP([O-])(=O)...   \n",
       "\n",
       "                             equation_chebi_balanced  \n",
       "0  CHEBI:61481 + CHEBI:15377 = CHEBI:57566 + CHEB...  \n",
       "1  CHEBI:58349 + CHEBI:57817 = CHEBI:58299 + CHEB...  "
      ]
     },
     "execution_count": 74,
     "metadata": {},
     "output_type": "execute_result"
    }
   ],
   "source": [
    "ds_rxn = pd.read_feather(cfg.FILE_DS_RHEA_REACTIONS)\n",
    "ds_rxn.head(2)"
   ]
  },
  {
   "cell_type": "markdown",
   "id": "cc07e41c",
   "metadata": {},
   "source": [
    "## 3.Make JSON file for reaction structure visualization"
   ]
  },
  {
   "cell_type": "code",
   "execution_count": 68,
   "id": "100a6d30",
   "metadata": {},
   "outputs": [],
   "source": [
    "def make_rxn_structure_json(row):\n",
    "    \n",
    "    rxn_id = row.reaction_id\n",
    "    rxn_smiles = row.equation_smiles\n",
    "    rxn_equation = row.equation\n",
    "    rxn_equation_ref_chebi = row.equation_chebi\n",
    "    file_path = f'{cfg.DIR_RXN_JSON}{rxn_id}.json'.replace(':','_')\n",
    "    write_path = f'{cfg.DIR_PROJECT_ROOT}/{file_path}'\n",
    "\n",
    "    if not os.path.exists(write_path):\n",
    "        rxn = Reaction( rxn_id=rxn_id,\n",
    "                        rxn_smiles=rxn_smiles,\n",
    "                        rxn_equation=rxn_equation,\n",
    "                        rxn_equation_ref_chebi=rxn_equation_ref_chebi\n",
    "                        )\n",
    "\n",
    "        rxn.save_json_file(file_path=write_path)\n",
    "        \n",
    "    return file_path"
   ]
  },
  {
   "cell_type": "code",
   "execution_count": 70,
   "id": "7ac6e681",
   "metadata": {},
   "outputs": [
    {
     "name": "stderr",
     "output_type": "stream",
     "text": [
      "  0%|          | 0/12198 [00:00<?, ?it/s]"
     ]
    },
    {
     "name": "stderr",
     "output_type": "stream",
     "text": [
      "100%|██████████| 12198/12198 [03:55<00:00, 51.90it/s]\n"
     ]
    },
    {
     "data": {
      "text/plain": [
       "0        files/rxn_json/RHEA_22636.json\n",
       "1        files/rxn_json/RHEA_22640.json\n",
       "2        files/rxn_json/RHEA_22644.json\n",
       "3        files/rxn_json/RHEA_22648.json\n",
       "4        files/rxn_json/RHEA_22652.json\n",
       "                      ...              \n",
       "12193    files/rxn_json/RHEA_22604.json\n",
       "12194    files/rxn_json/RHEA_22608.json\n",
       "12195    files/rxn_json/RHEA_22612.json\n",
       "12196    files/rxn_json/RHEA_22624.json\n",
       "12197    files/rxn_json/RHEA_22628.json\n",
       "Length: 12198, dtype: object"
      ]
     },
     "execution_count": 70,
     "metadata": {},
     "output_type": "execute_result"
    }
   ],
   "source": [
    "ds_rxn.progress_apply(lambda x: make_rxn_structure_json(x), axis=1)"
   ]
  },
  {
   "cell_type": "code",
   "execution_count": 71,
   "id": "c64d0a66",
   "metadata": {},
   "outputs": [
    {
     "name": "stdout",
     "output_type": "stream",
     "text": [
      " 0 B / ? ┃░░░░░░░░░░░░░░░░░░░░░░░░░░░░░░░░░░░░░░░░░░░░░░░░░░░░░░░░░░░░░░░░░▓┃ 5s\u001b[0;22m\u001b[0m\u001b[m\u001b[32;1m\u001b[m\u001b[32;1m\u001b[m\u001b[32;1m\u001b[m\u001b[32;1m\u001b[m\u001b[32;1m\u001b[m\u001b[32;1m\u001b[m\u001b[32;1m\u001b[m\u001b[32;1m\u001b[m\u001b[32;1m\u001b[m\u001b[32;1m\u001b[m\u001b[32;1m\u001b[m\u001b[32;1m\u001b[m\u001b[32;1m\u001b[m\u001b[32;1m\u001b[m\u001b[32;1m\u001b[m\u001b[32;1m\u001b[m\u001b[32;1m\u001b[m\u001b[32;1m\u001b[m\u001b[32;1m\u001b[m\u001b[32;1m\u001b[m\u001b[32;1m\u001b[m\u001b[32;1m\u001b[m\u001b[32;1m\u001b[m\u001b[32;1m\u001b[m\u001b[32;1m\u001b[0m\u001b[m\u001b[32;1m\u001b[m\u001b[32;1m\u001b[m\u001b[32;1m\u001b[m\u001b[32;1m\u001b[m\u001b[32;1m\u001b[m\u001b[32;1m\u001b[m\u001b[32;1m\u001b[m\u001b[32;1m\u001b[m\u001b[32;1m\u001b[m\u001b[32;1m\u001b[m\u001b[32;1m\u001b[m\u001b[32;1m\u001b[m\u001b[32;1m\u001b[m\u001b[32;1m\u001b[m\u001b[32;1m\u001b[m\u001b[32;1m\u001b[m\u001b[32;1m\u001b[m\u001b[32;1m\u001b[m\u001b[32;1m\u001b[m\u001b[32;1m\u001b[m\u001b[32;1m\u001b[m\u001b[32;1m\u001b[m\u001b[32;1m\u001b[m\u001b[32;1m"
     ]
    }
   ],
   "source": [
    "!mc mirror /hpcfs/fhome/shizhenkun/codebase/RXNRECer/files/ hpcs3/bucket-rxnrecer-web/files/"
   ]
  },
  {
   "cell_type": "markdown",
   "id": "691208c4",
   "metadata": {},
   "source": [
    "### 反应作图示例"
   ]
  },
  {
   "cell_type": "code",
   "execution_count": 72,
   "id": "5fb7d656",
   "metadata": {},
   "outputs": [
    {
     "data": {
      "text/html": [
       "<div style='display: flex; align-items: center; font-size:40px;'><h2 style='font-sze:100px;'></h2><img src='/hpcfs/fhome/shizhenkun/codebase/RXNRECer/files/cpd_svg/947935dc9f835f5ab69912d3c755f769.svg' style='display:inline-block; margin-right: 10px;'/> + <h2 style='font-sze:100px;'></h2><img src='/hpcfs/fhome/shizhenkun/codebase/RXNRECer/files/cpd_svg/121571a93cf631737789552a346bd5a9.svg' style='display:inline-block; margin-right: 10px;'/> = <h2 style='font-sze:100px;'></h2><img src='/hpcfs/fhome/shizhenkun/codebase/RXNRECer/files/cpd_svg/2f5441b219fa857738dddae5646ca8e2.svg' style='display:inline-block; margin-right: 10px;'/> + <h2 style='font-sze:100px;'></h2><img src='/hpcfs/fhome/shizhenkun/codebase/RXNRECer/files/cpd_svg/9373fcd6b3d56b747dc464dadd89c4db.svg' style='display:inline-block; margin-right: 10px;'/> + <h2 style='font-sze:100px;'></h2><img src='/hpcfs/fhome/shizhenkun/codebase/RXNRECer/files/cpd_svg/05c8ef566d2140987f778bd648826895.svg' style='display:inline-block; margin-right: 10px;'/></div>"
      ],
      "text/plain": [
       "<IPython.core.display.HTML object>"
      ]
     },
     "execution_count": 72,
     "metadata": {},
     "output_type": "execute_result"
    }
   ],
   "source": [
    "rxn_id = 'RHEA:75967'\n",
    "rxn1 = Reaction(rxn_smiles=ds_rxn[ds_rxn.reaction_id == rxn_id].equation_smiles.values[0],\n",
    "                rxn_equation=ds_rxn[ds_rxn.reaction_id == rxn_id].equation.values[0],\n",
    "                rxn_equation_ref_chebi=ds_rxn[ds_rxn.reaction_id == rxn_id].equation_chebi.values[0]\n",
    "                )\n",
    "HTML(rxn1.to_html())"
   ]
  },
  {
   "cell_type": "code",
   "execution_count": 62,
   "id": "7e03b8fa",
   "metadata": {},
   "outputs": [
    {
     "name": "stdout",
     "output_type": "stream",
     "text": [
      "{\n",
      "    \"reaction_id\": \"\",\n",
      "    \"reaction_smiles\": \"[H]OCCCCCC(=O)[O-].[H]O[H]>>[H]OCCCCCC(=O)[O-].OCCCCCC([O-])=O.[H+]\",\n",
      "    \"reaction_equation\": \"(6-hydroxyhexanoyl)n + H2O = (6-hydroxyhexanoyl)n-1 + 6-hydroxyhexanoate + H(+)\",\n",
      "    \"reaction_equation_ref_chebi\": \"CHEBI:195201 + CHEBI:15377 = CHEBI:32383 + CHEBI:195201 + CHEBI:15378\",\n",
      "    \"reaction_ec\": \"\",\n",
      "    \"reactants\": [\n",
      "        {\n",
      "            \"cpd_id\": \"\",\n",
      "            \"cpd_smiles\": \"[H]OCCCCCC(=O)[O-]\",\n",
      "            \"cpd_name\": \"(6-hydroxyhexanoyl)n\",\n",
      "            \"cpd_ref_chebi\": \"CHEBI:195201\",\n",
      "            \"cpd_link\": \"https://www.ebi.ac.uk/chebi/searchId.do?chebiId=CHEBI:195201\",\n",
      "            \"mol_svg\": \"files/cpd_svg/947935dc9f835f5ab69912d3c755f769.svg\",\n",
      "            \"cpd_num\": 1\n",
      "        },\n",
      "        {\n",
      "            \"cpd_id\": \"\",\n",
      "            \"cpd_smiles\": \"[H]O[H]\",\n",
      "            \"cpd_name\": \"H2O\",\n",
      "            \"cpd_ref_chebi\": \"CHEBI:15377\",\n",
      "            \"cpd_link\": \"https://www.ebi.ac.uk/chebi/searchId.do?chebiId=CHEBI:15377\",\n",
      "            \"mol_svg\": \"files/cpd_svg/121571a93cf631737789552a346bd5a9.svg\",\n",
      "            \"cpd_num\": 1\n",
      "        }\n",
      "    ],\n",
      "    \"products\": [\n",
      "        {\n",
      "            \"cpd_id\": \"\",\n",
      "            \"cpd_smiles\": \"[H]OCCCCCC(=O)[O-]\",\n",
      "            \"cpd_name\": \"(6-hydroxyhexanoyl)n-1\",\n",
      "            \"cpd_ref_chebi\": \"CHEBI:32383\",\n",
      "            \"cpd_link\": \"https://www.ebi.ac.uk/chebi/searchId.do?chebiId=CHEBI:32383\",\n",
      "            \"mol_svg\": \"files/cpd_svg/2f5441b219fa857738dddae5646ca8e2.svg\",\n",
      "            \"cpd_num\": 1\n",
      "        },\n",
      "        {\n",
      "            \"cpd_id\": \"\",\n",
      "            \"cpd_smiles\": \"OCCCCCC([O-])=O\",\n",
      "            \"cpd_name\": \"6-hydroxyhexanoate\",\n",
      "            \"cpd_ref_chebi\": \"CHEBI:195201\",\n",
      "            \"cpd_link\": \"https://www.ebi.ac.uk/chebi/searchId.do?chebiId=CHEBI:195201\",\n",
      "            \"mol_svg\": \"files/cpd_svg/9373fcd6b3d56b747dc464dadd89c4db.svg\",\n",
      "            \"cpd_num\": 1\n",
      "        },\n",
      "        {\n",
      "            \"cpd_id\": \"\",\n",
      "            \"cpd_smiles\": \"[H+]\",\n",
      "            \"cpd_name\": \"H(+)\",\n",
      "            \"cpd_ref_chebi\": \"CHEBI:15378\",\n",
      "            \"cpd_link\": \"https://www.ebi.ac.uk/chebi/searchId.do?chebiId=CHEBI:15378\",\n",
      "            \"mol_svg\": \"files/cpd_svg/05c8ef566d2140987f778bd648826895.svg\",\n",
      "            \"cpd_num\": 1\n",
      "        }\n",
      "    ]\n",
      "}\n"
     ]
    }
   ],
   "source": [
    "print(rxn1.to_json())"
   ]
  },
  {
   "cell_type": "code",
   "execution_count": 43,
   "id": "0db0cd33",
   "metadata": {},
   "outputs": [
    {
     "name": "stdout",
     "output_type": "stream",
     "text": [
      "<div style='display: flex; align-items: center; font-size:40px;'><h2 style='font-sze:100px;'></h2><img src='data:image/svg+xml;base64,ZmlsZXMvY3BkX3N2Zy85NDc5MzVkYzlmODM1ZjVhYjY5OTEyZDNjNzU1Zjc2OS5zdmc=' style='display:inline-block; margin-right: 10px;'/> + <h2 style='font-sze:100px;'></h2><img src='data:image/svg+xml;base64,ZmlsZXMvY3BkX3N2Zy8xMjE1NzFhOTNjZjYzMTczNzc4OTU1MmEzNDZiZDVhOS5zdmc=' style='display:inline-block; margin-right: 10px;'/> = <h2 style='font-sze:100px;'></h2><img src='data:image/svg+xml;base64,ZmlsZXMvY3BkX3N2Zy8yZjU0NDFiMjE5ZmE4NTc3MzhkZGRhZTU2NDZjYThlMi5zdmc=' style='display:inline-block; margin-right: 10px;'/> + <h2 style='font-sze:100px;'></h2><img src='data:image/svg+xml;base64,ZmlsZXMvY3BkX3N2Zy85MzczZmNkNmIzZDU2Yjc0N2RjNDY0ZGFkZDg5YzRkYi5zdmc=' style='display:inline-block; margin-right: 10px;'/> + <h2 style='font-sze:100px;'></h2><img src='data:image/svg+xml;base64,ZmlsZXMvY3BkX3N2Zy8wNWM4ZWY1NjZkMjE0MDk4N2Y3NzhiZDY0ODgyNjg5NS5zdmc=' style='display:inline-block; margin-right: 10px;'/></div>\n"
     ]
    }
   ],
   "source": [
    "print(rxn1.to_html())"
   ]
  },
  {
   "cell_type": "markdown",
   "id": "8e705a5d",
   "metadata": {},
   "source": [
    "### 化合物作图示例"
   ]
  },
  {
   "cell_type": "code",
   "execution_count": 58,
   "id": "d66c37d4",
   "metadata": {},
   "outputs": [
    {
     "data": {
      "text/html": [
       "<div style='display: flex; align-items: center;'><img src='/hpcfs/fhome/shizhenkun/codebase/RXNRECer/files/cpd_svg/6050fdaa8c8af28b425eaf4332c46f3f.svg' style='display:inline-block'/></div>"
      ],
      "text/plain": [
       "<IPython.core.display.HTML object>"
      ]
     },
     "execution_count": 58,
     "metadata": {},
     "output_type": "execute_result"
    }
   ],
   "source": [
    "mol1 =  Molecule(cpd_smiles=ds_rxn[ds_rxn.reaction_id == 'RHEA:22648'].equation_smiles.values[0].split('>>')[0], \n",
    "                 cpd_name=ds_rxn[ds_rxn.reaction_id == 'RHEA:22648'].equation.values[0].split('+')[0],\n",
    "                 cpd_ref_chebi='CHEBI:15377'\n",
    "                 )\n",
    "mol1.write_mol_svg(cfg.TEMP_DIR + \"mol1.svg\")       \n",
    "HTML(mol1.to_html())"
   ]
  },
  {
   "cell_type": "code",
   "execution_count": 51,
   "id": "c5bee5b1",
   "metadata": {},
   "outputs": [
    {
     "data": {
      "text/plain": [
       "'files/cpd_svg/6050fdaa8c8af28b425eaf4332c46f3f.svg'"
      ]
     },
     "execution_count": 51,
     "metadata": {},
     "output_type": "execute_result"
    }
   ],
   "source": [
    "mol1.mol_svg"
   ]
  },
  {
   "cell_type": "markdown",
   "id": "af6e24be",
   "metadata": {},
   "source": []
  }
 ],
 "metadata": {
  "kernelspec": {
   "display_name": "rxnrecer",
   "language": "python",
   "name": "rxnrecer"
  },
  "language_info": {
   "codemirror_mode": {
    "name": "ipython",
    "version": 3
   },
   "file_extension": ".py",
   "mimetype": "text/x-python",
   "name": "python",
   "nbconvert_exporter": "python",
   "pygments_lexer": "ipython3",
   "version": "3.10.14"
  },
  "toc-autonumbering": false,
  "toc-showmarkdowntxt": false,
  "toc-showtags": false,
  "vscode": {
   "interpreter": {
    "hash": "6b0f740237ba4768c544d9b9677983e49b45ca1230fda464ede0b93eba99c7d2"
   }
  },
  "widgets": {
   "application/vnd.jupyter.widget-state+json": {
    "state": {},
    "version_major": 2,
    "version_minor": 0
   }
  }
 },
 "nbformat": 4,
 "nbformat_minor": 5
}
