{
 "cells": [
  {
   "cell_type": "markdown",
   "metadata": {},
   "source": [
    "# Production code for preaction project\n",
    "\n",
    "> author: Shizhenkun   \n",
    "> email: zhenkun.shi@tib.cas.cn   \n",
    "> date: 2024-09-11\n",
    "\n",
    "\n",
    "## 1. Import packages"
   ]
  },
  {
   "cell_type": "code",
   "execution_count": 20,
   "metadata": {},
   "outputs": [
    {
     "name": "stdout",
     "output_type": "stream",
     "text": [
      "INFO: Pandarallel will run on 128 workers.\n",
      "INFO: Pandarallel will use Memory file system to transfer data between the main process and workers.\n",
      "The autoreload extension is already loaded. To reload it, use:\n",
      "  %reload_ext autoreload\n"
     ]
    }
   ],
   "source": [
    "import sys,os\n",
    "sys.path.insert(0, os.path.dirname(os.path.realpath('__file__')))\n",
    "sys.path.insert(1,'../')\n",
    "sys.path.insert(1,'../methods/active-learning/')\n",
    "from config import conf as cfg\n",
    "from tools import  bioFunctionLib as bfl\n",
    "import production as production\n",
    "\n",
    "from pandarallel import pandarallel # 导入pandaralle\n",
    "pandarallel.initialize(progress_bar=False)\n",
    "from tkinter import _flatten\n",
    "import pandas as pd\n",
    "\n",
    "\n",
    "FIRST_TIME_RUN = True # For the initial run, please set this flag to True. This will allow the program to download data from UniProt and RHEA, which may take longer depending on your internet speed.\n",
    "\n",
    "%load_ext autoreload\n",
    "%autoreload 2"
   ]
  },
  {
   "cell_type": "markdown",
   "metadata": {},
   "source": [
    "## 2. Load data"
   ]
  },
  {
   "cell_type": "code",
   "execution_count": 11,
   "metadata": {},
   "outputs": [],
   "source": [
    "input_fasta = '/hpcfs/fhome/shizhenkun/codebase/preaction/production/sample10-ecoli.fasta'"
   ]
  },
  {
   "cell_type": "markdown",
   "metadata": {},
   "source": [
    "## 3. Predcit "
   ]
  },
  {
   "cell_type": "code",
   "execution_count": 22,
   "metadata": {},
   "outputs": [
    {
     "name": "stdout",
     "output_type": "stream",
     "text": [
      "Step 1: Load reaction encoding dictionary from JSON file\n",
      "Finished loading rxn2id dictionary from JSON file. Total 10479 reactions.\n",
      "Step 2: Load input reaction information\n",
      "Step 3: Loading predictive model\n",
      "Step 4: Predicting ...\n"
     ]
    },
    {
     "name": "stderr",
     "output_type": "stream",
     "text": [
      "Predicting reactions: 100%|██████████| 5/5 [00:01<00:00,  3.06it/s]"
     ]
    },
    {
     "name": "stdout",
     "output_type": "stream",
     "text": [
      "Step 5: Saving results to ../temp/output.json\n",
      "json\n"
     ]
    },
    {
     "name": "stderr",
     "output_type": "stream",
     "text": [
      "\n"
     ]
    }
   ],
   "source": [
    "res =  production.step_by_step_prediction(input_fasta=input_fasta, \n",
    "                                       dict_rxn2id=cfg.FILE_DS_DICT_RXN2ID, \n",
    "                                       rxn_info_base=cfg.RXN_JSON_DIR, \n",
    "                                       output_file='../temp/output.json',\n",
    "                                       format = 'json'\n",
    "                                       )"
   ]
  },
  {
   "cell_type": "code",
   "execution_count": 23,
   "metadata": {},
   "outputs": [
    {
     "data": {
      "text/html": [
       "<div>\n",
       "<style scoped>\n",
       "    .dataframe tbody tr th:only-of-type {\n",
       "        vertical-align: middle;\n",
       "    }\n",
       "\n",
       "    .dataframe tbody tr th {\n",
       "        vertical-align: top;\n",
       "    }\n",
       "\n",
       "    .dataframe thead th {\n",
       "        text-align: right;\n",
       "    }\n",
       "</style>\n",
       "<table border=\"1\" class=\"dataframe\">\n",
       "  <thead>\n",
       "    <tr style=\"text-align: right;\">\n",
       "      <th></th>\n",
       "      <th>input_id</th>\n",
       "      <th>RXNRECer</th>\n",
       "      <th>rxn_details</th>\n",
       "    </tr>\n",
       "  </thead>\n",
       "  <tbody>\n",
       "    <tr>\n",
       "      <th>0</th>\n",
       "      <td>sp|P17993|UBIG_ECOLI</td>\n",
       "      <td>RHEA:31411;RHEA:44380</td>\n",
       "      <td>reaction_id                                 ...</td>\n",
       "    </tr>\n",
       "    <tr>\n",
       "      <th>1</th>\n",
       "      <td>sp|P22634|MURI_ECOLI</td>\n",
       "      <td>RHEA:12813</td>\n",
       "      <td>reaction_id                                 ...</td>\n",
       "    </tr>\n",
       "    <tr>\n",
       "      <th>2</th>\n",
       "      <td>sp|P25745|MNMA_ECOLI</td>\n",
       "      <td>RHEA:47032</td>\n",
       "      <td>reaction_id                                 ...</td>\n",
       "    </tr>\n",
       "    <tr>\n",
       "      <th>3</th>\n",
       "      <td>sp|P27828|WECB_ECOLI</td>\n",
       "      <td>RHEA:17213</td>\n",
       "      <td>reaction_id                                 ...</td>\n",
       "    </tr>\n",
       "    <tr>\n",
       "      <th>4</th>\n",
       "      <td>sp|P32056|GMM_ECOLI</td>\n",
       "      <td>RHEA:28102</td>\n",
       "      <td>reaction_id                                 ...</td>\n",
       "    </tr>\n",
       "    <tr>\n",
       "      <th>5</th>\n",
       "      <td>sp|P33643|RLUD_ECOLI</td>\n",
       "      <td>RHEA:42524</td>\n",
       "      <td>reaction_id                                 ...</td>\n",
       "    </tr>\n",
       "    <tr>\n",
       "      <th>6</th>\n",
       "      <td>sp|P33937|NAPA_ECOLI</td>\n",
       "      <td>RHEA:12909</td>\n",
       "      <td>reaction_id                                 ...</td>\n",
       "    </tr>\n",
       "    <tr>\n",
       "      <th>7</th>\n",
       "      <td>sp|P37624|RBBA_ECOLI</td>\n",
       "      <td>-</td>\n",
       "      <td>-</td>\n",
       "    </tr>\n",
       "    <tr>\n",
       "      <th>8</th>\n",
       "      <td>sp|P77211|CUSC_ECOLI</td>\n",
       "      <td>-</td>\n",
       "      <td>-</td>\n",
       "    </tr>\n",
       "    <tr>\n",
       "      <th>9</th>\n",
       "      <td>sp|P77766|RNM_ECOLI</td>\n",
       "      <td>RHEA:43532</td>\n",
       "      <td>reaction_id                                 ...</td>\n",
       "    </tr>\n",
       "  </tbody>\n",
       "</table>\n",
       "</div>"
      ],
      "text/plain": [
       "               input_id               RXNRECer  \\\n",
       "0  sp|P17993|UBIG_ECOLI  RHEA:31411;RHEA:44380   \n",
       "1  sp|P22634|MURI_ECOLI             RHEA:12813   \n",
       "2  sp|P25745|MNMA_ECOLI             RHEA:47032   \n",
       "3  sp|P27828|WECB_ECOLI             RHEA:17213   \n",
       "4   sp|P32056|GMM_ECOLI             RHEA:28102   \n",
       "5  sp|P33643|RLUD_ECOLI             RHEA:42524   \n",
       "6  sp|P33937|NAPA_ECOLI             RHEA:12909   \n",
       "7  sp|P37624|RBBA_ECOLI                      -   \n",
       "8  sp|P77211|CUSC_ECOLI                      -   \n",
       "9   sp|P77766|RNM_ECOLI             RHEA:43532   \n",
       "\n",
       "                                         rxn_details  \n",
       "0    reaction_id                                 ...  \n",
       "1    reaction_id                                 ...  \n",
       "2    reaction_id                                 ...  \n",
       "3    reaction_id                                 ...  \n",
       "4    reaction_id                                 ...  \n",
       "5    reaction_id                                 ...  \n",
       "6    reaction_id                                 ...  \n",
       "7                                                  -  \n",
       "8                                                  -  \n",
       "9    reaction_id                                 ...  "
      ]
     },
     "execution_count": 23,
     "metadata": {},
     "output_type": "execute_result"
    }
   ],
   "source": [
    "res"
   ]
  }
 ],
 "metadata": {
  "kernelspec": {
   "display_name": "rxnrecer",
   "language": "python",
   "name": "rxnrecer"
  },
  "language_info": {
   "codemirror_mode": {
    "name": "ipython",
    "version": 3
   },
   "file_extension": ".py",
   "mimetype": "text/x-python",
   "name": "python",
   "nbconvert_exporter": "python",
   "pygments_lexer": "ipython3",
   "version": "3.10.14"
  }
 },
 "nbformat": 4,
 "nbformat_minor": 2
}
