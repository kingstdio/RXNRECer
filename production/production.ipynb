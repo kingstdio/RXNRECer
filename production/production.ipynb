{
 "cells": [
  {
   "cell_type": "markdown",
   "metadata": {},
   "source": [
    "# Production code for preaction project\n",
    "\n",
    "> author: Shizhenkun   \n",
    "> email: zhenkun.shi@tib.cas.cn   \n",
    "> date: 2024-09-11\n",
    "\n",
    "\n",
    "## 1. Import packages"
   ]
  },
  {
   "cell_type": "code",
   "execution_count": 1,
   "metadata": {},
   "outputs": [
    {
     "name": "stdout",
     "output_type": "stream",
     "text": [
      "INFO: Pandarallel will run on 128 workers.\n",
      "INFO: Pandarallel will use Memory file system to transfer data between the main process and workers.\n"
     ]
    }
   ],
   "source": [
    "import sys,os\n",
    "sys.path.insert(0, os.path.dirname(os.path.realpath('__file__')))\n",
    "sys.path.insert(1,'../')\n",
    "sys.path.insert(1,'../methods/active-learning/')\n",
    "from config import conf as cfg\n",
    "import production as production\n",
    "\n",
    "from pandarallel import pandarallel # 导入pandaralle\n",
    "pandarallel.initialize(progress_bar=False)\n",
    "from tkinter import _flatten\n",
    "\n",
    "\n",
    "FIRST_TIME_RUN = True # For the initial run, please set this flag to True. This will allow the program to download data from UniProt and RHEA, which may take longer depending on your internet speed.\n",
    "\n",
    "%load_ext autoreload\n",
    "%autoreload 2"
   ]
  },
  {
   "cell_type": "markdown",
   "metadata": {},
   "source": [
    "## 2. Load data"
   ]
  },
  {
   "cell_type": "code",
   "execution_count": 2,
   "metadata": {},
   "outputs": [],
   "source": [
    "input_fasta = '/hpcfs/fhome/shizhenkun/codebase/preaction/production/sample10-ecoli.fasta'"
   ]
  },
  {
   "cell_type": "markdown",
   "metadata": {},
   "source": [
    "## 3. Predcit "
   ]
  },
  {
   "cell_type": "code",
   "execution_count": 3,
   "metadata": {},
   "outputs": [
    {
     "name": "stdout",
     "output_type": "stream",
     "text": [
      "Step 1: Load reaction encoding dictionary from JSON file\n",
      "Finished loading rxn2id dictionary from JSON file. Total 10479 reactions.\n",
      "Step 2: Load input reaction information\n",
      "Step 3: Loading predictive model\n",
      "Step 4: Predicting ...\n"
     ]
    },
    {
     "name": "stderr",
     "output_type": "stream",
     "text": [
      "Predicting reactions: 100%|██████████| 5/5 [00:02<00:00,  2.25it/s]"
     ]
    },
    {
     "name": "stdout",
     "output_type": "stream",
     "text": [
      "Step 5: Saving results to ../temp/output.json\n"
     ]
    },
    {
     "name": "stderr",
     "output_type": "stream",
     "text": [
      "\n"
     ]
    }
   ],
   "source": [
    "res =  production.step_by_step_prediction(input_fasta=input_fasta, \n",
    "                                       dict_rxn2id=cfg.FILE_DS_DICT_RXN2ID, \n",
    "                                       rxn_info_base=f'{cfg.DIR_PROJECT_ROOT}/{cfg.DIR_RXN_JSON}', \n",
    "                                       output_file='../temp/output.json',\n",
    "                                       format = 'json'\n",
    "                                       )"
   ]
  },
  {
   "cell_type": "code",
   "execution_count": 4,
   "metadata": {},
   "outputs": [
    {
     "name": "stdout",
     "output_type": "stream",
     "text": [
      "Step 1: Load reaction encoding dictionary from JSON file\n",
      "Finished loading rxn2id dictionary from JSON file. Total 10479 reactions.\n",
      "Step 2: Load input reaction information\n",
      "Step 3: Loading predictive model\n",
      "Step 4: Predicting ...\n"
     ]
    },
    {
     "name": "stderr",
     "output_type": "stream",
     "text": [
      "Predicting reactions: 100%|██████████| 5/5 [00:00<00:00,  8.26it/s]"
     ]
    },
    {
     "name": "stdout",
     "output_type": "stream",
     "text": [
      "Step 5: Saving results to /hpcfs/fhome/shizhenkun/codebase/RXNRECer/temp/output_sample10.tsv\n"
     ]
    },
    {
     "name": "stderr",
     "output_type": "stream",
     "text": [
      "\n"
     ]
    }
   ],
   "source": [
    "res =  production.step_by_step_prediction(input_fasta=input_fasta, \n",
    "                                       dict_rxn2id=cfg.FILE_DS_DICT_RXN2ID, \n",
    "                                       rxn_info_base=f'{cfg.DIR_PROJECT_ROOT}/{cfg.DIR_RXN_JSON}', \n",
    "                                       output_file=f'{cfg.TEMP_DIR}output_sample10.tsv',\n",
    "                                       format = 'tsv'\n",
    "                                       )"
   ]
  },
  {
   "cell_type": "code",
   "execution_count": 5,
   "metadata": {},
   "outputs": [
    {
     "data": {
      "text/html": [
       "<div>\n",
       "<style scoped>\n",
       "    .dataframe tbody tr th:only-of-type {\n",
       "        vertical-align: middle;\n",
       "    }\n",
       "\n",
       "    .dataframe tbody tr th {\n",
       "        vertical-align: top;\n",
       "    }\n",
       "\n",
       "    .dataframe thead th {\n",
       "        text-align: right;\n",
       "    }\n",
       "</style>\n",
       "<table border=\"1\" class=\"dataframe\">\n",
       "  <thead>\n",
       "    <tr style=\"text-align: right;\">\n",
       "      <th></th>\n",
       "      <th>input_id</th>\n",
       "      <th>RXNRECer</th>\n",
       "      <th>RXNRECer_with_prob</th>\n",
       "      <th>equations</th>\n",
       "      <th>equations_chebi</th>\n",
       "    </tr>\n",
       "  </thead>\n",
       "  <tbody>\n",
       "    <tr>\n",
       "      <th>0</th>\n",
       "      <td>sp|P17993|UBIG_ECOLI</td>\n",
       "      <td>RHEA:31411;RHEA:44380</td>\n",
       "      <td>{'RHEA:31411': 0.999917, 'RHEA:44380': 0.999943}</td>\n",
       "      <td>[a 3-(all-trans-polyprenyl)benzene-1,2-diol + ...</td>\n",
       "      <td>[CHEBI:62729 + CHEBI:59789 = CHEBI:62731 + CHE...</td>\n",
       "    </tr>\n",
       "    <tr>\n",
       "      <th>1</th>\n",
       "      <td>sp|P22634|MURI_ECOLI</td>\n",
       "      <td>RHEA:12813</td>\n",
       "      <td>{'RHEA:12813': 0.999872}</td>\n",
       "      <td>[L-glutamate = D-glutamate]</td>\n",
       "      <td>[CHEBI:29985 = CHEBI:29986]</td>\n",
       "    </tr>\n",
       "    <tr>\n",
       "      <th>2</th>\n",
       "      <td>sp|P25745|MNMA_ECOLI</td>\n",
       "      <td>RHEA:47032</td>\n",
       "      <td>{'RHEA:47032': 0.999879}</td>\n",
       "      <td>[AH2 + ATP + S-sulfanyl-L-cysteinyl-[protein] ...</td>\n",
       "      <td>[CHEBI:17499 + CHEBI:30616 + CHEBI:61963 + CHE...</td>\n",
       "    </tr>\n",
       "    <tr>\n",
       "      <th>3</th>\n",
       "      <td>sp|P27828|WECB_ECOLI</td>\n",
       "      <td>RHEA:17213</td>\n",
       "      <td>{'RHEA:17213': 0.99712}</td>\n",
       "      <td>[UDP-N-acetyl-alpha-D-glucosamine = UDP-N-acet...</td>\n",
       "      <td>[CHEBI:57705 = CHEBI:68623]</td>\n",
       "    </tr>\n",
       "    <tr>\n",
       "      <th>4</th>\n",
       "      <td>sp|P32056|GMM_ECOLI</td>\n",
       "      <td>RHEA:28102</td>\n",
       "      <td>{'RHEA:28102': 0.984389}</td>\n",
       "      <td>[GDP-alpha-D-mannose + H2O = D-mannose + GDP +...</td>\n",
       "      <td>[CHEBI:57527 + CHEBI:15377 = CHEBI:4208 + CHEB...</td>\n",
       "    </tr>\n",
       "    <tr>\n",
       "      <th>5</th>\n",
       "      <td>sp|P33643|RLUD_ECOLI</td>\n",
       "      <td>RHEA:42524</td>\n",
       "      <td>{'RHEA:42524': 0.994918}</td>\n",
       "      <td>[uridine(1911/1915/1917) in 23S rRNA = pseudou...</td>\n",
       "      <td>[CHEBI:65315 = CHEBI:65314]</td>\n",
       "    </tr>\n",
       "    <tr>\n",
       "      <th>6</th>\n",
       "      <td>sp|P33937|NAPA_ECOLI</td>\n",
       "      <td>RHEA:12909</td>\n",
       "      <td>{'RHEA:12909': 0.999437}</td>\n",
       "      <td>[2 Fe(II)-[cytochrome] + 2 H(+) + nitrate = 2 ...</td>\n",
       "      <td>[CHEBI:29033 + CHEBI:15378 + CHEBI:17632 = CHE...</td>\n",
       "    </tr>\n",
       "    <tr>\n",
       "      <th>7</th>\n",
       "      <td>sp|P37624|RBBA_ECOLI</td>\n",
       "      <td>-</td>\n",
       "      <td>{'-': 0.957153}</td>\n",
       "      <td>-</td>\n",
       "      <td>-</td>\n",
       "    </tr>\n",
       "    <tr>\n",
       "      <th>8</th>\n",
       "      <td>sp|P77211|CUSC_ECOLI</td>\n",
       "      <td>-</td>\n",
       "      <td>{'-': 0.999999}</td>\n",
       "      <td>-</td>\n",
       "      <td>-</td>\n",
       "    </tr>\n",
       "    <tr>\n",
       "      <th>9</th>\n",
       "      <td>sp|P77766|RNM_ECOLI</td>\n",
       "      <td>RHEA:43532</td>\n",
       "      <td>{'RHEA:43532': 0.937837}</td>\n",
       "      <td>[a ribonucleoside 3',5'-bisphosphate + H2O = a...</td>\n",
       "      <td>[CHEBI:83402 + CHEBI:15377 = CHEBI:58043 + CHE...</td>\n",
       "    </tr>\n",
       "  </tbody>\n",
       "</table>\n",
       "</div>"
      ],
      "text/plain": [
       "               input_id               RXNRECer  \\\n",
       "0  sp|P17993|UBIG_ECOLI  RHEA:31411;RHEA:44380   \n",
       "1  sp|P22634|MURI_ECOLI             RHEA:12813   \n",
       "2  sp|P25745|MNMA_ECOLI             RHEA:47032   \n",
       "3  sp|P27828|WECB_ECOLI             RHEA:17213   \n",
       "4   sp|P32056|GMM_ECOLI             RHEA:28102   \n",
       "5  sp|P33643|RLUD_ECOLI             RHEA:42524   \n",
       "6  sp|P33937|NAPA_ECOLI             RHEA:12909   \n",
       "7  sp|P37624|RBBA_ECOLI                      -   \n",
       "8  sp|P77211|CUSC_ECOLI                      -   \n",
       "9   sp|P77766|RNM_ECOLI             RHEA:43532   \n",
       "\n",
       "                                 RXNRECer_with_prob  \\\n",
       "0  {'RHEA:31411': 0.999917, 'RHEA:44380': 0.999943}   \n",
       "1                          {'RHEA:12813': 0.999872}   \n",
       "2                          {'RHEA:47032': 0.999879}   \n",
       "3                           {'RHEA:17213': 0.99712}   \n",
       "4                          {'RHEA:28102': 0.984389}   \n",
       "5                          {'RHEA:42524': 0.994918}   \n",
       "6                          {'RHEA:12909': 0.999437}   \n",
       "7                                   {'-': 0.957153}   \n",
       "8                                   {'-': 0.999999}   \n",
       "9                          {'RHEA:43532': 0.937837}   \n",
       "\n",
       "                                           equations  \\\n",
       "0  [a 3-(all-trans-polyprenyl)benzene-1,2-diol + ...   \n",
       "1                        [L-glutamate = D-glutamate]   \n",
       "2  [AH2 + ATP + S-sulfanyl-L-cysteinyl-[protein] ...   \n",
       "3  [UDP-N-acetyl-alpha-D-glucosamine = UDP-N-acet...   \n",
       "4  [GDP-alpha-D-mannose + H2O = D-mannose + GDP +...   \n",
       "5  [uridine(1911/1915/1917) in 23S rRNA = pseudou...   \n",
       "6  [2 Fe(II)-[cytochrome] + 2 H(+) + nitrate = 2 ...   \n",
       "7                                                  -   \n",
       "8                                                  -   \n",
       "9  [a ribonucleoside 3',5'-bisphosphate + H2O = a...   \n",
       "\n",
       "                                     equations_chebi  \n",
       "0  [CHEBI:62729 + CHEBI:59789 = CHEBI:62731 + CHE...  \n",
       "1                        [CHEBI:29985 = CHEBI:29986]  \n",
       "2  [CHEBI:17499 + CHEBI:30616 + CHEBI:61963 + CHE...  \n",
       "3                        [CHEBI:57705 = CHEBI:68623]  \n",
       "4  [CHEBI:57527 + CHEBI:15377 = CHEBI:4208 + CHEB...  \n",
       "5                        [CHEBI:65315 = CHEBI:65314]  \n",
       "6  [CHEBI:29033 + CHEBI:15378 + CHEBI:17632 = CHE...  \n",
       "7                                                  -  \n",
       "8                                                  -  \n",
       "9  [CHEBI:83402 + CHEBI:15377 = CHEBI:58043 + CHE...  "
      ]
     },
     "execution_count": 5,
     "metadata": {},
     "output_type": "execute_result"
    }
   ],
   "source": [
    "res"
   ]
  },
  {
   "cell_type": "code",
   "execution_count": null,
   "metadata": {},
   "outputs": [],
   "source": []
  }
 ],
 "metadata": {
  "kernelspec": {
   "display_name": "rxnrecer",
   "language": "python",
   "name": "rxnrecer"
  },
  "language_info": {
   "codemirror_mode": {
    "name": "ipython",
    "version": 3
   },
   "file_extension": ".py",
   "mimetype": "text/x-python",
   "name": "python",
   "nbconvert_exporter": "python",
   "pygments_lexer": "ipython3",
   "version": "3.10.14"
  }
 },
 "nbformat": 4,
 "nbformat_minor": 2
}
